{
  "nbformat": 4,
  "nbformat_minor": 0,
  "metadata": {
    "colab": {
      "name": "n534.ipynb",
      "provenance": [],
      "authorship_tag": "ABX9TyOufEmcaWQy7udjp19wtf2U",
      "include_colab_link": true
    },
    "kernelspec": {
      "name": "python3",
      "display_name": "Python 3"
    },
    "language_info": {
      "name": "python"
    }
  },
  "cells": [
    {
      "cell_type": "markdown",
      "metadata": {
        "id": "view-in-github",
        "colab_type": "text"
      },
      "source": [
        "<a href=\"https://colab.research.google.com/github/daje0601/pandas_study/blob/main/n534.ipynb\" target=\"_parent\"><img src=\"https://colab.research.google.com/assets/colab-badge.svg\" alt=\"Open In Colab\"/></a>"
      ]
    },
    {
      "cell_type": "markdown",
      "metadata": {
        "id": "42qDqBbG1N9v"
      },
      "source": [
        "질문\n",
        "1. 쌍 언더바는 _클래스명__함수명(또는 인스턴스명)으로 변경해주는 역할을 하는 것으로 알고 있는데, _는 그거 구분자로써의 역할만 하는 건가요?\n",
        "\n",
        "2. class parent_class에서 __를 모두 지우게 되면, parent_class value: 10이 되어야 하는거 아닐까?\n",
        "\n",
        "\n"
      ]
    },
    {
      "cell_type": "code",
      "metadata": {
        "id": "zPQvGDImz1Tn"
      },
      "source": [
        "class Point:\n",
        "   def __init__(self, x, y):\n",
        "       self.x = x\n",
        "       self.y = y\n",
        "       self.__private_name = \"private 접근\"\n",
        "       self._private_name = \"_를 테스트 하기 위한 코드 \"\n",
        "\n",
        "class Point_sub(Point):\n",
        "  def __init__(self,x, y):\n",
        "    Point.__init__(self,x,y)\n",
        "    self.x = x\n",
        "    self.y = y\n",
        "\n",
        "  def __sub(self):\n",
        "    self.__x = 10\n",
        "    self.__y = 20\n",
        "\n",
        "# getter역할을 하는 녀석이구만 \n",
        "  def sub(self):\n",
        "    self.__sub()\n",
        "    print(self.__x)\n",
        "    print(self.__y)\n",
        "\n",
        "# getter test를 위한 코드 \n",
        "  def _sub(self):\n",
        "      self.__x = 1000\n",
        "      self.__y = 2000\n",
        "\n",
        "  def bus(self):  \n",
        "      self._sub()\n",
        "      print(self.__x)\n",
        "      print(self.__y)"
      ],
      "execution_count": null,
      "outputs": []
    },
    {
      "cell_type": "code",
      "metadata": {
        "colab": {
          "base_uri": "https://localhost:8080/"
        },
        "id": "D-jCilJkz2Jk",
        "outputId": "4c7f79fa-bd65-4eab-993b-aa75d4a6b80c"
      },
      "source": [
        "my_point = Point(1, 2)\n",
        "my_point"
      ],
      "execution_count": null,
      "outputs": [
        {
          "output_type": "execute_result",
          "data": {
            "text/plain": [
              "<__main__.Point at 0x7f90f82f2a50>"
            ]
          },
          "metadata": {
            "tags": []
          },
          "execution_count": 2
        }
      ]
    },
    {
      "cell_type": "code",
      "metadata": {
        "colab": {
          "base_uri": "https://localhost:8080/"
        },
        "id": "wyi27eCb0ERe",
        "outputId": "d7edc857-6d49-4e9a-c6c4-9450deaaca05"
      },
      "source": [
        "my_point_sub = Point_sub(10,20)\n",
        "my_point_sub"
      ],
      "execution_count": null,
      "outputs": [
        {
          "output_type": "execute_result",
          "data": {
            "text/plain": [
              "<__main__.Point_sub at 0x7f90fbd6fb90>"
            ]
          },
          "metadata": {
            "tags": []
          },
          "execution_count": 3
        }
      ]
    },
    {
      "cell_type": "code",
      "metadata": {
        "colab": {
          "base_uri": "https://localhost:8080/"
        },
        "id": "Zz_xcg8s0H22",
        "outputId": "1ca4118d-131e-48ec-d506-a062edfa6d59"
      },
      "source": [
        "Point_sub(10, 20).sub()"
      ],
      "execution_count": null,
      "outputs": [
        {
          "output_type": "stream",
          "text": [
            "10\n",
            "20\n"
          ],
          "name": "stdout"
        }
      ]
    },
    {
      "cell_type": "code",
      "metadata": {
        "colab": {
          "base_uri": "https://localhost:8080/"
        },
        "id": "dFJ5qtSA0Q4E",
        "outputId": "60cf9701-5437-4be5-9628-c475e7bbb58b"
      },
      "source": [
        "my_point_sub.sub()"
      ],
      "execution_count": null,
      "outputs": [
        {
          "output_type": "stream",
          "text": [
            "10\n",
            "20\n"
          ],
          "name": "stdout"
        }
      ]
    },
    {
      "cell_type": "code",
      "metadata": {
        "colab": {
          "base_uri": "https://localhost:8080/"
        },
        "id": "ChbjMGT_GAoJ",
        "outputId": "a65f166e-03ed-40a1-b702-64142f550516"
      },
      "source": [
        "my_point_sub.bus()"
      ],
      "execution_count": null,
      "outputs": [
        {
          "output_type": "stream",
          "text": [
            "1000\n",
            "2000\n"
          ],
          "name": "stdout"
        }
      ]
    },
    {
      "cell_type": "code",
      "metadata": {
        "colab": {
          "base_uri": "https://localhost:8080/"
        },
        "id": "Ckr_JUXh0S_k",
        "outputId": "f4ddb656-548e-4ac0-c220-4b78bfcf67e2"
      },
      "source": [
        "# case 1 - error case\n",
        "print(my_point._private_name)\n",
        "# print(my_point.__private_name)"
      ],
      "execution_count": null,
      "outputs": [
        {
          "output_type": "stream",
          "text": [
            "_를 테스트 하기 위한 코드 \n"
          ],
          "name": "stdout"
        }
      ]
    },
    {
      "cell_type": "code",
      "metadata": {
        "colab": {
          "base_uri": "https://localhost:8080/"
        },
        "id": "qh5Ks6Cx0nmy",
        "outputId": "8b13a44b-f1f7-4255-db83-5b6449575739"
      },
      "source": [
        "# case 2\n",
        "print(my_point._Point__private_name)    # 내부 사용(import에서 무시됨)을 위한 언더스코어(_)를 활용한다."
      ],
      "execution_count": null,
      "outputs": [
        {
          "output_type": "stream",
          "text": [
            "private 접근\n"
          ],
          "name": "stdout"
        }
      ]
    },
    {
      "cell_type": "code",
      "metadata": {
        "colab": {
          "base_uri": "https://localhost:8080/"
        },
        "id": "zERmBNF73NfH",
        "outputId": "9d626343-2abd-49b1-bb28-fff0a0ada7b1"
      },
      "source": [
        "# case 3 - __sub이 호출이 된거 같은데.. 왜 그렇게 되는걸까?\n",
        "my_point_sub.sub()    # 변환된 이름에 대해 값 출력"
      ],
      "execution_count": null,
      "outputs": [
        {
          "output_type": "stream",
          "text": [
            "10\n",
            "20\n"
          ],
          "name": "stdout"
        }
      ]
    },
    {
      "cell_type": "code",
      "metadata": {
        "colab": {
          "base_uri": "https://localhost:8080/"
        },
        "id": "Bz8IQ2ld32jI",
        "outputId": "1eb0597d-118b-42b9-d86a-b6ca1841c6e2"
      },
      "source": [
        "class A(object):\n",
        "  def __init__(self):\n",
        "    self.__X = 3        # self._A__X 로 변환\n",
        "  def __test(self):     # _A__test() 로 변환\n",
        "    print('self.__X' ,self.__X)\n",
        "  def bast(self):\n",
        "    self.__test()\n",
        "\n",
        "class B(A):\n",
        "  def __init__(self):\n",
        "    A.__init__(self)\n",
        "    self.__X = 20       # self._B__X 로 변환\n",
        "  def __test(self):     # _B__test() 로 변환\n",
        "    print(self.__X)\n",
        "  def bast(self):\n",
        "    self.__test()\n",
        "\n",
        "a = A()\n",
        "#a.__test()\n",
        "a._A__test()      # 변형된 이름을 통해 접근가능\n",
        "#a.bast()\n",
        "\n",
        "b = B()\n",
        "b._B__test()      # 변형된 이름을 통해 접근가능\n",
        "b.bast()\n",
        " # 상속을 받았기 때문에 B클래스의 인스턴스에서 A클래스의 함수와 변수도 확인가능하다.\n",
        "b._A__X "
      ],
      "execution_count": null,
      "outputs": [
        {
          "output_type": "stream",
          "text": [
            "self.__X 3\n",
            "20\n",
            "20\n"
          ],
          "name": "stdout"
        },
        {
          "output_type": "execute_result",
          "data": {
            "text/plain": [
              "3"
            ]
          },
          "metadata": {
            "tags": []
          },
          "execution_count": 10
        }
      ]
    },
    {
      "cell_type": "code",
      "metadata": {
        "colab": {
          "base_uri": "https://localhost:8080/"
        },
        "id": "p8lGq0A_87N-",
        "outputId": "b725e1d9-d018-4517-c5cd-7dac04b98f6e"
      },
      "source": [
        "dir(b)           "
      ],
      "execution_count": null,
      "outputs": [
        {
          "output_type": "execute_result",
          "data": {
            "text/plain": [
              "['_A__X',\n",
              " '_A__test',\n",
              " '_B__X',\n",
              " '_B__test',\n",
              " '__class__',\n",
              " '__delattr__',\n",
              " '__dict__',\n",
              " '__dir__',\n",
              " '__doc__',\n",
              " '__eq__',\n",
              " '__format__',\n",
              " '__ge__',\n",
              " '__getattribute__',\n",
              " '__gt__',\n",
              " '__hash__',\n",
              " '__init__',\n",
              " '__init_subclass__',\n",
              " '__le__',\n",
              " '__lt__',\n",
              " '__module__',\n",
              " '__ne__',\n",
              " '__new__',\n",
              " '__reduce__',\n",
              " '__reduce_ex__',\n",
              " '__repr__',\n",
              " '__setattr__',\n",
              " '__sizeof__',\n",
              " '__str__',\n",
              " '__subclasshook__',\n",
              " '__weakref__',\n",
              " 'bast']"
            ]
          },
          "metadata": {
            "tags": []
          },
          "execution_count": 11
        }
      ]
    },
    {
      "cell_type": "code",
      "metadata": {
        "colab": {
          "base_uri": "https://localhost:8080/"
        },
        "id": "OCSqpNQW9nZ8",
        "outputId": "a5594a6f-6654-4185-a3bc-53480b484478"
      },
      "source": [
        "class parent_class:\n",
        "  def __init__(self):\n",
        "    self.value = 30\n",
        "    self._value = 40\n",
        "    self.__value = 50\n",
        "\n",
        "  def get(self):\n",
        "    return self.value\n",
        "\n",
        "class sub_class(parent_class):\n",
        "  def __init__(self):\n",
        "    super().__init__()\n",
        "    self.__value = 20    # 위의 parent_class의 _value와 충돌발생\n",
        "\n",
        "s = sub_class()\n",
        "print(s.value) # public\n",
        "print(s._value)# protected\n",
        "\n",
        "# print(s.__value)\n",
        "# 위와 같이 print(s.__value)로 기재하면 오류가 Attribute Error가 발생된다. 아래와 같이 수정해주어야 접근이 가능하다. \n",
        "print(s._parent_class__value)"
      ],
      "execution_count": null,
      "outputs": [
        {
          "output_type": "stream",
          "text": [
            "30\n",
            "40\n",
            "50\n"
          ],
          "name": "stdout"
        }
      ]
    },
    {
      "cell_type": "code",
      "metadata": {
        "colab": {
          "base_uri": "https://localhost:8080/"
        },
        "id": "mniz6eTg-Y3v",
        "outputId": "d1cfdf72-f034-4746-e6d2-5adb051f3623"
      },
      "source": [
        "print('parent_class value:',s.get(),' sub_class value:', s.value) "
      ],
      "execution_count": null,
      "outputs": [
        {
          "output_type": "stream",
          "text": [
            "parent_class value: 30  sub_class value: 30\n"
          ],
          "name": "stdout"
        }
      ]
    },
    {
      "cell_type": "code",
      "metadata": {
        "colab": {
          "base_uri": "https://localhost:8080/"
        },
        "id": "qOHtkkdn-6kc",
        "outputId": "b6b10ae6-7e73-428e-c522-002314b3e745"
      },
      "source": [
        "print('parent_class value:',s.get(),' sub_class value:', s._sub_class__value) "
      ],
      "execution_count": null,
      "outputs": [
        {
          "output_type": "stream",
          "text": [
            "parent_class value: 30  sub_class value: 20\n"
          ],
          "name": "stdout"
        }
      ]
    },
    {
      "cell_type": "code",
      "metadata": {
        "colab": {
          "base_uri": "https://localhost:8080/"
        },
        "id": "skXDiXnW_Ocf",
        "outputId": "8bb622ce-0086-4752-8bf2-fb17d2cae093"
      },
      "source": [
        "# 속성충돌방지\n",
        "\n",
        "class parent_class:\n",
        "  def __init__(self):\n",
        "    self.__value = 10   # parent_class는 '__'\n",
        "\n",
        "  def get(self):\n",
        "    return self.__value # parent_class는 '__'\n",
        "\n",
        "class sub_class(parent_class):\n",
        "  def __init__(self):\n",
        "    super().__init__()  # parent_class 호출을 위해 super() 사용\n",
        "    self._value = 20    # sub_class는 '_'\n",
        "\n",
        "\n",
        "s = sub_class()\n",
        "print('parent_class value:',s.get(),' sub_class value:', s._value) \n"
      ],
      "execution_count": null,
      "outputs": [
        {
          "output_type": "stream",
          "text": [
            "parent_class value: 10  sub_class value: 20\n"
          ],
          "name": "stdout"
        }
      ]
    },
    {
      "cell_type": "code",
      "metadata": {
        "colab": {
          "base_uri": "https://localhost:8080/"
        },
        "id": "n_m9Cp1vBA2a",
        "outputId": "b5f5620e-0b01-44bb-b2d1-cff787e34c7d"
      },
      "source": [
        "# 속성충돌방지 _, __를 삭제 후 속성 충돌이 발생하지 않아야한다고 생각을 했는데 충돌이 발생하네\n",
        "\n",
        "class parent_class:\n",
        "  def __init__(self):\n",
        "    self.value = 10   # parent_class는 '__'\n",
        "\n",
        "  def get(self):\n",
        "    return self.value # parent_class는 '__'\n",
        "\n",
        "class sub_class(parent_class):\n",
        "  def __init__(self):\n",
        "    self.value = 20    # sub_class는 '_'\n",
        "    print(self.value)\n",
        "    super().__init__()  # parent_class 호출을 위해 super() 사용\n",
        "    self.value = 20    # sub_class는 '_'\n",
        "    print(self.value)\n",
        "\n",
        "s = sub_class()\n",
        "print('parent_class value:',s.get(),' sub_class value:', s.value) "
      ],
      "execution_count": null,
      "outputs": [
        {
          "output_type": "stream",
          "text": [
            "20\n",
            "20\n",
            "parent_class value: 20  sub_class value: 20\n"
          ],
          "name": "stdout"
        }
      ]
    },
    {
      "cell_type": "code",
      "metadata": {
        "colab": {
          "base_uri": "https://localhost:8080/"
        },
        "id": "0UaeS6QqBF5Z",
        "outputId": "2657f83f-c7cf-423f-a05f-a21eccb2d593"
      },
      "source": [
        "# case 1 - _get_name에서 property(_get_name, _set_name)\n",
        "\n",
        "class Color:\n",
        "     def __init__(self, rgb_value, name):\n",
        "         self.rgb_value = rgb_value\n",
        "         self._name = name\n",
        "     def _set_name(self, name):\n",
        "         if not name:\n",
        "             raise Exception(\"Invalid Name\")\n",
        "         self._name = name\n",
        "\n",
        "     def _get_name(self):\n",
        "         return self._name\n",
        "     name = property(_get_name, _set_name)    # 내장함수 property 활용\n",
        "     \n",
        "c = Color(\"#0000ff\", \"bright red\")\n",
        "print(c.name)   # property를 통해 변수처럼 getter가 가능하다.\n",
        "\n",
        "c.name = \"red\"   # property를 통해 변수처럼 setter가 가능하다.\n",
        "print(c.name)"
      ],
      "execution_count": null,
      "outputs": [
        {
          "output_type": "stream",
          "text": [
            "bright red\n",
            "red\n"
          ],
          "name": "stdout"
        }
      ]
    },
    {
      "cell_type": "code",
      "metadata": {
        "colab": {
          "base_uri": "https://localhost:8080/"
        },
        "id": "zj1SnxczJq4r",
        "outputId": "1661e4a4-76c0-4249-b282-baa182583db4"
      },
      "source": [
        "# case 2 - @property 활용\n",
        "\n",
        "class Color:\n",
        "     def __init__(self, rgb_value, name):\n",
        "         self.rgb_value = rgb_value\n",
        "         self._name = name\n",
        "  #  def _set_name(self, name):\n",
        "  #      if not name:\n",
        "  #          raise Exception(\"Invalid Name\")\n",
        "  #      self._name = name\n",
        "\n",
        "     @property                # 데코레이터 property 활용\n",
        "     def _get_name(self):\n",
        "         return self._name\n",
        "     \n",
        "c = Color(\"#0000ff\", \"bright red\")\n",
        "print(c._name)\n",
        "# print(c.name)   # 이 경우는 에러이다. 왜 일까?\n",
        "\n",
        "c.name = \"red\"\n",
        "print(c.name)"
      ],
      "execution_count": null,
      "outputs": [
        {
          "output_type": "stream",
          "text": [
            "bright red\n",
            "red\n"
          ],
          "name": "stdout"
        }
      ]
    },
    {
      "cell_type": "code",
      "metadata": {
        "colab": {
          "base_uri": "https://localhost:8080/",
          "height": 69
        },
        "id": "pJmJ_jrVJu6e",
        "outputId": "490fcf6d-7ded-4093-be77-91de42a54aa2"
      },
      "source": [
        "class Bicycle():\n",
        "     def exclaim(self, x):\n",
        "       self.x = x\n",
        "       print(\"부모클래스 자전거\")\n",
        "\n",
        "class Specialized(Bicycle):            # 부모클래스를 상속받음\n",
        "    def exclaim(self, specialized):    # 메소드 오버라이딩(specialized 파라미터 추가, return 추가)\n",
        "         print(\"자식클래스 재정의\",specialized)\n",
        "         return 'return 자식클래스 재정의'+specialized\n",
        "\n",
        "\n",
        "a_bike = Bicycle()\n",
        "a_specialized = Specialized()\n",
        "\n",
        "# 출력1 - 부모클래스 메소드\n",
        "a_bike.exclaim(5)\n",
        "\n",
        "# 출력2 - 오버라이딩된 자식클래스 메소드(파라미터 추가, return 추가)\n",
        "a_specialized.exclaim('specialized test')"
      ],
      "execution_count": null,
      "outputs": [
        {
          "output_type": "stream",
          "text": [
            "부모클래스 자전거\n",
            "자식클래스 재정의 specialized test\n"
          ],
          "name": "stdout"
        },
        {
          "output_type": "execute_result",
          "data": {
            "application/vnd.google.colaboratory.intrinsic+json": {
              "type": "string"
            },
            "text/plain": [
              "'return 자식클래스 재정의specialized test'"
            ]
          },
          "metadata": {
            "tags": []
          },
          "execution_count": 34
        }
      ]
    },
    {
      "cell_type": "code",
      "metadata": {
        "colab": {
          "base_uri": "https://localhost:8080/"
        },
        "id": "RofgaiqXNYVi",
        "outputId": "f670d039-7051-49fc-c590-987e2af44ffe"
      },
      "source": [
        "class Bicycle():\n",
        "    def exclaim(self):  \n",
        "        print(\"부모클래스 자전거\")\n",
        "\n",
        "class Specialized(Bicycle): # 부모클래스를 상속받음\n",
        "    def exclaim(self):    # 메소드 오버라이딩(추가내용없음)\n",
        "        super().exclaim() # super는 위의 부모클래스 메소드를 그대로 활용한다.\n",
        "        print('super를 활용한 부모클래스의 메소드입니다.')\n",
        "         \n",
        "\n",
        "\n",
        "a_bike = Bicycle()\n",
        "a_specialized = Specialized()\n",
        "\n",
        "# 출력1 - 부모클래스 메소드\n",
        "a_bike.exclaim()\n",
        "\n",
        "# 출력2 - super : 부모클래스 메소드 그대로 활용(추가내용없음)\n",
        "a_specialized.exclaim()"
      ],
      "execution_count": null,
      "outputs": [
        {
          "output_type": "stream",
          "text": [
            "부모클래스 자전거\n",
            "부모클래스 자전거\n",
            "super를 활용한 부모클래스의 메소드입니다.\n"
          ],
          "name": "stdout"
        }
      ]
    },
    {
      "cell_type": "code",
      "metadata": {
        "id": "c7NgJRENNYQL"
      },
      "source": [
        ""
      ],
      "execution_count": null,
      "outputs": []
    },
    {
      "cell_type": "code",
      "metadata": {
        "id": "o78HCtfYNYKV"
      },
      "source": [
        ""
      ],
      "execution_count": null,
      "outputs": []
    },
    {
      "cell_type": "code",
      "metadata": {
        "id": "GiISIfm-NYGA"
      },
      "source": [
        ""
      ],
      "execution_count": null,
      "outputs": []
    },
    {
      "cell_type": "code",
      "metadata": {
        "colab": {
          "base_uri": "https://localhost:8080/"
        },
        "id": "zuZaa3SsNYCG",
        "outputId": "d12493a5-3655-4586-e7b0-bc2b4784ce0a"
      },
      "source": [
        "# 함수 외 변수\n",
        "x = 1\n",
        "y = 2   \n",
        "\n",
        "def my_function(x):\n",
        "     y = 3      # 함수 내에 할당된 변수(로컬 범위)\n",
        "     print(\"x,y : \",x, y) # 함수 내 변수를 활용하여 출력\n",
        "\n",
        "my_function(10) # 함수내부로 값을 삽입\n",
        "\n",
        "print(x, y)     # 함수 외 변수를 활용하여 출력"
      ],
      "execution_count": null,
      "outputs": [
        {
          "output_type": "stream",
          "text": [
            "x,y :  10 3\n",
            "1 2\n"
          ],
          "name": "stdout"
        }
      ]
    },
    {
      "cell_type": "code",
      "metadata": {
        "colab": {
          "base_uri": "https://localhost:8080/"
        },
        "id": "8CTanvlKNZCG",
        "outputId": "691de4c4-2afb-48f3-f5d0-917ea641d44e"
      },
      "source": [
        "# 함수 중첩\n",
        "\n",
        "x = 100   # 전역 범위\n",
        "def my_outer_function(x):\n",
        "     y = 50   # 로컬 범위\n",
        "     def my_inner_function(): \n",
        "         print(x, y)\n",
        "     my_inner_function() # 마지막으로 함수를 활용한 부분이 Enclosing 범위이다.\n",
        " \n",
        "my_outer_function(75)"
      ],
      "execution_count": null,
      "outputs": [
        {
          "output_type": "stream",
          "text": [
            "75 50\n"
          ],
          "name": "stdout"
        }
      ]
    },
    {
      "cell_type": "code",
      "metadata": {
        "colab": {
          "base_uri": "https://localhost:8080/",
          "height": 215
        },
        "id": "dcijCChCNd0M",
        "outputId": "d4b32c7b-46c2-47a1-fab7-e46b4c923f4d"
      },
      "source": [
        "print(__name__) # 변수가 발견되지 않았으므로, 파이썬 내부에서 쓰이고 있는 변수를 호출한다.\n",
        "\n",
        "print(__test__) # 내장 변수가 아니므로 호출되는 값이 없다."
      ],
      "execution_count": null,
      "outputs": [
        {
          "output_type": "stream",
          "text": [
            "__main__\n"
          ],
          "name": "stdout"
        },
        {
          "output_type": "error",
          "ename": "NameError",
          "evalue": "ignored",
          "traceback": [
            "\u001b[0;31m---------------------------------------------------------------------------\u001b[0m",
            "\u001b[0;31mNameError\u001b[0m                                 Traceback (most recent call last)",
            "\u001b[0;32m<ipython-input-21-b983694efb92>\u001b[0m in \u001b[0;36m<module>\u001b[0;34m()\u001b[0m\n\u001b[1;32m      1\u001b[0m \u001b[0mprint\u001b[0m\u001b[0;34m(\u001b[0m\u001b[0m__name__\u001b[0m\u001b[0;34m)\u001b[0m \u001b[0;31m# 변수가 발견되지 않았으므로, 파이썬 내부에서 쓰이고 있는 변수를 호출한다.\u001b[0m\u001b[0;34m\u001b[0m\u001b[0;34m\u001b[0m\u001b[0m\n\u001b[1;32m      2\u001b[0m \u001b[0;34m\u001b[0m\u001b[0m\n\u001b[0;32m----> 3\u001b[0;31m \u001b[0mprint\u001b[0m\u001b[0;34m(\u001b[0m\u001b[0m__test__\u001b[0m\u001b[0;34m)\u001b[0m \u001b[0;31m# 내장 변수가 아니므로 호출되는 값이 없다.\u001b[0m\u001b[0;34m\u001b[0m\u001b[0;34m\u001b[0m\u001b[0m\n\u001b[0m",
            "\u001b[0;31mNameError\u001b[0m: name '__test__' is not defined"
          ]
        }
      ]
    },
    {
      "cell_type": "code",
      "metadata": {
        "colab": {
          "base_uri": "https://localhost:8080/"
        },
        "id": "sg6wqyyzNh5q",
        "outputId": "50eb7e70-f313-4768-a468-842280356a67"
      },
      "source": [
        "dir(__builtins__)"
      ],
      "execution_count": null,
      "outputs": [
        {
          "output_type": "execute_result",
          "data": {
            "text/plain": [
              "['ArithmeticError',\n",
              " 'AssertionError',\n",
              " 'AttributeError',\n",
              " 'BaseException',\n",
              " 'BlockingIOError',\n",
              " 'BrokenPipeError',\n",
              " 'BufferError',\n",
              " 'BytesWarning',\n",
              " 'ChildProcessError',\n",
              " 'ConnectionAbortedError',\n",
              " 'ConnectionError',\n",
              " 'ConnectionRefusedError',\n",
              " 'ConnectionResetError',\n",
              " 'DeprecationWarning',\n",
              " 'EOFError',\n",
              " 'Ellipsis',\n",
              " 'EnvironmentError',\n",
              " 'Exception',\n",
              " 'False',\n",
              " 'FileExistsError',\n",
              " 'FileNotFoundError',\n",
              " 'FloatingPointError',\n",
              " 'FutureWarning',\n",
              " 'GeneratorExit',\n",
              " 'IOError',\n",
              " 'ImportError',\n",
              " 'ImportWarning',\n",
              " 'IndentationError',\n",
              " 'IndexError',\n",
              " 'InterruptedError',\n",
              " 'IsADirectoryError',\n",
              " 'KeyError',\n",
              " 'KeyboardInterrupt',\n",
              " 'LookupError',\n",
              " 'MemoryError',\n",
              " 'ModuleNotFoundError',\n",
              " 'NameError',\n",
              " 'None',\n",
              " 'NotADirectoryError',\n",
              " 'NotImplemented',\n",
              " 'NotImplementedError',\n",
              " 'OSError',\n",
              " 'OverflowError',\n",
              " 'PendingDeprecationWarning',\n",
              " 'PermissionError',\n",
              " 'ProcessLookupError',\n",
              " 'RecursionError',\n",
              " 'ReferenceError',\n",
              " 'ResourceWarning',\n",
              " 'RuntimeError',\n",
              " 'RuntimeWarning',\n",
              " 'StopAsyncIteration',\n",
              " 'StopIteration',\n",
              " 'SyntaxError',\n",
              " 'SyntaxWarning',\n",
              " 'SystemError',\n",
              " 'SystemExit',\n",
              " 'TabError',\n",
              " 'TimeoutError',\n",
              " 'True',\n",
              " 'TypeError',\n",
              " 'UnboundLocalError',\n",
              " 'UnicodeDecodeError',\n",
              " 'UnicodeEncodeError',\n",
              " 'UnicodeError',\n",
              " 'UnicodeTranslateError',\n",
              " 'UnicodeWarning',\n",
              " 'UserWarning',\n",
              " 'ValueError',\n",
              " 'Warning',\n",
              " 'ZeroDivisionError',\n",
              " '__IPYTHON__',\n",
              " '__build_class__',\n",
              " '__debug__',\n",
              " '__doc__',\n",
              " '__import__',\n",
              " '__loader__',\n",
              " '__name__',\n",
              " '__package__',\n",
              " '__spec__',\n",
              " 'abs',\n",
              " 'all',\n",
              " 'any',\n",
              " 'ascii',\n",
              " 'bin',\n",
              " 'bool',\n",
              " 'breakpoint',\n",
              " 'bytearray',\n",
              " 'bytes',\n",
              " 'callable',\n",
              " 'chr',\n",
              " 'classmethod',\n",
              " 'compile',\n",
              " 'complex',\n",
              " 'copyright',\n",
              " 'credits',\n",
              " 'delattr',\n",
              " 'dict',\n",
              " 'dir',\n",
              " 'display',\n",
              " 'divmod',\n",
              " 'dreload',\n",
              " 'enumerate',\n",
              " 'eval',\n",
              " 'exec',\n",
              " 'execfile',\n",
              " 'filter',\n",
              " 'float',\n",
              " 'format',\n",
              " 'frozenset',\n",
              " 'get_ipython',\n",
              " 'getattr',\n",
              " 'globals',\n",
              " 'hasattr',\n",
              " 'hash',\n",
              " 'help',\n",
              " 'hex',\n",
              " 'id',\n",
              " 'input',\n",
              " 'int',\n",
              " 'isinstance',\n",
              " 'issubclass',\n",
              " 'iter',\n",
              " 'len',\n",
              " 'license',\n",
              " 'list',\n",
              " 'locals',\n",
              " 'map',\n",
              " 'max',\n",
              " 'memoryview',\n",
              " 'min',\n",
              " 'next',\n",
              " 'object',\n",
              " 'oct',\n",
              " 'open',\n",
              " 'ord',\n",
              " 'pow',\n",
              " 'print',\n",
              " 'property',\n",
              " 'range',\n",
              " 'repr',\n",
              " 'reversed',\n",
              " 'round',\n",
              " 'runfile',\n",
              " 'set',\n",
              " 'setattr',\n",
              " 'slice',\n",
              " 'sorted',\n",
              " 'staticmethod',\n",
              " 'str',\n",
              " 'sum',\n",
              " 'super',\n",
              " 'tuple',\n",
              " 'type',\n",
              " 'vars',\n",
              " 'zip']"
            ]
          },
          "metadata": {
            "tags": []
          },
          "execution_count": 22
        }
      ]
    },
    {
      "cell_type": "code",
      "metadata": {
        "id": "kx67cB9rNlLL"
      },
      "source": [
        "# Student class object 초기화\n",
        "class Student:\n",
        "     def __init__(self, first_name, last_name):\n",
        "          self.first_name = first_name\n",
        "          self.last_name = last_name"
      ],
      "execution_count": null,
      "outputs": []
    },
    {
      "cell_type": "code",
      "metadata": {
        "colab": {
          "base_uri": "https://localhost:8080/"
        },
        "id": "A4O9e0UXNwAy",
        "outputId": "7f109663-fa8f-4af3-8727-e49bc76088bc"
      },
      "source": [
        "# Student instance 생성\n",
        "student = Student(\"John\", \"Lennon\")\n",
        "print(student.first_name, student.last_name)"
      ],
      "execution_count": null,
      "outputs": [
        {
          "output_type": "stream",
          "text": [
            "John Lennon\n"
          ],
          "name": "stdout"
        }
      ]
    },
    {
      "cell_type": "code",
      "metadata": {
        "colab": {
          "base_uri": "https://localhost:8080/",
          "height": 181
        },
        "id": "3jmHwM5uNyfJ",
        "outputId": "485eb03f-1bbe-4bad-c549-808692ef0fea"
      },
      "source": [
        "# 인수(argements)없이 instance를 생성하는 경우 \n",
        "student = Student()"
      ],
      "execution_count": null,
      "outputs": [
        {
          "output_type": "error",
          "ename": "TypeError",
          "evalue": "ignored",
          "traceback": [
            "\u001b[0;31m---------------------------------------------------------------------------\u001b[0m",
            "\u001b[0;31mTypeError\u001b[0m                                 Traceback (most recent call last)",
            "\u001b[0;32m<ipython-input-25-3b5091d53c63>\u001b[0m in \u001b[0;36m<module>\u001b[0;34m()\u001b[0m\n\u001b[1;32m      1\u001b[0m \u001b[0;31m# 인수(argements)없이 instance를 생성하는 경우\u001b[0m\u001b[0;34m\u001b[0m\u001b[0;34m\u001b[0m\u001b[0;34m\u001b[0m\u001b[0m\n\u001b[0;32m----> 2\u001b[0;31m \u001b[0mstudent\u001b[0m \u001b[0;34m=\u001b[0m \u001b[0mStudent\u001b[0m\u001b[0;34m(\u001b[0m\u001b[0;34m)\u001b[0m\u001b[0;34m\u001b[0m\u001b[0;34m\u001b[0m\u001b[0m\n\u001b[0m",
            "\u001b[0;31mTypeError\u001b[0m: __init__() missing 2 required positional arguments: 'first_name' and 'last_name'"
          ]
        }
      ]
    },
    {
      "cell_type": "code",
      "metadata": {
        "colab": {
          "base_uri": "https://localhost:8080/"
        },
        "id": "775rKGwaN2SA",
        "outputId": "3e97c629-66f7-4493-b3db-0f7e2bd5f6ee"
      },
      "source": [
        "class MyFunc:\n",
        "    def __call__(self, *args, **kwargs):\n",
        "        print(\"호출됨\")\n",
        "\n",
        "f = MyFunc()\n",
        "f()"
      ],
      "execution_count": null,
      "outputs": [
        {
          "output_type": "stream",
          "text": [
            "호출됨\n"
          ],
          "name": "stdout"
        }
      ]
    },
    {
      "cell_type": "code",
      "metadata": {
        "colab": {
          "base_uri": "https://localhost:8080/"
        },
        "id": "teu-dSxgN797",
        "outputId": "c64e82ed-3ae7-445e-e147-0867cb7699fc"
      },
      "source": [
        "class Stock:\n",
        "    def __getattribute__(self, item):\n",
        "        print(item, \"객체에 접근하셨습니다.\")\n",
        "\n",
        "s = Stock()\n",
        "s.data"
      ],
      "execution_count": null,
      "outputs": [
        {
          "output_type": "stream",
          "text": [
            "data 객체에 접근하셨습니다.\n"
          ],
          "name": "stdout"
        }
      ]
    },
    {
      "cell_type": "code",
      "metadata": {
        "colab": {
          "base_uri": "https://localhost:8080/"
        },
        "id": "OOB42XCoN_1A",
        "outputId": "b7ab60c6-d01b-4bfa-966b-b75b9ff8b21f"
      },
      "source": [
        "# 첫번째 풀이\n",
        "import timeit\n",
        "start_time = timeit.default_timer() # 시작 시간 체크\n",
        "\n",
        "def solution(arr):\n",
        "  answer = []\n",
        "  for number in arr:\n",
        "    if number not in answer:\n",
        "      answer.append(number)\n",
        "\n",
        "  #answer.sort()    \n",
        "  return answer\n",
        "\n",
        "  \n",
        "print(solution([1,1,3,4,4,0,1,1]))\n",
        "\n",
        "end_time = timeit.default_timer()                  # 종료 시간 체크\n",
        "\n",
        "print(\"%f 초 걸렸습니다.\" % (end_time - start_time))  # 코드실행시간 측정"
      ],
      "execution_count": null,
      "outputs": [
        {
          "output_type": "stream",
          "text": [
            "[1, 3, 4, 0]\n",
            "0.000556 초 걸렸습니다.\n"
          ],
          "name": "stdout"
        }
      ]
    },
    {
      "cell_type": "code",
      "metadata": {
        "colab": {
          "base_uri": "https://localhost:8080/"
        },
        "id": "_Xksv60qOPtK",
        "outputId": "e5d55281-f098-4f3c-89b1-1aa9364b698c"
      },
      "source": [
        "# 두번째 풀이\n",
        "start_time = timeit.default_timer() # 시작 시간 체크\n",
        "\n",
        "def solution(arr):\n",
        "  arr = list(set(arr))    # set을 활용하여 중복되는 숫자 제외\n",
        "  return arr\n",
        "\n",
        "print(solution([1,1,3,4,4,0,1,1]))\n",
        "\n",
        "end_time = timeit.default_timer() # 종료 시간 체크\n",
        "print(\"%f 초 걸렸습니다.\" % (end_time - start_time)) "
      ],
      "execution_count": null,
      "outputs": [
        {
          "output_type": "stream",
          "text": [
            "[0, 1, 3, 4]\n",
            "0.000234 초 걸렸습니다.\n"
          ],
          "name": "stdout"
        }
      ]
    },
    {
      "cell_type": "code",
      "metadata": {
        "id": "phBSlP-qOT51"
      },
      "source": [
        ""
      ],
      "execution_count": null,
      "outputs": []
    }
  ]
}