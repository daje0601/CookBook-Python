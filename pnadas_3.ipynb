{
  "nbformat": 4,
  "nbformat_minor": 0,
  "metadata": {
    "colab": {
      "name": "pnadas_3.ipynb",
      "provenance": [],
      "authorship_tag": "ABX9TyMwgc5R0pK7gSTdcr6NG6u8",
      "include_colab_link": true
    },
    "kernelspec": {
      "name": "python3",
      "display_name": "Python 3"
    }
  },
  "cells": [
    {
      "cell_type": "markdown",
      "metadata": {
        "id": "view-in-github",
        "colab_type": "text"
      },
      "source": [
        "<a href=\"https://colab.research.google.com/github/daje0601/pandas_study/blob/main/pnadas_3.ipynb\" target=\"_parent\"><img src=\"https://colab.research.google.com/assets/colab-badge.svg\" alt=\"Open In Colab\"/></a>"
      ]
    },
    {
      "cell_type": "markdown",
      "metadata": {
        "id": "CphkVkjKJd5N"
      },
      "source": [
        "# 3. data 다루기\n",
        "\n",
        "### 이번 data다루기에서는 다양한 방법으로 df를 변형하는 방법에 대해 배워보겠습니다. \n",
        "\n",
        "\n",
        "##1)   통계를 이용한 분석 : 평균, 중간값, 상관 관계 등을 분석하여 인사이트를 얻는 것 \n",
        "\n",
        "##2)   슬라이싱을 통한 분석 : 다양한 방법으로 데이터를 슬라이싱하여 분석하기 편하게 df를 조작하는 것 \n",
        "\n",
        "##3)   EDA : df를 다양한 관점에서 살펴보고 탐색하면서 인사이트를 얻는 것 \n",
        "\n"
      ]
    },
    {
      "cell_type": "markdown",
      "metadata": {
        "id": "JAlbFRblMiUS"
      },
      "source": [
        "큰 흐름을 놓칠 수 있기에 이쯤 다시 리마인드를 해보도록 하겠습니다.   \n",
        "우리는 지금 datascience가 되기 위해 가장 기초적인 pandas라는 python 라이브러리를 배우고 있습니다.  \n",
        "  \n",
        "그 중에서도   \n",
        "  \n",
        "    \n",
        "    [완료] 파일불러오기(내부 / 외부)  \n",
        "    ↓  \n",
        "    [완료] column&row 큰 틀에서 다루기  \n",
        "    ↓  \n",
        "    [완료] 불러온 파일 여러개를 합쳐보는 방법  \n",
        "    ↓    \n",
        "    [진행중] column&row 큰 틀에서 다루기(본 강의)\n",
        "    ↓  \n",
        "    [진행 예정] 결측치 다루기  \n",
        "    ↓   \n",
        "    [진행 예정] 데이터 시각화  \n",
        "    \n",
        "  위와 같이 공부를 진행할 예정입니다.\n",
        "\n"
      ]
    },
    {
      "cell_type": "markdown",
      "metadata": {
        "id": "hKY9_PtFPFPt"
      },
      "source": [
        "## 1) 통계를 이용한 분석\n",
        "\n"
      ]
    },
    {
      "cell_type": "code",
      "metadata": {
        "colab": {
          "base_uri": "https://localhost:8080/",
          "height": 252
        },
        "id": "BxEdU7imMh4F",
        "outputId": "2d9fc17e-ac9e-4cd9-e41b-f20dfd27e925"
      },
      "source": [
        "# 자~ 데이터를 불러와볼게요. 저희는 실습동안 최대한 1개의 df로 실습을 진행해보려 합니다. 참고해주세요\n",
        "import pandas as pd \n",
        "import numpy as np\n",
        "\n",
        "!pandas read csv form github\n",
        "\n",
        "#[url로 외부에서 데이터 가져오기]\n",
        "url = \"https://raw.githubusercontent.com/mwaskom/seaborn-data/master/car_crashes.csv\"\n",
        "df = pd.read_csv(url)\n",
        "\n",
        "\n",
        "# 데이터 줄이는 코드 : 데이터가 크기 때문에 줄여서 실습함 \n",
        "df = df.set_index(\"abbrev\")\n",
        "df = df.iloc[0:5, 0:5]\n",
        "df"
      ],
      "execution_count": 1,
      "outputs": [
        {
          "output_type": "stream",
          "text": [
            "/bin/bash: pandas: command not found\n"
          ],
          "name": "stdout"
        },
        {
          "output_type": "execute_result",
          "data": {
            "text/html": [
              "<div>\n",
              "<style scoped>\n",
              "    .dataframe tbody tr th:only-of-type {\n",
              "        vertical-align: middle;\n",
              "    }\n",
              "\n",
              "    .dataframe tbody tr th {\n",
              "        vertical-align: top;\n",
              "    }\n",
              "\n",
              "    .dataframe thead th {\n",
              "        text-align: right;\n",
              "    }\n",
              "</style>\n",
              "<table border=\"1\" class=\"dataframe\">\n",
              "  <thead>\n",
              "    <tr style=\"text-align: right;\">\n",
              "      <th></th>\n",
              "      <th>total</th>\n",
              "      <th>speeding</th>\n",
              "      <th>alcohol</th>\n",
              "      <th>not_distracted</th>\n",
              "      <th>no_previous</th>\n",
              "    </tr>\n",
              "    <tr>\n",
              "      <th>abbrev</th>\n",
              "      <th></th>\n",
              "      <th></th>\n",
              "      <th></th>\n",
              "      <th></th>\n",
              "      <th></th>\n",
              "    </tr>\n",
              "  </thead>\n",
              "  <tbody>\n",
              "    <tr>\n",
              "      <th>AL</th>\n",
              "      <td>18.8</td>\n",
              "      <td>7.332</td>\n",
              "      <td>5.640</td>\n",
              "      <td>18.048</td>\n",
              "      <td>15.040</td>\n",
              "    </tr>\n",
              "    <tr>\n",
              "      <th>AK</th>\n",
              "      <td>18.1</td>\n",
              "      <td>7.421</td>\n",
              "      <td>4.525</td>\n",
              "      <td>16.290</td>\n",
              "      <td>17.014</td>\n",
              "    </tr>\n",
              "    <tr>\n",
              "      <th>AZ</th>\n",
              "      <td>18.6</td>\n",
              "      <td>6.510</td>\n",
              "      <td>5.208</td>\n",
              "      <td>15.624</td>\n",
              "      <td>17.856</td>\n",
              "    </tr>\n",
              "    <tr>\n",
              "      <th>AR</th>\n",
              "      <td>22.4</td>\n",
              "      <td>4.032</td>\n",
              "      <td>5.824</td>\n",
              "      <td>21.056</td>\n",
              "      <td>21.280</td>\n",
              "    </tr>\n",
              "    <tr>\n",
              "      <th>CA</th>\n",
              "      <td>12.0</td>\n",
              "      <td>4.200</td>\n",
              "      <td>3.360</td>\n",
              "      <td>10.920</td>\n",
              "      <td>10.680</td>\n",
              "    </tr>\n",
              "  </tbody>\n",
              "</table>\n",
              "</div>"
            ],
            "text/plain": [
              "        total  speeding  alcohol  not_distracted  no_previous\n",
              "abbrev                                                       \n",
              "AL       18.8     7.332    5.640          18.048       15.040\n",
              "AK       18.1     7.421    4.525          16.290       17.014\n",
              "AZ       18.6     6.510    5.208          15.624       17.856\n",
              "AR       22.4     4.032    5.824          21.056       21.280\n",
              "CA       12.0     4.200    3.360          10.920       10.680"
            ]
          },
          "metadata": {
            "tags": []
          },
          "execution_count": 1
        }
      ]
    },
    {
      "cell_type": "code",
      "metadata": {
        "colab": {
          "base_uri": "https://localhost:8080/",
          "height": 235
        },
        "id": "jxIgyqI3JYyc",
        "outputId": "3f6f6a73-9151-4b67-d985-6aca43aad72a"
      },
      "source": [
        "# 당연히 df가 잘 출력되었는지 확인해야겠죠?\n",
        "df.head()"
      ],
      "execution_count": 2,
      "outputs": [
        {
          "output_type": "execute_result",
          "data": {
            "text/html": [
              "<div>\n",
              "<style scoped>\n",
              "    .dataframe tbody tr th:only-of-type {\n",
              "        vertical-align: middle;\n",
              "    }\n",
              "\n",
              "    .dataframe tbody tr th {\n",
              "        vertical-align: top;\n",
              "    }\n",
              "\n",
              "    .dataframe thead th {\n",
              "        text-align: right;\n",
              "    }\n",
              "</style>\n",
              "<table border=\"1\" class=\"dataframe\">\n",
              "  <thead>\n",
              "    <tr style=\"text-align: right;\">\n",
              "      <th></th>\n",
              "      <th>total</th>\n",
              "      <th>speeding</th>\n",
              "      <th>alcohol</th>\n",
              "      <th>not_distracted</th>\n",
              "      <th>no_previous</th>\n",
              "    </tr>\n",
              "    <tr>\n",
              "      <th>abbrev</th>\n",
              "      <th></th>\n",
              "      <th></th>\n",
              "      <th></th>\n",
              "      <th></th>\n",
              "      <th></th>\n",
              "    </tr>\n",
              "  </thead>\n",
              "  <tbody>\n",
              "    <tr>\n",
              "      <th>AL</th>\n",
              "      <td>18.8</td>\n",
              "      <td>7.332</td>\n",
              "      <td>5.640</td>\n",
              "      <td>18.048</td>\n",
              "      <td>15.040</td>\n",
              "    </tr>\n",
              "    <tr>\n",
              "      <th>AK</th>\n",
              "      <td>18.1</td>\n",
              "      <td>7.421</td>\n",
              "      <td>4.525</td>\n",
              "      <td>16.290</td>\n",
              "      <td>17.014</td>\n",
              "    </tr>\n",
              "    <tr>\n",
              "      <th>AZ</th>\n",
              "      <td>18.6</td>\n",
              "      <td>6.510</td>\n",
              "      <td>5.208</td>\n",
              "      <td>15.624</td>\n",
              "      <td>17.856</td>\n",
              "    </tr>\n",
              "    <tr>\n",
              "      <th>AR</th>\n",
              "      <td>22.4</td>\n",
              "      <td>4.032</td>\n",
              "      <td>5.824</td>\n",
              "      <td>21.056</td>\n",
              "      <td>21.280</td>\n",
              "    </tr>\n",
              "    <tr>\n",
              "      <th>CA</th>\n",
              "      <td>12.0</td>\n",
              "      <td>4.200</td>\n",
              "      <td>3.360</td>\n",
              "      <td>10.920</td>\n",
              "      <td>10.680</td>\n",
              "    </tr>\n",
              "  </tbody>\n",
              "</table>\n",
              "</div>"
            ],
            "text/plain": [
              "        total  speeding  alcohol  not_distracted  no_previous\n",
              "abbrev                                                       \n",
              "AL       18.8     7.332    5.640          18.048       15.040\n",
              "AK       18.1     7.421    4.525          16.290       17.014\n",
              "AZ       18.6     6.510    5.208          15.624       17.856\n",
              "AR       22.4     4.032    5.824          21.056       21.280\n",
              "CA       12.0     4.200    3.360          10.920       10.680"
            ]
          },
          "metadata": {
            "tags": []
          },
          "execution_count": 2
        }
      ]
    },
    {
      "cell_type": "code",
      "metadata": {
        "colab": {
          "base_uri": "https://localhost:8080/"
        },
        "id": "k3V4p_YgP0mg",
        "outputId": "b3ff63ec-db1f-4633-9065-c8bc188bd9b8"
      },
      "source": [
        "# info라는 명령어를 이용하면 해당 데이터에 어떤 정보들이 있는지 간략하게 보여준다. \n",
        "df.info()"
      ],
      "execution_count": 3,
      "outputs": [
        {
          "output_type": "stream",
          "text": [
            "<class 'pandas.core.frame.DataFrame'>\n",
            "Index: 5 entries, AL to CA\n",
            "Data columns (total 5 columns):\n",
            " #   Column          Non-Null Count  Dtype  \n",
            "---  ------          --------------  -----  \n",
            " 0   total           5 non-null      float64\n",
            " 1   speeding        5 non-null      float64\n",
            " 2   alcohol         5 non-null      float64\n",
            " 3   not_distracted  5 non-null      float64\n",
            " 4   no_previous     5 non-null      float64\n",
            "dtypes: float64(5)\n",
            "memory usage: 240.0+ bytes\n"
          ],
          "name": "stdout"
        }
      ]
    },
    {
      "cell_type": "code",
      "metadata": {
        "colab": {
          "base_uri": "https://localhost:8080/",
          "height": 297
        },
        "id": "wWL-_tLzPWDg",
        "outputId": "22d1e105-5e24-4e74-de60-ed5fc9829206"
      },
      "source": [
        "# describe라는 명령어를 입력하면 number(int, float)에 한하여 통계적인 분석표를 일괄적으로 얻을 수 있다.\n",
        "df.describe()"
      ],
      "execution_count": 4,
      "outputs": [
        {
          "output_type": "execute_result",
          "data": {
            "text/html": [
              "<div>\n",
              "<style scoped>\n",
              "    .dataframe tbody tr th:only-of-type {\n",
              "        vertical-align: middle;\n",
              "    }\n",
              "\n",
              "    .dataframe tbody tr th {\n",
              "        vertical-align: top;\n",
              "    }\n",
              "\n",
              "    .dataframe thead th {\n",
              "        text-align: right;\n",
              "    }\n",
              "</style>\n",
              "<table border=\"1\" class=\"dataframe\">\n",
              "  <thead>\n",
              "    <tr style=\"text-align: right;\">\n",
              "      <th></th>\n",
              "      <th>total</th>\n",
              "      <th>speeding</th>\n",
              "      <th>alcohol</th>\n",
              "      <th>not_distracted</th>\n",
              "      <th>no_previous</th>\n",
              "    </tr>\n",
              "  </thead>\n",
              "  <tbody>\n",
              "    <tr>\n",
              "      <th>count</th>\n",
              "      <td>5.000000</td>\n",
              "      <td>5.000000</td>\n",
              "      <td>5.000000</td>\n",
              "      <td>5.000000</td>\n",
              "      <td>5.000000</td>\n",
              "    </tr>\n",
              "    <tr>\n",
              "      <th>mean</th>\n",
              "      <td>17.980000</td>\n",
              "      <td>5.899000</td>\n",
              "      <td>4.911400</td>\n",
              "      <td>16.387600</td>\n",
              "      <td>16.374000</td>\n",
              "    </tr>\n",
              "    <tr>\n",
              "      <th>std</th>\n",
              "      <td>3.753931</td>\n",
              "      <td>1.667002</td>\n",
              "      <td>1.000976</td>\n",
              "      <td>3.709385</td>\n",
              "      <td>3.901152</td>\n",
              "    </tr>\n",
              "    <tr>\n",
              "      <th>min</th>\n",
              "      <td>12.000000</td>\n",
              "      <td>4.032000</td>\n",
              "      <td>3.360000</td>\n",
              "      <td>10.920000</td>\n",
              "      <td>10.680000</td>\n",
              "    </tr>\n",
              "    <tr>\n",
              "      <th>25%</th>\n",
              "      <td>18.100000</td>\n",
              "      <td>4.200000</td>\n",
              "      <td>4.525000</td>\n",
              "      <td>15.624000</td>\n",
              "      <td>15.040000</td>\n",
              "    </tr>\n",
              "    <tr>\n",
              "      <th>50%</th>\n",
              "      <td>18.600000</td>\n",
              "      <td>6.510000</td>\n",
              "      <td>5.208000</td>\n",
              "      <td>16.290000</td>\n",
              "      <td>17.014000</td>\n",
              "    </tr>\n",
              "    <tr>\n",
              "      <th>75%</th>\n",
              "      <td>18.800000</td>\n",
              "      <td>7.332000</td>\n",
              "      <td>5.640000</td>\n",
              "      <td>18.048000</td>\n",
              "      <td>17.856000</td>\n",
              "    </tr>\n",
              "    <tr>\n",
              "      <th>max</th>\n",
              "      <td>22.400000</td>\n",
              "      <td>7.421000</td>\n",
              "      <td>5.824000</td>\n",
              "      <td>21.056000</td>\n",
              "      <td>21.280000</td>\n",
              "    </tr>\n",
              "  </tbody>\n",
              "</table>\n",
              "</div>"
            ],
            "text/plain": [
              "           total  speeding   alcohol  not_distracted  no_previous\n",
              "count   5.000000  5.000000  5.000000        5.000000     5.000000\n",
              "mean   17.980000  5.899000  4.911400       16.387600    16.374000\n",
              "std     3.753931  1.667002  1.000976        3.709385     3.901152\n",
              "min    12.000000  4.032000  3.360000       10.920000    10.680000\n",
              "25%    18.100000  4.200000  4.525000       15.624000    15.040000\n",
              "50%    18.600000  6.510000  5.208000       16.290000    17.014000\n",
              "75%    18.800000  7.332000  5.640000       18.048000    17.856000\n",
              "max    22.400000  7.421000  5.824000       21.056000    21.280000"
            ]
          },
          "metadata": {
            "tags": []
          },
          "execution_count": 4
        }
      ]
    },
    {
      "cell_type": "code",
      "metadata": {
        "colab": {
          "base_uri": "https://localhost:8080/"
        },
        "id": "iv9Vvu6VPYOv",
        "outputId": "d75f3e15-7e24-40f4-c1fb-e0bb71c18bee"
      },
      "source": [
        "# 아래와 같이 코드를 작성하면 column \"total\" 어떤 데이터가 몇개가 있는지 확인 가능하다\n",
        "\n",
        "df[\"total\"].value_counts().head()\n",
        "\n",
        "# 이는 문자열 카운트도 가능하다 \n",
        "df[\"speeding\"].value_counts().head()"
      ],
      "execution_count": 5,
      "outputs": [
        {
          "output_type": "execute_result",
          "data": {
            "text/plain": [
              "6.510    1\n",
              "4.032    1\n",
              "7.421    1\n",
              "4.200    1\n",
              "7.332    1\n",
              "Name: speeding, dtype: int64"
            ]
          },
          "metadata": {
            "tags": []
          },
          "execution_count": 5
        }
      ]
    },
    {
      "cell_type": "markdown",
      "metadata": {
        "id": "aBZzPDRf5htE"
      },
      "source": [
        "### 2) 슬라이싱을 통한 분석\n"
      ]
    },
    {
      "cell_type": "code",
      "metadata": {
        "colab": {
          "base_uri": "https://localhost:8080/",
          "height": 235
        },
        "id": "k6rd7l9NQjjo",
        "outputId": "8ed91dd6-6f97-453f-f8e7-11f1e1336bb1"
      },
      "source": [
        "# sort_values() 명령어를 이용하여 데이터가 큰 순서대로 정렬(ascending=False)할 수 있다 \n",
        "# 내림차순으로 정렬하려면 ascending=True를 쓰면 된다. \n",
        "\n",
        "df.sort_values(by=\"total\", ascending=False, inplace=False).head()\n",
        "\n",
        "# inplace=False가 무엇인지 앞에서 배웠다. 모르면 되돌아가서 다시 공부를 꼭 하고 오시길..!\n",
        "# 중간 중간 .head()를 쓰는 이유는 데이터는 확인을 해야하는데, 다 출력되는게 보기 불편해서 쓰는겁니다. "
      ],
      "execution_count": 6,
      "outputs": [
        {
          "output_type": "execute_result",
          "data": {
            "text/html": [
              "<div>\n",
              "<style scoped>\n",
              "    .dataframe tbody tr th:only-of-type {\n",
              "        vertical-align: middle;\n",
              "    }\n",
              "\n",
              "    .dataframe tbody tr th {\n",
              "        vertical-align: top;\n",
              "    }\n",
              "\n",
              "    .dataframe thead th {\n",
              "        text-align: right;\n",
              "    }\n",
              "</style>\n",
              "<table border=\"1\" class=\"dataframe\">\n",
              "  <thead>\n",
              "    <tr style=\"text-align: right;\">\n",
              "      <th></th>\n",
              "      <th>total</th>\n",
              "      <th>speeding</th>\n",
              "      <th>alcohol</th>\n",
              "      <th>not_distracted</th>\n",
              "      <th>no_previous</th>\n",
              "    </tr>\n",
              "    <tr>\n",
              "      <th>abbrev</th>\n",
              "      <th></th>\n",
              "      <th></th>\n",
              "      <th></th>\n",
              "      <th></th>\n",
              "      <th></th>\n",
              "    </tr>\n",
              "  </thead>\n",
              "  <tbody>\n",
              "    <tr>\n",
              "      <th>AR</th>\n",
              "      <td>22.4</td>\n",
              "      <td>4.032</td>\n",
              "      <td>5.824</td>\n",
              "      <td>21.056</td>\n",
              "      <td>21.280</td>\n",
              "    </tr>\n",
              "    <tr>\n",
              "      <th>AL</th>\n",
              "      <td>18.8</td>\n",
              "      <td>7.332</td>\n",
              "      <td>5.640</td>\n",
              "      <td>18.048</td>\n",
              "      <td>15.040</td>\n",
              "    </tr>\n",
              "    <tr>\n",
              "      <th>AZ</th>\n",
              "      <td>18.6</td>\n",
              "      <td>6.510</td>\n",
              "      <td>5.208</td>\n",
              "      <td>15.624</td>\n",
              "      <td>17.856</td>\n",
              "    </tr>\n",
              "    <tr>\n",
              "      <th>AK</th>\n",
              "      <td>18.1</td>\n",
              "      <td>7.421</td>\n",
              "      <td>4.525</td>\n",
              "      <td>16.290</td>\n",
              "      <td>17.014</td>\n",
              "    </tr>\n",
              "    <tr>\n",
              "      <th>CA</th>\n",
              "      <td>12.0</td>\n",
              "      <td>4.200</td>\n",
              "      <td>3.360</td>\n",
              "      <td>10.920</td>\n",
              "      <td>10.680</td>\n",
              "    </tr>\n",
              "  </tbody>\n",
              "</table>\n",
              "</div>"
            ],
            "text/plain": [
              "        total  speeding  alcohol  not_distracted  no_previous\n",
              "abbrev                                                       \n",
              "AR       22.4     4.032    5.824          21.056       21.280\n",
              "AL       18.8     7.332    5.640          18.048       15.040\n",
              "AZ       18.6     6.510    5.208          15.624       17.856\n",
              "AK       18.1     7.421    4.525          16.290       17.014\n",
              "CA       12.0     4.200    3.360          10.920       10.680"
            ]
          },
          "metadata": {
            "tags": []
          },
          "execution_count": 6
        }
      ]
    },
    {
      "cell_type": "markdown",
      "metadata": {
        "id": "QJDZcoQJUdmD"
      },
      "source": [
        "#### 2-1) value 1개 선택하기 "
      ]
    },
    {
      "cell_type": "code",
      "metadata": {
        "colab": {
          "base_uri": "https://localhost:8080/"
        },
        "id": "6xKz1Df9TDHO",
        "outputId": "01e44651-1e5a-4ccf-f838-60cf9bc88b5a"
      },
      "source": [
        "# 방법 1\n",
        "df.loc[\"CA\", \"total\"]"
      ],
      "execution_count": 7,
      "outputs": [
        {
          "output_type": "execute_result",
          "data": {
            "text/plain": [
              "12.0"
            ]
          },
          "metadata": {
            "tags": []
          },
          "execution_count": 7
        }
      ]
    },
    {
      "cell_type": "code",
      "metadata": {
        "colab": {
          "base_uri": "https://localhost:8080/"
        },
        "id": "y6rncpLfUawa",
        "outputId": "a478ae11-ed56-4978-e2d8-4028ff43cbfb"
      },
      "source": [
        "# 방법 2\n",
        "df.iloc[4, 0]"
      ],
      "execution_count": 8,
      "outputs": [
        {
          "output_type": "execute_result",
          "data": {
            "text/plain": [
              "12.0"
            ]
          },
          "metadata": {
            "tags": []
          },
          "execution_count": 8
        }
      ]
    },
    {
      "cell_type": "markdown",
      "metadata": {
        "id": "2htnz4jOVfHV"
      },
      "source": [
        "### 2-2) index(row) 받아오기"
      ]
    },
    {
      "cell_type": "code",
      "metadata": {
        "colab": {
          "base_uri": "https://localhost:8080/"
        },
        "id": "ChFzf-VFU3p9",
        "outputId": "0c3ad868-db69-4bbf-8f49-f020a99dbc86"
      },
      "source": [
        "# 기본적으로 아래와 같이 써주는게 인덱스의 기본입니다. \n",
        "# 방법1 \n",
        "df.loc[\"AR\", :] "
      ],
      "execution_count": 9,
      "outputs": [
        {
          "output_type": "execute_result",
          "data": {
            "text/plain": [
              "total             22.400\n",
              "speeding           4.032\n",
              "alcohol            5.824\n",
              "not_distracted    21.056\n",
              "no_previous       21.280\n",
              "Name: AR, dtype: float64"
            ]
          },
          "metadata": {
            "tags": []
          },
          "execution_count": 9
        }
      ]
    },
    {
      "cell_type": "code",
      "metadata": {
        "colab": {
          "base_uri": "https://localhost:8080/"
        },
        "id": "5bSyc3kgWaYI",
        "outputId": "e0abba5a-6746-44f7-bee4-807348b56fd1"
      },
      "source": [
        "# 그런데 저렇게 다 쓰기가 귀찮죠? 그래서 뺄 수는 건 빼서 씁니다. \n",
        "# 방법2\n",
        "df.loc[\"AR\"] "
      ],
      "execution_count": 10,
      "outputs": [
        {
          "output_type": "execute_result",
          "data": {
            "text/plain": [
              "total             22.400\n",
              "speeding           4.032\n",
              "alcohol            5.824\n",
              "not_distracted    21.056\n",
              "no_previous       21.280\n",
              "Name: AR, dtype: float64"
            ]
          },
          "metadata": {
            "tags": []
          },
          "execution_count": 10
        }
      ]
    },
    {
      "cell_type": "code",
      "metadata": {
        "colab": {
          "base_uri": "https://localhost:8080/"
        },
        "id": "zJQi091BVkTU",
        "outputId": "63d0b0c7-7d6c-423c-9acf-96318d5621ab"
      },
      "source": [
        "# 그래도 귀찮고 데이터가 많아지면 column이름을 일일이 찾기 힘들어서 iloc를 이용하여 슬라이싱을 진행한다.\n",
        "# 방법3\n",
        "df.iloc[0] # 뒤쪽 콜론을 생략하여 사용할 수 있습니다.  "
      ],
      "execution_count": 11,
      "outputs": [
        {
          "output_type": "execute_result",
          "data": {
            "text/plain": [
              "total             18.800\n",
              "speeding           7.332\n",
              "alcohol            5.640\n",
              "not_distracted    18.048\n",
              "no_previous       15.040\n",
              "Name: AL, dtype: float64"
            ]
          },
          "metadata": {
            "tags": []
          },
          "execution_count": 11
        }
      ]
    },
    {
      "cell_type": "code",
      "metadata": {
        "colab": {
          "base_uri": "https://localhost:8080/",
          "height": 235
        },
        "id": "N9tzrUOEXzu4",
        "outputId": "efa58140-7de0-4478-d535-855b228b025d"
      },
      "source": [
        "# 연속된 row 받아오기\n",
        "# 방법4\n",
        "df.loc[:\"CA\"]"
      ],
      "execution_count": 12,
      "outputs": [
        {
          "output_type": "execute_result",
          "data": {
            "text/html": [
              "<div>\n",
              "<style scoped>\n",
              "    .dataframe tbody tr th:only-of-type {\n",
              "        vertical-align: middle;\n",
              "    }\n",
              "\n",
              "    .dataframe tbody tr th {\n",
              "        vertical-align: top;\n",
              "    }\n",
              "\n",
              "    .dataframe thead th {\n",
              "        text-align: right;\n",
              "    }\n",
              "</style>\n",
              "<table border=\"1\" class=\"dataframe\">\n",
              "  <thead>\n",
              "    <tr style=\"text-align: right;\">\n",
              "      <th></th>\n",
              "      <th>total</th>\n",
              "      <th>speeding</th>\n",
              "      <th>alcohol</th>\n",
              "      <th>not_distracted</th>\n",
              "      <th>no_previous</th>\n",
              "    </tr>\n",
              "    <tr>\n",
              "      <th>abbrev</th>\n",
              "      <th></th>\n",
              "      <th></th>\n",
              "      <th></th>\n",
              "      <th></th>\n",
              "      <th></th>\n",
              "    </tr>\n",
              "  </thead>\n",
              "  <tbody>\n",
              "    <tr>\n",
              "      <th>AL</th>\n",
              "      <td>18.8</td>\n",
              "      <td>7.332</td>\n",
              "      <td>5.640</td>\n",
              "      <td>18.048</td>\n",
              "      <td>15.040</td>\n",
              "    </tr>\n",
              "    <tr>\n",
              "      <th>AK</th>\n",
              "      <td>18.1</td>\n",
              "      <td>7.421</td>\n",
              "      <td>4.525</td>\n",
              "      <td>16.290</td>\n",
              "      <td>17.014</td>\n",
              "    </tr>\n",
              "    <tr>\n",
              "      <th>AZ</th>\n",
              "      <td>18.6</td>\n",
              "      <td>6.510</td>\n",
              "      <td>5.208</td>\n",
              "      <td>15.624</td>\n",
              "      <td>17.856</td>\n",
              "    </tr>\n",
              "    <tr>\n",
              "      <th>AR</th>\n",
              "      <td>22.4</td>\n",
              "      <td>4.032</td>\n",
              "      <td>5.824</td>\n",
              "      <td>21.056</td>\n",
              "      <td>21.280</td>\n",
              "    </tr>\n",
              "    <tr>\n",
              "      <th>CA</th>\n",
              "      <td>12.0</td>\n",
              "      <td>4.200</td>\n",
              "      <td>3.360</td>\n",
              "      <td>10.920</td>\n",
              "      <td>10.680</td>\n",
              "    </tr>\n",
              "  </tbody>\n",
              "</table>\n",
              "</div>"
            ],
            "text/plain": [
              "        total  speeding  alcohol  not_distracted  no_previous\n",
              "abbrev                                                       \n",
              "AL       18.8     7.332    5.640          18.048       15.040\n",
              "AK       18.1     7.421    4.525          16.290       17.014\n",
              "AZ       18.6     6.510    5.208          15.624       17.856\n",
              "AR       22.4     4.032    5.824          21.056       21.280\n",
              "CA       12.0     4.200    3.360          10.920       10.680"
            ]
          },
          "metadata": {
            "tags": []
          },
          "execution_count": 12
        }
      ]
    },
    {
      "cell_type": "code",
      "metadata": {
        "colab": {
          "base_uri": "https://localhost:8080/",
          "height": 173
        },
        "id": "iFr2WNv_XX5U",
        "outputId": "98050eae-28d6-469c-ea51-1aa74afca031"
      },
      "source": [
        "# 연속되지 않는 row 받아오기 \n",
        "# 방법5\n",
        "df.loc[[\"AR\", \"CA\", \"AK\"]]\n",
        "\n",
        "# 여기서 포인트는 []를 두번쓰는 것이다! \n",
        "# 잊기 쉬운 정보이니 잘 기억해둘것!! 리스트에 넣어준다고 생각해야함 "
      ],
      "execution_count": 13,
      "outputs": [
        {
          "output_type": "execute_result",
          "data": {
            "text/html": [
              "<div>\n",
              "<style scoped>\n",
              "    .dataframe tbody tr th:only-of-type {\n",
              "        vertical-align: middle;\n",
              "    }\n",
              "\n",
              "    .dataframe tbody tr th {\n",
              "        vertical-align: top;\n",
              "    }\n",
              "\n",
              "    .dataframe thead th {\n",
              "        text-align: right;\n",
              "    }\n",
              "</style>\n",
              "<table border=\"1\" class=\"dataframe\">\n",
              "  <thead>\n",
              "    <tr style=\"text-align: right;\">\n",
              "      <th></th>\n",
              "      <th>total</th>\n",
              "      <th>speeding</th>\n",
              "      <th>alcohol</th>\n",
              "      <th>not_distracted</th>\n",
              "      <th>no_previous</th>\n",
              "    </tr>\n",
              "    <tr>\n",
              "      <th>abbrev</th>\n",
              "      <th></th>\n",
              "      <th></th>\n",
              "      <th></th>\n",
              "      <th></th>\n",
              "      <th></th>\n",
              "    </tr>\n",
              "  </thead>\n",
              "  <tbody>\n",
              "    <tr>\n",
              "      <th>AR</th>\n",
              "      <td>22.4</td>\n",
              "      <td>4.032</td>\n",
              "      <td>5.824</td>\n",
              "      <td>21.056</td>\n",
              "      <td>21.280</td>\n",
              "    </tr>\n",
              "    <tr>\n",
              "      <th>CA</th>\n",
              "      <td>12.0</td>\n",
              "      <td>4.200</td>\n",
              "      <td>3.360</td>\n",
              "      <td>10.920</td>\n",
              "      <td>10.680</td>\n",
              "    </tr>\n",
              "    <tr>\n",
              "      <th>AK</th>\n",
              "      <td>18.1</td>\n",
              "      <td>7.421</td>\n",
              "      <td>4.525</td>\n",
              "      <td>16.290</td>\n",
              "      <td>17.014</td>\n",
              "    </tr>\n",
              "  </tbody>\n",
              "</table>\n",
              "</div>"
            ],
            "text/plain": [
              "        total  speeding  alcohol  not_distracted  no_previous\n",
              "abbrev                                                       \n",
              "AR       22.4     4.032    5.824          21.056       21.280\n",
              "CA       12.0     4.200    3.360          10.920       10.680\n",
              "AK       18.1     7.421    4.525          16.290       17.014"
            ]
          },
          "metadata": {
            "tags": []
          },
          "execution_count": 13
        }
      ]
    },
    {
      "cell_type": "markdown",
      "metadata": {
        "id": "R2d5geDeXNC5"
      },
      "source": [
        "### 2-3) column 받아오기"
      ]
    },
    {
      "cell_type": "code",
      "metadata": {
        "colab": {
          "base_uri": "https://localhost:8080/"
        },
        "id": "lW4u9980WReE",
        "outputId": "0b20613c-af32-4d6c-910c-26924689af5a"
      },
      "source": [
        "#coloumn값 받아오기 \n",
        "#방법1\n",
        "df.loc[:, \"alcohol\"]"
      ],
      "execution_count": 14,
      "outputs": [
        {
          "output_type": "execute_result",
          "data": {
            "text/plain": [
              "abbrev\n",
              "AL    5.640\n",
              "AK    4.525\n",
              "AZ    5.208\n",
              "AR    5.824\n",
              "CA    3.360\n",
              "Name: alcohol, dtype: float64"
            ]
          },
          "metadata": {
            "tags": []
          },
          "execution_count": 14
        }
      ]
    },
    {
      "cell_type": "code",
      "metadata": {
        "colab": {
          "base_uri": "https://localhost:8080/"
        },
        "id": "SSmOieIZYSlQ",
        "outputId": "d189cad7-b30e-47cb-dc7e-309ad2aa18d9"
      },
      "source": [
        "#방법2 \n",
        "df[\"alcohol\"]"
      ],
      "execution_count": 15,
      "outputs": [
        {
          "output_type": "execute_result",
          "data": {
            "text/plain": [
              "abbrev\n",
              "AL    5.640\n",
              "AK    4.525\n",
              "AZ    5.208\n",
              "AR    5.824\n",
              "CA    3.360\n",
              "Name: alcohol, dtype: float64"
            ]
          },
          "metadata": {
            "tags": []
          },
          "execution_count": 15
        }
      ]
    },
    {
      "cell_type": "code",
      "metadata": {
        "colab": {
          "base_uri": "https://localhost:8080/",
          "height": 235
        },
        "id": "tYfwclA2YSbf",
        "outputId": "341c29a0-42b1-4f8d-9b54-2c4413344a21"
      },
      "source": [
        "# 연속된 컬럼 받아오기\n",
        "#방법3\n",
        "df.iloc[:, 3:5]"
      ],
      "execution_count": 16,
      "outputs": [
        {
          "output_type": "execute_result",
          "data": {
            "text/html": [
              "<div>\n",
              "<style scoped>\n",
              "    .dataframe tbody tr th:only-of-type {\n",
              "        vertical-align: middle;\n",
              "    }\n",
              "\n",
              "    .dataframe tbody tr th {\n",
              "        vertical-align: top;\n",
              "    }\n",
              "\n",
              "    .dataframe thead th {\n",
              "        text-align: right;\n",
              "    }\n",
              "</style>\n",
              "<table border=\"1\" class=\"dataframe\">\n",
              "  <thead>\n",
              "    <tr style=\"text-align: right;\">\n",
              "      <th></th>\n",
              "      <th>not_distracted</th>\n",
              "      <th>no_previous</th>\n",
              "    </tr>\n",
              "    <tr>\n",
              "      <th>abbrev</th>\n",
              "      <th></th>\n",
              "      <th></th>\n",
              "    </tr>\n",
              "  </thead>\n",
              "  <tbody>\n",
              "    <tr>\n",
              "      <th>AL</th>\n",
              "      <td>18.048</td>\n",
              "      <td>15.040</td>\n",
              "    </tr>\n",
              "    <tr>\n",
              "      <th>AK</th>\n",
              "      <td>16.290</td>\n",
              "      <td>17.014</td>\n",
              "    </tr>\n",
              "    <tr>\n",
              "      <th>AZ</th>\n",
              "      <td>15.624</td>\n",
              "      <td>17.856</td>\n",
              "    </tr>\n",
              "    <tr>\n",
              "      <th>AR</th>\n",
              "      <td>21.056</td>\n",
              "      <td>21.280</td>\n",
              "    </tr>\n",
              "    <tr>\n",
              "      <th>CA</th>\n",
              "      <td>10.920</td>\n",
              "      <td>10.680</td>\n",
              "    </tr>\n",
              "  </tbody>\n",
              "</table>\n",
              "</div>"
            ],
            "text/plain": [
              "        not_distracted  no_previous\n",
              "abbrev                             \n",
              "AL              18.048       15.040\n",
              "AK              16.290       17.014\n",
              "AZ              15.624       17.856\n",
              "AR              21.056       21.280\n",
              "CA              10.920       10.680"
            ]
          },
          "metadata": {
            "tags": []
          },
          "execution_count": 16
        }
      ]
    },
    {
      "cell_type": "code",
      "metadata": {
        "colab": {
          "base_uri": "https://localhost:8080/",
          "height": 235
        },
        "id": "yNJKWmv4YSRB",
        "outputId": "f6efad44-2ab4-4c51-e575-f54955565915"
      },
      "source": [
        "# 연속되지 않은 여러 개의 clumn 받아오기 \n",
        "\n",
        "df[[\"total\", \"alcohol\"]]\n",
        "\n",
        "# 여기서 포인트는 []를 두번쓰는 것이다! \n",
        "# 잊기 쉬운 정보이니 잘 기억해둘것!! 리스트에 넣어준다고 생각해야함 "
      ],
      "execution_count": 17,
      "outputs": [
        {
          "output_type": "execute_result",
          "data": {
            "text/html": [
              "<div>\n",
              "<style scoped>\n",
              "    .dataframe tbody tr th:only-of-type {\n",
              "        vertical-align: middle;\n",
              "    }\n",
              "\n",
              "    .dataframe tbody tr th {\n",
              "        vertical-align: top;\n",
              "    }\n",
              "\n",
              "    .dataframe thead th {\n",
              "        text-align: right;\n",
              "    }\n",
              "</style>\n",
              "<table border=\"1\" class=\"dataframe\">\n",
              "  <thead>\n",
              "    <tr style=\"text-align: right;\">\n",
              "      <th></th>\n",
              "      <th>total</th>\n",
              "      <th>alcohol</th>\n",
              "    </tr>\n",
              "    <tr>\n",
              "      <th>abbrev</th>\n",
              "      <th></th>\n",
              "      <th></th>\n",
              "    </tr>\n",
              "  </thead>\n",
              "  <tbody>\n",
              "    <tr>\n",
              "      <th>AL</th>\n",
              "      <td>18.8</td>\n",
              "      <td>5.640</td>\n",
              "    </tr>\n",
              "    <tr>\n",
              "      <th>AK</th>\n",
              "      <td>18.1</td>\n",
              "      <td>4.525</td>\n",
              "    </tr>\n",
              "    <tr>\n",
              "      <th>AZ</th>\n",
              "      <td>18.6</td>\n",
              "      <td>5.208</td>\n",
              "    </tr>\n",
              "    <tr>\n",
              "      <th>AR</th>\n",
              "      <td>22.4</td>\n",
              "      <td>5.824</td>\n",
              "    </tr>\n",
              "    <tr>\n",
              "      <th>CA</th>\n",
              "      <td>12.0</td>\n",
              "      <td>3.360</td>\n",
              "    </tr>\n",
              "  </tbody>\n",
              "</table>\n",
              "</div>"
            ],
            "text/plain": [
              "        total  alcohol\n",
              "abbrev                \n",
              "AL       18.8    5.640\n",
              "AK       18.1    4.525\n",
              "AZ       18.6    5.208\n",
              "AR       22.4    5.824\n",
              "CA       12.0    3.360"
            ]
          },
          "metadata": {
            "tags": []
          },
          "execution_count": 17
        }
      ]
    },
    {
      "cell_type": "markdown",
      "metadata": {
        "id": "lX8PSNJNY082"
      },
      "source": [
        "### 2-4) Boolean으로 data 분류하기"
      ]
    },
    {
      "cell_type": "code",
      "metadata": {
        "colab": {
          "base_uri": "https://localhost:8080/"
        },
        "id": "ZBoDSXi9Y0Ge",
        "outputId": "c72a4ea6-bd8d-44f1-a965-1576c8d52fab"
      },
      "source": [
        "# cloumn \"total\"에서 18이 넘는 값을 data라는 변수에 넣어주세요 라는 말입니다. \n",
        "data = df[\"total\"] > 18\n",
        "data"
      ],
      "execution_count": 18,
      "outputs": [
        {
          "output_type": "execute_result",
          "data": {
            "text/plain": [
              "abbrev\n",
              "AL     True\n",
              "AK     True\n",
              "AZ     True\n",
              "AR     True\n",
              "CA    False\n",
              "Name: total, dtype: bool"
            ]
          },
          "metadata": {
            "tags": []
          },
          "execution_count": 18
        }
      ]
    },
    {
      "cell_type": "code",
      "metadata": {
        "colab": {
          "base_uri": "https://localhost:8080/",
          "height": 204
        },
        "id": "6M326oVUYdgS",
        "outputId": "4ec4654a-30f1-4248-a712-474ddf07b05b"
      },
      "source": [
        "# 변수 data를 아래와 같이 넣어주어 true 값만 출력할 수 있다. \n",
        "df.loc[data]"
      ],
      "execution_count": 19,
      "outputs": [
        {
          "output_type": "execute_result",
          "data": {
            "text/html": [
              "<div>\n",
              "<style scoped>\n",
              "    .dataframe tbody tr th:only-of-type {\n",
              "        vertical-align: middle;\n",
              "    }\n",
              "\n",
              "    .dataframe tbody tr th {\n",
              "        vertical-align: top;\n",
              "    }\n",
              "\n",
              "    .dataframe thead th {\n",
              "        text-align: right;\n",
              "    }\n",
              "</style>\n",
              "<table border=\"1\" class=\"dataframe\">\n",
              "  <thead>\n",
              "    <tr style=\"text-align: right;\">\n",
              "      <th></th>\n",
              "      <th>total</th>\n",
              "      <th>speeding</th>\n",
              "      <th>alcohol</th>\n",
              "      <th>not_distracted</th>\n",
              "      <th>no_previous</th>\n",
              "    </tr>\n",
              "    <tr>\n",
              "      <th>abbrev</th>\n",
              "      <th></th>\n",
              "      <th></th>\n",
              "      <th></th>\n",
              "      <th></th>\n",
              "      <th></th>\n",
              "    </tr>\n",
              "  </thead>\n",
              "  <tbody>\n",
              "    <tr>\n",
              "      <th>AL</th>\n",
              "      <td>18.8</td>\n",
              "      <td>7.332</td>\n",
              "      <td>5.640</td>\n",
              "      <td>18.048</td>\n",
              "      <td>15.040</td>\n",
              "    </tr>\n",
              "    <tr>\n",
              "      <th>AK</th>\n",
              "      <td>18.1</td>\n",
              "      <td>7.421</td>\n",
              "      <td>4.525</td>\n",
              "      <td>16.290</td>\n",
              "      <td>17.014</td>\n",
              "    </tr>\n",
              "    <tr>\n",
              "      <th>AZ</th>\n",
              "      <td>18.6</td>\n",
              "      <td>6.510</td>\n",
              "      <td>5.208</td>\n",
              "      <td>15.624</td>\n",
              "      <td>17.856</td>\n",
              "    </tr>\n",
              "    <tr>\n",
              "      <th>AR</th>\n",
              "      <td>22.4</td>\n",
              "      <td>4.032</td>\n",
              "      <td>5.824</td>\n",
              "      <td>21.056</td>\n",
              "      <td>21.280</td>\n",
              "    </tr>\n",
              "  </tbody>\n",
              "</table>\n",
              "</div>"
            ],
            "text/plain": [
              "        total  speeding  alcohol  not_distracted  no_previous\n",
              "abbrev                                                       \n",
              "AL       18.8     7.332    5.640          18.048       15.040\n",
              "AK       18.1     7.421    4.525          16.290       17.014\n",
              "AZ       18.6     6.510    5.208          15.624       17.856\n",
              "AR       22.4     4.032    5.824          21.056       21.280"
            ]
          },
          "metadata": {
            "tags": []
          },
          "execution_count": 19
        }
      ]
    },
    {
      "cell_type": "code",
      "metadata": {
        "colab": {
          "base_uri": "https://localhost:8080/"
        },
        "id": "XtZ8GWhVZSZt",
        "outputId": "4dee7b79-47c5-4fec-cee1-eb40f066151b"
      },
      "source": [
        "data1 = df[\"total\"] == 18.8\n",
        "data1"
      ],
      "execution_count": 20,
      "outputs": [
        {
          "output_type": "execute_result",
          "data": {
            "text/plain": [
              "abbrev\n",
              "AL     True\n",
              "AK    False\n",
              "AZ    False\n",
              "AR    False\n",
              "CA    False\n",
              "Name: total, dtype: bool"
            ]
          },
          "metadata": {
            "tags": []
          },
          "execution_count": 20
        }
      ]
    },
    {
      "cell_type": "code",
      "metadata": {
        "colab": {
          "base_uri": "https://localhost:8080/",
          "height": 111
        },
        "id": "vG86l98RZhxi",
        "outputId": "1ba65912-eba6-4033-8c7a-2aa1c93e363d"
      },
      "source": [
        "# 위와 같이 data1을 아래와 같이 적어주면 해당되는 값만 출력이 된다. \n",
        "df.loc[data1]"
      ],
      "execution_count": 21,
      "outputs": [
        {
          "output_type": "execute_result",
          "data": {
            "text/html": [
              "<div>\n",
              "<style scoped>\n",
              "    .dataframe tbody tr th:only-of-type {\n",
              "        vertical-align: middle;\n",
              "    }\n",
              "\n",
              "    .dataframe tbody tr th {\n",
              "        vertical-align: top;\n",
              "    }\n",
              "\n",
              "    .dataframe thead th {\n",
              "        text-align: right;\n",
              "    }\n",
              "</style>\n",
              "<table border=\"1\" class=\"dataframe\">\n",
              "  <thead>\n",
              "    <tr style=\"text-align: right;\">\n",
              "      <th></th>\n",
              "      <th>total</th>\n",
              "      <th>speeding</th>\n",
              "      <th>alcohol</th>\n",
              "      <th>not_distracted</th>\n",
              "      <th>no_previous</th>\n",
              "    </tr>\n",
              "    <tr>\n",
              "      <th>abbrev</th>\n",
              "      <th></th>\n",
              "      <th></th>\n",
              "      <th></th>\n",
              "      <th></th>\n",
              "      <th></th>\n",
              "    </tr>\n",
              "  </thead>\n",
              "  <tbody>\n",
              "    <tr>\n",
              "      <th>AL</th>\n",
              "      <td>18.8</td>\n",
              "      <td>7.332</td>\n",
              "      <td>5.64</td>\n",
              "      <td>18.048</td>\n",
              "      <td>15.04</td>\n",
              "    </tr>\n",
              "  </tbody>\n",
              "</table>\n",
              "</div>"
            ],
            "text/plain": [
              "        total  speeding  alcohol  not_distracted  no_previous\n",
              "abbrev                                                       \n",
              "AL       18.8     7.332     5.64          18.048        15.04"
            ]
          },
          "metadata": {
            "tags": []
          },
          "execution_count": 21
        }
      ]
    },
    {
      "cell_type": "code",
      "metadata": {
        "colab": {
          "base_uri": "https://localhost:8080/",
          "height": 111
        },
        "id": "UYmyIk6DZ0tJ",
        "outputId": "a95975b0-7541-42fb-8010-2ec739eb8936"
      },
      "source": [
        "# 위의 조건을 &(and)와 |(or)을 이용하여 합질 수도 있고, 이를 변수에 넣어 위와 같이 원하는 데이터를 출력할 수도 있다\n",
        "condition = data & data1\n",
        "df.loc[condition]\n",
        "\n",
        "# 18.8에 해당되는 데이터는 AL 밖에 없으므로 아래와 같이 출력된다 "
      ],
      "execution_count": 22,
      "outputs": [
        {
          "output_type": "execute_result",
          "data": {
            "text/html": [
              "<div>\n",
              "<style scoped>\n",
              "    .dataframe tbody tr th:only-of-type {\n",
              "        vertical-align: middle;\n",
              "    }\n",
              "\n",
              "    .dataframe tbody tr th {\n",
              "        vertical-align: top;\n",
              "    }\n",
              "\n",
              "    .dataframe thead th {\n",
              "        text-align: right;\n",
              "    }\n",
              "</style>\n",
              "<table border=\"1\" class=\"dataframe\">\n",
              "  <thead>\n",
              "    <tr style=\"text-align: right;\">\n",
              "      <th></th>\n",
              "      <th>total</th>\n",
              "      <th>speeding</th>\n",
              "      <th>alcohol</th>\n",
              "      <th>not_distracted</th>\n",
              "      <th>no_previous</th>\n",
              "    </tr>\n",
              "    <tr>\n",
              "      <th>abbrev</th>\n",
              "      <th></th>\n",
              "      <th></th>\n",
              "      <th></th>\n",
              "      <th></th>\n",
              "      <th></th>\n",
              "    </tr>\n",
              "  </thead>\n",
              "  <tbody>\n",
              "    <tr>\n",
              "      <th>AL</th>\n",
              "      <td>18.8</td>\n",
              "      <td>7.332</td>\n",
              "      <td>5.64</td>\n",
              "      <td>18.048</td>\n",
              "      <td>15.04</td>\n",
              "    </tr>\n",
              "  </tbody>\n",
              "</table>\n",
              "</div>"
            ],
            "text/plain": [
              "        total  speeding  alcohol  not_distracted  no_previous\n",
              "abbrev                                                       \n",
              "AL       18.8     7.332     5.64          18.048        15.04"
            ]
          },
          "metadata": {
            "tags": []
          },
          "execution_count": 22
        }
      ]
    },
    {
      "cell_type": "markdown",
      "metadata": {
        "id": "MD45ZoOEamJC"
      },
      "source": [
        "### 2-5) 데이터 값 변경\n"
      ]
    },
    {
      "cell_type": "code",
      "metadata": {
        "colab": {
          "base_uri": "https://localhost:8080/",
          "height": 235
        },
        "id": "hbdUvd9NaMQf",
        "outputId": "e5eecf6f-1d49-41e8-acc5-a6748162ae38"
      },
      "source": [
        "# 18.8을 10으로 변경해보자!\n",
        "# 지금 이 블로그를 쭉~ 실습해서 오고 있으신 분들은 정말 대단합니다. \n",
        "# 중간중간 휴식을 꼭 가지시고, 다시 한번 집중을 해보죠 사실 지금부터가 진짜입니다. \n",
        "\n",
        "# 방법1 : 데이터 딱 1개만 바꾸는 방법 \n",
        "df.loc[\"AL\", \"total\"] = 10\n",
        "df"
      ],
      "execution_count": 23,
      "outputs": [
        {
          "output_type": "execute_result",
          "data": {
            "text/html": [
              "<div>\n",
              "<style scoped>\n",
              "    .dataframe tbody tr th:only-of-type {\n",
              "        vertical-align: middle;\n",
              "    }\n",
              "\n",
              "    .dataframe tbody tr th {\n",
              "        vertical-align: top;\n",
              "    }\n",
              "\n",
              "    .dataframe thead th {\n",
              "        text-align: right;\n",
              "    }\n",
              "</style>\n",
              "<table border=\"1\" class=\"dataframe\">\n",
              "  <thead>\n",
              "    <tr style=\"text-align: right;\">\n",
              "      <th></th>\n",
              "      <th>total</th>\n",
              "      <th>speeding</th>\n",
              "      <th>alcohol</th>\n",
              "      <th>not_distracted</th>\n",
              "      <th>no_previous</th>\n",
              "    </tr>\n",
              "    <tr>\n",
              "      <th>abbrev</th>\n",
              "      <th></th>\n",
              "      <th></th>\n",
              "      <th></th>\n",
              "      <th></th>\n",
              "      <th></th>\n",
              "    </tr>\n",
              "  </thead>\n",
              "  <tbody>\n",
              "    <tr>\n",
              "      <th>AL</th>\n",
              "      <td>10.0</td>\n",
              "      <td>7.332</td>\n",
              "      <td>5.640</td>\n",
              "      <td>18.048</td>\n",
              "      <td>15.040</td>\n",
              "    </tr>\n",
              "    <tr>\n",
              "      <th>AK</th>\n",
              "      <td>18.1</td>\n",
              "      <td>7.421</td>\n",
              "      <td>4.525</td>\n",
              "      <td>16.290</td>\n",
              "      <td>17.014</td>\n",
              "    </tr>\n",
              "    <tr>\n",
              "      <th>AZ</th>\n",
              "      <td>18.6</td>\n",
              "      <td>6.510</td>\n",
              "      <td>5.208</td>\n",
              "      <td>15.624</td>\n",
              "      <td>17.856</td>\n",
              "    </tr>\n",
              "    <tr>\n",
              "      <th>AR</th>\n",
              "      <td>22.4</td>\n",
              "      <td>4.032</td>\n",
              "      <td>5.824</td>\n",
              "      <td>21.056</td>\n",
              "      <td>21.280</td>\n",
              "    </tr>\n",
              "    <tr>\n",
              "      <th>CA</th>\n",
              "      <td>12.0</td>\n",
              "      <td>4.200</td>\n",
              "      <td>3.360</td>\n",
              "      <td>10.920</td>\n",
              "      <td>10.680</td>\n",
              "    </tr>\n",
              "  </tbody>\n",
              "</table>\n",
              "</div>"
            ],
            "text/plain": [
              "        total  speeding  alcohol  not_distracted  no_previous\n",
              "abbrev                                                       \n",
              "AL       10.0     7.332    5.640          18.048       15.040\n",
              "AK       18.1     7.421    4.525          16.290       17.014\n",
              "AZ       18.6     6.510    5.208          15.624       17.856\n",
              "AR       22.4     4.032    5.824          21.056       21.280\n",
              "CA       12.0     4.200    3.360          10.920       10.680"
            ]
          },
          "metadata": {
            "tags": []
          },
          "execution_count": 23
        }
      ]
    },
    {
      "cell_type": "code",
      "metadata": {
        "colab": {
          "base_uri": "https://localhost:8080/",
          "height": 235
        },
        "id": "xBScxX7xayfx",
        "outputId": "b1765fc9-23a0-45ec-df19-f52e12fee746"
      },
      "source": [
        "# 방법2 : 열의 모든 값을 동일한 값으로 변경하는 방법 \n",
        "df[\"total\"] = 1000\n",
        "df\n",
        "\n",
        "# row는 확인해보세요. 어렵지 않습니다. "
      ],
      "execution_count": 24,
      "outputs": [
        {
          "output_type": "execute_result",
          "data": {
            "text/html": [
              "<div>\n",
              "<style scoped>\n",
              "    .dataframe tbody tr th:only-of-type {\n",
              "        vertical-align: middle;\n",
              "    }\n",
              "\n",
              "    .dataframe tbody tr th {\n",
              "        vertical-align: top;\n",
              "    }\n",
              "\n",
              "    .dataframe thead th {\n",
              "        text-align: right;\n",
              "    }\n",
              "</style>\n",
              "<table border=\"1\" class=\"dataframe\">\n",
              "  <thead>\n",
              "    <tr style=\"text-align: right;\">\n",
              "      <th></th>\n",
              "      <th>total</th>\n",
              "      <th>speeding</th>\n",
              "      <th>alcohol</th>\n",
              "      <th>not_distracted</th>\n",
              "      <th>no_previous</th>\n",
              "    </tr>\n",
              "    <tr>\n",
              "      <th>abbrev</th>\n",
              "      <th></th>\n",
              "      <th></th>\n",
              "      <th></th>\n",
              "      <th></th>\n",
              "      <th></th>\n",
              "    </tr>\n",
              "  </thead>\n",
              "  <tbody>\n",
              "    <tr>\n",
              "      <th>AL</th>\n",
              "      <td>1000</td>\n",
              "      <td>7.332</td>\n",
              "      <td>5.640</td>\n",
              "      <td>18.048</td>\n",
              "      <td>15.040</td>\n",
              "    </tr>\n",
              "    <tr>\n",
              "      <th>AK</th>\n",
              "      <td>1000</td>\n",
              "      <td>7.421</td>\n",
              "      <td>4.525</td>\n",
              "      <td>16.290</td>\n",
              "      <td>17.014</td>\n",
              "    </tr>\n",
              "    <tr>\n",
              "      <th>AZ</th>\n",
              "      <td>1000</td>\n",
              "      <td>6.510</td>\n",
              "      <td>5.208</td>\n",
              "      <td>15.624</td>\n",
              "      <td>17.856</td>\n",
              "    </tr>\n",
              "    <tr>\n",
              "      <th>AR</th>\n",
              "      <td>1000</td>\n",
              "      <td>4.032</td>\n",
              "      <td>5.824</td>\n",
              "      <td>21.056</td>\n",
              "      <td>21.280</td>\n",
              "    </tr>\n",
              "    <tr>\n",
              "      <th>CA</th>\n",
              "      <td>1000</td>\n",
              "      <td>4.200</td>\n",
              "      <td>3.360</td>\n",
              "      <td>10.920</td>\n",
              "      <td>10.680</td>\n",
              "    </tr>\n",
              "  </tbody>\n",
              "</table>\n",
              "</div>"
            ],
            "text/plain": [
              "        total  speeding  alcohol  not_distracted  no_previous\n",
              "abbrev                                                       \n",
              "AL       1000     7.332    5.640          18.048       15.040\n",
              "AK       1000     7.421    4.525          16.290       17.014\n",
              "AZ       1000     6.510    5.208          15.624       17.856\n",
              "AR       1000     4.032    5.824          21.056       21.280\n",
              "CA       1000     4.200    3.360          10.920       10.680"
            ]
          },
          "metadata": {
            "tags": []
          },
          "execution_count": 24
        }
      ]
    },
    {
      "cell_type": "code",
      "metadata": {
        "colab": {
          "base_uri": "https://localhost:8080/",
          "height": 235
        },
        "id": "RNmz5dlqkAWH",
        "outputId": "6d250d40-a213-4f66-accf-2d2bc7e5f2d0"
      },
      "source": [
        "# column 추가하는 방법 \n",
        "df[\"test\"] = \"test\"\n",
        "df"
      ],
      "execution_count": 25,
      "outputs": [
        {
          "output_type": "execute_result",
          "data": {
            "text/html": [
              "<div>\n",
              "<style scoped>\n",
              "    .dataframe tbody tr th:only-of-type {\n",
              "        vertical-align: middle;\n",
              "    }\n",
              "\n",
              "    .dataframe tbody tr th {\n",
              "        vertical-align: top;\n",
              "    }\n",
              "\n",
              "    .dataframe thead th {\n",
              "        text-align: right;\n",
              "    }\n",
              "</style>\n",
              "<table border=\"1\" class=\"dataframe\">\n",
              "  <thead>\n",
              "    <tr style=\"text-align: right;\">\n",
              "      <th></th>\n",
              "      <th>total</th>\n",
              "      <th>speeding</th>\n",
              "      <th>alcohol</th>\n",
              "      <th>not_distracted</th>\n",
              "      <th>no_previous</th>\n",
              "      <th>test</th>\n",
              "    </tr>\n",
              "    <tr>\n",
              "      <th>abbrev</th>\n",
              "      <th></th>\n",
              "      <th></th>\n",
              "      <th></th>\n",
              "      <th></th>\n",
              "      <th></th>\n",
              "      <th></th>\n",
              "    </tr>\n",
              "  </thead>\n",
              "  <tbody>\n",
              "    <tr>\n",
              "      <th>AL</th>\n",
              "      <td>1000</td>\n",
              "      <td>7.332</td>\n",
              "      <td>5.640</td>\n",
              "      <td>18.048</td>\n",
              "      <td>15.040</td>\n",
              "      <td>test</td>\n",
              "    </tr>\n",
              "    <tr>\n",
              "      <th>AK</th>\n",
              "      <td>1000</td>\n",
              "      <td>7.421</td>\n",
              "      <td>4.525</td>\n",
              "      <td>16.290</td>\n",
              "      <td>17.014</td>\n",
              "      <td>test</td>\n",
              "    </tr>\n",
              "    <tr>\n",
              "      <th>AZ</th>\n",
              "      <td>1000</td>\n",
              "      <td>6.510</td>\n",
              "      <td>5.208</td>\n",
              "      <td>15.624</td>\n",
              "      <td>17.856</td>\n",
              "      <td>test</td>\n",
              "    </tr>\n",
              "    <tr>\n",
              "      <th>AR</th>\n",
              "      <td>1000</td>\n",
              "      <td>4.032</td>\n",
              "      <td>5.824</td>\n",
              "      <td>21.056</td>\n",
              "      <td>21.280</td>\n",
              "      <td>test</td>\n",
              "    </tr>\n",
              "    <tr>\n",
              "      <th>CA</th>\n",
              "      <td>1000</td>\n",
              "      <td>4.200</td>\n",
              "      <td>3.360</td>\n",
              "      <td>10.920</td>\n",
              "      <td>10.680</td>\n",
              "      <td>test</td>\n",
              "    </tr>\n",
              "  </tbody>\n",
              "</table>\n",
              "</div>"
            ],
            "text/plain": [
              "        total  speeding  alcohol  not_distracted  no_previous  test\n",
              "abbrev                                                             \n",
              "AL       1000     7.332    5.640          18.048       15.040  test\n",
              "AK       1000     7.421    4.525          16.290       17.014  test\n",
              "AZ       1000     6.510    5.208          15.624       17.856  test\n",
              "AR       1000     4.032    5.824          21.056       21.280  test\n",
              "CA       1000     4.200    3.360          10.920       10.680  test"
            ]
          },
          "metadata": {
            "tags": []
          },
          "execution_count": 25
        }
      ]
    },
    {
      "cell_type": "code",
      "metadata": {
        "colab": {
          "base_uri": "https://localhost:8080/",
          "height": 235
        },
        "id": "Vdi0Tuewj3tW",
        "outputId": "f818240b-b737-4218-f963-23a602e7fe14"
      },
      "source": [
        "# column 삭제 - 막 추가했던 test column을 삭제해 봅시다\n",
        "# 삭제할 때는 drop이라는 명령어를 사용합니다. \n",
        "\n",
        "df.drop(\"test\", axis=1, inplace=False)\n",
        "\n",
        "# 여기서 axis = 0은 index를 의미하며, \n",
        "# axis=1은 column을 의미합니다. "
      ],
      "execution_count": 26,
      "outputs": [
        {
          "output_type": "execute_result",
          "data": {
            "text/html": [
              "<div>\n",
              "<style scoped>\n",
              "    .dataframe tbody tr th:only-of-type {\n",
              "        vertical-align: middle;\n",
              "    }\n",
              "\n",
              "    .dataframe tbody tr th {\n",
              "        vertical-align: top;\n",
              "    }\n",
              "\n",
              "    .dataframe thead th {\n",
              "        text-align: right;\n",
              "    }\n",
              "</style>\n",
              "<table border=\"1\" class=\"dataframe\">\n",
              "  <thead>\n",
              "    <tr style=\"text-align: right;\">\n",
              "      <th></th>\n",
              "      <th>total</th>\n",
              "      <th>speeding</th>\n",
              "      <th>alcohol</th>\n",
              "      <th>not_distracted</th>\n",
              "      <th>no_previous</th>\n",
              "    </tr>\n",
              "    <tr>\n",
              "      <th>abbrev</th>\n",
              "      <th></th>\n",
              "      <th></th>\n",
              "      <th></th>\n",
              "      <th></th>\n",
              "      <th></th>\n",
              "    </tr>\n",
              "  </thead>\n",
              "  <tbody>\n",
              "    <tr>\n",
              "      <th>AL</th>\n",
              "      <td>1000</td>\n",
              "      <td>7.332</td>\n",
              "      <td>5.640</td>\n",
              "      <td>18.048</td>\n",
              "      <td>15.040</td>\n",
              "    </tr>\n",
              "    <tr>\n",
              "      <th>AK</th>\n",
              "      <td>1000</td>\n",
              "      <td>7.421</td>\n",
              "      <td>4.525</td>\n",
              "      <td>16.290</td>\n",
              "      <td>17.014</td>\n",
              "    </tr>\n",
              "    <tr>\n",
              "      <th>AZ</th>\n",
              "      <td>1000</td>\n",
              "      <td>6.510</td>\n",
              "      <td>5.208</td>\n",
              "      <td>15.624</td>\n",
              "      <td>17.856</td>\n",
              "    </tr>\n",
              "    <tr>\n",
              "      <th>AR</th>\n",
              "      <td>1000</td>\n",
              "      <td>4.032</td>\n",
              "      <td>5.824</td>\n",
              "      <td>21.056</td>\n",
              "      <td>21.280</td>\n",
              "    </tr>\n",
              "    <tr>\n",
              "      <th>CA</th>\n",
              "      <td>1000</td>\n",
              "      <td>4.200</td>\n",
              "      <td>3.360</td>\n",
              "      <td>10.920</td>\n",
              "      <td>10.680</td>\n",
              "    </tr>\n",
              "  </tbody>\n",
              "</table>\n",
              "</div>"
            ],
            "text/plain": [
              "        total  speeding  alcohol  not_distracted  no_previous\n",
              "abbrev                                                       \n",
              "AL       1000     7.332    5.640          18.048       15.040\n",
              "AK       1000     7.421    4.525          16.290       17.014\n",
              "AZ       1000     6.510    5.208          15.624       17.856\n",
              "AR       1000     4.032    5.824          21.056       21.280\n",
              "CA       1000     4.200    3.360          10.920       10.680"
            ]
          },
          "metadata": {
            "tags": []
          },
          "execution_count": 26
        }
      ]
    },
    {
      "cell_type": "code",
      "metadata": {
        "colab": {
          "base_uri": "https://localhost:8080/",
          "height": 235
        },
        "id": "SLemyNyBn_M4",
        "outputId": "1e439528-51b0-4199-c471-d99535704e21"
      },
      "source": [
        "# 현재 index에 들어있는 abbrev은 미국의 주의 약어 입니다. \n",
        "# abbrev은 의미가 막 와닿지 않죠? index의 명을 한번 바꿔봅시다. \n",
        "\n",
        "df.index.name =\"US local name\"\n",
        "df"
      ],
      "execution_count": 27,
      "outputs": [
        {
          "output_type": "execute_result",
          "data": {
            "text/html": [
              "<div>\n",
              "<style scoped>\n",
              "    .dataframe tbody tr th:only-of-type {\n",
              "        vertical-align: middle;\n",
              "    }\n",
              "\n",
              "    .dataframe tbody tr th {\n",
              "        vertical-align: top;\n",
              "    }\n",
              "\n",
              "    .dataframe thead th {\n",
              "        text-align: right;\n",
              "    }\n",
              "</style>\n",
              "<table border=\"1\" class=\"dataframe\">\n",
              "  <thead>\n",
              "    <tr style=\"text-align: right;\">\n",
              "      <th></th>\n",
              "      <th>total</th>\n",
              "      <th>speeding</th>\n",
              "      <th>alcohol</th>\n",
              "      <th>not_distracted</th>\n",
              "      <th>no_previous</th>\n",
              "      <th>test</th>\n",
              "    </tr>\n",
              "    <tr>\n",
              "      <th>US local name</th>\n",
              "      <th></th>\n",
              "      <th></th>\n",
              "      <th></th>\n",
              "      <th></th>\n",
              "      <th></th>\n",
              "      <th></th>\n",
              "    </tr>\n",
              "  </thead>\n",
              "  <tbody>\n",
              "    <tr>\n",
              "      <th>AL</th>\n",
              "      <td>1000</td>\n",
              "      <td>7.332</td>\n",
              "      <td>5.640</td>\n",
              "      <td>18.048</td>\n",
              "      <td>15.040</td>\n",
              "      <td>test</td>\n",
              "    </tr>\n",
              "    <tr>\n",
              "      <th>AK</th>\n",
              "      <td>1000</td>\n",
              "      <td>7.421</td>\n",
              "      <td>4.525</td>\n",
              "      <td>16.290</td>\n",
              "      <td>17.014</td>\n",
              "      <td>test</td>\n",
              "    </tr>\n",
              "    <tr>\n",
              "      <th>AZ</th>\n",
              "      <td>1000</td>\n",
              "      <td>6.510</td>\n",
              "      <td>5.208</td>\n",
              "      <td>15.624</td>\n",
              "      <td>17.856</td>\n",
              "      <td>test</td>\n",
              "    </tr>\n",
              "    <tr>\n",
              "      <th>AR</th>\n",
              "      <td>1000</td>\n",
              "      <td>4.032</td>\n",
              "      <td>5.824</td>\n",
              "      <td>21.056</td>\n",
              "      <td>21.280</td>\n",
              "      <td>test</td>\n",
              "    </tr>\n",
              "    <tr>\n",
              "      <th>CA</th>\n",
              "      <td>1000</td>\n",
              "      <td>4.200</td>\n",
              "      <td>3.360</td>\n",
              "      <td>10.920</td>\n",
              "      <td>10.680</td>\n",
              "      <td>test</td>\n",
              "    </tr>\n",
              "  </tbody>\n",
              "</table>\n",
              "</div>"
            ],
            "text/plain": [
              "               total  speeding  alcohol  not_distracted  no_previous  test\n",
              "US local name                                                             \n",
              "AL              1000     7.332    5.640          18.048       15.040  test\n",
              "AK              1000     7.421    4.525          16.290       17.014  test\n",
              "AZ              1000     6.510    5.208          15.624       17.856  test\n",
              "AR              1000     4.032    5.824          21.056       21.280  test\n",
              "CA              1000     4.200    3.360          10.920       10.680  test"
            ]
          },
          "metadata": {
            "tags": []
          },
          "execution_count": 27
        }
      ]
    },
    {
      "cell_type": "code",
      "metadata": {
        "colab": {
          "base_uri": "https://localhost:8080/",
          "height": 235
        },
        "id": "CjJdVtzDnlLJ",
        "outputId": "f5f2e73e-7c01-4383-a03b-8f9d7da27bed"
      },
      "source": [
        "# 이제는 갑자기 인덱스를 total로 바꿔보고 싶습니다. \n",
        "# 그럼 set_index()를 사용하면 되겠다? 라는 생각이 들죠?\n",
        "# 바로 코드를 적어봅시다. \n",
        "\n",
        "df.set_index(\"total\")"
      ],
      "execution_count": 28,
      "outputs": [
        {
          "output_type": "execute_result",
          "data": {
            "text/html": [
              "<div>\n",
              "<style scoped>\n",
              "    .dataframe tbody tr th:only-of-type {\n",
              "        vertical-align: middle;\n",
              "    }\n",
              "\n",
              "    .dataframe tbody tr th {\n",
              "        vertical-align: top;\n",
              "    }\n",
              "\n",
              "    .dataframe thead th {\n",
              "        text-align: right;\n",
              "    }\n",
              "</style>\n",
              "<table border=\"1\" class=\"dataframe\">\n",
              "  <thead>\n",
              "    <tr style=\"text-align: right;\">\n",
              "      <th></th>\n",
              "      <th>speeding</th>\n",
              "      <th>alcohol</th>\n",
              "      <th>not_distracted</th>\n",
              "      <th>no_previous</th>\n",
              "      <th>test</th>\n",
              "    </tr>\n",
              "    <tr>\n",
              "      <th>total</th>\n",
              "      <th></th>\n",
              "      <th></th>\n",
              "      <th></th>\n",
              "      <th></th>\n",
              "      <th></th>\n",
              "    </tr>\n",
              "  </thead>\n",
              "  <tbody>\n",
              "    <tr>\n",
              "      <th>1000</th>\n",
              "      <td>7.332</td>\n",
              "      <td>5.640</td>\n",
              "      <td>18.048</td>\n",
              "      <td>15.040</td>\n",
              "      <td>test</td>\n",
              "    </tr>\n",
              "    <tr>\n",
              "      <th>1000</th>\n",
              "      <td>7.421</td>\n",
              "      <td>4.525</td>\n",
              "      <td>16.290</td>\n",
              "      <td>17.014</td>\n",
              "      <td>test</td>\n",
              "    </tr>\n",
              "    <tr>\n",
              "      <th>1000</th>\n",
              "      <td>6.510</td>\n",
              "      <td>5.208</td>\n",
              "      <td>15.624</td>\n",
              "      <td>17.856</td>\n",
              "      <td>test</td>\n",
              "    </tr>\n",
              "    <tr>\n",
              "      <th>1000</th>\n",
              "      <td>4.032</td>\n",
              "      <td>5.824</td>\n",
              "      <td>21.056</td>\n",
              "      <td>21.280</td>\n",
              "      <td>test</td>\n",
              "    </tr>\n",
              "    <tr>\n",
              "      <th>1000</th>\n",
              "      <td>4.200</td>\n",
              "      <td>3.360</td>\n",
              "      <td>10.920</td>\n",
              "      <td>10.680</td>\n",
              "      <td>test</td>\n",
              "    </tr>\n",
              "  </tbody>\n",
              "</table>\n",
              "</div>"
            ],
            "text/plain": [
              "       speeding  alcohol  not_distracted  no_previous  test\n",
              "total                                                      \n",
              "1000      7.332    5.640          18.048       15.040  test\n",
              "1000      7.421    4.525          16.290       17.014  test\n",
              "1000      6.510    5.208          15.624       17.856  test\n",
              "1000      4.032    5.824          21.056       21.280  test\n",
              "1000      4.200    3.360          10.920       10.680  test"
            ]
          },
          "metadata": {
            "tags": []
          },
          "execution_count": 28
        }
      ]
    },
    {
      "cell_type": "code",
      "metadata": {
        "colab": {
          "base_uri": "https://localhost:8080/",
          "height": 235
        },
        "id": "7q1WMnHMola7",
        "outputId": "1cc81c23-f24d-4a72-a2c8-ffe9b101e2f2"
      },
      "source": [
        "# 일단, 원하는대로 index는 변경이 되었는데, us local name이 없어졌습니다. \n",
        "# 이 문제를 어떻게 해결할 수 있을까요?\n",
        "\n",
        "df\n",
        "\n",
        "# 일단, inplace=False를 하지 않았기 때문에 데이터는 살아있습니다. "
      ],
      "execution_count": 29,
      "outputs": [
        {
          "output_type": "execute_result",
          "data": {
            "text/html": [
              "<div>\n",
              "<style scoped>\n",
              "    .dataframe tbody tr th:only-of-type {\n",
              "        vertical-align: middle;\n",
              "    }\n",
              "\n",
              "    .dataframe tbody tr th {\n",
              "        vertical-align: top;\n",
              "    }\n",
              "\n",
              "    .dataframe thead th {\n",
              "        text-align: right;\n",
              "    }\n",
              "</style>\n",
              "<table border=\"1\" class=\"dataframe\">\n",
              "  <thead>\n",
              "    <tr style=\"text-align: right;\">\n",
              "      <th></th>\n",
              "      <th>total</th>\n",
              "      <th>speeding</th>\n",
              "      <th>alcohol</th>\n",
              "      <th>not_distracted</th>\n",
              "      <th>no_previous</th>\n",
              "      <th>test</th>\n",
              "    </tr>\n",
              "    <tr>\n",
              "      <th>US local name</th>\n",
              "      <th></th>\n",
              "      <th></th>\n",
              "      <th></th>\n",
              "      <th></th>\n",
              "      <th></th>\n",
              "      <th></th>\n",
              "    </tr>\n",
              "  </thead>\n",
              "  <tbody>\n",
              "    <tr>\n",
              "      <th>AL</th>\n",
              "      <td>1000</td>\n",
              "      <td>7.332</td>\n",
              "      <td>5.640</td>\n",
              "      <td>18.048</td>\n",
              "      <td>15.040</td>\n",
              "      <td>test</td>\n",
              "    </tr>\n",
              "    <tr>\n",
              "      <th>AK</th>\n",
              "      <td>1000</td>\n",
              "      <td>7.421</td>\n",
              "      <td>4.525</td>\n",
              "      <td>16.290</td>\n",
              "      <td>17.014</td>\n",
              "      <td>test</td>\n",
              "    </tr>\n",
              "    <tr>\n",
              "      <th>AZ</th>\n",
              "      <td>1000</td>\n",
              "      <td>6.510</td>\n",
              "      <td>5.208</td>\n",
              "      <td>15.624</td>\n",
              "      <td>17.856</td>\n",
              "      <td>test</td>\n",
              "    </tr>\n",
              "    <tr>\n",
              "      <th>AR</th>\n",
              "      <td>1000</td>\n",
              "      <td>4.032</td>\n",
              "      <td>5.824</td>\n",
              "      <td>21.056</td>\n",
              "      <td>21.280</td>\n",
              "      <td>test</td>\n",
              "    </tr>\n",
              "    <tr>\n",
              "      <th>CA</th>\n",
              "      <td>1000</td>\n",
              "      <td>4.200</td>\n",
              "      <td>3.360</td>\n",
              "      <td>10.920</td>\n",
              "      <td>10.680</td>\n",
              "      <td>test</td>\n",
              "    </tr>\n",
              "  </tbody>\n",
              "</table>\n",
              "</div>"
            ],
            "text/plain": [
              "               total  speeding  alcohol  not_distracted  no_previous  test\n",
              "US local name                                                             \n",
              "AL              1000     7.332    5.640          18.048       15.040  test\n",
              "AK              1000     7.421    4.525          16.290       17.014  test\n",
              "AZ              1000     6.510    5.208          15.624       17.856  test\n",
              "AR              1000     4.032    5.824          21.056       21.280  test\n",
              "CA              1000     4.200    3.360          10.920       10.680  test"
            ]
          },
          "metadata": {
            "tags": []
          },
          "execution_count": 29
        }
      ]
    },
    {
      "cell_type": "code",
      "metadata": {
        "colab": {
          "base_uri": "https://localhost:8080/",
          "height": 235
        },
        "id": "NY0vdtu7pNKp",
        "outputId": "08a26a0f-5fc5-41f3-b976-a0317e32f067"
      },
      "source": [
        "# US local name를 column으로 지정하자\n",
        "# index는 column이 아닙니다. \n",
        "# 이 개념이 이해가 되지 않는다면 1장에서 df 설명을 다 읽고 오시고\n",
        "# 그래도 모르시겠다면, 구글링을 반드시 이해하고 넘어가야 하는 부분입니다. \n",
        "\n",
        "df[\"US local name\"] = df.index\n",
        "df"
      ],
      "execution_count": 30,
      "outputs": [
        {
          "output_type": "execute_result",
          "data": {
            "text/html": [
              "<div>\n",
              "<style scoped>\n",
              "    .dataframe tbody tr th:only-of-type {\n",
              "        vertical-align: middle;\n",
              "    }\n",
              "\n",
              "    .dataframe tbody tr th {\n",
              "        vertical-align: top;\n",
              "    }\n",
              "\n",
              "    .dataframe thead th {\n",
              "        text-align: right;\n",
              "    }\n",
              "</style>\n",
              "<table border=\"1\" class=\"dataframe\">\n",
              "  <thead>\n",
              "    <tr style=\"text-align: right;\">\n",
              "      <th></th>\n",
              "      <th>total</th>\n",
              "      <th>speeding</th>\n",
              "      <th>alcohol</th>\n",
              "      <th>not_distracted</th>\n",
              "      <th>no_previous</th>\n",
              "      <th>test</th>\n",
              "      <th>US local name</th>\n",
              "    </tr>\n",
              "    <tr>\n",
              "      <th>US local name</th>\n",
              "      <th></th>\n",
              "      <th></th>\n",
              "      <th></th>\n",
              "      <th></th>\n",
              "      <th></th>\n",
              "      <th></th>\n",
              "      <th></th>\n",
              "    </tr>\n",
              "  </thead>\n",
              "  <tbody>\n",
              "    <tr>\n",
              "      <th>AL</th>\n",
              "      <td>1000</td>\n",
              "      <td>7.332</td>\n",
              "      <td>5.640</td>\n",
              "      <td>18.048</td>\n",
              "      <td>15.040</td>\n",
              "      <td>test</td>\n",
              "      <td>AL</td>\n",
              "    </tr>\n",
              "    <tr>\n",
              "      <th>AK</th>\n",
              "      <td>1000</td>\n",
              "      <td>7.421</td>\n",
              "      <td>4.525</td>\n",
              "      <td>16.290</td>\n",
              "      <td>17.014</td>\n",
              "      <td>test</td>\n",
              "      <td>AK</td>\n",
              "    </tr>\n",
              "    <tr>\n",
              "      <th>AZ</th>\n",
              "      <td>1000</td>\n",
              "      <td>6.510</td>\n",
              "      <td>5.208</td>\n",
              "      <td>15.624</td>\n",
              "      <td>17.856</td>\n",
              "      <td>test</td>\n",
              "      <td>AZ</td>\n",
              "    </tr>\n",
              "    <tr>\n",
              "      <th>AR</th>\n",
              "      <td>1000</td>\n",
              "      <td>4.032</td>\n",
              "      <td>5.824</td>\n",
              "      <td>21.056</td>\n",
              "      <td>21.280</td>\n",
              "      <td>test</td>\n",
              "      <td>AR</td>\n",
              "    </tr>\n",
              "    <tr>\n",
              "      <th>CA</th>\n",
              "      <td>1000</td>\n",
              "      <td>4.200</td>\n",
              "      <td>3.360</td>\n",
              "      <td>10.920</td>\n",
              "      <td>10.680</td>\n",
              "      <td>test</td>\n",
              "      <td>CA</td>\n",
              "    </tr>\n",
              "  </tbody>\n",
              "</table>\n",
              "</div>"
            ],
            "text/plain": [
              "               total  speeding  alcohol  ...  no_previous  test US local name\n",
              "US local name                            ...                                 \n",
              "AL              1000     7.332    5.640  ...       15.040  test            AL\n",
              "AK              1000     7.421    4.525  ...       17.014  test            AK\n",
              "AZ              1000     6.510    5.208  ...       17.856  test            AZ\n",
              "AR              1000     4.032    5.824  ...       21.280  test            AR\n",
              "CA              1000     4.200    3.360  ...       10.680  test            CA\n",
              "\n",
              "[5 rows x 7 columns]"
            ]
          },
          "metadata": {
            "tags": []
          },
          "execution_count": 30
        }
      ]
    },
    {
      "cell_type": "code",
      "metadata": {
        "colab": {
          "base_uri": "https://localhost:8080/",
          "height": 235
        },
        "id": "h-SuX5ZFo99y",
        "outputId": "b013606e-2a9f-450f-b8ee-d3e580562b58"
      },
      "source": [
        "# 이렇게 처리한 다음 set_index를 해주면 됩니다. \n",
        "df.set_index(\"total\", inplace=True)\n",
        "df"
      ],
      "execution_count": 31,
      "outputs": [
        {
          "output_type": "execute_result",
          "data": {
            "text/html": [
              "<div>\n",
              "<style scoped>\n",
              "    .dataframe tbody tr th:only-of-type {\n",
              "        vertical-align: middle;\n",
              "    }\n",
              "\n",
              "    .dataframe tbody tr th {\n",
              "        vertical-align: top;\n",
              "    }\n",
              "\n",
              "    .dataframe thead th {\n",
              "        text-align: right;\n",
              "    }\n",
              "</style>\n",
              "<table border=\"1\" class=\"dataframe\">\n",
              "  <thead>\n",
              "    <tr style=\"text-align: right;\">\n",
              "      <th></th>\n",
              "      <th>speeding</th>\n",
              "      <th>alcohol</th>\n",
              "      <th>not_distracted</th>\n",
              "      <th>no_previous</th>\n",
              "      <th>test</th>\n",
              "      <th>US local name</th>\n",
              "    </tr>\n",
              "    <tr>\n",
              "      <th>total</th>\n",
              "      <th></th>\n",
              "      <th></th>\n",
              "      <th></th>\n",
              "      <th></th>\n",
              "      <th></th>\n",
              "      <th></th>\n",
              "    </tr>\n",
              "  </thead>\n",
              "  <tbody>\n",
              "    <tr>\n",
              "      <th>1000</th>\n",
              "      <td>7.332</td>\n",
              "      <td>5.640</td>\n",
              "      <td>18.048</td>\n",
              "      <td>15.040</td>\n",
              "      <td>test</td>\n",
              "      <td>AL</td>\n",
              "    </tr>\n",
              "    <tr>\n",
              "      <th>1000</th>\n",
              "      <td>7.421</td>\n",
              "      <td>4.525</td>\n",
              "      <td>16.290</td>\n",
              "      <td>17.014</td>\n",
              "      <td>test</td>\n",
              "      <td>AK</td>\n",
              "    </tr>\n",
              "    <tr>\n",
              "      <th>1000</th>\n",
              "      <td>6.510</td>\n",
              "      <td>5.208</td>\n",
              "      <td>15.624</td>\n",
              "      <td>17.856</td>\n",
              "      <td>test</td>\n",
              "      <td>AZ</td>\n",
              "    </tr>\n",
              "    <tr>\n",
              "      <th>1000</th>\n",
              "      <td>4.032</td>\n",
              "      <td>5.824</td>\n",
              "      <td>21.056</td>\n",
              "      <td>21.280</td>\n",
              "      <td>test</td>\n",
              "      <td>AR</td>\n",
              "    </tr>\n",
              "    <tr>\n",
              "      <th>1000</th>\n",
              "      <td>4.200</td>\n",
              "      <td>3.360</td>\n",
              "      <td>10.920</td>\n",
              "      <td>10.680</td>\n",
              "      <td>test</td>\n",
              "      <td>CA</td>\n",
              "    </tr>\n",
              "  </tbody>\n",
              "</table>\n",
              "</div>"
            ],
            "text/plain": [
              "       speeding  alcohol  not_distracted  no_previous  test US local name\n",
              "total                                                                    \n",
              "1000      7.332    5.640          18.048       15.040  test            AL\n",
              "1000      7.421    4.525          16.290       17.014  test            AK\n",
              "1000      6.510    5.208          15.624       17.856  test            AZ\n",
              "1000      4.032    5.824          21.056       21.280  test            AR\n",
              "1000      4.200    3.360          10.920       10.680  test            CA"
            ]
          },
          "metadata": {
            "tags": []
          },
          "execution_count": 31
        }
      ]
    },
    {
      "cell_type": "markdown",
      "metadata": {
        "id": "ynHjl2xYqHuU"
      },
      "source": [
        "##### 자! 이번에는 테스트를 진행해보겠습니다. \n",
        "##### column은 not_distracted에서 test까지\n",
        "##### row는 1~3까지를 가져와보세요\n"
      ]
    },
    {
      "cell_type": "code",
      "metadata": {
        "colab": {
          "base_uri": "https://localhost:8080/",
          "height": 142
        },
        "id": "M__G1S1wqAIy",
        "outputId": "21278a64-1403-44e1-9716-3b82a0b19063"
      },
      "source": [
        "# 해보셨나요?\n",
        "\n",
        "df.iloc[1:3, 2:5]"
      ],
      "execution_count": 32,
      "outputs": [
        {
          "output_type": "execute_result",
          "data": {
            "text/html": [
              "<div>\n",
              "<style scoped>\n",
              "    .dataframe tbody tr th:only-of-type {\n",
              "        vertical-align: middle;\n",
              "    }\n",
              "\n",
              "    .dataframe tbody tr th {\n",
              "        vertical-align: top;\n",
              "    }\n",
              "\n",
              "    .dataframe thead th {\n",
              "        text-align: right;\n",
              "    }\n",
              "</style>\n",
              "<table border=\"1\" class=\"dataframe\">\n",
              "  <thead>\n",
              "    <tr style=\"text-align: right;\">\n",
              "      <th></th>\n",
              "      <th>not_distracted</th>\n",
              "      <th>no_previous</th>\n",
              "      <th>test</th>\n",
              "    </tr>\n",
              "    <tr>\n",
              "      <th>total</th>\n",
              "      <th></th>\n",
              "      <th></th>\n",
              "      <th></th>\n",
              "    </tr>\n",
              "  </thead>\n",
              "  <tbody>\n",
              "    <tr>\n",
              "      <th>1000</th>\n",
              "      <td>16.290</td>\n",
              "      <td>17.014</td>\n",
              "      <td>test</td>\n",
              "    </tr>\n",
              "    <tr>\n",
              "      <th>1000</th>\n",
              "      <td>15.624</td>\n",
              "      <td>17.856</td>\n",
              "      <td>test</td>\n",
              "    </tr>\n",
              "  </tbody>\n",
              "</table>\n",
              "</div>"
            ],
            "text/plain": [
              "       not_distracted  no_previous  test\n",
              "total                                   \n",
              "1000           16.290       17.014  test\n",
              "1000           15.624       17.856  test"
            ]
          },
          "metadata": {
            "tags": []
          },
          "execution_count": 32
        }
      ]
    },
    {
      "cell_type": "code",
      "metadata": {
        "colab": {
          "base_uri": "https://localhost:8080/",
          "height": 235
        },
        "id": "1XvWKbblxnYJ",
        "outputId": "f1756e90-a342-47a2-a5d1-42bd9b22fe61"
      },
      "source": [
        "# row 역순으로 출력하는 방법\n",
        "\n",
        "df.loc[::-1].head()"
      ],
      "execution_count": 33,
      "outputs": [
        {
          "output_type": "execute_result",
          "data": {
            "text/html": [
              "<div>\n",
              "<style scoped>\n",
              "    .dataframe tbody tr th:only-of-type {\n",
              "        vertical-align: middle;\n",
              "    }\n",
              "\n",
              "    .dataframe tbody tr th {\n",
              "        vertical-align: top;\n",
              "    }\n",
              "\n",
              "    .dataframe thead th {\n",
              "        text-align: right;\n",
              "    }\n",
              "</style>\n",
              "<table border=\"1\" class=\"dataframe\">\n",
              "  <thead>\n",
              "    <tr style=\"text-align: right;\">\n",
              "      <th></th>\n",
              "      <th>speeding</th>\n",
              "      <th>alcohol</th>\n",
              "      <th>not_distracted</th>\n",
              "      <th>no_previous</th>\n",
              "      <th>test</th>\n",
              "      <th>US local name</th>\n",
              "    </tr>\n",
              "    <tr>\n",
              "      <th>total</th>\n",
              "      <th></th>\n",
              "      <th></th>\n",
              "      <th></th>\n",
              "      <th></th>\n",
              "      <th></th>\n",
              "      <th></th>\n",
              "    </tr>\n",
              "  </thead>\n",
              "  <tbody>\n",
              "    <tr>\n",
              "      <th>1000</th>\n",
              "      <td>4.200</td>\n",
              "      <td>3.360</td>\n",
              "      <td>10.920</td>\n",
              "      <td>10.680</td>\n",
              "      <td>test</td>\n",
              "      <td>CA</td>\n",
              "    </tr>\n",
              "    <tr>\n",
              "      <th>1000</th>\n",
              "      <td>4.032</td>\n",
              "      <td>5.824</td>\n",
              "      <td>21.056</td>\n",
              "      <td>21.280</td>\n",
              "      <td>test</td>\n",
              "      <td>AR</td>\n",
              "    </tr>\n",
              "    <tr>\n",
              "      <th>1000</th>\n",
              "      <td>6.510</td>\n",
              "      <td>5.208</td>\n",
              "      <td>15.624</td>\n",
              "      <td>17.856</td>\n",
              "      <td>test</td>\n",
              "      <td>AZ</td>\n",
              "    </tr>\n",
              "    <tr>\n",
              "      <th>1000</th>\n",
              "      <td>7.421</td>\n",
              "      <td>4.525</td>\n",
              "      <td>16.290</td>\n",
              "      <td>17.014</td>\n",
              "      <td>test</td>\n",
              "      <td>AK</td>\n",
              "    </tr>\n",
              "    <tr>\n",
              "      <th>1000</th>\n",
              "      <td>7.332</td>\n",
              "      <td>5.640</td>\n",
              "      <td>18.048</td>\n",
              "      <td>15.040</td>\n",
              "      <td>test</td>\n",
              "      <td>AL</td>\n",
              "    </tr>\n",
              "  </tbody>\n",
              "</table>\n",
              "</div>"
            ],
            "text/plain": [
              "       speeding  alcohol  not_distracted  no_previous  test US local name\n",
              "total                                                                    \n",
              "1000      4.200    3.360          10.920       10.680  test            CA\n",
              "1000      4.032    5.824          21.056       21.280  test            AR\n",
              "1000      6.510    5.208          15.624       17.856  test            AZ\n",
              "1000      7.421    4.525          16.290       17.014  test            AK\n",
              "1000      7.332    5.640          18.048       15.040  test            AL"
            ]
          },
          "metadata": {
            "tags": []
          },
          "execution_count": 33
        }
      ]
    },
    {
      "cell_type": "code",
      "metadata": {
        "colab": {
          "base_uri": "https://localhost:8080/",
          "height": 235
        },
        "id": "UJvbT6yRzXRz",
        "outputId": "f674f068-ec23-4aec-9891-efdeda88836a"
      },
      "source": [
        "# cloumn 역순으로 출력하는 방법 \n",
        "\n",
        "df.loc[:, ::-1].head()"
      ],
      "execution_count": 34,
      "outputs": [
        {
          "output_type": "execute_result",
          "data": {
            "text/html": [
              "<div>\n",
              "<style scoped>\n",
              "    .dataframe tbody tr th:only-of-type {\n",
              "        vertical-align: middle;\n",
              "    }\n",
              "\n",
              "    .dataframe tbody tr th {\n",
              "        vertical-align: top;\n",
              "    }\n",
              "\n",
              "    .dataframe thead th {\n",
              "        text-align: right;\n",
              "    }\n",
              "</style>\n",
              "<table border=\"1\" class=\"dataframe\">\n",
              "  <thead>\n",
              "    <tr style=\"text-align: right;\">\n",
              "      <th></th>\n",
              "      <th>US local name</th>\n",
              "      <th>test</th>\n",
              "      <th>no_previous</th>\n",
              "      <th>not_distracted</th>\n",
              "      <th>alcohol</th>\n",
              "      <th>speeding</th>\n",
              "    </tr>\n",
              "    <tr>\n",
              "      <th>total</th>\n",
              "      <th></th>\n",
              "      <th></th>\n",
              "      <th></th>\n",
              "      <th></th>\n",
              "      <th></th>\n",
              "      <th></th>\n",
              "    </tr>\n",
              "  </thead>\n",
              "  <tbody>\n",
              "    <tr>\n",
              "      <th>1000</th>\n",
              "      <td>AL</td>\n",
              "      <td>test</td>\n",
              "      <td>15.040</td>\n",
              "      <td>18.048</td>\n",
              "      <td>5.640</td>\n",
              "      <td>7.332</td>\n",
              "    </tr>\n",
              "    <tr>\n",
              "      <th>1000</th>\n",
              "      <td>AK</td>\n",
              "      <td>test</td>\n",
              "      <td>17.014</td>\n",
              "      <td>16.290</td>\n",
              "      <td>4.525</td>\n",
              "      <td>7.421</td>\n",
              "    </tr>\n",
              "    <tr>\n",
              "      <th>1000</th>\n",
              "      <td>AZ</td>\n",
              "      <td>test</td>\n",
              "      <td>17.856</td>\n",
              "      <td>15.624</td>\n",
              "      <td>5.208</td>\n",
              "      <td>6.510</td>\n",
              "    </tr>\n",
              "    <tr>\n",
              "      <th>1000</th>\n",
              "      <td>AR</td>\n",
              "      <td>test</td>\n",
              "      <td>21.280</td>\n",
              "      <td>21.056</td>\n",
              "      <td>5.824</td>\n",
              "      <td>4.032</td>\n",
              "    </tr>\n",
              "    <tr>\n",
              "      <th>1000</th>\n",
              "      <td>CA</td>\n",
              "      <td>test</td>\n",
              "      <td>10.680</td>\n",
              "      <td>10.920</td>\n",
              "      <td>3.360</td>\n",
              "      <td>4.200</td>\n",
              "    </tr>\n",
              "  </tbody>\n",
              "</table>\n",
              "</div>"
            ],
            "text/plain": [
              "      US local name  test  no_previous  not_distracted  alcohol  speeding\n",
              "total                                                                    \n",
              "1000             AL  test       15.040          18.048    5.640     7.332\n",
              "1000             AK  test       17.014          16.290    4.525     7.421\n",
              "1000             AZ  test       17.856          15.624    5.208     6.510\n",
              "1000             AR  test       21.280          21.056    5.824     4.032\n",
              "1000             CA  test       10.680          10.920    3.360     4.200"
            ]
          },
          "metadata": {
            "tags": []
          },
          "execution_count": 34
        }
      ]
    },
    {
      "cell_type": "code",
      "metadata": {
        "colab": {
          "base_uri": "https://localhost:8080/"
        },
        "id": "IdVdwIdnzh4N",
        "outputId": "e01fd660-bd2f-4b35-fe51-1e5ed1c2b90e"
      },
      "source": [
        "# 우리는 지금 데이터를 슬라이싱하여 우리가 필요한 정보는 얻을 수 있도록 연습하고 있다.\n",
        "# 가끔 실습을 하다보면 랜덤하게 데이터를 선택해야할 때가 있는데 어떻게 해야할 수 있을까?\n",
        "# 조금 더 편하게 실험을 하기 위해 우리는 df를 최초의 데이터로 가져오도록 하겠습니다. \n",
        "\n",
        "url = \"https://raw.githubusercontent.com/mwaskom/seaborn-data/master/car_crashes.csv\"\n",
        "df = pd.read_csv(url)\n",
        "len(df)"
      ],
      "execution_count": 35,
      "outputs": [
        {
          "output_type": "execute_result",
          "data": {
            "text/plain": [
              "51"
            ]
          },
          "metadata": {
            "tags": []
          },
          "execution_count": 35
        }
      ]
    },
    {
      "cell_type": "markdown",
      "metadata": {
        "id": "yozECfxI4Pzx"
      },
      "source": [
        "DataFrame을 두 부분으로 분할하여 행의 75 %를 하나의 DataFrame에 무작위로 할당하고 나머지 25 %를 두 번째 DataFrame에 할당하려고한다고 가정 해 보겠습니다."
      ]
    },
    {
      "cell_type": "markdown",
      "metadata": {
        "id": "c4xruGx14VYp"
      },
      "source": [
        "예를 들어, 51 개의 행이있는 영화 등급의 DataFrame이 있습니다."
      ]
    },
    {
      "cell_type": "markdown",
      "metadata": {
        "id": "4dZUMy0g4Zt-"
      },
      "source": [
        "이 sample()메서드를 사용하여 행의 75 %를 무작위로 선택하고 \"df1\"에 할당 할 수 있습니다."
      ]
    },
    {
      "cell_type": "code",
      "metadata": {
        "colab": {
          "base_uri": "https://localhost:8080/"
        },
        "id": "-1e3-m4D0lMM",
        "outputId": "9e9bc269-d274-4b3a-92e5-7634492198b1"
      },
      "source": [
        "df1 = df.sample(frac=0.75, random_state=1234)\n",
        "len(df1)"
      ],
      "execution_count": 36,
      "outputs": [
        {
          "output_type": "execute_result",
          "data": {
            "text/plain": [
              "38"
            ]
          },
          "metadata": {
            "tags": []
          },
          "execution_count": 36
        }
      ]
    },
    {
      "cell_type": "markdown",
      "metadata": {
        "id": "kLEPDirx4j8V"
      },
      "source": [
        "그런 다음 drop()메서드를 사용하여 \"df1\"에있는 모든 행을 삭제하고 나머지 행을 \"df2\"에 할당 할 수 있습니다."
      ]
    },
    {
      "cell_type": "code",
      "metadata": {
        "colab": {
          "base_uri": "https://localhost:8080/"
        },
        "id": "yvGf3OLL0znO",
        "outputId": "12742587-6df5-4546-b45d-0be39f11f889"
      },
      "source": [
        "df2 = df.drop(df1.index)\n",
        "len(df2)"
      ],
      "execution_count": 37,
      "outputs": [
        {
          "output_type": "execute_result",
          "data": {
            "text/plain": [
              "13"
            ]
          },
          "metadata": {
            "tags": []
          },
          "execution_count": 37
        }
      ]
    },
    {
      "cell_type": "code",
      "metadata": {
        "colab": {
          "base_uri": "https://localhost:8080/"
        },
        "id": "qS6KJocf1aNV",
        "outputId": "c1418bc4-7132-4037-91aa-55c6c604f437"
      },
      "source": [
        "# 혹시 몰라 len를 이용하여 잘 나누어졌는지 확인합니다. \n",
        "len(df1)+len(df2)"
      ],
      "execution_count": 38,
      "outputs": [
        {
          "output_type": "execute_result",
          "data": {
            "text/plain": [
              "51"
            ]
          },
          "metadata": {
            "tags": []
          },
          "execution_count": 38
        }
      ]
    },
    {
      "cell_type": "markdown",
      "metadata": {
        "id": "tpi7Vl1vdNMq"
      },
      "source": [
        "### 2-6) 필터를 통한 슬라이싱 \n"
      ]
    },
    {
      "cell_type": "code",
      "metadata": {
        "id": "fNlen4rv1col"
      },
      "source": [
        "# 지금부터는 필터를 통한 슬라이싱을 진행하고자 합니다. \n",
        "# 대신 df를 아래와 한 반의 수학, 영어, 취미를 담고 있는 데이터를 이용해보겠습니다. "
      ],
      "execution_count": 39,
      "outputs": []
    },
    {
      "cell_type": "code",
      "metadata": {
        "colab": {
          "base_uri": "https://localhost:8080/",
          "height": 328
        },
        "id": "6g_Ns1aadf2z",
        "outputId": "7144d4b9-77eb-40f9-c17b-f704c45f02a4"
      },
      "source": [
        "df_info = pd.DataFrame(\n",
        "    {\n",
        "        \"student_number\" : [\"1\", \"2\", \"3\", \"4\", \"5\", \"6\", \"7\", \"8\"],\n",
        "        \"math_score\": [\"89\", \"90\", \"78\", \"99\", \"89\", \"90\", \"78\", \"100\"],\n",
        "        \"english_score\": [\"90\", \"95\", \"70\", \"87\", \"89\", \"90\", \"78\", \"99\"],\n",
        "        \"code_score\": [\"90\", \"95\", \"70\", \"87\", \"89\", \"90\", \"78\", \"-\"],\n",
        "        \"hobby\": [\"soccer\", \"moive\", \"moive\", \"swim\", \"soccer\", \"moive\", \"moive\", \"swim\"],\n",
        "        \"home_address\": [\"B\", \"B\", \"A\", \"C\", \"B\", \"B\", \"A\", \"C\"],\n",
        "    }\n",
        ")\n",
        "df_info = df_info.set_index(\"student_number\")\n",
        "df_info"
      ],
      "execution_count": 40,
      "outputs": [
        {
          "output_type": "execute_result",
          "data": {
            "text/html": [
              "<div>\n",
              "<style scoped>\n",
              "    .dataframe tbody tr th:only-of-type {\n",
              "        vertical-align: middle;\n",
              "    }\n",
              "\n",
              "    .dataframe tbody tr th {\n",
              "        vertical-align: top;\n",
              "    }\n",
              "\n",
              "    .dataframe thead th {\n",
              "        text-align: right;\n",
              "    }\n",
              "</style>\n",
              "<table border=\"1\" class=\"dataframe\">\n",
              "  <thead>\n",
              "    <tr style=\"text-align: right;\">\n",
              "      <th></th>\n",
              "      <th>math_score</th>\n",
              "      <th>english_score</th>\n",
              "      <th>code_score</th>\n",
              "      <th>hobby</th>\n",
              "      <th>home_address</th>\n",
              "    </tr>\n",
              "    <tr>\n",
              "      <th>student_number</th>\n",
              "      <th></th>\n",
              "      <th></th>\n",
              "      <th></th>\n",
              "      <th></th>\n",
              "      <th></th>\n",
              "    </tr>\n",
              "  </thead>\n",
              "  <tbody>\n",
              "    <tr>\n",
              "      <th>1</th>\n",
              "      <td>89</td>\n",
              "      <td>90</td>\n",
              "      <td>90</td>\n",
              "      <td>soccer</td>\n",
              "      <td>B</td>\n",
              "    </tr>\n",
              "    <tr>\n",
              "      <th>2</th>\n",
              "      <td>90</td>\n",
              "      <td>95</td>\n",
              "      <td>95</td>\n",
              "      <td>moive</td>\n",
              "      <td>B</td>\n",
              "    </tr>\n",
              "    <tr>\n",
              "      <th>3</th>\n",
              "      <td>78</td>\n",
              "      <td>70</td>\n",
              "      <td>70</td>\n",
              "      <td>moive</td>\n",
              "      <td>A</td>\n",
              "    </tr>\n",
              "    <tr>\n",
              "      <th>4</th>\n",
              "      <td>99</td>\n",
              "      <td>87</td>\n",
              "      <td>87</td>\n",
              "      <td>swim</td>\n",
              "      <td>C</td>\n",
              "    </tr>\n",
              "    <tr>\n",
              "      <th>5</th>\n",
              "      <td>89</td>\n",
              "      <td>89</td>\n",
              "      <td>89</td>\n",
              "      <td>soccer</td>\n",
              "      <td>B</td>\n",
              "    </tr>\n",
              "    <tr>\n",
              "      <th>6</th>\n",
              "      <td>90</td>\n",
              "      <td>90</td>\n",
              "      <td>90</td>\n",
              "      <td>moive</td>\n",
              "      <td>B</td>\n",
              "    </tr>\n",
              "    <tr>\n",
              "      <th>7</th>\n",
              "      <td>78</td>\n",
              "      <td>78</td>\n",
              "      <td>78</td>\n",
              "      <td>moive</td>\n",
              "      <td>A</td>\n",
              "    </tr>\n",
              "    <tr>\n",
              "      <th>8</th>\n",
              "      <td>100</td>\n",
              "      <td>99</td>\n",
              "      <td>-</td>\n",
              "      <td>swim</td>\n",
              "      <td>C</td>\n",
              "    </tr>\n",
              "  </tbody>\n",
              "</table>\n",
              "</div>"
            ],
            "text/plain": [
              "               math_score english_score code_score   hobby home_address\n",
              "student_number                                                         \n",
              "1                      89            90         90  soccer            B\n",
              "2                      90            95         95   moive            B\n",
              "3                      78            70         70   moive            A\n",
              "4                      99            87         87    swim            C\n",
              "5                      89            89         89  soccer            B\n",
              "6                      90            90         90   moive            B\n",
              "7                      78            78         78   moive            A\n",
              "8                     100            99          -    swim            C"
            ]
          },
          "metadata": {
            "tags": []
          },
          "execution_count": 40
        }
      ]
    },
    {
      "cell_type": "code",
      "metadata": {
        "colab": {
          "base_uri": "https://localhost:8080/",
          "height": 142
        },
        "id": "pKGCAzCThEGV",
        "outputId": "d8c800f6-444f-44aa-b250-ac24f1aa4993"
      },
      "source": [
        "# 자! 그럼 취미가 축구인 사람만 남겨볼게요\n",
        "\n",
        "df_soccer = df_info[\"hobby\"] == \"soccer\"\n",
        "df_info.loc[df_soccer]"
      ],
      "execution_count": 41,
      "outputs": [
        {
          "output_type": "execute_result",
          "data": {
            "text/html": [
              "<div>\n",
              "<style scoped>\n",
              "    .dataframe tbody tr th:only-of-type {\n",
              "        vertical-align: middle;\n",
              "    }\n",
              "\n",
              "    .dataframe tbody tr th {\n",
              "        vertical-align: top;\n",
              "    }\n",
              "\n",
              "    .dataframe thead th {\n",
              "        text-align: right;\n",
              "    }\n",
              "</style>\n",
              "<table border=\"1\" class=\"dataframe\">\n",
              "  <thead>\n",
              "    <tr style=\"text-align: right;\">\n",
              "      <th></th>\n",
              "      <th>math_score</th>\n",
              "      <th>english_score</th>\n",
              "      <th>code_score</th>\n",
              "      <th>hobby</th>\n",
              "      <th>home_address</th>\n",
              "    </tr>\n",
              "    <tr>\n",
              "      <th>student_number</th>\n",
              "      <th></th>\n",
              "      <th></th>\n",
              "      <th></th>\n",
              "      <th></th>\n",
              "      <th></th>\n",
              "    </tr>\n",
              "  </thead>\n",
              "  <tbody>\n",
              "    <tr>\n",
              "      <th>1</th>\n",
              "      <td>89</td>\n",
              "      <td>90</td>\n",
              "      <td>90</td>\n",
              "      <td>soccer</td>\n",
              "      <td>B</td>\n",
              "    </tr>\n",
              "    <tr>\n",
              "      <th>5</th>\n",
              "      <td>89</td>\n",
              "      <td>89</td>\n",
              "      <td>89</td>\n",
              "      <td>soccer</td>\n",
              "      <td>B</td>\n",
              "    </tr>\n",
              "  </tbody>\n",
              "</table>\n",
              "</div>"
            ],
            "text/plain": [
              "               math_score english_score code_score   hobby home_address\n",
              "student_number                                                         \n",
              "1                      89            90         90  soccer            B\n",
              "5                      89            89         89  soccer            B"
            ]
          },
          "metadata": {
            "tags": []
          },
          "execution_count": 41
        }
      ]
    },
    {
      "cell_type": "code",
      "metadata": {
        "colab": {
          "base_uri": "https://localhost:8080/",
          "height": 142
        },
        "id": "_DmnJSEtj7iN",
        "outputId": "ba3036f0-2f03-4ec3-c849-224fd3cb66b5"
      },
      "source": [
        "# 지금까지 배운 방법은 방법1이였습니다. \n",
        "# 이번에는 isin 명령어를 사용하여 간결하게 출력해보겠습니다. \n",
        "\n",
        "df_info[df_info.hobby.isin([\"soccer\"])]\n",
        "\n",
        "# 별도의 변수 저장 없이 바로 이렇게 뽑아 낼 수 있습니다. \n"
      ],
      "execution_count": 42,
      "outputs": [
        {
          "output_type": "execute_result",
          "data": {
            "text/html": [
              "<div>\n",
              "<style scoped>\n",
              "    .dataframe tbody tr th:only-of-type {\n",
              "        vertical-align: middle;\n",
              "    }\n",
              "\n",
              "    .dataframe tbody tr th {\n",
              "        vertical-align: top;\n",
              "    }\n",
              "\n",
              "    .dataframe thead th {\n",
              "        text-align: right;\n",
              "    }\n",
              "</style>\n",
              "<table border=\"1\" class=\"dataframe\">\n",
              "  <thead>\n",
              "    <tr style=\"text-align: right;\">\n",
              "      <th></th>\n",
              "      <th>math_score</th>\n",
              "      <th>english_score</th>\n",
              "      <th>code_score</th>\n",
              "      <th>hobby</th>\n",
              "      <th>home_address</th>\n",
              "    </tr>\n",
              "    <tr>\n",
              "      <th>student_number</th>\n",
              "      <th></th>\n",
              "      <th></th>\n",
              "      <th></th>\n",
              "      <th></th>\n",
              "      <th></th>\n",
              "    </tr>\n",
              "  </thead>\n",
              "  <tbody>\n",
              "    <tr>\n",
              "      <th>1</th>\n",
              "      <td>89</td>\n",
              "      <td>90</td>\n",
              "      <td>90</td>\n",
              "      <td>soccer</td>\n",
              "      <td>B</td>\n",
              "    </tr>\n",
              "    <tr>\n",
              "      <th>5</th>\n",
              "      <td>89</td>\n",
              "      <td>89</td>\n",
              "      <td>89</td>\n",
              "      <td>soccer</td>\n",
              "      <td>B</td>\n",
              "    </tr>\n",
              "  </tbody>\n",
              "</table>\n",
              "</div>"
            ],
            "text/plain": [
              "               math_score english_score code_score   hobby home_address\n",
              "student_number                                                         \n",
              "1                      89            90         90  soccer            B\n",
              "5                      89            89         89  soccer            B"
            ]
          },
          "metadata": {
            "tags": []
          },
          "execution_count": 42
        }
      ]
    },
    {
      "cell_type": "code",
      "metadata": {
        "colab": {
          "base_uri": "https://localhost:8080/",
          "height": 266
        },
        "id": "NXbEJPIYjFN0",
        "outputId": "e2f3d5df-1616-4a7b-bb28-2eb333fba5db"
      },
      "source": [
        "# 그럼 축구를 제외한 나머지를 출력해보겠습니다. \n",
        "\n",
        "df_info[~df_info.hobby.isin([\"soccer\"])]\n",
        "\n",
        "# ~ 기호로 바로 축구를 제외한 나머지를 출력할 수 있습니다. \n",
        "# 매우 유용한 기호라고 생각합니다! 자주 애용중이라는...ㅎ"
      ],
      "execution_count": 43,
      "outputs": [
        {
          "output_type": "execute_result",
          "data": {
            "text/html": [
              "<div>\n",
              "<style scoped>\n",
              "    .dataframe tbody tr th:only-of-type {\n",
              "        vertical-align: middle;\n",
              "    }\n",
              "\n",
              "    .dataframe tbody tr th {\n",
              "        vertical-align: top;\n",
              "    }\n",
              "\n",
              "    .dataframe thead th {\n",
              "        text-align: right;\n",
              "    }\n",
              "</style>\n",
              "<table border=\"1\" class=\"dataframe\">\n",
              "  <thead>\n",
              "    <tr style=\"text-align: right;\">\n",
              "      <th></th>\n",
              "      <th>math_score</th>\n",
              "      <th>english_score</th>\n",
              "      <th>code_score</th>\n",
              "      <th>hobby</th>\n",
              "      <th>home_address</th>\n",
              "    </tr>\n",
              "    <tr>\n",
              "      <th>student_number</th>\n",
              "      <th></th>\n",
              "      <th></th>\n",
              "      <th></th>\n",
              "      <th></th>\n",
              "      <th></th>\n",
              "    </tr>\n",
              "  </thead>\n",
              "  <tbody>\n",
              "    <tr>\n",
              "      <th>2</th>\n",
              "      <td>90</td>\n",
              "      <td>95</td>\n",
              "      <td>95</td>\n",
              "      <td>moive</td>\n",
              "      <td>B</td>\n",
              "    </tr>\n",
              "    <tr>\n",
              "      <th>3</th>\n",
              "      <td>78</td>\n",
              "      <td>70</td>\n",
              "      <td>70</td>\n",
              "      <td>moive</td>\n",
              "      <td>A</td>\n",
              "    </tr>\n",
              "    <tr>\n",
              "      <th>4</th>\n",
              "      <td>99</td>\n",
              "      <td>87</td>\n",
              "      <td>87</td>\n",
              "      <td>swim</td>\n",
              "      <td>C</td>\n",
              "    </tr>\n",
              "    <tr>\n",
              "      <th>6</th>\n",
              "      <td>90</td>\n",
              "      <td>90</td>\n",
              "      <td>90</td>\n",
              "      <td>moive</td>\n",
              "      <td>B</td>\n",
              "    </tr>\n",
              "    <tr>\n",
              "      <th>7</th>\n",
              "      <td>78</td>\n",
              "      <td>78</td>\n",
              "      <td>78</td>\n",
              "      <td>moive</td>\n",
              "      <td>A</td>\n",
              "    </tr>\n",
              "    <tr>\n",
              "      <th>8</th>\n",
              "      <td>100</td>\n",
              "      <td>99</td>\n",
              "      <td>-</td>\n",
              "      <td>swim</td>\n",
              "      <td>C</td>\n",
              "    </tr>\n",
              "  </tbody>\n",
              "</table>\n",
              "</div>"
            ],
            "text/plain": [
              "               math_score english_score code_score  hobby home_address\n",
              "student_number                                                        \n",
              "2                      90            95         95  moive            B\n",
              "3                      78            70         70  moive            A\n",
              "4                      99            87         87   swim            C\n",
              "6                      90            90         90  moive            B\n",
              "7                      78            78         78  moive            A\n",
              "8                     100            99          -   swim            C"
            ]
          },
          "metadata": {
            "tags": []
          },
          "execution_count": 43
        }
      ]
    },
    {
      "cell_type": "code",
      "metadata": {
        "colab": {
          "base_uri": "https://localhost:8080/"
        },
        "id": "sOwgOpwxkcyG",
        "outputId": "0ad53c44-dd6f-44b4-9f25-201761fdfbe1"
      },
      "source": [
        "# 이번에는 nlargest라는 명령을 이용해보고자 합니다. \n",
        "# 일반적으로 df에서 가장 많은 데이터가 무엇인지를 확인하기 위해 value_counts()라는 명령어를 사용합니다. \n",
        "\n",
        "counts = df_info.home_address.value_counts()\n",
        "counts"
      ],
      "execution_count": 44,
      "outputs": [
        {
          "output_type": "execute_result",
          "data": {
            "text/plain": [
              "B    4\n",
              "A    2\n",
              "C    2\n",
              "Name: home_address, dtype: int64"
            ]
          },
          "metadata": {
            "tags": []
          },
          "execution_count": 44
        }
      ]
    },
    {
      "cell_type": "code",
      "metadata": {
        "colab": {
          "base_uri": "https://localhost:8080/"
        },
        "id": "eYXGvPqfk3o4",
        "outputId": "f9972eee-a37d-4eac-bcdd-a6c682c7c844"
      },
      "source": [
        "# nlargest를 사용하도 바로 이렇게 출력을 할 수 있습니다. \n",
        "\n",
        "counts.nlargest(3)"
      ],
      "execution_count": 45,
      "outputs": [
        {
          "output_type": "execute_result",
          "data": {
            "text/plain": [
              "B    4\n",
              "A    2\n",
              "C    2\n",
              "Name: home_address, dtype: int64"
            ]
          },
          "metadata": {
            "tags": []
          },
          "execution_count": 45
        }
      ]
    },
    {
      "cell_type": "code",
      "metadata": {
        "colab": {
          "base_uri": "https://localhost:8080/",
          "height": 204
        },
        "id": "mvjTh1cqlgbf",
        "outputId": "d251dfef-17cd-43ea-a7a2-271e10965b1c"
      },
      "source": [
        "# nlargest를 이용하여 isin을 혼용하여 사용할 수 있습니다. \n",
        "\n",
        "df_info[df_info.home_address.isin(counts.nlargest(1).index)]"
      ],
      "execution_count": 46,
      "outputs": [
        {
          "output_type": "execute_result",
          "data": {
            "text/html": [
              "<div>\n",
              "<style scoped>\n",
              "    .dataframe tbody tr th:only-of-type {\n",
              "        vertical-align: middle;\n",
              "    }\n",
              "\n",
              "    .dataframe tbody tr th {\n",
              "        vertical-align: top;\n",
              "    }\n",
              "\n",
              "    .dataframe thead th {\n",
              "        text-align: right;\n",
              "    }\n",
              "</style>\n",
              "<table border=\"1\" class=\"dataframe\">\n",
              "  <thead>\n",
              "    <tr style=\"text-align: right;\">\n",
              "      <th></th>\n",
              "      <th>math_score</th>\n",
              "      <th>english_score</th>\n",
              "      <th>code_score</th>\n",
              "      <th>hobby</th>\n",
              "      <th>home_address</th>\n",
              "    </tr>\n",
              "    <tr>\n",
              "      <th>student_number</th>\n",
              "      <th></th>\n",
              "      <th></th>\n",
              "      <th></th>\n",
              "      <th></th>\n",
              "      <th></th>\n",
              "    </tr>\n",
              "  </thead>\n",
              "  <tbody>\n",
              "    <tr>\n",
              "      <th>1</th>\n",
              "      <td>89</td>\n",
              "      <td>90</td>\n",
              "      <td>90</td>\n",
              "      <td>soccer</td>\n",
              "      <td>B</td>\n",
              "    </tr>\n",
              "    <tr>\n",
              "      <th>2</th>\n",
              "      <td>90</td>\n",
              "      <td>95</td>\n",
              "      <td>95</td>\n",
              "      <td>moive</td>\n",
              "      <td>B</td>\n",
              "    </tr>\n",
              "    <tr>\n",
              "      <th>5</th>\n",
              "      <td>89</td>\n",
              "      <td>89</td>\n",
              "      <td>89</td>\n",
              "      <td>soccer</td>\n",
              "      <td>B</td>\n",
              "    </tr>\n",
              "    <tr>\n",
              "      <th>6</th>\n",
              "      <td>90</td>\n",
              "      <td>90</td>\n",
              "      <td>90</td>\n",
              "      <td>moive</td>\n",
              "      <td>B</td>\n",
              "    </tr>\n",
              "  </tbody>\n",
              "</table>\n",
              "</div>"
            ],
            "text/plain": [
              "               math_score english_score code_score   hobby home_address\n",
              "student_number                                                         \n",
              "1                      89            90         90  soccer            B\n",
              "2                      90            95         95   moive            B\n",
              "5                      89            89         89  soccer            B\n",
              "6                      90            90         90   moive            B"
            ]
          },
          "metadata": {
            "tags": []
          },
          "execution_count": 46
        }
      ]
    },
    {
      "cell_type": "markdown",
      "metadata": {
        "id": "EzGYhtUIouUX"
      },
      "source": [
        "## 3. EDA\n"
      ]
    },
    {
      "cell_type": "markdown",
      "metadata": {
        "id": "gjn7HXjlm2YK"
      },
      "source": [
        "### 3-1) str을 number로 전환하기\n"
      ]
    },
    {
      "cell_type": "code",
      "metadata": {
        "id": "-jX9XWwFlrJT"
      },
      "source": [
        "# df는 str(문자), int(정수), float(소수) 등으로 구성되어 있다. \n",
        "# 이제 EDA를 배울 것인데, 일반적으로 df를 외부에서 불러오게 되면, 숫자처럼 보여도 str인 겨우가 많다. \n",
        "# EDA를 진행하기 위해 str형인 숫자들을 정수나, 소수형으로 변경해야 한다. \n",
        "# 데이터유형 슬라이싱은 이러한 전처리 과정을 용이하게 해준다. "
      ],
      "execution_count": 47,
      "outputs": []
    },
    {
      "cell_type": "code",
      "metadata": {
        "colab": {
          "base_uri": "https://localhost:8080/"
        },
        "id": "aXvbdnvboP4W",
        "outputId": "0d09047b-d1a4-4c05-fa27-152f7c6484ad"
      },
      "source": [
        "df_info.dtypes"
      ],
      "execution_count": 48,
      "outputs": [
        {
          "output_type": "execute_result",
          "data": {
            "text/plain": [
              "math_score       object\n",
              "english_score    object\n",
              "code_score       object\n",
              "hobby            object\n",
              "home_address     object\n",
              "dtype: object"
            ]
          },
          "metadata": {
            "tags": []
          },
          "execution_count": 48
        }
      ]
    },
    {
      "cell_type": "code",
      "metadata": {
        "colab": {
          "base_uri": "https://localhost:8080/"
        },
        "id": "amAKvUrNoRhg",
        "outputId": "8510e3e6-a54c-43b1-d957-dbb8f283ded5"
      },
      "source": [
        "df_info.astype({'math_score':'float', 'english_score':'float'}).dtypes"
      ],
      "execution_count": 49,
      "outputs": [
        {
          "output_type": "execute_result",
          "data": {
            "text/plain": [
              "math_score       float64\n",
              "english_score    float64\n",
              "code_score        object\n",
              "hobby             object\n",
              "home_address      object\n",
              "dtype: object"
            ]
          },
          "metadata": {
            "tags": []
          },
          "execution_count": 49
        }
      ]
    },
    {
      "cell_type": "code",
      "metadata": {
        "colab": {
          "base_uri": "https://localhost:8080/"
        },
        "id": "EapWfTacpONO",
        "outputId": "bb8f5e69-eefb-4828-deb4-3467a837bbea"
      },
      "source": [
        "# to_numeric()세 번째 열 에서 함수를 사용하여 잘못된 입력을 NaN값 으로 변환하도록 지시 할 수 있습니다.\n",
        "\n",
        "pd.to_numeric(df_info.code_score, errors='coerce')"
      ],
      "execution_count": 50,
      "outputs": [
        {
          "output_type": "execute_result",
          "data": {
            "text/plain": [
              "student_number\n",
              "1    90.0\n",
              "2    95.0\n",
              "3    70.0\n",
              "4    87.0\n",
              "5    89.0\n",
              "6    90.0\n",
              "7    78.0\n",
              "8     NaN\n",
              "Name: code_score, dtype: float64"
            ]
          },
          "metadata": {
            "tags": []
          },
          "execution_count": 50
        }
      ]
    },
    {
      "cell_type": "code",
      "metadata": {
        "colab": {
          "base_uri": "https://localhost:8080/"
        },
        "id": "h3MOKhdpqM7Z",
        "outputId": "dee4289a-07b4-43d8-df50-3e205956cb88"
      },
      "source": [
        "# NaN값이 실제로 0을 나타내는 것을 알고 있다면 다음 fillna()메서드를 사용하여 값을 0으로 채울 수 있습니다 .\n",
        "\n",
        "pd.to_numeric(df_info.code_score, errors='coerce').fillna(0)"
      ],
      "execution_count": 51,
      "outputs": [
        {
          "output_type": "execute_result",
          "data": {
            "text/plain": [
              "student_number\n",
              "1    90.0\n",
              "2    95.0\n",
              "3    70.0\n",
              "4    87.0\n",
              "5    89.0\n",
              "6    90.0\n",
              "7    78.0\n",
              "8     0.0\n",
              "Name: code_score, dtype: float64"
            ]
          },
          "metadata": {
            "tags": []
          },
          "execution_count": 51
        }
      ]
    },
    {
      "cell_type": "code",
      "metadata": {
        "colab": {
          "base_uri": "https://localhost:8080/"
        },
        "id": "WmzbnAlzqdGu",
        "outputId": "5457541b-1fe3-4348-b84a-6fc168e236b2"
      },
      "source": [
        "# 이제 이 모든 과정을 한번에 처리할 수 있도록 함수를 적어보자 \n",
        "# 숫자처럼 보이는데 dtype에 ,가 포함되어 있는경우, 아래 코드를 이요하면 된다. \n",
        "# toInt 함수는 콤마가 있는 경우는 콤마를 제거하고 콤마가 없는 경우, 그대로 데이터를 사용한다. \n",
        "\n",
        "def toInt(string):\n",
        "  try: \n",
        "    return int(string.replace(',', ''))\n",
        "  except:\n",
        "    return string\n",
        "\n",
        "# \n",
        "for y in df_info:\n",
        "  df_info['{}'.format(y)] = df_info['{}'.format(y)].apply(toInt)\n",
        "\n",
        "print(df_info)\n",
        "print(df_info.dtypes)\n",
        "\n",
        "\n",
        "# 만약 모든 데이터가 숫자형으로만 기재된 데이터면 아래와 같이 이용하면 된다.\n",
        "df_info = df_info.apply(pd.to_numeric, errors='coerce').fillna(0)\n",
        "print(df_info)\n",
        "print(df_info.dtypes)\n"
      ],
      "execution_count": 53,
      "outputs": [
        {
          "output_type": "stream",
          "text": [
            "                math_score  english_score  code_score  hobby  home_address\n",
            "student_number                                                            \n",
            "1                       89             90        90.0    0.0           0.0\n",
            "2                       90             95        95.0    0.0           0.0\n",
            "3                       78             70        70.0    0.0           0.0\n",
            "4                       99             87        87.0    0.0           0.0\n",
            "5                       89             89        89.0    0.0           0.0\n",
            "6                       90             90        90.0    0.0           0.0\n",
            "7                       78             78        78.0    0.0           0.0\n",
            "8                      100             99         0.0    0.0           0.0\n",
            "math_score         int64\n",
            "english_score      int64\n",
            "code_score       float64\n",
            "hobby            float64\n",
            "home_address     float64\n",
            "dtype: object\n",
            "                math_score  english_score  code_score  hobby  home_address\n",
            "student_number                                                            \n",
            "1                       89             90        90.0    0.0           0.0\n",
            "2                       90             95        95.0    0.0           0.0\n",
            "3                       78             70        70.0    0.0           0.0\n",
            "4                       99             87        87.0    0.0           0.0\n",
            "5                       89             89        89.0    0.0           0.0\n",
            "6                       90             90        90.0    0.0           0.0\n",
            "7                       78             78        78.0    0.0           0.0\n",
            "8                      100             99         0.0    0.0           0.0\n",
            "math_score         int64\n",
            "english_score      int64\n",
            "code_score       float64\n",
            "hobby            float64\n",
            "home_address     float64\n",
            "dtype: object\n"
          ],
          "name": "stdout"
        }
      ]
    },
    {
      "cell_type": "code",
      "metadata": {
        "id": "pYaoQ1vsqlLW"
      },
      "source": [
        ""
      ],
      "execution_count": 52,
      "outputs": []
    }
  ]
}