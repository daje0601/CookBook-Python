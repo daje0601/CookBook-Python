{
 "cells": [
  {
   "cell_type": "markdown",
   "metadata": {
    "id": "zn3AJtaOnrN5"
   },
   "source": [
    "# 결정 트리(Decision Tree)\n",
    "\n",
    "* 분류와 회귀에 사용되는 지도 학습 방법\n",
    "* 데이터 특성으로 부터 추론된 결정 규칙을 통해 값을 예측\n",
    "* **if-then-else** 결정 규칙을 통해 데이터 학습\n",
    "* 트리의 깊이가 깊을 수록 복잡한 모델\n",
    "* 결정 트리 장점\n",
    "  * 이해와 해석이 쉽다\n",
    "  * 시각화가 용이하다\n",
    "  * 많은 데이터 전처리가 필요하지 않다\n",
    "  * 수치형과 범주형 데이터 모두를 다룰 수 있다\n",
    "  * ..."
   ]
  },
  {
   "cell_type": "code",
   "execution_count": 1,
   "metadata": {
    "id": "89FZ4_7qeJIe"
   },
   "outputs": [],
   "source": [
    "import pandas as pd \n",
    "import numpy as np\n",
    "import graphviz\n",
    "import multiprocessing\n",
    "import matplotlib.pyplot as plt\n",
    "plt.style.use([\"seaborn-whitegrid\"])"
   ]
  },
  {
   "cell_type": "code",
   "execution_count": 2,
   "metadata": {
    "id": "ciPFp2NHqfPM"
   },
   "outputs": [],
   "source": [
    "from sklearn.datasets import load_iris, load_wine, load_breast_cancer\n",
    "from sklearn.datasets import load_boston, load_diabetes\n",
    "from sklearn import tree\n",
    "from sklearn.tree import DecisionTreeClassifier, DecisionTreeRegressor\n",
    "from sklearn.preprocessing import StandardScaler\n",
    "from sklearn.model_selection import cross_val_score\n",
    "from sklearn.pipeline import make_pipeline"
   ]
  },
  {
   "cell_type": "markdown",
   "metadata": {
    "id": "vDPbkuSzcWH9"
   },
   "source": [
    "## 분류를 위한 데이터"
   ]
  },
  {
   "cell_type": "markdown",
   "metadata": {
    "id": "q_sRgXQGceAj"
   },
   "source": [
    "### 붓꽃 데이터"
   ]
  },
  {
   "cell_type": "code",
   "execution_count": 3,
   "metadata": {
    "id": "760ImD9fc0YJ"
   },
   "outputs": [],
   "source": [
    "iris = load_iris()"
   ]
  },
  {
   "cell_type": "code",
   "execution_count": 4,
   "metadata": {
    "id": "xwJvYvx2d0S_"
   },
   "outputs": [],
   "source": [
    "iris_df = pd.DataFrame(iris.data, columns=iris.feature_names)\n",
    "iris_df[\"Target\"] = iris.target"
   ]
  },
  {
   "cell_type": "markdown",
   "metadata": {
    "id": "nOVqeGk5rxPJ"
   },
   "source": [
    "### 와인 데이터"
   ]
  },
  {
   "cell_type": "code",
   "execution_count": 5,
   "metadata": {},
   "outputs": [],
   "source": [
    "wine = load_wine()"
   ]
  },
  {
   "cell_type": "code",
   "execution_count": 6,
   "metadata": {
    "id": "Uwb4jnXmr0x9",
    "scrolled": true
   },
   "outputs": [],
   "source": [
    "wine_df = pd.DataFrame(wine.data, columns=wine.feature_names)\n",
    "wine_df[\"Target\"] = wine.target"
   ]
  },
  {
   "cell_type": "markdown",
   "metadata": {
    "id": "gpoDftYRchLv"
   },
   "source": [
    "### 유방암 데이터"
   ]
  },
  {
   "cell_type": "code",
   "execution_count": 7,
   "metadata": {
    "id": "wP_oWX-TejP_"
   },
   "outputs": [],
   "source": [
    "cancer = load_breast_cancer()"
   ]
  },
  {
   "cell_type": "code",
   "execution_count": 8,
   "metadata": {
    "id": "MPgE2yqYelI1"
   },
   "outputs": [],
   "source": [
    "cancer_df = pd.DataFrame(cancer.data, columns=cancer.feature_names)\n",
    "cancer_df[\"Target\"] = cancer.target"
   ]
  },
  {
   "cell_type": "markdown",
   "metadata": {
    "id": "uDXi89M2cYJu"
   },
   "source": [
    "## 회귀를 위한 데이터"
   ]
  },
  {
   "cell_type": "markdown",
   "metadata": {
    "id": "mjESncZLckBn"
   },
   "source": [
    "### 보스턴 주택 가격 데이터"
   ]
  },
  {
   "cell_type": "code",
   "execution_count": 9,
   "metadata": {
    "id": "XaZrNOWxe7WR"
   },
   "outputs": [],
   "source": [
    "boston = load_boston()"
   ]
  },
  {
   "cell_type": "code",
   "execution_count": 10,
   "metadata": {
    "id": "_am1Rayne8zn"
   },
   "outputs": [],
   "source": [
    "boston_df = pd.DataFrame(boston.data, columns=boston.feature_names)\n",
    "boston_df[\"Target\"] = boston.target"
   ]
  },
  {
   "cell_type": "markdown",
   "metadata": {
    "id": "e9Xpw7Neqm5c"
   },
   "source": [
    "### 당뇨병 데이터"
   ]
  },
  {
   "cell_type": "code",
   "execution_count": 11,
   "metadata": {
    "id": "qAgjuhWRqqkj"
   },
   "outputs": [],
   "source": [
    "diabetes = load_diabetes()"
   ]
  },
  {
   "cell_type": "code",
   "execution_count": 12,
   "metadata": {
    "id": "OS3ipMyLrDgi"
   },
   "outputs": [],
   "source": [
    "diabetes_df = pd.DataFrame(diabetes.data, columns=diabetes.feature_names)\n",
    "diabetes_df[\"Target\"] = diabetes.target"
   ]
  },
  {
   "cell_type": "markdown",
   "metadata": {
    "id": "C9SE86hTuooq"
   },
   "source": [
    "## 분류 - `DecisionTreeClassifier()`\n",
    "\n",
    "* `DecisionTreeClassifier`는 분류를 위한 결정트리 모델\n",
    "* 두개의 배열 X, y를 입력 받음\n",
    "  * X는 [n_samples, n_features] 크기의 데이터 특성 배열\n",
    "  * y는 [n_samples] 크기의 정답 배열"
   ]
  },
  {
   "cell_type": "markdown",
   "metadata": {
    "id": "q3zsYbBnwsxv"
   },
   "source": [
    "### 붓꽃 데이터 학습"
   ]
  },
  {
   "cell_type": "markdown",
   "metadata": {
    "id": "Ab213yKXkOBx"
   },
   "source": [
    "#### 교차검증"
   ]
  },
  {
   "cell_type": "markdown",
   "metadata": {
    "id": "VB1eyWcslWpr"
   },
   "source": [
    "##### 전처리 없이 학습"
   ]
  },
  {
   "cell_type": "code",
   "execution_count": 13,
   "metadata": {
    "id": "tYMA6_qhg5EM"
   },
   "outputs": [],
   "source": [
    "model = DecisionTreeClassifier()"
   ]
  },
  {
   "cell_type": "code",
   "execution_count": 14,
   "metadata": {},
   "outputs": [
    {
     "data": {
      "text/plain": [
       "array([0.96666667, 0.96666667, 0.9       , 0.93333333, 1.        ])"
      ]
     },
     "execution_count": 14,
     "metadata": {},
     "output_type": "execute_result"
    }
   ],
   "source": [
    "cross_val_score(\n",
    "    estimator=model,\n",
    "    X=iris.data, y=iris.target,\n",
    "    cv=5,\n",
    "    n_jobs=-1)"
   ]
  },
  {
   "cell_type": "markdown",
   "metadata": {
    "id": "04yVAwpllbuW"
   },
   "source": [
    "##### 전처리 후 학습\n",
    "* 결정 트리는 규칙을 학습하기 때문에 전처리에 큰 영향을 받지 않는다."
   ]
  },
  {
   "cell_type": "code",
   "execution_count": 15,
   "metadata": {},
   "outputs": [],
   "source": [
    "model = make_pipeline(StandardScaler(), DecisionTreeClassifier())"
   ]
  },
  {
   "cell_type": "code",
   "execution_count": 16,
   "metadata": {
    "id": "SFFybhvChGlB"
   },
   "outputs": [
    {
     "data": {
      "text/plain": [
       "array([0.96666667, 0.96666667, 0.9       , 1.        , 1.        ])"
      ]
     },
     "execution_count": 16,
     "metadata": {},
     "output_type": "execute_result"
    }
   ],
   "source": [
    "cross_val_score(\n",
    "    estimator=model,\n",
    "    X=iris.data, y=iris.target,\n",
    "    cv=5,\n",
    "    n_jobs=-1)"
   ]
  },
  {
   "cell_type": "markdown",
   "metadata": {
    "id": "ESB60z8ZckQ5"
   },
   "source": [
    "##### 텍스트를 통한 시각화"
   ]
  },
  {
   "cell_type": "code",
   "execution_count": 17,
   "metadata": {
    "scrolled": true
   },
   "outputs": [
    {
     "data": {
      "text/plain": [
       "DecisionTreeClassifier()"
      ]
     },
     "execution_count": 17,
     "metadata": {},
     "output_type": "execute_result"
    }
   ],
   "source": [
    "model = DecisionTreeClassifier()\n",
    "model.fit(iris.data, iris.target)"
   ]
  },
  {
   "cell_type": "code",
   "execution_count": 18,
   "metadata": {
    "id": "WE8F0oQjzTSK"
   },
   "outputs": [
    {
     "name": "stdout",
     "output_type": "stream",
     "text": [
      "|--- petal width (cm) <= 0.80\n",
      "|   |--- class: 0\n",
      "|--- petal width (cm) >  0.80\n",
      "|   |--- petal width (cm) <= 1.75\n",
      "|   |   |--- petal length (cm) <= 4.95\n",
      "|   |   |   |--- petal width (cm) <= 1.65\n",
      "|   |   |   |   |--- class: 1\n",
      "|   |   |   |--- petal width (cm) >  1.65\n",
      "|   |   |   |   |--- class: 2\n",
      "|   |   |--- petal length (cm) >  4.95\n",
      "|   |   |   |--- petal width (cm) <= 1.55\n",
      "|   |   |   |   |--- class: 2\n",
      "|   |   |   |--- petal width (cm) >  1.55\n",
      "|   |   |   |   |--- sepal length (cm) <= 6.95\n",
      "|   |   |   |   |   |--- class: 1\n",
      "|   |   |   |   |--- sepal length (cm) >  6.95\n",
      "|   |   |   |   |   |--- class: 2\n",
      "|   |--- petal width (cm) >  1.75\n",
      "|   |   |--- petal length (cm) <= 4.85\n",
      "|   |   |   |--- sepal width (cm) <= 3.10\n",
      "|   |   |   |   |--- class: 2\n",
      "|   |   |   |--- sepal width (cm) >  3.10\n",
      "|   |   |   |   |--- class: 1\n",
      "|   |   |--- petal length (cm) >  4.85\n",
      "|   |   |   |--- class: 2\n",
      "\n"
     ]
    }
   ],
   "source": [
    "r = tree.export_text(decision_tree=model,\n",
    "                    feature_names=iris.feature_names)\n",
    "print(r)"
   ]
  },
  {
   "cell_type": "markdown",
   "metadata": {
    "id": "FL1M2O2ZcZn2"
   },
   "source": [
    "##### plot_tree를 사용한 시각화"
   ]
  },
  {
   "cell_type": "code",
   "execution_count": 19,
   "metadata": {
    "id": "Pvq9HEXQyEgu"
   },
   "outputs": [
    {
     "data": {
      "text/plain": [
       "[Text(167.4, 199.32, 'X[3] <= 0.8\\ngini = 0.667\\nsamples = 150\\nvalue = [50, 50, 50]'),\n",
       " Text(141.64615384615385, 163.07999999999998, 'gini = 0.0\\nsamples = 50\\nvalue = [50, 0, 0]'),\n",
       " Text(193.15384615384616, 163.07999999999998, 'X[3] <= 1.75\\ngini = 0.5\\nsamples = 100\\nvalue = [0, 50, 50]'),\n",
       " Text(103.01538461538462, 126.83999999999999, 'X[2] <= 4.95\\ngini = 0.168\\nsamples = 54\\nvalue = [0, 49, 5]'),\n",
       " Text(51.50769230769231, 90.6, 'X[3] <= 1.65\\ngini = 0.041\\nsamples = 48\\nvalue = [0, 47, 1]'),\n",
       " Text(25.753846153846155, 54.359999999999985, 'gini = 0.0\\nsamples = 47\\nvalue = [0, 47, 0]'),\n",
       " Text(77.26153846153846, 54.359999999999985, 'gini = 0.0\\nsamples = 1\\nvalue = [0, 0, 1]'),\n",
       " Text(154.52307692307693, 90.6, 'X[3] <= 1.55\\ngini = 0.444\\nsamples = 6\\nvalue = [0, 2, 4]'),\n",
       " Text(128.76923076923077, 54.359999999999985, 'gini = 0.0\\nsamples = 3\\nvalue = [0, 0, 3]'),\n",
       " Text(180.27692307692308, 54.359999999999985, 'X[0] <= 6.95\\ngini = 0.444\\nsamples = 3\\nvalue = [0, 2, 1]'),\n",
       " Text(154.52307692307693, 18.119999999999976, 'gini = 0.0\\nsamples = 2\\nvalue = [0, 2, 0]'),\n",
       " Text(206.03076923076924, 18.119999999999976, 'gini = 0.0\\nsamples = 1\\nvalue = [0, 0, 1]'),\n",
       " Text(283.2923076923077, 126.83999999999999, 'X[2] <= 4.85\\ngini = 0.043\\nsamples = 46\\nvalue = [0, 1, 45]'),\n",
       " Text(257.53846153846155, 90.6, 'X[1] <= 3.1\\ngini = 0.444\\nsamples = 3\\nvalue = [0, 1, 2]'),\n",
       " Text(231.7846153846154, 54.359999999999985, 'gini = 0.0\\nsamples = 2\\nvalue = [0, 0, 2]'),\n",
       " Text(283.2923076923077, 54.359999999999985, 'gini = 0.0\\nsamples = 1\\nvalue = [0, 1, 0]'),\n",
       " Text(309.04615384615386, 90.6, 'gini = 0.0\\nsamples = 43\\nvalue = [0, 0, 43]')]"
      ]
     },
     "execution_count": 19,
     "metadata": {},
     "output_type": "execute_result"
    },
    {
     "data": {
      "image/png": "[encoded data removed]",
      "text/plain": [
       "<Figure size 432x288 with 1 Axes>"
      ]
     },
     "metadata": {},
     "output_type": "display_data"
    }
   ],
   "source": [
    "tree.plot_tree(model)"
   ]
  },
  {
   "cell_type": "markdown",
   "metadata": {
    "id": "AROy5ZJZcf0Z"
   },
   "source": [
    "##### graphviz를 사용한 시각화"
   ]
  },
  {
   "cell_type": "code",
   "execution_count": null,
   "metadata": {},
   "outputs": [],
   "source": []
  },
  {
   "cell_type": "code",
   "execution_count": 20,
   "metadata": {
    "id": "YORbOln-yYZB"
   },
   "outputs": [
    {
     "data": {
      "image/svg+xml": [
       "<?xml version=\"1.0\" encoding=\"UTF-8\" standalone=\"no\"?>\r\n",
       "<!DOCTYPE svg PUBLIC \"-//W3C//DTD SVG 1.1//EN\"\r\n",
       " \"http://www.w3.org/Graphics/SVG/1.1/DTD/svg11.dtd\">\r\n",
       "<!-- Generated by graphviz version 2.46.1 (20210213.1702)\r\n",
       " -->\r\n",
       "<!-- Title: Tree Pages: 1 -->\r\n",
       "<svg width=\"884pt\" height=\"671pt\"\r\n",
       " viewBox=\"0.00 0.00 884.00 671.00\" xmlns=\"http://www.w3.org/2000/svg\" xmlns:xlink=\"http://www.w3.org/1999/xlink\">\r\n",
       "<g id=\"graph0\" class=\"graph\" transform=\"scale(1 1) rotate(0) translate(4 667)\">\r\n",
       "<title>Tree</title>\r\n",
       "<polygon fill=\"white\" stroke=\"transparent\" points=\"-4,4 -4,-667 880,-667 880,4 -4,4\"/>\r\n",
       "<!-- 0 -->\r\n",
       "<g id=\"node1\" class=\"node\">\r\n",
       "<title>0</title>\r\n",
       "<path fill=\"#ffffff\" stroke=\"black\" d=\"M528,-663C528,-663 401,-663 401,-663 395,-663 389,-657 389,-651 389,-651 389,-592 389,-592 389,-586 395,-580 401,-580 401,-580 528,-580 528,-580 534,-580 540,-586 540,-592 540,-592 540,-651 540,-651 540,-657 534,-663 528,-663\"/>\r\n",
       "<text text-anchor=\"start\" x=\"397\" y=\"-647.8\" font-family=\"Helvetica,sans-Serif\" font-size=\"14.00\">petal width (cm) ≤ 0.8</text>\r\n",
       "<text text-anchor=\"start\" x=\"427\" y=\"-632.8\" font-family=\"Helvetica,sans-Serif\" font-size=\"14.00\">gini = 0.667</text>\r\n",
       "<text text-anchor=\"start\" x=\"417\" y=\"-617.8\" font-family=\"Helvetica,sans-Serif\" font-size=\"14.00\">samples = 150</text>\r\n",
       "<text text-anchor=\"start\" x=\"404\" y=\"-602.8\" font-family=\"Helvetica,sans-Serif\" font-size=\"14.00\">value = [50, 50, 50]</text>\r\n",
       "<text text-anchor=\"start\" x=\"418.5\" y=\"-587.8\" font-family=\"Helvetica,sans-Serif\" font-size=\"14.00\">class = setosa</text>\r\n",
       "</g>\r\n",
       "<!-- 1 -->\r\n",
       "<g id=\"node2\" class=\"node\">\r\n",
       "<title>1</title>\r\n",
       "<path fill=\"#e58139\" stroke=\"black\" d=\"M434,-536.5C434,-536.5 337,-536.5 337,-536.5 331,-536.5 325,-530.5 325,-524.5 325,-524.5 325,-480.5 325,-480.5 325,-474.5 331,-468.5 337,-468.5 337,-468.5 434,-468.5 434,-468.5 440,-468.5 446,-474.5 446,-480.5 446,-480.5 446,-524.5 446,-524.5 446,-530.5 440,-536.5 434,-536.5\"/>\r\n",
       "<text text-anchor=\"start\" x=\"356.5\" y=\"-521.3\" font-family=\"Helvetica,sans-Serif\" font-size=\"14.00\">gini = 0.0</text>\r\n",
       "<text text-anchor=\"start\" x=\"342\" y=\"-506.3\" font-family=\"Helvetica,sans-Serif\" font-size=\"14.00\">samples = 50</text>\r\n",
       "<text text-anchor=\"start\" x=\"333\" y=\"-491.3\" font-family=\"Helvetica,sans-Serif\" font-size=\"14.00\">value = [50, 0, 0]</text>\r\n",
       "<text text-anchor=\"start\" x=\"339.5\" y=\"-476.3\" font-family=\"Helvetica,sans-Serif\" font-size=\"14.00\">class = setosa</text>\r\n",
       "</g>\r\n",
       "<!-- 0&#45;&gt;1 -->\r\n",
       "<g id=\"edge1\" class=\"edge\">\r\n",
       "<title>0&#45;&gt;1</title>\r\n",
       "<path fill=\"none\" stroke=\"black\" d=\"M437.09,-579.91C429.49,-568.65 421.23,-556.42 413.59,-545.11\"/>\r\n",
       "<polygon fill=\"black\" stroke=\"black\" points=\"416.39,-543 407.89,-536.67 410.59,-546.91 416.39,-543\"/>\r\n",
       "<text text-anchor=\"middle\" x=\"403.14\" y=\"-557.51\" font-family=\"Helvetica,sans-Serif\" font-size=\"14.00\">True</text>\r\n",
       "</g>\r\n",
       "<!-- 2 -->\r\n",
       "<g id=\"node3\" class=\"node\">\r\n",
       "<title>2</title>\r\n",
       "<path fill=\"#ffffff\" stroke=\"black\" d=\"M611,-544C611,-544 476,-544 476,-544 470,-544 464,-538 464,-532 464,-532 464,-473 464,-473 464,-467 470,-461 476,-461 476,-461 611,-461 611,-461 617,-461 623,-467 623,-473 623,-473 623,-532 623,-532 623,-538 617,-544 611,-544\"/>\r\n",
       "<text text-anchor=\"start\" x=\"472\" y=\"-528.8\" font-family=\"Helvetica,sans-Serif\" font-size=\"14.00\">petal width (cm) ≤ 1.75</text>\r\n",
       "<text text-anchor=\"start\" x=\"514.5\" y=\"-513.8\" font-family=\"Helvetica,sans-Serif\" font-size=\"14.00\">gini = 0.5</text>\r\n",
       "<text text-anchor=\"start\" x=\"496\" y=\"-498.8\" font-family=\"Helvetica,sans-Serif\" font-size=\"14.00\">samples = 100</text>\r\n",
       "<text text-anchor=\"start\" x=\"487\" y=\"-483.8\" font-family=\"Helvetica,sans-Serif\" font-size=\"14.00\">value = [0, 50, 50]</text>\r\n",
       "<text text-anchor=\"start\" x=\"488\" y=\"-468.8\" font-family=\"Helvetica,sans-Serif\" font-size=\"14.00\">class = versicolor</text>\r\n",
       "</g>\r\n",
       "<!-- 0&#45;&gt;2 -->\r\n",
       "<g id=\"edge2\" class=\"edge\">\r\n",
       "<title>0&#45;&gt;2</title>\r\n",
       "<path fill=\"none\" stroke=\"black\" d=\"M491.91,-579.91C497.91,-571.01 504.33,-561.51 510.53,-552.33\"/>\r\n",
       "<polygon fill=\"black\" stroke=\"black\" points=\"513.44,-554.27 516.14,-544.02 507.64,-550.35 513.44,-554.27\"/>\r\n",
       "<text text-anchor=\"middle\" x=\"520.9\" y=\"-564.86\" font-family=\"Helvetica,sans-Serif\" font-size=\"14.00\">False</text>\r\n",
       "</g>\r\n",
       "<!-- 3 -->\r\n",
       "<g id=\"node4\" class=\"node\">\r\n",
       "<title>3</title>\r\n",
       "<path fill=\"#4de88e\" stroke=\"black\" d=\"M499,-425C499,-425 358,-425 358,-425 352,-425 346,-419 346,-413 346,-413 346,-354 346,-354 346,-348 352,-342 358,-342 358,-342 499,-342 499,-342 505,-342 511,-348 511,-354 511,-354 511,-413 511,-413 511,-419 505,-425 499,-425\"/>\r\n",
       "<text text-anchor=\"start\" x=\"354\" y=\"-409.8\" font-family=\"Helvetica,sans-Serif\" font-size=\"14.00\">petal length (cm) ≤ 4.95</text>\r\n",
       "<text text-anchor=\"start\" x=\"391\" y=\"-394.8\" font-family=\"Helvetica,sans-Serif\" font-size=\"14.00\">gini = 0.168</text>\r\n",
       "<text text-anchor=\"start\" x=\"385\" y=\"-379.8\" font-family=\"Helvetica,sans-Serif\" font-size=\"14.00\">samples = 54</text>\r\n",
       "<text text-anchor=\"start\" x=\"376\" y=\"-364.8\" font-family=\"Helvetica,sans-Serif\" font-size=\"14.00\">value = [0, 49, 5]</text>\r\n",
       "<text text-anchor=\"start\" x=\"373\" y=\"-349.8\" font-family=\"Helvetica,sans-Serif\" font-size=\"14.00\">class = versicolor</text>\r\n",
       "</g>\r\n",
       "<!-- 2&#45;&gt;3 -->\r\n",
       "<g id=\"edge3\" class=\"edge\">\r\n",
       "<title>2&#45;&gt;3</title>\r\n",
       "<path fill=\"none\" stroke=\"black\" d=\"M503.6,-460.91C494.5,-451.65 484.75,-441.73 475.39,-432.21\"/>\r\n",
       "<polygon fill=\"black\" stroke=\"black\" points=\"477.83,-429.7 468.33,-425.02 472.84,-434.61 477.83,-429.7\"/>\r\n",
       "</g>\r\n",
       "<!-- 12 -->\r\n",
       "<g id=\"node13\" class=\"node\">\r\n",
       "<title>12</title>\r\n",
       "<path fill=\"#843de6\" stroke=\"black\" d=\"M730,-425C730,-425 589,-425 589,-425 583,-425 577,-419 577,-413 577,-413 577,-354 577,-354 577,-348 583,-342 589,-342 589,-342 730,-342 730,-342 736,-342 742,-348 742,-354 742,-354 742,-413 742,-413 742,-419 736,-425 730,-425\"/>\r\n",
       "<text text-anchor=\"start\" x=\"585\" y=\"-409.8\" font-family=\"Helvetica,sans-Serif\" font-size=\"14.00\">petal length (cm) ≤ 4.85</text>\r\n",
       "<text text-anchor=\"start\" x=\"622\" y=\"-394.8\" font-family=\"Helvetica,sans-Serif\" font-size=\"14.00\">gini = 0.043</text>\r\n",
       "<text text-anchor=\"start\" x=\"616\" y=\"-379.8\" font-family=\"Helvetica,sans-Serif\" font-size=\"14.00\">samples = 46</text>\r\n",
       "<text text-anchor=\"start\" x=\"607\" y=\"-364.8\" font-family=\"Helvetica,sans-Serif\" font-size=\"14.00\">value = [0, 1, 45]</text>\r\n",
       "<text text-anchor=\"start\" x=\"609.5\" y=\"-349.8\" font-family=\"Helvetica,sans-Serif\" font-size=\"14.00\">class = virginica</text>\r\n",
       "</g>\r\n",
       "<!-- 2&#45;&gt;12 -->\r\n",
       "<g id=\"edge12\" class=\"edge\">\r\n",
       "<title>2&#45;&gt;12</title>\r\n",
       "<path fill=\"none\" stroke=\"black\" d=\"M583.75,-460.91C592.92,-451.65 602.76,-441.73 612.2,-432.21\"/>\r\n",
       "<polygon fill=\"black\" stroke=\"black\" points=\"614.77,-434.59 619.33,-425.02 609.8,-429.66 614.77,-434.59\"/>\r\n",
       "</g>\r\n",
       "<!-- 4 -->\r\n",
       "<g id=\"node5\" class=\"node\">\r\n",
       "<title>4</title>\r\n",
       "<path fill=\"#3de684\" stroke=\"black\" d=\"M271,-306C271,-306 136,-306 136,-306 130,-306 124,-300 124,-294 124,-294 124,-235 124,-235 124,-229 130,-223 136,-223 136,-223 271,-223 271,-223 277,-223 283,-229 283,-235 283,-235 283,-294 283,-294 283,-300 277,-306 271,-306\"/>\r\n",
       "<text text-anchor=\"start\" x=\"132\" y=\"-290.8\" font-family=\"Helvetica,sans-Serif\" font-size=\"14.00\">petal width (cm) ≤ 1.65</text>\r\n",
       "<text text-anchor=\"start\" x=\"166\" y=\"-275.8\" font-family=\"Helvetica,sans-Serif\" font-size=\"14.00\">gini = 0.041</text>\r\n",
       "<text text-anchor=\"start\" x=\"160\" y=\"-260.8\" font-family=\"Helvetica,sans-Serif\" font-size=\"14.00\">samples = 48</text>\r\n",
       "<text text-anchor=\"start\" x=\"151\" y=\"-245.8\" font-family=\"Helvetica,sans-Serif\" font-size=\"14.00\">value = [0, 47, 1]</text>\r\n",
       "<text text-anchor=\"start\" x=\"148\" y=\"-230.8\" font-family=\"Helvetica,sans-Serif\" font-size=\"14.00\">class = versicolor</text>\r\n",
       "</g>\r\n",
       "<!-- 3&#45;&gt;4 -->\r\n",
       "<g id=\"edge4\" class=\"edge\">\r\n",
       "<title>3&#45;&gt;4</title>\r\n",
       "<path fill=\"none\" stroke=\"black\" d=\"M350.44,-341.91C331.07,-331.83 310.19,-320.98 290.42,-310.7\"/>\r\n",
       "<polygon fill=\"black\" stroke=\"black\" points=\"291.91,-307.53 281.42,-306.02 288.68,-313.74 291.91,-307.53\"/>\r\n",
       "</g>\r\n",
       "<!-- 7 -->\r\n",
       "<g id=\"node8\" class=\"node\">\r\n",
       "<title>7</title>\r\n",
       "<path fill=\"#c09cf2\" stroke=\"black\" d=\"M496,-306C496,-306 361,-306 361,-306 355,-306 349,-300 349,-294 349,-294 349,-235 349,-235 349,-229 355,-223 361,-223 361,-223 496,-223 496,-223 502,-223 508,-229 508,-235 508,-235 508,-294 508,-294 508,-300 502,-306 496,-306\"/>\r\n",
       "<text text-anchor=\"start\" x=\"357\" y=\"-290.8\" font-family=\"Helvetica,sans-Serif\" font-size=\"14.00\">petal width (cm) ≤ 1.55</text>\r\n",
       "<text text-anchor=\"start\" x=\"391\" y=\"-275.8\" font-family=\"Helvetica,sans-Serif\" font-size=\"14.00\">gini = 0.444</text>\r\n",
       "<text text-anchor=\"start\" x=\"389\" y=\"-260.8\" font-family=\"Helvetica,sans-Serif\" font-size=\"14.00\">samples = 6</text>\r\n",
       "<text text-anchor=\"start\" x=\"380\" y=\"-245.8\" font-family=\"Helvetica,sans-Serif\" font-size=\"14.00\">value = [0, 2, 4]</text>\r\n",
       "<text text-anchor=\"start\" x=\"378.5\" y=\"-230.8\" font-family=\"Helvetica,sans-Serif\" font-size=\"14.00\">class = virginica</text>\r\n",
       "</g>\r\n",
       "<!-- 3&#45;&gt;7 -->\r\n",
       "<g id=\"edge7\" class=\"edge\">\r\n",
       "<title>3&#45;&gt;7</title>\r\n",
       "<path fill=\"none\" stroke=\"black\" d=\"M428.5,-341.91C428.5,-333.65 428.5,-324.86 428.5,-316.3\"/>\r\n",
       "<polygon fill=\"black\" stroke=\"black\" points=\"432,-316.02 428.5,-306.02 425,-316.02 432,-316.02\"/>\r\n",
       "</g>\r\n",
       "<!-- 5 -->\r\n",
       "<g id=\"node6\" class=\"node\">\r\n",
       "<title>5</title>\r\n",
       "<path fill=\"#39e581\" stroke=\"black\" d=\"M115,-179.5C115,-179.5 12,-179.5 12,-179.5 6,-179.5 0,-173.5 0,-167.5 0,-167.5 0,-123.5 0,-123.5 0,-117.5 6,-111.5 12,-111.5 12,-111.5 115,-111.5 115,-111.5 121,-111.5 127,-117.5 127,-123.5 127,-123.5 127,-167.5 127,-167.5 127,-173.5 121,-179.5 115,-179.5\"/>\r\n",
       "<text text-anchor=\"start\" x=\"34.5\" y=\"-164.3\" font-family=\"Helvetica,sans-Serif\" font-size=\"14.00\">gini = 0.0</text>\r\n",
       "<text text-anchor=\"start\" x=\"20\" y=\"-149.3\" font-family=\"Helvetica,sans-Serif\" font-size=\"14.00\">samples = 47</text>\r\n",
       "<text text-anchor=\"start\" x=\"11\" y=\"-134.3\" font-family=\"Helvetica,sans-Serif\" font-size=\"14.00\">value = [0, 47, 0]</text>\r\n",
       "<text text-anchor=\"start\" x=\"8\" y=\"-119.3\" font-family=\"Helvetica,sans-Serif\" font-size=\"14.00\">class = versicolor</text>\r\n",
       "</g>\r\n",
       "<!-- 4&#45;&gt;5 -->\r\n",
       "<g id=\"edge5\" class=\"edge\">\r\n",
       "<title>4&#45;&gt;5</title>\r\n",
       "<path fill=\"none\" stroke=\"black\" d=\"M154.93,-222.91C140.67,-210.99 125.09,-197.98 110.91,-186.12\"/>\r\n",
       "<polygon fill=\"black\" stroke=\"black\" points=\"113.1,-183.39 103.19,-179.67 108.62,-188.77 113.1,-183.39\"/>\r\n",
       "</g>\r\n",
       "<!-- 6 -->\r\n",
       "<g id=\"node7\" class=\"node\">\r\n",
       "<title>6</title>\r\n",
       "<path fill=\"#8139e5\" stroke=\"black\" d=\"M249.5,-179.5C249.5,-179.5 157.5,-179.5 157.5,-179.5 151.5,-179.5 145.5,-173.5 145.5,-167.5 145.5,-167.5 145.5,-123.5 145.5,-123.5 145.5,-117.5 151.5,-111.5 157.5,-111.5 157.5,-111.5 249.5,-111.5 249.5,-111.5 255.5,-111.5 261.5,-117.5 261.5,-123.5 261.5,-123.5 261.5,-167.5 261.5,-167.5 261.5,-173.5 255.5,-179.5 249.5,-179.5\"/>\r\n",
       "<text text-anchor=\"start\" x=\"174.5\" y=\"-164.3\" font-family=\"Helvetica,sans-Serif\" font-size=\"14.00\">gini = 0.0</text>\r\n",
       "<text text-anchor=\"start\" x=\"164\" y=\"-149.3\" font-family=\"Helvetica,sans-Serif\" font-size=\"14.00\">samples = 1</text>\r\n",
       "<text text-anchor=\"start\" x=\"155\" y=\"-134.3\" font-family=\"Helvetica,sans-Serif\" font-size=\"14.00\">value = [0, 0, 1]</text>\r\n",
       "<text text-anchor=\"start\" x=\"153.5\" y=\"-119.3\" font-family=\"Helvetica,sans-Serif\" font-size=\"14.00\">class = virginica</text>\r\n",
       "</g>\r\n",
       "<!-- 4&#45;&gt;6 -->\r\n",
       "<g id=\"edge6\" class=\"edge\">\r\n",
       "<title>4&#45;&gt;6</title>\r\n",
       "<path fill=\"none\" stroke=\"black\" d=\"M203.5,-222.91C203.5,-212.2 203.5,-200.62 203.5,-189.78\"/>\r\n",
       "<polygon fill=\"black\" stroke=\"black\" points=\"207,-189.67 203.5,-179.67 200,-189.67 207,-189.67\"/>\r\n",
       "</g>\r\n",
       "<!-- 8 -->\r\n",
       "<g id=\"node9\" class=\"node\">\r\n",
       "<title>8</title>\r\n",
       "<path fill=\"#8139e5\" stroke=\"black\" d=\"M383.5,-179.5C383.5,-179.5 291.5,-179.5 291.5,-179.5 285.5,-179.5 279.5,-173.5 279.5,-167.5 279.5,-167.5 279.5,-123.5 279.5,-123.5 279.5,-117.5 285.5,-111.5 291.5,-111.5 291.5,-111.5 383.5,-111.5 383.5,-111.5 389.5,-111.5 395.5,-117.5 395.5,-123.5 395.5,-123.5 395.5,-167.5 395.5,-167.5 395.5,-173.5 389.5,-179.5 383.5,-179.5\"/>\r\n",
       "<text text-anchor=\"start\" x=\"308.5\" y=\"-164.3\" font-family=\"Helvetica,sans-Serif\" font-size=\"14.00\">gini = 0.0</text>\r\n",
       "<text text-anchor=\"start\" x=\"298\" y=\"-149.3\" font-family=\"Helvetica,sans-Serif\" font-size=\"14.00\">samples = 3</text>\r\n",
       "<text text-anchor=\"start\" x=\"289\" y=\"-134.3\" font-family=\"Helvetica,sans-Serif\" font-size=\"14.00\">value = [0, 0, 3]</text>\r\n",
       "<text text-anchor=\"start\" x=\"287.5\" y=\"-119.3\" font-family=\"Helvetica,sans-Serif\" font-size=\"14.00\">class = virginica</text>\r\n",
       "</g>\r\n",
       "<!-- 7&#45;&gt;8 -->\r\n",
       "<g id=\"edge8\" class=\"edge\">\r\n",
       "<title>7&#45;&gt;8</title>\r\n",
       "<path fill=\"none\" stroke=\"black\" d=\"M396.93,-222.91C388.09,-211.54 378.47,-199.18 369.6,-187.77\"/>\r\n",
       "<polygon fill=\"black\" stroke=\"black\" points=\"372.2,-185.41 363.3,-179.67 366.67,-189.71 372.2,-185.41\"/>\r\n",
       "</g>\r\n",
       "<!-- 9 -->\r\n",
       "<g id=\"node10\" class=\"node\">\r\n",
       "<title>9</title>\r\n",
       "<path fill=\"#9cf2c0\" stroke=\"black\" d=\"M571,-187C571,-187 426,-187 426,-187 420,-187 414,-181 414,-175 414,-175 414,-116 414,-116 414,-110 420,-104 426,-104 426,-104 571,-104 571,-104 577,-104 583,-110 583,-116 583,-116 583,-175 583,-175 583,-181 577,-187 571,-187\"/>\r\n",
       "<text text-anchor=\"start\" x=\"422\" y=\"-171.8\" font-family=\"Helvetica,sans-Serif\" font-size=\"14.00\">sepal length (cm) ≤ 6.95</text>\r\n",
       "<text text-anchor=\"start\" x=\"461\" y=\"-156.8\" font-family=\"Helvetica,sans-Serif\" font-size=\"14.00\">gini = 0.444</text>\r\n",
       "<text text-anchor=\"start\" x=\"459\" y=\"-141.8\" font-family=\"Helvetica,sans-Serif\" font-size=\"14.00\">samples = 3</text>\r\n",
       "<text text-anchor=\"start\" x=\"450\" y=\"-126.8\" font-family=\"Helvetica,sans-Serif\" font-size=\"14.00\">value = [0, 2, 1]</text>\r\n",
       "<text text-anchor=\"start\" x=\"443\" y=\"-111.8\" font-family=\"Helvetica,sans-Serif\" font-size=\"14.00\">class = versicolor</text>\r\n",
       "</g>\r\n",
       "<!-- 7&#45;&gt;9 -->\r\n",
       "<g id=\"edge9\" class=\"edge\">\r\n",
       "<title>7&#45;&gt;9</title>\r\n",
       "<path fill=\"none\" stroke=\"black\" d=\"M452.79,-222.91C458.05,-214.1 463.68,-204.7 469.12,-195.61\"/>\r\n",
       "<polygon fill=\"black\" stroke=\"black\" points=\"472.13,-197.4 474.26,-187.02 466.12,-193.81 472.13,-197.4\"/>\r\n",
       "</g>\r\n",
       "<!-- 10 -->\r\n",
       "<g id=\"node11\" class=\"node\">\r\n",
       "<title>10</title>\r\n",
       "<path fill=\"#39e581\" stroke=\"black\" d=\"M480,-68C480,-68 377,-68 377,-68 371,-68 365,-62 365,-56 365,-56 365,-12 365,-12 365,-6 371,0 377,0 377,0 480,0 480,0 486,0 492,-6 492,-12 492,-12 492,-56 492,-56 492,-62 486,-68 480,-68\"/>\r\n",
       "<text text-anchor=\"start\" x=\"399.5\" y=\"-52.8\" font-family=\"Helvetica,sans-Serif\" font-size=\"14.00\">gini = 0.0</text>\r\n",
       "<text text-anchor=\"start\" x=\"389\" y=\"-37.8\" font-family=\"Helvetica,sans-Serif\" font-size=\"14.00\">samples = 2</text>\r\n",
       "<text text-anchor=\"start\" x=\"380\" y=\"-22.8\" font-family=\"Helvetica,sans-Serif\" font-size=\"14.00\">value = [0, 2, 0]</text>\r\n",
       "<text text-anchor=\"start\" x=\"373\" y=\"-7.8\" font-family=\"Helvetica,sans-Serif\" font-size=\"14.00\">class = versicolor</text>\r\n",
       "</g>\r\n",
       "<!-- 9&#45;&gt;10 -->\r\n",
       "<g id=\"edge10\" class=\"edge\">\r\n",
       "<title>9&#45;&gt;10</title>\r\n",
       "<path fill=\"none\" stroke=\"black\" d=\"M472.43,-103.73C466.84,-94.97 460.91,-85.7 455.29,-76.91\"/>\r\n",
       "<polygon fill=\"black\" stroke=\"black\" points=\"458.12,-74.84 449.79,-68.3 452.22,-78.61 458.12,-74.84\"/>\r\n",
       "</g>\r\n",
       "<!-- 11 -->\r\n",
       "<g id=\"node12\" class=\"node\">\r\n",
       "<title>11</title>\r\n",
       "<path fill=\"#8139e5\" stroke=\"black\" d=\"M614.5,-68C614.5,-68 522.5,-68 522.5,-68 516.5,-68 510.5,-62 510.5,-56 510.5,-56 510.5,-12 510.5,-12 510.5,-6 516.5,0 522.5,0 522.5,0 614.5,0 614.5,0 620.5,0 626.5,-6 626.5,-12 626.5,-12 626.5,-56 626.5,-56 626.5,-62 620.5,-68 614.5,-68\"/>\r\n",
       "<text text-anchor=\"start\" x=\"539.5\" y=\"-52.8\" font-family=\"Helvetica,sans-Serif\" font-size=\"14.00\">gini = 0.0</text>\r\n",
       "<text text-anchor=\"start\" x=\"529\" y=\"-37.8\" font-family=\"Helvetica,sans-Serif\" font-size=\"14.00\">samples = 1</text>\r\n",
       "<text text-anchor=\"start\" x=\"520\" y=\"-22.8\" font-family=\"Helvetica,sans-Serif\" font-size=\"14.00\">value = [0, 0, 1]</text>\r\n",
       "<text text-anchor=\"start\" x=\"518.5\" y=\"-7.8\" font-family=\"Helvetica,sans-Serif\" font-size=\"14.00\">class = virginica</text>\r\n",
       "</g>\r\n",
       "<!-- 9&#45;&gt;11 -->\r\n",
       "<g id=\"edge11\" class=\"edge\">\r\n",
       "<title>9&#45;&gt;11</title>\r\n",
       "<path fill=\"none\" stroke=\"black\" d=\"M524.57,-103.73C530.16,-94.97 536.09,-85.7 541.71,-76.91\"/>\r\n",
       "<polygon fill=\"black\" stroke=\"black\" points=\"544.78,-78.61 547.21,-68.3 538.88,-74.84 544.78,-78.61\"/>\r\n",
       "</g>\r\n",
       "<!-- 13 -->\r\n",
       "<g id=\"node14\" class=\"node\">\r\n",
       "<title>13</title>\r\n",
       "<path fill=\"#c09cf2\" stroke=\"black\" d=\"M725,-306C725,-306 594,-306 594,-306 588,-306 582,-300 582,-294 582,-294 582,-235 582,-235 582,-229 588,-223 594,-223 594,-223 725,-223 725,-223 731,-223 737,-229 737,-235 737,-235 737,-294 737,-294 737,-300 731,-306 725,-306\"/>\r\n",
       "<text text-anchor=\"start\" x=\"590\" y=\"-290.8\" font-family=\"Helvetica,sans-Serif\" font-size=\"14.00\">sepal width (cm) ≤ 3.1</text>\r\n",
       "<text text-anchor=\"start\" x=\"622\" y=\"-275.8\" font-family=\"Helvetica,sans-Serif\" font-size=\"14.00\">gini = 0.444</text>\r\n",
       "<text text-anchor=\"start\" x=\"620\" y=\"-260.8\" font-family=\"Helvetica,sans-Serif\" font-size=\"14.00\">samples = 3</text>\r\n",
       "<text text-anchor=\"start\" x=\"611\" y=\"-245.8\" font-family=\"Helvetica,sans-Serif\" font-size=\"14.00\">value = [0, 1, 2]</text>\r\n",
       "<text text-anchor=\"start\" x=\"609.5\" y=\"-230.8\" font-family=\"Helvetica,sans-Serif\" font-size=\"14.00\">class = virginica</text>\r\n",
       "</g>\r\n",
       "<!-- 12&#45;&gt;13 -->\r\n",
       "<g id=\"edge13\" class=\"edge\">\r\n",
       "<title>12&#45;&gt;13</title>\r\n",
       "<path fill=\"none\" stroke=\"black\" d=\"M659.5,-341.91C659.5,-333.65 659.5,-324.86 659.5,-316.3\"/>\r\n",
       "<polygon fill=\"black\" stroke=\"black\" points=\"663,-316.02 659.5,-306.02 656,-316.02 663,-316.02\"/>\r\n",
       "</g>\r\n",
       "<!-- 16 -->\r\n",
       "<g id=\"node17\" class=\"node\">\r\n",
       "<title>16</title>\r\n",
       "<path fill=\"#8139e5\" stroke=\"black\" d=\"M864,-298.5C864,-298.5 767,-298.5 767,-298.5 761,-298.5 755,-292.5 755,-286.5 755,-286.5 755,-242.5 755,-242.5 755,-236.5 761,-230.5 767,-230.5 767,-230.5 864,-230.5 864,-230.5 870,-230.5 876,-236.5 876,-242.5 876,-242.5 876,-286.5 876,-286.5 876,-292.5 870,-298.5 864,-298.5\"/>\r\n",
       "<text text-anchor=\"start\" x=\"786.5\" y=\"-283.3\" font-family=\"Helvetica,sans-Serif\" font-size=\"14.00\">gini = 0.0</text>\r\n",
       "<text text-anchor=\"start\" x=\"772\" y=\"-268.3\" font-family=\"Helvetica,sans-Serif\" font-size=\"14.00\">samples = 43</text>\r\n",
       "<text text-anchor=\"start\" x=\"763\" y=\"-253.3\" font-family=\"Helvetica,sans-Serif\" font-size=\"14.00\">value = [0, 0, 43]</text>\r\n",
       "<text text-anchor=\"start\" x=\"765.5\" y=\"-238.3\" font-family=\"Helvetica,sans-Serif\" font-size=\"14.00\">class = virginica</text>\r\n",
       "</g>\r\n",
       "<!-- 12&#45;&gt;16 -->\r\n",
       "<g id=\"edge16\" class=\"edge\">\r\n",
       "<title>12&#45;&gt;16</title>\r\n",
       "<path fill=\"none\" stroke=\"black\" d=\"M713.62,-341.91C729.66,-329.88 747.19,-316.73 763.11,-304.79\"/>\r\n",
       "<polygon fill=\"black\" stroke=\"black\" points=\"765.38,-307.47 771.28,-298.67 761.18,-301.87 765.38,-307.47\"/>\r\n",
       "</g>\r\n",
       "<!-- 14 -->\r\n",
       "<g id=\"node15\" class=\"node\">\r\n",
       "<title>14</title>\r\n",
       "<path fill=\"#8139e5\" stroke=\"black\" d=\"M705.5,-179.5C705.5,-179.5 613.5,-179.5 613.5,-179.5 607.5,-179.5 601.5,-173.5 601.5,-167.5 601.5,-167.5 601.5,-123.5 601.5,-123.5 601.5,-117.5 607.5,-111.5 613.5,-111.5 613.5,-111.5 705.5,-111.5 705.5,-111.5 711.5,-111.5 717.5,-117.5 717.5,-123.5 717.5,-123.5 717.5,-167.5 717.5,-167.5 717.5,-173.5 711.5,-179.5 705.5,-179.5\"/>\r\n",
       "<text text-anchor=\"start\" x=\"630.5\" y=\"-164.3\" font-family=\"Helvetica,sans-Serif\" font-size=\"14.00\">gini = 0.0</text>\r\n",
       "<text text-anchor=\"start\" x=\"620\" y=\"-149.3\" font-family=\"Helvetica,sans-Serif\" font-size=\"14.00\">samples = 2</text>\r\n",
       "<text text-anchor=\"start\" x=\"611\" y=\"-134.3\" font-family=\"Helvetica,sans-Serif\" font-size=\"14.00\">value = [0, 0, 2]</text>\r\n",
       "<text text-anchor=\"start\" x=\"609.5\" y=\"-119.3\" font-family=\"Helvetica,sans-Serif\" font-size=\"14.00\">class = virginica</text>\r\n",
       "</g>\r\n",
       "<!-- 13&#45;&gt;14 -->\r\n",
       "<g id=\"edge14\" class=\"edge\">\r\n",
       "<title>13&#45;&gt;14</title>\r\n",
       "<path fill=\"none\" stroke=\"black\" d=\"M659.5,-222.91C659.5,-212.2 659.5,-200.62 659.5,-189.78\"/>\r\n",
       "<polygon fill=\"black\" stroke=\"black\" points=\"663,-189.67 659.5,-179.67 656,-189.67 663,-189.67\"/>\r\n",
       "</g>\r\n",
       "<!-- 15 -->\r\n",
       "<g id=\"node16\" class=\"node\">\r\n",
       "<title>15</title>\r\n",
       "<path fill=\"#39e581\" stroke=\"black\" d=\"M851,-179.5C851,-179.5 748,-179.5 748,-179.5 742,-179.5 736,-173.5 736,-167.5 736,-167.5 736,-123.5 736,-123.5 736,-117.5 742,-111.5 748,-111.5 748,-111.5 851,-111.5 851,-111.5 857,-111.5 863,-117.5 863,-123.5 863,-123.5 863,-167.5 863,-167.5 863,-173.5 857,-179.5 851,-179.5\"/>\r\n",
       "<text text-anchor=\"start\" x=\"770.5\" y=\"-164.3\" font-family=\"Helvetica,sans-Serif\" font-size=\"14.00\">gini = 0.0</text>\r\n",
       "<text text-anchor=\"start\" x=\"760\" y=\"-149.3\" font-family=\"Helvetica,sans-Serif\" font-size=\"14.00\">samples = 1</text>\r\n",
       "<text text-anchor=\"start\" x=\"751\" y=\"-134.3\" font-family=\"Helvetica,sans-Serif\" font-size=\"14.00\">value = [0, 1, 0]</text>\r\n",
       "<text text-anchor=\"start\" x=\"744\" y=\"-119.3\" font-family=\"Helvetica,sans-Serif\" font-size=\"14.00\">class = versicolor</text>\r\n",
       "</g>\r\n",
       "<!-- 13&#45;&gt;15 -->\r\n",
       "<g id=\"edge15\" class=\"edge\">\r\n",
       "<title>13&#45;&gt;15</title>\r\n",
       "<path fill=\"none\" stroke=\"black\" d=\"M708.07,-222.91C722.33,-210.99 737.91,-197.98 752.09,-186.12\"/>\r\n",
       "<polygon fill=\"black\" stroke=\"black\" points=\"754.38,-188.77 759.81,-179.67 749.9,-183.39 754.38,-188.77\"/>\r\n",
       "</g>\r\n",
       "</g>\r\n",
       "</svg>\r\n"
      ],
      "text/plain": [
       "<graphviz.files.Source at 0x196aed01520>"
      ]
     },
     "execution_count": 20,
     "metadata": {},
     "output_type": "execute_result"
    }
   ],
   "source": [
    "dot_data = tree.export_graphviz (decision_tree=model,\n",
    "                                feature_names=iris.feature_names,\n",
    "                                class_names=iris.target_names,\n",
    "                                filled=True, rounded=True,\n",
    "                                 # filled : 색을 칠하는주는 것 \n",
    "                                 # rounded : 모서리가 둥그렇게 출력해주는 코드 \n",
    "                                special_characters=True)\n",
    "\n",
    "graph = graphviz.Source(dot_data)\n",
    "graph"
   ]
  },
  {
   "cell_type": "markdown",
   "metadata": {
    "id": "5oBojyy9wxZ4"
   },
   "source": [
    "#### 시각화"
   ]
  },
  {
   "cell_type": "code",
   "execution_count": 29,
   "metadata": {
    "id": "YHlSKnLN3Lva"
   },
   "outputs": [],
   "source": [
    "n_classes = 3\n",
    "plot_colors = \"ryb\"\n",
    "plot_step = 0.02"
   ]
  },
  {
   "cell_type": "markdown",
   "metadata": {
    "id": "JDfF8OOX2XkP"
   },
   "source": [
    "##### 결정 경계 시각화"
   ]
  },
  {
   "cell_type": "code",
   "execution_count": 31,
   "metadata": {
    "id": "Hy9nQO9s1D5M"
   },
   "outputs": [
    {
     "data": {
      "image/png": "[encoded data removed]",
      "text/plain": [
       "<Figure size 1152x576 with 6 Axes>"
      ]
     },
     "metadata": {},
     "output_type": "display_data"
    }
   ],
   "source": [
    "plt.figure(figsize=(16,8))\n",
    "\n",
    "for pairidx, pair in enumerate([[0,1],[0,2], [0, 3], [1,2],[1,3],[2,3]]):\n",
    "    X = iris.data[:, pair]\n",
    "    y = iris.target\n",
    "    \n",
    "    model = DecisionTreeClassifier()\n",
    "    model = model.fit(X,y)\n",
    "    \n",
    "    plt.subplot(2, 3, pairidx +1)\n",
    "    \n",
    "    x_min, x_max = X[:,0].min()-1, X[:,0].max()+1\n",
    "    y_min, y_max = X[:,0].min()-1, X[:,0].max()+1\n",
    "    xx, yy = np.meshgrid(np.arange(x_min, x_max, plot_step),\n",
    "                         np.arange(y_min, y_max, plot_step))\n",
    "    plt.tight_layout(h_pad=-0.5, w_pad=0.5, pad=2.5)\n",
    "    \n",
    "    Z = model.predict(np.c_[xx.ravel(), yy.ravel()])\n",
    "    Z = Z.reshape(xx.shape)\n",
    "    cs = plt.contourf(xx,yy,Z,cmap=plt.cm.RdYlBu)\n",
    "    \n",
    "    plt.xlabel(iris.feature_names[pair[0]])\n",
    "    plt.ylabel(iris.feature_names[pair[1]])\n",
    "    \n",
    "    for i, color in zip(range(n_classes), plot_colors):\n",
    "        idx = np.where(y==i)\n",
    "        plt.scatter(X[idx, 0], X[idx, 1], c=color, label=iris.target_names[i],\n",
    "                   cmap=plt.cm.RdYlBu, edgecolor=\"b\", s=15)\n",
    "    \n",
    "    plt.suptitle(\"Decision surface\")\n",
    "    plt.legend(loc=\"lower right\", borderpad=0, handletextpad=0)\n",
    "    plt.axis(\"tight\")"
   ]
  },
  {
   "cell_type": "markdown",
   "metadata": {
    "id": "RIkiV_lm5eKu"
   },
   "source": [
    "##### 하이퍼파리미터를 변경해 보면서 결정 경계의 변화 확인"
   ]
  },
  {
   "cell_type": "code",
   "execution_count": 32,
   "metadata": {
    "id": "F97kaCJV1yQZ"
   },
   "outputs": [
    {
     "data": {
      "image/png": "[encoded data removed]",
      "text/plain": [
       "<Figure size 1152x576 with 6 Axes>"
      ]
     },
     "metadata": {},
     "output_type": "display_data"
    }
   ],
   "source": [
    "plt.figure(figsize=(16,8))\n",
    "\n",
    "for pairidx, pair in enumerate([[0,1],[0,2], [0, 3], [1,2],[1,3],[2,3]]):\n",
    "    X = iris.data[:, pair]\n",
    "    y = iris.target\n",
    "    \n",
    "    model = DecisionTreeClassifier(max_depth=2)\n",
    "    model = model.fit(X,y)\n",
    "    \n",
    "    plt.subplot(2, 3, pairidx +1)\n",
    "    \n",
    "    x_min, x_max = X[:,0].min()-1, X[:,0].max()+1\n",
    "    y_min, y_max = X[:,0].min()-1, X[:,0].max()+1\n",
    "    xx, yy = np.meshgrid(np.arange(x_min, x_max, plot_step),\n",
    "                         np.arange(y_min, y_max, plot_step))\n",
    "    plt.tight_layout(h_pad=-0.5, w_pad=0.5, pad=2.5)\n",
    "    \n",
    "    Z = model.predict(np.c_[xx.ravel(), yy.ravel()])\n",
    "    Z = Z.reshape(xx.shape)\n",
    "    cs = plt.contourf(xx,yy,Z,cmap=plt.cm.RdYlBu)\n",
    "    \n",
    "    plt.xlabel(iris.feature_names[pair[0]])\n",
    "    plt.ylabel(iris.feature_names[pair[1]])\n",
    "    \n",
    "    for i, color in zip(range(n_classes), plot_colors):\n",
    "        idx = np.where(y==i)\n",
    "        plt.scatter(X[idx, 0], X[idx, 1], c=color, label=iris.target_names[i],\n",
    "                   cmap=plt.cm.RdYlBu, edgecolor=\"b\", s=15)\n",
    "    \n",
    "    plt.suptitle(\"Decision surface\")\n",
    "    plt.legend(loc=\"lower right\", borderpad=0, handletextpad=0)\n",
    "    plt.axis(\"tight\")"
   ]
  },
  {
   "cell_type": "markdown",
   "metadata": {
    "id": "gWjcDyF-uuOf"
   },
   "source": [
    "### 와인 데이터 학습"
   ]
  },
  {
   "cell_type": "markdown",
   "metadata": {
    "id": "NnO_P36HuyU9"
   },
   "source": [
    "#### 교차 검증"
   ]
  },
  {
   "cell_type": "markdown",
   "metadata": {
    "id": "ekUCUhanvlhs"
   },
   "source": [
    "##### 전처리 없이 학습"
   ]
  },
  {
   "cell_type": "code",
   "execution_count": null,
   "metadata": {
    "id": "z74Ov-kVvf-b"
   },
   "outputs": [],
   "source": [
    "model = DecisionTreeClassifier()"
   ]
  },
  {
   "cell_type": "code",
   "execution_count": 34,
   "metadata": {
    "id": "wQwLy-rGvoEg"
   },
   "outputs": [
    {
     "data": {
      "text/plain": [
       "array([0.80555556, 0.80555556, 0.77777778, 0.74285714, 0.97142857])"
      ]
     },
     "execution_count": 34,
     "metadata": {},
     "output_type": "execute_result"
    }
   ],
   "source": [
    "cross_val_score(\n",
    "    estimator=model,\n",
    "    X=wine.data, y=wine.target,\n",
    "    cv=5,\n",
    "    n_jobs=-1)"
   ]
  },
  {
   "cell_type": "markdown",
   "metadata": {
    "id": "iqaeZ9szvxbi"
   },
   "source": [
    "##### 전처리 후 학습"
   ]
  },
  {
   "cell_type": "code",
   "execution_count": 35,
   "metadata": {
    "id": "2VymgUWZv0JS"
   },
   "outputs": [],
   "source": [
    "model = make_pipeline(StandardScaler(), DecisionTreeClassifier())"
   ]
  },
  {
   "cell_type": "code",
   "execution_count": 36,
   "metadata": {
    "id": "w555gJvLv195"
   },
   "outputs": [
    {
     "data": {
      "text/plain": [
       "array([0.91666667, 0.80555556, 0.83333333, 0.91428571, 0.85714286])"
      ]
     },
     "execution_count": 36,
     "metadata": {},
     "output_type": "execute_result"
    }
   ],
   "source": [
    "cross_val_score(\n",
    "    estimator=model,\n",
    "    X=wine.data, y=wine.target,\n",
    "    cv=5,\n",
    "    n_jobs=-1)"
   ]
  },
  {
   "cell_type": "markdown",
   "metadata": {
    "id": "Wg3vEchTu1G_"
   },
   "source": [
    "#### 학습된 결정 트리 시각화"
   ]
  },
  {
   "cell_type": "code",
   "execution_count": 41,
   "metadata": {
    "id": "u1zgjL8OwMdl"
   },
   "outputs": [
    {
     "data": {
      "text/plain": [
       "DecisionTreeClassifier()"
      ]
     },
     "execution_count": 41,
     "metadata": {},
     "output_type": "execute_result"
    }
   ],
   "source": [
    "model = DecisionTreeClassifier()\n",
    "model.fit(wine.data, wine.target)"
   ]
  },
  {
   "cell_type": "markdown",
   "metadata": {
    "id": "0BQEXGQywJf2"
   },
   "source": [
    "##### 텍스트를 통한 시각화"
   ]
  },
  {
   "cell_type": "code",
   "execution_count": 43,
   "metadata": {
    "id": "T3TrGtd_weG2"
   },
   "outputs": [
    {
     "name": "stdout",
     "output_type": "stream",
     "text": [
      "|--- proline <= 755.00\n",
      "|   |--- od280/od315_of_diluted_wines <= 2.11\n",
      "|   |   |--- hue <= 0.94\n",
      "|   |   |   |--- flavanoids <= 1.58\n",
      "|   |   |   |   |--- class: 2\n",
      "|   |   |   |--- flavanoids >  1.58\n",
      "|   |   |   |   |--- class: 1\n",
      "|   |   |--- hue >  0.94\n",
      "|   |   |   |--- alcohol <= 13.51\n",
      "|   |   |   |   |--- class: 1\n",
      "|   |   |   |--- alcohol >  13.51\n",
      "|   |   |   |   |--- class: 2\n",
      "|   |--- od280/od315_of_diluted_wines >  2.11\n",
      "|   |   |--- flavanoids <= 0.80\n",
      "|   |   |   |--- class: 2\n",
      "|   |   |--- flavanoids >  0.80\n",
      "|   |   |   |--- alcohol <= 13.17\n",
      "|   |   |   |   |--- class: 1\n",
      "|   |   |   |--- alcohol >  13.17\n",
      "|   |   |   |   |--- magnesium <= 98.50\n",
      "|   |   |   |   |   |--- class: 1\n",
      "|   |   |   |   |--- magnesium >  98.50\n",
      "|   |   |   |   |   |--- class: 0\n",
      "|--- proline >  755.00\n",
      "|   |--- flavanoids <= 2.17\n",
      "|   |   |--- hue <= 0.80\n",
      "|   |   |   |--- class: 2\n",
      "|   |   |--- hue >  0.80\n",
      "|   |   |   |--- class: 1\n",
      "|   |--- flavanoids >  2.17\n",
      "|   |   |--- magnesium <= 135.50\n",
      "|   |   |   |--- class: 0\n",
      "|   |   |--- magnesium >  135.50\n",
      "|   |   |   |--- class: 1\n",
      "\n"
     ]
    }
   ],
   "source": [
    "r = tree.export_text(decision_tree=model, feature_names= wine.feature_names)\n",
    "print(r)"
   ]
  },
  {
   "cell_type": "markdown",
   "metadata": {
    "id": "AMxRRbwMwEOb"
   },
   "source": [
    "##### plot_tree를 사용한 시각화"
   ]
  },
  {
   "cell_type": "code",
   "execution_count": 46,
   "metadata": {
    "id": "0HsfQU1gwUR6"
   },
   "outputs": [
    {
     "data": {
      "text/plain": [
       "[Text(189.42631578947368, 199.32, 'X[12] <= 755.0\\ngini = 0.658\\nsamples = 178\\nvalue = [59, 71, 48]'),\n",
       " Text(114.53684210526316, 163.07999999999998, 'X[11] <= 2.115\\ngini = 0.492\\nsamples = 111\\nvalue = [2, 67, 42]'),\n",
       " Text(70.48421052631579, 126.83999999999999, 'X[10] <= 0.935\\ngini = 0.227\\nsamples = 46\\nvalue = [0, 6, 40]'),\n",
       " Text(35.242105263157896, 90.6, 'X[6] <= 1.58\\ngini = 0.049\\nsamples = 40\\nvalue = [0, 1, 39]'),\n",
       " Text(17.621052631578948, 54.359999999999985, 'gini = 0.0\\nsamples = 39\\nvalue = [0, 0, 39]'),\n",
       " Text(52.863157894736844, 54.359999999999985, 'gini = 0.0\\nsamples = 1\\nvalue = [0, 1, 0]'),\n",
       " Text(105.72631578947369, 90.6, 'X[0] <= 13.515\\ngini = 0.278\\nsamples = 6\\nvalue = [0, 5, 1]'),\n",
       " Text(88.10526315789474, 54.359999999999985, 'gini = 0.0\\nsamples = 5\\nvalue = [0, 5, 0]'),\n",
       " Text(123.34736842105264, 54.359999999999985, 'gini = 0.0\\nsamples = 1\\nvalue = [0, 0, 1]'),\n",
       " Text(158.58947368421053, 126.83999999999999, 'X[6] <= 0.795\\ngini = 0.117\\nsamples = 65\\nvalue = [2, 61, 2]'),\n",
       " Text(140.96842105263158, 90.6, 'gini = 0.0\\nsamples = 2\\nvalue = [0, 0, 2]'),\n",
       " Text(176.21052631578948, 90.6, 'X[0] <= 13.175\\ngini = 0.061\\nsamples = 63\\nvalue = [2, 61, 0]'),\n",
       " Text(158.58947368421053, 54.359999999999985, 'gini = 0.0\\nsamples = 58\\nvalue = [0, 58, 0]'),\n",
       " Text(193.83157894736843, 54.359999999999985, 'X[4] <= 98.5\\ngini = 0.48\\nsamples = 5\\nvalue = [2, 3, 0]'),\n",
       " Text(176.21052631578948, 18.119999999999976, 'gini = 0.0\\nsamples = 3\\nvalue = [0, 3, 0]'),\n",
       " Text(211.45263157894738, 18.119999999999976, 'gini = 0.0\\nsamples = 2\\nvalue = [2, 0, 0]'),\n",
       " Text(264.3157894736842, 163.07999999999998, 'X[6] <= 2.165\\ngini = 0.265\\nsamples = 67\\nvalue = [57, 4, 6]'),\n",
       " Text(229.07368421052632, 126.83999999999999, 'X[10] <= 0.803\\ngini = 0.375\\nsamples = 8\\nvalue = [0, 2, 6]'),\n",
       " Text(211.45263157894738, 90.6, 'gini = 0.0\\nsamples = 6\\nvalue = [0, 0, 6]'),\n",
       " Text(246.69473684210527, 90.6, 'gini = 0.0\\nsamples = 2\\nvalue = [0, 2, 0]'),\n",
       " Text(299.5578947368421, 126.83999999999999, 'X[4] <= 135.5\\ngini = 0.065\\nsamples = 59\\nvalue = [57, 2, 0]'),\n",
       " Text(281.93684210526317, 90.6, 'gini = 0.0\\nsamples = 57\\nvalue = [57, 0, 0]'),\n",
       " Text(317.17894736842106, 90.6, 'gini = 0.0\\nsamples = 2\\nvalue = [0, 2, 0]')]"
      ]
     },
     "execution_count": 46,
     "metadata": {},
     "output_type": "execute_result"
    },
    {
     "data": {
      "image/png": "[encoded data removed]",
      "text/plain": [
       "<Figure size 432x288 with 1 Axes>"
      ]
     },
     "metadata": {},
     "output_type": "display_data"
    }
   ],
   "source": [
    "tree.plot_tree(model)"
   ]
  },
  {
   "cell_type": "markdown",
   "metadata": {
    "id": "CINtdIuuwG-Q"
   },
   "source": [
    "##### graphviz를 사용한 시각화"
   ]
  },
  {
   "cell_type": "code",
   "execution_count": 49,
   "metadata": {
    "id": "H-gF0vb6wWs5"
   },
   "outputs": [
    {
     "data": {
      "image/svg+xml": [
       "<?xml version=\"1.0\" encoding=\"UTF-8\" standalone=\"no\"?>\r\n",
       "<!DOCTYPE svg PUBLIC \"-//W3C//DTD SVG 1.1//EN\"\r\n",
       " \"http://www.w3.org/Graphics/SVG/1.1/DTD/svg11.dtd\">\r\n",
       "<!-- Generated by graphviz version 2.46.1 (20210213.1702)\r\n",
       " -->\r\n",
       "<!-- Title: Tree Pages: 1 -->\r\n",
       "<svg width=\"1217pt\" height=\"671pt\"\r\n",
       " viewBox=\"0.00 0.00 1217.00 671.00\" xmlns=\"http://www.w3.org/2000/svg\" xmlns:xlink=\"http://www.w3.org/1999/xlink\">\r\n",
       "<g id=\"graph0\" class=\"graph\" transform=\"scale(1 1) rotate(0) translate(4 667)\">\r\n",
       "<title>Tree</title>\r\n",
       "<polygon fill=\"white\" stroke=\"transparent\" points=\"-4,4 -4,-667 1213,-667 1213,4 -4,4\"/>\r\n",
       "<!-- 0 -->\r\n",
       "<g id=\"node1\" class=\"node\">\r\n",
       "<title>0</title>\r\n",
       "<path fill=\"#ebfcf2\" stroke=\"black\" d=\"M693,-663C693,-663 580,-663 580,-663 574,-663 568,-657 568,-651 568,-651 568,-592 568,-592 568,-586 574,-580 580,-580 580,-580 693,-580 693,-580 699,-580 705,-586 705,-592 705,-592 705,-651 705,-651 705,-657 699,-663 693,-663\"/>\r\n",
       "<text text-anchor=\"start\" x=\"589\" y=\"-647.8\" font-family=\"Helvetica,sans-Serif\" font-size=\"14.00\">proline ≤ 755.0</text>\r\n",
       "<text text-anchor=\"start\" x=\"599\" y=\"-632.8\" font-family=\"Helvetica,sans-Serif\" font-size=\"14.00\">gini = 0.658</text>\r\n",
       "<text text-anchor=\"start\" x=\"589\" y=\"-617.8\" font-family=\"Helvetica,sans-Serif\" font-size=\"14.00\">samples = 178</text>\r\n",
       "<text text-anchor=\"start\" x=\"576\" y=\"-602.8\" font-family=\"Helvetica,sans-Serif\" font-size=\"14.00\">value = [59, 71, 48]</text>\r\n",
       "<text text-anchor=\"start\" x=\"587\" y=\"-587.8\" font-family=\"Helvetica,sans-Serif\" font-size=\"14.00\">class = class_1</text>\r\n",
       "</g>\r\n",
       "<!-- 1 -->\r\n",
       "<g id=\"node2\" class=\"node\">\r\n",
       "<title>1</title>\r\n",
       "<path fill=\"#b7f6d1\" stroke=\"black\" d=\"M626.5,-544C626.5,-544 380.5,-544 380.5,-544 374.5,-544 368.5,-538 368.5,-532 368.5,-532 368.5,-473 368.5,-473 368.5,-467 374.5,-461 380.5,-461 380.5,-461 626.5,-461 626.5,-461 632.5,-461 638.5,-467 638.5,-473 638.5,-473 638.5,-532 638.5,-532 638.5,-538 632.5,-544 626.5,-544\"/>\r\n",
       "<text text-anchor=\"start\" x=\"376.5\" y=\"-528.8\" font-family=\"Helvetica,sans-Serif\" font-size=\"14.00\">od280/od315_of_diluted_wines ≤ 2.115</text>\r\n",
       "<text text-anchor=\"start\" x=\"466\" y=\"-513.8\" font-family=\"Helvetica,sans-Serif\" font-size=\"14.00\">gini = 0.492</text>\r\n",
       "<text text-anchor=\"start\" x=\"456\" y=\"-498.8\" font-family=\"Helvetica,sans-Serif\" font-size=\"14.00\">samples = 111</text>\r\n",
       "<text text-anchor=\"start\" x=\"447\" y=\"-483.8\" font-family=\"Helvetica,sans-Serif\" font-size=\"14.00\">value = [2, 67, 42]</text>\r\n",
       "<text text-anchor=\"start\" x=\"454\" y=\"-468.8\" font-family=\"Helvetica,sans-Serif\" font-size=\"14.00\">class = class_1</text>\r\n",
       "</g>\r\n",
       "<!-- 0&#45;&gt;1 -->\r\n",
       "<g id=\"edge1\" class=\"edge\">\r\n",
       "<title>0&#45;&gt;1</title>\r\n",
       "<path fill=\"none\" stroke=\"black\" d=\"M590.36,-579.91C579.63,-570.47 568.12,-560.34 557.1,-550.65\"/>\r\n",
       "<polygon fill=\"black\" stroke=\"black\" points=\"559.38,-548 549.56,-544.02 554.76,-553.25 559.38,-548\"/>\r\n",
       "<text text-anchor=\"middle\" x=\"551.16\" y=\"-565.27\" font-family=\"Helvetica,sans-Serif\" font-size=\"14.00\">True</text>\r\n",
       "</g>\r\n",
       "<!-- 16 -->\r\n",
       "<g id=\"node17\" class=\"node\">\r\n",
       "<title>16</title>\r\n",
       "<path fill=\"#e99659\" stroke=\"black\" d=\"M861.5,-544C861.5,-544 753.5,-544 753.5,-544 747.5,-544 741.5,-538 741.5,-532 741.5,-532 741.5,-473 741.5,-473 741.5,-467 747.5,-461 753.5,-461 753.5,-461 861.5,-461 861.5,-461 867.5,-461 873.5,-467 873.5,-473 873.5,-473 873.5,-532 873.5,-532 873.5,-538 867.5,-544 861.5,-544\"/>\r\n",
       "<text text-anchor=\"start\" x=\"749.5\" y=\"-528.8\" font-family=\"Helvetica,sans-Serif\" font-size=\"14.00\">flavanoids ≤ 2.165</text>\r\n",
       "<text text-anchor=\"start\" x=\"770\" y=\"-513.8\" font-family=\"Helvetica,sans-Serif\" font-size=\"14.00\">gini = 0.265</text>\r\n",
       "<text text-anchor=\"start\" x=\"764\" y=\"-498.8\" font-family=\"Helvetica,sans-Serif\" font-size=\"14.00\">samples = 67</text>\r\n",
       "<text text-anchor=\"start\" x=\"755\" y=\"-483.8\" font-family=\"Helvetica,sans-Serif\" font-size=\"14.00\">value = [57, 4, 6]</text>\r\n",
       "<text text-anchor=\"start\" x=\"758\" y=\"-468.8\" font-family=\"Helvetica,sans-Serif\" font-size=\"14.00\">class = class_0</text>\r\n",
       "</g>\r\n",
       "<!-- 0&#45;&gt;16 -->\r\n",
       "<g id=\"edge16\" class=\"edge\">\r\n",
       "<title>0&#45;&gt;16</title>\r\n",
       "<path fill=\"none\" stroke=\"black\" d=\"M695.83,-579.91C710.02,-570.2 725.28,-559.76 739.81,-549.81\"/>\r\n",
       "<polygon fill=\"black\" stroke=\"black\" points=\"742,-552.56 748.28,-544.02 738.05,-546.78 742,-552.56\"/>\r\n",
       "<text text-anchor=\"middle\" x=\"743.67\" y=\"-564.89\" font-family=\"Helvetica,sans-Serif\" font-size=\"14.00\">False</text>\r\n",
       "</g>\r\n",
       "<!-- 2 -->\r\n",
       "<g id=\"node3\" class=\"node\">\r\n",
       "<title>2</title>\r\n",
       "<path fill=\"#9457e9\" stroke=\"black\" d=\"M384,-425C384,-425 287,-425 287,-425 281,-425 275,-419 275,-413 275,-413 275,-354 275,-354 275,-348 281,-342 287,-342 287,-342 384,-342 384,-342 390,-342 396,-348 396,-354 396,-354 396,-413 396,-413 396,-419 390,-425 384,-425\"/>\r\n",
       "<text text-anchor=\"start\" x=\"297.5\" y=\"-409.8\" font-family=\"Helvetica,sans-Serif\" font-size=\"14.00\">hue ≤ 0.935</text>\r\n",
       "<text text-anchor=\"start\" x=\"298\" y=\"-394.8\" font-family=\"Helvetica,sans-Serif\" font-size=\"14.00\">gini = 0.227</text>\r\n",
       "<text text-anchor=\"start\" x=\"292\" y=\"-379.8\" font-family=\"Helvetica,sans-Serif\" font-size=\"14.00\">samples = 46</text>\r\n",
       "<text text-anchor=\"start\" x=\"283\" y=\"-364.8\" font-family=\"Helvetica,sans-Serif\" font-size=\"14.00\">value = [0, 6, 40]</text>\r\n",
       "<text text-anchor=\"start\" x=\"286\" y=\"-349.8\" font-family=\"Helvetica,sans-Serif\" font-size=\"14.00\">class = class_2</text>\r\n",
       "</g>\r\n",
       "<!-- 1&#45;&gt;2 -->\r\n",
       "<g id=\"edge2\" class=\"edge\">\r\n",
       "<title>1&#45;&gt;2</title>\r\n",
       "<path fill=\"none\" stroke=\"black\" d=\"M445.21,-460.91C431.27,-451.2 416.28,-440.76 402,-430.81\"/>\r\n",
       "<polygon fill=\"black\" stroke=\"black\" points=\"403.89,-427.86 393.68,-425.02 399.89,-433.61 403.89,-427.86\"/>\r\n",
       "</g>\r\n",
       "<!-- 9 -->\r\n",
       "<g id=\"node10\" class=\"node\">\r\n",
       "<title>9</title>\r\n",
       "<path fill=\"#46e789\" stroke=\"black\" d=\"M557.5,-425C557.5,-425 449.5,-425 449.5,-425 443.5,-425 437.5,-419 437.5,-413 437.5,-413 437.5,-354 437.5,-354 437.5,-348 443.5,-342 449.5,-342 449.5,-342 557.5,-342 557.5,-342 563.5,-342 569.5,-348 569.5,-354 569.5,-354 569.5,-413 569.5,-413 569.5,-419 563.5,-425 557.5,-425\"/>\r\n",
       "<text text-anchor=\"start\" x=\"445.5\" y=\"-409.8\" font-family=\"Helvetica,sans-Serif\" font-size=\"14.00\">flavanoids ≤ 0.795</text>\r\n",
       "<text text-anchor=\"start\" x=\"466\" y=\"-394.8\" font-family=\"Helvetica,sans-Serif\" font-size=\"14.00\">gini = 0.117</text>\r\n",
       "<text text-anchor=\"start\" x=\"460\" y=\"-379.8\" font-family=\"Helvetica,sans-Serif\" font-size=\"14.00\">samples = 65</text>\r\n",
       "<text text-anchor=\"start\" x=\"451\" y=\"-364.8\" font-family=\"Helvetica,sans-Serif\" font-size=\"14.00\">value = [2, 61, 2]</text>\r\n",
       "<text text-anchor=\"start\" x=\"454\" y=\"-349.8\" font-family=\"Helvetica,sans-Serif\" font-size=\"14.00\">class = class_1</text>\r\n",
       "</g>\r\n",
       "<!-- 1&#45;&gt;9 -->\r\n",
       "<g id=\"edge9\" class=\"edge\">\r\n",
       "<title>1&#45;&gt;9</title>\r\n",
       "<path fill=\"none\" stroke=\"black\" d=\"M503.5,-460.91C503.5,-452.65 503.5,-443.86 503.5,-435.3\"/>\r\n",
       "<polygon fill=\"black\" stroke=\"black\" points=\"507,-435.02 503.5,-425.02 500,-435.02 507,-435.02\"/>\r\n",
       "</g>\r\n",
       "<!-- 3 -->\r\n",
       "<g id=\"node4\" class=\"node\">\r\n",
       "<title>3</title>\r\n",
       "<path fill=\"#843ee6\" stroke=\"black\" d=\"M244.5,-306C244.5,-306 144.5,-306 144.5,-306 138.5,-306 132.5,-300 132.5,-294 132.5,-294 132.5,-235 132.5,-235 132.5,-229 138.5,-223 144.5,-223 144.5,-223 244.5,-223 244.5,-223 250.5,-223 256.5,-229 256.5,-235 256.5,-235 256.5,-294 256.5,-294 256.5,-300 250.5,-306 244.5,-306\"/>\r\n",
       "<text text-anchor=\"start\" x=\"140.5\" y=\"-290.8\" font-family=\"Helvetica,sans-Serif\" font-size=\"14.00\">flavanoids ≤ 1.58</text>\r\n",
       "<text text-anchor=\"start\" x=\"157\" y=\"-275.8\" font-family=\"Helvetica,sans-Serif\" font-size=\"14.00\">gini = 0.049</text>\r\n",
       "<text text-anchor=\"start\" x=\"151\" y=\"-260.8\" font-family=\"Helvetica,sans-Serif\" font-size=\"14.00\">samples = 40</text>\r\n",
       "<text text-anchor=\"start\" x=\"142\" y=\"-245.8\" font-family=\"Helvetica,sans-Serif\" font-size=\"14.00\">value = [0, 1, 39]</text>\r\n",
       "<text text-anchor=\"start\" x=\"145\" y=\"-230.8\" font-family=\"Helvetica,sans-Serif\" font-size=\"14.00\">class = class_2</text>\r\n",
       "</g>\r\n",
       "<!-- 2&#45;&gt;3 -->\r\n",
       "<g id=\"edge3\" class=\"edge\">\r\n",
       "<title>2&#45;&gt;3</title>\r\n",
       "<path fill=\"none\" stroke=\"black\" d=\"M286.58,-341.91C275.21,-332.47 263,-322.34 251.32,-312.65\"/>\r\n",
       "<polygon fill=\"black\" stroke=\"black\" points=\"253.26,-309.71 243.33,-306.02 248.79,-315.1 253.26,-309.71\"/>\r\n",
       "</g>\r\n",
       "<!-- 6 -->\r\n",
       "<g id=\"node7\" class=\"node\">\r\n",
       "<title>6</title>\r\n",
       "<path fill=\"#61ea9a\" stroke=\"black\" d=\"M384.5,-306C384.5,-306 286.5,-306 286.5,-306 280.5,-306 274.5,-300 274.5,-294 274.5,-294 274.5,-235 274.5,-235 274.5,-229 280.5,-223 286.5,-223 286.5,-223 384.5,-223 384.5,-223 390.5,-223 396.5,-229 396.5,-235 396.5,-235 396.5,-294 396.5,-294 396.5,-300 390.5,-306 384.5,-306\"/>\r\n",
       "<text text-anchor=\"start\" x=\"282.5\" y=\"-290.8\" font-family=\"Helvetica,sans-Serif\" font-size=\"14.00\">alcohol ≤ 13.515</text>\r\n",
       "<text text-anchor=\"start\" x=\"298\" y=\"-275.8\" font-family=\"Helvetica,sans-Serif\" font-size=\"14.00\">gini = 0.278</text>\r\n",
       "<text text-anchor=\"start\" x=\"296\" y=\"-260.8\" font-family=\"Helvetica,sans-Serif\" font-size=\"14.00\">samples = 6</text>\r\n",
       "<text text-anchor=\"start\" x=\"287\" y=\"-245.8\" font-family=\"Helvetica,sans-Serif\" font-size=\"14.00\">value = [0, 5, 1]</text>\r\n",
       "<text text-anchor=\"start\" x=\"286\" y=\"-230.8\" font-family=\"Helvetica,sans-Serif\" font-size=\"14.00\">class = class_1</text>\r\n",
       "</g>\r\n",
       "<!-- 2&#45;&gt;6 -->\r\n",
       "<g id=\"edge6\" class=\"edge\">\r\n",
       "<title>2&#45;&gt;6</title>\r\n",
       "<path fill=\"none\" stroke=\"black\" d=\"M335.5,-341.91C335.5,-333.65 335.5,-324.86 335.5,-316.3\"/>\r\n",
       "<polygon fill=\"black\" stroke=\"black\" points=\"339,-316.02 335.5,-306.02 332,-316.02 339,-316.02\"/>\r\n",
       "</g>\r\n",
       "<!-- 4 -->\r\n",
       "<g id=\"node5\" class=\"node\">\r\n",
       "<title>4</title>\r\n",
       "<path fill=\"#8139e5\" stroke=\"black\" d=\"M109,-179.5C109,-179.5 12,-179.5 12,-179.5 6,-179.5 0,-173.5 0,-167.5 0,-167.5 0,-123.5 0,-123.5 0,-117.5 6,-111.5 12,-111.5 12,-111.5 109,-111.5 109,-111.5 115,-111.5 121,-117.5 121,-123.5 121,-123.5 121,-167.5 121,-167.5 121,-173.5 115,-179.5 109,-179.5\"/>\r\n",
       "<text text-anchor=\"start\" x=\"31.5\" y=\"-164.3\" font-family=\"Helvetica,sans-Serif\" font-size=\"14.00\">gini = 0.0</text>\r\n",
       "<text text-anchor=\"start\" x=\"17\" y=\"-149.3\" font-family=\"Helvetica,sans-Serif\" font-size=\"14.00\">samples = 39</text>\r\n",
       "<text text-anchor=\"start\" x=\"8\" y=\"-134.3\" font-family=\"Helvetica,sans-Serif\" font-size=\"14.00\">value = [0, 0, 39]</text>\r\n",
       "<text text-anchor=\"start\" x=\"11\" y=\"-119.3\" font-family=\"Helvetica,sans-Serif\" font-size=\"14.00\">class = class_2</text>\r\n",
       "</g>\r\n",
       "<!-- 3&#45;&gt;4 -->\r\n",
       "<g id=\"edge4\" class=\"edge\">\r\n",
       "<title>3&#45;&gt;4</title>\r\n",
       "<path fill=\"none\" stroke=\"black\" d=\"M148.01,-222.91C134.49,-211.1 119.73,-198.22 106.25,-186.45\"/>\r\n",
       "<polygon fill=\"black\" stroke=\"black\" points=\"108.32,-183.61 98.49,-179.67 103.72,-188.88 108.32,-183.61\"/>\r\n",
       "</g>\r\n",
       "<!-- 5 -->\r\n",
       "<g id=\"node6\" class=\"node\">\r\n",
       "<title>5</title>\r\n",
       "<path fill=\"#39e581\" stroke=\"black\" d=\"M242,-179.5C242,-179.5 151,-179.5 151,-179.5 145,-179.5 139,-173.5 139,-167.5 139,-167.5 139,-123.5 139,-123.5 139,-117.5 145,-111.5 151,-111.5 151,-111.5 242,-111.5 242,-111.5 248,-111.5 254,-117.5 254,-123.5 254,-123.5 254,-167.5 254,-167.5 254,-173.5 248,-179.5 242,-179.5\"/>\r\n",
       "<text text-anchor=\"start\" x=\"167.5\" y=\"-164.3\" font-family=\"Helvetica,sans-Serif\" font-size=\"14.00\">gini = 0.0</text>\r\n",
       "<text text-anchor=\"start\" x=\"157\" y=\"-149.3\" font-family=\"Helvetica,sans-Serif\" font-size=\"14.00\">samples = 1</text>\r\n",
       "<text text-anchor=\"start\" x=\"148\" y=\"-134.3\" font-family=\"Helvetica,sans-Serif\" font-size=\"14.00\">value = [0, 1, 0]</text>\r\n",
       "<text text-anchor=\"start\" x=\"147\" y=\"-119.3\" font-family=\"Helvetica,sans-Serif\" font-size=\"14.00\">class = class_1</text>\r\n",
       "</g>\r\n",
       "<!-- 3&#45;&gt;5 -->\r\n",
       "<g id=\"edge5\" class=\"edge\">\r\n",
       "<title>3&#45;&gt;5</title>\r\n",
       "<path fill=\"none\" stroke=\"black\" d=\"M195.19,-222.91C195.38,-212.2 195.57,-200.62 195.76,-189.78\"/>\r\n",
       "<polygon fill=\"black\" stroke=\"black\" points=\"199.26,-189.73 195.93,-179.67 192.26,-189.61 199.26,-189.73\"/>\r\n",
       "</g>\r\n",
       "<!-- 7 -->\r\n",
       "<g id=\"node8\" class=\"node\">\r\n",
       "<title>7</title>\r\n",
       "<path fill=\"#39e581\" stroke=\"black\" d=\"M379,-179.5C379,-179.5 288,-179.5 288,-179.5 282,-179.5 276,-173.5 276,-167.5 276,-167.5 276,-123.5 276,-123.5 276,-117.5 282,-111.5 288,-111.5 288,-111.5 379,-111.5 379,-111.5 385,-111.5 391,-117.5 391,-123.5 391,-123.5 391,-167.5 391,-167.5 391,-173.5 385,-179.5 379,-179.5\"/>\r\n",
       "<text text-anchor=\"start\" x=\"304.5\" y=\"-164.3\" font-family=\"Helvetica,sans-Serif\" font-size=\"14.00\">gini = 0.0</text>\r\n",
       "<text text-anchor=\"start\" x=\"294\" y=\"-149.3\" font-family=\"Helvetica,sans-Serif\" font-size=\"14.00\">samples = 5</text>\r\n",
       "<text text-anchor=\"start\" x=\"285\" y=\"-134.3\" font-family=\"Helvetica,sans-Serif\" font-size=\"14.00\">value = [0, 5, 0]</text>\r\n",
       "<text text-anchor=\"start\" x=\"284\" y=\"-119.3\" font-family=\"Helvetica,sans-Serif\" font-size=\"14.00\">class = class_1</text>\r\n",
       "</g>\r\n",
       "<!-- 6&#45;&gt;7 -->\r\n",
       "<g id=\"edge7\" class=\"edge\">\r\n",
       "<title>6&#45;&gt;7</title>\r\n",
       "<path fill=\"none\" stroke=\"black\" d=\"M334.81,-222.91C334.62,-212.2 334.43,-200.62 334.24,-189.78\"/>\r\n",
       "<polygon fill=\"black\" stroke=\"black\" points=\"337.74,-189.61 334.07,-179.67 330.74,-189.73 337.74,-189.61\"/>\r\n",
       "</g>\r\n",
       "<!-- 8 -->\r\n",
       "<g id=\"node9\" class=\"node\">\r\n",
       "<title>8</title>\r\n",
       "<path fill=\"#8139e5\" stroke=\"black\" d=\"M512,-179.5C512,-179.5 421,-179.5 421,-179.5 415,-179.5 409,-173.5 409,-167.5 409,-167.5 409,-123.5 409,-123.5 409,-117.5 415,-111.5 421,-111.5 421,-111.5 512,-111.5 512,-111.5 518,-111.5 524,-117.5 524,-123.5 524,-123.5 524,-167.5 524,-167.5 524,-173.5 518,-179.5 512,-179.5\"/>\r\n",
       "<text text-anchor=\"start\" x=\"437.5\" y=\"-164.3\" font-family=\"Helvetica,sans-Serif\" font-size=\"14.00\">gini = 0.0</text>\r\n",
       "<text text-anchor=\"start\" x=\"427\" y=\"-149.3\" font-family=\"Helvetica,sans-Serif\" font-size=\"14.00\">samples = 1</text>\r\n",
       "<text text-anchor=\"start\" x=\"418\" y=\"-134.3\" font-family=\"Helvetica,sans-Serif\" font-size=\"14.00\">value = [0, 0, 1]</text>\r\n",
       "<text text-anchor=\"start\" x=\"417\" y=\"-119.3\" font-family=\"Helvetica,sans-Serif\" font-size=\"14.00\">class = class_2</text>\r\n",
       "</g>\r\n",
       "<!-- 6&#45;&gt;8 -->\r\n",
       "<g id=\"edge8\" class=\"edge\">\r\n",
       "<title>6&#45;&gt;8</title>\r\n",
       "<path fill=\"none\" stroke=\"black\" d=\"M380.95,-222.91C394.17,-211.1 408.6,-198.22 421.77,-186.45\"/>\r\n",
       "<polygon fill=\"black\" stroke=\"black\" points=\"424.24,-188.94 429.36,-179.67 419.57,-183.72 424.24,-188.94\"/>\r\n",
       "</g>\r\n",
       "<!-- 10 -->\r\n",
       "<g id=\"node11\" class=\"node\">\r\n",
       "<title>10</title>\r\n",
       "<path fill=\"#8139e5\" stroke=\"black\" d=\"M518,-298.5C518,-298.5 427,-298.5 427,-298.5 421,-298.5 415,-292.5 415,-286.5 415,-286.5 415,-242.5 415,-242.5 415,-236.5 421,-230.5 427,-230.5 427,-230.5 518,-230.5 518,-230.5 524,-230.5 530,-236.5 530,-242.5 530,-242.5 530,-286.5 530,-286.5 530,-292.5 524,-298.5 518,-298.5\"/>\r\n",
       "<text text-anchor=\"start\" x=\"443.5\" y=\"-283.3\" font-family=\"Helvetica,sans-Serif\" font-size=\"14.00\">gini = 0.0</text>\r\n",
       "<text text-anchor=\"start\" x=\"433\" y=\"-268.3\" font-family=\"Helvetica,sans-Serif\" font-size=\"14.00\">samples = 2</text>\r\n",
       "<text text-anchor=\"start\" x=\"424\" y=\"-253.3\" font-family=\"Helvetica,sans-Serif\" font-size=\"14.00\">value = [0, 0, 2]</text>\r\n",
       "<text text-anchor=\"start\" x=\"423\" y=\"-238.3\" font-family=\"Helvetica,sans-Serif\" font-size=\"14.00\">class = class_2</text>\r\n",
       "</g>\r\n",
       "<!-- 9&#45;&gt;10 -->\r\n",
       "<g id=\"edge10\" class=\"edge\">\r\n",
       "<title>9&#45;&gt;10</title>\r\n",
       "<path fill=\"none\" stroke=\"black\" d=\"M492.74,-341.91C489.88,-331.09 486.77,-319.38 483.88,-308.44\"/>\r\n",
       "<polygon fill=\"black\" stroke=\"black\" points=\"487.23,-307.44 481.29,-298.67 480.47,-309.23 487.23,-307.44\"/>\r\n",
       "</g>\r\n",
       "<!-- 11 -->\r\n",
       "<g id=\"node12\" class=\"node\">\r\n",
       "<title>11</title>\r\n",
       "<path fill=\"#3fe685\" stroke=\"black\" d=\"M658.5,-306C658.5,-306 560.5,-306 560.5,-306 554.5,-306 548.5,-300 548.5,-294 548.5,-294 548.5,-235 548.5,-235 548.5,-229 554.5,-223 560.5,-223 560.5,-223 658.5,-223 658.5,-223 664.5,-223 670.5,-229 670.5,-235 670.5,-235 670.5,-294 670.5,-294 670.5,-300 664.5,-306 658.5,-306\"/>\r\n",
       "<text text-anchor=\"start\" x=\"556.5\" y=\"-290.8\" font-family=\"Helvetica,sans-Serif\" font-size=\"14.00\">alcohol ≤ 13.175</text>\r\n",
       "<text text-anchor=\"start\" x=\"572\" y=\"-275.8\" font-family=\"Helvetica,sans-Serif\" font-size=\"14.00\">gini = 0.061</text>\r\n",
       "<text text-anchor=\"start\" x=\"566\" y=\"-260.8\" font-family=\"Helvetica,sans-Serif\" font-size=\"14.00\">samples = 63</text>\r\n",
       "<text text-anchor=\"start\" x=\"557\" y=\"-245.8\" font-family=\"Helvetica,sans-Serif\" font-size=\"14.00\">value = [2, 61, 0]</text>\r\n",
       "<text text-anchor=\"start\" x=\"560\" y=\"-230.8\" font-family=\"Helvetica,sans-Serif\" font-size=\"14.00\">class = class_1</text>\r\n",
       "</g>\r\n",
       "<!-- 9&#45;&gt;11 -->\r\n",
       "<g id=\"edge11\" class=\"edge\">\r\n",
       "<title>9&#45;&gt;11</title>\r\n",
       "<path fill=\"none\" stroke=\"black\" d=\"M540.28,-341.91C548.58,-332.74 557.47,-322.93 566.02,-313.49\"/>\r\n",
       "<polygon fill=\"black\" stroke=\"black\" points=\"568.67,-315.78 572.79,-306.02 563.48,-311.08 568.67,-315.78\"/>\r\n",
       "</g>\r\n",
       "<!-- 12 -->\r\n",
       "<g id=\"node13\" class=\"node\">\r\n",
       "<title>12</title>\r\n",
       "<path fill=\"#39e581\" stroke=\"black\" d=\"M655,-179.5C655,-179.5 558,-179.5 558,-179.5 552,-179.5 546,-173.5 546,-167.5 546,-167.5 546,-123.5 546,-123.5 546,-117.5 552,-111.5 558,-111.5 558,-111.5 655,-111.5 655,-111.5 661,-111.5 667,-117.5 667,-123.5 667,-123.5 667,-167.5 667,-167.5 667,-173.5 661,-179.5 655,-179.5\"/>\r\n",
       "<text text-anchor=\"start\" x=\"577.5\" y=\"-164.3\" font-family=\"Helvetica,sans-Serif\" font-size=\"14.00\">gini = 0.0</text>\r\n",
       "<text text-anchor=\"start\" x=\"563\" y=\"-149.3\" font-family=\"Helvetica,sans-Serif\" font-size=\"14.00\">samples = 58</text>\r\n",
       "<text text-anchor=\"start\" x=\"554\" y=\"-134.3\" font-family=\"Helvetica,sans-Serif\" font-size=\"14.00\">value = [0, 58, 0]</text>\r\n",
       "<text text-anchor=\"start\" x=\"557\" y=\"-119.3\" font-family=\"Helvetica,sans-Serif\" font-size=\"14.00\">class = class_1</text>\r\n",
       "</g>\r\n",
       "<!-- 11&#45;&gt;12 -->\r\n",
       "<g id=\"edge12\" class=\"edge\">\r\n",
       "<title>11&#45;&gt;12</title>\r\n",
       "<path fill=\"none\" stroke=\"black\" d=\"M608.46,-222.91C608.18,-212.2 607.89,-200.62 607.61,-189.78\"/>\r\n",
       "<polygon fill=\"black\" stroke=\"black\" points=\"611.11,-189.57 607.35,-179.67 604.11,-189.75 611.11,-189.57\"/>\r\n",
       "</g>\r\n",
       "<!-- 13 -->\r\n",
       "<g id=\"node14\" class=\"node\">\r\n",
       "<title>13</title>\r\n",
       "<path fill=\"#bdf6d5\" stroke=\"black\" d=\"M807.5,-187C807.5,-187 697.5,-187 697.5,-187 691.5,-187 685.5,-181 685.5,-175 685.5,-175 685.5,-116 685.5,-116 685.5,-110 691.5,-104 697.5,-104 697.5,-104 807.5,-104 807.5,-104 813.5,-104 819.5,-110 819.5,-116 819.5,-116 819.5,-175 819.5,-175 819.5,-181 813.5,-187 807.5,-187\"/>\r\n",
       "<text text-anchor=\"start\" x=\"693.5\" y=\"-171.8\" font-family=\"Helvetica,sans-Serif\" font-size=\"14.00\">magnesium ≤ 98.5</text>\r\n",
       "<text text-anchor=\"start\" x=\"719\" y=\"-156.8\" font-family=\"Helvetica,sans-Serif\" font-size=\"14.00\">gini = 0.48</text>\r\n",
       "<text text-anchor=\"start\" x=\"713\" y=\"-141.8\" font-family=\"Helvetica,sans-Serif\" font-size=\"14.00\">samples = 5</text>\r\n",
       "<text text-anchor=\"start\" x=\"704\" y=\"-126.8\" font-family=\"Helvetica,sans-Serif\" font-size=\"14.00\">value = [2, 3, 0]</text>\r\n",
       "<text text-anchor=\"start\" x=\"703\" y=\"-111.8\" font-family=\"Helvetica,sans-Serif\" font-size=\"14.00\">class = class_1</text>\r\n",
       "</g>\r\n",
       "<!-- 11&#45;&gt;13 -->\r\n",
       "<g id=\"edge13\" class=\"edge\">\r\n",
       "<title>11&#45;&gt;13</title>\r\n",
       "<path fill=\"none\" stroke=\"black\" d=\"M659.11,-222.91C670.76,-213.38 683.26,-203.15 695.21,-193.37\"/>\r\n",
       "<polygon fill=\"black\" stroke=\"black\" points=\"697.45,-196.06 702.97,-187.02 693.02,-190.64 697.45,-196.06\"/>\r\n",
       "</g>\r\n",
       "<!-- 14 -->\r\n",
       "<g id=\"node15\" class=\"node\">\r\n",
       "<title>14</title>\r\n",
       "<path fill=\"#39e581\" stroke=\"black\" d=\"M731,-68C731,-68 640,-68 640,-68 634,-68 628,-62 628,-56 628,-56 628,-12 628,-12 628,-6 634,0 640,0 640,0 731,0 731,0 737,0 743,-6 743,-12 743,-12 743,-56 743,-56 743,-62 737,-68 731,-68\"/>\r\n",
       "<text text-anchor=\"start\" x=\"656.5\" y=\"-52.8\" font-family=\"Helvetica,sans-Serif\" font-size=\"14.00\">gini = 0.0</text>\r\n",
       "<text text-anchor=\"start\" x=\"646\" y=\"-37.8\" font-family=\"Helvetica,sans-Serif\" font-size=\"14.00\">samples = 3</text>\r\n",
       "<text text-anchor=\"start\" x=\"637\" y=\"-22.8\" font-family=\"Helvetica,sans-Serif\" font-size=\"14.00\">value = [0, 3, 0]</text>\r\n",
       "<text text-anchor=\"start\" x=\"636\" y=\"-7.8\" font-family=\"Helvetica,sans-Serif\" font-size=\"14.00\">class = class_1</text>\r\n",
       "</g>\r\n",
       "<!-- 13&#45;&gt;14 -->\r\n",
       "<g id=\"edge14\" class=\"edge\">\r\n",
       "<title>13&#45;&gt;14</title>\r\n",
       "<path fill=\"none\" stroke=\"black\" d=\"M727.55,-103.73C722.19,-94.97 716.52,-85.7 711.14,-76.91\"/>\r\n",
       "<polygon fill=\"black\" stroke=\"black\" points=\"714.08,-75 705.88,-68.3 708.11,-78.66 714.08,-75\"/>\r\n",
       "</g>\r\n",
       "<!-- 15 -->\r\n",
       "<g id=\"node16\" class=\"node\">\r\n",
       "<title>15</title>\r\n",
       "<path fill=\"#e58139\" stroke=\"black\" d=\"M864,-68C864,-68 773,-68 773,-68 767,-68 761,-62 761,-56 761,-56 761,-12 761,-12 761,-6 767,0 773,0 773,0 864,0 864,0 870,0 876,-6 876,-12 876,-12 876,-56 876,-56 876,-62 870,-68 864,-68\"/>\r\n",
       "<text text-anchor=\"start\" x=\"789.5\" y=\"-52.8\" font-family=\"Helvetica,sans-Serif\" font-size=\"14.00\">gini = 0.0</text>\r\n",
       "<text text-anchor=\"start\" x=\"779\" y=\"-37.8\" font-family=\"Helvetica,sans-Serif\" font-size=\"14.00\">samples = 2</text>\r\n",
       "<text text-anchor=\"start\" x=\"770\" y=\"-22.8\" font-family=\"Helvetica,sans-Serif\" font-size=\"14.00\">value = [2, 0, 0]</text>\r\n",
       "<text text-anchor=\"start\" x=\"769\" y=\"-7.8\" font-family=\"Helvetica,sans-Serif\" font-size=\"14.00\">class = class_0</text>\r\n",
       "</g>\r\n",
       "<!-- 13&#45;&gt;15 -->\r\n",
       "<g id=\"edge15\" class=\"edge\">\r\n",
       "<title>13&#45;&gt;15</title>\r\n",
       "<path fill=\"none\" stroke=\"black\" d=\"M777.08,-103.73C782.35,-94.97 787.94,-85.7 793.24,-76.91\"/>\r\n",
       "<polygon fill=\"black\" stroke=\"black\" points=\"796.26,-78.67 798.43,-68.3 790.27,-75.06 796.26,-78.67\"/>\r\n",
       "</g>\r\n",
       "<!-- 17 -->\r\n",
       "<g id=\"node18\" class=\"node\">\r\n",
       "<title>17</title>\r\n",
       "<path fill=\"#ab7bee\" stroke=\"black\" d=\"M853,-425C853,-425 762,-425 762,-425 756,-425 750,-419 750,-413 750,-413 750,-354 750,-354 750,-348 756,-342 762,-342 762,-342 853,-342 853,-342 859,-342 865,-348 865,-354 865,-354 865,-413 865,-413 865,-419 859,-425 853,-425\"/>\r\n",
       "<text text-anchor=\"start\" x=\"769.5\" y=\"-409.8\" font-family=\"Helvetica,sans-Serif\" font-size=\"14.00\">hue ≤ 0.803</text>\r\n",
       "<text text-anchor=\"start\" x=\"770\" y=\"-394.8\" font-family=\"Helvetica,sans-Serif\" font-size=\"14.00\">gini = 0.375</text>\r\n",
       "<text text-anchor=\"start\" x=\"768\" y=\"-379.8\" font-family=\"Helvetica,sans-Serif\" font-size=\"14.00\">samples = 8</text>\r\n",
       "<text text-anchor=\"start\" x=\"759\" y=\"-364.8\" font-family=\"Helvetica,sans-Serif\" font-size=\"14.00\">value = [0, 2, 6]</text>\r\n",
       "<text text-anchor=\"start\" x=\"758\" y=\"-349.8\" font-family=\"Helvetica,sans-Serif\" font-size=\"14.00\">class = class_2</text>\r\n",
       "</g>\r\n",
       "<!-- 16&#45;&gt;17 -->\r\n",
       "<g id=\"edge17\" class=\"edge\">\r\n",
       "<title>16&#45;&gt;17</title>\r\n",
       "<path fill=\"none\" stroke=\"black\" d=\"M807.5,-460.91C807.5,-452.65 807.5,-443.86 807.5,-435.3\"/>\r\n",
       "<polygon fill=\"black\" stroke=\"black\" points=\"811,-435.02 807.5,-425.02 804,-435.02 811,-435.02\"/>\r\n",
       "</g>\r\n",
       "<!-- 20 -->\r\n",
       "<g id=\"node21\" class=\"node\">\r\n",
       "<title>20</title>\r\n",
       "<path fill=\"#e68540\" stroke=\"black\" d=\"M1074.5,-425C1074.5,-425 956.5,-425 956.5,-425 950.5,-425 944.5,-419 944.5,-413 944.5,-413 944.5,-354 944.5,-354 944.5,-348 950.5,-342 956.5,-342 956.5,-342 1074.5,-342 1074.5,-342 1080.5,-342 1086.5,-348 1086.5,-354 1086.5,-354 1086.5,-413 1086.5,-413 1086.5,-419 1080.5,-425 1074.5,-425\"/>\r\n",
       "<text text-anchor=\"start\" x=\"952.5\" y=\"-409.8\" font-family=\"Helvetica,sans-Serif\" font-size=\"14.00\">magnesium ≤ 135.5</text>\r\n",
       "<text text-anchor=\"start\" x=\"978\" y=\"-394.8\" font-family=\"Helvetica,sans-Serif\" font-size=\"14.00\">gini = 0.065</text>\r\n",
       "<text text-anchor=\"start\" x=\"972\" y=\"-379.8\" font-family=\"Helvetica,sans-Serif\" font-size=\"14.00\">samples = 59</text>\r\n",
       "<text text-anchor=\"start\" x=\"963\" y=\"-364.8\" font-family=\"Helvetica,sans-Serif\" font-size=\"14.00\">value = [57, 2, 0]</text>\r\n",
       "<text text-anchor=\"start\" x=\"966\" y=\"-349.8\" font-family=\"Helvetica,sans-Serif\" font-size=\"14.00\">class = class_0</text>\r\n",
       "</g>\r\n",
       "<!-- 16&#45;&gt;20 -->\r\n",
       "<g id=\"edge20\" class=\"edge\">\r\n",
       "<title>16&#45;&gt;20</title>\r\n",
       "<path fill=\"none\" stroke=\"black\" d=\"M873.6,-464.32C893.18,-453.3 914.84,-441.12 935.22,-429.66\"/>\r\n",
       "<polygon fill=\"black\" stroke=\"black\" points=\"937.17,-432.57 944.17,-424.62 933.74,-426.47 937.17,-432.57\"/>\r\n",
       "</g>\r\n",
       "<!-- 18 -->\r\n",
       "<g id=\"node19\" class=\"node\">\r\n",
       "<title>18</title>\r\n",
       "<path fill=\"#8139e5\" stroke=\"black\" d=\"M792,-298.5C792,-298.5 701,-298.5 701,-298.5 695,-298.5 689,-292.5 689,-286.5 689,-286.5 689,-242.5 689,-242.5 689,-236.5 695,-230.5 701,-230.5 701,-230.5 792,-230.5 792,-230.5 798,-230.5 804,-236.5 804,-242.5 804,-242.5 804,-286.5 804,-286.5 804,-292.5 798,-298.5 792,-298.5\"/>\r\n",
       "<text text-anchor=\"start\" x=\"717.5\" y=\"-283.3\" font-family=\"Helvetica,sans-Serif\" font-size=\"14.00\">gini = 0.0</text>\r\n",
       "<text text-anchor=\"start\" x=\"707\" y=\"-268.3\" font-family=\"Helvetica,sans-Serif\" font-size=\"14.00\">samples = 6</text>\r\n",
       "<text text-anchor=\"start\" x=\"698\" y=\"-253.3\" font-family=\"Helvetica,sans-Serif\" font-size=\"14.00\">value = [0, 0, 6]</text>\r\n",
       "<text text-anchor=\"start\" x=\"697\" y=\"-238.3\" font-family=\"Helvetica,sans-Serif\" font-size=\"14.00\">class = class_2</text>\r\n",
       "</g>\r\n",
       "<!-- 17&#45;&gt;18 -->\r\n",
       "<g id=\"edge18\" class=\"edge\">\r\n",
       "<title>17&#45;&gt;18</title>\r\n",
       "<path fill=\"none\" stroke=\"black\" d=\"M786.34,-341.91C780.58,-330.87 774.34,-318.9 768.54,-307.77\"/>\r\n",
       "<polygon fill=\"black\" stroke=\"black\" points=\"771.52,-305.92 763.79,-298.67 765.31,-309.15 771.52,-305.92\"/>\r\n",
       "</g>\r\n",
       "<!-- 19 -->\r\n",
       "<g id=\"node20\" class=\"node\">\r\n",
       "<title>19</title>\r\n",
       "<path fill=\"#39e581\" stroke=\"black\" d=\"M925,-298.5C925,-298.5 834,-298.5 834,-298.5 828,-298.5 822,-292.5 822,-286.5 822,-286.5 822,-242.5 822,-242.5 822,-236.5 828,-230.5 834,-230.5 834,-230.5 925,-230.5 925,-230.5 931,-230.5 937,-236.5 937,-242.5 937,-242.5 937,-286.5 937,-286.5 937,-292.5 931,-298.5 925,-298.5\"/>\r\n",
       "<text text-anchor=\"start\" x=\"850.5\" y=\"-283.3\" font-family=\"Helvetica,sans-Serif\" font-size=\"14.00\">gini = 0.0</text>\r\n",
       "<text text-anchor=\"start\" x=\"840\" y=\"-268.3\" font-family=\"Helvetica,sans-Serif\" font-size=\"14.00\">samples = 2</text>\r\n",
       "<text text-anchor=\"start\" x=\"831\" y=\"-253.3\" font-family=\"Helvetica,sans-Serif\" font-size=\"14.00\">value = [0, 2, 0]</text>\r\n",
       "<text text-anchor=\"start\" x=\"830\" y=\"-238.3\" font-family=\"Helvetica,sans-Serif\" font-size=\"14.00\">class = class_1</text>\r\n",
       "</g>\r\n",
       "<!-- 17&#45;&gt;19 -->\r\n",
       "<g id=\"edge19\" class=\"edge\">\r\n",
       "<title>17&#45;&gt;19</title>\r\n",
       "<path fill=\"none\" stroke=\"black\" d=\"M832.48,-341.91C839.34,-330.76 846.79,-318.66 853.69,-307.44\"/>\r\n",
       "<polygon fill=\"black\" stroke=\"black\" points=\"856.83,-309.02 859.09,-298.67 850.87,-305.35 856.83,-309.02\"/>\r\n",
       "</g>\r\n",
       "<!-- 21 -->\r\n",
       "<g id=\"node22\" class=\"node\">\r\n",
       "<title>21</title>\r\n",
       "<path fill=\"#e58139\" stroke=\"black\" d=\"M1064,-298.5C1064,-298.5 967,-298.5 967,-298.5 961,-298.5 955,-292.5 955,-286.5 955,-286.5 955,-242.5 955,-242.5 955,-236.5 961,-230.5 967,-230.5 967,-230.5 1064,-230.5 1064,-230.5 1070,-230.5 1076,-236.5 1076,-242.5 1076,-242.5 1076,-286.5 1076,-286.5 1076,-292.5 1070,-298.5 1064,-298.5\"/>\r\n",
       "<text text-anchor=\"start\" x=\"986.5\" y=\"-283.3\" font-family=\"Helvetica,sans-Serif\" font-size=\"14.00\">gini = 0.0</text>\r\n",
       "<text text-anchor=\"start\" x=\"972\" y=\"-268.3\" font-family=\"Helvetica,sans-Serif\" font-size=\"14.00\">samples = 57</text>\r\n",
       "<text text-anchor=\"start\" x=\"963\" y=\"-253.3\" font-family=\"Helvetica,sans-Serif\" font-size=\"14.00\">value = [57, 0, 0]</text>\r\n",
       "<text text-anchor=\"start\" x=\"966\" y=\"-238.3\" font-family=\"Helvetica,sans-Serif\" font-size=\"14.00\">class = class_0</text>\r\n",
       "</g>\r\n",
       "<!-- 20&#45;&gt;21 -->\r\n",
       "<g id=\"edge21\" class=\"edge\">\r\n",
       "<title>20&#45;&gt;21</title>\r\n",
       "<path fill=\"none\" stroke=\"black\" d=\"M1015.5,-341.91C1015.5,-331.2 1015.5,-319.62 1015.5,-308.78\"/>\r\n",
       "<polygon fill=\"black\" stroke=\"black\" points=\"1019,-308.67 1015.5,-298.67 1012,-308.67 1019,-308.67\"/>\r\n",
       "</g>\r\n",
       "<!-- 22 -->\r\n",
       "<g id=\"node23\" class=\"node\">\r\n",
       "<title>22</title>\r\n",
       "<path fill=\"#39e581\" stroke=\"black\" d=\"M1197,-298.5C1197,-298.5 1106,-298.5 1106,-298.5 1100,-298.5 1094,-292.5 1094,-286.5 1094,-286.5 1094,-242.5 1094,-242.5 1094,-236.5 1100,-230.5 1106,-230.5 1106,-230.5 1197,-230.5 1197,-230.5 1203,-230.5 1209,-236.5 1209,-242.5 1209,-242.5 1209,-286.5 1209,-286.5 1209,-292.5 1203,-298.5 1197,-298.5\"/>\r\n",
       "<text text-anchor=\"start\" x=\"1122.5\" y=\"-283.3\" font-family=\"Helvetica,sans-Serif\" font-size=\"14.00\">gini = 0.0</text>\r\n",
       "<text text-anchor=\"start\" x=\"1112\" y=\"-268.3\" font-family=\"Helvetica,sans-Serif\" font-size=\"14.00\">samples = 2</text>\r\n",
       "<text text-anchor=\"start\" x=\"1103\" y=\"-253.3\" font-family=\"Helvetica,sans-Serif\" font-size=\"14.00\">value = [0, 2, 0]</text>\r\n",
       "<text text-anchor=\"start\" x=\"1102\" y=\"-238.3\" font-family=\"Helvetica,sans-Serif\" font-size=\"14.00\">class = class_1</text>\r\n",
       "</g>\r\n",
       "<!-- 20&#45;&gt;22 -->\r\n",
       "<g id=\"edge22\" class=\"edge\">\r\n",
       "<title>20&#45;&gt;22</title>\r\n",
       "<path fill=\"none\" stroke=\"black\" d=\"M1062.68,-341.91C1076.41,-330.1 1091.39,-317.22 1105.06,-305.45\"/>\r\n",
       "<polygon fill=\"black\" stroke=\"black\" points=\"1107.65,-307.84 1112.95,-298.67 1103.08,-302.54 1107.65,-307.84\"/>\r\n",
       "</g>\r\n",
       "</g>\r\n",
       "</svg>\r\n"
      ],
      "text/plain": [
       "<graphviz.files.Source at 0x196aeeaef70>"
      ]
     },
     "execution_count": 49,
     "metadata": {},
     "output_type": "execute_result"
    }
   ],
   "source": [
    "dot_data = tree.export_graphviz (decision_tree=model,\n",
    "                                feature_names=wine.feature_names,\n",
    "                                class_names=wine.target_names,\n",
    "                                filled=True, rounded=True,\n",
    "                                 # filled : 색을 칠하는주는 것 \n",
    "                                 # rounded : 모서리가 둥그렇게 출력해주는 코드 \n",
    "                                special_characters=True)\n",
    "\n",
    "graph = graphviz.Source(dot_data)\n",
    "graph"
   ]
  },
  {
   "cell_type": "markdown",
   "metadata": {
    "id": "nIv0041tu3MD"
   },
   "source": [
    "##### 결정 경계 시각화"
   ]
  },
  {
   "cell_type": "code",
   "execution_count": 53,
   "metadata": {
    "id": "Sddsudldw8sj"
   },
   "outputs": [
    {
     "data": {
      "image/png": "[encoded data removed]",
      "text/plain": [
       "<Figure size 1152x576 with 6 Axes>"
      ]
     },
     "metadata": {},
     "output_type": "display_data"
    }
   ],
   "source": [
    "plt.figure(figsize=(16,8))\n",
    "\n",
    "for pairidx, pair in enumerate([[0,1],[0,2], [0, 3], [1,2],[1,3],[2,3]]):\n",
    "    X = wine.data[:, pair]\n",
    "    y = wine.target\n",
    "    \n",
    "    model = DecisionTreeClassifier(max_depth=5)\n",
    "    model = model.fit(X,y)\n",
    "    \n",
    "    plt.subplot(2, 3, pairidx +1)\n",
    "    \n",
    "    x_min, x_max = X[:,0].min()-1, X[:,0].max()+1\n",
    "    y_min, y_max = X[:,0].min()-1, X[:,0].max()+1\n",
    "    xx, yy = np.meshgrid(np.arange(x_min, x_max, plot_step),\n",
    "                         np.arange(y_min, y_max, plot_step))\n",
    "    plt.tight_layout(h_pad=-0.5, w_pad=0.5, pad=2.5)\n",
    "    \n",
    "    Z = model.predict(np.c_[xx.ravel(), yy.ravel()])\n",
    "    Z = Z.reshape(xx.shape)\n",
    "    cs = plt.contourf(xx,yy,Z,cmap=plt.cm.RdYlBu)\n",
    "    \n",
    "    plt.xlabel(wine.feature_names[pair[0]])\n",
    "    plt.ylabel(wine.feature_names[pair[1]])\n",
    "    \n",
    "    for i, color in zip(range(n_classes), plot_colors):\n",
    "        idx = np.where(y==i)\n",
    "        plt.scatter(X[idx, 0], X[idx, 1], c=color, label=wine.target_names[i],\n",
    "                   cmap=plt.cm.RdYlBu, edgecolor=\"b\", s=15)\n",
    "    \n",
    "    plt.suptitle(\"Decision surface\")\n",
    "    plt.legend(loc=\"lower right\", borderpad=0, handletextpad=0)\n",
    "    plt.axis(\"tight\")"
   ]
  },
  {
   "cell_type": "markdown",
   "metadata": {
    "id": "m0_mrHabjfUk"
   },
   "source": [
    "### 유방암 데이터 학습"
   ]
  },
  {
   "cell_type": "markdown",
   "metadata": {
    "id": "PgT-Bd4Njk2Y"
   },
   "source": [
    "#### 교차 검증"
   ]
  },
  {
   "cell_type": "markdown",
   "metadata": {
    "id": "iq0Q56wpjwYW"
   },
   "source": [
    "##### 전처리 없이 학습"
   ]
  },
  {
   "cell_type": "code",
   "execution_count": null,
   "metadata": {
    "id": "03R3D3hCj0aT"
   },
   "outputs": [],
   "source": [
    "model = DecisionTreeClassifier()"
   ]
  },
  {
   "cell_type": "code",
   "execution_count": 55,
   "metadata": {
    "id": "m3KtBtgrj_XE"
   },
   "outputs": [
    {
     "data": {
      "text/plain": [
       "array([0.9122807 , 0.93859649, 0.92982456, 0.92982456, 0.91150442])"
      ]
     },
     "execution_count": 55,
     "metadata": {},
     "output_type": "execute_result"
    }
   ],
   "source": [
    "cross_val_score(\n",
    "    estimator=model,\n",
    "    X=cancer.data, y=cancer.target,\n",
    "    cv=5,\n",
    "    n_jobs=-1)"
   ]
  },
  {
   "cell_type": "markdown",
   "metadata": {
    "id": "d3k0f8H0jyXm"
   },
   "source": [
    "##### 전처리 후 학습"
   ]
  },
  {
   "cell_type": "code",
   "execution_count": null,
   "metadata": {
    "id": "5WeAS_ZFkPil"
   },
   "outputs": [],
   "source": [
    "model = make_pipeline(StandardScaler(), DecisionTreeClassifier())"
   ]
  },
  {
   "cell_type": "code",
   "execution_count": 56,
   "metadata": {
    "id": "h2nPgcqtkS3I"
   },
   "outputs": [
    {
     "data": {
      "text/plain": [
       "array([0.9122807 , 0.90350877, 0.92982456, 0.94736842, 0.91150442])"
      ]
     },
     "execution_count": 56,
     "metadata": {},
     "output_type": "execute_result"
    }
   ],
   "source": [
    "cross_val_score(\n",
    "    estimator=model,\n",
    "    X=cancer.data, y=cancer.target,\n",
    "    cv=5,\n",
    "    n_jobs=-1)"
   ]
  },
  {
   "cell_type": "markdown",
   "metadata": {
    "id": "1ipuSuf9jo49"
   },
   "source": [
    "#### 학습된 결정 트리 시각화"
   ]
  },
  {
   "cell_type": "code",
   "execution_count": null,
   "metadata": {
    "id": "7a0WWrRHlpyU"
   },
   "outputs": [],
   "source": []
  },
  {
   "cell_type": "markdown",
   "metadata": {
    "id": "5uc_ZCPElmVo"
   },
   "source": [
    "##### 텍스트를 통한 시각화"
   ]
  },
  {
   "cell_type": "code",
   "execution_count": null,
   "metadata": {
    "id": "WdKlZ_3LmEgp"
   },
   "outputs": [],
   "source": []
  },
  {
   "cell_type": "markdown",
   "metadata": {
    "id": "IztQbiqkknh-"
   },
   "source": [
    "##### plot_tree를 사용한 시각화"
   ]
  },
  {
   "cell_type": "code",
   "execution_count": null,
   "metadata": {
    "id": "Obspq9Vblt1X"
   },
   "outputs": [],
   "source": []
  },
  {
   "cell_type": "markdown",
   "metadata": {
    "id": "vqjobQE8lg6u"
   },
   "source": [
    "##### graphviz를 사용한 시각화"
   ]
  },
  {
   "cell_type": "code",
   "execution_count": null,
   "metadata": {
    "id": "WwswKQ7Sl3Ea"
   },
   "outputs": [],
   "source": []
  },
  {
   "cell_type": "markdown",
   "metadata": {
    "id": "a-Hj4tedxje_"
   },
   "source": [
    "#### 시각화"
   ]
  },
  {
   "cell_type": "code",
   "execution_count": null,
   "metadata": {
    "id": "NRtkg7zqoSjy"
   },
   "outputs": [],
   "source": []
  },
  {
   "cell_type": "markdown",
   "metadata": {
    "id": "vpOrrVtfoOSy"
   },
   "source": [
    "##### 결정 경계 시각화"
   ]
  },
  {
   "cell_type": "code",
   "execution_count": null,
   "metadata": {
    "id": "-rs7YoEgoV53"
   },
   "outputs": [],
   "source": []
  },
  {
   "cell_type": "markdown",
   "metadata": {
    "id": "Gq333xtIuKCv"
   },
   "source": [
    "##### 하이퍼파리미터를 변경해 보면서 결정 경계의 변화 확인"
   ]
  },
  {
   "cell_type": "code",
   "execution_count": null,
   "metadata": {
    "id": "rhLe1RZ1uPOj"
   },
   "outputs": [],
   "source": []
  },
  {
   "cell_type": "markdown",
   "metadata": {
    "id": "o1fFfCpT6MRl"
   },
   "source": [
    "## 회귀 - `DecisionTreeRegressor()`"
   ]
  },
  {
   "cell_type": "markdown",
   "metadata": {
    "id": "Cxbymvlnxzs-"
   },
   "source": [
    "### 보스턴 주택 가격 데이터 학습"
   ]
  },
  {
   "cell_type": "markdown",
   "metadata": {
    "id": "jGaVhVYLydAe"
   },
   "source": [
    "#### 교차 검증"
   ]
  },
  {
   "cell_type": "markdown",
   "metadata": {
    "id": "aJxph6Vyyoks"
   },
   "source": [
    "##### 전처리 없이 학습"
   ]
  },
  {
   "cell_type": "code",
   "execution_count": null,
   "metadata": {
    "id": "Aj_fU_sZy0Y6"
   },
   "outputs": [],
   "source": []
  },
  {
   "cell_type": "code",
   "execution_count": null,
   "metadata": {
    "id": "zf7_aTUiysdI"
   },
   "outputs": [],
   "source": []
  },
  {
   "cell_type": "markdown",
   "metadata": {
    "id": "QxKPO6dVyn0B"
   },
   "source": [
    "##### 전처리 후 학습"
   ]
  },
  {
   "cell_type": "code",
   "execution_count": null,
   "metadata": {
    "id": "LeNEXirhzIeb"
   },
   "outputs": [],
   "source": []
  },
  {
   "cell_type": "code",
   "execution_count": null,
   "metadata": {
    "id": "evwtcUeYzOzx"
   },
   "outputs": [],
   "source": []
  },
  {
   "cell_type": "markdown",
   "metadata": {
    "id": "VWVL0545_ZK2"
   },
   "source": [
    "#### 학습된 결정 트리 시각화"
   ]
  },
  {
   "cell_type": "code",
   "execution_count": null,
   "metadata": {
    "id": "iyHX8zrY_oyA"
   },
   "outputs": [],
   "source": []
  },
  {
   "cell_type": "markdown",
   "metadata": {
    "id": "xs1ezt7l_dL3"
   },
   "source": [
    "##### 텍스트를 통한 시각화"
   ]
  },
  {
   "cell_type": "code",
   "execution_count": null,
   "metadata": {
    "id": "FDizXYgGAN1C"
   },
   "outputs": [],
   "source": []
  },
  {
   "cell_type": "markdown",
   "metadata": {
    "id": "IlBrXND2_eDT"
   },
   "source": [
    "##### plot_tree를 사용한 시각화"
   ]
  },
  {
   "cell_type": "code",
   "execution_count": null,
   "metadata": {
    "id": "9QSPZYOE_tTM"
   },
   "outputs": [],
   "source": []
  },
  {
   "cell_type": "markdown",
   "metadata": {
    "id": "MvkK66mV_ddw"
   },
   "source": [
    "##### graphviz를 사용한 시각화"
   ]
  },
  {
   "cell_type": "code",
   "execution_count": null,
   "metadata": {
    "id": "RG4-bBkR_3TT"
   },
   "outputs": [],
   "source": []
  },
  {
   "cell_type": "markdown",
   "metadata": {
    "id": "uXiV9cxZyfH4"
   },
   "source": [
    "#### 시각화"
   ]
  },
  {
   "cell_type": "markdown",
   "metadata": {
    "id": "-hQxhOfaAhyc"
   },
   "source": [
    "##### 회귀식 시각화"
   ]
  },
  {
   "cell_type": "code",
   "execution_count": null,
   "metadata": {
    "id": "pI6d9vgFAreH"
   },
   "outputs": [],
   "source": []
  },
  {
   "cell_type": "markdown",
   "metadata": {
    "id": "8uUdG0ogAmVw"
   },
   "source": [
    "##### 하이퍼파리미터를 변경해 보면서 회귀식 시각화"
   ]
  },
  {
   "cell_type": "code",
   "execution_count": null,
   "metadata": {
    "id": "LvwhocZ1FiLF"
   },
   "outputs": [],
   "source": []
  },
  {
   "cell_type": "markdown",
   "metadata": {
    "id": "xK6cyraMxzNK"
   },
   "source": [
    "### 당뇨병 데이터 학습"
   ]
  },
  {
   "cell_type": "markdown",
   "metadata": {
    "id": "mwAey_sjGByg"
   },
   "source": [
    "#### 교차 검증"
   ]
  },
  {
   "cell_type": "markdown",
   "metadata": {
    "id": "g4yrwcljGIMl"
   },
   "source": [
    "##### 전처리 없이 학습"
   ]
  },
  {
   "cell_type": "code",
   "execution_count": null,
   "metadata": {
    "id": "SUSEIHLXGP2t"
   },
   "outputs": [],
   "source": []
  },
  {
   "cell_type": "code",
   "execution_count": null,
   "metadata": {
    "id": "jZMrd6e8GT5d"
   },
   "outputs": [],
   "source": []
  },
  {
   "cell_type": "markdown",
   "metadata": {
    "id": "is53BwuWGK3S"
   },
   "source": [
    "##### 전처리 후 학습"
   ]
  },
  {
   "cell_type": "code",
   "execution_count": null,
   "metadata": {
    "id": "j9U3jI4bG8an"
   },
   "outputs": [],
   "source": []
  },
  {
   "cell_type": "code",
   "execution_count": null,
   "metadata": {
    "id": "NyzFisTGG-Ra"
   },
   "outputs": [],
   "source": []
  },
  {
   "cell_type": "markdown",
   "metadata": {
    "id": "UusEIpcdGBX8"
   },
   "source": [
    "#### 학습된 결정 트리 시각화"
   ]
  },
  {
   "cell_type": "code",
   "execution_count": null,
   "metadata": {
    "id": "i8XMyUKPIKF5"
   },
   "outputs": [],
   "source": []
  },
  {
   "cell_type": "markdown",
   "metadata": {
    "id": "IJJRs8ojHyvm"
   },
   "source": [
    "##### 텍스트를 통한 시각화"
   ]
  },
  {
   "cell_type": "code",
   "execution_count": null,
   "metadata": {
    "id": "anN3zVgcIZBx"
   },
   "outputs": [],
   "source": []
  },
  {
   "cell_type": "markdown",
   "metadata": {
    "id": "43jYoj9PHzmB"
   },
   "source": [
    "##### plot_tree를 사용한 시각화"
   ]
  },
  {
   "cell_type": "code",
   "execution_count": null,
   "metadata": {
    "id": "epYXvCopIRmE"
   },
   "outputs": [],
   "source": []
  },
  {
   "cell_type": "markdown",
   "metadata": {
    "id": "KVwIgM16HzMt"
   },
   "source": [
    "##### graphviz를 사용한 시각화"
   ]
  },
  {
   "cell_type": "code",
   "execution_count": null,
   "metadata": {
    "id": "vm5zLy_PIXht"
   },
   "outputs": [],
   "source": []
  },
  {
   "cell_type": "markdown",
   "metadata": {
    "id": "t-67ZAldGA0J"
   },
   "source": [
    "#### 시각화"
   ]
  },
  {
   "cell_type": "markdown",
   "metadata": {
    "id": "PePsyMLfIvVx"
   },
   "source": [
    "##### 회귀식 시각화"
   ]
  },
  {
   "cell_type": "code",
   "execution_count": null,
   "metadata": {
    "id": "tQdaEZGYKUB7"
   },
   "outputs": [],
   "source": []
  },
  {
   "cell_type": "markdown",
   "metadata": {
    "id": "ww-B2BQ9Iu1P"
   },
   "source": [
    "##### 하이퍼파리미터를 변경해 보면서 회귀식 시각화"
   ]
  },
  {
   "cell_type": "code",
   "execution_count": null,
   "metadata": {
    "id": "E-btkBlwK1Md"
   },
   "outputs": [],
   "source": []
  }
 ],
 "metadata": {
  "colab": {
   "collapsed_sections": [
    "ESB60z8ZckQ5",
    "0BQEXGQywJf2",
    "5uc_ZCPElmVo",
    "xs1ezt7l_dL3",
    "IJJRs8ojHyvm"
   ],
   "name": "_8 결정 트리(Decision Tree).ipynb",
   "provenance": [],
   "toc_visible": true
  },
  "kernelspec": {
   "display_name": "Python 3",
   "language": "python",
   "name": "python3"
  },
  "language_info": {
   "codemirror_mode": {
    "name": "ipython",
    "version": 3
   },
   "file_extension": ".py",
   "mimetype": "text/x-python",
   "name": "python",
   "nbconvert_exporter": "python",
   "pygments_lexer": "ipython3",
   "version": "3.8.5"
  }
 },
 "nbformat": 4,
 "nbformat_minor": 1
}
