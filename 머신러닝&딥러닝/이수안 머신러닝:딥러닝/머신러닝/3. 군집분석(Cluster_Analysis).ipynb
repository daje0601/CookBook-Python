{
  "nbformat": 4,
  "nbformat_minor": 0,
  "metadata": {
    "colab": {
      "name": "_3 군집 분석(Cluster Analysis).ipynb",
      "provenance": [],
      "collapsed_sections": [],
      "include_colab_link": true
    },
    "kernelspec": {
      "name": "python3",
      "display_name": "Python 3"
    }
  },
  "cells": [
    {
      "cell_type": "markdown",
      "metadata": {
        "id": "view-in-github",
        "colab_type": "text"
      },
      "source": [
        "<a href=\"https://colab.research.google.com/github/daje0601/pandas_study/blob/main/3.%20%EA%B5%B0%EC%A7%91%EB%B6%84%EC%84%9D(Cluster_Analysis).ipynb\" target=\"_parent\"><img src=\"https://colab.research.google.com/assets/colab-badge.svg\" alt=\"Open In Colab\"/></a>"
      ]
    },
    {
      "cell_type": "markdown",
      "metadata": {
        "id": "yRJPtXEaccx9"
      },
      "source": [
        "# 군집 분석(Cluster Analysis)\n",
        "\n",
        "* 군집 분석은 데이터의 특성에 따라 유사한 것끼리 묶음\n",
        "* 유사성을 기반으로 군집을 분류하고, 군집에 따라 유형별 특징을 분석하는 기법\n",
        "* 텍스트에 대한 군집 분석에서는 군집으로 묶여진 텍스트들끼리는 최대한 유사하고, 다른 군집으로 묶여진 텍스트들과는 최대한 유사하지 않도록 분류"
      ]
    },
    {
      "cell_type": "markdown",
      "metadata": {
        "id": "VTtgEyisEzZs"
      },
      "source": [
        "## 텍스트 유사도\n",
        "\n",
        "* 텍스트 쌍에 대한 자카드 유사도와 코사인 유사도 계산\n",
        "* 자카드 유사도(Jaccard Similarity): 두 텍스트 문서 사이에 공통된 용어의 수와 해당 텍스트에 존재하는 총 고유 용어 수의 비율을 사용\n",
        "* 코사인 유사도(Cosine Similarity): 백터 표현 사이의 각도에 대한 코사인 값을 사용. BoW와 TF-IDF 행렬은 텍스트에 대한 백터 표현으로 활용 가능"
      ]
    },
    {
      "cell_type": "code",
      "metadata": {
        "id": "l-7nbG1VE-cz"
      },
      "source": [
        ""
      ],
      "execution_count": null,
      "outputs": []
    },
    {
      "cell_type": "code",
      "metadata": {
        "id": "SOWHS-UBFXLc"
      },
      "source": [
        ""
      ],
      "execution_count": null,
      "outputs": []
    },
    {
      "cell_type": "code",
      "metadata": {
        "id": "6NZjjhnHHlOd"
      },
      "source": [
        ""
      ],
      "execution_count": null,
      "outputs": []
    },
    {
      "cell_type": "code",
      "metadata": {
        "id": "yk0vFQBkJLnn"
      },
      "source": [
        ""
      ],
      "execution_count": null,
      "outputs": []
    },
    {
      "cell_type": "markdown",
      "metadata": {
        "id": "5750nfi-csZ8"
      },
      "source": [
        "## 한국어 형태소 분석기 설치"
      ]
    },
    {
      "cell_type": "code",
      "metadata": {
        "id": "Ojp6kJfNcXBG"
      },
      "source": [
        ""
      ],
      "execution_count": null,
      "outputs": []
    },
    {
      "cell_type": "markdown",
      "metadata": {
        "id": "6-p5SlR1cgUr"
      },
      "source": [
        "* https://raw.githubusercontent.com/konlpy/konlpy/master/scripts/mecab.sh"
      ]
    },
    {
      "cell_type": "code",
      "metadata": {
        "id": "ep20pwljcdAi"
      },
      "source": [
        ""
      ],
      "execution_count": null,
      "outputs": []
    },
    {
      "cell_type": "markdown",
      "metadata": {
        "id": "jmVii1zTce9E"
      },
      "source": [
        "## 데이터 전처리\n",
        "\n",
        "* https://raw.githubusercontent.com/e9t/nsmc/master/ratings.txt"
      ]
    },
    {
      "cell_type": "code",
      "metadata": {
        "id": "prB31aDvcG84"
      },
      "source": [
        ""
      ],
      "execution_count": null,
      "outputs": []
    },
    {
      "cell_type": "code",
      "metadata": {
        "id": "Gcpkxp0icHTK"
      },
      "source": [
        ""
      ],
      "execution_count": null,
      "outputs": []
    },
    {
      "cell_type": "code",
      "metadata": {
        "id": "8UXKdQxye2Lm"
      },
      "source": [
        ""
      ],
      "execution_count": null,
      "outputs": []
    },
    {
      "cell_type": "markdown",
      "metadata": {
        "id": "qDBX_LypciM-"
      },
      "source": [
        "## Word2Vec 생성"
      ]
    },
    {
      "cell_type": "markdown",
      "metadata": {
        "id": "qdEF-l0HUqXB"
      },
      "source": [
        "* word2vec 생성에 필요한 라이브러리들을 추가"
      ]
    },
    {
      "cell_type": "code",
      "metadata": {
        "id": "4m3e4uXkcosI"
      },
      "source": [
        ""
      ],
      "execution_count": null,
      "outputs": []
    },
    {
      "cell_type": "markdown",
      "metadata": {
        "id": "yXYVPJ2CUtW-"
      },
      "source": [
        "* `Word2Vec` 모델을 생성\n",
        "* `gensim`의 `Word2Vec`은 선언과 동시에 학습을 해 단어 벡터들을 생성"
      ]
    },
    {
      "cell_type": "code",
      "metadata": {
        "id": "PReikYb7nfIg"
      },
      "source": [
        ""
      ],
      "execution_count": null,
      "outputs": []
    },
    {
      "cell_type": "code",
      "metadata": {
        "id": "Jx3Prw-hnfPC"
      },
      "source": [
        ""
      ],
      "execution_count": null,
      "outputs": []
    },
    {
      "cell_type": "markdown",
      "metadata": {
        "id": "V90Ql6QzVuQm"
      },
      "source": [
        "* t-sne을 이용한 단어 벡터 시각화"
      ]
    },
    {
      "cell_type": "code",
      "metadata": {
        "id": "anGrbCTinfVl"
      },
      "source": [
        ""
      ],
      "execution_count": null,
      "outputs": []
    },
    {
      "cell_type": "code",
      "metadata": {
        "id": "YtfvRHLcnfc1"
      },
      "source": [
        ""
      ],
      "execution_count": null,
      "outputs": []
    },
    {
      "cell_type": "code",
      "metadata": {
        "id": "Z4Pm5hKOnfi2"
      },
      "source": [
        ""
      ],
      "execution_count": null,
      "outputs": []
    },
    {
      "cell_type": "code",
      "metadata": {
        "id": "PjsO9nCWnfnF"
      },
      "source": [
        ""
      ],
      "execution_count": null,
      "outputs": []
    },
    {
      "cell_type": "markdown",
      "metadata": {
        "id": "n6GqkGGRcw11"
      },
      "source": [
        "## Scikit-learn, Scipy를 이용한 계층적 군집화"
      ]
    },
    {
      "cell_type": "markdown",
      "metadata": {
        "id": "w3_LdBuB3eu4"
      },
      "source": [
        "* 계층적 군집화란 개별 개체들을 유사한 개체나 그룹과 통합해 군집화를 수행하는 알고리즘\n",
        "* 비계층적 군집화와는 달리 군집 수를 지정하지 않아도 군집화를 할 수 있는 것이 장점  \n",
        "* 계층적 군집화는 모든 개체간 거리나 유사도가 미리 계산되어 있어야만 하며, 계산복잡도도 비계층적 군집화보다 큼\n",
        "\n",
        "\n"
      ]
    },
    {
      "cell_type": "markdown",
      "metadata": {
        "id": "ShV75NPoCOdR"
      },
      "source": [
        "### Scikit-learn"
      ]
    },
    {
      "cell_type": "markdown",
      "metadata": {
        "id": "XqmquP17B-6r"
      },
      "source": [
        "* 비계층적 군집화의 일종인 `agglomerativeClustering`(병합 군집)을 이용, 계층적 군집화 실습    \n",
        "* 병합 군집은 각 개체들을 클러스터로 간주, 종료 조건을 만족할 때 까지 가장 비슷한 두 클러스터들을 합치며 진행\n",
        "* 병합 군집의 종료 조건에는 3가지를 지정 가능\n",
        "  1.   ward - 모든 클러스터 내의 분산을 가장 적게 증가시키는 두 클러스터를 합침(기본값)\n",
        "  2.   average - 클러스터간 평균 거리가 가장 짧은 두 클러스터를 합침\n",
        "  3.   complete - 클러스터간 최대 거리가 가장 짧은 두 클러스터를 합침"
      ]
    },
    {
      "cell_type": "markdown",
      "metadata": {
        "id": "1mz3cUilEJl8"
      },
      "source": [
        "* `scikit-learn` 사용 예제에서는 종료 조건 간의 차이를 비교"
      ]
    },
    {
      "cell_type": "markdown",
      "metadata": {
        "id": "5R-3nbN-Cflh"
      },
      "source": [
        "#### ward"
      ]
    },
    {
      "cell_type": "code",
      "metadata": {
        "id": "YzE7J1qqczzu"
      },
      "source": [
        ""
      ],
      "execution_count": null,
      "outputs": []
    },
    {
      "cell_type": "code",
      "metadata": {
        "id": "Boe1jwGmohMF"
      },
      "source": [
        ""
      ],
      "execution_count": null,
      "outputs": []
    },
    {
      "cell_type": "code",
      "metadata": {
        "id": "fd53VVnloj5-"
      },
      "source": [
        ""
      ],
      "execution_count": null,
      "outputs": []
    },
    {
      "cell_type": "markdown",
      "metadata": {
        "id": "UzQbDI63Cidh"
      },
      "source": [
        "#### average"
      ]
    },
    {
      "cell_type": "code",
      "metadata": {
        "id": "-UupbES4C4jk"
      },
      "source": [
        ""
      ],
      "execution_count": null,
      "outputs": []
    },
    {
      "cell_type": "code",
      "metadata": {
        "id": "RZsnW5iTC4pC"
      },
      "source": [
        ""
      ],
      "execution_count": null,
      "outputs": []
    },
    {
      "cell_type": "code",
      "metadata": {
        "id": "82jEoQAoC4rt"
      },
      "source": [
        ""
      ],
      "execution_count": null,
      "outputs": []
    },
    {
      "cell_type": "markdown",
      "metadata": {
        "id": "06we34IdCkfc"
      },
      "source": [
        "#### complete"
      ]
    },
    {
      "cell_type": "code",
      "metadata": {
        "id": "vRLkgHafDJ-T"
      },
      "source": [
        ""
      ],
      "execution_count": null,
      "outputs": []
    },
    {
      "cell_type": "code",
      "metadata": {
        "id": "z4fdn-rLDKAx"
      },
      "source": [
        ""
      ],
      "execution_count": null,
      "outputs": []
    },
    {
      "cell_type": "code",
      "metadata": {
        "id": "02fa3kUZDKC2"
      },
      "source": [
        ""
      ],
      "execution_count": null,
      "outputs": []
    },
    {
      "cell_type": "markdown",
      "metadata": {
        "id": "0chOe9IyCXqm"
      },
      "source": [
        "### Scipy"
      ]
    },
    {
      "cell_type": "markdown",
      "metadata": {
        "id": "8JonHGu1EBa5"
      },
      "source": [
        "* scipy를 이용한 거리 사용과 word2vec 사용을 비교"
      ]
    },
    {
      "cell_type": "markdown",
      "metadata": {
        "id": "vr4YdPeMDbjb"
      },
      "source": [
        "* `pdist`를 이용한 각 단어간 유클리디안 거리 계산"
      ]
    },
    {
      "cell_type": "code",
      "metadata": {
        "id": "4HQRcyag1QvP"
      },
      "source": [
        ""
      ],
      "execution_count": null,
      "outputs": []
    },
    {
      "cell_type": "markdown",
      "metadata": {
        "id": "d53gCFB-DtBI"
      },
      "source": [
        "* 각 단어간 유클리디안 거리를 이용한 군집 분석 및 덴드로그램 시각화"
      ]
    },
    {
      "cell_type": "code",
      "metadata": {
        "id": "7bJJj7Zx1SKn"
      },
      "source": [
        ""
      ],
      "execution_count": null,
      "outputs": []
    },
    {
      "cell_type": "markdown",
      "metadata": {
        "id": "VKJY0tieD4Wp"
      },
      "source": [
        "* `word2vec`을 이용한 군집 분석 및 덴드로그램 시각화"
      ]
    },
    {
      "cell_type": "code",
      "metadata": {
        "id": "6gle9gDy1TQo"
      },
      "source": [
        ""
      ],
      "execution_count": null,
      "outputs": []
    },
    {
      "cell_type": "markdown",
      "metadata": {
        "id": "wyqCamWJc0VE"
      },
      "source": [
        "## Scikit-learn을 이용한 비계층적 군집화"
      ]
    },
    {
      "cell_type": "markdown",
      "metadata": {
        "id": "yq0Ft2QsEWZK"
      },
      "source": [
        "* 비계층적 군집화는 나눌 클러스터 개수를 지정해 각 개체가 어느 클러스터에 속하는 지를 결정\n",
        "* 계층적 군집화보다 계산 복잡도가 작기 때문에 대량의 데이터에 유리하나, 클러스터 개수에 따라 군집화 성능이 크게 좌우되기 때문에 조정이 필요"
      ]
    },
    {
      "cell_type": "markdown",
      "metadata": {
        "id": "1MGTaa99FFMM"
      },
      "source": [
        "* 대표적인 비계층적 군집화 알고리즘인 kmeans를 사용해 실습"
      ]
    },
    {
      "cell_type": "markdown",
      "metadata": {
        "id": "SvWrjSWyFkwy"
      },
      "source": [
        "### 클러스터 개수 3"
      ]
    },
    {
      "cell_type": "code",
      "metadata": {
        "id": "RgihAL89c3Wx"
      },
      "source": [
        ""
      ],
      "execution_count": null,
      "outputs": []
    },
    {
      "cell_type": "code",
      "metadata": {
        "id": "-ns_fXaVoaaW"
      },
      "source": [
        ""
      ],
      "execution_count": null,
      "outputs": []
    },
    {
      "cell_type": "code",
      "metadata": {
        "id": "R2E76_Kgocpf"
      },
      "source": [
        ""
      ],
      "execution_count": null,
      "outputs": []
    },
    {
      "cell_type": "markdown",
      "metadata": {
        "id": "52uUi_HOFqf5"
      },
      "source": [
        "### 클러스터 개수 6"
      ]
    },
    {
      "cell_type": "code",
      "metadata": {
        "id": "UT86aH3GFcZR"
      },
      "source": [
        ""
      ],
      "execution_count": null,
      "outputs": []
    },
    {
      "cell_type": "code",
      "metadata": {
        "id": "UBfVwCoqFcbz"
      },
      "source": [
        ""
      ],
      "execution_count": null,
      "outputs": []
    },
    {
      "cell_type": "code",
      "metadata": {
        "id": "FMq-oMFiFceO"
      },
      "source": [
        ""
      ],
      "execution_count": null,
      "outputs": []
    }
  ]
}