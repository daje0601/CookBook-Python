{
  "nbformat": 4,
  "nbformat_minor": 0,
  "metadata": {
    "colab": {
      "name": "_9.1 XGBoost, LightGBM.ipynb",
      "provenance": [],
      "collapsed_sections": [],
      "machine_shape": "hm"
    },
    "kernelspec": {
      "name": "python3",
      "display_name": "Python 3"
    }
  },
  "cells": [
    {
      "cell_type": "markdown",
      "metadata": {
        "id": "b2MQEkXAYQeB"
      },
      "source": [
        "# XGBoost\n",
        "\n",
        "* 트리 기반의 앙상블 기법\n",
        "* 분류에 있어서 다른 알고리즘보다 좋은 예측 성능을 보여줌\n",
        "* XGBoost는 GBM 기반이지만, GBM의 단점인 느린 수행 시간과 과적합 규제 부재 등의 문제를 해결\n",
        "* 병렬 CPU 환경에서 빠르게 학습 가능"
      ]
    },
    {
      "cell_type": "code",
      "metadata": {
        "id": "n850KIcAXoQi"
      },
      "source": [
        "from sklearn.datasets import load_iris, load_breast_cancer, load_boston, load_diabetes, load_wine\n",
        "from sklearn.model_selection import train_test_split, cross_validate, GridSearchCV\n",
        "from sklearn.metrics import accuracy_score, precision_score, recall_score\n",
        "\n",
        "# xgboost는 sklearn에 포함되어 있지 않으나, 별도의 sklearn에 랩핑되어 있다. \n",
        "# 이에, 편한거 가져다가 쓰면 된다. 왜 이렇게 되어 있는지는 모르겠다. \n",
        "import xgboost as xgb\n",
        "from xgboost import XGBClassifier, XGBRegressor\n",
        "from xgboost import plot_importance, plot_tree\n",
        "\n",
        "import graphviz\n",
        "import matplotlib.pyplot as plt\n",
        "plt.style.use([\"seaborn-whitegrid\"])"
      ],
      "execution_count": 73,
      "outputs": []
    },
    {
      "cell_type": "markdown",
      "metadata": {
        "id": "jXwhMELw49SU"
      },
      "source": [
        "## 파이썬 기반 XGBoost"
      ]
    },
    {
      "cell_type": "code",
      "metadata": {
        "id": "h7pWRMXYYsWZ"
      },
      "source": [
        "cancer = load_breast_cancer()\n",
        "X_train, X_test, y_train, y_test = train_test_split(cancer.data, cancer.target, test_size=0.2, random_state=42)\n",
        "\n",
        "dtrain = xgb.DMatrix(data=X_train, label=y_train)\n",
        "dtest = xgb.DMatrix(data=X_test, label=y_test)"
      ],
      "execution_count": 56,
      "outputs": []
    },
    {
      "cell_type": "code",
      "metadata": {
        "id": "O6R5LCHCaN01"
      },
      "source": [
        "params = {\n",
        "  \"max_depth\" : 3, # default는 6으로 설정되어 있으며, 트리구조이기 때문에 깊이를 조절할 수 있음 \n",
        "  \"eta\" : 0.1, # 과적 합을 방지하기 위해 업데이트에 사용되는 단계 크기 축소입니다. 각 부스팅 단계 후에는 새로운 기능의 가중치를 직접 가져올 수 있으며 eta는 기능 가중치를 줄여 부스팅 프로세스를보다 보수적으로 만듭니다.\n",
        "  \"objective\" : \"binary:logistic\", \n",
        "  \"eval_metric\" : \"logloss\", # 검증 데이터에 대한 평가 메트릭, 기본 메트릭은 목표에 따라 할당됩니다 (회귀의 경우 rmse, 분류의 경우 logloss, 순위의 평균 정밀도).\n",
        "  \"early_stopping\" : 100 \n",
        "}\n",
        "\n",
        "num_rounds = 400"
      ],
      "execution_count": 57,
      "outputs": []
    },
    {
      "cell_type": "code",
      "metadata": {
        "id": "UIORmNhfad3U",
        "colab": {
          "base_uri": "https://localhost:8080/"
        },
        "outputId": "281e0d3e-4bf8-477a-a069-96e58c62aedc"
      },
      "source": [
        "evals = [(dtrain, \"train\"), (dtest, \"test\")]\n",
        "\n",
        "xgb_model = xgb.train(params=params, dtrain=dtrain, num_boost_round=num_rounds,\n",
        "                      early_stopping_rounds=100, evals=evals )"
      ],
      "execution_count": 58,
      "outputs": [
        {
          "output_type": "stream",
          "text": [
            "[0]\ttrain-logloss:0.609605\ttest-logloss:0.614431\n",
            "Multiple eval metrics have been passed: 'test-logloss' will be used for early stopping.\n",
            "\n",
            "Will train until test-logloss hasn't improved in 100 rounds.\n",
            "[1]\ttrain-logloss:0.540756\ttest-logloss:0.547208\n",
            "[2]\ttrain-logloss:0.484075\ttest-logloss:0.495585\n",
            "[3]\ttrain-logloss:0.433243\ttest-logloss:0.446594\n",
            "[4]\ttrain-logloss:0.389845\ttest-logloss:0.406818\n",
            "[5]\ttrain-logloss:0.352124\ttest-logloss:0.370823\n",
            "[6]\ttrain-logloss:0.31949\ttest-logloss:0.340322\n",
            "[7]\ttrain-logloss:0.291385\ttest-logloss:0.315586\n",
            "[8]\ttrain-logloss:0.266061\ttest-logloss:0.291813\n",
            "[9]\ttrain-logloss:0.243922\ttest-logloss:0.27323\n",
            "[10]\ttrain-logloss:0.22408\ttest-logloss:0.2549\n",
            "[11]\ttrain-logloss:0.206975\ttest-logloss:0.242168\n",
            "[12]\ttrain-logloss:0.191283\ttest-logloss:0.225769\n",
            "[13]\ttrain-logloss:0.177047\ttest-logloss:0.212827\n",
            "[14]\ttrain-logloss:0.16451\ttest-logloss:0.199469\n",
            "[15]\ttrain-logloss:0.153192\ttest-logloss:0.191686\n",
            "[16]\ttrain-logloss:0.14312\ttest-logloss:0.180686\n",
            "[17]\ttrain-logloss:0.134097\ttest-logloss:0.174324\n",
            "[18]\ttrain-logloss:0.125223\ttest-logloss:0.165735\n",
            "[19]\ttrain-logloss:0.116873\ttest-logloss:0.155169\n",
            "[20]\ttrain-logloss:0.109796\ttest-logloss:0.15131\n",
            "[21]\ttrain-logloss:0.103196\ttest-logloss:0.142974\n",
            "[22]\ttrain-logloss:0.097388\ttest-logloss:0.140384\n",
            "[23]\ttrain-logloss:0.091705\ttest-logloss:0.136592\n",
            "[24]\ttrain-logloss:0.086565\ttest-logloss:0.131529\n",
            "[25]\ttrain-logloss:0.081669\ttest-logloss:0.128853\n",
            "[26]\ttrain-logloss:0.077423\ttest-logloss:0.124978\n",
            "[27]\ttrain-logloss:0.07337\ttest-logloss:0.123122\n",
            "[28]\ttrain-logloss:0.069806\ttest-logloss:0.119021\n",
            "[29]\ttrain-logloss:0.066339\ttest-logloss:0.117689\n",
            "[30]\ttrain-logloss:0.063319\ttest-logloss:0.117189\n",
            "[31]\ttrain-logloss:0.060129\ttest-logloss:0.114693\n",
            "[32]\ttrain-logloss:0.057598\ttest-logloss:0.114833\n",
            "[33]\ttrain-logloss:0.054901\ttest-logloss:0.11278\n",
            "[34]\ttrain-logloss:0.052488\ttest-logloss:0.110999\n",
            "[35]\ttrain-logloss:0.04981\ttest-logloss:0.110496\n",
            "[36]\ttrain-logloss:0.047893\ttest-logloss:0.110435\n",
            "[37]\ttrain-logloss:0.045769\ttest-logloss:0.107738\n",
            "[38]\ttrain-logloss:0.043609\ttest-logloss:0.1078\n",
            "[39]\ttrain-logloss:0.042119\ttest-logloss:0.105969\n",
            "[40]\ttrain-logloss:0.0405\ttest-logloss:0.105489\n",
            "[41]\ttrain-logloss:0.038846\ttest-logloss:0.106594\n",
            "[42]\ttrain-logloss:0.037259\ttest-logloss:0.106332\n",
            "[43]\ttrain-logloss:0.035663\ttest-logloss:0.105749\n",
            "[44]\ttrain-logloss:0.034423\ttest-logloss:0.104785\n",
            "[45]\ttrain-logloss:0.033139\ttest-logloss:0.104982\n",
            "[46]\ttrain-logloss:0.032217\ttest-logloss:0.103758\n",
            "[47]\ttrain-logloss:0.031052\ttest-logloss:0.104128\n",
            "[48]\ttrain-logloss:0.029943\ttest-logloss:0.10416\n",
            "[49]\ttrain-logloss:0.029034\ttest-logloss:0.103933\n",
            "[50]\ttrain-logloss:0.028203\ttest-logloss:0.102801\n",
            "[51]\ttrain-logloss:0.027266\ttest-logloss:0.10118\n",
            "[52]\ttrain-logloss:0.026376\ttest-logloss:0.101623\n",
            "[53]\ttrain-logloss:0.025675\ttest-logloss:0.101096\n",
            "[54]\ttrain-logloss:0.024912\ttest-logloss:0.101659\n",
            "[55]\ttrain-logloss:0.02414\ttest-logloss:0.101508\n",
            "[56]\ttrain-logloss:0.023502\ttest-logloss:0.100735\n",
            "[57]\ttrain-logloss:0.022982\ttest-logloss:0.102012\n",
            "[58]\ttrain-logloss:0.022329\ttest-logloss:0.101941\n",
            "[59]\ttrain-logloss:0.021773\ttest-logloss:0.101585\n",
            "[60]\ttrain-logloss:0.021204\ttest-logloss:0.101354\n",
            "[61]\ttrain-logloss:0.020652\ttest-logloss:0.100237\n",
            "[62]\ttrain-logloss:0.020185\ttest-logloss:0.09891\n",
            "[63]\ttrain-logloss:0.019732\ttest-logloss:0.099162\n",
            "[64]\ttrain-logloss:0.019242\ttest-logloss:0.099324\n",
            "[65]\ttrain-logloss:0.018876\ttest-logloss:0.099136\n",
            "[66]\ttrain-logloss:0.018442\ttest-logloss:0.100265\n",
            "[67]\ttrain-logloss:0.01805\ttest-logloss:0.101087\n",
            "[68]\ttrain-logloss:0.017708\ttest-logloss:0.101672\n",
            "[69]\ttrain-logloss:0.017302\ttest-logloss:0.101868\n",
            "[70]\ttrain-logloss:0.016997\ttest-logloss:0.101705\n",
            "[71]\ttrain-logloss:0.016706\ttest-logloss:0.100816\n",
            "[72]\ttrain-logloss:0.016372\ttest-logloss:0.10062\n",
            "[73]\ttrain-logloss:0.016019\ttest-logloss:0.099539\n",
            "[74]\ttrain-logloss:0.015695\ttest-logloss:0.098823\n",
            "[75]\ttrain-logloss:0.01534\ttest-logloss:0.099537\n",
            "[76]\ttrain-logloss:0.015038\ttest-logloss:0.100048\n",
            "[77]\ttrain-logloss:0.014705\ttest-logloss:0.101435\n",
            "[78]\ttrain-logloss:0.014531\ttest-logloss:0.101874\n",
            "[79]\ttrain-logloss:0.014352\ttest-logloss:0.101579\n",
            "[80]\ttrain-logloss:0.01412\ttest-logloss:0.101153\n",
            "[81]\ttrain-logloss:0.013941\ttest-logloss:0.100166\n",
            "[82]\ttrain-logloss:0.013666\ttest-logloss:0.10086\n",
            "[83]\ttrain-logloss:0.01349\ttest-logloss:0.100863\n",
            "[84]\ttrain-logloss:0.013214\ttest-logloss:0.102216\n",
            "[85]\ttrain-logloss:0.013022\ttest-logloss:0.101555\n",
            "[86]\ttrain-logloss:0.012809\ttest-logloss:0.102657\n",
            "[87]\ttrain-logloss:0.012676\ttest-logloss:0.103077\n",
            "[88]\ttrain-logloss:0.012558\ttest-logloss:0.102354\n",
            "[89]\ttrain-logloss:0.012431\ttest-logloss:0.102065\n",
            "[90]\ttrain-logloss:0.012303\ttest-logloss:0.101424\n",
            "[91]\ttrain-logloss:0.012155\ttest-logloss:0.10146\n",
            "[92]\ttrain-logloss:0.011993\ttest-logloss:0.101001\n",
            "[93]\ttrain-logloss:0.011873\ttest-logloss:0.101263\n",
            "[94]\ttrain-logloss:0.011705\ttest-logloss:0.10212\n",
            "[95]\ttrain-logloss:0.011606\ttest-logloss:0.101455\n",
            "[96]\ttrain-logloss:0.011486\ttest-logloss:0.101404\n",
            "[97]\ttrain-logloss:0.01139\ttest-logloss:0.10092\n",
            "[98]\ttrain-logloss:0.011278\ttest-logloss:0.101183\n",
            "[99]\ttrain-logloss:0.011189\ttest-logloss:0.100552\n",
            "[100]\ttrain-logloss:0.011082\ttest-logloss:0.100971\n",
            "[101]\ttrain-logloss:0.010983\ttest-logloss:0.100755\n",
            "[102]\ttrain-logloss:0.010897\ttest-logloss:0.100614\n",
            "[103]\ttrain-logloss:0.01079\ttest-logloss:0.100587\n",
            "[104]\ttrain-logloss:0.010653\ttest-logloss:0.10141\n",
            "[105]\ttrain-logloss:0.010539\ttest-logloss:0.101457\n",
            "[106]\ttrain-logloss:0.010459\ttest-logloss:0.101013\n",
            "[107]\ttrain-logloss:0.010398\ttest-logloss:0.101018\n",
            "[108]\ttrain-logloss:0.010319\ttest-logloss:0.100857\n",
            "[109]\ttrain-logloss:0.010217\ttest-logloss:0.100908\n",
            "[110]\ttrain-logloss:0.010093\ttest-logloss:0.101114\n",
            "[111]\ttrain-logloss:0.010004\ttest-logloss:0.101359\n",
            "[112]\ttrain-logloss:0.009887\ttest-logloss:0.102157\n",
            "[113]\ttrain-logloss:0.009814\ttest-logloss:0.101547\n",
            "[114]\ttrain-logloss:0.009744\ttest-logloss:0.101132\n",
            "[115]\ttrain-logloss:0.009662\ttest-logloss:0.101135\n",
            "[116]\ttrain-logloss:0.009572\ttest-logloss:0.10119\n",
            "[117]\ttrain-logloss:0.009536\ttest-logloss:0.10109\n",
            "[118]\ttrain-logloss:0.009462\ttest-logloss:0.100534\n",
            "[119]\ttrain-logloss:0.009351\ttest-logloss:0.100158\n",
            "[120]\ttrain-logloss:0.009305\ttest-logloss:0.100153\n",
            "[121]\ttrain-logloss:0.009223\ttest-logloss:0.100206\n",
            "[122]\ttrain-logloss:0.009128\ttest-logloss:0.100252\n",
            "[123]\ttrain-logloss:0.009069\ttest-logloss:0.100122\n",
            "[124]\ttrain-logloss:0.009004\ttest-logloss:0.099595\n",
            "[125]\ttrain-logloss:0.008972\ttest-logloss:0.099515\n",
            "[126]\ttrain-logloss:0.00888\ttest-logloss:0.09983\n",
            "[127]\ttrain-logloss:0.008795\ttest-logloss:0.099885\n",
            "[128]\ttrain-logloss:0.008723\ttest-logloss:0.099942\n",
            "[129]\ttrain-logloss:0.008694\ttest-logloss:0.099864\n",
            "[130]\ttrain-logloss:0.008638\ttest-logloss:0.099388\n",
            "[131]\ttrain-logloss:0.008609\ttest-logloss:0.099316\n",
            "[132]\ttrain-logloss:0.008542\ttest-logloss:0.099378\n",
            "[133]\ttrain-logloss:0.008473\ttest-logloss:0.099825\n",
            "[134]\ttrain-logloss:0.008399\ttest-logloss:0.09988\n",
            "[135]\ttrain-logloss:0.008351\ttest-logloss:0.099761\n",
            "[136]\ttrain-logloss:0.008298\ttest-logloss:0.099289\n",
            "[137]\ttrain-logloss:0.008273\ttest-logloss:0.098993\n",
            "[138]\ttrain-logloss:0.008223\ttest-logloss:0.099168\n",
            "[139]\ttrain-logloss:0.008198\ttest-logloss:0.099105\n",
            "[140]\ttrain-logloss:0.008139\ttest-logloss:0.099165\n",
            "[141]\ttrain-logloss:0.008074\ttest-logloss:0.099231\n",
            "[142]\ttrain-logloss:0.008032\ttest-logloss:0.099181\n",
            "[143]\ttrain-logloss:0.008007\ttest-logloss:0.098887\n",
            "[144]\ttrain-logloss:0.007983\ttest-logloss:0.099049\n",
            "[145]\ttrain-logloss:0.00794\ttest-logloss:0.098942\n",
            "[146]\ttrain-logloss:0.007884\ttest-logloss:0.099344\n",
            "[147]\ttrain-logloss:0.007847\ttest-logloss:0.098922\n",
            "[148]\ttrain-logloss:0.007824\ttest-logloss:0.098943\n",
            "[149]\ttrain-logloss:0.007802\ttest-logloss:0.098667\n",
            "[150]\ttrain-logloss:0.00773\ttest-logloss:0.099005\n",
            "[151]\ttrain-logloss:0.007692\ttest-logloss:0.09896\n",
            "[152]\ttrain-logloss:0.007641\ttest-logloss:0.09902\n",
            "[153]\ttrain-logloss:0.007619\ttest-logloss:0.099026\n",
            "[154]\ttrain-logloss:0.007597\ttest-logloss:0.098918\n",
            "[155]\ttrain-logloss:0.007533\ttest-logloss:0.099603\n",
            "[156]\ttrain-logloss:0.007511\ttest-logloss:0.099335\n",
            "[157]\ttrain-logloss:0.007491\ttest-logloss:0.099493\n",
            "[158]\ttrain-logloss:0.007458\ttest-logloss:0.099192\n",
            "[159]\ttrain-logloss:0.007411\ttest-logloss:0.099091\n",
            "[160]\ttrain-logloss:0.007391\ttest-logloss:0.099043\n",
            "[161]\ttrain-logloss:0.007372\ttest-logloss:0.098787\n",
            "[162]\ttrain-logloss:0.007343\ttest-logloss:0.098512\n",
            "[163]\ttrain-logloss:0.007322\ttest-logloss:0.098597\n",
            "[164]\ttrain-logloss:0.007303\ttest-logloss:0.098489\n",
            "[165]\ttrain-logloss:0.007284\ttest-logloss:0.098509\n",
            "[166]\ttrain-logloss:0.007265\ttest-logloss:0.098593\n",
            "[167]\ttrain-logloss:0.007246\ttest-logloss:0.098151\n",
            "[168]\ttrain-logloss:0.007213\ttest-logloss:0.097935\n",
            "[169]\ttrain-logloss:0.007195\ttest-logloss:0.098088\n",
            "[170]\ttrain-logloss:0.007176\ttest-logloss:0.097977\n",
            "[171]\ttrain-logloss:0.007158\ttest-logloss:0.097668\n",
            "[172]\ttrain-logloss:0.00714\ttest-logloss:0.097626\n",
            "[173]\ttrain-logloss:0.007122\ttest-logloss:0.097521\n",
            "[174]\ttrain-logloss:0.007104\ttest-logloss:0.097603\n",
            "[175]\ttrain-logloss:0.007085\ttest-logloss:0.097494\n",
            "[176]\ttrain-logloss:0.007068\ttest-logloss:0.097257\n",
            "[177]\ttrain-logloss:0.007051\ttest-logloss:0.097408\n",
            "[178]\ttrain-logloss:0.007033\ttest-logloss:0.097302\n",
            "[179]\ttrain-logloss:0.007016\ttest-logloss:0.096887\n",
            "[180]\ttrain-logloss:0.006999\ttest-logloss:0.09697\n",
            "[181]\ttrain-logloss:0.006981\ttest-logloss:0.096866\n",
            "[182]\ttrain-logloss:0.006965\ttest-logloss:0.096877\n",
            "[183]\ttrain-logloss:0.006948\ttest-logloss:0.096956\n",
            "[184]\ttrain-logloss:0.006932\ttest-logloss:0.096972\n",
            "[185]\ttrain-logloss:0.006915\ttest-logloss:0.096562\n",
            "[186]\ttrain-logloss:0.006899\ttest-logloss:0.096681\n",
            "[187]\ttrain-logloss:0.006883\ttest-logloss:0.096825\n",
            "[188]\ttrain-logloss:0.006867\ttest-logloss:0.096728\n",
            "[189]\ttrain-logloss:0.006851\ttest-logloss:0.09669\n",
            "[190]\ttrain-logloss:0.006835\ttest-logloss:0.096313\n",
            "[191]\ttrain-logloss:0.00682\ttest-logloss:0.096333\n",
            "[192]\ttrain-logloss:0.006804\ttest-logloss:0.096474\n",
            "[193]\ttrain-logloss:0.006789\ttest-logloss:0.096485\n",
            "[194]\ttrain-logloss:0.006774\ttest-logloss:0.096267\n",
            "[195]\ttrain-logloss:0.006759\ttest-logloss:0.096342\n",
            "[196]\ttrain-logloss:0.006744\ttest-logloss:0.096485\n",
            "[197]\ttrain-logloss:0.006729\ttest-logloss:0.096507\n",
            "[198]\ttrain-logloss:0.006714\ttest-logloss:0.096414\n",
            "[199]\ttrain-logloss:0.006699\ttest-logloss:0.096488\n",
            "[200]\ttrain-logloss:0.006684\ttest-logloss:0.096121\n",
            "[201]\ttrain-logloss:0.006669\ttest-logloss:0.096078\n",
            "[202]\ttrain-logloss:0.006655\ttest-logloss:0.095984\n",
            "[203]\ttrain-logloss:0.006641\ttest-logloss:0.096056\n",
            "[204]\ttrain-logloss:0.006626\ttest-logloss:0.096195\n",
            "[205]\ttrain-logloss:0.006612\ttest-logloss:0.095841\n",
            "[206]\ttrain-logloss:0.006598\ttest-logloss:0.095975\n",
            "[207]\ttrain-logloss:0.006584\ttest-logloss:0.095882\n",
            "[208]\ttrain-logloss:0.006571\ttest-logloss:0.095844\n",
            "[209]\ttrain-logloss:0.006557\ttest-logloss:0.095637\n",
            "[210]\ttrain-logloss:0.006543\ttest-logloss:0.095663\n",
            "[211]\ttrain-logloss:0.00653\ttest-logloss:0.095685\n",
            "[212]\ttrain-logloss:0.006516\ttest-logloss:0.095818\n",
            "[213]\ttrain-logloss:0.006503\ttest-logloss:0.095476\n",
            "[214]\ttrain-logloss:0.00649\ttest-logloss:0.095389\n",
            "[215]\ttrain-logloss:0.006477\ttest-logloss:0.095351\n",
            "[216]\ttrain-logloss:0.006465\ttest-logloss:0.09537\n",
            "[217]\ttrain-logloss:0.006451\ttest-logloss:0.0955\n",
            "[218]\ttrain-logloss:0.006439\ttest-logloss:0.095165\n",
            "[219]\ttrain-logloss:0.006426\ttest-logloss:0.095081\n",
            "[220]\ttrain-logloss:0.006414\ttest-logloss:0.095209\n",
            "[221]\ttrain-logloss:0.006401\ttest-logloss:0.09507\n",
            "[222]\ttrain-logloss:0.006389\ttest-logloss:0.094826\n",
            "[223]\ttrain-logloss:0.006377\ttest-logloss:0.094856\n",
            "[224]\ttrain-logloss:0.006365\ttest-logloss:0.094878\n",
            "[225]\ttrain-logloss:0.006353\ttest-logloss:0.0949\n",
            "[226]\ttrain-logloss:0.006341\ttest-logloss:0.094867\n",
            "[227]\ttrain-logloss:0.006329\ttest-logloss:0.094879\n",
            "[228]\ttrain-logloss:0.006317\ttest-logloss:0.095003\n",
            "[229]\ttrain-logloss:0.006306\ttest-logloss:0.094683\n",
            "[230]\ttrain-logloss:0.006294\ttest-logloss:0.094704\n",
            "[231]\ttrain-logloss:0.006282\ttest-logloss:0.094724\n",
            "[232]\ttrain-logloss:0.006271\ttest-logloss:0.094537\n",
            "[233]\ttrain-logloss:0.006259\ttest-logloss:0.094569\n",
            "[234]\ttrain-logloss:0.006248\ttest-logloss:0.094693\n",
            "[235]\ttrain-logloss:0.006237\ttest-logloss:0.094718\n",
            "[236]\ttrain-logloss:0.006226\ttest-logloss:0.094688\n",
            "[237]\ttrain-logloss:0.006215\ttest-logloss:0.094709\n",
            "[238]\ttrain-logloss:0.006204\ttest-logloss:0.094721\n",
            "[239]\ttrain-logloss:0.006193\ttest-logloss:0.09454\n",
            "[240]\ttrain-logloss:0.006182\ttest-logloss:0.094561\n",
            "[241]\ttrain-logloss:0.006172\ttest-logloss:0.094593\n",
            "[242]\ttrain-logloss:0.006161\ttest-logloss:0.094616\n",
            "[243]\ttrain-logloss:0.00615\ttest-logloss:0.094292\n",
            "[244]\ttrain-logloss:0.006139\ttest-logloss:0.094414\n",
            "[245]\ttrain-logloss:0.006129\ttest-logloss:0.094275\n",
            "[246]\ttrain-logloss:0.006119\ttest-logloss:0.094394\n",
            "[247]\ttrain-logloss:0.006109\ttest-logloss:0.094416\n",
            "[248]\ttrain-logloss:0.006098\ttest-logloss:0.094389\n",
            "[249]\ttrain-logloss:0.006088\ttest-logloss:0.094098\n",
            "[250]\ttrain-logloss:0.006078\ttest-logloss:0.094119\n",
            "[251]\ttrain-logloss:0.006068\ttest-logloss:0.09413\n",
            "[252]\ttrain-logloss:0.006058\ttest-logloss:0.093959\n",
            "[253]\ttrain-logloss:0.006048\ttest-logloss:0.094076\n",
            "[254]\ttrain-logloss:0.006038\ttest-logloss:0.093938\n",
            "[255]\ttrain-logloss:0.006029\ttest-logloss:0.093971\n",
            "[256]\ttrain-logloss:0.006019\ttest-logloss:0.093993\n",
            "[257]\ttrain-logloss:0.006009\ttest-logloss:0.094082\n",
            "[258]\ttrain-logloss:0.005999\ttest-logloss:0.094106\n",
            "[259]\ttrain-logloss:0.005989\ttest-logloss:0.094221\n",
            "[260]\ttrain-logloss:0.00598\ttest-logloss:0.094256\n",
            "[261]\ttrain-logloss:0.005971\ttest-logloss:0.09409\n",
            "[262]\ttrain-logloss:0.005961\ttest-logloss:0.094113\n",
            "[263]\ttrain-logloss:0.005952\ttest-logloss:0.09409\n",
            "[264]\ttrain-logloss:0.005942\ttest-logloss:0.093959\n",
            "[265]\ttrain-logloss:0.005933\ttest-logloss:0.094072\n",
            "[266]\ttrain-logloss:0.005924\ttest-logloss:0.094098\n",
            "[267]\ttrain-logloss:0.005915\ttest-logloss:0.093821\n",
            "[268]\ttrain-logloss:0.005906\ttest-logloss:0.09362\n",
            "[269]\ttrain-logloss:0.005896\ttest-logloss:0.093734\n",
            "[270]\ttrain-logloss:0.005887\ttest-logloss:0.093746\n",
            "[271]\ttrain-logloss:0.005878\ttest-logloss:0.093767\n",
            "[272]\ttrain-logloss:0.005869\ttest-logloss:0.09364\n",
            "[273]\ttrain-logloss:0.005861\ttest-logloss:0.093751\n",
            "[274]\ttrain-logloss:0.005852\ttest-logloss:0.093461\n",
            "[275]\ttrain-logloss:0.005843\ttest-logloss:0.093546\n",
            "[276]\ttrain-logloss:0.005834\ttest-logloss:0.093573\n",
            "[277]\ttrain-logloss:0.005826\ttest-logloss:0.093594\n",
            "[278]\ttrain-logloss:0.005817\ttest-logloss:0.093573\n",
            "[279]\ttrain-logloss:0.005809\ttest-logloss:0.093552\n",
            "[280]\ttrain-logloss:0.0058\ttest-logloss:0.093293\n",
            "[281]\ttrain-logloss:0.005792\ttest-logloss:0.09332\n",
            "[282]\ttrain-logloss:0.005783\ttest-logloss:0.093429\n",
            "[283]\ttrain-logloss:0.005775\ttest-logloss:0.093307\n",
            "[284]\ttrain-logloss:0.005767\ttest-logloss:0.093414\n",
            "[285]\ttrain-logloss:0.005759\ttest-logloss:0.093413\n",
            "[286]\ttrain-logloss:0.00575\ttest-logloss:0.093392\n",
            "[287]\ttrain-logloss:0.005742\ttest-logloss:0.093472\n",
            "[288]\ttrain-logloss:0.005734\ttest-logloss:0.093217\n",
            "[289]\ttrain-logloss:0.005726\ttest-logloss:0.093244\n",
            "[290]\ttrain-logloss:0.005718\ttest-logloss:0.093265\n",
            "[291]\ttrain-logloss:0.00571\ttest-logloss:0.093245\n",
            "[292]\ttrain-logloss:0.005702\ttest-logloss:0.093241\n",
            "[293]\ttrain-logloss:0.005695\ttest-logloss:0.093222\n",
            "[294]\ttrain-logloss:0.005687\ttest-logloss:0.093102\n",
            "[295]\ttrain-logloss:0.005679\ttest-logloss:0.093206\n",
            "[296]\ttrain-logloss:0.005671\ttest-logloss:0.093232\n",
            "[297]\ttrain-logloss:0.005664\ttest-logloss:0.092961\n",
            "[298]\ttrain-logloss:0.005656\ttest-logloss:0.093063\n",
            "[299]\ttrain-logloss:0.005649\ttest-logloss:0.092944\n",
            "[300]\ttrain-logloss:0.005641\ttest-logloss:0.092945\n",
            "[301]\ttrain-logloss:0.005634\ttest-logloss:0.092971\n",
            "[302]\ttrain-logloss:0.005626\ttest-logloss:0.093072\n",
            "[303]\ttrain-logloss:0.005619\ttest-logloss:0.093053\n",
            "[304]\ttrain-logloss:0.005611\ttest-logloss:0.093052\n",
            "[305]\ttrain-logloss:0.005604\ttest-logloss:0.092791\n",
            "[306]\ttrain-logloss:0.005597\ttest-logloss:0.092817\n",
            "[307]\ttrain-logloss:0.00559\ttest-logloss:0.092798\n",
            "[308]\ttrain-logloss:0.005582\ttest-logloss:0.092794\n",
            "[309]\ttrain-logloss:0.005575\ttest-logloss:0.092722\n",
            "[310]\ttrain-logloss:0.005568\ttest-logloss:0.092724\n",
            "[311]\ttrain-logloss:0.005561\ttest-logloss:0.092744\n",
            "[312]\ttrain-logloss:0.005554\ttest-logloss:0.092511\n",
            "[313]\ttrain-logloss:0.005547\ttest-logloss:0.092538\n",
            "[314]\ttrain-logloss:0.00554\ttest-logloss:0.092638\n",
            "[315]\ttrain-logloss:0.005533\ttest-logloss:0.092622\n",
            "[316]\ttrain-logloss:0.005526\ttest-logloss:0.09251\n",
            "[317]\ttrain-logloss:0.005519\ttest-logloss:0.092609\n",
            "[318]\ttrain-logloss:0.005513\ttest-logloss:0.092499\n",
            "[319]\ttrain-logloss:0.005506\ttest-logloss:0.092496\n",
            "[320]\ttrain-logloss:0.005499\ttest-logloss:0.09248\n",
            "[321]\ttrain-logloss:0.005493\ttest-logloss:0.092234\n",
            "[322]\ttrain-logloss:0.005486\ttest-logloss:0.09233\n",
            "[323]\ttrain-logloss:0.005479\ttest-logloss:0.092218\n",
            "[324]\ttrain-logloss:0.005473\ttest-logloss:0.092202\n",
            "[325]\ttrain-logloss:0.005466\ttest-logloss:0.092223\n",
            "[326]\ttrain-logloss:0.00546\ttest-logloss:0.092249\n",
            "[327]\ttrain-logloss:0.005454\ttest-logloss:0.092343\n",
            "[328]\ttrain-logloss:0.005448\ttest-logloss:0.092236\n",
            "[329]\ttrain-logloss:0.005441\ttest-logloss:0.092234\n",
            "[330]\ttrain-logloss:0.005435\ttest-logloss:0.092237\n",
            "[331]\ttrain-logloss:0.005429\ttest-logloss:0.092221\n",
            "[332]\ttrain-logloss:0.005423\ttest-logloss:0.091984\n",
            "[333]\ttrain-logloss:0.005417\ttest-logloss:0.092077\n",
            "[334]\ttrain-logloss:0.00541\ttest-logloss:0.091971\n",
            "[335]\ttrain-logloss:0.005404\ttest-logloss:0.09197\n",
            "[336]\ttrain-logloss:0.005399\ttest-logloss:0.091867\n",
            "[337]\ttrain-logloss:0.005392\ttest-logloss:0.09196\n",
            "[338]\ttrain-logloss:0.005387\ttest-logloss:0.091964\n",
            "[339]\ttrain-logloss:0.005381\ttest-logloss:0.091862\n",
            "[340]\ttrain-logloss:0.005375\ttest-logloss:0.091954\n",
            "[341]\ttrain-logloss:0.005369\ttest-logloss:0.091823\n",
            "[342]\ttrain-logloss:0.005364\ttest-logloss:0.091809\n",
            "[343]\ttrain-logloss:0.005358\ttest-logloss:0.09183\n",
            "[344]\ttrain-logloss:0.005352\ttest-logloss:0.091728\n",
            "[345]\ttrain-logloss:0.005346\ttest-logloss:0.091819\n",
            "[346]\ttrain-logloss:0.005341\ttest-logloss:0.091615\n",
            "[347]\ttrain-logloss:0.005336\ttest-logloss:0.091637\n",
            "[348]\ttrain-logloss:0.00533\ttest-logloss:0.091624\n",
            "[349]\ttrain-logloss:0.005324\ttest-logloss:0.091625\n",
            "[350]\ttrain-logloss:0.005319\ttest-logloss:0.09163\n",
            "[351]\ttrain-logloss:0.005314\ttest-logloss:0.091532\n",
            "[352]\ttrain-logloss:0.005308\ttest-logloss:0.091623\n",
            "[353]\ttrain-logloss:0.005303\ttest-logloss:0.091644\n",
            "[354]\ttrain-logloss:0.005297\ttest-logloss:0.091665\n",
            "[355]\ttrain-logloss:0.005292\ttest-logloss:0.091652\n",
            "[356]\ttrain-logloss:0.005287\ttest-logloss:0.091434\n",
            "[357]\ttrain-logloss:0.005281\ttest-logloss:0.091522\n",
            "[358]\ttrain-logloss:0.005276\ttest-logloss:0.091424\n",
            "[359]\ttrain-logloss:0.005271\ttest-logloss:0.091426\n",
            "[360]\ttrain-logloss:0.005266\ttest-logloss:0.091432\n",
            "[361]\ttrain-logloss:0.005261\ttest-logloss:0.091454\n",
            "[362]\ttrain-logloss:0.005256\ttest-logloss:0.091441\n",
            "[363]\ttrain-logloss:0.00525\ttest-logloss:0.091529\n",
            "[364]\ttrain-logloss:0.005245\ttest-logloss:0.091432\n",
            "[365]\ttrain-logloss:0.00524\ttest-logloss:0.091434\n",
            "[366]\ttrain-logloss:0.005235\ttest-logloss:0.091304\n",
            "[367]\ttrain-logloss:0.00523\ttest-logloss:0.091292\n",
            "[368]\ttrain-logloss:0.005226\ttest-logloss:0.091084\n",
            "[369]\ttrain-logloss:0.005221\ttest-logloss:0.091169\n",
            "[370]\ttrain-logloss:0.005215\ttest-logloss:0.091192\n",
            "[371]\ttrain-logloss:0.005211\ttest-logloss:0.091199\n",
            "[372]\ttrain-logloss:0.005206\ttest-logloss:0.091105\n",
            "[373]\ttrain-logloss:0.005201\ttest-logloss:0.091191\n",
            "[374]\ttrain-logloss:0.005196\ttest-logloss:0.091193\n",
            "[375]\ttrain-logloss:0.005191\ttest-logloss:0.091099\n",
            "[376]\ttrain-logloss:0.005187\ttest-logloss:0.091181\n",
            "[377]\ttrain-logloss:0.005182\ttest-logloss:0.091203\n",
            "[378]\ttrain-logloss:0.005177\ttest-logloss:0.091192\n",
            "[379]\ttrain-logloss:0.005172\ttest-logloss:0.091199\n",
            "[380]\ttrain-logloss:0.005168\ttest-logloss:0.091201\n",
            "[381]\ttrain-logloss:0.005163\ttest-logloss:0.09111\n",
            "[382]\ttrain-logloss:0.005159\ttest-logloss:0.091192\n",
            "[383]\ttrain-logloss:0.005154\ttest-logloss:0.091213\n",
            "[384]\ttrain-logloss:0.00515\ttest-logloss:0.091011\n",
            "[385]\ttrain-logloss:0.005145\ttest-logloss:0.091\n",
            "[386]\ttrain-logloss:0.005141\ttest-logloss:0.091002\n",
            "[387]\ttrain-logloss:0.005136\ttest-logloss:0.09101\n",
            "[388]\ttrain-logloss:0.005132\ttest-logloss:0.091032\n",
            "[389]\ttrain-logloss:0.005127\ttest-logloss:0.091112\n",
            "[390]\ttrain-logloss:0.005123\ttest-logloss:0.091023\n",
            "[391]\ttrain-logloss:0.005119\ttest-logloss:0.091103\n",
            "[392]\ttrain-logloss:0.005114\ttest-logloss:0.091013\n",
            "[393]\ttrain-logloss:0.00511\ttest-logloss:0.090818\n",
            "[394]\ttrain-logloss:0.005106\ttest-logloss:0.090897\n",
            "[395]\ttrain-logloss:0.005101\ttest-logloss:0.090919\n",
            "[396]\ttrain-logloss:0.005097\ttest-logloss:0.090909\n",
            "[397]\ttrain-logloss:0.005093\ttest-logloss:0.090911\n",
            "[398]\ttrain-logloss:0.005089\ttest-logloss:0.090919\n",
            "[399]\ttrain-logloss:0.005084\ttest-logloss:0.090833\n"
          ],
          "name": "stdout"
        }
      ]
    },
    {
      "cell_type": "code",
      "metadata": {
        "id": "XPgoRb9xawkK",
        "colab": {
          "base_uri": "https://localhost:8080/"
        },
        "outputId": "01b39a15-4db4-4887-a88d-fd01f0604cb2"
      },
      "source": [
        "import numpy as np\n",
        "predicts = xgb_model.predict(dtest)\n",
        "np.round(predicts[:10], 3)"
      ],
      "execution_count": 59,
      "outputs": [
        {
          "output_type": "execute_result",
          "data": {
            "text/plain": [
              "array([0.995, 0.   , 0.   , 1.   , 1.   , 0.   , 0.001, 0.065, 0.346,\n",
              "       1.   ], dtype=float32)"
            ]
          },
          "metadata": {
            "tags": []
          },
          "execution_count": 59
        }
      ]
    },
    {
      "cell_type": "code",
      "metadata": {
        "id": "cNcKqR2pqIzs",
        "outputId": "269a5e8a-e8d6-4880-ee21-40491a9711a9",
        "colab": {
          "base_uri": "https://localhost:8080/"
        }
      },
      "source": [
        "preds = [1 if x > 0.5 else 0 for x in predicts]\n",
        "preds[:10]"
      ],
      "execution_count": 60,
      "outputs": [
        {
          "output_type": "execute_result",
          "data": {
            "text/plain": [
              "[1, 0, 0, 1, 1, 0, 0, 0, 0, 1]"
            ]
          },
          "metadata": {
            "tags": []
          },
          "execution_count": 60
        }
      ]
    },
    {
      "cell_type": "code",
      "metadata": {
        "id": "7TiUc12_a4PU",
        "colab": {
          "base_uri": "https://localhost:8080/"
        },
        "outputId": "b79e3335-7011-43c1-8929-7bffe5cceff8"
      },
      "source": [
        "print(accuracy_score(y_test, preds))\n",
        "print(precision_score(y_test, preds))\n",
        "print(recall_score(y_test, preds))"
      ],
      "execution_count": 61,
      "outputs": [
        {
          "output_type": "stream",
          "text": [
            "0.9736842105263158\n",
            "0.9722222222222222\n",
            "0.9859154929577465\n"
          ],
          "name": "stdout"
        }
      ]
    },
    {
      "cell_type": "markdown",
      "metadata": {
        "id": "usnR6JWCAGRh"
      },
      "source": [
        "일반적인 방법으로 학습을 진행해봄"
      ]
    },
    {
      "cell_type": "code",
      "metadata": {
        "id": "yFkLFUx-bC70",
        "colab": {
          "base_uri": "https://localhost:8080/"
        },
        "outputId": "474e99d2-6ec2-46e9-ae4f-f23578eed97b"
      },
      "source": [
        "model = XGBRegressor()\n",
        "model.fit(X_train, y_train)"
      ],
      "execution_count": 62,
      "outputs": [
        {
          "output_type": "stream",
          "text": [
            "[05:06:51] WARNING: /workspace/src/objective/regression_obj.cu:152: reg:linear is now deprecated in favor of reg:squarederror.\n"
          ],
          "name": "stdout"
        },
        {
          "output_type": "execute_result",
          "data": {
            "text/plain": [
              "XGBRegressor(base_score=0.5, booster='gbtree', colsample_bylevel=1,\n",
              "             colsample_bynode=1, colsample_bytree=1, gamma=0,\n",
              "             importance_type='gain', learning_rate=0.1, max_delta_step=0,\n",
              "             max_depth=3, min_child_weight=1, missing=None, n_estimators=100,\n",
              "             n_jobs=1, nthread=None, objective='reg:linear', random_state=0,\n",
              "             reg_alpha=0, reg_lambda=1, scale_pos_weight=1, seed=None,\n",
              "             silent=None, subsample=1, verbosity=1)"
            ]
          },
          "metadata": {
            "tags": []
          },
          "execution_count": 62
        }
      ]
    },
    {
      "cell_type": "code",
      "metadata": {
        "id": "Jt3QQ8RREF0t",
        "colab": {
          "base_uri": "https://localhost:8080/"
        },
        "outputId": "298d5c22-9b00-46b9-bb6a-366d87f8819a"
      },
      "source": [
        "print(model.score(X_train, y_train))\n",
        "print(model.score(X_test, y_test))"
      ],
      "execution_count": 63,
      "outputs": [
        {
          "output_type": "stream",
          "text": [
            "0.9931020491295244\n",
            "0.8646693033673498\n"
          ],
          "name": "stdout"
        }
      ]
    },
    {
      "cell_type": "code",
      "metadata": {
        "id": "2m1pSMTYihws",
        "colab": {
          "base_uri": "https://localhost:8080/"
        },
        "outputId": "7d4b6e50-55a0-4baf-c625-581e0ee7229d"
      },
      "source": [
        "preds = model.predict(X_test)\n",
        "\n",
        "\n",
        "for  x in [0.3,0.5,0.7,0.9]:\n",
        "\n",
        "  preds = [1 if i >= x else 0 for i in preds]\n",
        "  print(\"threshold :\", x)\n",
        "  print(accuracy_score(y_test, preds))\n",
        "  print(precision_score(y_test, preds))\n",
        "  print(recall_score(y_test, preds))\n",
        "  print(\"-\"*10)"
      ],
      "execution_count": 64,
      "outputs": [
        {
          "output_type": "stream",
          "text": [
            "threshold : 0.3\n",
            "0.9649122807017544\n",
            "0.958904109589041\n",
            "0.9859154929577465\n",
            "----------\n",
            "threshold : 0.5\n",
            "0.9649122807017544\n",
            "0.958904109589041\n",
            "0.9859154929577465\n",
            "----------\n",
            "threshold : 0.7\n",
            "0.9649122807017544\n",
            "0.958904109589041\n",
            "0.9859154929577465\n",
            "----------\n",
            "threshold : 0.9\n",
            "0.9649122807017544\n",
            "0.958904109589041\n",
            "0.9859154929577465\n",
            "----------\n"
          ],
          "name": "stdout"
        }
      ]
    },
    {
      "cell_type": "code",
      "metadata": {
        "id": "ipmPagnwAiNZ",
        "outputId": "81171607-b816-4f40-bea1-b4da8289bfc2",
        "colab": {
          "base_uri": "https://localhost:8080/",
          "height": 725
        }
      },
      "source": [
        "# 어떤 feature가 영향을 높게 주는지를 알 수 있도록 시각화 \n",
        "\n",
        "fig, ax = plt.subplots(figsize=(10, 12))\n",
        "plot_importance(xgb_model, ax=ax);"
      ],
      "execution_count": 65,
      "outputs": [
        {
          "output_type": "display_data",
          "data": {
            "image/png": "[encoded data removed]",
            "text/plain": [
              "<Figure size 720x864 with 1 Axes>"
            ]
          },
          "metadata": {
            "tags": []
          }
        }
      ]
    },
    {
      "cell_type": "code",
      "metadata": {
        "id": "rNLMDhqjA2NL",
        "outputId": "dfd59517-3b39-4432-d7a4-288174719bdb",
        "colab": {
          "base_uri": "https://localhost:8080/",
          "height": 445
        }
      },
      "source": [
        "dot_data = xgb.to_graphviz(xgb_model)\n",
        "graph = graphviz.Source(dot_data)\n",
        "graph"
      ],
      "execution_count": 66,
      "outputs": [
        {
          "output_type": "execute_result",
          "data": {
            "text/plain": [
              "<graphviz.files.Source at 0x7fec7f5a3c90>"
            ],
            "image/svg+xml": "<?xml version=\"1.0\" encoding=\"UTF-8\" standalone=\"no\"?>\n<!DOCTYPE svg PUBLIC \"-//W3C//DTD SVG 1.1//EN\"\n \"http://www.w3.org/Graphics/SVG/1.1/DTD/svg11.dtd\">\n<!-- Generated by graphviz version 2.40.1 (20161225.0304)\n -->\n<!-- Title: %3 Pages: 1 -->\n<svg width=\"1247pt\" height=\"305pt\"\n viewBox=\"0.00 0.00 1246.64 305.00\" xmlns=\"http://www.w3.org/2000/svg\" xmlns:xlink=\"http://www.w3.org/1999/xlink\">\n<g id=\"graph0\" class=\"graph\" transform=\"scale(1 1) rotate(0) translate(4 301)\">\n<title>%3</title>\n<polygon fill=\"#ffffff\" stroke=\"transparent\" points=\"-4,4 -4,-301 1242.6396,-301 1242.6396,4 -4,4\"/>\n<!-- 0 -->\n<g id=\"node1\" class=\"node\">\n<title>0</title>\n<ellipse fill=\"none\" stroke=\"#000000\" cx=\"569.5928\" cy=\"-279\" rx=\"79.8859\" ry=\"18\"/>\n<text text-anchor=\"middle\" x=\"569.5928\" y=\"-275.3\" font-family=\"Times,serif\" font-size=\"14.00\" fill=\"#000000\">f7&lt;0.0512799993</text>\n</g>\n<!-- 1 -->\n<g id=\"node2\" class=\"node\">\n<title>1</title>\n<ellipse fill=\"none\" stroke=\"#000000\" cx=\"478.5928\" cy=\"-192\" rx=\"75.2868\" ry=\"18\"/>\n<text text-anchor=\"middle\" x=\"478.5928\" y=\"-188.3\" font-family=\"Times,serif\" font-size=\"14.00\" fill=\"#000000\">f20&lt;16.8299999</text>\n</g>\n<!-- 0&#45;&gt;1 -->\n<g id=\"edge1\" class=\"edge\">\n<title>0&#45;&gt;1</title>\n<path fill=\"none\" stroke=\"#0000ff\" d=\"M551.1776,-261.3943C537.7331,-248.5407 519.328,-230.9446 504.4157,-216.6878\"/>\n<polygon fill=\"#0000ff\" stroke=\"#0000ff\" points=\"506.6275,-213.9602 496.9807,-209.5796 501.7902,-219.0199 506.6275,-213.9602\"/>\n<text text-anchor=\"middle\" x=\"565.0928\" y=\"-231.8\" font-family=\"Times,serif\" font-size=\"14.00\" fill=\"#000000\">yes, missing</text>\n</g>\n<!-- 2 -->\n<g id=\"node3\" class=\"node\">\n<title>2</title>\n<ellipse fill=\"none\" stroke=\"#000000\" cx=\"782.5928\" cy=\"-192\" rx=\"60.3893\" ry=\"18\"/>\n<text text-anchor=\"middle\" x=\"782.5928\" y=\"-188.3\" font-family=\"Times,serif\" font-size=\"14.00\" fill=\"#000000\">f27&lt;0.14655</text>\n</g>\n<!-- 0&#45;&gt;2 -->\n<g id=\"edge2\" class=\"edge\">\n<title>0&#45;&gt;2</title>\n<path fill=\"none\" stroke=\"#ff0000\" d=\"M608.6603,-263.0429C645.0863,-248.1646 699.3912,-225.9838 737.6106,-210.373\"/>\n<polygon fill=\"#ff0000\" stroke=\"#ff0000\" points=\"739.0261,-213.5756 746.9602,-206.5542 736.3792,-207.0954 739.0261,-213.5756\"/>\n<text text-anchor=\"middle\" x=\"697.5928\" y=\"-231.8\" font-family=\"Times,serif\" font-size=\"14.00\" fill=\"#000000\">no</text>\n</g>\n<!-- 3 -->\n<g id=\"node4\" class=\"node\">\n<title>3</title>\n<ellipse fill=\"none\" stroke=\"#000000\" cx=\"216.5928\" cy=\"-105\" rx=\"79.8859\" ry=\"18\"/>\n<text text-anchor=\"middle\" x=\"216.5928\" y=\"-101.3\" font-family=\"Times,serif\" font-size=\"14.00\" fill=\"#000000\">f10&lt;0.572100043</text>\n</g>\n<!-- 1&#45;&gt;3 -->\n<g id=\"edge3\" class=\"edge\">\n<title>1&#45;&gt;3</title>\n<path fill=\"none\" stroke=\"#0000ff\" d=\"M434.4444,-177.34C389.5568,-162.4346 319.9081,-139.307 271.4912,-123.2296\"/>\n<polygon fill=\"#0000ff\" stroke=\"#0000ff\" points=\"272.3952,-119.8419 261.8018,-120.0121 270.1892,-126.4853 272.3952,-119.8419\"/>\n<text text-anchor=\"middle\" x=\"399.0928\" y=\"-144.8\" font-family=\"Times,serif\" font-size=\"14.00\" fill=\"#000000\">yes, missing</text>\n</g>\n<!-- 4 -->\n<g id=\"node5\" class=\"node\">\n<title>4</title>\n<ellipse fill=\"none\" stroke=\"#000000\" cx=\"478.5928\" cy=\"-105\" rx=\"70.3881\" ry=\"18\"/>\n<text text-anchor=\"middle\" x=\"478.5928\" y=\"-101.3\" font-family=\"Times,serif\" font-size=\"14.00\" fill=\"#000000\">f1&lt;18.6800003</text>\n</g>\n<!-- 1&#45;&gt;4 -->\n<g id=\"edge4\" class=\"edge\">\n<title>1&#45;&gt;4</title>\n<path fill=\"none\" stroke=\"#ff0000\" d=\"M478.5928,-173.9735C478.5928,-162.1918 478.5928,-146.5607 478.5928,-133.1581\"/>\n<polygon fill=\"#ff0000\" stroke=\"#ff0000\" points=\"482.0929,-133.0033 478.5928,-123.0034 475.0929,-133.0034 482.0929,-133.0033\"/>\n<text text-anchor=\"middle\" x=\"486.5928\" y=\"-144.8\" font-family=\"Times,serif\" font-size=\"14.00\" fill=\"#000000\">no</text>\n</g>\n<!-- 5 -->\n<g id=\"node10\" class=\"node\">\n<title>5</title>\n<ellipse fill=\"none\" stroke=\"#000000\" cx=\"782.5928\" cy=\"-105\" rx=\"55.4913\" ry=\"18\"/>\n<text text-anchor=\"middle\" x=\"782.5928\" y=\"-101.3\" font-family=\"Times,serif\" font-size=\"14.00\" fill=\"#000000\">f22&lt;115.25</text>\n</g>\n<!-- 2&#45;&gt;5 -->\n<g id=\"edge9\" class=\"edge\">\n<title>2&#45;&gt;5</title>\n<path fill=\"none\" stroke=\"#0000ff\" d=\"M782.5928,-173.9735C782.5928,-162.1918 782.5928,-146.5607 782.5928,-133.1581\"/>\n<polygon fill=\"#0000ff\" stroke=\"#0000ff\" points=\"786.0929,-133.0033 782.5928,-123.0034 779.0929,-133.0034 786.0929,-133.0033\"/>\n<text text-anchor=\"middle\" x=\"818.0928\" y=\"-144.8\" font-family=\"Times,serif\" font-size=\"14.00\" fill=\"#000000\">yes, missing</text>\n</g>\n<!-- 6 -->\n<g id=\"node11\" class=\"node\">\n<title>6</title>\n<ellipse fill=\"none\" stroke=\"#000000\" cx=\"1073.5928\" cy=\"-105\" rx=\"79.0865\" ry=\"18\"/>\n<text text-anchor=\"middle\" x=\"1073.5928\" y=\"-101.3\" font-family=\"Times,serif\" font-size=\"14.00\" fill=\"#000000\">f16&lt;0.110300004</text>\n</g>\n<!-- 2&#45;&gt;6 -->\n<g id=\"edge10\" class=\"edge\">\n<title>2&#45;&gt;6</title>\n<path fill=\"none\" stroke=\"#ff0000\" d=\"M825.5309,-179.1629C875.9415,-164.0916 959.7715,-139.0291 1015.8451,-122.2648\"/>\n<polygon fill=\"#ff0000\" stroke=\"#ff0000\" points=\"1017.0534,-125.5567 1025.6318,-119.3389 1015.0483,-118.85 1017.0534,-125.5567\"/>\n<text text-anchor=\"middle\" x=\"953.5928\" y=\"-144.8\" font-family=\"Times,serif\" font-size=\"14.00\" fill=\"#000000\">no</text>\n</g>\n<!-- 7 -->\n<g id=\"node6\" class=\"node\">\n<title>7</title>\n<ellipse fill=\"none\" stroke=\"#000000\" cx=\"80.5928\" cy=\"-18\" rx=\"80.6858\" ry=\"18\"/>\n<text text-anchor=\"middle\" x=\"80.5928\" y=\"-14.3\" font-family=\"Times,serif\" font-size=\"14.00\" fill=\"#000000\">leaf=0.192395434</text>\n</g>\n<!-- 3&#45;&gt;7 -->\n<g id=\"edge5\" class=\"edge\">\n<title>3&#45;&gt;7</title>\n<path fill=\"none\" stroke=\"#0000ff\" d=\"M178.6021,-89.0055C166.433,-83.2989 153.1302,-76.4266 141.5928,-69 129.4761,-61.2004 117.098,-51.2814 106.6865,-42.2685\"/>\n<polygon fill=\"#0000ff\" stroke=\"#0000ff\" points=\"108.9558,-39.603 99.145,-35.603 104.32,-44.848 108.9558,-39.603\"/>\n<text text-anchor=\"middle\" x=\"177.0928\" y=\"-57.8\" font-family=\"Times,serif\" font-size=\"14.00\" fill=\"#000000\">yes, missing</text>\n</g>\n<!-- 8 -->\n<g id=\"node7\" class=\"node\">\n<title>8</title>\n<ellipse fill=\"none\" stroke=\"#000000\" cx=\"216.5928\" cy=\"-18\" rx=\"37.0935\" ry=\"18\"/>\n<text text-anchor=\"middle\" x=\"216.5928\" y=\"-14.3\" font-family=\"Times,serif\" font-size=\"14.00\" fill=\"#000000\">leaf=&#45;0</text>\n</g>\n<!-- 3&#45;&gt;8 -->\n<g id=\"edge6\" class=\"edge\">\n<title>3&#45;&gt;8</title>\n<path fill=\"none\" stroke=\"#ff0000\" d=\"M216.5928,-86.9735C216.5928,-75.1918 216.5928,-59.5607 216.5928,-46.1581\"/>\n<polygon fill=\"#ff0000\" stroke=\"#ff0000\" points=\"220.0929,-46.0033 216.5928,-36.0034 213.0929,-46.0034 220.0929,-46.0033\"/>\n<text text-anchor=\"middle\" x=\"224.5928\" y=\"-57.8\" font-family=\"Times,serif\" font-size=\"14.00\" fill=\"#000000\">no</text>\n</g>\n<!-- 9 -->\n<g id=\"node8\" class=\"node\">\n<title>9</title>\n<ellipse fill=\"none\" stroke=\"#000000\" cx=\"352.5928\" cy=\"-18\" rx=\"80.6858\" ry=\"18\"/>\n<text text-anchor=\"middle\" x=\"352.5928\" y=\"-14.3\" font-family=\"Times,serif\" font-size=\"14.00\" fill=\"#000000\">leaf=0.100000001</text>\n</g>\n<!-- 4&#45;&gt;9 -->\n<g id=\"edge7\" class=\"edge\">\n<title>4&#45;&gt;9</title>\n<path fill=\"none\" stroke=\"#0000ff\" d=\"M453.9997,-88.019C434.6125,-74.6326 407.3786,-55.8282 386.0148,-41.0771\"/>\n<polygon fill=\"#0000ff\" stroke=\"#0000ff\" points=\"387.7723,-38.0373 377.5546,-35.2355 383.7949,-43.7976 387.7723,-38.0373\"/>\n<text text-anchor=\"middle\" x=\"459.0928\" y=\"-57.8\" font-family=\"Times,serif\" font-size=\"14.00\" fill=\"#000000\">yes, missing</text>\n</g>\n<!-- 10 -->\n<g id=\"node9\" class=\"node\">\n<title>10</title>\n<ellipse fill=\"none\" stroke=\"#000000\" cx=\"534.5928\" cy=\"-18\" rx=\"83.3857\" ry=\"18\"/>\n<text text-anchor=\"middle\" x=\"534.5928\" y=\"-14.3\" font-family=\"Times,serif\" font-size=\"14.00\" fill=\"#000000\">leaf=&#45;0.120000005</text>\n</g>\n<!-- 4&#45;&gt;10 -->\n<g id=\"edge8\" class=\"edge\">\n<title>4&#45;&gt;10</title>\n<path fill=\"none\" stroke=\"#ff0000\" d=\"M490.1961,-86.9735C498.0801,-74.7252 508.642,-58.3165 517.4861,-44.5766\"/>\n<polygon fill=\"#ff0000\" stroke=\"#ff0000\" points=\"520.535,-46.3064 523.0045,-36.0034 514.6489,-42.5176 520.535,-46.3064\"/>\n<text text-anchor=\"middle\" x=\"518.5928\" y=\"-57.8\" font-family=\"Times,serif\" font-size=\"14.00\" fill=\"#000000\">no</text>\n</g>\n<!-- 11 -->\n<g id=\"node12\" class=\"node\">\n<title>11</title>\n<ellipse fill=\"none\" stroke=\"#000000\" cx=\"716.5928\" cy=\"-18\" rx=\"80.6858\" ry=\"18\"/>\n<text text-anchor=\"middle\" x=\"716.5928\" y=\"-14.3\" font-family=\"Times,serif\" font-size=\"14.00\" fill=\"#000000\">leaf=0.107692316</text>\n</g>\n<!-- 5&#45;&gt;11 -->\n<g id=\"edge11\" class=\"edge\">\n<title>5&#45;&gt;11</title>\n<path fill=\"none\" stroke=\"#0000ff\" d=\"M769.2368,-87.3943C759.8165,-74.9767 747.0385,-58.1329 736.4306,-44.1498\"/>\n<polygon fill=\"#0000ff\" stroke=\"#0000ff\" points=\"738.9879,-41.7297 730.1556,-35.8782 733.4111,-45.9605 738.9879,-41.7297\"/>\n<text text-anchor=\"middle\" x=\"789.0928\" y=\"-57.8\" font-family=\"Times,serif\" font-size=\"14.00\" fill=\"#000000\">yes, missing</text>\n</g>\n<!-- 12 -->\n<g id=\"node13\" class=\"node\">\n<title>12</title>\n<ellipse fill=\"none\" stroke=\"#000000\" cx=\"898.5928\" cy=\"-18\" rx=\"83.3857\" ry=\"18\"/>\n<text text-anchor=\"middle\" x=\"898.5928\" y=\"-14.3\" font-family=\"Times,serif\" font-size=\"14.00\" fill=\"#000000\">leaf=&#45;0.152941182</text>\n</g>\n<!-- 5&#45;&gt;12 -->\n<g id=\"edge12\" class=\"edge\">\n<title>5&#45;&gt;12</title>\n<path fill=\"none\" stroke=\"#ff0000\" d=\"M804.6846,-88.4312C822.4002,-75.1445 847.4844,-56.3313 867.2717,-41.4908\"/>\n<polygon fill=\"#ff0000\" stroke=\"#ff0000\" points=\"869.4908,-44.2016 875.3908,-35.4015 865.2908,-38.6016 869.4908,-44.2016\"/>\n<text text-anchor=\"middle\" x=\"855.5928\" y=\"-57.8\" font-family=\"Times,serif\" font-size=\"14.00\" fill=\"#000000\">no</text>\n</g>\n<!-- 13 -->\n<g id=\"node14\" class=\"node\">\n<title>13</title>\n<ellipse fill=\"none\" stroke=\"#000000\" cx=\"1073.5928\" cy=\"-18\" rx=\"73.387\" ry=\"18\"/>\n<text text-anchor=\"middle\" x=\"1073.5928\" y=\"-14.3\" font-family=\"Times,serif\" font-size=\"14.00\" fill=\"#000000\">leaf=&#45;0.1942029</text>\n</g>\n<!-- 6&#45;&gt;13 -->\n<g id=\"edge13\" class=\"edge\">\n<title>6&#45;&gt;13</title>\n<path fill=\"none\" stroke=\"#0000ff\" d=\"M1073.5928,-86.9735C1073.5928,-75.1918 1073.5928,-59.5607 1073.5928,-46.1581\"/>\n<polygon fill=\"#0000ff\" stroke=\"#0000ff\" points=\"1077.0929,-46.0033 1073.5928,-36.0034 1070.0929,-46.0034 1077.0929,-46.0033\"/>\n<text text-anchor=\"middle\" x=\"1109.0928\" y=\"-57.8\" font-family=\"Times,serif\" font-size=\"14.00\" fill=\"#000000\">yes, missing</text>\n</g>\n<!-- 14 -->\n<g id=\"node15\" class=\"node\">\n<title>14</title>\n<ellipse fill=\"none\" stroke=\"#000000\" cx=\"1201.5928\" cy=\"-18\" rx=\"37.0935\" ry=\"18\"/>\n<text text-anchor=\"middle\" x=\"1201.5928\" y=\"-14.3\" font-family=\"Times,serif\" font-size=\"14.00\" fill=\"#000000\">leaf=&#45;0</text>\n</g>\n<!-- 6&#45;&gt;14 -->\n<g id=\"edge14\" class=\"edge\">\n<title>6&#45;&gt;14</title>\n<path fill=\"none\" stroke=\"#ff0000\" d=\"M1112.6707,-89.1176C1124.6439,-83.5056 1137.559,-76.6601 1148.5928,-69 1159.738,-61.2627 1170.7615,-51.1628 1179.8444,-41.9943\"/>\n<polygon fill=\"#ff0000\" stroke=\"#ff0000\" points=\"1182.564,-44.2158 1186.9777,-34.5841 1177.521,-39.3612 1182.564,-44.2158\"/>\n<text text-anchor=\"middle\" x=\"1173.5928\" y=\"-57.8\" font-family=\"Times,serif\" font-size=\"14.00\" fill=\"#000000\">no</text>\n</g>\n</g>\n</svg>\n"
          },
          "metadata": {
            "tags": []
          },
          "execution_count": 66
        }
      ]
    },
    {
      "cell_type": "markdown",
      "metadata": {
        "id": "fb9A6q095Yb4"
      },
      "source": [
        "## XGBClassifier"
      ]
    },
    {
      "cell_type": "markdown",
      "metadata": {
        "id": "5yvJdTMvCY6B"
      },
      "source": [
        "### 붓꽃 데이터"
      ]
    },
    {
      "cell_type": "code",
      "metadata": {
        "id": "c8lBh-j4CY6C"
      },
      "source": [
        "iris =load_iris()\n",
        "X_train, X_test, y_train, y_test = train_test_split(iris.data, iris.target, \n",
        "                                                    random_state=42, test_size=0.2,\n",
        "                                                    stratify=iris.target)"
      ],
      "execution_count": 67,
      "outputs": []
    },
    {
      "cell_type": "code",
      "metadata": {
        "id": "T4W05ESmCY6F"
      },
      "source": [
        "xgbc = XGBClassifier(n_estimators=400, learning_rate=0.1, max_depth=3)\n",
        "xgbc.fit(X_train, y_train)\n",
        "preds =xgbc.predict(X_test)\n",
        "preds_proba = xgbc.predict_proba(X_test)[:,1]"
      ],
      "execution_count": 68,
      "outputs": []
    },
    {
      "cell_type": "code",
      "metadata": {
        "id": "-uq_L5tcCY6G",
        "colab": {
          "base_uri": "https://localhost:8080/"
        },
        "outputId": "dee3af46-f33e-40e6-b330-5afb9c09cc82"
      },
      "source": [
        "cross_validate(\n",
        "    estimator = xgbc,\n",
        "    X = iris.data, y=iris.target,\n",
        "    cv = 5\n",
        ")"
      ],
      "execution_count": 69,
      "outputs": [
        {
          "output_type": "execute_result",
          "data": {
            "text/plain": [
              "{'fit_time': array([0.05170512, 0.05243659, 0.04841065, 0.05024385, 0.05373096]),\n",
              " 'score_time': array([0.00108075, 0.00098014, 0.00092769, 0.00124478, 0.00096726]),\n",
              " 'test_score': array([0.96666667, 0.96666667, 0.93333333, 0.93333333, 1.        ])}"
            ]
          },
          "metadata": {
            "tags": []
          },
          "execution_count": 69
        }
      ]
    },
    {
      "cell_type": "code",
      "metadata": {
        "id": "ptXwszc_CY6I",
        "colab": {
          "base_uri": "https://localhost:8080/",
          "height": 725
        },
        "outputId": "70fba658-26d9-4285-9d3d-fae299249bc6"
      },
      "source": [
        "fig, ax = plt.subplots(figsize=(10, 12))\n",
        "plot_importance(xgbc,ax=ax);"
      ],
      "execution_count": 70,
      "outputs": [
        {
          "output_type": "display_data",
          "data": {
            "image/png": "[encoded data removed]",
            "text/plain": [
              "<Figure size 720x864 with 1 Axes>"
            ]
          },
          "metadata": {
            "tags": []
          }
        }
      ]
    },
    {
      "cell_type": "code",
      "metadata": {
        "id": "WRmNwT-nCY6K",
        "colab": {
          "base_uri": "https://localhost:8080/",
          "height": 193
        },
        "outputId": "4397bc9b-95d9-403e-da3f-3b760096af43"
      },
      "source": [
        "dot_data = xgb.to_graphviz(xgbc)\n",
        "graph = graphviz.Source(dot_data)\n",
        "graph"
      ],
      "execution_count": 71,
      "outputs": [
        {
          "output_type": "execute_result",
          "data": {
            "text/plain": [
              "<graphviz.files.Source at 0x7fec7f536b10>"
            ],
            "image/svg+xml": "<?xml version=\"1.0\" encoding=\"UTF-8\" standalone=\"no\"?>\n<!DOCTYPE svg PUBLIC \"-//W3C//DTD SVG 1.1//EN\"\n \"http://www.w3.org/Graphics/SVG/1.1/DTD/svg11.dtd\">\n<!-- Generated by graphviz version 2.40.1 (20161225.0304)\n -->\n<!-- Title: %3 Pages: 1 -->\n<svg width=\"362pt\" height=\"131pt\"\n viewBox=\"0.00 0.00 362.34 131.00\" xmlns=\"http://www.w3.org/2000/svg\" xmlns:xlink=\"http://www.w3.org/1999/xlink\">\n<g id=\"graph0\" class=\"graph\" transform=\"scale(1 1) rotate(0) translate(4 127)\">\n<title>%3</title>\n<polygon fill=\"#ffffff\" stroke=\"transparent\" points=\"-4,4 -4,-127 358.3351,-127 358.3351,4 -4,4\"/>\n<!-- 0 -->\n<g id=\"node1\" class=\"node\">\n<title>0</title>\n<ellipse fill=\"none\" stroke=\"#000000\" cx=\"172.9429\" cy=\"-105\" rx=\"70.3881\" ry=\"18\"/>\n<text text-anchor=\"middle\" x=\"172.9429\" y=\"-101.3\" font-family=\"Times,serif\" font-size=\"14.00\" fill=\"#000000\">f2&lt;2.45000005</text>\n</g>\n<!-- 1 -->\n<g id=\"node2\" class=\"node\">\n<title>1</title>\n<ellipse fill=\"none\" stroke=\"#000000\" cx=\"79.9429\" cy=\"-18\" rx=\"79.8859\" ry=\"18\"/>\n<text text-anchor=\"middle\" x=\"79.9429\" y=\"-14.3\" font-family=\"Times,serif\" font-size=\"14.00\" fill=\"#000000\">leaf=0.142011836</text>\n</g>\n<!-- 0&#45;&gt;1 -->\n<g id=\"edge1\" class=\"edge\">\n<title>0&#45;&gt;1</title>\n<path fill=\"none\" stroke=\"#0000ff\" d=\"M154.123,-87.3943C140.3829,-74.5407 121.5734,-56.9446 106.3333,-42.6878\"/>\n<polygon fill=\"#0000ff\" stroke=\"#0000ff\" points=\"108.4287,-39.8552 98.7349,-35.5796 103.6465,-44.9671 108.4287,-39.8552\"/>\n<text text-anchor=\"middle\" x=\"168.4429\" y=\"-57.8\" font-family=\"Times,serif\" font-size=\"14.00\" fill=\"#000000\">yes, missing</text>\n</g>\n<!-- 2 -->\n<g id=\"node3\" class=\"node\">\n<title>2</title>\n<ellipse fill=\"none\" stroke=\"#000000\" cx=\"265.9429\" cy=\"-18\" rx=\"88.2844\" ry=\"18\"/>\n<text text-anchor=\"middle\" x=\"265.9429\" y=\"-14.3\" font-family=\"Times,serif\" font-size=\"14.00\" fill=\"#000000\">leaf=&#45;0.0729483366</text>\n</g>\n<!-- 0&#45;&gt;2 -->\n<g id=\"edge2\" class=\"edge\">\n<title>0&#45;&gt;2</title>\n<path fill=\"none\" stroke=\"#ff0000\" d=\"M191.7628,-87.3943C205.4125,-74.6252 224.0652,-57.1759 239.2513,-42.9696\"/>\n<polygon fill=\"#ff0000\" stroke=\"#ff0000\" points=\"241.9201,-45.2657 246.8318,-35.8782 237.138,-40.1538 241.9201,-45.2657\"/>\n<text text-anchor=\"middle\" x=\"232.9429\" y=\"-57.8\" font-family=\"Times,serif\" font-size=\"14.00\" fill=\"#000000\">no</text>\n</g>\n</g>\n</svg>\n"
          },
          "metadata": {
            "tags": []
          },
          "execution_count": 71
        }
      ]
    },
    {
      "cell_type": "markdown",
      "metadata": {
        "id": "R_hjgWknATDx"
      },
      "source": [
        "### 와인 데이터"
      ]
    },
    {
      "cell_type": "code",
      "metadata": {
        "id": "ID3Wy2cgD-Vo"
      },
      "source": [
        "wine =load_wine()\n",
        "X_train, X_test, y_train, y_test = train_test_split(wine.data, wine.target, \n",
        "                                                    random_state=42, test_size=0.2,\n",
        "                                                    stratify=wine.target)"
      ],
      "execution_count": 74,
      "outputs": []
    },
    {
      "cell_type": "code",
      "metadata": {
        "id": "vO1Pt0EVD-Vx"
      },
      "source": [
        "xgbc = XGBClassifier(n_estimators=400, learning_rate=0.1, max_depth=3)\n",
        "xgbc.fit(X_train, y_train)\n",
        "preds =xgbc.predict(X_test)\n",
        "preds_proba = xgbc.predict_proba(X_test)[:,1]"
      ],
      "execution_count": 75,
      "outputs": []
    },
    {
      "cell_type": "code",
      "metadata": {
        "colab": {
          "base_uri": "https://localhost:8080/"
        },
        "id": "u3hcOkoSD-Vy",
        "outputId": "888a1c0e-a8a2-4eed-ca02-bad3a612c0c4"
      },
      "source": [
        "cross_validate(\n",
        "    estimator = xgbc,\n",
        "    X = wine.data, y=wine.target,\n",
        "    cv = 5\n",
        ")"
      ],
      "execution_count": 78,
      "outputs": [
        {
          "output_type": "execute_result",
          "data": {
            "text/plain": [
              "{'fit_time': array([0.07574368, 0.07662654, 0.07159448, 0.0790689 , 0.07405066]),\n",
              " 'score_time': array([0.00090861, 0.00096035, 0.00096059, 0.00091958, 0.00090837]),\n",
              " 'test_score': array([0.97222222, 0.91666667, 0.94444444, 0.97142857, 1.        ])}"
            ]
          },
          "metadata": {
            "tags": []
          },
          "execution_count": 78
        }
      ]
    },
    {
      "cell_type": "code",
      "metadata": {
        "colab": {
          "base_uri": "https://localhost:8080/",
          "height": 725
        },
        "id": "b2-t8U_wD-Vy",
        "outputId": "2cff2cd6-35aa-48f9-8910-73fc4a750a4d"
      },
      "source": [
        "fig, ax = plt.subplots(figsize=(10, 12))\n",
        "plot_importance(xgbc,ax=ax);"
      ],
      "execution_count": 79,
      "outputs": [
        {
          "output_type": "display_data",
          "data": {
            "image/png": "[encoded data removed]",
            "text/plain": [
              "<Figure size 720x864 with 1 Axes>"
            ]
          },
          "metadata": {
            "tags": []
          }
        }
      ]
    },
    {
      "cell_type": "code",
      "metadata": {
        "id": "4Rz47ejTEox-",
        "outputId": "3eefb5ae-7f69-40a5-fd2f-2fe501aa5ff9",
        "colab": {
          "base_uri": "https://localhost:8080/",
          "height": 445
        }
      },
      "source": [
        "dot_data = xgb.to_graphviz(xgbc)\n",
        "graph = graphviz.Source(dot_data)\n",
        "graph"
      ],
      "execution_count": 85,
      "outputs": [
        {
          "output_type": "execute_result",
          "data": {
            "text/plain": [
              "<graphviz.files.Source at 0x7fec7f2fd6d0>"
            ],
            "image/svg+xml": "<?xml version=\"1.0\" encoding=\"UTF-8\" standalone=\"no\"?>\n<!DOCTYPE svg PUBLIC \"-//W3C//DTD SVG 1.1//EN\"\n \"http://www.w3.org/Graphics/SVG/1.1/DTD/svg11.dtd\">\n<!-- Generated by graphviz version 2.40.1 (20161225.0304)\n -->\n<!-- Title: %3 Pages: 1 -->\n<svg width=\"1094pt\" height=\"305pt\"\n viewBox=\"0.00 0.00 1093.79 305.00\" xmlns=\"http://www.w3.org/2000/svg\" xmlns:xlink=\"http://www.w3.org/1999/xlink\">\n<g id=\"graph0\" class=\"graph\" transform=\"scale(1 1) rotate(0) translate(4 301)\">\n<title>%3</title>\n<polygon fill=\"#ffffff\" stroke=\"transparent\" points=\"-4,4 -4,-301 1089.7855,-301 1089.7855,4 -4,4\"/>\n<!-- 0 -->\n<g id=\"node1\" class=\"node\">\n<title>0</title>\n<ellipse fill=\"none\" stroke=\"#000000\" cx=\"548.5928\" cy=\"-279\" rx=\"75.2868\" ry=\"18\"/>\n<text text-anchor=\"middle\" x=\"548.5928\" y=\"-275.3\" font-family=\"Times,serif\" font-size=\"14.00\" fill=\"#000000\">f20&lt;16.7950001</text>\n</g>\n<!-- 1 -->\n<g id=\"node2\" class=\"node\">\n<title>1</title>\n<ellipse fill=\"none\" stroke=\"#000000\" cx=\"452.5928\" cy=\"-192\" rx=\"79.8859\" ry=\"18\"/>\n<text text-anchor=\"middle\" x=\"452.5928\" y=\"-188.3\" font-family=\"Times,serif\" font-size=\"14.00\" fill=\"#000000\">f27&lt;0.135949999</text>\n</g>\n<!-- 0&#45;&gt;1 -->\n<g id=\"edge1\" class=\"edge\">\n<title>0&#45;&gt;1</title>\n<path fill=\"none\" stroke=\"#0000ff\" d=\"M529.1658,-261.3943C514.8524,-248.4228 495.2095,-230.6213 479.4025,-216.2962\"/>\n<polygon fill=\"#0000ff\" stroke=\"#0000ff\" points=\"481.7512,-213.7013 471.991,-209.5796 477.0506,-218.8883 481.7512,-213.7013\"/>\n<text text-anchor=\"middle\" x=\"542.0928\" y=\"-231.8\" font-family=\"Times,serif\" font-size=\"14.00\" fill=\"#000000\">yes, missing</text>\n</g>\n<!-- 2 -->\n<g id=\"node3\" class=\"node\">\n<title>2</title>\n<ellipse fill=\"none\" stroke=\"#000000\" cx=\"633.5928\" cy=\"-192\" rx=\"79.0865\" ry=\"18\"/>\n<text text-anchor=\"middle\" x=\"633.5928\" y=\"-188.3\" font-family=\"Times,serif\" font-size=\"14.00\" fill=\"#000000\">f11&lt;0.473150015</text>\n</g>\n<!-- 0&#45;&gt;2 -->\n<g id=\"edge2\" class=\"edge\">\n<title>0&#45;&gt;2</title>\n<path fill=\"none\" stroke=\"#ff0000\" d=\"M565.7939,-261.3943C578.2367,-248.6586 595.2285,-231.2671 609.0884,-217.081\"/>\n<polygon fill=\"#ff0000\" stroke=\"#ff0000\" points=\"611.9325,-219.1783 616.4174,-209.5796 606.9255,-214.2865 611.9325,-219.1783\"/>\n<text text-anchor=\"middle\" x=\"604.5928\" y=\"-231.8\" font-family=\"Times,serif\" font-size=\"14.00\" fill=\"#000000\">no</text>\n</g>\n<!-- 3 -->\n<g id=\"node4\" class=\"node\">\n<title>3</title>\n<ellipse fill=\"none\" stroke=\"#000000\" cx=\"264.5928\" cy=\"-105\" rx=\"79.8859\" ry=\"18\"/>\n<text text-anchor=\"middle\" x=\"264.5928\" y=\"-101.3\" font-family=\"Times,serif\" font-size=\"14.00\" fill=\"#000000\">f10&lt;0.625550032</text>\n</g>\n<!-- 1&#45;&gt;3 -->\n<g id=\"edge3\" class=\"edge\">\n<title>1&#45;&gt;3</title>\n<path fill=\"none\" stroke=\"#0000ff\" d=\"M417.2315,-175.636C386.6398,-161.4792 342.2522,-140.9381 309.2212,-125.6525\"/>\n<polygon fill=\"#0000ff\" stroke=\"#0000ff\" points=\"310.3409,-122.3141 299.7956,-121.2907 307.4011,-128.6669 310.3409,-122.3141\"/>\n<text text-anchor=\"middle\" x=\"406.0928\" y=\"-144.8\" font-family=\"Times,serif\" font-size=\"14.00\" fill=\"#000000\">yes, missing</text>\n</g>\n<!-- 4 -->\n<g id=\"node5\" class=\"node\">\n<title>4</title>\n<ellipse fill=\"none\" stroke=\"#000000\" cx=\"452.5928\" cy=\"-105\" rx=\"75.2868\" ry=\"18\"/>\n<text text-anchor=\"middle\" x=\"452.5928\" y=\"-101.3\" font-family=\"Times,serif\" font-size=\"14.00\" fill=\"#000000\">f21&lt;25.6199989</text>\n</g>\n<!-- 1&#45;&gt;4 -->\n<g id=\"edge4\" class=\"edge\">\n<title>1&#45;&gt;4</title>\n<path fill=\"none\" stroke=\"#ff0000\" d=\"M452.5928,-173.9735C452.5928,-162.1918 452.5928,-146.5607 452.5928,-133.1581\"/>\n<polygon fill=\"#ff0000\" stroke=\"#ff0000\" points=\"456.0929,-133.0033 452.5928,-123.0034 449.0929,-133.0034 456.0929,-133.0033\"/>\n<text text-anchor=\"middle\" x=\"460.5928\" y=\"-144.8\" font-family=\"Times,serif\" font-size=\"14.00\" fill=\"#000000\">no</text>\n</g>\n<!-- 5 -->\n<g id=\"node10\" class=\"node\">\n<title>5</title>\n<ellipse fill=\"none\" stroke=\"#000000\" cx=\"633.5928\" cy=\"-105\" rx=\"77.1866\" ry=\"18\"/>\n<text text-anchor=\"middle\" x=\"633.5928\" y=\"-101.3\" font-family=\"Times,serif\" font-size=\"14.00\" fill=\"#000000\">leaf=0.111111119</text>\n</g>\n<!-- 2&#45;&gt;5 -->\n<g id=\"edge9\" class=\"edge\">\n<title>2&#45;&gt;5</title>\n<path fill=\"none\" stroke=\"#0000ff\" d=\"M633.5928,-173.9735C633.5928,-162.1918 633.5928,-146.5607 633.5928,-133.1581\"/>\n<polygon fill=\"#0000ff\" stroke=\"#0000ff\" points=\"637.0929,-133.0033 633.5928,-123.0034 630.0929,-133.0034 637.0929,-133.0033\"/>\n<text text-anchor=\"middle\" x=\"669.0928\" y=\"-144.8\" font-family=\"Times,serif\" font-size=\"14.00\" fill=\"#000000\">yes, missing</text>\n</g>\n<!-- 6 -->\n<g id=\"node11\" class=\"node\">\n<title>6</title>\n<ellipse fill=\"none\" stroke=\"#000000\" cx=\"816.5928\" cy=\"-105\" rx=\"79.8859\" ry=\"18\"/>\n<text text-anchor=\"middle\" x=\"816.5928\" y=\"-101.3\" font-family=\"Times,serif\" font-size=\"14.00\" fill=\"#000000\">f26&lt;0.190699995</text>\n</g>\n<!-- 2&#45;&gt;6 -->\n<g id=\"edge10\" class=\"edge\">\n<title>2&#45;&gt;6</title>\n<path fill=\"none\" stroke=\"#ff0000\" d=\"M668.0137,-175.636C697.7918,-161.4792 740.9989,-140.9381 773.1514,-125.6525\"/>\n<polygon fill=\"#ff0000\" stroke=\"#ff0000\" points=\"774.7977,-128.7453 782.3263,-121.2907 771.7922,-122.4233 774.7977,-128.7453\"/>\n<text text-anchor=\"middle\" x=\"744.5928\" y=\"-144.8\" font-family=\"Times,serif\" font-size=\"14.00\" fill=\"#000000\">no</text>\n</g>\n<!-- 7 -->\n<g id=\"node6\" class=\"node\">\n<title>7</title>\n<ellipse fill=\"none\" stroke=\"#000000\" cx=\"80.5928\" cy=\"-18\" rx=\"80.6858\" ry=\"18\"/>\n<text text-anchor=\"middle\" x=\"80.5928\" y=\"-14.3\" font-family=\"Times,serif\" font-size=\"14.00\" fill=\"#000000\">leaf=0.192592606</text>\n</g>\n<!-- 3&#45;&gt;7 -->\n<g id=\"edge5\" class=\"edge\">\n<title>3&#45;&gt;7</title>\n<path fill=\"none\" stroke=\"#0000ff\" d=\"M229.9839,-88.636C200.0431,-74.4792 156.5999,-53.9381 124.2717,-38.6525\"/>\n<polygon fill=\"#0000ff\" stroke=\"#0000ff\" points=\"125.5831,-35.4011 115.0467,-34.2907 122.5909,-41.7294 125.5831,-35.4011\"/>\n<text text-anchor=\"middle\" x=\"220.0928\" y=\"-57.8\" font-family=\"Times,serif\" font-size=\"14.00\" fill=\"#000000\">yes, missing</text>\n</g>\n<!-- 8 -->\n<g id=\"node7\" class=\"node\">\n<title>8</title>\n<ellipse fill=\"none\" stroke=\"#000000\" cx=\"264.5928\" cy=\"-18\" rx=\"85.2851\" ry=\"18\"/>\n<text text-anchor=\"middle\" x=\"264.5928\" y=\"-14.3\" font-family=\"Times,serif\" font-size=\"14.00\" fill=\"#000000\">leaf=0.0222222228</text>\n</g>\n<!-- 3&#45;&gt;8 -->\n<g id=\"edge6\" class=\"edge\">\n<title>3&#45;&gt;8</title>\n<path fill=\"none\" stroke=\"#ff0000\" d=\"M264.5928,-86.9735C264.5928,-75.1918 264.5928,-59.5607 264.5928,-46.1581\"/>\n<polygon fill=\"#ff0000\" stroke=\"#ff0000\" points=\"268.0929,-46.0033 264.5928,-36.0034 261.0929,-46.0034 268.0929,-46.0033\"/>\n<text text-anchor=\"middle\" x=\"272.5928\" y=\"-57.8\" font-family=\"Times,serif\" font-size=\"14.00\" fill=\"#000000\">no</text>\n</g>\n<!-- 9 -->\n<g id=\"node8\" class=\"node\">\n<title>9</title>\n<ellipse fill=\"none\" stroke=\"#000000\" cx=\"448.5928\" cy=\"-18\" rx=\"80.6858\" ry=\"18\"/>\n<text text-anchor=\"middle\" x=\"448.5928\" y=\"-14.3\" font-family=\"Times,serif\" font-size=\"14.00\" fill=\"#000000\">leaf=0.075000003</text>\n</g>\n<!-- 4&#45;&gt;9 -->\n<g id=\"edge7\" class=\"edge\">\n<title>4&#45;&gt;9</title>\n<path fill=\"none\" stroke=\"#0000ff\" d=\"M451.764,-86.9735C451.2224,-75.1918 450.5037,-59.5607 449.8875,-46.1581\"/>\n<polygon fill=\"#0000ff\" stroke=\"#0000ff\" points=\"453.3763,-45.832 449.4206,-36.0034 446.3837,-46.1536 453.3763,-45.832\"/>\n<text text-anchor=\"middle\" x=\"487.0928\" y=\"-57.8\" font-family=\"Times,serif\" font-size=\"14.00\" fill=\"#000000\">yes, missing</text>\n</g>\n<!-- 10 -->\n<g id=\"node9\" class=\"node\">\n<title>10</title>\n<ellipse fill=\"none\" stroke=\"#000000\" cx=\"630.5928\" cy=\"-18\" rx=\"83.3857\" ry=\"18\"/>\n<text text-anchor=\"middle\" x=\"630.5928\" y=\"-14.3\" font-family=\"Times,serif\" font-size=\"14.00\" fill=\"#000000\">leaf=&#45;0.136000007</text>\n</g>\n<!-- 4&#45;&gt;10 -->\n<g id=\"edge8\" class=\"edge\">\n<title>4&#45;&gt;10</title>\n<path fill=\"none\" stroke=\"#ff0000\" d=\"M486.1259,-88.7142C498.8087,-82.5474 513.3704,-75.4583 526.5928,-69 546.6881,-59.1848 568.9506,-48.2727 587.7051,-39.0691\"/>\n<polygon fill=\"#ff0000\" stroke=\"#ff0000\" points=\"589.4483,-42.1124 596.883,-34.5641 586.3639,-35.8286 589.4483,-42.1124\"/>\n<text text-anchor=\"middle\" x=\"563.5928\" y=\"-57.8\" font-family=\"Times,serif\" font-size=\"14.00\" fill=\"#000000\">no</text>\n</g>\n<!-- 11 -->\n<g id=\"node12\" class=\"node\">\n<title>11</title>\n<ellipse fill=\"none\" stroke=\"#000000\" cx=\"816.5928\" cy=\"-18\" rx=\"85.2851\" ry=\"18\"/>\n<text text-anchor=\"middle\" x=\"816.5928\" y=\"-14.3\" font-family=\"Times,serif\" font-size=\"14.00\" fill=\"#000000\">leaf=0.0222222228</text>\n</g>\n<!-- 6&#45;&gt;11 -->\n<g id=\"edge11\" class=\"edge\">\n<title>6&#45;&gt;11</title>\n<path fill=\"none\" stroke=\"#0000ff\" d=\"M816.5928,-86.9735C816.5928,-75.1918 816.5928,-59.5607 816.5928,-46.1581\"/>\n<polygon fill=\"#0000ff\" stroke=\"#0000ff\" points=\"820.0929,-46.0033 816.5928,-36.0034 813.0929,-46.0034 820.0929,-46.0033\"/>\n<text text-anchor=\"middle\" x=\"852.0928\" y=\"-57.8\" font-family=\"Times,serif\" font-size=\"14.00\" fill=\"#000000\">yes, missing</text>\n</g>\n<!-- 12 -->\n<g id=\"node13\" class=\"node\">\n<title>12</title>\n<ellipse fill=\"none\" stroke=\"#000000\" cx=\"1002.5928\" cy=\"-18\" rx=\"83.3857\" ry=\"18\"/>\n<text text-anchor=\"middle\" x=\"1002.5928\" y=\"-14.3\" font-family=\"Times,serif\" font-size=\"14.00\" fill=\"#000000\">leaf=&#45;0.194482759</text>\n</g>\n<!-- 6&#45;&gt;12 -->\n<g id=\"edge12\" class=\"edge\">\n<title>6&#45;&gt;12</title>\n<path fill=\"none\" stroke=\"#ff0000\" d=\"M851.578,-88.636C881.7484,-74.524 925.4818,-54.0681 958.1287,-38.7978\"/>\n<polygon fill=\"#ff0000\" stroke=\"#ff0000\" points=\"959.8737,-41.8456 967.4488,-34.4383 956.9078,-35.5049 959.8737,-41.8456\"/>\n<text text-anchor=\"middle\" x=\"928.5928\" y=\"-57.8\" font-family=\"Times,serif\" font-size=\"14.00\" fill=\"#000000\">no</text>\n</g>\n</g>\n</svg>\n"
          },
          "metadata": {
            "tags": []
          },
          "execution_count": 85
        }
      ]
    },
    {
      "cell_type": "markdown",
      "metadata": {
        "id": "OAQnG2YlAPSH"
      },
      "source": [
        "### 유방암 데이터"
      ]
    },
    {
      "cell_type": "code",
      "metadata": {
        "id": "2hORYR5TAKku"
      },
      "source": [
        "cancer =load_breast_cancer()\n",
        "X_train, X_test, y_train, y_test = train_test_split(cancer.data, cancer.target, \n",
        "                                                    random_state=42, test_size=0.2,\n",
        "                                                    stratify=cancer.target)"
      ],
      "execution_count": 81,
      "outputs": []
    },
    {
      "cell_type": "code",
      "metadata": {
        "id": "l3wMjBWkjdC6"
      },
      "source": [
        "xgbc = XGBClassifier(n_estimators=400, learning_rate=0.1, max_depth=3)\n",
        "xgbc.fit(X_train, y_train)\n",
        "preds =xgbc.predict(X_test)\n",
        "preds_proba = xgbc.predict_proba(X_test)[:,1]"
      ],
      "execution_count": 82,
      "outputs": []
    },
    {
      "cell_type": "code",
      "metadata": {
        "id": "6iAesAuBmF4k",
        "colab": {
          "base_uri": "https://localhost:8080/"
        },
        "outputId": "3d7f5300-7a84-4ac5-c621-de4e654d7115"
      },
      "source": [
        "cross_validate(\n",
        "    estimator = xgbc,\n",
        "    X = wine.data, y=wine.target,\n",
        "    cv = 5\n",
        ")"
      ],
      "execution_count": 83,
      "outputs": [
        {
          "output_type": "execute_result",
          "data": {
            "text/plain": [
              "{'fit_time': array([0.07615328, 0.07307696, 0.0720005 , 0.07752657, 0.07767987]),\n",
              " 'score_time': array([0.00093555, 0.00086069, 0.00085187, 0.00107574, 0.00093317]),\n",
              " 'test_score': array([0.97222222, 0.91666667, 0.94444444, 0.97142857, 1.        ])}"
            ]
          },
          "metadata": {
            "tags": []
          },
          "execution_count": 83
        }
      ]
    },
    {
      "cell_type": "code",
      "metadata": {
        "id": "8RgZ7XDAmLSS",
        "colab": {
          "base_uri": "https://localhost:8080/",
          "height": 725
        },
        "outputId": "d97e8ad1-2ffd-4689-bb0c-52b09938967d"
      },
      "source": [
        "fig, ax = plt.subplots(figsize=(10, 12))\n",
        "plot_importance(xgbc,ax=ax);"
      ],
      "execution_count": 84,
      "outputs": [
        {
          "output_type": "display_data",
          "data": {
            "image/png": "[encoded data removed]",
            "text/plain": [
              "<Figure size 720x864 with 1 Axes>"
            ]
          },
          "metadata": {
            "tags": []
          }
        }
      ]
    },
    {
      "cell_type": "code",
      "metadata": {
        "id": "ToZDiPL8oybC",
        "colab": {
          "base_uri": "https://localhost:8080/",
          "height": 445
        },
        "outputId": "4ed755e4-60ed-48d1-d9a7-a6bcec016aff"
      },
      "source": [
        "dot_data = xgb.to_graphviz(xgbc)\n",
        "graph = graphviz.Source(dot_data)\n",
        "graph"
      ],
      "execution_count": 86,
      "outputs": [
        {
          "output_type": "execute_result",
          "data": {
            "text/plain": [
              "<graphviz.files.Source at 0x7fec7f224590>"
            ],
            "image/svg+xml": "<?xml version=\"1.0\" encoding=\"UTF-8\" standalone=\"no\"?>\n<!DOCTYPE svg PUBLIC \"-//W3C//DTD SVG 1.1//EN\"\n \"http://www.w3.org/Graphics/SVG/1.1/DTD/svg11.dtd\">\n<!-- Generated by graphviz version 2.40.1 (20161225.0304)\n -->\n<!-- Title: %3 Pages: 1 -->\n<svg width=\"1094pt\" height=\"305pt\"\n viewBox=\"0.00 0.00 1093.79 305.00\" xmlns=\"http://www.w3.org/2000/svg\" xmlns:xlink=\"http://www.w3.org/1999/xlink\">\n<g id=\"graph0\" class=\"graph\" transform=\"scale(1 1) rotate(0) translate(4 301)\">\n<title>%3</title>\n<polygon fill=\"#ffffff\" stroke=\"transparent\" points=\"-4,4 -4,-301 1089.7855,-301 1089.7855,4 -4,4\"/>\n<!-- 0 -->\n<g id=\"node1\" class=\"node\">\n<title>0</title>\n<ellipse fill=\"none\" stroke=\"#000000\" cx=\"548.5928\" cy=\"-279\" rx=\"75.2868\" ry=\"18\"/>\n<text text-anchor=\"middle\" x=\"548.5928\" y=\"-275.3\" font-family=\"Times,serif\" font-size=\"14.00\" fill=\"#000000\">f20&lt;16.7950001</text>\n</g>\n<!-- 1 -->\n<g id=\"node2\" class=\"node\">\n<title>1</title>\n<ellipse fill=\"none\" stroke=\"#000000\" cx=\"452.5928\" cy=\"-192\" rx=\"79.8859\" ry=\"18\"/>\n<text text-anchor=\"middle\" x=\"452.5928\" y=\"-188.3\" font-family=\"Times,serif\" font-size=\"14.00\" fill=\"#000000\">f27&lt;0.135949999</text>\n</g>\n<!-- 0&#45;&gt;1 -->\n<g id=\"edge1\" class=\"edge\">\n<title>0&#45;&gt;1</title>\n<path fill=\"none\" stroke=\"#0000ff\" d=\"M529.1658,-261.3943C514.8524,-248.4228 495.2095,-230.6213 479.4025,-216.2962\"/>\n<polygon fill=\"#0000ff\" stroke=\"#0000ff\" points=\"481.7512,-213.7013 471.991,-209.5796 477.0506,-218.8883 481.7512,-213.7013\"/>\n<text text-anchor=\"middle\" x=\"542.0928\" y=\"-231.8\" font-family=\"Times,serif\" font-size=\"14.00\" fill=\"#000000\">yes, missing</text>\n</g>\n<!-- 2 -->\n<g id=\"node3\" class=\"node\">\n<title>2</title>\n<ellipse fill=\"none\" stroke=\"#000000\" cx=\"633.5928\" cy=\"-192\" rx=\"79.0865\" ry=\"18\"/>\n<text text-anchor=\"middle\" x=\"633.5928\" y=\"-188.3\" font-family=\"Times,serif\" font-size=\"14.00\" fill=\"#000000\">f11&lt;0.473150015</text>\n</g>\n<!-- 0&#45;&gt;2 -->\n<g id=\"edge2\" class=\"edge\">\n<title>0&#45;&gt;2</title>\n<path fill=\"none\" stroke=\"#ff0000\" d=\"M565.7939,-261.3943C578.2367,-248.6586 595.2285,-231.2671 609.0884,-217.081\"/>\n<polygon fill=\"#ff0000\" stroke=\"#ff0000\" points=\"611.9325,-219.1783 616.4174,-209.5796 606.9255,-214.2865 611.9325,-219.1783\"/>\n<text text-anchor=\"middle\" x=\"604.5928\" y=\"-231.8\" font-family=\"Times,serif\" font-size=\"14.00\" fill=\"#000000\">no</text>\n</g>\n<!-- 3 -->\n<g id=\"node4\" class=\"node\">\n<title>3</title>\n<ellipse fill=\"none\" stroke=\"#000000\" cx=\"264.5928\" cy=\"-105\" rx=\"79.8859\" ry=\"18\"/>\n<text text-anchor=\"middle\" x=\"264.5928\" y=\"-101.3\" font-family=\"Times,serif\" font-size=\"14.00\" fill=\"#000000\">f10&lt;0.625550032</text>\n</g>\n<!-- 1&#45;&gt;3 -->\n<g id=\"edge3\" class=\"edge\">\n<title>1&#45;&gt;3</title>\n<path fill=\"none\" stroke=\"#0000ff\" d=\"M417.2315,-175.636C386.6398,-161.4792 342.2522,-140.9381 309.2212,-125.6525\"/>\n<polygon fill=\"#0000ff\" stroke=\"#0000ff\" points=\"310.3409,-122.3141 299.7956,-121.2907 307.4011,-128.6669 310.3409,-122.3141\"/>\n<text text-anchor=\"middle\" x=\"406.0928\" y=\"-144.8\" font-family=\"Times,serif\" font-size=\"14.00\" fill=\"#000000\">yes, missing</text>\n</g>\n<!-- 4 -->\n<g id=\"node5\" class=\"node\">\n<title>4</title>\n<ellipse fill=\"none\" stroke=\"#000000\" cx=\"452.5928\" cy=\"-105\" rx=\"75.2868\" ry=\"18\"/>\n<text text-anchor=\"middle\" x=\"452.5928\" y=\"-101.3\" font-family=\"Times,serif\" font-size=\"14.00\" fill=\"#000000\">f21&lt;25.6199989</text>\n</g>\n<!-- 1&#45;&gt;4 -->\n<g id=\"edge4\" class=\"edge\">\n<title>1&#45;&gt;4</title>\n<path fill=\"none\" stroke=\"#ff0000\" d=\"M452.5928,-173.9735C452.5928,-162.1918 452.5928,-146.5607 452.5928,-133.1581\"/>\n<polygon fill=\"#ff0000\" stroke=\"#ff0000\" points=\"456.0929,-133.0033 452.5928,-123.0034 449.0929,-133.0034 456.0929,-133.0033\"/>\n<text text-anchor=\"middle\" x=\"460.5928\" y=\"-144.8\" font-family=\"Times,serif\" font-size=\"14.00\" fill=\"#000000\">no</text>\n</g>\n<!-- 5 -->\n<g id=\"node10\" class=\"node\">\n<title>5</title>\n<ellipse fill=\"none\" stroke=\"#000000\" cx=\"633.5928\" cy=\"-105\" rx=\"77.1866\" ry=\"18\"/>\n<text text-anchor=\"middle\" x=\"633.5928\" y=\"-101.3\" font-family=\"Times,serif\" font-size=\"14.00\" fill=\"#000000\">leaf=0.111111119</text>\n</g>\n<!-- 2&#45;&gt;5 -->\n<g id=\"edge9\" class=\"edge\">\n<title>2&#45;&gt;5</title>\n<path fill=\"none\" stroke=\"#0000ff\" d=\"M633.5928,-173.9735C633.5928,-162.1918 633.5928,-146.5607 633.5928,-133.1581\"/>\n<polygon fill=\"#0000ff\" stroke=\"#0000ff\" points=\"637.0929,-133.0033 633.5928,-123.0034 630.0929,-133.0034 637.0929,-133.0033\"/>\n<text text-anchor=\"middle\" x=\"669.0928\" y=\"-144.8\" font-family=\"Times,serif\" font-size=\"14.00\" fill=\"#000000\">yes, missing</text>\n</g>\n<!-- 6 -->\n<g id=\"node11\" class=\"node\">\n<title>6</title>\n<ellipse fill=\"none\" stroke=\"#000000\" cx=\"816.5928\" cy=\"-105\" rx=\"79.8859\" ry=\"18\"/>\n<text text-anchor=\"middle\" x=\"816.5928\" y=\"-101.3\" font-family=\"Times,serif\" font-size=\"14.00\" fill=\"#000000\">f26&lt;0.190699995</text>\n</g>\n<!-- 2&#45;&gt;6 -->\n<g id=\"edge10\" class=\"edge\">\n<title>2&#45;&gt;6</title>\n<path fill=\"none\" stroke=\"#ff0000\" d=\"M668.0137,-175.636C697.7918,-161.4792 740.9989,-140.9381 773.1514,-125.6525\"/>\n<polygon fill=\"#ff0000\" stroke=\"#ff0000\" points=\"774.7977,-128.7453 782.3263,-121.2907 771.7922,-122.4233 774.7977,-128.7453\"/>\n<text text-anchor=\"middle\" x=\"744.5928\" y=\"-144.8\" font-family=\"Times,serif\" font-size=\"14.00\" fill=\"#000000\">no</text>\n</g>\n<!-- 7 -->\n<g id=\"node6\" class=\"node\">\n<title>7</title>\n<ellipse fill=\"none\" stroke=\"#000000\" cx=\"80.5928\" cy=\"-18\" rx=\"80.6858\" ry=\"18\"/>\n<text text-anchor=\"middle\" x=\"80.5928\" y=\"-14.3\" font-family=\"Times,serif\" font-size=\"14.00\" fill=\"#000000\">leaf=0.192592606</text>\n</g>\n<!-- 3&#45;&gt;7 -->\n<g id=\"edge5\" class=\"edge\">\n<title>3&#45;&gt;7</title>\n<path fill=\"none\" stroke=\"#0000ff\" d=\"M229.9839,-88.636C200.0431,-74.4792 156.5999,-53.9381 124.2717,-38.6525\"/>\n<polygon fill=\"#0000ff\" stroke=\"#0000ff\" points=\"125.5831,-35.4011 115.0467,-34.2907 122.5909,-41.7294 125.5831,-35.4011\"/>\n<text text-anchor=\"middle\" x=\"220.0928\" y=\"-57.8\" font-family=\"Times,serif\" font-size=\"14.00\" fill=\"#000000\">yes, missing</text>\n</g>\n<!-- 8 -->\n<g id=\"node7\" class=\"node\">\n<title>8</title>\n<ellipse fill=\"none\" stroke=\"#000000\" cx=\"264.5928\" cy=\"-18\" rx=\"85.2851\" ry=\"18\"/>\n<text text-anchor=\"middle\" x=\"264.5928\" y=\"-14.3\" font-family=\"Times,serif\" font-size=\"14.00\" fill=\"#000000\">leaf=0.0222222228</text>\n</g>\n<!-- 3&#45;&gt;8 -->\n<g id=\"edge6\" class=\"edge\">\n<title>3&#45;&gt;8</title>\n<path fill=\"none\" stroke=\"#ff0000\" d=\"M264.5928,-86.9735C264.5928,-75.1918 264.5928,-59.5607 264.5928,-46.1581\"/>\n<polygon fill=\"#ff0000\" stroke=\"#ff0000\" points=\"268.0929,-46.0033 264.5928,-36.0034 261.0929,-46.0034 268.0929,-46.0033\"/>\n<text text-anchor=\"middle\" x=\"272.5928\" y=\"-57.8\" font-family=\"Times,serif\" font-size=\"14.00\" fill=\"#000000\">no</text>\n</g>\n<!-- 9 -->\n<g id=\"node8\" class=\"node\">\n<title>9</title>\n<ellipse fill=\"none\" stroke=\"#000000\" cx=\"448.5928\" cy=\"-18\" rx=\"80.6858\" ry=\"18\"/>\n<text text-anchor=\"middle\" x=\"448.5928\" y=\"-14.3\" font-family=\"Times,serif\" font-size=\"14.00\" fill=\"#000000\">leaf=0.075000003</text>\n</g>\n<!-- 4&#45;&gt;9 -->\n<g id=\"edge7\" class=\"edge\">\n<title>4&#45;&gt;9</title>\n<path fill=\"none\" stroke=\"#0000ff\" d=\"M451.764,-86.9735C451.2224,-75.1918 450.5037,-59.5607 449.8875,-46.1581\"/>\n<polygon fill=\"#0000ff\" stroke=\"#0000ff\" points=\"453.3763,-45.832 449.4206,-36.0034 446.3837,-46.1536 453.3763,-45.832\"/>\n<text text-anchor=\"middle\" x=\"487.0928\" y=\"-57.8\" font-family=\"Times,serif\" font-size=\"14.00\" fill=\"#000000\">yes, missing</text>\n</g>\n<!-- 10 -->\n<g id=\"node9\" class=\"node\">\n<title>10</title>\n<ellipse fill=\"none\" stroke=\"#000000\" cx=\"630.5928\" cy=\"-18\" rx=\"83.3857\" ry=\"18\"/>\n<text text-anchor=\"middle\" x=\"630.5928\" y=\"-14.3\" font-family=\"Times,serif\" font-size=\"14.00\" fill=\"#000000\">leaf=&#45;0.136000007</text>\n</g>\n<!-- 4&#45;&gt;10 -->\n<g id=\"edge8\" class=\"edge\">\n<title>4&#45;&gt;10</title>\n<path fill=\"none\" stroke=\"#ff0000\" d=\"M486.1259,-88.7142C498.8087,-82.5474 513.3704,-75.4583 526.5928,-69 546.6881,-59.1848 568.9506,-48.2727 587.7051,-39.0691\"/>\n<polygon fill=\"#ff0000\" stroke=\"#ff0000\" points=\"589.4483,-42.1124 596.883,-34.5641 586.3639,-35.8286 589.4483,-42.1124\"/>\n<text text-anchor=\"middle\" x=\"563.5928\" y=\"-57.8\" font-family=\"Times,serif\" font-size=\"14.00\" fill=\"#000000\">no</text>\n</g>\n<!-- 11 -->\n<g id=\"node12\" class=\"node\">\n<title>11</title>\n<ellipse fill=\"none\" stroke=\"#000000\" cx=\"816.5928\" cy=\"-18\" rx=\"85.2851\" ry=\"18\"/>\n<text text-anchor=\"middle\" x=\"816.5928\" y=\"-14.3\" font-family=\"Times,serif\" font-size=\"14.00\" fill=\"#000000\">leaf=0.0222222228</text>\n</g>\n<!-- 6&#45;&gt;11 -->\n<g id=\"edge11\" class=\"edge\">\n<title>6&#45;&gt;11</title>\n<path fill=\"none\" stroke=\"#0000ff\" d=\"M816.5928,-86.9735C816.5928,-75.1918 816.5928,-59.5607 816.5928,-46.1581\"/>\n<polygon fill=\"#0000ff\" stroke=\"#0000ff\" points=\"820.0929,-46.0033 816.5928,-36.0034 813.0929,-46.0034 820.0929,-46.0033\"/>\n<text text-anchor=\"middle\" x=\"852.0928\" y=\"-57.8\" font-family=\"Times,serif\" font-size=\"14.00\" fill=\"#000000\">yes, missing</text>\n</g>\n<!-- 12 -->\n<g id=\"node13\" class=\"node\">\n<title>12</title>\n<ellipse fill=\"none\" stroke=\"#000000\" cx=\"1002.5928\" cy=\"-18\" rx=\"83.3857\" ry=\"18\"/>\n<text text-anchor=\"middle\" x=\"1002.5928\" y=\"-14.3\" font-family=\"Times,serif\" font-size=\"14.00\" fill=\"#000000\">leaf=&#45;0.194482759</text>\n</g>\n<!-- 6&#45;&gt;12 -->\n<g id=\"edge12\" class=\"edge\">\n<title>6&#45;&gt;12</title>\n<path fill=\"none\" stroke=\"#ff0000\" d=\"M851.578,-88.636C881.7484,-74.524 925.4818,-54.0681 958.1287,-38.7978\"/>\n<polygon fill=\"#ff0000\" stroke=\"#ff0000\" points=\"959.8737,-41.8456 967.4488,-34.4383 956.9078,-35.5049 959.8737,-41.8456\"/>\n<text text-anchor=\"middle\" x=\"928.5928\" y=\"-57.8\" font-family=\"Times,serif\" font-size=\"14.00\" fill=\"#000000\">no</text>\n</g>\n</g>\n</svg>\n"
          },
          "metadata": {
            "tags": []
          },
          "execution_count": 86
        }
      ]
    },
    {
      "cell_type": "markdown",
      "metadata": {
        "id": "yVQpNrAGGBNM"
      },
      "source": [
        "## XGBRegressor"
      ]
    },
    {
      "cell_type": "markdown",
      "metadata": {
        "id": "RCNOO75zC-XX"
      },
      "source": [
        "### 보스턴 데이터"
      ]
    },
    {
      "cell_type": "code",
      "metadata": {
        "id": "l0R69NIsC-XY"
      },
      "source": [
        "boston =load_boston()\n",
        "X_train, X_test, y_train, y_test = train_test_split(boston.data, boston.target, \n",
        "                                                    random_state=42, test_size=0.2,)"
      ],
      "execution_count": 92,
      "outputs": []
    },
    {
      "cell_type": "code",
      "metadata": {
        "id": "ssrKdEwJC-Xa"
      },
      "source": [
        "xgbr = XGBRegressor(n_estimators=400, learning_rate=0.1, max_depth=3, objective=\"reg:squarederror\")\n",
        "xgbr.fit(X_train, y_train)\n",
        "preds =xgbr.predict(X_test)"
      ],
      "execution_count": 93,
      "outputs": []
    },
    {
      "cell_type": "code",
      "metadata": {
        "id": "79rbk1T1C-Xb",
        "colab": {
          "base_uri": "https://localhost:8080/"
        },
        "outputId": "e2bd799d-cb7e-44b1-94dd-bb8f04497054"
      },
      "source": [
        "cross_val = cross_validate(\n",
        "    estimator = xgbr,\n",
        "    X = boston.data, y=boston.target,\n",
        "    cv = 5\n",
        ")\n",
        "\n",
        "print(\"avg test score\", cross_val[\"test_score\"].mean())"
      ],
      "execution_count": 95,
      "outputs": [
        {
          "output_type": "stream",
          "text": [
            "avg test score 0.6884390572208088\n"
          ],
          "name": "stdout"
        }
      ]
    },
    {
      "cell_type": "code",
      "metadata": {
        "id": "sYJjTPpDC-Xd",
        "colab": {
          "base_uri": "https://localhost:8080/",
          "height": 725
        },
        "outputId": "34d36a31-87de-4487-b86f-3d99a2d170c0"
      },
      "source": [
        "fig, ax = plt.subplots(figsize=(10, 12))\n",
        "plot_importance(xgbc,ax=ax);"
      ],
      "execution_count": 96,
      "outputs": [
        {
          "output_type": "display_data",
          "data": {
            "image/png": "[encoded data removed]",
            "text/plain": [
              "<Figure size 720x864 with 1 Axes>"
            ]
          },
          "metadata": {
            "tags": []
          }
        }
      ]
    },
    {
      "cell_type": "code",
      "metadata": {
        "id": "8MOejcB5C-Xg",
        "colab": {
          "base_uri": "https://localhost:8080/",
          "height": 445
        },
        "outputId": "8013838c-2d9a-4171-a763-2d90525899ac"
      },
      "source": [
        "dot_data = xgb.to_graphviz(xgbr)\n",
        "graph = graphviz.Source(dot_data)\n",
        "graph"
      ],
      "execution_count": 97,
      "outputs": [
        {
          "output_type": "execute_result",
          "data": {
            "text/plain": [
              "<graphviz.files.Source at 0x7fec7f1196d0>"
            ],
            "image/svg+xml": "<?xml version=\"1.0\" encoding=\"UTF-8\" standalone=\"no\"?>\n<!DOCTYPE svg PUBLIC \"-//W3C//DTD SVG 1.1//EN\"\n \"http://www.w3.org/Graphics/SVG/1.1/DTD/svg11.dtd\">\n<!-- Generated by graphviz version 2.40.1 (20161225.0304)\n -->\n<!-- Title: %3 Pages: 1 -->\n<svg width=\"1352pt\" height=\"305pt\"\n viewBox=\"0.00 0.00 1351.79 305.00\" xmlns=\"http://www.w3.org/2000/svg\" xmlns:xlink=\"http://www.w3.org/1999/xlink\">\n<g id=\"graph0\" class=\"graph\" transform=\"scale(1 1) rotate(0) translate(4 301)\">\n<title>%3</title>\n<polygon fill=\"#ffffff\" stroke=\"transparent\" points=\"-4,4 -4,-301 1347.7866,-301 1347.7866,4 -4,4\"/>\n<!-- 0 -->\n<g id=\"node1\" class=\"node\">\n<title>0</title>\n<ellipse fill=\"none\" stroke=\"#000000\" cx=\"612.3933\" cy=\"-279\" rx=\"65.7887\" ry=\"18\"/>\n<text text-anchor=\"middle\" x=\"612.3933\" y=\"-275.3\" font-family=\"Times,serif\" font-size=\"14.00\" fill=\"#000000\">f5&lt;6.8375001</text>\n</g>\n<!-- 1 -->\n<g id=\"node2\" class=\"node\">\n<title>1</title>\n<ellipse fill=\"none\" stroke=\"#000000\" cx=\"443.3933\" cy=\"-192\" rx=\"75.2868\" ry=\"18\"/>\n<text text-anchor=\"middle\" x=\"443.3933\" y=\"-188.3\" font-family=\"Times,serif\" font-size=\"14.00\" fill=\"#000000\">f12&lt;14.3999996</text>\n</g>\n<!-- 0&#45;&gt;1 -->\n<g id=\"edge1\" class=\"edge\">\n<title>0&#45;&gt;1</title>\n<path fill=\"none\" stroke=\"#0000ff\" d=\"M581.3961,-263.0429C554.1072,-248.9947 514.1715,-228.4361 484.2736,-213.0449\"/>\n<polygon fill=\"#0000ff\" stroke=\"#0000ff\" points=\"485.8354,-209.9124 475.3423,-208.4471 482.6314,-216.1361 485.8354,-209.9124\"/>\n<text text-anchor=\"middle\" x=\"573.8933\" y=\"-231.8\" font-family=\"Times,serif\" font-size=\"14.00\" fill=\"#000000\">yes, missing</text>\n</g>\n<!-- 2 -->\n<g id=\"node3\" class=\"node\">\n<title>2</title>\n<ellipse fill=\"none\" stroke=\"#000000\" cx=\"814.3933\" cy=\"-192\" rx=\"70.3881\" ry=\"18\"/>\n<text text-anchor=\"middle\" x=\"814.3933\" y=\"-188.3\" font-family=\"Times,serif\" font-size=\"14.00\" fill=\"#000000\">f5&lt;7.43700027</text>\n</g>\n<!-- 0&#45;&gt;2 -->\n<g id=\"edge2\" class=\"edge\">\n<title>0&#45;&gt;2</title>\n<path fill=\"none\" stroke=\"#ff0000\" d=\"M648.0419,-263.6464C681.7285,-249.1378 732.4127,-227.3085 768.9792,-211.5596\"/>\n<polygon fill=\"#ff0000\" stroke=\"#ff0000\" points=\"770.6218,-214.663 778.4217,-207.4927 767.8528,-208.2339 770.6218,-214.663\"/>\n<text text-anchor=\"middle\" x=\"734.3933\" y=\"-231.8\" font-family=\"Times,serif\" font-size=\"14.00\" fill=\"#000000\">no</text>\n</g>\n<!-- 3 -->\n<g id=\"node4\" class=\"node\">\n<title>3</title>\n<ellipse fill=\"none\" stroke=\"#000000\" cx=\"244.3933\" cy=\"-105\" rx=\"75.2868\" ry=\"18\"/>\n<text text-anchor=\"middle\" x=\"244.3933\" y=\"-101.3\" font-family=\"Times,serif\" font-size=\"14.00\" fill=\"#000000\">f12&lt;6.70499992</text>\n</g>\n<!-- 1&#45;&gt;3 -->\n<g id=\"edge3\" class=\"edge\">\n<title>1&#45;&gt;3</title>\n<path fill=\"none\" stroke=\"#0000ff\" d=\"M406.8936,-176.0429C373.933,-161.633 325.3038,-140.3729 289.8345,-124.8663\"/>\n<polygon fill=\"#0000ff\" stroke=\"#0000ff\" points=\"291.2263,-121.6549 280.6616,-120.856 288.4222,-128.0687 291.2263,-121.6549\"/>\n<text text-anchor=\"middle\" x=\"391.8933\" y=\"-144.8\" font-family=\"Times,serif\" font-size=\"14.00\" fill=\"#000000\">yes, missing</text>\n</g>\n<!-- 4 -->\n<g id=\"node5\" class=\"node\">\n<title>4</title>\n<ellipse fill=\"none\" stroke=\"#000000\" cx=\"443.3933\" cy=\"-105\" rx=\"65.7887\" ry=\"18\"/>\n<text text-anchor=\"middle\" x=\"443.3933\" y=\"-101.3\" font-family=\"Times,serif\" font-size=\"14.00\" fill=\"#000000\">f0&lt;6.9257946</text>\n</g>\n<!-- 1&#45;&gt;4 -->\n<g id=\"edge4\" class=\"edge\">\n<title>1&#45;&gt;4</title>\n<path fill=\"none\" stroke=\"#ff0000\" d=\"M443.3933,-173.9735C443.3933,-162.1918 443.3933,-146.5607 443.3933,-133.1581\"/>\n<polygon fill=\"#ff0000\" stroke=\"#ff0000\" points=\"446.8934,-133.0033 443.3933,-123.0034 439.8934,-133.0034 446.8934,-133.0033\"/>\n<text text-anchor=\"middle\" x=\"451.3933\" y=\"-144.8\" font-family=\"Times,serif\" font-size=\"14.00\" fill=\"#000000\">no</text>\n</g>\n<!-- 5 -->\n<g id=\"node10\" class=\"node\">\n<title>5</title>\n<ellipse fill=\"none\" stroke=\"#000000\" cx=\"814.3933\" cy=\"-105\" rx=\"75.2868\" ry=\"18\"/>\n<text text-anchor=\"middle\" x=\"814.3933\" y=\"-101.3\" font-family=\"Times,serif\" font-size=\"14.00\" fill=\"#000000\">f4&lt;0.659000039</text>\n</g>\n<!-- 2&#45;&gt;5 -->\n<g id=\"edge9\" class=\"edge\">\n<title>2&#45;&gt;5</title>\n<path fill=\"none\" stroke=\"#0000ff\" d=\"M814.3933,-173.9735C814.3933,-162.1918 814.3933,-146.5607 814.3933,-133.1581\"/>\n<polygon fill=\"#0000ff\" stroke=\"#0000ff\" points=\"817.8934,-133.0033 814.3933,-123.0034 810.8934,-133.0034 817.8934,-133.0033\"/>\n<text text-anchor=\"middle\" x=\"849.8933\" y=\"-144.8\" font-family=\"Times,serif\" font-size=\"14.00\" fill=\"#000000\">yes, missing</text>\n</g>\n<!-- 6 -->\n<g id=\"node11\" class=\"node\">\n<title>6</title>\n<ellipse fill=\"none\" stroke=\"#000000\" cx=\"1099.3933\" cy=\"-105\" rx=\"70.3881\" ry=\"18\"/>\n<text text-anchor=\"middle\" x=\"1099.3933\" y=\"-101.3\" font-family=\"Times,serif\" font-size=\"14.00\" fill=\"#000000\">f0&lt;2.74223518</text>\n</g>\n<!-- 2&#45;&gt;6 -->\n<g id=\"edge10\" class=\"edge\">\n<title>2&#45;&gt;6</title>\n<path fill=\"none\" stroke=\"#ff0000\" d=\"M859.5524,-178.2146C909.6433,-162.9237 990.4726,-138.2495 1044.2595,-121.8303\"/>\n<polygon fill=\"#ff0000\" stroke=\"#ff0000\" points=\"1045.4321,-125.1319 1053.9745,-118.8647 1043.3883,-118.4369 1045.4321,-125.1319\"/>\n<text text-anchor=\"middle\" x=\"982.3933\" y=\"-144.8\" font-family=\"Times,serif\" font-size=\"14.00\" fill=\"#000000\">no</text>\n</g>\n<!-- 7 -->\n<g id=\"node6\" class=\"node\">\n<title>7</title>\n<ellipse fill=\"none\" stroke=\"#000000\" cx=\"75.3933\" cy=\"-18\" rx=\"75.2868\" ry=\"18\"/>\n<text text-anchor=\"middle\" x=\"75.3933\" y=\"-14.3\" font-family=\"Times,serif\" font-size=\"14.00\" fill=\"#000000\">leaf=2.64222217</text>\n</g>\n<!-- 3&#45;&gt;7 -->\n<g id=\"edge5\" class=\"edge\">\n<title>3&#45;&gt;7</title>\n<path fill=\"none\" stroke=\"#0000ff\" d=\"M209.8672,-88.8673C197.0837,-82.7788 182.5124,-75.7023 169.3933,-69 151.1181,-59.6636 131.1007,-48.882 114.2522,-39.6437\"/>\n<polygon fill=\"#0000ff\" stroke=\"#0000ff\" points=\"115.6977,-36.4442 105.2492,-34.6891 112.3227,-42.5769 115.6977,-36.4442\"/>\n<text text-anchor=\"middle\" x=\"204.8933\" y=\"-57.8\" font-family=\"Times,serif\" font-size=\"14.00\" fill=\"#000000\">yes, missing</text>\n</g>\n<!-- 8 -->\n<g id=\"node7\" class=\"node\">\n<title>8</title>\n<ellipse fill=\"none\" stroke=\"#000000\" cx=\"244.3933\" cy=\"-18\" rx=\"75.2868\" ry=\"18\"/>\n<text text-anchor=\"middle\" x=\"244.3933\" y=\"-14.3\" font-family=\"Times,serif\" font-size=\"14.00\" fill=\"#000000\">leaf=2.12124991</text>\n</g>\n<!-- 3&#45;&gt;8 -->\n<g id=\"edge6\" class=\"edge\">\n<title>3&#45;&gt;8</title>\n<path fill=\"none\" stroke=\"#ff0000\" d=\"M244.3933,-86.9735C244.3933,-75.1918 244.3933,-59.5607 244.3933,-46.1581\"/>\n<polygon fill=\"#ff0000\" stroke=\"#ff0000\" points=\"247.8934,-46.0033 244.3933,-36.0034 240.8934,-46.0034 247.8934,-46.0033\"/>\n<text text-anchor=\"middle\" x=\"252.3933\" y=\"-57.8\" font-family=\"Times,serif\" font-size=\"14.00\" fill=\"#000000\">no</text>\n</g>\n<!-- 9 -->\n<g id=\"node8\" class=\"node\">\n<title>9</title>\n<ellipse fill=\"none\" stroke=\"#000000\" cx=\"413.3933\" cy=\"-18\" rx=\"75.2868\" ry=\"18\"/>\n<text text-anchor=\"middle\" x=\"413.3933\" y=\"-14.3\" font-family=\"Times,serif\" font-size=\"14.00\" fill=\"#000000\">leaf=1.63467538</text>\n</g>\n<!-- 4&#45;&gt;9 -->\n<g id=\"edge7\" class=\"edge\">\n<title>4&#45;&gt;9</title>\n<path fill=\"none\" stroke=\"#0000ff\" d=\"M437.1773,-86.9735C433.0744,-75.0751 427.6177,-59.2508 422.9659,-45.7606\"/>\n<polygon fill=\"#0000ff\" stroke=\"#0000ff\" points=\"426.1701,-44.3161 419.6014,-36.0034 419.5525,-46.5981 426.1701,-44.3161\"/>\n<text text-anchor=\"middle\" x=\"465.8933\" y=\"-57.8\" font-family=\"Times,serif\" font-size=\"14.00\" fill=\"#000000\">yes, missing</text>\n</g>\n<!-- 10 -->\n<g id=\"node9\" class=\"node\">\n<title>10</title>\n<ellipse fill=\"none\" stroke=\"#000000\" cx=\"582.3933\" cy=\"-18\" rx=\"75.2868\" ry=\"18\"/>\n<text text-anchor=\"middle\" x=\"582.3933\" y=\"-14.3\" font-family=\"Times,serif\" font-size=\"14.00\" fill=\"#000000\">leaf=1.09379315</text>\n</g>\n<!-- 4&#45;&gt;10 -->\n<g id=\"edge8\" class=\"edge\">\n<title>4&#45;&gt;10</title>\n<path fill=\"none\" stroke=\"#ff0000\" d=\"M472.3099,-88.6807C482.8089,-82.6322 494.7125,-75.6301 505.3933,-69 519.8093,-60.0513 535.4641,-49.7865 548.8703,-40.8226\"/>\n<polygon fill=\"#ff0000\" stroke=\"#ff0000\" points=\"550.9703,-43.6284 557.3197,-35.1469 547.067,-37.8176 550.9703,-43.6284\"/>\n<text text-anchor=\"middle\" x=\"535.3933\" y=\"-57.8\" font-family=\"Times,serif\" font-size=\"14.00\" fill=\"#000000\">no</text>\n</g>\n<!-- 11 -->\n<g id=\"node12\" class=\"node\">\n<title>11</title>\n<ellipse fill=\"none\" stroke=\"#000000\" cx=\"751.3933\" cy=\"-18\" rx=\"75.2868\" ry=\"18\"/>\n<text text-anchor=\"middle\" x=\"751.3933\" y=\"-14.3\" font-family=\"Times,serif\" font-size=\"14.00\" fill=\"#000000\">leaf=3.11489797</text>\n</g>\n<!-- 5&#45;&gt;11 -->\n<g id=\"edge11\" class=\"edge\">\n<title>5&#45;&gt;11</title>\n<path fill=\"none\" stroke=\"#0000ff\" d=\"M801.3397,-86.9735C792.3857,-74.6085 780.3614,-58.0036 770.3547,-44.1847\"/>\n<polygon fill=\"#0000ff\" stroke=\"#0000ff\" points=\"773.1302,-42.05 764.4302,-36.0034 767.4606,-46.1556 773.1302,-42.05\"/>\n<text text-anchor=\"middle\" x=\"822.8933\" y=\"-57.8\" font-family=\"Times,serif\" font-size=\"14.00\" fill=\"#000000\">yes, missing</text>\n</g>\n<!-- 12 -->\n<g id=\"node13\" class=\"node\">\n<title>12</title>\n<ellipse fill=\"none\" stroke=\"#000000\" cx=\"925.3933\" cy=\"-18\" rx=\"80.6858\" ry=\"18\"/>\n<text text-anchor=\"middle\" x=\"925.3933\" y=\"-14.3\" font-family=\"Times,serif\" font-size=\"14.00\" fill=\"#000000\">leaf=0.906666696</text>\n</g>\n<!-- 5&#45;&gt;12 -->\n<g id=\"edge12\" class=\"edge\">\n<title>5&#45;&gt;12</title>\n<path fill=\"none\" stroke=\"#ff0000\" d=\"M837.9626,-87.5942C845.7838,-81.7463 854.5057,-75.147 862.3933,-69 873.6264,-60.2457 885.8237,-50.4426 896.4675,-41.7881\"/>\n<polygon fill=\"#ff0000\" stroke=\"#ff0000\" points=\"898.7254,-44.4632 904.2623,-35.4303 894.3009,-39.0387 898.7254,-44.4632\"/>\n<text text-anchor=\"middle\" x=\"888.3933\" y=\"-57.8\" font-family=\"Times,serif\" font-size=\"14.00\" fill=\"#000000\">no</text>\n</g>\n<!-- 13 -->\n<g id=\"node14\" class=\"node\">\n<title>13</title>\n<ellipse fill=\"none\" stroke=\"#000000\" cx=\"1099.3933\" cy=\"-18\" rx=\"75.2868\" ry=\"18\"/>\n<text text-anchor=\"middle\" x=\"1099.3933\" y=\"-14.3\" font-family=\"Times,serif\" font-size=\"14.00\" fill=\"#000000\">leaf=4.33269262</text>\n</g>\n<!-- 6&#45;&gt;13 -->\n<g id=\"edge13\" class=\"edge\">\n<title>6&#45;&gt;13</title>\n<path fill=\"none\" stroke=\"#0000ff\" d=\"M1099.3933,-86.9735C1099.3933,-75.1918 1099.3933,-59.5607 1099.3933,-46.1581\"/>\n<polygon fill=\"#0000ff\" stroke=\"#0000ff\" points=\"1102.8934,-46.0033 1099.3933,-36.0034 1095.8934,-46.0034 1102.8934,-46.0033\"/>\n<text text-anchor=\"middle\" x=\"1134.8933\" y=\"-57.8\" font-family=\"Times,serif\" font-size=\"14.00\" fill=\"#000000\">yes, missing</text>\n</g>\n<!-- 14 -->\n<g id=\"node15\" class=\"node\">\n<title>14</title>\n<ellipse fill=\"none\" stroke=\"#000000\" cx=\"1268.3933\" cy=\"-18\" rx=\"75.2868\" ry=\"18\"/>\n<text text-anchor=\"middle\" x=\"1268.3933\" y=\"-14.3\" font-family=\"Times,serif\" font-size=\"14.00\" fill=\"#000000\">leaf=1.07000005</text>\n</g>\n<!-- 6&#45;&gt;14 -->\n<g id=\"edge14\" class=\"edge\">\n<title>6&#45;&gt;14</title>\n<path fill=\"none\" stroke=\"#ff0000\" d=\"M1133.5439,-89.0461C1146.4171,-82.9176 1161.1456,-75.768 1174.3933,-69 1192.6685,-59.6636 1212.686,-48.882 1229.5344,-39.6437\"/>\n<polygon fill=\"#ff0000\" stroke=\"#ff0000\" points=\"1231.464,-42.5769 1238.5374,-34.6891 1228.0889,-36.4442 1231.464,-42.5769\"/>\n<text text-anchor=\"middle\" x=\"1208.3933\" y=\"-57.8\" font-family=\"Times,serif\" font-size=\"14.00\" fill=\"#000000\">no</text>\n</g>\n</g>\n</svg>\n"
          },
          "metadata": {
            "tags": []
          },
          "execution_count": 97
        }
      ]
    },
    {
      "cell_type": "markdown",
      "metadata": {
        "id": "i8wuvOe_D72P"
      },
      "source": [
        "### 당뇨병 데이터"
      ]
    },
    {
      "cell_type": "code",
      "metadata": {
        "id": "g55-YhPnD72Q"
      },
      "source": [
        "diabetes =load_diabetes()\n",
        "X_train, X_test, y_train, y_test = train_test_split(diabetes.data, diabetes.target, \n",
        "                                                    random_state=42, test_size=0.2,)"
      ],
      "execution_count": 98,
      "outputs": []
    },
    {
      "cell_type": "code",
      "metadata": {
        "id": "xyOaD5KxD72S"
      },
      "source": [
        "xgbr = XGBRegressor(n_estimators=400, learning_rate=0.1, max_depth=3, objective=\"reg:squarederror\")\n",
        "xgbr.fit(X_train, y_train)\n",
        "preds =xgbr.predict(X_test)"
      ],
      "execution_count": 99,
      "outputs": []
    },
    {
      "cell_type": "code",
      "metadata": {
        "id": "Z8PdxysrD72U",
        "colab": {
          "base_uri": "https://localhost:8080/"
        },
        "outputId": "37b856db-1690-484b-e461-43a69e794595"
      },
      "source": [
        "cross_val = cross_validate(\n",
        "    estimator = xgbr,\n",
        "    X = diabetes.data, y=diabetes.target,\n",
        "    cv = 5\n",
        ")\n",
        "\n",
        "print(\"avg test score\", cross_val[\"test_score\"].mean())"
      ],
      "execution_count": 102,
      "outputs": [
        {
          "output_type": "stream",
          "text": [
            "avg test score 0.3000529025802777\n"
          ],
          "name": "stdout"
        }
      ]
    },
    {
      "cell_type": "code",
      "metadata": {
        "id": "yKWo3rnBD72W",
        "colab": {
          "base_uri": "https://localhost:8080/",
          "height": 725
        },
        "outputId": "b1aee88c-3048-48c3-f4f7-5d8e0be796d3"
      },
      "source": [
        "fig, ax = plt.subplots(figsize=(10, 12))\n",
        "plot_importance(xgbc,ax=ax);"
      ],
      "execution_count": 103,
      "outputs": [
        {
          "output_type": "display_data",
          "data": {
            "image/png": "[encoded data removed]",
            "text/plain": [
              "<Figure size 720x864 with 1 Axes>"
            ]
          },
          "metadata": {
            "tags": []
          }
        }
      ]
    },
    {
      "cell_type": "code",
      "metadata": {
        "id": "52BiJosOD72Y",
        "colab": {
          "base_uri": "https://localhost:8080/",
          "height": 445
        },
        "outputId": "0ac97491-b764-44b1-c18b-df615757669a"
      },
      "source": [
        "dot_data = xgb.to_graphviz(xgbr)\n",
        "graph = graphviz.Source(dot_data)\n",
        "graph"
      ],
      "execution_count": 104,
      "outputs": [
        {
          "output_type": "execute_result",
          "data": {
            "text/plain": [
              "<graphviz.files.Source at 0x7fec7f454710>"
            ],
            "image/svg+xml": "<?xml version=\"1.0\" encoding=\"UTF-8\" standalone=\"no\"?>\n<!DOCTYPE svg PUBLIC \"-//W3C//DTD SVG 1.1//EN\"\n \"http://www.w3.org/Graphics/SVG/1.1/DTD/svg11.dtd\">\n<!-- Generated by graphviz version 2.40.1 (20161225.0304)\n -->\n<!-- Title: %3 Pages: 1 -->\n<svg width=\"967pt\" height=\"305pt\"\n viewBox=\"0.00 0.00 966.79 305.00\" xmlns=\"http://www.w3.org/2000/svg\" xmlns:xlink=\"http://www.w3.org/1999/xlink\">\n<g id=\"graph0\" class=\"graph\" transform=\"scale(1 1) rotate(0) translate(4 301)\">\n<title>%3</title>\n<polygon fill=\"#ffffff\" stroke=\"transparent\" points=\"-4,4 -4,-301 962.7866,-301 962.7866,4 -4,4\"/>\n<!-- 0 -->\n<g id=\"node1\" class=\"node\">\n<title>0</title>\n<ellipse fill=\"none\" stroke=\"#000000\" cx=\"568.3933\" cy=\"-279\" rx=\"83.6854\" ry=\"18\"/>\n<text text-anchor=\"middle\" x=\"568.3933\" y=\"-275.3\" font-family=\"Times,serif\" font-size=\"14.00\" fill=\"#000000\">f2&lt;0.00511107268</text>\n</g>\n<!-- 1 -->\n<g id=\"node2\" class=\"node\">\n<title>1</title>\n<ellipse fill=\"none\" stroke=\"#000000\" cx=\"478.3933\" cy=\"-192\" rx=\"83.3857\" ry=\"18\"/>\n<text text-anchor=\"middle\" x=\"478.3933\" y=\"-188.3\" font-family=\"Times,serif\" font-size=\"14.00\" fill=\"#000000\">f8&lt;&#45;0.0028592234</text>\n</g>\n<!-- 0&#45;&gt;1 -->\n<g id=\"edge1\" class=\"edge\">\n<title>0&#45;&gt;1</title>\n<path fill=\"none\" stroke=\"#0000ff\" d=\"M550.1805,-261.3943C536.8837,-248.5407 518.6808,-230.9446 503.9324,-216.6878\"/>\n<polygon fill=\"#0000ff\" stroke=\"#0000ff\" points=\"506.2016,-214.0133 496.5791,-209.5796 501.3364,-219.0463 506.2016,-214.0133\"/>\n<text text-anchor=\"middle\" x=\"564.8933\" y=\"-231.8\" font-family=\"Times,serif\" font-size=\"14.00\" fill=\"#000000\">yes, missing</text>\n</g>\n<!-- 2 -->\n<g id=\"node3\" class=\"node\">\n<title>2</title>\n<ellipse fill=\"none\" stroke=\"#000000\" cx=\"706.3933\" cy=\"-192\" rx=\"79.8859\" ry=\"18\"/>\n<text text-anchor=\"middle\" x=\"706.3933\" y=\"-188.3\" font-family=\"Times,serif\" font-size=\"14.00\" fill=\"#000000\">f2&lt;0.0730132312</text>\n</g>\n<!-- 0&#45;&gt;2 -->\n<g id=\"edge2\" class=\"edge\">\n<title>0&#45;&gt;2</title>\n<path fill=\"none\" stroke=\"#ff0000\" d=\"M595.6577,-261.8116C617.1103,-248.2871 647.1846,-229.3273 670.5786,-214.5789\"/>\n<polygon fill=\"#ff0000\" stroke=\"#ff0000\" points=\"672.5929,-217.4465 679.1856,-209.1527 668.8597,-211.525 672.5929,-217.4465\"/>\n<text text-anchor=\"middle\" x=\"654.3933\" y=\"-231.8\" font-family=\"Times,serif\" font-size=\"14.00\" fill=\"#000000\">no</text>\n</g>\n<!-- 3 -->\n<g id=\"node4\" class=\"node\">\n<title>3</title>\n<ellipse fill=\"none\" stroke=\"#000000\" cx=\"244.3933\" cy=\"-105\" rx=\"83.3857\" ry=\"18\"/>\n<text text-anchor=\"middle\" x=\"244.3933\" y=\"-101.3\" font-family=\"Times,serif\" font-size=\"14.00\" fill=\"#000000\">f8&lt;&#45;0.0432787538</text>\n</g>\n<!-- 1&#45;&gt;3 -->\n<g id=\"edge3\" class=\"edge\">\n<title>1&#45;&gt;3</title>\n<path fill=\"none\" stroke=\"#0000ff\" d=\"M436.2885,-176.3457C396.9809,-161.7313 338.2164,-139.883 296.0808,-124.2171\"/>\n<polygon fill=\"#0000ff\" stroke=\"#0000ff\" points=\"297.147,-120.8795 286.5541,-120.6752 294.7075,-127.4407 297.147,-120.8795\"/>\n<text text-anchor=\"middle\" x=\"411.8933\" y=\"-144.8\" font-family=\"Times,serif\" font-size=\"14.00\" fill=\"#000000\">yes, missing</text>\n</g>\n<!-- 4 -->\n<g id=\"node5\" class=\"node\">\n<title>4</title>\n<ellipse fill=\"none\" stroke=\"#000000\" cx=\"478.3933\" cy=\"-105\" rx=\"79.8859\" ry=\"18\"/>\n<text text-anchor=\"middle\" x=\"478.3933\" y=\"-101.3\" font-family=\"Times,serif\" font-size=\"14.00\" fill=\"#000000\">f8&lt;0.0220014341</text>\n</g>\n<!-- 1&#45;&gt;4 -->\n<g id=\"edge4\" class=\"edge\">\n<title>1&#45;&gt;4</title>\n<path fill=\"none\" stroke=\"#ff0000\" d=\"M478.3933,-173.9735C478.3933,-162.1918 478.3933,-146.5607 478.3933,-133.1581\"/>\n<polygon fill=\"#ff0000\" stroke=\"#ff0000\" points=\"481.8934,-133.0033 478.3933,-123.0034 474.8934,-133.0034 481.8934,-133.0033\"/>\n<text text-anchor=\"middle\" x=\"486.3933\" y=\"-144.8\" font-family=\"Times,serif\" font-size=\"14.00\" fill=\"#000000\">no</text>\n</g>\n<!-- 5 -->\n<g id=\"node10\" class=\"node\">\n<title>5</title>\n<ellipse fill=\"none\" stroke=\"#000000\" cx=\"706.3933\" cy=\"-105\" rx=\"83.3857\" ry=\"18\"/>\n<text text-anchor=\"middle\" x=\"706.3933\" y=\"-101.3\" font-family=\"Times,serif\" font-size=\"14.00\" fill=\"#000000\">f8&lt;&#45;0.0378520489</text>\n</g>\n<!-- 2&#45;&gt;5 -->\n<g id=\"edge9\" class=\"edge\">\n<title>2&#45;&gt;5</title>\n<path fill=\"none\" stroke=\"#0000ff\" d=\"M706.3933,-173.9735C706.3933,-162.1918 706.3933,-146.5607 706.3933,-133.1581\"/>\n<polygon fill=\"#0000ff\" stroke=\"#0000ff\" points=\"709.8934,-133.0033 706.3933,-123.0034 702.8934,-133.0034 709.8934,-133.0033\"/>\n<text text-anchor=\"middle\" x=\"741.8933\" y=\"-144.8\" font-family=\"Times,serif\" font-size=\"14.00\" fill=\"#000000\">yes, missing</text>\n</g>\n<!-- 6 -->\n<g id=\"node11\" class=\"node\">\n<title>6</title>\n<ellipse fill=\"none\" stroke=\"#000000\" cx=\"883.3933\" cy=\"-105\" rx=\"75.2868\" ry=\"18\"/>\n<text text-anchor=\"middle\" x=\"883.3933\" y=\"-101.3\" font-family=\"Times,serif\" font-size=\"14.00\" fill=\"#000000\">leaf=26.0555553</text>\n</g>\n<!-- 2&#45;&gt;6 -->\n<g id=\"edge10\" class=\"edge\">\n<title>2&#45;&gt;6</title>\n<path fill=\"none\" stroke=\"#ff0000\" d=\"M740.7997,-175.628C753.5702,-169.5136 768.1639,-162.4819 781.3933,-156 801.3178,-146.2378 823.3446,-135.2493 841.8149,-125.9789\"/>\n<polygon fill=\"#ff0000\" stroke=\"#ff0000\" points=\"843.4809,-129.0589 850.8448,-121.4415 840.3379,-122.8041 843.4809,-129.0589\"/>\n<text text-anchor=\"middle\" x=\"818.3933\" y=\"-144.8\" font-family=\"Times,serif\" font-size=\"14.00\" fill=\"#000000\">no</text>\n</g>\n<!-- 7 -->\n<g id=\"node6\" class=\"node\">\n<title>7</title>\n<ellipse fill=\"none\" stroke=\"#000000\" cx=\"75.3933\" cy=\"-18\" rx=\"75.2868\" ry=\"18\"/>\n<text text-anchor=\"middle\" x=\"75.3933\" y=\"-14.3\" font-family=\"Times,serif\" font-size=\"14.00\" fill=\"#000000\">leaf=7.87699986</text>\n</g>\n<!-- 3&#45;&gt;7 -->\n<g id=\"edge5\" class=\"edge\">\n<title>3&#45;&gt;7</title>\n<path fill=\"none\" stroke=\"#0000ff\" d=\"M209.1132,-88.508C196.5128,-82.5014 182.2552,-75.5709 169.3933,-69 151.1181,-59.6636 131.1007,-48.882 114.2522,-39.6437\"/>\n<polygon fill=\"#0000ff\" stroke=\"#0000ff\" points=\"115.6977,-36.4442 105.2492,-34.6891 112.3227,-42.5769 115.6977,-36.4442\"/>\n<text text-anchor=\"middle\" x=\"204.8933\" y=\"-57.8\" font-family=\"Times,serif\" font-size=\"14.00\" fill=\"#000000\">yes, missing</text>\n</g>\n<!-- 8 -->\n<g id=\"node7\" class=\"node\">\n<title>8</title>\n<ellipse fill=\"none\" stroke=\"#000000\" cx=\"244.3933\" cy=\"-18\" rx=\"75.2868\" ry=\"18\"/>\n<text text-anchor=\"middle\" x=\"244.3933\" y=\"-14.3\" font-family=\"Times,serif\" font-size=\"14.00\" fill=\"#000000\">leaf=10.4789772</text>\n</g>\n<!-- 3&#45;&gt;8 -->\n<g id=\"edge6\" class=\"edge\">\n<title>3&#45;&gt;8</title>\n<path fill=\"none\" stroke=\"#ff0000\" d=\"M244.3933,-86.9735C244.3933,-75.1918 244.3933,-59.5607 244.3933,-46.1581\"/>\n<polygon fill=\"#ff0000\" stroke=\"#ff0000\" points=\"247.8934,-46.0033 244.3933,-36.0034 240.8934,-46.0034 247.8934,-46.0033\"/>\n<text text-anchor=\"middle\" x=\"252.3933\" y=\"-57.8\" font-family=\"Times,serif\" font-size=\"14.00\" fill=\"#000000\">no</text>\n</g>\n<!-- 9 -->\n<g id=\"node8\" class=\"node\">\n<title>9</title>\n<ellipse fill=\"none\" stroke=\"#000000\" cx=\"413.3933\" cy=\"-18\" rx=\"75.2868\" ry=\"18\"/>\n<text text-anchor=\"middle\" x=\"413.3933\" y=\"-14.3\" font-family=\"Times,serif\" font-size=\"14.00\" fill=\"#000000\">leaf=12.9837847</text>\n</g>\n<!-- 4&#45;&gt;9 -->\n<g id=\"edge7\" class=\"edge\">\n<title>4&#45;&gt;9</title>\n<path fill=\"none\" stroke=\"#0000ff\" d=\"M464.9253,-86.9735C455.687,-74.6085 443.281,-58.0036 432.9566,-44.1847\"/>\n<polygon fill=\"#0000ff\" stroke=\"#0000ff\" points=\"435.6333,-41.9196 426.8441,-36.0034 430.0255,-46.1093 435.6333,-41.9196\"/>\n<text text-anchor=\"middle\" x=\"485.8933\" y=\"-57.8\" font-family=\"Times,serif\" font-size=\"14.00\" fill=\"#000000\">yes, missing</text>\n</g>\n<!-- 10 -->\n<g id=\"node9\" class=\"node\">\n<title>10</title>\n<ellipse fill=\"none\" stroke=\"#000000\" cx=\"562.3933\" cy=\"-18\" rx=\"55.7903\" ry=\"18\"/>\n<text text-anchor=\"middle\" x=\"562.3933\" y=\"-14.3\" font-family=\"Times,serif\" font-size=\"14.00\" fill=\"#000000\">leaf=17.375</text>\n</g>\n<!-- 4&#45;&gt;10 -->\n<g id=\"edge8\" class=\"edge\">\n<title>4&#45;&gt;10</title>\n<path fill=\"none\" stroke=\"#ff0000\" d=\"M503.9077,-87.5774C511.2124,-82.042 518.9378,-75.6256 525.3933,-69 532.6453,-61.5569 539.6103,-52.6147 545.5026,-44.311\"/>\n<polygon fill=\"#ff0000\" stroke=\"#ff0000\" points=\"548.4484,-46.204 551.2217,-35.9785 542.677,-42.2427 548.4484,-46.204\"/>\n<text text-anchor=\"middle\" x=\"546.3933\" y=\"-57.8\" font-family=\"Times,serif\" font-size=\"14.00\" fill=\"#000000\">no</text>\n</g>\n<!-- 11 -->\n<g id=\"node12\" class=\"node\">\n<title>11</title>\n<ellipse fill=\"none\" stroke=\"#000000\" cx=\"706.3933\" cy=\"-18\" rx=\"70.3881\" ry=\"18\"/>\n<text text-anchor=\"middle\" x=\"706.3933\" y=\"-14.3\" font-family=\"Times,serif\" font-size=\"14.00\" fill=\"#000000\">leaf=11.181819</text>\n</g>\n<!-- 5&#45;&gt;11 -->\n<g id=\"edge11\" class=\"edge\">\n<title>5&#45;&gt;11</title>\n<path fill=\"none\" stroke=\"#0000ff\" d=\"M706.3933,-86.9735C706.3933,-75.1918 706.3933,-59.5607 706.3933,-46.1581\"/>\n<polygon fill=\"#0000ff\" stroke=\"#0000ff\" points=\"709.8934,-46.0033 706.3933,-36.0034 702.8934,-46.0034 709.8934,-46.0033\"/>\n<text text-anchor=\"middle\" x=\"741.8933\" y=\"-57.8\" font-family=\"Times,serif\" font-size=\"14.00\" fill=\"#000000\">yes, missing</text>\n</g>\n<!-- 12 -->\n<g id=\"node13\" class=\"node\">\n<title>12</title>\n<ellipse fill=\"none\" stroke=\"#000000\" cx=\"870.3933\" cy=\"-18\" rx=\"75.2868\" ry=\"18\"/>\n<text text-anchor=\"middle\" x=\"870.3933\" y=\"-14.3\" font-family=\"Times,serif\" font-size=\"14.00\" fill=\"#000000\">leaf=19.5055046</text>\n</g>\n<!-- 5&#45;&gt;12 -->\n<g id=\"edge12\" class=\"edge\">\n<title>5&#45;&gt;12</title>\n<path fill=\"none\" stroke=\"#ff0000\" d=\"M741.7595,-88.6741C754.3679,-82.6831 768.6087,-75.7199 781.3933,-69 798.6556,-59.9265 817.435,-49.2835 833.2748,-40.0741\"/>\n<polygon fill=\"#ff0000\" stroke=\"#ff0000\" points=\"835.3611,-42.9087 842.2277,-34.8401 831.8282,-36.8656 835.3611,-42.9087\"/>\n<text text-anchor=\"middle\" x=\"817.3933\" y=\"-57.8\" font-family=\"Times,serif\" font-size=\"14.00\" fill=\"#000000\">no</text>\n</g>\n</g>\n</svg>\n"
          },
          "metadata": {
            "tags": []
          },
          "execution_count": 104
        }
      ]
    },
    {
      "cell_type": "markdown",
      "metadata": {
        "id": "DgakqpdRpLFP"
      },
      "source": [
        "# LightGBM\n",
        "\n",
        "* 빠른 학습과 예측 시간\n",
        "* 더 적은 메모리 사용\n",
        "* 범주형 특징의 자동 변환과 최적 분할"
      ]
    },
    {
      "cell_type": "code",
      "metadata": {
        "id": "X748DnR7qDJ3"
      },
      "source": [
        "from lightgbm import LGBMClassifier, LGBMRegressor\n",
        "from lightgbm import plot_importance, plot_metric, plot_tree"
      ],
      "execution_count": 106,
      "outputs": []
    },
    {
      "cell_type": "markdown",
      "metadata": {
        "id": "AqE9dLmsGGKM"
      },
      "source": [
        "## LGBMClassifier"
      ]
    },
    {
      "cell_type": "markdown",
      "metadata": {
        "id": "ZH9nZcuHEqPc"
      },
      "source": [
        "### 붓꽃 데이터"
      ]
    },
    {
      "cell_type": "code",
      "metadata": {
        "id": "E_MXg8crEtN-"
      },
      "source": [
        "iris =load_iris()\n",
        "X_train, X_test, y_train, y_test = train_test_split(iris.data, iris.target, \n",
        "                                                    random_state=42, test_size=0.2,\n",
        "                                                    stratify=iris.target)"
      ],
      "execution_count": 107,
      "outputs": []
    },
    {
      "cell_type": "code",
      "metadata": {
        "id": "X1DA3cO0p0i5"
      },
      "source": [
        "lgbmc = LGBMClassifier(n_estimators=400)\n",
        "evals = [(X_test, y_test)]\n",
        "lgbmc.fit(X_train, y_train, early_stopping_rounds=100, eval_metric=\"logloss\", eval_set=evals, verbose=True)\n",
        "preds = lgbmc.predict(X_test)"
      ],
      "execution_count": null,
      "outputs": []
    },
    {
      "cell_type": "code",
      "metadata": {
        "id": "Tn0SES1FqBCZ",
        "colab": {
          "base_uri": "https://localhost:8080/"
        },
        "outputId": "a565775f-af3f-49f4-d202-11545c287772"
      },
      "source": [
        "cross_val = cross_validate(\n",
        "    estimator = lgbmc,\n",
        "    X = iris.data, y= iris.target,\n",
        "    cv = 5\n",
        ")\n",
        "\n",
        "print(\"avg test score\", cross_val[\"test_score\"].mean())"
      ],
      "execution_count": 112,
      "outputs": [
        {
          "output_type": "stream",
          "text": [
            "avg test score 0.9533333333333335\n"
          ],
          "name": "stdout"
        }
      ]
    },
    {
      "cell_type": "code",
      "metadata": {
        "id": "uhldxyH4Hl_9",
        "colab": {
          "base_uri": "https://localhost:8080/",
          "height": 308
        },
        "outputId": "a21be0d6-c005-436f-bc06-13617557b5c3"
      },
      "source": [
        "plot_metric(lgbmc)"
      ],
      "execution_count": 113,
      "outputs": [
        {
          "output_type": "execute_result",
          "data": {
            "text/plain": [
              "<matplotlib.axes._subplots.AxesSubplot at 0x7fec7fdd9850>"
            ]
          },
          "metadata": {
            "tags": []
          },
          "execution_count": 113
        },
        {
          "output_type": "display_data",
          "data": {
            "image/png": "[encoded data removed]",
            "text/plain": [
              "<Figure size 432x288 with 1 Axes>"
            ]
          },
          "metadata": {
            "tags": []
          }
        }
      ]
    },
    {
      "cell_type": "code",
      "metadata": {
        "id": "VCGXK8AnqoAB",
        "colab": {
          "base_uri": "https://localhost:8080/",
          "height": 193
        },
        "outputId": "c4604bfa-209a-4688-e6d1-020bd544f413"
      },
      "source": [
        "plot_tree(lgbmc, figsize=(10,12))"
      ],
      "execution_count": 116,
      "outputs": [
        {
          "output_type": "execute_result",
          "data": {
            "text/plain": [
              "<matplotlib.axes._subplots.AxesSubplot at 0x7fec7f65d810>"
            ]
          },
          "metadata": {
            "tags": []
          },
          "execution_count": 116
        },
        {
          "output_type": "display_data",
          "data": {
            "image/png": "[encoded data removed]",
            "text/plain": [
              "<Figure size 720x864 with 1 Axes>"
            ]
          },
          "metadata": {
            "tags": []
          }
        }
      ]
    },
    {
      "cell_type": "code",
      "metadata": {
        "id": "U-Y-_EWWHQ9X",
        "colab": {
          "base_uri": "https://localhost:8080/",
          "height": 725
        },
        "outputId": "6ed7608a-ee35-4a53-8897-d50e9abdff92"
      },
      "source": [
        "fig, ax = plt.subplots(figsize=(10, 12))\n",
        "plot_importance(lgbmc,ax=ax);"
      ],
      "execution_count": 118,
      "outputs": [
        {
          "output_type": "display_data",
          "data": {
            "image/png": "[encoded data removed]",
            "text/plain": [
              "<Figure size 720x864 with 1 Axes>"
            ]
          },
          "metadata": {
            "tags": []
          }
        }
      ]
    },
    {
      "cell_type": "markdown",
      "metadata": {
        "id": "DLyeGK3mFIjx"
      },
      "source": [
        "### 와인 데이터"
      ]
    },
    {
      "cell_type": "code",
      "metadata": {
        "id": "ZxB5JqX_FIjy",
        "colab": {
          "base_uri": "https://localhost:8080/"
        },
        "outputId": "d338ec1d-6902-4510-e7d2-175f55e8d0a6"
      },
      "source": [
        "wine =load_wine()\n",
        "X_train, X_test, y_train, y_test = train_test_split(wine.data, wine.target, \n",
        "                                                    random_state=42, test_size=0.2,\n",
        "                                                    stratify=wine.target)\n",
        "\n",
        "lgbmc = LGBMClassifier(n_estimators=400)\n",
        "evals = [(X_test, y_test)]\n",
        "lgbmc.fit(X_train, y_train, early_stopping_rounds=100, eval_metric=\"logloss\", eval_set=evals, verbose=False)\n",
        "preds = lgbmc.predict(X_test)\n",
        "\n",
        "cross_val = cross_validate(\n",
        "    estimator = lgbmc,\n",
        "    X = wine.data, y= wine.target,\n",
        "    cv = 5\n",
        ")\n",
        "\n",
        "print(\"avg test score\", cross_val[\"test_score\"].mean())"
      ],
      "execution_count": 122,
      "outputs": [
        {
          "output_type": "stream",
          "text": [
            "avg test score 0.9720634920634922\n"
          ],
          "name": "stdout"
        }
      ]
    },
    {
      "cell_type": "markdown",
      "metadata": {
        "id": "VkjHBONbGKtA"
      },
      "source": [
        "### 유방암 데이터"
      ]
    },
    {
      "cell_type": "code",
      "metadata": {
        "id": "xjZVW9-AGKtA",
        "colab": {
          "base_uri": "https://localhost:8080/"
        },
        "outputId": "b55c724a-c8aa-4e42-c33c-6bb110436c42"
      },
      "source": [
        "cancer =load_breast_cancer()\n",
        "X_train, X_test, y_train, y_test = train_test_split(cancer.data, cancer.target, \n",
        "                                                    random_state=42, test_size=0.2,\n",
        "                                                    stratify=cancer.target)\n",
        "\n",
        "lgbmc = LGBMClassifier(n_estimators=400)\n",
        "evals = [(X_test, y_test)]\n",
        "lgbmc.fit(X_train, y_train, early_stopping_rounds=100, eval_metric=\"logloss\", eval_set=evals, verbose=False)\n",
        "preds = lgbmc.predict(X_test)\n",
        "\n",
        "cross_val = cross_validate(\n",
        "    estimator = lgbmc,\n",
        "    X = cancer.data, y= cancer.target,\n",
        "    cv = 5\n",
        ")\n",
        "\n",
        "print(\"avg test score\", cross_val[\"test_score\"].mean())"
      ],
      "execution_count": 123,
      "outputs": [
        {
          "output_type": "stream",
          "text": [
            "avg test score 0.9701288619779536\n"
          ],
          "name": "stdout"
        }
      ]
    },
    {
      "cell_type": "markdown",
      "metadata": {
        "id": "XzhtANF7IW_4"
      },
      "source": [
        "## LGBMRegressor"
      ]
    },
    {
      "cell_type": "markdown",
      "metadata": {
        "id": "yDKiW0rTIXO7"
      },
      "source": [
        "### 보스턴 데이터"
      ]
    },
    {
      "cell_type": "code",
      "metadata": {
        "id": "_I65EVLmIXO8",
        "colab": {
          "base_uri": "https://localhost:8080/"
        },
        "outputId": "347e20ec-b11d-433e-9b1a-3f9d7196231f"
      },
      "source": [
        "boston =load_boston()\n",
        "X_train, X_test, y_train, y_test = train_test_split(boston.data, boston.target, \n",
        "                                                    random_state=42, test_size=0.2,)\n",
        "\n",
        "lgbmr = LGBMRegressor(n_estimators=400)\n",
        "evals = [(X_test, y_test)]\n",
        "lgbmr.fit(X_train, y_train, early_stopping_rounds=100, eval_metric=\"logloss\", eval_set=evals, verbose=False)\n",
        "preds = lgbmr.predict(X_test)\n",
        "\n",
        "cross_val = cross_validate(\n",
        "    estimator = lgbmr,\n",
        "    X = boston.data, y= boston.target,\n",
        "    cv = 5\n",
        ")\n",
        "\n",
        "print(\"avg test score\", cross_val[\"test_score\"].mean())"
      ],
      "execution_count": 126,
      "outputs": [
        {
          "output_type": "stream",
          "text": [
            "avg test score 0.5692468252571979\n"
          ],
          "name": "stdout"
        }
      ]
    },
    {
      "cell_type": "markdown",
      "metadata": {
        "id": "ZlvG0d0vJJ_s"
      },
      "source": [
        "### 당뇨병 데이터"
      ]
    },
    {
      "cell_type": "code",
      "metadata": {
        "id": "fZbImJF_JJ_v",
        "colab": {
          "base_uri": "https://localhost:8080/"
        },
        "outputId": "af9c246e-3001-457e-876e-fc069dfb0741"
      },
      "source": [
        "diabetes =load_diabetes()\n",
        "X_train, X_test, y_train, y_test = train_test_split(diabetes.data, diabetes.target, \n",
        "                                                    random_state=42, test_size=0.2,)\n",
        "\n",
        "lgbmr = LGBMRegressor(n_estimators=400)\n",
        "evals = [(X_test, y_test)]\n",
        "lgbmr.fit(X_train, y_train, early_stopping_rounds=100, eval_metric=\"logloss\", eval_set=evals, verbose=False)\n",
        "preds = lgbmr.predict(X_test)\n",
        "\n",
        "cross_val = cross_validate(\n",
        "    estimator = lgbmr,\n",
        "    X = diabetes.data, y= diabetes.target,\n",
        "    cv = 5\n",
        ")\n",
        "\n",
        "print(\"avg test score\", cross_val[\"test_score\"].mean())"
      ],
      "execution_count": 127,
      "outputs": [
        {
          "output_type": "stream",
          "text": [
            "avg test score 0.30867643947179507\n"
          ],
          "name": "stdout"
        }
      ]
    }
  ]
}