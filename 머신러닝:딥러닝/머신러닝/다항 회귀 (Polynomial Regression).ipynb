{
 "cells": [
  {
   "cell_type": "markdown",
   "metadata": {
    "id": "PXFuqtIDtUt-"
   },
   "source": [
    "# 다항회귀"
   ]
  },
  {
   "cell_type": "code",
   "execution_count": 14,
   "metadata": {
    "id": "iuVAGoyis17Q"
   },
   "outputs": [],
   "source": [
    "import pandas as pd\n",
    "import numpy as np\n",
    "import seaborn as sns\n",
    "import matplotlib.pyplot as plt\n",
    "from sklearn.datasets import load_boston\n",
    "\n",
    "boston_dataset = load_boston()"
   ]
  },
  {
   "cell_type": "code",
   "execution_count": 17,
   "metadata": {
    "id": "7RmeEeUou9TY"
   },
   "outputs": [],
   "source": [
    "# boston_dataset.shape\n",
    "# 이렇게 입력하시면 에러가 납니다. 해당 데이터는 np로 불러와지거든요~\n",
    "# 만약 pd로 불러와 졌다면 np = df.values로 해서 변환을 해줄 수 있습니다. \n",
    "# 그러나, 만약 str데이터가 있다면 에러가 날 수 있으니 꼭 형변환과 NULL을 확인해주어야겠죠?"
   ]
  },
  {
   "cell_type": "code",
   "execution_count": 16,
   "metadata": {
    "colab": {
     "base_uri": "https://localhost:8080/"
    },
    "id": "lLLC1RKztF2h",
    "outputId": "537a9170-68c7-4dc6-f46e-12d35adc6928"
   },
   "outputs": [
    {
     "data": {
      "text/plain": [
       "(506, 13)"
      ]
     },
     "execution_count": 16,
     "metadata": {
      "tags": []
     },
     "output_type": "execute_result"
    }
   ],
   "source": [
    "boston_dataset.data.shape"
   ]
  },
  {
   "cell_type": "code",
   "execution_count": 18,
   "metadata": {
    "colab": {
     "base_uri": "https://localhost:8080/"
    },
    "id": "R7MYIBNrucWO",
    "outputId": "b5be34a3-9161-420a-c3e8-c35ae3581103"
   },
   "outputs": [
    {
     "data": {
      "text/plain": [
       "array(['CRIM', 'ZN', 'INDUS', 'CHAS', 'NOX', 'RM', 'AGE', 'DIS', 'RAD',\n",
       "       'TAX', 'PTRATIO', 'B', 'LSTAT'], dtype='<U7')"
      ]
     },
     "execution_count": 18,
     "metadata": {
      "tags": []
     },
     "output_type": "execute_result"
    }
   ],
   "source": [
    "# 원래는 df로 바로 변환을 하였겠지만, 지금은 다항회귀를 해야하기 때문에 \n",
    "# 다항회귀를 한 후 df로 변경할 예정이니 참고 바랍니다.\n",
    "\n",
    "boston_dataset.feature_names"
   ]
  },
  {
   "cell_type": "code",
   "execution_count": 19,
   "metadata": {
    "id": "NjIRY5TLtHAR"
   },
   "outputs": [],
   "source": [
    "from sklearn.preprocessing import PolynomialFeatures # 다항 속성을 만들어주는 method\n",
    "polynomial_transformer = PolynomialFeatures(2)\n",
    "# 숫자는 몇차항으로 만들어준 것인지를 넣어주면 됩니다. \n",
    "# 3차로 만들어주고 싶다면 3을 넣으면 되겠죠?"
   ]
  },
  {
   "cell_type": "code",
   "execution_count": 24,
   "metadata": {
    "id": "zv_uYZi9tq8L"
   },
   "outputs": [],
   "source": [
    "polynomial_data = polynomial_transformer.fit_transform(boston_dataset.data)"
   ]
  },
  {
   "cell_type": "code",
   "execution_count": 25,
   "metadata": {
    "colab": {
     "base_uri": "https://localhost:8080/"
    },
    "id": "LVQgqsMFukr1",
    "outputId": "d109db9b-f237-438f-af14-bd34954b5e11"
   },
   "outputs": [
    {
     "data": {
      "text/plain": [
       "(506, 105)"
      ]
     },
     "execution_count": 25,
     "metadata": {
      "tags": []
     },
     "output_type": "execute_result"
    }
   ],
   "source": [
    "polynomial_data.shape\n",
    "# column이 확 증가한 것을 볼 수 있지요? 해당 columns을 확인해보겠습니다. "
   ]
  },
  {
   "cell_type": "code",
   "execution_count": 32,
   "metadata": {
    "id": "8bNTFBjqwVmj"
   },
   "outputs": [],
   "source": [
    "polynomial_feature_names = polynomial_transformer.get_feature_names(boston_dataset.feature_names)"
   ]
  },
  {
   "cell_type": "code",
   "execution_count": 37,
   "metadata": {
    "id": "NT9M7zDxwziV"
   },
   "outputs": [],
   "source": [
    "X = pd.DataFrame(polynomial_data, columns=polynomial_feature_names)"
   ]
  },
  {
   "cell_type": "code",
   "execution_count": 39,
   "metadata": {
    "colab": {
     "base_uri": "https://localhost:8080/",
     "height": 270
    },
    "id": "RzszYKO4w1bp",
    "outputId": "f01fad7d-0a73-473f-bceb-07c4e1f99757"
   },
   "outputs": [
    {
     "data": {
      "text/html": [
       "<div>\n",
       "<style scoped>\n",
       "    .dataframe tbody tr th:only-of-type {\n",
       "        vertical-align: middle;\n",
       "    }\n",
       "\n",
       "    .dataframe tbody tr th {\n",
       "        vertical-align: top;\n",
       "    }\n",
       "\n",
       "    .dataframe thead th {\n",
       "        text-align: right;\n",
       "    }\n",
       "</style>\n",
       "<table border=\"1\" class=\"dataframe\">\n",
       "  <thead>\n",
       "    <tr style=\"text-align: right;\">\n",
       "      <th></th>\n",
       "      <th>1</th>\n",
       "      <th>CRIM</th>\n",
       "      <th>ZN</th>\n",
       "      <th>INDUS</th>\n",
       "      <th>CHAS</th>\n",
       "      <th>NOX</th>\n",
       "      <th>RM</th>\n",
       "      <th>AGE</th>\n",
       "      <th>DIS</th>\n",
       "      <th>RAD</th>\n",
       "      <th>TAX</th>\n",
       "      <th>PTRATIO</th>\n",
       "      <th>B</th>\n",
       "      <th>LSTAT</th>\n",
       "      <th>CRIM^2</th>\n",
       "      <th>CRIM ZN</th>\n",
       "      <th>CRIM INDUS</th>\n",
       "      <th>CRIM CHAS</th>\n",
       "      <th>CRIM NOX</th>\n",
       "      <th>CRIM RM</th>\n",
       "      <th>CRIM AGE</th>\n",
       "      <th>CRIM DIS</th>\n",
       "      <th>CRIM RAD</th>\n",
       "      <th>CRIM TAX</th>\n",
       "      <th>CRIM PTRATIO</th>\n",
       "      <th>CRIM B</th>\n",
       "      <th>CRIM LSTAT</th>\n",
       "      <th>ZN^2</th>\n",
       "      <th>ZN INDUS</th>\n",
       "      <th>ZN CHAS</th>\n",
       "      <th>ZN NOX</th>\n",
       "      <th>ZN RM</th>\n",
       "      <th>ZN AGE</th>\n",
       "      <th>ZN DIS</th>\n",
       "      <th>ZN RAD</th>\n",
       "      <th>ZN TAX</th>\n",
       "      <th>ZN PTRATIO</th>\n",
       "      <th>ZN B</th>\n",
       "      <th>ZN LSTAT</th>\n",
       "      <th>INDUS^2</th>\n",
       "      <th>...</th>\n",
       "      <th>NOX TAX</th>\n",
       "      <th>NOX PTRATIO</th>\n",
       "      <th>NOX B</th>\n",
       "      <th>NOX LSTAT</th>\n",
       "      <th>RM^2</th>\n",
       "      <th>RM AGE</th>\n",
       "      <th>RM DIS</th>\n",
       "      <th>RM RAD</th>\n",
       "      <th>RM TAX</th>\n",
       "      <th>RM PTRATIO</th>\n",
       "      <th>RM B</th>\n",
       "      <th>RM LSTAT</th>\n",
       "      <th>AGE^2</th>\n",
       "      <th>AGE DIS</th>\n",
       "      <th>AGE RAD</th>\n",
       "      <th>AGE TAX</th>\n",
       "      <th>AGE PTRATIO</th>\n",
       "      <th>AGE B</th>\n",
       "      <th>AGE LSTAT</th>\n",
       "      <th>DIS^2</th>\n",
       "      <th>DIS RAD</th>\n",
       "      <th>DIS TAX</th>\n",
       "      <th>DIS PTRATIO</th>\n",
       "      <th>DIS B</th>\n",
       "      <th>DIS LSTAT</th>\n",
       "      <th>RAD^2</th>\n",
       "      <th>RAD TAX</th>\n",
       "      <th>RAD PTRATIO</th>\n",
       "      <th>RAD B</th>\n",
       "      <th>RAD LSTAT</th>\n",
       "      <th>TAX^2</th>\n",
       "      <th>TAX PTRATIO</th>\n",
       "      <th>TAX B</th>\n",
       "      <th>TAX LSTAT</th>\n",
       "      <th>PTRATIO^2</th>\n",
       "      <th>PTRATIO B</th>\n",
       "      <th>PTRATIO LSTAT</th>\n",
       "      <th>B^2</th>\n",
       "      <th>B LSTAT</th>\n",
       "      <th>LSTAT^2</th>\n",
       "    </tr>\n",
       "  </thead>\n",
       "  <tbody>\n",
       "    <tr>\n",
       "      <th>0</th>\n",
       "      <td>1.0</td>\n",
       "      <td>0.00632</td>\n",
       "      <td>18.0</td>\n",
       "      <td>2.31</td>\n",
       "      <td>0.0</td>\n",
       "      <td>0.538</td>\n",
       "      <td>6.575</td>\n",
       "      <td>65.2</td>\n",
       "      <td>4.0900</td>\n",
       "      <td>1.0</td>\n",
       "      <td>296.0</td>\n",
       "      <td>15.3</td>\n",
       "      <td>396.90</td>\n",
       "      <td>4.98</td>\n",
       "      <td>0.000040</td>\n",
       "      <td>0.11376</td>\n",
       "      <td>0.014599</td>\n",
       "      <td>0.0</td>\n",
       "      <td>0.003400</td>\n",
       "      <td>0.041554</td>\n",
       "      <td>0.412064</td>\n",
       "      <td>0.025849</td>\n",
       "      <td>0.00632</td>\n",
       "      <td>1.87072</td>\n",
       "      <td>0.096696</td>\n",
       "      <td>2.508408</td>\n",
       "      <td>0.031474</td>\n",
       "      <td>324.0</td>\n",
       "      <td>41.58</td>\n",
       "      <td>0.0</td>\n",
       "      <td>9.684</td>\n",
       "      <td>118.35</td>\n",
       "      <td>1173.6</td>\n",
       "      <td>73.62</td>\n",
       "      <td>18.0</td>\n",
       "      <td>5328.0</td>\n",
       "      <td>275.4</td>\n",
       "      <td>7144.2</td>\n",
       "      <td>89.64</td>\n",
       "      <td>5.3361</td>\n",
       "      <td>...</td>\n",
       "      <td>159.248</td>\n",
       "      <td>8.2314</td>\n",
       "      <td>213.53220</td>\n",
       "      <td>2.67924</td>\n",
       "      <td>43.230625</td>\n",
       "      <td>428.6900</td>\n",
       "      <td>26.891750</td>\n",
       "      <td>6.575</td>\n",
       "      <td>1946.200</td>\n",
       "      <td>100.5975</td>\n",
       "      <td>2609.61750</td>\n",
       "      <td>32.74350</td>\n",
       "      <td>4251.04</td>\n",
       "      <td>266.66800</td>\n",
       "      <td>65.2</td>\n",
       "      <td>19299.2</td>\n",
       "      <td>997.56</td>\n",
       "      <td>25877.880</td>\n",
       "      <td>324.696</td>\n",
       "      <td>16.728100</td>\n",
       "      <td>4.0900</td>\n",
       "      <td>1210.6400</td>\n",
       "      <td>62.57700</td>\n",
       "      <td>1623.321000</td>\n",
       "      <td>20.368200</td>\n",
       "      <td>1.0</td>\n",
       "      <td>296.0</td>\n",
       "      <td>15.3</td>\n",
       "      <td>396.90</td>\n",
       "      <td>4.98</td>\n",
       "      <td>87616.0</td>\n",
       "      <td>4528.8</td>\n",
       "      <td>117482.40</td>\n",
       "      <td>1474.08</td>\n",
       "      <td>234.09</td>\n",
       "      <td>6072.570</td>\n",
       "      <td>76.194</td>\n",
       "      <td>157529.6100</td>\n",
       "      <td>1976.5620</td>\n",
       "      <td>24.8004</td>\n",
       "    </tr>\n",
       "    <tr>\n",
       "      <th>1</th>\n",
       "      <td>1.0</td>\n",
       "      <td>0.02731</td>\n",
       "      <td>0.0</td>\n",
       "      <td>7.07</td>\n",
       "      <td>0.0</td>\n",
       "      <td>0.469</td>\n",
       "      <td>6.421</td>\n",
       "      <td>78.9</td>\n",
       "      <td>4.9671</td>\n",
       "      <td>2.0</td>\n",
       "      <td>242.0</td>\n",
       "      <td>17.8</td>\n",
       "      <td>396.90</td>\n",
       "      <td>9.14</td>\n",
       "      <td>0.000746</td>\n",
       "      <td>0.00000</td>\n",
       "      <td>0.193082</td>\n",
       "      <td>0.0</td>\n",
       "      <td>0.012808</td>\n",
       "      <td>0.175358</td>\n",
       "      <td>2.154759</td>\n",
       "      <td>0.135652</td>\n",
       "      <td>0.05462</td>\n",
       "      <td>6.60902</td>\n",
       "      <td>0.486118</td>\n",
       "      <td>10.839339</td>\n",
       "      <td>0.249613</td>\n",
       "      <td>0.0</td>\n",
       "      <td>0.00</td>\n",
       "      <td>0.0</td>\n",
       "      <td>0.000</td>\n",
       "      <td>0.00</td>\n",
       "      <td>0.0</td>\n",
       "      <td>0.00</td>\n",
       "      <td>0.0</td>\n",
       "      <td>0.0</td>\n",
       "      <td>0.0</td>\n",
       "      <td>0.0</td>\n",
       "      <td>0.00</td>\n",
       "      <td>49.9849</td>\n",
       "      <td>...</td>\n",
       "      <td>113.498</td>\n",
       "      <td>8.3482</td>\n",
       "      <td>186.14610</td>\n",
       "      <td>4.28666</td>\n",
       "      <td>41.229241</td>\n",
       "      <td>506.6169</td>\n",
       "      <td>31.893749</td>\n",
       "      <td>12.842</td>\n",
       "      <td>1553.882</td>\n",
       "      <td>114.2938</td>\n",
       "      <td>2548.49490</td>\n",
       "      <td>58.68794</td>\n",
       "      <td>6225.21</td>\n",
       "      <td>391.90419</td>\n",
       "      <td>157.8</td>\n",
       "      <td>19093.8</td>\n",
       "      <td>1404.42</td>\n",
       "      <td>31315.410</td>\n",
       "      <td>721.146</td>\n",
       "      <td>24.672082</td>\n",
       "      <td>9.9342</td>\n",
       "      <td>1202.0382</td>\n",
       "      <td>88.41438</td>\n",
       "      <td>1971.441990</td>\n",
       "      <td>45.399294</td>\n",
       "      <td>4.0</td>\n",
       "      <td>484.0</td>\n",
       "      <td>35.6</td>\n",
       "      <td>793.80</td>\n",
       "      <td>18.28</td>\n",
       "      <td>58564.0</td>\n",
       "      <td>4307.6</td>\n",
       "      <td>96049.80</td>\n",
       "      <td>2211.88</td>\n",
       "      <td>316.84</td>\n",
       "      <td>7064.820</td>\n",
       "      <td>162.692</td>\n",
       "      <td>157529.6100</td>\n",
       "      <td>3627.6660</td>\n",
       "      <td>83.5396</td>\n",
       "    </tr>\n",
       "    <tr>\n",
       "      <th>2</th>\n",
       "      <td>1.0</td>\n",
       "      <td>0.02729</td>\n",
       "      <td>0.0</td>\n",
       "      <td>7.07</td>\n",
       "      <td>0.0</td>\n",
       "      <td>0.469</td>\n",
       "      <td>7.185</td>\n",
       "      <td>61.1</td>\n",
       "      <td>4.9671</td>\n",
       "      <td>2.0</td>\n",
       "      <td>242.0</td>\n",
       "      <td>17.8</td>\n",
       "      <td>392.83</td>\n",
       "      <td>4.03</td>\n",
       "      <td>0.000745</td>\n",
       "      <td>0.00000</td>\n",
       "      <td>0.192940</td>\n",
       "      <td>0.0</td>\n",
       "      <td>0.012799</td>\n",
       "      <td>0.196079</td>\n",
       "      <td>1.667419</td>\n",
       "      <td>0.135552</td>\n",
       "      <td>0.05458</td>\n",
       "      <td>6.60418</td>\n",
       "      <td>0.485762</td>\n",
       "      <td>10.720331</td>\n",
       "      <td>0.109979</td>\n",
       "      <td>0.0</td>\n",
       "      <td>0.00</td>\n",
       "      <td>0.0</td>\n",
       "      <td>0.000</td>\n",
       "      <td>0.00</td>\n",
       "      <td>0.0</td>\n",
       "      <td>0.00</td>\n",
       "      <td>0.0</td>\n",
       "      <td>0.0</td>\n",
       "      <td>0.0</td>\n",
       "      <td>0.0</td>\n",
       "      <td>0.00</td>\n",
       "      <td>49.9849</td>\n",
       "      <td>...</td>\n",
       "      <td>113.498</td>\n",
       "      <td>8.3482</td>\n",
       "      <td>184.23727</td>\n",
       "      <td>1.89007</td>\n",
       "      <td>51.624225</td>\n",
       "      <td>439.0035</td>\n",
       "      <td>35.688614</td>\n",
       "      <td>14.370</td>\n",
       "      <td>1738.770</td>\n",
       "      <td>127.8930</td>\n",
       "      <td>2822.48355</td>\n",
       "      <td>28.95555</td>\n",
       "      <td>3733.21</td>\n",
       "      <td>303.48981</td>\n",
       "      <td>122.2</td>\n",
       "      <td>14786.2</td>\n",
       "      <td>1087.58</td>\n",
       "      <td>24001.913</td>\n",
       "      <td>246.233</td>\n",
       "      <td>24.672082</td>\n",
       "      <td>9.9342</td>\n",
       "      <td>1202.0382</td>\n",
       "      <td>88.41438</td>\n",
       "      <td>1951.225893</td>\n",
       "      <td>20.017413</td>\n",
       "      <td>4.0</td>\n",
       "      <td>484.0</td>\n",
       "      <td>35.6</td>\n",
       "      <td>785.66</td>\n",
       "      <td>8.06</td>\n",
       "      <td>58564.0</td>\n",
       "      <td>4307.6</td>\n",
       "      <td>95064.86</td>\n",
       "      <td>975.26</td>\n",
       "      <td>316.84</td>\n",
       "      <td>6992.374</td>\n",
       "      <td>71.734</td>\n",
       "      <td>154315.4089</td>\n",
       "      <td>1583.1049</td>\n",
       "      <td>16.2409</td>\n",
       "    </tr>\n",
       "    <tr>\n",
       "      <th>3</th>\n",
       "      <td>1.0</td>\n",
       "      <td>0.03237</td>\n",
       "      <td>0.0</td>\n",
       "      <td>2.18</td>\n",
       "      <td>0.0</td>\n",
       "      <td>0.458</td>\n",
       "      <td>6.998</td>\n",
       "      <td>45.8</td>\n",
       "      <td>6.0622</td>\n",
       "      <td>3.0</td>\n",
       "      <td>222.0</td>\n",
       "      <td>18.7</td>\n",
       "      <td>394.63</td>\n",
       "      <td>2.94</td>\n",
       "      <td>0.001048</td>\n",
       "      <td>0.00000</td>\n",
       "      <td>0.070567</td>\n",
       "      <td>0.0</td>\n",
       "      <td>0.014825</td>\n",
       "      <td>0.226525</td>\n",
       "      <td>1.482546</td>\n",
       "      <td>0.196233</td>\n",
       "      <td>0.09711</td>\n",
       "      <td>7.18614</td>\n",
       "      <td>0.605319</td>\n",
       "      <td>12.774173</td>\n",
       "      <td>0.095168</td>\n",
       "      <td>0.0</td>\n",
       "      <td>0.00</td>\n",
       "      <td>0.0</td>\n",
       "      <td>0.000</td>\n",
       "      <td>0.00</td>\n",
       "      <td>0.0</td>\n",
       "      <td>0.00</td>\n",
       "      <td>0.0</td>\n",
       "      <td>0.0</td>\n",
       "      <td>0.0</td>\n",
       "      <td>0.0</td>\n",
       "      <td>0.00</td>\n",
       "      <td>4.7524</td>\n",
       "      <td>...</td>\n",
       "      <td>101.676</td>\n",
       "      <td>8.5646</td>\n",
       "      <td>180.74054</td>\n",
       "      <td>1.34652</td>\n",
       "      <td>48.972004</td>\n",
       "      <td>320.5084</td>\n",
       "      <td>42.423276</td>\n",
       "      <td>20.994</td>\n",
       "      <td>1553.556</td>\n",
       "      <td>130.8626</td>\n",
       "      <td>2761.62074</td>\n",
       "      <td>20.57412</td>\n",
       "      <td>2097.64</td>\n",
       "      <td>277.64876</td>\n",
       "      <td>137.4</td>\n",
       "      <td>10167.6</td>\n",
       "      <td>856.46</td>\n",
       "      <td>18074.054</td>\n",
       "      <td>134.652</td>\n",
       "      <td>36.750269</td>\n",
       "      <td>18.1866</td>\n",
       "      <td>1345.8084</td>\n",
       "      <td>113.36314</td>\n",
       "      <td>2392.325986</td>\n",
       "      <td>17.822868</td>\n",
       "      <td>9.0</td>\n",
       "      <td>666.0</td>\n",
       "      <td>56.1</td>\n",
       "      <td>1183.89</td>\n",
       "      <td>8.82</td>\n",
       "      <td>49284.0</td>\n",
       "      <td>4151.4</td>\n",
       "      <td>87607.86</td>\n",
       "      <td>652.68</td>\n",
       "      <td>349.69</td>\n",
       "      <td>7379.581</td>\n",
       "      <td>54.978</td>\n",
       "      <td>155732.8369</td>\n",
       "      <td>1160.2122</td>\n",
       "      <td>8.6436</td>\n",
       "    </tr>\n",
       "    <tr>\n",
       "      <th>4</th>\n",
       "      <td>1.0</td>\n",
       "      <td>0.06905</td>\n",
       "      <td>0.0</td>\n",
       "      <td>2.18</td>\n",
       "      <td>0.0</td>\n",
       "      <td>0.458</td>\n",
       "      <td>7.147</td>\n",
       "      <td>54.2</td>\n",
       "      <td>6.0622</td>\n",
       "      <td>3.0</td>\n",
       "      <td>222.0</td>\n",
       "      <td>18.7</td>\n",
       "      <td>396.90</td>\n",
       "      <td>5.33</td>\n",
       "      <td>0.004768</td>\n",
       "      <td>0.00000</td>\n",
       "      <td>0.150529</td>\n",
       "      <td>0.0</td>\n",
       "      <td>0.031625</td>\n",
       "      <td>0.493500</td>\n",
       "      <td>3.742510</td>\n",
       "      <td>0.418595</td>\n",
       "      <td>0.20715</td>\n",
       "      <td>15.32910</td>\n",
       "      <td>1.291235</td>\n",
       "      <td>27.405945</td>\n",
       "      <td>0.368036</td>\n",
       "      <td>0.0</td>\n",
       "      <td>0.00</td>\n",
       "      <td>0.0</td>\n",
       "      <td>0.000</td>\n",
       "      <td>0.00</td>\n",
       "      <td>0.0</td>\n",
       "      <td>0.00</td>\n",
       "      <td>0.0</td>\n",
       "      <td>0.0</td>\n",
       "      <td>0.0</td>\n",
       "      <td>0.0</td>\n",
       "      <td>0.00</td>\n",
       "      <td>4.7524</td>\n",
       "      <td>...</td>\n",
       "      <td>101.676</td>\n",
       "      <td>8.5646</td>\n",
       "      <td>181.78020</td>\n",
       "      <td>2.44114</td>\n",
       "      <td>51.079609</td>\n",
       "      <td>387.3674</td>\n",
       "      <td>43.326543</td>\n",
       "      <td>21.441</td>\n",
       "      <td>1586.634</td>\n",
       "      <td>133.6489</td>\n",
       "      <td>2836.64430</td>\n",
       "      <td>38.09351</td>\n",
       "      <td>2937.64</td>\n",
       "      <td>328.57124</td>\n",
       "      <td>162.6</td>\n",
       "      <td>12032.4</td>\n",
       "      <td>1013.54</td>\n",
       "      <td>21511.980</td>\n",
       "      <td>288.886</td>\n",
       "      <td>36.750269</td>\n",
       "      <td>18.1866</td>\n",
       "      <td>1345.8084</td>\n",
       "      <td>113.36314</td>\n",
       "      <td>2406.087180</td>\n",
       "      <td>32.311526</td>\n",
       "      <td>9.0</td>\n",
       "      <td>666.0</td>\n",
       "      <td>56.1</td>\n",
       "      <td>1190.70</td>\n",
       "      <td>15.99</td>\n",
       "      <td>49284.0</td>\n",
       "      <td>4151.4</td>\n",
       "      <td>88111.80</td>\n",
       "      <td>1183.26</td>\n",
       "      <td>349.69</td>\n",
       "      <td>7422.030</td>\n",
       "      <td>99.671</td>\n",
       "      <td>157529.6100</td>\n",
       "      <td>2115.4770</td>\n",
       "      <td>28.4089</td>\n",
       "    </tr>\n",
       "  </tbody>\n",
       "</table>\n",
       "<p>5 rows × 105 columns</p>\n",
       "</div>"
      ],
      "text/plain": [
       "     1     CRIM    ZN  INDUS  ...  PTRATIO LSTAT          B^2    B LSTAT  LSTAT^2\n",
       "0  1.0  0.00632  18.0   2.31  ...         76.194  157529.6100  1976.5620  24.8004\n",
       "1  1.0  0.02731   0.0   7.07  ...        162.692  157529.6100  3627.6660  83.5396\n",
       "2  1.0  0.02729   0.0   7.07  ...         71.734  154315.4089  1583.1049  16.2409\n",
       "3  1.0  0.03237   0.0   2.18  ...         54.978  155732.8369  1160.2122   8.6436\n",
       "4  1.0  0.06905   0.0   2.18  ...         99.671  157529.6100  2115.4770  28.4089\n",
       "\n",
       "[5 rows x 105 columns]"
      ]
     },
     "execution_count": 39,
     "metadata": {
      "tags": []
     },
     "output_type": "execute_result"
    }
   ],
   "source": [
    "X.head()"
   ]
  },
  {
   "cell_type": "code",
   "execution_count": 42,
   "metadata": {
    "id": "WGTfmCwgxIZP"
   },
   "outputs": [],
   "source": [
    "from sklearn.model_selection import train_test_split\n",
    "from sklearn.linear_model import LinearRegression\n",
    "from sklearn.metrics import mean_squared_error\n",
    "\n",
    "y = pd.DataFrame(boston_dataset.target, columns=[\"MEDV\"])"
   ]
  },
  {
   "cell_type": "code",
   "execution_count": 45,
   "metadata": {
    "id": "8c7vOzvmxoya"
   },
   "outputs": [],
   "source": [
    "X_train, X_test, y_train, y_test = train_test_split(X, y, test_size=0.3, random_state=4)"
   ]
  },
  {
   "cell_type": "code",
   "execution_count": 46,
   "metadata": {
    "id": "nHWlDboiyI-m"
   },
   "outputs": [],
   "source": [
    "model = LinearRegression()"
   ]
  },
  {
   "cell_type": "code",
   "execution_count": 51,
   "metadata": {
    "colab": {
     "base_uri": "https://localhost:8080/"
    },
    "id": "wdN-sCLYyRgX",
    "outputId": "70f33d10-23a7-44dc-f870-d6c36bda3457"
   },
   "outputs": [
    {
     "data": {
      "text/plain": [
       "LinearRegression(copy_X=True, fit_intercept=True, n_jobs=None, normalize=False)"
      ]
     },
     "execution_count": 51,
     "metadata": {
      "tags": []
     },
     "output_type": "execute_result"
    }
   ],
   "source": [
    "model.fit(X_train, y_train)"
   ]
  },
  {
   "cell_type": "code",
   "execution_count": 52,
   "metadata": {
    "colab": {
     "base_uri": "https://localhost:8080/"
    },
    "id": "dhTirDBUyUCW",
    "outputId": "e87f2040-92f0-4bc9-a004-cd1420bc0e09"
   },
   "outputs": [
    {
     "data": {
      "text/plain": [
       "array([[-1.22296446e-07, -1.96527731e-01,  9.52192194e-02,\n",
       "        -2.96968621e+00,  5.23468255e+01,  1.37040080e+02,\n",
       "         1.90958090e+01,  9.21428995e-01, -9.72149335e-01,\n",
       "         4.38463946e+00, -1.03996379e-01,  1.27897209e+00,\n",
       "        -1.15508798e-01,  8.72574060e-01,  1.34949579e-03,\n",
       "         2.83243303e-01,  6.30884629e-01,  1.60931896e+00,\n",
       "        -1.04795014e+00,  3.56959530e-02, -4.44024734e-03,\n",
       "        -1.98466512e-01,  5.87425483e-01, -5.05229951e-02,\n",
       "         4.46378769e-01,  9.71806347e-05,  9.36300511e-03,\n",
       "        -9.50795991e-05, -2.95335972e-03, -1.10432380e-01,\n",
       "        -5.36620875e-01, -1.35029667e-02, -1.47871605e-04,\n",
       "        -1.36074152e-02, -9.78235233e-03,  6.40422909e-04,\n",
       "        -7.31283198e-03,  8.88561490e-04, -7.42279608e-03,\n",
       "         3.49322084e-02,  7.13480047e-01,  8.70254050e-01,\n",
       "         8.47395156e-02,  3.30723491e-03,  1.18615804e-01,\n",
       "         1.75407948e-02, -7.02032441e-05, -1.60583190e-02,\n",
       "         2.96998851e-03, -2.69230526e-02,  5.23468257e+01,\n",
       "        -7.30660334e+01, -3.15780077e+00, -1.58696565e-01,\n",
       "        -7.14771069e-01,  3.75754292e-01,  1.29167491e-02,\n",
       "        -2.54399655e+00, -4.43384589e-03,  2.03577455e-01,\n",
       "        -9.02617343e+01,  8.85950654e-01, -5.72215300e-02,\n",
       "         8.26420325e+00, -2.51221050e+00,  2.49886184e-01,\n",
       "        -9.56087922e+00,  1.65730140e-02,  8.34940466e-01,\n",
       "         3.53804661e-01, -7.70602138e-02, -2.51113241e-01,\n",
       "        -5.01476847e-03, -1.11128679e-02, -4.40904176e-01,\n",
       "         4.27849983e-03, -1.62967548e-01, -1.16027882e-04,\n",
       "         3.38757280e-03,  1.44290392e-02, -7.40879334e-04,\n",
       "         4.51206638e-03, -8.68626897e-04, -9.72809377e-03,\n",
       "         4.15022242e-01, -8.49048978e-02, -4.56941805e-03,\n",
       "        -1.44749640e-01, -8.19725032e-03,  5.49641678e-02,\n",
       "        -1.37542437e-01,  6.89480186e-03, -1.09956646e-01,\n",
       "        -4.10010134e-03, -4.27808615e-02, -3.62530967e-05,\n",
       "         3.10937816e-03,  5.26695334e-05,  9.10911887e-04,\n",
       "         5.42768129e-02,  1.08315764e-02, -1.61363399e-03,\n",
       "        -4.40514524e-05, -6.01734515e-04,  1.58675263e-02]])"
      ]
     },
     "execution_count": 52,
     "metadata": {
      "tags": []
     },
     "output_type": "execute_result"
    }
   ],
   "source": [
    "model.coef_"
   ]
  },
  {
   "cell_type": "code",
   "execution_count": 53,
   "metadata": {
    "colab": {
     "base_uri": "https://localhost:8080/"
    },
    "id": "tHjnDBCqyVQi",
    "outputId": "a124d6cb-c9c3-44e3-831a-a47754c74f8d"
   },
   "outputs": [
    {
     "data": {
      "text/plain": [
       "array([-89.94209151])"
      ]
     },
     "execution_count": 53,
     "metadata": {
      "tags": []
     },
     "output_type": "execute_result"
    }
   ],
   "source": [
    "model.intercept_"
   ]
  },
  {
   "cell_type": "code",
   "execution_count": 55,
   "metadata": {
    "id": "jXSOEfg-ye77"
   },
   "outputs": [],
   "source": [
    "y_test_pred = model.predict(X_test)"
   ]
  },
  {
   "cell_type": "code",
   "execution_count": 57,
   "metadata": {
    "colab": {
     "base_uri": "https://localhost:8080/"
    },
    "id": "_uc1GU6Iyixq",
    "outputId": "39b92b71-e15e-4cf5-a659-f50ec2de7992"
   },
   "outputs": [
    {
     "data": {
      "text/plain": [
       "3.8488564303123565"
      ]
     },
     "execution_count": 57,
     "metadata": {
      "tags": []
     },
     "output_type": "execute_result"
    }
   ],
   "source": [
    "mean_squared_error(y_test, y_test_pred) ** 0.5\n",
    "# 이 모델로 예측한다면 오차가 약 \\38,000,000정도가 난다는 것을 의미합니다. "
   ]
  },
  {
   "cell_type": "code",
   "execution_count": null,
   "metadata": {
    "id": "54DdFO19ypsF"
   },
   "outputs": [],
   "source": [
    "y = pd.DataFrame(diabetes_dataset.target, columns=[\"MEDV\"])\n",
    "X_train, X_test, y_train, y_test = train_test_split(X, y, test_size=0.3, random_state=4)\n",
    "model = LinearRegression()\n",
    "model.fit(X_train, y_train)\n",
    "model.coef_\n",
    "model.intercept_\n",
    "y_test_pred = model.predict(X_test)\n",
    "y_test_pred = model.predict(X_test)"
   ]
  }
 ],
 "metadata": {
  "colab": {
   "name": "다중회귀(Multiple Regression).ipynb",
   "provenance": []
  },
  "kernelspec": {
   "display_name": "Python 3",
   "language": "python",
   "name": "python3"
  },
  "language_info": {
   "codemirror_mode": {
    "name": "ipython",
    "version": 3
   },
   "file_extension": ".py",
   "mimetype": "text/x-python",
   "name": "python",
   "nbconvert_exporter": "python",
   "pygments_lexer": "ipython3",
   "version": "3.8.5"
  }
 },
 "nbformat": 4,
 "nbformat_minor": 1
}
