{
  "nbformat": 4,
  "nbformat_minor": 0,
  "metadata": {
    "colab": {
      "name": "_9 앙상블(Ensemble).ipynb",
      "provenance": [],
      "collapsed_sections": [],
      "machine_shape": "hm"
    },
    "kernelspec": {
      "name": "python3",
      "display_name": "Python 3"
    }
  },
  "cells": [
    {
      "cell_type": "markdown",
      "metadata": {
        "id": "b2MQEkXAYQeB"
      },
      "source": [
        "# 앙상블(Ensemble)\n",
        "\n",
        "* 일반화와 강건성(Robustness)을 향상시키기 위해 여러 모델의 예측 값을 결합하는 방법\n",
        "* 앙상블에는 크게 두가지 종류가 존재\n",
        "  * 평균 방법\n",
        "    * 여러개의 추정값을 독립적으로 구한뒤 평균을 취함\n",
        "    * 결합 추정값은 분산이 줄어들기 때문에 단일 추정값보다 좋은 성능을 보임\n",
        "  * 부스팅 방법\n",
        "    * 순차적으로 모델 생성\n",
        "    * 결합된 모델의 편향을 감소 시키기 위해 노력\n",
        "    * 부스팅 방법의 목표는 여러개의 약한 모델들을 결합해 하나의 강력한 앙상블 모델을 구축하는 것"
      ]
    },
    {
      "cell_type": "markdown",
      "metadata": {
        "id": "nT_iMqd0do5N"
      },
      "source": [
        "## Bagging meta-estimator\n",
        "\n",
        "* bagging은 bootstrap aggregating의 줄임말\n",
        "* 원래 훈련 데이터셋의 일부를 사용해 여러 모델을 훈련\n",
        "* 각각의 결과를 결합해 최종 결과를 생성\n",
        "* 분산을 줄이고 과적합을 막음\n",
        "* 강력하고 복잡한 모델에서 잘 동작"
      ]
    },
    {
      "cell_type": "code",
      "metadata": {
        "id": "DeBq-DEl4Mxc"
      },
      "source": [
        "from sklearn.datasets import load_boston, load_wine, load_iris, load_breast_cancer\n",
        "from sklearn.linear_model import LinearRegression, LogisticRegression\n",
        "from sklearn.preprocessing import StandardScaler, OrdinalEncoder\n",
        "from sklearn.model_selection import train_test_split, cross_validate, RandomizedSearchCV, GridSearchCV\n",
        "from sklearn.pipeline import make_pipeline\n",
        "\n",
        "import xgboost as xg"
      ],
      "execution_count": 1,
      "outputs": []
    },
    {
      "cell_type": "code",
      "metadata": {
        "id": "-7HPnpqGwgfe"
      },
      "source": [
        "from sklearn.ensemble import BaggingClassifier\n",
        "from sklearn.neighbors import KNeighborsClassifier\n",
        "from sklearn.svm import SVC, SVR\n",
        "from sklearn.tree import DecisionTreeClassifier"
      ],
      "execution_count": 44,
      "outputs": []
    },
    {
      "cell_type": "code",
      "metadata": {
        "id": "sJK4QMLlYN3G"
      },
      "source": [
        "from sklearn.ensemble import BaggingRegressor\n",
        "from sklearn.neighbors import KNeighborsRegressor\n",
        "from sklearn.svm import SVC\n",
        "from sklearn.tree import DecisionTreeRegressor"
      ],
      "execution_count": 3,
      "outputs": []
    },
    {
      "cell_type": "markdown",
      "metadata": {
        "id": "bnC_CfiDf3kC"
      },
      "source": [
        "### Bagging을 사용한 분류"
      ]
    },
    {
      "cell_type": "markdown",
      "metadata": {
        "id": "yw2FY84r4zQR"
      },
      "source": [
        "#### 데이터셋 불러오기"
      ]
    },
    {
      "cell_type": "code",
      "metadata": {
        "id": "6DlynlPmf-3Y"
      },
      "source": [
        "iris = load_iris()\n",
        "wine = load_wine()\n",
        "boston = load_boston()\n",
        "cancer = load_breast_cancer()"
      ],
      "execution_count": 6,
      "outputs": []
    },
    {
      "cell_type": "markdown",
      "metadata": {
        "id": "9XzfsGdL4_YF"
      },
      "source": [
        "#### KNN"
      ]
    },
    {
      "cell_type": "markdown",
      "metadata": {
        "id": "h5TYJLtQ8k70"
      },
      "source": [
        "##### 붓꽃 데이터"
      ]
    },
    {
      "cell_type": "code",
      "metadata": {
        "id": "vqMhwq26gIl9"
      },
      "source": [
        "base_model = make_pipeline(\n",
        "    StandardScaler(),\n",
        "    KNeighborsClassifier()\n",
        ")\n",
        "\n",
        "bagging_model = BaggingClassifier(base_model, n_estimators=10, max_samples=0.5, max_features=0.5)"
      ],
      "execution_count": 9,
      "outputs": []
    },
    {
      "cell_type": "code",
      "metadata": {
        "id": "m-fGDZoD52eY",
        "colab": {
          "base_uri": "https://localhost:8080/"
        },
        "outputId": "f49d0e32-e4f2-435f-b46c-7b92669d7c6a"
      },
      "source": [
        "cross_val = cross_validate(\n",
        "    estimator=base_model,\n",
        "    X=iris.data, y=iris.target,\n",
        "    cv =5, n_jobs=-1, verbose=False\n",
        ")\n",
        "\n",
        "print(\"avg fit time :\", cross_val[\"fit_time\"].mean())\n",
        "print(\"avg score time :\", cross_val[\"score_time\"].mean())\n",
        "print(\"avg test score :\", cross_val[\"test_score\"].mean())"
      ],
      "execution_count": 19,
      "outputs": [
        {
          "output_type": "stream",
          "text": [
            "avg fit time : 0.0010824203491210938\n",
            "avg score time : 0.0015468597412109375\n",
            "avg test score : 0.96\n"
          ],
          "name": "stdout"
        }
      ]
    },
    {
      "cell_type": "code",
      "metadata": {
        "id": "j8UhV67NgiC0",
        "colab": {
          "base_uri": "https://localhost:8080/"
        },
        "outputId": "1b970df4-df4f-48d6-bd6c-d8bac500f19c"
      },
      "source": [
        "cross_val = cross_validate(\n",
        "    estimator=bagging_model,\n",
        "    X=iris.data, y=iris.target,\n",
        "    cv =5, n_jobs=-1, verbose=False\n",
        ")\n",
        "\n",
        "print(\"avg fit time :\", cross_val[\"fit_time\"].mean())\n",
        "print(\"avg score time :\", cross_val[\"score_time\"].mean())\n",
        "print(\"avg test score :\", cross_val[\"test_score\"].mean())"
      ],
      "execution_count": 20,
      "outputs": [
        {
          "output_type": "stream",
          "text": [
            "avg fit time : 0.020367956161499022\n",
            "avg score time : 0.007782983779907227\n",
            "avg test score : 0.9199999999999999\n"
          ],
          "name": "stdout"
        }
      ]
    },
    {
      "cell_type": "markdown",
      "metadata": {
        "id": "aake5r8-_FLh"
      },
      "source": [
        "##### 와인 데이터"
      ]
    },
    {
      "cell_type": "code",
      "metadata": {
        "id": "kSNvIhxp_FLl"
      },
      "source": [
        "base_model = make_pipeline(\n",
        "    StandardScaler(),\n",
        "    KNeighborsClassifier()\n",
        ")\n",
        "\n",
        "bagging_model = BaggingClassifier(base_model, n_estimators=10, max_samples=0.5, max_features=0.5)"
      ],
      "execution_count": null,
      "outputs": []
    },
    {
      "cell_type": "code",
      "metadata": {
        "id": "_gyzWbDi_FLt",
        "colab": {
          "base_uri": "https://localhost:8080/"
        },
        "outputId": "321dd450-8d3e-483d-8a8f-d9f063758ea5"
      },
      "source": [
        "cross_val = cross_validate(\n",
        "    estimator=base_model,\n",
        "    X=wine.data, y=wine.target,\n",
        "    cv =5, n_jobs=-1, verbose=False\n",
        ")\n",
        "\n",
        "print(\"avg fit time :\", cross_val[\"fit_time\"].mean())\n",
        "print(\"avg score time :\", cross_val[\"score_time\"].mean())\n",
        "print(\"avg test score :\", cross_val[\"test_score\"].mean())"
      ],
      "execution_count": 21,
      "outputs": [
        {
          "output_type": "stream",
          "text": [
            "avg fit time : 0.0014110565185546874\n",
            "avg score time : 0.002644634246826172\n",
            "avg test score : 0.9493650793650794\n"
          ],
          "name": "stdout"
        }
      ]
    },
    {
      "cell_type": "code",
      "metadata": {
        "id": "omJWcpZ0_FLx",
        "colab": {
          "base_uri": "https://localhost:8080/"
        },
        "outputId": "cbb506ab-2970-41ba-cbf1-17943c54a4d4"
      },
      "source": [
        "cross_val = cross_validate(\n",
        "    estimator=bagging_model,\n",
        "    X=wine.data, y=wine.target,\n",
        "    cv =5, n_jobs=-1, verbose=False\n",
        ")\n",
        "\n",
        "print(\"avg fit time :\", cross_val[\"fit_time\"].mean())\n",
        "print(\"avg score time :\", cross_val[\"score_time\"].mean())\n",
        "print(\"avg test score :\", cross_val[\"test_score\"].mean())"
      ],
      "execution_count": 22,
      "outputs": [
        {
          "output_type": "stream",
          "text": [
            "avg fit time : 0.020185327529907225\n",
            "avg score time : 0.0078066825866699215\n",
            "avg test score : 0.9607936507936508\n"
          ],
          "name": "stdout"
        }
      ]
    },
    {
      "cell_type": "markdown",
      "metadata": {
        "id": "iPKP6KIy8nso"
      },
      "source": [
        "##### 유방암 데이터"
      ]
    },
    {
      "cell_type": "code",
      "metadata": {
        "id": "ehkY0oDU8piY"
      },
      "source": [
        "base_model = make_pipeline(\n",
        "    StandardScaler(),\n",
        "    KNeighborsClassifier()\n",
        ")\n",
        "\n",
        "bagging_model = BaggingClassifier(base_model, n_estimators=10, max_samples=0.5, max_features=0.5)"
      ],
      "execution_count": 25,
      "outputs": []
    },
    {
      "cell_type": "code",
      "metadata": {
        "id": "3RKRD3sN9Z0k",
        "colab": {
          "base_uri": "https://localhost:8080/"
        },
        "outputId": "18309536-cc52-4ac5-9244-112b73b3e3c8"
      },
      "source": [
        "cross_val = cross_validate(\n",
        "    estimator=base_model,\n",
        "    X=cancer.data, y=cancer.target,\n",
        "    cv =5, n_jobs=-1, verbose=False\n",
        ")\n",
        "\n",
        "print(\"avg fit time :\", cross_val[\"fit_time\"].mean())\n",
        "print(\"avg score time :\", cross_val[\"score_time\"].mean())\n",
        "print(\"avg test score :\", cross_val[\"test_score\"].mean())"
      ],
      "execution_count": 26,
      "outputs": [
        {
          "output_type": "stream",
          "text": [
            "avg fit time : 0.0024413108825683595\n",
            "avg score time : 0.0073527336120605465\n",
            "avg test score : 0.9648501785437045\n"
          ],
          "name": "stdout"
        }
      ]
    },
    {
      "cell_type": "code",
      "metadata": {
        "id": "xcNn5ihb9etn",
        "colab": {
          "base_uri": "https://localhost:8080/"
        },
        "outputId": "cdf71950-c5ca-4e5b-b168-63690f6e7fde"
      },
      "source": [
        "cross_val = cross_validate(\n",
        "    estimator=bagging_model,\n",
        "    X=cancer.data, y=cancer.target,\n",
        "    cv =5, n_jobs=-1, verbose=False\n",
        ")\n",
        "\n",
        "print(\"avg fit time :\", cross_val[\"fit_time\"].mean())\n",
        "print(\"avg score time :\", cross_val[\"score_time\"].mean())\n",
        "print(\"avg test score :\", cross_val[\"test_score\"].mean())"
      ],
      "execution_count": 27,
      "outputs": [
        {
          "output_type": "stream",
          "text": [
            "avg fit time : 0.024027585983276367\n",
            "avg score time : 0.015720033645629884\n",
            "avg test score : 0.9595870206489675\n"
          ],
          "name": "stdout"
        }
      ]
    },
    {
      "cell_type": "markdown",
      "metadata": {
        "id": "c6cXnxEZ90NR"
      },
      "source": [
        "#### SVC"
      ]
    },
    {
      "cell_type": "markdown",
      "metadata": {
        "id": "yFolvlY393Pv"
      },
      "source": [
        "##### 붓꽃 데이터"
      ]
    },
    {
      "cell_type": "code",
      "metadata": {
        "id": "Gc4AUWDpHf70",
        "outputId": "0027c6c3-2849-4149-fc4c-b4fee000839d",
        "colab": {
          "base_uri": "https://localhost:8080/"
        }
      },
      "source": [
        "base_model = make_pipeline(\n",
        "    StandardScaler(),\n",
        "    SVC()\n",
        ")\n",
        "\n",
        "bagging_model = BaggingClassifier(base_model, n_estimators=10, max_samples=0.5, max_features=0.5)\n",
        "\n",
        "cross_val = cross_validate(\n",
        "    estimator=base_model,\n",
        "    X=iris.data, y=iris.target,\n",
        "    cv =5, n_jobs=-1, verbose=False\n",
        ")\n",
        "\n",
        "print(\"avg fit time :\", cross_val[\"fit_time\"].mean())\n",
        "print(\"avg score time :\", cross_val[\"score_time\"].mean())\n",
        "print(\"avg test score :\", cross_val[\"test_score\"].mean())\n",
        "\n",
        "cross_val = cross_validate(\n",
        "    estimator=bagging_model,\n",
        "    X=iris.data, y=iris.target,\n",
        "    cv =5, n_jobs=-1, verbose=False\n",
        ")\n",
        "\n",
        "print(\"avg fit time :\", cross_val[\"fit_time\"].mean())\n",
        "print(\"avg score time :\", cross_val[\"score_time\"].mean())\n",
        "print(\"avg test score :\", cross_val[\"test_score\"].mean())"
      ],
      "execution_count": 28,
      "outputs": [
        {
          "output_type": "stream",
          "text": [
            "avg fit time : 0.0014772891998291015\n",
            "avg score time : 0.00044188499450683596\n",
            "avg test score : 0.9666666666666666\n",
            "avg fit time : 0.027752065658569337\n",
            "avg score time : 0.0033451080322265624\n",
            "avg test score : 0.9533333333333334\n"
          ],
          "name": "stdout"
        }
      ]
    },
    {
      "cell_type": "markdown",
      "metadata": {
        "id": "BAVcL_DG_HgP"
      },
      "source": [
        "##### 와인 데이터"
      ]
    },
    {
      "cell_type": "code",
      "metadata": {
        "id": "VBxzVY2V_HgT",
        "colab": {
          "base_uri": "https://localhost:8080/"
        },
        "outputId": "b264c939-8d69-42e8-92f3-51a616d2336a"
      },
      "source": [
        "base_model = make_pipeline(\n",
        "    StandardScaler(),\n",
        "    SVC()\n",
        ")\n",
        "\n",
        "bagging_model = BaggingClassifier(base_model, n_estimators=10, max_samples=0.5, max_features=0.5)\n",
        "\n",
        "cross_val = cross_validate(\n",
        "    estimator=base_model,\n",
        "    X=wine.data, y=wine.target,\n",
        "    cv =5, n_jobs=-1, verbose=False\n",
        ")\n",
        "\n",
        "print(\"avg fit time :\", cross_val[\"fit_time\"].mean())\n",
        "print(\"avg score time :\", cross_val[\"score_time\"].mean())\n",
        "print(\"avg test score :\", cross_val[\"test_score\"].mean())\n",
        "\n",
        "cross_val = cross_validate(\n",
        "    estimator=bagging_model,\n",
        "    X=wine.data, y=wine.target,\n",
        "    cv =5, n_jobs=-1, verbose=False\n",
        ")\n",
        "\n",
        "print(\"avg fit time :\", cross_val[\"fit_time\"].mean())\n",
        "print(\"avg score time :\", cross_val[\"score_time\"].mean())\n",
        "print(\"avg test score :\", cross_val[\"test_score\"].mean())"
      ],
      "execution_count": 29,
      "outputs": [
        {
          "output_type": "stream",
          "text": [
            "avg fit time : 0.0020192146301269533\n",
            "avg score time : 0.0005350589752197265\n",
            "avg test score : 0.9833333333333334\n",
            "avg fit time : 0.029182243347167968\n",
            "avg score time : 0.003511953353881836\n",
            "avg test score : 0.9496825396825397\n"
          ],
          "name": "stdout"
        }
      ]
    },
    {
      "cell_type": "markdown",
      "metadata": {
        "id": "59r3mE7H92wX"
      },
      "source": [
        "##### 유방암 데이터"
      ]
    },
    {
      "cell_type": "code",
      "metadata": {
        "id": "yJimG-mr-X2E",
        "colab": {
          "base_uri": "https://localhost:8080/"
        },
        "outputId": "8a51c22b-edba-474c-d1fb-d538d2af1362"
      },
      "source": [
        "base_model = make_pipeline(\n",
        "    StandardScaler(),\n",
        "    SVC()\n",
        ")\n",
        "\n",
        "bagging_model = BaggingClassifier(base_model, n_estimators=10, max_samples=0.5, max_features=0.5)\n",
        "\n",
        "cross_val = cross_validate(\n",
        "    estimator=base_model,\n",
        "    X=cancer.data, y=cancer.target,\n",
        "    cv =5, n_jobs=-1, verbose=False\n",
        ")\n",
        "\n",
        "print(\"avg fit time :\", cross_val[\"fit_time\"].mean())\n",
        "print(\"avg score time :\", cross_val[\"score_time\"].mean())\n",
        "print(\"avg test score :\", cross_val[\"test_score\"].mean())\n",
        "\n",
        "cross_val = cross_validate(\n",
        "    estimator=bagging_model,\n",
        "    X=cancer.data, y=cancer.target,\n",
        "    cv =5, n_jobs=-1, verbose=False\n",
        ")\n",
        "\n",
        "print(\"avg fit time :\", cross_val[\"fit_time\"].mean())\n",
        "print(\"avg score time :\", cross_val[\"score_time\"].mean())\n",
        "print(\"avg test score :\", cross_val[\"test_score\"].mean())"
      ],
      "execution_count": 30,
      "outputs": [
        {
          "output_type": "stream",
          "text": [
            "avg fit time : 0.005692815780639649\n",
            "avg score time : 0.0012214183807373047\n",
            "avg test score : 0.9736376339077782\n",
            "avg fit time : 0.03967585563659668\n",
            "avg score time : 0.007697153091430664\n",
            "avg test score : 0.9631113181183046\n"
          ],
          "name": "stdout"
        }
      ]
    },
    {
      "cell_type": "markdown",
      "metadata": {
        "id": "Gtpz-2Ly-gF2"
      },
      "source": [
        "#### Decision Tree"
      ]
    },
    {
      "cell_type": "markdown",
      "metadata": {
        "id": "3A4T9Bv--jF-"
      },
      "source": [
        "##### 붓꽃 데이터"
      ]
    },
    {
      "cell_type": "code",
      "metadata": {
        "id": "b5Rx77at-xaC",
        "colab": {
          "base_uri": "https://localhost:8080/"
        },
        "outputId": "89b6c4e1-9a09-4fd6-ef0a-4afcad0101a7"
      },
      "source": [
        "base_model = make_pipeline(\n",
        "    StandardScaler(),\n",
        "    DecisionTreeClassifier()\n",
        ")\n",
        "\n",
        "bagging_model = BaggingClassifier(base_model, n_estimators=10, max_samples=0.5, max_features=0.5)\n",
        "\n",
        "cross_val = cross_validate(\n",
        "    estimator=base_model,\n",
        "    X=iris.data, y=iris.target,\n",
        "    cv =5, n_jobs=-1, verbose=False\n",
        ")\n",
        "\n",
        "print(\"avg fit time :\", cross_val[\"fit_time\"].mean())\n",
        "print(\"avg score time :\", cross_val[\"score_time\"].mean())\n",
        "print(\"avg test score :\", cross_val[\"test_score\"].mean())\n",
        "\n",
        "cross_val = cross_validate(\n",
        "    estimator=bagging_model,\n",
        "    X=iris.data, y=iris.target,\n",
        "    cv =5, n_jobs=-1, verbose=False\n",
        ")\n",
        "\n",
        "print(\"avg fit time :\", cross_val[\"fit_time\"].mean())\n",
        "print(\"avg score time :\", cross_val[\"score_time\"].mean())\n",
        "print(\"avg test score :\", cross_val[\"test_score\"].mean())"
      ],
      "execution_count": 31,
      "outputs": [
        {
          "output_type": "stream",
          "text": [
            "avg fit time : 0.0014908790588378906\n",
            "avg score time : 0.00036869049072265627\n",
            "avg test score : 0.9533333333333334\n",
            "avg fit time : 0.025547313690185546\n",
            "avg score time : 0.0025892257690429688\n",
            "avg test score : 0.9333333333333332\n"
          ],
          "name": "stdout"
        }
      ]
    },
    {
      "cell_type": "markdown",
      "metadata": {
        "id": "Ninof3DO_IO3"
      },
      "source": [
        "##### 와인 데이터"
      ]
    },
    {
      "cell_type": "code",
      "metadata": {
        "id": "6l5RCMWI_IPI",
        "colab": {
          "base_uri": "https://localhost:8080/"
        },
        "outputId": "eb48e44a-2aa2-40d2-a2ce-c6f3a430b05e"
      },
      "source": [
        "base_model = make_pipeline(\n",
        "    StandardScaler(),\n",
        "    DecisionTreeClassifier()\n",
        ")\n",
        "\n",
        "bagging_model = BaggingClassifier(base_model, n_estimators=10, max_samples=0.5, max_features=0.5)\n",
        "\n",
        "cross_val = cross_validate(\n",
        "    estimator=base_model,\n",
        "    X=wine.data, y=wine.target,\n",
        "    cv =5, n_jobs=-1, verbose=False\n",
        ")\n",
        "\n",
        "print(\"avg fit time :\", cross_val[\"fit_time\"].mean())\n",
        "print(\"avg score time :\", cross_val[\"score_time\"].mean())\n",
        "print(\"avg test score :\", cross_val[\"test_score\"].mean())\n",
        "\n",
        "cross_val = cross_validate(\n",
        "    estimator=bagging_model,\n",
        "    X=wine.data, y=wine.target,\n",
        "    cv =5, n_jobs=-1, verbose=False\n",
        ")\n",
        "\n",
        "print(\"avg fit time :\", cross_val[\"fit_time\"].mean())\n",
        "print(\"avg score time :\", cross_val[\"score_time\"].mean())\n",
        "print(\"avg test score :\", cross_val[\"test_score\"].mean())"
      ],
      "execution_count": 32,
      "outputs": [
        {
          "output_type": "stream",
          "text": [
            "avg fit time : 0.0016223430633544923\n",
            "avg score time : 0.0003436088562011719\n",
            "avg test score : 0.8874603174603175\n",
            "avg fit time : 0.03054633140563965\n",
            "avg score time : 0.002828502655029297\n",
            "avg test score : 0.9330158730158731\n"
          ],
          "name": "stdout"
        }
      ]
    },
    {
      "cell_type": "markdown",
      "metadata": {
        "id": "uVlALN6t-i3T"
      },
      "source": [
        "##### 유방암 데이터"
      ]
    },
    {
      "cell_type": "code",
      "metadata": {
        "id": "DQ0zpCGU_NXO",
        "colab": {
          "base_uri": "https://localhost:8080/"
        },
        "outputId": "39143b28-e01a-4d1b-cf03-5987c3a0acfc"
      },
      "source": [
        "base_model = make_pipeline(\n",
        "    StandardScaler(),\n",
        "    DecisionTreeClassifier()\n",
        ")\n",
        "\n",
        "bagging_model = BaggingClassifier(base_model, n_estimators=10, max_samples=0.5, max_features=0.5)\n",
        "\n",
        "cross_val = cross_validate(\n",
        "    estimator=base_model,\n",
        "    X=cancer.data, y=cancer.target,\n",
        "    cv =5, n_jobs=-1, verbose=False\n",
        ")\n",
        "\n",
        "print(\"avg fit time :\", cross_val[\"fit_time\"].mean())\n",
        "print(\"avg score time :\", cross_val[\"score_time\"].mean())\n",
        "print(\"avg test score :\", cross_val[\"test_score\"].mean())\n",
        "\n",
        "cross_val = cross_validate(\n",
        "    estimator=bagging_model,\n",
        "    X=cancer.data, y=cancer.target,\n",
        "    cv =5, n_jobs=-1, verbose=False\n",
        ")\n",
        "\n",
        "print(\"avg fit time :\", cross_val[\"fit_time\"].mean())\n",
        "print(\"avg score time :\", cross_val[\"score_time\"].mean())\n",
        "print(\"avg test score :\", cross_val[\"test_score\"].mean())"
      ],
      "execution_count": 33,
      "outputs": [
        {
          "output_type": "stream",
          "text": [
            "avg fit time : 0.008166646957397461\n",
            "avg score time : 0.0005358219146728516\n",
            "avg test score : 0.927899394503959\n",
            "avg fit time : 0.03580632209777832\n",
            "avg score time : 0.0024790287017822264\n",
            "avg test score : 0.9613569321533924\n"
          ],
          "name": "stdout"
        }
      ]
    },
    {
      "cell_type": "markdown",
      "metadata": {
        "id": "G8m4pTeC_Y7Q"
      },
      "source": [
        "### Bagging을 사용한 회귀"
      ]
    },
    {
      "cell_type": "markdown",
      "metadata": {
        "id": "47h6mi6D_cu3"
      },
      "source": [
        "#### 데이터셋 불러오기"
      ]
    },
    {
      "cell_type": "code",
      "metadata": {
        "id": "UN7-vRcK_pKZ"
      },
      "source": [
        "from sklearn.datasets import load_diabetes\n",
        "boston = load_boston()\n",
        "diabetes = load_diabetes()"
      ],
      "execution_count": 35,
      "outputs": []
    },
    {
      "cell_type": "markdown",
      "metadata": {
        "id": "lBSK7rhp_gMV"
      },
      "source": [
        "#### KNN"
      ]
    },
    {
      "cell_type": "markdown",
      "metadata": {
        "id": "Ze7yqMOL_t34"
      },
      "source": [
        "##### 보스턴 주택 가격 데이터"
      ]
    },
    {
      "cell_type": "code",
      "metadata": {
        "id": "oJbcuQntAXzE",
        "colab": {
          "base_uri": "https://localhost:8080/"
        },
        "outputId": "d843c0aa-85ea-49e6-9179-91fc0c17ae44"
      },
      "source": [
        "base_model = make_pipeline(\n",
        "    StandardScaler(),\n",
        "    KNeighborsRegressor()\n",
        ")\n",
        "\n",
        "bagging_model = BaggingRegressor(base_model, n_estimators=10, max_samples=0.5, max_features=0.5)\n",
        "\n",
        "cross_val = cross_validate(\n",
        "    estimator=base_model,\n",
        "    X=boston.data, y=boston.target,\n",
        "    cv =5, n_jobs=-1, verbose=False\n",
        ")\n",
        "\n",
        "print(\"avg fit time :\", cross_val[\"fit_time\"].mean())\n",
        "print(\"avg score time :\", cross_val[\"score_time\"].mean())\n",
        "print(\"avg test score :\", cross_val[\"test_score\"].mean())\n",
        "\n",
        "cross_val = cross_validate(\n",
        "    estimator=bagging_model,\n",
        "    X=boston.data, y=boston.target,\n",
        "    cv =5, n_jobs=-1, verbose=False\n",
        ")\n",
        "\n",
        "print(\"avg fit time :\", cross_val[\"fit_time\"].mean())\n",
        "print(\"avg score time :\", cross_val[\"score_time\"].mean())\n",
        "print(\"avg test score :\", cross_val[\"test_score\"].mean())"
      ],
      "execution_count": 41,
      "outputs": [
        {
          "output_type": "stream",
          "text": [
            "avg fit time : 0.001440715789794922\n",
            "avg score time : 0.0016593456268310547\n",
            "avg test score : 0.47357748833823543\n",
            "avg fit time : 0.023872900009155273\n",
            "avg score time : 0.008948707580566406\n",
            "avg test score : 0.5113321554479036\n"
          ],
          "name": "stdout"
        }
      ]
    },
    {
      "cell_type": "markdown",
      "metadata": {
        "id": "vsCxrkMO_td0"
      },
      "source": [
        "##### 당뇨병 데이터"
      ]
    },
    {
      "cell_type": "code",
      "metadata": {
        "id": "kq3vs4juAl2_",
        "colab": {
          "base_uri": "https://localhost:8080/"
        },
        "outputId": "80aba2d0-8172-420f-83e1-3a5ff71a86f8"
      },
      "source": [
        "base_model = make_pipeline(\n",
        "    StandardScaler(),\n",
        "    KNeighborsRegressor()\n",
        ")\n",
        "\n",
        "bagging_model = BaggingRegressor(base_model, n_estimators=10, max_samples=0.5, max_features=0.5)\n",
        "\n",
        "cross_val = cross_validate(\n",
        "    estimator=base_model,\n",
        "    X=diabetes.data, y=diabetes.target,\n",
        "    cv =5, n_jobs=-1, verbose=False\n",
        ")\n",
        "\n",
        "print(\"avg fit time :\", cross_val[\"fit_time\"].mean())\n",
        "print(\"avg score time :\", cross_val[\"score_time\"].mean())\n",
        "print(\"avg test score :\", cross_val[\"test_score\"].mean())\n",
        "\n",
        "cross_val = cross_validate(\n",
        "    estimator=bagging_model,\n",
        "    X=diabetes.data, y=diabetes.target,\n",
        "    cv =5, n_jobs=-1, verbose=False\n",
        ")\n",
        "\n",
        "print(\"avg fit time :\", cross_val[\"fit_time\"].mean())\n",
        "print(\"avg score time :\", cross_val[\"score_time\"].mean())\n",
        "print(\"avg test score :\", cross_val[\"test_score\"].mean())"
      ],
      "execution_count": 42,
      "outputs": [
        {
          "output_type": "stream",
          "text": [
            "avg fit time : 0.0013749122619628907\n",
            "avg score time : 0.001666688919067383\n",
            "avg test score : 0.3689720650295623\n",
            "avg fit time : 0.019614362716674806\n",
            "avg score time : 0.008825349807739257\n",
            "avg test score : 0.407014191563816\n"
          ],
          "name": "stdout"
        }
      ]
    },
    {
      "cell_type": "markdown",
      "metadata": {
        "id": "UNWloxDa_fvn"
      },
      "source": [
        "#### SVR"
      ]
    },
    {
      "cell_type": "markdown",
      "metadata": {
        "id": "NRDHG3iX_ygt"
      },
      "source": [
        "##### 보스턴 주택 가격 데이터"
      ]
    },
    {
      "cell_type": "code",
      "metadata": {
        "id": "gI_Vf2NXA570",
        "colab": {
          "base_uri": "https://localhost:8080/"
        },
        "outputId": "e508cb19-31f2-4201-dba3-aaeeabc5ea2c"
      },
      "source": [
        "base_model = make_pipeline(\n",
        "    StandardScaler(),\n",
        "    SVR()\n",
        ")\n",
        "\n",
        "bagging_model = BaggingRegressor(base_model, n_estimators=10, max_samples=0.5, max_features=0.5)\n",
        "\n",
        "cross_val = cross_validate(\n",
        "    estimator=base_model,\n",
        "    X=boston.data, y=boston.target,\n",
        "    cv =5, n_jobs=-1, verbose=False\n",
        ")\n",
        "\n",
        "print(\"avg fit time :\", cross_val[\"fit_time\"].mean())\n",
        "print(\"avg score time :\", cross_val[\"score_time\"].mean())\n",
        "print(\"avg test score :\", cross_val[\"test_score\"].mean())\n",
        "\n",
        "cross_val = cross_validate(\n",
        "    estimator=bagging_model,\n",
        "    X=boston.data, y=boston.target,\n",
        "    cv =5, n_jobs=-1, verbose=False\n",
        ")\n",
        "\n",
        "print(\"avg fit time :\", cross_val[\"fit_time\"].mean())\n",
        "print(\"avg score time :\", cross_val[\"score_time\"].mean())\n",
        "print(\"avg test score :\", cross_val[\"test_score\"].mean())"
      ],
      "execution_count": 45,
      "outputs": [
        {
          "output_type": "stream",
          "text": [
            "avg fit time : 0.013436698913574218\n",
            "avg score time : 0.0023053646087646484\n",
            "avg test score : 0.17631266230186618\n",
            "avg fit time : 0.0470644474029541\n",
            "avg score time : 0.010325813293457031\n",
            "avg test score : 0.1434902494365399\n"
          ],
          "name": "stdout"
        }
      ]
    },
    {
      "cell_type": "markdown",
      "metadata": {
        "id": "dB98AXg7_004"
      },
      "source": [
        "##### 당뇨병 데이터"
      ]
    },
    {
      "cell_type": "code",
      "metadata": {
        "id": "zYRTb9hPBCDv",
        "colab": {
          "base_uri": "https://localhost:8080/"
        },
        "outputId": "a07c7071-084c-4ba3-94af-4ad4c481febb"
      },
      "source": [
        "base_model = make_pipeline(\n",
        "    StandardScaler(),\n",
        "    SVR()\n",
        ")\n",
        "\n",
        "bagging_model = BaggingRegressor(base_model, n_estimators=10, max_samples=0.5, max_features=0.5)\n",
        "\n",
        "cross_val = cross_validate(\n",
        "    estimator=base_model,\n",
        "    X=diabetes.data, y=diabetes.target,\n",
        "    cv =5, n_jobs=-1, verbose=False\n",
        ")\n",
        "\n",
        "print(\"avg fit time :\", cross_val[\"fit_time\"].mean())\n",
        "print(\"avg score time :\", cross_val[\"score_time\"].mean())\n",
        "print(\"avg test score :\", cross_val[\"test_score\"].mean())\n",
        "\n",
        "cross_val = cross_validate(\n",
        "    estimator=bagging_model,\n",
        "    X=diabetes.data, y=diabetes.target,\n",
        "    cv =5, n_jobs=-1, verbose=False\n",
        ")\n",
        "\n",
        "print(\"avg fit time :\", cross_val[\"fit_time\"].mean())\n",
        "print(\"avg score time :\", cross_val[\"score_time\"].mean())\n",
        "print(\"avg test score :\", cross_val[\"test_score\"].mean())"
      ],
      "execution_count": 46,
      "outputs": [
        {
          "output_type": "stream",
          "text": [
            "avg fit time : 0.010359477996826173\n",
            "avg score time : 0.0021965503692626953\n",
            "avg test score : 0.14659936199629434\n",
            "avg fit time : 0.03951563835144043\n",
            "avg score time : 0.008149003982543946\n",
            "avg test score : 0.06678396443589277\n"
          ],
          "name": "stdout"
        }
      ]
    },
    {
      "cell_type": "markdown",
      "metadata": {
        "id": "Ffge42tG_fFc"
      },
      "source": [
        "#### Decision Tree"
      ]
    },
    {
      "cell_type": "markdown",
      "metadata": {
        "id": "MWWTfD6T_44c"
      },
      "source": [
        "##### 보스턴 주택 가격 데이터"
      ]
    },
    {
      "cell_type": "code",
      "metadata": {
        "id": "PyI5bERuBPLx",
        "colab": {
          "base_uri": "https://localhost:8080/"
        },
        "outputId": "ef36feee-df5f-4665-f161-11197e9e1838"
      },
      "source": [
        "base_model = make_pipeline(\n",
        "    StandardScaler(),\n",
        "    DecisionTreeRegressor()\n",
        ")\n",
        "\n",
        "bagging_model = BaggingRegressor(base_model, n_estimators=10, max_samples=0.5, max_features=0.5)\n",
        "\n",
        "cross_val = cross_validate(\n",
        "    estimator=base_model,\n",
        "    X=boston.data, y=boston.target,\n",
        "    cv =5, n_jobs=-1, verbose=False\n",
        ")\n",
        "\n",
        "print(\"avg fit time :\", cross_val[\"fit_time\"].mean())\n",
        "print(\"avg score time :\", cross_val[\"score_time\"].mean())\n",
        "print(\"avg test score :\", cross_val[\"test_score\"].mean())\n",
        "\n",
        "cross_val = cross_validate(\n",
        "    estimator=bagging_model,\n",
        "    X=boston.data, y=boston.target,\n",
        "    cv =5, n_jobs=-1, verbose=False\n",
        ")\n",
        "\n",
        "print(\"avg fit time :\", cross_val[\"fit_time\"].mean())\n",
        "print(\"avg score time :\", cross_val[\"score_time\"].mean())\n",
        "print(\"avg test score :\", cross_val[\"test_score\"].mean())"
      ],
      "execution_count": 48,
      "outputs": [
        {
          "output_type": "stream",
          "text": [
            "avg fit time : 0.004863166809082031\n",
            "avg score time : 0.0006844043731689453\n",
            "avg test score : 0.11870815150991651\n",
            "avg fit time : 0.03270645141601562\n",
            "avg score time : 0.0026612281799316406\n",
            "avg test score : 0.3434864838018063\n"
          ],
          "name": "stdout"
        }
      ]
    },
    {
      "cell_type": "markdown",
      "metadata": {
        "id": "djcuGIS-_4kG"
      },
      "source": [
        "##### 당뇨병 데이터"
      ]
    },
    {
      "cell_type": "code",
      "metadata": {
        "id": "hDpNFOCpBldg",
        "colab": {
          "base_uri": "https://localhost:8080/"
        },
        "outputId": "430a9697-4227-4e67-fae3-22feefe75283"
      },
      "source": [
        "base_model = make_pipeline(\n",
        "    StandardScaler(),\n",
        "    DecisionTreeRegressor()\n",
        ")\n",
        "\n",
        "bagging_model = BaggingRegressor(base_model, n_estimators=10, max_samples=0.5, max_features=0.5)\n",
        "\n",
        "cross_val = cross_validate(\n",
        "    estimator=base_model,\n",
        "    X=diabetes.data, y=diabetes.target,\n",
        "    cv =5, n_jobs=-1, verbose=False\n",
        ")\n",
        "\n",
        "print(\"avg fit time :\", cross_val[\"fit_time\"].mean())\n",
        "print(\"avg score time :\", cross_val[\"score_time\"].mean())\n",
        "print(\"avg test score :\", cross_val[\"test_score\"].mean())\n",
        "\n",
        "cross_val = cross_validate(\n",
        "    estimator=bagging_model,\n",
        "    X=diabetes.data, y=diabetes.target,\n",
        "    cv =5, n_jobs=-1, verbose=False\n",
        ")\n",
        "\n",
        "print(\"avg fit time :\", cross_val[\"fit_time\"].mean())\n",
        "print(\"avg score time :\", cross_val[\"score_time\"].mean())\n",
        "print(\"avg test score :\", cross_val[\"test_score\"].mean())"
      ],
      "execution_count": 49,
      "outputs": [
        {
          "output_type": "stream",
          "text": [
            "avg fit time : 0.0031306266784667967\n",
            "avg score time : 0.0006098747253417969\n",
            "avg test score : -0.13381034860851782\n",
            "avg fit time : 0.02947096824645996\n",
            "avg score time : 0.002658176422119141\n",
            "avg test score : 0.364114298278775\n"
          ],
          "name": "stdout"
        }
      ]
    },
    {
      "cell_type": "markdown",
      "metadata": {
        "id": "Hve567xWbywt"
      },
      "source": [
        "## Forests of randomized trees\n",
        "\n",
        "* `sklearn.ensemble` 모듈에는 무작위 결정 트리를 기반으로하는 두 개의 평균화 알고리즘이 존재\n",
        "  * Random Forest\n",
        "  * Extra-Trees\n",
        "* 모델 구성에 임의성을 추가해 다양한 모델 집합이 생성\n",
        "* 앙상블 모델의 예측은 각 모델의 평균"
      ]
    },
    {
      "cell_type": "code",
      "metadata": {
        "id": "9dLhSVb7CMIV"
      },
      "source": [
        "from sklearn.ensemble import RandomForestClassifier, ExtraTreesClassifier\n",
        "from sklearn.ensemble import RandomForestRegressor, ExtraTreesRegressor"
      ],
      "execution_count": 53,
      "outputs": []
    },
    {
      "cell_type": "markdown",
      "metadata": {
        "id": "oDLPV0rHk_kG"
      },
      "source": [
        "### Random Forests 분류"
      ]
    },
    {
      "cell_type": "code",
      "metadata": {
        "id": "rpQvJshtlc-r"
      },
      "source": [
        "model = make_pipeline(\n",
        "    StandardScaler(),\n",
        "    RandomForestClassifier()\n",
        ")"
      ],
      "execution_count": 57,
      "outputs": []
    },
    {
      "cell_type": "code",
      "metadata": {
        "id": "Vtf-Qegjlsz6",
        "colab": {
          "base_uri": "https://localhost:8080/"
        },
        "outputId": "f3d28c82-d4a5-4d3d-deea-ff3430eb5f60"
      },
      "source": [
        "cross_val = cross_validate(\n",
        "    estimator = model,\n",
        "    X =iris.data, y = iris.target,\n",
        "    cv =5, n_jobs=-1, verbose=False\n",
        ")\n",
        "\n",
        "print(\"avg fit time :\", cross_val[\"fit_time\"].mean())\n",
        "print(\"avg score time :\", cross_val[\"score_time\"].mean())\n",
        "print(\"avg test score :\", cross_val[\"test_score\"].mean())"
      ],
      "execution_count": 68,
      "outputs": [
        {
          "output_type": "stream",
          "text": [
            "avg fit time : 0.11230559349060058\n",
            "avg score time : 0.010661935806274414\n",
            "avg test score : 0.9533333333333334\n"
          ],
          "name": "stdout"
        }
      ]
    },
    {
      "cell_type": "code",
      "metadata": {
        "id": "Zb64WqN6_QGS",
        "colab": {
          "base_uri": "https://localhost:8080/"
        },
        "outputId": "f9e46313-2ea3-4faf-f7c2-35d16f06a8ad"
      },
      "source": [
        "cross_val = cross_validate(\n",
        "    estimator = model,\n",
        "    X =wine.data, y = wine.target,\n",
        "    cv =5, n_jobs=-1, verbose=False\n",
        ")\n",
        "\n",
        "print(\"avg fit time :\", cross_val[\"fit_time\"].mean())\n",
        "print(\"avg score time :\", cross_val[\"score_time\"].mean())\n",
        "print(\"avg test score :\", cross_val[\"test_score\"].mean())"
      ],
      "execution_count": 60,
      "outputs": [
        {
          "output_type": "stream",
          "text": [
            "avg fit time : 0.1590709686279297\n",
            "avg score time : 0.010297012329101563\n",
            "avg test score : 0.9722222222222221\n"
          ],
          "name": "stdout"
        }
      ]
    },
    {
      "cell_type": "code",
      "metadata": {
        "id": "0bMs-TucC1CH",
        "colab": {
          "base_uri": "https://localhost:8080/"
        },
        "outputId": "9aa8b963-764c-40ca-d2e1-44c6d45bddf1"
      },
      "source": [
        "cross_val = cross_validate(\n",
        "    estimator = model,\n",
        "    X =cancer.data, y = cancer.target,\n",
        "    cv =5, n_jobs=-1, verbose=False\n",
        ")\n",
        "\n",
        "print(\"avg fit time :\", cross_val[\"fit_time\"].mean())\n",
        "print(\"avg score time :\", cross_val[\"score_time\"].mean())\n",
        "print(\"avg test score :\", cross_val[\"test_score\"].mean())"
      ],
      "execution_count": 61,
      "outputs": [
        {
          "output_type": "stream",
          "text": [
            "avg fit time : 0.22337846755981444\n",
            "avg score time : 0.010760831832885741\n",
            "avg test score : 0.9631113181183046\n"
          ],
          "name": "stdout"
        }
      ]
    },
    {
      "cell_type": "markdown",
      "metadata": {
        "id": "a3earvlLl2RE"
      },
      "source": [
        "### Random Forests 회귀"
      ]
    },
    {
      "cell_type": "code",
      "metadata": {
        "id": "KGx4DhJlmNpP"
      },
      "source": [
        "model = make_pipeline(\n",
        "    StandardScaler(),\n",
        "    RandomForestRegressor()\n",
        ")"
      ],
      "execution_count": 63,
      "outputs": []
    },
    {
      "cell_type": "code",
      "metadata": {
        "id": "1Jb0M9T9mQ6a",
        "colab": {
          "base_uri": "https://localhost:8080/"
        },
        "outputId": "8ac7f1e2-43e4-48ca-c622-856121e234b0"
      },
      "source": [
        "cross_val = cross_validate(\n",
        "    estimator = model,\n",
        "    X =boston.data, y = boston.target,\n",
        "    cv =5, n_jobs=-1, verbose=False\n",
        ")\n",
        "\n",
        "print(\"avg fit time :\", cross_val[\"fit_time\"].mean())\n",
        "print(\"avg score time :\", cross_val[\"score_time\"].mean())\n",
        "print(\"avg test score :\", cross_val[\"test_score\"].mean())"
      ],
      "execution_count": 64,
      "outputs": [
        {
          "output_type": "stream",
          "text": [
            "avg fit time : 0.33797192573547363\n",
            "avg score time : 0.009491157531738282\n",
            "avg test score : 0.612025923707346\n"
          ],
          "name": "stdout"
        }
      ]
    },
    {
      "cell_type": "code",
      "metadata": {
        "id": "cfhpqlGdDLGP",
        "colab": {
          "base_uri": "https://localhost:8080/"
        },
        "outputId": "45f7d1f4-482f-49c8-cb62-837abdc94973"
      },
      "source": [
        "cross_val = cross_validate(\n",
        "    estimator = model,\n",
        "    X =diabetes.data, y = diabetes.target,\n",
        "    cv =5, n_jobs=-1, verbose=False\n",
        ")\n",
        "\n",
        "print(\"avg fit time :\", cross_val[\"fit_time\"].mean())\n",
        "print(\"avg score time :\", cross_val[\"score_time\"].mean())\n",
        "print(\"avg test score :\", cross_val[\"test_score\"].mean())"
      ],
      "execution_count": 65,
      "outputs": [
        {
          "output_type": "stream",
          "text": [
            "avg fit time : 0.2823489189147949\n",
            "avg score time : 0.009240341186523438\n",
            "avg test score : 0.4200046773863654\n"
          ],
          "name": "stdout"
        }
      ]
    },
    {
      "cell_type": "markdown",
      "metadata": {
        "id": "EBHcDHNvmot4"
      },
      "source": [
        "### Extremely Randomized Trees 분류"
      ]
    },
    {
      "cell_type": "code",
      "metadata": {
        "id": "B_ujy6vHm7H4"
      },
      "source": [
        "model = make_pipeline(\n",
        "    StandardScaler(),\n",
        "    ExtraTreesClassifier()\n",
        ")"
      ],
      "execution_count": 69,
      "outputs": []
    },
    {
      "cell_type": "code",
      "metadata": {
        "id": "pkzBXVMem_bM",
        "colab": {
          "base_uri": "https://localhost:8080/"
        },
        "outputId": "c619e069-cf60-4966-cdb7-b5614c8e2f48"
      },
      "source": [
        "cross_val = cross_validate(\n",
        "    estimator = model,\n",
        "    X =iris.data, y = iris.target,\n",
        "    cv =5, n_jobs=-1, verbose=False\n",
        ")\n",
        "\n",
        "print(\"avg fit time :\", cross_val[\"fit_time\"].mean())\n",
        "print(\"avg score time :\", cross_val[\"score_time\"].mean())\n",
        "print(\"avg test score :\", cross_val[\"test_score\"].mean())"
      ],
      "execution_count": 70,
      "outputs": [
        {
          "output_type": "stream",
          "text": [
            "avg fit time : 0.10996417999267578\n",
            "avg score time : 0.011180877685546875\n",
            "avg test score : 0.9533333333333334\n"
          ],
          "name": "stdout"
        }
      ]
    },
    {
      "cell_type": "code",
      "metadata": {
        "id": "iV9QX51m_Re6",
        "colab": {
          "base_uri": "https://localhost:8080/"
        },
        "outputId": "cd10121f-a85b-43ba-981a-302d61a93d13"
      },
      "source": [
        "cross_val = cross_validate(\n",
        "    estimator = model,\n",
        "    X =wine.data, y = wine.target,\n",
        "    cv =5, n_jobs=-1, verbose=False\n",
        ")\n",
        "\n",
        "print(\"avg fit time :\", cross_val[\"fit_time\"].mean())\n",
        "print(\"avg score time :\", cross_val[\"score_time\"].mean())\n",
        "print(\"avg test score :\", cross_val[\"test_score\"].mean())"
      ],
      "execution_count": 71,
      "outputs": [
        {
          "output_type": "stream",
          "text": [
            "avg fit time : 0.11526150703430176\n",
            "avg score time : 0.010832834243774413\n",
            "avg test score : 0.9888888888888889\n"
          ],
          "name": "stdout"
        }
      ]
    },
    {
      "cell_type": "code",
      "metadata": {
        "id": "qH_ZkUvlDbs2",
        "colab": {
          "base_uri": "https://localhost:8080/"
        },
        "outputId": "45c5ad52-a2f0-483a-889a-4cbaf5b1bd14"
      },
      "source": [
        "cross_val = cross_validate(\n",
        "    estimator = model,\n",
        "    X =cancer.data, y = cancer.target,\n",
        "    cv =5, n_jobs=-1, verbose=False\n",
        ")\n",
        "\n",
        "print(\"avg fit time :\", cross_val[\"fit_time\"].mean())\n",
        "print(\"avg score time :\", cross_val[\"score_time\"].mean())\n",
        "print(\"avg test score :\", cross_val[\"test_score\"].mean())"
      ],
      "execution_count": 72,
      "outputs": [
        {
          "output_type": "stream",
          "text": [
            "avg fit time : 0.13104147911071778\n",
            "avg score time : 0.012049722671508788\n",
            "avg test score : 0.9631268436578171\n"
          ],
          "name": "stdout"
        }
      ]
    },
    {
      "cell_type": "markdown",
      "metadata": {
        "id": "JspHMW4YnDON"
      },
      "source": [
        "### Extremely Randomized Trees 회귀"
      ]
    },
    {
      "cell_type": "code",
      "metadata": {
        "id": "6_dqUbdCnRbP"
      },
      "source": [
        "model = make_pipeline(\n",
        "    StandardScaler(),\n",
        "    ExtraTreesRegressor()\n",
        ")"
      ],
      "execution_count": 73,
      "outputs": []
    },
    {
      "cell_type": "code",
      "metadata": {
        "id": "SHfpp5NBnVDU",
        "colab": {
          "base_uri": "https://localhost:8080/"
        },
        "outputId": "9db8c356-3996-4166-c2c8-1bdc3693bdf7"
      },
      "source": [
        "cross_val = cross_validate(\n",
        "    estimator = model,\n",
        "    X =boston.data, y = boston.target,\n",
        "    cv =5, n_jobs=-1, verbose=False\n",
        ")\n",
        "\n",
        "print(\"avg fit time :\", cross_val[\"fit_time\"].mean())\n",
        "print(\"avg score time :\", cross_val[\"score_time\"].mean())\n",
        "print(\"avg test score :\", cross_val[\"test_score\"].mean())"
      ],
      "execution_count": 74,
      "outputs": [
        {
          "output_type": "stream",
          "text": [
            "avg fit time : 0.19987716674804687\n",
            "avg score time : 0.010106134414672851\n",
            "avg test score : 0.6373928437500431\n"
          ],
          "name": "stdout"
        }
      ]
    },
    {
      "cell_type": "code",
      "metadata": {
        "id": "2CuQvitCDv77",
        "colab": {
          "base_uri": "https://localhost:8080/"
        },
        "outputId": "f52fc870-9508-4231-8b22-ce9b96e9af9c"
      },
      "source": [
        "cross_val = cross_validate(\n",
        "    estimator = model,\n",
        "    X =diabetes.data, y = diabetes.target,\n",
        "    cv =5, n_jobs=-1, verbose=False\n",
        ")\n",
        "\n",
        "print(\"avg fit time :\", cross_val[\"fit_time\"].mean())\n",
        "print(\"avg score time :\", cross_val[\"score_time\"].mean())\n",
        "print(\"avg test score :\", cross_val[\"test_score\"].mean())"
      ],
      "execution_count": 75,
      "outputs": [
        {
          "output_type": "stream",
          "text": [
            "avg fit time : 0.17924270629882813\n",
            "avg score time : 0.009954595565795898\n",
            "avg test score : 0.43480735829367473\n"
          ],
          "name": "stdout"
        }
      ]
    },
    {
      "cell_type": "markdown",
      "metadata": {
        "id": "L4_4LPoirXV2"
      },
      "source": [
        "### Random Forest, Extra Tree 시각화\n",
        "\n",
        "* 결정 트리, Random Forest, Extra Tree의 결정 경계와 회귀식 시각화"
      ]
    },
    {
      "cell_type": "code",
      "metadata": {
        "id": "RH-wTt7PzpB_"
      },
      "source": [
        ""
      ],
      "execution_count": null,
      "outputs": []
    },
    {
      "cell_type": "code",
      "metadata": {
        "id": "J-rQtFGZz3r7"
      },
      "source": [
        ""
      ],
      "execution_count": null,
      "outputs": []
    },
    {
      "cell_type": "code",
      "metadata": {
        "id": "V7F-qnp60DO1"
      },
      "source": [
        ""
      ],
      "execution_count": null,
      "outputs": []
    },
    {
      "cell_type": "code",
      "metadata": {
        "id": "frixj9rPnW5w"
      },
      "source": [
        ""
      ],
      "execution_count": null,
      "outputs": []
    },
    {
      "cell_type": "code",
      "metadata": {
        "id": "8nqpZSlUEf9P"
      },
      "source": [
        ""
      ],
      "execution_count": null,
      "outputs": []
    },
    {
      "cell_type": "code",
      "metadata": {
        "id": "LN5ECiI5EQmZ"
      },
      "source": [
        ""
      ],
      "execution_count": null,
      "outputs": []
    },
    {
      "cell_type": "markdown",
      "metadata": {
        "id": "KBBCR19i3JNP"
      },
      "source": [
        "## AdaBoost\n",
        "\n",
        "* 대표적인 부스팅 알고리즘\n",
        "* 일련의 약한 모델들을 학습\n",
        "* 수정된 버전의 데이터를 반복 학습 (가중치가 적용된)\n",
        "* 가중치 투표(또는 합)을 통해 각 모델의 예측 값을 결합\n",
        "* 첫 단계에서는 원본 데이터를 학습하고 연속적인 반복마다 개별 샘플에 대한 가중치가 수정되고 다시 모델이 학습\n",
        "  * 잘못 예측된 샘플은 가중치 증가, 올바르게 예측된 샘플은 가중치 감소\n",
        "  * 각각의 약한 모델들은 예측하기 어려운 샘플에 집중하게 됨\n",
        "\n",
        "![AdaBoost](https://scikit-learn.org/stable/_images/sphx_glr_plot_adaboost_hastie_10_2_0011.png)"
      ]
    },
    {
      "cell_type": "code",
      "metadata": {
        "id": "5QjTkuxWrm2a"
      },
      "source": [
        "from sklearn.ensemble import AdaBoostClassifier\n",
        "from sklearn.ensemble import AdaBoostRegressor"
      ],
      "execution_count": 76,
      "outputs": []
    },
    {
      "cell_type": "markdown",
      "metadata": {
        "id": "Za_gsbAZ6o5j"
      },
      "source": [
        "### AdaBoost 분류"
      ]
    },
    {
      "cell_type": "code",
      "metadata": {
        "id": "4RHbd5Xs6K49"
      },
      "source": [
        "model = make_pipeline(\n",
        "  StandardScaler(), \n",
        "  AdaBoostClassifier()\n",
        ")"
      ],
      "execution_count": 77,
      "outputs": []
    },
    {
      "cell_type": "code",
      "metadata": {
        "id": "SQ0bYdUqHt23"
      },
      "source": [
        "cross_val = cross_validate(\n",
        "    estimator =model,\n",
        "    X=iris.data, y=iris.target, cv=5, verbose=False, n_jobs=-1\n",
        ")\n",
        "\n",
        "print(\"avg fit time :\", cross_val[\"fit_time\"].mean())\n",
        "print(\"avg score time :\", cross_val[\"score_time\"].mean())\n",
        "print(\"avg test score :\", cross_val[\"test_score\"].mean())"
      ],
      "execution_count": 78,
      "outputs": []
    },
    {
      "cell_type": "code",
      "metadata": {
        "id": "_7NzxxKr_UBY",
        "colab": {
          "base_uri": "https://localhost:8080/"
        },
        "outputId": "c08a77e7-77f9-4895-afa4-267ee41ed67f"
      },
      "source": [
        "cross_val = cross_validate(\n",
        "    estimator =model,\n",
        "    X=wine.data, y=wine.target, cv=5, verbose=False, n_jobs=-1\n",
        ")\n",
        "\n",
        "print(\"avg fit time :\", cross_val[\"fit_time\"].mean())\n",
        "print(\"avg score time :\", cross_val[\"score_time\"].mean())\n",
        "print(\"avg test score :\", cross_val[\"test_score\"].mean())"
      ],
      "execution_count": 80,
      "outputs": [
        {
          "output_type": "stream",
          "text": [
            "avg fit time : 0.08787250518798828\n",
            "avg score time : 0.008778047561645509\n",
            "avg test score : 0.8085714285714285\n"
          ],
          "name": "stdout"
        }
      ]
    },
    {
      "cell_type": "code",
      "metadata": {
        "id": "yk2jId1LH6Xl",
        "colab": {
          "base_uri": "https://localhost:8080/"
        },
        "outputId": "aa7a8711-8532-467d-ea23-248e1d0fe866"
      },
      "source": [
        "cross_val = cross_validate(\n",
        "    estimator =model,\n",
        "    X=cancer.data, y=cancer.target, cv=5, verbose=False, n_jobs=-1\n",
        ")\n",
        "\n",
        "print(\"avg fit time :\", cross_val[\"fit_time\"].mean())\n",
        "print(\"avg score time :\", cross_val[\"score_time\"].mean())\n",
        "print(\"avg test score :\", cross_val[\"test_score\"].mean())"
      ],
      "execution_count": 79,
      "outputs": [
        {
          "output_type": "stream",
          "text": [
            "avg fit time : 0.154426908493042\n",
            "avg score time : 0.009656143188476563\n",
            "avg test score : 0.9718677224033534\n"
          ],
          "name": "stdout"
        }
      ]
    },
    {
      "cell_type": "markdown",
      "metadata": {
        "id": "NFx-ob7q6zK1"
      },
      "source": [
        "### AdaBoost 회귀"
      ]
    },
    {
      "cell_type": "code",
      "metadata": {
        "id": "xd3DBHFi68tC"
      },
      "source": [
        "model = make_pipeline(\n",
        "  StandardScaler(), \n",
        "  AdaBoostRegressor()\n",
        ")"
      ],
      "execution_count": 81,
      "outputs": []
    },
    {
      "cell_type": "code",
      "metadata": {
        "id": "W45kcSVKIJnq",
        "colab": {
          "base_uri": "https://localhost:8080/"
        },
        "outputId": "906c6726-0095-4fc0-ab77-8e58b3bc64f2"
      },
      "source": [
        "cross_val = cross_validate(\n",
        "    estimator =model,\n",
        "    X=boston.data, y=boston.target, cv=5, verbose=False, n_jobs=-1\n",
        ")\n",
        "\n",
        "print(\"avg fit time :\", cross_val[\"fit_time\"].mean())\n",
        "print(\"avg score time :\", cross_val[\"score_time\"].mean())\n",
        "print(\"avg test score :\", cross_val[\"test_score\"].mean())"
      ],
      "execution_count": 82,
      "outputs": [
        {
          "output_type": "stream",
          "text": [
            "avg fit time : 0.09816575050354004\n",
            "avg score time : 0.00463571548461914\n",
            "avg test score : 0.5828989442274427\n"
          ],
          "name": "stdout"
        }
      ]
    },
    {
      "cell_type": "code",
      "metadata": {
        "id": "ka-BHFVWIMnQ",
        "colab": {
          "base_uri": "https://localhost:8080/"
        },
        "outputId": "52001cbf-e74f-4629-f387-21fb1d1748a8"
      },
      "source": [
        "cross_val = cross_validate(\n",
        "    estimator =model,\n",
        "    X=diabetes.data, y=diabetes.target, cv=5, verbose=False, n_jobs=-1\n",
        ")\n",
        "\n",
        "print(\"avg fit time :\", cross_val[\"fit_time\"].mean())\n",
        "print(\"avg score time :\", cross_val[\"score_time\"].mean())\n",
        "print(\"avg test score :\", cross_val[\"test_score\"].mean())"
      ],
      "execution_count": 83,
      "outputs": [
        {
          "output_type": "stream",
          "text": [
            "avg fit time : 0.0701606273651123\n",
            "avg score time : 0.00460968017578125\n",
            "avg test score : 0.4352393937426764\n"
          ],
          "name": "stdout"
        }
      ]
    },
    {
      "cell_type": "markdown",
      "metadata": {
        "id": "YeG2y1JB7T6z"
      },
      "source": [
        "## Gradient Tree Boosting\n",
        "\n",
        "* 임의의 차별화 가능한 손실함수로 일반화한 부스팅 알고리즘\n",
        "* 웹 검색, 분류 및 회귀 등 다양한 분야에서 모두 사용 가능"
      ]
    },
    {
      "cell_type": "code",
      "metadata": {
        "id": "0K_scQYk7DRm"
      },
      "source": [
        "from sklearn.ensemble import GradientBoostingClassifier\n",
        "from sklearn.ensemble import GradientBoostingRegressor"
      ],
      "execution_count": 86,
      "outputs": []
    },
    {
      "cell_type": "markdown",
      "metadata": {
        "id": "UnXayCIq-ANR"
      },
      "source": [
        "### Gradient Tree Boosting 분류"
      ]
    },
    {
      "cell_type": "code",
      "metadata": {
        "id": "US57OYu39_IS"
      },
      "source": [
        "model = make_pipeline(\n",
        "  StandardScaler(), \n",
        "  GradientBoostingClassifier()\n",
        ")"
      ],
      "execution_count": 87,
      "outputs": []
    },
    {
      "cell_type": "code",
      "metadata": {
        "id": "i5m3pir6Ia02",
        "colab": {
          "base_uri": "https://localhost:8080/"
        },
        "outputId": "9c6a07d5-b01a-4be8-fcc7-999eb7690c48"
      },
      "source": [
        "cross_val = cross_validate(\n",
        "    estimator =model,\n",
        "    X=wine.data, y=wine.target, cv=5, verbose=False, n_jobs=-1\n",
        ")\n",
        "\n",
        "print(\"avg fit time :\", cross_val[\"fit_time\"].mean())\n",
        "print(\"avg score time :\", cross_val[\"score_time\"].mean())\n",
        "print(\"avg test score :\", cross_val[\"test_score\"].mean())"
      ],
      "execution_count": 88,
      "outputs": [
        {
          "output_type": "stream",
          "text": [
            "avg fit time : 0.2529268264770508\n",
            "avg score time : 0.0009803295135498047\n",
            "avg test score : 0.9385714285714286\n"
          ],
          "name": "stdout"
        }
      ]
    },
    {
      "cell_type": "code",
      "metadata": {
        "id": "MmkKzQKU_WHg",
        "colab": {
          "base_uri": "https://localhost:8080/"
        },
        "outputId": "2cb520f1-94f7-4990-94e7-b7152405523b"
      },
      "source": [
        "cross_val = cross_validate(\n",
        "    estimator =model,\n",
        "    X=iris.data, y=iris.target, cv=5, verbose=False, n_jobs=-1\n",
        ")\n",
        "\n",
        "print(\"avg fit time :\", cross_val[\"fit_time\"].mean())\n",
        "print(\"avg score time :\", cross_val[\"score_time\"].mean())\n",
        "print(\"avg test score :\", cross_val[\"test_score\"].mean())"
      ],
      "execution_count": 89,
      "outputs": [
        {
          "output_type": "stream",
          "text": [
            "avg fit time : 0.21070528030395508\n",
            "avg score time : 0.00093994140625\n",
            "avg test score : 0.9666666666666668\n"
          ],
          "name": "stdout"
        }
      ]
    },
    {
      "cell_type": "code",
      "metadata": {
        "id": "VBitsXUmIe9B",
        "colab": {
          "base_uri": "https://localhost:8080/"
        },
        "outputId": "36c54c97-2030-4370-8217-cb2e3bf48765"
      },
      "source": [
        "cross_val = cross_validate(\n",
        "    estimator =model,\n",
        "    X=cancer.data, y=cancer.target, cv=5, verbose=False, n_jobs=-1\n",
        ")\n",
        "\n",
        "print(\"avg fit time :\", cross_val[\"fit_time\"].mean())\n",
        "print(\"avg score time :\", cross_val[\"score_time\"].mean())\n",
        "print(\"avg test score :\", cross_val[\"test_score\"].mean())"
      ],
      "execution_count": 90,
      "outputs": [
        {
          "output_type": "stream",
          "text": [
            "avg fit time : 0.45519351959228516\n",
            "avg score time : 0.0008756637573242188\n",
            "avg test score : 0.9648812296227295\n"
          ],
          "name": "stdout"
        }
      ]
    },
    {
      "cell_type": "markdown",
      "metadata": {
        "id": "-DeP90dJ-Sy2"
      },
      "source": [
        "### Gradient Tree Boosting 회귀"
      ]
    },
    {
      "cell_type": "code",
      "metadata": {
        "id": "Cy3cq6VL-Q1v"
      },
      "source": [
        "model = make_pipeline(\n",
        "  StandardScaler(), \n",
        "  GradientBoostingRegressor()\n",
        ")"
      ],
      "execution_count": 92,
      "outputs": []
    },
    {
      "cell_type": "code",
      "metadata": {
        "id": "ZYw5ymXCIowr",
        "colab": {
          "base_uri": "https://localhost:8080/"
        },
        "outputId": "1c2a5155-4881-439e-935d-ac1a436af9c9"
      },
      "source": [
        "cross_val = cross_validate(\n",
        "    estimator =model,\n",
        "    X=boston.data, y=boston.target, cv=5, verbose=False, n_jobs=-1\n",
        ")\n",
        "\n",
        "print(\"avg fit time :\", cross_val[\"fit_time\"].mean())\n",
        "print(\"avg score time :\", cross_val[\"score_time\"].mean())\n",
        "print(\"avg test score :\", cross_val[\"test_score\"].mean())"
      ],
      "execution_count": 93,
      "outputs": [
        {
          "output_type": "stream",
          "text": [
            "avg fit time : 0.12517137527465821\n",
            "avg score time : 0.0009468555450439453\n",
            "avg test score : 0.6796360919394389\n"
          ],
          "name": "stdout"
        }
      ]
    },
    {
      "cell_type": "code",
      "metadata": {
        "id": "S6gdorDUIsYv",
        "colab": {
          "base_uri": "https://localhost:8080/"
        },
        "outputId": "925df5a9-c8c5-488a-a0bf-867d02342daf"
      },
      "source": [
        "cross_val = cross_validate(\n",
        "    estimator =model,\n",
        "    X=diabetes.data, y=diabetes.target, cv=5, verbose=False, n_jobs=-1\n",
        ")\n",
        "\n",
        "print(\"avg fit time :\", cross_val[\"fit_time\"].mean())\n",
        "print(\"avg score time :\", cross_val[\"score_time\"].mean())\n",
        "print(\"avg test score :\", cross_val[\"test_score\"].mean())"
      ],
      "execution_count": 94,
      "outputs": [
        {
          "output_type": "stream",
          "text": [
            "avg fit time : 0.09932255744934082\n",
            "avg score time : 0.001022005081176758\n",
            "avg test score : 0.4088786415316532\n"
          ],
          "name": "stdout"
        }
      ]
    },
    {
      "cell_type": "markdown",
      "metadata": {
        "id": "u7RRhGKEBVdq"
      },
      "source": [
        "## 투표 기반 분류 (Voting Classifier)\n",
        "\n",
        "* 서로 다른 모델들의 결과를 투표를 통해 결합\n",
        "* 두가지 방법으로 투표 가능\n",
        "  * 가장 많이 예측된 클래스를 정답으로 채택 (hard voting)\n",
        "  * 예측된 확률의 가중치 평균 (soft voting)"
      ]
    },
    {
      "cell_type": "code",
      "metadata": {
        "id": "a5eAt-Yy-iBz"
      },
      "source": [
        "from sklearn.ensemble import RandomForestClassifier, VotingClassifier\n",
        "from sklearn.svm import SVC\n",
        "from sklearn.naive_bayes import GaussianNB\n",
        "from sklearn.model_selection import cross_val_score"
      ],
      "execution_count": 96,
      "outputs": []
    },
    {
      "cell_type": "code",
      "metadata": {
        "id": "toBoZ5I_EEy3"
      },
      "source": [
        "model1 = SVC()\n",
        "model2 = GaussianNB()\n",
        "model3 = RandomForestClassifier()\n",
        "vot_model = VotingClassifier(\n",
        "  estimators = [(\"svc\", model1), (\"naive\", model2), (\"forest\", model3)],\n",
        "  voting = \"hard\"\n",
        ")"
      ],
      "execution_count": 99,
      "outputs": []
    },
    {
      "cell_type": "code",
      "metadata": {
        "id": "jvwefdFDEYvz",
        "colab": {
          "base_uri": "https://localhost:8080/"
        },
        "outputId": "585a58d6-c016-48da-8fc5-5ed70545fee6"
      },
      "source": [
        "for model in [model1, model2, model3, vot_model]:\n",
        "  model_name = str(type(model)).split(\".\")[-1][:-2]\n",
        "  score = cross_val_score(model, iris.data, iris.target, cv=5, n_jobs=-1)\n",
        "  print(\"Accuracy : \", score.mean().round(2), f\"[{model_name}]\" )"
      ],
      "execution_count": 114,
      "outputs": [
        {
          "output_type": "stream",
          "text": [
            "Accuracy :  0.97 [SVC]\n",
            "Accuracy :  0.95 [GaussianNB]\n",
            "Accuracy :  0.97 [RandomForestClassifier]\n",
            "Accuracy :  0.96 [VotingClassifier]\n"
          ],
          "name": "stdout"
        }
      ]
    },
    {
      "cell_type": "code",
      "metadata": {
        "id": "YNhj3WNzFCAb"
      },
      "source": [
        "model1 = SVC(probability=True)\n",
        "model2 = GaussianNB()\n",
        "model3 = RandomForestClassifier()\n",
        "vot_model = VotingClassifier(\n",
        "  estimators = [(\"svc\", model1), (\"naive\", model2), (\"forest\", model3)],\n",
        "  voting = \"soft\",\n",
        "  weights=[2,1,2])"
      ],
      "execution_count": 115,
      "outputs": []
    },
    {
      "cell_type": "code",
      "metadata": {
        "id": "g89TYHdZOKL8",
        "colab": {
          "base_uri": "https://localhost:8080/"
        },
        "outputId": "6d765f58-c97b-43e3-b01f-35c3f2eed5fe"
      },
      "source": [
        "for model in (model1, model2, model3, vot_model):\n",
        "  model_name = str(type(model)).split(\".\")[-1][:-2]\n",
        "  score = cross_val_score(model, iris.data, iris.target, cv=5, n_jobs=-1)\n",
        "  print(\"Accuracy : \", score.mean().round(2), f\"[{model_name}]\" )"
      ],
      "execution_count": 116,
      "outputs": [
        {
          "output_type": "stream",
          "text": [
            "Accuracy :  0.97 [SVC]\n",
            "Accuracy :  0.95 [GaussianNB]\n",
            "Accuracy :  0.96 [RandomForestClassifier]\n",
            "Accuracy :  0.96 [VotingClassifier]\n"
          ],
          "name": "stdout"
        }
      ]
    },
    {
      "cell_type": "markdown",
      "metadata": {
        "id": "cjNwB2zaPItX"
      },
      "source": [
        "### 결정 경계 시각화"
      ]
    },
    {
      "cell_type": "code",
      "metadata": {
        "id": "nn8lgvWYPner"
      },
      "source": [
        ""
      ],
      "execution_count": null,
      "outputs": []
    },
    {
      "cell_type": "code",
      "metadata": {
        "id": "SB_Bx4hKPs9-"
      },
      "source": [
        ""
      ],
      "execution_count": null,
      "outputs": []
    },
    {
      "cell_type": "code",
      "metadata": {
        "id": "FEpQ0g-0Pwn8"
      },
      "source": [
        ""
      ],
      "execution_count": null,
      "outputs": []
    },
    {
      "cell_type": "code",
      "metadata": {
        "id": "z1o_9XWKQthC"
      },
      "source": [
        ""
      ],
      "execution_count": null,
      "outputs": []
    },
    {
      "cell_type": "code",
      "metadata": {
        "id": "umDuzyVDOML5"
      },
      "source": [
        ""
      ],
      "execution_count": null,
      "outputs": []
    },
    {
      "cell_type": "markdown",
      "metadata": {
        "id": "0m5WCAyLSOdK"
      },
      "source": [
        "## 투표 기반 회귀 (Voting Regressor)\n",
        "\n",
        "* 서로 다른 모델의 예측 값의 평균을 사용"
      ]
    },
    {
      "cell_type": "code",
      "metadata": {
        "id": "uMQxrXDAPNuf"
      },
      "source": [
        "from sklearn.linear_model import LinearRegression\n",
        "from sklearn.ensemble import GradientBoostingRegressor, RandomForestRegressor, VotingRegressor"
      ],
      "execution_count": 118,
      "outputs": []
    },
    {
      "cell_type": "code",
      "metadata": {
        "id": "eKyebVgqUHdN"
      },
      "source": [
        "model1 = GradientBoostingRegressor()\n",
        "model2 = RandomForestRegressor()\n",
        "model3 = LinearRegression()\n",
        "vot_model = VotingRegressor(\n",
        "  estimators = [(\"gbr\", model1), (\"rfr\", model2), (\"lr\", model3)],\n",
        "  weights=[1,1,1]\n",
        ")"
      ],
      "execution_count": 123,
      "outputs": []
    },
    {
      "cell_type": "code",
      "metadata": {
        "id": "aYMKZc96UGoA",
        "colab": {
          "base_uri": "https://localhost:8080/"
        },
        "outputId": "69d2057a-8e0e-4d47-cda1-d38c5416e957"
      },
      "source": [
        "for model in [model1, model2, model3, vot_model]:\n",
        "  model_name = str(type(model)).split(\".\")[-1][:-2]\n",
        "  score = cross_val_score(model, boston.data, boston.target, cv=5, n_jobs=-1)\n",
        "  print(\"Accuracy : \", score.mean().round(2), f\"[{model_name}]\" )"
      ],
      "execution_count": 124,
      "outputs": [
        {
          "output_type": "stream",
          "text": [
            "Accuracy :  0.68 [GradientBoostingRegressor]\n",
            "Accuracy :  0.63 [RandomForestRegressor]\n",
            "Accuracy :  0.35 [LinearRegression]\n",
            "Accuracy :  0.66 [VotingRegressor]\n"
          ],
          "name": "stdout"
        }
      ]
    },
    {
      "cell_type": "markdown",
      "metadata": {
        "id": "ArvS3YLlMgvM"
      },
      "source": [
        "### 회귀식 시각화"
      ]
    },
    {
      "cell_type": "code",
      "metadata": {
        "id": "NDby8qq_NpI6"
      },
      "source": [
        ""
      ],
      "execution_count": null,
      "outputs": []
    },
    {
      "cell_type": "code",
      "metadata": {
        "id": "afUEA95cMfik"
      },
      "source": [
        ""
      ],
      "execution_count": null,
      "outputs": []
    },
    {
      "cell_type": "code",
      "metadata": {
        "id": "jsy4R-0PMwER"
      },
      "source": [
        ""
      ],
      "execution_count": null,
      "outputs": []
    },
    {
      "cell_type": "code",
      "metadata": {
        "id": "TjgHFKa8M8O9"
      },
      "source": [
        ""
      ],
      "execution_count": null,
      "outputs": []
    },
    {
      "cell_type": "markdown",
      "metadata": {
        "id": "kWWPpi2hVaGe"
      },
      "source": [
        "## 스택 일반화 (Stacked Generalization)\n",
        "\n",
        "* 각 모델의 예측 값을 최종 모델의 입력으로 사용\n",
        "* 모델의 편향을 줄이는데 효과적"
      ]
    },
    {
      "cell_type": "markdown",
      "metadata": {
        "id": "EfJBCBFSXaa3"
      },
      "source": [
        "### 스택 회귀"
      ]
    },
    {
      "cell_type": "code",
      "metadata": {
        "id": "Ai4cpbSpUanA"
      },
      "source": [
        "from sklearn.linear_model import Ridge, Lasso\n",
        "from sklearn.svm import SVR\n",
        "from sklearn.ensemble import GradientBoostingRegressor\n",
        "from sklearn.ensemble import StackingRegressor"
      ],
      "execution_count": 125,
      "outputs": []
    },
    {
      "cell_type": "code",
      "metadata": {
        "id": "22wwT8jDXf6D"
      },
      "source": [
        "estimators = [(\"ridge\", Ridge()),\n",
        "              (\"lasso\", Lasso()),\n",
        "              (\"svr\", SVR())] "
      ],
      "execution_count": 127,
      "outputs": []
    },
    {
      "cell_type": "code",
      "metadata": {
        "id": "GcWHiyQ7YAsh"
      },
      "source": [
        "model = make_pipeline(\n",
        "    StandardScaler(), \n",
        "    StackingRegressor(\n",
        "        estimators=estimators,\n",
        "        final_estimator = GradientBoostingRegressor()\n",
        "    )\n",
        ")"
      ],
      "execution_count": 128,
      "outputs": []
    },
    {
      "cell_type": "code",
      "metadata": {
        "id": "IJskro0HYKOe",
        "colab": {
          "base_uri": "https://localhost:8080/"
        },
        "outputId": "732a594a-1632-4dd4-f66c-198e4afacb83"
      },
      "source": [
        "cross_val = cross_validate(\n",
        "    estimator = model,\n",
        "    X =boston.data, y=boston.target,\n",
        "    cv=5)\n",
        "\n",
        "print(\"avg fit time :\", cross_val[\"fit_time\"].mean())\n",
        "print(\"avg score time :\", cross_val[\"score_time\"].mean())\n",
        "print(\"avg test score :\", cross_val[\"test_score\"].mean())"
      ],
      "execution_count": 134,
      "outputs": [
        {
          "output_type": "stream",
          "text": [
            "avg fit time : 0.11285190582275391\n",
            "avg score time : 0.0022696971893310545\n",
            "avg test score : 0.3289690307838619\n"
          ],
          "name": "stdout"
        }
      ]
    },
    {
      "cell_type": "markdown",
      "metadata": {
        "id": "Is4akp2ePaax"
      },
      "source": [
        "#### 회귀식 시각화"
      ]
    },
    {
      "cell_type": "code",
      "metadata": {
        "id": "vzcOBF80Pd1q"
      },
      "source": [
        ""
      ],
      "execution_count": null,
      "outputs": []
    },
    {
      "cell_type": "code",
      "metadata": {
        "id": "-EjdXk9-Phm-"
      },
      "source": [
        ""
      ],
      "execution_count": null,
      "outputs": []
    },
    {
      "cell_type": "code",
      "metadata": {
        "id": "DrC6uxPsP0Ga"
      },
      "source": [
        ""
      ],
      "execution_count": null,
      "outputs": []
    },
    {
      "cell_type": "markdown",
      "metadata": {
        "id": "qcDf7iN1ZybO"
      },
      "source": [
        "### 스택 분류"
      ]
    },
    {
      "cell_type": "code",
      "metadata": {
        "id": "_5HNrFRtZxqZ"
      },
      "source": [
        "from sklearn.linear_model import LogisticRegression\n",
        "from sklearn.svm import SVC\n",
        "from sklearn.ensemble import RandomForestClassifier, StackingClassifier\n",
        "from sklearn.naive_bayes import GaussianNB"
      ],
      "execution_count": 135,
      "outputs": []
    },
    {
      "cell_type": "code",
      "metadata": {
        "id": "IZn3h6vDaJ8i"
      },
      "source": [
        "estimators = [(\"logistic\", LogisticRegression(max_iter=10000)),\n",
        "              (\"svc\", SVC()),\n",
        "              (\"naive\", GaussianNB())]"
      ],
      "execution_count": 137,
      "outputs": []
    },
    {
      "cell_type": "code",
      "metadata": {
        "id": "KTFUC1IsaarE"
      },
      "source": [
        "clf = StackingClassifier(\n",
        "    estimators = estimators,\n",
        "    final_estimator = RandomForestClassifier()\n",
        ")"
      ],
      "execution_count": 139,
      "outputs": []
    },
    {
      "cell_type": "code",
      "metadata": {
        "id": "oYhRPbcWanfY",
        "colab": {
          "base_uri": "https://localhost:8080/"
        },
        "outputId": "3f3412e0-8e81-4cf9-8a2b-73814d437046"
      },
      "source": [
        "cross_val = cross_validate(\n",
        "    estimator = clf,\n",
        "    X =iris.data, y=iris.target,\n",
        "    cv=5)\n",
        "\n",
        "print(\"avg fit time :\", cross_val[\"fit_time\"].mean())\n",
        "print(\"avg score time :\", cross_val[\"score_time\"].mean())\n",
        "print(\"avg test score :\", cross_val[\"test_score\"].mean())"
      ],
      "execution_count": 140,
      "outputs": [
        {
          "output_type": "stream",
          "text": [
            "avg fit time : 0.2572622776031494\n",
            "avg score time : 0.008333349227905273\n",
            "avg test score : 0.9733333333333334\n"
          ],
          "name": "stdout"
        }
      ]
    },
    {
      "cell_type": "markdown",
      "metadata": {
        "id": "m2NyQnIqQxg9"
      },
      "source": [
        "#### 결정 경계 시각화"
      ]
    },
    {
      "cell_type": "code",
      "metadata": {
        "id": "Ef_zvJUljAiM"
      },
      "source": [
        ""
      ],
      "execution_count": null,
      "outputs": []
    },
    {
      "cell_type": "code",
      "metadata": {
        "id": "Sktdwb4kjAic"
      },
      "source": [
        ""
      ],
      "execution_count": null,
      "outputs": []
    },
    {
      "cell_type": "code",
      "metadata": {
        "id": "3otRWNYsjAig"
      },
      "source": [
        ""
      ],
      "execution_count": null,
      "outputs": []
    },
    {
      "cell_type": "code",
      "metadata": {
        "id": "76FMoLuHjAik"
      },
      "source": [
        ""
      ],
      "execution_count": null,
      "outputs": []
    }
  ]
}