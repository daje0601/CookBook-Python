{
 "cells": [
  {
   "cell_type": "code",
   "execution_count": 1,
   "metadata": {},
   "outputs": [],
   "source": [
    "from sklearn.ensemble import RandomForestClassifier\n",
    "from sklearn.linear_model import Ridge\n",
    "from sklearn.impute import SimpleImputer \n",
    "from sklearn.pipeline import make_pipeline\n",
    "from category_encoders import OrdinalEncoder\n",
    "from sklearn.preprocessing import OneHotEncoder\n",
    "from sklearn.model_selection import cross_val_score\n",
    "from sklearn.linear_model import LogisticRegression\n",
    "from sklearn.model_selection import train_test_split\n",
    "from sklearn.feature_selection import f_regression, SelectKBest\n",
    "from sklearn.ensemble import RandomForestRegressor\n",
    "\n",
    "\n",
    "import numpy as np\n",
    "import pandas as pd\n",
    "import seaborn as sns\n",
    "import matplotlib.pyplot as plt\n",
    "\n",
    "import warnings\n",
    "warnings.simplefilter(action=\"ignore\", category=FutureWarning)"
   ]
  },
  {
   "cell_type": "code",
   "execution_count": 15,
   "metadata": {},
   "outputs": [],
   "source": [
    "target = 'vacc_h1n1_f'\n",
    "# target = 'vacc_seas_f'\n",
    "train = pd.merge(pd.read_csv('https://ds-lecture-data.s3.ap-northeast-2.amazonaws.com/vacc_flu/train.csv'), \n",
    "                 pd.read_csv('https://ds-lecture-data.s3.ap-northeast-2.amazonaws.com/vacc_flu/train_labels.csv')[target], left_index=True, right_index=True)\n",
    "test = pd.read_csv('https://ds-lecture-data.s3.ap-northeast-2.amazonaws.com/vacc_flu/test.csv')\n",
    "sample_submission = pd.read_csv('https://ds-lecture-data.s3.ap-northeast-2.amazonaws.com/vacc_flu/submission.csv')"
   ]
  },
  {
   "cell_type": "code",
   "execution_count": 16,
   "metadata": {},
   "outputs": [
    {
     "data": {
      "text/plain": [
       "((33723, 39), (8431, 39), (28104, 38))"
      ]
     },
     "execution_count": 16,
     "metadata": {},
     "output_type": "execute_result"
    }
   ],
   "source": [
    "train, val = train_test_split(train, train_size=0.80, test_size=0.20, \n",
    "                              stratify=train[target], random_state=2)\n",
    "\n",
    "\n",
    "train.shape, val.shape, test.shape"
   ]
  },
  {
   "cell_type": "code",
   "execution_count": 17,
   "metadata": {},
   "outputs": [
    {
     "name": "stderr",
     "output_type": "stream",
     "text": [
      "C:\\Users\\user\\anaconda3\\lib\\site-packages\\pandas\\core\\frame.py:4163: SettingWithCopyWarning: \n",
      "A value is trying to be set on a copy of a slice from a DataFrame\n",
      "\n",
      "See the caveats in the documentation: https://pandas.pydata.org/pandas-docs/stable/user_guide/indexing.html#returning-a-view-versus-a-copy\n",
      "  return super().drop(\n",
      "C:\\Users\\user\\anaconda3\\lib\\site-packages\\pandas\\core\\frame.py:4163: SettingWithCopyWarning: \n",
      "A value is trying to be set on a copy of a slice from a DataFrame\n",
      "\n",
      "See the caveats in the documentation: https://pandas.pydata.org/pandas-docs/stable/user_guide/indexing.html#returning-a-view-versus-a-copy\n",
      "  return super().drop(\n",
      "C:\\Users\\user\\anaconda3\\lib\\site-packages\\pandas\\core\\frame.py:4163: SettingWithCopyWarning: \n",
      "A value is trying to be set on a copy of a slice from a DataFrame\n",
      "\n",
      "See the caveats in the documentation: https://pandas.pydata.org/pandas-docs/stable/user_guide/indexing.html#returning-a-view-versus-a-copy\n",
      "  return super().drop(\n"
     ]
    }
   ],
   "source": [
    "# (참고) warning 제거를 위한 코드\n",
    "np.seterr(divide='ignore', invalid='ignore')\n",
    "\n",
    "def engineer(df):\n",
    "    \"\"\"특성을 엔지니어링 하는 함수입니다.\"\"\"\n",
    "    \n",
    "    # h1n1_concern 결측치 처리 NaN -> 2 \n",
    "    df.loc[:, \"h1n1_concern\"] = df.loc[:, \"h1n1_concern\"].fillna(2)\n",
    "    \n",
    "    \n",
    "    # h1n1_knowledge 결측치 처리 NaN -> 1\n",
    "    df.loc[:, \"h1n1_knowledge\"] = df.loc[:, \"h1n1_knowledge\"].fillna(1)\n",
    "    \n",
    "    \n",
    "    # behaviorals에 대한 EDA\n",
    "    behaviorals = [col for col in df.columns if 'behavioral' in col] \n",
    "    df['behaviorals'] = df[behaviorals].sum(axis=1)    \n",
    "\n",
    "    \n",
    "    # chronic_med_condition 결측치 처리 NaN -> 0\n",
    "    df.loc[:, \"chronic_med_condition\"] = df.loc[:, \"chronic_med_condition\"].fillna(0)\n",
    "    \n",
    "#     해당 eda는 성적을 떨어트는 것으로 간주되어 주석처리\n",
    "#     # healthss에 대한 EDA\n",
    "#     df.loc[:, \"health_insurance\"] = df.loc[:, \"health_insurance\"].fillna(1)\n",
    "#     df.loc[:, \"health_worker\"] = df.loc[:, \"health_worker\"].fillna(0)\n",
    "#     healths = [col for col in df.columns if 'health' in col] \n",
    "#     df['healths'] = df[healths].sum(axis=1)    \n",
    "   \n",
    "    \n",
    "    # opinion에 대한 EDA\n",
    "    for column_opinion in [col for col in df.columns if 'opinion' in col]:\n",
    "        df[column_opinion] = df[column_opinion].replace('Not at all effective',0).replace('Not Very Effective',1).replace('Don\\'t know',2).replace('Somewhat effective',3).replace('Very effective',4)\n",
    "        df[column_opinion] = df[column_opinion].replace('Very Low',0).replace('Somewhat low',1).replace('Don\\'t know',2).replace('Somewhat high',3).replace('Very high',4)\n",
    "        df[column_opinion] = df[column_opinion].replace('Not at all worried',0).replace('Not very worried',1).replace('Don\\'t know',2).replace('Somewhat worried',3).replace('Very worried',4)    \n",
    "    opinions = [col for col in df.columns if 'opinion' in col] \n",
    "    \n",
    "#     해당 eda는 성적을 떨어트는 것으로 간주되어 주석처리    \n",
    "#     #agegrp에 대한 EDA\n",
    "#     df['agegrp'] = df['agegrp'].replace('6 Months - 9 Years',1).replace('10 - 17 Years',2).replace('18 - 34 Years',3).replace('35 - 44 Years',4).replace('45 - 54 Years',5).replace('55 - 64 Years',6).replace('65+ Years',7)\n",
    "    \n",
    "    \n",
    "    #census_msa에 대한 EDA\n",
    "    df[\"census_msa\"] = df[\"census_msa\"].replace(\"MSA, Not Principle City\",1)\n",
    "    df[\"census_msa\"] = df[\"census_msa\"].replace(\"MSA, Principle City\",1)\n",
    "    df[\"census_msa\"] = df[\"census_msa\"].replace(\"Non-MSA\",1)\n",
    " \n",
    "    \n",
    "    # 높은 카디널리티를 가지는 특성을 제거합니다.\n",
    "    selected_cols = df.select_dtypes(include=['number', 'object'])\n",
    "    labels = selected_cols.nunique() # 특성별 카디널리티 리스트\n",
    "    selected_features = labels[labels <= 30].index.tolist() # 카디널리티가 30보다 작은 특성만 선택합니다.\n",
    "    df = df[selected_features]\n",
    "\n",
    "\n",
    "\n",
    "    dels = [col for col in df.columns if ('employment' in col in col)]\n",
    "#     dels = [col for col in df.columns if ('employment' in col or 'seas' in col)]\n",
    "    df.drop(columns=dels, inplace=True)\n",
    "        \n",
    "    return df\n",
    "\n",
    "\n",
    "train = engineer(train)\n",
    "val = engineer(val)\n",
    "test = engineer(test)"
   ]
  },
  {
   "cell_type": "code",
   "execution_count": 25,
   "metadata": {},
   "outputs": [
    {
     "name": "stdout",
     "output_type": "stream",
     "text": [
      "교체 검증 미포함한 정확도 0.7924326888862531\n",
      "교체 검증 포함한 정확도 0.7799130105600828\n"
     ]
    }
   ],
   "source": [
    "features = train.drop(columns=[target]).columns\n",
    "\n",
    "X_train = train[features]\n",
    "y_train = train[target]\n",
    "X_val = val[features]\n",
    "y_val = val[target]\n",
    "X_test = test[features]\n",
    "\n",
    "pipe = make_pipeline(\n",
    "    OrdinalEncoder(), \n",
    "    SimpleImputer(), \n",
    "    RandomForestClassifier(n_estimators=500, \n",
    "                           max_depth=15, \n",
    "                           max_features=0.4, \n",
    "                           min_samples_leaf=20, \n",
    "                           random_state=42, \n",
    "                           n_jobs=-1, \n",
    "                           oob_score=True)\n",
    ")\n",
    "\n",
    "pipe.fit(X_train, y_train)\n",
    "print('교체 검증 미포함한 정확도', pipe.score(X_val, y_val))\n",
    "y_pred = pipe.predict(X_val)\n",
    "\n",
    "# -------------------------------------------------------------\n",
    "\n",
    "k = 5\n",
    "scores = cross_val_score(pipe, X_train, y_train, cv=k)\n",
    "\n",
    "\n",
    "print('교체 검증 포함한 정확도', scores.mean())"
   ]
  },
  {
   "cell_type": "code",
   "execution_count": 26,
   "metadata": {},
   "outputs": [
    {
     "name": "stderr",
     "output_type": "stream",
     "text": [
      "C:\\Users\\user\\anaconda3\\lib\\site-packages\\joblib\\externals\\loky\\process_executor.py:688: UserWarning: A worker stopped while some jobs were given to the executor. This can be caused by a too short worker timeout or by a memory leak.\n",
      "  warnings.warn(\n"
     ]
    }
   ],
   "source": [
    "scores = cross_val_score(pipe, X_val, y_val, cv=k)\n",
    "y_pred = pipe.predict(X_test)"
   ]
  },
  {
   "cell_type": "code",
   "execution_count": 27,
   "metadata": {},
   "outputs": [],
   "source": [
    "sample_submission\n",
    "sample_submission[\"vacc_h1n1_f\"] = y_pred\n",
    "sample_submission.to_csv(\"submission.csv\", index=False)"
   ]
  },
  {
   "attachments": {
    "image.png": {
     "image/png": "[encoded data removed]"
    }
   },
   "cell_type": "markdown",
   "metadata": {},
   "source": [
    "![image.png](attachment:image.png)"
   ]
  },
  {
   "cell_type": "markdown",
   "metadata": {},
   "source": [
    "전 해당 점수에 만족합니다\n",
    "\n",
    "설정조건  \n",
    "RandomForestClassifier  \n",
    "(n_estimators=1000,   \n",
    "max_depth=15,   \n",
    "max_features=0.4,   \n",
    "min_samples_leaf=10,   \n",
    "class_weight = 'balanced',   \n",
    "random_state=42,   \n",
    "n_jobs=-1,   \n",
    "oob_score=True)"
   ]
  },
  {
   "cell_type": "code",
   "execution_count": null,
   "metadata": {},
   "outputs": [],
   "source": []
  }
 ],
 "metadata": {
  "kernelspec": {
   "display_name": "Python 3",
   "language": "python",
   "name": "python3"
  },
  "language_info": {
   "codemirror_mode": {
    "name": "ipython",
    "version": 3
   },
   "file_extension": ".py",
   "mimetype": "text/x-python",
   "name": "python",
   "nbconvert_exporter": "python",
   "pygments_lexer": "ipython3",
   "version": "3.8.5"
  }
 },
 "nbformat": 4,
 "nbformat_minor": 4
}
