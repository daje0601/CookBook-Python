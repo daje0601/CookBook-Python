{
  "nbformat": 4,
  "nbformat_minor": 0,
  "metadata": {
    "colab": {
      "name": "로지스틱 회귀 (Logistic Regression).ipynb",
      "provenance": []
    },
    "kernelspec": {
      "name": "python3",
      "display_name": "Python 3"
    }
  },
  "cells": [
    {
      "cell_type": "markdown",
      "metadata": {
        "id": "AhLnOOWDMTou"
      },
      "source": [
        "가설함수란 : 입력변수를 받아서 목표 변수를 예측해주는 함수 \r\n",
        "백터를 사용하여 간절하게 표현 가능 "
      ]
    },
    {
      "cell_type": "markdown",
      "metadata": {
        "id": "ASmDq1odNvVn"
      },
      "source": [
        "가설함수를 평가하는 어떠한 기준이 있어야하는데 그 기준이 되는게 손실함수이다\r\n"
      ]
    },
    {
      "cell_type": "markdown",
      "metadata": {
        "id": "axqztn4ISEjm"
      },
      "source": [
        "경사하강법은 손실을 최소화하는 방법중에 하나이다\r\n"
      ]
    },
    {
      "cell_type": "code",
      "metadata": {
        "id": "jD3iAfbPNvC3"
      },
      "source": [
        "from sklearn.datasets import load_iris\r\n",
        "from sklearn.model_selection import train_test_split\r\n",
        "from sklearn.linear_model import LogisticRegression\r\n",
        "from sklearn.metrics import mean_squared_error\r\n",
        "import pandas as pd\r\n"
      ],
      "execution_count": 7,
      "outputs": []
    },
    {
      "cell_type": "code",
      "metadata": {
        "id": "z2LXq4kdL2KZ"
      },
      "source": [
        "iris_data = load_iris()"
      ],
      "execution_count": 3,
      "outputs": []
    },
    {
      "cell_type": "code",
      "metadata": {
        "id": "tb78XRev01Xb"
      },
      "source": [
        "X = pd.DataFrame(iris_data.data, columns=iris_data.feature_names)"
      ],
      "execution_count": 4,
      "outputs": []
    },
    {
      "cell_type": "code",
      "metadata": {
        "id": "7_6Jrw2908DL"
      },
      "source": [
        "y = pd.DataFrame(iris_data.target, columns=[\"class\"])"
      ],
      "execution_count": 6,
      "outputs": []
    },
    {
      "cell_type": "code",
      "metadata": {
        "id": "W3gS-AAZ1Ced"
      },
      "source": [
        "X_train, X_test, y_train, y_test = train_test_split(X, y, test_size=0.2, random_state=5)\r\n",
        "y_train = y_train.values.ravel()\r\n",
        "# solver는 모델을 최적화할 때 사용하는 것 \r\n",
        "# max_iter노 모델을 최적화 할때 할 횟수를 정해주는 것 ( 최적화가 내가 설정한 숫자보다 적게 되면 최적화된 때에 멈추게 된다. )\r\n",
        "# 학습률 알파는 알아서 default로 설정되어 있다. \r\n",
        "model = LogisticRegression(solver=\"saga\", max_iter=2000)\r\n",
        "\r\n",
        "model.fit(X_train, y_train)\r\n",
        "model.coef_\r\n",
        "model.intercept_\r\n",
        "y_test_predict = model.predict(X_test)"
      ],
      "execution_count": 8,
      "outputs": []
    },
    {
      "cell_type": "code",
      "metadata": {
        "colab": {
          "base_uri": "https://localhost:8080/"
        },
        "id": "iEZWsVrs2MHl",
        "outputId": "a0ede727-1d89-4c8e-98fc-676e87fbd136"
      },
      "source": [
        "y_test_predict"
      ],
      "execution_count": 9,
      "outputs": [
        {
          "output_type": "execute_result",
          "data": {
            "text/plain": [
              "array([1, 2, 2, 0, 2, 1, 0, 2, 0, 1, 1, 2, 2, 2, 0, 0, 2, 2, 0, 0, 1, 2,\n",
              "       0, 1, 1, 2, 1, 1, 1, 2])"
            ]
          },
          "metadata": {
            "tags": []
          },
          "execution_count": 9
        }
      ]
    },
    {
      "cell_type": "code",
      "metadata": {
        "colab": {
          "base_uri": "https://localhost:8080/"
        },
        "id": "1m4mTVdT2PRm",
        "outputId": "0712b57a-6f0f-4352-8c75-dd8af9689d2f"
      },
      "source": [
        "model.score(X_test, y_test)"
      ],
      "execution_count": 11,
      "outputs": [
        {
          "output_type": "execute_result",
          "data": {
            "text/plain": [
              "0.9666666666666667"
            ]
          },
          "metadata": {
            "tags": []
          },
          "execution_count": 11
        }
      ]
    },
    {
      "cell_type": "code",
      "metadata": {
        "id": "p_q5T60g2ShB"
      },
      "source": [
        ""
      ],
      "execution_count": null,
      "outputs": []
    }
  ]
}