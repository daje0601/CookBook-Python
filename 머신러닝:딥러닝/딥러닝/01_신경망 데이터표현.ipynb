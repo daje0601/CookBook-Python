{
  "nbformat": 4,
  "nbformat_minor": 0,
  "metadata": {
    "colab": {
      "name": "_3 신경망 데이터 표현",
      "provenance": [],
      "collapsed_sections": []
    },
    "kernelspec": {
      "name": "python3",
      "display_name": "Python 3"
    }
  },
  "cells": [
    {
      "cell_type": "markdown",
      "metadata": {
        "id": "ebow7b5dS-KW"
      },
      "source": [
        "# 신경망 데이터 표현"
      ]
    },
    {
      "cell_type": "code",
      "metadata": {
        "id": "9BDaiyTNBFAN"
      },
      "source": [
        "import numpy as np\n",
        "import matplotlib.pyplot as plt\n",
        "plt.style.use([\"seaborn-whitegrid\"])"
      ],
      "execution_count": 1,
      "outputs": []
    },
    {
      "cell_type": "markdown",
      "metadata": {
        "id": "7Ic-YQ7xBQ9m"
      },
      "source": [
        "## 텐서(Tensor)\n",
        "- 일반적으로 텐서는 3차원 이상을 다룰 때 표현하는 방식이지만, 여기서는 어떠한 데이터를 표현할 때, 그 값 모두를 텐서라고 부르기로 함\n",
        "\n",
        "      a = np.array([1, 2])\n",
        "      b = np.array([[1, 2],\n",
        "                    [3, 4]])\n",
        "      c = np.array([10]) \n",
        "      d = np.array(3)  -> 차원이 없는 단일값을 \"스칼라\"라고 함\n",
        "  \n",
        "    a, b, c, d 모두 텐서라고 지칭할 수 있음\n",
        "  \n",
        "- 랭크(rank): 텐서의 축을 나타내고, 넘파이(numpy)의 `ndim`으로 구할 수 있음\n",
        "\n",
        "      a = np.array([1, 2])\n",
        "        >> ndim = 1  \n",
        "      b = np.array([[1, 2],\n",
        "                    [3, 4]])\n",
        "        >> ndim = 2\n",
        "      d = np.array(3)\n",
        "        >> ndim = 0\n",
        "      \n",
        "    위의 예시에서 알 수 있듯이 대괄호( [ ] )의 개수가 곧 랭크(축)의 값\n",
        "    \n",
        "      \n",
        "- 크기(shape): 텐서의 각 축을 따라 얼마나 많은 차원이 있는지를 나타내며, 파이썬의 튜플(tuple) 형태\n"
      ]
    },
    {
      "cell_type": "markdown",
      "metadata": {
        "id": "ehzSlqdjBVxB"
      },
      "source": [
        "## 그림으로 이해하기\n",
        "\n",
        "![array](https://www.oreilly.com/library/view/elegant-scipy/9781491922927/assets/elsp_0105.png)\n",
        "<br /><sub>출처: https://www.oreilly.com/library/view/elegant-scipy/9781491922927/ch01.html</sub>"
      ]
    },
    {
      "cell_type": "markdown",
      "metadata": {
        "id": "AxZDqX5HBYMf"
      },
      "source": [
        "## 스칼라(0차원 텐서)\n",
        "- 하나의 숫자를 담고 있는 텐서(tensor)\n",
        "- 형상은 없음"
      ]
    },
    {
      "cell_type": "code",
      "metadata": {
        "id": "TicFogkHBPRW",
        "colab": {
          "base_uri": "https://localhost:8080/"
        },
        "outputId": "163c17bb-f06a-4246-ea15-cb04fd98a926"
      },
      "source": [
        "x = np.array(3)\n",
        "print(\"data:\", x, \"  /  shape:\", x.shape, \" /  차원:\", np.ndim(x))"
      ],
      "execution_count": 5,
      "outputs": [
        {
          "output_type": "stream",
          "text": [
            "data: 3   /  shape: ()   /  차원: 0\n"
          ],
          "name": "stdout"
        }
      ]
    },
    {
      "cell_type": "markdown",
      "metadata": {
        "id": "rab-I4gyBeZw"
      },
      "source": [
        "## 벡터(1차원 텐서)\n",
        "- 숫자의 배열을 나타내는 텐서\n"
      ]
    },
    {
      "cell_type": "code",
      "metadata": {
        "id": "s4gm0mRVBZwa",
        "colab": {
          "base_uri": "https://localhost:8080/"
        },
        "outputId": "60a3dd35-facc-4b77-85d8-4845a4558266"
      },
      "source": [
        "x = np.array([1,2,3,4])\n",
        "print(\"data:\", x, \"  /  shape:\", x.shape, \" /  차원:\", np.ndim(x))"
      ],
      "execution_count": 6,
      "outputs": [
        {
          "output_type": "stream",
          "text": [
            "data: [1 2 3 4]   /  shape: (4,)  /  차원: 1\n"
          ],
          "name": "stdout"
        }
      ]
    },
    {
      "cell_type": "markdown",
      "metadata": {
        "id": "-S3G7ym8Bh6I"
      },
      "source": [
        "### 벡터의 합\n",
        "- 같은 형상(shape)일 때, 각 원소별로 계산"
      ]
    },
    {
      "cell_type": "code",
      "metadata": {
        "id": "6pzPyoNqBcgn",
        "colab": {
          "base_uri": "https://localhost:8080/"
        },
        "outputId": "637f91da-ecf7-4a7c-b396-f6982f531ff0"
      },
      "source": [
        "a = np.array([1,2,3,4])\n",
        "b = np.array([5,6,7,8])\n",
        "\n",
        "x = a+b\n",
        "\n",
        "print(\"data:\", x, \"  /  shape:\", x.shape, \" /  차원:\", np.ndim(x))"
      ],
      "execution_count": 8,
      "outputs": [
        {
          "output_type": "stream",
          "text": [
            "data: [ 6  8 10 12]   /  shape: (4,)  /  차원: 1\n"
          ],
          "name": "stdout"
        }
      ]
    },
    {
      "cell_type": "markdown",
      "metadata": {
        "id": "RqnBR8DyBla5"
      },
      "source": [
        "### 벡터의 곱\n",
        "-  $A = (x_1, \\ x_2, \\ x3, \\ ..., \\ x_n)$  \n",
        "  $B = (y_1, \\ y_2, \\ y3, \\ ..., \\ y_n)$ 일 때,\n",
        "- 원소곱\n",
        "  - 같은 형상(shape)일 때, 각 원소별로 계산   \n",
        "   \n",
        "    $A \\times B = (x_1, \\ x_2, \\ x_3, \\ ..., \\ x_n) \\times (y_1, \\ y_2, \\ y_3, \\ ..., \\ y_n) \\\\   \n",
        "    \\qquad = (x_1y_1, \\ x_2y_2, \\ x_3y_3, \\ ... \\ ,  \\ x_ny_n)  $\n",
        "    \n",
        "- 벡터곱(product, dot)\n",
        "  - 두 1차원 벡터가 있을 때 **각각의 성분끼리의 곱을 모두 더하는 계산**  \n",
        "  \n",
        "    $A \\bullet B \\Rightarrow A \\times B^T = (x_1, \\ x_2, \\ x_3, \\ ..., \\ x_n) \\begin{pmatrix} y_1 \\\\ y_2 \\\\ y_3 \\\\ ... \\\\ y_n  \\end{pmatrix} \\\\  \n",
        "    \\qquad = (x_1y_1 + \\ x_2y_2 + \\ x_3y_3 + \\ ... + \\ x_ny_n)  $\n",
        "  "
      ]
    },
    {
      "cell_type": "code",
      "metadata": {
        "id": "kxcrUZPwBceX",
        "colab": {
          "base_uri": "https://localhost:8080/"
        },
        "outputId": "c6fb3a1e-6169-4da3-8a57-df8db11cf1c5"
      },
      "source": [
        "a = np.array([1,2,3,4])\n",
        "b = np.array([5,6,7,8])\n",
        "\n",
        "x = a*b\n",
        "print(\"data:\", x, \"  /  shape:\", x.shape, \" /  차원:\", np.ndim(x))\n",
        "\n",
        "x = np.dot(a, b)\n",
        "print(\"data:\", x, \"  /  shape:\", x.shape, \" /  차원:\", np.ndim(x))"
      ],
      "execution_count": 14,
      "outputs": [
        {
          "output_type": "stream",
          "text": [
            "data: [ 5 12 21 32]   /  shape: (4,)  /  차원: 1\n",
            "data: 70   /  shape: ()  /  차원: 0\n"
          ],
          "name": "stdout"
        }
      ]
    },
    {
      "cell_type": "markdown",
      "metadata": {
        "id": "IIKrmykBBpn4"
      },
      "source": [
        "## 스칼라와 벡터의 곱\n"
      ]
    },
    {
      "cell_type": "code",
      "metadata": {
        "id": "CWNGJnA9BcaU",
        "colab": {
          "base_uri": "https://localhost:8080/"
        },
        "outputId": "a4d491ea-f41d-43d5-93ce-785b2edc7cff"
      },
      "source": [
        "a = np.array([1,2,3,4])\n",
        "b = np.array([5,6,7,8])\n",
        "c = 3\n",
        "x = a*c\n",
        "\n",
        "\n",
        "print(\"data:\", x, \"  /  shape:\", x.shape, \" /  차원:\", np.ndim(x))"
      ],
      "execution_count": 10,
      "outputs": [
        {
          "output_type": "stream",
          "text": [
            "data: [ 3  6  9 12]   /  shape: (4,)  /  차원: 1\n"
          ],
          "name": "stdout"
        }
      ]
    },
    {
      "cell_type": "markdown",
      "metadata": {
        "id": "a_WUc48rBszu"
      },
      "source": [
        "## 2차원 텐서(행렬)\n",
        "- 2차원 텐서는 행렬로 생각할 수 있음\n",
        "    - (m, n) 형상의 배열\n",
        "\n",
        "![matrix](https://upload.wikimedia.org/wikipedia/commons/thumb/4/4d/Matrix_ko.svg/570px-Matrix_ko.svg.png)\n",
        "<br /><sub>출처: https://ko.wikipedia.org/wiki/%ED%96%89%EB%A0%AC</sub>\n"
      ]
    },
    {
      "cell_type": "code",
      "metadata": {
        "id": "M6QQeHZJBcX6",
        "colab": {
          "base_uri": "https://localhost:8080/"
        },
        "outputId": "6b664944-a483-4ffa-defd-c88bb43bc500"
      },
      "source": [
        "matrix = np.array([[1,2,3], [4,5,6]])\n",
        "x = matrix\n",
        "print(\"data:\", x, \"  /  shape:\", x.shape, \" /  차원:\", np.ndim(x))\n",
        "\n",
        "matrix = np.array([[1,2,3, 4,5,6]])\n",
        "x = matrix\n",
        "print(\"data:\", x, \"  /  shape:\", x.shape, \" /  차원:\", np.ndim(x))"
      ],
      "execution_count": 16,
      "outputs": [
        {
          "output_type": "stream",
          "text": [
            "data: [[1 2 3]\n",
            " [4 5 6]]   /  shape: (2, 3)  /  차원: 2\n",
            "data: [[1 2 3 4 5 6]]   /  shape: (1, 6)  /  차원: 2\n"
          ],
          "name": "stdout"
        }
      ]
    },
    {
      "cell_type": "markdown",
      "metadata": {
        "id": "6LEedf9GB2G1"
      },
      "source": [
        "### 행렬 원소곱\n",
        "- 같은 형상(shape)일 때 덧셈, 곱셈과 같은 연산은 원소별로 진행\n"
      ]
    },
    {
      "cell_type": "code",
      "metadata": {
        "id": "PchJ4TwyBcVc",
        "colab": {
          "base_uri": "https://localhost:8080/"
        },
        "outputId": "f100c331-431e-4aea-8a79-07536e945c1f"
      },
      "source": [
        "A = np.array([[1,2], [3,4]])\n",
        "B = np.array([[1,1], [1,1]])\n",
        "\n",
        "A * B"
      ],
      "execution_count": 17,
      "outputs": [
        {
          "output_type": "execute_result",
          "data": {
            "text/plain": [
              "array([[1, 2],\n",
              "       [3, 4]])"
            ]
          },
          "metadata": {
            "tags": []
          },
          "execution_count": 17
        }
      ]
    },
    {
      "cell_type": "markdown",
      "metadata": {
        "id": "_cvFlhuCB5hz"
      },
      "source": [
        "### 행렬 점곱(내적, product)\n",
        "- 1차원 벡터와 마찬가지로 앞 행렬의 열과 뒤 행렬의 행의 수가 같아야함"
      ]
    },
    {
      "cell_type": "code",
      "metadata": {
        "id": "452G60yvBcRr",
        "colab": {
          "base_uri": "https://localhost:8080/"
        },
        "outputId": "583569c5-edd0-4914-b936-ae97663b451d"
      },
      "source": [
        "np.dot(A, B)"
      ],
      "execution_count": 18,
      "outputs": [
        {
          "output_type": "execute_result",
          "data": {
            "text/plain": [
              "array([[3, 3],\n",
              "       [7, 7]])"
            ]
          },
          "metadata": {
            "tags": []
          },
          "execution_count": 18
        }
      ]
    },
    {
      "cell_type": "code",
      "metadata": {
        "id": "oSgCXPJzBb0_"
      },
      "source": [
        ""
      ],
      "execution_count": null,
      "outputs": []
    },
    {
      "cell_type": "markdown",
      "metadata": {
        "id": "gfWlP-BtCAzE"
      },
      "source": [
        "### 역행렬\n",
        "- 어떤 행렬 A가 있을 때, 곱해서 단위행렬(E)를 만드는 행렬 B가 존재한다면, 행렬 B는 A의 역행렬"
      ]
    },
    {
      "cell_type": "code",
      "metadata": {
        "id": "0i_L09ggBbwa",
        "colab": {
          "base_uri": "https://localhost:8080/"
        },
        "outputId": "7e8742eb-dfd0-485d-acb1-763e26c7f617"
      },
      "source": [
        "A = np.array([[1,2], [3,4]])\n",
        "\n",
        "# 역행렬구하기 \n",
        "print(np.linalg.inv(A))"
      ],
      "execution_count": 19,
      "outputs": [
        {
          "output_type": "stream",
          "text": [
            "[[-2.   1. ]\n",
            " [ 1.5 -0.5]]\n"
          ],
          "name": "stdout"
        }
      ]
    },
    {
      "cell_type": "markdown",
      "metadata": {
        "id": "q-bMbid2KaCT"
      },
      "source": [
        "모든 행렬에 역행렬이 존재하는 것은 아니다.  \n",
        "역행렬이 없는 경우, np.linalg.inv(A)하면 오류가 발생된다."
      ]
    },
    {
      "cell_type": "code",
      "metadata": {
        "id": "Ra6130CkBbuz",
        "colab": {
          "base_uri": "https://localhost:8080/"
        },
        "outputId": "eae4d68b-cc3a-4759-e32e-96f8602655b9"
      },
      "source": [
        "B = np.linalg.inv(A)\n",
        "\n",
        "print(np.dot(A, B))"
      ],
      "execution_count": 20,
      "outputs": [
        {
          "output_type": "stream",
          "text": [
            "[[1.0000000e+00 0.0000000e+00]\n",
            " [8.8817842e-16 1.0000000e+00]]\n"
          ],
          "name": "stdout"
        }
      ]
    },
    {
      "cell_type": "markdown",
      "metadata": {
        "id": "G75LpaMmCGtW"
      },
      "source": [
        "### 전치행렬\n",
        "- 행과 열을 바꾼 배열의 형태\n",
        "\n",
        "![](https://upload.wikimedia.org/wikipedia/commons/e/e4/Matrix_transpose.gif)\n",
        "<br /><sub>출처: https://ko.wikipedia.org/wiki/%EC%A0%84%EC%B9%98%ED%96%89%EB%A0%AC</sub>"
      ]
    },
    {
      "cell_type": "code",
      "metadata": {
        "id": "3QKPQKIjBbre",
        "colab": {
          "base_uri": "https://localhost:8080/"
        },
        "outputId": "14e55ff4-3b5e-48d5-9232-ee5b989a7c31"
      },
      "source": [
        "A = np.array([[1,2,3], [3,4,5]])\n",
        "print(A)\n",
        "print()\n",
        "print(A.T)"
      ],
      "execution_count": 25,
      "outputs": [
        {
          "output_type": "stream",
          "text": [
            "[[1 2 3]\n",
            " [3 4 5]]\n",
            "\n",
            "[[1 3]\n",
            " [2 4]\n",
            " [3 5]]\n"
          ],
          "name": "stdout"
        }
      ]
    },
    {
      "cell_type": "markdown",
      "metadata": {
        "id": "NubNYgh6CKpY"
      },
      "source": [
        "## 3차원 텐서\n",
        "- 보통 이미지를 나타낼 때 사용되는 텐서\n",
        "  - (width, height, channels)\n",
        "  - 일반적으로 Numpy array로 표현  \n",
        "![3d tensor](https://image.slidesharecdn.com/tensordecomposition-170301235239/95/a-brief-survey-of-tensors-5-638.jpg)\n",
        "<br /><sub>출처: https://www.slideshare.net/BertonEarnshaw/a-brief-survey-of-tensors</sub>\n",
        "- 시계열 데이터 또는 시퀀스(sequence) 데이터를 표현할 때도 사용\n",
        "  - (samples, timesteps, features)\n",
        "  - (예시) 주식 가격 데이터셋, 시간에 따른 질병 발병 건수  \n",
        "![](https://kr.mathworks.com/help/deeplearning/examples/timeseriesforecastingusingdeeplearningexample_01_ko_KR.png)\n",
        "<br /><sub>출처: https://kr.mathworks.com/help/deeplearning/examples/time-series-forecasting-using-deep-learning.html</sub>"
      ]
    },
    {
      "cell_type": "code",
      "metadata": {
        "id": "IvVjleI1Bbpn",
        "colab": {
          "base_uri": "https://localhost:8080/"
        },
        "outputId": "abad9477-e36d-43d6-a687-86ebfebc40f6"
      },
      "source": [
        "X = np.array([[[5,3,2,1], \n",
        "               [5,3,2,1],\n",
        "               [6,1,3,2]], \n",
        "               [[5,3,2,1], \n",
        "               [5,3,2,1],\n",
        "               [6,1,3,2]],\n",
        "               [[5,3,2,1], \n",
        "               [5,3,2,1],\n",
        "               [6,1,3,2]]])\n",
        "\n",
        "print(X)\n",
        "print(X.shape)\n",
        "print(np.ndim(X))"
      ],
      "execution_count": 31,
      "outputs": [
        {
          "output_type": "stream",
          "text": [
            "[[[5 3 2 1]\n",
            "  [5 3 2 1]\n",
            "  [6 1 3 2]]\n",
            "\n",
            " [[5 3 2 1]\n",
            "  [5 3 2 1]\n",
            "  [6 1 3 2]]\n",
            "\n",
            " [[5 3 2 1]\n",
            "  [5 3 2 1]\n",
            "  [6 1 3 2]]]\n",
            "(3, 3, 4)\n",
            "3\n"
          ],
          "name": "stdout"
        }
      ]
    },
    {
      "cell_type": "markdown",
      "metadata": {
        "id": "OoBfPQdhCPog"
      },
      "source": [
        "### 3차원 텐서 활용 예시(이미지)\n",
        "- MNIST Dataset\n",
        "- 28x28 사이즈의 gray scale 이미지들로 구성  \n",
        "![이미지](https://upload.wikimedia.org/wikipedia/commons/thumb/2/27/MnistExamples.png/440px-MnistExamples.png)  \n",
        "<sub>출처: https://ko.wikipedia.org/wiki/MNIST_%EB%8D%B0%EC%9D%B4%ED%84%B0%EB%B2%A0%EC%9D%B4%EC%8A%A4</sub>\n",
        "\n",
        "  \n",
        "- gray scale: 0~255의 값을 통해 밝기를 표현 \n",
        "  0으로 갈수록 어두워지고, 255로 갈수록 밝아짐 \n",
        "![이미지](https://miro.medium.com/max/1400/1*euc4RxnNo78LFEGrb-QZ7w.jpeg)  \n",
        "<sub>출처: https://medium.com/@himnickson/converting-rgb-image-to-the-grayscale-image-in-java-9e1edc5bd6e7</sub>\n",
        "\n"
      ]
    },
    {
      "cell_type": "code",
      "metadata": {
        "id": "YmGkMLmEBbkh",
        "colab": {
          "base_uri": "https://localhost:8080/"
        },
        "outputId": "ccc8a02e-67f7-438f-9024-0c69e6a5c8c1"
      },
      "source": [
        "from keras.datasets import mnist\n",
        "\n",
        "(train_images, train_labels), (test_images, test_labels) = mnist.load_data()"
      ],
      "execution_count": 33,
      "outputs": [
        {
          "output_type": "stream",
          "text": [
            "Downloading data from https://storage.googleapis.com/tensorflow/tf-keras-datasets/mnist.npz\n",
            "11493376/11490434 [==============================] - 0s 0us/step\n",
            "11501568/11490434 [==============================] - 0s 0us/step\n"
          ],
          "name": "stdout"
        }
      ]
    },
    {
      "cell_type": "code",
      "metadata": {
        "id": "7zV5i29eBbgo",
        "colab": {
          "base_uri": "https://localhost:8080/"
        },
        "outputId": "3aae8f74-35f5-4ca3-9e35-ea417c75b174"
      },
      "source": [
        "print(train_images.ndim)"
      ],
      "execution_count": 34,
      "outputs": [
        {
          "output_type": "stream",
          "text": [
            "3\n"
          ],
          "name": "stdout"
        }
      ]
    },
    {
      "cell_type": "code",
      "metadata": {
        "id": "yWpHOjFyBbfN",
        "colab": {
          "base_uri": "https://localhost:8080/"
        },
        "outputId": "3e000704-9118-49aa-b77f-38074ea26f8a"
      },
      "source": [
        "print(train_images.shape)"
      ],
      "execution_count": 36,
      "outputs": [
        {
          "output_type": "stream",
          "text": [
            "(60000, 28, 28)\n"
          ],
          "name": "stdout"
        }
      ]
    },
    {
      "cell_type": "code",
      "metadata": {
        "id": "tRwClWKsBbcg",
        "colab": {
          "base_uri": "https://localhost:8080/"
        },
        "outputId": "0c7954e5-5a88-4f3f-dbdc-d0d33ea9d783"
      },
      "source": [
        "print(train_images.dtype)"
      ],
      "execution_count": 37,
      "outputs": [
        {
          "output_type": "stream",
          "text": [
            "uint8\n"
          ],
          "name": "stdout"
        }
      ]
    },
    {
      "cell_type": "code",
      "metadata": {
        "id": "WlN4f8mmBbZI",
        "colab": {
          "base_uri": "https://localhost:8080/",
          "height": 262
        },
        "outputId": "4054bac6-a202-425c-96e7-4ac1e5d3b8cd"
      },
      "source": [
        "temp_image = train_images[3]\n",
        "plt.imshow(temp_image, cmap=\"gray\")\n",
        "plt.show()"
      ],
      "execution_count": 38,
      "outputs": [
        {
          "output_type": "display_data",
          "data": {
            "image/png": "[encoded data removed]",
            "text/plain": [
              "<Figure size 432x288 with 1 Axes>"
            ]
          },
          "metadata": {
            "tags": [],
            "needs_background": "light"
          }
        }
      ]
    },
    {
      "cell_type": "markdown",
      "metadata": {
        "id": "6zrYXjEoCnZG"
      },
      "source": [
        "## 브로드캐스팅(broadcasting)\n",
        "- 넘파이에서 다른 형상(shape)끼리 계산 가능\n",
        "\n",
        "- 1차원 텐서\n",
        "\n",
        "![1d](https://numpy.org/doc/1.18/_images/theory.broadcast_1.gif)\n",
        "\n",
        "- 2차원 텐서\n",
        "\n",
        "![2d](https://numpy.org/doc/1.18/_images/theory.broadcast_2.gif)\n",
        "\n",
        "- 더 작은 형상(shape)이 형상이 더 큰 배열에 확장 가능해야함\n",
        "\n",
        "![broadcast](https://numpy.org/doc/1.18/_images/theory.broadcast_3.gif) \n",
        "\n",
        "- (참고) 아래의 경우도 가능\n",
        "\n",
        "![broadcast](https://numpy.org/doc/1.18/_images/theory.broadcast_4.gif)\n",
        "\n",
        "<br /><sub>https://numpy.org/doc/1.18/user/theory.broadcasting.html#array-broadcasting-in-numpy</sub>"
      ]
    },
    {
      "cell_type": "code",
      "metadata": {
        "id": "CvD1A-YzCnLj",
        "colab": {
          "base_uri": "https://localhost:8080/"
        },
        "outputId": "a173f313-2548-4f78-ff81-f50e0f2f326b"
      },
      "source": [
        "a = np.array(10)\n",
        "b = np.array([10,20,30])\n",
        "print(np.dot(a,b))\n",
        "print(a * b)"
      ],
      "execution_count": 39,
      "outputs": [
        {
          "output_type": "stream",
          "text": [
            "[100 200 300]\n",
            "[100 200 300]\n"
          ],
          "name": "stdout"
        }
      ]
    },
    {
      "cell_type": "code",
      "metadata": {
        "id": "GBqGnivIBbTz",
        "colab": {
          "base_uri": "https://localhost:8080/"
        },
        "outputId": "6ccbae7a-1cdf-453e-aa2b-c74690e0858b"
      },
      "source": [
        "A = np.array([[1,2], [3,4]])\n",
        "B = np.array([10, 20])\n",
        "print(A, B)"
      ],
      "execution_count": 40,
      "outputs": [
        {
          "output_type": "stream",
          "text": [
            "[[1 2]\n",
            " [3 4]] [10 20]\n"
          ],
          "name": "stdout"
        }
      ]
    },
    {
      "cell_type": "code",
      "metadata": {
        "id": "c0CvqipjCq9-"
      },
      "source": [
        "A = np.array([[[1,1,1], \n",
        "               [2,2,2]],\n",
        "               [[3,3,3],\n",
        "               [4,4,4]]])"
      ],
      "execution_count": 44,
      "outputs": []
    },
    {
      "cell_type": "code",
      "metadata": {
        "id": "O3dSdUymCsEh",
        "colab": {
          "base_uri": "https://localhost:8080/"
        },
        "outputId": "10232f1a-0603-4a76-814b-471c83d6cadb"
      },
      "source": [
        "A.shape"
      ],
      "execution_count": 45,
      "outputs": [
        {
          "output_type": "execute_result",
          "data": {
            "text/plain": [
              "(2, 2, 3)"
            ]
          },
          "metadata": {
            "tags": []
          },
          "execution_count": 45
        }
      ]
    },
    {
      "cell_type": "markdown",
      "metadata": {
        "id": "oMdQuRrbCvHh"
      },
      "source": [
        "## 4, 5차원 텐서\n",
        "- Color Image Datasets(4차원)\n",
        "  - (samples, height, width, channels) ( Keras, Tensorflow )\n",
        "  - (samples, channels, height, width) ( Pytorch )\n",
        "\n",
        "\n",
        "- 동영상(5차원)\n",
        "  1. (samples, frames, height, width, channels)\n",
        "  2. (samples, frames, channels, height, width)\n",
        "  - 예시 1) (4, 300, 1920, 1080, 3) \n",
        "    - 1920x1080 사이즈 3채널의 300프레임 수를 가진 배치가 4개"
      ]
    },
    {
      "cell_type": "markdown",
      "metadata": {
        "id": "owYBNkzMCxaE"
      },
      "source": [
        "## 텐서 크기 변환\n",
        "- reshape로 텐서의 크기 변환 가능\n",
        "- **변환 전의 원소의 개수와 변환 이후의 텐서의 개수가 같아야** 함"
      ]
    },
    {
      "cell_type": "code",
      "metadata": {
        "id": "s9NyLg5GCxwF",
        "colab": {
          "base_uri": "https://localhost:8080/"
        },
        "outputId": "f5132882-8333-4c0a-f8d5-74384018df8f"
      },
      "source": [
        "A = np.array([[1,2,3], [4,5,6]])\n",
        "\n",
        "A.reshape(-1)"
      ],
      "execution_count": 52,
      "outputs": [
        {
          "output_type": "execute_result",
          "data": {
            "text/plain": [
              "array([1, 2, 3, 4, 5, 6])"
            ]
          },
          "metadata": {
            "tags": []
          },
          "execution_count": 52
        }
      ]
    },
    {
      "cell_type": "code",
      "metadata": {
        "id": "u1vgBq9fC34Q",
        "colab": {
          "base_uri": "https://localhost:8080/"
        },
        "outputId": "e4c8e685-4b55-49a6-a1d7-b11126064056"
      },
      "source": [
        "A = np.array([[[1,1,1], \n",
        "               [2,2,2]],\n",
        "               [[3,3,3],\n",
        "               [4,4,4]]])\n",
        "\n",
        "A.reshape(3, 2,-1)"
      ],
      "execution_count": 56,
      "outputs": [
        {
          "output_type": "execute_result",
          "data": {
            "text/plain": [
              "array([[[1, 1],\n",
              "        [1, 2]],\n",
              "\n",
              "       [[2, 2],\n",
              "        [3, 3]],\n",
              "\n",
              "       [[3, 4],\n",
              "        [4, 4]]])"
            ]
          },
          "metadata": {
            "tags": []
          },
          "execution_count": 56
        }
      ]
    },
    {
      "cell_type": "markdown",
      "metadata": {
        "id": "CHN5jR7vC8hO"
      },
      "source": [
        "- -1 을 통해 자동으로 형상을 지정 가능  \n",
        "  원소의 갯수에 맞게 넘파이가 자동으로 형상을 지정  \n",
        "      (2, 2, 3) -> (3, -1)     (O)\n",
        "                -> (2, 1, 6)   (O)\n",
        "                -> (2, -1, -1) (X)\n",
        "                -> (2, 5, -1)  (X) "
      ]
    }
  ]
}