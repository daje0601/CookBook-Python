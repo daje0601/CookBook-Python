{
  "nbformat": 4,
  "nbformat_minor": 0,
  "metadata": {
    "colab": {
      "name": "LS_DS_421_Text_Data_Assignment.ipynb",
      "provenance": [],
      "collapsed_sections": []
    },
    "kernelspec": {
      "display_name": "P41_NLP",
      "language": "python",
      "name": "p41_nlp"
    },
    "language_info": {
      "codemirror_mode": {
        "name": "ipython",
        "version": 3
      },
      "file_extension": ".py",
      "mimetype": "text/x-python",
      "name": "python",
      "nbconvert_exporter": "python",
      "pygments_lexer": "ipython3",
      "version": "3.7.7"
    },
    "toc-autonumbering": false
  },
  "cells": [
    {
      "cell_type": "markdown",
      "metadata": {
        "id": "za56W96DnxVC"
      },
      "source": [
        "<img align=\"right\" src=\"https://ds-cs-images.s3.ap-northeast-2.amazonaws.com/Codestates_Fulllogo_Color.png\" width=100>\n",
        "\n",
        "## *DATA SCIENCE / SECTION 4 / SPRINT 2 / NOTE 1*\n",
        "\n",
        "# 📝 Assignment\n",
        "\n",
        "---\n",
        "\n",
        "\n",
        "# Text Preprocessing for NLP"
      ]
    },
    {
      "cell_type": "markdown",
      "metadata": {
        "id": "68CzOVminxVR"
      },
      "source": [
        "Women's E-Commerce Clothing Reviews\n",
        "https://www.kaggle.com/nicapotato/womens-ecommerce-clothing-reviews\n",
        "\n",
        "이번 과제의 목표는: 캐글 옷 리뷰 데이터의 텍스트 칼럼(`Review Text`)에서 토큰(단어)를 추출하고 추천(`Recommended IND`)을 할지(1) 안 할지(0)에 따른 토큰의 빈도를 살펴 보는 것 입니다.\n",
        "\n",
        "토큰을 분리하기 위해 사용 가능한 정제기술을 모두 사용하고 특히\n",
        "- Lemmatization\n",
        "- 확장된 불용어 처리\n",
        "기술을 잘 활용해 보세요\n",
        "\n",
        "토큰이 만들어지면 꼭 **올바른 토큰화**를 잘 만족하는지 확인 합니다. 그리고 결과를 분석하여 어떤 특성이 추천에 이르게 하는지 그래프로 설명하세요. 마크다운 셀을 최대한 활용하여 결과를 분석해 보시기 바랍니다."
      ]
    },
    {
      "cell_type": "code",
      "metadata": {
        "id": "S1o1JhNQvfIv",
        "outputId": "ee3a01ce-0db5-40de-d2f4-533255ef128c",
        "colab": {
          "base_uri": "https://localhost:8080/"
        }
      },
      "source": [
        "# !python -m spacy download en_core_web_lg\n",
        "# !pip install --upgrade spacy"
      ],
      "execution_count": 31,
      "outputs": [
        {
          "output_type": "stream",
          "text": [
            "2021-04-12 11:29:45.321241: I tensorflow/stream_executor/platform/default/dso_loader.cc:49] Successfully opened dynamic library libcudart.so.11.0\n",
            "Collecting en-core-web-lg==3.0.0\n",
            "\u001b[?25l  Downloading https://github.com/explosion/spacy-models/releases/download/en_core_web_lg-3.0.0/en_core_web_lg-3.0.0-py3-none-any.whl (778.8MB)\n",
            "\u001b[K     |████████████████████████████████| 778.8MB 21kB/s \n",
            "\u001b[?25hRequirement already satisfied: spacy<3.1.0,>=3.0.0 in /usr/local/lib/python3.7/dist-packages (from en-core-web-lg==3.0.0) (3.0.5)\n",
            "Requirement already satisfied: tqdm<5.0.0,>=4.38.0 in /usr/local/lib/python3.7/dist-packages (from spacy<3.1.0,>=3.0.0->en-core-web-lg==3.0.0) (4.41.1)\n",
            "Requirement already satisfied: typing-extensions<4.0.0.0,>=3.7.4; python_version < \"3.8\" in /usr/local/lib/python3.7/dist-packages (from spacy<3.1.0,>=3.0.0->en-core-web-lg==3.0.0) (3.7.4.3)\n",
            "Requirement already satisfied: murmurhash<1.1.0,>=0.28.0 in /usr/local/lib/python3.7/dist-packages (from spacy<3.1.0,>=3.0.0->en-core-web-lg==3.0.0) (1.0.5)\n",
            "Requirement already satisfied: typer<0.4.0,>=0.3.0 in /usr/local/lib/python3.7/dist-packages (from spacy<3.1.0,>=3.0.0->en-core-web-lg==3.0.0) (0.3.2)\n",
            "Requirement already satisfied: importlib-metadata>=0.20; python_version < \"3.8\" in /usr/local/lib/python3.7/dist-packages (from spacy<3.1.0,>=3.0.0->en-core-web-lg==3.0.0) (3.8.1)\n",
            "Requirement already satisfied: cymem<2.1.0,>=2.0.2 in /usr/local/lib/python3.7/dist-packages (from spacy<3.1.0,>=3.0.0->en-core-web-lg==3.0.0) (2.0.5)\n",
            "Requirement already satisfied: wasabi<1.1.0,>=0.8.1 in /usr/local/lib/python3.7/dist-packages (from spacy<3.1.0,>=3.0.0->en-core-web-lg==3.0.0) (0.8.2)\n",
            "Requirement already satisfied: blis<0.8.0,>=0.4.0 in /usr/local/lib/python3.7/dist-packages (from spacy<3.1.0,>=3.0.0->en-core-web-lg==3.0.0) (0.4.1)\n",
            "Requirement already satisfied: srsly<3.0.0,>=2.4.0 in /usr/local/lib/python3.7/dist-packages (from spacy<3.1.0,>=3.0.0->en-core-web-lg==3.0.0) (2.4.1)\n",
            "Requirement already satisfied: requests<3.0.0,>=2.13.0 in /usr/local/lib/python3.7/dist-packages (from spacy<3.1.0,>=3.0.0->en-core-web-lg==3.0.0) (2.23.0)\n",
            "Requirement already satisfied: packaging>=20.0 in /usr/local/lib/python3.7/dist-packages (from spacy<3.1.0,>=3.0.0->en-core-web-lg==3.0.0) (20.9)\n",
            "Requirement already satisfied: pathy>=0.3.5 in /usr/local/lib/python3.7/dist-packages (from spacy<3.1.0,>=3.0.0->en-core-web-lg==3.0.0) (0.4.0)\n",
            "Requirement already satisfied: pydantic<1.8.0,>=1.7.1 in /usr/local/lib/python3.7/dist-packages (from spacy<3.1.0,>=3.0.0->en-core-web-lg==3.0.0) (1.7.3)\n",
            "Requirement already satisfied: preshed<3.1.0,>=3.0.2 in /usr/local/lib/python3.7/dist-packages (from spacy<3.1.0,>=3.0.0->en-core-web-lg==3.0.0) (3.0.5)\n",
            "Requirement already satisfied: numpy>=1.15.0 in /usr/local/lib/python3.7/dist-packages (from spacy<3.1.0,>=3.0.0->en-core-web-lg==3.0.0) (1.19.5)\n",
            "Requirement already satisfied: thinc<8.1.0,>=8.0.2 in /usr/local/lib/python3.7/dist-packages (from spacy<3.1.0,>=3.0.0->en-core-web-lg==3.0.0) (8.0.2)\n",
            "Requirement already satisfied: spacy-legacy<3.1.0,>=3.0.0 in /usr/local/lib/python3.7/dist-packages (from spacy<3.1.0,>=3.0.0->en-core-web-lg==3.0.0) (3.0.2)\n",
            "Requirement already satisfied: catalogue<2.1.0,>=2.0.1 in /usr/local/lib/python3.7/dist-packages (from spacy<3.1.0,>=3.0.0->en-core-web-lg==3.0.0) (2.0.1)\n",
            "Requirement already satisfied: setuptools in /usr/local/lib/python3.7/dist-packages (from spacy<3.1.0,>=3.0.0->en-core-web-lg==3.0.0) (54.2.0)\n",
            "Requirement already satisfied: jinja2 in /usr/local/lib/python3.7/dist-packages (from spacy<3.1.0,>=3.0.0->en-core-web-lg==3.0.0) (2.11.3)\n",
            "Requirement already satisfied: click<7.2.0,>=7.1.1 in /usr/local/lib/python3.7/dist-packages (from typer<0.4.0,>=0.3.0->spacy<3.1.0,>=3.0.0->en-core-web-lg==3.0.0) (7.1.2)\n",
            "Requirement already satisfied: zipp>=0.5 in /usr/local/lib/python3.7/dist-packages (from importlib-metadata>=0.20; python_version < \"3.8\"->spacy<3.1.0,>=3.0.0->en-core-web-lg==3.0.0) (3.4.1)\n",
            "Requirement already satisfied: idna<3,>=2.5 in /usr/local/lib/python3.7/dist-packages (from requests<3.0.0,>=2.13.0->spacy<3.1.0,>=3.0.0->en-core-web-lg==3.0.0) (2.10)\n",
            "Requirement already satisfied: urllib3!=1.25.0,!=1.25.1,<1.26,>=1.21.1 in /usr/local/lib/python3.7/dist-packages (from requests<3.0.0,>=2.13.0->spacy<3.1.0,>=3.0.0->en-core-web-lg==3.0.0) (1.24.3)\n",
            "Requirement already satisfied: chardet<4,>=3.0.2 in /usr/local/lib/python3.7/dist-packages (from requests<3.0.0,>=2.13.0->spacy<3.1.0,>=3.0.0->en-core-web-lg==3.0.0) (3.0.4)\n",
            "Requirement already satisfied: certifi>=2017.4.17 in /usr/local/lib/python3.7/dist-packages (from requests<3.0.0,>=2.13.0->spacy<3.1.0,>=3.0.0->en-core-web-lg==3.0.0) (2020.12.5)\n",
            "Requirement already satisfied: pyparsing>=2.0.2 in /usr/local/lib/python3.7/dist-packages (from packaging>=20.0->spacy<3.1.0,>=3.0.0->en-core-web-lg==3.0.0) (2.4.7)\n",
            "Requirement already satisfied: smart-open<4.0.0,>=2.2.0 in /usr/local/lib/python3.7/dist-packages (from pathy>=0.3.5->spacy<3.1.0,>=3.0.0->en-core-web-lg==3.0.0) (3.0.0)\n",
            "Requirement already satisfied: MarkupSafe>=0.23 in /usr/local/lib/python3.7/dist-packages (from jinja2->spacy<3.1.0,>=3.0.0->en-core-web-lg==3.0.0) (1.1.1)\n",
            "Installing collected packages: en-core-web-lg\n",
            "  Found existing installation: en-core-web-lg 2.2.5\n",
            "    Uninstalling en-core-web-lg-2.2.5:\n",
            "      Successfully uninstalled en-core-web-lg-2.2.5\n",
            "Successfully installed en-core-web-lg-3.0.0\n",
            "\u001b[38;5;2m✔ Download and installation successful\u001b[0m\n",
            "You can now load the package via spacy.load('en_core_web_lg')\n",
            "Requirement already up-to-date: spacy in /usr/local/lib/python3.7/dist-packages (3.0.5)\n",
            "Requirement already satisfied, skipping upgrade: murmurhash<1.1.0,>=0.28.0 in /usr/local/lib/python3.7/dist-packages (from spacy) (1.0.5)\n",
            "Requirement already satisfied, skipping upgrade: setuptools in /usr/local/lib/python3.7/dist-packages (from spacy) (54.2.0)\n",
            "Requirement already satisfied, skipping upgrade: preshed<3.1.0,>=3.0.2 in /usr/local/lib/python3.7/dist-packages (from spacy) (3.0.5)\n",
            "Requirement already satisfied, skipping upgrade: cymem<2.1.0,>=2.0.2 in /usr/local/lib/python3.7/dist-packages (from spacy) (2.0.5)\n",
            "Requirement already satisfied, skipping upgrade: typing-extensions<4.0.0.0,>=3.7.4; python_version < \"3.8\" in /usr/local/lib/python3.7/dist-packages (from spacy) (3.7.4.3)\n",
            "Requirement already satisfied, skipping upgrade: thinc<8.1.0,>=8.0.2 in /usr/local/lib/python3.7/dist-packages (from spacy) (8.0.2)\n",
            "Requirement already satisfied, skipping upgrade: packaging>=20.0 in /usr/local/lib/python3.7/dist-packages (from spacy) (20.9)\n",
            "Requirement already satisfied, skipping upgrade: srsly<3.0.0,>=2.4.0 in /usr/local/lib/python3.7/dist-packages (from spacy) (2.4.1)\n",
            "Requirement already satisfied, skipping upgrade: tqdm<5.0.0,>=4.38.0 in /usr/local/lib/python3.7/dist-packages (from spacy) (4.41.1)\n",
            "Requirement already satisfied, skipping upgrade: wasabi<1.1.0,>=0.8.1 in /usr/local/lib/python3.7/dist-packages (from spacy) (0.8.2)\n",
            "Requirement already satisfied, skipping upgrade: catalogue<2.1.0,>=2.0.1 in /usr/local/lib/python3.7/dist-packages (from spacy) (2.0.1)\n",
            "Requirement already satisfied, skipping upgrade: blis<0.8.0,>=0.4.0 in /usr/local/lib/python3.7/dist-packages (from spacy) (0.4.1)\n",
            "Requirement already satisfied, skipping upgrade: pathy>=0.3.5 in /usr/local/lib/python3.7/dist-packages (from spacy) (0.4.0)\n",
            "Requirement already satisfied, skipping upgrade: numpy>=1.15.0 in /usr/local/lib/python3.7/dist-packages (from spacy) (1.19.5)\n",
            "Requirement already satisfied, skipping upgrade: jinja2 in /usr/local/lib/python3.7/dist-packages (from spacy) (2.11.3)\n",
            "Requirement already satisfied, skipping upgrade: requests<3.0.0,>=2.13.0 in /usr/local/lib/python3.7/dist-packages (from spacy) (2.23.0)\n",
            "Requirement already satisfied, skipping upgrade: spacy-legacy<3.1.0,>=3.0.0 in /usr/local/lib/python3.7/dist-packages (from spacy) (3.0.2)\n",
            "Requirement already satisfied, skipping upgrade: importlib-metadata>=0.20; python_version < \"3.8\" in /usr/local/lib/python3.7/dist-packages (from spacy) (3.8.1)\n",
            "Requirement already satisfied, skipping upgrade: pydantic<1.8.0,>=1.7.1 in /usr/local/lib/python3.7/dist-packages (from spacy) (1.7.3)\n",
            "Requirement already satisfied, skipping upgrade: typer<0.4.0,>=0.3.0 in /usr/local/lib/python3.7/dist-packages (from spacy) (0.3.2)\n",
            "Requirement already satisfied, skipping upgrade: pyparsing>=2.0.2 in /usr/local/lib/python3.7/dist-packages (from packaging>=20.0->spacy) (2.4.7)\n",
            "Requirement already satisfied, skipping upgrade: smart-open<4.0.0,>=2.2.0 in /usr/local/lib/python3.7/dist-packages (from pathy>=0.3.5->spacy) (3.0.0)\n",
            "Requirement already satisfied, skipping upgrade: MarkupSafe>=0.23 in /usr/local/lib/python3.7/dist-packages (from jinja2->spacy) (1.1.1)\n",
            "Requirement already satisfied, skipping upgrade: chardet<4,>=3.0.2 in /usr/local/lib/python3.7/dist-packages (from requests<3.0.0,>=2.13.0->spacy) (3.0.4)\n",
            "Requirement already satisfied, skipping upgrade: certifi>=2017.4.17 in /usr/local/lib/python3.7/dist-packages (from requests<3.0.0,>=2.13.0->spacy) (2020.12.5)\n",
            "Requirement already satisfied, skipping upgrade: urllib3!=1.25.0,!=1.25.1,<1.26,>=1.21.1 in /usr/local/lib/python3.7/dist-packages (from requests<3.0.0,>=2.13.0->spacy) (1.24.3)\n",
            "Requirement already satisfied, skipping upgrade: idna<3,>=2.5 in /usr/local/lib/python3.7/dist-packages (from requests<3.0.0,>=2.13.0->spacy) (2.10)\n",
            "Requirement already satisfied, skipping upgrade: zipp>=0.5 in /usr/local/lib/python3.7/dist-packages (from importlib-metadata>=0.20; python_version < \"3.8\"->spacy) (3.4.1)\n",
            "Requirement already satisfied, skipping upgrade: click<7.2.0,>=7.1.1 in /usr/local/lib/python3.7/dist-packages (from typer<0.4.0,>=0.3.0->spacy) (7.1.2)\n"
          ],
          "name": "stdout"
        }
      ]
    },
    {
      "cell_type": "code",
      "metadata": {
        "id": "2zWPIsicvbCG"
      },
      "source": [
        "import re\n",
        "import spacy\n",
        "import pandas as pd\n",
        "from nltk.stem import PorterStemmer\n",
        "from spacy.tokenizer import Tokenizer"
      ],
      "execution_count": 32,
      "outputs": []
    },
    {
      "cell_type": "code",
      "metadata": {
        "id": "Qik5gHG3ys74",
        "outputId": "ce785030-2e61-44e2-b9b8-f899fad156aa",
        "colab": {
          "resources": {
            "http://localhost:8080/nbextensions/google.colab/files.js": {
              "data": "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",
              "ok": true,
              "headers": [
                [
                  "content-type",
                  "application/javascript"
                ]
              ],
              "status": 200,
              "status_text": ""
            }
          },
          "base_uri": "https://localhost:8080/",
          "height": 73
        }
      },
      "source": [
        "from google.colab import files\n",
        "uploaded = files.upload()"
      ],
      "execution_count": 33,
      "outputs": [
        {
          "output_type": "display_data",
          "data": {
            "text/html": [
              "\n",
              "     <input type=\"file\" id=\"files-b7ee7210-b05d-4609-b4bf-aa42d715a091\" name=\"files[]\" multiple disabled\n",
              "        style=\"border:none\" />\n",
              "     <output id=\"result-b7ee7210-b05d-4609-b4bf-aa42d715a091\">\n",
              "      Upload widget is only available when the cell has been executed in the\n",
              "      current browser session. Please rerun this cell to enable.\n",
              "      </output>\n",
              "      <script src=\"/nbextensions/google.colab/files.js\"></script> "
            ],
            "text/plain": [
              "<IPython.core.display.HTML object>"
            ]
          },
          "metadata": {
            "tags": []
          }
        },
        {
          "output_type": "stream",
          "text": [
            "Saving Womens Clothing E-Commerce Reviews.csv to Womens Clothing E-Commerce Reviews (1).csv\n"
          ],
          "name": "stdout"
        }
      ]
    },
    {
      "cell_type": "code",
      "metadata": {
        "id": "-EDSjisFvXyE",
        "outputId": "75fcb3f6-5f1b-467c-a5ce-a856116240cf",
        "colab": {
          "base_uri": "https://localhost:8080/",
          "height": 476
        }
      },
      "source": [
        "df = pd.read_csv('Womens Clothing E-Commerce Reviews.csv', index_col = 'Unnamed: 0')\n",
        "df.head()"
      ],
      "execution_count": 34,
      "outputs": [
        {
          "output_type": "execute_result",
          "data": {
            "text/html": [
              "<div>\n",
              "<style scoped>\n",
              "    .dataframe tbody tr th:only-of-type {\n",
              "        vertical-align: middle;\n",
              "    }\n",
              "\n",
              "    .dataframe tbody tr th {\n",
              "        vertical-align: top;\n",
              "    }\n",
              "\n",
              "    .dataframe thead th {\n",
              "        text-align: right;\n",
              "    }\n",
              "</style>\n",
              "<table border=\"1\" class=\"dataframe\">\n",
              "  <thead>\n",
              "    <tr style=\"text-align: right;\">\n",
              "      <th></th>\n",
              "      <th>Clothing ID</th>\n",
              "      <th>Age</th>\n",
              "      <th>Title</th>\n",
              "      <th>Review Text</th>\n",
              "      <th>Rating</th>\n",
              "      <th>Recommended IND</th>\n",
              "      <th>Positive Feedback Count</th>\n",
              "      <th>Division Name</th>\n",
              "      <th>Department Name</th>\n",
              "      <th>Class Name</th>\n",
              "    </tr>\n",
              "  </thead>\n",
              "  <tbody>\n",
              "    <tr>\n",
              "      <th>0</th>\n",
              "      <td>767</td>\n",
              "      <td>33</td>\n",
              "      <td>NaN</td>\n",
              "      <td>Absolutely wonderful - silky and sexy and comf...</td>\n",
              "      <td>4</td>\n",
              "      <td>1</td>\n",
              "      <td>0</td>\n",
              "      <td>Initmates</td>\n",
              "      <td>Intimate</td>\n",
              "      <td>Intimates</td>\n",
              "    </tr>\n",
              "    <tr>\n",
              "      <th>1</th>\n",
              "      <td>1080</td>\n",
              "      <td>34</td>\n",
              "      <td>NaN</td>\n",
              "      <td>Love this dress!  it's sooo pretty.  i happene...</td>\n",
              "      <td>5</td>\n",
              "      <td>1</td>\n",
              "      <td>4</td>\n",
              "      <td>General</td>\n",
              "      <td>Dresses</td>\n",
              "      <td>Dresses</td>\n",
              "    </tr>\n",
              "    <tr>\n",
              "      <th>2</th>\n",
              "      <td>1077</td>\n",
              "      <td>60</td>\n",
              "      <td>Some major design flaws</td>\n",
              "      <td>I had such high hopes for this dress and reall...</td>\n",
              "      <td>3</td>\n",
              "      <td>0</td>\n",
              "      <td>0</td>\n",
              "      <td>General</td>\n",
              "      <td>Dresses</td>\n",
              "      <td>Dresses</td>\n",
              "    </tr>\n",
              "    <tr>\n",
              "      <th>3</th>\n",
              "      <td>1049</td>\n",
              "      <td>50</td>\n",
              "      <td>My favorite buy!</td>\n",
              "      <td>I love, love, love this jumpsuit. it's fun, fl...</td>\n",
              "      <td>5</td>\n",
              "      <td>1</td>\n",
              "      <td>0</td>\n",
              "      <td>General Petite</td>\n",
              "      <td>Bottoms</td>\n",
              "      <td>Pants</td>\n",
              "    </tr>\n",
              "    <tr>\n",
              "      <th>4</th>\n",
              "      <td>847</td>\n",
              "      <td>47</td>\n",
              "      <td>Flattering shirt</td>\n",
              "      <td>This shirt is very flattering to all due to th...</td>\n",
              "      <td>5</td>\n",
              "      <td>1</td>\n",
              "      <td>6</td>\n",
              "      <td>General</td>\n",
              "      <td>Tops</td>\n",
              "      <td>Blouses</td>\n",
              "    </tr>\n",
              "  </tbody>\n",
              "</table>\n",
              "</div>"
            ],
            "text/plain": [
              "   Clothing ID  Age  ... Department Name Class Name\n",
              "0          767   33  ...        Intimate  Intimates\n",
              "1         1080   34  ...         Dresses    Dresses\n",
              "2         1077   60  ...         Dresses    Dresses\n",
              "3         1049   50  ...         Bottoms      Pants\n",
              "4          847   47  ...            Tops    Blouses\n",
              "\n",
              "[5 rows x 10 columns]"
            ]
          },
          "metadata": {
            "tags": []
          },
          "execution_count": 34
        }
      ]
    },
    {
      "cell_type": "code",
      "metadata": {
        "id": "-bFMqVq6zI0x",
        "outputId": "ea104325-7e03-4920-891f-d38c26099ae3",
        "colab": {
          "base_uri": "https://localhost:8080/"
        }
      },
      "source": [
        "df.isnull().sum()"
      ],
      "execution_count": 35,
      "outputs": [
        {
          "output_type": "execute_result",
          "data": {
            "text/plain": [
              "Clothing ID                   0\n",
              "Age                           0\n",
              "Title                      3810\n",
              "Review Text                 845\n",
              "Rating                        0\n",
              "Recommended IND               0\n",
              "Positive Feedback Count       0\n",
              "Division Name                14\n",
              "Department Name              14\n",
              "Class Name                   14\n",
              "dtype: int64"
            ]
          },
          "metadata": {
            "tags": []
          },
          "execution_count": 35
        }
      ]
    },
    {
      "cell_type": "code",
      "metadata": {
        "id": "mcHfb6BLzPyX",
        "outputId": "f463bb92-a6c8-4e6a-bfdd-f95e2a1b757e",
        "colab": {
          "base_uri": "https://localhost:8080/"
        }
      },
      "source": [
        "df.dtypes"
      ],
      "execution_count": 36,
      "outputs": [
        {
          "output_type": "execute_result",
          "data": {
            "text/plain": [
              "Clothing ID                 int64\n",
              "Age                         int64\n",
              "Title                      object\n",
              "Review Text                object\n",
              "Rating                      int64\n",
              "Recommended IND             int64\n",
              "Positive Feedback Count     int64\n",
              "Division Name              object\n",
              "Department Name            object\n",
              "Class Name                 object\n",
              "dtype: object"
            ]
          },
          "metadata": {
            "tags": []
          },
          "execution_count": 36
        }
      ]
    },
    {
      "cell_type": "code",
      "metadata": {
        "id": "owrPxYhUzVUp",
        "outputId": "8e7ad066-2789-44db-f2bc-4a35a77c7554",
        "colab": {
          "base_uri": "https://localhost:8080/"
        }
      },
      "source": [
        "# shape 확인 \n",
        "df.shape"
      ],
      "execution_count": 37,
      "outputs": [
        {
          "output_type": "execute_result",
          "data": {
            "text/plain": [
              "(23486, 10)"
            ]
          },
          "metadata": {
            "tags": []
          },
          "execution_count": 37
        }
      ]
    },
    {
      "cell_type": "code",
      "metadata": {
        "id": "C46fOrfTzXVs",
        "outputId": "a237c3e7-734c-40af-935b-1a93ccf057ca",
        "colab": {
          "base_uri": "https://localhost:8080/"
        }
      },
      "source": [
        "# 결측치 drop을 위한 비율 계산\n",
        "23486 * 0.1"
      ],
      "execution_count": 38,
      "outputs": [
        {
          "output_type": "execute_result",
          "data": {
            "text/plain": [
              "2348.6"
            ]
          },
          "metadata": {
            "tags": []
          },
          "execution_count": 38
        }
      ]
    },
    {
      "cell_type": "code",
      "metadata": {
        "id": "VDx8Wsy4zxAU"
      },
      "source": [
        "# 결측치 모두 제거 \n",
        "df = df.dropna()"
      ],
      "execution_count": 39,
      "outputs": []
    },
    {
      "cell_type": "code",
      "metadata": {
        "id": "i0XD6vP90OBz",
        "outputId": "5851bcf0-d48a-45b6-da2e-679a7f648b93",
        "colab": {
          "base_uri": "https://localhost:8080/"
        }
      },
      "source": [
        "# 결측치 제거 여부 확인 \n",
        "df.isnull().sum()"
      ],
      "execution_count": 40,
      "outputs": [
        {
          "output_type": "execute_result",
          "data": {
            "text/plain": [
              "Clothing ID                0\n",
              "Age                        0\n",
              "Title                      0\n",
              "Review Text                0\n",
              "Rating                     0\n",
              "Recommended IND            0\n",
              "Positive Feedback Count    0\n",
              "Division Name              0\n",
              "Department Name            0\n",
              "Class Name                 0\n",
              "dtype: int64"
            ]
          },
          "metadata": {
            "tags": []
          },
          "execution_count": 40
        }
      ]
    },
    {
      "cell_type": "markdown",
      "metadata": {
        "id": "i_IiC3InnxVS"
      },
      "source": [
        "### 1) Spacy 코스를 수강하세요\n",
        "- chapter1의 1~5 강좌 수강 (https://course.spacy.io/en/)\n",
        "  - 챕터 1, 2, 3, 4, 5를 수강하는 것은 아닙니다!\n",
        "- 문항 1) chapter1-5의 강의를 들으시고, 해당 제목을 입력하시오."
      ]
    },
    {
      "cell_type": "markdown",
      "metadata": {
        "id": "L79RNnDnudPr"
      },
      "source": [
        "1. Introduction to spaCy\n",
        "2. Getting Started\n",
        "3. Documents, spans and tokens\n",
        "4. Lexical attributes\n",
        "5. Statistical models"
      ]
    },
    {
      "cell_type": "markdown",
      "metadata": {
        "id": "JepbPJw5nxVT"
      },
      "source": [
        "### 2) 토큰을 정제합니다. \n",
        "- 문자를 소문자로 통일\n",
        "- 분석에 관련 없는 정보 제거\n",
        "\n",
        "- 문항 2-1) 소문자로 변경하는 함수를 입력하시오. \n",
        "- 문항 2-2) re 라이브러리에서 알파벳 소문자, 숫자만 받을 수 있는 코드를 작성하시오. "
      ]
    },
    {
      "cell_type": "code",
      "metadata": {
        "id": "_VBRkXS6nxVT"
      },
      "source": [
        "# 2-1\n",
        "# str.lower()\n",
        "\n",
        "# 2-2\n",
        "# re.sub(\"[^a-z0-9 ]\", \"\", text)"
      ],
      "execution_count": 41,
      "outputs": []
    },
    {
      "cell_type": "code",
      "metadata": {
        "id": "g-5GQIpZ0-8N",
        "outputId": "b2693808-b985-4563-b30f-273a88782dc5",
        "colab": {
          "base_uri": "https://localhost:8080/",
          "height": 204
        }
      },
      "source": [
        "def token_preprocessing(text):\n",
        "    text = str(text).lower()\n",
        "    regex = r'[^a-zA-Z0-9 ]'\n",
        "    text = re.sub(regex, '', text)\n",
        "    \n",
        "    return text\n",
        "\n",
        "df['Review Text_tokens'] = df['Review Text'].apply(token_preprocessing)\n",
        "df[['Review Text','Review Text_tokens']].head()"
      ],
      "execution_count": 42,
      "outputs": [
        {
          "output_type": "execute_result",
          "data": {
            "text/html": [
              "<div>\n",
              "<style scoped>\n",
              "    .dataframe tbody tr th:only-of-type {\n",
              "        vertical-align: middle;\n",
              "    }\n",
              "\n",
              "    .dataframe tbody tr th {\n",
              "        vertical-align: top;\n",
              "    }\n",
              "\n",
              "    .dataframe thead th {\n",
              "        text-align: right;\n",
              "    }\n",
              "</style>\n",
              "<table border=\"1\" class=\"dataframe\">\n",
              "  <thead>\n",
              "    <tr style=\"text-align: right;\">\n",
              "      <th></th>\n",
              "      <th>Review Text</th>\n",
              "      <th>Review Text_tokens</th>\n",
              "    </tr>\n",
              "  </thead>\n",
              "  <tbody>\n",
              "    <tr>\n",
              "      <th>2</th>\n",
              "      <td>I had such high hopes for this dress and reall...</td>\n",
              "      <td>i had such high hopes for this dress and reall...</td>\n",
              "    </tr>\n",
              "    <tr>\n",
              "      <th>3</th>\n",
              "      <td>I love, love, love this jumpsuit. it's fun, fl...</td>\n",
              "      <td>i love love love this jumpsuit its fun flirty ...</td>\n",
              "    </tr>\n",
              "    <tr>\n",
              "      <th>4</th>\n",
              "      <td>This shirt is very flattering to all due to th...</td>\n",
              "      <td>this shirt is very flattering to all due to th...</td>\n",
              "    </tr>\n",
              "    <tr>\n",
              "      <th>5</th>\n",
              "      <td>I love tracy reese dresses, but this one is no...</td>\n",
              "      <td>i love tracy reese dresses but this one is not...</td>\n",
              "    </tr>\n",
              "    <tr>\n",
              "      <th>6</th>\n",
              "      <td>I aded this in my basket at hte last mintue to...</td>\n",
              "      <td>i aded this in my basket at hte last mintue to...</td>\n",
              "    </tr>\n",
              "  </tbody>\n",
              "</table>\n",
              "</div>"
            ],
            "text/plain": [
              "                                         Review Text                                 Review Text_tokens\n",
              "2  I had such high hopes for this dress and reall...  i had such high hopes for this dress and reall...\n",
              "3  I love, love, love this jumpsuit. it's fun, fl...  i love love love this jumpsuit its fun flirty ...\n",
              "4  This shirt is very flattering to all due to th...  this shirt is very flattering to all due to th...\n",
              "5  I love tracy reese dresses, but this one is no...  i love tracy reese dresses but this one is not...\n",
              "6  I aded this in my basket at hte last mintue to...  i aded this in my basket at hte last mintue to..."
            ]
          },
          "metadata": {
            "tags": []
          },
          "execution_count": 42
        }
      ]
    },
    {
      "cell_type": "markdown",
      "metadata": {
        "id": "fv0u5Siu1e4v"
      },
      "source": [
        " 대문자, -, it's의 ' , love의 , 등이 제거 된 것을 관측할 수 있음"
      ]
    },
    {
      "cell_type": "code",
      "metadata": {
        "id": "YT6qIzjl2NsE",
        "outputId": "65a3a173-b1fd-4b52-85c0-357dbbfe8c2a",
        "colab": {
          "base_uri": "https://localhost:8080/"
        }
      },
      "source": [
        "spacy.load('en_core_web_lg')"
      ],
      "execution_count": 50,
      "outputs": [
        {
          "output_type": "execute_result",
          "data": {
            "text/plain": [
              "<spacy.lang.en.English at 0x7f6dbe254590>"
            ]
          },
          "metadata": {
            "tags": []
          },
          "execution_count": 50
        }
      ]
    },
    {
      "cell_type": "code",
      "metadata": {
        "id": "9Hbhjfk913D4",
        "outputId": "a2dd1ef1-e9e0-4872-915d-0992bc539256",
        "colab": {
          "base_uri": "https://localhost:8080/"
        }
      },
      "source": [
        "nlp = spacy.load('en_core_web_lg')\n",
        "tokenizer = Tokenizer(nlp.vocab)\n",
        "\n",
        "df['tokens'] = df['Review Text_tokens'].apply(lambda x : [token.text for token in tokenizer(x)])\n",
        "df['tokens'].head(10)"
      ],
      "execution_count": 43,
      "outputs": [
        {
          "output_type": "execute_result",
          "data": {
            "text/plain": [
              "2     [i, had, such, high, hopes, for, this, dress, ...\n",
              "3     [i, love, love, love, this, jumpsuit, its, fun...\n",
              "4     [this, shirt, is, very, flattering, to, all, d...\n",
              "5     [i, love, tracy, reese, dresses, but, this, on...\n",
              "6     [i, aded, this, in, my, basket, at, hte, last,...\n",
              "7     [i, ordered, this, in, carbon, for, store, pic...\n",
              "8     [i, love, this, dress, i, usually, get, an, xs...\n",
              "9     [im, 55, and, 125, lbs, i, ordered, the, s, pe...\n",
              "10    [dress, runs, small, esp, where, the, zipper, ...\n",
              "12    [more, and, more, i, find, myself, reliant, on...\n",
              "Name: tokens, dtype: object"
            ]
          },
          "metadata": {
            "tags": []
          },
          "execution_count": 43
        }
      ]
    },
    {
      "cell_type": "markdown",
      "metadata": {
        "id": "RdgRqlzsnxVT"
      },
      "source": [
        "### 3) 정제한 토큰을 시각화 합니다.\n",
        "- Top 10 토큰을 프린트 합니다.\n",
        "- 토큰의 수, 빈도 순위, 존재 문서 수, 비율 등 정보를 계산합니다.\n",
        "- 토큰 순위에 따른 퍼센트 누적 분포 그래프를 시각화 합니다.\n",
        "- 추천(recommended_ind)/비추천에 따라 비교되는 토큰을 시각화 합니다.\n",
        "- 문항 3) 추천 토큰 순위 10개 단어를 입력하시오."
      ]
    },
    {
      "cell_type": "code",
      "metadata": {
        "id": "Ii533sC-nxVT",
        "outputId": "d39f1b5c-c809-4a00-d640-47edfa778740",
        "colab": {
          "base_uri": "https://localhost:8080/"
        }
      },
      "source": [
        "# !pip install squarify"
      ],
      "execution_count": 44,
      "outputs": [
        {
          "output_type": "stream",
          "text": [
            "Requirement already satisfied: squarify in /usr/local/lib/python3.7/dist-packages (0.4.3)\n"
          ],
          "name": "stdout"
        }
      ]
    },
    {
      "cell_type": "code",
      "metadata": {
        "id": "WB53Tu8_u_2k"
      },
      "source": [
        "import squarify\n",
        "import seaborn as sns\n",
        "from collections import Counter\n",
        "import matplotlib.pyplot as plt\n",
        "from nltk.stem import PorterStemmer"
      ],
      "execution_count": 45,
      "outputs": []
    },
    {
      "cell_type": "code",
      "metadata": {
        "id": "TFPPC__Q3nWO",
        "outputId": "cfdb5101-47ec-44a2-f46e-fb18450f0d7b",
        "colab": {
          "base_uri": "https://localhost:8080/"
        }
      },
      "source": [
        "word_counts = Counter()\n",
        "df['tokens'].apply(lambda x: word_counts.update(x))\n",
        "\n",
        "word_counts.most_common(10)"
      ],
      "execution_count": 51,
      "outputs": [
        {
          "output_type": "execute_result",
          "data": {
            "text/plain": [
              "[('the', 68149),\n",
              " ('i', 52486),\n",
              " ('and', 43715),\n",
              " ('a', 38304),\n",
              " ('it', 37862),\n",
              " ('is', 27479),\n",
              " ('this', 22869),\n",
              " ('to', 21854),\n",
              " ('in', 18466),\n",
              " ('but', 14576)]"
            ]
          },
          "metadata": {
            "tags": []
          },
          "execution_count": 51
        }
      ]
    },
    {
      "cell_type": "code",
      "metadata": {
        "id": "sLQl4jGF32ZA"
      },
      "source": [
        "def word_count(docs):\n",
        "    # 전체 코퍼스에서 단어 빈도 카운트\n",
        "    word_counts = Counter()\n",
        "\n",
        "    # 단어가 존재하는 문서의 빈도 카운트, 단어가 한 번 이상 존재하면 +1\n",
        "    word_in_docs = Counter()\n",
        "\n",
        "    # 전체 문서의 갯수\n",
        "    total_docs = len(docs)\n",
        "\n",
        "    for doc in docs:\n",
        "        word_counts.update(doc)\n",
        "        word_in_docs.update(set(doc))\n",
        "\n",
        "    temp = zip(word_counts.keys(), word_counts.values())\n",
        "\n",
        "    wc = pd.DataFrame(temp, columns = ['word', 'count'])\n",
        "\n",
        "    # 단어의 순위\n",
        "    # method='first': 같은 값의 경우 먼저나온 요소를 우선\n",
        "    wc['rank'] = wc['count'].rank(method='first', ascending=False)\n",
        "    total = wc['count'].sum()\n",
        "\n",
        "    # 코퍼스 내 단어의 비율\n",
        "    wc['percent'] = wc['count'].apply(lambda x: x / total)\n",
        "\n",
        "    wc = wc.sort_values(by='rank')\n",
        "\n",
        "    # 누적 비율\n",
        "    # cumsum() : cumulative sum\n",
        "    wc['cul_percent'] = wc['percent'].cumsum()\n",
        "\n",
        "    temp2 = zip(word_in_docs.keys(), word_in_docs.values())\n",
        "    ac = pd.DataFrame(temp2, columns=['word', 'word_in_docs'])\n",
        "    wc = ac.merge(wc, on='word')\n",
        "    \n",
        "    # 전체 문서 중 존재하는 비율\n",
        "    wc['word_in_docs_percent'] = wc['word_in_docs'].apply(lambda x: x / total_docs)\n",
        "\n",
        "    return wc.sort_values(by='rank')"
      ],
      "execution_count": 52,
      "outputs": []
    },
    {
      "cell_type": "code",
      "metadata": {
        "id": "DYXcAgKo34TU",
        "outputId": "d5c2b715-b955-413f-e35a-496b780f56f5",
        "colab": {
          "base_uri": "https://localhost:8080/",
          "height": 204
        }
      },
      "source": [
        "wc = word_count(df['tokens'])\n",
        "wc.head()"
      ],
      "execution_count": 53,
      "outputs": [
        {
          "output_type": "execute_result",
          "data": {
            "text/html": [
              "<div>\n",
              "<style scoped>\n",
              "    .dataframe tbody tr th:only-of-type {\n",
              "        vertical-align: middle;\n",
              "    }\n",
              "\n",
              "    .dataframe tbody tr th {\n",
              "        vertical-align: top;\n",
              "    }\n",
              "\n",
              "    .dataframe thead th {\n",
              "        text-align: right;\n",
              "    }\n",
              "</style>\n",
              "<table border=\"1\" class=\"dataframe\">\n",
              "  <thead>\n",
              "    <tr style=\"text-align: right;\">\n",
              "      <th></th>\n",
              "      <th>word</th>\n",
              "      <th>word_in_docs</th>\n",
              "      <th>count</th>\n",
              "      <th>rank</th>\n",
              "      <th>percent</th>\n",
              "      <th>cul_percent</th>\n",
              "      <th>word_in_docs_percent</th>\n",
              "    </tr>\n",
              "  </thead>\n",
              "  <tbody>\n",
              "    <tr>\n",
              "      <th>1</th>\n",
              "      <td>the</td>\n",
              "      <td>17342</td>\n",
              "      <td>68149</td>\n",
              "      <td>1.0</td>\n",
              "      <td>0.055809</td>\n",
              "      <td>0.055809</td>\n",
              "      <td>0.882006</td>\n",
              "    </tr>\n",
              "    <tr>\n",
              "      <th>56</th>\n",
              "      <td>i</td>\n",
              "      <td>16696</td>\n",
              "      <td>52486</td>\n",
              "      <td>2.0</td>\n",
              "      <td>0.042982</td>\n",
              "      <td>0.098792</td>\n",
              "      <td>0.849151</td>\n",
              "    </tr>\n",
              "    <tr>\n",
              "      <th>9</th>\n",
              "      <td>and</td>\n",
              "      <td>17169</td>\n",
              "      <td>43715</td>\n",
              "      <td>3.0</td>\n",
              "      <td>0.035800</td>\n",
              "      <td>0.134591</td>\n",
              "      <td>0.873207</td>\n",
              "    </tr>\n",
              "    <tr>\n",
              "      <th>63</th>\n",
              "      <td>a</td>\n",
              "      <td>15681</td>\n",
              "      <td>38304</td>\n",
              "      <td>4.0</td>\n",
              "      <td>0.031368</td>\n",
              "      <td>0.165960</td>\n",
              "      <td>0.797528</td>\n",
              "    </tr>\n",
              "    <tr>\n",
              "      <th>14</th>\n",
              "      <td>it</td>\n",
              "      <td>14369</td>\n",
              "      <td>37862</td>\n",
              "      <td>5.0</td>\n",
              "      <td>0.031006</td>\n",
              "      <td>0.196966</td>\n",
              "      <td>0.730801</td>\n",
              "    </tr>\n",
              "  </tbody>\n",
              "</table>\n",
              "</div>"
            ],
            "text/plain": [
              "   word  word_in_docs  count  rank   percent  cul_percent  word_in_docs_percent\n",
              "1   the         17342  68149   1.0  0.055809     0.055809              0.882006\n",
              "56    i         16696  52486   2.0  0.042982     0.098792              0.849151\n",
              "9   and         17169  43715   3.0  0.035800     0.134591              0.873207\n",
              "63    a         15681  38304   4.0  0.031368     0.165960              0.797528\n",
              "14   it         14369  37862   5.0  0.031006     0.196966              0.730801"
            ]
          },
          "metadata": {
            "tags": []
          },
          "execution_count": 53
        }
      ]
    },
    {
      "cell_type": "code",
      "metadata": {
        "id": "OgT9PcsZ36TF",
        "outputId": "b6112fa6-c426-447d-e39e-11ccb02ce4b1",
        "colab": {
          "base_uri": "https://localhost:8080/",
          "height": 279
        }
      },
      "source": [
        "# 누적분포그래프 그리기 \n",
        "sns.lineplot(x='rank', y='cul_percent', data=wc);"
      ],
      "execution_count": 54,
      "outputs": [
        {
          "output_type": "display_data",
          "data": {
            "image/png": "[encoded data removed]",
            "text/plain": [
              "<Figure size 432x288 with 1 Axes>"
            ]
          },
          "metadata": {
            "tags": [],
            "needs_background": "light"
          }
        }
      ]
    },
    {
      "cell_type": "code",
      "metadata": {
        "id": "m8ljOahU3-uh",
        "outputId": "090df31f-490c-4549-abfa-e55ac75b5ae8",
        "colab": {
          "base_uri": "https://localhost:8080/",
          "height": 373
        }
      },
      "source": [
        "Recommend = df[df['Recommended IND'] == 1]\n",
        "NotRecommend = df[df['Recommended IND'] != 1]\n",
        "\n",
        "Recommend_count = word_count(Recommend['tokens'])\n",
        "NotRecommend_count = word_count(NotRecommend['tokens'])\n",
        "\n",
        "Recommend20 = Recommend_count[Recommend_count['rank'] <= 20]\n",
        "NotRecommend20 = NotRecommend_count[NotRecommend_count['rank'] <= 20]\n",
        "\n",
        "color = sns.color_palette(\"bwr_r\",20)\n",
        "\n",
        "fig,ax = plt.subplots(1,2, figsize=(12,6))\n",
        "squarify.plot(sizes=Recommend20['percent'],color = color, label=Recommend20['word'], alpha=0.6,ax=ax[0])\n",
        "squarify.plot(sizes=NotRecommend20['percent'],color = color, label=NotRecommend20['word'], alpha=0.6,ax=ax[1])\n",
        "ax[0].set_title('Recommended')\n",
        "ax[1].set_title('Not Recommended')\n",
        "ax[0].axis('off')\n",
        "ax[1].axis('off')\n",
        "plt.show()"
      ],
      "execution_count": 63,
      "outputs": [
        {
          "output_type": "display_data",
          "data": {
            "image/png": "[encoded data removed]",
            "text/plain": [
              "<Figure size 864x432 with 2 Axes>"
            ]
          },
          "metadata": {
            "tags": [],
            "needs_background": "light"
          }
        }
      ]
    },
    {
      "cell_type": "markdown",
      "metadata": {
        "id": "sURsv85FnxVU"
      },
      "source": [
        "### 4) 확장된 불용어 사전을 사용해 토큰을 정제합니다.\n",
        "\n",
        "- 문항 4) 불용어를 제거하고 난 뒤 토큰 순위 10개의 단어를 입력하시오."
      ]
    },
    {
      "cell_type": "code",
      "metadata": {
        "id": "WAGyh77enxVU",
        "outputId": "752c9222-39ce-472f-aca0-c4212751a91a",
        "colab": {
          "base_uri": "https://localhost:8080/",
          "height": 768
        }
      },
      "source": [
        "# 불용어 확장\n",
        "STOP_WORDS = nlp.Defaults.stop_words.union('dress')\n",
        "\n",
        "df['Not Stopwords'] = df['Review Text'].apply(token_preprocessing)\n",
        "\n",
        "# 불용어 제거\n",
        "tokens = []\n",
        "for doc in nlp.pipe(df['Not Stopwords']):\n",
        "  doc_tokens = []\n",
        "  for token in doc:\n",
        "    if (token.text not in STOP_WORDS)&(token.is_punct==False)&(token.is_space==False):\n",
        "      doc_tokens.append(token.text)\n",
        "  tokens.append(doc_tokens)\n",
        "\n",
        "# Add a Column\n",
        "df['Not Stopwords'] = tokens\n",
        "df.head()"
      ],
      "execution_count": 65,
      "outputs": [
        {
          "output_type": "execute_result",
          "data": {
            "text/html": [
              "<div>\n",
              "<style scoped>\n",
              "    .dataframe tbody tr th:only-of-type {\n",
              "        vertical-align: middle;\n",
              "    }\n",
              "\n",
              "    .dataframe tbody tr th {\n",
              "        vertical-align: top;\n",
              "    }\n",
              "\n",
              "    .dataframe thead th {\n",
              "        text-align: right;\n",
              "    }\n",
              "</style>\n",
              "<table border=\"1\" class=\"dataframe\">\n",
              "  <thead>\n",
              "    <tr style=\"text-align: right;\">\n",
              "      <th></th>\n",
              "      <th>Clothing ID</th>\n",
              "      <th>Age</th>\n",
              "      <th>Title</th>\n",
              "      <th>Review Text</th>\n",
              "      <th>Rating</th>\n",
              "      <th>Recommended IND</th>\n",
              "      <th>Positive Feedback Count</th>\n",
              "      <th>Division Name</th>\n",
              "      <th>Department Name</th>\n",
              "      <th>Class Name</th>\n",
              "      <th>Review Text_tokens</th>\n",
              "      <th>tokens</th>\n",
              "      <th>Not Stopwords</th>\n",
              "    </tr>\n",
              "  </thead>\n",
              "  <tbody>\n",
              "    <tr>\n",
              "      <th>2</th>\n",
              "      <td>1077</td>\n",
              "      <td>60</td>\n",
              "      <td>Some major design flaws</td>\n",
              "      <td>I had such high hopes for this dress and reall...</td>\n",
              "      <td>3</td>\n",
              "      <td>0</td>\n",
              "      <td>0</td>\n",
              "      <td>General</td>\n",
              "      <td>Dresses</td>\n",
              "      <td>Dresses</td>\n",
              "      <td>i had such high hopes for this dress and reall...</td>\n",
              "      <td>[i, had, such, high, hopes, for, this, dress, ...</td>\n",
              "      <td>[high, hopes, dress, wanted, work, initially, ...</td>\n",
              "    </tr>\n",
              "    <tr>\n",
              "      <th>3</th>\n",
              "      <td>1049</td>\n",
              "      <td>50</td>\n",
              "      <td>My favorite buy!</td>\n",
              "      <td>I love, love, love this jumpsuit. it's fun, fl...</td>\n",
              "      <td>5</td>\n",
              "      <td>1</td>\n",
              "      <td>0</td>\n",
              "      <td>General Petite</td>\n",
              "      <td>Bottoms</td>\n",
              "      <td>Pants</td>\n",
              "      <td>i love love love this jumpsuit its fun flirty ...</td>\n",
              "      <td>[i, love, love, love, this, jumpsuit, its, fun...</td>\n",
              "      <td>[love, love, love, jumpsuit, fun, flirty, fabu...</td>\n",
              "    </tr>\n",
              "    <tr>\n",
              "      <th>4</th>\n",
              "      <td>847</td>\n",
              "      <td>47</td>\n",
              "      <td>Flattering shirt</td>\n",
              "      <td>This shirt is very flattering to all due to th...</td>\n",
              "      <td>5</td>\n",
              "      <td>1</td>\n",
              "      <td>6</td>\n",
              "      <td>General</td>\n",
              "      <td>Tops</td>\n",
              "      <td>Blouses</td>\n",
              "      <td>this shirt is very flattering to all due to th...</td>\n",
              "      <td>[this, shirt, is, very, flattering, to, all, d...</td>\n",
              "      <td>[shirt, flattering, adjustable, tie, perfect, ...</td>\n",
              "    </tr>\n",
              "    <tr>\n",
              "      <th>5</th>\n",
              "      <td>1080</td>\n",
              "      <td>49</td>\n",
              "      <td>Not for the very petite</td>\n",
              "      <td>I love tracy reese dresses, but this one is no...</td>\n",
              "      <td>2</td>\n",
              "      <td>0</td>\n",
              "      <td>4</td>\n",
              "      <td>General</td>\n",
              "      <td>Dresses</td>\n",
              "      <td>Dresses</td>\n",
              "      <td>i love tracy reese dresses but this one is not...</td>\n",
              "      <td>[i, love, tracy, reese, dresses, but, this, on...</td>\n",
              "      <td>[love, tracy, reese, dresses, petite, 5, feet,...</td>\n",
              "    </tr>\n",
              "    <tr>\n",
              "      <th>6</th>\n",
              "      <td>858</td>\n",
              "      <td>39</td>\n",
              "      <td>Cagrcoal shimmer fun</td>\n",
              "      <td>I aded this in my basket at hte last mintue to...</td>\n",
              "      <td>5</td>\n",
              "      <td>1</td>\n",
              "      <td>1</td>\n",
              "      <td>General Petite</td>\n",
              "      <td>Tops</td>\n",
              "      <td>Knits</td>\n",
              "      <td>i aded this in my basket at hte last mintue to...</td>\n",
              "      <td>[i, aded, this, in, my, basket, at, hte, last,...</td>\n",
              "      <td>[aded, basket, hte, mintue, look, like, person...</td>\n",
              "    </tr>\n",
              "  </tbody>\n",
              "</table>\n",
              "</div>"
            ],
            "text/plain": [
              "   Clothing ID  ...                                      Not Stopwords\n",
              "2         1077  ...  [high, hopes, dress, wanted, work, initially, ...\n",
              "3         1049  ...  [love, love, love, jumpsuit, fun, flirty, fabu...\n",
              "4          847  ...  [shirt, flattering, adjustable, tie, perfect, ...\n",
              "5         1080  ...  [love, tracy, reese, dresses, petite, 5, feet,...\n",
              "6          858  ...  [aded, basket, hte, mintue, look, like, person...\n",
              "\n",
              "[5 rows x 13 columns]"
            ]
          },
          "metadata": {
            "tags": []
          },
          "execution_count": 65
        }
      ]
    },
    {
      "cell_type": "code",
      "metadata": {
        "id": "u3C4qssy5FYr",
        "outputId": "0d9029fb-d0df-4ea7-fb2b-f5ed63a7781d",
        "colab": {
          "base_uri": "https://localhost:8080/",
          "height": 359
        }
      },
      "source": [
        "Stopwords_count = word_count(df['Not Stopwords'])\n",
        "Stopwords_count[:10]"
      ],
      "execution_count": 67,
      "outputs": [
        {
          "output_type": "execute_result",
          "data": {
            "text/html": [
              "<div>\n",
              "<style scoped>\n",
              "    .dataframe tbody tr th:only-of-type {\n",
              "        vertical-align: middle;\n",
              "    }\n",
              "\n",
              "    .dataframe tbody tr th {\n",
              "        vertical-align: top;\n",
              "    }\n",
              "\n",
              "    .dataframe thead th {\n",
              "        text-align: right;\n",
              "    }\n",
              "</style>\n",
              "<table border=\"1\" class=\"dataframe\">\n",
              "  <thead>\n",
              "    <tr style=\"text-align: right;\">\n",
              "      <th></th>\n",
              "      <th>word</th>\n",
              "      <th>word_in_docs</th>\n",
              "      <th>count</th>\n",
              "      <th>rank</th>\n",
              "      <th>percent</th>\n",
              "      <th>cul_percent</th>\n",
              "      <th>word_in_docs_percent</th>\n",
              "    </tr>\n",
              "  </thead>\n",
              "  <tbody>\n",
              "    <tr>\n",
              "      <th>0</th>\n",
              "      <td>dress</td>\n",
              "      <td>5317</td>\n",
              "      <td>9239</td>\n",
              "      <td>1.0</td>\n",
              "      <td>0.017678</td>\n",
              "      <td>0.017678</td>\n",
              "      <td>0.270420</td>\n",
              "    </tr>\n",
              "    <tr>\n",
              "      <th>22</th>\n",
              "      <td>size</td>\n",
              "      <td>5822</td>\n",
              "      <td>7759</td>\n",
              "      <td>2.0</td>\n",
              "      <td>0.014846</td>\n",
              "      <td>0.032525</td>\n",
              "      <td>0.296104</td>\n",
              "    </tr>\n",
              "    <tr>\n",
              "      <th>38</th>\n",
              "      <td>love</td>\n",
              "      <td>6388</td>\n",
              "      <td>7667</td>\n",
              "      <td>3.0</td>\n",
              "      <td>0.014670</td>\n",
              "      <td>0.047195</td>\n",
              "      <td>0.324891</td>\n",
              "    </tr>\n",
              "    <tr>\n",
              "      <th>129</th>\n",
              "      <td>nt</td>\n",
              "      <td>5798</td>\n",
              "      <td>7480</td>\n",
              "      <td>4.0</td>\n",
              "      <td>0.014313</td>\n",
              "      <td>0.061508</td>\n",
              "      <td>0.294884</td>\n",
              "    </tr>\n",
              "    <tr>\n",
              "      <th>35</th>\n",
              "      <td>fit</td>\n",
              "      <td>5471</td>\n",
              "      <td>6485</td>\n",
              "      <td>5.0</td>\n",
              "      <td>0.012409</td>\n",
              "      <td>0.073917</td>\n",
              "      <td>0.278252</td>\n",
              "    </tr>\n",
              "    <tr>\n",
              "      <th>92</th>\n",
              "      <td>like</td>\n",
              "      <td>5102</td>\n",
              "      <td>6243</td>\n",
              "      <td>6.0</td>\n",
              "      <td>0.011946</td>\n",
              "      <td>0.085862</td>\n",
              "      <td>0.259485</td>\n",
              "    </tr>\n",
              "    <tr>\n",
              "      <th>149</th>\n",
              "      <td>m</td>\n",
              "      <td>4627</td>\n",
              "      <td>5840</td>\n",
              "      <td>7.0</td>\n",
              "      <td>0.011175</td>\n",
              "      <td>0.097037</td>\n",
              "      <td>0.235327</td>\n",
              "    </tr>\n",
              "    <tr>\n",
              "      <th>37</th>\n",
              "      <td>wear</td>\n",
              "      <td>4886</td>\n",
              "      <td>5694</td>\n",
              "      <td>8.0</td>\n",
              "      <td>0.010895</td>\n",
              "      <td>0.107932</td>\n",
              "      <td>0.248500</td>\n",
              "    </tr>\n",
              "    <tr>\n",
              "      <th>40</th>\n",
              "      <td>great</td>\n",
              "      <td>4464</td>\n",
              "      <td>5253</td>\n",
              "      <td>9.0</td>\n",
              "      <td>0.010051</td>\n",
              "      <td>0.117984</td>\n",
              "      <td>0.227037</td>\n",
              "    </tr>\n",
              "    <tr>\n",
              "      <th>158</th>\n",
              "      <td>fabric</td>\n",
              "      <td>3670</td>\n",
              "      <td>4253</td>\n",
              "      <td>10.0</td>\n",
              "      <td>0.008138</td>\n",
              "      <td>0.126122</td>\n",
              "      <td>0.186654</td>\n",
              "    </tr>\n",
              "  </tbody>\n",
              "</table>\n",
              "</div>"
            ],
            "text/plain": [
              "       word  word_in_docs  count  ...   percent  cul_percent  word_in_docs_percent\n",
              "0     dress          5317   9239  ...  0.017678     0.017678              0.270420\n",
              "22     size          5822   7759  ...  0.014846     0.032525              0.296104\n",
              "38     love          6388   7667  ...  0.014670     0.047195              0.324891\n",
              "129      nt          5798   7480  ...  0.014313     0.061508              0.294884\n",
              "35      fit          5471   6485  ...  0.012409     0.073917              0.278252\n",
              "92     like          5102   6243  ...  0.011946     0.085862              0.259485\n",
              "149       m          4627   5840  ...  0.011175     0.097037              0.235327\n",
              "37     wear          4886   5694  ...  0.010895     0.107932              0.248500\n",
              "40    great          4464   5253  ...  0.010051     0.117984              0.227037\n",
              "158  fabric          3670   4253  ...  0.008138     0.126122              0.186654\n",
              "\n",
              "[10 rows x 7 columns]"
            ]
          },
          "metadata": {
            "tags": []
          },
          "execution_count": 67
        }
      ]
    },
    {
      "cell_type": "markdown",
      "metadata": {
        "id": "yYg-7lGXnxVU"
      },
      "source": [
        "### 5) 통계적 트리밍 사용 전/후 토큰 분포를 비교합니다.\n",
        "- 문서 등장 비율이 20% 미만이고, 최소 1% 이상 등장하는 단어만 선택한 뒤,\n",
        "- 통계적 트리밍 사용 전/후 토큰 분포 시각화하고,\n",
        "- 문항 5-1) 통계적 트리밍 후 상위 토큰 10개의 단어를 입력하시오.\n",
        "- 문항 5-2) 불용어 처리 & 통계적 트리밍 후 상위 토큰 10개의 단어를 입력하시오."
      ]
    },
    {
      "cell_type": "code",
      "metadata": {
        "id": "ImuyJNmenxVU"
      },
      "source": [
        "wc_stat = wc[(0.01 <= wc['word_in_docs_percent'])&( wc['word_in_docs_percent']< 0.20)]\n",
        "Stopwords_stat = Stopwords_count[(Stopwords_count['word_in_docs_percent']<0.20)&(Stopwords_count['word_in_docs_percent']>=0.01)]"
      ],
      "execution_count": 68,
      "outputs": []
    },
    {
      "cell_type": "code",
      "metadata": {
        "id": "ww8QwKYC5nEX",
        "outputId": "cc69c439-5dfa-4ead-8ad1-3b6d360bddc1",
        "colab": {
          "base_uri": "https://localhost:8080/",
          "height": 169
        }
      },
      "source": [
        "fig,ax = plt.subplots(1,4, figsize=(30,4))\n",
        "sns.lineplot(x='rank', y='cul_percent', data=wc,ax=ax[0])\n",
        "sns.lineplot(x='rank', y='cul_percent', data=wc_stat,ax=ax[1])\n",
        "sns.lineplot(x='rank', y='cul_percent', data=Stopwords_count,ax=ax[2])\n",
        "sns.lineplot(x='rank', y='cul_percent', data=Stopwords_stat,ax=ax[3])\n",
        "ax[0].set_title('Before Trimming')\n",
        "ax[1].set_title('After Trimming')\n",
        "ax[2].set_title('Before removing stopwords Trimming')\n",
        "ax[3].set_title('After removing stopwords Trimming')"
      ],
      "execution_count": 70,
      "outputs": [
        {
          "output_type": "execute_result",
          "data": {
            "text/plain": [
              "Text(0.5, 1.0, 'After removing stopwords Trimming')"
            ]
          },
          "metadata": {
            "tags": []
          },
          "execution_count": 70
        },
        {
          "output_type": "display_data",
          "data": {
            "image/png": "[encoded data removed]",
            "text/plain": [
              "<Figure size 2160x288 with 4 Axes>"
            ]
          },
          "metadata": {
            "tags": [],
            "needs_background": "light"
          }
        }
      ]
    },
    {
      "cell_type": "code",
      "metadata": {
        "id": "YcFQ2PcMnxVV",
        "outputId": "fea064d5-b40d-450d-eca9-e7d1b2ab0f65",
        "colab": {
          "base_uri": "https://localhost:8080/",
          "height": 373
        }
      },
      "source": [
        "fig,ax = plt.subplots(1,2, figsize=(12,6))\n",
        "squarify.plot(sizes=Stopwords_count['percent'][:10], label=Stopwords_count['word'][:20], alpha=0.6,ax=ax[0])\n",
        "squarify.plot(sizes=Stopwords_stat['percent'][:10], label=Stopwords_stat['word'][:20], alpha=0.6,ax=ax[1])\n",
        "ax[0].set_title('Before removing stopwords Trimming')\n",
        "ax[1].set_title('After removing stopwords Trimming')\n",
        "\n",
        "color = sns.color_palette(\"bwr_r\",20)\n",
        "\n",
        "ax[0].axis('off')\n",
        "ax[1].axis('off')\n",
        "plt.show()"
      ],
      "execution_count": 71,
      "outputs": [
        {
          "output_type": "display_data",
          "data": {
            "image/png": "[encoded data removed]",
            "text/plain": [
              "<Figure size 864x432 with 2 Axes>"
            ]
          },
          "metadata": {
            "tags": [],
            "needs_background": "light"
          }
        }
      ]
    },
    {
      "cell_type": "markdown",
      "metadata": {
        "id": "f0iyh_gFnxVV"
      },
      "source": [
        "### 6) Lemmatization 사용 효과를 분석해 봅니다.\n",
        "- 문항 6-1) Stemming한 뒤 상위 10개 단어를 입력하시오.\n",
        "- 문항 6-2) Lemmatization을 진행한 뒤 상위 10개 단어를 입력하시오."
      ]
    },
    {
      "cell_type": "code",
      "metadata": {
        "id": "sIbh-OQK6CVx"
      },
      "source": [
        "from nltk.stem import PorterStemmer\n",
        "\n",
        "ps = PorterStemmer()\n",
        "\n",
        "tokens = []\n",
        "for doc in df['Not Stopwords']:\n",
        "    doc_tokens = []\n",
        "    for token in doc:\n",
        "        doc_tokens.append(ps.stem(token))\n",
        "    tokens.append(doc_tokens)\n",
        "\n",
        "df['stems'] = tokens"
      ],
      "execution_count": 72,
      "outputs": []
    },
    {
      "cell_type": "code",
      "metadata": {
        "id": "8405PWBl6DnJ",
        "outputId": "db26d269-bdfd-42bc-d1ef-e7a83ae46a5d",
        "colab": {
          "base_uri": "https://localhost:8080/",
          "height": 359
        }
      },
      "source": [
        "wc_stem = word_count(df['stems'])\n",
        "wc_stem20 = wc_stem[wc_stem['rank'] <= 20]\n",
        "wc_stem20[:10]"
      ],
      "execution_count": 73,
      "outputs": [
        {
          "output_type": "execute_result",
          "data": {
            "text/html": [
              "<div>\n",
              "<style scoped>\n",
              "    .dataframe tbody tr th:only-of-type {\n",
              "        vertical-align: middle;\n",
              "    }\n",
              "\n",
              "    .dataframe tbody tr th {\n",
              "        vertical-align: top;\n",
              "    }\n",
              "\n",
              "    .dataframe thead th {\n",
              "        text-align: right;\n",
              "    }\n",
              "</style>\n",
              "<table border=\"1\" class=\"dataframe\">\n",
              "  <thead>\n",
              "    <tr style=\"text-align: right;\">\n",
              "      <th></th>\n",
              "      <th>word</th>\n",
              "      <th>word_in_docs</th>\n",
              "      <th>count</th>\n",
              "      <th>rank</th>\n",
              "      <th>percent</th>\n",
              "      <th>cul_percent</th>\n",
              "      <th>word_in_docs_percent</th>\n",
              "    </tr>\n",
              "  </thead>\n",
              "  <tbody>\n",
              "    <tr>\n",
              "      <th>0</th>\n",
              "      <td>dress</td>\n",
              "      <td>5964</td>\n",
              "      <td>10687</td>\n",
              "      <td>1.0</td>\n",
              "      <td>0.020449</td>\n",
              "      <td>0.020449</td>\n",
              "      <td>0.303326</td>\n",
              "    </tr>\n",
              "    <tr>\n",
              "      <th>33</th>\n",
              "      <td>fit</td>\n",
              "      <td>7981</td>\n",
              "      <td>10080</td>\n",
              "      <td>2.0</td>\n",
              "      <td>0.019288</td>\n",
              "      <td>0.039737</td>\n",
              "      <td>0.405910</td>\n",
              "    </tr>\n",
              "    <tr>\n",
              "      <th>38</th>\n",
              "      <td>love</td>\n",
              "      <td>7938</td>\n",
              "      <td>9793</td>\n",
              "      <td>3.0</td>\n",
              "      <td>0.018738</td>\n",
              "      <td>0.058475</td>\n",
              "      <td>0.403723</td>\n",
              "    </tr>\n",
              "    <tr>\n",
              "      <th>22</th>\n",
              "      <td>size</td>\n",
              "      <td>6645</td>\n",
              "      <td>9456</td>\n",
              "      <td>4.0</td>\n",
              "      <td>0.018094</td>\n",
              "      <td>0.076569</td>\n",
              "      <td>0.337962</td>\n",
              "    </tr>\n",
              "    <tr>\n",
              "      <th>104</th>\n",
              "      <td>look</td>\n",
              "      <td>6318</td>\n",
              "      <td>8258</td>\n",
              "      <td>5.0</td>\n",
              "      <td>0.015801</td>\n",
              "      <td>0.092370</td>\n",
              "      <td>0.321330</td>\n",
              "    </tr>\n",
              "    <tr>\n",
              "      <th>124</th>\n",
              "      <td>nt</td>\n",
              "      <td>5798</td>\n",
              "      <td>7480</td>\n",
              "      <td>6.0</td>\n",
              "      <td>0.014313</td>\n",
              "      <td>0.106683</td>\n",
              "      <td>0.294884</td>\n",
              "    </tr>\n",
              "    <tr>\n",
              "      <th>37</th>\n",
              "      <td>wear</td>\n",
              "      <td>5920</td>\n",
              "      <td>7158</td>\n",
              "      <td>7.0</td>\n",
              "      <td>0.013697</td>\n",
              "      <td>0.120379</td>\n",
              "      <td>0.301088</td>\n",
              "    </tr>\n",
              "    <tr>\n",
              "      <th>89</th>\n",
              "      <td>like</td>\n",
              "      <td>5544</td>\n",
              "      <td>6896</td>\n",
              "      <td>8.0</td>\n",
              "      <td>0.013195</td>\n",
              "      <td>0.133574</td>\n",
              "      <td>0.281965</td>\n",
              "    </tr>\n",
              "    <tr>\n",
              "      <th>56</th>\n",
              "      <td>color</td>\n",
              "      <td>5400</td>\n",
              "      <td>6362</td>\n",
              "      <td>9.0</td>\n",
              "      <td>0.012173</td>\n",
              "      <td>0.145748</td>\n",
              "      <td>0.274641</td>\n",
              "    </tr>\n",
              "    <tr>\n",
              "      <th>142</th>\n",
              "      <td>m</td>\n",
              "      <td>4627</td>\n",
              "      <td>5840</td>\n",
              "      <td>10.0</td>\n",
              "      <td>0.011175</td>\n",
              "      <td>0.156922</td>\n",
              "      <td>0.235327</td>\n",
              "    </tr>\n",
              "  </tbody>\n",
              "</table>\n",
              "</div>"
            ],
            "text/plain": [
              "      word  word_in_docs  count  ...   percent  cul_percent  word_in_docs_percent\n",
              "0    dress          5964  10687  ...  0.020449     0.020449              0.303326\n",
              "33     fit          7981  10080  ...  0.019288     0.039737              0.405910\n",
              "38    love          7938   9793  ...  0.018738     0.058475              0.403723\n",
              "22    size          6645   9456  ...  0.018094     0.076569              0.337962\n",
              "104   look          6318   8258  ...  0.015801     0.092370              0.321330\n",
              "124     nt          5798   7480  ...  0.014313     0.106683              0.294884\n",
              "37    wear          5920   7158  ...  0.013697     0.120379              0.301088\n",
              "89    like          5544   6896  ...  0.013195     0.133574              0.281965\n",
              "56   color          5400   6362  ...  0.012173     0.145748              0.274641\n",
              "142      m          4627   5840  ...  0.011175     0.156922              0.235327\n",
              "\n",
              "[10 rows x 7 columns]"
            ]
          },
          "metadata": {
            "tags": []
          },
          "execution_count": 73
        }
      ]
    },
    {
      "cell_type": "code",
      "metadata": {
        "id": "AnJVCQ026hB6",
        "outputId": "4b896a32-9261-4e28-a2a0-6b7441e0bbbb",
        "colab": {
          "base_uri": "https://localhost:8080/",
          "height": 443
        }
      },
      "source": [
        "plt.figure(figsize=(20,10))\n",
        "plt.title('Stem')\n",
        "squarify.plot(sizes=wc_stem20['percent'][:20], label=wc_stem20['word'][:20], alpha=0.6)\n",
        "plt.axis('off')\n",
        "plt.show()"
      ],
      "execution_count": 76,
      "outputs": [
        {
          "output_type": "display_data",
          "data": {
            "image/png": "[encoded data removed]",
            "text/plain": [
              "<Figure size 1440x720 with 1 Axes>"
            ]
          },
          "metadata": {
            "tags": [],
            "needs_background": "light"
          }
        }
      ]
    },
    {
      "cell_type": "code",
      "metadata": {
        "id": "unQeDPzi6Ycq"
      },
      "source": [
        "df['lemmas'] = df['Review Text'].apply(token_preprocessing)\n",
        "tokens = []\n",
        "for doc in df['lemmas']:\n",
        "  doc = nlp(doc)\n",
        "  lemmas = []\n",
        "  for token in doc:\n",
        "    if ((token.is_stop == False) and (token.is_punct == False)) and (token.pos_ != 'PRON'):\n",
        "      lemmas.append(token.lemma_)\n",
        "  tokens.append(lemmas)\n",
        "\n",
        "df['lemmas'] = tokens"
      ],
      "execution_count": 74,
      "outputs": []
    },
    {
      "cell_type": "code",
      "metadata": {
        "id": "zurUxY4z6aCr",
        "outputId": "71f00c22-a1c0-4f3b-cb25-577d6a219d63",
        "colab": {
          "base_uri": "https://localhost:8080/",
          "height": 359
        }
      },
      "source": [
        "wc_lemmas = word_count(df['lemmas'])\n",
        "wc_lemmas20 = wc_lemmas[wc_lemmas['rank'] <= 20]\n",
        "wc_lemmas20[:10]"
      ],
      "execution_count": 75,
      "outputs": [
        {
          "output_type": "execute_result",
          "data": {
            "text/html": [
              "<div>\n",
              "<style scoped>\n",
              "    .dataframe tbody tr th:only-of-type {\n",
              "        vertical-align: middle;\n",
              "    }\n",
              "\n",
              "    .dataframe tbody tr th {\n",
              "        vertical-align: top;\n",
              "    }\n",
              "\n",
              "    .dataframe thead th {\n",
              "        text-align: right;\n",
              "    }\n",
              "</style>\n",
              "<table border=\"1\" class=\"dataframe\">\n",
              "  <thead>\n",
              "    <tr style=\"text-align: right;\">\n",
              "      <th></th>\n",
              "      <th>word</th>\n",
              "      <th>word_in_docs</th>\n",
              "      <th>count</th>\n",
              "      <th>rank</th>\n",
              "      <th>percent</th>\n",
              "      <th>cul_percent</th>\n",
              "      <th>word_in_docs_percent</th>\n",
              "    </tr>\n",
              "  </thead>\n",
              "  <tbody>\n",
              "    <tr>\n",
              "      <th>0</th>\n",
              "      <td>dress</td>\n",
              "      <td>5896</td>\n",
              "      <td>10586</td>\n",
              "      <td>1.0</td>\n",
              "      <td>0.019921</td>\n",
              "      <td>0.019921</td>\n",
              "      <td>0.299868</td>\n",
              "    </tr>\n",
              "    <tr>\n",
              "      <th>36</th>\n",
              "      <td>fit</td>\n",
              "      <td>7807</td>\n",
              "      <td>9753</td>\n",
              "      <td>2.0</td>\n",
              "      <td>0.018353</td>\n",
              "      <td>0.038274</td>\n",
              "      <td>0.397060</td>\n",
              "    </tr>\n",
              "    <tr>\n",
              "      <th>20</th>\n",
              "      <td>size</td>\n",
              "      <td>6432</td>\n",
              "      <td>9053</td>\n",
              "      <td>3.0</td>\n",
              "      <td>0.017036</td>\n",
              "      <td>0.055310</td>\n",
              "      <td>0.327128</td>\n",
              "    </tr>\n",
              "    <tr>\n",
              "      <th>37</th>\n",
              "      <td>wear</td>\n",
              "      <td>7000</td>\n",
              "      <td>8965</td>\n",
              "      <td>4.0</td>\n",
              "      <td>0.016870</td>\n",
              "      <td>0.072180</td>\n",
              "      <td>0.356017</td>\n",
              "    </tr>\n",
              "    <tr>\n",
              "      <th>38</th>\n",
              "      <td>love</td>\n",
              "      <td>7330</td>\n",
              "      <td>8874</td>\n",
              "      <td>5.0</td>\n",
              "      <td>0.016699</td>\n",
              "      <td>0.088879</td>\n",
              "      <td>0.372800</td>\n",
              "    </tr>\n",
              "    <tr>\n",
              "      <th>107</th>\n",
              "      <td>look</td>\n",
              "      <td>6278</td>\n",
              "      <td>8194</td>\n",
              "      <td>6.0</td>\n",
              "      <td>0.015419</td>\n",
              "      <td>0.104299</td>\n",
              "      <td>0.319296</td>\n",
              "    </tr>\n",
              "    <tr>\n",
              "      <th>126</th>\n",
              "      <td>nt</td>\n",
              "      <td>5796</td>\n",
              "      <td>7478</td>\n",
              "      <td>7.0</td>\n",
              "      <td>0.014072</td>\n",
              "      <td>0.118371</td>\n",
              "      <td>0.294782</td>\n",
              "    </tr>\n",
              "    <tr>\n",
              "      <th>90</th>\n",
              "      <td>like</td>\n",
              "      <td>5469</td>\n",
              "      <td>6786</td>\n",
              "      <td>8.0</td>\n",
              "      <td>0.012770</td>\n",
              "      <td>0.131141</td>\n",
              "      <td>0.278151</td>\n",
              "    </tr>\n",
              "    <tr>\n",
              "      <th>6</th>\n",
              "      <td></td>\n",
              "      <td>3729</td>\n",
              "      <td>6762</td>\n",
              "      <td>9.0</td>\n",
              "      <td>0.012725</td>\n",
              "      <td>0.143865</td>\n",
              "      <td>0.189655</td>\n",
              "    </tr>\n",
              "    <tr>\n",
              "      <th>58</th>\n",
              "      <td>color</td>\n",
              "      <td>5279</td>\n",
              "      <td>6170</td>\n",
              "      <td>10.0</td>\n",
              "      <td>0.011611</td>\n",
              "      <td>0.155476</td>\n",
              "      <td>0.268487</td>\n",
              "    </tr>\n",
              "  </tbody>\n",
              "</table>\n",
              "</div>"
            ],
            "text/plain": [
              "      word  word_in_docs  count  ...   percent  cul_percent  word_in_docs_percent\n",
              "0    dress          5896  10586  ...  0.019921     0.019921              0.299868\n",
              "36     fit          7807   9753  ...  0.018353     0.038274              0.397060\n",
              "20    size          6432   9053  ...  0.017036     0.055310              0.327128\n",
              "37    wear          7000   8965  ...  0.016870     0.072180              0.356017\n",
              "38    love          7330   8874  ...  0.016699     0.088879              0.372800\n",
              "107   look          6278   8194  ...  0.015419     0.104299              0.319296\n",
              "126     nt          5796   7478  ...  0.014072     0.118371              0.294782\n",
              "90    like          5469   6786  ...  0.012770     0.131141              0.278151\n",
              "6                   3729   6762  ...  0.012725     0.143865              0.189655\n",
              "58   color          5279   6170  ...  0.011611     0.155476              0.268487\n",
              "\n",
              "[10 rows x 7 columns]"
            ]
          },
          "metadata": {
            "tags": []
          },
          "execution_count": 75
        }
      ]
    },
    {
      "cell_type": "code",
      "metadata": {
        "id": "EHifvTts6jXW",
        "outputId": "9166d91b-ce17-4b38-9f9c-466fa496762c",
        "colab": {
          "base_uri": "https://localhost:8080/",
          "height": 443
        }
      },
      "source": [
        "plt.figure(figsize=(20,10))\n",
        "plt.title('Lemmatization')\n",
        "squarify.plot(sizes=wc_lemmas20['percent'][:20], label=wc_lemmas20['word'][:20], alpha=0.6)\n",
        "plt.axis('off')\n",
        "plt.show()"
      ],
      "execution_count": 77,
      "outputs": [
        {
          "output_type": "display_data",
          "data": {
            "image/png": "[encoded data removed]",
            "text/plain": [
              "<Figure size 1440x720 with 1 Axes>"
            ]
          },
          "metadata": {
            "tags": [],
            "needs_background": "light"
          }
        }
      ]
    },
    {
      "cell_type": "markdown",
      "metadata": {
        "id": "fXK19yoPnxVV"
      },
      "source": [
        "### 도전과제🔥 \n",
        "- Spacy 기능을 추가적으로 한 가지 사용해 봅니다.\n",
        "- 다른 자연어 데이터셋을 이용해서 지금까지 배운 내용을 복습해 봅시다."
      ]
    },
    {
      "cell_type": "code",
      "metadata": {
        "id": "n37naUF9nxVV"
      },
      "source": [
        "### 이곳에서 과제를 진행해 주세요 ### "
      ],
      "execution_count": 49,
      "outputs": []
    }
  ]
}