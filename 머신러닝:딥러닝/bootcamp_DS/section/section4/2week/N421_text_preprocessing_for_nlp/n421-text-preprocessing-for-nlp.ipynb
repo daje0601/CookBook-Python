{
  "nbformat": 4,
  "nbformat_minor": 0,
  "metadata": {
    "kernelspec": {
      "display_name": "P41_NLP",
      "language": "python",
      "name": "p41_nlp"
    },
    "language_info": {
      "codemirror_mode": {
        "name": "ipython",
        "version": 3
      },
      "file_extension": ".py",
      "mimetype": "text/x-python",
      "name": "python",
      "nbconvert_exporter": "python",
      "pygments_lexer": "ipython3",
      "version": "3.7.7"
    },
    "toc-autonumbering": false,
    "toc-showcode": false,
    "toc-showmarkdowntxt": false,
    "colab": {
      "name": "n411-text-preprocessing-for-nlp.ipynb",
      "provenance": [],
      "toc_visible": true
    }
  },
  "cells": [
    {
      "cell_type": "markdown",
      "metadata": {
        "id": "qzqaQLJuikfe"
      },
      "source": [
        "<img align=\"right\" src=\"https://ds-cs-images.s3.ap-northeast-2.amazonaws.com/Codestates_Fulllogo_Color.png\" width=100>\n",
        "\n",
        "## *DATA SCIENCE / SECTION 4 / SPRINT 2 / NOTE 1*\n",
        "\n",
        "---\n",
        "\n",
        "# Text Preprocessing for NLP"
      ]
    },
    {
      "cell_type": "markdown",
      "metadata": {
        "id": "8moZ0JZCgz2Y"
      },
      "source": [
        "## 🏆 목차\n",
        "  * N411. 신경망과 퍼셉트론의 개념 학습 - **구조, 입출력, 학습**\n",
        "  * N412. 역전파(Backpropagation, backward pass) - **학습방법에 대한 구체적인 지식**\n",
        "  * N413. 신경망 프레임워크와 학습규제(regularization) 전략 - **Weight Decay, Constraint, Learning Rate**\n",
        "  * N414. 신경망의 파라미터 튜닝, 실험추적 시스템 - **Keras tuner, wandb**\n",
        "---\n",
        "  * N421. 텍스트 전처리 - **필요성, 토큰화, 시각화, 불용어제거**\n",
        "  * N422. 텍스트 벡터화 - **언어모델의 이해, CountVectorize, TF-IDF, LSA**\n",
        "  * N423. Word2Vec, 시퀀스 데이터를 위한 딥러닝 - **Word2Vec이해, RNN, LSTM, GRU**\n",
        "  * N424. Attention과 Transformer - **개념소개, Self-attention, 구동원리**\n",
        "---\n",
        "  * N431. CNN (Convolutional Neural Network) - **이미지 데이터 처리방법, pre-trained model 사용방법**\n",
        "  * N432. Segmenatation - **FCN, Unet, 상용모델 사용하기** \n",
        "  * N433. AutoEncoder - **데이터 압축, Latent개념, 분류기로의 활용**\n",
        "  * N434. GAN(Generative Adversarial Network) - **DCGAN, CycleGAN, 상용 GAN 구현하기**"
      ]
    },
    {
      "cell_type": "markdown",
      "metadata": {
        "id": "1SFgeWPNikft"
      },
      "source": [
        "### Warm up"
      ]
    },
    {
      "cell_type": "markdown",
      "metadata": {
        "toc-hr-collapsed": false,
        "id": "8p_lCKXiikfu"
      },
      "source": [
        "자연어처리, NLP(Natural Language Processing)에서 \"Natural Language(자연어)\" 란 사람들이 일상 샐활에 사용하는 언어를 말합니다.\n",
        "\n",
        "자연어를 컴퓨터에게 이해시키는 작업이 NLP 입니다. 자연어는 프로그래밍 언어보다 훨씬 비구조적인 특성을 가집니다. 그래서 컴퓨터는 자연어를 이해하기가 어렵습니다.\n",
        "\n",
        "특히 우리가 서로 대화할 때 섬세한 뜻을 전달하는 뉘앙스라든지, 풍자적인 말투, 아이러니한 상황 등을 컴퓨터가 이해하고 잘 구분하게 할 수 있을까요?\n",
        "\n",
        "우리도 여전히 실수를 많이 하고 있는 상황인데, 컴퓨터에게도 쉽지는 않겠지요?\n",
        "\n",
        "#### 자연어처리 관련 용어\n",
        "- **코퍼스**(Corpus, 말뭉치)란 특정한 목적을 가지고 수집한 텍스트 데이터를 말합니다.\n",
        "- **문서**(Document)란 문장(Sentence)들의 집합입니다\n",
        "- **문장**(Sentence)이란 여러개의 **토큰**(단어, 형태소 등)으로 구성된 문자열 입니다. 마침표, 느낌표 같은 기호로 주로 구분됩니다.\n",
        "- **어휘집합**(Vocabulary)는 코퍼스에 있는 모든 문서, 문장을 토큰화한 후 중복을 제거한 토큰의 집합을 말합니다.\n",
        "    \n",
        "#### 다음 영상들을 시청하세요\n",
        "- [NLP for Developers: Tokenization | Rasa](https://youtu.be/Z_GGVn6LBRI)\n",
        "- [Stemming to Consolidate Vocabulary](https://youtu.be/gBwGPI0srBE)\n",
        "- [Stopwords - Intro to Machine Learning](https://youtu.be/E63RZli2F2o)\n",
        "\n",
        "\n",
        "#### Conda 환경설정\n",
        "\n",
        "Conda는 데이터사이언스 커뮤니티에서 가장 많이 사용하는 환경관리툴 입니다. 이번 유닛 부터는 Conda를 사용하여 파이썬 패키지 간의 의존성을 관리할 것입니다.\n",
        "\n",
        "> __conda__: Package, dependency and environment management for any language—Python, R, Ruby, Lua, Scala, Java, JavaScript, C/ C++, FORTRAN, and more.\n",
        "\n",
        "**가장 빠르고 쉽게 Conda를 사용하는 방법은 지금 여러분이 사용하는 운영체제에 바로 [Anaconda Individual Edition](https://www.anaconda.com/products/individual)을 설치하는 것 입니다.** \n",
        "\n",
        "Conda 인스톨 후 다음 가이드를 읽고 예시를 따라 진행해 보세요\n",
        "\n",
        "- [\"A Guide to Conda Environments\"](https://towardsdatascience.com/a-guide-to-conda-environments-bc6180fc533)\n",
        "- [\"Setting started with conda\"](https://conda.io/projects/conda/en/latest/user-guide/getting-started.html)\n",
        "\n",
        "#### 그럼 이제 NLP 스프린트를 진행하기 위한 환경을 마련해 보겠습니다:\n",
        "\n",
        "1. 각자 운영체제에 있는 커맨드라인 툴을 오픈합니다. (터미널 or Anaconda Prompt)\n",
        "\n",
        "2. `requirements.txt` 파일이 있는 폴더로 이동합니다.\n",
        "\n",
        "3. `conda create -n P41_NLP python==3.7` 명령어를 실행해서 P41_NLP env를 생성합니다. env 명은 여러분이 원하시는 것을 사용해도 괜찮습니다.\n",
        "\n",
        "4. `conda activate P41_NLP` 명령어를 실행해 생성한 환경으로 진입합니다. 진입에 성공하면 `conda install --force-reinstall -y --name P41_NLP -c conda-forge --file requirements.txt`을 실행하여 필요한 패키지를 설치합니다.\n",
        "\n",
        "5. 설치가 잘 완료되면, `python -m ipykernel install --user --name P41_NLP --display-name P41_NLP` 를 실행하여 JupyterLab에서 이 커널을 선택할 수 있도록 합니다.\n",
        "\n",
        "6. 마지막으로 Spacy의 언어 모델을 다운로드 받습니다. 다음 두 명령어를 차례로 실행합니다. `python -m spacy download en_core_web_md` `python -m spacy download en_core_web_lg`\n",
        "\n",
        "7. 이제 모든 설정이 끝났습니다. `conda deactivate P41_NLP` 를 실행하여 환경에서 빠져 나온 후 JupyterLab을 실행하여 여러분이 추가한 P41_NLP 커널이 존재하는지 확인해 보세요."
      ]
    },
    {
      "cell_type": "markdown",
      "metadata": {
        "id": "-ZcbM2r3ikfu"
      },
      "source": [
        "---"
      ]
    },
    {
      "cell_type": "markdown",
      "metadata": {
        "id": "KPUOhK6Eikft"
      },
      "source": [
        "## 🏆 학습목표\n",
        "* 자연어 처리를 위한 파이프라인을 배운다\n",
        "* 텍스트 토큰화(Tokenization) 방법을 이해한다\n",
        "* 불용어(Stopwords) 제거할 수 있다.\n",
        "* 표제어 추출(lemmatization)과 어간추출(stemming)에 대해서 이해한다."
      ]
    },
    {
      "cell_type": "markdown",
      "metadata": {
        "id": "52WAjm6oiqUe"
      },
      "source": [
        "자연어 처리로 첫 걸음을 내딛게 되신 것을 환영합니다. <br>\n",
        "자연어 처리가 다루는 분야는 다양하지만, 본질은 우리 말을 컴퓨터가 알아듣게 하는 것입니다. 그 과정에서 필요한 기술들에 대해서 하나씩 공부해봅시다. \n",
        "\n",
        "이전 과정에서도 어느정도 다뤄보았겠지만, Python을 이용해서 텍스트를 다루는 연습도 하게됩니다. 텍스트를 단어로 분할하거나, 캐릭터로 변환하는 것, 그리고 단어를 단어 고유의 ID로 변환(벡터화)하는 방법들을 공부하게 될 것입니다. "
      ]
    },
    {
      "cell_type": "markdown",
      "metadata": {
        "id": "Fqp5IVC_ikfv"
      },
      "source": [
        "## NLP pipeline\n",
        "\n",
        "한국어와 영어 등 우리가 쓰는 말을 자연어(Natural Language)라고합니다. 그러니 자연어 처리는 문자그대로 해석하면 우리의 말을 어떻게 처리할 것인지를 의미합니다. 우리가 python을 배우고 코딩하고있는 것처럼, 우리의 언어를 인식시키는 과정이라고 생각하면 됩니다. 코딩과 다른 점이라고 하면 규칙이 조금 더 유연하다는 특징이 있습니다. 그렇기 때문에 일반 코딩언어와는 다르게 조금 더 복잡한 과정이 필요하게 됩니다. \n",
        "\n",
        "\n",
        "<img src=\"https://i.imgur.com/Gfdf4Uz.png\" width=\"700\"/>\n",
        "\n",
        "위와 같이 복잡한 과정들을 거쳐야 합니다. \n",
        "\n",
        "그러니 복잡한 언어를 컴퓨터로 넣기 위해서 우리가 살펴보아야 할 것들이 많이 있습니다. 단어의 의미, Thesaurus(유의어), 통계기반 기법, 추론 기반 기법(Word2Vec, 다음 수업에서 학습) 등을 알아야 합니다. 참고로 이 수업방식은 스탠퍼드 대학교의 커리큘럼(CS224d)을 참고하여 제작하였습니다. \n",
        "\n",
        "유의어 (Thesaurus, 시소러스)\n",
        "  사람이 직접 의미를 입력해주어도 좋습니다. 사전이 대표적인 예시라고 할 수 있습니다. 사전에 하단을 보면, 보통 유의어, 동의어 등이 적혀있는 것을 보실 수 있습니다. 한편 상위개념과 하위개념도 있습니다. vehicle - car, train, bus 등이 알기쉬운 예시입니다. car의 추가 하위는 sedan, SUV, batch-back 등이 있을 수 있습니다. \n",
        "  이런 유의어 정보를 이용해서 단어들의 네트워크를 이용하면 단어사이의 유사도를 구할 수 있고, 이 외에도 우리에게 유용한 일들을 컴퓨터가 수행할 수 있게 됩니다. \n",
        "\n",
        "- WordNet : 자연어 분야의 가장 유명한 시소러스 (프린스턴 대학)\n",
        "\n",
        "시소러스의 문제점, \n",
        "- 1) 사람이 정의한 것이기 때문에 시대에 따라서 변하는 특징이 있습니다. 우리가 배우고 있는 딥러닝도 20년 전에는 사용하지 않던 신조어입니다. 또 의미가 변하기도 합니다. \n",
        "- 2) 단어의 미묘한 차이를 표현하기가 어렵다. - 빈티지/레트로, 노랗다/누렇다 ?\n",
        "- 3) 인건비 - 누군가는 정의를 해줘야 하기 때문입니다. \n",
        "\n",
        "\n",
        "\n",
        "\n",
        "\n",
        "\n",
        "\n",
        "\n",
        "\n"
      ]
    },
    {
      "cell_type": "markdown",
      "metadata": {
        "id": "siHx14cHpsAV"
      },
      "source": [
        "### 통계 기반 기법, 말뭉치(corpus) 이용\n",
        "  말뭉치라는 것은 단한히 말하면 대량의 텍스트 데이터입니다. 최근 데이터 경진대회들을 보면 트위터 글, 아마존 리뷰 등의 말뭉치 데이터들을 볼 수 있는데 이것이 대표적인 사례입니다. 이 데이터에는 사람들이 글을 어떻게 사용하는지가 담겨있기 때문에 단순히 데이터이지만, 그 활용성을 담고 있습니다. 이런 뭉치에서부터 통계적으로 유의미한 데이터를 추출하는데 목적이 있습니다. "
      ]
    },
    {
      "cell_type": "code",
      "metadata": {
        "colab": {
          "base_uri": "https://localhost:8080/",
          "height": 35
        },
        "id": "VRiB2ALlpweg",
        "outputId": "cf989cb3-0fb3-4eec-ad4b-23e417fc0b9e"
      },
      "source": [
        "#말뭉치 전처리\n",
        "text = \"Hello world! nice to meet you! python is nice language!\"\n",
        "text = text.lower()\n",
        "text = text.replace('!', ' .')\n",
        "text"
      ],
      "execution_count": 1,
      "outputs": [
        {
          "output_type": "execute_result",
          "data": {
            "application/vnd.google.colaboratory.intrinsic+json": {
              "type": "string"
            },
            "text/plain": [
              "'hello world . nice to meet you . python is nice language .'"
            ]
          },
          "metadata": {
            "tags": []
          },
          "execution_count": 1
        }
      ]
    },
    {
      "cell_type": "code",
      "metadata": {
        "colab": {
          "base_uri": "https://localhost:8080/"
        },
        "id": "4vKlUwKeqO_p",
        "outputId": "482553ac-c9ac-4e9c-ecbf-b705f21aa9a6"
      },
      "source": [
        "# split words\n",
        "word = text.split(' ')\n",
        "word"
      ],
      "execution_count": 2,
      "outputs": [
        {
          "output_type": "execute_result",
          "data": {
            "text/plain": [
              "['hello',\n",
              " 'world',\n",
              " '.',\n",
              " 'nice',\n",
              " 'to',\n",
              " 'meet',\n",
              " 'you',\n",
              " '.',\n",
              " 'python',\n",
              " 'is',\n",
              " 'nice',\n",
              " 'language',\n",
              " '.']"
            ]
          },
          "metadata": {
            "tags": []
          },
          "execution_count": 2
        }
      ]
    },
    {
      "cell_type": "markdown",
      "metadata": {
        "id": "z3A_tY5JqiTC"
      },
      "source": [
        "이렇게 단순한 기능부터 차근차근히 배워보겠습니다. "
      ]
    },
    {
      "cell_type": "markdown",
      "metadata": {
        "toc-hr-collapsed": false,
        "id": "8DEaKnIPikfv"
      },
      "source": [
        "### 텍스트 토큰화(Tokenization)"
      ]
    },
    {
      "cell_type": "markdown",
      "metadata": {
        "toc-hr-collapsed": true,
        "id": "YThr_noIikfv"
      },
      "source": [
        "> **token**: an instance of a sequence of characters in some particular document that are grouped together as a useful semantic unit for processing\n",
        "\n",
        "> 토큰: 가장 낮은 단위로 어휘 항목들을 구분할 수 있는 분류 요소. 의미를 가지는 최소한의 문자 덩어리\n",
        "\n",
        "토큰은 보통 자연어 처리에서 최소단위로 사용되는데 단어, 형태소 등이 될 수 있습니다. 앞으로 우리는 문장이나 문서를 토큰화해 사용할 것입니다."
      ]
    },
    {
      "cell_type": "markdown",
      "metadata": {
        "id": "Y6HnOYA7ikfw"
      },
      "source": [
        "### 올바른 토큰화\n",
        "\n",
        "* 반복가능한(iterable) 데이터 구조(list, generator 등)에 저장 되어야 합니다.\n",
        "    - 의미단위(semantic unit)를 분석하기 위해서 입니다.\n",
        "    - ```str.split(' ')```\n",
        "* 가능하면 문자를 모두 대문자 or 소문자로 통일 합니다.\n",
        "    - 복잡도를 줄이고 읽기 쉽게 합니다.\n",
        "    - ```str.lower()```\n",
        "* 가능하면 문장 부호, 공백 등 영문자, 숫자가 아닌 문자들을 제거해야 합니다.\n",
        "    - 분석에 관련 없는 정보를 제거합니다.\n",
        "    - ```re.sub(r'[^a-zA-Z ^0-9]', '')```"
      ]
    },
    {
      "cell_type": "markdown",
      "metadata": {
        "id": "nUdQHtvTikfw"
      },
      "source": [
        "무작위로 영문시퀀스를 만들어 토큰화 연습을 해 보도록 하겠습니다. **이 문장에서 가장 많은 빈도로 나타나는 문자는 무엇일까요?**"
      ]
    },
    {
      "cell_type": "code",
      "metadata": {
        "id": "J0EzcsZmikfw"
      },
      "source": [
        "random_seq = \"ABJIOASJFIOJADFIJOQIJPOOSIUDFUIOHQOIJAAAJIJAPSIDJFAIAAIJAPOAJFB\""
      ],
      "execution_count": 9,
      "outputs": []
    },
    {
      "cell_type": "markdown",
      "metadata": {
        "id": "JZePLxccikfx"
      },
      "source": [
        "이 문자열을 보았을때 가장 유용한 토큰은 문자(character) 입니다."
      ]
    },
    {
      "cell_type": "code",
      "metadata": {
        "colab": {
          "base_uri": "https://localhost:8080/"
        },
        "id": "ByxymNHmikfx",
        "outputId": "e353a6e0-e7d0-4620-ea17-98a040c93e62"
      },
      "source": [
        "tokens = list(random_seq)\n",
        "print(tokens)"
      ],
      "execution_count": 10,
      "outputs": [
        {
          "output_type": "stream",
          "text": [
            "['A', 'B', 'J', 'I', 'O', 'A', 'S', 'J', 'F', 'I', 'O', 'J', 'A', 'D', 'F', 'I', 'J', 'O', 'Q', 'I', 'J', 'P', 'O', 'O', 'S', 'I', 'U', 'D', 'F', 'U', 'I', 'O', 'H', 'Q', 'O', 'I', 'J', 'A', 'A', 'A', 'J', 'I', 'J', 'A', 'P', 'S', 'I', 'D', 'J', 'F', 'A', 'I', 'A', 'A', 'I', 'J', 'A', 'P', 'O', 'A', 'J', 'F', 'B']\n"
          ],
          "name": "stdout"
        }
      ]
    },
    {
      "cell_type": "markdown",
      "metadata": {
        "id": "VhzdN8uxikfx"
      },
      "source": [
        "- list 함수로 토큰을 리스트(반복가능한 데이터 구조)에 저장을 하였고,\n",
        "- 모두 대문자로 통일 되었으며\n",
        "- 알파벳 외에 구두점 등 다른 문자가 없습니다.\n",
        "\n",
        "토큰화가 잘 된 것으로 보이니 바로 분석을 시도해 볼 수 있겠습니다."
      ]
    },
    {
      "cell_type": "code",
      "metadata": {
        "colab": {
          "base_uri": "https://localhost:8080/",
          "height": 265
        },
        "id": "vgAS2ZYAikfy",
        "outputId": "6436e7f8-1549-48e1-a706-8724d6441a14"
      },
      "source": [
        "import seaborn as sns\n",
        "sns.countplot(x=tokens);"
      ],
      "execution_count": 11,
      "outputs": [
        {
          "output_type": "display_data",
          "data": {
            "image/png": "[encoded data removed]",
            "text/plain": [
              "<Figure size 432x288 with 1 Axes>"
            ]
          },
          "metadata": {
            "tags": [],
            "needs_background": "light"
          }
        }
      ]
    },
    {
      "cell_type": "markdown",
      "metadata": {
        "id": "DIF6lupKikfy"
      },
      "source": [
        "가장 많은 빈도를 보이는 문자는 'A' 입니다. 우리는 이같이 복잡하고 섞여있는 문자들을 눈으로 직접 나누는 작업에 매우매우 취약합니다.\n",
        "그래서 이 복잡한 데이터를 이해 쉽고 카운트를 하는 등 분석이 가능한 토큰으로 바꾸었습니다.\n",
        "\n",
        "이러한 작업이 오늘 여러분과 다룰 핵심 내용입니다."
      ]
    },
    {
      "cell_type": "markdown",
      "metadata": {
        "id": "Ck3Qrd98rHMk"
      },
      "source": [
        "### 단어의 분산 표현\n",
        "  다양한 색상으로 디스플레이가 되었습니다. 잠깐 색상에 대해서 얘기를 해볼까요? 섹션1에서 디스플레이 색상에 대해서 많이 배웠겠지만, 간단히 언급하면 색상은 정말 다양합니다. 파란색(blue)뿐만 아니라 하늘색(ski-blue)도 있죠. RGB라는 빛의 삼원색으로 구성하여 수많은 색상을 만들어낼 수 있습니다. 파란색, 하늘색이라는 이름대신에 3차원의 벡터형태로 색상을 표현할 수 있습니다. 또 색상을 정확하게 전달할 수 있는 능력도 가지고 있습니다. 디자이너와 혹시 대화할 기회가 생기면, 색상코드를 주고받을 일이 많이 생길텐데, 그만큼 명확한 특징도 없습니다. \n",
        "  이렇게 색처럼 단어도 이런 벡터로 표현할 수 있을까요? 벡터를 통해서 색상이 정해지듯이 단어도 정해질 수 있다는 것입니다. 그러면서도 그 의미가 정확하게 전달되어야겠죠. 이를 자연어 처리 분야에서는 단어의 분산표현(distributional representation)이라고 말합니다. "
      ]
    },
    {
      "cell_type": "markdown",
      "metadata": {
        "id": "WhtGVUG-sf6b"
      },
      "source": [
        "### 분포 가설\n",
        "  자연어 처리의 역사에서 벡터화 연구는 끊임없이 있었습니다. 간단한 아이디어에서 출발한 연구가 많았는데, 중요한 아이디어는 바로 단어의 물리적인 거리입니다. 단어의 의미는 주변 단어들에 의해서 형성된다는 것이죠. 이를 분포가설(Distributional hypothesis)이라고 합니다. \n",
        "  단어 자체의 의미보다는 그 단어가 사용된 맥락(context)가 중요하다는 것이죠. 의미가 같은 단어들은 같은 맥락에서 더 많이 등장하게 되는 것도 우리가 잘 알고 있습니다. \n",
        "  이후의 모델을 배울 때에도 이 맥락, Context에 대해서는 많이 다뤄질 예정입니다. \n",
        "\n",
        "#### 동시발생 행렬\n",
        "  분포 가설을 기초로하여 단어를 벡터화하는 것을 생각해봅시다. 주변 단어를 '세어보는' 방법이 자연스럽게 떠오릅니다. 단어 하나를 선택하면, 그 단어 주변의 단어들이 어떻게 구성되어있는 지 알아보는 방법인 것이죠. 이를 '통계 기반(statistical based) 방법이라고 합니다. \n",
        "\n",
        "  <img src=\"https://i.stack.imgur.com/y3oku.png\">\n",
        "\n",
        "베스트 커플을 뽑아야 하는 설문조사 결과를 자동으로 분석해야 한다고 하면, 모든 조사 문항헤서 같이 언급된 이름의 빈도를 세어서 정리할 수 있다. 이런 그림이 동시발생행렬(co-occurrence matrix)라고 합니다. \n",
        "\n",
        "  이 외에도 문장 내에서 단어의 개수(TF), 여러 문장에서 사용된 단어와 그렇지 않는 단어(IDF)들 이런 특징을 이용해서 정보를 추출할 수도 있습니다. 이 내용은 다음 수업시간에 조금 더 자세히 배워보도록 하겠습니다. "
      ]
    },
    {
      "cell_type": "markdown",
      "metadata": {
        "id": "B5FmzeSHuJT1"
      },
      "source": [
        "---"
      ]
    },
    {
      "cell_type": "markdown",
      "metadata": {
        "toc-hr-collapsed": true,
        "id": "XiJdCK97ikfy"
      },
      "source": [
        "## 파이썬 기본 함수로 토큰화(Tokenizing)를 수행해 봅시다.\n",
        "\n",
        "이번에는 단어들로 구성된 문장을 넣어 보겠습니다."
      ]
    },
    {
      "cell_type": "code",
      "metadata": {
        "id": "_Lff_pD7ikfy"
      },
      "source": [
        "# 단어가 토큰입니다\n",
        "words = \"Constructor, Leadership, refer, Yeah, way to go, buddy!;\""
      ],
      "execution_count": 12,
      "outputs": []
    },
    {
      "cell_type": "markdown",
      "metadata": {
        "id": "SzjgsJklikfy"
      },
      "source": [
        "##### 토큰을 Iterable 데이터 구조에 저장합니다.\n",
        "\n",
        "파이썬에서 스트링 객체는 iterable 입니다. 하지만 지금 sample 은 단어 토큰이 아닌 문자가 반복되는 구조입니다."
      ]
    },
    {
      "cell_type": "code",
      "metadata": {
        "colab": {
          "base_uri": "https://localhost:8080/"
        },
        "id": "MizTKUcLikfz",
        "outputId": "89c051fa-28ee-4c30-9878-59b796aa69c9"
      },
      "source": [
        "type(words)"
      ],
      "execution_count": 13,
      "outputs": [
        {
          "output_type": "execute_result",
          "data": {
            "text/plain": [
              "str"
            ]
          },
          "metadata": {
            "tags": []
          },
          "execution_count": 13
        }
      ]
    },
    {
      "cell_type": "markdown",
      "metadata": {
        "id": "lpNvd8kBikfz"
      },
      "source": [
        "python `enumerate` 함수는 String, List 등 자료형을 입력으로 받아 인덱스 값을 포함하는 enumerate 객체를 리턴합니다.\n",
        "for문에서 많이 쓰입니다."
      ]
    },
    {
      "cell_type": "code",
      "metadata": {
        "colab": {
          "base_uri": "https://localhost:8080/"
        },
        "id": "XU4vwDd9ikfz",
        "outputId": "90af0b39-441a-41d1-ae99-e15957c09e91"
      },
      "source": [
        "enumerate(words)"
      ],
      "execution_count": 14,
      "outputs": [
        {
          "output_type": "execute_result",
          "data": {
            "text/plain": [
              "<enumerate at 0x7faeacac77d0>"
            ]
          },
          "metadata": {
            "tags": []
          },
          "execution_count": 14
        }
      ]
    },
    {
      "cell_type": "code",
      "metadata": {
        "colab": {
          "base_uri": "https://localhost:8080/"
        },
        "id": "rHWHOzerikfz",
        "outputId": "b1660266-ba2f-41a0-ccb5-345267cb5bb2"
      },
      "source": [
        "for count, ele in enumerate(words[:5]): \n",
        "    print(count, ele)\n"
      ],
      "execution_count": 15,
      "outputs": [
        {
          "output_type": "stream",
          "text": [
            "0 C\n",
            "1 o\n",
            "2 n\n",
            "3 s\n",
            "4 t\n"
          ],
          "name": "stdout"
        }
      ]
    },
    {
      "cell_type": "code",
      "metadata": {
        "colab": {
          "base_uri": "https://localhost:8080/"
        },
        "id": "Z-rOlrIeikfz",
        "outputId": "64981d4a-cfb8-4b11-bf79-02e5a727e97c"
      },
      "source": [
        "list(enumerate(words))[:10]"
      ],
      "execution_count": 16,
      "outputs": [
        {
          "output_type": "execute_result",
          "data": {
            "text/plain": [
              "[(0, 'C'),\n",
              " (1, 'o'),\n",
              " (2, 'n'),\n",
              " (3, 's'),\n",
              " (4, 't'),\n",
              " (5, 'r'),\n",
              " (6, 'u'),\n",
              " (7, 'c'),\n",
              " (8, 't'),\n",
              " (9, 'o')]"
            ]
          },
          "metadata": {
            "tags": []
          },
          "execution_count": 16
        }
      ]
    },
    {
      "cell_type": "markdown",
      "metadata": {
        "id": "jHqgJ0ptikf0"
      },
      "source": [
        "words 에서 의미 단위를 단어라고 했을 때, `.split()`를 사용해 공백으로 문장을 나누면 단어가 iterable 단위가 되어 리스트에 저장할 수 있습니다."
      ]
    },
    {
      "cell_type": "code",
      "metadata": {
        "colab": {
          "base_uri": "https://localhost:8080/"
        },
        "id": "wsW65iGeikf0",
        "outputId": "0f4f56f7-2112-48b2-da45-8e74de6ac7e1"
      },
      "source": [
        "words.split(\" \")"
      ],
      "execution_count": 17,
      "outputs": [
        {
          "output_type": "execute_result",
          "data": {
            "text/plain": [
              "['Constructor,',\n",
              " 'Leadership,',\n",
              " 'refer,',\n",
              " 'Yeah,',\n",
              " 'way',\n",
              " 'to',\n",
              " 'go,',\n",
              " 'buddy!;']"
            ]
          },
          "metadata": {
            "tags": []
          },
          "execution_count": 17
        }
      ]
    },
    {
      "cell_type": "code",
      "metadata": {
        "colab": {
          "base_uri": "https://localhost:8080/"
        },
        "id": "dzHa5cIsikf0",
        "outputId": "522a562d-68af-4e9e-9537-f4a1bd65a0aa"
      },
      "source": [
        "words.split(',')"
      ],
      "execution_count": 18,
      "outputs": [
        {
          "output_type": "execute_result",
          "data": {
            "text/plain": [
              "['Constructor', ' Leadership', ' refer', ' Yeah', ' way to go', ' buddy!;']"
            ]
          },
          "metadata": {
            "tags": []
          },
          "execution_count": 18
        }
      ]
    },
    {
      "cell_type": "markdown",
      "metadata": {
        "id": "bcsUO2OAikf0"
      },
      "source": [
        "#### 대소문자를 정제 합니다\n",
        "\n",
        "가장 일반적인 토큰정제과정은 대소문자를 일치시키는 것입니다. 대소문자를 일치시켜 의미적으로 같은 여러 토큰을 한 토큰으로 만들 수 있습니다.\n",
        "\n",
        "`.lower()`/`.upper()` 문자열 메소드를 사용해 소/대문자로 정제합니다.\n",
        "\n",
        "예제에 사용할 데이터를 불러오겠습니다."
      ]
    },
    {
      "cell_type": "code",
      "metadata": {
        "id": "K7F8oB1Tikf0"
      },
      "source": [
        "# sampling from: 'https://www.kaggle.com/datafiniti/consumer-reviews-of-amazon-products'\n",
        "import pandas as pd\n",
        "df = pd.read_csv('https://ds-lecture-data.s3.ap-northeast-2.amazonaws.com/amazon/Datafiniti_Amazon_Consumer_Reviews_of_Amazon_Products_May19_sample.csv')"
      ],
      "execution_count": 19,
      "outputs": []
    },
    {
      "cell_type": "code",
      "metadata": {
        "id": "zXMyTUN-ikf1",
        "colab": {
          "base_uri": "https://localhost:8080/"
        },
        "outputId": "49fa413e-928d-4e0c-c6a7-59c7d45a70d5"
      },
      "source": [
        "df.shape"
      ],
      "execution_count": 20,
      "outputs": [
        {
          "output_type": "execute_result",
          "data": {
            "text/plain": [
              "(10483, 25)"
            ]
          },
          "metadata": {
            "tags": []
          },
          "execution_count": 20
        }
      ]
    },
    {
      "cell_type": "code",
      "metadata": {
        "id": "yoQz4724ikf1",
        "colab": {
          "base_uri": "https://localhost:8080/",
          "height": 365
        },
        "outputId": "b68a481d-0575-4300-8764-d143f79b1a6c"
      },
      "source": [
        "df.head(3)"
      ],
      "execution_count": 21,
      "outputs": [
        {
          "output_type": "execute_result",
          "data": {
            "text/html": [
              "<div>\n",
              "<style scoped>\n",
              "    .dataframe tbody tr th:only-of-type {\n",
              "        vertical-align: middle;\n",
              "    }\n",
              "\n",
              "    .dataframe tbody tr th {\n",
              "        vertical-align: top;\n",
              "    }\n",
              "\n",
              "    .dataframe thead th {\n",
              "        text-align: right;\n",
              "    }\n",
              "</style>\n",
              "<table border=\"1\" class=\"dataframe\">\n",
              "  <thead>\n",
              "    <tr style=\"text-align: right;\">\n",
              "      <th></th>\n",
              "      <th>Unnamed: 0</th>\n",
              "      <th>id</th>\n",
              "      <th>dateAdded</th>\n",
              "      <th>dateUpdated</th>\n",
              "      <th>name</th>\n",
              "      <th>asins</th>\n",
              "      <th>brand</th>\n",
              "      <th>categories</th>\n",
              "      <th>primaryCategories</th>\n",
              "      <th>imageURLs</th>\n",
              "      <th>keys</th>\n",
              "      <th>manufacturer</th>\n",
              "      <th>manufacturerNumber</th>\n",
              "      <th>reviews.date</th>\n",
              "      <th>reviews.dateSeen</th>\n",
              "      <th>reviews.didPurchase</th>\n",
              "      <th>reviews.doRecommend</th>\n",
              "      <th>reviews.id</th>\n",
              "      <th>reviews.numHelpful</th>\n",
              "      <th>reviews.rating</th>\n",
              "      <th>reviews.sourceURLs</th>\n",
              "      <th>reviews.text</th>\n",
              "      <th>reviews.title</th>\n",
              "      <th>reviews.username</th>\n",
              "      <th>sourceURLs</th>\n",
              "    </tr>\n",
              "  </thead>\n",
              "  <tbody>\n",
              "    <tr>\n",
              "      <th>0</th>\n",
              "      <td>25971</td>\n",
              "      <td>AVqkIhxunnc1JgDc3kg_</td>\n",
              "      <td>2017-03-06T14:59:43Z</td>\n",
              "      <td>2019-02-23T02:49:38Z</td>\n",
              "      <td>Fire HD 8 Tablet with Alexa, 8 HD Display, 16 ...</td>\n",
              "      <td>B018T075DC</td>\n",
              "      <td>Amazon</td>\n",
              "      <td>Fire Tablets,Tablets,All Tablets,Amazon Tablet...</td>\n",
              "      <td>Electronics</td>\n",
              "      <td>https://www.upccodesearch.com/images/barcode/0...</td>\n",
              "      <td>amazon/b018t075dc,firehd8tabletwithalexa8hddis...</td>\n",
              "      <td>Amazon</td>\n",
              "      <td>53-004485</td>\n",
              "      <td>2017-01-18T00:00:00.000Z</td>\n",
              "      <td>2017-04-30T00:00:00Z,2017-06-07T00:00:00Z</td>\n",
              "      <td>NaN</td>\n",
              "      <td>True</td>\n",
              "      <td>NaN</td>\n",
              "      <td>0.0</td>\n",
              "      <td>3</td>\n",
              "      <td>http://reviews.bestbuy.com/3545/5620410/review...</td>\n",
              "      <td>Though I have got it for cheap price during bl...</td>\n",
              "      <td>An average Fire tablet</td>\n",
              "      <td>Ganamurthy</td>\n",
              "      <td>http://reviews.bestbuy.com/3545/5620410/review...</td>\n",
              "    </tr>\n",
              "    <tr>\n",
              "      <th>1</th>\n",
              "      <td>19398</td>\n",
              "      <td>AVwjfXqqQMlgsOJE8qmm</td>\n",
              "      <td>2017-05-20T01:34:04Z</td>\n",
              "      <td>2019-02-25T02:23:15Z</td>\n",
              "      <td>All-New Fire HD 8 Kids Edition Tablet, 8 HD Di...</td>\n",
              "      <td>B01J94SCAM</td>\n",
              "      <td>Amazon</td>\n",
              "      <td>Fire Tablets,Tablets,Amazon Tablets,Computers ...</td>\n",
              "      <td>Electronics</td>\n",
              "      <td>https://www.barcodable.com/images/barcode/0841...</td>\n",
              "      <td>amazonfirehd8kidsedition8tablet32gb7thgenerati...</td>\n",
              "      <td>Amazon</td>\n",
              "      <td>53-005705</td>\n",
              "      <td>2017-06-22T00:00:00.000Z</td>\n",
              "      <td>2018-05-27T00:00:00Z,2017-07-07T00:00:00Z,2017...</td>\n",
              "      <td>NaN</td>\n",
              "      <td>True</td>\n",
              "      <td>NaN</td>\n",
              "      <td>17.0</td>\n",
              "      <td>5</td>\n",
              "      <td>http://reviews.bestbuy.com/3545/5836204/review...</td>\n",
              "      <td>I purchased the 7\" for my son when he was 1.5 ...</td>\n",
              "      <td>3 year old loves it</td>\n",
              "      <td>dcc1970</td>\n",
              "      <td>https://reviews.bestbuy.com/3545/5836204/revie...</td>\n",
              "    </tr>\n",
              "    <tr>\n",
              "      <th>2</th>\n",
              "      <td>2410</td>\n",
              "      <td>AVpgNzjwLJeJML43Kpxn</td>\n",
              "      <td>2015-10-30T08:59:32Z</td>\n",
              "      <td>2019-04-25T09:08:16Z</td>\n",
              "      <td>AmazonBasics AAA Performance Alkaline Batterie...</td>\n",
              "      <td>B00QWO9P0O,B00LH3DMUO</td>\n",
              "      <td>Amazonbasics</td>\n",
              "      <td>AA,AAA,Health,Electronics,Health &amp; Household,C...</td>\n",
              "      <td>Health &amp; Beauty</td>\n",
              "      <td>https://images-na.ssl-images-amazon.com/images...</td>\n",
              "      <td>amazonbasics/hl002619,amazonbasicsaaaperforman...</td>\n",
              "      <td>AmazonBasics</td>\n",
              "      <td>HL-002619</td>\n",
              "      <td>2015-04-02T00:00:00.000Z</td>\n",
              "      <td>2017-08-28T00:00:00Z</td>\n",
              "      <td>NaN</td>\n",
              "      <td>NaN</td>\n",
              "      <td>NaN</td>\n",
              "      <td>NaN</td>\n",
              "      <td>5</td>\n",
              "      <td>https://www.amazon.com/product-reviews/B00QWO9...</td>\n",
              "      <td>Great price and great batteries! I will keep o...</td>\n",
              "      <td>Five Stars</td>\n",
              "      <td>ByDena</td>\n",
              "      <td>https://www.barcodable.com/upc/841710106442,ht...</td>\n",
              "    </tr>\n",
              "  </tbody>\n",
              "</table>\n",
              "</div>"
            ],
            "text/plain": [
              "   Unnamed: 0  ...                                         sourceURLs\n",
              "0       25971  ...  http://reviews.bestbuy.com/3545/5620410/review...\n",
              "1       19398  ...  https://reviews.bestbuy.com/3545/5836204/revie...\n",
              "2        2410  ...  https://www.barcodable.com/upc/841710106442,ht...\n",
              "\n",
              "[3 rows x 25 columns]"
            ]
          },
          "metadata": {
            "tags": []
          },
          "execution_count": 21
        }
      ]
    },
    {
      "cell_type": "markdown",
      "metadata": {
        "id": "QWXVR4Etikf1"
      },
      "source": [
        "아마존 브랜드가 보이네요, 이상한 점을 찾아 보세요"
      ]
    },
    {
      "cell_type": "code",
      "metadata": {
        "id": "8LjA2e3Iikf1",
        "colab": {
          "base_uri": "https://localhost:8080/"
        },
        "outputId": "c1238d59-b285-411e-b104-484fd8c3b346"
      },
      "source": [
        "df['brand'].value_counts()"
      ],
      "execution_count": 22,
      "outputs": [
        {
          "output_type": "execute_result",
          "data": {
            "text/plain": [
              "Amazon          5977\n",
              "Amazonbasics    4499\n",
              "AmazonBasics       7\n",
              "Name: brand, dtype: int64"
            ]
          },
          "metadata": {
            "tags": []
          },
          "execution_count": 22
        }
      ]
    },
    {
      "cell_type": "markdown",
      "metadata": {
        "id": "DsfdNDdbikf1"
      },
      "source": [
        "대소문자를 일치시켜 보겠습니다. 카테고리가 줄겠지요?"
      ]
    },
    {
      "cell_type": "code",
      "metadata": {
        "id": "jiLeDuXBikf2",
        "colab": {
          "base_uri": "https://localhost:8080/"
        },
        "outputId": "224d1b72-67d7-45bb-a154-39233bc65bfe"
      },
      "source": [
        "df['brand'] = df['brand'].apply(lambda x: x.lower())\n",
        "df['brand'].value_counts()"
      ],
      "execution_count": 23,
      "outputs": [
        {
          "output_type": "execute_result",
          "data": {
            "text/plain": [
              "amazon          5977\n",
              "amazonbasics    4506\n",
              "Name: brand, dtype: int64"
            ]
          },
          "metadata": {
            "tags": []
          },
          "execution_count": 23
        }
      ]
    },
    {
      "cell_type": "markdown",
      "metadata": {
        "id": "Mcp5-xUCikf2"
      },
      "source": [
        "##### 알파벳/숫자만 남겨 봅시다.\n",
        "\n",
        "이번에는 알파벳과 숫자만 남기기 원합니다. 문장 부호나 공백문자, 다른 기호들은 대부분 노이즈라고 볼 수 있습니다 (항상 그런 것은 아닙니다). 이번에는 `re` (regular expressions, 정규식) 패키지를 사용해서 정제를 해 보겠습니다.\n",
        "\n",
        "사용할 정규식 표현은 `'[^a-zA-Z0-9 ]'` 입니다. 이 표현은 소문자(a-z), 대문자(A-Z), 숫자(0-9), 공백문자(space)를 제외한 모든 문자를 제거합니다.\n",
        "\n",
        "- [참고: Python RegEx](https://www.w3schools.com/python/python_regex.asp#sub)\n",
        "- [정규 표현식 시작하기](https://wikidocs.net/4308#_2)"
      ]
    },
    {
      "cell_type": "code",
      "metadata": {
        "id": "sKBJfdinikf2"
      },
      "source": [
        "# 정규식 라이브러리\n",
        "import re\n",
        "\n",
        "# 정규식\n",
        "# []: [] 사이 문자를 매치, ^: not\n",
        "regex = r\"[^a-zA-Z0-9 ]\"\n",
        "\n",
        "# 정규식을 적용할 스트링\n",
        "test_str = (\"(Natural Language Processing) is easy!, DS!\\n\")\n",
        "\n",
        "# 치환할 문자\n",
        "subst = \"\"\n",
        "\n",
        "result = re.sub(regex, subst, test_str)"
      ],
      "execution_count": 24,
      "outputs": []
    },
    {
      "cell_type": "code",
      "metadata": {
        "id": "agAQ94mJikf2",
        "colab": {
          "base_uri": "https://localhost:8080/",
          "height": 35
        },
        "outputId": "d29104e6-51b6-471b-8ab5-0929d1c1d4fc"
      },
      "source": [
        "result"
      ],
      "execution_count": 25,
      "outputs": [
        {
          "output_type": "execute_result",
          "data": {
            "application/vnd.google.colaboratory.intrinsic+json": {
              "type": "string"
            },
            "text/plain": [
              "'Natural Language Processing is easy DS'"
            ]
          },
          "metadata": {
            "tags": []
          },
          "execution_count": 25
        }
      ]
    },
    {
      "cell_type": "markdown",
      "metadata": {
        "id": "hsmFFy6Zikf2"
      },
      "source": [
        "#### 정규식 정의에서 치환까지 수행하는 tokenize 함수를 만들어 보세요."
      ]
    },
    {
      "cell_type": "code",
      "metadata": {
        "id": "1BhNbBhcikf3"
      },
      "source": [
        "def tokenize(text):\n",
        "    \"\"\"text 문자열을 의미있는 단어 단위로 list에 저장합니다.\n",
        "    Args:\n",
        "        text (str): 토큰화 할 문자열\n",
        "    Returns:\n",
        "        list: 토큰이 저장된 리스트\n",
        "    \"\"\"\n",
        "    # 정규식 적용\n",
        "    tokens = re.sub(regex, subst, text)\n",
        "\n",
        "    # 소문자로 치환\n",
        "    tokens = tokens.lower().split()\n",
        "    \n",
        "    return tokens"
      ],
      "execution_count": 26,
      "outputs": []
    },
    {
      "cell_type": "code",
      "metadata": {
        "id": "9BNgt4NPikf3",
        "colab": {
          "base_uri": "https://localhost:8080/"
        },
        "outputId": "d0775eb2-c3af-425a-b5b8-06ddbec99372"
      },
      "source": [
        "tokenize(test_str)"
      ],
      "execution_count": 27,
      "outputs": [
        {
          "output_type": "execute_result",
          "data": {
            "text/plain": [
              "['natural', 'language', 'processing', 'is', 'easy', 'ds']"
            ]
          },
          "metadata": {
            "tags": []
          },
          "execution_count": 27
        }
      ]
    },
    {
      "cell_type": "markdown",
      "metadata": {
        "toc-hr-collapsed": true,
        "id": "u3JDHMnlikf3"
      },
      "source": [
        "### 실제 데이터를 가지고 진행해 봅시다.\n",
        "\n",
        "이번에는 아마존 제품에 리뷰 데이터 다루어 보겠습니다.\n",
        "Alexa, Echo와 같은 아마존 제품에 대한 리뷰를 토큰화 하고 분석해보겠습니다!\n",
        "- [Kaggle](https://www.kaggle.com/datafiniti/consumer-reviews-of-amazon-products/)."
      ]
    },
    {
      "cell_type": "code",
      "metadata": {
        "id": "xZTYsM6QjuLz"
      },
      "source": [
        "!pip install squarify"
      ],
      "execution_count": null,
      "outputs": []
    },
    {
      "cell_type": "code",
      "metadata": {
        "id": "rdcf8DCZikf3"
      },
      "source": [
        "from collections import Counter\n",
        "import re\n",
        "import pandas as pd\n",
        "\n",
        "# squarify treemap\n",
        "import squarify\n",
        "\n",
        "import matplotlib.pyplot as plt\n",
        "import seaborn as sns\n",
        "\n",
        "# # spacy: NLP library\n",
        "# import spacy\n",
        "# from spacy.tokenizer import Tokenizer\n",
        "from nltk.stem import PorterStemmer\n",
        "\n",
        "# # Load general-purpose pretrained models to predict named entities, part-of-speech tags and syntactic dependencies\n",
        "# ## https://spacy.io/models\n",
        "# ## python -m spacy download en_core_web_lg\n",
        "# nlp = spacy.load(\"en_core_web_lg\")"
      ],
      "execution_count": 30,
      "outputs": []
    },
    {
      "cell_type": "code",
      "metadata": {
        "id": "eebHa2pvikf3",
        "colab": {
          "base_uri": "https://localhost:8080/",
          "height": 798
        },
        "outputId": "99cecad4-bdce-4ca2-8e7b-1442b5018401"
      },
      "source": [
        "df.head(2).T"
      ],
      "execution_count": 31,
      "outputs": [
        {
          "output_type": "execute_result",
          "data": {
            "text/html": [
              "<div>\n",
              "<style scoped>\n",
              "    .dataframe tbody tr th:only-of-type {\n",
              "        vertical-align: middle;\n",
              "    }\n",
              "\n",
              "    .dataframe tbody tr th {\n",
              "        vertical-align: top;\n",
              "    }\n",
              "\n",
              "    .dataframe thead th {\n",
              "        text-align: right;\n",
              "    }\n",
              "</style>\n",
              "<table border=\"1\" class=\"dataframe\">\n",
              "  <thead>\n",
              "    <tr style=\"text-align: right;\">\n",
              "      <th></th>\n",
              "      <th>0</th>\n",
              "      <th>1</th>\n",
              "    </tr>\n",
              "  </thead>\n",
              "  <tbody>\n",
              "    <tr>\n",
              "      <th>Unnamed: 0</th>\n",
              "      <td>25971</td>\n",
              "      <td>19398</td>\n",
              "    </tr>\n",
              "    <tr>\n",
              "      <th>id</th>\n",
              "      <td>AVqkIhxunnc1JgDc3kg_</td>\n",
              "      <td>AVwjfXqqQMlgsOJE8qmm</td>\n",
              "    </tr>\n",
              "    <tr>\n",
              "      <th>dateAdded</th>\n",
              "      <td>2017-03-06T14:59:43Z</td>\n",
              "      <td>2017-05-20T01:34:04Z</td>\n",
              "    </tr>\n",
              "    <tr>\n",
              "      <th>dateUpdated</th>\n",
              "      <td>2019-02-23T02:49:38Z</td>\n",
              "      <td>2019-02-25T02:23:15Z</td>\n",
              "    </tr>\n",
              "    <tr>\n",
              "      <th>name</th>\n",
              "      <td>Fire HD 8 Tablet with Alexa, 8 HD Display, 16 ...</td>\n",
              "      <td>All-New Fire HD 8 Kids Edition Tablet, 8 HD Di...</td>\n",
              "    </tr>\n",
              "    <tr>\n",
              "      <th>asins</th>\n",
              "      <td>B018T075DC</td>\n",
              "      <td>B01J94SCAM</td>\n",
              "    </tr>\n",
              "    <tr>\n",
              "      <th>brand</th>\n",
              "      <td>amazon</td>\n",
              "      <td>amazon</td>\n",
              "    </tr>\n",
              "    <tr>\n",
              "      <th>categories</th>\n",
              "      <td>Fire Tablets,Tablets,All Tablets,Amazon Tablet...</td>\n",
              "      <td>Fire Tablets,Tablets,Amazon Tablets,Computers ...</td>\n",
              "    </tr>\n",
              "    <tr>\n",
              "      <th>primaryCategories</th>\n",
              "      <td>Electronics</td>\n",
              "      <td>Electronics</td>\n",
              "    </tr>\n",
              "    <tr>\n",
              "      <th>imageURLs</th>\n",
              "      <td>https://www.upccodesearch.com/images/barcode/0...</td>\n",
              "      <td>https://www.barcodable.com/images/barcode/0841...</td>\n",
              "    </tr>\n",
              "    <tr>\n",
              "      <th>keys</th>\n",
              "      <td>amazon/b018t075dc,firehd8tabletwithalexa8hddis...</td>\n",
              "      <td>amazonfirehd8kidsedition8tablet32gb7thgenerati...</td>\n",
              "    </tr>\n",
              "    <tr>\n",
              "      <th>manufacturer</th>\n",
              "      <td>Amazon</td>\n",
              "      <td>Amazon</td>\n",
              "    </tr>\n",
              "    <tr>\n",
              "      <th>manufacturerNumber</th>\n",
              "      <td>53-004485</td>\n",
              "      <td>53-005705</td>\n",
              "    </tr>\n",
              "    <tr>\n",
              "      <th>reviews.date</th>\n",
              "      <td>2017-01-18T00:00:00.000Z</td>\n",
              "      <td>2017-06-22T00:00:00.000Z</td>\n",
              "    </tr>\n",
              "    <tr>\n",
              "      <th>reviews.dateSeen</th>\n",
              "      <td>2017-04-30T00:00:00Z,2017-06-07T00:00:00Z</td>\n",
              "      <td>2018-05-27T00:00:00Z,2017-07-07T00:00:00Z,2017...</td>\n",
              "    </tr>\n",
              "    <tr>\n",
              "      <th>reviews.didPurchase</th>\n",
              "      <td>NaN</td>\n",
              "      <td>NaN</td>\n",
              "    </tr>\n",
              "    <tr>\n",
              "      <th>reviews.doRecommend</th>\n",
              "      <td>True</td>\n",
              "      <td>True</td>\n",
              "    </tr>\n",
              "    <tr>\n",
              "      <th>reviews.id</th>\n",
              "      <td>NaN</td>\n",
              "      <td>NaN</td>\n",
              "    </tr>\n",
              "    <tr>\n",
              "      <th>reviews.numHelpful</th>\n",
              "      <td>0</td>\n",
              "      <td>17</td>\n",
              "    </tr>\n",
              "    <tr>\n",
              "      <th>reviews.rating</th>\n",
              "      <td>3</td>\n",
              "      <td>5</td>\n",
              "    </tr>\n",
              "    <tr>\n",
              "      <th>reviews.sourceURLs</th>\n",
              "      <td>http://reviews.bestbuy.com/3545/5620410/review...</td>\n",
              "      <td>http://reviews.bestbuy.com/3545/5836204/review...</td>\n",
              "    </tr>\n",
              "    <tr>\n",
              "      <th>reviews.text</th>\n",
              "      <td>Though I have got it for cheap price during bl...</td>\n",
              "      <td>I purchased the 7\" for my son when he was 1.5 ...</td>\n",
              "    </tr>\n",
              "    <tr>\n",
              "      <th>reviews.title</th>\n",
              "      <td>An average Fire tablet</td>\n",
              "      <td>3 year old loves it</td>\n",
              "    </tr>\n",
              "    <tr>\n",
              "      <th>reviews.username</th>\n",
              "      <td>Ganamurthy</td>\n",
              "      <td>dcc1970</td>\n",
              "    </tr>\n",
              "    <tr>\n",
              "      <th>sourceURLs</th>\n",
              "      <td>http://reviews.bestbuy.com/3545/5620410/review...</td>\n",
              "      <td>https://reviews.bestbuy.com/3545/5836204/revie...</td>\n",
              "    </tr>\n",
              "  </tbody>\n",
              "</table>\n",
              "</div>"
            ],
            "text/plain": [
              "                                                                     0                                                  1\n",
              "Unnamed: 0                                                       25971                                              19398\n",
              "id                                                AVqkIhxunnc1JgDc3kg_                               AVwjfXqqQMlgsOJE8qmm\n",
              "dateAdded                                         2017-03-06T14:59:43Z                               2017-05-20T01:34:04Z\n",
              "dateUpdated                                       2019-02-23T02:49:38Z                               2019-02-25T02:23:15Z\n",
              "name                 Fire HD 8 Tablet with Alexa, 8 HD Display, 16 ...  All-New Fire HD 8 Kids Edition Tablet, 8 HD Di...\n",
              "asins                                                       B018T075DC                                         B01J94SCAM\n",
              "brand                                                           amazon                                             amazon\n",
              "categories           Fire Tablets,Tablets,All Tablets,Amazon Tablet...  Fire Tablets,Tablets,Amazon Tablets,Computers ...\n",
              "primaryCategories                                          Electronics                                        Electronics\n",
              "imageURLs            https://www.upccodesearch.com/images/barcode/0...  https://www.barcodable.com/images/barcode/0841...\n",
              "keys                 amazon/b018t075dc,firehd8tabletwithalexa8hddis...  amazonfirehd8kidsedition8tablet32gb7thgenerati...\n",
              "manufacturer                                                    Amazon                                             Amazon\n",
              "manufacturerNumber                                           53-004485                                          53-005705\n",
              "reviews.date                                  2017-01-18T00:00:00.000Z                           2017-06-22T00:00:00.000Z\n",
              "reviews.dateSeen             2017-04-30T00:00:00Z,2017-06-07T00:00:00Z  2018-05-27T00:00:00Z,2017-07-07T00:00:00Z,2017...\n",
              "reviews.didPurchase                                                NaN                                                NaN\n",
              "reviews.doRecommend                                               True                                               True\n",
              "reviews.id                                                         NaN                                                NaN\n",
              "reviews.numHelpful                                                   0                                                 17\n",
              "reviews.rating                                                       3                                                  5\n",
              "reviews.sourceURLs   http://reviews.bestbuy.com/3545/5620410/review...  http://reviews.bestbuy.com/3545/5836204/review...\n",
              "reviews.text         Though I have got it for cheap price during bl...  I purchased the 7\" for my son when he was 1.5 ...\n",
              "reviews.title                                   An average Fire tablet                                3 year old loves it\n",
              "reviews.username                                            Ganamurthy                                            dcc1970\n",
              "sourceURLs           http://reviews.bestbuy.com/3545/5620410/review...  https://reviews.bestbuy.com/3545/5836204/revie..."
            ]
          },
          "metadata": {
            "tags": []
          },
          "execution_count": 31
        }
      ]
    },
    {
      "cell_type": "markdown",
      "metadata": {
        "id": "SQyR9JDyikf4"
      },
      "source": [
        "reviews.text 문장의 단어를 카운트 해서 사용해 보겠습니다."
      ]
    },
    {
      "cell_type": "code",
      "metadata": {
        "id": "tL245zXMikf4",
        "colab": {
          "base_uri": "https://localhost:8080/"
        },
        "outputId": "5f01f87b-7f5b-4581-8159-a4cd45fdd8af"
      },
      "source": [
        "df['reviews.text'].value_counts(normalize=True)[:10]"
      ],
      "execution_count": 32,
      "outputs": [
        {
          "output_type": "execute_result",
          "data": {
            "text/plain": [
              "good           0.002576\n",
              "Good           0.001717\n",
              "great          0.001717\n",
              "Great          0.001431\n",
              "Great price    0.001431\n",
              "ok             0.001431\n",
              "Great value    0.001240\n",
              "Excellent      0.001049\n",
              "great price    0.000859\n",
              "good price     0.000859\n",
              "Name: reviews.text, dtype: float64"
            ]
          },
          "metadata": {
            "tags": []
          },
          "execution_count": 32
        }
      ]
    },
    {
      "cell_type": "markdown",
      "metadata": {
        "id": "Sgb_HHVWikf4"
      },
      "source": [
        "각 리뷰텍스트를 토크나이즈 하여 tokens 칼럼으로 만듭니다."
      ]
    },
    {
      "cell_type": "code",
      "metadata": {
        "id": "MlATIP2Jikf4"
      },
      "source": [
        "df['tokens'] = df['reviews.text'].apply(tokenize)"
      ],
      "execution_count": 33,
      "outputs": []
    },
    {
      "cell_type": "code",
      "metadata": {
        "id": "dmYZSEevikf4",
        "colab": {
          "base_uri": "https://localhost:8080/"
        },
        "outputId": "79cf7d2e-e7cf-414c-cdc1-ffd567489274"
      },
      "source": [
        "df['tokens'].head()"
      ],
      "execution_count": 34,
      "outputs": [
        {
          "output_type": "execute_result",
          "data": {
            "text/plain": [
              "0    [though, i, have, got, it, for, cheap, price, ...\n",
              "1    [i, purchased, the, 7, for, my, son, when, he,...\n",
              "2    [great, price, and, great, batteries, i, will,...\n",
              "3    [great, tablet, for, kids, my, boys, love, the...\n",
              "4    [they, lasted, really, little, some, of, them,...\n",
              "Name: tokens, dtype: object"
            ]
          },
          "metadata": {
            "tags": []
          },
          "execution_count": 34
        }
      ]
    },
    {
      "cell_type": "code",
      "metadata": {
        "id": "mvaYRbH-ikf4",
        "colab": {
          "base_uri": "https://localhost:8080/",
          "height": 348
        },
        "outputId": "84bc65ce-65f7-4eae-e91e-d25bebe6215c"
      },
      "source": [
        "df[['reviews.text', 'tokens']][:10]"
      ],
      "execution_count": 35,
      "outputs": [
        {
          "output_type": "execute_result",
          "data": {
            "text/html": [
              "<div>\n",
              "<style scoped>\n",
              "    .dataframe tbody tr th:only-of-type {\n",
              "        vertical-align: middle;\n",
              "    }\n",
              "\n",
              "    .dataframe tbody tr th {\n",
              "        vertical-align: top;\n",
              "    }\n",
              "\n",
              "    .dataframe thead th {\n",
              "        text-align: right;\n",
              "    }\n",
              "</style>\n",
              "<table border=\"1\" class=\"dataframe\">\n",
              "  <thead>\n",
              "    <tr style=\"text-align: right;\">\n",
              "      <th></th>\n",
              "      <th>reviews.text</th>\n",
              "      <th>tokens</th>\n",
              "    </tr>\n",
              "  </thead>\n",
              "  <tbody>\n",
              "    <tr>\n",
              "      <th>0</th>\n",
              "      <td>Though I have got it for cheap price during bl...</td>\n",
              "      <td>[though, i, have, got, it, for, cheap, price, ...</td>\n",
              "    </tr>\n",
              "    <tr>\n",
              "      <th>1</th>\n",
              "      <td>I purchased the 7\" for my son when he was 1.5 ...</td>\n",
              "      <td>[i, purchased, the, 7, for, my, son, when, he,...</td>\n",
              "    </tr>\n",
              "    <tr>\n",
              "      <th>2</th>\n",
              "      <td>Great price and great batteries! I will keep o...</td>\n",
              "      <td>[great, price, and, great, batteries, i, will,...</td>\n",
              "    </tr>\n",
              "    <tr>\n",
              "      <th>3</th>\n",
              "      <td>Great tablet for kids my boys love their table...</td>\n",
              "      <td>[great, tablet, for, kids, my, boys, love, the...</td>\n",
              "    </tr>\n",
              "    <tr>\n",
              "      <th>4</th>\n",
              "      <td>They lasted really little.. (some of them) I u...</td>\n",
              "      <td>[they, lasted, really, little, some, of, them,...</td>\n",
              "    </tr>\n",
              "    <tr>\n",
              "      <th>5</th>\n",
              "      <td>I purchased 2 others for my 5 &amp; 6yr-olds, and ...</td>\n",
              "      <td>[i, purchased, 2, others, for, my, 5, 6yrolds,...</td>\n",
              "    </tr>\n",
              "    <tr>\n",
              "      <th>6</th>\n",
              "      <td>We purchased Amazon Fire kids edition tablet t...</td>\n",
              "      <td>[we, purchased, amazon, fire, kids, edition, t...</td>\n",
              "    </tr>\n",
              "    <tr>\n",
              "      <th>7</th>\n",
              "      <td>Got this when they were on sale last year and ...</td>\n",
              "      <td>[got, this, when, they, were, on, sale, last, ...</td>\n",
              "    </tr>\n",
              "    <tr>\n",
              "      <th>8</th>\n",
              "      <td>Lotta batteries. at a good price.</td>\n",
              "      <td>[lotta, batteries, at, a, good, price]</td>\n",
              "    </tr>\n",
              "    <tr>\n",
              "      <th>9</th>\n",
              "      <td>Best deal and work as expected</td>\n",
              "      <td>[best, deal, and, work, as, expected]</td>\n",
              "    </tr>\n",
              "  </tbody>\n",
              "</table>\n",
              "</div>"
            ],
            "text/plain": [
              "                                        reviews.text                                             tokens\n",
              "0  Though I have got it for cheap price during bl...  [though, i, have, got, it, for, cheap, price, ...\n",
              "1  I purchased the 7\" for my son when he was 1.5 ...  [i, purchased, the, 7, for, my, son, when, he,...\n",
              "2  Great price and great batteries! I will keep o...  [great, price, and, great, batteries, i, will,...\n",
              "3  Great tablet for kids my boys love their table...  [great, tablet, for, kids, my, boys, love, the...\n",
              "4  They lasted really little.. (some of them) I u...  [they, lasted, really, little, some, of, them,...\n",
              "5  I purchased 2 others for my 5 & 6yr-olds, and ...  [i, purchased, 2, others, for, my, 5, 6yrolds,...\n",
              "6  We purchased Amazon Fire kids edition tablet t...  [we, purchased, amazon, fire, kids, edition, t...\n",
              "7  Got this when they were on sale last year and ...  [got, this, when, they, were, on, sale, last, ...\n",
              "8                  Lotta batteries. at a good price.             [lotta, batteries, at, a, good, price]\n",
              "9                     Best deal and work as expected              [best, deal, and, work, as, expected]"
            ]
          },
          "metadata": {
            "tags": []
          },
          "execution_count": 35
        }
      ]
    },
    {
      "cell_type": "markdown",
      "metadata": {
        "id": "Fc8URY1Yikf5"
      },
      "source": [
        "어떤 카테고리가 있는지 살펴보겠습니다"
      ]
    },
    {
      "cell_type": "code",
      "metadata": {
        "id": "CR3sbfOIikf5",
        "colab": {
          "base_uri": "https://localhost:8080/"
        },
        "outputId": "1e3df3a3-6c33-4791-8d14-cb4dba3e9362"
      },
      "source": [
        "df['primaryCategories'].value_counts()"
      ],
      "execution_count": 36,
      "outputs": [
        {
          "output_type": "execute_result",
          "data": {
            "text/plain": [
              "Electronics                    5184\n",
              "Health & Beauty                4462\n",
              "Toys & Games,Electronics        616\n",
              "Office Supplies,Electronics     146\n",
              "Electronics,Media                70\n",
              "Animals & Pet Supplies            3\n",
              "Electronics,Furniture             1\n",
              "Office Supplies                   1\n",
              "Name: primaryCategories, dtype: int64"
            ]
          },
          "metadata": {
            "tags": []
          },
          "execution_count": 36
        }
      ]
    },
    {
      "cell_type": "markdown",
      "metadata": {
        "id": "h4QRFX8Sikf5"
      },
      "source": [
        "Electronics 카테고리에 해당하는 문장들만 제한해서 분석해보겠습니다."
      ]
    },
    {
      "cell_type": "code",
      "metadata": {
        "id": "j55Zy7kTikf5"
      },
      "source": [
        "\n",
        "df = df[df['primaryCategories'] == 'Electronics']"
      ],
      "execution_count": 37,
      "outputs": []
    },
    {
      "cell_type": "code",
      "metadata": {
        "id": "DzKDkNv5ikf5",
        "colab": {
          "base_uri": "https://localhost:8080/",
          "height": 387
        },
        "outputId": "79c18fb0-9093-4b41-841d-ea21adabf3c0"
      },
      "source": [
        "df.head(2)"
      ],
      "execution_count": 38,
      "outputs": [
        {
          "output_type": "execute_result",
          "data": {
            "text/html": [
              "<div>\n",
              "<style scoped>\n",
              "    .dataframe tbody tr th:only-of-type {\n",
              "        vertical-align: middle;\n",
              "    }\n",
              "\n",
              "    .dataframe tbody tr th {\n",
              "        vertical-align: top;\n",
              "    }\n",
              "\n",
              "    .dataframe thead th {\n",
              "        text-align: right;\n",
              "    }\n",
              "</style>\n",
              "<table border=\"1\" class=\"dataframe\">\n",
              "  <thead>\n",
              "    <tr style=\"text-align: right;\">\n",
              "      <th></th>\n",
              "      <th>Unnamed: 0</th>\n",
              "      <th>id</th>\n",
              "      <th>dateAdded</th>\n",
              "      <th>dateUpdated</th>\n",
              "      <th>name</th>\n",
              "      <th>asins</th>\n",
              "      <th>brand</th>\n",
              "      <th>categories</th>\n",
              "      <th>primaryCategories</th>\n",
              "      <th>imageURLs</th>\n",
              "      <th>keys</th>\n",
              "      <th>manufacturer</th>\n",
              "      <th>manufacturerNumber</th>\n",
              "      <th>reviews.date</th>\n",
              "      <th>reviews.dateSeen</th>\n",
              "      <th>reviews.didPurchase</th>\n",
              "      <th>reviews.doRecommend</th>\n",
              "      <th>reviews.id</th>\n",
              "      <th>reviews.numHelpful</th>\n",
              "      <th>reviews.rating</th>\n",
              "      <th>reviews.sourceURLs</th>\n",
              "      <th>reviews.text</th>\n",
              "      <th>reviews.title</th>\n",
              "      <th>reviews.username</th>\n",
              "      <th>sourceURLs</th>\n",
              "      <th>tokens</th>\n",
              "    </tr>\n",
              "  </thead>\n",
              "  <tbody>\n",
              "    <tr>\n",
              "      <th>0</th>\n",
              "      <td>25971</td>\n",
              "      <td>AVqkIhxunnc1JgDc3kg_</td>\n",
              "      <td>2017-03-06T14:59:43Z</td>\n",
              "      <td>2019-02-23T02:49:38Z</td>\n",
              "      <td>Fire HD 8 Tablet with Alexa, 8 HD Display, 16 ...</td>\n",
              "      <td>B018T075DC</td>\n",
              "      <td>amazon</td>\n",
              "      <td>Fire Tablets,Tablets,All Tablets,Amazon Tablet...</td>\n",
              "      <td>Electronics</td>\n",
              "      <td>https://www.upccodesearch.com/images/barcode/0...</td>\n",
              "      <td>amazon/b018t075dc,firehd8tabletwithalexa8hddis...</td>\n",
              "      <td>Amazon</td>\n",
              "      <td>53-004485</td>\n",
              "      <td>2017-01-18T00:00:00.000Z</td>\n",
              "      <td>2017-04-30T00:00:00Z,2017-06-07T00:00:00Z</td>\n",
              "      <td>NaN</td>\n",
              "      <td>True</td>\n",
              "      <td>NaN</td>\n",
              "      <td>0.0</td>\n",
              "      <td>3</td>\n",
              "      <td>http://reviews.bestbuy.com/3545/5620410/review...</td>\n",
              "      <td>Though I have got it for cheap price during bl...</td>\n",
              "      <td>An average Fire tablet</td>\n",
              "      <td>Ganamurthy</td>\n",
              "      <td>http://reviews.bestbuy.com/3545/5620410/review...</td>\n",
              "      <td>[though, i, have, got, it, for, cheap, price, ...</td>\n",
              "    </tr>\n",
              "    <tr>\n",
              "      <th>1</th>\n",
              "      <td>19398</td>\n",
              "      <td>AVwjfXqqQMlgsOJE8qmm</td>\n",
              "      <td>2017-05-20T01:34:04Z</td>\n",
              "      <td>2019-02-25T02:23:15Z</td>\n",
              "      <td>All-New Fire HD 8 Kids Edition Tablet, 8 HD Di...</td>\n",
              "      <td>B01J94SCAM</td>\n",
              "      <td>amazon</td>\n",
              "      <td>Fire Tablets,Tablets,Amazon Tablets,Computers ...</td>\n",
              "      <td>Electronics</td>\n",
              "      <td>https://www.barcodable.com/images/barcode/0841...</td>\n",
              "      <td>amazonfirehd8kidsedition8tablet32gb7thgenerati...</td>\n",
              "      <td>Amazon</td>\n",
              "      <td>53-005705</td>\n",
              "      <td>2017-06-22T00:00:00.000Z</td>\n",
              "      <td>2018-05-27T00:00:00Z,2017-07-07T00:00:00Z,2017...</td>\n",
              "      <td>NaN</td>\n",
              "      <td>True</td>\n",
              "      <td>NaN</td>\n",
              "      <td>17.0</td>\n",
              "      <td>5</td>\n",
              "      <td>http://reviews.bestbuy.com/3545/5836204/review...</td>\n",
              "      <td>I purchased the 7\" for my son when he was 1.5 ...</td>\n",
              "      <td>3 year old loves it</td>\n",
              "      <td>dcc1970</td>\n",
              "      <td>https://reviews.bestbuy.com/3545/5836204/revie...</td>\n",
              "      <td>[i, purchased, the, 7, for, my, son, when, he,...</td>\n",
              "    </tr>\n",
              "  </tbody>\n",
              "</table>\n",
              "</div>"
            ],
            "text/plain": [
              "   Unnamed: 0  ...                                             tokens\n",
              "0       25971  ...  [though, i, have, got, it, for, cheap, price, ...\n",
              "1       19398  ...  [i, purchased, the, 7, for, my, son, when, he,...\n",
              "\n",
              "[2 rows x 26 columns]"
            ]
          },
          "metadata": {
            "tags": []
          },
          "execution_count": 38
        }
      ]
    },
    {
      "cell_type": "markdown",
      "metadata": {
        "id": "18UZWIeKikf5"
      },
      "source": [
        "#### 토큰을 분석해 봅시다."
      ]
    },
    {
      "cell_type": "markdown",
      "metadata": {
        "id": "cK1kVdPyikf6"
      },
      "source": [
        "Counter를 사용하여 모든 리뷰 토큰을 카운트 해보겠습니다."
      ]
    },
    {
      "cell_type": "code",
      "metadata": {
        "id": "-C5uNrl8ikf6",
        "colab": {
          "base_uri": "https://localhost:8080/"
        },
        "outputId": "398f5805-9ae3-4455-ad34-92ddca832b49"
      },
      "source": [
        "from collections import Counter\n",
        "\n",
        "# Counter 객체는 리스트요소의 값과 요소의 갯수를 카운트 하여 저장하고 있습니다.\n",
        "# 카운터 객체는 .update 메소드로 계속 업데이트 가능합니다.\n",
        "word_counts = Counter()\n",
        "\n",
        "# 토큰화된 각 리뷰 리스트를 카운터 객체에 업데이트 합니다. \n",
        "df['tokens'].apply(lambda x: word_counts.update(x))\n",
        "\n",
        "# 가장 많이 존재하는 단어 순으로 10개를 나열합니다\n",
        "word_counts.most_common(10)"
      ],
      "execution_count": 39,
      "outputs": [
        {
          "output_type": "execute_result",
          "data": {
            "text/plain": [
              "[('the', 6562),\n",
              " ('and', 5183),\n",
              " ('it', 4786),\n",
              " ('to', 4685),\n",
              " ('for', 4496),\n",
              " ('i', 4378),\n",
              " ('a', 3861),\n",
              " ('is', 3036),\n",
              " ('my', 2942),\n",
              " ('this', 2924)]"
            ]
          },
          "metadata": {
            "tags": []
          },
          "execution_count": 39
        }
      ]
    },
    {
      "cell_type": "markdown",
      "metadata": {
        "id": "aQrRGkrWikf6"
      },
      "source": [
        "the, and, a, is... 같은 어떤 문서에든지 많이 나타나는 단어들은 사실 큰 의미를 찾기 어려운 단어들 입니다.\n",
        "\n",
        "이런 단어들을 **stopword(불용어)** 라고 합니다."
      ]
    },
    {
      "cell_type": "markdown",
      "metadata": {
        "id": "X_404LZ0ikf6"
      },
      "source": [
        "이와같은 프로세스를 사용해서 코퍼스의 전체 워드 카운트, 랭크 등 정보가 담긴 데이터프레임을 리턴하는 함수를 만들어 봅시다. 이 함수는 토큰화된 문서들이 들어있는 코퍼스를 입력으로 받습니다."
      ]
    },
    {
      "cell_type": "code",
      "metadata": {
        "id": "5NQNBwVTikf6"
      },
      "source": [
        "\n",
        "def word_count(docs):\n",
        "    \"\"\" 토큰화된 문서들을 입력받아 토큰을 카운트 하고 관련된 속성을 가진 데이터프레임을 리턴합니다.\n",
        "    Args:\n",
        "        docs (series or list): 토큰화된 문서가 들어있는 list\n",
        "    Returns:\n",
        "        list: Dataframe\n",
        "    \"\"\"\n",
        "    # 전체 코퍼스에서 단어 빈도 카운트\n",
        "    word_counts = Counter()\n",
        "\n",
        "    # 단어가 존재하는 문서의 빈도 카운트, 단어가 한 번 이상 존재하면 +1\n",
        "    word_in_docs = Counter()\n",
        "\n",
        "    # 전체 문서의 갯수\n",
        "    total_docs = len(docs)\n",
        "\n",
        "    for doc in docs:\n",
        "        word_counts.update(doc)\n",
        "        word_in_docs.update(set(doc))\n",
        "\n",
        "    temp = zip(word_counts.keys(), word_counts.values())\n",
        "\n",
        "    wc = pd.DataFrame(temp, columns = ['word', 'count'])\n",
        "\n",
        "    # 단어의 순위\n",
        "    # method='first': 같은 값의 경우 먼저나온 요소를 우선\n",
        "    wc['rank'] = wc['count'].rank(method='first', ascending=False)\n",
        "    total = wc['count'].sum()\n",
        "\n",
        "    # 코퍼스 내 단어의 비율\n",
        "    wc['percent'] = wc['count'].apply(lambda x: x / total)\n",
        "\n",
        "    wc = wc.sort_values(by='rank')\n",
        "\n",
        "    # 누적 비율\n",
        "    # cumsum() : cumulative sum\n",
        "    wc['cul_percent'] = wc['percent'].cumsum()\n",
        "\n",
        "    temp2 = zip(word_in_docs.keys(), word_in_docs.values())\n",
        "    ac = pd.DataFrame(temp2, columns=['word', 'word_in_docs'])\n",
        "    wc = ac.merge(wc, on='word')\n",
        "    \n",
        "    # 전체 문서 중 존재하는 비율\n",
        "    wc['word_in_docs_percent'] = wc['word_in_docs'].apply(lambda x: x / total_docs)\n",
        "\n",
        "    return wc.sort_values(by='rank')"
      ],
      "execution_count": 40,
      "outputs": []
    },
    {
      "cell_type": "code",
      "metadata": {
        "id": "dA3-2DTRikf7"
      },
      "source": [
        "wc = word_count(df['tokens'])"
      ],
      "execution_count": 41,
      "outputs": []
    },
    {
      "cell_type": "code",
      "metadata": {
        "id": "uOM20Zmaikf8",
        "colab": {
          "base_uri": "https://localhost:8080/",
          "height": 0
        },
        "outputId": "177a3507-a99d-4502-d9ff-0695a0809b12"
      },
      "source": [
        "wc.head()"
      ],
      "execution_count": 42,
      "outputs": [
        {
          "output_type": "execute_result",
          "data": {
            "text/html": [
              "<div>\n",
              "<style scoped>\n",
              "    .dataframe tbody tr th:only-of-type {\n",
              "        vertical-align: middle;\n",
              "    }\n",
              "\n",
              "    .dataframe tbody tr th {\n",
              "        vertical-align: top;\n",
              "    }\n",
              "\n",
              "    .dataframe thead th {\n",
              "        text-align: right;\n",
              "    }\n",
              "</style>\n",
              "<table border=\"1\" class=\"dataframe\">\n",
              "  <thead>\n",
              "    <tr style=\"text-align: right;\">\n",
              "      <th></th>\n",
              "      <th>word</th>\n",
              "      <th>word_in_docs</th>\n",
              "      <th>count</th>\n",
              "      <th>rank</th>\n",
              "      <th>percent</th>\n",
              "      <th>cul_percent</th>\n",
              "      <th>word_in_docs_percent</th>\n",
              "    </tr>\n",
              "  </thead>\n",
              "  <tbody>\n",
              "    <tr>\n",
              "      <th>34</th>\n",
              "      <td>the</td>\n",
              "      <td>2951</td>\n",
              "      <td>6562</td>\n",
              "      <td>1.0</td>\n",
              "      <td>0.041588</td>\n",
              "      <td>0.041588</td>\n",
              "      <td>0.569252</td>\n",
              "    </tr>\n",
              "    <tr>\n",
              "      <th>26</th>\n",
              "      <td>and</td>\n",
              "      <td>3162</td>\n",
              "      <td>5183</td>\n",
              "      <td>2.0</td>\n",
              "      <td>0.032848</td>\n",
              "      <td>0.074436</td>\n",
              "      <td>0.609954</td>\n",
              "    </tr>\n",
              "    <tr>\n",
              "      <th>11</th>\n",
              "      <td>it</td>\n",
              "      <td>2719</td>\n",
              "      <td>4786</td>\n",
              "      <td>3.0</td>\n",
              "      <td>0.030332</td>\n",
              "      <td>0.104768</td>\n",
              "      <td>0.524498</td>\n",
              "    </tr>\n",
              "    <tr>\n",
              "      <th>96</th>\n",
              "      <td>to</td>\n",
              "      <td>2647</td>\n",
              "      <td>4685</td>\n",
              "      <td>4.0</td>\n",
              "      <td>0.029692</td>\n",
              "      <td>0.134461</td>\n",
              "      <td>0.510610</td>\n",
              "    </tr>\n",
              "    <tr>\n",
              "      <th>20</th>\n",
              "      <td>for</td>\n",
              "      <td>2952</td>\n",
              "      <td>4496</td>\n",
              "      <td>5.0</td>\n",
              "      <td>0.028494</td>\n",
              "      <td>0.162955</td>\n",
              "      <td>0.569444</td>\n",
              "    </tr>\n",
              "  </tbody>\n",
              "</table>\n",
              "</div>"
            ],
            "text/plain": [
              "   word  word_in_docs  count  rank   percent  cul_percent  word_in_docs_percent\n",
              "34  the          2951   6562   1.0  0.041588     0.041588              0.569252\n",
              "26  and          3162   5183   2.0  0.032848     0.074436              0.609954\n",
              "11   it          2719   4786   3.0  0.030332     0.104768              0.524498\n",
              "96   to          2647   4685   4.0  0.029692     0.134461              0.510610\n",
              "20  for          2952   4496   5.0  0.028494     0.162955              0.569444"
            ]
          },
          "metadata": {
            "tags": []
          },
          "execution_count": 42
        }
      ]
    },
    {
      "cell_type": "code",
      "metadata": {
        "id": "JvVUaaJFikf8",
        "colab": {
          "base_uri": "https://localhost:8080/",
          "height": 0
        },
        "outputId": "1e5b7454-7d1b-424d-df22-f56821cfe156"
      },
      "source": [
        "import seaborn as sns\n",
        "\n",
        "# 누적분포그래프(CDF)\n",
        "sns.lineplot(x='rank', y='cul_percent', data=wc);"
      ],
      "execution_count": 43,
      "outputs": [
        {
          "output_type": "display_data",
          "data": {
            "image/png": "[encoded data removed]",
            "text/plain": [
              "<Figure size 432x288 with 1 Axes>"
            ]
          },
          "metadata": {
            "tags": [],
            "needs_background": "light"
          }
        }
      ]
    },
    {
      "cell_type": "code",
      "metadata": {
        "id": "_tNVq6Ihikf8",
        "colab": {
          "base_uri": "https://localhost:8080/"
        },
        "outputId": "ae4de251-4587-4965-861f-40ed4654fdac"
      },
      "source": [
        "wc[wc['rank'] <= 1000]['cul_percent'].max()"
      ],
      "execution_count": 44,
      "outputs": [
        {
          "output_type": "execute_result",
          "data": {
            "text/plain": [
              "0.917869772983658"
            ]
          },
          "metadata": {
            "tags": []
          },
          "execution_count": 44
        }
      ]
    },
    {
      "cell_type": "code",
      "metadata": {
        "id": "iX1wxsp-ikf8",
        "colab": {
          "base_uri": "https://localhost:8080/",
          "height": 0
        },
        "outputId": "b968b66e-588b-4004-dc87-5f1b78dc269c"
      },
      "source": [
        "import squarify\n",
        "import matplotlib.pyplot as plt\n",
        "\n",
        "color=['viridis']\n",
        "\n",
        "wc_top20 = wc[wc['rank'] <= 20]\n",
        "squarify.plot(sizes=wc_top20['percent'], label=wc_top20['word'], alpha=0.6)\n",
        "plt.axis('off')\n",
        "plt.show()"
      ],
      "execution_count": 45,
      "outputs": [
        {
          "output_type": "display_data",
          "data": {
            "image/png": "[encoded data removed]",
            "text/plain": [
              "<Figure size 432x288 with 1 Axes>"
            ]
          },
          "metadata": {
            "tags": [],
            "needs_background": "light"
          }
        }
      ]
    },
    {
      "cell_type": "markdown",
      "metadata": {
        "id": "YiT6BULfikf9"
      },
      "source": [
        "### NLP 라이브러리(Spacy)를 사용해 텍스트 데이터를 처리해 보겠습니다.\n",
        "\n",
        "\n",
        "Spacy(아직 한글 사전 학습 모델이 지원 안됩니다)는 문서 구성요소를 다양한 구조에 나누어 저장하는 대신, 요소를 색인화하고 검색정보를 간단히 저장합니다. 그래서 실제 배포 단계에서 NLTK 같은 라이브러리보다 Spacy가 유리할 수 있습니다.\n",
        "\n",
        "- 참고: Spacy를 공부하기 위해 [Spacy course]('https://course.spacy.io/en/')"
      ]
    },
    {
      "cell_type": "code",
      "metadata": {
        "id": "2zq-sXyXikf9"
      },
      "source": [
        "# spacy.io\n",
        "import spacy\n",
        "from spacy.tokenizer import Tokenizer\n",
        "\n",
        "# Load general-purpose pretrained models to predict named entities, part-of-speech tags and syntactic dependencies\n",
        "## https://spacy.io/models\n",
        "## python -m spacy download en_core_web_lg\n",
        "nlp = spacy.load(\"en_core_web_sm\")\n",
        "\n",
        "# Tokenizer 생성\n",
        "tokenizer = Tokenizer(nlp.vocab)"
      ],
      "execution_count": 47,
      "outputs": []
    },
    {
      "cell_type": "markdown",
      "metadata": {
        "id": "f1kr-6-Xikf9"
      },
      "source": [
        "Spacy 모델에 문장을 넣어 보겠습니다"
      ]
    },
    {
      "cell_type": "code",
      "metadata": {
        "id": "6VBnez7Mikf9"
      },
      "source": [
        "doc = nlp('hello data science world!')"
      ],
      "execution_count": 48,
      "outputs": []
    },
    {
      "cell_type": "code",
      "metadata": {
        "id": "4_kGREvWikf9",
        "colab": {
          "base_uri": "https://localhost:8080/"
        },
        "outputId": "301b6cb3-3aec-482e-cc9e-231e82416eb7"
      },
      "source": [
        "type(doc)"
      ],
      "execution_count": 49,
      "outputs": [
        {
          "output_type": "execute_result",
          "data": {
            "text/plain": [
              "spacy.tokens.doc.Doc"
            ]
          },
          "metadata": {
            "tags": []
          },
          "execution_count": 49
        }
      ]
    },
    {
      "cell_type": "code",
      "metadata": {
        "id": "DBBf1-FDikf-",
        "colab": {
          "base_uri": "https://localhost:8080/"
        },
        "outputId": "f40e07cf-c36b-42cf-b352-e3eaee948879"
      },
      "source": [
        "# https://spacy.io/usage/linguistic-features\n",
        "# Text: The original word text.\n",
        "# Lemma: The base form of the word.\n",
        "# POS: The simple UPOS part-of-speech tag.\n",
        "# Tag: The detailed part-of-speech tag.\n",
        "# Dep: Syntactic dependency, i.e. the relation between tokens.\n",
        "# Shape: The word shape – capitalization, punctuation, digits.\n",
        "# is alpha: Is the token an alpha character?\n",
        "# is stop: Is the token part of a stop list, i.e. the most common words of the language?\n",
        "for token in doc:\n",
        "    print(token.text, token.lemma_, token.pos_, token.tag_, token.dep_,\n",
        "            token.shape_, token.is_alpha, token.is_stop)"
      ],
      "execution_count": 50,
      "outputs": [
        {
          "output_type": "stream",
          "text": [
            "hello hello INTJ UH intj xxxx True False\n",
            "data data PROPN NNP compound xxxx True False\n",
            "science science NOUN NN compound xxxx True False\n",
            "world world NOUN NN ROOT xxxx True False\n",
            "! ! PUNCT . punct ! False False\n"
          ],
          "name": "stdout"
        }
      ]
    },
    {
      "cell_type": "markdown",
      "metadata": {
        "id": "H7F3qLlOikf-"
      },
      "source": [
        "spacy로 토큰화를 수행합니다."
      ]
    },
    {
      "cell_type": "code",
      "metadata": {
        "id": "9USzjqFuikf-",
        "colab": {
          "base_uri": "https://localhost:8080/"
        },
        "outputId": "0349da2b-cdc5-447d-cc95-badc24a3de82"
      },
      "source": [
        "# 토큰을 반환합니다\n",
        "sample = \"Constructor, Leadership, refer, Yeah, way to go, buddy!;\"\n",
        "[token.text for token in tokenizer(sample)]"
      ],
      "execution_count": 51,
      "outputs": [
        {
          "output_type": "execute_result",
          "data": {
            "text/plain": [
              "['Constructor,',\n",
              " 'Leadership,',\n",
              " 'refer,',\n",
              " 'Yeah,',\n",
              " 'way',\n",
              " 'to',\n",
              " 'go,',\n",
              " 'buddy!;']"
            ]
          },
          "metadata": {
            "tags": []
          },
          "execution_count": 51
        }
      ]
    },
    {
      "cell_type": "markdown",
      "metadata": {
        "id": "_gaYgygHikf-"
      },
      "source": [
        "tokenizer.pipe를 사용해서 토큰 스트림을 만듭니다."
      ]
    },
    {
      "cell_type": "code",
      "metadata": {
        "id": "IaI9fyRJikf-",
        "colab": {
          "base_uri": "https://localhost:8080/"
        },
        "outputId": "1bc7f144-9642-4de6-a64b-1c2df041b83a"
      },
      "source": [
        "# Tokenizer Pipe\n",
        "\n",
        "tokens = []\n",
        "\n",
        "# 토큰화 (in stream process)\n",
        "# .pipe streams input, and produces streaming output\n",
        "for doc in tokenizer.pipe(df['reviews.text']):\n",
        "    doc_tokens = [token.text for token in doc]\n",
        "    tokens.append(doc_tokens)\n",
        "\n",
        "df['tokens'] = tokens\n",
        "df['tokens'].head()"
      ],
      "execution_count": 52,
      "outputs": [
        {
          "output_type": "execute_result",
          "data": {
            "text/plain": [
              "0    [Though, I, have, got, it, for, cheap, price, ...\n",
              "1    [I, purchased, the, 7\", for, my, son, when, he...\n",
              "3    [Great, tablet, for, kids, my, boys, love, the...\n",
              "6    [We, purchased, Amazon, Fire, kids, edition, t...\n",
              "7    [Got, this, when, they, were, on, sale, last, ...\n",
              "Name: tokens, dtype: object"
            ]
          },
          "metadata": {
            "tags": []
          },
          "execution_count": 52
        }
      ]
    },
    {
      "cell_type": "code",
      "metadata": {
        "id": "AKRcxdLdikf-"
      },
      "source": [
        "wc = word_count(df['tokens'])"
      ],
      "execution_count": 53,
      "outputs": []
    },
    {
      "cell_type": "code",
      "metadata": {
        "id": "gjaDpkWlikf_",
        "colab": {
          "base_uri": "https://localhost:8080/",
          "height": 198
        },
        "outputId": "7406c3da-4673-48f2-88fc-2e540e62f7ba"
      },
      "source": [
        "wc.head()"
      ],
      "execution_count": 54,
      "outputs": [
        {
          "output_type": "execute_result",
          "data": {
            "text/html": [
              "<div>\n",
              "<style scoped>\n",
              "    .dataframe tbody tr th:only-of-type {\n",
              "        vertical-align: middle;\n",
              "    }\n",
              "\n",
              "    .dataframe tbody tr th {\n",
              "        vertical-align: top;\n",
              "    }\n",
              "\n",
              "    .dataframe thead th {\n",
              "        text-align: right;\n",
              "    }\n",
              "</style>\n",
              "<table border=\"1\" class=\"dataframe\">\n",
              "  <thead>\n",
              "    <tr style=\"text-align: right;\">\n",
              "      <th></th>\n",
              "      <th>word</th>\n",
              "      <th>word_in_docs</th>\n",
              "      <th>count</th>\n",
              "      <th>rank</th>\n",
              "      <th>percent</th>\n",
              "      <th>cul_percent</th>\n",
              "      <th>word_in_docs_percent</th>\n",
              "    </tr>\n",
              "  </thead>\n",
              "  <tbody>\n",
              "    <tr>\n",
              "      <th>34</th>\n",
              "      <td>the</td>\n",
              "      <td>2729</td>\n",
              "      <td>5638</td>\n",
              "      <td>1.0</td>\n",
              "      <td>0.035621</td>\n",
              "      <td>0.035621</td>\n",
              "      <td>0.526427</td>\n",
              "    </tr>\n",
              "    <tr>\n",
              "      <th>26</th>\n",
              "      <td>and</td>\n",
              "      <td>3130</td>\n",
              "      <td>5093</td>\n",
              "      <td>2.0</td>\n",
              "      <td>0.032178</td>\n",
              "      <td>0.067799</td>\n",
              "      <td>0.603781</td>\n",
              "    </tr>\n",
              "    <tr>\n",
              "      <th>102</th>\n",
              "      <td>to</td>\n",
              "      <td>2631</td>\n",
              "      <td>4632</td>\n",
              "      <td>3.0</td>\n",
              "      <td>0.029265</td>\n",
              "      <td>0.097065</td>\n",
              "      <td>0.507523</td>\n",
              "    </tr>\n",
              "    <tr>\n",
              "      <th>19</th>\n",
              "      <td>for</td>\n",
              "      <td>2880</td>\n",
              "      <td>4327</td>\n",
              "      <td>4.0</td>\n",
              "      <td>0.027338</td>\n",
              "      <td>0.124403</td>\n",
              "      <td>0.555556</td>\n",
              "    </tr>\n",
              "    <tr>\n",
              "      <th>18</th>\n",
              "      <td>I</td>\n",
              "      <td>2159</td>\n",
              "      <td>4200</td>\n",
              "      <td>5.0</td>\n",
              "      <td>0.026536</td>\n",
              "      <td>0.150939</td>\n",
              "      <td>0.416474</td>\n",
              "    </tr>\n",
              "  </tbody>\n",
              "</table>\n",
              "</div>"
            ],
            "text/plain": [
              "    word  word_in_docs  count  ...   percent  cul_percent  word_in_docs_percent\n",
              "34   the          2729   5638  ...  0.035621     0.035621              0.526427\n",
              "26   and          3130   5093  ...  0.032178     0.067799              0.603781\n",
              "102   to          2631   4632  ...  0.029265     0.097065              0.507523\n",
              "19   for          2880   4327  ...  0.027338     0.124403              0.555556\n",
              "18     I          2159   4200  ...  0.026536     0.150939              0.416474\n",
              "\n",
              "[5 rows x 7 columns]"
            ]
          },
          "metadata": {
            "tags": []
          },
          "execution_count": 54
        }
      ]
    },
    {
      "cell_type": "code",
      "metadata": {
        "id": "v2XJyaUOikf_",
        "colab": {
          "base_uri": "https://localhost:8080/",
          "height": 248
        },
        "outputId": "61f2f9de-5118-4df0-a358-755f85a6e1ef"
      },
      "source": [
        "wc_top20 = wc[wc['rank'] <= 20]\n",
        "\n",
        "squarify.plot(sizes=wc_top20['percent'], label=wc_top20['word'], alpha=0.6 )\n",
        "plt.axis('off')\n",
        "plt.show()"
      ],
      "execution_count": 55,
      "outputs": [
        {
          "output_type": "display_data",
          "data": {
            "image/png": "[encoded data removed]",
            "text/plain": [
              "<Figure size 432x288 with 1 Axes>"
            ]
          },
          "metadata": {
            "tags": [],
            "needs_background": "light"
          }
        }
      ]
    },
    {
      "cell_type": "markdown",
      "metadata": {
        "toc-hr-collapsed": false,
        "id": "VoZDYhRQikf_"
      },
      "source": [
        "## 불용어 (Stop Words) 처리"
      ]
    },
    {
      "cell_type": "markdown",
      "metadata": {
        "id": "QSKHE3u8ikf_"
      },
      "source": [
        "다음과 같은 내용을 배워보겠습니다: \n",
        "- 불용어는 무엇일까요?\n",
        "- Spacy를 사용해 불용어를 처리하는 방법?\n",
        "- 불용어 시각화\n",
        "- 불용어 사전\n",
        "- 불용어 확장\n",
        "- 통계적 트리밍(trimming)\n",
        "\n",
        "\n",
        "위에서 시각화한 단어 대부분은 제품 리뷰를 이해하는데 그다지 도움이 되지 않습니다. 'I', 'and', 'of' 같은 단어들은 리뷰 관점에서 아무런 의미가 없습니다. 이런 단어들을 우리는 **'Stop words(불용어)'** 라고 합니다. 왜냐하면 저 단어들을 분석할 때 넣지 않아야(stop) 하기 때문입니다.\n",
        "\n",
        "대부분의 NLP 라이브러리는 **접속사, 관사, 부사, 대명사, 일반동사** 등을 포함한 일반적인 **불용어 사전**을 내장하고 있습니다. 가장 좋은 방법은 우리가 다루는 도메인에서 많이 나오는 불필요한 단어를 불용어 사전에 추가하여 **불용어 확장**을 하는 것 입니다. 예를 들어 지금 사용하는 아마존 데이터에서는 'Amazon' 이라는 단어가 상당히 많이 나올 텐데, 이처럼 우리가 분석할 때 큰 의미가 없어 보이는 단어들을 불용어로 확장해 사용하는 것 입니다."
      ]
    },
    {
      "cell_type": "markdown",
      "metadata": {
        "toc-hr-collapsed": true,
        "id": "rf9dvclqikf_"
      },
      "source": [
        "### 기본 불용어\n",
        "\n",
        "Spacy 모델에서 가져올 수 있는 기본 불용어를 확인해 보겠습니다."
      ]
    },
    {
      "cell_type": "code",
      "metadata": {
        "id": "W8q5a3aHikgA",
        "colab": {
          "base_uri": "https://localhost:8080/"
        },
        "outputId": "595c5579-0761-4519-f0a1-0bc5a2a7524e"
      },
      "source": [
        "print(nlp.Defaults.stop_words)"
      ],
      "execution_count": 56,
      "outputs": [
        {
          "output_type": "stream",
          "text": [
            "{'whole', 'anywhere', 'these', 'keep', 'behind', 'thence', 'whereas', '’ve', 'three', 'another', 'others', 'fifty', 'several', 'of', 'sixty', '’ll', 'when', 'what', 'up', 'into', 'though', 'none', 'everything', 'nor', 'give', 'themselves', 'also', 'move', 'one', 'third', 'please', 'made', 'from', 'twelve', 'anyway', 'have', 'did', 'by', 'who', 'whereupon', 'our', 'than', 'him', 'hereupon', 'this', 'would', 'each', 'which', 'otherwise', 'something', 'therefore', 'thus', 'had', 'name', 'never', 'hers', 'where', 'must', 'among', 'due', 'eleven', 'someone', 'without', 'out', 'anything', '‘ve', 'seeming', '‘m', 'hundred', 'was', 'herein', 'namely', 'not', 'via', 'should', 'further', 'already', 'they', 'front', \"n't\", 'least', 'six', 'four', 'while', 'ourselves', 'alone', 'ten', 'am', 'hereby', 'perhaps', 'became', \"'ve\", 'full', \"'s\", 'now', 'a', 'quite', 'being', 'call', 'through', 'the', 'whatever', \"'re\", 'forty', 'really', 'first', 'that', 'throughout', 'together', 'if', 'few', 'but', 'is', 'since', 'ca', 'own', 'used', 'after', 'amount', 'see', 'just', 'whereafter', \"'ll\", 'be', 'their', 'nevertheless', 'herself', 're', 'thereafter', 'under', 'whom', 'whence', 'i', 'somewhere', 'mostly', 'has', 'nowhere', 'her', 'wherein', \"'m\", 'make', 'here', 'hence', 'afterwards', 'two', 'therein', 'show', 'twenty', 'below', 'put', 'been', 'almost', 'with', '’m', 'thereby', 'bottom', 'until', 'over', 'too', 'cannot', 'those', 'ours', 'yours', 'to', 'myself', 'former', 'although', 'however', 'nothing', 'my', 'well', 'on', 'within', 'for', 'its', 'beforehand', 'eight', 'sometimes', '’d', 'could', 'much', 'any', 'will', 'still', 'beyond', 'latter', 'most', 'seems', 'me', 'onto', '‘re', 'amongst', 'either', 'might', 'many', 'nobody', 'an', 'and', 'above', 'somehow', 'get', 'she', 'yourselves', 'last', 'mine', 'next', 'besides', 'elsewhere', 'beside', 'everyone', 'again', 'more', 'done', 'same', 'doing', 'other', 'we', 'various', 'part', 'take', 'become', 'seemed', 'across', '’s', 'so', 'once', 'whether', 'all', 'anyhow', 'meanwhile', 'hereafter', 'them', 'or', 'every', 'wherever', 'indeed', 'against', 'becomes', '’re', 'latterly', 'n’t', 'towards', 'serious', 'say', 'how', 'back', 'yet', 'very', 'why', 'even', 'about', 'less', 'himself', \"'d\", 'are', 'as', 'do', 'may', 'enough', 'using', 'during', 'only', 'nine', 'in', 'his', 'both', 'moreover', 'can', 'between', 'toward', 'fifteen', 'anyone', 'thereupon', 'whoever', 'it', 'ever', 'becoming', 'does', 'your', 'whither', 'seem', 'unless', 'regarding', 'always', 'side', 'were', 'rather', 'some', 'everywhere', 'upon', 'neither', 'whose', 'yourself', 'at', 'there', 'else', 'because', '‘d', 'he', 'whereby', 'n‘t', '‘s', 'sometime', 'down', 'go', 'top', 'five', 'whenever', 'along', 'no', 'before', 'off', 'around', 'us', 'you', 'formerly', '‘ll', 'often', 'then', 'per', 'except', 'thru', 'empty', 'itself', 'noone', 'such'}\n"
          ],
          "name": "stdout"
        }
      ]
    },
    {
      "cell_type": "code",
      "metadata": {
        "id": "gt-JB_7bikgA"
      },
      "source": [
        "tokens = []\n",
        "# 토큰에서 불용어 제거, 소문자화 하여 업데이트\n",
        "for doc in tokenizer.pipe(df['reviews.text']):\n",
        "    doc_tokens = []\n",
        "\n",
        "    # A doc is a sequence of Token(<class 'spacy.tokens.doc.Doc'>)\n",
        "    for token in doc:\n",
        "        # 토큰이 불용어와 구두점이 아니면 저장\n",
        "        if (token.is_stop == False) & (token.is_punct == False):\n",
        "            doc_tokens.append(token.text.lower())\n",
        "\n",
        "    tokens.append(doc_tokens)\n",
        "\n",
        "df['tokens'] = tokens"
      ],
      "execution_count": 57,
      "outputs": []
    },
    {
      "cell_type": "code",
      "metadata": {
        "id": "heOpH7nOikgA",
        "colab": {
          "base_uri": "https://localhost:8080/"
        },
        "outputId": "b7b70d78-2753-4031-eb89-de386095717f"
      },
      "source": [
        "df.tokens.head()"
      ],
      "execution_count": 58,
      "outputs": [
        {
          "output_type": "execute_result",
          "data": {
            "text/plain": [
              "0    [got, cheap, price, black, friday,, fire, grea...\n",
              "1    [purchased, 7\", son, 1.5, years, old,, broke, ...\n",
              "3         [great, tablet, kids, boys, love, tablets!!]\n",
              "6    [purchased, amazon, fire, kids, edition, table...\n",
              "7    [got, sale, year, love, it!i, use, primarily, ...\n",
              "Name: tokens, dtype: object"
            ]
          },
          "metadata": {
            "tags": []
          },
          "execution_count": 58
        }
      ]
    },
    {
      "cell_type": "markdown",
      "metadata": {
        "id": "Ky2RfDqgikgA"
      },
      "source": [
        "불용어들이 모두 제거가 되어 완전히 다른 단어들이 상위에서 보입니다."
      ]
    },
    {
      "cell_type": "code",
      "metadata": {
        "id": "d1q-lr9CikgB",
        "colab": {
          "base_uri": "https://localhost:8080/",
          "height": 248
        },
        "outputId": "712abda6-fab9-4670-a938-0cff63f8b4e0"
      },
      "source": [
        "wc = word_count(df['tokens'])\n",
        "\n",
        "wc_top20 = wc[wc['rank'] <= 20]\n",
        "\n",
        "squarify.plot(sizes=wc_top20['percent'], label=wc_top20['word'], alpha=0.6)\n",
        "plt.axis('off')\n",
        "plt.show()"
      ],
      "execution_count": 59,
      "outputs": [
        {
          "output_type": "display_data",
          "data": {
            "image/png": "[encoded data removed]",
            "text/plain": [
              "<Figure size 432x288 with 1 Axes>"
            ]
          },
          "metadata": {
            "tags": [],
            "needs_background": "light"
          }
        }
      ]
    },
    {
      "cell_type": "markdown",
      "metadata": {
        "id": "KVKrKQWbikgB"
      },
      "source": [
        "### 불용어 확장\n",
        "\n",
        "중요하지 않지만 상위에 나오는 몇몇 단어들을 불용어에 추가해 보겠습니다."
      ]
    },
    {
      "cell_type": "code",
      "metadata": {
        "id": "JyguAFtAikgB",
        "colab": {
          "base_uri": "https://localhost:8080/"
        },
        "outputId": "d760a7e0-08f8-41ef-b0da-a29e5b897be4"
      },
      "source": [
        "print(type(nlp.Defaults.stop_words))"
      ],
      "execution_count": 60,
      "outputs": [
        {
          "output_type": "stream",
          "text": [
            "<class 'set'>\n"
          ],
          "name": "stdout"
        }
      ]
    },
    {
      "cell_type": "code",
      "metadata": {
        "id": "8dTke6T1ikgB"
      },
      "source": [
        "STOP_WORDS = nlp.Defaults.stop_words.union(['batteries','I', 'amazon', 'i', 'Amazon', 'it', \"it's\", 'it.', 'the', 'this'])"
      ],
      "execution_count": 61,
      "outputs": []
    },
    {
      "cell_type": "code",
      "metadata": {
        "id": "gPxeF-CIikgB",
        "colab": {
          "base_uri": "https://localhost:8080/"
        },
        "outputId": "dff4f117-c50c-4fff-9b08-1550c0c0e2aa"
      },
      "source": [
        "print(STOP_WORDS)"
      ],
      "execution_count": 62,
      "outputs": [
        {
          "output_type": "stream",
          "text": [
            "{'whole', 'yours', 'to', 'anywhere', 'these', 'keep', 'myself', 'behind', 'thence', 'former', 'whereas', 'although', 'however', 'nothing', '’ve', 'three', 'another', 'others', 'my', 'fifty', 'several', 'well', 'on', 'of', 'sixty', 'within', '’ll', 'for', 'when', 'its', 'beforehand', 'what', 'up', 'eight', 'into', 'sometimes', 'though', '’d', 'could', 'much', 'none', 'everything', 'nor', 'any', 'give', 'will', 'themselves', 'also', 'still', 'beyond', 'move', 'latter', 'one', 'most', 'seems', 'me', 'third', 'onto', 'please', 'made', '‘re', 'amongst', 'either', 'might', 'many', 'from', 'twelve', 'nobody', 'an', 'and', 'anyway', 'above', 'somehow', 'have', 'did', 'get', 'she', 'yourselves', 'last', 'by', 'who', 'mine', 'next', 'besides', 'elsewhere', 'beside', 'whereupon', 'our', 'everyone', 'again', 'more', 'done', 'than', 'him', 'hereupon', 'same', 'doing', 'this', 'would', 'other', 'each', 'we', 'various', 'part', 'take', 'become', 'which', 'seemed', 'across', 'otherwise', 'something', 'therefore', 'thus', '’s', 'so', 'once', 'whether', 'all', 'anyhow', 'meanwhile', 'had', 'name', 'hereafter', 'them', 'never', 'or', 'hers', 'where', 'every', 'must', 'wherever', 'among', 'due', 'eleven', 'someone', 'indeed', 'against', 'without', 'becomes', '’re', 'out', 'latterly', 'n’t', 'towards', 'anything', '‘ve', 'serious', 'say', 'seeming', '‘m', 'hundred', 'was', 'herein', 'how', 'namely', 'not', 'via', 'back', 'yet', 'should', 'further', 'already', 'very', 'Amazon', 'they', 'front', \"n't\", 'least', 'why', 'even', 'about', 'less', 'himself', 'six', 'four', 'while', 'ourselves', \"'d\", 'alone', 'ten', 'am', 'are', 'as', 'batteries', 'do', 'hereby', 'perhaps', 'may', 'became', \"'ve\", 'enough', 'amazon', 'using', 'full', 'during', 'only', \"'s\", 'now', 'a', 'nine', 'it.', 'quite', 'in', 'being', 'his', 'both', 'call', 'through', 'moreover', 'can', 'the', 'whatever', 'between', 'toward', \"'re\", 'fifteen', 'anyone', 'forty', 'really', 'thereupon', 'first', 'whoever', 'it', 'that', 'throughout', 'ever', 'together', 'if', 'becoming', 'few', 'does', 'but', 'your', 'whither', 'seem', 'unless', 'regarding', 'is', 'always', 'since', 'ca', 'own', 'used', 'side', 'after', 'amount', 'see', 'were', 'just', 'rather', 'whereafter', 'some', \"'ll\", 'everywhere', 'be', 'upon', 'neither', 'their', 'nevertheless', 'herself', 'whose', 'yourself', 'at', 'there', 're', 'thereafter', 'under', 'whom', 'whence', 'else', 'i', 'somewhere', 'because', '‘d', 'mostly', 'he', 'has', 'whereby', 'nowhere', 'her', 'n‘t', 'wherein', \"'m\", 'make', '‘s', 'sometime', 'down', 'go', 'top', 'five', 'whenever', 'here', 'along', 'hence', 'no', 'before', 'off', 'afterwards', 'around', 'two', 'therein', 'us', 'show', 'you', 'twenty', 'below', 'put', 'been', 'almost', 'with', 'formerly', '’m', '‘ll', \"it's\", 'often', 'thereby', 'then', 'per', 'except', 'I', 'thru', 'bottom', 'empty', 'until', 'itself', 'over', 'noone', 'too', 'cannot', 'those', 'ours', 'such'}\n"
          ],
          "name": "stdout"
        }
      ]
    },
    {
      "cell_type": "code",
      "metadata": {
        "id": "vUNQBZpMikgB"
      },
      "source": [
        "tokens = []\n",
        "\n",
        "for doc in tokenizer.pipe(df['reviews.text']):\n",
        "    \n",
        "    doc_tokens = []\n",
        "    \n",
        "    for token in doc: \n",
        "        if token.text.lower() not in STOP_WORDS:\n",
        "            doc_tokens.append(token.text.lower())\n",
        "   \n",
        "    tokens.append(doc_tokens)\n",
        "    \n",
        "df['tokens'] = tokens"
      ],
      "execution_count": 63,
      "outputs": []
    },
    {
      "cell_type": "code",
      "metadata": {
        "id": "21z9GcNlikgC",
        "colab": {
          "base_uri": "https://localhost:8080/",
          "height": 198
        },
        "outputId": "4a0c024f-7041-459a-d182-bdc67e2fbdf8"
      },
      "source": [
        "wc = word_count(df['tokens'])\n",
        "wc.head()"
      ],
      "execution_count": 64,
      "outputs": [
        {
          "output_type": "execute_result",
          "data": {
            "text/html": [
              "<div>\n",
              "<style scoped>\n",
              "    .dataframe tbody tr th:only-of-type {\n",
              "        vertical-align: middle;\n",
              "    }\n",
              "\n",
              "    .dataframe tbody tr th {\n",
              "        vertical-align: top;\n",
              "    }\n",
              "\n",
              "    .dataframe thead th {\n",
              "        text-align: right;\n",
              "    }\n",
              "</style>\n",
              "<table border=\"1\" class=\"dataframe\">\n",
              "  <thead>\n",
              "    <tr style=\"text-align: right;\">\n",
              "      <th></th>\n",
              "      <th>word</th>\n",
              "      <th>word_in_docs</th>\n",
              "      <th>count</th>\n",
              "      <th>rank</th>\n",
              "      <th>percent</th>\n",
              "      <th>cul_percent</th>\n",
              "      <th>word_in_docs_percent</th>\n",
              "    </tr>\n",
              "  </thead>\n",
              "  <tbody>\n",
              "    <tr>\n",
              "      <th>62</th>\n",
              "      <td>great</td>\n",
              "      <td>1369</td>\n",
              "      <td>1589</td>\n",
              "      <td>1.0</td>\n",
              "      <td>0.021278</td>\n",
              "      <td>0.021278</td>\n",
              "      <td>0.264082</td>\n",
              "    </tr>\n",
              "    <tr>\n",
              "      <th>63</th>\n",
              "      <td>tablet</td>\n",
              "      <td>1289</td>\n",
              "      <td>1543</td>\n",
              "      <td>2.0</td>\n",
              "      <td>0.020662</td>\n",
              "      <td>0.041940</td>\n",
              "      <td>0.248650</td>\n",
              "    </tr>\n",
              "    <tr>\n",
              "      <th>58</th>\n",
              "      <td>love</td>\n",
              "      <td>819</td>\n",
              "      <td>894</td>\n",
              "      <td>3.0</td>\n",
              "      <td>0.011971</td>\n",
              "      <td>0.053911</td>\n",
              "      <td>0.157986</td>\n",
              "    </tr>\n",
              "    <tr>\n",
              "      <th>162</th>\n",
              "      <td>bought</td>\n",
              "      <td>836</td>\n",
              "      <td>885</td>\n",
              "      <td>4.0</td>\n",
              "      <td>0.011851</td>\n",
              "      <td>0.065762</td>\n",
              "      <td>0.161265</td>\n",
              "    </tr>\n",
              "    <tr>\n",
              "      <th>96</th>\n",
              "      <td>easy</td>\n",
              "      <td>765</td>\n",
              "      <td>811</td>\n",
              "      <td>5.0</td>\n",
              "      <td>0.010860</td>\n",
              "      <td>0.076622</td>\n",
              "      <td>0.147569</td>\n",
              "    </tr>\n",
              "  </tbody>\n",
              "</table>\n",
              "</div>"
            ],
            "text/plain": [
              "       word  word_in_docs  count  ...   percent  cul_percent  word_in_docs_percent\n",
              "62    great          1369   1589  ...  0.021278     0.021278              0.264082\n",
              "63   tablet          1289   1543  ...  0.020662     0.041940              0.248650\n",
              "58     love           819    894  ...  0.011971     0.053911              0.157986\n",
              "162  bought           836    885  ...  0.011851     0.065762              0.161265\n",
              "96     easy           765    811  ...  0.010860     0.076622              0.147569\n",
              "\n",
              "[5 rows x 7 columns]"
            ]
          },
          "metadata": {
            "tags": []
          },
          "execution_count": 64
        }
      ]
    },
    {
      "cell_type": "code",
      "metadata": {
        "id": "buABonj8ikgC",
        "colab": {
          "base_uri": "https://localhost:8080/",
          "height": 248
        },
        "outputId": "02e0bae1-a9eb-4ef0-f7e8-ecd0c2f80170"
      },
      "source": [
        "wc_top20 = wc[wc['rank'] <= 20]\n",
        "\n",
        "squarify.plot(sizes=wc_top20['percent'], label=wc_top20['word'], alpha=0.6)\n",
        "plt.axis('off')\n",
        "plt.show()"
      ],
      "execution_count": 65,
      "outputs": [
        {
          "output_type": "display_data",
          "data": {
            "image/png": "[encoded data removed]",
            "text/plain": [
              "<Figure size 432x288 with 1 Axes>"
            ]
          },
          "metadata": {
            "tags": [],
            "needs_background": "light"
          }
        }
      ]
    },
    {
      "cell_type": "markdown",
      "metadata": {
        "id": "QTN7ZUZKikgC"
      },
      "source": [
        "추가적으로 킨들의 리뷰와 전체 리뷰의 토큰을 비교해 보겠습니다."
      ]
    },
    {
      "cell_type": "code",
      "metadata": {
        "id": "yM8Co7iWikgD"
      },
      "source": [
        "df['kindle'] = df['name'].str.contains('kindle', case=False)"
      ],
      "execution_count": 66,
      "outputs": []
    },
    {
      "cell_type": "code",
      "metadata": {
        "id": "y3ehrnybikgE",
        "colab": {
          "base_uri": "https://localhost:8080/"
        },
        "outputId": "5cf6abc1-b729-463b-9aee-4cc8c6648609"
      },
      "source": [
        "wc_kindle = word_count(df[df['kindle'] == 1]['tokens'])\n",
        "wc.shape, wc_kindle.shape"
      ],
      "execution_count": 67,
      "outputs": [
        {
          "output_type": "execute_result",
          "data": {
            "text/plain": [
              "((9344, 7), (2053, 7))"
            ]
          },
          "metadata": {
            "tags": []
          },
          "execution_count": 67
        }
      ]
    },
    {
      "cell_type": "code",
      "metadata": {
        "id": "zIvmpZkwikgE",
        "colab": {
          "base_uri": "https://localhost:8080/",
          "height": 482
        },
        "outputId": "689e381e-9efb-499c-e551-a9179688e73a"
      },
      "source": [
        "wc_top20 = wc[wc['rank'] <= 20]\n",
        "wc_kindle_top20 = wc_kindle[wc_kindle['rank'] <= 20]\n",
        "\n",
        "fig, axes = plt.subplots(1, 2, figsize=(20, 8))\n",
        "axes[0].set_title('All Reviews')\n",
        "squarify.plot(sizes=wc_top20['percent'], label=wc_top20['word'], alpha=0.6, ax=axes[0], text_kwargs={'fontsize':14})\n",
        "axes[0].axis('off')\n",
        "\n",
        "axes[1].set_title('Kindle Reviews')\n",
        "squarify.plot(sizes=wc_kindle_top20['percent'], label=wc_kindle_top20['word'], alpha=0.6, ax=axes[1], text_kwargs={'fontsize':14})\n",
        "axes[1].axis('off')\n",
        "\n",
        "plt.show()"
      ],
      "execution_count": 68,
      "outputs": [
        {
          "output_type": "display_data",
          "data": {
            "image/png": "[encoded data removed]",
            "text/plain": [
              "<Figure size 1440x576 with 2 Axes>"
            ]
          },
          "metadata": {
            "tags": [],
            "needs_background": "light"
          }
        }
      ]
    },
    {
      "cell_type": "markdown",
      "metadata": {
        "id": "h9fy07JNikgE"
      },
      "source": [
        "### 통계적 트리밍(Trimming)\n",
        "\n",
        "기존에 알려진 불용어를 제거하는 대신 코퍼스에서 통계적인 방법을 통해 단어를 제거하는 방법이 있습니다.\n",
        "\n",
        "단어들의 누적분포 그래프를 다시 보겠습니다."
      ]
    },
    {
      "cell_type": "code",
      "metadata": {
        "id": "GX1ocoDRikgE",
        "colab": {
          "base_uri": "https://localhost:8080/",
          "height": 279
        },
        "outputId": "be678dd1-5593-4dd9-dd0a-7282393798a5"
      },
      "source": [
        "sns.lineplot(x='rank', y='cul_percent', data=wc);"
      ],
      "execution_count": 69,
      "outputs": [
        {
          "output_type": "display_data",
          "data": {
            "image/png": "[encoded data removed]",
            "text/plain": [
              "<Figure size 432x288 with 1 Axes>"
            ]
          },
          "metadata": {
            "tags": [],
            "needs_background": "light"
          }
        }
      ]
    },
    {
      "cell_type": "markdown",
      "metadata": {
        "id": "c7O5-5eeikgE"
      },
      "source": [
        "이 그래프에서 알 수 있는 것은 몇몇 소수의 단어들이 전체 코퍼스의 80%를 차지한다는 것입니다. 이런 현상은 다음과 같이 두 가지로 해석할 수 있습니다.\n",
        "\n",
        "1. 자주 나타나는 단어들(그래프의 왼쪽)은 여러 문서에 두루 나타나기 때문에 문서의 의미를 이해하는데 통찰력을 제공하지 않습니다.\n",
        "2. 자주 나타나지 않는 단어들(그래프의 오른쪽)도 역시 너무 드믈게 나타나기 때문에 큰 의미가 없을 확률이 높습니다.\n",
        "\n",
        "랭크가 높거나 낮은 단어들을 한 번 살펴 보고 제거해 봅시다:"
      ]
    },
    {
      "cell_type": "code",
      "metadata": {
        "id": "EKk6FpBzikgE",
        "colab": {
          "base_uri": "https://localhost:8080/",
          "height": 648
        },
        "outputId": "07343c4c-4c57-4d68-e4c0-7a7e9c42c4eb"
      },
      "source": [
        "wc.tail(20)"
      ],
      "execution_count": 70,
      "outputs": [
        {
          "output_type": "execute_result",
          "data": {
            "text/html": [
              "<div>\n",
              "<style scoped>\n",
              "    .dataframe tbody tr th:only-of-type {\n",
              "        vertical-align: middle;\n",
              "    }\n",
              "\n",
              "    .dataframe tbody tr th {\n",
              "        vertical-align: top;\n",
              "    }\n",
              "\n",
              "    .dataframe thead th {\n",
              "        text-align: right;\n",
              "    }\n",
              "</style>\n",
              "<table border=\"1\" class=\"dataframe\">\n",
              "  <thead>\n",
              "    <tr style=\"text-align: right;\">\n",
              "      <th></th>\n",
              "      <th>word</th>\n",
              "      <th>word_in_docs</th>\n",
              "      <th>count</th>\n",
              "      <th>rank</th>\n",
              "      <th>percent</th>\n",
              "      <th>cul_percent</th>\n",
              "      <th>word_in_docs_percent</th>\n",
              "    </tr>\n",
              "  </thead>\n",
              "  <tbody>\n",
              "    <tr>\n",
              "      <th>9322</th>\n",
              "      <td>ink</td>\n",
              "      <td>1</td>\n",
              "      <td>1</td>\n",
              "      <td>9325.0</td>\n",
              "      <td>0.000013</td>\n",
              "      <td>0.999746</td>\n",
              "      <td>0.000193</td>\n",
              "    </tr>\n",
              "    <tr>\n",
              "      <th>9321</th>\n",
              "      <td>compare.</td>\n",
              "      <td>1</td>\n",
              "      <td>1</td>\n",
              "      <td>9326.0</td>\n",
              "      <td>0.000013</td>\n",
              "      <td>0.999759</td>\n",
              "      <td>0.000193</td>\n",
              "    </tr>\n",
              "    <tr>\n",
              "      <th>9326</th>\n",
              "      <td>multifaceted</td>\n",
              "      <td>1</td>\n",
              "      <td>1</td>\n",
              "      <td>9327.0</td>\n",
              "      <td>0.000013</td>\n",
              "      <td>0.999772</td>\n",
              "      <td>0.000193</td>\n",
              "    </tr>\n",
              "    <tr>\n",
              "      <th>9327</th>\n",
              "      <td>opportunities</td>\n",
              "      <td>1</td>\n",
              "      <td>1</td>\n",
              "      <td>9328.0</td>\n",
              "      <td>0.000013</td>\n",
              "      <td>0.999786</td>\n",
              "      <td>0.000193</td>\n",
              "    </tr>\n",
              "    <tr>\n",
              "      <th>9328</th>\n",
              "      <td>daily!</td>\n",
              "      <td>1</td>\n",
              "      <td>1</td>\n",
              "      <td>9329.0</td>\n",
              "      <td>0.000013</td>\n",
              "      <td>0.999799</td>\n",
              "      <td>0.000193</td>\n",
              "    </tr>\n",
              "    <tr>\n",
              "      <th>9329</th>\n",
              "      <td>functionalities</td>\n",
              "      <td>1</td>\n",
              "      <td>1</td>\n",
              "      <td>9330.0</td>\n",
              "      <td>0.000013</td>\n",
              "      <td>0.999813</td>\n",
              "      <td>0.000193</td>\n",
              "    </tr>\n",
              "    <tr>\n",
              "      <th>9330</th>\n",
              "      <td>good..</td>\n",
              "      <td>1</td>\n",
              "      <td>1</td>\n",
              "      <td>9331.0</td>\n",
              "      <td>0.000013</td>\n",
              "      <td>0.999826</td>\n",
              "      <td>0.000193</td>\n",
              "    </tr>\n",
              "    <tr>\n",
              "      <th>9332</th>\n",
              "      <td>geeks</td>\n",
              "      <td>1</td>\n",
              "      <td>1</td>\n",
              "      <td>9332.0</td>\n",
              "      <td>0.000013</td>\n",
              "      <td>0.999839</td>\n",
              "      <td>0.000193</td>\n",
              "    </tr>\n",
              "    <tr>\n",
              "      <th>9333</th>\n",
              "      <td>monday</td>\n",
              "      <td>1</td>\n",
              "      <td>1</td>\n",
              "      <td>9333.0</td>\n",
              "      <td>0.000013</td>\n",
              "      <td>0.999853</td>\n",
              "      <td>0.000193</td>\n",
              "    </tr>\n",
              "    <tr>\n",
              "      <th>9331</th>\n",
              "      <td>april</td>\n",
              "      <td>1</td>\n",
              "      <td>1</td>\n",
              "      <td>9334.0</td>\n",
              "      <td>0.000013</td>\n",
              "      <td>0.999866</td>\n",
              "      <td>0.000193</td>\n",
              "    </tr>\n",
              "    <tr>\n",
              "      <th>9334</th>\n",
              "      <td>endure</td>\n",
              "      <td>1</td>\n",
              "      <td>1</td>\n",
              "      <td>9335.0</td>\n",
              "      <td>0.000013</td>\n",
              "      <td>0.999879</td>\n",
              "      <td>0.000193</td>\n",
              "    </tr>\n",
              "    <tr>\n",
              "      <th>9335</th>\n",
              "      <td>energy</td>\n",
              "      <td>1</td>\n",
              "      <td>1</td>\n",
              "      <td>9336.0</td>\n",
              "      <td>0.000013</td>\n",
              "      <td>0.999893</td>\n",
              "      <td>0.000193</td>\n",
              "    </tr>\n",
              "    <tr>\n",
              "      <th>9336</th>\n",
              "      <td>particularly.</td>\n",
              "      <td>1</td>\n",
              "      <td>1</td>\n",
              "      <td>9337.0</td>\n",
              "      <td>0.000013</td>\n",
              "      <td>0.999906</td>\n",
              "      <td>0.000193</td>\n",
              "    </tr>\n",
              "    <tr>\n",
              "      <th>9337</th>\n",
              "      <td>gifts!!</td>\n",
              "      <td>1</td>\n",
              "      <td>1</td>\n",
              "      <td>9338.0</td>\n",
              "      <td>0.000013</td>\n",
              "      <td>0.999920</td>\n",
              "      <td>0.000193</td>\n",
              "    </tr>\n",
              "    <tr>\n",
              "      <th>9338</th>\n",
              "      <td>83</td>\n",
              "      <td>1</td>\n",
              "      <td>1</td>\n",
              "      <td>9339.0</td>\n",
              "      <td>0.000013</td>\n",
              "      <td>0.999933</td>\n",
              "      <td>0.000193</td>\n",
              "    </tr>\n",
              "    <tr>\n",
              "      <th>9339</th>\n",
              "      <td>quetion</td>\n",
              "      <td>1</td>\n",
              "      <td>1</td>\n",
              "      <td>9340.0</td>\n",
              "      <td>0.000013</td>\n",
              "      <td>0.999946</td>\n",
              "      <td>0.000193</td>\n",
              "    </tr>\n",
              "    <tr>\n",
              "      <th>9340</th>\n",
              "      <td>warenty</td>\n",
              "      <td>1</td>\n",
              "      <td>1</td>\n",
              "      <td>9341.0</td>\n",
              "      <td>0.000013</td>\n",
              "      <td>0.999960</td>\n",
              "      <td>0.000193</td>\n",
              "    </tr>\n",
              "    <tr>\n",
              "      <th>9342</th>\n",
              "      <td>others,</td>\n",
              "      <td>1</td>\n",
              "      <td>1</td>\n",
              "      <td>9342.0</td>\n",
              "      <td>0.000013</td>\n",
              "      <td>0.999973</td>\n",
              "      <td>0.000193</td>\n",
              "    </tr>\n",
              "    <tr>\n",
              "      <th>9341</th>\n",
              "      <td>different,</td>\n",
              "      <td>1</td>\n",
              "      <td>1</td>\n",
              "      <td>9343.0</td>\n",
              "      <td>0.000013</td>\n",
              "      <td>0.999987</td>\n",
              "      <td>0.000193</td>\n",
              "    </tr>\n",
              "    <tr>\n",
              "      <th>9343</th>\n",
              "      <td>improvments</td>\n",
              "      <td>1</td>\n",
              "      <td>1</td>\n",
              "      <td>9344.0</td>\n",
              "      <td>0.000013</td>\n",
              "      <td>1.000000</td>\n",
              "      <td>0.000193</td>\n",
              "    </tr>\n",
              "  </tbody>\n",
              "</table>\n",
              "</div>"
            ],
            "text/plain": [
              "                 word  word_in_docs  ...  cul_percent  word_in_docs_percent\n",
              "9322              ink             1  ...     0.999746              0.000193\n",
              "9321         compare.             1  ...     0.999759              0.000193\n",
              "9326     multifaceted             1  ...     0.999772              0.000193\n",
              "9327    opportunities             1  ...     0.999786              0.000193\n",
              "9328           daily!             1  ...     0.999799              0.000193\n",
              "9329  functionalities             1  ...     0.999813              0.000193\n",
              "9330           good..             1  ...     0.999826              0.000193\n",
              "9332            geeks             1  ...     0.999839              0.000193\n",
              "9333           monday             1  ...     0.999853              0.000193\n",
              "9331            april             1  ...     0.999866              0.000193\n",
              "9334           endure             1  ...     0.999879              0.000193\n",
              "9335           energy             1  ...     0.999893              0.000193\n",
              "9336    particularly.             1  ...     0.999906              0.000193\n",
              "9337          gifts!!             1  ...     0.999920              0.000193\n",
              "9338               83             1  ...     0.999933              0.000193\n",
              "9339          quetion             1  ...     0.999946              0.000193\n",
              "9340          warenty             1  ...     0.999960              0.000193\n",
              "9342          others,             1  ...     0.999973              0.000193\n",
              "9341       different,             1  ...     0.999987              0.000193\n",
              "9343      improvments             1  ...     1.000000              0.000193\n",
              "\n",
              "[20 rows x 7 columns]"
            ]
          },
          "metadata": {
            "tags": []
          },
          "execution_count": 70
        }
      ]
    },
    {
      "cell_type": "code",
      "metadata": {
        "id": "Rq05xHlqikgF",
        "colab": {
          "base_uri": "https://localhost:8080/"
        },
        "outputId": "6df3b18f-369c-483a-ada7-05b24fa6dab7"
      },
      "source": [
        "wc['word_in_docs_percent'].describe()"
      ],
      "execution_count": 71,
      "outputs": [
        {
          "output_type": "execute_result",
          "data": {
            "text/plain": [
              "count    9344.000000\n",
              "mean        0.001458\n",
              "std         0.006942\n",
              "min         0.000193\n",
              "25%         0.000193\n",
              "50%         0.000386\n",
              "75%         0.000772\n",
              "max         0.264082\n",
              "Name: word_in_docs_percent, dtype: float64"
            ]
          },
          "metadata": {
            "tags": []
          },
          "execution_count": 71
        }
      ]
    },
    {
      "cell_type": "code",
      "metadata": {
        "id": "lVtOMSn3ikgF",
        "colab": {
          "base_uri": "https://localhost:8080/"
        },
        "outputId": "7c44c6fd-fd3b-4b4d-d80f-ae827638cd61"
      },
      "source": [
        "wc['word_in_docs_percent']"
      ],
      "execution_count": 72,
      "outputs": [
        {
          "output_type": "execute_result",
          "data": {
            "text/plain": [
              "62      0.264082\n",
              "63      0.248650\n",
              "58      0.157986\n",
              "162     0.161265\n",
              "96      0.147569\n",
              "          ...   \n",
              "9339    0.000193\n",
              "9340    0.000193\n",
              "9342    0.000193\n",
              "9341    0.000193\n",
              "9343    0.000193\n",
              "Name: word_in_docs_percent, Length: 9344, dtype: float64"
            ]
          },
          "metadata": {
            "tags": []
          },
          "execution_count": 72
        }
      ]
    },
    {
      "cell_type": "code",
      "metadata": {
        "id": "gajnG4nZikgF",
        "colab": {
          "base_uri": "https://localhost:8080/",
          "height": 369
        },
        "outputId": "aa223255-efa4-44cf-f0a6-b6f331a0362a"
      },
      "source": [
        "# 문서에 나타나는 빈도\n",
        "sns.displot(wc['word_in_docs_percent'],kind='kde');"
      ],
      "execution_count": 73,
      "outputs": [
        {
          "output_type": "display_data",
          "data": {
            "image/png": "[encoded data removed]",
            "text/plain": [
              "<Figure size 360x360 with 1 Axes>"
            ]
          },
          "metadata": {
            "tags": [],
            "needs_background": "light"
          }
        }
      ]
    },
    {
      "cell_type": "code",
      "metadata": {
        "id": "qF9dJuh4ikgF",
        "colab": {
          "base_uri": "https://localhost:8080/",
          "height": 369
        },
        "outputId": "3e25edbb-9b59-4aa6-f73b-1233e2a749a7"
      },
      "source": [
        "# 최소한 1% 이상 문서에 나타나는 단어들만 선택합니다.\n",
        "\n",
        "wc = wc[wc['word_in_docs_percent'] >= 0.01]\n",
        "\n",
        "sns.displot(wc['word_in_docs_percent'], kind='kde');"
      ],
      "execution_count": 74,
      "outputs": [
        {
          "output_type": "display_data",
          "data": {
            "image/png": "[encoded data removed]",
            "text/plain": [
              "<Figure size 360x360 with 1 Axes>"
            ]
          },
          "metadata": {
            "tags": [],
            "needs_background": "light"
          }
        }
      ]
    },
    {
      "cell_type": "code",
      "metadata": {
        "id": "lAZ8kI3BikgF",
        "colab": {
          "base_uri": "https://localhost:8080/"
        },
        "outputId": "5801835b-d7dd-4cb7-faa2-682ed70381dd"
      },
      "source": [
        "wc.shape"
      ],
      "execution_count": 75,
      "outputs": [
        {
          "output_type": "execute_result",
          "data": {
            "text/plain": [
              "(232, 7)"
            ]
          },
          "metadata": {
            "tags": []
          },
          "execution_count": 75
        }
      ]
    },
    {
      "cell_type": "code",
      "metadata": {
        "id": "S3bUbAioikgG",
        "colab": {
          "base_uri": "https://localhost:8080/",
          "height": 407
        },
        "outputId": "e10ca6d4-79b5-4902-e66c-2e27635d632c"
      },
      "source": [
        "wc"
      ],
      "execution_count": 76,
      "outputs": [
        {
          "output_type": "execute_result",
          "data": {
            "text/html": [
              "<div>\n",
              "<style scoped>\n",
              "    .dataframe tbody tr th:only-of-type {\n",
              "        vertical-align: middle;\n",
              "    }\n",
              "\n",
              "    .dataframe tbody tr th {\n",
              "        vertical-align: top;\n",
              "    }\n",
              "\n",
              "    .dataframe thead th {\n",
              "        text-align: right;\n",
              "    }\n",
              "</style>\n",
              "<table border=\"1\" class=\"dataframe\">\n",
              "  <thead>\n",
              "    <tr style=\"text-align: right;\">\n",
              "      <th></th>\n",
              "      <th>word</th>\n",
              "      <th>word_in_docs</th>\n",
              "      <th>count</th>\n",
              "      <th>rank</th>\n",
              "      <th>percent</th>\n",
              "      <th>cul_percent</th>\n",
              "      <th>word_in_docs_percent</th>\n",
              "    </tr>\n",
              "  </thead>\n",
              "  <tbody>\n",
              "    <tr>\n",
              "      <th>62</th>\n",
              "      <td>great</td>\n",
              "      <td>1369</td>\n",
              "      <td>1589</td>\n",
              "      <td>1.0</td>\n",
              "      <td>0.021278</td>\n",
              "      <td>0.021278</td>\n",
              "      <td>0.264082</td>\n",
              "    </tr>\n",
              "    <tr>\n",
              "      <th>63</th>\n",
              "      <td>tablet</td>\n",
              "      <td>1289</td>\n",
              "      <td>1543</td>\n",
              "      <td>2.0</td>\n",
              "      <td>0.020662</td>\n",
              "      <td>0.041940</td>\n",
              "      <td>0.248650</td>\n",
              "    </tr>\n",
              "    <tr>\n",
              "      <th>58</th>\n",
              "      <td>love</td>\n",
              "      <td>819</td>\n",
              "      <td>894</td>\n",
              "      <td>3.0</td>\n",
              "      <td>0.011971</td>\n",
              "      <td>0.053911</td>\n",
              "      <td>0.157986</td>\n",
              "    </tr>\n",
              "    <tr>\n",
              "      <th>162</th>\n",
              "      <td>bought</td>\n",
              "      <td>836</td>\n",
              "      <td>885</td>\n",
              "      <td>4.0</td>\n",
              "      <td>0.011851</td>\n",
              "      <td>0.065762</td>\n",
              "      <td>0.161265</td>\n",
              "    </tr>\n",
              "    <tr>\n",
              "      <th>96</th>\n",
              "      <td>easy</td>\n",
              "      <td>765</td>\n",
              "      <td>811</td>\n",
              "      <td>5.0</td>\n",
              "      <td>0.010860</td>\n",
              "      <td>0.076622</td>\n",
              "      <td>0.147569</td>\n",
              "    </tr>\n",
              "    <tr>\n",
              "      <th>...</th>\n",
              "      <td>...</td>\n",
              "      <td>...</td>\n",
              "      <td>...</td>\n",
              "      <td>...</td>\n",
              "      <td>...</td>\n",
              "      <td>...</td>\n",
              "      <td>...</td>\n",
              "    </tr>\n",
              "    <tr>\n",
              "      <th>1414</th>\n",
              "      <td>add</td>\n",
              "      <td>54</td>\n",
              "      <td>55</td>\n",
              "      <td>233.0</td>\n",
              "      <td>0.000736</td>\n",
              "      <td>0.498487</td>\n",
              "      <td>0.010417</td>\n",
              "    </tr>\n",
              "    <tr>\n",
              "      <th>10</th>\n",
              "      <td>cheap</td>\n",
              "      <td>52</td>\n",
              "      <td>54</td>\n",
              "      <td>234.0</td>\n",
              "      <td>0.000723</td>\n",
              "      <td>0.499210</td>\n",
              "      <td>0.010031</td>\n",
              "    </tr>\n",
              "    <tr>\n",
              "      <th>583</th>\n",
              "      <td>old.</td>\n",
              "      <td>54</td>\n",
              "      <td>54</td>\n",
              "      <td>238.0</td>\n",
              "      <td>0.000723</td>\n",
              "      <td>0.502102</td>\n",
              "      <td>0.010417</td>\n",
              "    </tr>\n",
              "    <tr>\n",
              "      <th>1397</th>\n",
              "      <td>check</td>\n",
              "      <td>53</td>\n",
              "      <td>54</td>\n",
              "      <td>240.0</td>\n",
              "      <td>0.000723</td>\n",
              "      <td>0.503549</td>\n",
              "      <td>0.010224</td>\n",
              "    </tr>\n",
              "    <tr>\n",
              "      <th>1088</th>\n",
              "      <td>thought</td>\n",
              "      <td>52</td>\n",
              "      <td>53</td>\n",
              "      <td>243.0</td>\n",
              "      <td>0.000710</td>\n",
              "      <td>0.505678</td>\n",
              "      <td>0.010031</td>\n",
              "    </tr>\n",
              "  </tbody>\n",
              "</table>\n",
              "<p>232 rows × 7 columns</p>\n",
              "</div>"
            ],
            "text/plain": [
              "         word  word_in_docs  count  ...   percent  cul_percent  word_in_docs_percent\n",
              "62      great          1369   1589  ...  0.021278     0.021278              0.264082\n",
              "63     tablet          1289   1543  ...  0.020662     0.041940              0.248650\n",
              "58       love           819    894  ...  0.011971     0.053911              0.157986\n",
              "162    bought           836    885  ...  0.011851     0.065762              0.161265\n",
              "96       easy           765    811  ...  0.010860     0.076622              0.147569\n",
              "...       ...           ...    ...  ...       ...          ...                   ...\n",
              "1414      add            54     55  ...  0.000736     0.498487              0.010417\n",
              "10      cheap            52     54  ...  0.000723     0.499210              0.010031\n",
              "583      old.            54     54  ...  0.000723     0.502102              0.010417\n",
              "1397    check            53     54  ...  0.000723     0.503549              0.010224\n",
              "1088  thought            52     53  ...  0.000710     0.505678              0.010031\n",
              "\n",
              "[232 rows x 7 columns]"
            ]
          },
          "metadata": {
            "tags": []
          },
          "execution_count": 76
        }
      ]
    },
    {
      "cell_type": "markdown",
      "metadata": {
        "toc-hr-collapsed": false,
        "id": "tP3M0BQxikgG"
      },
      "source": [
        "## 표제어추출(lemmatization)과 어간추출(stemming) 하기"
      ]
    },
    {
      "cell_type": "markdown",
      "metadata": {
        "toc-hr-collapsed": false,
        "id": "bzy_EJGPikgG"
      },
      "source": [
        "토큰화된 단어들을 보면, 조금 더 수정이 필요한 부분이 보입니다. 예를 들어 'batteries' 와 'battery'를 보면 이 둘은 어근(root)이 같은 단어입니다.\n",
        "이런 단어들을 표제어추출(lemmatization) 이나 어간추출(stemming)을 통해 추출 하게 됩니다."
      ]
    },
    {
      "cell_type": "markdown",
      "metadata": {
        "toc-hr-collapsed": true,
        "id": "og-a_0NyikgG"
      },
      "source": [
        "### Stemming(어간추출)\n",
        "\n",
        "- [PorterStemmer](https://tartarus.org/martin/PorterStemmer/)\n",
        "\n",
        "> 어간(stem): 단어의 의미가 포함된 부분으로 접사등이 제거된 형태 입니다. 어근이나 단어의 원형과 같지 않을 수 있습니다.\n",
        "> 예를 들어 argue, argued, arguing, argus의 어간은 단어들의 뒷 부분이 제거된 argu가 어간입니다.\n",
        "\n",
        "다음과 같은 부분을 제거합니다:\n",
        "- 'ing'\n",
        "- 'ed'\n",
        "- 's'\n",
        "\n",
        "Stemming 방법은 Porter, Snowball, Dawson 등 알고리즘으로 잘 정립되어 있습니다. 이 알고리즘들에 대한 더 자세한 정보는 다음을 참고하세요. \n",
        "- [A Comparative Study of Stemming Algorithms](https://pdfs.semanticscholar.org/1c0c/0fa35d4ff8a2f925eb955e48d655494bd167.pdf) \n",
        "\n",
        "\n",
        "Spacy는 Stemming을 제공하지 않고 **lemmatization**만 제공하기 때문에, `nltk` 를 사용해 stemming을 진행해 보겠습니다."
      ]
    },
    {
      "cell_type": "code",
      "metadata": {
        "id": "4wKSxXdWikgG",
        "colab": {
          "base_uri": "https://localhost:8080/"
        },
        "outputId": "dd9ec2a2-7910-4f1c-c334-53c863cb0aa3"
      },
      "source": [
        "from nltk.stem import PorterStemmer\n",
        "\n",
        "ps = PorterStemmer()\n",
        "\n",
        "words = [\"wolf\", \"wolves\"]\n",
        "\n",
        "for word in words:\n",
        "    print(ps.stem(word))"
      ],
      "execution_count": 77,
      "outputs": [
        {
          "output_type": "stream",
          "text": [
            "wolf\n",
            "wolv\n"
          ],
          "name": "stdout"
        }
      ]
    },
    {
      "cell_type": "markdown",
      "metadata": {
        "id": "AQMp_UKSikgG"
      },
      "source": [
        "### 아마존 리뷰데이터를 Stemming 해 봅시다."
      ]
    },
    {
      "cell_type": "code",
      "metadata": {
        "id": "7h-CF8gRikgG"
      },
      "source": [
        "tokens = []\n",
        "for doc in df['tokens']:\n",
        "    doc_tokens = []\n",
        "    for token in doc:\n",
        "        doc_tokens.append(ps.stem(token))\n",
        "    tokens.append(doc_tokens)\n",
        "\n",
        "df['stems'] = tokens"
      ],
      "execution_count": 78,
      "outputs": []
    },
    {
      "cell_type": "code",
      "metadata": {
        "id": "QYB3VQfSikgH",
        "colab": {
          "base_uri": "https://localhost:8080/",
          "height": 0
        },
        "outputId": "4a6fef1b-25ef-4e0b-d0e3-5cefb74311f2"
      },
      "source": [
        "wc = word_count(df['stems'])\n",
        "\n",
        "wc_top20 = wc[wc['rank'] <= 20]\n",
        "\n",
        "squarify.plot(sizes=wc_top20['percent'], label=wc_top20['word'], alpha=0.6 )\n",
        "plt.axis('off')\n",
        "plt.show()"
      ],
      "execution_count": 79,
      "outputs": [
        {
          "output_type": "display_data",
          "data": {
            "image/png": "[encoded data removed]",
            "text/plain": [
              "<Figure size 432x288 with 1 Axes>"
            ]
          },
          "metadata": {
            "tags": [],
            "needs_background": "light"
          }
        }
      ]
    },
    {
      "cell_type": "markdown",
      "metadata": {
        "toc-hr-collapsed": false,
        "id": "erDvhklXikgH"
      },
      "source": [
        "### Lemmatization(표제어 추출)\n",
        "\n",
        "Porter 알고리즘은 단지 단어의 끝 부분을 자르는 역할을 합니다. 그래서 사전에도 없는 단어가 많이 나오게 됩니다. 조금 이상하긴 해도 현실적으로 사용하기에 Stemming 은 성능이 나쁘지 않습니다. 알고리즘이 간단해 매우 빠르기 때문에 검색엔진과 정보검색 분야에서 많이 사용하고 있습니다.\n",
        "\n",
        "Lemmatization은 어간추출보다 체계적입니다. 단어들은 기본 사전형 단어 형태인 lemma(표제어)로 변환됩니다. 명사의 복수형은 단수형으로, 동사는 모두 타동사로 변환됩니다. 이렇게 단어들로부터 표제어를 찾아가는 과정은 Stemming 보다 많은 연산이 필요합니다. 그럼 Stacy를 통해 Lemmatization을 진행해 보겠습니다.\n"
      ]
    },
    {
      "cell_type": "code",
      "metadata": {
        "id": "r88C4u2vikgH",
        "colab": {
          "base_uri": "https://localhost:8080/"
        },
        "outputId": "084f3fe7-dca7-4cf1-fc18-84d609880637"
      },
      "source": [
        "lem = \"The social wolf. Wolves are complex.\"\n",
        "\n",
        "nlp = spacy.load(\"en_core_web_sm\")\n",
        "\n",
        "doc = nlp(lem)\n",
        "\n",
        "# wolf, wolve가 어떤 Lemma로 추출되는지 확인해 보세요\n",
        "for token in doc:\n",
        "    print(token.text, \"  \", token.lemma_)"
      ],
      "execution_count": 82,
      "outputs": [
        {
          "output_type": "stream",
          "text": [
            "The    the\n",
            "social    social\n",
            "wolf    wolf\n",
            ".    .\n",
            "Wolves    wolf\n",
            "are    be\n",
            "complex    complex\n",
            ".    .\n"
          ],
          "name": "stdout"
        }
      ]
    },
    {
      "cell_type": "code",
      "metadata": {
        "id": "1X6okY3pikgH"
      },
      "source": [
        "# Lemmatization 과정을 함수로 만들어 봅시다\n",
        "def get_lemmas(text):\n",
        "\n",
        "    lemmas = []\n",
        "    \n",
        "    doc = nlp(text)\n",
        "\n",
        "    for token in doc: \n",
        "        if ((token.is_stop == False) and (token.is_punct == False)) and (token.pos_ != 'PRON'):\n",
        "            lemmas.append(token.lemma_)\n",
        "    \n",
        "    return lemmas"
      ],
      "execution_count": 83,
      "outputs": []
    },
    {
      "cell_type": "code",
      "metadata": {
        "id": "nl1OE7RhikgH"
      },
      "source": [
        "df['lemmas'] = df['reviews.text'].apply(get_lemmas)"
      ],
      "execution_count": 84,
      "outputs": []
    },
    {
      "cell_type": "code",
      "metadata": {
        "id": "NwBrTAVtikgH",
        "colab": {
          "base_uri": "https://localhost:8080/"
        },
        "outputId": "20550a84-a489-463c-cef4-bdb0a4a22e42"
      },
      "source": [
        "df['lemmas'].head()"
      ],
      "execution_count": 85,
      "outputs": [
        {
          "output_type": "execute_result",
          "data": {
            "text/plain": [
              "0    [get, cheap, price, black, friday, fire, great...\n",
              "1    [purchase, 7, son, 1.5, year, old, break, wait...\n",
              "3              [great, tablet, kid, boy, love, tablet]\n",
              "6    [purchase, Amazon, Fire, kid, edition, tablet,...\n",
              "7    [got, sale, year, love, it!i, use, primarily, ...\n",
              "Name: lemmas, dtype: object"
            ]
          },
          "metadata": {
            "tags": []
          },
          "execution_count": 85
        }
      ]
    },
    {
      "cell_type": "code",
      "metadata": {
        "id": "hIPA6sbIikgH",
        "colab": {
          "base_uri": "https://localhost:8080/",
          "height": 248
        },
        "outputId": "ab471ef6-2380-4d81-8c32-500705fdfdeb"
      },
      "source": [
        "wc = word_count(df['lemmas'])\n",
        "wc_top20 = wc[wc['rank'] <= 20]\n",
        "\n",
        "squarify.plot(sizes=wc_top20['percent'], label=wc_top20['word'], alpha=0.6 )\n",
        "plt.axis('off')\n",
        "plt.show()"
      ],
      "execution_count": 86,
      "outputs": [
        {
          "output_type": "display_data",
          "data": {
            "image/png": "[encoded data removed]",
            "text/plain": [
              "<Figure size 432x288 with 1 Axes>"
            ]
          },
          "metadata": {
            "tags": [],
            "needs_background": "light"
          }
        }
      ]
    },
    {
      "cell_type": "markdown",
      "metadata": {
        "id": "0lGzRc9YikgI"
      },
      "source": [
        "## 참고자료\n",
        "\n",
        "- [Spacy 101](https://course.spacy.io)\n",
        "- [NLTK Book](https://www.nltk.org/book)\n",
        "- [An Introduction to Information Retrieval](https://nlp.stanford.edu/IR-book/pdf/irbookonlinereading.pdf)\n",
        "- [regex101.com(정규식 연습)](https://regex101.com/)\n",
        "- [Python RegEx](https://www.w3schools.com/python/python_regex.asp#sub)\n",
        "- [정규 표현식 시작하기](https://wikidocs.net/4308#_2)"
      ]
    }
  ]
}