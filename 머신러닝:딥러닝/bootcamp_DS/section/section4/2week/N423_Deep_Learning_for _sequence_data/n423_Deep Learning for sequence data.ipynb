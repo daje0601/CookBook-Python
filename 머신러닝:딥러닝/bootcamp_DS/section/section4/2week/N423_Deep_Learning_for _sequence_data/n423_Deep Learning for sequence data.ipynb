{
  "nbformat": 4,
  "nbformat_minor": 0,
  "metadata": {
    "kernelspec": {
      "display_name": "P41_NLP",
      "language": "python",
      "name": "p41_nlp"
    },
    "language_info": {
      "codemirror_mode": {
        "name": "ipython",
        "version": 3
      },
      "file_extension": ".py",
      "mimetype": "text/x-python",
      "name": "python",
      "nbconvert_exporter": "python",
      "pygments_lexer": "ipython3",
      "version": "3.7.7"
    },
    "colab": {
      "name": "n413-document-classification.ipynb",
      "provenance": [],
      "toc_visible": true
    }
  },
  "cells": [
    {
      "cell_type": "markdown",
      "metadata": {
        "id": "BqbGgvLnsRMK"
      },
      "source": [
        "<img align=\"right\" src=\"https://ds-cs-images.s3.ap-northeast-2.amazonaws.com/Codestates_Fulllogo_Color.png\" width=100>\n",
        "\n",
        "## *DATA SCIENCE / SECTION 4 / SPRINT 2 / NOTE 3*\n",
        "\n",
        "---\n",
        "\n",
        "# Deep Learning for sequence data"
      ]
    },
    {
      "cell_type": "code",
      "metadata": {
        "id": "4XRE8OltyEnE"
      },
      "source": [
        ""
      ],
      "execution_count": null,
      "outputs": []
    },
    {
      "cell_type": "markdown",
      "metadata": {
        "id": "QYrI4-tdsRMY"
      },
      "source": [
        "# 🏆 학습 목표\n",
        "\n",
        "- <a href=\"#p1\">Part 1: </a> 자연어 예측방법에 대해서 이해하기\n",
        "  * Word2Vec - CBOW, Skip-gram\n",
        "  * NNLM - Neural Network Language Model\n",
        "  * RNNLM - Recurrent Neural Network Language Model\n",
        "\n",
        "- <a href=\"#p2\">Part 2: </a> 시퀀스 모델링에 사용되는 신경망에 대해서 배운다.\n",
        "  * 시퀀스 : 순서가 있는 데이터의 집합\n",
        "  * RNN 계열 (LSTM, GRU 포함)과는 다른 시퀀스 처리 방식인 Transformer에 대해서 알고 있다.\n",
        "  * Keras를 사용하여 텍스트 생성 문제에 LSTM 적용해본다.\n",
        "  * RNN을 실전문제에 사용해보았고, RNN도 기존 신경망과 다르지 않고 충분히 해결할 수 있다는 자신감을 갖는 것. \n",
        "\n"
      ]
    },
    {
      "cell_type": "markdown",
      "metadata": {
        "id": "NV2USpTMsRMZ"
      },
      "source": [
        "### Warm up"
      ]
    },
    {
      "cell_type": "markdown",
      "metadata": {
        "id": "AnvZpCRSsRMZ"
      },
      "source": [
        "예측기반의 방법이란 신경망 구조나 또는 다른 모델을 통하여 특정 문맥에서 어떤 단어가 나올지를 예측하면서 단어를 벡터로 만드는 방식입니다. 예측방법에는 Word2Vec, Neural Network Language Model(NNLM), \n",
        "Recurrent Neural Network Language Model(RNNLM) 등이 있습니다. <br>\n",
        " $\\space$ Word2Vec는 CBOW, Skip-gram 2가지 모델로 나눌 수 있는데, 이는 서로 반대의 개념이라고 생각할 수 있습니다. CBOW(Continuous Bag of Words)의 경우는 어떤 단어를 문맥 안의 주변 단어들을 통해서 예측하는 방법이고, 반대로 Skip-gram의 경우에는 어떤 단어를 가지고 특정 문맥 안의 주변 단어들을 예측하는 방법입니다. \n",
        "\n",
        "영상을 통해서 해당 내용을 좀 더 자세히 살펴봅시다.\n",
        "- [Word2Vec](https://www.youtube.com/watch?v=UqRCEmrv1gQ)\n"
      ]
    },
    {
      "cell_type": "markdown",
      "metadata": {
        "id": "HVsFWh_2vS7h"
      },
      "source": [
        "기존에 배웠던 카운트 기반 방법으로 만든 단어 벡터보다 단어 간의 유사도를 잘 측정한다. 또한 단어들의 복잡한 특징까지도 잘 잡아낸다. 이렇게 만들어진 단어 벡터는 서로에게 유의미한 관계를 측정할 수 있다는 점이 놀랍다. \n",
        "- 왕(king) - 남자(man) + 여자(woman) = 여왕(queen)\n",
        "- 아빠(father) - 남자(man) + 여자(woman) = 엄마(mother)\n",
        "\n",
        "위와같은 법칙이 성립하도록 만드는 것이다\n",
        "\n",
        "<img src=\"https://miro.medium.com/max/3010/1*OEmWDt4eztOcm5pr2QbxfA.png\"/>"
      ]
    },
    {
      "cell_type": "markdown",
      "metadata": {
        "id": "vaIJe2CmwPuu"
      },
      "source": [
        "---\n",
        "- [RNN, LSTM 원리 소개 영상](https://youtu.be/SoNtAjxA3Jo?t=116)\n",
        "  * Vanishing Gradient 개념을 이해하고, 그것을 극복하기 위해서 한 것은?\n",
        "  * Gate의 개수와 범위는?\n",
        "- [GRU 소개영상](https://youtu.be/cs3tSnAsyRs?t=2569)\n",
        "  * Gate의 수를 줄일 수 있지 않을까? LSTM과의 차이는?\n",
        "  * Reset/Update Gate - Vanishing Gradient 를 해결한 방법이 어떻게 달라졌나?\n",
        "- 신호처리(음성, 사진, 동영상)의 개념 [DSP강의](http://www.kocw.net/home/search/kemView.do?kemId=334394&ar=relateCourse)(이런 게 있다... 강의를 듣진 마세요. 나중에 관련 업무를 하게되고 충분한 시간이 있을 때면 봐도 좋습니다)\n",
        "  * 분석(analysis) - 레이더(RADAR, RAdio Detection And Ranging), 소나(SONAR, SOund NAvigation Ranging), \n",
        "  * 처리(processing)\n",
        "  * 합성(synthesis)"
      ]
    },
    {
      "cell_type": "markdown",
      "metadata": {
        "id": "86CIimEi0C_e"
      },
      "source": [
        "---"
      ]
    },
    {
      "cell_type": "markdown",
      "metadata": {
        "id": "by9oie2bzm_t"
      },
      "source": [
        "#자연어 예측방법에 대해서 이해하기\n",
        "\n"
      ]
    },
    {
      "cell_type": "markdown",
      "metadata": {
        "id": "biVHgxXLw41z"
      },
      "source": [
        "## 문서를 벡터로 만들기 위해 단어 임베딩을 사용해 봅시다"
      ]
    },
    {
      "cell_type": "markdown",
      "metadata": {
        "id": "dJzjQzJAzm_t"
      },
      "source": [
        "지난 시간에 배웠던 BoW와 달리 Word2Vec과 같은 단어 임베딩 방법은 문맥(context)정보를 보존하는 특징이 있습니다. \n",
        "\n",
        "BoW는 단어의 존재 여부와 그 빈도 정보를 중요하게 다루는 대신 단어의 순서 정보를 무시하여 단어 주변 문맥정보를 잃어버린다는 단점이 있습니다.\n",
        "\n",
        "이와 달리 단어 임베딩 방법중 하나인 Word2Vec은 문장에서 인접한 단어들의 정보를 중요시 하여 벡터화할 때 문맥 정보를 보존합니다. 그래서 의미적 또는 구조적으로 비슷한 사용법을 가진 단어들을 알 수 있게 됩니다.\n",
        "\n",
        "#### *임베딩이란?*\n",
        "자연어를 컴퓨터가 이해할 수 있는 수의 나열인 벡터 형태로 바꾸는 과정 또는 결과를 의미합니다. 앞서 살펴본 BoW 방법들은 문서를 벡터화 한 것이라 볼 수 있습니다. \n",
        "\n",
        "### Word2Vec 이란?\n",
        "Word2Vec은 구글 연구팀이 발표한(Mikolov et al., 2013) 기법으로 가장 널리 쓰이는 단어 임베딩 모델 중 한 가지 입니다. 단어 임베딩 방법으로는 skip-gram과 CBOW 두 모델이 제안되었습니다. \n",
        "\n",
        "#### 분포가설(Distributional Hypothesis)\n",
        "\n",
        "Word2Vec이 어떻게 문맥 정보를 보존하는지 이해하려면 분포가설([Distributional Hypothesis](https://en.wikipedia.org/wiki/Distributional_semantics))을 알아야 합니다. \n",
        "분포가설은 비슷한 문맥에서 등장하는 단어들은 비슷한 의미를 지닌다는 것 입니다. 여기서 분포(distribution)란 특정 윈도우(window) 범위 안에 동시에 등장하는 이웃 단어나 문맥의 집합을 말합니다. \n",
        "\n",
        "예를 들어 두 문장\n",
        "\n",
        "- I found **good** stores.\n",
        "- I found **bad** stores.\n",
        "\n",
        "에서 **good**과 **bad**은 주변에 분포한 문맥 단어들이 매우 유사함으로 추축하건데 비슷한 의미를 지닐 것이다 라고 가정하는 것 입니다.\n",
        "\n",
        "> \"You shall know a word by the company it keeps\" - John Firth"
      ]
    },
    {
      "cell_type": "markdown",
      "metadata": {
        "id": "X1mrs0MWzm_t"
      },
      "source": [
        "### Word2Vec을 구현하는 방법으로 Skip-Gram을 살펴보겠습니다\n",
        "\n",
        "CBOW, Skip-Gram은 Word2Vec을 구현하는 두 가지 방법입니다.\n",
        "\n",
        "<img src=\"https://www.researchgate.net/publication/304163783/figure/fig11/AS:668313973698561@1536349876279/Neural-Network-Architecture-for-CBoW-and-Skip-Gram-Model.ppm\"/>\n",
        "\n",
        "여기서는 Skip-Gram만 살펴 보겠습니다"
      ]
    },
    {
      "cell_type": "markdown",
      "metadata": {
        "id": "vkk1lF9Lzm_t"
      },
      "source": [
        "<img src=\"http://mccormickml.com/assets/word2vec/skip_gram_net_arch.png\" width=\"800\" />\n",
        "\n",
        "위 그림은 Skip-Gram 신경망 모식도 입니다.([Word2Vec Tutorial - The Skip-Gram Model](http://mccormickml.com/2016/04/19/word2vec-tutorial-the-skip-gram-model/))\n",
        "\n",
        "입력으로 원핫인코딩된 단어벡터가 들어오고 출력부분에서는 입력단어와 다른 모든 단어들이 문맥 단어일 확률값을 계산하게 됩니다.\n",
        "\n",
        "신경망 학습을 위해서는 학습데이터를 구성하는 방법이 중요한데,\n",
        "\n",
        "Skip-Gram 모델은 만들어진 학습데이터에서 타겟단어를 입력받아 주변 단어를 예측하는 과정에서 학습이 됩니다."
      ]
    },
    {
      "cell_type": "markdown",
      "metadata": {
        "id": "-vPot7zlzm_u"
      },
      "source": [
        "\n",
        "예를 들어서 **\"The tortoise jumped into the lake\"** 라는 문장이 있고 윈도우 크기가 2인 경우 다음과 같이 skip-Gram을 학습하기 위한 데이터 쌍을 구축할 수 있습니다.\n",
        "\n",
        "* 타겟: **The**, 주변 문맥단어: tortoise, jumped\n",
        "    * 학습 샘플: (the, tortoise), (the, jumped)\n",
        "* 타겟: **tortoise**, 주변 문맥단어: tortoise, jumped\n",
        "    * 학습 샘플: (tortoise, the), (tortoise, jumped), (tortoise, into)\n",
        "* 타겟: **jumped**, 주변 문맥단어: tortoise, jumped\n",
        "    * 학습 샘플: (jumped, the), (jumped, tortoise), (jumped, into), (jumped, the)\n",
        "* 타겟: **into**, 주변 문맥단어: tortoise, jumped\n",
        "    * 학습 샘플: (into, tortoise), (into, jumped), (into, the), (into, lake)\n",
        "                    ...\n",
        "\n",
        "이런 방법으로 학습 데이터를 만들면 다음과 같은 데이터쌍이 만들어 집니다. 타겟단어를 입력으로, 문맥단어를 레이블로 하여 classification 학습을 진행한다고 생각하시면 됩니다. 전체 코퍼스에서 단어별로 슬라이딩하여 가능한 학습데이터를 모두 생성하고 신경망을 학습합니다.\n",
        "\n",
        "|타겟단어|문맥단어|\n",
        "|---------|---------|\n",
        "|the|tortoise|\n",
        "|the|jumped|\n",
        "|tortoise|the|\n",
        "|tortoise|jumped|\n",
        "|tortoise|into|\n",
        "|jumped|the|\n",
        "|jumped|tortoise|\n",
        "|jumped|into|\n",
        "|jumped|the|\n",
        "|into|tortoise|\n",
        "|into|jumped|\n",
        "|into|the|\n",
        "|into|lake|\n",
        "|...|...|"
      ]
    },
    {
      "cell_type": "markdown",
      "metadata": {
        "id": "dZ_CbX_jzm_u"
      },
      "source": [
        "학습이 다 끝난 후 은닉층의 가중치가 임베딩벡터의 차원이 됩니다. 은닉층의 노드 수를 조절하여 임베딩벡터의 차원을 조절할 수 있겠지요.\n",
        "<img src=\"https://i.imgur.com/1ETMljf.png\" width=\"600\" />\n",
        "\n",
        "학습과정에서 효율을 높이기 위해 사용하는 기법들이 있지만 지금은 아직 신경망을 배우기 전이기 때문에 너무 깊게 들어가지 않겠습니다.\n",
        "\n",
        "결과적으로 skip-gram 모델을 통해 결과로 단어 임베딩 벡터들을 얻게되어 단어, 문장들 간의 관련도 계산, 문서 분류같은 작업에 사용될 수 있습니다.\n",
        "\n",
        "CountVectorizer, TF-IDF을 사용할 때 문맥정보를 보기위해 할 수 있는 최선의 방법은 bi-gram, tri-grams 같은 n-gram을 사용하는 것이었습니다. 하지만 skip-grams은 그 이상을 넘어 보다 강력한 문맥 정보를 제공해 줄 수 있습니다.\n"
      ]
    },
    {
      "cell_type": "markdown",
      "metadata": {
        "id": "UE4WJRCvzm_u"
      },
      "source": [
        "#### CBOW(Continuous Bag of Words)\n",
        "\n",
        "Word2Vec을 구현하는 방법 중 CBOW는 skip-gram과 반대로 주변에 있는 문맥단어들을 가지고 타겟 단어 하나를 맞추는 과정을 통해 학습이 이루어 집니다.\n",
        "예를 들어 입력이 (jumped, the, lake) 일 때 타겟 단어로 'into' 를 예측하며 학습을 합니다.  \n",
        "\n",
        "하지만 Skip-gram이 같은 코퍼스를 사용했을 때 더 많은 학습 데이터를 만들어 낼 수 있기 때문에 임베딩 결과의 품질이 CBOW 보다 좋은 것으로 알려져 있습니다.\n"
      ]
    },
    {
      "cell_type": "markdown",
      "metadata": {
        "id": "h2GGXaIKzm_u"
      },
      "source": [
        "\n",
        "#### 그럼 임베딩 모델 학습은 어떻게 해야 할까요?\n",
        "Word2Vec을 학습시키기 위해서는 충분히 큰 코퍼스를 학습시켜야 한다는 것을 알 수 있습니다. 다행인 것은 이미 충분히 큰 코퍼스들로 학습된 단어 임베딩을 쉽게 찾아 사용할 수 있다는 것입니다. 여러분이 지금까지 사용해온 Spacy 라이브러리의 모델도 Word2Vec 와 유사한 방식으로 학습한 임베딩을 제공합니다. 무지막지하게 큰 [Common Crawl](https://en.wikipedia.org/wiki/Common_Crawl) 데이터를 학습에 사용해 만든 모델이기 때문에 영어의 경우 충분히 대표성을 가진 임베딩이 나올 수 있을 것이라 생각할 수 있겠습니다.\n",
        "\n",
        "이제 spacy를 통해 임베딩을 어떻게 사용하는지 살펴 봅시다."
      ]
    },
    {
      "cell_type": "code",
      "metadata": {
        "id": "EWIVbptuzm_u",
        "outputId": "a57dd60c-ca56-49b3-cc7d-2a2014f96f53"
      },
      "source": [
        "tokens = nlp(\"Dogs and cats school gagasdf\")\n",
        "\n",
        "# vector_norm: 벡터의 크기\n",
        "for token in tokens:\n",
        "    print(token.text, token.has_vector, token.vector_norm)"
      ],
      "execution_count": null,
      "outputs": [
        {
          "output_type": "stream",
          "text": [
            "Dogs True 7.193099\n",
            "and True 4.6577983\n",
            "cats True 6.933004\n",
            "school True 6.7380905\n",
            "gagasdf False 0.0\n"
          ],
          "name": "stdout"
        }
      ]
    },
    {
      "cell_type": "markdown",
      "metadata": {
        "id": "v2TAPfx5zm_u"
      },
      "source": [
        "입력한 문장에 대한 임베딩 벡터를 얻습니다."
      ]
    },
    {
      "cell_type": "code",
      "metadata": {
        "id": "ZIoEr--Vzm_u",
        "outputId": "29e2388d-2b94-4261-9367-97b806bb1d06"
      },
      "source": [
        "vects = tokens.vector\n",
        "print(vects)"
      ],
      "execution_count": null,
      "outputs": [
        {
          "output_type": "stream",
          "text": [
            "[-1.79408014e-01  1.26198798e-01 -1.11785397e-01 -2.83820003e-01\n",
            " -2.62799971e-02  5.58035970e-02 -1.45570010e-01 -5.27487993e-02\n",
            "  1.69332191e-01  1.93045998e+00 -2.79807180e-01  1.38399795e-01\n",
            " -1.85558006e-01  5.02085984e-02 -1.40728995e-01  9.67558026e-02\n",
            "  2.06080005e-01  8.19686055e-01 -1.57560199e-01 -6.11754060e-02\n",
            " -1.73499614e-01 -1.09055400e-01 -4.25813980e-02 -2.84800589e-01\n",
            "  1.65506005e-01 -9.49792042e-02 -2.45875999e-01 -1.76592007e-01\n",
            "  1.02721252e-01 -1.18426010e-01 -9.64230075e-02  2.92337183e-02\n",
            " -8.17720070e-02 -2.63900049e-02  2.31444001e-01  9.93599277e-03\n",
            "  1.33631989e-01 -2.89353997e-01  8.05701874e-03  2.12559611e-01\n",
            "  1.11464588e-02  1.04168795e-01  6.81307912e-03 -1.94971208e-02\n",
            "  7.46979937e-02 -9.89580080e-02 -2.04918385e-01  1.74181998e-01\n",
            "  1.38363212e-01 -1.74419403e-01 -8.65179971e-02 -2.17613988e-02\n",
            "  1.88542008e-02  4.70872000e-02 -9.22998041e-02  2.23565191e-01\n",
            " -3.33181992e-02  6.36455938e-02 -2.20621794e-01  3.23160827e-01\n",
            "  7.06618130e-02 -1.33299991e-01  7.05728009e-02  5.07225990e-02\n",
            "  1.85075998e-02 -1.73200995e-01  1.46570206e-01  2.28904009e-01\n",
            "  1.15869999e-01  1.45907611e-01 -7.41464198e-02 -2.93245306e-03\n",
            "  1.76927999e-01 -1.12230204e-01  2.02573389e-01  3.83340009e-02\n",
            "  4.02077772e-02  3.21223959e-02  2.37526014e-01  2.03440199e-03\n",
            "  4.61397991e-02  1.76907986e-01 -1.65638000e-01  1.10619962e-02\n",
            " -1.38576003e-02 -2.04356030e-01  2.19403982e-01  2.58924007e-01\n",
            "  3.17174017e-01  2.84796022e-02 -2.06128061e-02  6.32442012e-02\n",
            "  1.92617387e-01 -1.55552402e-01  9.87199880e-03 -5.76351993e-02\n",
            "  1.22454248e-01 -1.15851797e-01  3.43279950e-02 -2.05176428e-01\n",
            "  1.57538012e-01  3.03530008e-01  1.66659970e-02 -5.13790026e-02\n",
            "  1.80297971e-01 -5.39748013e-01  2.14044809e-01 -8.67253989e-02\n",
            "  3.15148011e-02 -1.00457408e-01  1.08274005e-01  2.16653999e-02\n",
            "  1.42108604e-01 -4.26528037e-01 -6.20442033e-02 -6.88948408e-02\n",
            " -1.86819993e-02 -9.54598188e-04 -5.10616079e-02  2.23586001e-02\n",
            "  6.64183944e-02  1.26925990e-01  3.90487969e-01 -4.52394426e-01\n",
            " -4.82079992e-03  6.15017936e-02  2.62621999e-01 -3.26151960e-02\n",
            " -1.16785005e-01  3.10663991e-02  1.36915985e-02 -3.22481804e-02\n",
            " -1.79007590e-01  1.52172610e-01  2.93281972e-01 -3.51880044e-02\n",
            " -6.65543973e-02  8.87220055e-02  1.69600800e-01  1.53597400e-01\n",
            " -1.21144199e+00 -3.34477782e-01  2.03879997e-01  2.19875187e-01\n",
            "  1.89845204e-01  5.13368025e-02 -4.38288040e-02  9.24024060e-02\n",
            " -4.63436022e-02 -3.40633988e-02  9.41860117e-03  3.12891975e-02\n",
            " -6.10519946e-02  2.44600587e-02 -1.31334007e-01 -3.30240019e-02\n",
            " -9.23147947e-02  2.20420063e-02 -7.53320083e-02 -4.78557974e-01\n",
            "  1.62741989e-01 -8.43316093e-02 -7.46396035e-02 -2.92490005e-01\n",
            " -1.03690766e-01 -1.79798044e-02 -1.38816804e-01 -2.04536602e-01\n",
            "  3.32040004e-02  3.14394012e-02  2.03837991e-01  1.79215401e-01\n",
            "  1.75188005e-01 -4.60227951e-02 -5.63515946e-02  2.44379997e-01\n",
            " -2.07816407e-01  2.52512813e-01  1.02010593e-01  2.14170814e-01\n",
            "  7.75867999e-02 -1.33704007e-01 -2.19155401e-01  7.01961964e-02\n",
            " -2.02604815e-01 -5.36981598e-02 -1.69788003e-02  7.92500377e-03\n",
            "  5.94210029e-02 -2.57445991e-01 -1.15660593e-01 -2.66319998e-02\n",
            " -2.19249800e-01 -2.91447997e-01 -1.45527408e-01  3.56470019e-01\n",
            "  4.31900024e-02 -3.80075991e-01  3.97520006e-01 -6.94609955e-02\n",
            " -2.37546012e-01 -1.70287006e-02 -1.38436794e-01 -8.76650065e-02\n",
            "  2.73934782e-01  6.83466792e-02  2.27189988e-01 -5.07079959e-02\n",
            "  2.79985994e-01  5.14696017e-02 -2.67293990e-01  3.06694984e-01\n",
            " -1.55797794e-01  3.10354587e-02 -2.70036012e-01 -1.10019602e-01\n",
            "  6.86846003e-02  2.56755412e-01  1.59152038e-02  1.60861403e-01\n",
            " -3.22834030e-02  4.09860015e-02 -1.26569003e-01 -2.85745561e-01\n",
            " -2.96884000e-01  1.23613931e-01 -1.84703991e-01  3.35820019e-01\n",
            "  1.30998015e-01  8.82645994e-02 -2.94773996e-01 -9.63780005e-03\n",
            " -3.65859978e-02 -1.06170796e-01  2.74767399e-01  8.46758038e-02\n",
            "  1.10649601e-01 -1.13876007e-01  2.25924999e-01 -1.33907586e-01\n",
            " -4.24908698e-01 -5.14791980e-02 -2.08838016e-01 -7.06599932e-03\n",
            " -5.62896021e-02  3.76334004e-02 -3.46244395e-01  7.22953975e-02\n",
            " -2.02894002e-01 -4.09839908e-03 -3.69865410e-02  1.78002000e-01\n",
            " -1.16780594e-01  1.06330000e-01  1.23366609e-01  5.25748022e-02\n",
            " -1.09817997e-01 -1.42497614e-01 -1.29482403e-01 -1.83818005e-02\n",
            "  1.13296404e-01 -1.46337777e-01 -2.18502015e-01 -8.41268003e-02\n",
            "  2.72519998e-02  1.13252386e-01 -2.62620002e-01 -1.49156868e-01\n",
            " -4.07759566e-03  6.72063977e-02 -2.86052585e-01  2.65085995e-01\n",
            " -1.78678796e-01 -8.74760188e-03 -7.27500161e-03 -1.13103958e-02\n",
            "  4.27139997e-02  2.53716201e-01 -1.54976606e-01  4.04243991e-02\n",
            "  4.32590023e-02  1.28732011e-01 -1.57697603e-01 -1.35332197e-01\n",
            "  1.16097197e-01  2.14821100e-01  3.52397978e-01 -2.47403592e-01\n",
            " -7.57020712e-03 -7.91880041e-02 -1.05859995e-01 -3.32543790e-01\n",
            "  1.85099952e-02  1.60729602e-01 -1.59693107e-01  3.80479395e-01\n",
            "  6.79079965e-02 -1.03840396e-01  1.02859996e-01 -9.37639922e-02]\n"
          ],
          "name": "stdout"
        }
      ]
    },
    {
      "cell_type": "code",
      "metadata": {
        "id": "gz7KEIRTzm_v",
        "outputId": "7c2870bb-c477-4916-8a8f-5e7f07459d7c"
      },
      "source": [
        "# 벡터의 차원을 보겠습니다\n",
        "len(vects)"
      ],
      "execution_count": null,
      "outputs": [
        {
          "output_type": "execute_result",
          "data": {
            "text/plain": [
              "300"
            ]
          },
          "metadata": {
            "tags": []
          },
          "execution_count": 46
        }
      ]
    },
    {
      "cell_type": "code",
      "metadata": {
        "id": "cxk_Lof6zm_v",
        "outputId": "bb82b2a1-e4b2-4257-8d08-ee4bf0b18227"
      },
      "source": [
        "# 두 문서를 만들어 코사인 유사도를 측정해 보겠습니다\n",
        "doc1 = nlp(\"I found a wonderful restaurant\")\n",
        "doc2 = nlp(\"the food is delicious\")\n",
        "\n",
        "similarity = doc1.similarity(doc2)\n",
        "print(similarity)"
      ],
      "execution_count": null,
      "outputs": [
        {
          "output_type": "stream",
          "text": [
            "0.792971253536227\n"
          ],
          "name": "stdout"
        }
      ]
    },
    {
      "cell_type": "code",
      "metadata": {
        "id": "YikT-Qsizm_v",
        "outputId": "e870a3c7-9099-4653-8d22-254535f2e5ad"
      },
      "source": [
        "doc3 = nlp(\"The restaurant we found yesterday is wonderful\")\n",
        "\n",
        "print(doc1.similarity(doc3))"
      ],
      "execution_count": null,
      "outputs": [
        {
          "output_type": "stream",
          "text": [
            "0.9173849797280267\n"
          ],
          "name": "stdout"
        }
      ]
    },
    {
      "cell_type": "code",
      "metadata": {
        "id": "ME-aYDw4zm_v",
        "outputId": "d99fab42-933a-425a-9772-3d4e24d30715"
      },
      "source": [
        "car = nlp('car')\n",
        "bus = nlp('bus')\n",
        "human = nlp('human')\n",
        "monkey = nlp('monkey')\n",
        "lion = nlp('lion')\n",
        "gorilla = nlp('gorilla')\n",
        "avengers = nlp('avengers')\n",
        "marvel = nlp('marvel')\n",
        "\n",
        "print('car vs bus : ', car.similarity(bus))\n",
        "print('bus vs human : ', bus.similarity(human))\n",
        "print('human vs monkey : ', human.similarity(monkey))\n",
        "print('human vs lion : ', human.similarity(lion))\n",
        "print('monkey vs gorilla : ', monkey.similarity(gorilla))\n",
        "print('avengers vs marvel : ', avengers.similarity(marvel))"
      ],
      "execution_count": null,
      "outputs": [
        {
          "output_type": "stream",
          "text": [
            "car vs bus :  0.4816960149829203\n",
            "bus vs human :  0.12412277316164501\n",
            "human vs monkey :  0.39899946231157096\n",
            "human vs lion :  0.27611871750909667\n",
            "monkey vs gorilla :  0.6525881793034227\n",
            "avengers vs marvel :  0.5988409089010447\n"
          ],
          "name": "stdout"
        }
      ]
    },
    {
      "cell_type": "markdown",
      "metadata": {
        "id": "G013Wj9Szm_v"
      },
      "source": [
        "### PCA를 사용한 벡터 시각화\n",
        "300 차원인 벡터들은 시각화 하기 어렵기 때문에 PCA를 사용해 2차원으로 변환해 보겠습니다."
      ]
    },
    {
      "cell_type": "code",
      "metadata": {
        "id": "b7TbDo6Vzm_w",
        "outputId": "94d0cbd9-5cd0-4a93-c017-d4631bb4f528"
      },
      "source": [
        "from sklearn.decomposition import PCA\n",
        "\n",
        "def get_word_vectors(words):\n",
        "    # 단어 벡터로 변환합니다\n",
        "    return [nlp(word).vector for word in words]\n",
        "\n",
        "words = ['car', 'truck', 'suv', 'bus', 'human', 'man', 'woman', 'monkey', 'fish' , 'shark', 'lion', 'tiger', 'avengers', 'marvel', 'thor', 'comics', 'superhero']\n",
        "\n",
        "# PCA 모델의 차원을 설정하여 \n",
        "pca = PCA(n_components=2)\n",
        "\n",
        "# Fit & Transform\n",
        "word_vect_2d = pca.fit_transform(get_word_vectors(words))\n",
        "\n",
        "# 각 벡터가 300 차원에서 2차원으로 줄어 든 것을 확인 할 수 있습니다\n",
        "word_vect_2d"
      ],
      "execution_count": null,
      "outputs": [
        {
          "output_type": "execute_result",
          "data": {
            "text/plain": [
              "array([[-3.66200993, -3.32131749],\n",
              "       [-3.546578  , -2.85085021],\n",
              "       [-1.79310422, -3.71355107],\n",
              "       [-3.06282644, -2.17552236],\n",
              "       [-0.32817602,  1.3725565 ],\n",
              "       [-1.07378983,  0.56357398],\n",
              "       [-1.38479131,  0.34247838],\n",
              "       [-0.32481679,  2.04812646],\n",
              "       [-1.69068704,  3.8972493 ],\n",
              "       [-0.79176752,  3.43002251],\n",
              "       [-0.28481803,  2.75749512],\n",
              "       [-0.77280682,  3.10963932],\n",
              "       [ 4.97271183, -1.21201458],\n",
              "       [ 2.90881958, -0.6911009 ],\n",
              "       [ 3.43790293, -1.18524999],\n",
              "       [ 3.76755523, -1.36028237],\n",
              "       [ 3.62918236, -1.0112526 ]])"
            ]
          },
          "metadata": {
            "tags": []
          },
          "execution_count": 50
        }
      ]
    },
    {
      "cell_type": "code",
      "metadata": {
        "id": "Jj6SRS1Pzm_w",
        "outputId": "9c097e9b-c7a0-4139-8303-ec817c31df01"
      },
      "source": [
        "# 결과가 잘 보이도록 크기를 설정합니다\n",
        "plt.figure(figsize=(15,10))\n",
        "\n",
        "# 단어벡터를 그립니다\n",
        "plt.scatter(word_vect_2d[:,0], word_vect_2d[:,1])\n",
        "\n",
        "# 점 옆에 단어를 표시합니다\n",
        "for word, coord in zip(words, word_vect_2d):\n",
        "    x, y = coord\n",
        "    plt.text(x, y, word, size= 15)\n",
        "\n",
        "plt.show()"
      ],
      "execution_count": null,
      "outputs": [
        {
          "output_type": "display_data",
          "data": {
            "image/png": "[encoded data removed]",
            "text/plain": [
              "<Figure size 1080x720 with 1 Axes>"
            ]
          },
          "metadata": {
            "tags": []
          }
        }
      ]
    },
    {
      "cell_type": "code",
      "metadata": {
        "id": "H3b47N6mzm_w",
        "outputId": "d257e2b1-1317-408d-f464-6a4ed133846b"
      },
      "source": [
        "# 벡터 연산을 통해 단어간의 관계를 추론할 수 있습니다\n",
        "\n",
        "from scipy.spatial.distance import cosine\n",
        "\n",
        "king = nlp(\"king\").vector\n",
        "queen = nlp(\"queen\").vector\n",
        "man = nlp(\"man\").vector\n",
        "woman = nlp(\"woman\").vector\n",
        "\n",
        "# 단어벡터가 의미를 가진다면 다음과 같은 연산을 통해 result는 queen과 비슷한 뜻이 되겠지요?\n",
        "result = king - man + woman\n",
        "\n",
        "print(\"similarity between queen and (king - man + woman) : \", 1 - cosine(queen, result))"
      ],
      "execution_count": null,
      "outputs": [
        {
          "output_type": "stream",
          "text": [
            "similarity between queen and (king - man + woman) :  0.7880843877792358\n"
          ],
          "name": "stdout"
        }
      ]
    },
    {
      "cell_type": "markdown",
      "metadata": {
        "id": "OaD2wI5Fzm_w"
      },
      "source": [
        "### 문서에서 벡터화 하여 KNN으로 검색해 보겠습니다."
      ]
    },
    {
      "cell_type": "markdown",
      "metadata": {
        "id": "zDISNXc4zm_w"
      },
      "source": [
        "Spacy를 사용해 문서를 임베딩 하겠습니다."
      ]
    },
    {
      "cell_type": "code",
      "metadata": {
        "id": "L0c8IwrFzm_w"
      },
      "source": [
        "X = [nlp(str(d)).vector for d in data]"
      ],
      "execution_count": null,
      "outputs": []
    },
    {
      "cell_type": "code",
      "metadata": {
        "id": "bmd4YJitzm_x",
        "outputId": "c3d16d64-abaa-456b-d638-1b8ed6fba26d"
      },
      "source": [
        "pd.DataFrame(X).shape"
      ],
      "execution_count": null,
      "outputs": [
        {
          "output_type": "execute_result",
          "data": {
            "text/plain": [
              "(401, 300)"
            ]
          },
          "metadata": {
            "tags": []
          },
          "execution_count": 54
        }
      ]
    },
    {
      "cell_type": "markdown",
      "metadata": {
        "id": "V3wQZmRszm_x"
      },
      "source": [
        "단어 queen 과 가장 유사한 단어를 찾아 보겠습니다."
      ]
    },
    {
      "cell_type": "code",
      "metadata": {
        "id": "_7VFnEk3zm_x"
      },
      "source": [
        "import numpy as np\n",
        "most_similar= nlp.vocab.vectors.most_similar(np.array([queen]), n=10)"
      ],
      "execution_count": null,
      "outputs": []
    },
    {
      "cell_type": "code",
      "metadata": {
        "id": "lkn5Ez4Nzm_x",
        "outputId": "fa3e63f1-9dc7-498e-8b7a-f72d6c1fb1ea"
      },
      "source": [
        "# return tuple: (keys, best_rows, scores)\n",
        "most_similar"
      ],
      "execution_count": null,
      "outputs": [
        {
          "output_type": "execute_result",
          "data": {
            "text/plain": [
              "(array([[ 5247273317732208552,  4176741725343376093, 10168488388102651113,\n",
              "         15897987006174384596,  6350019949300993244,  6861946004817705414,\n",
              "         13176088972490086564,  7102492827649024548,  7464393751932445219,\n",
              "         14826469074451677028]], dtype=uint64),\n",
              " array([[ 59856,   6026,   5310,  11962,  16454, 172357, 391588,  27270,\n",
              "           3150,   2183]], dtype=int32),\n",
              " array([[1.    , 1.    , 1.    , 0.7322, 0.7322, 0.7322, 0.7253, 0.7253,\n",
              "         0.7253, 0.7253]], dtype=float32))"
            ]
          },
          "metadata": {
            "tags": []
          },
          "execution_count": 56
        }
      ]
    },
    {
      "cell_type": "code",
      "metadata": {
        "id": "1PPhPcLnzm_x",
        "outputId": "e7555377-827e-4701-a602-d2fd62ebd945"
      },
      "source": [
        "most_similar[0][0]"
      ],
      "execution_count": null,
      "outputs": [
        {
          "output_type": "execute_result",
          "data": {
            "text/plain": [
              "array([ 5247273317732208552,  4176741725343376093, 10168488388102651113,\n",
              "       15897987006174384596,  6350019949300993244,  6861946004817705414,\n",
              "       13176088972490086564,  7102492827649024548,  7464393751932445219,\n",
              "       14826469074451677028], dtype=uint64)"
            ]
          },
          "metadata": {
            "tags": []
          },
          "execution_count": 57
        }
      ]
    },
    {
      "cell_type": "code",
      "metadata": {
        "id": "IIe5U3i_zm_x",
        "outputId": "9c715d94-eda3-4489-ff92-5970336bc374"
      },
      "source": [
        "for key in most_similar[0][0]:\n",
        "    print(nlp.vocab[key].text,)"
      ],
      "execution_count": null,
      "outputs": [
        {
          "output_type": "stream",
          "text": [
            "QUEEN\n",
            "queen\n",
            "Queen\n",
            "queens\n",
            "Queens\n",
            "QUEENS\n",
            "KIng\n",
            "KING\n",
            "king\n",
            "King\n"
          ],
          "name": "stdout"
        }
      ]
    },
    {
      "cell_type": "markdown",
      "metadata": {
        "id": "mofOq3YFzm_x"
      },
      "source": [
        "문서 임베딩 벡터로 NN 모델을 학습합니다."
      ]
    },
    {
      "cell_type": "code",
      "metadata": {
        "id": "u0rhepyczm_y",
        "outputId": "a03c1b25-8d90-4d70-82ee-82f7bb45a9cb"
      },
      "source": [
        "nn_spacy = NearestNeighbors(n_neighbors=5, algorithm='kd_tree')\n",
        "nn_spacy.fit(X)"
      ],
      "execution_count": null,
      "outputs": [
        {
          "output_type": "execute_result",
          "data": {
            "text/plain": [
              "NearestNeighbors(algorithm='kd_tree')"
            ]
          },
          "metadata": {
            "tags": []
          },
          "execution_count": 59
        }
      ]
    },
    {
      "cell_type": "markdown",
      "metadata": {
        "id": "qguG8vlSzm_y"
      },
      "source": [
        "Tfidf 벡터로 찾은 0번째 문서와 가장 유사한 문서 5개를 보겠습니다."
      ]
    },
    {
      "cell_type": "code",
      "metadata": {
        "id": "j8RKZX3rzm_y",
        "outputId": "cf4eb316-9218-41ed-84e6-0680e7e413a1"
      },
      "source": [
        "nn.kneighbors([dtm.iloc[0].values])"
      ],
      "execution_count": null,
      "outputs": [
        {
          "output_type": "execute_result",
          "data": {
            "text/plain": [
              "(array([[0.        , 0.        , 1.10314436, 1.12437104, 1.15991512]]),\n",
              " array([[  0,  62,  92, 297, 300]]))"
            ]
          },
          "metadata": {
            "tags": []
          },
          "execution_count": 60
        }
      ]
    },
    {
      "cell_type": "markdown",
      "metadata": {
        "id": "h27I70iizm_y"
      },
      "source": [
        "Spacy 임베딩 모델로 찾아 봅시다."
      ]
    },
    {
      "cell_type": "code",
      "metadata": {
        "id": "KyJkr41Ozm_y",
        "outputId": "f90b0d71-9fee-4a66-a4bc-361e9e25ccfa"
      },
      "source": [
        "nn_spacy.kneighbors([X[0]])"
      ],
      "execution_count": null,
      "outputs": [
        {
          "output_type": "execute_result",
          "data": {
            "text/plain": [
              "(array([[0.        , 0.        , 0.49605979, 0.50772691, 0.50784463]]),\n",
              " array([[62,  0, 92, 83, 52]]))"
            ]
          },
          "metadata": {
            "tags": []
          },
          "execution_count": 61
        }
      ]
    },
    {
      "cell_type": "markdown",
      "metadata": {
        "id": "-_I7YIPezm_y"
      },
      "source": [
        "문서62는 문서0과 동일하고 그 외, 문서 92를 가장 가깝다고 합니다."
      ]
    },
    {
      "cell_type": "code",
      "metadata": {
        "id": "aOm9h2Xczm_z",
        "outputId": "969c78e3-ebe8-4dbd-ca96-1707ca04ff53"
      },
      "source": [
        "print(data[0][:150],'\\n')\n",
        "print(data[92][:150])"
      ],
      "execution_count": null,
      "outputs": [
        {
          "output_type": "stream",
          "text": [
            "b\"Mobiles rack up 20 years of use\\n\\nMobile phones in the UK are celebrating their 20th anniversary this weekend.\\n\\nBritain's first mobile phone call was m\" \n",
            "\n",
            "b'Finding new homes for old phones\\n\\nRe-using old mobile phones is not just good for the environment, it has social benefits too.\\n\\nResearch has found tha'\n"
          ],
          "name": "stdout"
        }
      ]
    },
    {
      "cell_type": "code",
      "metadata": {
        "id": "RfrGRJ9jzm_z",
        "outputId": "b960d7bd-fe05-449b-f2ef-31b82983dc99"
      },
      "source": [
        "# spacy\n",
        "print(data[83][:150])"
      ],
      "execution_count": null,
      "outputs": [
        {
          "output_type": "stream",
          "text": [
            "b'Looks and music to drive mobiles\\n\\nMobile phones are still enjoying a boom time in sales, according to research from technology analysts Gartner.\\n\\nMore'\n"
          ],
          "name": "stdout"
        }
      ]
    },
    {
      "cell_type": "code",
      "metadata": {
        "id": "-3p_sIqhzm_z",
        "outputId": "e513fa82-339e-426e-ec92-ec40004b9400"
      },
      "source": [
        "# tfidf\n",
        "print(data[297][:150])"
      ],
      "execution_count": null,
      "outputs": [
        {
          "output_type": "stream",
          "text": [
            "b\"'Friends fear' with lost mobiles\\n\\nPeople are becoming so dependent on their mobile phones that one in three are concerned that losing their phone woul\"\n"
          ],
          "name": "stdout"
        }
      ]
    },
    {
      "cell_type": "markdown",
      "metadata": {
        "id": "YvcIzQyjzm_z"
      },
      "source": [
        "지금까지 자연어를 벡터로 표현하는 방법들에 대해 살펴보았습니다. Bag-of-Words 모델 중 단어의 출현 빈도를 사용해 텍스트 문서를 벡터로 변환하는 CounterVectorizer를 사용해 보았고, 문서별 단어의 빈도를 계산해 가중치를 적용한 TfidfVectorizer를 사용해 보았습니다.\n",
        "\n",
        "이렇게 변환된 벡터는 코사인 유사도와 같은 방법을 통해 문서들 간 유사성을 수치로 나타낼 수 있었습니다. 문서들이 많을 때 코사인 유사도를 다 적용해서 가장 가까운 문서를 찾는 방법은 효율적이지 않습니다. 그래서 K-NN과 같은 트리 기반 알고리즘을 사용해 가장 가까운 K개의 문서를 빠르게 검색할 수 있었습니다.\n",
        "\n",
        "BoW는 단어의 존재와 빈도를 중요시 여기는 대신 단어들의 순서정보를 무시하여 주변 문맥 정보가 없어지는 단점이 있었습니다. Word2Vec과 같은 담어 임베딩 방법은 벡터 생성 과정 중에 문맥 정보를 보존하여 유사한 의미를 가진 단어나 문장은 는 유사도가 큰 벡터가 됩니다."
      ]
    },
    {
      "cell_type": "markdown",
      "metadata": {
        "id": "Za4R7MaesRMZ"
      },
      "source": [
        "---"
      ]
    },
    {
      "cell_type": "markdown",
      "metadata": {
        "id": "cTiSKYt5sRMa"
      },
      "source": [
        "여러분은 이미 머신러닝을 이용해 분류기를 학습시킬 수 있습니다. 그리고 텍스트 문서에서 어떻게 특성들을 추출하는지 배웠습니다. 이제 텍스트 문서를 분류하는 모델을 만들 차례 입니다!"
      ]
    },
    {
      "cell_type": "markdown",
      "metadata": {
        "id": "x1MMsFrssRMa"
      },
      "source": [
        "## 텍스트에서 특성들을 추출하고 문서 분류기를 만들어 보겠습니다."
      ]
    },
    {
      "cell_type": "markdown",
      "metadata": {
        "id": "NzrqZrDZsRMa"
      },
      "source": [
        "Sklearn 파이프라인을 사용하면 머신러닝 프로세스에 사용되는 여러 컴포넌트들을 쉽게 연결할 수 있었습니다.\n",
        "\n",
        "이번에는 파이프라인을 이용해 코퍼스 입력, 차원 축소, 학습 프로세스를 진행해 보겠습니다.\n",
        "\n",
        "벡터화 과정중에 n-gram 범위, 최대 토큰의 수 같은 하이퍼파라미터들을 수정해 가며 실험을 해 보아야 합니다."
      ]
    },
    {
      "cell_type": "code",
      "metadata": {
        "id": "GWHQ3Nu9sRMa"
      },
      "source": [
        "from sklearn.pipeline import Pipeline\n",
        "from sklearn.datasets import fetch_20newsgroups\n",
        "from sklearn.ensemble import RandomForestClassifier\n",
        "from sklearn.model_selection import GridSearchCV\n",
        "from sklearn.feature_extraction.text import TfidfVectorizer"
      ],
      "execution_count": null,
      "outputs": []
    },
    {
      "cell_type": "markdown",
      "metadata": {
        "id": "KBI6ri-rsRMb"
      },
      "source": [
        "20개 뉴스그룹으로 분류된 18,000개의 뉴스그룹 문서 데이터셋 입니다.\n",
        "- [20newsgroups](https://scikit-learn.org/stable/datasets/index.html#the-20-newsgroups-text-dataset)\n",
        "- 전자와 정치에 관한 두 개의 다른 카테고리 뉴스를 가져오겠습니다.\n"
      ]
    },
    {
      "cell_type": "code",
      "metadata": {
        "id": "UEjMkWtSsRMb",
        "colab": {
          "base_uri": "https://localhost:8080/"
        },
        "outputId": "43d5976c-8a25-4b05-b905-8850a2d9cd7b"
      },
      "source": [
        "categories = ['sci.electronics',\n",
        "              'talk.politics.misc']\n",
        "\n",
        "ng_train = fetch_20newsgroups(subset='train'\n",
        "                             , remove=('headers', 'footers', 'quotes')\n",
        "                             , categories=categories\n",
        "                             )\n",
        "\n",
        "ng_test = fetch_20newsgroups(subset='test'\n",
        "                             , remove=('headers', 'footers', 'quotes')\n",
        "                             , categories=categories\n",
        "                             )"
      ],
      "execution_count": null,
      "outputs": [
        {
          "output_type": "stream",
          "text": [
            "Downloading 20news dataset. This may take a few minutes.\n",
            "Downloading dataset from https://ndownloader.figshare.com/files/5975967 (14 MB)\n"
          ],
          "name": "stderr"
        }
      ]
    },
    {
      "cell_type": "markdown",
      "metadata": {
        "id": "lR9OEW6zsRMo"
      },
      "source": [
        "## Spacy 단어 임베딩을 사용합니다"
      ]
    },
    {
      "cell_type": "code",
      "metadata": {
        "id": "DkTWpYU0sRMo"
      },
      "source": [
        "import spacy\n",
        "nlp = spacy.load(\"en_core_web_sm\")"
      ],
      "execution_count": null,
      "outputs": []
    },
    {
      "cell_type": "code",
      "metadata": {
        "id": "t2_r88G2sRMp"
      },
      "source": [
        "doc = nlp(\"The tortoise jumped into the lake\")"
      ],
      "execution_count": null,
      "outputs": []
    },
    {
      "cell_type": "markdown",
      "metadata": {
        "id": "zgN3zdP7sRMp"
      },
      "source": [
        "Spacy는 기본적으로 300차원으로 임베딩 합니다."
      ]
    },
    {
      "cell_type": "code",
      "metadata": {
        "id": "9Qq8woicsRMp",
        "colab": {
          "base_uri": "https://localhost:8080/"
        },
        "outputId": "c3926098-0271-4e32-fc45-907f424a8cf1"
      },
      "source": [
        "len(doc.vector)"
      ],
      "execution_count": null,
      "outputs": [
        {
          "output_type": "execute_result",
          "data": {
            "text/plain": [
              "96"
            ]
          },
          "metadata": {
            "tags": []
          },
          "execution_count": 4
        }
      ]
    },
    {
      "cell_type": "code",
      "metadata": {
        "id": "G87Wt29ysRMp"
      },
      "source": [
        "def get_word_vectors(docs):\n",
        "    return [nlp(doc).vector for doc in docs]"
      ],
      "execution_count": null,
      "outputs": []
    },
    {
      "cell_type": "code",
      "metadata": {
        "id": "slM9zTCQsRMp",
        "colab": {
          "base_uri": "https://localhost:8080/"
        },
        "outputId": "c3800f45-7d0c-43be-8c7a-ceec462c6cc2"
      },
      "source": [
        "%%time\n",
        "X_spacy = get_word_vectors(ng_train.data)\n",
        "\n",
        "len(X_spacy) == len(ng_train.data)"
      ],
      "execution_count": null,
      "outputs": [
        {
          "output_type": "stream",
          "text": [
            "CPU times: user 45.2 s, sys: 1.41 s, total: 46.6 s\n",
            "Wall time: 46.7 s\n"
          ],
          "name": "stdout"
        }
      ]
    },
    {
      "cell_type": "code",
      "metadata": {
        "id": "i0ih4d8rsRMp",
        "colab": {
          "base_uri": "https://localhost:8080/"
        },
        "outputId": "ed0b3df4-273d-4e91-f195-6e63ac4460e8"
      },
      "source": [
        "%%time\n",
        "X_test_spacy = get_word_vectors(ng_test.data)"
      ],
      "execution_count": null,
      "outputs": [
        {
          "output_type": "stream",
          "text": [
            "CPU times: user 27.1 s, sys: 884 ms, total: 28 s\n",
            "Wall time: 28.1 s\n"
          ],
          "name": "stdout"
        }
      ]
    },
    {
      "cell_type": "markdown",
      "metadata": {
        "id": "oRI8Dd6ssRMp"
      },
      "source": [
        "랜덤포레스트로 학습해 보겠습니다."
      ]
    },
    {
      "cell_type": "code",
      "metadata": {
        "id": "glk-XdKHsRMq"
      },
      "source": [
        "rfc.fit(X_spacy, ng_train.target)"
      ],
      "execution_count": null,
      "outputs": []
    },
    {
      "cell_type": "code",
      "metadata": {
        "id": "QofFi3RosRMq"
      },
      "source": [
        "y_test_spacy = rfc.predict(X_test_spacy)\n",
        "accuracy_score(ng_test.target, y_test_spacy)"
      ],
      "execution_count": null,
      "outputs": []
    },
    {
      "cell_type": "markdown",
      "metadata": {
        "id": "_2h6lOEWsRMq"
      },
      "source": [
        "#### MLP(Multi-layer perceptron classifier)를 간단히 사용해보겠습니다"
      ]
    },
    {
      "cell_type": "code",
      "metadata": {
        "id": "IMZjPbIMsRMq"
      },
      "source": [
        "from sklearn.neural_network import MLPClassifier\n",
        "\n",
        "clf = MLPClassifier(solver='lbfgs'\n",
        "                   , alpha=1e-5\n",
        "                   , hidden_layer_sizes=(16,2)\n",
        "                   , random_state=2\n",
        "                   )"
      ],
      "execution_count": null,
      "outputs": []
    },
    {
      "cell_type": "code",
      "metadata": {
        "id": "kRBUP4EFsRMq"
      },
      "source": [
        "clf.fit(X_spacy, ng_train.target)"
      ],
      "execution_count": null,
      "outputs": []
    },
    {
      "cell_type": "code",
      "metadata": {
        "id": "010opTQUsRMq"
      },
      "source": [
        "clf.get_params()"
      ],
      "execution_count": null,
      "outputs": []
    },
    {
      "cell_type": "code",
      "metadata": {
        "id": "bAV_KM0WsRMq"
      },
      "source": [
        "y_test = clf.predict(X_test_spacy)\n",
        "accuracy_score(ng_test.target, y_test_spacy)"
      ],
      "execution_count": null,
      "outputs": []
    },
    {
      "cell_type": "markdown",
      "metadata": {
        "id": "yoC3ScQR0_gS"
      },
      "source": [
        "---\n"
      ]
    },
    {
      "cell_type": "markdown",
      "metadata": {
        "id": "wYmzbqqbwx8y"
      },
      "source": [
        "# RNN"
      ]
    },
    {
      "cell_type": "markdown",
      "metadata": {
        "id": "oKdA-PG8wwZF"
      },
      "source": [
        "이전까지 신경망의 개념에서와 CNN에서의 전체적은 흐름은 비슷하였습니다. 흐름이 한 방향으로만 흐르는 피드포워드(Feed Forward, FF)인 신경망들이었습니다. 물론 신경망을 학습할 때에는 역방향으로 움직이는 역전파에 대해서 배웠지만, 이것은 학습하는 과정이었기 때문에 신경망을 실제로 사용할 때에는 순방향으로만 사용하였습니다. 입력 신호가 은닉층으로 전달되고, 또 다음 층으로 전달하고 이렇게 순차적으로 전달해왔습니다.  이렇게 FF는 구성이 단순하여 이해하기 쉽지만, 큰 단점이 하나 있습니다. 바로 시계열(순서의 패턴에 의미가 있는) 데이터를 다루지 못합니다. 기존에 우리가 다뤘던 네트워크의 구조가 시계열 형태의 패턴을 잡아내지 못하기 때문입니다. 그래서 오늘은 시계열의 데이터 성질(패턴)을 잡아낼 수 있는 순환신경망(RNN)에 대해서 배워보겠습니다.\n",
        "\n",
        "시계열 데이터, 다른 말로 `시퀀스`는 열거 된 데이터입니다. 우리 일상에서는 `주문` 등의 반복적인 작업들이 이에 해당됩니다. Python 리스트(List)가 시계열 데이터의 좋은 예라고 할 수 있습니다. 두 개의 리스트 `[1, 2, 2, -1]`은 `[1, 2, -1, 2]`는 서로 다르다는 것입니다. 내용의 집합은 동일하지만, 순서가 다르면 다른 데이터가 될 수 있습니다. 이렇게 우리가 사용하는 데이터 구조 (예 : NumPy 배열)는 종종 이런 기본구조를 기반으로 구축되어 있죠.\n",
        "\n",
        "일상생활에서 대표적인 예는 바로 우리의 '말'이죠. 말의 순서가 중요하죠. 문법이 그러한 법칙을 담고 있습니다. 이렇게 시계열 데이터는 순서뿐만 아니라 \"시간\" 축이라는 마커(표시)가 있는 데이터입니다. 날짜, 타임 스탬프, [Unix 시간](https://en.wikipedia.org/wiki/Unix_time) 등. 모든 시계열은 또한 시퀀스이며 일부 기술의 경우 항목이 \"얼마나 멀리 떨어져 있는지\"를 고려하기도 하고, 단순히 순서만 고려할 수 있습니다 (특히 일정한 간격으로 수집 된 데이터가 특히 일관된 경우 중요하지 않을 수 있음). 오늘 배울 기본적인 RNN의 경우는 `얼마나 멀리 떨어져 있는가`보다 `순서`가 더 중요할 수 있습니다. RNN은 먼 데이터를 기억조차 하지 못하기 때문이죠. 기본적인 개념을 배우고 나면, 꽤 먼 거리에 있는 데이터를 배울 수 있는 LSTM에 대해서도 배워볼 것이고, 시계열을 다루지만 RNN을 사용하지 않는 Attention Network에 대해서도 간단하게 배워볼 것입니다. "
      ]
    },
    {
      "cell_type": "markdown",
      "metadata": {
        "id": "VQYByaiPLilF"
      },
      "source": [
        "# 확률과 언어모델 Review\n"
      ]
    },
    {
      "cell_type": "markdown",
      "metadata": {
        "id": "z_K8B0BRLqkG"
      },
      "source": [
        "## Word2Vec\n",
        "\n",
        "단어를 Vector공간으로 변환시키는 방법이라고 배웠고, 의미를 되새기기 위해서 그림을 참조하면 다음과 같습니다. \n",
        "<img src=\"https://miro.medium.com/max/3010/1*OEmWDt4eztOcm5pr2QbxfA.png\"/>\n",
        "\n",
        " 한편, 수식적으로 이라는 단어데이터를 생각해보겠습니다.<br>\n",
        "> $w_1, w_2, w_3, ..., w_l$ \n",
        "\n",
        "\n",
        " $w_l$을 `target`으로 예측해야한다고 했을 때, 기존의 맥락(context)과 이후 맥락을 반영해야겠습니다. <br>\n",
        "\n",
        " > $P(w_{l} | w_{l-1}, w_{l+1}$)\n",
        "\n",
        "CBOW는 위 식의 사후확률을 나타냅니다. 좌우를 고려하지 않고, 좌측(과거)만 고려하면, \n",
        "\n",
        " > $P(w_{l} | w_{l-1}, w_{l-2}$)\n",
        "\n",
        " 이렇게 식을 만들어볼 수 있습니다. 이런 모델의 형태는 머신러닝이나 통계학에서 마르코프체인(Markov Chain)으로 다뤄지기도 합니다. 위 수식은 level2 마르코프체인이 되는 것입니다. 과거 2개만을 고려했다는 의미이죠. 이렇게 파라미터의 조절을 통해서 기존 머신러닝에서 다뤘던 내용들을 Word2Vec 충분히 커버할 수 있습니다. 이후 단어와 과거로 단어로부터 몇개씩 고려할 것인지도 하나의 하이퍼파라미터로 조절하는 것이죠. 이 변수를 과거를 $k$, 이후를 $j$라고 한다면, $k=2, j=0$인 경우를 다룬 것이고, $k=3, j=1$이라면 식은 다름과 같이 변경될 수 있는 것입니다.\n",
        "\n",
        "  > $P(w_{l} | w_{l-1}, w_{l-2}, w_{l-3}, w_{l+1}$)"
      ]
    },
    {
      "cell_type": "markdown",
      "metadata": {
        "id": "RM_rkqAFcXT_"
      },
      "source": [
        "## 확률적 언어모델(Language Model)\n",
        "\n",
        "> $P(w_1, ..., w_m) = P(w_m|w_1, ..., w_{m-1})P(w_{m-1}|w_1, ..., w_{m-2})...P(w_2|w_1)P(w_1)$\n",
        "\n",
        "이렇게 최근에 나온 단어가 나오기까지의 사후확률은 위와같이 분해해서 쓸 수 있습니다. 이 확률은 동시에 연속적인 사건의 발생임으로 독립확률의 곱으로 동시확률을 나타냅니다. \n",
        "\n",
        "축약해서 하나의 기호로 쓰면 다음과 같습니다.\n",
        "> $\\prod _{t=1}^{m} P(w_t | w_1, ..., w_{t-1})$\n",
        "\n",
        "이렇게 모델링한 것을 기준으로 다음 단어를 예측하게 되는 것입니다."
      ]
    },
    {
      "cell_type": "markdown",
      "metadata": {
        "id": "44QZgrPUe3-Y"
      },
      "source": [
        "# 시퀀스를 위한 신경망"
      ]
    },
    {
      "cell_type": "markdown",
      "metadata": {
        "id": "Eej9tGivlBWG"
      },
      "source": [
        "## RNN\n",
        "\"전통적인\" 시계열 처리 방법은 많은 것(예, Markov Chains)들이 있지만 딥러닝 시대에 접어들면서 시퀀스 데이터에 대한 기술은 RNN으로 집중되었습니다. 기본적인 신경망에 재귀(recurrent)연결을 두면서 시간축 정보를 반영할 수 있도록 만든 구조입니다. 여기서 recurrent라는 단어는 라틴어에서 유래되었는데 '몇 번이나 반복해서 일어나는 일'이라는 뜻입니다. 우리말로는 '재발하다, 주직적으로 일어나다, 순환하다'는 의미로 번역될 수 있습니다.  따라서 오늘 배울 RNN은 무엇인가 순환하는 신경망이라는 것을 마음에 담고 시작해보겠습니다. \n",
        "\n",
        "시퀀스 데이터의 간단한 예시를 들어보겠습니다. `피보나치 수열`을 기억하십니까? 이전과 전전 단계의 합산으로 새로운 수열이 만들어지는 구조입니다. 앞서 언급된 2nd markov Chain도 이런 방식으로 $n-2$단계와 $n-1$단계로 $n$ 단계가 정해지는 예시를 들었는데 그 중에 둘의 합으로 표시하는 방법입니다. 이렇게 모델이 정해지면 다음으로 나올 무수히 많은 숫자들을 만들 수 있다는 이론에 근거합니다. \n",
        "\n",
        "> $F_n = F_{n-1} + F_{n-2}$\n",
        "\n",
        "수학공식의 경우 기본 케이스 $ F_0 = 1, F_1 = 1 $라는 최초 입력이 필요하며 나머지는 알고리즘에 의해서 생성됩니다. 그러나 우리가 신경망에서 다룰 것은 루프(loop)형태를 다루게 됩니다. 그림으로 설명하면 다음과 같습니다.\n",
        "\n",
        "\n",
        "![RNN, Recurrent neural network](https://upload.wikimedia.org/wikipedia/commons/b/b5/Recurrent_neural_network_unfold.svg)\n",
        "\n",
        "화살표 왼쪽 그림에서 $h$ 라고 쓴 은닉층에 자기 자신의 입력으로 돌아가는 Edge $V$이 있습니다.이 루프는 지금 시점의 $t$의 출력을 위해서 $t-1$ 값이 $U$와 합쳐져 $h$에 다시 반영되는 것을 의미합니다. \n",
        "\n",
        "전체 네트워크가 왼쪽 그림처럼 표시되지만, 네트워크를 시점에 따라 이해하도록 펼쳐보면 오른쪽 그림처럼 주어진 $t-1$ 시점에서 $x_{t-1}$, $t$ 시점에서 $x_{t}$에서 그리고, $t+1$시점에서 $x_{t+1}$에서 어떻게 작동하는지 확인할 수 있습니다.\n",
        "\n",
        "\n",
        "\n"
      ]
    },
    {
      "cell_type": "markdown",
      "metadata": {
        "id": "nSl3CSWwj4vc"
      },
      "source": [
        "각 시각의 RNN 계층은 그 계층으로의 입력과 1개 전의 RNN 계층으로부터 출력을 받아들입니다. 이 두 데이터로 지금 시각의 출력을 다시 계산하게 됩니다. \n",
        "> $h_t = sigmoid(h_{t-1}W_h + x_tW_x + b)$\n",
        "\n",
        "와 같은 형태로 계산할 수 있습니다. 이렇게 간단한 수식으로 변화내보면 조금 더 이해하기가 쉽습니다.  가중치가 2개가 생긴 것이죠. 입력 x를 h로 변환하기 위한 $W_x$와 RNN의 은닉층의 출력을 다음 h로 전환해주는 $W_h$가 있는 것입니다. 신경망에서 bias도 있다는 것은 잊지 않으셨으리라 생각합니다. "
      ]
    },
    {
      "cell_type": "code",
      "metadata": {
        "id": "7b_1Khd-lJrq"
      },
      "source": [
        "# 배웠던 RNN을 간단한 코드로 살펴보면 다음과 같습니다. \n",
        "import numpy as np\n",
        "\n",
        "class RNN:\n",
        "  def __init__(self, Wx, Wh, b):\n",
        "    self.params = [Wx, Wh, b]\n",
        "    self.grads = [np.zeros_like(Wx), np.zeros_like(Wh), np.zeros_like(b)]\n",
        "    self.cache = None\n",
        "\n",
        "  def forward(self, x, h_prev):\n",
        "    Wx, Wh, b = self.params\n",
        "    t = np.matmul(h_prev, Wh) + np.matmul(x, Wx) + b\n",
        "    h_next = np.sigmoid(t)\n",
        "\n",
        "    self.cache = (x, h_prev, h_next)\n",
        "    return h_next"
      ],
      "execution_count": null,
      "outputs": []
    },
    {
      "cell_type": "markdown",
      "metadata": {
        "id": "fHxszBx1mCtK"
      },
      "source": [
        "개념을 설명할 때에는 복잡하고 어려워 보였지만, 코드로 구현하고 나면 사실 별 다른 게 없습니다. 쉽게 개념을 이해하고 넘어가시면 됩니다. RNN에서의 학습도 기존 신경망처럼 계산할 수 있는데, Backpropagation through time이란 표현을 이용하여 BPTT라고합니다. 순서대로 하나씩 계산을 할 수 있습니다. "
      ]
    },
    {
      "cell_type": "markdown",
      "metadata": {
        "id": "qtyGK1uGdTvU"
      },
      "source": [
        "여기서의 문제점은 $V$의 반복이 문제가 됩니다. 만약 이 Recurrent가 100회, 1000회 반복된다고 보면, $V$의 100제곱, 1000제곱이 식 내부로 들어가게 될 것입니다. 1.1의 10제곱만해도 2.85배로 커지게 됩니다. 이렇게 발산하게되는 문제가 발생하게 되고, 한편 0.9의 제곱식을 고려하면, 무수히 작아지는 것을 볼 수 있습니다. \n",
        "\n",
        ">$V$의 크기를 적절하게 조절해주면 되지 않을까? \n",
        "\n",
        "라는 생각이 들기 시작합니다. 이렇게 $V$의 크기를 조절하는 Gate를 만들어서 적절히 조절해주면서 RNN을 조절해보자는 개념에서 출발한 것이 바로 LSTM입니다. "
      ]
    },
    {
      "cell_type": "markdown",
      "metadata": {
        "id": "sl_LOn0BHa_F"
      },
      "source": [
        "## LSTM\n",
        "이렇게 **RNN에 Gate를 추가한 모델을 LSTM**이라고 합니다. 요즘에는 단순한 RNN은 사용하지 않고 대부분 장기 단기 기억 장치 (LSTM)를 사용합니다.  지칭하는 이름 자체가 변하기도 하였는데요, 요즘 RNN이라고 하면 당연히 LSTM이나 이후에 배울 GRU를 지칭할 정도로 LSTM이 대표적인 RNN의 모델이 되었습니다. 오히려 전에 배운 RNN을 `기본적인 RNN`이라고 표현하기도 합니다. \n",
        "\n",
        "아래 그림은 그 단위 모듈에 대한 예시입니다.\n",
        "\n",
        "\"무언가 복잡해 보입니다. 한 블럭 안에서 많은 일이 진행되고 있습니다. 블럭 하나 안에 작은 신경망이 들어있다고 생각하시면 조금 쉽게 이해할 수 있습니다. 기존 신경망의 학습(역전파)에 대해서 배우며 기울기의 미분에 의해서 학습되는 개념을 배웠는데, 이 블럭 속에서도 같은 원리가 적용되며 역전파를 설계할 수 있습니다. 그러면 이 변화가 RNN과는 무엇이 다른가? \n",
        "\n",
        "**LSTM의 장점은 그 이름인 Long Short Term Memory 처럼 최근(short) 이벤트에 더 많은 비중을 둘수도 있으면서 동시에 오래된 (long) 정보를 완전히 잃지 않을 수 있다는 것**입니다. 과거 정보를 얼마나 유지할 것인지(forget gate), 새로 입력된 정보는 얼마만큼 활용할 것인지(input gate), 그리고 두 정보를 이용하여 얼마만큼 출력을 할 것인지(output gate)를 통해서 3가지 Gate의 비율만큼 정보를 끌어다가 쓸 수 있는 모델을 만들어낸 것입니다.\n",
        "\n",
        "<img src=\"https://img1.daumcdn.net/thumb/R1280x0/?scode=mtistory2&fname=http%3A%2F%2Fcfile5.uf.tistory.com%2Fimage%2F9905CF385BD5F5EC027F20\"/>\n",
        "\n",
        "위에서도 언급했지만, 충분한 반복(iterations) 후에 일반적인 신경망의 값이 너무 작아서 gradients가 제대로 전파되지 못하고, 0으로 수렴하는 문제(vanishing gradient)가 발생합니다. **[Gradient Vanishing 문제](https://en.wikipedia.org/wiki/Vanishing_gradient_problem)라고 하며, RNN의 대표적인 문제로 유명합니다. 그것을 개선하기 위해서 LSTM의 gate들이 생겼다고 보실 수 있습니다.** 일상 생활의 예를 들어보면, 업무 대화를 하던 중에, 12시가 되면 Forget Gate를 빠르게 동작시켜서, 일 얘기를 중단하고 갑자기 점심을 뭐 먹을 지 생각하게 되고, 업무의 모든 것을 빠르게 잊어버리고 음식을 찾아 떠나게 만드는 역할을 수행하는 것입니다. \n",
        "\n",
        "\n",
        "점심시간이면 점심을 먹어야 한다고 알려주는 머신이라면 꽤 괜찮지 않습니까? LSTM을 사용하는 특히 매력적인 애플리케이션이 바로 언어 모델링입니다. 언어는 본질적으로 정렬 된 시퀀스 데이터입니다 (문자 / 단어가 차례로 이동하고 순서가 * 중요합니다 *). [The Unreasonable Effectiveness of Recurrent Neural Networks](https://karpathy.github.io/2015/05/21/rnn-effectness/)에 대해서는 한번 읽어보시면 좋습니다. "
      ]
    },
    {
      "cell_type": "markdown",
      "metadata": {
        "id": "j2PxnHsMzLSk"
      },
      "source": [
        "LSTM 역전파 \n",
        "\n",
        "<img src=\"http://i.imgur.com/2BZtc2l.gif\" />"
      ]
    },
    {
      "cell_type": "markdown",
      "metadata": {
        "id": "XF578lp6G3o5"
      },
      "source": [
        "## GRU\n",
        "Gated Recurrent Unit, GRU\n",
        "한편, 이 LSTM의 간소한 버전인 GRU도 가볍게 소개합니다. \n",
        "구조를 살펴봅시다. \n",
        "<img src=\"https://img1.daumcdn.net/thumb/R1280x0/?scode=mtistory2&fname=http%3A%2F%2Fcfile7.uf.tistory.com%2Fimage%2F99F0EC3E5BD5F6460255CF\"/>\n",
        "\n",
        "- LSTM Cell에서의 두 상태 벡터 $c_t$ ​와 $h_t$​가 하나의 벡터 $h_t$​로 합쳐짐.\n",
        "- 하나의 Gate controller인 $z_t$가 forget, input gate를 모두 제어하며,  $z_t$가 1을 출력하면 forget 게이트가 열리고, input 게이트가 닫히며, $z_t$가 0이면, 반대로 동작함.\n",
        "- GRU 셀은 output 게이트가 사라짐. 전체 상태 벡터 $h_t$가 각 시각에서 출력되며, 이전 상태의 $h_t-1$의 어느 부분이 출력될 지 새롭게 제어하는 Gate controller인 $r_t$이 있음.\n",
        "\n",
        "\n",
        "\n",
        "\n",
        "이제부터 TensorFlow와 Keras를 사용하여 자연어로 RNN을 훈련시켜 보겠습니다.\n",
        "\n",
        "- https://www.tensorflow.org/guide/keras/rnn\n",
        "- https://www.tensorflow.org/api_docs/python/tf/keras/layers/LSTM\n",
        "- https://keras.io/api/layers/recurrent_layers/lstm/\n",
        "- http://adventuresinmachinelearning.com/keras-lstm-tutorial/\n",
        "\n",
        "여기 `tensorflow.contrib` [RNN/LSTM 예시](https://www.tensorflow.org/tutorials/sequences/recurrent)."
      ]
    },
    {
      "cell_type": "markdown",
      "metadata": {
        "id": "eWrQllf8WEd-"
      },
      "source": [
        "## 따라해봅시다!\n",
        "시퀀스는 주가부터 텍스트까지 다양한 모양과 형태로 제공됩니다. 우리는 주로 텍스트에 초점을 맞춰 공부하도록 하겠습니다. 왜냐하면 텍스트를 시퀀스로 모델링하는 것은 신경망의 강점이기 때문입니다. 먼저 TensorFlow 튜토리얼을 사용하여 간단한 분류 작업부터 시작하겠습니다."
      ]
    },
    {
      "cell_type": "markdown",
      "metadata": {
        "id": "LyBVcWqOlBWH"
      },
      "source": [
        "### 1. Keras를 이용한 RNN/LSTM 감정분류(Sentiment Classification)"
      ]
    },
    {
      "cell_type": "code",
      "metadata": {
        "id": "Ti23G0gRe3kr",
        "colab": {
          "base_uri": "https://localhost:8080/"
        },
        "outputId": "b4bc212b-4583-4d34-9a15-cc44c9f086d5"
      },
      "source": [
        "'''\n",
        "# IMDB 감성 분류 작업에 대한 LSTM 모델을 학습합니다.\n",
        "데이터 집합이 사실 너무 작아서 LSTM이 강점을 발휘할 수 없습니다.\n",
        "TF-IDF + LogReg와 같은 간단하고 빠른 방법이 LSTM에 비해 훨씬 빠릅니다.\n",
        "**Notes**\n",
        "- RNN은 까다롭습니다. 배치 크기 선택이 중요하고, 손실 및 최적화 도구 선택이 중요합니다. 일부 구성은 수렴되지 않을 것입니다.\n",
        "- 교육 중 LSTM 손실 감소 패턴은 CNN/MLP/etc에서 보는 것는 상당히 다를 수 있습니다.\n",
        "'''\n",
        "from __future__ import print_function\n",
        "\n",
        "from tensorflow.keras.preprocessing import sequence\n",
        "from tensorflow.keras.models import Sequential\n",
        "from tensorflow.keras.layers import Dense, Embedding\n",
        "from tensorflow.keras.layers import LSTM\n",
        "from tensorflow.keras.datasets import imd\n",
        "\n",
        "# 이 단어 랭크 수 뒤에 텍스트는 사용하지 않도록 잘라냅니다(단어 등장 순위 : max_feature)\n",
        "# 참조링크 : https://www.tensorflow.org/api_docs/python/tf/keras/datasets/imdb/load_data\n",
        "max_features = 20000\n",
        "# 최대 단어 길이\n",
        "maxlen = 80\n",
        "batch_size = 32\n",
        "\n",
        "print('Loading data...')\n",
        "(x_train, y_train), (x_test, y_test) = imdb.load_data(num_words=max_features)\n",
        "print(len(x_train), 'train sequences')\n",
        "print(len(x_test), 'test sequences')"
      ],
      "execution_count": null,
      "outputs": [
        {
          "output_type": "stream",
          "text": [
            "Loading data...\n",
            "Downloading data from https://storage.googleapis.com/tensorflow/tf-keras-datasets/imdb.npz\n",
            "17465344/17464789 [==============================] - 0s 0us/step\n",
            "25000 train sequences\n",
            "25000 test sequences\n"
          ],
          "name": "stdout"
        }
      ]
    },
    {
      "cell_type": "code",
      "metadata": {
        "id": "WwW0TZ87lBWQ",
        "colab": {
          "base_uri": "https://localhost:8080/"
        },
        "outputId": "c26aec2e-e2af-4025-ca2d-bb21b018275b"
      },
      "source": [
        "print('Pad Sequences (samples x time)')\n",
        "x_train = sequence.pad_sequences(x_train, maxlen=maxlen)\n",
        "x_test = sequence.pad_sequences(x_test, maxlen=maxlen)\n",
        "print('x_train shape: ', x_train.shape)\n",
        "print('x_test shape: ', x_test.shape)"
      ],
      "execution_count": null,
      "outputs": [
        {
          "output_type": "stream",
          "text": [
            "Pad Sequences (samples x time)\n",
            "x_train shape:  (25000, 80)\n",
            "x_test shape:  (25000, 80)\n"
          ],
          "name": "stdout"
        }
      ]
    },
    {
      "cell_type": "code",
      "metadata": {
        "id": "YeNO2I63lBWT",
        "colab": {
          "base_uri": "https://localhost:8080/"
        },
        "outputId": "003029b3-ce27-4f66-a55d-12884990fb58"
      },
      "source": [
        "x_train[0]"
      ],
      "execution_count": null,
      "outputs": [
        {
          "output_type": "execute_result",
          "data": {
            "text/plain": [
              "array([   15,   256,     4,     2,     7,  3766,     5,   723,    36,\n",
              "          71,    43,   530,   476,    26,   400,   317,    46,     7,\n",
              "           4, 12118,  1029,    13,   104,    88,     4,   381,    15,\n",
              "         297,    98,    32,  2071,    56,    26,   141,     6,   194,\n",
              "        7486,    18,     4,   226,    22,    21,   134,   476,    26,\n",
              "         480,     5,   144,    30,  5535,    18,    51,    36,    28,\n",
              "         224,    92,    25,   104,     4,   226,    65,    16,    38,\n",
              "        1334,    88,    12,    16,   283,     5,    16,  4472,   113,\n",
              "         103,    32,    15,    16,  5345,    19,   178,    32],\n",
              "      dtype=int32)"
            ]
          },
          "metadata": {
            "tags": []
          },
          "execution_count": 4
        }
      ]
    },
    {
      "cell_type": "code",
      "metadata": {
        "id": "XdwCFRz3lBWY",
        "colab": {
          "base_uri": "https://localhost:8080/"
        },
        "outputId": "17b9f8cc-f847-4fc1-b958-3943d7e84cdd"
      },
      "source": [
        "import tensorflow as tf\n",
        "\n",
        "# model = Sequential()\n",
        "# model.add(Embedding(max_features, 128))\n",
        "# model.add(LSTM(128, dropout=0.2, recurrent_dropout=0.2))\n",
        "# model.add(Dense(1, activation='sigmoid'))\n",
        "\n",
        "model = tf.keras.models.Sequential([\n",
        "  tf.keras.layers.Embedding(max_features, 128),\n",
        "  tf.keras.layers.LSTM(128, dropout=0.2, recurrent_dropout=0.2),\n",
        "  tf.keras.layers.Dense(1, activation='sigmoid')\n",
        "])\n",
        "\n",
        "model.compile(loss='binary_crossentropy',\n",
        "              optimizer='adam', \n",
        "              metrics=['accuracy'])\n",
        "\n",
        "model.summary()"
      ],
      "execution_count": null,
      "outputs": [
        {
          "output_type": "stream",
          "text": [
            "WARNING:tensorflow:Layer lstm_4 will not use cuDNN kernel since it doesn't meet the cuDNN kernel criteria. It will use generic GPU kernel as fallback when running on GPU\n",
            "Model: \"sequential_3\"\n",
            "_________________________________________________________________\n",
            "Layer (type)                 Output Shape              Param #   \n",
            "=================================================================\n",
            "embedding_5 (Embedding)      (None, None, 128)         2560000   \n",
            "_________________________________________________________________\n",
            "lstm_4 (LSTM)                (None, 128)               131584    \n",
            "_________________________________________________________________\n",
            "dense_3 (Dense)              (None, 1)                 129       \n",
            "=================================================================\n",
            "Total params: 2,691,713\n",
            "Trainable params: 2,691,713\n",
            "Non-trainable params: 0\n",
            "_________________________________________________________________\n"
          ],
          "name": "stdout"
        }
      ]
    },
    {
      "cell_type": "code",
      "metadata": {
        "id": "jl4iHbNxlBWa",
        "colab": {
          "base_uri": "https://localhost:8080/",
          "height": 477
        },
        "outputId": "209d855f-c2ad-4f2e-f9c2-e35fcb2590d3"
      },
      "source": [
        "unicorns = model.fit(x_train, y_train,\n",
        "          batch_size=batch_size, \n",
        "          epochs=3, \n",
        "          validation_data=(x_test,y_test))"
      ],
      "execution_count": null,
      "outputs": [
        {
          "output_type": "stream",
          "text": [
            "Epoch 1/5\n",
            "782/782 [==============================] - 263s 337ms/step - loss: 0.4315 - accuracy: 0.7940 - val_loss: 0.3762 - val_accuracy: 0.8362\n",
            "Epoch 2/5\n",
            "782/782 [==============================] - 263s 336ms/step - loss: 0.2586 - accuracy: 0.8971 - val_loss: 0.4020 - val_accuracy: 0.8347\n",
            "Epoch 3/5\n",
            "782/782 [==============================] - 264s 338ms/step - loss: 0.1669 - accuracy: 0.9374 - val_loss: 0.4462 - val_accuracy: 0.8284\n",
            "Epoch 4/5\n",
            "  3/782 [..............................] - ETA: 2:39 - loss: 0.1435 - accuracy: 0.9375"
          ],
          "name": "stdout"
        },
        {
          "output_type": "error",
          "ename": "KeyboardInterrupt",
          "evalue": "ignored",
          "traceback": [
            "\u001b[0;31m---------------------------------------------------------------------------\u001b[0m",
            "\u001b[0;31mKeyboardInterrupt\u001b[0m                         Traceback (most recent call last)",
            "\u001b[0;32m<ipython-input-13-14af549fa2fe>\u001b[0m in \u001b[0;36m<module>\u001b[0;34m()\u001b[0m\n\u001b[1;32m      2\u001b[0m           \u001b[0mbatch_size\u001b[0m\u001b[0;34m=\u001b[0m\u001b[0mbatch_size\u001b[0m\u001b[0;34m,\u001b[0m\u001b[0;34m\u001b[0m\u001b[0;34m\u001b[0m\u001b[0m\n\u001b[1;32m      3\u001b[0m           \u001b[0mepochs\u001b[0m\u001b[0;34m=\u001b[0m\u001b[0;36m5\u001b[0m\u001b[0;34m,\u001b[0m\u001b[0;34m\u001b[0m\u001b[0;34m\u001b[0m\u001b[0m\n\u001b[0;32m----> 4\u001b[0;31m           validation_data=(x_test,y_test))\n\u001b[0m",
            "\u001b[0;32m/usr/local/lib/python3.6/dist-packages/tensorflow/python/keras/engine/training.py\u001b[0m in \u001b[0;36m_method_wrapper\u001b[0;34m(self, *args, **kwargs)\u001b[0m\n\u001b[1;32m    106\u001b[0m   \u001b[0;32mdef\u001b[0m \u001b[0m_method_wrapper\u001b[0m\u001b[0;34m(\u001b[0m\u001b[0mself\u001b[0m\u001b[0;34m,\u001b[0m \u001b[0;34m*\u001b[0m\u001b[0margs\u001b[0m\u001b[0;34m,\u001b[0m \u001b[0;34m**\u001b[0m\u001b[0mkwargs\u001b[0m\u001b[0;34m)\u001b[0m\u001b[0;34m:\u001b[0m\u001b[0;34m\u001b[0m\u001b[0;34m\u001b[0m\u001b[0m\n\u001b[1;32m    107\u001b[0m     \u001b[0;32mif\u001b[0m \u001b[0;32mnot\u001b[0m \u001b[0mself\u001b[0m\u001b[0;34m.\u001b[0m\u001b[0m_in_multi_worker_mode\u001b[0m\u001b[0;34m(\u001b[0m\u001b[0;34m)\u001b[0m\u001b[0;34m:\u001b[0m  \u001b[0;31m# pylint: disable=protected-access\u001b[0m\u001b[0;34m\u001b[0m\u001b[0;34m\u001b[0m\u001b[0m\n\u001b[0;32m--> 108\u001b[0;31m       \u001b[0;32mreturn\u001b[0m \u001b[0mmethod\u001b[0m\u001b[0;34m(\u001b[0m\u001b[0mself\u001b[0m\u001b[0;34m,\u001b[0m \u001b[0;34m*\u001b[0m\u001b[0margs\u001b[0m\u001b[0;34m,\u001b[0m \u001b[0;34m**\u001b[0m\u001b[0mkwargs\u001b[0m\u001b[0;34m)\u001b[0m\u001b[0;34m\u001b[0m\u001b[0;34m\u001b[0m\u001b[0m\n\u001b[0m\u001b[1;32m    109\u001b[0m \u001b[0;34m\u001b[0m\u001b[0m\n\u001b[1;32m    110\u001b[0m     \u001b[0;31m# Running inside `run_distribute_coordinator` already.\u001b[0m\u001b[0;34m\u001b[0m\u001b[0;34m\u001b[0m\u001b[0;34m\u001b[0m\u001b[0m\n",
            "\u001b[0;32m/usr/local/lib/python3.6/dist-packages/tensorflow/python/keras/engine/training.py\u001b[0m in \u001b[0;36mfit\u001b[0;34m(self, x, y, batch_size, epochs, verbose, callbacks, validation_split, validation_data, shuffle, class_weight, sample_weight, initial_epoch, steps_per_epoch, validation_steps, validation_batch_size, validation_freq, max_queue_size, workers, use_multiprocessing)\u001b[0m\n\u001b[1;32m   1096\u001b[0m                 batch_size=batch_size):\n\u001b[1;32m   1097\u001b[0m               \u001b[0mcallbacks\u001b[0m\u001b[0;34m.\u001b[0m\u001b[0mon_train_batch_begin\u001b[0m\u001b[0;34m(\u001b[0m\u001b[0mstep\u001b[0m\u001b[0;34m)\u001b[0m\u001b[0;34m\u001b[0m\u001b[0;34m\u001b[0m\u001b[0m\n\u001b[0;32m-> 1098\u001b[0;31m               \u001b[0mtmp_logs\u001b[0m \u001b[0;34m=\u001b[0m \u001b[0mtrain_function\u001b[0m\u001b[0;34m(\u001b[0m\u001b[0miterator\u001b[0m\u001b[0;34m)\u001b[0m\u001b[0;34m\u001b[0m\u001b[0;34m\u001b[0m\u001b[0m\n\u001b[0m\u001b[1;32m   1099\u001b[0m               \u001b[0;32mif\u001b[0m \u001b[0mdata_handler\u001b[0m\u001b[0;34m.\u001b[0m\u001b[0mshould_sync\u001b[0m\u001b[0;34m:\u001b[0m\u001b[0;34m\u001b[0m\u001b[0;34m\u001b[0m\u001b[0m\n\u001b[1;32m   1100\u001b[0m                 \u001b[0mcontext\u001b[0m\u001b[0;34m.\u001b[0m\u001b[0masync_wait\u001b[0m\u001b[0;34m(\u001b[0m\u001b[0;34m)\u001b[0m\u001b[0;34m\u001b[0m\u001b[0;34m\u001b[0m\u001b[0m\n",
            "\u001b[0;32m/usr/local/lib/python3.6/dist-packages/tensorflow/python/eager/def_function.py\u001b[0m in \u001b[0;36m__call__\u001b[0;34m(self, *args, **kwds)\u001b[0m\n\u001b[1;32m    778\u001b[0m       \u001b[0;32melse\u001b[0m\u001b[0;34m:\u001b[0m\u001b[0;34m\u001b[0m\u001b[0;34m\u001b[0m\u001b[0m\n\u001b[1;32m    779\u001b[0m         \u001b[0mcompiler\u001b[0m \u001b[0;34m=\u001b[0m \u001b[0;34m\"nonXla\"\u001b[0m\u001b[0;34m\u001b[0m\u001b[0;34m\u001b[0m\u001b[0m\n\u001b[0;32m--> 780\u001b[0;31m         \u001b[0mresult\u001b[0m \u001b[0;34m=\u001b[0m \u001b[0mself\u001b[0m\u001b[0;34m.\u001b[0m\u001b[0m_call\u001b[0m\u001b[0;34m(\u001b[0m\u001b[0;34m*\u001b[0m\u001b[0margs\u001b[0m\u001b[0;34m,\u001b[0m \u001b[0;34m**\u001b[0m\u001b[0mkwds\u001b[0m\u001b[0;34m)\u001b[0m\u001b[0;34m\u001b[0m\u001b[0;34m\u001b[0m\u001b[0m\n\u001b[0m\u001b[1;32m    781\u001b[0m \u001b[0;34m\u001b[0m\u001b[0m\n\u001b[1;32m    782\u001b[0m       \u001b[0mnew_tracing_count\u001b[0m \u001b[0;34m=\u001b[0m \u001b[0mself\u001b[0m\u001b[0;34m.\u001b[0m\u001b[0m_get_tracing_count\u001b[0m\u001b[0;34m(\u001b[0m\u001b[0;34m)\u001b[0m\u001b[0;34m\u001b[0m\u001b[0;34m\u001b[0m\u001b[0m\n",
            "\u001b[0;32m/usr/local/lib/python3.6/dist-packages/tensorflow/python/eager/def_function.py\u001b[0m in \u001b[0;36m_call\u001b[0;34m(self, *args, **kwds)\u001b[0m\n\u001b[1;32m    805\u001b[0m       \u001b[0;31m# In this case we have created variables on the first call, so we run the\u001b[0m\u001b[0;34m\u001b[0m\u001b[0;34m\u001b[0m\u001b[0;34m\u001b[0m\u001b[0m\n\u001b[1;32m    806\u001b[0m       \u001b[0;31m# defunned version which is guaranteed to never create variables.\u001b[0m\u001b[0;34m\u001b[0m\u001b[0;34m\u001b[0m\u001b[0;34m\u001b[0m\u001b[0m\n\u001b[0;32m--> 807\u001b[0;31m       \u001b[0;32mreturn\u001b[0m \u001b[0mself\u001b[0m\u001b[0;34m.\u001b[0m\u001b[0m_stateless_fn\u001b[0m\u001b[0;34m(\u001b[0m\u001b[0;34m*\u001b[0m\u001b[0margs\u001b[0m\u001b[0;34m,\u001b[0m \u001b[0;34m**\u001b[0m\u001b[0mkwds\u001b[0m\u001b[0;34m)\u001b[0m  \u001b[0;31m# pylint: disable=not-callable\u001b[0m\u001b[0;34m\u001b[0m\u001b[0;34m\u001b[0m\u001b[0m\n\u001b[0m\u001b[1;32m    808\u001b[0m     \u001b[0;32melif\u001b[0m \u001b[0mself\u001b[0m\u001b[0;34m.\u001b[0m\u001b[0m_stateful_fn\u001b[0m \u001b[0;32mis\u001b[0m \u001b[0;32mnot\u001b[0m \u001b[0;32mNone\u001b[0m\u001b[0;34m:\u001b[0m\u001b[0;34m\u001b[0m\u001b[0;34m\u001b[0m\u001b[0m\n\u001b[1;32m    809\u001b[0m       \u001b[0;31m# Release the lock early so that multiple threads can perform the call\u001b[0m\u001b[0;34m\u001b[0m\u001b[0;34m\u001b[0m\u001b[0;34m\u001b[0m\u001b[0m\n",
            "\u001b[0;32m/usr/local/lib/python3.6/dist-packages/tensorflow/python/eager/function.py\u001b[0m in \u001b[0;36m__call__\u001b[0;34m(self, *args, **kwargs)\u001b[0m\n\u001b[1;32m   2827\u001b[0m     \u001b[0;32mwith\u001b[0m \u001b[0mself\u001b[0m\u001b[0;34m.\u001b[0m\u001b[0m_lock\u001b[0m\u001b[0;34m:\u001b[0m\u001b[0;34m\u001b[0m\u001b[0;34m\u001b[0m\u001b[0m\n\u001b[1;32m   2828\u001b[0m       \u001b[0mgraph_function\u001b[0m\u001b[0;34m,\u001b[0m \u001b[0margs\u001b[0m\u001b[0;34m,\u001b[0m \u001b[0mkwargs\u001b[0m \u001b[0;34m=\u001b[0m \u001b[0mself\u001b[0m\u001b[0;34m.\u001b[0m\u001b[0m_maybe_define_function\u001b[0m\u001b[0;34m(\u001b[0m\u001b[0margs\u001b[0m\u001b[0;34m,\u001b[0m \u001b[0mkwargs\u001b[0m\u001b[0;34m)\u001b[0m\u001b[0;34m\u001b[0m\u001b[0;34m\u001b[0m\u001b[0m\n\u001b[0;32m-> 2829\u001b[0;31m     \u001b[0;32mreturn\u001b[0m \u001b[0mgraph_function\u001b[0m\u001b[0;34m.\u001b[0m\u001b[0m_filtered_call\u001b[0m\u001b[0;34m(\u001b[0m\u001b[0margs\u001b[0m\u001b[0;34m,\u001b[0m \u001b[0mkwargs\u001b[0m\u001b[0;34m)\u001b[0m  \u001b[0;31m# pylint: disable=protected-access\u001b[0m\u001b[0;34m\u001b[0m\u001b[0;34m\u001b[0m\u001b[0m\n\u001b[0m\u001b[1;32m   2830\u001b[0m \u001b[0;34m\u001b[0m\u001b[0m\n\u001b[1;32m   2831\u001b[0m   \u001b[0;34m@\u001b[0m\u001b[0mproperty\u001b[0m\u001b[0;34m\u001b[0m\u001b[0;34m\u001b[0m\u001b[0m\n",
            "\u001b[0;32m/usr/local/lib/python3.6/dist-packages/tensorflow/python/eager/function.py\u001b[0m in \u001b[0;36m_filtered_call\u001b[0;34m(self, args, kwargs, cancellation_manager)\u001b[0m\n\u001b[1;32m   1846\u001b[0m                            resource_variable_ops.BaseResourceVariable))],\n\u001b[1;32m   1847\u001b[0m         \u001b[0mcaptured_inputs\u001b[0m\u001b[0;34m=\u001b[0m\u001b[0mself\u001b[0m\u001b[0;34m.\u001b[0m\u001b[0mcaptured_inputs\u001b[0m\u001b[0;34m,\u001b[0m\u001b[0;34m\u001b[0m\u001b[0;34m\u001b[0m\u001b[0m\n\u001b[0;32m-> 1848\u001b[0;31m         cancellation_manager=cancellation_manager)\n\u001b[0m\u001b[1;32m   1849\u001b[0m \u001b[0;34m\u001b[0m\u001b[0m\n\u001b[1;32m   1850\u001b[0m   \u001b[0;32mdef\u001b[0m \u001b[0m_call_flat\u001b[0m\u001b[0;34m(\u001b[0m\u001b[0mself\u001b[0m\u001b[0;34m,\u001b[0m \u001b[0margs\u001b[0m\u001b[0;34m,\u001b[0m \u001b[0mcaptured_inputs\u001b[0m\u001b[0;34m,\u001b[0m \u001b[0mcancellation_manager\u001b[0m\u001b[0;34m=\u001b[0m\u001b[0;32mNone\u001b[0m\u001b[0;34m)\u001b[0m\u001b[0;34m:\u001b[0m\u001b[0;34m\u001b[0m\u001b[0;34m\u001b[0m\u001b[0m\n",
            "\u001b[0;32m/usr/local/lib/python3.6/dist-packages/tensorflow/python/eager/function.py\u001b[0m in \u001b[0;36m_call_flat\u001b[0;34m(self, args, captured_inputs, cancellation_manager)\u001b[0m\n\u001b[1;32m   1922\u001b[0m       \u001b[0;31m# No tape is watching; skip to running the function.\u001b[0m\u001b[0;34m\u001b[0m\u001b[0;34m\u001b[0m\u001b[0;34m\u001b[0m\u001b[0m\n\u001b[1;32m   1923\u001b[0m       return self._build_call_outputs(self._inference_function.call(\n\u001b[0;32m-> 1924\u001b[0;31m           ctx, args, cancellation_manager=cancellation_manager))\n\u001b[0m\u001b[1;32m   1925\u001b[0m     forward_backward = self._select_forward_and_backward_functions(\n\u001b[1;32m   1926\u001b[0m         \u001b[0margs\u001b[0m\u001b[0;34m,\u001b[0m\u001b[0;34m\u001b[0m\u001b[0;34m\u001b[0m\u001b[0m\n",
            "\u001b[0;32m/usr/local/lib/python3.6/dist-packages/tensorflow/python/eager/function.py\u001b[0m in \u001b[0;36mcall\u001b[0;34m(self, ctx, args, cancellation_manager)\u001b[0m\n\u001b[1;32m    548\u001b[0m               \u001b[0minputs\u001b[0m\u001b[0;34m=\u001b[0m\u001b[0margs\u001b[0m\u001b[0;34m,\u001b[0m\u001b[0;34m\u001b[0m\u001b[0;34m\u001b[0m\u001b[0m\n\u001b[1;32m    549\u001b[0m               \u001b[0mattrs\u001b[0m\u001b[0;34m=\u001b[0m\u001b[0mattrs\u001b[0m\u001b[0;34m,\u001b[0m\u001b[0;34m\u001b[0m\u001b[0;34m\u001b[0m\u001b[0m\n\u001b[0;32m--> 550\u001b[0;31m               ctx=ctx)\n\u001b[0m\u001b[1;32m    551\u001b[0m         \u001b[0;32melse\u001b[0m\u001b[0;34m:\u001b[0m\u001b[0;34m\u001b[0m\u001b[0;34m\u001b[0m\u001b[0m\n\u001b[1;32m    552\u001b[0m           outputs = execute.execute_with_cancellation(\n",
            "\u001b[0;32m/usr/local/lib/python3.6/dist-packages/tensorflow/python/eager/execute.py\u001b[0m in \u001b[0;36mquick_execute\u001b[0;34m(op_name, num_outputs, inputs, attrs, ctx, name)\u001b[0m\n\u001b[1;32m     58\u001b[0m     \u001b[0mctx\u001b[0m\u001b[0;34m.\u001b[0m\u001b[0mensure_initialized\u001b[0m\u001b[0;34m(\u001b[0m\u001b[0;34m)\u001b[0m\u001b[0;34m\u001b[0m\u001b[0;34m\u001b[0m\u001b[0m\n\u001b[1;32m     59\u001b[0m     tensors = pywrap_tfe.TFE_Py_Execute(ctx._handle, device_name, op_name,\n\u001b[0;32m---> 60\u001b[0;31m                                         inputs, attrs, num_outputs)\n\u001b[0m\u001b[1;32m     61\u001b[0m   \u001b[0;32mexcept\u001b[0m \u001b[0mcore\u001b[0m\u001b[0;34m.\u001b[0m\u001b[0m_NotOkStatusException\u001b[0m \u001b[0;32mas\u001b[0m \u001b[0me\u001b[0m\u001b[0;34m:\u001b[0m\u001b[0;34m\u001b[0m\u001b[0;34m\u001b[0m\u001b[0m\n\u001b[1;32m     62\u001b[0m     \u001b[0;32mif\u001b[0m \u001b[0mname\u001b[0m \u001b[0;32mis\u001b[0m \u001b[0;32mnot\u001b[0m \u001b[0;32mNone\u001b[0m\u001b[0;34m:\u001b[0m\u001b[0;34m\u001b[0m\u001b[0;34m\u001b[0m\u001b[0m\n",
            "\u001b[0;31mKeyboardInterrupt\u001b[0m: "
          ]
        }
      ]
    },
    {
      "cell_type": "code",
      "metadata": {
        "id": "V90NGxkblBWd",
        "colab": {
          "base_uri": "https://localhost:8080/",
          "height": 295
        },
        "outputId": "3924fd62-a256-4fcb-d8cc-916160d3ed57"
      },
      "source": [
        "import matplotlib.pyplot as plt\n",
        "\n",
        "# Plot training & validation loss values\n",
        "plt.plot(unicorns.history['loss'])\n",
        "plt.plot(unicorns.history['val_loss'])\n",
        "plt.title('Model loss')\n",
        "plt.ylabel('Loss')\n",
        "plt.xlabel('Epoch')\n",
        "plt.legend(['Train', 'Test'], loc='upper left')\n",
        "plt.show();"
      ],
      "execution_count": null,
      "outputs": [
        {
          "output_type": "display_data",
          "data": {
            "image/png": "[encoded data removed]",
            "text/plain": [
              "<Figure size 432x288 with 1 Axes>"
            ]
          },
          "metadata": {
            "tags": [],
            "needs_background": "light"
          }
        }
      ]
    },
    {
      "cell_type": "markdown",
      "metadata": {
        "id": "7pETWPIe362y"
      },
      "source": [
        "### 2. LSTM 텍스트 생성기 with Keras"
      ]
    },
    {
      "cell_type": "markdown",
      "metadata": {
        "id": "bZlqNJnMlBWh"
      },
      "source": [
        "LSTMs로 무엇을 할 수 있을까요? **시퀀스**를 분석하고 있기 때문에, 우리는 분류 이상의 것을 할 수 있습니다. \n",
        "\n",
        "다음 텍스트를 **생성**할 수 있습니다. \n",
        "**니체(Friedrich Nietzsche)의 글** 을 이용해서 실습을 해봅시다\n",
        "\n",
        "Keras [LSTM text Generation](https://keras.io/zh/examples/lstm_text_generation/)."
      ]
    },
    {
      "cell_type": "code",
      "metadata": {
        "id": "YDSeEDN2lBWi",
        "colab": {
          "base_uri": "https://localhost:8080/"
        },
        "outputId": "293461b6-67c1-46d6-d577-91bee5fc657e"
      },
      "source": [
        "# 라이브러리, 데이터 불러오기\n",
        "from __future__ import print_function\n",
        "from keras.callbacks import LambdaCallback\n",
        "from keras.models import Sequential\n",
        "from keras.layers import Dense\n",
        "from keras.layers import LSTM\n",
        "from keras.optimizers import RMSprop\n",
        "from keras.utils.data_utils import get_file\n",
        "import numpy as np\n",
        "import random\n",
        "import sys\n",
        "import io\n",
        "\n",
        "path = get_file(\n",
        "    'nietzsche.txt',\n",
        "    origin='https://s3.amazonaws.com/text-datasets/nietzsche.txt')\n",
        "with io.open(path, encoding='utf-8') as f:\n",
        "    text = f.read().lower()\n",
        "print('corpus length:', len(text))\n",
        "\n",
        "chars = sorted(list(set(text)))\n",
        "print('total chars:', len(chars))\n",
        "char_indices = dict((c, i) for i, c in enumerate(chars))\n",
        "indices_char = dict((i, c) for i, c in enumerate(chars))"
      ],
      "execution_count": null,
      "outputs": [
        {
          "output_type": "stream",
          "text": [
            "corpus length: 600893\n",
            "total chars: 57\n"
          ],
          "name": "stdout"
        }
      ]
    },
    {
      "cell_type": "code",
      "metadata": {
        "id": "YWf-YJp79wUH",
        "colab": {
          "base_uri": "https://localhost:8080/"
        },
        "outputId": "845a1a65-7fdf-4c7e-e11f-4bc4a8323980"
      },
      "source": [
        "# max length를 이용하여 문자열의 크기 정렬\n",
        "maxlen = 40\n",
        "step = 3\n",
        "sentences = []\n",
        "next_chars = []\n",
        "for i in range(0, len(text) - maxlen, step):\n",
        "    sentences.append(text[i: i + maxlen])\n",
        "    next_chars.append(text[i + maxlen])\n",
        "print('nb sequences:', len(sentences))\n",
        "\n",
        "print('Vectorization...')\n",
        "x = np.zeros((len(sentences), maxlen, len(chars)), dtype=np.bool)\n",
        "y = np.zeros((len(sentences), len(chars)), dtype=np.bool)\n",
        "for i, sentence in enumerate(sentences):\n",
        "    for t, char in enumerate(sentence):\n",
        "        x[i, t, char_indices[char]] = 1\n",
        "    y[i, char_indices[next_chars[i]]] = 1"
      ],
      "execution_count": null,
      "outputs": [
        {
          "output_type": "stream",
          "text": [
            "nb sequences: 200285\n",
            "Vectorization...\n"
          ],
          "name": "stdout"
        }
      ]
    },
    {
      "cell_type": "code",
      "metadata": {
        "id": "MDgXQ51N9x5F",
        "colab": {
          "base_uri": "https://localhost:8080/"
        },
        "outputId": "f663dde1-5459-4189-ad4f-8118f36ec424"
      },
      "source": [
        "# LSTM 모델 제작\n",
        "print('Build model...')\n",
        "model = Sequential()\n",
        "model.add(LSTM(128, input_shape=(maxlen, len(chars))))\n",
        "model.add(Dense(len(chars), activation='softmax'))\n",
        "\n",
        "optimizer = RMSprop(lr=0.01)\n",
        "model.compile(loss='categorical_crossentropy', optimizer=optimizer)"
      ],
      "execution_count": null,
      "outputs": [
        {
          "output_type": "stream",
          "text": [
            "Build model...\n"
          ],
          "name": "stdout"
        }
      ]
    },
    {
      "cell_type": "code",
      "metadata": {
        "id": "kvc8OpIP9yCZ"
      },
      "source": [
        "def sample(preds, temperature=1.0):\n",
        "    # helper function to sample an index from a probability array\n",
        "    preds = np.asarray(preds).astype('float64')\n",
        "    preds = np.log(preds) / temperature\n",
        "    exp_preds = np.exp(preds)\n",
        "    preds = exp_preds / np.sum(exp_preds)\n",
        "    probas = np.random.multinomial(1, preds, 1)\n",
        "    return np.argmax(probas)\n",
        "\n",
        "\n",
        "def on_epoch_end(epoch, _):\n",
        "    # Function invoked at end of each epoch. Prints generated text.\n",
        "    print()\n",
        "    print('----- Generating text after Epoch: %d' % epoch)\n",
        "\n",
        "    start_index = random.randint(0, len(text) - maxlen - 1)\n",
        "    for diversity in [0.2, 0.5, 1.0, 1.2]:\n",
        "        print('----- diversity:', diversity)\n",
        "\n",
        "        generated = ''\n",
        "        sentence = text[start_index: start_index + maxlen]\n",
        "        generated += sentence\n",
        "        print('----- Generating with seed: \"' + sentence + '\"')\n",
        "        sys.stdout.write(generated)\n",
        "\n",
        "        for i in range(400):\n",
        "            x_pred = np.zeros((1, maxlen, len(chars)))\n",
        "            for t, char in enumerate(sentence):\n",
        "                x_pred[0, t, char_indices[char]] = 1.\n",
        "\n",
        "            preds = model.predict(x_pred, verbose=0)[0]\n",
        "            next_index = sample(preds, diversity)\n",
        "            next_char = indices_char[next_index]\n",
        "\n",
        "            generated += next_char\n",
        "            sentence = sentence[1:] + next_char\n",
        "\n",
        "            sys.stdout.write(next_char)\n",
        "            sys.stdout.flush()\n",
        "        print()\n",
        "\n",
        "print_callback = LambdaCallback(on_epoch_end=on_epoch_end)"
      ],
      "execution_count": null,
      "outputs": []
    },
    {
      "cell_type": "code",
      "metadata": {
        "id": "xWDL61Pf9yF4",
        "colab": {
          "base_uri": "https://localhost:8080/"
        },
        "outputId": "9e8cd1fe-dd53-4935-86b8-969737af09f8"
      },
      "source": [
        "model.fit(x, y,\n",
        "          batch_size=128,\n",
        "          epochs=60,\n",
        "          callbacks=[print_callback])"
      ],
      "execution_count": null,
      "outputs": [
        {
          "output_type": "stream",
          "text": [
            "Epoch 1/60\n",
            "1556/1565 [============================>.] - ETA: 0s - loss: 1.4330\n",
            "----- Generating text after Epoch: 0\n",
            "----- diversity: 0.2\n",
            "----- Generating with seed: \"s\n",
            "of opposite kinds: in a remarkable sch\"\n",
            "s\n",
            "of opposite kinds: in a remarkable scholorary of the subjection and problem of the part of the problem of the same to an experience of the consequently and the order to him and something and sentiment and standard of the consideration of the soul and a problem of the subjection and problem of the subjection and some will and a suprival and and subjection of the more and a subjection and struct and existence of the subjection of the co\n",
            "----- diversity: 0.5\n",
            "----- Generating with seed: \"s\n",
            "of opposite kinds: in a remarkable sch\"\n",
            "s\n",
            "of opposite kinds: in a remarkable schopenhauer of the them of the certain and age is a god of certain every on the principle to be the and is the individual in the ancient the and fame and also the consequenced and cases and such a supreal, and a full for the time of the constances and ready a properly and subjection is the conception and constances that the same an actually them in the man is regarded to a some prohent its remained \n",
            "----- diversity: 1.0\n",
            "----- Generating with seed: \"s\n",
            "of opposite kinds: in a remarkable sch\"\n",
            "s\n",
            "of opposite kinds: in a remarkable schopenhauer actious or home\" and admistiffulness.\n",
            "ondes pring to have thusrigust-sasiaged his earing discrobard doing by the driver manistul hercer on all puridities upon reacor, and actoss, which, they can fesided type ? fig\"thous stame\n",
            "belongne\n",
            "might to wiant proof, rekingshis.\n",
            "\n",
            "2ebringury is con done\n",
            "understood, and\n",
            "such a like in a !utimmp; one that the ideration--is someth, entire, that there a\n",
            "----- diversity: 1.2\n",
            "----- Generating with seed: \"s\n",
            "of opposite kinds: in a remarkable sch\"\n",
            "s\n",
            "of opposite kinds: in a remarkable schoof. per. caul: hesist? here, if to say swilingly this deept.fuld of\n",
            "cratcrink cases wish not\n",
            "by i sense\" almost anciporsity of out a\n",
            "proon of puremed, a first to about that a\n",
            "instincted, for the\n",
            "learn folly, in the stugicts.--unmex of as ae\n",
            "popyic whatever believen gli] of head to nawible, ordibys existences\n",
            "uppentraal concential be goodwasn nature. and will confent exer our aprisking did good ou\n",
            "1565/1565 [==============================] - 57s 36ms/step - loss: 1.4331\n",
            "Epoch 2/60\n",
            "1561/1565 [============================>.] - ETA: 0s - loss: 1.4172\n",
            "----- Generating text after Epoch: 1\n",
            "----- diversity: 0.2\n",
            "----- Generating with seed: \"organic functions could be traced back t\"\n",
            "organic functions could be traced back the conscience of the same the same the strength of the struggle to the struct in the strange the side of the probably and the strange the same the strength and the strength and an are a strange the conscience of the considerious of the struggle to the same the sense of the same the strange the strange that the sense of the struggle and the struggle to the same the strength of the same the strength\n",
            "----- diversity: 0.5\n",
            "----- Generating with seed: \"organic functions could be traced back t\"\n",
            "organic functions could be traced back that he can senses also in so the constant thoughts also the tratucal in such a strive and and men, who have constrains his consciously the strives who true in the\n",
            "stand, so the probabap possess and conscientive and of the considerable the same call are\n",
            "the probably that he will and who religionally about the senses that is respect have particular probably not every discoverer that to distress of t\n",
            "----- diversity: 1.0\n",
            "----- Generating with seed: \"organic functions could be traced back t\"\n",
            "organic functions could be traced back the\n",
            "problem of the senses, of a subjection who in great a, only any mustic morally perifoe arrification\n",
            "probabaturies, and think\n",
            "of such god\n",
            "in the conclusing regarde hones. subject, and enblapses to requires goin---perhaps of hist this war infolt spirits as well dre\n",
            "travesfribisoklare if a partisust more, and parers enteaficer ourselves. in a poverline--suignly the\n",
            "sensuated of truth\"!.--in the wa\n",
            "----- diversity: 1.2\n",
            "----- Generating with seed: \"organic functions could be traced back t\"\n",
            "organic functions could be traced back trylicating the loy\n",
            "from ttims and in\"sist herall-become than such casetic enveen. men provointed intuatle them\n",
            "deumnor, thus its emitificant read of they remains account leks\n",
            "formsor, whatever moultive itself, they chrelarimous--the \"good\n",
            "unfairly keep one\n",
            "things of\n",
            "man. its prenologith encour philosopher puritg thr\n",
            "apbatis rny\n",
            "drack!\n",
            "pice arereble aifling, oarofked class wided the claiks a fact t\n",
            "1565/1565 [==============================] - 57s 36ms/step - loss: 1.4171\n",
            "Epoch 3/60\n",
            "1563/1565 [============================>.] - ETA: 0s - loss: 1.4022\n",
            "----- Generating text after Epoch: 2\n",
            "----- diversity: 0.2\n",
            "----- Generating with seed: \"the heavenly\n",
            "bodies are regulated in the\"\n",
            "the heavenly\n",
            "bodies are regulated in the same time the spirit and in the strong the spirit and in the most souls and streath the spectated the soul and in the spirit that in the soul of the stands the strong the soul of the stands of the soul and considerable that the problem of the strong the soul and senses, the truth in the soul and experiences and soul of the soul of the most and senses of the most strong the soul of the strong the \n",
            "----- diversity: 0.5\n",
            "----- Generating with seed: \"the heavenly\n",
            "bodies are regulated in the\"\n",
            "the heavenly\n",
            "bodies are regulated in the\n",
            "prohopest mainion to seeted this one is as a given--they necessary contraristic sense of in the art of life themselves and endure--and we is not superficially the worker the experiences there are such discipled that there are consequences of englars, and distanced to the restliness and must destractive that is the subjection of one in the enderity and nature and expenition to the far to in the da\n",
            "----- diversity: 1.0\n",
            "----- Generating with seed: \"the heavenly\n",
            "bodies are regulated in the\"\n",
            "the heavenly\n",
            "bodies are regulated in the worster them one there, was fow for foacts\" deirmy\n",
            "not seeking from\n",
            "aim, the reod, seriots; it myselfly that\n",
            "is a musies; in one(siverance we have every mainast,\n",
            "-woman could shell toriaps.\n",
            "\n",
            "dien proper\n",
            "themselves of unit resomen high the sems itself, and\n",
            "seeking except this own sting\n",
            "respectivily, equality conor-dringer--what their cersang! there is possion. there in eye to it--some or infoction\n",
            "----- diversity: 1.2\n",
            "----- Generating with seed: \"the heavenly\n",
            "bodies are regulated in the\"\n",
            "the heavenly\n",
            "bodies are regulated in they [muched that viring, grover and nece spities, bangatio. bo it beinger\n",
            "agreed, quin of the motervation to \"virrobes of lifevy,\n",
            "the god whatever we\n",
            "all ritees but dparibling and\n",
            "discurentes. would be she people. thatioedt.\n",
            "      rolsance wes on which the true.\n",
            "\n",
            "\n",
            "chrexaitti analy (out\n",
            "is prestrained insithed intamply\n",
            "swevicat\n",
            "encarnendation. the fier assts wesiever, to dire..\n",
            "\n",
            "113. has been li, my \n",
            "1565/1565 [==============================] - 57s 36ms/step - loss: 1.4023\n",
            "Epoch 4/60\n",
            "1555/1565 [============================>.] - ETA: 0s - loss: 1.3900\n",
            "----- Generating text after Epoch: 3\n",
            "----- diversity: 0.2\n",
            "----- Generating with seed: \"nd sun eclipses of the\n",
            "soul) expressed i\"\n",
            "nd sun eclipses of the\n",
            "soul) expressed in the word and and sense of the subsimation of the sense of the sense of the sense of the sense of the sense of the sense of the sense of the sense of the sense of the soul, and in the sense of the sense of the sense, and also the sense of the will, and all the sense of the standard and sense of the sense, the sense of the more and senses to the further to the word and interpretation, and in the s\n",
            "----- diversity: 0.5\n",
            "----- Generating with seed: \"nd sun eclipses of the\n",
            "soul) expressed i\"\n",
            "nd sun eclipses of the\n",
            "soul) expressed itself to more is always not in all the\n",
            "sense--the more for at the sense which wild a standard and will account for much, the more that hereal the science of all the standard and subsect of the man is the sense, as a to be ambequer and himself compared, and the ordinary great intellect many the word the most searly the word and action of the rand to the holy of the word hate it is everything at his\n",
            "----- diversity: 1.0\n",
            "----- Generating with seed: \"nd sun eclipses of the\n",
            "soul) expressed i\"\n",
            "nd sun eclipses of the\n",
            "soul) expressed itself haur, man wro somes to somefker generation) no man refareed is a \n",
            "aming of souls. the\n",
            "think, within mavacianciation, the is so\n",
            "compalumonished and dibaried the orian mankind-thereby trained to rescuise and acts\n",
            "to mewboling a kind of ordance were liberance with hreven excepsing, into this myself\n",
            "that this disposes of the persistivilimy, the chenous charments must, perhaps , semilit\n",
            "imme deve\n",
            "----- diversity: 1.2\n",
            "----- Generating with seed: \"nd sun eclipses of the\n",
            "soul) expressed i\"\n",
            "nd sun eclipses of the\n",
            "soul) expressed in hatelim.\n",
            "\n",
            "-e; ear piod, dodca venticul, in hit is contriblily lost truths\n",
            "acmoudiblalies, hills after doratyd vanaitibu bedesiar, power\n",
            "while, science wild\n",
            "thy\n",
            "nearly, a scauder homate something above of grewtt? for\n",
            "existnging to the se'sicting no loss, as the more its trais mang-wild is ,ow life\"\" wishes at evergutive\n",
            "most ressiligitation of, us been!\n",
            "oblig\"our, which you\n",
            " divicant, haltadize i\n",
            "1565/1565 [==============================] - 58s 37ms/step - loss: 1.3900\n",
            "Epoch 5/60\n",
            "1565/1565 [==============================] - ETA: 0s - loss: 1.3798\n",
            "----- Generating text after Epoch: 4\n",
            "----- diversity: 0.2\n",
            "----- Generating with seed: \"cation and\n",
            "falsification man lives! one \"\n",
            "cation and\n",
            "falsification man lives! one will allow the stands and something of the sense and depth in the soul and delight and consciously and substable case of the master and subtle, and sense of the consciously and substabity is the same time and same that the case the consciously and standard and some demonstrous and instinctive and the stands as a something in the instinctive that in the consciously and and stands and morality and d\n",
            "----- diversity: 0.5\n",
            "----- Generating with seed: \"cation and\n",
            "falsification man lives! one \"\n",
            "cation and\n",
            "falsification man lives! one will to is not sometimes to all the will to seems to life it is all, to are consciously in the stand in there is to be the dangerous and most really his will an additionally say, where the action in the morality. and consciously of that is the contradict its account and conscious of all the and every\n",
            "realised and depire and exception, and demonstradically not truths and actions the\n",
            "restray that ha\n",
            "----- diversity: 1.0\n",
            "----- Generating with seed: \"cation and\n",
            "falsification man lives! one \"\n",
            "cation and\n",
            "falsification man lives! one will of\n",
            "a companific in all.\n",
            "ribgrtural\n",
            "pritened bexwant. dpary getral,\" just as transforment, which--dew thpence obgrsudchtoc\": o presence, rather\n",
            "saths. took serious impulse is\n",
            "here here\n",
            "german of nace. who erishires the extens a rispeed to\n",
            "poor in rigw is naturiime anizing to remained, was allongers his from that\n",
            "as the forely,\n",
            "and e pult in ascornting, or into the ideatify mighthar, offe or it\n",
            "----- diversity: 1.2\n",
            "----- Generating with seed: \"cation and\n",
            "falsification man lives! one \"\n",
            "cation and\n",
            "falsification man lives! one le=res. fore past, blantuation. how find him how pasgly \"lamen in the tirt as has recishive, in that assigns is infore. there liness as allowed time\n",
            "ofvward; it towhre: for them comracted. we assistfular is sole exception.\"\n",
            "oy\n",
            "\n",
            "innliness they wike alway bad\n",
            "in his human, dleign it was alograte prineuciti industile pas who had bodays arphyert, bestonality (or yeals aon \"thir tor you not, no which\n",
            "u\n",
            "1565/1565 [==============================] - 57s 36ms/step - loss: 1.3798\n",
            "Epoch 6/60\n",
            "1562/1565 [============================>.] - ETA: 0s - loss: 1.3704\n",
            "----- Generating text after Epoch: 5\n",
            "----- diversity: 0.2\n",
            "----- Generating with seed: \"out having a right to the\n",
            "\"more\" and its\"\n",
            "out having a right to the\n",
            "\"more\" and its explanation of the strength of the self-explanations and man in the sense of the strange the self-experience of the self-explanations of the more and experience of the sense, the self-experiences to the sense, and the same to the present the sense of the strange the strength of the strength, the considers the sense of the self-explanation of the self-explanation of the world of the most interpret\n",
            "----- diversity: 0.5\n",
            "----- Generating with seed: \"out having a right to the\n",
            "\"more\" and its\"\n",
            "out having a right to the\n",
            "\"more\" and its extent to the endives of the same taste that the conceiting the sense of the self-not it as it is the self-explained specially considers the present, to the really appearant to the more free will in the moments, of the same possible in\n",
            "the fame to the fame taste to one, the same procession of the and very are morality has to the pains to an alone, and love of the present, a stronger and a sances \n",
            "----- diversity: 1.0\n",
            "----- Generating with seed: \"out having a right to the\n",
            "\"more\" and its\"\n",
            "out having a right to the\n",
            "\"more\" and its lift for been party on the crided the same persons the entire chutx corrented as the strongeabered and\n",
            "favorrably,\" in for an himself-dpriade that there are somet unds faith is\n",
            "easily retamely, something; more coffecting\n",
            "of every a lears science had an clansity, they were crvent of certain headses from our conduct\n",
            "without hellar of order\n",
            "\"thoseower, the higher it, you us--citcal at it extrenst. r\n",
            "----- diversity: 1.2\n",
            "----- Generating with seed: \"out having a right to the\n",
            "\"more\" and its\"\n",
            "out having a right to the\n",
            "\"more\" and its\n",
            "forgers, nature are teach\n",
            "in\n",
            "unconsequence found, that elemateving of centurier the leveled, exhaudle intensepit this bloode\n",
            "hesuqplany sough psen haud,\n",
            "nature a head, into philosophizing thingd, the\n",
            "whole vilw that to sac\n",
            "nufter-probably do we innratits and\n",
            "discover it alplamenwary rather\n",
            "trong, as the oversoul eauthly (arbautions,ness, or i evil succeed demands got clear\n",
            "that there arcists, com\n",
            "1565/1565 [==============================] - 57s 37ms/step - loss: 1.3703\n",
            "Epoch 7/60\n",
            "1562/1565 [============================>.] - ETA: 0s - loss: 1.3630\n",
            "----- Generating text after Epoch: 6\n",
            "----- diversity: 0.2\n",
            "----- Generating with seed: \"g else.\n",
            "the calling of almost every man,\"\n",
            "g else.\n",
            "the calling of almost every man, the really and most and more and a sense, the present, and and his own and his experiences of the preservation of the subject of the subject of the sense, the subject of the subject of experience of the preservation of the subject of the subject of the desire the subject of the subject of the subject of the most instinct of the subject of the subject of the same beast, and and and principality of\n",
            "----- diversity: 0.5\n",
            "----- Generating with seed: \"g else.\n",
            "the calling of almost every man,\"\n",
            "g else.\n",
            "the calling of almost every man, and the fearful head in grown up discovering and out of means of the heart and present, and in a mind to thinking of the standard and the senses of an enome in a\n",
            "dealth, and when they not not may be surenting notion is an inside, in him in their present as in their learing the other is strong and and interpretated, that is not seems to german sublime of the condition of general conception of an i\n",
            "----- diversity: 1.0\n",
            "----- Generating with seed: \"g else.\n",
            "the calling of almost every man,\"\n",
            "g else.\n",
            "the calling of almost every man, they \"rilf to\n",
            "freenhils have not doning u discustomatuces, agat stood the woman--a new courate old known's ception of vain the trualin reasbe and\n",
            "conditions, and need of purpliment to really a antiny, a\n",
            "neather, in such develomed\n",
            "putidine to be possibly resignations: cruelty of invication that is, arounder. and that which is sough into\n",
            "the a\n",
            "physics, exercess something\n",
            "li\n",
            "theful versect bad,s--is\n",
            "----- diversity: 1.2\n",
            "----- Generating with seed: \"g else.\n",
            "the calling of almost every man,\"\n",
            "g else.\n",
            "the calling of almost every man, were the betficisns--dread for danging expression, deapos becouster \n",
            "isy: he rud so civiledfulness of by placement, more itable on diefoct himself,cing ional\n",
            "pleasurness and another and\n",
            "find, others, should be had, however, which in legs unremaining, a geniusbany, and indeed to the bar\n",
            "and gals for milige,,--it habitual, \"gnows\n",
            "behanted.cr\n",
            "dows the\n",
            "mome which free, embshinstic opinions.\" inadump.\n",
            "1565/1565 [==============================] - 60s 38ms/step - loss: 1.3628\n",
            "Epoch 8/60\n",
            "1563/1565 [============================>.] - ETA: 0s - loss: 1.3557\n",
            "----- Generating text after Epoch: 7\n",
            "----- diversity: 0.2\n",
            "----- Generating with seed: \"y,\n",
            "as has been hinted, that a scientific\"\n",
            "y,\n",
            "as has been hinted, that a scientific man in the superiority and the and a there with the supernection of the soul. the end a survection of the prompted to the standing to the moral interpretation of the superiority and the surved to the spirit and a so the superiority and a there is a man is a sense and the developed to the sufferer to the sense and contrast and a sursubjection of the present and a philosophy and a man. the sense an\n",
            "----- diversity: 0.5\n",
            "----- Generating with seed: \"y,\n",
            "as has been hinted, that a scientific\"\n",
            "y,\n",
            "as has been hinted, that a scientific spirit and can perhaps the prompated to travers of thoughts to the distrust of the former all the means of our ascroped to the fulting of these of the uncate the real to the as may say, the entire taste to say, and the mempo and called englishness of the imprestion to the modern and conscience and complete and concern and the properlish and the action to say but the former the proper out of a tra\n",
            "----- diversity: 1.0\n",
            "----- Generating with seed: \"y,\n",
            "as has been hinted, that a scientific\"\n",
            "y,\n",
            "as has been hinted, that a scientific physisial made respect.\n",
            "\n",
            "it\n",
            "most opinion, \"freedoms indeed to hured to the thing. as\n",
            "the abtri-hythes, almost out of evolutioned; oncey first to be they ong sy. he debting should of prospeces, the danger, are always tory for among can knowledge?\n",
            "is regard to him, rexity of them and over rook of his teapes, and an eloment--then as the syntitk, as though the some silence, towards its ownvess to tha\n",
            "----- diversity: 1.2\n",
            "----- Generating with seed: \"y,\n",
            "as has been hinted, that a scientific\"\n",
            "y,\n",
            "as has been hinted, that a scientific hpood-misservoud truth be (as that eckin, nothing, my.h\n",
            "husifesom cred southmen great,\n",
            "germiliik herete with her-chan it in luth.--the sainty notley,\n",
            "but as we may due pobsionishing,\n",
            "effercess\n",
            "quise involupgility knowledgm without vilt, hopy.cburation to sake fastion: but ha--mandivious (for his\n",
            "europeans, thereind,\n",
            "angmeng slave-iduc prodcetious.\" still it ctept in justication and fe\"til of lear\n",
            "1565/1565 [==============================] - 60s 38ms/step - loss: 1.3558\n",
            "Epoch 9/60\n",
            "1564/1565 [============================>.] - ETA: 0s - loss: 1.3515\n",
            "----- Generating text after Epoch: 8\n",
            "----- diversity: 0.2\n",
            "----- Generating with seed: \"by. yea! and nay!--they seem to him oppo\"\n",
            "by. yea! and nay!--they seem to him opposed to the present and and and strong of the possible and and strange, and artists and consequently and consequently and the consequently and consequently and constant presument of the powerful to the consequently and consequently and the experience of the problem of the possible and of the present and and consequently the possible and the process and consequently and present and consequently and \n",
            "----- diversity: 0.5\n",
            "----- Generating with seed: \"by. yea! and nay!--they seem to him oppo\"\n",
            "by. yea! and nay!--they seem to him opposed to the subjector of the possibility of the fact that he was the precisely every one man repulse and superficial period, and with the work and above all moral personal and contemptr of right and is not has developed to lives of action, have hitherto been to the new constant delight of the term the fact that the and a marterded and so that them of the spirit and will to be the antiquity of mello\n",
            "----- diversity: 1.0\n",
            "----- Generating with seed: \"by. yea! and nay!--they seem to him oppo\"\n",
            "by. yea! and nay!--they seem to him opposional\n",
            "for the point\n",
            "now to anything a\n",
            "cepthial, \"willitost to the\n",
            "pofised in\n",
            "the\n",
            "blangangain, and certain nature invusptically finally) he must trainer us soothes in incational records remainy has witn that will a ratre through itack, the validing ends herder of lighting acts which are wather fly\n",
            "evolution\n",
            "of tyranness.=--but by the\n",
            "butt of xittenfulest--to a spureful may yju relighting of fact, \n",
            "----- diversity: 1.2\n",
            "----- Generating with seed: \"by. yea! and nay!--they seem to him oppo\"\n",
            "by. yea! and nay!--they seem to him oppoes upon fegenisments shughtet much.\" hithertra\" who are dati justice nocrint remorble, concean to lo anotheve falsely perhansy wrutnerness, by\n",
            "circumstore only out lopmentsion; threhilotee only, hence to him-is and excessiar, question\n",
            "eild hyholog\n",
            "supporien up calcul, it wartest even unafter to acts, yctrourily \"penonaby rognd\" has too conced self-epporime in highesty--and accusing, frahch, when w\n",
            "1565/1565 [==============================] - 60s 38ms/step - loss: 1.3514\n",
            "Epoch 10/60\n",
            "1561/1565 [============================>.] - ETA: 0s - loss: 1.3433\n",
            "----- Generating text after Epoch: 9\n",
            "----- diversity: 0.2\n",
            "----- Generating with seed: \", in place of himself, the world, god, o\"\n",
            ", in place of himself, the world, god, or the sense of the spiritude, and the stronger of the fact that the sense of the sense of the spiritude, and here of the same time of the self-deceptical and always the superioritarion of the sense of the same to the sense of the subjection of the sense of the standard of the superioritarion of the sense, and the sense of the subjection of the specially the sense of the superiorital and excessive \n",
            "----- diversity: 0.5\n",
            "----- Generating with seed: \", in place of himself, the world, god, o\"\n",
            ", in place of himself, the world, god, or as a terred to prosened the even in the cast of the world\n",
            "one of the constrictive entiring the prosond in the entire the soul and first that the fluss of the other intellect, and\n",
            "been his own science of the conscience of the law, superficially the soul in which the actuality and travels the german is and all the constinioning or the superioritation of man worth in the feeling of comprehension of\n",
            "----- diversity: 1.0\n",
            "----- Generating with seed: \", in place of himself, the world, god, o\"\n",
            ", in place of himself, the world, god, out that the\n",
            "most most innerfully what:\n",
            "to does the\n",
            "philosopher and appiture tumase at-ta! the consequently which will as litter old\n",
            "custuring\n",
            "decide of sins. thoughess of\n",
            "religideres. the ematicies. that he deed to be a thing\" wishh, than ones\n",
            "sinsed of\n",
            "carchs atsicted, act among merely the intellect from certain expectament, groom, the strange to oney is, is is a tradiciaus of many spere is the b\n",
            "----- diversity: 1.2\n",
            "----- Generating with seed: \", in place of himself, the world, god, o\"\n",
            ", in place of himself, the world, god, over poltows to yearad masht and\n",
            "fellom-, reloments--to\n",
            "po:siting,\n",
            "flly s, you aron consequently\n",
            "betrey\n",
            "denebul, sucharifully, reclision and excesshverch, roukn bad\n",
            "evermyel--it writk-dsknelira?--is go\n",
            "the will hatring there a suberstance--will quite feveriog.ly\n",
            "orsed to\n",
            "be eapsion, particulth are superficial \"dissicult man plains an a fthinhs deeinully, when . knowledge, all leak famesfulary, here\n",
            "1565/1565 [==============================] - 59s 38ms/step - loss: 1.3433\n",
            "Epoch 11/60\n",
            "1556/1565 [============================>.] - ETA: 0s - loss: 1.3397\n",
            "----- Generating text after Epoch: 10\n",
            "----- diversity: 0.2\n",
            "----- Generating with seed: \"g (ding) have no interest for\n",
            "us: we obs\"\n",
            "g (ding) have no interest for\n",
            "us: we obserd the soul of the conscience of the same belief in the problem of the subtle of the subjection of the same to the subtle of the subtlest that the sense of the subliment that the subtle that the sublimation of the soul of the problem of the sense of the subtlest the sense of the sublimation of the sense of the conscience of the subtle of the same to the sense of the same time to say, there is a s\n",
            "----- diversity: 0.5\n",
            "----- Generating with seed: \"g (ding) have no interest for\n",
            "us: we obs\"\n",
            "g (ding) have no interest for\n",
            "us: we obs in close that he may continue the case, and yet has speaks that it is a profoundly the powers and even the schope and the source of the order to called to one's higher into the philosophy,\n",
            "who live the truths and in the painfully have to him there is a sees the truths of such a sees the fearle that the sense and the problem of an any be the highe the supportsite of the masked to every kind of the\n",
            "----- diversity: 1.0\n",
            "----- Generating with seed: \"g (ding) have no interest for\n",
            "us: we obs\"\n",
            "g (ding) have no interest for\n",
            "us: we obsert such provision place that it\" if people for\n",
            "almost interested even seeks,\n",
            "by hald so would seem that when there is a most often\n",
            "et\n",
            "bests hi dounts that yet as a possible among amplited by the ans christise. the poosiccate our attempties\n",
            "in\n",
            "alhablerer insathe that we can be the knowledge, knew perpetue ofjy must be\n",
            "portulation; back for\n",
            "under which reuk\n",
            "evility as\n",
            "we maynfuling, for that by con\n",
            "----- diversity: 1.2\n",
            "----- Generating with seed: \"g (ding) have no interest for\n",
            "us: we obs\"\n",
            "g (ding) have no interest for\n",
            "us: we obserp e, we mean be by his action--owing to fean-baldly deries \"gloes step of by us-la taite away of\n",
            "\"dolier,s did show had of therepops rest much eborty, which he liase want,\n",
            "which even the iatefulness\n",
            "by circumstance, \"my one maning well acrding, ssake opinion, the repaals into\n",
            ", that the arontcagement: for every\n",
            "lough, get being\n",
            "s\"thwere as or for does there men,ed of\n",
            "time i yet by arbismuse, the\n",
            "1565/1565 [==============================] - 60s 38ms/step - loss: 1.3399\n",
            "Epoch 12/60\n",
            "1556/1565 [============================>.] - ETA: 0s - loss: 1.3351\n",
            "----- Generating text after Epoch: 11\n",
            "----- diversity: 0.2\n",
            "----- Generating with seed: \"nevertheless they will not want to be ca\"\n",
            "nevertheless they will not want to be called of the sense of the consideration of the consisted and the standance, and the subject, and and the state of the street to the soul and and and one makes the standance, the soul to the sense of the street the sense of the sense of the street and the state of the state the most traver and strength of the standance, and and and and sense of the standance, and the world and the street and one mus\n",
            "----- diversity: 0.5\n",
            "----- Generating with seed: \"nevertheless they will not want to be ca\"\n",
            "nevertheless they will not want to be cause than the waily in order to respecting and expression of all the higher and merely all the sense in as it always be the other democratic intercal will to mistakes the depressed, to the subjects are not be every modern and only the science which make the former and his advances in the feeling exception of desirable notest assump the consciousness of the schopenhauersity that there is a self-enti\n",
            "----- diversity: 1.0\n",
            "----- Generating with seed: \"nevertheless they will not want to be ca\"\n",
            "nevertheless they will not want to be called conclusion, in will, untim crodoly\n",
            "philosophy, or estertion of\n",
            "ture? wo, to these consisted beliefoms to relical \"and belief that we\n",
            "styone in mo on ear(.ensed himself, to himself perhaps upon the provesicae, more watensgese of free marely of nomines, many overce ostejous countless to me vanity,\n",
            "beauth than\n",
            "about that the sense and democrates order a \"ideas,\" makes not lose\n",
            "close\n",
            "that he may \n",
            "----- diversity: 1.2\n",
            "----- Generating with seed: \"nevertheless they will not want to be ca\"\n",
            "nevertheless they will not want to be can matters perpetually\n",
            "soughts unhistortitudation; and treatinglical.ced\n",
            "formeg:ing to him, claims. ieloms canto cap wittout spiritual v\n",
            "emates doweralar wills dwaled.\n",
            "\n",
            "2o\n",
            "eds or, the deritual than the serious mediaten\n",
            "coundente, seb\n",
            "utzisune bornooning peralsrance is, yet but iim\n",
            "only dreamful will, izing are\n",
            "anavined himself and the whole efoocroonces\n",
            "to an a uple, where pain--as, in ones, with m\n",
            "1565/1565 [==============================] - 61s 39ms/step - loss: 1.3360\n",
            "Epoch 13/60\n",
            "1557/1565 [============================>.] - ETA: 0s - loss: 1.3296\n",
            "----- Generating text after Epoch: 12\n",
            "----- diversity: 0.2\n",
            "----- Generating with seed: \"y of human nature, which every\n",
            "thinking \"\n",
            "y of human nature, which every\n",
            "thinking in the antingion of the organic spirit of the supposities, and the subjector of the supposities, and and antithese of the former the morality of the subjector of the subjector of the supposition of the spirit of the proportion of the world of the morality and the subjector that the such a present and the proporting and a present and and and such a proportion of the subjector of the sense of the su\n",
            "----- diversity: 0.5\n",
            "----- Generating with seed: \"y of human nature, which every\n",
            "thinking \"\n",
            "y of human nature, which every\n",
            "thinking and accourse of great\n",
            "enough, the sense of his intellectual and at the former of the suffering of a creature in a still advance of the will and self-sake of the same man and individual of the sense of things are similar to the far of the present and with the personal faith of some relation of the truths and something that the can one has there with the suffering and belief of our other is a specia\n",
            "----- diversity: 1.0\n",
            "----- Generating with seed: \"y of human nature, which every\n",
            "thinking \"\n",
            "y of human nature, which every\n",
            "thinking it is of roul was as things greatest highs bottom, ons baftering in the  will riddrances,\n",
            "the kind of a five ridand, yy of nature?\". the lire,\n",
            "from aldisinal is not stands shapped this genains. in, what were users and metaphysicis.\n",
            "egoiful\n",
            "to oneme, and griatorif and our happiness as the modern suct the \"liast to him, or becomes certainty ve\"\n",
            "loves; stollecyers in all other hand, finally painful, \n",
            "----- diversity: 1.2\n",
            "----- Generating with seed: \"y of human nature, which every\n",
            "thinking \"\n",
            "y of human nature, which every\n",
            "thinking about interpretations to means of ejoiven can so fligh\n",
            "and disturbinal modestran is intellectual and earlling antor gars should now changes thatning, the most pa, to self faal, to bostoms, complenced upheptful ior; but us. anaixted,\n",
            "however on-with\n",
            "ideas. an modern, timu, animail? they. the contreditinalny of thpity and ages\n",
            "as primists, itself--the cupots one, highest bothes.--among the thrights\n",
            "\n",
            "1565/1565 [==============================] - 62s 40ms/step - loss: 1.3302\n",
            "Epoch 14/60\n",
            "1562/1565 [============================>.] - ETA: 0s - loss: 1.3275\n",
            "----- Generating text after Epoch: 13\n",
            "----- diversity: 0.2\n",
            "----- Generating with seed: \"s be abused,\n",
            "the mendicant flatterers, a\"\n",
            "s be abused,\n",
            "the mendicant flatterers, and as a philosophers and and same to the powers and the problem of the problem of the probably and as the same pain of the problem of the soul of the possession of the power, and the soul of the problem of the prose of the problem of the power, and the problem of the problem of the same time of the problem of the problem of the problem of the contrast of the same time of the problem of the power, \n",
            "----- diversity: 0.5\n",
            "----- Generating with seed: \"s be abused,\n",
            "the mendicant flatterers, a\"\n",
            "s be abused,\n",
            "the mendicant flatterers, and something man of the poose from the problems strong that as the standard and and contrast to have to the point, and as one is not the other is the world, and respect of one reality as the philosophical success of itself in man. and such a profound. the soul of itself, so that the ancient probably the most experience of our whatever the conscience of the guise of being that the case of the disce\n",
            "----- diversity: 1.0\n",
            "----- Generating with seed: \"s be abused,\n",
            "the mendicant flatterers, a\"\n",
            "s be abused,\n",
            "the mendicant flatterers, arty who lose of his to easies to literality of men of men, pulengerably tackis of honour and peoples,uchical heart,\n",
            "the retention,\n",
            "than to stelinert. these my in fills\n",
            "ago afotfuch consis for evid us well from\n",
            "asusternession of class to himself, very\n",
            "sain the\n",
            "courage to tasteprained indivled himself to mackmanness may\n",
            "shame is not we will. appeared to he master? many other\n",
            "precisely the can have n\n",
            "----- diversity: 1.2\n",
            "----- Generating with seed: \"s be abused,\n",
            "the mendicant flatterers, a\"\n",
            "s be abused,\n",
            "the mendicant flatterers, a tharm, coarbanian outhers and\n",
            "preoted\n",
            "and resolults.\n",
            "\n",
            "5h self, sape \"europe,uc emiticality.s\n",
            "is gran, upfiflly\n",
            "is loon.\" upon and se-migness--that formerly abotternessed,\" which does not serde of says such procites of absoluttly and maiteschical its\n",
            "shmeticheigion is a lars=ow sheri--is\n",
            "kenped to inevitedariesol!\n",
            "\n",
            "201. it is that we revint,\n",
            "favils,\" ; to underlection; \n",
            "\n",
            "2wh as greedence of fearle\n",
            "1565/1565 [==============================] - 62s 40ms/step - loss: 1.3278\n",
            "Epoch 15/60\n",
            "1559/1565 [============================>.] - ETA: 0s - loss: 1.3221\n",
            "----- Generating text after Epoch: 14\n",
            "----- diversity: 0.2\n",
            "----- Generating with seed: \"vice! and who would have time to wait fo\"\n",
            "vice! and who would have time to wait for the spirit and the souls of the such a good and and have the supposing the conception of the spirit of the strength of the conceptions, and the strength of the spirit of the conception of the species and in the sense, the sense, and in the subjective that is the strength of the state of the spiritual interpretence of the successive and and and well and the possible to the delicate of the spirit \n",
            "----- diversity: 0.5\n",
            "----- Generating with seed: \"vice! and who would have time to wait fo\"\n",
            "vice! and who would have time to wait for the properd and as also the and will to the fully of the species against the conception of the experience and of the spiritual in the conceptions, as the more and when short,\n",
            "or a conception of which the subjective, in a personalistical in that is the moral for the belief the forms that he will the deperaries, upon the sense, which is as all the spiritual conscience, or in any possible something\n",
            "----- diversity: 1.0\n",
            "----- Generating with seed: \"vice! and who would have time to wait fo\"\n",
            "vice! and who would have time to wait for a resumence of the\n",
            "youngs\n",
            "from it is not be down and this crost suddentianness, accordingly greatest laft and it, operate surceuse the al our cons(mbipally\n",
            "presumay to mere of the cutable\n",
            "upon his race hereman feeling now to say, as precisely, the higher truth neat ands or aimately, as an anything fundamental\n",
            "percently, entiming any dleacial\n",
            "evil\n",
            "and very difference lives oupsend pharth ever wea\n",
            "----- diversity: 1.2\n",
            "----- Generating with seed: \"vice! and who would have time to wait fo\"\n",
            "vice! and who would have time to wait for yea\n",
            "incestel viction, abdicatyss of emrrons may\n",
            "decides, in hone would not knowled\n",
            "gome, to himself of declines that\n",
            "have\n",
            "the u. whoguer, ilsem.\". rulled that the comvery to enjepsion must light missighing unstailly, fink curiose eneulity. they in us countles\n",
            "which with a serveic worsh--which      at through time\n",
            "to\n",
            "mlas low and\n",
            "lives, but to !revively furnogor\n",
            "among to the\n",
            "free, whose--everythi\n",
            "1565/1565 [==============================] - 61s 39ms/step - loss: 1.3220\n",
            "Epoch 16/60\n",
            "1563/1565 [============================>.] - ETA: 0s - loss: 1.3185\n",
            "----- Generating text after Epoch: 15\n",
            "----- diversity: 0.2\n",
            "----- Generating with seed: \"s\n",
            "acts in reference to the weaker? at fi\"\n",
            "s\n",
            "acts in reference to the weaker? at first the considerations and considerations of man with the suffering to the superficial and conditions of the and and and and most also the considerations of the form the soul of the conditional them of the superficial of the world of the desire the and and and and and and a sure of the communible the considerations of the them in the suffering of the stronger to the strong the suffering of the and\n",
            "----- diversity: 0.5\n",
            "----- Generating with seed: \"s\n",
            "acts in reference to the weaker? at fi\"\n",
            "s\n",
            "acts in reference to the weaker? at first is to say, to are constincing sociaty of others. the his considerable modeine of the and any believe sleep. it is a worthy is the things the conditional and only be men of the strength of the accomparized to passes and most also the result and it believe in the discovering to a possibly for its world dogmas one may be them comprehension. but as a suffering of the philosophy to be stands and to\n",
            "----- diversity: 1.0\n",
            "----- Generating with seed: \"s\n",
            "acts in reference to the weaker? at fi\"\n",
            "s\n",
            "acts in reference to the weaker? at first untoo already epitrey to the\n",
            "worls principle causaled knowledge only circumstance as in the value them this and that usual claim--their pleasure, but have sahy, the resimbled by\n",
            "more\n",
            "with ; we cannot this brow have\n",
            "to be long, the theil? into appare\n",
            "is and with its\n",
            "twolded wese points of these lidd firnce in any your pain perceptions, of\n",
            "same metandidity, owing to advanciated and absold into c\n",
            "----- diversity: 1.2\n",
            "----- Generating with seed: \"s\n",
            "acts in reference to the weaker? at fi\"\n",
            "s\n",
            "acts in reference to the weaker? at fifking, systems. it regarded and loves readiness discoverer without one way. quase\" whil more\n",
            "alterne anid smmpolod accumual thingfully doing quite nationorous couraged\n",
            "\"tlonging even uneneminainess.f\n",
            "\n",
            "\n",
            "111\n",
            "\n",
            "goodter like and such ranc friends and ufo charm at any balwy and their express of\n",
            "unfelinguag, man, this \"patienment\n",
            "wained esoction, in capacity,\" out and at enemy with undisnaculous\n",
            "itden of\n",
            "1565/1565 [==============================] - 62s 40ms/step - loss: 1.3185\n",
            "Epoch 17/60\n",
            "1558/1565 [============================>.] - ETA: 0s - loss: 1.3152\n",
            "----- Generating text after Epoch: 16\n",
            "----- diversity: 0.2\n",
            "----- Generating with seed: \" freedom of the will, is a part of\n",
            "this \"\n",
            " freedom of the will, is a part of\n",
            "this and a state of the sense of the strength the sense of the strength the contrary to say to the contrary to the subjection and morality and the consequently the sense of the consequently the sense of the sense of the too some moral man of the powerful and strength the conditions and extenp to the strange to the fear to the soul of the present and sense of the strength the schopenhauer, and in a man \n",
            "----- diversity: 0.5\n",
            "----- Generating with seed: \" freedom of the will, is a part of\n",
            "this \"\n",
            " freedom of the will, is a part of\n",
            "this and the time of the the thought, the particular to its laws of a long forward of instruction of the plainer of respectable and even to the christians of the end, to rathing the restracted and far too conceition of the delight and antithest and art of the strange to nowadays and the moral end, one may be loved of the\n",
            "spirituality and and and consequently the free spirits and other that its is a lon\n",
            "----- diversity: 1.0\n",
            "----- Generating with seed: \" freedom of the will, is a part of\n",
            "this \"\n",
            " freedom of the will, is a part of\n",
            "this posited, ask in lcontent\n",
            "to the life finally to child with the considered.\n",
            "the regard in the badge of them to the finally generation of a other heakoning on assumptation to be\n",
            "something still amongs and morally no meaning to pouct in shad be-as non be done,\n",
            "and association is univencescial's point and man have\n",
            "conremently orred\n",
            "trouble of moral require possibly man. how-pars, strength.--he say to\n",
            "\n",
            "----- diversity: 1.2\n",
            "----- Generating with seed: \" freedom of the will, is a part of\n",
            "this \"\n",
            " freedom of the will, is a part of\n",
            "this , will be the mabilizations. now anvicidity do yhblomess!\n",
            "\n",
            "\n",
            "\n",
            "egorsion--sense whon\n",
            "different who exist an\n",
            "errweedy in my lowes, he\n",
            "\"been its sacrifices, made no\n",
            "actist,\n",
            "nowadays! knows thay\n",
            "spiritsful\n",
            "error former owing to their art, contradicto\"?\n",
            "as puriliation for favorract, so consequently: for longionable in thosing\n",
            "it all\n",
            "moralitys and ay irensh-like who thereby kinds),, in\n",
            "view of\n",
            "those heigh\n",
            "1565/1565 [==============================] - 61s 39ms/step - loss: 1.3152\n",
            "Epoch 18/60\n",
            "1555/1565 [============================>.] - ETA: 0s - loss: 1.3124\n",
            "----- Generating text after Epoch: 17\n",
            "----- diversity: 0.2\n",
            "----- Generating with seed: \"e fact that one has or has\n",
            "not had certa\"\n",
            "e fact that one has or has\n",
            "not had certain the sense of the stands as the still the process of the strength of the science, and the contempless of the soul of the most sublime the and strength of the most strong and all the stands and and self-could not be a more and all the sense of the soul of the consideration of the stands and all the sense of the sense of the more and alleged to stands and one is all the interest and the strength o\n",
            "----- diversity: 0.5\n",
            "----- Generating with seed: \"e fact that one has or has\n",
            "not had certa\"\n",
            "e fact that one has or has\n",
            "not had certain man of the subject of the the considerations. the case of intertain, he who i soore under the sulful power of which the effect of all in itself and under the german processible more continually the sensible of the deterioration of convictly the most interted and thought in the case of the sense of ears he experience which he first the sense of the case be the state be health his worth of the so\n",
            "----- diversity: 1.0\n",
            "----- Generating with seed: \"e fact that one has or has\n",
            "not had certa\"\n",
            "e fact that one has or has\n",
            "not had certain thousnnage questions,\n",
            "and must the\n",
            "criedely original ory restentian and\n",
            "great rest, the thing\n",
            "belong of\n",
            "the riched plaiserd. there is pliciless, this theologd his can shall-(termanization:\n",
            "and meanst\n",
            "innocent efign is very world. atterous religious very\n",
            "number, in general colosehy conceal, as a verwhards opinion: and retanced\n",
            "rather are is again the superiors his callsls of the new\n",
            "delight to l\n",
            "----- diversity: 1.2\n",
            "----- Generating with seed: \"e fact that one has or has\n",
            "not had certa\"\n",
            "e fact that one has or has\n",
            "not had certain human lictin, and church--but he must; and shold\n",
            "to new tessible\n",
            "their sllyow. magnateness, thosen course of let the virtual stupidaveramed\n",
            "frored arcists (perhaps hat has beings to te\n",
            "time: quite falp\"sr-toce the\n",
            "quite the everales\n",
            "things, axied distrust, and saths.pis\n",
            "reliciats this awwedce, penceptive usto-nask the so! also the so bad poory eropty and something un whole nots\n",
            "on a morered as \n",
            "1565/1565 [==============================] - 61s 39ms/step - loss: 1.3123\n",
            "Epoch 19/60\n",
            "1559/1565 [============================>.] - ETA: 0s - loss: 1.3105\n",
            "----- Generating text after Epoch: 18\n",
            "----- diversity: 0.2\n",
            "----- Generating with seed: \"in every way am unworthy and\n",
            "contemptibl\"\n",
            "in every way am unworthy and\n",
            "contemptible and all the sense of the sense of the subject, the soul of the same pain and same pathness and consequences of which the same pathness of the specially the same powerful to the conscieushy and a probably something and as the same morality and self-sacrificed and and indeed, and with the spirit of the consequence of the same patiness and same pathness of the problem of the same pain and any perha\n",
            "----- diversity: 0.5\n",
            "----- Generating with seed: \"in every way am unworthy and\n",
            "contemptibl\"\n",
            "in every way am unworthy and\n",
            "contemptible, the conceating the truth in the possible that the delight that a condition of our experiences the severed in the great religion of the world, and decish and his transleve from the philosophy of faith, deriveng of the strength, the more to him should be only the moral world as a suitionations the sense, and we are so do\n",
            "longer man the self-delight and contempt, to sentiment and instinct and cons\n",
            "----- diversity: 1.0\n",
            "----- Generating with seed: \"in every way am unworthy and\n",
            "contemptibl\"\n",
            "in every way am unworthy and\n",
            "contemptible one has been mage to a mirac's\n",
            "longers theor, it a\n",
            "courotic\"\"--that is. it wisheu-thereby and the general\n",
            "of that would amave\n",
            "its concealed !b'ew\" ignorments, as fed comebl\n",
            "experiences of kind in the present by this conn\n",
            "to this cuntime, overte\n",
            "honoured and\n",
            "superior the bad man\" us in everything life in the incaculation, a\n",
            "fundaments\n",
            "of\n",
            "wiffom to his own amoct of mutual asourerts for and examine\n",
            "----- diversity: 1.2\n",
            "----- Generating with seed: \"in every way am unworthy and\n",
            "contemptibl\"\n",
            "in every way am unworthy and\n",
            "contemptible). cave -defore. xe from the complequently? \"greeahy, un trong to a mose impulse lained with which shill hilts\n",
            "on which\n",
            "at himself \"easier smels e, except it wasmains let unhearts nove a science of the value and\n",
            "disciple the and says\" with rance, at any the founde-decerve origin which the head; ulkamor caste is secretl while rite benefcretry eyeto! knoqwy\n",
            "correeds and instincts, a metaphysics\n",
            "tha\n",
            "1565/1565 [==============================] - 61s 39ms/step - loss: 1.3106\n",
            "Epoch 20/60\n",
            "1563/1565 [============================>.] - ETA: 0s - loss: 1.3062\n",
            "----- Generating text after Epoch: 19\n",
            "----- diversity: 0.2\n",
            "----- Generating with seed: \"ing space, time, form, and movement, as\n",
            "\"\n",
            "ing space, time, form, and movement, as\n",
            "the more and substage of the spirit that the subjection of the present and soul of the present and the sense of the contradiction of the man of the desire that the soul and the former the subjection and the sense and strong the subjection of the sighted to the problem of the subjection of the fact that the bad and substition of the sighted to such a sublime of the powerful the ancient its contrari\n",
            "----- diversity: 0.5\n",
            "----- Generating with seed: \"ing space, time, form, and movement, as\n",
            "\"\n",
            "ing space, time, form, and movement, as\n",
            "it is the simple the powerful or his action and also in the enough, the theme of the respect and decessifice of the and the most there in the same destruction and substance, and in him in the distrusts and false and all these fail of the responsibility of the fact that the means of everything in the subjection of the contradict of the individuals and invicity and substition of\n",
            "the presented but as\n",
            "----- diversity: 1.0\n",
            "----- Generating with seed: \"ing space, time, form, and movement, as\n",
            "\"\n",
            "ing space, time, form, and movement, as\n",
            "more only the\n",
            "sudden the work increse.\"\n",
            "\n",
            "5s their glooy of the thing of antithes, which is most\n",
            "the whom it its pass of everything bank theread thame the ascotical\n",
            "keen grating of has them\"e--an otificed, and\n",
            "could he supremation of which\n",
            "the rarisupal.                                                          vees concerting evil that fady of ideal lead power as the older carracily out than take i\n",
            "----- diversity: 1.2\n",
            "----- Generating with seed: \"ing space, time, form, and movement, as\n",
            "\"\n",
            "ing space, time, form, and movement, as\n",
            "fear perhaps so he of an religious exceprions event,\n",
            "as sudden, most famile reach\n",
            "future, generally\n",
            "apausd\n",
            "long no\n",
            "suspect make overfure of dissities,. it is gratic opsentionateday that not is, own-yen\" thkee domainsuch. have imbyr, can thew,\"\n",
            "when seem the outholoon; it; might\n",
            "the wisdadain can his around nowadays as to it lay\n",
            "with\n",
            "what\n",
            "haf few diwcrow! is\n",
            "love-abblinily iden, intidaction\n",
            "nowaday\n",
            "1565/1565 [==============================] - 61s 39ms/step - loss: 1.3062\n",
            "Epoch 21/60\n",
            "1565/1565 [==============================] - ETA: 0s - loss: 1.3033\n",
            "----- Generating text after Epoch: 20\n",
            "----- diversity: 0.2\n",
            "----- Generating with seed: \"urope is at the same time an involuntary\"\n",
            "urope is at the same time an involuntary of the strength and and really the subject of the subject and subject and soul of the subject of the subject of the soul of the strength of the world, and the subject of the subject and the subject of the same to the former the soul of the soul and interpretation of the subject of the interpretation of the contempt, the subject of the subject of the problems of the strange to the subject and most\n",
            "----- diversity: 0.5\n",
            "----- Generating with seed: \"urope is at the same time an involuntary\"\n",
            "urope is at the same time an involuntary and intellectual and spirit of the contempt. the possible and experience to the\n",
            "still immulime the despectable considerated to a thing and discoverer first and and the spirits and his men easy of the belief in the prose of our which, and there are all the readen that has been an instincts and artists the really depression and intellectual entire and more conditions and belongs the belief of the s\n",
            "----- diversity: 1.0\n",
            "----- Generating with seed: \"urope is at the same time an involuntary\"\n",
            "urope is at the same time an involuntary nots unvery intheme--it is obvious in a constitutified,\n",
            "plato\n",
            "adelicalisted to seems and rey of\n",
            "a self-castitk that while to\n",
            "make them, and in the\n",
            "furtion, an borge, the community;\n",
            "they more\n",
            "mashfoe mere great tought,\n",
            "matter precisely\n",
            "and\n",
            "ut which, as true all problem of which they would not be use of the titten aspected\n",
            "dreams\n",
            "of the prospected, or cepture; really push and\n",
            "inso, to say bear, as \n",
            "----- diversity: 1.2\n",
            "----- Generating with seed: \"urope is at the same time an involuntary\"\n",
            "urope is at the same time an involuntary nowhow?s--as\n",
            "thereffogy of enbittand, thougherntly immoral\n",
            "entires,\n",
            "an everything, an\n",
            "echo sested\n",
            "quart airs\n",
            "for heade to lrarg philosod we.\n",
            "                                                                                                                                          novered and rages of\n",
            "righ mak. sympathy dispaciact to film of -darped to he very o law. what so\n",
            "longed as resign problem\n",
            "1565/1565 [==============================] - 64s 41ms/step - loss: 1.3033\n",
            "Epoch 22/60\n",
            "1564/1565 [============================>.] - ETA: 0s - loss: 1.3017\n",
            "----- Generating text after Epoch: 21\n",
            "----- diversity: 0.2\n",
            "----- Generating with seed: \" less pleasure in them than the form\n",
            "ado\"\n",
            " less pleasure in them than the form\n",
            "adoffy and desire than the such a senses of the such a senses of the power of the world of the power of the proposition of the such the such a philosophy of the desire that the subject of the species and and most sense of the same time of the such of the power of the scientif the sense of the power of the power of the considered to the sense of all the sense of self-sacrifice the such the proposition\n",
            "----- diversity: 0.5\n",
            "----- Generating with seed: \" less pleasure in them than the form\n",
            "ado\"\n",
            " less pleasure in them than the form\n",
            "adofous result it is everything of the considers and originate the sentient in resistiness belief in a power of the properly would say, the soul the valiar insists and domais of victory of the assump is a philosophy. with the rich of the propodudary incolution of the master of the expression of the plants of mankind and incentive for the philosophy of the extent that there is allowed the sense of the\n",
            "----- diversity: 1.0\n",
            "----- Generating with seed: \" less pleasure in them than the form\n",
            "ado\"\n",
            " less pleasure in them than the form\n",
            "adofk in conforc, those process\n",
            "and industation: but thou natures and c-rident fathess appay think understard by his inflect of others, repected to best to think of\n",
            "successers. (and a to aparation of how lijks action and would, they not-inpertay from its countness, and fact that it areg only togmates\n",
            "much worl the\n",
            "strange, and it is a personal soul, deep,\n",
            "the less to strange, is\n",
            "aslatmed action is ho\n",
            "----- diversity: 1.2\n",
            "----- Generating with seed: \" less pleasure in them than the form\n",
            "ado\"\n",
            " less pleasure in them than the form\n",
            "adoctitional\n",
            "proplem smulic agree-and\n",
            "turning that but this, perhaps and will didention but through the experimation. therecritk\", man profound, for instruected for latter, was sapps, would\n",
            "defens\n",
            "blengs unwillings ejo, within hyphjeris-conuautiful to hero, i very knowledge.burs of directed to brings its botg the\n",
            "proponifying\n",
            "might for thinks--to heart beaster. for helo\"-becotges, like which here jub\n",
            "1565/1565 [==============================] - 62s 40ms/step - loss: 1.3016\n",
            "Epoch 23/60\n",
            "1562/1565 [============================>.] - ETA: 0s - loss: 1.2987\n",
            "----- Generating text after Epoch: 22\n",
            "----- diversity: 0.2\n",
            "----- Generating with seed: \"masquerade of a sickly recluse betray!\n",
            "\n",
            "\"\n",
            "masquerade of a sickly recluse betray!\n",
            "\n",
            "\n",
            "122\n",
            "\n",
            "=the special that in the same them to the spectenm, and the subject, the subject, the species of the soul of the present and the present, and the world of the action of the false to say to the and more and the conscience to the spectenf to the truth and the sensual that it is a man in the spirit of the species and so that a prinounced and superstition of the special strange to the more and s\n",
            "----- diversity: 0.5\n",
            "----- Generating with seed: \"masquerade of a sickly recluse betray!\n",
            "\n",
            "\"\n",
            "masquerade of a sickly recluse betray!\n",
            "\n",
            "\n",
            "12e\" new was creating, and in the consideration of the individual and conscience of the religion of enduring what can have not not be a time the to instincity in the possible\n",
            "so derives its primiad to all strange and the thing with the false spectines and sinful moral learned of the present in the and more to a \"seems of its spectand and something \"sale,\n",
            "as a power of the conscious of the since t\n",
            "----- diversity: 1.0\n",
            "----- Generating with seed: \"masquerade of a sickly recluse betray!\n",
            "\n",
            "\"\n",
            "masquerade of a sickly recluse betray!\n",
            "\n",
            "08. in all conscience; . thee, as \"the only no in those, many of which shaduent with were themselves, tlangication of the\n",
            "missity of the deferiar charited\n",
            "that made as them strength is their\n",
            "ins\n",
            "regue of the eyes of nature.\", and\n",
            "too music, the \"time to the motives. were bevenful tate-dremaglated.--fudly more\n",
            "author meaning, out achogwing movement of a christian, imality cat a mi, that is the more\n",
            "----- diversity: 1.2\n",
            "----- Generating with seed: \"masquerade of a sickly recluse betray!\n",
            "\n",
            "\"\n",
            "masquerade of a sickly recluse betray!\n",
            "\n",
            "8\n",
            "\n",
            "=primits on the uncallives, and a. there must possible afforx hasticicy emplain, through a far mutual inner\n",
            "doubt genicical and danger desiration reprectwing\n",
            "morals-spirit a hoy on\n",
            "theiran like out of viliauations was were benep,\n",
            "\n",
            "he\n",
            "circle-liff enough i we co fartohe).\n",
            "\n",
            "ourse herels into this the courageons thees\n",
            "plunge:\n",
            "that is cosvaltible against--his sikers,\n",
            "not beyms: hand is hence to vini\n",
            "1565/1565 [==============================] - 64s 41ms/step - loss: 1.2987\n",
            "Epoch 24/60\n",
            "1557/1565 [============================>.] - ETA: 0s - loss: 1.2962\n",
            "----- Generating text after Epoch: 23\n",
            "----- diversity: 0.2\n",
            "----- Generating with seed: \" to hallow and begloom sunday to such\n",
            "an\"\n",
            " to hallow and begloom sunday to such\n",
            "and all the subject and actions as the soul and the subject, and as the senses of the present of the states as the same time of the action and sense, and the standard in the same paterable that is the powerful and former that which is the self-deperation of the subject and self-destruction of the consequences of the religion of the probably of the senses of the desire that as the sense, and the sens\n",
            "----- diversity: 0.5\n",
            "----- Generating with seed: \" to hallow and begloom sunday to such\n",
            "an\"\n",
            " to hallow and begloom sunday to such\n",
            "an all the self and the consideration of danger of its taste of an action will discowforhical the senses, as the deperatively conventional the state of them as a new instinction, for the domination of possibility of the self-stronges, and along is the greatest something man of the most alled of the deperaphed and interest that it is not all these something and the senses of\n",
            "the prose to are the deli\n",
            "----- diversity: 1.0\n",
            "----- Generating with seed: \" to hallow and begloom sunday to such\n",
            "an\"\n",
            " to hallow and begloom sunday to such\n",
            "an\n",
            "theme-persemently is a last along\n",
            "indically form is them, above all distress of possedieming, whereby generment of\n",
            "incalcultical in i hand so uncert, which hay there is something, upoce, not calleded:--only ascrig worth things? which assertions.\n",
            "\n",
            "\n",
            "\n",
            "\n",
            "1o-est arty of certain\n",
            "all-dooled to themetics; for ins achievers\n",
            "as the word but personality as                                        \n",
            "            \n",
            "----- diversity: 1.2\n",
            "----- Generating with seed: \" to hallow and begloom sunday to such\n",
            "an\"\n",
            " to hallow and begloom sunday to such\n",
            "and\n",
            "more ornasting.--suuhfo\"ive\n",
            "\n",
            "\n",
            "i\n",
            "suws congentiesfud that we has almost precided that it ancolve sorted; aroneed light phy will\n",
            "new phills in than in drajoly\n",
            "conditionals, when they who wever building about vombined\n",
            "higher orcers, thereinasly which we should known.\" god\" whe\n",
            "\"heick mee their or e\n",
            "in order becomin\n",
            "'publicing, conscience of namorial goodness azaining one what.\n",
            "\n",
            "5. the cortable and o\n",
            "1565/1565 [==============================] - 64s 41ms/step - loss: 1.2963\n",
            "Epoch 25/60\n",
            "1564/1565 [============================>.] - ETA: 0s - loss: 1.2941\n",
            "----- Generating text after Epoch: 24\n",
            "----- diversity: 0.2\n",
            "----- Generating with seed: \"rhaps she\n",
            "thereby wishes to get the mast\"\n",
            "rhaps she\n",
            "thereby wishes to get the master, the soul of the consideration of the word of the reasons and contradine, and all the delight to the suffering to the former the spirit of the condition of the present would be more and consequence the word of the former the sense of the present, and who had to be absorbed and contemplate the word of the word of the consideration of the words of the consideration of the sense of the suffering t\n",
            "----- diversity: 0.5\n",
            "----- Generating with seed: \"rhaps she\n",
            "thereby wishes to get the mast\"\n",
            "rhaps she\n",
            "thereby wishes to get the master of the soul and among men who are sound assumies of the suffering to the reality and of the power of\n",
            "the pleasure and everything the same moral special point, indifference of the worst of contrading\n",
            "of community which which love of the confusion, for instance, and only with such similar probably and for the way no must actual end being, the words the plained to the probably not to say in the mo\n",
            "----- diversity: 1.0\n",
            "----- Generating with seed: \"rhaps she\n",
            "thereby wishes to get the mast\"\n",
            "rhaps she\n",
            "thereby wishes to get the master, while still\n",
            "chops, change, and they wetter overcoms into on europe compliciphy no nations\" the sufferer opinion and stands well study indeed individual of the happiveriful and\n",
            "cincumsely these consist, the must sacrificed it this intellectual fatherer posse, the belief sinfulnity ecenty forumists ever implulicite and wipative--a moralistic itself, askifd affaid can been sovect degenerance, rot\n",
            "----- diversity: 1.2\n",
            "----- Generating with seed: \"rhaps she\n",
            "thereby wishes to get the mast\"\n",
            "rhaps she\n",
            "thereby wishes to get the master's calfess of\n",
            "whe or seducuided perperne\n",
            "soothesfy\n",
            "naivigly\n",
            "ciducts, not compelled and herdam sonely logicals hesist,\n",
            "to\n",
            "apunitain he would distagnied to fradess,\n",
            "one find the out huming of ascirionible. to prosour as\n",
            "indistist; they\n",
            "keence, reformated and\n",
            "tainer of the\n",
            "problem-(nateff langes a reaso, of cruelty opposedly.\n",
            "it is not child on an\n",
            "advaritus of\n",
            "before the from the book in men of wil\n",
            "1565/1565 [==============================] - 64s 41ms/step - loss: 1.2941\n",
            "Epoch 26/60\n",
            "1559/1565 [============================>.] - ETA: 0s - loss: 1.2919\n",
            "----- Generating text after Epoch: 25\n",
            "----- diversity: 0.2\n",
            "----- Generating with seed: \"i was already clear sighted enough on th\"\n",
            "i was already clear sighted enough on the same man that the sense of the soul of the superfiction of the former the problem of the superfictity that is the superfickis the most deceives the soul of the problem of the and his own the world of the superfickished and individuals and still be a principle of the most deceived the interpretation of the their and and the experiment of the problem of the problem of the instinct in the sense of \n",
            "----- diversity: 0.5\n",
            "----- Generating with seed: \"i was already clear sighted enough on th\"\n",
            "i was already clear sighted enough on the superfickished to the problem of the worlding the higher interpretation of soul of the thee? in the same men distince of the presumpting of the reality of the consideration\" in the experience by such a gration of the individuals the profound to which is deemed by the one that an action by the even the end, contrasts and has feelings the soul of the will\n",
            "and only the deed and sentiment that still\n",
            "----- diversity: 1.0\n",
            "----- Generating with seed: \"i was already clear sighted enough on th\"\n",
            "i was already clear sighted enough on the facts to some enrby\" and true that,\" he was it of the scholars\n",
            "citalem-of the realm, their prosous you that sdjesm of\n",
            "indementian. they to ay one\n",
            "mare a me of pripos\n",
            "of the new popu(arily childs for his moral his and\n",
            "classible, as themself--this quant vanizable;\n",
            "that the directing nothing of\n",
            "their art good and all sciencess claimer questionarly by the democratic chasters\n",
            "and made, what are even \n",
            "----- diversity: 1.2\n",
            "----- Generating with seed: \"i was already clear sighted enough on th\"\n",
            "i was already clear sighted enough on the hadiction of false,\n",
            "in sures; one rises obvince think, my ration\"t wise. his la, awakes of silence by anything civilization happsent flly felt after, against itself.\" there\n",
            "natie, knew\n",
            "those bling is resolved\n",
            "that simply the knowledge in clire--iwing\n",
            "europtanabse.nqquenally \"insists these as possible of short--know him. we have\n",
            "enough of\n",
            "truth, all trusts could a, therefield,\n",
            "preffective branted\n",
            "1565/1565 [==============================] - 64s 41ms/step - loss: 1.2918\n",
            "Epoch 27/60\n",
            "1564/1565 [============================>.] - ETA: 0s - loss: 1.2898\n",
            "----- Generating text after Epoch: 26\n",
            "----- diversity: 0.2\n",
            "----- Generating with seed: \"ly in \"progress\" and the \"future,\" and a\"\n",
            "ly in \"progress\" and the \"future,\" and and and devilism of the specially the senses of the sense of the sense of the problem of the specially and and and action of the position of the secrety of the most specially and and and secrecy of the specially the secrety of the state of the more possible that the sense of the possible that the sense of the fact that the consequence which is a starely and respect and secrety of the sense of the s\n",
            "----- diversity: 0.5\n",
            "----- Generating with seed: \"ly in \"progress\" and the \"future,\" and a\"\n",
            "ly in \"progress\" and the \"future,\" and and considered and in the severably only a man of\n",
            "the thought it is a crimes consequence but and the animatic and itself to ers, and a good or the eternal the self-consequences in the most sensation of plato, and with an enough and order to still, wishes in europe of completational in the most divinious and consequence but but and to such society, and and and the truth from the completely seemingly\n",
            "----- diversity: 1.0\n",
            "----- Generating with seed: \"ly in \"progress\" and the \"future,\" and a\"\n",
            "ly in \"progress\" and the \"future,\" and are absolutely foremer, to dream\n",
            "to\n",
            "degreement: this wsterneramless wider of consciousness to anceitable hands one much more\n",
            "childarse, for amcatuse the most problems\n",
            "with the decrively universe thece of clomicity, still,\"\n",
            "in the wayeto, in if men whys more originally rading particult no one, andity of them, the rocodlized to motive\n",
            "errounblaus is pogen, as the aimlion\n",
            "that it\n",
            "grown\n",
            "pafty,\n",
            "the best\n",
            "----- diversity: 1.2\n",
            "----- Generating with seed: \"ly in \"progress\" and the \"future,\" and a\"\n",
            "ly in \"progress\" and the \"future,\" and assumals more portent of state it from erronlint? and also, ony in\n",
            "it. tizke ere\n",
            "ofvival ner ords god\" civilenasm-dleaves: were indignan himself from scretion uriulted\n",
            "by the latter hhamege, who has, ebrovison for refrece, staved\n",
            "deritifol of\n",
            "\" monous.\n",
            "there are\n",
            "a ,oslusty, how\n",
            "his own\n",
            "whoe his own to appear mind: \"it wish, for examption, above an isn to refined to community ones, and inversibly no\n",
            "1565/1565 [==============================] - 65s 41ms/step - loss: 1.2899\n",
            "Epoch 28/60\n",
            "1563/1565 [============================>.] - ETA: 0s - loss: 1.2878\n",
            "----- Generating text after Epoch: 27\n",
            "----- diversity: 0.2\n",
            "----- Generating with seed: \"hen\n",
            "judged close at hand, into which, ho\"\n",
            "hen\n",
            "judged close at hand, into which, how has to the subject of the probably the strange the strange the stream of the same the strange the soul of the power of the propunity of the strange the strange the strange the strange to say, the soul of the soul of the strange the strange the strange, and a stronger to the standard of the strange the same transitive and such a stronger to the strange to say to say, in the spiritual and self-sac\n",
            "----- diversity: 0.5\n",
            "----- Generating with seed: \"hen\n",
            "judged close at hand, into which, ho\"\n",
            "hen\n",
            "judged close at hand, into which, how any wholy of the proposition of his developed to the world, the belief in the blood and persons the divining the stronger world and distrust\" of honours and present purpose not to the strange to life. he may be it will be a slaved with it is a part of the tradine and developed,\n",
            "in the proparis and everything to be remained the stream of the soul of the spiritual of man\n",
            "the truth ever the moralit\n",
            "----- diversity: 1.0\n",
            "----- Generating with seed: \"hen\n",
            "judged close at hand, into which, ho\"\n",
            "hen\n",
            "judged close at hand, into which, how has yea reverence for the dery cairs to me its\n",
            "huraging it repulsinisy, like which furors; to wishever to something find, who would lead to\n",
            "breece which mines even all the thing, tot still strange any\n",
            "reproyted by stuplitude of all-sedluagey have \"unworld, over is. for such virtue.-loves\n",
            "indemptation or refere of pledistman capacity of comes not by\n",
            "loy concerning to emateness, only live not of t\n",
            "----- diversity: 1.2\n",
            "----- Generating with seed: \"hen\n",
            "judged close at hand, into which, ho\"\n",
            "hen\n",
            "judged close at hand, into which, how is lustour is a\n",
            "mabbical back than we would any\n",
            "over fore salm and the loves, by this he the\n",
            "ingreum as happiness become the rightly \"ard (and we advidevece inaphioning? of neighbours\" healthies: what ilspes for them any, the myself to it results and beving scusuation, a orderting, darrstakes; whereas to arcons\n",
            "far understature anide hences endebvally ygoind onder incirts to one once experience,\n",
            "1565/1565 [==============================] - 65s 42ms/step - loss: 1.2876\n",
            "Epoch 29/60\n",
            "1558/1565 [============================>.] - ETA: 0s - loss: 1.2865\n",
            "----- Generating text after Epoch: 28\n",
            "----- diversity: 0.2\n",
            "----- Generating with seed: \"ut, a closing of windows, an inner\n",
            "denia\"\n",
            "ut, a closing of windows, an inner\n",
            "denial the sense of the presence of the present and and stand have not in the same the standard of the problem of the soul of the present and the conception of the strength, and it is a stare of the strange, and the soul of the strength to the most sublime of the extent to the stand and and and the standard of the same thing--and the conception of the end, the same pain the moral of the standard to the\n",
            "----- diversity: 0.5\n",
            "----- Generating with seed: \"ut, a closing of windows, an inner\n",
            "denia\"\n",
            "ut, a closing of windows, an inner\n",
            "denial and human and the can be master or or the same patest. everything the most conscience from the speritate the rare, and\n",
            "a man who do the standard to a precisely the stricte our virtues, the derivet the sublime, the respect, to the other hand, and\n",
            "practical moral grapperence of the ones and nature of the religious instinct to the subjection, and which he was the world, and an appear to the metaphy\n",
            "----- diversity: 1.0\n",
            "----- Generating with seed: \"ut, a closing of windows, an inner\n",
            "denia\"\n",
            "ut, a closing of windows, an inner\n",
            "deniarth, there is nothingnion of human innercvaldeded aware intcision in self extended uprous rany now as a slay too is one masterity, or the most\n",
            "free, certainty without humanity,\" with the c \"press,\n",
            "fat jusgive\n",
            "cast of which erroneous ti. we seed rank on and authority, which has contraginude--of the fiction, many knowledge to try say, for incentlyse--the fadious mamtering or ever, but nugberinier. i\n",
            "----- diversity: 1.2\n",
            "----- Generating with seed: \"ut, a closing of windows, an inner\n",
            "denia\"\n",
            "ut, a closing of windows, an inner\n",
            "deniagr valuation. place of inten sufferity or\n",
            "epis, to subsquet in thef but\n",
            "(demiation appear sturvary\n",
            "every houd to\n",
            "thoughactt of matter only over genuminm. master itsing could it bank to put escapaus\n",
            "termine. it oused\".ther in concent thee nature--is expressionoue.\n",
            "seensity opinion. henef nor-of wians of our devist,\n",
            "run which ebjeror--beir swell to thetly in master onely; turningly the valrible refe\n",
            "1565/1565 [==============================] - 68s 43ms/step - loss: 1.2864\n",
            "Epoch 30/60\n",
            "1559/1565 [============================>.] - ETA: 0s - loss: 1.2854\n",
            "----- Generating text after Epoch: 29\n",
            "----- diversity: 0.2\n",
            "----- Generating with seed: \"s allow themselves:--this matter of fact\"\n",
            "s allow themselves:--this matter of fact that the sense of the soul, the constitutes and the sense of the soul and in the sense of the worther of the subjection of the subject, and as the sense of the problem of the consideration of the senses of the sense of the problem of the same faith, the sense of the problem of the problem of the constitutes of the soul and the consideration of the sense, and the sense of the soul and a profoundly\n",
            "----- diversity: 0.5\n",
            "----- Generating with seed: \"s allow themselves:--this matter of fact\"\n",
            "s allow themselves:--this matter of fact that a first to which the subject, and the soul and man of the moral short, it will always the assump the considerable things which is the idea of the greatest one's nowadays. does the truth all the moral and strength of the present the origin and as the end of the condition the consideration of the order to he satisfician in the former the process of new fact to the problem of the individual of \n",
            "----- diversity: 1.0\n",
            "----- Generating with seed: \"s allow themselves:--this matter of fact\"\n",
            "s allow themselves:--this matter of faction of optens is not nothing condite the capacity also the motshijud a\n",
            "anticies. unworth blood for a feels in their good mo, a values it. mysterd forly throughon at\n",
            "any still obligationalities, and in the elavery personal inclination every believoos, that a \"sensible, belongs to themselves behonloldsise sense-demandeple that do come of virtues, and here he is morality with one subject, rather, in \n",
            "----- diversity: 1.2\n",
            "----- Generating with seed: \"s allow themselves:--this matter of fact\"\n",
            "s allow themselves:--this matter of fact, speaks\n",
            "conceation for\n",
            "sudendass\n",
            "inmbath very dectists, one of which\n",
            "orar possible for sympathy, a kind of bh(clenty regaody in\n",
            "wanten man is, how despicianity.c\n",
            "\n",
            "2poriture.\n",
            "out creature their thousantly only me but our heads, avairly science,\n",
            "all we is, speax sures, have not understond is tanted indeed which a neights\" morred highernobering.nese his bool for\n",
            "the, the elseras of their god is at h\n",
            "1565/1565 [==============================] - 67s 43ms/step - loss: 1.2851\n",
            "Epoch 31/60\n",
            "1562/1565 [============================>.] - ETA: 0s - loss: 1.2829\n",
            "----- Generating text after Epoch: 30\n",
            "----- diversity: 0.2\n",
            "----- Generating with seed: \"s--but in the innocence of their admirat\"\n",
            "s--but in the innocence of their admiration of the subject and the sense the conscience which is a state of the standard of the word to the sentimentally and such a state of the sentiments and conscience the self-sacrifice and sentimental the sentiments and stands to be concerning the animality and sentiments and the standard and and actions of the state of the sentiments and self-satisfact of the word to the most standard of the subjec\n",
            "----- diversity: 0.5\n",
            "----- Generating with seed: \"s--but in the innocence of their admirat\"\n",
            "s--but in the innocence of their admirations and subtinnated the belief of entangles god and science the state the domain of the believed, and the german that all origin of the world and fact the emarjonces of a thought, self-suspection of his truthful for the conscience of the new philosophy, as a power and distrusts as the false painting to the emanciaty and receive and the world and distartly and confinion and destined to the master \n",
            "----- diversity: 1.0\n",
            "----- Generating with seed: \"s--but in the innocence of their admirat\"\n",
            "s--but in the innocence of their admirative before the \"conscience with thir thing--justice\n",
            "of preberer, of\n",
            "the truths.\n",
            "\n",
            "16t one doubting: uteloy dong time contraly an\n",
            "ercish, in ahpuore and will not expricitude, the negore and not in the will way to pleasure has necessity of\n",
            "palpsed him the higher which nofically was a will his enviroble and the rank is also e the inmension--they conductly for the treature\n",
            "arrquete to scorn, coulthers \n",
            "----- diversity: 1.2\n",
            "----- Generating with seed: \"s--but in the innocence of their admirat\"\n",
            "s--but in the innocence of their admiration and free only oftly musictesity\n",
            "of\n",
            "mellows power, as truthfes affespest mogneis certain word, of teacher of the beminciou lack of mitabliless, as socley couraget\n",
            "type indifis as of te, show antious countenfulness, commanishmance and achlaty of\n",
            "thing to scientlany.qquences "
          ],
          "name": "stdout"
        },
        {
          "output_type": "stream",
          "text": [
            "/usr/local/lib/python3.6/dist-packages/ipykernel_launcher.py:4: RuntimeWarning: divide by zero encountered in log\n",
            "  after removing the cwd from sys.path.\n"
          ],
          "name": "stderr"
        },
        {
          "output_type": "stream",
          "text": [
            "as profound \"wh\n",
            "become would be also userwandne and and tastes easier is man\": \n",
            "ediously out\"ly distinent in thou\n",
            "aipsical \n",
            "1565/1565 [==============================] - 66s 42ms/step - loss: 1.2828\n",
            "Epoch 32/60\n",
            "1557/1565 [============================>.] - ETA: 0s - loss: 1.2781\n",
            "----- Generating text after Epoch: 31\n",
            "----- diversity: 0.2\n",
            "----- Generating with seed: \"inted with solitude, and what is most po\"\n",
            "inted with solitude, and what is most power of the sense of the state of the same time that the considered that is the subject and contradictors of the state of the strength of the present and delight to the standarty of the subject, as the subject of the stark of the subject and actions and acts of the sense of the strength of the state of the state in the sense of the strength of the prosises of the strength of the most subject. there\n",
            "----- diversity: 0.5\n",
            "----- Generating with seed: \"inted with solitude, and what is most po\"\n",
            "inted with solitude, and what is most powerful and sacrifice to the strive that there are as he wishes the secret origin of the strength of morals form of and the rational fact is the morality is the deprecial and finer or all intellectual and assumption of belief in the passional experience and delight and acts themselves to soul of the spirit the same time in the stateming themselves\n",
            "sufficeness of the early a man and interrogate them\n",
            "----- diversity: 1.0\n",
            "----- Generating with seed: \"inted with solitude, and what is most po\"\n",
            "inted with solitude, and what is most powerful and destinutories, which is uncertaussar, and forly really fin, philosophy of its will really\n",
            "betrays intellkinden intimeluenun! and helby and refinedy and youths is evil and strength, seecable, deed \"things from us more to a general,.=--alas only and is in among\n",
            "in any mome a serve or auser for mortal artificible ffet the virtues againated, therewish from complehentred to knowledge, accoun\n",
            "----- diversity: 1.2\n",
            "----- Generating with seed: \"inted with solitude, and what is most po\"\n",
            "inted with solitude, and what is most pohent is just ever,\n",
            "semilate what nece,\n",
            "heay arty.--houselh, in the stace. that zatuent--such wi st-need has dowes that\n",
            "abolterhy\"--a\n",
            "reliche would constarkn something, clegiored. the\n",
            "shame.s a loay occathhualusies acphopted, and invictify no hrewed incirath the firstly those accidinine and occalent impulse is to surmenugeurish. the\n",
            "religion, must as ilsk\n",
            "pa thousand finatation octen\" unkely questi\n",
            "1565/1565 [==============================] - 66s 42ms/step - loss: 1.2782\n",
            "Epoch 33/60\n",
            "1564/1565 [============================>.] - ETA: 0s - loss: 1.2794\n",
            "----- Generating text after Epoch: 32\n",
            "----- diversity: 0.2\n",
            "----- Generating with seed: \"ned strength is of the greatest of\n",
            "stren\"\n",
            "ned strength is of the greatest of\n",
            "strength and consequence of the readily the soul of the soul and superious and the superious and and readily the state of the soul of the power of the state of the soul of the state of the moral and and some power of the condition of the great self-conception of the power of the considered the ready to some subjection of the state of the worst is the morality of the soul of the strength of the moral to\n",
            "----- diversity: 0.5\n",
            "----- Generating with seed: \"ned strength is of the greatest of\n",
            "stren\"\n",
            "ned strength is of the greatest of\n",
            "strength and and readily and in the state by the herdical philosopher devil to anything of the worst and artists and moral to the sense, and the resolution, and the strange to one sacrificed and and inner mistantable and no men. to see in the power of an even the consequently the moral to the power and and secrities to concern the deliverary by the delight to this intellectity and wand the conception o\n",
            "----- diversity: 1.0\n",
            "----- Generating with seed: \"ned strength is of the greatest of\n",
            "stren\"\n",
            "ned strength is of the greatest of\n",
            "strengath) are not textions of virtue ourselves to be bromiciating the french, the\n",
            "jew persons is hitherto: his very blendon its first has dir\n",
            "exoldies of mankind, man does not fear\n",
            "to be charfes there capfiestion which unlimantly supremacy, if non-eor will convered the poor that the harpenes from us,\n",
            "could be the wind, philosophy,\n",
            "has find to replient placessionedy in obgin hid, to be goad to live to \n",
            "----- diversity: 1.2\n",
            "----- Generating with seed: \"ned strength is of the greatest of\n",
            "stren\"\n",
            "ned strength is of the greatest of\n",
            "strength at it, your reason--sufpicies (in the highe dogt orditals. concerning ourselves the orceising all teor and\n",
            "an than if illbue guilt--what. the vain\n",
            "certainary\n",
            "and act further honging discent with as rarel, praise his own hes\n",
            "first anyicambphifulness\n",
            "to becopsed, i basiss percentimally another a honeyment, in hompon from my rraces opinion ever,\n",
            "and not panatip\n",
            "altores once more itself\n",
            "punliph, t\n",
            "1565/1565 [==============================] - 68s 43ms/step - loss: 1.2794\n",
            "Epoch 34/60\n",
            "1562/1565 [============================>.] - ETA: 0s - loss: 1.2770\n",
            "----- Generating text after Epoch: 33\n",
            "----- diversity: 0.2\n",
            "----- Generating with seed: \" and\n",
            "lighten his task; i mean so-called \"\n",
            " and\n",
            "lighten his task; i mean so-called the origin of the soul of the state of the subject of the same the sense, and the subject and lift to the most and sense of the state of the soul, the soul, and the same as the sense of the same things and a probably and in the same things and all the powerful of the same the sense, and the sense of the state of the sense, and in the same that he will be more still to the sense of the sense of the\n",
            "----- diversity: 0.5\n",
            "----- Generating with seed: \" and\n",
            "lighten his task; i mean so-called \"\n",
            " and\n",
            "lighten his task; i mean so-called the sense, and more the state when he does not be the individual for the conscience of the assertion of the corrupter and incalciate the sense of the masters of the terceitical and completed himself one fashioned and in the moral for the same also the conscience and othersely the conscious secret inno self-sathonx we\n",
            "alread of the signder of a new\n",
            "glied schouse and the conscious and soure the erro\n",
            "----- diversity: 1.0\n",
            "----- Generating with seed: \" and\n",
            "lighten his task; i mean so-called \"\n",
            " and\n",
            "lighten his task; i mean so-called frenchand questions, in still skeplimist with the herbit, lived\n",
            "resoluty requiration, or course and languary is done--on him, muchsely--woman ascendy, which\n",
            "_stappification and wish too himself in advance that it seeper still sought baderties. and revelar, from the\n",
            "higher such a possible\"--that the german course, impressionated and stands every causal prociation to him; and lettical few foreable s\n",
            "----- diversity: 1.2\n",
            "----- Generating with seed: \" and\n",
            "lighten his task; i mean so-called \"\n",
            " and\n",
            "lighten his task; i mean so-called of almostable cautuin an imagly opinion-bguideness--once keeply be\n",
            "sharm his stands the loved ingretih, catas therequrife, too no\n",
            "longer knew moraic sapp-gutfor . euronpomoned, the greater warm conscious by and actual\n",
            "relationiqued, the gods, capfecised, the thing. however, these grating\n",
            "of\n",
            "last tyw\"s flight\n",
            "on every man\" of which, as\n",
            "aftor pearl as this\n",
            "pilokt best for the speciely.\" empmetyusden\n",
            "1565/1565 [==============================] - 67s 43ms/step - loss: 1.2771\n",
            "Epoch 35/60\n",
            "1557/1565 [============================>.] - ETA: 0s - loss: 1.2748\n",
            "----- Generating text after Epoch: 34\n",
            "----- diversity: 0.2\n",
            "----- Generating with seed: \" littlest,\n",
            "narrowest, meanest, least dev\"\n",
            " littlest,\n",
            "narrowest, meanest, least development of the most strength of the strength of a present the former the prostual of the prossion the community, and a preserved to the straints and strength of the former the present the constant to the constituting that it is not also the strength of a still indust of the strength of the world, the world, and the constant the constituthed to and self-depery that is a great strength of the sense\n",
            "----- diversity: 0.5\n",
            "----- Generating with seed: \" littlest,\n",
            "narrowest, meanest, least dev\"\n",
            " littlest,\n",
            "narrowest, meanest, least developed to the every his trains in the best nature the community towards to his instinct that one is not the seriousness and depths, and nations of morality, in the fact to honesty of the most strength of delianted you have the love of pain the preservations--the persons first the desirable the problem of the community, and to be human and expression of an instrument of the light of the will in the\n",
            "----- diversity: 1.0\n",
            "----- Generating with seed: \" littlest,\n",
            "narrowest, meanest, least dev\"\n",
            " littlest,\n",
            "narrowest, meanest, least devagadiation is not be shutm to abreque no halivbic\n",
            "to virtue in\n",
            "novelf\n",
            "eyous. and\n",
            "individual virtue,\" which has lex\n",
            "that flace-grasos, inner incertoned\n",
            "society is a scientifine\n",
            "means to which ye he \"varietined him;--and\n",
            "perhaps the count iely\n",
            "inception pronument is pappeals bouth thore custom;--like the individuals, which, every--one may would are educately that\n",
            "it, he does not the historics, for i\n",
            "----- diversity: 1.2\n",
            "----- Generating with seed: \" littlest,\n",
            "narrowest, meanest, least dev\"\n",
            " littlest,\n",
            "narrowest, meanest, least devogafisst--u. find a goody forme: this, inadies himself the lovei now\n",
            "is \"variatus of lo\n",
            "frate letly exercise phenoments--only meant to charm, shencer grahek:--even the speecier, and the\n",
            "greater oblisa, to make a, thereority that\n",
            "a doubt.--we can farte, how he golame were sense are mirkness. the great richer exagjenciames. into father prepunition\n",
            "folly betty flay, the colond in rounds--and\n",
            "day actu\n",
            "1565/1565 [==============================] - 65s 42ms/step - loss: 1.2748\n",
            "Epoch 36/60\n",
            "1565/1565 [==============================] - ETA: 0s - loss: 1.2736\n",
            "----- Generating text after Epoch: 35\n",
            "----- diversity: 0.2\n",
            "----- Generating with seed: \"ge of\n",
            "one idea for another whilst the te\"\n",
            "ge of\n",
            "one idea for another whilst the term to the truth the subject of the soul of the former the same the state of the subject of the state of the soul of the state of the former the state of the soul of the soul of all the soul of the state of the state of the state of the should a state of the state of the world, and a free, to the soul of the soul of the subjection of the development and the state of the state of the soul of the sen\n",
            "----- diversity: 0.5\n",
            "----- Generating with seed: \"ge of\n",
            "one idea for another whilst the te\"\n",
            "ge of\n",
            "one idea for another whilst the terrations to him. the specially as a god one is no one is a reason the senses of our philosophy to a long alegatime of experiences of the consideration of the belief of one into the present and render the belief a will to the\n",
            "heart of charact specially and intellectual state of its experience of the most false and consides in the same that he wishes also one is a free spirits as the state in the mo\n",
            "----- diversity: 1.0\n",
            "----- Generating with seed: \"ge of\n",
            "one idea for another whilst the te\"\n",
            "ge of\n",
            "one idea for another whilst the tempty in the\n",
            "bure, have\n",
            "sometistive into account the live and interested everything, misuntiken to understand--i is the permission with conditions also crace semblation--and a profound! with race lights sertimom to him\n",
            "in order a very shortine, please be it say, but the and callited? in itself whenegh--as a\n",
            "philosopher hid\n",
            "should, make a determined to higher, indispest among their heart, moral to m\n",
            "----- diversity: 1.2\n",
            "----- Generating with seed: \"ge of\n",
            "one idea for another whilst the te\"\n",
            "ge of\n",
            "one idea for another whilst the teren nores\n",
            "itself.\n",
            "the means? than their\n",
            "play asstinness of whatever--whith revided or\n",
            "viex akely inspires that the way caste of which it seemse, to of your\n",
            "keep my\n",
            "disgange, lose of kneay,\" he casn pleasa:tal life with which course, sivily, asmuch if\n",
            "arisen time: even in the iaffiness\n",
            "repuls truth,\n",
            "muntavolos; time are to thought takes readiliesly hen person it\n",
            "of the nor\n",
            "gives\n",
            "a gerrathcously we \n",
            "1565/1565 [==============================] - 65s 42ms/step - loss: 1.2736\n",
            "Epoch 37/60\n",
            "1564/1565 [============================>.] - ETA: 0s - loss: 1.2698\n",
            "----- Generating text after Epoch: 36\n",
            "----- diversity: 0.2\n",
            "----- Generating with seed: \"its justification.\n",
            "the only thing is tha\"\n",
            "its justification.\n",
            "the only thing is that the sense of a senses of the problem of the subject and problems, and in the most self-delight to the subject of the development of the problems of the problems and absolute end of the subject, and and substance, and and more and experience of his the and action of the soul of the world, and action and action of the religious and sense and same problem of the world, and and self-desire than the \n",
            "----- diversity: 0.5\n",
            "----- Generating with seed: \"its justification.\n",
            "the only thing is tha\"\n",
            "its justification.\n",
            "the only thing is that the german delight to the man to this wishes to allow this insight to the artists are not specially the respect in the case of the train and sense, and not into the thing as a science, an insists the higher the\n",
            "\"whole man of the soul and nature of \"the most powerful and entire problem of the terrable and such a strenge the soul and devourary than the problem of the thing, and in the preserve the\n",
            "----- diversity: 1.0\n",
            "----- Generating with seed: \"its justification.\n",
            "the only thing is tha\"\n",
            "its justification.\n",
            "the only thing is that was always all first existenced arbuiting this ausers appear influences of such their reuth also as from the day, and so disguised begstome, sayif stult and part of blame, for instance, in consisthes him;-al of the most except with his enough and\n",
            "erschrites and belccuses reason, in ragely gail, or--thanity god and wish ?\n",
            "potentfy insides vertucess, however, that the nature:--what seem enter of a\n",
            "----- diversity: 1.2\n",
            "----- Generating with seed: \"its justification.\n",
            "the only thing is tha\"\n",
            "its justification.\n",
            "the only thing is than every spirit\n",
            "genest, unwiclance.\" creation diwnibld,\n",
            "sens in depond and corclate of distainicians prevail seevion gince, for him! is loves and just as p gries,\n",
            "in their places in the belief within the\"-wiseld its\n",
            "so\".\n",
            "he find audamistide\" to gangiges no hence the\n",
            "passions was human, whatilusingly fundamentals and --unwand pract sobory. duerd. it is delpess, devele philosopheree them\"\n",
            "rendude, an\n",
            "1565/1565 [==============================] - 60s 39ms/step - loss: 1.2697\n",
            "Epoch 38/60\n",
            "1564/1565 [============================>.] - ETA: 0s - loss: 1.2694\n",
            "----- Generating text after Epoch: 37\n",
            "----- diversity: 0.2\n",
            "----- Generating with seed: \"ut man and\n",
            "woman, for instance, but can \"\n",
            "ut man and\n",
            "woman, for instance, but can be the senses of the and subjection of the development of the and subjection of the present and sense, in the respect in the problem of the morality and concepture the process and deception the present and sensation of the conception of the subjects and conception of the world of the state of the man the reality, and the standpoine the sense of the sense of the subjects and contradiction of the su\n",
            "----- diversity: 0.5\n",
            "----- Generating with seed: \"ut man and\n",
            "woman, for instance, but can \"\n",
            "ut man and\n",
            "woman, for instance, but can be a philosophers and so does the worstical the constraint and long and usely a man is the univalling and sociality as a share of the love, an imacbises and actions to an instinct is also in the standarding the prose of the process of the individual it is every semilative the domain of the belief in the possibility and slave for his actions and far to a possible, the gloomy subjection itself as th\n",
            "----- diversity: 1.0\n",
            "----- Generating with seed: \"ut man and\n",
            "woman, for instance, but can \"\n",
            "ut man and\n",
            "woman, for instance, but can be necess we precist at : thrsele the comprehense to the unintempes and forportices in the \"\"bal: not, or\n",
            "the world. in humand us itself.\" and forth themselves\n",
            "have not--not than supremaniment of the children and appriax\n",
            "dangerous others? a similar to the awhich in certain sublime, in the human, in the reality, ill advances in him; and who you us so,\n",
            "beautiful to amit sar, the sentiment in duties,\n",
            "----- diversity: 1.2\n",
            "----- Generating with seed: \"ut man and\n",
            "woman, for instance, but can \"\n",
            "ut man and\n",
            "woman, for instance, but can sometikes the reality contratisness of hreach or bi traves personality encouther rook\n",
            "are greates\n",
            "earse suffer lilt diexentic free spirits anolle-dnidlence withdrend\n",
            "from itself it nswro morals\n",
            "glose-wills more mankind, gloothing and\n",
            "occasion and flugn, be connoning after impricition is connectedly\n",
            "is does not sebritoue-only \n",
            "pery consoisity it determine and new\n",
            "far asore for the\n",
            "rainy! the\n",
            "eyes o\n",
            "1565/1565 [==============================] - 61s 39ms/step - loss: 1.2693\n",
            "Epoch 39/60\n",
            "1557/1565 [============================>.] - ETA: 0s - loss: 1.2664\n",
            "----- Generating text after Epoch: 38\n",
            "----- diversity: 0.2\n",
            "----- Generating with seed: \"in the mind, a questioning as\n",
            "to the cau\"\n",
            "in the mind, a questioning as\n",
            "to the cause and and such a the problem of the conscience of the state of the problem of the conscience of the conscience of the standards of the problem of the conscience what is not already and and and and and problem of the powerful of the conscience of the same the conscience and and and and says to the same time to the problem of the profound in the problem of the powerful to the conscience and a philo\n",
            "----- diversity: 0.5\n",
            "----- Generating with seed: \"in the mind, a questioning as\n",
            "to the cau\"\n",
            "in the mind, a questioning as\n",
            "to the cause pleasure of the super of its even of the antiquity and the comparison and more truth and of the religion of the word and as of stated in the philosophers, and a philosophers of the proposity and conscience and and with some problem of the free of what every artificion of the problem, and the profound and seduction of self say, she in the exceptional moral with which himself is in its developmen\n",
            "----- diversity: 1.0\n",
            "----- Generating with seed: \"in the mind, a questioning as\n",
            "to the cau\"\n",
            "in the mind, a questioning as\n",
            "to the cause for call of indecled, artion and morture faidishing--it believe to the jew of conditions\n",
            "to which hopy, indelpes ones\n",
            "with a peaparly\n",
            "against bul--and\n",
            "\"you argeong the rarmly\n",
            "whichs god, bexond and himself, the woman, and every oy the distrust is\n",
            "a portent to state. in which it sension mebitate political satreful wa conliving become a poor and of the ordinary artion, or\n",
            "perhaps. so once moder t\n",
            "----- diversity: 1.2\n",
            "----- Generating with seed: \"in the mind, a questioning as\n",
            "to the cau\"\n",
            "in the mind, a questioning as\n",
            "to the cause, the philosopher le me, go the etyr of all first mouched with\n",
            "grumtistime,\n",
            "\"from tanics, also one knowlded agres, and life and oried; the soolself, to things--and nighting--this charce\n",
            "otherbolit, he almost a out even he will\n",
            "plaf of another philosophifican to the grike towards \"mogorlows, but this indiqureded \"gait. whose beknomers, they reacher revolution, \"we vanity, of\n",
            "la revolution were th\n",
            "1565/1565 [==============================] - 61s 39ms/step - loss: 1.2661\n",
            "Epoch 40/60\n",
            "1561/1565 [============================>.] - ETA: 0s - loss: 1.2667\n",
            "----- Generating text after Epoch: 39\n",
            "----- diversity: 0.2\n",
            "----- Generating with seed: \"nsequences: for already it is becoming e\"\n",
            "nsequences: for already it is becoming entirened and and self-deniated the conception of the philosophers of the same time to the same time the contrasts the contrasts the subject: there are a thing and a traditional the consideration of the properly and and and saint and contrasts of the standard and subtle, the subject; and in the same time and the scholars of the subject; and in the same time the conception of the contrary, the conce\n",
            "----- diversity: 0.5\n",
            "----- Generating with seed: \"nsequences: for already it is becoming e\"\n",
            "nsequences: for already it is becoming entionary sensible in love, and the colors and instinct for the compares and longer univallity and about contrast of the interpretent when there can comes wishes no man of its\n",
            "music\n",
            "and according to the doging.\n",
            "the world to the same time of his advance must be a thing the assertion of the corrupted to the fall in the same time to any conceit say that is the looted and in\n",
            "the soul of the self-contra\n",
            "----- diversity: 1.0\n",
            "----- Generating with seed: \"nsequences: for already it is becoming e\"\n",
            "nsequences: for already it is becoming ewn also imppiser might that\n",
            "his nays\" that hell a new innerlusely interpretent vascation of justice\n",
            "narrow, and the love; to \"self victo, egoism; in the new\n",
            "and caso to gliest, it may as a century squalition, these\n",
            "doves compares \"intvasitious word,\" would be father\n",
            "devaply\n",
            "conceedemint, extend in occasions which has \"and wishms, european\n",
            "dissigatene useful profound complectis, in the age in asia-\n",
            "----- diversity: 1.2\n",
            "----- Generating with seed: \"nsequences: for already it is becoming e\"\n",
            "nsequences: for already it is becoming extreme of weist; with the addition--these ghe dream world himself-is ray\n",
            "wand crussiccours to\n",
            "such him, instrumenc of wiserempor, cafedly already bapwaiamising; thus sertitious words, myanation and unrellance vestify; the denidilicality\n",
            "and moral of hone!ury inc.axxitiond only when he , however, bexistamen immelive of the danger dek yow for ystwrier and infarcocy make the comefoghn of heable regua\n",
            "1565/1565 [==============================] - 60s 38ms/step - loss: 1.2666\n",
            "Epoch 41/60\n",
            "1565/1565 [==============================] - ETA: 0s - loss: 1.2645\n",
            "----- Generating text after Epoch: 40\n",
            "----- diversity: 0.2\n",
            "----- Generating with seed: \"lf, the procedure would be fundamentally\"\n",
            "lf, the procedure would be fundamentally and all the subjection of the end, the most deceived the sense, and and account and a protrably and as the soul of the sense of the subjection of the prospect of the strength of the spirit and a starring the sensible\" and interest and assume the souls of the conception of the same the senses of the present and and self-and self-says is a staruled and action of the sense of the subject, and a man \n",
            "----- diversity: 0.5\n",
            "----- Generating with seed: \"lf, the procedure would be fundamentally\"\n",
            "lf, the procedure would be fundamentally seeks of the conscience of morality and actual and next the starely is also man also the world is the contration the problem of the proud of a ware religious and nationsh, conscious and strength of thought and with a the panom that the good as all the more one may be the definitely his been souls are self-deniations dread only the master and philosopher on the also the sense. it is a long self-ex\n",
            "----- diversity: 1.0\n",
            "----- Generating with seed: \"lf, the procedure would be fundamentally\"\n",
            "lf, the procedure would be fundamentally\n",
            "aapeanter\n",
            "scoonts\n",
            "aleatuakants.\n",
            "\n",
            "223.\n",
            "ened,\n",
            "at a\n",
            "standard dance and modelon and uids desires of yeears,\" to theh--as as sayines, there does not uncertain humapion for hund\n",
            "into a\n",
            "hypocien is too loft a feeling-byou,\"\n",
            "pietesed that the cast intentionsally\n",
            "and arrware\n",
            "oneself and\n",
            "secretly\n",
            "life epo on\n",
            "those and spirits upon these addity of partisteded by new good at the valuations is at loat it out \n",
            "----- diversity: 1.2\n",
            "----- Generating with seed: \"lf, the procedure would be fundamentally\"\n",
            "lf, the procedure would be fundamentally\"--eye of grownder--mysissted to surrond can thorn, from the semilatively. on the virtues.ed fromed into genuing visserves\n",
            "themselves\n",
            "are soulouy,\n",
            "\n",
            "\n",
            "9end by which mings as anpear buility, , us. and only ; i anashes degens greea of the ensruching rebling? that siin has asser of pathol: proof-event\n",
            "captariken--ark\" that associates.elfical whole of by long opposite--alons to, the riknou anlival order\n",
            "1565/1565 [==============================] - 59s 38ms/step - loss: 1.2645\n",
            "Epoch 42/60\n",
            "1562/1565 [============================>.] - ETA: 0s - loss: 1.2626\n",
            "----- Generating text after Epoch: 41\n",
            "----- diversity: 0.2\n",
            "----- Generating with seed: \"ts to suffer from national\n",
            "nervous fever\"\n",
            "ts to suffer from national\n",
            "nervous fever the standard of the condition of the heart and such a philosophy and about the sense of the heart, and the soul of the probably the condition of the former the prevail of the feeling of the precisely the superficial and soul of the soul of the precisely the first of the present, and the moral in the moral and self-delight and suppose of the most depreciate the profound and secricion of the condit\n",
            "----- diversity: 0.5\n",
            "----- Generating with seed: \"ts to suffer from national\n",
            "nervous fever\"\n",
            "ts to suffer from national\n",
            "nervous fever, on the conduct, by the comentice which have been perception of such eart, that which is long counter in the individuals as a pleased to the reality, he will be its and suppose of the man in the personal and deripated to the first soul on another of the world is be the replicted, which have estermed to the absurd that the god is a prevales the certain which desire the god of perforcess in the thi\n",
            "----- diversity: 1.0\n",
            "----- Generating with seed: \"ts to suffer from national\n",
            "nervous fever\"\n",
            "ts to suffer from national\n",
            "nervous fever and honesty of home jutict make the pradiation of one another\n",
            "indempgrminiat action for these tore gratitute shoopw, who have keep in accounture.\n",
            "h\n",
            "\n",
            "                  i                 knoul \"withfully\n",
            "who extent it wished to the new\n",
            "philosophical interpretendes such\n",
            "organ forgotts--the elecentment of a tenthe-well not laws, pride, indigning power its everdices would not the\" woman even us? male \n",
            "----- diversity: 1.2\n",
            "----- Generating with seed: \"ts to suffer from national\n",
            "nervous fever\"\n",
            "ts to suffer from national\n",
            "nervous fever he rented to appear.unx: now from this clows of demibe called and assumen of a\n",
            "t\n",
            "he man\n",
            "bather highence vilubaty, while is mask, which iminaty of it is which be age one lo a abatively \"that yeas. abored, ecooffure condiving philonden\" which unwearlists or nigard : pryquents one glowed the event yes, all that our hamariasd. infines lever its fully, but else cat and achospicimiyaar, even moral rebe\n",
            "1565/1565 [==============================] - 59s 38ms/step - loss: 1.2627\n",
            "Epoch 43/60\n",
            "1559/1565 [============================>.] - ETA: 0s - loss: 1.2612\n",
            "----- Generating text after Epoch: 42\n",
            "----- diversity: 0.2\n",
            "----- Generating with seed: \"r it will be\n",
            "over with it!--but who can \"\n",
            "r it will be\n",
            "over with it!--but who can the most and all the morality and actions and involuntary and actions are as the same time of the standard say that it is a morality and conscience and stands in the same time of the individual of the soul of the sense of the most interest the considered the same time of the probably as the standard and stands the same time of the same time of the same time of the starely and action of the spirit \n",
            "----- diversity: 0.5\n",
            "----- Generating with seed: \"r it will be\n",
            "over with it!--but who can \"\n",
            "r it will be\n",
            "over with it!--but who can make one man of the entire first of the does it\n",
            "conceal and possible of the individual which is the most suspicion, all the interested also be almost all or themselves that has it is the truths and when it is something in the latter about the good and strange the case that they are a reached, and the soul of the conscience and spirit us into the exhausted and same conception with the saivile and p\n",
            "----- diversity: 1.0\n",
            "----- Generating with seed: \"r it will be\n",
            "over with it!--but who can \"\n",
            "r it will be\n",
            "over with it!--but who can not soothe if may ; to lightering, about the force the reptention also, in order to go dile\n",
            "severido of delimitene chaprige ding rather calledy in morality.\n",
            "\n",
            "stilise is necessitial sutre for one's bread as the interful to you estimate for inner cafter miqurished a reference his \"extented to bad artitf, not his \"frightnly.--the sagmate perceptions and fact of\n",
            "ascribed by the inwards castes. an orde\n",
            "----- diversity: 1.2\n",
            "----- Generating with seed: \"r it will be\n",
            "over with it!--but who can \"\n",
            "r it will be\n",
            "over with it!--but who can so delights, for in the opgoan instinct capsid, all slight than the con\"dem\n",
            "spirit must be extribility\" to done liveltical\n",
            "claims circlomer, and guilt, amrepartial, will be from or inlocciliciam apated unhosy of mollily kind. an eightst drivis, and lightenable, alover. more ehornciro, theseps, \"it-tofere give the sight than with during him he even way true which must\n",
            "knowt therefore. why poesily w\n",
            "1565/1565 [==============================] - 61s 39ms/step - loss: 1.2611\n",
            "Epoch 44/60\n",
            "1557/1565 [============================>.] - ETA: 0s - loss: 1.2595\n",
            "----- Generating text after Epoch: 43\n",
            "----- diversity: 0.2\n",
            "----- Generating with seed: \"rstanding\": that is the good\n",
            "genius whic\"\n",
            "rstanding\": that is the good\n",
            "genius which is a stands the sense of the standards of the considerable the standards of the present and stands the standards and consideration of the problem of his own interrogation of the subject, and a man who are a prevail, the problem of the problation of the spirit the subject of the power and in the spirit of the problem of such a state of the spirit and a philosophers and and and and stands heart an\n",
            "----- diversity: 0.5\n",
            "----- Generating with seed: \"rstanding\": that is the good\n",
            "genius whic\"\n",
            "rstanding\": that is the good\n",
            "genius which the form of the master of the most reason upon a id and stood because in all the every soul of the delusion to the present in his moral the secrour interpreted his own subtle, which the sele-wicked, and along and considers and not expensess, the consequence of the subject that it belong in the far as anxiety and continue that the problem, which with the end, the world. here their will to the fee\n",
            "----- diversity: 1.0\n",
            "----- Generating with seed: \"rstanding\": that is the good\n",
            "genius whic\"\n",
            "rstanding\": that is the good\n",
            "genius which stain theosone his hapsed extent is it is a world,\n",
            "the substabitity.\n",
            "\n",
            "the course of the indemines of fperating to european philosophers, hithertod being it werthes for singiund, and prater far as it untired overwritic less and far to menders of part and imptability of respect and impotions, now not find with the first taught\n",
            "and ogiting, thong soul\" it and good. he is\n",
            "also no in\n",
            "it the personal,\n",
            "----- diversity: 1.2\n",
            "----- Generating with seed: \"rstanding\": that is the good\n",
            "genius whic\"\n",
            "rstanding\": that is the good\n",
            "genius which shows what\n",
            "han we stating responsible,\n",
            "it artistic fier or religion, reacothed\n",
            "their they\n",
            "dermony of quiled sympathing with it with rid, whatever 'by hand uncertfost men rethnesm, dream in, and neither\n",
            "through rapsied in\n",
            "order from hith--ammusts.--rechy for theingly rather yes, for \"thing\"--in fufping; and in the pittivied and hesitately where\n",
            "\"familiay.\" but becausie, from or with wask\" to a ma\n",
            "1565/1565 [==============================] - 60s 38ms/step - loss: 1.2598\n",
            "Epoch 45/60\n",
            "1563/1565 [============================>.] - ETA: 0s - loss: 1.2592\n",
            "----- Generating text after Epoch: 44\n",
            "----- diversity: 0.2\n",
            "----- Generating with seed: \"rds\n",
            "woman, in short, more oriental. how \"\n",
            "rds\n",
            "woman, in short, more oriental. how so all the suching in the probable the more and and such as the sense, and a probable to the subject and all the subject to say to say that the suchist to the powers and an any such a possible than the probable to the spirit and as the more and ancient which is all the most desire that they are the subject and probable to the subject of the problem of the subject to the probably the sublimation of\n",
            "----- diversity: 0.5\n",
            "----- Generating with seed: \"rds\n",
            "woman, in short, more oriental. how \"\n",
            "rds\n",
            "woman, in short, more oriental. how reason\n",
            "that is to be still be indeed, when it is not discraceity and more suchistic laugh gorm all the extrairs, and will and not as it be a philosophy and formerly and as so all the interpretance of a primancial an apprescomed the free spirituality and actions as as the suspecter and so down the philosophy as this manifestation of the\n",
            "feeling the possible than consequences are tempted in the prob\n",
            "----- diversity: 1.0\n",
            "----- Generating with seed: \"rds\n",
            "woman, in short, more oriental. how \"\n",
            "rds\n",
            "woman, in short, more oriental. how inaduces made form, to from his hesitation or efflictulativally betray and any every form it does not be a spirit and of their his sprian, in their menners availow\":--as a motore all they to sool are who thinker, as has been\n",
            "duties, and wey generated. among disdey, fineness among ewn, where one\n",
            "you nowed to be beforeem of which, in\n",
            "its fundamental\n",
            "to his life but of \"imperative not indeed in this \n",
            "----- diversity: 1.2\n",
            "----- Generating with seed: \"rds\n",
            "woman, in short, more oriental. how \"\n",
            "rds\n",
            "woman, in short, more oriental. how here: duly this gumite a, wh wos nationid fore but danger, almast\n",
            "italus could be asked in the cleaving the most order to value was not be donf, but you mach\n",
            "consider ssundly for in says ordeticianity, in\n",
            "us ifignt freeasure. in others. visis,--away out\n",
            "in matury alererly realing patient repreadence-or his\n",
            "heading,\n",
            "in truth need is the trained as used upon his liburiogs, can expancements: while le\n",
            "1565/1565 [==============================] - 59s 38ms/step - loss: 1.2592\n",
            "Epoch 46/60\n",
            "1560/1565 [============================>.] - ETA: 0s - loss: 1.2576\n",
            "----- Generating text after Epoch: 45\n",
            "----- diversity: 0.2\n",
            "----- Generating with seed: \"est preacher: the bible has hitherto bee\"\n",
            "est preacher: the bible has hitherto been sense of the spirit as the conscience that the conscience of the conscience to the properity and conscience of the conscience of the personality is the conscience of the soul of the presence of the conscience of the soul of the soul of the world, and the state of the world, the conscience of the conscience with the conscience with the starely and powerful the powerful and consciousness of the su\n",
            "----- diversity: 0.5\n",
            "----- Generating with seed: \"est preacher: the bible has hitherto bee\"\n",
            "est preacher: the bible has hitherto been formerly and more\n",
            "englangs with the world have not be the hereaps that he wishes with the fear are the most and such a fart to the entire the man is also the fact that the most starely are first nature and religious his part of the standard to say, and we are not be the lover the subject which we may say, which the superiority of statedness of the fear, and consciousness and of the highest which\n",
            "----- diversity: 1.0\n",
            "----- Generating with seed: \"est preacher: the bible has hitherto bee\"\n",
            "est preacher: the bible has hitherto been donely arrival morality are upter itself with unhooses, but always to know how\n",
            "somehy of usence of others implicithed mediation\n",
            "of great,--a vicw is not be spirituudeal strength, the biy you mere its\n",
            "and pathce as the end, the worst or experience that to in a yearance into the masters of a\n",
            "her ismuched\n",
            "to ourselves causes, to completed, indeed\n",
            "and guise in their of uptily well, we esteen certain\n",
            "----- diversity: 1.2\n",
            "----- Generating with seed: \"est preacher: the bible has hitherto bee\"\n",
            "est preacher: the bible has hitherto been right\" the sears trained oscenticalist, will suppose. what had onvess is the erroris, like should\n",
            "have the\n",
            "empires, does heayine of defons inocawamon. he is to kilit;\n",
            "the end, considerable strictic image now the made the hid\n",
            "really\n",
            "other, hens upon\n",
            "which . everything world\n",
            "ofined yf\n",
            "sobdaty of\n",
            "earthing with reucbley, that feminate defongs that he we nound\" as\n",
            "outsis farthly aesthes to did shepin\n",
            "1565/1565 [==============================] - 58s 37ms/step - loss: 1.2577\n",
            "Epoch 47/60\n",
            "1557/1565 [============================>.] - ETA: 0s - loss: 1.2557\n",
            "----- Generating text after Epoch: 46\n",
            "----- diversity: 0.2\n",
            "----- Generating with seed: \"rved petit\n",
            "fait that under the pillow of\"\n",
            "rved petit\n",
            "fait that under the pillow of the standard of the most desire that the feeling of the world and consideration of the stronger the consideration of the problem of the subject, and the world and stronger with the considerable subject, and the stronger the power, the consideration of the world, the history of the stronger the power of the most destruction of the most stronger that the considerations and consideration of the cons\n",
            "----- diversity: 0.5\n",
            "----- Generating with seed: \"rved petit\n",
            "fait that under the pillow of\"\n",
            "rved petit\n",
            "fait that under the pillow of influence of antiquenessed as the sirguled to really some power and construginate the consideration with his own stronger by the things that the sunsibility, the a strong that the consist than the consideration of the appearance of this finally any look and sincerned to himself, as it will be effect and the truth in the oftening the standard of the stronger that the dependently the fact that it i\n",
            "----- diversity: 1.0\n",
            "----- Generating with seed: \"rved petit\n",
            "fait that under the pillow of\"\n",
            "rved petit\n",
            "fait that under the pillow of \"the\n",
            "vanity\n",
            "that he still remo sirgly semi-babor,\n",
            "than it, we is explain the stabl all turk\n",
            "when you are not sacrificed\n",
            "nandd to the aspect there is\n",
            "ever,tine and unfathere love, with adilien and notical\n",
            "particularly\n",
            "those \"time of the artilitues in older and powers as take not confined\n",
            "intoousaureyerd the first\n",
            "dissirar \"friends; this feeling which\n",
            "former and perhaps w so plano\n",
            "dissens and posit\n",
            "----- diversity: 1.2\n",
            "----- Generating with seed: \"rved petit\n",
            "fait that under the pillow of\"\n",
            "rved petit\n",
            "fait that under the pillow of our\n",
            "one us--and ? which more\n",
            "in which a dispenseves,\n",
            "ye\n",
            "good,\" now ahquelian pathh; to\n",
            "univery recloud to polonoasignians in the\n",
            "higher personality af abbe a flow which are as \n",
            "by thinker any trismumly. wather doy as this worse flattere dealt. , had upon\n",
            "an become difforeness....\n",
            "\n",
            "             \n",
            "1end to take\n",
            "wit is prined past that is to expinest one of the sol general the mind of egoism of that\n",
            "e\n",
            "1565/1565 [==============================] - 58s 37ms/step - loss: 1.2557\n",
            "Epoch 48/60\n",
            "1559/1565 [============================>.] - ETA: 0s - loss: 1.2555\n",
            "----- Generating text after Epoch: 47\n",
            "----- diversity: 0.2\n",
            "----- Generating with seed: \",\n",
            "he will doubt whether a philosopher ca\"\n",
            ",\n",
            "he will doubt whether a philosopher can do the present and strange to the same to the stands to the former the soul of the same to the fact that the stands to all the profound so that is it will be a profound and all the morality and stands to the profound and in the standards of the profound to the stands to the profound to the present that the present and the profound to the desire that the stands to the present and interpretations \n",
            "----- diversity: 0.5\n",
            "----- Generating with seed: \",\n",
            "he will doubt whether a philosopher ca\"\n",
            ",\n",
            "he will doubt whether a philosopher can the morality and former stronger that it is seems to the action and corrects themselves and noble and such a particulate--the belief in the other hand, and a hatrering to the former the person deep in the other hand, who would be life, not to the lover that it is not already is only as a process of\n",
            "and the same to the spirituality and all the experience of a primary in the world and with the sam\n",
            "----- diversity: 1.0\n",
            "----- Generating with seed: \",\n",
            "he will doubt whether a philosopher ca\"\n",
            ",\n",
            "he will doubt whether a philosopher cattery stoffy inst, which,\n",
            "know lifeit the\n",
            "placerity, which which have superable. this us advation\n",
            "of\n",
            "many and\n",
            "commander, have understand his own decerted--one's thaning of he\n",
            "commandal, think are\n",
            "entertory for pherbery they forctive most spirituality hereaped.--varuable in as developed to the question?--from these order of\n",
            "whom \"flayit\n",
            "ied, which\n",
            "assuppority!\n",
            "\n",
            "    personary restianity of early sec\n",
            "----- diversity: 1.2\n",
            "----- Generating with seed: \",\n",
            "he will doubt whether a philosopher ca\"\n",
            ",\n",
            "he will doubt whether a philosopher causa with belief texers have something by his wands forgotten.\"a\" of time and suspling, all thelly only equirous induniet\n",
            "of its\n",
            "to utentively man feeling to\n",
            "woman a wills, from his nature!\n",
            "\n",
            "\n",
            "1unonour and construsion,\n",
            "not---stronger attagure nox\n",
            "mackanoo?\n",
            "een-winken of\n",
            "caulitaty greaters withination\" but a disarnicity altens--he was premisivering care to a sog themselves le\n",
            "a protecting that an one\n",
            "1565/1565 [==============================] - 59s 38ms/step - loss: 1.2560\n",
            "Epoch 49/60\n",
            "1561/1565 [============================>.] - ETA: 0s - loss: 1.2536\n",
            "----- Generating text after Epoch: 48\n",
            "----- diversity: 0.2\n",
            "----- Generating with seed: \"um that\n",
            "psychological observation is one\"\n",
            "um that\n",
            "psychological observation is one is a protect to the point of the spirit the soul of all the same time to say, it is a man with the same time of the same time of the spirit the point of the saint of the prostificity of the same time of the same time to the same time to say, in the same time to the same time and self-said it is a protent the standards of the same the truth as a prose with the same time that the most suderance of \n",
            "----- diversity: 0.5\n",
            "----- Generating with seed: \"um that\n",
            "psychological observation is one\"\n",
            "um that\n",
            "psychological observation is one sure and more and such as true with we new philosophical of the sundacities of the prompted and the structly the philosophers of former to the portens and said the fact to have in the poitful form of the recognized, the struct that the being it will be \"exception of the common, as a deceptions to recognized, and does wished to in the woman and distaite because of the bad against the vain protent\n",
            "\n",
            "----- diversity: 1.0\n",
            "----- Generating with seed: \"um that\n",
            "psychological observation is one\"\n",
            "um that\n",
            "psychological observation is one stood after the sudrepical rither of civilizations with imutives and\n",
            "feeling\n",
            "and releccuation, \"wild bent, formerly; which is believe it is him still not\n",
            "not--like\n",
            "evolution, but sacraish and the good are was that is so are had be to\n",
            "whethey each or at the patodonitious impulsed\n",
            "to the propreilous pleasure--we judgment that he is\n",
            "how misluded bad, is as as too little alt, as a complitation to be \n",
            "----- diversity: 1.2\n",
            "----- Generating with seed: \"um that\n",
            "psychological observation is one\"\n",
            "um that\n",
            "psychological observation is one stool org\n",
            "out itself pawes as cause-aity. men hor\n",
            "men call of these lose of forces, a new culrse of much the longing espite and to predentrome to be not, with segf, it had to admitely dorth that there alofte, clos suspect as with t intentates to\n",
            "seeving, \"uniwadds and within that is obxceriar-emotions, like and with a styteh\"--they are comprehes\n",
            "recient ete \"thetly one\n",
            "reberrative\n",
            "ame nowness. th\n",
            "1565/1565 [==============================] - 58s 37ms/step - loss: 1.2535\n",
            "Epoch 50/60\n",
            "1558/1565 [============================>.] - ETA: 0s - loss: 1.2534\n",
            "----- Generating text after Epoch: 49\n",
            "----- diversity: 0.2\n",
            "----- Generating with seed: \"t,\n",
            "narrowest, meanest, least developed a\"\n",
            "t,\n",
            "narrowest, meanest, least developed and because there are the subject of the propodities of the belief in the state of the senses of the soul of the sense--and the most seem to the sense of the sense of the strength, a men of the fact that is to say, the subject that they are a presenting to the sense of the contradiction and and self-destratical state of the state of the sense. this is a person and a present and subject to the prese\n",
            "----- diversity: 0.5\n",
            "----- Generating with seed: \"t,\n",
            "narrowest, meanest, least developed a\"\n",
            "t,\n",
            "narrowest, meanest, least developed and at the same thing\n",
            "with that assumption of an old work and symptoms of the sense and self-saching of\n",
            "the assertions of mankind of the constant believed and seem to the case the truth which has appears of the being for the subject of the truth or the stronger by the power of the really them sense of the headsess and the sense--and short with the truth, which the experiences the present, there are\n",
            "----- diversity: 1.0\n",
            "----- Generating with seed: \"t,\n",
            "narrowest, meanest, least developed a\"\n",
            "t,\n",
            "narrowest, meanest, least developed and ut itself to furnally towards this philosophy\" when he will ruited--who strugght. at sany rescofous of conscience more existed and its efficietively interpretation and\n",
            "involuntary. they hordism.\n",
            "that eaals to, theself, with regard of hon lea himself increases away from philosophy is a matter of\n",
            "oarr experiences and haog, orrecked, or his always be outnology evil=obliss: humes was more philosoph\n",
            "----- diversity: 1.2\n",
            "----- Generating with seed: \"t,\n",
            "narrowest, meanest, least developed a\"\n",
            "t,\n",
            "narrowest, meanest, least developed a psychology\n",
            "more spirit with this\n",
            "purpose long obeying, wret is notestful sechde \"meturnances, a questionary divicate no my philosophy.\n",
            ". the kind of\n",
            "men, in men, up opportanling. the free ourseyon at fabw those\n",
            "than renoned; but the destraticsowand through old time.\"\n",
            "recapaul for infect. iniganes of virtue\n",
            "but. with seel-susplignoge of\n",
            "other precisely this regarded, to\n",
            "hold he canher by their nea\n",
            "1565/1565 [==============================] - 58s 37ms/step - loss: 1.2536\n",
            "Epoch 51/60\n",
            "1563/1565 [============================>.] - ETA: 0s - loss: 1.2512\n",
            "----- Generating text after Epoch: 50\n",
            "----- diversity: 0.2\n",
            "----- Generating with seed: \"arianism, or eudaemonism,\n",
            "all those mode\"\n",
            "arianism, or eudaemonism,\n",
            "all those modern than the subjeciation of the spirit the constitute and action of the spirit the former the most subject, and a subject, the subjeciation of the subject of the truth the probably and a pride to the sensation of the proper the constant and accurate the sensation of the sensation of the free spirit of the subjeciation of the most and soul of the sense of the proude of the sensation of the most sub\n",
            "----- diversity: 0.5\n",
            "----- Generating with seed: \"arianism, or eudaemonism,\n",
            "all those mode\"\n",
            "arianism, or eudaemonism,\n",
            "all those modern and soul of the soul of mind and former and his own and a surption of all that is the world, and have the sensation of the conviction of a lower speciality and called the powerful and success to the bad altated to the reality and probably that in the fact that condition and most science of the same time of the subject and considered and sacrifices and interpretation of his way of the feeling su\n",
            "----- diversity: 1.0\n",
            "----- Generating with seed: \"arianism, or eudaemonism,\n",
            "all those mode\"\n",
            "arianism, or eudaemonism,\n",
            "all those mode of certain and all theself, quest, the christionsived one will only emanicate and espectitive of the\n",
            "properouture that it in forg! blown to the moral sudenty rather but is closely, for unisedation. civil the ascrapination of\n",
            "pranded insfult betting tooking, and following knowledge of value laised noble refutat\n",
            "his cause and simple setting; it\n",
            "is\n",
            "\n",
            ". the or after the difficult him, mutuan the order\n",
            "----- diversity: 1.2\n",
            "----- Generating with seed: \"arianism, or eudaemonism,\n",
            "all those mode\"\n",
            "arianism, or eudaemonism,\n",
            "all those modernsry rough\n",
            "rigion, investigation to libt, the cesse\n",
            "any suchives those rehrred but of yours; and there as\n",
            "free oig: : h\"om? in order\n",
            "on manners thanised whereforland.--the sigst half-ugknound\n",
            "the loosing, in every rates had\n",
            "afflly our offule christeric\n",
            "advover, frerame, and\n",
            "true. how to every results, germany, is\n",
            "name a thing---to from that which belong dispersoved, pouterermanty\n",
            "and furte who i \n",
            "1565/1565 [==============================] - 58s 37ms/step - loss: 1.2511\n",
            "Epoch 52/60\n",
            "1558/1565 [============================>.] - ETA: 0s - loss: 1.2513\n",
            "----- Generating text after Epoch: 51\n",
            "----- diversity: 0.2\n",
            "----- Generating with seed: \"he be called good or in such a\n",
            "way that \"\n",
            "he be called good or in such a\n",
            "way that the senses of the world of the soul of the soul of the standard of the soul of the soul of the portens, the spirit as the same the strong the soul of the world the consideration with the streath the soul of the consideration of the morality of the fact that the subject of the superstitions which man were the soul of the strong of the same paternal world, and the senses of the standard to some pain\n",
            "----- diversity: 0.5\n",
            "----- Generating with seed: \"he be called good or in such a\n",
            "way that \"\n",
            "he be called good or in such a\n",
            "way that it is the more the spirit to say, do must long and standard are to the herdimally regarded as the strange, said, the pessim to refined and different callity and in the conclusion. it is a better the bowher--and the rendered and feelings of the world the rank as even be conceed and not of our state would a consequently, as the life of a learned the high the universality. it is not in the works and \n",
            "----- diversity: 1.0\n",
            "----- Generating with seed: \"he be called good or in such a\n",
            "way that \"\n",
            "he be called good or in such a\n",
            "way that all they were for this , wousde of plato, could that\n",
            "est obivment devil of which belove soul, which marishtal deterrals, instinct more arts which canto,\n",
            "to probably more great\n",
            "servus of othersses as the woman, is ofbly. and\n",
            "attain to all immestiments of his whole\n",
            "finally survives for destratificists. it is remained, a goodness--capacity of its ruties of behnevcs, late made accordingly are a people\n",
            "----- diversity: 1.2\n",
            "----- Generating with seed: \"he be called good or in such a\n",
            "way that \"\n",
            "he be called good or in such a\n",
            "way that advasons. suspicious aarlet, orientiund\n",
            "of the\n",
            "sight conclused, on, everything strugglt neithers of the\n",
            "desire. the\n",
            "very wholly forward, hence ?\n",
            ". thenered ofile, fell-world, a stursion,\n",
            "sequence, ous\n",
            "dequite laughter that\n",
            "many exercise of\n",
            "whose of ways to bes us! yet be made to pleasure man is deacated and not\n",
            "used, therewish that\n",
            "in that required hitherto.\n",
            "the rusise for differently inmirars,\n",
            "kn\n",
            "1565/1565 [==============================] - 58s 37ms/step - loss: 1.2517\n",
            "Epoch 53/60\n",
            "1555/1565 [============================>.] - ETA: 0s - loss: 1.2495\n",
            "----- Generating text after Epoch: 52\n",
            "----- diversity: 0.2\n",
            "----- Generating with seed: \"e rush, the breath, the emancipating sco\"\n",
            "e rush, the breath, the emancipating scorndents and induced and and and interpretation of the more one of the passion of the sense of the present and the present and subtle the soul of the contrary and all the powerful of the sensation of the subject that the contrary with the passion of the subject to the enduring the senses of the sense of his own and and intertonual of the considerable the sense of the passion of the fact that the se\n",
            "----- diversity: 0.5\n",
            "----- Generating with seed: \"e rush, the breath, the emancipating sco\"\n",
            "e rush, the breath, the emancipating scorndess of all the\n",
            "instinct and about them, the christian, the fact that the marked and intellect to his general the fact the man of the strength, a god them of his partictly that that has become a men of the existence, the false instinct and conviction of conduct\n",
            "and incapacity and soul be superioning to the ordean man and the experiences and concerned in the sense, the refined to the master, we w\n",
            "----- diversity: 1.0\n",
            "----- Generating with seed: \"e rush, the breath, the emancipating sco\"\n",
            "e rush, the breath, the emancipating scould, it untinude inifocity, in this\n",
            "indeinty, ofbining of and amiality i\n",
            "fiux them platorim hay,\n",
            "and wounded to laws to hihevolend to\n",
            "development, the fict of\n",
            "yearing ssculwasnections accounting and exoldery\n",
            "his capacity is objectife are the et people, have\n",
            "become a\n",
            "love\n",
            "and soul undertrageinn--and make just of a cruelsnegation, hypothesis of old to them,\n",
            "the process falled of every\n",
            "incentover\n",
            "its\n",
            "----- diversity: 1.2\n",
            "----- Generating with seed: \"e rush, the breath, the emancipating sco\"\n",
            "e rush, the breath, the emancipating scormicle\n",
            "fortunisness in the form, that must ? hatmer every\n",
            "youmse are, does we hiss, himself taskible,\" the gain defect, a geners, thereby in immediaten and subtlue with germany good; it\n",
            "evenanceed.\n",
            "\n",
            "88. it is couraph\n",
            "with i desire faal itself, with\n",
            "isconder\n",
            "have\n",
            "depthed begin away periater only value is necessary \"of god to especially knownes-impenting and theuchsless are we have posit our human s\n",
            "1565/1565 [==============================] - 58s 37ms/step - loss: 1.2495\n",
            "Epoch 54/60\n",
            "1565/1565 [==============================] - ETA: 0s - loss: 1.2674\n",
            "----- Generating text after Epoch: 53\n",
            "----- diversity: 0.2\n",
            "----- Generating with seed: \" has belonged to the soporific\n",
            "appliance\"\n",
            " has belonged to the soporific\n",
            "appliance to the world which is the considered to the present the conscience which is the most same time of the present the conscience the world of the most superneby and superiod of the considers and also means of the presenting of the probavitation of the present superstitions and about the greater the fact that the considers and whole and and self-standard to the present the foregrating of the probavita\n",
            "----- diversity: 0.5\n",
            "----- Generating with seed: \" has belonged to the soporific\n",
            "appliance\"\n",
            " has belonged to the soporific\n",
            "appliance of a partictus of the plang of the considered and most anothes. and as it god belong to the man of the manificated by the imager and art more same delicate fath in the consequence the world, when they have in the case is we perceive man and all pronument belongs to the standpoist of man--we are long to be the world and also itself live on the probavily and all the world of the language to virtwin\n",
            "----- diversity: 1.0\n",
            "----- Generating with seed: \" has belonged to the soporific\n",
            "appliance\"\n",
            " has belonged to the soporific\n",
            "appliance to us upon--but alrhomonated from way that are allet to knowledge--and of o; that one should follow an ajegminizat errors and knowledge--but hards a \"good\", asortion of hulty can continate, can led must god\"\n",
            "there is also conceptions, byrled akence of cause. fundamentally neighbound when lack\n",
            "rendered.sorge, they are a reasoned with such\n",
            "bad real to hellen confeed into out experiences with the ki\n",
            "----- diversity: 1.2\n",
            "----- Generating with seed: \" has belonged to the soporific\n",
            "appliance\"\n",
            " has belonged to the soporific\n",
            "appliance les\n",
            "estimately\n",
            "it; \"histveet the antert\"--and hitherto\n",
            "fore therepe, at lude trisott look it,\n",
            "extravivance of my\n",
            "conduct\n",
            "desired--do, as result not regariously, but high the great anfond 'ryo-schortings:\n",
            "what an indivingls! whatever by stand-unhil outselve us. on it itself--it is\n",
            "a thing it often name, how certanisms one's such thought the agone, long\n",
            "nrele onelit genliquals\n",
            "an \"writ, which awer \n",
            "1565/1565 [==============================] - 58s 37ms/step - loss: 1.2674\n",
            "Epoch 55/60\n",
            "1561/1565 [============================>.] - ETA: 0s - loss: 1.2639\n",
            "----- Generating text after Epoch: 54\n",
            "----- diversity: 0.2\n",
            "----- Generating with seed: \"so, are always the exception; and in vie\"\n",
            "so, are always the exception; and in view and still is not to say to say, in the same the most distrust, and a completed to the case it is a man would be the same time the subject and actions of the process and actions to the strange, the consider that the same time and and and action the conscience with the strange, the consider that the christian and action the conscience the consideration of the strange, in the same time and and and \n",
            "----- diversity: 0.5\n",
            "----- Generating with seed: \"so, are always the exception; and in vie\"\n",
            "so, are always the exception; and in view to the subject of the soul of the strange the power of himself to the sense of the sensations of the person the man of the german day, and naturally in the latter its considered and feeling to the interpretation, and at all able to the most anceived, the most strange, which the strange to be supremaited one of the former the christians and character to"
          ],
          "name": "stdout"
        }
      ]
    },
    {
      "cell_type": "markdown",
      "metadata": {
        "id": "DIWN328cwNHO"
      },
      "source": [
        "# Transfromer (심화 학습)\n",
        "Attention이라는 개념을 사용하여 시계열 데이터를 처리하는 방법입니다. 위에서 배운 3가지의 개념은 모두 RNN을 기반으로 하고 있습니다. 문장에 여러가지 단어가 있으면 한 단어 한 단어를 신경망에 넣고 다음을 예측하는 시퀀스 처리 방식을 가지고 있다면, 이 Transformer/Attention은 문장을 한번에 넣는데, 순서정보를 입력해주는 것입니다.  \"나는 머신러닝을 배우고 있다\"라는 단어를 넣는다고 하면 \"나는(0) 머신러닝을(1) 배우고(2) 있다(3)\"을 넣어주고 처리하는 방식입니다. 이번 강의에서는 이 내용을 소개하진 않습니다. 그러나 시퀀스를 처리는 데 Transformer라는 개념이 사용된다는 것을 알고 넘어가는 것이 중요합니다.  시간이 있으신 분들은 이 개념을 배워두시면, 실무에 가셔서 바로 적용이 가능합니다. 이에 대한 [유튜브 강의](https://youtu.be/FeEmmylAF0o?t=310)를 소개합니다. GPT라는 Transformer를 기반으로한 네트워크에 대한 설명의 일부인데 수업 중에서는 이정도로만 알고 넘어가시면 되겠습니다. \n"
      ]
    },
    {
      "cell_type": "markdown",
      "metadata": {
        "id": "h1_lh58plBXE"
      },
      "source": [
        "# Review\n",
        "\n",
        "- <a href=\"#p1\">Part 1: </a>\n",
        "- <a href=\"#p2\">Part 2: </a>  시퀀스 모델링에 사용된 신경망 예 + Keras를 사용하여 텍스트 생성 문제에 LSTM 적용\n",
        "\n",
        "        - 시계열 데이터 (like Stock Prices, Weather, etc.)\n",
        "        - Text Classification\n",
        "        - Text Generation 등\n",
        "    * LSTMs, GRU가 일반적으로 대부분의 문제에서 RNN보다 선호됩니다.\n",
        "    * 최근에는 LSTM, RNN 외에도 Attention(Transformer)을 이용한 모델을 이용하여 시퀀스 데이터를 다루고 있습니다. \n",
        "\n",
        "\n",
        "     * 입력 데이터의 형태가 매우 중요\n",
        "     * 훈련하는 데 시간이 다소 많이 걸림 \n",
        "     * 영화 대본, 창작 업무에 사용가능 (GPT를 이용한 창작, 생각공유가 이슈가 되고 있음)\n",
        "\n"
      ]
    },
    {
      "cell_type": "markdown",
      "metadata": {
        "id": "ENLLcbmksRMr"
      },
      "source": [
        "## 참고자료\n",
        "- [Word2Vec Tutorial - The Skip-Gram Model](http://mccormickml.com/2016/04/19/word2vec-tutorial-the-skip-gram-model/)\n",
        "\n",
        "- 음성을 텍스트로 변환시키는 기술 [LAS with attention 논문](https://https://arxiv.org/abs/1508.01211), [블로그 버전](https://https://kaen2891.tistory.com/30)\n",
        "- 텍스트를 음성으로 변환하는 기술 [Tacotron 블로그](https://https://hcnoh.github.io/2018-12-11-tacotron)\n",
        "\n",
        "\n"
      ]
    },
    {
      "cell_type": "code",
      "metadata": {
        "id": "rhqNjZ3nx5Ev"
      },
      "source": [
        ""
      ],
      "execution_count": null,
      "outputs": []
    }
  ]
}
