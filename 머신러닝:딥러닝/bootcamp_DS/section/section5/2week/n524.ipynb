{
  "nbformat": 4,
  "nbformat_minor": 0,
  "metadata": {
    "colab": {
      "name": "Untitled39.ipynb",
      "provenance": [],
      "authorship_tag": "ABX9TyMWRJZ/hyk3J0XU3OUcTunT",
      "include_colab_link": true
    },
    "kernelspec": {
      "name": "python3",
      "display_name": "Python 3"
    },
    "language_info": {
      "name": "python"
    }
  },
  "cells": [
    {
      "cell_type": "markdown",
      "metadata": {
        "id": "view-in-github",
        "colab_type": "text"
      },
      "source": [
        "<a href=\"https://colab.research.google.com/github/daje0601/pandas_study/blob/main/n524.ipynb\" target=\"_parent\"><img src=\"https://colab.research.google.com/assets/colab-badge.svg\" alt=\"Open In Colab\"/></a>"
      ]
    },
    {
      "cell_type": "code",
      "metadata": {
        "colab": {
          "base_uri": "https://localhost:8080/"
        },
        "id": "ylCT4Ykd8Nuv",
        "outputId": "6a9a3701-33b5-41bb-c775-36d077df99ea"
      },
      "source": [
        "# 퀵소트 파이썬 코드 case - 1 : 전체코드\n",
        "\n",
        "def quick_sort(node, first, last):\n",
        "  def partition(first,last):\n",
        "    pivot = node[last]\n",
        "    left = first\n",
        "    #print(pivot, first,last)    # 확인용\n",
        "    for right in range(first, last):\n",
        "      if node[right] < pivot:\n",
        "        node[left], node[right] = node[right], node[left]\n",
        "        left += 1\n",
        "    node[left], node[last] = node[last], node[left]\n",
        "    return left\n",
        "\n",
        "  # 첫번째 노드가 마지막 노드보다 작은 경우, 재귀진행\n",
        "  if first < last:\n",
        "    pivot = partition(first, last)\n",
        "    quick_sort(node, first, pivot - 1)\n",
        "    quick_sort(node, pivot + 1, last)\n",
        "\n",
        "\n",
        "node = [54,26,93,17,77,31,44,55,20]\n",
        "quick_sort(node,0,8)\n",
        "\n",
        "print(node)"
      ],
      "execution_count": null,
      "outputs": [
        {
          "output_type": "stream",
          "text": [
            "[17, 20, 26, 31, 44, 54, 55, 77, 93]\n"
          ],
          "name": "stdout"
        }
      ]
    },
    {
      "cell_type": "code",
      "metadata": {
        "colab": {
          "base_uri": "https://localhost:8080/"
        },
        "id": "CmHiubIn8OlN",
        "outputId": "ec5ed8b4-9f6b-41ea-841f-4dc0f43de876"
      },
      "source": [
        "# 퀵소트 파이썬 코드 case - 2 : 전체코드\n",
        "\n",
        "def quick_sort(ARRAY):\n",
        "    ARRAY_LENGTH = len(ARRAY)\n",
        "    if( ARRAY_LENGTH <= 1):\n",
        "        return ARRAY\n",
        "    else:\n",
        "        PIVOT = ARRAY[0]\n",
        "        GREATER = [ element for element in ARRAY[1:] if element > PIVOT ]\n",
        "        LESSER = [ element for element in ARRAY[1:] if element <= PIVOT ]\n",
        "        return quick_sort(LESSER) + [PIVOT] + quick_sort(GREATER)\n",
        "\n",
        "ARRAY = [54,26,93,17,77,31,44,55,20]\n",
        "print(quick_sort(ARRAY))"
      ],
      "execution_count": null,
      "outputs": [
        {
          "output_type": "stream",
          "text": [
            "[17, 20, 26, 31, 44, 54, 55, 77, 93]\n"
          ],
          "name": "stdout"
        }
      ]
    },
    {
      "cell_type": "code",
      "metadata": {
        "id": "wAyQjcKq8URq"
      },
      "source": [
        ""
      ],
      "execution_count": null,
      "outputs": []
    },
    {
      "cell_type": "code",
      "metadata": {
        "colab": {
          "base_uri": "https://localhost:8080/"
        },
        "id": "r8fe-nlueCfM",
        "outputId": "97586a2c-38cc-4154-e3da-ef009078b5a0"
      },
      "source": [
        "# 메모이제이션을 적용한 경우\n",
        "\n",
        "memo = {}    # 재사용을 값을 저장하기 위한 딕셔너리 변수\n",
        "\n",
        "def recursive_factorial(n):\n",
        "    if n is 0:\n",
        "        return 1\n",
        "    elif n in memo:\n",
        "        return memo[n]   # 메모이제이션\n",
        "    else:\n",
        "        result = n * recursive_factorial(n - 1)\n",
        "        memo[n] = result\n",
        "        return result\n",
        "\n",
        "# 1번째 케이스\n",
        "print(\"recursive_factorial(5):\",recursive_factorial(5),\" memo:\", memo)\n",
        "\n",
        "# 2번째 케이스\n",
        "print(\"recursive_factorial(4):\",recursive_factorial(4),\" memo:\", memo)"
      ],
      "execution_count": null,
      "outputs": [
        {
          "output_type": "stream",
          "text": [
            "recursive_factorial(5): 120  memo: {1: 1, 2: 2, 3: 6, 4: 24, 5: 120}\n",
            "recursive_factorial(4): 24  memo: {1: 1, 2: 2, 3: 6, 4: 24, 5: 120}\n"
          ],
          "name": "stdout"
        }
      ]
    },
    {
      "cell_type": "code",
      "metadata": {
        "id": "IyXKOAwyeDVs"
      },
      "source": [
        "from random import *\n"
      ],
      "execution_count": null,
      "outputs": []
    },
    {
      "cell_type": "code",
      "metadata": {
        "colab": {
          "base_uri": "https://localhost:8080/"
        },
        "id": "JawiWiGj3b1L",
        "outputId": "aa905cbf-5869-45f1-86c7-ed97073b3520"
      },
      "source": [
        "num = randint(1, 35)\n",
        "type(num)"
      ],
      "execution_count": null,
      "outputs": [
        {
          "output_type": "execute_result",
          "data": {
            "text/plain": [
              "int"
            ]
          },
          "metadata": {
            "tags": []
          },
          "execution_count": 7
        }
      ]
    },
    {
      "cell_type": "code",
      "metadata": {
        "id": "zDGSm4faEfKF"
      },
      "source": [
        ""
      ],
      "execution_count": null,
      "outputs": []
    }
  ]
}