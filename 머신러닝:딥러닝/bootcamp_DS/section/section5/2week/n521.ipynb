{
  "nbformat": 4,
  "nbformat_minor": 0,
  "metadata": {
    "colab": {
      "name": "n521.ipynb",
      "provenance": [],
      "authorship_tag": "ABX9TyMV2wCw4t9F+fxFXQVcZLo4",
      "include_colab_link": true
    },
    "kernelspec": {
      "name": "python3",
      "display_name": "Python 3"
    },
    "language_info": {
      "name": "python"
    }
  },
  "cells": [
    {
      "cell_type": "markdown",
      "metadata": {
        "id": "view-in-github",
        "colab_type": "text"
      },
      "source": [
        "<a href=\"https://colab.research.google.com/github/daje0601/pandas_study/blob/main/n521.ipynb\" target=\"_parent\"><img src=\"https://colab.research.google.com/assets/colab-badge.svg\" alt=\"Open In Colab\"/></a>"
      ]
    },
    {
      "cell_type": "code",
      "metadata": {
        "colab": {
          "base_uri": "https://localhost:8080/"
        },
        "id": "s2y9EMvtWc-L",
        "outputId": "c3cdc275-f596-465c-d529-31f661ffa042"
      },
      "source": [
        "# 예시1 - 회문(팰린드롬)\n",
        "\n",
        "def ispalindrome(s):\n",
        "    return_numbers = []\n",
        "    for char in s:\n",
        "      if char.isalnum():\n",
        "        return_numbers.append(char.lower())\n",
        "      \n",
        "    while len(return_numbers) > 1:\n",
        "      if return_numbers.pop(0) != return_numbers.pop():\n",
        "        return False\n",
        "\n",
        "    return True\n",
        "\n",
        "test_string = input()\n",
        "print(ispalindrome(test_string))"
      ],
      "execution_count": 1,
      "outputs": [
        {
          "output_type": "stream",
          "text": [
            "1\n",
            "True\n"
          ],
          "name": "stdout"
        }
      ]
    },
    {
      "cell_type": "code",
      "metadata": {
        "colab": {
          "base_uri": "https://localhost:8080/"
        },
        "id": "izqsXZoHWeAK",
        "outputId": "d0f10595-4af6-4c83-eb08-bde6ed3399ad"
      },
      "source": [
        "# 예시2 - 문자열 뒤집기(반복문과 조건문, 대입개념 활용)\n",
        "\n",
        "def reverse_string(strtest):\n",
        "  left, right = 0, len(strtest) - 1\n",
        "  while left < right:\n",
        "    strtest[left], strtest[right] = strtest[right], strtest[left]\n",
        "    left += 1\n",
        "    right -= 1\n",
        "\n",
        "  return strtest\n",
        "\n",
        "strtest =['a','b','c','d']\n",
        "print(reverse_string(strtest))\n",
        "print(strtest) # 위의 print 결과와 비교해보자."
      ],
      "execution_count": 2,
      "outputs": [
        {
          "output_type": "stream",
          "text": [
            "['d', 'c', 'b', 'a']\n",
            "['d', 'c', 'b', 'a']\n"
          ],
          "name": "stdout"
        }
      ]
    },
    {
      "cell_type": "code",
      "metadata": {
        "colab": {
          "base_uri": "https://localhost:8080/"
        },
        "id": "wKb9dWyxWoe0",
        "outputId": "93a87f58-7d5f-41db-bb42-c306fb6fd431"
      },
      "source": [
        "# 예시3 - 문자열 뒤집기(리스트에서 제공하는 메소드 사용)\n",
        "strtest2 =['a','b','c','d']\n",
        "strtest2.reverse() # 리스트 메소드를 사용하면 특정값을 반환하는 것이 아니라, 문자열을 뒤집어주는 기능만 한다.\n",
        "                          # 그래서 기능을 print를 해보면 함수에 대한 print를 하기 때문에 None이 출력된다.\n",
        "print(strtest2) "
      ],
      "execution_count": 3,
      "outputs": [
        {
          "output_type": "stream",
          "text": [
            "['d', 'c', 'b', 'a']\n"
          ],
          "name": "stdout"
        }
      ]
    },
    {
      "cell_type": "code",
      "metadata": {
        "colab": {
          "base_uri": "https://localhost:8080/"
        },
        "id": "fayq3fJ6W45C",
        "outputId": "a9bf1616-0303-4b61-e3f9-ecf3eb34eaae"
      },
      "source": [
        "# 예시4 - 문자열 뒤집기(리스트에서 제공하는 메소드가 아닌, 파이썬의 내장함수 활용)\n",
        "strtest3 =['a','b','c','d']\n",
        "tuple_test =('a','b','c','d')\n",
        "\n",
        "print(strtest3) \n",
        "print(list(reversed(strtest3)))\n",
        "print(tuple(reversed(strtest3)))\n",
        "print(strtest3)"
      ],
      "execution_count": 4,
      "outputs": [
        {
          "output_type": "stream",
          "text": [
            "['a', 'b', 'c', 'd']\n",
            "['d', 'c', 'b', 'a']\n",
            "('d', 'c', 'b', 'a')\n",
            "['a', 'b', 'c', 'd']\n"
          ],
          "name": "stdout"
        }
      ]
    },
    {
      "cell_type": "code",
      "metadata": {
        "id": "b6X8W491XDBp"
      },
      "source": [
        "def example_sort(array_test):\n",
        "  array_len = len(array_test)\n",
        "\n",
        "  array_test.append(5)\n",
        "  array_test.extend()\n",
        "  array_test.pop()\n",
        "\n",
        "  for i in range(1, array_len):\n",
        "    for j in range(i, 0, -1):   # 한 번 수행되고 더 이상 반복되지 않는 반복문이다.\n",
        "      if array_test[j] < array_test[j-1]: iterate_func(array_test, j, j-1)  \n",
        "      else: break"
      ],
      "execution_count": 5,
      "outputs": []
    },
    {
      "cell_type": "code",
      "metadata": {
        "colab": {
          "base_uri": "https://localhost:8080/",
          "height": 300
        },
        "id": "NeO9APZHdg2B",
        "outputId": "39f8144c-27d1-47ce-d7cd-05b098cf46eb"
      },
      "source": [
        "array_test = [1]\n",
        "example_sort(array_test)"
      ],
      "execution_count": 9,
      "outputs": [
        {
          "output_type": "error",
          "ename": "TypeError",
          "evalue": "ignored",
          "traceback": [
            "\u001b[0;31m---------------------------------------------------------------------------\u001b[0m",
            "\u001b[0;31mTypeError\u001b[0m                                 Traceback (most recent call last)",
            "\u001b[0;32m<ipython-input-9-5e52ba7b9321>\u001b[0m in \u001b[0;36m<module>\u001b[0;34m()\u001b[0m\n\u001b[1;32m      1\u001b[0m \u001b[0marray_test\u001b[0m \u001b[0;34m=\u001b[0m \u001b[0;34m[\u001b[0m\u001b[0;36m1\u001b[0m\u001b[0;34m]\u001b[0m\u001b[0;34m\u001b[0m\u001b[0;34m\u001b[0m\u001b[0m\n\u001b[0;32m----> 2\u001b[0;31m \u001b[0mexample_sort\u001b[0m\u001b[0;34m(\u001b[0m\u001b[0marray_test\u001b[0m\u001b[0;34m)\u001b[0m\u001b[0;34m\u001b[0m\u001b[0;34m\u001b[0m\u001b[0m\n\u001b[0m",
            "\u001b[0;32m<ipython-input-5-59fb37a337ce>\u001b[0m in \u001b[0;36mexample_sort\u001b[0;34m(array_test)\u001b[0m\n\u001b[1;32m      3\u001b[0m \u001b[0;34m\u001b[0m\u001b[0m\n\u001b[1;32m      4\u001b[0m   \u001b[0marray_test\u001b[0m\u001b[0;34m.\u001b[0m\u001b[0mappend\u001b[0m\u001b[0;34m(\u001b[0m\u001b[0;36m5\u001b[0m\u001b[0;34m)\u001b[0m\u001b[0;34m\u001b[0m\u001b[0;34m\u001b[0m\u001b[0m\n\u001b[0;32m----> 5\u001b[0;31m   \u001b[0marray_test\u001b[0m\u001b[0;34m.\u001b[0m\u001b[0mextend\u001b[0m\u001b[0;34m(\u001b[0m\u001b[0;34m)\u001b[0m\u001b[0;34m\u001b[0m\u001b[0;34m\u001b[0m\u001b[0m\n\u001b[0m\u001b[1;32m      6\u001b[0m   \u001b[0marray_test\u001b[0m\u001b[0;34m.\u001b[0m\u001b[0mpop\u001b[0m\u001b[0;34m(\u001b[0m\u001b[0;34m)\u001b[0m\u001b[0;34m\u001b[0m\u001b[0;34m\u001b[0m\u001b[0m\n\u001b[1;32m      7\u001b[0m \u001b[0;34m\u001b[0m\u001b[0m\n",
            "\u001b[0;31mTypeError\u001b[0m: extend() takes exactly one argument (0 given)"
          ]
        }
      ]
    },
    {
      "cell_type": "code",
      "metadata": {
        "id": "SSwUGEQmdkS3"
      },
      "source": [
        "# 연결리스트의 노드를 저장하는 첫 단계\n",
        "\n",
        "class Node:\n",
        "  def __init__(self,value,next=None):\n",
        "    self.value = value  # 노드의 값을 나타내는 value\n",
        "    self.next = next  # 노드의 다음위치를 가리키는 next의 초기값은 None\n",
        "\n",
        "class linked_list:\n",
        "  def __init__(self,value):\n",
        "    self.head = Node(value) # 초기 클래스에 head노드선언\n",
        "\n",
        "  def add_node(value):\n",
        "    node = head           # 첫번째 위치에 해당하는 head를 생성하고, node 변수에 저장해둔다.\n",
        "    while head.next:      # head노드의 다음위치에 노드가 생성될 때까지 반복문 진행한다.\n",
        "      node.next = head.next    # head노드의 다음위치에 노드가 있는 경우(두번째 노드라고 가정),\n",
        "      print(head.next)\n",
        "                          # 두번째 노드부터 node변수에 저장\n",
        "    node.next = Node(value)# 데이터를 노드 다음위치에 저장"
      ],
      "execution_count": 21,
      "outputs": []
    },
    {
      "cell_type": "code",
      "metadata": {
        "colab": {
          "base_uri": "https://localhost:8080/"
        },
        "id": "DEmfc_oJP3ot",
        "outputId": "553dbd05-7231-440f-89de-a36ea41d94c1"
      },
      "source": [
        "Node(5, 6)"
      ],
      "execution_count": 23,
      "outputs": [
        {
          "output_type": "execute_result",
          "data": {
            "text/plain": [
              "<__main__.Node at 0x7fcfd5f2b3d0>"
            ]
          },
          "metadata": {
            "tags": []
          },
          "execution_count": 23
        }
      ]
    },
    {
      "cell_type": "code",
      "metadata": {
        "colab": {
          "base_uri": "https://localhost:8080/",
          "height": 164
        },
        "id": "yGHhtDNWQjgZ",
        "outputId": "12cf64f3-04d6-419e-c1e4-246392785d46"
      },
      "source": [
        "Node.value()"
      ],
      "execution_count": 27,
      "outputs": [
        {
          "output_type": "error",
          "ename": "AttributeError",
          "evalue": "ignored",
          "traceback": [
            "\u001b[0;31m---------------------------------------------------------------------------\u001b[0m",
            "\u001b[0;31mAttributeError\u001b[0m                            Traceback (most recent call last)",
            "\u001b[0;32m<ipython-input-27-e3fc0d9c4a86>\u001b[0m in \u001b[0;36m<module>\u001b[0;34m()\u001b[0m\n\u001b[0;32m----> 1\u001b[0;31m \u001b[0mNode\u001b[0m\u001b[0;34m.\u001b[0m\u001b[0mvalue\u001b[0m\u001b[0;34m(\u001b[0m\u001b[0;34m)\u001b[0m\u001b[0;34m\u001b[0m\u001b[0;34m\u001b[0m\u001b[0m\n\u001b[0m",
            "\u001b[0;31mAttributeError\u001b[0m: type object 'Node' has no attribute 'value'"
          ]
        }
      ]
    },
    {
      "cell_type": "code",
      "metadata": {
        "colab": {
          "base_uri": "https://localhost:8080/",
          "height": 249
        },
        "id": "CUl3TkeyOUqC",
        "outputId": "1266c40c-1f93-4fb8-ad6f-68bb83df0b05"
      },
      "source": [
        "# 연결리스트의 노드값들에 대해서 봐보자.\n",
        "\n",
        "head = Node(5)    # head노드에 값5를 저장\n",
        "linked_list.add_node(11) # 값11을 추가\n",
        "\n",
        "\n",
        "print(head) # head노드의 주소\n",
        "print(head.next) # head노드의 다음위치노드의 주소값\n",
        "\n",
        "print(head.value) # head노드의 값은 5\n",
        "print(head.next.value) # head노드의 다음위치노드의 값은 11\n"
      ],
      "execution_count": 22,
      "outputs": [
        {
          "output_type": "stream",
          "text": [
            "<__main__.Node object at 0x7fcfd5e5c9d0>\n",
            "None\n",
            "5\n"
          ],
          "name": "stdout"
        },
        {
          "output_type": "error",
          "ename": "AttributeError",
          "evalue": "ignored",
          "traceback": [
            "\u001b[0;31m---------------------------------------------------------------------------\u001b[0m",
            "\u001b[0;31mAttributeError\u001b[0m                            Traceback (most recent call last)",
            "\u001b[0;32m<ipython-input-22-bf948699f8ff>\u001b[0m in \u001b[0;36m<module>\u001b[0;34m()\u001b[0m\n\u001b[1;32m      9\u001b[0m \u001b[0;34m\u001b[0m\u001b[0m\n\u001b[1;32m     10\u001b[0m \u001b[0mprint\u001b[0m\u001b[0;34m(\u001b[0m\u001b[0mhead\u001b[0m\u001b[0;34m.\u001b[0m\u001b[0mvalue\u001b[0m\u001b[0;34m)\u001b[0m \u001b[0;31m# head노드의 값은 5\u001b[0m\u001b[0;34m\u001b[0m\u001b[0;34m\u001b[0m\u001b[0m\n\u001b[0;32m---> 11\u001b[0;31m \u001b[0mprint\u001b[0m\u001b[0;34m(\u001b[0m\u001b[0mhead\u001b[0m\u001b[0;34m.\u001b[0m\u001b[0mnext\u001b[0m\u001b[0;34m.\u001b[0m\u001b[0mvalue\u001b[0m\u001b[0;34m)\u001b[0m \u001b[0;31m# head노드의 다음위치노드의 값은 11\u001b[0m\u001b[0;34m\u001b[0m\u001b[0;34m\u001b[0m\u001b[0m\n\u001b[0m",
            "\u001b[0;31mAttributeError\u001b[0m: 'NoneType' object has no attribute 'value'"
          ]
        }
      ]
    },
    {
      "cell_type": "code",
      "metadata": {
        "colab": {
          "base_uri": "https://localhost:8080/"
        },
        "id": "6NCV4YEiOahq",
        "outputId": "05fa26d5-5784-4b94-d493-1b3308d8830c"
      },
      "source": [
        "# 리스트를 연결해보자.\n",
        "\n",
        "node1 = Node(3)\n",
        "node2 = Node(4)\n",
        "\n",
        "node3 = Node(5)\n",
        "node4 = Node(6)\n",
        "\n",
        "node1.next = node2\n",
        "node2.next = node3\n",
        "node3.next = node4\n",
        "\n",
        "node = node1        # 첫번째노드부터 시작한다.\n",
        "while node:         # 노드별로 반복문을 수행\n",
        "  print(node.value) \n",
        "  node = node.next  # 다음노드를 현재노드에 저장하면서 위치를 바꾼다."
      ],
      "execution_count": 10,
      "outputs": [
        {
          "output_type": "stream",
          "text": [
            "3\n",
            "4\n",
            "5\n",
            "6\n"
          ],
          "name": "stdout"
        }
      ]
    },
    {
      "cell_type": "code",
      "metadata": {
        "colab": {
          "base_uri": "https://localhost:8080/"
        },
        "id": "MGXHGprzO3jy",
        "outputId": "d5691160-7103-44ce-c035-cbe8f26fe217"
      },
      "source": [
        "node = node1\n",
        "while node.next:         # 노드별로 반복문을 수행\n",
        "  print(node.next.value) \n",
        "  node = node.next\n"
      ],
      "execution_count": 13,
      "outputs": [
        {
          "output_type": "stream",
          "text": [
            "4\n",
            "5\n",
            "6\n"
          ],
          "name": "stdout"
        }
      ]
    },
    {
      "cell_type": "code",
      "metadata": {
        "colab": {
          "base_uri": "https://localhost:8080/"
        },
        "id": "Unqrv6k4PDoq",
        "outputId": "50f3cdf0-b65c-4dbd-c414-5656aa8376d3"
      },
      "source": [
        "n=30\n",
        "\n",
        "def isPrime(a):\n",
        "  \n",
        "  if(a<2):\n",
        "    return False\n",
        "  for i in range(2,a):\n",
        "    if(a%i==0):\n",
        "      return False\n",
        "  return True\n",
        "\n",
        "count = 0\n",
        "for i in range(1, n+1):\n",
        "  if(isPrime(i)):\n",
        "    count +=1\n",
        "    print(i)\n",
        "print(count)"
      ],
      "execution_count": 51,
      "outputs": [
        {
          "output_type": "stream",
          "text": [
            "2\n",
            "3\n",
            "5\n",
            "7\n",
            "11\n",
            "13\n",
            "17\n",
            "19\n",
            "23\n",
            "29\n",
            "10\n"
          ],
          "name": "stdout"
        }
      ]
    },
    {
      "cell_type": "code",
      "metadata": {
        "colab": {
          "base_uri": "https://localhost:8080/"
        },
        "id": "GixddE87fsPS",
        "outputId": "6c5224df-8c37-4532-de4a-8b0e8a42767d"
      },
      "source": [
        "n=30\n",
        "\n",
        "def isPrime(a):\n",
        "  \n",
        "  if(a<2):\n",
        "    return True\n",
        "  for i in range(2,a):\n",
        "    if(a%i==0):\n",
        "      return True\n",
        "  return False\n",
        "\n",
        "count = 0\n",
        "for i in range(1, n+1):\n",
        "  if(isPrime(i)):\n",
        "    count +=1\n",
        "    print(i)\n",
        "print(count)"
      ],
      "execution_count": 52,
      "outputs": [
        {
          "output_type": "stream",
          "text": [
            "1\n",
            "4\n",
            "6\n",
            "8\n",
            "9\n",
            "10\n",
            "12\n",
            "14\n",
            "15\n",
            "16\n",
            "18\n",
            "20\n",
            "21\n",
            "22\n",
            "24\n",
            "25\n",
            "26\n",
            "27\n",
            "28\n",
            "30\n",
            "20\n"
          ],
          "name": "stdout"
        }
      ]
    },
    {
      "cell_type": "code",
      "metadata": {
        "id": "GAidBadNVcAH"
      },
      "source": [
        "\n",
        "def part3(N):\n",
        "    if N < 2:\n",
        "        print(\"숫자:\", N, \" => 소수가 아닙니다.\")\n",
        "        return 0\n",
        "    for i in range(2, N):\n",
        "        if N % i == 0:\n",
        "            print(\"숫자:\", N, \" => 소수가 아닙니다.\")\n",
        "    print(\"숫자:\", N, \" => 소수입니다.\")"
      ],
      "execution_count": 30,
      "outputs": []
    },
    {
      "cell_type": "code",
      "metadata": {
        "colab": {
          "base_uri": "https://localhost:8080/"
        },
        "id": "nZiYr1m7XWNl",
        "outputId": "490890e1-d920-474f-ff61-9ef2a82be033"
      },
      "source": [
        "part3(1)"
      ],
      "execution_count": 32,
      "outputs": [
        {
          "output_type": "stream",
          "text": [
            "숫자: 1  => 소수가 아닙니다.\n"
          ],
          "name": "stdout"
        },
        {
          "output_type": "execute_result",
          "data": {
            "text/plain": [
              "0"
            ]
          },
          "metadata": {
            "tags": []
          },
          "execution_count": 32
        }
      ]
    },
    {
      "cell_type": "code",
      "metadata": {
        "id": "OlwKZpciXYny"
      },
      "source": [
        ""
      ],
      "execution_count": null,
      "outputs": []
    }
  ]
}