{
 "cells": [
  {
   "cell_type": "markdown",
   "metadata": {},
   "source": [
    "# 1DAY - 2021.02.15\n",
    "\n",
    "\n",
    "## 하단에 지속적으로 연결하여 과제 진행하였습니다."
   ]
  },
  {
   "cell_type": "markdown",
   "metadata": {},
   "source": [
    "### 프로젝트 사전 준비과정\n",
    "\n",
    "월 \n",
    " * 데이터 종류 : [회귀] 자전거 수요 예측 \n",
    " * 유명했던 캐글 데이터를 직접 분석하여 기초적인 EDA 및 분석 방법을 터득한다.   \n",
    " * 또한, 최대한 타겟과의 많은 시각화를 해봄므로 시각화에 익숙해지고자 한다.   \n",
    "  \n",
    "화  \n",
    " * 데이터 종류 : [분류] 승리여부 \n",
    " * 담당자의 흥미를 유발하기 위해 좋아하는 LOL 게임 데이터를 활용하여 분석해본다. \n",
    "   \n",
    "수 - 아무리 고민을 해봐도 주택가격 예측은 너무 좋은 예로 사료되어 진지하게 EDA 및 분석을 진행하고자 한다.  \n",
    "목 - 미정  \n",
    "금 - 미정  \n",
    "  \n",
    "### 프로젝트 준비 과정 \n",
    "  * 미정  "
   ]
  },
  {
   "cell_type": "markdown",
   "metadata": {},
   "source": [
    "## 해당 과제를 하면서 배운 점 \n",
    "  \n",
    "###  1. train과 test 데이터에 컬럼을 반드시 확인하여야 한다. \n",
    "###  2. 한쪽에 편중된 데이터는 의심하고 imputer처리를 해야한다. \n",
    "###  3. 상관관계가 너무 높은 것들에 대해서는 의심을 해야한다. \n",
    "###  4. 중복된 feature가 있는지 반드시 확인해야 한다. \n",
    "###  5. 타겟 데이터의 편중이 있다면, log를 취해주어야 한다."
   ]
  },
  {
   "cell_type": "markdown",
   "metadata": {},
   "source": [
    "### 1) 타겟으로 사용할 특성을 선택합니다."
   ]
  },
  {
   "cell_type": "markdown",
   "metadata": {},
   "source": [
    "자전거 대여량 수 "
   ]
  },
  {
   "cell_type": "markdown",
   "metadata": {},
   "source": [
    "### 2) 풀고자 하는 문제가 분류/회귀 문제인지 정합니다."
   ]
  },
  {
   "cell_type": "markdown",
   "metadata": {},
   "source": [
    "회귀문제"
   ]
  },
  {
   "cell_type": "markdown",
   "metadata": {},
   "source": [
    " #### * 개요   \n",
    "  -. 저는 DS.ltd를 운영하고 있는 데이터사이언스 입니다.   \n",
    "  -. 제가 주로 운동하는 코스에는 점점 자전거 대여 및 자전거 관련 시설이   \n",
    "     증가하는 것을 관측하여 자전거 관련하여 예산 투자가 많이 이루어지고   \n",
    "     있다는 사실을 인지하였다.    \n",
    "  \n",
    "  -. 어느 날 자치도에서 각 시군별 자전거 관련하여 감사 및 적절성 평가를  \n",
    "     진행한다는 공문이 내려졌습니다.   \n",
    "  -. 이에, 시,군,동별 자전거 담당자는 DS.ltd에 급히 자전거분석을 요청하였습니다.   \n",
    "    \n",
    "  \n",
    " #### * 요청상세내역   \n",
    "  -. 현행되고 있는 \"자전거 활성화 사업\"은 외국의 사업모델을 밴치마킹하였습니다.   \n",
    "  -. 이에, 해외 사업모델을 기준으로 감사가 이루어질 예정입니다.   \n",
    "  -. 감사의 주된 목표는 과거 분석을 기반으로 예측이   \n",
    "     얼마나 적중하였는가 최종포인트입니다.   \n",
    "     \n",
    "  -. 이에, 해외 자전거 수요 분석을 중점적으로 분석하여 월별, 주말별 예측이   \n",
    "     얼마나 적중하였는지 확인하고자 합니다.   \n",
    "       \n",
    "         \n",
    "  **-. 여기서 검증데이터는 공공 데이터포털에 업로드된   \n",
    "     서울시 2019.06~2019.12까지의 데이터를 사용하여 체크토록 하겠습니다.**   "
   ]
  },
  {
   "cell_type": "markdown",
   "metadata": {},
   "source": [
    "해당 데이터가 어떤식으로 구성되어 있는지 feature은 어떤 특성이  \n",
    "있는지를 먼저 살펴보도록 하겠습니다. "
   ]
  },
  {
   "cell_type": "markdown",
   "metadata": {},
   "source": [
    "datetime - 일자와 시간으로 구성된 데이터   \n",
    "season - 계절별 데이터 (1 = spring, 2 = summer, 3 = fall, 4 = winter)   \n",
    "holiday - 공휴일이면 1, 아니면 0  \n",
    "workingday - 일하는 일자면 1, 아니면 0  \n",
    "weather  \n",
    "  * 1: Clear, Few clouds, Partly cloudy, Partly cloudy  \n",
    "  * 2: Mist + Cloudy, Mist + Broken clouds, Mist + Few clouds, Mist  \n",
    "  * 3: Light Snow, Light Rain + Thunderstorm + Scattered clouds, Light Rain + Scattered clouds  \n",
    "  * 4: Heavy Rain + Ice Pallets + Thunderstorm + Mist, Snow + Fog   \n",
    "temp - 실제온도 \n",
    "atemp - 체감온도\n",
    "humidity - relative humidity  \n",
    "windspeed - wind speed  \n",
    "casual - 등록하지 않고 단순 대여하는 사람  \n",
    "registered - 등록 후 지속적으로 대여하는 사람 \n",
    "count - 대여수 ( 타겟 정보 )   \n"
   ]
  },
  {
   "cell_type": "code",
   "execution_count": 1,
   "metadata": {},
   "outputs": [],
   "source": [
    "import pandas as pd\n",
    "import numpy as np\n",
    "import matplotlib.pyplot as plt\n",
    "import seaborn as sns\n",
    "from scipy import stats\n",
    "\n",
    "# 노트북 안에 그래프를 그리기 위해 \n",
    "%matplotlib inline\n",
    "\n",
    "# 그래프 스타일 지정 \n",
    "plt.style.use(\"ggplot\")\n",
    "\n",
    "# 그래프에서 마이너스 폰트 깨지는 문제를 방지하기 위한 코드 \n",
    "plt.rc(\"axes\", unicode_minus=False)\n",
    "\n",
    "# 그래프에서 한글폰트가 깨지는걸 방지하기 위한 코드 \n",
    "def get_font_family():\n",
    "    \"\"\"\n",
    "    시스템 환경에 따른 기본 폰트명을 반환하는 함수\n",
    "    \"\"\"\n",
    "    import platform\n",
    "    system_name = platform.system()\n",
    "    # colab 사용자는 system_name이 'Linux'로 확인\n",
    "\n",
    "    if system_name == \"Darwin\" :\n",
    "        font_family = \"AppleGothic\"\n",
    "    elif system_name == \"Windows\":\n",
    "        font_family = \"Malgun Gothic\"\n",
    "    else:\n",
    "        # Linux\n",
    "        # colab에서는 runtime을 <꼭> 재시작 해야합니다.\n",
    "        # 런타임을 재시작 하지 않고 폰트 설치를 하면 기본 설정 폰트가 로드되어 한글이 깨집니다.\n",
    "        !apt-get update -qq\n",
    "        !apt-get install fonts-nanum -qq  > /dev/null\n",
    "\n",
    "        import matplotlib.font_manager as fm\n",
    "\n",
    "        fontpath = '/usr/share/fonts/truetype/nanum/NanumBarunGothic.ttf'\n",
    "        font = fm.FontProperties(fname=fontpath, size=9)\n",
    "        fm._rebuild()\n",
    "        font_family = \"NanumBarunGothic\"\n",
    "    return font_family\n",
    "\n",
    "font_family = get_font_family()\n",
    "plt.rc(\"font\", family=font_family)"
   ]
  },
  {
   "cell_type": "code",
   "execution_count": 2,
   "metadata": {},
   "outputs": [],
   "source": [
    "train_url = \"https://raw.githubusercontent.com/daje0601/pandas_study/main/bootcamp_DS/section/section3/1day/bike_test.csv\"\n",
    "test_url = \"https://raw.githubusercontent.com/daje0601/pandas_study/main/bootcamp_DS/section/section3/1day/bike_train.csv\"\n",
    "\n",
    "train_df = pd.read_csv(train_url, parse_dates=[\"datetime\"])\n",
    "test_df =  pd.read_csv(test_url, parse_dates=[\"datetime\"])"
   ]
  },
  {
   "cell_type": "code",
   "execution_count": 3,
   "metadata": {},
   "outputs": [
    {
     "data": {
      "text/html": [
       "<div>\n",
       "<style scoped>\n",
       "    .dataframe tbody tr th:only-of-type {\n",
       "        vertical-align: middle;\n",
       "    }\n",
       "\n",
       "    .dataframe tbody tr th {\n",
       "        vertical-align: top;\n",
       "    }\n",
       "\n",
       "    .dataframe thead th {\n",
       "        text-align: right;\n",
       "    }\n",
       "</style>\n",
       "<table border=\"1\" class=\"dataframe\">\n",
       "  <thead>\n",
       "    <tr style=\"text-align: right;\">\n",
       "      <th></th>\n",
       "      <th>datetime</th>\n",
       "      <th>season</th>\n",
       "      <th>holiday</th>\n",
       "      <th>workingday</th>\n",
       "      <th>weather</th>\n",
       "      <th>temp</th>\n",
       "      <th>atemp</th>\n",
       "      <th>humidity</th>\n",
       "      <th>windspeed</th>\n",
       "    </tr>\n",
       "  </thead>\n",
       "  <tbody>\n",
       "    <tr>\n",
       "      <th>0</th>\n",
       "      <td>2011-01-20 00:00:00</td>\n",
       "      <td>1</td>\n",
       "      <td>0</td>\n",
       "      <td>1</td>\n",
       "      <td>1</td>\n",
       "      <td>10.66</td>\n",
       "      <td>11.365</td>\n",
       "      <td>56</td>\n",
       "      <td>26.0027</td>\n",
       "    </tr>\n",
       "    <tr>\n",
       "      <th>1</th>\n",
       "      <td>2011-01-20 01:00:00</td>\n",
       "      <td>1</td>\n",
       "      <td>0</td>\n",
       "      <td>1</td>\n",
       "      <td>1</td>\n",
       "      <td>10.66</td>\n",
       "      <td>13.635</td>\n",
       "      <td>56</td>\n",
       "      <td>0.0000</td>\n",
       "    </tr>\n",
       "    <tr>\n",
       "      <th>2</th>\n",
       "      <td>2011-01-20 02:00:00</td>\n",
       "      <td>1</td>\n",
       "      <td>0</td>\n",
       "      <td>1</td>\n",
       "      <td>1</td>\n",
       "      <td>10.66</td>\n",
       "      <td>13.635</td>\n",
       "      <td>56</td>\n",
       "      <td>0.0000</td>\n",
       "    </tr>\n",
       "    <tr>\n",
       "      <th>3</th>\n",
       "      <td>2011-01-20 03:00:00</td>\n",
       "      <td>1</td>\n",
       "      <td>0</td>\n",
       "      <td>1</td>\n",
       "      <td>1</td>\n",
       "      <td>10.66</td>\n",
       "      <td>12.880</td>\n",
       "      <td>56</td>\n",
       "      <td>11.0014</td>\n",
       "    </tr>\n",
       "    <tr>\n",
       "      <th>4</th>\n",
       "      <td>2011-01-20 04:00:00</td>\n",
       "      <td>1</td>\n",
       "      <td>0</td>\n",
       "      <td>1</td>\n",
       "      <td>1</td>\n",
       "      <td>10.66</td>\n",
       "      <td>12.880</td>\n",
       "      <td>56</td>\n",
       "      <td>11.0014</td>\n",
       "    </tr>\n",
       "  </tbody>\n",
       "</table>\n",
       "</div>"
      ],
      "text/plain": [
       "             datetime  season  holiday  workingday  weather   temp   atemp  \\\n",
       "0 2011-01-20 00:00:00       1        0           1        1  10.66  11.365   \n",
       "1 2011-01-20 01:00:00       1        0           1        1  10.66  13.635   \n",
       "2 2011-01-20 02:00:00       1        0           1        1  10.66  13.635   \n",
       "3 2011-01-20 03:00:00       1        0           1        1  10.66  12.880   \n",
       "4 2011-01-20 04:00:00       1        0           1        1  10.66  12.880   \n",
       "\n",
       "   humidity  windspeed  \n",
       "0        56    26.0027  \n",
       "1        56     0.0000  \n",
       "2        56     0.0000  \n",
       "3        56    11.0014  \n",
       "4        56    11.0014  "
      ]
     },
     "execution_count": 3,
     "metadata": {},
     "output_type": "execute_result"
    }
   ],
   "source": [
    "train_df.head()"
   ]
  },
  {
   "cell_type": "code",
   "execution_count": 4,
   "metadata": {
    "scrolled": true
   },
   "outputs": [
    {
     "data": {
      "text/plain": [
       "Index(['datetime', 'season', 'holiday', 'workingday', 'weather', 'temp',\n",
       "       'atemp', 'humidity', 'windspeed'],\n",
       "      dtype='object')"
      ]
     },
     "execution_count": 4,
     "metadata": {},
     "output_type": "execute_result"
    }
   ],
   "source": [
    "train_df.columns"
   ]
  },
  {
   "cell_type": "code",
   "execution_count": 5,
   "metadata": {},
   "outputs": [
    {
     "data": {
      "text/plain": [
       "Index(['datetime', 'season', 'holiday', 'workingday', 'weather', 'temp',\n",
       "       'atemp', 'humidity', 'windspeed', 'casual', 'registered', 'count'],\n",
       "      dtype='object')"
      ]
     },
     "execution_count": 5,
     "metadata": {},
     "output_type": "execute_result"
    }
   ],
   "source": [
    "test_df.columns"
   ]
  },
  {
   "cell_type": "markdown",
   "metadata": {},
   "source": [
    "혹시 몰라서 train, test 데이터의 feature를 비교해본 결과,  \n",
    "'casual', 'registered', 'count' feature는 test 데이터에 없었다.  \n",
    "\n",
    "아마, 이들이 금일 학습한 leak(누수)의 원인이 되지 않나 추측해본다.  \n",
    "count가 나와야 그 데이터를 이용해서 실제 등록한 사람이 사용했는지  \n",
    "아니면 그냥 단순하게 대여만 한것인지 결론이 나오기 때문에  \n",
    "### **이러한 데이터는 분석할 때 주의가 필요하다고 생각한다.★**   \n",
    "  \n",
    "   \n"
   ]
  },
  {
   "cell_type": "markdown",
   "metadata": {},
   "source": [
    "( 그래도 우리에게는 데이터가 중요하기 때문에 맨 마지막 registered, casual 데이터를 포함하여 성능을 비교해보는 시간을 갖을 예정이다. )"
   ]
  },
  {
   "cell_type": "code",
   "execution_count": 13,
   "metadata": {},
   "outputs": [
    {
     "name": "stdout",
     "output_type": "stream",
     "text": [
      "<class 'pandas.core.frame.DataFrame'>\n",
      "RangeIndex: 6493 entries, 0 to 6492\n",
      "Data columns (total 14 columns):\n",
      " #   Column      Non-Null Count  Dtype         \n",
      "---  ------      --------------  -----         \n",
      " 0   datetime    6493 non-null   datetime64[ns]\n",
      " 1   season      6493 non-null   int64         \n",
      " 2   holiday     6493 non-null   int64         \n",
      " 3   workingday  6493 non-null   int64         \n",
      " 4   weather     6493 non-null   int64         \n",
      " 5   temp        6493 non-null   float64       \n",
      " 6   atemp       6493 non-null   float64       \n",
      " 7   humidity    6493 non-null   int64         \n",
      " 8   windspeed   6493 non-null   float64       \n",
      " 9   year        6493 non-null   int64         \n",
      " 10  month       6493 non-null   int64         \n",
      " 11  day         6493 non-null   int64         \n",
      " 12  hour        6493 non-null   int64         \n",
      " 13  dayofweek   6493 non-null   int64         \n",
      "dtypes: datetime64[ns](1), float64(3), int64(10)\n",
      "memory usage: 710.3 KB\n"
     ]
    }
   ],
   "source": [
    "train_df.info()"
   ]
  },
  {
   "cell_type": "code",
   "execution_count": 14,
   "metadata": {},
   "outputs": [
    {
     "data": {
      "text/plain": [
       "(6493, 14)"
      ]
     },
     "execution_count": 14,
     "metadata": {},
     "output_type": "execute_result"
    }
   ],
   "source": [
    "train_df.shape"
   ]
  },
  {
   "cell_type": "code",
   "execution_count": 15,
   "metadata": {},
   "outputs": [
    {
     "data": {
      "text/plain": [
       "datetime      0\n",
       "season        0\n",
       "holiday       0\n",
       "workingday    0\n",
       "weather       0\n",
       "temp          0\n",
       "atemp         0\n",
       "humidity      0\n",
       "windspeed     0\n",
       "year          0\n",
       "month         0\n",
       "day           0\n",
       "hour          0\n",
       "dayofweek     0\n",
       "dtype: int64"
      ]
     },
     "execution_count": 15,
     "metadata": {},
     "output_type": "execute_result"
    }
   ],
   "source": [
    "train_df.isnull().sum()"
   ]
  },
  {
   "cell_type": "markdown",
   "metadata": {},
   "source": [
    "shape를 확인하였을 때 데이터는 작지 않은 것을 판단하였습니다.    \n",
    "다행스럽게도 데이터가 깨끗해서 결측치가 없는 것으로 확인되었다.  \n",
    "향후 데이터를 연습할때는 데이터에 결측치가 포함되어 있는 데이터로 훈련을 진행할 예정이다."
   ]
  },
  {
   "cell_type": "markdown",
   "metadata": {},
   "source": [
    "# 1. 시각화 및 EDA"
   ]
  },
  {
   "cell_type": "markdown",
   "metadata": {},
   "source": [
    "### 1) datetime  \n",
    "수요 예측을 위해 우리가 필요한 데이터는  \n",
    "  1. 연별 사용량   \n",
    "  2. 월별 사용량   \n",
    "  3. 일별 사용량  \n",
    "  4. 시간대별 사용량  \n",
    "  \n",
    "위와 데이터가 추가적으로 필요하므로, datetime을 나누어주도록 하겠습니다.   \n",
    "( 지난 시간에 배웠던 dt를 이용하여 나누겠습니다. )"
   ]
  },
  {
   "cell_type": "code",
   "execution_count": 16,
   "metadata": {},
   "outputs": [],
   "source": [
    "train_df[\"year\"] = train_df[\"datetime\"].dt.year\n",
    "train_df[\"month\"] = train_df[\"datetime\"].dt.month\n",
    "train_df[\"day\"] = train_df[\"datetime\"].dt.day\n",
    "train_df[\"hour\"] = train_df[\"datetime\"].dt.hour\n",
    "train_df[\"dayofweek\"] = train_df[\"datetime\"].dt.dayofweek"
   ]
  },
  {
   "cell_type": "code",
   "execution_count": 17,
   "metadata": {},
   "outputs": [],
   "source": [
    "test_df[\"year\"] = train_df[\"datetime\"].dt.year\n",
    "test_df[\"month\"] = train_df[\"datetime\"].dt.month\n",
    "test_df[\"day\"] = train_df[\"datetime\"].dt.day\n",
    "test_df[\"hour\"] = train_df[\"datetime\"].dt.hour\n",
    "test_df[\"dayofweek\"] = train_df[\"datetime\"].dt.dayofweek"
   ]
  },
  {
   "cell_type": "code",
   "execution_count": 18,
   "metadata": {},
   "outputs": [
    {
     "ename": "ValueError",
     "evalue": "Could not interpret input 'count'",
     "output_type": "error",
     "traceback": [
      "\u001b[1;31m---------------------------------------------------------------------------\u001b[0m",
      "\u001b[1;31mValueError\u001b[0m                                Traceback (most recent call last)",
      "\u001b[1;32m<ipython-input-18-111563177877>\u001b[0m in \u001b[0;36m<module>\u001b[1;34m\u001b[0m\n\u001b[0;32m      3\u001b[0m \u001b[0mfigure\u001b[0m\u001b[1;33m.\u001b[0m\u001b[0mset_size_inches\u001b[0m\u001b[1;33m(\u001b[0m\u001b[1;36m20\u001b[0m\u001b[1;33m,\u001b[0m \u001b[1;36m15\u001b[0m\u001b[1;33m)\u001b[0m\u001b[1;33m\u001b[0m\u001b[1;33m\u001b[0m\u001b[0m\n\u001b[0;32m      4\u001b[0m \u001b[1;33m\u001b[0m\u001b[0m\n\u001b[1;32m----> 5\u001b[1;33m \u001b[0msns\u001b[0m\u001b[1;33m.\u001b[0m\u001b[0mbarplot\u001b[0m\u001b[1;33m(\u001b[0m\u001b[0mdata\u001b[0m\u001b[1;33m=\u001b[0m\u001b[0mtrain_df\u001b[0m\u001b[1;33m,\u001b[0m \u001b[0mx\u001b[0m\u001b[1;33m=\u001b[0m\u001b[1;34m\"year\"\u001b[0m\u001b[1;33m,\u001b[0m \u001b[0my\u001b[0m\u001b[1;33m=\u001b[0m\u001b[1;34m\"count\"\u001b[0m\u001b[1;33m,\u001b[0m \u001b[0max\u001b[0m\u001b[1;33m=\u001b[0m\u001b[0max1\u001b[0m\u001b[1;33m)\u001b[0m\u001b[1;33m\u001b[0m\u001b[1;33m\u001b[0m\u001b[0m\n\u001b[0m\u001b[0;32m      6\u001b[0m \u001b[0msns\u001b[0m\u001b[1;33m.\u001b[0m\u001b[0mbarplot\u001b[0m\u001b[1;33m(\u001b[0m\u001b[0mdata\u001b[0m\u001b[1;33m=\u001b[0m\u001b[0mtrain_df\u001b[0m\u001b[1;33m,\u001b[0m \u001b[0mx\u001b[0m\u001b[1;33m=\u001b[0m\u001b[1;34m\"month\"\u001b[0m\u001b[1;33m,\u001b[0m \u001b[0my\u001b[0m\u001b[1;33m=\u001b[0m\u001b[1;34m\"count\"\u001b[0m\u001b[1;33m,\u001b[0m \u001b[0max\u001b[0m\u001b[1;33m=\u001b[0m\u001b[0max2\u001b[0m\u001b[1;33m)\u001b[0m\u001b[1;33m\u001b[0m\u001b[1;33m\u001b[0m\u001b[0m\n\u001b[0;32m      7\u001b[0m \u001b[0msns\u001b[0m\u001b[1;33m.\u001b[0m\u001b[0mbarplot\u001b[0m\u001b[1;33m(\u001b[0m\u001b[0mdata\u001b[0m\u001b[1;33m=\u001b[0m\u001b[0mtrain_df\u001b[0m\u001b[1;33m,\u001b[0m \u001b[0mx\u001b[0m\u001b[1;33m=\u001b[0m\u001b[1;34m\"day\"\u001b[0m\u001b[1;33m,\u001b[0m \u001b[0my\u001b[0m\u001b[1;33m=\u001b[0m\u001b[1;34m\"count\"\u001b[0m\u001b[1;33m,\u001b[0m \u001b[0max\u001b[0m\u001b[1;33m=\u001b[0m\u001b[0max3\u001b[0m\u001b[1;33m)\u001b[0m\u001b[1;33m\u001b[0m\u001b[1;33m\u001b[0m\u001b[0m\n",
      "\u001b[1;32m~\\anaconda3\\lib\\site-packages\\seaborn\\_decorators.py\u001b[0m in \u001b[0;36minner_f\u001b[1;34m(*args, **kwargs)\u001b[0m\n\u001b[0;32m     44\u001b[0m             )\n\u001b[0;32m     45\u001b[0m         \u001b[0mkwargs\u001b[0m\u001b[1;33m.\u001b[0m\u001b[0mupdate\u001b[0m\u001b[1;33m(\u001b[0m\u001b[1;33m{\u001b[0m\u001b[0mk\u001b[0m\u001b[1;33m:\u001b[0m \u001b[0marg\u001b[0m \u001b[1;32mfor\u001b[0m \u001b[0mk\u001b[0m\u001b[1;33m,\u001b[0m \u001b[0marg\u001b[0m \u001b[1;32min\u001b[0m \u001b[0mzip\u001b[0m\u001b[1;33m(\u001b[0m\u001b[0msig\u001b[0m\u001b[1;33m.\u001b[0m\u001b[0mparameters\u001b[0m\u001b[1;33m,\u001b[0m \u001b[0margs\u001b[0m\u001b[1;33m)\u001b[0m\u001b[1;33m}\u001b[0m\u001b[1;33m)\u001b[0m\u001b[1;33m\u001b[0m\u001b[1;33m\u001b[0m\u001b[0m\n\u001b[1;32m---> 46\u001b[1;33m         \u001b[1;32mreturn\u001b[0m \u001b[0mf\u001b[0m\u001b[1;33m(\u001b[0m\u001b[1;33m**\u001b[0m\u001b[0mkwargs\u001b[0m\u001b[1;33m)\u001b[0m\u001b[1;33m\u001b[0m\u001b[1;33m\u001b[0m\u001b[0m\n\u001b[0m\u001b[0;32m     47\u001b[0m     \u001b[1;32mreturn\u001b[0m \u001b[0minner_f\u001b[0m\u001b[1;33m\u001b[0m\u001b[1;33m\u001b[0m\u001b[0m\n\u001b[0;32m     48\u001b[0m \u001b[1;33m\u001b[0m\u001b[0m\n",
      "\u001b[1;32m~\\anaconda3\\lib\\site-packages\\seaborn\\categorical.py\u001b[0m in \u001b[0;36mbarplot\u001b[1;34m(x, y, hue, data, order, hue_order, estimator, ci, n_boot, units, seed, orient, color, palette, saturation, errcolor, errwidth, capsize, dodge, ax, **kwargs)\u001b[0m\n\u001b[0;32m   3167\u001b[0m ):\n\u001b[0;32m   3168\u001b[0m \u001b[1;33m\u001b[0m\u001b[0m\n\u001b[1;32m-> 3169\u001b[1;33m     plotter = _BarPlotter(x, y, hue, data, order, hue_order,\n\u001b[0m\u001b[0;32m   3170\u001b[0m                           \u001b[0mestimator\u001b[0m\u001b[1;33m,\u001b[0m \u001b[0mci\u001b[0m\u001b[1;33m,\u001b[0m \u001b[0mn_boot\u001b[0m\u001b[1;33m,\u001b[0m \u001b[0munits\u001b[0m\u001b[1;33m,\u001b[0m \u001b[0mseed\u001b[0m\u001b[1;33m,\u001b[0m\u001b[1;33m\u001b[0m\u001b[1;33m\u001b[0m\u001b[0m\n\u001b[0;32m   3171\u001b[0m                           \u001b[0morient\u001b[0m\u001b[1;33m,\u001b[0m \u001b[0mcolor\u001b[0m\u001b[1;33m,\u001b[0m \u001b[0mpalette\u001b[0m\u001b[1;33m,\u001b[0m \u001b[0msaturation\u001b[0m\u001b[1;33m,\u001b[0m\u001b[1;33m\u001b[0m\u001b[1;33m\u001b[0m\u001b[0m\n",
      "\u001b[1;32m~\\anaconda3\\lib\\site-packages\\seaborn\\categorical.py\u001b[0m in \u001b[0;36m__init__\u001b[1;34m(self, x, y, hue, data, order, hue_order, estimator, ci, n_boot, units, seed, orient, color, palette, saturation, errcolor, errwidth, capsize, dodge)\u001b[0m\n\u001b[0;32m   1582\u001b[0m                  errwidth, capsize, dodge):\n\u001b[0;32m   1583\u001b[0m         \u001b[1;34m\"\"\"Initialize the plotter.\"\"\"\u001b[0m\u001b[1;33m\u001b[0m\u001b[1;33m\u001b[0m\u001b[0m\n\u001b[1;32m-> 1584\u001b[1;33m         self.establish_variables(x, y, hue, data, orient,\n\u001b[0m\u001b[0;32m   1585\u001b[0m                                  order, hue_order, units)\n\u001b[0;32m   1586\u001b[0m         \u001b[0mself\u001b[0m\u001b[1;33m.\u001b[0m\u001b[0mestablish_colors\u001b[0m\u001b[1;33m(\u001b[0m\u001b[0mcolor\u001b[0m\u001b[1;33m,\u001b[0m \u001b[0mpalette\u001b[0m\u001b[1;33m,\u001b[0m \u001b[0msaturation\u001b[0m\u001b[1;33m)\u001b[0m\u001b[1;33m\u001b[0m\u001b[1;33m\u001b[0m\u001b[0m\n",
      "\u001b[1;32m~\\anaconda3\\lib\\site-packages\\seaborn\\categorical.py\u001b[0m in \u001b[0;36mestablish_variables\u001b[1;34m(self, x, y, hue, data, orient, order, hue_order, units)\u001b[0m\n\u001b[0;32m    151\u001b[0m                 \u001b[1;32mif\u001b[0m \u001b[0misinstance\u001b[0m\u001b[1;33m(\u001b[0m\u001b[0mvar\u001b[0m\u001b[1;33m,\u001b[0m \u001b[0mstr\u001b[0m\u001b[1;33m)\u001b[0m\u001b[1;33m:\u001b[0m\u001b[1;33m\u001b[0m\u001b[1;33m\u001b[0m\u001b[0m\n\u001b[0;32m    152\u001b[0m                     \u001b[0merr\u001b[0m \u001b[1;33m=\u001b[0m \u001b[1;34m\"Could not interpret input '{}'\"\u001b[0m\u001b[1;33m.\u001b[0m\u001b[0mformat\u001b[0m\u001b[1;33m(\u001b[0m\u001b[0mvar\u001b[0m\u001b[1;33m)\u001b[0m\u001b[1;33m\u001b[0m\u001b[1;33m\u001b[0m\u001b[0m\n\u001b[1;32m--> 153\u001b[1;33m                     \u001b[1;32mraise\u001b[0m \u001b[0mValueError\u001b[0m\u001b[1;33m(\u001b[0m\u001b[0merr\u001b[0m\u001b[1;33m)\u001b[0m\u001b[1;33m\u001b[0m\u001b[1;33m\u001b[0m\u001b[0m\n\u001b[0m\u001b[0;32m    154\u001b[0m \u001b[1;33m\u001b[0m\u001b[0m\n\u001b[0;32m    155\u001b[0m             \u001b[1;31m# Figure out the plotting orientation\u001b[0m\u001b[1;33m\u001b[0m\u001b[1;33m\u001b[0m\u001b[1;33m\u001b[0m\u001b[0m\n",
      "\u001b[1;31mValueError\u001b[0m: Could not interpret input 'count'"
     ]
    },
    {
     "data": {
      "image/png": "[encoded data removed]",
      "text/plain": [
       "<Figure size 1440x1080 with 4 Axes>"
      ]
     },
     "metadata": {
      "needs_background": "light"
     },
     "output_type": "display_data"
    }
   ],
   "source": [
    "\n",
    "figure, ((ax1, ax2), (ax3, ax4)) = plt.subplots(nrows=2, ncols=2)\n",
    "figure.set_size_inches(20, 15)\n",
    "\n",
    "sns.barplot(data=train_df, x=\"year\", y=\"count\", ax=ax1)\n",
    "sns.barplot(data=train_df, x=\"month\", y=\"count\", ax=ax2)\n",
    "sns.barplot(data=train_df, x=\"day\", y=\"count\", ax=ax3)\n",
    "sns.barplot(data=train_df, x=\"hour\", y=\"count\", ax=ax4)\n",
    "\n",
    "ax1.set(ylabel='Count',title=\"연도별 대여량\")\n",
    "ax2.set(xlabel='month',title=\"월별 대여량\")\n",
    "ax3.set(xlabel='day', title=\"일별 대여량\")\n",
    "ax4.set(xlabel='hour', title=\"시간별 대여량\")"
   ]
  },
  {
   "cell_type": "code",
   "execution_count": null,
   "metadata": {},
   "outputs": [],
   "source": [
    "train_df[\"day\"].unique()"
   ]
  },
  {
   "cell_type": "markdown",
   "metadata": {},
   "source": [
    "* 연도 : 11년도 대비 12년도 대여량이 소폭 증가함\n",
    "* 월별 : 날씨가 좋은 3월부터 대여량이 증가하며, 겨울을 맞이하여 대여량이 감소하는 것으로 관측됨 \n",
    "* 일별 : 일별 대여량이 19일까지만 있어서 한참 확인하였으나, 19일이부터는 test데이터에 있는 것을 파악되었다. 이에 해당 데이터는 참고용으로만 사용하고자 한다. \n",
    "* 시간대 : 아침 출근시간과 퇴근시간에 사용량이 증가된 것으로 보아 출퇴근용으로 자전거를 사용하는 것이 아닌지 조심스럽게 추측해보고자 함 "
   ]
  },
  {
   "cell_type": "markdown",
   "metadata": {},
   "source": [
    "### 2) weather 외 feature 분석 \n",
    "이제 나머지 feature들과 count와의 상관관계를 예측해보고자 한다. "
   ]
  },
  {
   "cell_type": "code",
   "execution_count": null,
   "metadata": {},
   "outputs": [],
   "source": [
    "figure, (ax1, ax2, ax3, ax4, ax5) = plt.subplots(nrows=5)\n",
    "figure.set_size_inches(18, 40)\n",
    "\n",
    "sns.pointplot(data=train_df, x=\"hour\", y=\"count\", ax=ax1)\n",
    "sns.pointplot(data=train_df, x=\"hour\", y=\"count\", ax=ax2, hue=\"workingday\")\n",
    "sns.pointplot(data=train_df, x=\"hour\", y=\"count\", ax=ax3, hue=\"holiday\")\n",
    "sns.pointplot(data=train_df, x=\"hour\", y=\"count\", ax=ax4, hue=\"weather\")\n",
    "sns.pointplot(data=train_df, x=\"hour\", y=\"count\", ax=ax5, hue=\"season\")\n",
    "\n",
    "ax1.set(title=\"시간대별 대여량\")\n",
    "ax2.set(title=\"시간대 / workingday별 대여량\")\n",
    "ax3.set(title=\"시간대 / holiday별 대여량\")\n",
    "ax4.set(title=\"시간대 / weather별 대여량\")\n",
    "ax5.set(title=\"시간대 / season별 대여량\")"
   ]
  },
  {
   "cell_type": "markdown",
   "metadata": {},
   "source": [
    "위 그래프를 분석한 결과, \n",
    " 1) 시간대별 단순 대여량을 보았을 때는 위에서도 언급한 바와 같이 출퇴근 시간에 이용을 많이하는 것으로 사료되나   \n",
    "   \n",
    " 2) 공유일에는 낮시간에도 많은 대여량이 관측된다. 이에, 단순히 출퇴근 시간에 사용량이 많다고만 정의하기에는 무리가 있는 것으로 관측된다.   \n",
    "   \n",
    " 3) workingday, holiday는 거의 유사한 그래프를 그리므로 둘다 feature로 사용할 필요성은 못느낀다. ( 일단, 둘 다 넣고 돌리되 문제가 있다면 제외할 예정 )   \n",
    "   \n",
    " 4) 날씨와 계절의 특징을 보았을 때는 날씨가 좋은 날/ 화장할때 더 많은 대여량이 관측이 된다. 이에, 이 두 feature는 대여량을 예측하는데 중요할 것으로 사료된다. 실제로도 날씨가 좋을 때 많은 사람들이 자전거를 사용하는 것을 관찰할 수 있다.   "
   ]
  },
  {
   "cell_type": "code",
   "execution_count": null,
   "metadata": {
    "scrolled": true
   },
   "outputs": [],
   "source": [
    "# figure, (ax6, ax7, ax8) = plt.subplots(nrows=3)\n",
    "# figure.set_size_inches(30, 30)\n",
    "\n",
    "# sns.barplot(data=train_df, x=\"hour\", y=\"count\", ax=ax6, hue=\"temp\")\n",
    "# sns.barplot(data=train_df, x=\"hour\", y=\"count\", ax=ax7, hue=\"atemp\")\n",
    "# sns.barplot(data=train_df, x=\"hour\", y=\"count\", ax=ax8, hue=\"humidity\")"
   ]
  },
  {
   "cell_type": "markdown",
   "metadata": {},
   "source": [
    "temp, atemp, humidity 등도 pointplot으로 관측을 해보았으나,  \n",
    "의미있는 그래프를 확인하기는 어려웠다.  \n",
    "이에, COUNT와의 상관계수가 얼마나 되는지를 확인하고자 한다. "
   ]
  },
  {
   "cell_type": "code",
   "execution_count": null,
   "metadata": {},
   "outputs": [],
   "source": [
    "plt.figure(figsize=(12,12))\n",
    "corr = train_df.corr()\n",
    "sns.heatmap(corr, square=True, annot=True)"
   ]
  },
  {
   "cell_type": "markdown",
   "metadata": {},
   "source": [
    "정말 이상한 상관관계가.. 많이 관측이 된다. \n",
    " 1) season - month : 0.97  \n",
    " 2) workingday - dayofweek : -0.7  \n",
    " 3) temp, atemp - register, casual : 0.32, 0.47 등   \n",
    " 4) register, casual 과 count : 이들 관의 상관관계가 너무 높아 성능에 오류를 낼것으로 사료됨\n",
    "\n",
    "### 4번 항목만 주의하여 학습을 시키면 될 듯하다. \n",
    "### 또한 위에서 확인하지 못한 온도&습도에 대한 타겟과의 관계는 특이점이 발견되지 않았다.\n",
    "### 위에서도 언급한 바와 같이 temp, atemp를 굳이 두개다 사용할 필요가 없을 것으로 생각하였는데 역시 상관관계도 높게 관측되어 atemp는 제거하고 학습 시키고자 한다. ★\n"
   ]
  },
  {
   "cell_type": "code",
   "execution_count": null,
   "metadata": {},
   "outputs": [],
   "source": [
    "fig,(ax1,ax2,ax3) = plt.subplots(ncols=3)\n",
    "fig.set_size_inches(12, 5)\n",
    "sns.regplot(x=\"temp\", y=\"count\", data=train_df,ax=ax1, color=\"lightcoral\")\n",
    "sns.regplot(x=\"windspeed\", y=\"count\", data=train_df,ax=ax2, color=\"lightskyblue\")\n",
    "sns.regplot(x=\"humidity\", y=\"count\", data=train_df,ax=ax3, color=\"lightgreen\")"
   ]
  },
  {
   "cell_type": "markdown",
   "metadata": {},
   "source": [
    "windspeed 그래프를 보면 0에 데이터가 편중되어 있는 것을 볼 수 있다.  \n",
    "이에, 아래와 같이 EDA를 진행하고자 한다. "
   ]
  },
  {
   "cell_type": "markdown",
   "metadata": {},
   "source": [
    "우리는 간단하게 심플 imputer를 통해서도 이를 치환할 수 있지만  \n",
    "0을 대체하는 것에서도 머신러닝을 응용하여 값을 치환해주고자 한다. \n",
    "( 이렇게 하나하나 다 해주다보면 정말 EDA는 끝이 없을거 같긴 하다.. ) "
   ]
  },
  {
   "cell_type": "code",
   "execution_count": null,
   "metadata": {},
   "outputs": [],
   "source": [
    "from sklearn.ensemble import RandomForestClassifier\n",
    "\n",
    "def predict_windspeed(data):\n",
    "    \n",
    "    # 풍속이 0인것과 아닌 것을 나누어 줍니다. \n",
    "    dataWind0 = data.loc[data['windspeed'] == 0]\n",
    "    dataWindNot0 = data.loc[data['windspeed'] != 0]\n",
    "    \n",
    "    # 풍속을 예측할 피처를 선택합니다.\n",
    "    wCol = [\"season\", \"weather\", \"humidity\", \"month\", \"temp\", \"year\", \"atemp\", \"day\", \"hour\"]\n",
    "\n",
    "    # 풍속이 0이 아닌 데이터들의 타입을 스트링으로 바꿔준다.\n",
    "    dataWindNot0[\"windspeed\"] = dataWindNot0[\"windspeed\"].astype(\"str\")\n",
    "\n",
    "    # 랜덤포레스트 분류기를 사용한다.\n",
    "    rfModel_wind = RandomForestClassifier()\n",
    "\n",
    "    # wCol에 있는 피처의 값을 바탕으로 풍속을 학습시킨다.\n",
    "    rfModel_wind.fit(dataWindNot0[wCol], dataWindNot0[\"windspeed\"])\n",
    "\n",
    "    # 학습한 값을 바탕으로 풍속이 0으로 기록 된 데이터의 풍속을 예측하고자 합니다. \n",
    "    wind0Values = rfModel_wind.predict(X = dataWind0[wCol])\n",
    "\n",
    "    # 값을 다 예측 후 비교해 보기 위해\n",
    "    # 예측한 값을 넣어 줄 데이터 프레임을 새로 만든다.\n",
    "    predictWind0 = dataWind0\n",
    "    predictWindNot0 = dataWindNot0\n",
    "\n",
    "    # 값이 0으로 기록 된 풍속에 대해 예측한 값을 넣어준다.\n",
    "    predictWind0[\"windspeed\"] = wind0Values\n",
    "\n",
    "    # dataWindNot0 0이 아닌 풍속이 있는 데이터프레임에 예측한 값이 있는 데이터프레임을 합쳐준다.\n",
    "    data = predictWindNot0.append(predictWind0)\n",
    "\n",
    "    # 풍속의 데이터타입을 float으로 지정해 준다.\n",
    "    data[\"windspeed\"] = data[\"windspeed\"].astype(\"float\")\n",
    "\n",
    "    data.reset_index(inplace=True)\n",
    "    data.drop('index', inplace=True, axis=1)\n",
    "    \n",
    "    return data"
   ]
  },
  {
   "cell_type": "code",
   "execution_count": null,
   "metadata": {
    "scrolled": true
   },
   "outputs": [],
   "source": [
    "train_df = predict_windspeed(train_df)\n",
    "sns.displot(train_df['windspeed']);"
   ]
  },
  {
   "cell_type": "markdown",
   "metadata": {},
   "source": [
    "0을 예측하였으나, 그닥 결과는 마음에 들진 않지만, 그래도 이 방법이 SIMPEIMPUTER보다는 좋은 것 같아서 이 방법으로 진행하고자 한다. "
   ]
  },
  {
   "cell_type": "markdown",
   "metadata": {},
   "source": [
    "마지막으로 우리의 타켓의 데이터 편중 여부를 확인해볼 필요가 있다.   \n",
    "데이터가 한쪽으로 치우져있다면 로그를 취해주어서 정규분포를 띌 수 있도록  \n",
    "도와줄 필요가 있다"
   ]
  },
  {
   "cell_type": "code",
   "execution_count": null,
   "metadata": {
    "scrolled": true
   },
   "outputs": [],
   "source": [
    "target = train_df['count']\n",
    "sns.displot(target);"
   ]
  },
  {
   "cell_type": "markdown",
   "metadata": {},
   "source": [
    "타겟의 분포를 보니 이상치도 있고, 데이터가 한쪽으로 치우쳐있는 것을 확인하였다.  \n",
    "이에, 이상치를 일부 제거하고, 로그를 취해주고자 한다. "
   ]
  },
  {
   "cell_type": "markdown",
   "metadata": {},
   "source": [
    "혹시 몰라 다른 데이터들의 이상치도 처리할 줄 것이 있는지 확인하고자 한다."
   ]
  },
  {
   "cell_type": "code",
   "execution_count": null,
   "metadata": {},
   "outputs": [],
   "source": [
    "lists = train_df.columns\n",
    "for list in lists :\n",
    "    check_graph_outlier = train_df[list]\n",
    "    sns.displot(check_graph_outlier);"
   ]
  },
  {
   "cell_type": "markdown",
   "metadata": {},
   "source": [
    "count, windspeed, registered, casual를 제외하고는 큰 이상치가 관측되지 않는다.   \n",
    "온도, 습도는 실제 관측치를 기재한 것이기에 이상치라고 보여지는 데이터를 손대지 않는다.  \n",
    "  \n",
    "그리고 count, windspeed는 원래 우리가 데이터를 처리해주기로 하였기에 그대로 진행하면 되고  registered, casual는 leak를 예상하는 데이터이므로 별도의 처리를 하지 않을 예정이다. ( 맨 마지막 해당 데이터를 포함하여 성능을 비교해보는 시간을 갖을 예정이다. ) "
   ]
  },
  {
   "cell_type": "code",
   "execution_count": null,
   "metadata": {},
   "outputs": [],
   "source": [
    "trainWithoutOutliers = train_df[np.abs(train_df[\"count\"] - train_df[\"count\"].mean()) <= (3*train_df[\"count\"].std())]\n",
    "\n",
    "print(train_df.shape)\n",
    "print(trainWithoutOutliers.shape)"
   ]
  },
  {
   "cell_type": "code",
   "execution_count": null,
   "metadata": {},
   "outputs": [],
   "source": [
    "fig, ax = plt.subplots(2,1)\n",
    "figure.set_size_inches(12, 10)\n",
    "\n",
    "sns.distplot(train_df['count'],  ax=ax[0]);\n",
    "sns.distplot(np.log(trainWithoutOutliers[\"count\"]), ax=ax[1]);"
   ]
  },
  {
   "cell_type": "markdown",
   "metadata": {},
   "source": [
    "로그로 데이터를 변환해주었을 때 훨씬 정규분포 형태를 띄는 모습을 확인할 수 있었다"
   ]
  },
  {
   "cell_type": "code",
   "execution_count": null,
   "metadata": {},
   "outputs": [],
   "source": [
    "feature_names = [\"season\", \"weather\", \"temp\", \"atemp\", \"humidity\", \"windspeed\",\n",
    "                 \"year\", \"hour\", \"dayofweek\", \"holiday\", \"workingday\"]\n",
    "\n",
    "feature_names"
   ]
  },
  {
   "cell_type": "code",
   "execution_count": null,
   "metadata": {},
   "outputs": [],
   "source": [
    "X_train = train_df[feature_names]\n",
    "\n",
    "print(X_train.shape)\n",
    "X_train.head()"
   ]
  },
  {
   "cell_type": "code",
   "execution_count": null,
   "metadata": {
    "scrolled": true
   },
   "outputs": [],
   "source": [
    "X_test = test_df[feature_names]\n",
    "\n",
    "print(X_test.shape)\n",
    "X_test.head()"
   ]
  },
  {
   "cell_type": "markdown",
   "metadata": {},
   "source": [
    "전혀 다른 방식으로 테스트와 검증 데이터를 나누보았다.  \n",
    "항상 다양한 방면으로 익숙해져야한다고 생각했다.  "
   ]
  },
  {
   "cell_type": "code",
   "execution_count": null,
   "metadata": {},
   "outputs": [],
   "source": [
    "X_train\n",
    "y_train = train_df[\"count\"]\n",
    "\n",
    "\n",
    "from sklearn.model_selection import train_test_split\n",
    "X_train, X_val = train_test_split(X_train, test_size=0.2, random_state=2)"
   ]
  },
  {
   "cell_type": "code",
   "execution_count": null,
   "metadata": {},
   "outputs": [],
   "source": [
    "len(y_train)"
   ]
  },
  {
   "cell_type": "code",
   "execution_count": null,
   "metadata": {},
   "outputs": [],
   "source": [
    "y_train, y_val = train_test_split(y_train, test_size=0.2, random_state=2)"
   ]
  },
  {
   "cell_type": "code",
   "execution_count": null,
   "metadata": {},
   "outputs": [],
   "source": [
    "X_train.shape, X_val.shape, y_train.shape, y_val.shape"
   ]
  },
  {
   "cell_type": "markdown",
   "metadata": {},
   "source": [
    "자전거 수요조사에서는 score를 rmsle이라는 스코어로 평가를 진행해야한다. "
   ]
  },
  {
   "cell_type": "markdown",
   "metadata": {},
   "source": [
    "RMSLE\n",
    "과대평가 된 항목보다는 과소평가 된 항목에 패널티를 준다.\n",
    "\n",
    "오차(Error)를 제곱(Square)해서 평균(Mean)한 값의 제곱근(Root) 으로 값이 작을 수록 정밀도가 높다.\n",
    "\n",
    "0에 가까운 값이 나올 수록 정밀도가 높은 값이다.\n",
    "\n",
    "Submissions are evaluated one the Root Mean Squared Logarithmic Error (RMSLE)\n",
    "\n",
    "$$ \\sqrt{\\frac{1}{n} \\sum_{i=1}^n (\\log(p_i + 1) - \\log(a_i+1))^2 } $$"
   ]
  },
  {
   "cell_type": "markdown",
   "metadata": {},
   "source": [
    "잔차(residual)에 대한 평균에 로그를 씌운 값이다. => 과대평가 된 항목보다 과소 평가 된 항목에 패널티를 주기위해\n",
    "\n",
    "정답에 대한 오류를 숫자로 나타낸 값으로 값이 클 수록 오차가 크다는 의미다.\n",
    "값이 작을 수록 오류가 적다는 의미를 나타낸다."
   ]
  },
  {
   "attachments": {
    "image.png": {
     "image/png": "[encoded data removed]"
    }
   },
   "cell_type": "markdown",
   "metadata": {},
   "source": [
    "![image.png](attachment:image.png)"
   ]
  },
  {
   "cell_type": "code",
   "execution_count": null,
   "metadata": {},
   "outputs": [],
   "source": [
    "from sklearn.metrics import make_scorer\n",
    "\n",
    "def rmsle(predicted_values, actual_values):\n",
    "    # 데이터프레임을 배열 형태로 바꿔준다.\n",
    "    predicted_values = np.array(predicted_values)\n",
    "    actual_values = np.array(actual_values)\n",
    "    \n",
    "    # 예측값과 실제 값에 1을 더하고 로그를 씌워준다.\n",
    "    # 솔직히 이부분을 열심히 공부했는데 왜 더해주는지를 모르겠다..\n",
    "    log_predict = np.log(predicted_values + 1)\n",
    "    log_actual = np.log(actual_values + 1)\n",
    "    \n",
    "    # 위에서 계산한 예측값에서 실제값을 빼주고 제곱을 해준다.\n",
    "    difference = log_predict - log_actual\n",
    "    difference = np.square(difference)\n",
    "    \n",
    "    # 평균을 낸다.\n",
    "    mean_difference = difference.mean()\n",
    "    \n",
    "    # 다시 루트를 씌운다.\n",
    "    score = np.sqrt(mean_difference)\n",
    "    \n",
    "    return score\n",
    "\n",
    "rmsle_scorer = make_scorer(rmsle)\n",
    "rmsle_scorer"
   ]
  },
  {
   "cell_type": "markdown",
   "metadata": {},
   "source": [
    "교차결증을 적용하여 정밀도를 높이고자 한다. "
   ]
  },
  {
   "cell_type": "code",
   "execution_count": null,
   "metadata": {},
   "outputs": [],
   "source": [
    "from sklearn.model_selection import KFold\n",
    "from sklearn.model_selection import cross_val_score\n",
    "\n",
    "k_fold = KFold(n_splits=10, shuffle=True, random_state=0)"
   ]
  },
  {
   "cell_type": "code",
   "execution_count": null,
   "metadata": {},
   "outputs": [],
   "source": [
    "from category_encoders import OrdinalEncoder\n",
    "from sklearn.impute import SimpleImputer\n",
    "from sklearn.ensemble import RandomForestRegressor\n",
    "from sklearn.compose import TransformedTargetRegressor\n",
    "from sklearn.pipeline import make_pipeline\n",
    "\n",
    "pipe = make_pipeline(\n",
    "    OrdinalEncoder(), \n",
    "    SimpleImputer(),\n",
    "    RandomForestRegressor(n_estimators=1000,\n",
    "                          n_jobs=-1,\n",
    "                          random_state=2)\n",
    ")\n",
    "\n",
    "tt = TransformedTargetRegressor(regressor=pipe,\n",
    "                                func=np.log1p, inverse_func=np.expm1)\n",
    "\n",
    "tt.fit(X_train, y_train)\n",
    "score = cross_val_score(pipe, X_val, y_val, cv=k_fold, scoring=rmsle_scorer)\n",
    "score.mean()"
   ]
  },
  {
   "cell_type": "code",
   "execution_count": null,
   "metadata": {
    "scrolled": false
   },
   "outputs": [],
   "source": [
    "score = cross_val_score(pipe, X_train, y_train, cv=k_fold, scoring=rmsle_scorer)\n",
    "score = score.mean()\n",
    "score"
   ]
  },
  {
   "cell_type": "markdown",
   "metadata": {},
   "source": [
    "### score 관련 담당자 소견 \n",
    " 1. 일단 낮을수록 좋은 성능을 내는 rmsle score로 평가를 진행하였다. \n",
    " 2. train 데이터에서 더 좋은 성능이 관측되었다. \n",
    "   * 개인적인 소견으로는 위에서는 과적합이 되지 않았나 추측해본다. "
   ]
  },
  {
   "cell_type": "markdown",
   "metadata": {},
   "source": [
    "### 자전거 관리담당자에게 전달해야할 사항\n",
    "\n",
    "  1. 우리는 위 데이터를 근거로 \n",
    "    * 평일은 출퇴근 시간에 자전거 이용이 많을 것으로 예측하였으며\n",
    "    * 공휴일에는 아침 10시부터 18시까지 자전거 대여수요가 증가할 것으로 예측하였다.\n",
    "    * 또한, 계절에 영향을 많이 받는 것을 예측하여 겨울철은 자전거 정비시간으로 계획하였으며, \n",
    "    * 전년도 대비 최소 평균 200건 이상은 증가할 것을 예측하였다. \n",
    "    \n",
    "    * 이에, 우리는 서울시에서 제공하는 공공자전거 일별 대여건수를 가지고 \n",
    "    맞게 예측하였는지 점검하고자 한다. \n",
    "    ( 자저건 대여소 위치, 일별 사용시간, 이동거리 등도 추가하고 싶었지만... 그렇지 못하였다. )"
   ]
  },
  {
   "cell_type": "code",
   "execution_count": null,
   "metadata": {},
   "outputs": [],
   "source": [
    "df = pd.read_csv(r\"C:\\Users\\user\\Documents\\pandas_study\\bootcamp_DS\\section\\section3\\1day\\서울시일별자전거대여건수.csv\", encoding=\"UTF-8\")"
   ]
  },
  {
   "cell_type": "code",
   "execution_count": null,
   "metadata": {},
   "outputs": [],
   "source": [
    "df.head(2)"
   ]
  },
  {
   "cell_type": "code",
   "execution_count": null,
   "metadata": {},
   "outputs": [],
   "source": [
    "def remove_comma(x):\n",
    "    return x.replace(',', '')\n",
    "\n",
    "df['대여건수'] = df['대여건수'].apply(remove_comma)\n",
    "df['대여건수'] = pd.to_numeric(df['대여건수'])\n",
    "df['대여일시'] = pd.to_datetime(df['대여일시'])"
   ]
  },
  {
   "cell_type": "code",
   "execution_count": null,
   "metadata": {},
   "outputs": [],
   "source": [
    "df[\"year\"] = df[\"대여일시\"].dt.year\n",
    "df[\"month\"] = df[\"대여일시\"].dt.month\n",
    "df.head(2)"
   ]
  },
  {
   "cell_type": "code",
   "execution_count": null,
   "metadata": {},
   "outputs": [],
   "source": [
    "df_month_sum = pd.DataFrame(df.groupby([\"year\", \"month\"])[\"대여건수\"].sum())"
   ]
  },
  {
   "cell_type": "code",
   "execution_count": null,
   "metadata": {},
   "outputs": [],
   "source": [
    "df_month_sum.plot()"
   ]
  },
  {
   "cell_type": "code",
   "execution_count": null,
   "metadata": {},
   "outputs": [],
   "source": [
    "df_month_sum.plot(kind=\"bar\")"
   ]
  },
  {
   "cell_type": "markdown",
   "metadata": {},
   "source": [
    "위 그림에서 보시다시피 2019년 하반기에는 자전거 대여 수요가 증가하시다가  \n",
    "코로나19라는 변수를 만나 대여량이 급감하는 경향을 보이며, 코로나19에 적응된  \n",
    "시민분들께서 자전거 대여를 꾸준히 하고 있는 경향을 보이고 있습니다.  \n",
    "  \n",
    "본 시군도의 대기오염방지 및 국민건강증진 목적으로 실행된 자전거 대여 정책은 기존 예상대로 적합하게 시행되고 있음을 보고 드립니다.  \n",
    "\n",
    "해당 내용에 대해 피드백 부탁드립니다.  \n",
    "감사합니다.   "
   ]
  }
 ],
 "metadata": {
  "kernelspec": {
   "display_name": "Python 3",
   "language": "python",
   "name": "python3"
  },
  "language_info": {
   "codemirror_mode": {
    "name": "ipython",
    "version": 3
   },
   "file_extension": ".py",
   "mimetype": "text/x-python",
   "name": "python",
   "nbconvert_exporter": "python",
   "pygments_lexer": "ipython3",
   "version": "3.8.5"
  }
 },
 "nbformat": 4,
 "nbformat_minor": 4
}
