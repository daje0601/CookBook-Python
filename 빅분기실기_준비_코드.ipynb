{
  "nbformat": 4,
  "nbformat_minor": 0,
  "metadata": {
    "colab": {
      "name": "빅분기실기 준비 코드.ipynb",
      "provenance": [],
      "machine_shape": "hm",
      "authorship_tag": "ABX9TyPacpOcDTiW/QW/JmfRXkNk",
      "include_colab_link": true
    },
    "kernelspec": {
      "name": "python3",
      "display_name": "Python 3"
    },
    "language_info": {
      "name": "python"
    }
  },
  "cells": [
    {
      "cell_type": "markdown",
      "metadata": {
        "id": "view-in-github",
        "colab_type": "text"
      },
      "source": [
        "<a href=\"https://colab.research.google.com/github/daje0601/pandas_study/blob/main/%EB%B9%85%EB%B6%84%EA%B8%B0%EC%8B%A4%EA%B8%B0_%EC%A4%80%EB%B9%84_%EC%BD%94%EB%93%9C.ipynb\" target=\"_parent\"><img src=\"https://colab.research.google.com/assets/colab-badge.svg\" alt=\"Open In Colab\"/></a>"
      ]
    },
    {
      "cell_type": "code",
      "metadata": {
        "id": "bWWz2Gtnwi_F"
      },
      "source": [
        "import warnings\n",
        "warnings.filterwarnings(\"ignore\")\n",
        "\n",
        "import pandas as pd\n",
        "\n",
        "y_train = pd.read_csv('https://raw.githubusercontent.com/Datamanim/dataq/main/y_train.csv')\n",
        "X_train = pd.read_csv('https://raw.githubusercontent.com/Datamanim/dataq/main/X_train.csv',encoding='euc-kr')\n",
        "test  = pd.read_csv('https://raw.githubusercontent.com/Datamanim/dataq/main/X_test.csv',encoding='euc-kr')"
      ],
      "execution_count": 149,
      "outputs": []
    },
    {
      "cell_type": "code",
      "metadata": {
        "colab": {
          "base_uri": "https://localhost:8080/"
        },
        "id": "xc46CO4CwkjT",
        "outputId": "e2692ad6-8985-43ac-9c12-1f681596f975"
      },
      "source": [
        "train = pd.concat([X_train, y_train], axis=1)\n",
        "train = train.drop(columns=\"cust_id\")\n",
        "test = test.drop(columns=\"cust_id\")\n",
        "train, test"
      ],
      "execution_count": 150,
      "outputs": [
        {
          "output_type": "execute_result",
          "data": {
            "text/plain": [
              "(           총구매액     최대구매액       환불금액   주구매상품  ...   내점당구매건수    주말방문비율  구매주기  gender\n",
              " 0      68282840  11264000  6860000.0      기타  ...  3.894737  0.527027    17       0\n",
              " 1       2136000   2136000   300000.0     스포츠  ...  1.500000  0.000000     1       0\n",
              " 2       3197000   1639000        NaN  남성 캐주얼  ...  2.000000  0.000000     1       1\n",
              " 3      16077620   4935000        NaN      기타  ...  2.444444  0.318182    16       1\n",
              " 4      29050000  24000000        NaN      보석  ...  1.500000  0.000000    85       0\n",
              " ...         ...       ...        ...     ...  ...       ...       ...   ...     ...\n",
              " 3495    3175200   3042900        NaN      골프  ...  2.000000  1.000000     0       1\n",
              " 3496   29628600   7200000  6049600.0    시티웨어  ...  1.625000  0.461538    40       1\n",
              " 3497      75000     75000        NaN    주방용품  ...  1.000000  0.000000     0       0\n",
              " 3498    1875000   1000000        NaN     화장품  ...  1.000000  0.000000    39       0\n",
              " 3499  263101550  34632000  5973000.0      기타  ...  2.421053  0.467391     8       0\n",
              " \n",
              " [3500 rows x 10 columns],\n",
              "            총구매액     최대구매액        환불금액   주구매상품  ... 내점일수    내점당구매건수    주말방문비율  구매주기\n",
              " 0      70900400  22000000   4050000.0      골프  ...   13   1.461538  0.789474    26\n",
              " 1     310533100  38558000  48034700.0     농산물  ...   90   2.433333  0.369863     3\n",
              " 2     305264140  14825000  30521000.0    가공식품  ...  101  14.623762  0.083277     3\n",
              " 3       7594080   5225000         NaN    주방용품  ...    5   2.000000  0.000000    47\n",
              " 4       1795790   1411200         NaN     수산품  ...    3   2.666667  0.125000     8\n",
              " ...         ...       ...         ...     ...  ...  ...        ...       ...   ...\n",
              " 2477   82581500  23976000         NaN      골프  ...    8   1.750000  0.642857    40\n",
              " 2478     480000    480000         NaN    섬유잡화  ...    1   1.000000  0.000000     0\n",
              " 2479  260003790  25750000         NaN  남성 캐주얼  ...   19   3.736842  0.915493    18\n",
              " 2480   88991520  18120000         NaN      육류  ...    5   3.600000  0.444444    60\n",
              " 2481     623700    209000         NaN    가공식품  ...    2   5.000000  0.000000    31\n",
              " \n",
              " [2482 rows x 9 columns])"
            ]
          },
          "metadata": {
            "tags": []
          },
          "execution_count": 150
        }
      ]
    },
    {
      "cell_type": "code",
      "metadata": {
        "colab": {
          "base_uri": "https://localhost:8080/",
          "height": 287
        },
        "id": "zbvRi7Dewu2y",
        "outputId": "942cca60-f978-4022-c4a2-794b94ace40b"
      },
      "source": [
        "train.describe()"
      ],
      "execution_count": 151,
      "outputs": [
        {
          "output_type": "execute_result",
          "data": {
            "text/html": [
              "<div>\n",
              "<style scoped>\n",
              "    .dataframe tbody tr th:only-of-type {\n",
              "        vertical-align: middle;\n",
              "    }\n",
              "\n",
              "    .dataframe tbody tr th {\n",
              "        vertical-align: top;\n",
              "    }\n",
              "\n",
              "    .dataframe thead th {\n",
              "        text-align: right;\n",
              "    }\n",
              "</style>\n",
              "<table border=\"1\" class=\"dataframe\">\n",
              "  <thead>\n",
              "    <tr style=\"text-align: right;\">\n",
              "      <th></th>\n",
              "      <th>총구매액</th>\n",
              "      <th>최대구매액</th>\n",
              "      <th>환불금액</th>\n",
              "      <th>내점일수</th>\n",
              "      <th>내점당구매건수</th>\n",
              "      <th>주말방문비율</th>\n",
              "      <th>구매주기</th>\n",
              "      <th>gender</th>\n",
              "    </tr>\n",
              "  </thead>\n",
              "  <tbody>\n",
              "    <tr>\n",
              "      <th>count</th>\n",
              "      <td>3.500000e+03</td>\n",
              "      <td>3.500000e+03</td>\n",
              "      <td>1.205000e+03</td>\n",
              "      <td>3500.000000</td>\n",
              "      <td>3500.000000</td>\n",
              "      <td>3500.000000</td>\n",
              "      <td>3500.000000</td>\n",
              "      <td>3500.000000</td>\n",
              "    </tr>\n",
              "    <tr>\n",
              "      <th>mean</th>\n",
              "      <td>9.191925e+07</td>\n",
              "      <td>1.966424e+07</td>\n",
              "      <td>2.407822e+07</td>\n",
              "      <td>19.253714</td>\n",
              "      <td>2.834963</td>\n",
              "      <td>0.307246</td>\n",
              "      <td>20.958286</td>\n",
              "      <td>0.376000</td>\n",
              "    </tr>\n",
              "    <tr>\n",
              "      <th>std</th>\n",
              "      <td>1.635065e+08</td>\n",
              "      <td>3.199235e+07</td>\n",
              "      <td>4.746453e+07</td>\n",
              "      <td>27.174942</td>\n",
              "      <td>1.912368</td>\n",
              "      <td>0.289752</td>\n",
              "      <td>24.748682</td>\n",
              "      <td>0.484449</td>\n",
              "    </tr>\n",
              "    <tr>\n",
              "      <th>min</th>\n",
              "      <td>-5.242152e+07</td>\n",
              "      <td>-2.992000e+06</td>\n",
              "      <td>5.600000e+03</td>\n",
              "      <td>1.000000</td>\n",
              "      <td>1.000000</td>\n",
              "      <td>0.000000</td>\n",
              "      <td>0.000000</td>\n",
              "      <td>0.000000</td>\n",
              "    </tr>\n",
              "    <tr>\n",
              "      <th>25%</th>\n",
              "      <td>4.747050e+06</td>\n",
              "      <td>2.875000e+06</td>\n",
              "      <td>2.259000e+06</td>\n",
              "      <td>2.000000</td>\n",
              "      <td>1.666667</td>\n",
              "      <td>0.027291</td>\n",
              "      <td>4.000000</td>\n",
              "      <td>0.000000</td>\n",
              "    </tr>\n",
              "    <tr>\n",
              "      <th>50%</th>\n",
              "      <td>2.822270e+07</td>\n",
              "      <td>9.837000e+06</td>\n",
              "      <td>7.392000e+06</td>\n",
              "      <td>8.000000</td>\n",
              "      <td>2.333333</td>\n",
              "      <td>0.256410</td>\n",
              "      <td>13.000000</td>\n",
              "      <td>0.000000</td>\n",
              "    </tr>\n",
              "    <tr>\n",
              "      <th>75%</th>\n",
              "      <td>1.065079e+08</td>\n",
              "      <td>2.296250e+07</td>\n",
              "      <td>2.412000e+07</td>\n",
              "      <td>25.000000</td>\n",
              "      <td>3.375000</td>\n",
              "      <td>0.448980</td>\n",
              "      <td>28.000000</td>\n",
              "      <td>1.000000</td>\n",
              "    </tr>\n",
              "    <tr>\n",
              "      <th>max</th>\n",
              "      <td>2.323180e+09</td>\n",
              "      <td>7.066290e+08</td>\n",
              "      <td>5.637530e+08</td>\n",
              "      <td>285.000000</td>\n",
              "      <td>22.083333</td>\n",
              "      <td>1.000000</td>\n",
              "      <td>166.000000</td>\n",
              "      <td>1.000000</td>\n",
              "    </tr>\n",
              "  </tbody>\n",
              "</table>\n",
              "</div>"
            ],
            "text/plain": [
              "               총구매액         최대구매액  ...         구매주기       gender\n",
              "count  3.500000e+03  3.500000e+03  ...  3500.000000  3500.000000\n",
              "mean   9.191925e+07  1.966424e+07  ...    20.958286     0.376000\n",
              "std    1.635065e+08  3.199235e+07  ...    24.748682     0.484449\n",
              "min   -5.242152e+07 -2.992000e+06  ...     0.000000     0.000000\n",
              "25%    4.747050e+06  2.875000e+06  ...     4.000000     0.000000\n",
              "50%    2.822270e+07  9.837000e+06  ...    13.000000     0.000000\n",
              "75%    1.065079e+08  2.296250e+07  ...    28.000000     1.000000\n",
              "max    2.323180e+09  7.066290e+08  ...   166.000000     1.000000\n",
              "\n",
              "[8 rows x 8 columns]"
            ]
          },
          "metadata": {
            "tags": []
          },
          "execution_count": 151
        }
      ]
    },
    {
      "cell_type": "code",
      "metadata": {
        "colab": {
          "base_uri": "https://localhost:8080/",
          "height": 287
        },
        "id": "BCueZmhgi5v3",
        "outputId": "d7b34a4b-5c25-4deb-851e-35a952ca292b"
      },
      "source": [
        "test.describe()"
      ],
      "execution_count": 152,
      "outputs": [
        {
          "output_type": "execute_result",
          "data": {
            "text/html": [
              "<div>\n",
              "<style scoped>\n",
              "    .dataframe tbody tr th:only-of-type {\n",
              "        vertical-align: middle;\n",
              "    }\n",
              "\n",
              "    .dataframe tbody tr th {\n",
              "        vertical-align: top;\n",
              "    }\n",
              "\n",
              "    .dataframe thead th {\n",
              "        text-align: right;\n",
              "    }\n",
              "</style>\n",
              "<table border=\"1\" class=\"dataframe\">\n",
              "  <thead>\n",
              "    <tr style=\"text-align: right;\">\n",
              "      <th></th>\n",
              "      <th>총구매액</th>\n",
              "      <th>최대구매액</th>\n",
              "      <th>환불금액</th>\n",
              "      <th>내점일수</th>\n",
              "      <th>내점당구매건수</th>\n",
              "      <th>주말방문비율</th>\n",
              "      <th>구매주기</th>\n",
              "    </tr>\n",
              "  </thead>\n",
              "  <tbody>\n",
              "    <tr>\n",
              "      <th>count</th>\n",
              "      <td>2.482000e+03</td>\n",
              "      <td>2.482000e+03</td>\n",
              "      <td>8.710000e+02</td>\n",
              "      <td>2482.000000</td>\n",
              "      <td>2482.000000</td>\n",
              "      <td>2482.000000</td>\n",
              "      <td>2482.000000</td>\n",
              "    </tr>\n",
              "    <tr>\n",
              "      <th>mean</th>\n",
              "      <td>1.010275e+08</td>\n",
              "      <td>2.177048e+07</td>\n",
              "      <td>2.554716e+07</td>\n",
              "      <td>19.516922</td>\n",
              "      <td>2.819388</td>\n",
              "      <td>0.293812</td>\n",
              "      <td>20.286060</td>\n",
              "    </tr>\n",
              "    <tr>\n",
              "      <th>std</th>\n",
              "      <td>1.732132e+08</td>\n",
              "      <td>3.504919e+07</td>\n",
              "      <td>5.944074e+07</td>\n",
              "      <td>25.973972</td>\n",
              "      <td>1.754550</td>\n",
              "      <td>0.282600</td>\n",
              "      <td>24.108756</td>\n",
              "    </tr>\n",
              "    <tr>\n",
              "      <th>min</th>\n",
              "      <td>-3.744000e+07</td>\n",
              "      <td>-3.744000e+07</td>\n",
              "      <td>1.000000e+04</td>\n",
              "      <td>1.000000</td>\n",
              "      <td>1.000000</td>\n",
              "      <td>0.000000</td>\n",
              "      <td>0.000000</td>\n",
              "    </tr>\n",
              "    <tr>\n",
              "      <th>25%</th>\n",
              "      <td>5.076868e+06</td>\n",
              "      <td>2.884350e+06</td>\n",
              "      <td>2.414000e+06</td>\n",
              "      <td>2.000000</td>\n",
              "      <td>1.750000</td>\n",
              "      <td>0.023456</td>\n",
              "      <td>4.000000</td>\n",
              "    </tr>\n",
              "    <tr>\n",
              "      <th>50%</th>\n",
              "      <td>3.051686e+07</td>\n",
              "      <td>1.075250e+07</td>\n",
              "      <td>8.100000e+06</td>\n",
              "      <td>9.000000</td>\n",
              "      <td>2.430952</td>\n",
              "      <td>0.250000</td>\n",
              "      <td>13.000000</td>\n",
              "    </tr>\n",
              "    <tr>\n",
              "      <th>75%</th>\n",
              "      <td>1.264255e+08</td>\n",
              "      <td>2.627700e+07</td>\n",
              "      <td>2.228090e+07</td>\n",
              "      <td>26.750000</td>\n",
              "      <td>3.375000</td>\n",
              "      <td>0.423566</td>\n",
              "      <td>27.000000</td>\n",
              "    </tr>\n",
              "    <tr>\n",
              "      <th>max</th>\n",
              "      <td>2.861238e+09</td>\n",
              "      <td>5.932250e+08</td>\n",
              "      <td>8.715144e+08</td>\n",
              "      <td>222.000000</td>\n",
              "      <td>15.875000</td>\n",
              "      <td>1.000000</td>\n",
              "      <td>177.000000</td>\n",
              "    </tr>\n",
              "  </tbody>\n",
              "</table>\n",
              "</div>"
            ],
            "text/plain": [
              "               총구매액         최대구매액  ...       주말방문비율         구매주기\n",
              "count  2.482000e+03  2.482000e+03  ...  2482.000000  2482.000000\n",
              "mean   1.010275e+08  2.177048e+07  ...     0.293812    20.286060\n",
              "std    1.732132e+08  3.504919e+07  ...     0.282600    24.108756\n",
              "min   -3.744000e+07 -3.744000e+07  ...     0.000000     0.000000\n",
              "25%    5.076868e+06  2.884350e+06  ...     0.023456     4.000000\n",
              "50%    3.051686e+07  1.075250e+07  ...     0.250000    13.000000\n",
              "75%    1.264255e+08  2.627700e+07  ...     0.423566    27.000000\n",
              "max    2.861238e+09  5.932250e+08  ...     1.000000   177.000000\n",
              "\n",
              "[8 rows x 7 columns]"
            ]
          },
          "metadata": {
            "tags": []
          },
          "execution_count": 152
        }
      ]
    },
    {
      "cell_type": "code",
      "metadata": {
        "colab": {
          "base_uri": "https://localhost:8080/",
          "height": 154
        },
        "id": "0F8MnxHEw5pa",
        "outputId": "572cea66-9c5d-442e-be47-d24bf2a486b3"
      },
      "source": [
        "train[train[\"총구매액\"] < 0] # 1659, 3174, 3488"
      ],
      "execution_count": 153,
      "outputs": [
        {
          "output_type": "execute_result",
          "data": {
            "text/html": [
              "<div>\n",
              "<style scoped>\n",
              "    .dataframe tbody tr th:only-of-type {\n",
              "        vertical-align: middle;\n",
              "    }\n",
              "\n",
              "    .dataframe tbody tr th {\n",
              "        vertical-align: top;\n",
              "    }\n",
              "\n",
              "    .dataframe thead th {\n",
              "        text-align: right;\n",
              "    }\n",
              "</style>\n",
              "<table border=\"1\" class=\"dataframe\">\n",
              "  <thead>\n",
              "    <tr style=\"text-align: right;\">\n",
              "      <th></th>\n",
              "      <th>총구매액</th>\n",
              "      <th>최대구매액</th>\n",
              "      <th>환불금액</th>\n",
              "      <th>주구매상품</th>\n",
              "      <th>주구매지점</th>\n",
              "      <th>내점일수</th>\n",
              "      <th>내점당구매건수</th>\n",
              "      <th>주말방문비율</th>\n",
              "      <th>구매주기</th>\n",
              "      <th>gender</th>\n",
              "    </tr>\n",
              "  </thead>\n",
              "  <tbody>\n",
              "    <tr>\n",
              "      <th>1659</th>\n",
              "      <td>-2992000</td>\n",
              "      <td>-2992000</td>\n",
              "      <td>2992000.0</td>\n",
              "      <td>디자이너</td>\n",
              "      <td>본  점</td>\n",
              "      <td>1</td>\n",
              "      <td>1.000000</td>\n",
              "      <td>0.000000</td>\n",
              "      <td>0</td>\n",
              "      <td>0</td>\n",
              "    </tr>\n",
              "    <tr>\n",
              "      <th>3174</th>\n",
              "      <td>-52421520</td>\n",
              "      <td>13616000</td>\n",
              "      <td>97222000.0</td>\n",
              "      <td>기타</td>\n",
              "      <td>본  점</td>\n",
              "      <td>18</td>\n",
              "      <td>4.444444</td>\n",
              "      <td>0.337500</td>\n",
              "      <td>16</td>\n",
              "      <td>0</td>\n",
              "    </tr>\n",
              "    <tr>\n",
              "      <th>3488</th>\n",
              "      <td>-18905600</td>\n",
              "      <td>82306000</td>\n",
              "      <td>529602320.0</td>\n",
              "      <td>디자이너</td>\n",
              "      <td>부산본점</td>\n",
              "      <td>31</td>\n",
              "      <td>1.064516</td>\n",
              "      <td>0.242424</td>\n",
              "      <td>11</td>\n",
              "      <td>0</td>\n",
              "    </tr>\n",
              "  </tbody>\n",
              "</table>\n",
              "</div>"
            ],
            "text/plain": [
              "          총구매액     최대구매액         환불금액 주구매상품  ...   내점당구매건수    주말방문비율  구매주기  gender\n",
              "1659  -2992000  -2992000    2992000.0  디자이너  ...  1.000000  0.000000     0       0\n",
              "3174 -52421520  13616000   97222000.0    기타  ...  4.444444  0.337500    16       0\n",
              "3488 -18905600  82306000  529602320.0  디자이너  ...  1.064516  0.242424    11       0\n",
              "\n",
              "[3 rows x 10 columns]"
            ]
          },
          "metadata": {
            "tags": []
          },
          "execution_count": 153
        }
      ]
    },
    {
      "cell_type": "code",
      "metadata": {
        "id": "cLkHgAJvw_Be"
      },
      "source": [
        "# 0보다 작은 금액 제거 \n",
        "train = train[train[\"총구매액\"]>0]\n",
        "test = test[test[\"총구매액\"]>0]"
      ],
      "execution_count": 154,
      "outputs": []
    },
    {
      "cell_type": "code",
      "metadata": {
        "colab": {
          "base_uri": "https://localhost:8080/"
        },
        "id": "KKCb9BsbxE9P",
        "outputId": "d456e65d-5af1-4eea-cc66-dca3ccd789ae"
      },
      "source": [
        "train.isnull().sum()"
      ],
      "execution_count": 155,
      "outputs": [
        {
          "output_type": "execute_result",
          "data": {
            "text/plain": [
              "총구매액          0\n",
              "최대구매액         0\n",
              "환불금액       2295\n",
              "주구매상품         0\n",
              "주구매지점         0\n",
              "내점일수          0\n",
              "내점당구매건수       0\n",
              "주말방문비율        0\n",
              "구매주기          0\n",
              "gender        0\n",
              "dtype: int64"
            ]
          },
          "metadata": {
            "tags": []
          },
          "execution_count": 155
        }
      ]
    },
    {
      "cell_type": "code",
      "metadata": {
        "colab": {
          "base_uri": "https://localhost:8080/"
        },
        "id": "VmwU0cfnxelP",
        "outputId": "8f2b8218-5758-4319-d150-3f15f5c02f8b"
      },
      "source": [
        "test.isnull().sum()"
      ],
      "execution_count": 156,
      "outputs": [
        {
          "output_type": "execute_result",
          "data": {
            "text/plain": [
              "총구매액          0\n",
              "최대구매액         0\n",
              "환불금액       1611\n",
              "주구매상품         0\n",
              "주구매지점         0\n",
              "내점일수          0\n",
              "내점당구매건수       0\n",
              "주말방문비율        0\n",
              "구매주기          0\n",
              "dtype: int64"
            ]
          },
          "metadata": {
            "tags": []
          },
          "execution_count": 156
        }
      ]
    },
    {
      "cell_type": "code",
      "metadata": {
        "id": "ZJVN7ukwxjzt"
      },
      "source": [
        "train[\"환불금액\"] = train[\"환불금액\"].fillna(0)\n",
        "test[\"환불금액\"] = test[\"환불금액\"].fillna(0)"
      ],
      "execution_count": 157,
      "outputs": []
    },
    {
      "cell_type": "code",
      "metadata": {
        "colab": {
          "base_uri": "https://localhost:8080/"
        },
        "id": "F20Es_SJxuM1",
        "outputId": "193b7137-f99b-4f6a-f6f8-d02902d851bd"
      },
      "source": [
        "print(\"train null :\", train.isnull().sum().sum(), \",\", \"test null :\",test.isnull().sum().sum())"
      ],
      "execution_count": 158,
      "outputs": [
        {
          "output_type": "stream",
          "text": [
            "train null : 0 , test null : 0\n"
          ],
          "name": "stdout"
        }
      ]
    },
    {
      "cell_type": "code",
      "metadata": {
        "colab": {
          "base_uri": "https://localhost:8080/"
        },
        "id": "_UIVi-MSxzUn",
        "outputId": "7142c4dd-9437-41e9-8f79-c012a7c3e34d"
      },
      "source": [
        "train.dtypes"
      ],
      "execution_count": 159,
      "outputs": [
        {
          "output_type": "execute_result",
          "data": {
            "text/plain": [
              "총구매액         int64\n",
              "최대구매액        int64\n",
              "환불금액       float64\n",
              "주구매상품       object\n",
              "주구매지점       object\n",
              "내점일수         int64\n",
              "내점당구매건수    float64\n",
              "주말방문비율     float64\n",
              "구매주기         int64\n",
              "gender       int64\n",
              "dtype: object"
            ]
          },
          "metadata": {
            "tags": []
          },
          "execution_count": 159
        }
      ]
    },
    {
      "cell_type": "code",
      "metadata": {
        "colab": {
          "base_uri": "https://localhost:8080/"
        },
        "id": "FhJcvVqGyUF5",
        "outputId": "231bf96e-186f-47e9-ab22-afa05616972a"
      },
      "source": [
        "train[\"주구매지점\"].value_counts()"
      ],
      "execution_count": 160,
      "outputs": [
        {
          "output_type": "execute_result",
          "data": {
            "text/plain": [
              "본  점     1074\n",
              "잠실점       474\n",
              "분당점       433\n",
              "부산본점      243\n",
              "영등포점      240\n",
              "일산점       197\n",
              "강남점       145\n",
              "광주점       114\n",
              "노원점        90\n",
              "청량리점       86\n",
              "대전점        70\n",
              "미아점        69\n",
              "부평점        57\n",
              "동래점        49\n",
              "관악점        46\n",
              "인천점        34\n",
              "안양점        29\n",
              "포항점        11\n",
              "대구점         7\n",
              "울산점         6\n",
              "센텀시티점       6\n",
              "전주점         5\n",
              "창원점         4\n",
              "상인점         1\n",
              "Name: 주구매지점, dtype: int64"
            ]
          },
          "metadata": {
            "tags": []
          },
          "execution_count": 160
        }
      ]
    },
    {
      "cell_type": "code",
      "metadata": {
        "colab": {
          "base_uri": "https://localhost:8080/"
        },
        "id": "Ntc8IO9dyEnE",
        "outputId": "128d9993-0d9d-40a8-f7c2-b254c5dabe84"
      },
      "source": [
        "train[\"주구매상품\"].value_counts()"
      ],
      "execution_count": 161,
      "outputs": [
        {
          "output_type": "execute_result",
          "data": {
            "text/plain": [
              "기타        594\n",
              "가공식품      546\n",
              "농산물       339\n",
              "화장품       264\n",
              "시티웨어      211\n",
              "디자이너      190\n",
              "수산품       153\n",
              "캐주얼       101\n",
              "명품        100\n",
              "섬유잡화       98\n",
              "골프         82\n",
              "스포츠        68\n",
              "일용잡화       64\n",
              "모피/피혁      57\n",
              "육류         57\n",
              "남성 캐주얼     55\n",
              "구두         54\n",
              "건강식품       47\n",
              "차/커피       43\n",
              "아동         40\n",
              "피혁잡화       39\n",
              "축산가공       35\n",
              "주방용품       32\n",
              "셔츠         30\n",
              "젓갈/반찬      29\n",
              "주방가전       26\n",
              "트래디셔널      23\n",
              "남성정장       22\n",
              "주류         14\n",
              "생활잡화       14\n",
              "가구         10\n",
              "커리어         9\n",
              "란제리/내의      8\n",
              "대형가전        8\n",
              "식기          7\n",
              "액세서리        5\n",
              "침구/수예       4\n",
              "통신/컴퓨터      3\n",
              "보석          3\n",
              "악기          2\n",
              "소형가전        2\n",
              "남성 트랜디      2\n",
              "Name: 주구매상품, dtype: int64"
            ]
          },
          "metadata": {
            "tags": []
          },
          "execution_count": 161
        }
      ]
    },
    {
      "cell_type": "code",
      "metadata": {
        "colab": {
          "base_uri": "https://localhost:8080/",
          "height": 423
        },
        "id": "5YjHhRTXOl1h",
        "outputId": "29682d94-1943-41df-bf68-98ecd3559aa0"
      },
      "source": [
        "train"
      ],
      "execution_count": 162,
      "outputs": [
        {
          "output_type": "execute_result",
          "data": {
            "text/html": [
              "<div>\n",
              "<style scoped>\n",
              "    .dataframe tbody tr th:only-of-type {\n",
              "        vertical-align: middle;\n",
              "    }\n",
              "\n",
              "    .dataframe tbody tr th {\n",
              "        vertical-align: top;\n",
              "    }\n",
              "\n",
              "    .dataframe thead th {\n",
              "        text-align: right;\n",
              "    }\n",
              "</style>\n",
              "<table border=\"1\" class=\"dataframe\">\n",
              "  <thead>\n",
              "    <tr style=\"text-align: right;\">\n",
              "      <th></th>\n",
              "      <th>총구매액</th>\n",
              "      <th>최대구매액</th>\n",
              "      <th>환불금액</th>\n",
              "      <th>주구매상품</th>\n",
              "      <th>주구매지점</th>\n",
              "      <th>내점일수</th>\n",
              "      <th>내점당구매건수</th>\n",
              "      <th>주말방문비율</th>\n",
              "      <th>구매주기</th>\n",
              "      <th>gender</th>\n",
              "    </tr>\n",
              "  </thead>\n",
              "  <tbody>\n",
              "    <tr>\n",
              "      <th>0</th>\n",
              "      <td>68282840</td>\n",
              "      <td>11264000</td>\n",
              "      <td>6860000.0</td>\n",
              "      <td>기타</td>\n",
              "      <td>강남점</td>\n",
              "      <td>19</td>\n",
              "      <td>3.894737</td>\n",
              "      <td>0.527027</td>\n",
              "      <td>17</td>\n",
              "      <td>0</td>\n",
              "    </tr>\n",
              "    <tr>\n",
              "      <th>1</th>\n",
              "      <td>2136000</td>\n",
              "      <td>2136000</td>\n",
              "      <td>300000.0</td>\n",
              "      <td>스포츠</td>\n",
              "      <td>잠실점</td>\n",
              "      <td>2</td>\n",
              "      <td>1.500000</td>\n",
              "      <td>0.000000</td>\n",
              "      <td>1</td>\n",
              "      <td>0</td>\n",
              "    </tr>\n",
              "    <tr>\n",
              "      <th>2</th>\n",
              "      <td>3197000</td>\n",
              "      <td>1639000</td>\n",
              "      <td>0.0</td>\n",
              "      <td>남성 캐주얼</td>\n",
              "      <td>관악점</td>\n",
              "      <td>2</td>\n",
              "      <td>2.000000</td>\n",
              "      <td>0.000000</td>\n",
              "      <td>1</td>\n",
              "      <td>1</td>\n",
              "    </tr>\n",
              "    <tr>\n",
              "      <th>3</th>\n",
              "      <td>16077620</td>\n",
              "      <td>4935000</td>\n",
              "      <td>0.0</td>\n",
              "      <td>기타</td>\n",
              "      <td>광주점</td>\n",
              "      <td>18</td>\n",
              "      <td>2.444444</td>\n",
              "      <td>0.318182</td>\n",
              "      <td>16</td>\n",
              "      <td>1</td>\n",
              "    </tr>\n",
              "    <tr>\n",
              "      <th>4</th>\n",
              "      <td>29050000</td>\n",
              "      <td>24000000</td>\n",
              "      <td>0.0</td>\n",
              "      <td>보석</td>\n",
              "      <td>본  점</td>\n",
              "      <td>2</td>\n",
              "      <td>1.500000</td>\n",
              "      <td>0.000000</td>\n",
              "      <td>85</td>\n",
              "      <td>0</td>\n",
              "    </tr>\n",
              "    <tr>\n",
              "      <th>...</th>\n",
              "      <td>...</td>\n",
              "      <td>...</td>\n",
              "      <td>...</td>\n",
              "      <td>...</td>\n",
              "      <td>...</td>\n",
              "      <td>...</td>\n",
              "      <td>...</td>\n",
              "      <td>...</td>\n",
              "      <td>...</td>\n",
              "      <td>...</td>\n",
              "    </tr>\n",
              "    <tr>\n",
              "      <th>3495</th>\n",
              "      <td>3175200</td>\n",
              "      <td>3042900</td>\n",
              "      <td>0.0</td>\n",
              "      <td>골프</td>\n",
              "      <td>본  점</td>\n",
              "      <td>1</td>\n",
              "      <td>2.000000</td>\n",
              "      <td>1.000000</td>\n",
              "      <td>0</td>\n",
              "      <td>1</td>\n",
              "    </tr>\n",
              "    <tr>\n",
              "      <th>3496</th>\n",
              "      <td>29628600</td>\n",
              "      <td>7200000</td>\n",
              "      <td>6049600.0</td>\n",
              "      <td>시티웨어</td>\n",
              "      <td>부산본점</td>\n",
              "      <td>8</td>\n",
              "      <td>1.625000</td>\n",
              "      <td>0.461538</td>\n",
              "      <td>40</td>\n",
              "      <td>1</td>\n",
              "    </tr>\n",
              "    <tr>\n",
              "      <th>3497</th>\n",
              "      <td>75000</td>\n",
              "      <td>75000</td>\n",
              "      <td>0.0</td>\n",
              "      <td>주방용품</td>\n",
              "      <td>창원점</td>\n",
              "      <td>1</td>\n",
              "      <td>1.000000</td>\n",
              "      <td>0.000000</td>\n",
              "      <td>0</td>\n",
              "      <td>0</td>\n",
              "    </tr>\n",
              "    <tr>\n",
              "      <th>3498</th>\n",
              "      <td>1875000</td>\n",
              "      <td>1000000</td>\n",
              "      <td>0.0</td>\n",
              "      <td>화장품</td>\n",
              "      <td>본  점</td>\n",
              "      <td>2</td>\n",
              "      <td>1.000000</td>\n",
              "      <td>0.000000</td>\n",
              "      <td>39</td>\n",
              "      <td>0</td>\n",
              "    </tr>\n",
              "    <tr>\n",
              "      <th>3499</th>\n",
              "      <td>263101550</td>\n",
              "      <td>34632000</td>\n",
              "      <td>5973000.0</td>\n",
              "      <td>기타</td>\n",
              "      <td>본  점</td>\n",
              "      <td>38</td>\n",
              "      <td>2.421053</td>\n",
              "      <td>0.467391</td>\n",
              "      <td>8</td>\n",
              "      <td>0</td>\n",
              "    </tr>\n",
              "  </tbody>\n",
              "</table>\n",
              "<p>3490 rows × 10 columns</p>\n",
              "</div>"
            ],
            "text/plain": [
              "           총구매액     최대구매액       환불금액   주구매상품  ...   내점당구매건수    주말방문비율  구매주기  gender\n",
              "0      68282840  11264000  6860000.0      기타  ...  3.894737  0.527027    17       0\n",
              "1       2136000   2136000   300000.0     스포츠  ...  1.500000  0.000000     1       0\n",
              "2       3197000   1639000        0.0  남성 캐주얼  ...  2.000000  0.000000     1       1\n",
              "3      16077620   4935000        0.0      기타  ...  2.444444  0.318182    16       1\n",
              "4      29050000  24000000        0.0      보석  ...  1.500000  0.000000    85       0\n",
              "...         ...       ...        ...     ...  ...       ...       ...   ...     ...\n",
              "3495    3175200   3042900        0.0      골프  ...  2.000000  1.000000     0       1\n",
              "3496   29628600   7200000  6049600.0    시티웨어  ...  1.625000  0.461538    40       1\n",
              "3497      75000     75000        0.0    주방용품  ...  1.000000  0.000000     0       0\n",
              "3498    1875000   1000000        0.0     화장품  ...  1.000000  0.000000    39       0\n",
              "3499  263101550  34632000  5973000.0      기타  ...  2.421053  0.467391     8       0\n",
              "\n",
              "[3490 rows x 10 columns]"
            ]
          },
          "metadata": {
            "tags": []
          },
          "execution_count": 162
        }
      ]
    },
    {
      "cell_type": "code",
      "metadata": {
        "colab": {
          "base_uri": "https://localhost:8080/",
          "height": 287
        },
        "id": "YuJAA_P6OsUR",
        "outputId": "cdd401a2-1302-4e1f-fba9-0060c821e7dd"
      },
      "source": [
        "train[train[\"gender\"]==1].describe().round(2)"
      ],
      "execution_count": 163,
      "outputs": [
        {
          "output_type": "execute_result",
          "data": {
            "text/html": [
              "<div>\n",
              "<style scoped>\n",
              "    .dataframe tbody tr th:only-of-type {\n",
              "        vertical-align: middle;\n",
              "    }\n",
              "\n",
              "    .dataframe tbody tr th {\n",
              "        vertical-align: top;\n",
              "    }\n",
              "\n",
              "    .dataframe thead th {\n",
              "        text-align: right;\n",
              "    }\n",
              "</style>\n",
              "<table border=\"1\" class=\"dataframe\">\n",
              "  <thead>\n",
              "    <tr style=\"text-align: right;\">\n",
              "      <th></th>\n",
              "      <th>총구매액</th>\n",
              "      <th>최대구매액</th>\n",
              "      <th>환불금액</th>\n",
              "      <th>내점일수</th>\n",
              "      <th>내점당구매건수</th>\n",
              "      <th>주말방문비율</th>\n",
              "      <th>구매주기</th>\n",
              "      <th>gender</th>\n",
              "    </tr>\n",
              "  </thead>\n",
              "  <tbody>\n",
              "    <tr>\n",
              "      <th>count</th>\n",
              "      <td>1.316000e+03</td>\n",
              "      <td>1.316000e+03</td>\n",
              "      <td>1.316000e+03</td>\n",
              "      <td>1316.00</td>\n",
              "      <td>1316.00</td>\n",
              "      <td>1316.00</td>\n",
              "      <td>1316.00</td>\n",
              "      <td>1316.0</td>\n",
              "    </tr>\n",
              "    <tr>\n",
              "      <th>mean</th>\n",
              "      <td>6.029865e+07</td>\n",
              "      <td>1.495320e+07</td>\n",
              "      <td>3.856970e+06</td>\n",
              "      <td>13.83</td>\n",
              "      <td>2.73</td>\n",
              "      <td>0.33</td>\n",
              "      <td>22.28</td>\n",
              "      <td>1.0</td>\n",
              "    </tr>\n",
              "    <tr>\n",
              "      <th>std</th>\n",
              "      <td>1.210862e+08</td>\n",
              "      <td>2.761925e+07</td>\n",
              "      <td>1.681849e+07</td>\n",
              "      <td>24.95</td>\n",
              "      <td>1.98</td>\n",
              "      <td>0.33</td>\n",
              "      <td>26.65</td>\n",
              "      <td>0.0</td>\n",
              "    </tr>\n",
              "    <tr>\n",
              "      <th>min</th>\n",
              "      <td>5.000000e+03</td>\n",
              "      <td>5.000000e+03</td>\n",
              "      <td>0.000000e+00</td>\n",
              "      <td>1.00</td>\n",
              "      <td>1.00</td>\n",
              "      <td>0.00</td>\n",
              "      <td>0.00</td>\n",
              "      <td>1.0</td>\n",
              "    </tr>\n",
              "    <tr>\n",
              "      <th>25%</th>\n",
              "      <td>2.352638e+06</td>\n",
              "      <td>1.614278e+06</td>\n",
              "      <td>0.000000e+00</td>\n",
              "      <td>1.00</td>\n",
              "      <td>1.50</td>\n",
              "      <td>0.00</td>\n",
              "      <td>0.00</td>\n",
              "      <td>1.0</td>\n",
              "    </tr>\n",
              "    <tr>\n",
              "      <th>50%</th>\n",
              "      <td>1.288002e+07</td>\n",
              "      <td>6.164500e+06</td>\n",
              "      <td>0.000000e+00</td>\n",
              "      <td>4.00</td>\n",
              "      <td>2.17</td>\n",
              "      <td>0.27</td>\n",
              "      <td>14.00</td>\n",
              "      <td>1.0</td>\n",
              "    </tr>\n",
              "    <tr>\n",
              "      <th>75%</th>\n",
              "      <td>6.090238e+07</td>\n",
              "      <td>1.700000e+07</td>\n",
              "      <td>0.000000e+00</td>\n",
              "      <td>15.00</td>\n",
              "      <td>3.25</td>\n",
              "      <td>0.50</td>\n",
              "      <td>32.25</td>\n",
              "      <td>1.0</td>\n",
              "    </tr>\n",
              "    <tr>\n",
              "      <th>max</th>\n",
              "      <td>9.981312e+08</td>\n",
              "      <td>3.910000e+08</td>\n",
              "      <td>2.107714e+08</td>\n",
              "      <td>285.00</td>\n",
              "      <td>22.08</td>\n",
              "      <td>1.00</td>\n",
              "      <td>162.00</td>\n",
              "      <td>1.0</td>\n",
              "    </tr>\n",
              "  </tbody>\n",
              "</table>\n",
              "</div>"
            ],
            "text/plain": [
              "               총구매액         최대구매액          환불금액  ...   주말방문비율     구매주기  gender\n",
              "count  1.316000e+03  1.316000e+03  1.316000e+03  ...  1316.00  1316.00  1316.0\n",
              "mean   6.029865e+07  1.495320e+07  3.856970e+06  ...     0.33    22.28     1.0\n",
              "std    1.210862e+08  2.761925e+07  1.681849e+07  ...     0.33    26.65     0.0\n",
              "min    5.000000e+03  5.000000e+03  0.000000e+00  ...     0.00     0.00     1.0\n",
              "25%    2.352638e+06  1.614278e+06  0.000000e+00  ...     0.00     0.00     1.0\n",
              "50%    1.288002e+07  6.164500e+06  0.000000e+00  ...     0.27    14.00     1.0\n",
              "75%    6.090238e+07  1.700000e+07  0.000000e+00  ...     0.50    32.25     1.0\n",
              "max    9.981312e+08  3.910000e+08  2.107714e+08  ...     1.00   162.00     1.0\n",
              "\n",
              "[8 rows x 8 columns]"
            ]
          },
          "metadata": {
            "tags": []
          },
          "execution_count": 163
        }
      ]
    },
    {
      "cell_type": "code",
      "metadata": {
        "colab": {
          "base_uri": "https://localhost:8080/",
          "height": 287
        },
        "id": "sU_FLad3OxLD",
        "outputId": "4b09f091-f64f-45cb-af19-b92aec31bcd9"
      },
      "source": [
        "train[train[\"gender\"]==0].describe().round(2)"
      ],
      "execution_count": 164,
      "outputs": [
        {
          "output_type": "execute_result",
          "data": {
            "text/html": [
              "<div>\n",
              "<style scoped>\n",
              "    .dataframe tbody tr th:only-of-type {\n",
              "        vertical-align: middle;\n",
              "    }\n",
              "\n",
              "    .dataframe tbody tr th {\n",
              "        vertical-align: top;\n",
              "    }\n",
              "\n",
              "    .dataframe thead th {\n",
              "        text-align: right;\n",
              "    }\n",
              "</style>\n",
              "<table border=\"1\" class=\"dataframe\">\n",
              "  <thead>\n",
              "    <tr style=\"text-align: right;\">\n",
              "      <th></th>\n",
              "      <th>총구매액</th>\n",
              "      <th>최대구매액</th>\n",
              "      <th>환불금액</th>\n",
              "      <th>내점일수</th>\n",
              "      <th>내점당구매건수</th>\n",
              "      <th>주말방문비율</th>\n",
              "      <th>구매주기</th>\n",
              "      <th>gender</th>\n",
              "    </tr>\n",
              "  </thead>\n",
              "  <tbody>\n",
              "    <tr>\n",
              "      <th>count</th>\n",
              "      <td>2.174000e+03</td>\n",
              "      <td>2.174000e+03</td>\n",
              "      <td>2.174000e+03</td>\n",
              "      <td>2174.00</td>\n",
              "      <td>2174.00</td>\n",
              "      <td>2174.00</td>\n",
              "      <td>2174.00</td>\n",
              "      <td>2174.0</td>\n",
              "    </tr>\n",
              "    <tr>\n",
              "      <th>mean</th>\n",
              "      <td>1.115173e+08</td>\n",
              "      <td>2.255219e+07</td>\n",
              "      <td>1.070829e+07</td>\n",
              "      <td>22.60</td>\n",
              "      <td>2.90</td>\n",
              "      <td>0.29</td>\n",
              "      <td>20.23</td>\n",
              "      <td>0.0</td>\n",
              "    </tr>\n",
              "    <tr>\n",
              "      <th>std</th>\n",
              "      <td>1.820413e+08</td>\n",
              "      <td>3.408443e+07</td>\n",
              "      <td>3.378378e+07</td>\n",
              "      <td>27.97</td>\n",
              "      <td>1.87</td>\n",
              "      <td>0.26</td>\n",
              "      <td>23.53</td>\n",
              "      <td>0.0</td>\n",
              "    </tr>\n",
              "    <tr>\n",
              "      <th>min</th>\n",
              "      <td>1.000000e+04</td>\n",
              "      <td>1.000000e+04</td>\n",
              "      <td>0.000000e+00</td>\n",
              "      <td>1.00</td>\n",
              "      <td>1.00</td>\n",
              "      <td>0.00</td>\n",
              "      <td>0.00</td>\n",
              "      <td>0.0</td>\n",
              "    </tr>\n",
              "    <tr>\n",
              "      <th>25%</th>\n",
              "      <td>8.404250e+06</td>\n",
              "      <td>4.320000e+06</td>\n",
              "      <td>0.000000e+00</td>\n",
              "      <td>3.00</td>\n",
              "      <td>1.80</td>\n",
              "      <td>0.07</td>\n",
              "      <td>5.00</td>\n",
              "      <td>0.0</td>\n",
              "    </tr>\n",
              "    <tr>\n",
              "      <th>50%</th>\n",
              "      <td>4.189057e+07</td>\n",
              "      <td>1.178600e+07</td>\n",
              "      <td>0.000000e+00</td>\n",
              "      <td>12.00</td>\n",
              "      <td>2.43</td>\n",
              "      <td>0.25</td>\n",
              "      <td>13.00</td>\n",
              "      <td>0.0</td>\n",
              "    </tr>\n",
              "    <tr>\n",
              "      <th>75%</th>\n",
              "      <td>1.430845e+08</td>\n",
              "      <td>2.687500e+07</td>\n",
              "      <td>5.557500e+06</td>\n",
              "      <td>31.00</td>\n",
              "      <td>3.50</td>\n",
              "      <td>0.41</td>\n",
              "      <td>27.00</td>\n",
              "      <td>0.0</td>\n",
              "    </tr>\n",
              "    <tr>\n",
              "      <th>max</th>\n",
              "      <td>2.323180e+09</td>\n",
              "      <td>7.066290e+08</td>\n",
              "      <td>5.637530e+08</td>\n",
              "      <td>211.00</td>\n",
              "      <td>20.00</td>\n",
              "      <td>1.00</td>\n",
              "      <td>166.00</td>\n",
              "      <td>0.0</td>\n",
              "    </tr>\n",
              "  </tbody>\n",
              "</table>\n",
              "</div>"
            ],
            "text/plain": [
              "               총구매액         최대구매액          환불금액  ...   주말방문비율     구매주기  gender\n",
              "count  2.174000e+03  2.174000e+03  2.174000e+03  ...  2174.00  2174.00  2174.0\n",
              "mean   1.115173e+08  2.255219e+07  1.070829e+07  ...     0.29    20.23     0.0\n",
              "std    1.820413e+08  3.408443e+07  3.378378e+07  ...     0.26    23.53     0.0\n",
              "min    1.000000e+04  1.000000e+04  0.000000e+00  ...     0.00     0.00     0.0\n",
              "25%    8.404250e+06  4.320000e+06  0.000000e+00  ...     0.07     5.00     0.0\n",
              "50%    4.189057e+07  1.178600e+07  0.000000e+00  ...     0.25    13.00     0.0\n",
              "75%    1.430845e+08  2.687500e+07  5.557500e+06  ...     0.41    27.00     0.0\n",
              "max    2.323180e+09  7.066290e+08  5.637530e+08  ...     1.00   166.00     0.0\n",
              "\n",
              "[8 rows x 8 columns]"
            ]
          },
          "metadata": {
            "tags": []
          },
          "execution_count": 164
        }
      ]
    },
    {
      "cell_type": "code",
      "metadata": {
        "id": "ilVaMFOxOK8-"
      },
      "source": [
        "\n",
        "train[\"환불금액비율\"] = train[\"환불금액\"]/train[\"총구매액\"]\n",
        "train[\"총구매건수\"] = train[\"내점일수\"]*train[\"내점당구매건수\"]\n",
        "train[\"구매건당지출금액\"] = train[\"총구매액\"]/train[\"총구매건수\"]\n",
        "\n",
        "\n",
        "\n",
        "test[\"환불금액비율\"] = test[\"환불금액\"]/test[\"총구매액\"]\n",
        "test[\"총구매건수\"] = test[\"내점일수\"]*test[\"내점당구매건수\"]\n",
        "test[\"구매건당지출금액\"] = test[\"총구매액\"]/test[\"총구매건수\"]"
      ],
      "execution_count": 165,
      "outputs": []
    },
    {
      "cell_type": "code",
      "metadata": {
        "colab": {
          "base_uri": "https://localhost:8080/"
        },
        "id": "VjFsWyZfN5qW",
        "outputId": "042e7183-545a-40e8-e43d-0f4b6c2fcf1c"
      },
      "source": [
        "train.columns"
      ],
      "execution_count": 166,
      "outputs": [
        {
          "output_type": "execute_result",
          "data": {
            "text/plain": [
              "Index(['총구매액', '최대구매액', '환불금액', '주구매상품', '주구매지점', '내점일수', '내점당구매건수', '주말방문비율',\n",
              "       '구매주기', 'gender', '환불금액비율', '총구매건수', '구매건당지출금액'],\n",
              "      dtype='object')"
            ]
          },
          "metadata": {
            "tags": []
          },
          "execution_count": 166
        }
      ]
    },
    {
      "cell_type": "code",
      "metadata": {
        "colab": {
          "base_uri": "https://localhost:8080/"
        },
        "id": "lghDTJg2SLPU",
        "outputId": "d892d821-ec12-4fab-f67d-f15872c0be73"
      },
      "source": [
        "len(train)"
      ],
      "execution_count": 167,
      "outputs": [
        {
          "output_type": "execute_result",
          "data": {
            "text/plain": [
              "3490"
            ]
          },
          "metadata": {
            "tags": []
          },
          "execution_count": 167
        }
      ]
    },
    {
      "cell_type": "code",
      "metadata": {
        "id": "CJY90AAByMX1"
      },
      "source": [
        "cols = ['총구매액', '최대구매액', '환불금액', '내점일수', '내점당구매건수', '주말방문비율', '구매주기', '환불금액비율', '총구매건수', '구매건당지출금액'] \n",
        "\n",
        "Q1 = train[cols].quantile(0.005)\n",
        "Q3 = train[cols].quantile(0.995)\n",
        "\n",
        "train = train[~((train[cols]< Q1) | (train[cols] > Q3)).any(axis=1)]"
      ],
      "execution_count": 168,
      "outputs": []
    },
    {
      "cell_type": "code",
      "metadata": {
        "colab": {
          "base_uri": "https://localhost:8080/"
        },
        "id": "D-vQ3H6-SRCu",
        "outputId": "adf44c0c-e354-4962-dcc2-254407e2b634"
      },
      "source": [
        "len(train)"
      ],
      "execution_count": 169,
      "outputs": [
        {
          "output_type": "execute_result",
          "data": {
            "text/plain": [
              "3330"
            ]
          },
          "metadata": {
            "tags": []
          },
          "execution_count": 169
        }
      ]
    },
    {
      "cell_type": "code",
      "metadata": {
        "id": "3qAVcAZcqUWW"
      },
      "source": [
        ""
      ],
      "execution_count": null,
      "outputs": []
    },
    {
      "cell_type": "code",
      "metadata": {
        "id": "kCHjjjPdSSWu"
      },
      "source": [
        "from sklearn.preprocessing import StandardScaler, OrdinalEncoder\n",
        "from sklearn.model_selection import train_test_split"
      ],
      "execution_count": 170,
      "outputs": []
    },
    {
      "cell_type": "code",
      "metadata": {
        "id": "AlraVQpNUuob"
      },
      "source": [
        "encoder = OrdinalEncoder()\n",
        "encoder.fit(train[[\"주구매상품\", \"주구매지점\"]])\n",
        "\n",
        "train[[\"주구매상품\", \"주구매지점\"]] = encoder.transform(train[[\"주구매상품\", \"주구매지점\"]] )\n",
        "test[[\"주구매상품\", \"주구매지점\"]] = encoder.transform(test[[\"주구매상품\", \"주구매지점\"]])\n"
      ],
      "execution_count": 171,
      "outputs": []
    },
    {
      "cell_type": "code",
      "metadata": {
        "id": "l6nUmfegYCV0"
      },
      "source": [
        "val = train.iloc[:300, :]\n",
        "train = train.iloc[300:, :]"
      ],
      "execution_count": 194,
      "outputs": []
    },
    {
      "cell_type": "code",
      "metadata": {
        "colab": {
          "base_uri": "https://localhost:8080/"
        },
        "id": "B064je0WkHpL",
        "outputId": "ae69979b-41b8-4e4f-dd03-fccaab862f23"
      },
      "source": [
        "train.shape"
      ],
      "execution_count": 195,
      "outputs": [
        {
          "output_type": "execute_result",
          "data": {
            "text/plain": [
              "(2444, 13)"
            ]
          },
          "metadata": {
            "tags": []
          },
          "execution_count": 195
        }
      ]
    },
    {
      "cell_type": "code",
      "metadata": {
        "colab": {
          "base_uri": "https://localhost:8080/"
        },
        "id": "WA5DHlbTj8v0",
        "outputId": "03cd5e6b-4d81-4d7a-939d-e004e3b13a38"
      },
      "source": [
        "len(train), len(val)"
      ],
      "execution_count": 196,
      "outputs": [
        {
          "output_type": "execute_result",
          "data": {
            "text/plain": [
              "(2444, 300)"
            ]
          },
          "metadata": {
            "tags": []
          },
          "execution_count": 196
        }
      ]
    },
    {
      "cell_type": "code",
      "metadata": {
        "id": "QEtLFE2FT2Uv"
      },
      "source": [
        "train['gender'].value_counts()\n",
        "from sklearn.utils import resample\n",
        "\n",
        "#separate majoirty and minority classes\n",
        "train_minority = train[train['gender'] == 1]\n",
        "train_majority = train[train['gender'] == 0]\n",
        "\n",
        "#Upsample minority class\n",
        "train_minority_upsampled = resample(train_minority, \n",
        "                                replace = True,\n",
        "                                n_samples = len(train_majority),\n",
        "                                random_state= 123)"
      ],
      "execution_count": 197,
      "outputs": []
    },
    {
      "cell_type": "code",
      "metadata": {
        "id": "K6CARd9fVmnz"
      },
      "source": [
        "#combine\n",
        "train_altered = pd.concat([train_majority, train_minority_upsampled])\n",
        "train_altered['gender'].value_counts()\n",
        "\n",
        "#5. Scaling\n",
        "#데이터셋 분리\n",
        "y_train = train_altered[['gender']]"
      ],
      "execution_count": 176,
      "outputs": []
    },
    {
      "cell_type": "code",
      "metadata": {
        "id": "uMakl3U-X8at"
      },
      "source": [
        "X_train = train_altered.drop(columns = y_train.columns)"
      ],
      "execution_count": 198,
      "outputs": []
    },
    {
      "cell_type": "code",
      "metadata": {
        "id": "6am-7pYRVwQ7"
      },
      "source": [
        "y_val = val[[\"gender\"]]\n",
        "X_val = val.drop(columns = y_val.columns)"
      ],
      "execution_count": 200,
      "outputs": []
    },
    {
      "cell_type": "code",
      "metadata": {
        "id": "XSCreP-gXTWa"
      },
      "source": [
        "\n",
        "import xgboost as xgb\n",
        "from sklearn.pipeline import Pipeline, make_pipeline\n",
        "from sklearn.model_selection import train_test_split,GridSearchCV, cross_val_score\n",
        "from sklearn.preprocessing import StandardScaler"
      ],
      "execution_count": 201,
      "outputs": []
    },
    {
      "cell_type": "code",
      "metadata": {
        "colab": {
          "base_uri": "https://localhost:8080/"
        },
        "id": "sisj_hThZAy8",
        "outputId": "508549ea-6f39-4472-eee6-051d3e594acc"
      },
      "source": [
        "pipe = Pipeline([(\"scaler\", StandardScaler()), (\"model\", xgb.XGBClassifier())])\n",
        "\n",
        "train_scores = cross_val_score(pipe, X_train, y_train, cv=5, scoring=\"roc_auc\")\n",
        "val_scores = cross_val_score(pipe, X_val, y_val, cv=10, scoring=\"roc_auc\")\n",
        "\n",
        "print(train_scores.mean())\n",
        "print(val_scores.mean())"
      ],
      "execution_count": 202,
      "outputs": [
        {
          "output_type": "stream",
          "text": [
            "0.7318959930475101\n",
            "0.5891124401913875\n"
          ],
          "name": "stdout"
        }
      ]
    },
    {
      "cell_type": "code",
      "metadata": {
        "colab": {
          "base_uri": "https://localhost:8080/"
        },
        "id": "UKNUmkA0Z56k",
        "outputId": "cf0639d7-943e-4805-ab93-2c482f40d05e"
      },
      "source": [
        "from sklearn.pipeline import Pipeline, make_pipeline\n",
        "from sklearn.svm import SVC\n",
        "from sklearn.ensemble import RandomForestClassifier\n",
        "\n",
        "pipe = Pipeline([('model', xgb.XGBClassifier())])\n",
        "\n",
        "param_grid = [\n",
        "              {'model': [SVC()], \n",
        "              'model__gamma': [0.01, 0.1, 1, 10, 100], \n",
        "              'model__C': [0.01, 0.1, 1, 10, 100]\n",
        "              },\n",
        "\n",
        "              {'model': [xgb.XGBClassifier()], \n",
        "              'model__learning_rate' : [0.1, 0.3, 0.5],\n",
        "              'model__n_estimators' : [50, 100, 200,],  \n",
        "              'model__max_depth': [3, 4, 6]\n",
        "              },\n",
        "\n",
        "              {'model': [RandomForestClassifier()],\n",
        "              'model__max_depth': [3, 4], \n",
        "              'model__n_estimators': [100, 200], \n",
        "              'model__min_samples_split': [50, 100]\n",
        "              }]        \n",
        "\n",
        "grid = GridSearchCV(pipe, param_grid, scoring = 'roc_auc', cv=5)  \n",
        "grid.fit(X_train, y_train)\n",
        "\n",
        "print(grid.best_params_)\n",
        "print(grid.best_score_)"
      ],
      "execution_count": 203,
      "outputs": [
        {
          "output_type": "stream",
          "text": [
            "{'model': XGBClassifier(base_score=0.5, booster='gbtree', colsample_bylevel=1,\n",
            "              colsample_bynode=1, colsample_bytree=1, gamma=0,\n",
            "              learning_rate=0.3, max_delta_step=0, max_depth=6,\n",
            "              min_child_weight=1, missing=None, n_estimators=200, n_jobs=1,\n",
            "              nthread=None, objective='binary:logistic', random_state=0,\n",
            "              reg_alpha=0, reg_lambda=1, scale_pos_weight=1, seed=None,\n",
            "              silent=None, subsample=1, verbosity=1), 'model__learning_rate': 0.3, 'model__max_depth': 6, 'model__n_estimators': 200}\n",
            "0.8684761846778365\n"
          ],
          "name": "stdout"
        }
      ]
    },
    {
      "cell_type": "code",
      "metadata": {
        "colab": {
          "base_uri": "https://localhost:8080/"
        },
        "id": "wAD1cN2cmDAw",
        "outputId": "1de75eca-a3e5-4536-c018-74cd6d93a8a0"
      },
      "source": [
        "grid.score(X_train, y_train)"
      ],
      "execution_count": 204,
      "outputs": [
        {
          "output_type": "execute_result",
          "data": {
            "text/plain": [
              "1.0"
            ]
          },
          "metadata": {
            "tags": []
          },
          "execution_count": 204
        }
      ]
    },
    {
      "cell_type": "code",
      "metadata": {
        "colab": {
          "base_uri": "https://localhost:8080/"
        },
        "id": "V5Wav-1Sa5-p",
        "outputId": "aee67eba-9fe8-4a85-c455-8d3343b8f02e"
      },
      "source": [
        "grid.score(X_val, y_val)"
      ],
      "execution_count": 207,
      "outputs": [
        {
          "output_type": "execute_result",
          "data": {
            "text/plain": [
              "0.9866666666666668"
            ]
          },
          "metadata": {
            "tags": []
          },
          "execution_count": 207
        }
      ]
    },
    {
      "cell_type": "code",
      "metadata": {
        "id": "jTC6QhuCbv2w"
      },
      "source": [
        "preds = grid.predict(X_val)"
      ],
      "execution_count": 208,
      "outputs": []
    },
    {
      "cell_type": "code",
      "metadata": {
        "id": "JCCkH1jBcUuW"
      },
      "source": [
        "from sklearn.metrics import roc_auc_score, classification_report"
      ],
      "execution_count": 209,
      "outputs": []
    },
    {
      "cell_type": "code",
      "metadata": {
        "colab": {
          "base_uri": "https://localhost:8080/"
        },
        "id": "mQz_-4ITmL_w",
        "outputId": "6ba5f3dd-544f-4265-c0ac-a520ffe5e2d8"
      },
      "source": [
        "print(classification_report(y_val, preds))"
      ],
      "execution_count": 210,
      "outputs": [
        {
          "output_type": "stream",
          "text": [
            "              precision    recall  f1-score   support\n",
            "\n",
            "           0       0.95      1.00      0.97       195\n",
            "           1       1.00      0.90      0.94       105\n",
            "\n",
            "    accuracy                           0.96       300\n",
            "   macro avg       0.97      0.95      0.96       300\n",
            "weighted avg       0.97      0.96      0.96       300\n",
            "\n"
          ],
          "name": "stdout"
        }
      ]
    },
    {
      "cell_type": "code",
      "metadata": {
        "colab": {
          "base_uri": "https://localhost:8080/"
        },
        "id": "jtyManvnb5bs",
        "outputId": "8479b165-f9cb-4465-ac3d-bbc1f595cafb"
      },
      "source": [
        "\n",
        "roc_auc_score(y_val, preds)"
      ],
      "execution_count": 211,
      "outputs": [
        {
          "output_type": "execute_result",
          "data": {
            "text/plain": [
              "0.9476190476190476"
            ]
          },
          "metadata": {
            "tags": []
          },
          "execution_count": 211
        }
      ]
    },
    {
      "cell_type": "code",
      "metadata": {
        "id": "iyIrNxJJdd02"
      },
      "source": [
        "model = xgb.XGBClassifier(**grid.best_params_)"
      ],
      "execution_count": 188,
      "outputs": []
    },
    {
      "cell_type": "code",
      "metadata": {
        "colab": {
          "base_uri": "https://localhost:8080/"
        },
        "id": "qPef-m1DfMIj",
        "outputId": "560c1af4-e7b3-4111-c374-04b04e5c1620"
      },
      "source": [
        "model.fit(X_train, y_train)"
      ],
      "execution_count": 189,
      "outputs": [
        {
          "output_type": "execute_result",
          "data": {
            "text/plain": [
              "XGBClassifier(base_score=0.5, booster='gbtree', colsample_bylevel=1,\n",
              "              colsample_bynode=1, colsample_bytree=1, gamma=0,\n",
              "              learning_rate=0.1, max_delta_step=0, max_depth=3,\n",
              "              min_child_weight=1, missing=None,\n",
              "              model=XGBClassifier(base_score=0.5, booster='gbtree',\n",
              "                                  colsample_bylevel=1, colsample_bynode=1,\n",
              "                                  colsample_bytree=1, gamma=0,\n",
              "                                  learning_rate=0.3, max_delta_step=0,\n",
              "                                  max_de...\n",
              "                                  objective='binary:logistic', random_state=0,\n",
              "                                  reg_alpha=0, reg_lambda=1, scale_pos_weight=1,\n",
              "                                  seed=None, silent=None, subsample=1,\n",
              "                                  verbosity=1),\n",
              "              model__learning_rate=0.3, model__max_depth=6,\n",
              "              model__n_estimators=200, n_estimators=100, n_jobs=1, nthread=None,\n",
              "              objective='binary:logistic', random_state=0, reg_alpha=0,\n",
              "              reg_lambda=1, scale_pos_weight=1, seed=None, silent=None,\n",
              "              subsample=1, verbosity=1)"
            ]
          },
          "metadata": {
            "tags": []
          },
          "execution_count": 189
        }
      ]
    },
    {
      "cell_type": "code",
      "metadata": {
        "id": "huMOq-KUfOyO"
      },
      "source": [
        "y_test = model.predict_proba(test)[:, 1]"
      ],
      "execution_count": 190,
      "outputs": []
    },
    {
      "cell_type": "code",
      "metadata": {
        "id": "95iMB7CRfrVh"
      },
      "source": [
        "test  = pd.read_csv('https://raw.githubusercontent.com/Datamanim/dataq/main/X_test.csv',encoding='euc-kr')"
      ],
      "execution_count": 191,
      "outputs": []
    },
    {
      "cell_type": "code",
      "metadata": {
        "id": "SEad7Txbff5Y"
      },
      "source": [
        "answer = test[[\"cust_id\", \"gender\"]]"
      ],
      "execution_count": null,
      "outputs": []
    },
    {
      "cell_type": "code",
      "metadata": {
        "id": "DA52PYnsflJc"
      },
      "source": [
        "answer"
      ],
      "execution_count": null,
      "outputs": []
    },
    {
      "cell_type": "code",
      "metadata": {
        "id": "xopitsYgfywI"
      },
      "source": [
        "answer.to_csv(\"123456.csv\", index=False)"
      ],
      "execution_count": null,
      "outputs": []
    },
    {
      "cell_type": "code",
      "metadata": {
        "id": "cZtYzz_hf4zF"
      },
      "source": [
        "print(pd.read_csv(\"123456.csv\"))"
      ],
      "execution_count": null,
      "outputs": []
    },
    {
      "cell_type": "code",
      "metadata": {
        "id": "B86R9KAxf-ct"
      },
      "source": [
        ""
      ],
      "execution_count": null,
      "outputs": []
    },
    {
      "cell_type": "code",
      "metadata": {
        "id": "01C1JPgzix34"
      },
      "source": [
        "dir(st)"
      ],
      "execution_count": null,
      "outputs": []
    },
    {
      "cell_type": "code",
      "metadata": {
        "colab": {
          "base_uri": "https://localhost:8080/"
        },
        "id": "HVgvAFl5rr73",
        "outputId": "4fee62f6-b3b3-46ed-f9e1-ae302a150432"
      },
      "source": [
        "# t-test\n",
        "# 모집단의 분산이나 표준편차를 알지 못할 때\n",
        "# 모집단을 대표하는 표본으로부터 추정된 분산이나 표준편차를 가지고 검정하는 방법\n",
        "\n",
        "# one_smaple_t_test\n",
        "import scipy.stats as st \n",
        "coinflips = np.random.binomial(n = 1, p = 0.5, size = 1000)\n",
        "\n",
        "print(st.ttest_1samp(coinflips, 0.5))\n",
        "\n",
        "# two_smaple_t_test\n",
        "coin1 = np.random.binomial(n = 1, p = 0.6, size = 500)\n",
        "coin2 = np.random.binomial(n = 1, p = 0.5, size = 200)\n",
        "\n",
        "st.ttest_ind(coin1, coin2)"
      ],
      "execution_count": 13,
      "outputs": [
        {
          "output_type": "stream",
          "text": [
            "Ttest_1sampResult(statistic=0.6322656909571999, pvalue=0.5273579504134063)\n"
          ],
          "name": "stdout"
        },
        {
          "output_type": "execute_result",
          "data": {
            "text/plain": [
              "Ttest_indResult(statistic=1.9445586796700236, pvalue=0.05222945280717049)"
            ]
          },
          "metadata": {
            "tags": []
          },
          "execution_count": 13
        }
      ]
    },
    {
      "cell_type": "code",
      "metadata": {
        "colab": {
          "base_uri": "https://localhost:8080/"
        },
        "id": "hDjYzimvryqK",
        "outputId": "111f3a70-ba03-4adf-9700-dd83cf7a5f74"
      },
      "source": [
        "import numpy as np\n",
        "from scipy.stats import chisquare  \n",
        "\n",
        "s_obs = np.array([[18, 22, 20, 15, 23, 22]]) # Similar\n",
        "print('--- Similar ---')\n",
        "chisquare(s_obs, axis=None)\n",
        "\n",
        "# st.chi2_contingency(데이터프레임으로 들어와야함)\n",
        "\n",
        "# return으로는 chi2, pvalue, dof, expected가 주어지게 됨 "
      ],
      "execution_count": 17,
      "outputs": [
        {
          "output_type": "stream",
          "text": [
            "--- Similar ---\n"
          ],
          "name": "stdout"
        },
        {
          "output_type": "execute_result",
          "data": {
            "text/plain": [
              "Power_divergenceResult(statistic=2.3000000000000003, pvalue=0.8062668698851285)"
            ]
          },
          "metadata": {
            "tags": []
          },
          "execution_count": 17
        }
      ]
    },
    {
      "cell_type": "code",
      "metadata": {
        "colab": {
          "base_uri": "https://localhost:8080/"
        },
        "id": "a0YmPPFpm7SI",
        "outputId": "8f950be3-d663-49f1-8041-467f11b503d9"
      },
      "source": [
        "# 신뢰구간 ( T분포 )\n",
        "\n",
        "import scipy.stats as st\n",
        "import numpy as np\n",
        "\n",
        "a = range(10, 14)\n",
        "print(st.t.interval(0.95, len(a)-1, loc=np.mean(a), scale=st.sem(a)))\n",
        "\n",
        "\n",
        "from scipy.stats import t\n",
        "# 표본의 크기\n",
        "n = len(a)\n",
        "# 자유도\n",
        "dof = n-1\n",
        "# 평균의 평균\n",
        "mean = np.mean(a)\n",
        "# 표본의 표준편차\n",
        "sample_std = np.std(a, ddof = 1)\n",
        "# 표준 오차\n",
        "std_err = sample_std / n ** 0.5 # sample_std / sqrt(n)\n",
        "\n",
        "CI = t.interval(.95, dof, loc = mean, scale = std_err)\n",
        "print(CI)"
      ],
      "execution_count": 2,
      "outputs": [
        {
          "output_type": "stream",
          "text": [
            "(9.445739743239121, 13.554260256760879)\n",
            "(9.445739743239121, 13.554260256760879)\n"
          ],
          "name": "stdout"
        }
      ]
    },
    {
      "cell_type": "code",
      "metadata": {
        "colab": {
          "base_uri": "https://localhost:8080/"
        },
        "id": "IfEnXLUw0QXl",
        "outputId": "7e3a95aa-1eed-4ae7-ea29-622c679c13e2"
      },
      "source": [
        "# 신뢰구간 ( chi)\n",
        "\n",
        "from scipy.stats \n",
        "import numpy as np\n",
        "\n",
        "## 모집단 평균 70, 표준편차 3 가정\n",
        "mu = 70\n",
        "std = 3\n",
        "norm_ = st.norm(mu,std)\n",
        "\n",
        "## 모집단에서 30개 표본 추출\n",
        "sample_data=norm_.rvs(30)\n",
        "sample_mean = np.mean(sample_data)\n",
        "sample_std = np.std(sample_data, ddof=1)\n",
        "\n",
        "## 카이제곱분포를 활용한 신뢰구간 추정\n",
        "df = 30-1\n",
        "chi_ = st.chi2(df)\n",
        "t_025 = chi_.ppf(0.025) \n",
        "t_975 = chi_.ppf(0.975) \n",
        "L_= round(((df*sample_std**2)/t_975),2) ## 본문의 식과는 t_975, t_025순서가 바뀜(Scipy가 주는 값에 의해)\n",
        "U_= round(((df*sample_std**2)/t_025),2)\n",
        "print(\"{} < {} < {}\".format(L_, std**2, U_)) ## 결과:4.78 < 9 < 13.62"
      ],
      "execution_count": 12,
      "outputs": [
        {
          "output_type": "stream",
          "text": [
            "5.88 < 9 < 16.74\n"
          ],
          "name": "stdout"
        }
      ]
    },
    {
      "cell_type": "code",
      "metadata": {
        "colab": {
          "base_uri": "https://localhost:8080/"
        },
        "id": "kwA0sEbtq2w4",
        "outputId": "5be69c84-02ef-4dd0-e6f7-4c760085ab21"
      },
      "source": [
        "# ANOVA\n",
        "#: Python의  scipy 모듈의 stats.f_oneway() 메소드를 사용하여 샘플의 크기가 서로 다른 3개 그룹 간 평균에 차이가 존재하는지 여부를 일원분산분석(one-way ANOVA)\n",
        "\n",
        "# [ 분산분석  검정의 가정사항 (assumptions of ANOVA test) ]\n",
        "\n",
        "#   (1) 독립성: 각 샘플 데이터는 서로 독립이다. \n",
        "#   (2) 정규성: 각 샘플 데이터는 정규분포를 따르는 모집단으로 부터 추출되었다. \n",
        "#   (3) 등분산성: 그룹들의 모집단의 분산은 모두 동일하다. \n",
        "\n",
        "import scipy.stats as st\n",
        "\n",
        "d1 = np.random.normal(0, 1, 50)\n",
        "d2 = np.random.normal(0, 1, 40)\n",
        "d3 = np.random.normal(5, 1, 30)\n",
        "\n",
        "print(st.f_oneway(d1, d2, d3))\n",
        "\n",
        "f_val, p_val = st.f_oneway(d1, d2, d3)\n",
        "print('f-statistic:', f_val.round(5))\n",
        "print('p-vale:', p_val)\n",
        "\n"
      ],
      "execution_count": 11,
      "outputs": [
        {
          "output_type": "stream",
          "text": [
            "F_onewayResult(statistic=239.1906104982351, pvalue=4.60635778812442e-42)\n",
            "f-statistic: 239.19061\n",
            "p-vale: 4.60635778812442e-42\n"
          ],
          "name": "stdout"
        }
      ]
    },
    {
      "cell_type": "code",
      "metadata": {
        "id": "UDBqda4EuMs2"
      },
      "source": [
        ""
      ],
      "execution_count": null,
      "outputs": []
    }
  ]
}