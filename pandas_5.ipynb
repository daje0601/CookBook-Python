{
  "nbformat": 4,
  "nbformat_minor": 0,
  "metadata": {
    "colab": {
      "name": "Untitled",
      "provenance": [],
      "authorship_tag": "ABX9TyOA6++eIF8E9XZcMrK7mvTy",
      "include_colab_link": true
    },
    "kernelspec": {
      "name": "python3",
      "display_name": "Python 3"
    }
  },
  "cells": [
    {
      "cell_type": "markdown",
      "metadata": {
        "id": "view-in-github",
        "colab_type": "text"
      },
      "source": [
        "<a href=\"https://colab.research.google.com/github/daje0601/pandas_study/blob/main/pandas_5.ipynb\" target=\"_parent\"><img src=\"https://colab.research.google.com/assets/colab-badge.svg\" alt=\"Open In Colab\"/></a>"
      ]
    },
    {
      "cell_type": "code",
      "metadata": {
        "colab": {
          "base_uri": "https://localhost:8080/",
          "height": 35
        },
        "id": "FeiCSj8HZMPb",
        "outputId": "19896f08-5208-494e-ac34-f19b23f24f5d"
      },
      "source": [
        "# null 변수 지정 & 문자열 연산\r\n",
        "null =\"abc\"\r\n",
        "null+\"123\""
      ],
      "execution_count": 1,
      "outputs": [
        {
          "output_type": "execute_result",
          "data": {
            "application/vnd.google.colaboratory.intrinsic+json": {
              "type": "string"
            },
            "text/plain": [
              "'abc123'"
            ]
          },
          "metadata": {
            "tags": []
          },
          "execution_count": 1
        }
      ]
    },
    {
      "cell_type": "code",
      "metadata": {
        "colab": {
          "base_uri": "https://localhost:8080/"
        },
        "id": "2tDDWJzxgOHe",
        "outputId": "dd37975b-3198-44b7-ddb3-8c27ce1ffced"
      },
      "source": [
        "# null 변수 지정 & 숫자 연산\r\n",
        "# int\r\n",
        "null = 2\r\n",
        "print(null + 3)\r\n",
        "\r\n",
        "#float\r\n",
        "null = 0.1\r\n",
        "print(null + 0.5)"
      ],
      "execution_count": 2,
      "outputs": [
        {
          "output_type": "stream",
          "text": [
            "5\n",
            "0.6\n"
          ],
          "name": "stdout"
        }
      ]
    },
    {
      "cell_type": "code",
      "metadata": {
        "colab": {
          "base_uri": "https://localhost:8080/"
        },
        "id": "ERzFNTvRgqh-",
        "outputId": "9f4b90b9-e5de-418a-8563-c1f2102c6226"
      },
      "source": [
        "# null 변수 지정 & Boolean 연산(True)\r\n",
        "\r\n",
        "null = True\r\n",
        "print(null +True)\r\n",
        "\r\n",
        "# null 변수 지정 & Boolean 연산(False)\r\n",
        "\r\n",
        "null = False\r\n",
        "print(null + False)"
      ],
      "execution_count": 8,
      "outputs": [
        {
          "output_type": "stream",
          "text": [
            "2\n",
            "0\n"
          ],
          "name": "stdout"
        }
      ]
    },
    {
      "cell_type": "code",
      "metadata": {
        "colab": {
          "base_uri": "https://localhost:8080/",
          "height": 35
        },
        "id": "wuUIREbcY6NE",
        "outputId": "73b2a7db-8cdf-4f50-8914-85420a92904d"
      },
      "source": [
        "# NaN 변수 지정 & 문자열 연산\r\n",
        "NaN=\"ABC\"\r\n",
        "NaN + \"123\""
      ],
      "execution_count": 6,
      "outputs": [
        {
          "output_type": "execute_result",
          "data": {
            "application/vnd.google.colaboratory.intrinsic+json": {
              "type": "string"
            },
            "text/plain": [
              "'ABC123'"
            ]
          },
          "metadata": {
            "tags": []
          },
          "execution_count": 6
        }
      ]
    },
    {
      "cell_type": "code",
      "metadata": {
        "colab": {
          "base_uri": "https://localhost:8080/"
        },
        "id": "A1Qn0834kJdM",
        "outputId": "57384888-8aa7-4a29-b41b-fd8fa3978466"
      },
      "source": [
        "# NaN 변수 지정 & 숫자 연산\r\n",
        "# int\r\n",
        "NaN = 2\r\n",
        "print(NaN + 3)\r\n",
        "\r\n",
        "#float\r\n",
        "NaN = 0.1\r\n",
        "print(NaN + 0.5)"
      ],
      "execution_count": 7,
      "outputs": [
        {
          "output_type": "stream",
          "text": [
            "5\n",
            "0.6\n"
          ],
          "name": "stdout"
        }
      ]
    },
    {
      "cell_type": "code",
      "metadata": {
        "colab": {
          "base_uri": "https://localhost:8080/",
          "height": 173
        },
        "id": "H-WC4Dnmkpek",
        "outputId": "cc03c555-09f1-43a8-93da-bc8ee78376e0"
      },
      "source": [
        "import pandas as pd \r\n",
        "import numpy as np\r\n",
        "from pandas import Series, DataFrame\r\n",
        "\r\n",
        "ex_merge1 = pd.DataFrame(\r\n",
        "    {\r\n",
        "        \"key1\": [\"K0\", \"K0\", \"K1\", \"K2\"],\r\n",
        "        \"key2\": [\"K0\", \"K1\", \"K0\", \"K1\"],\r\n",
        "        \"A\": [\"A\", \"1\", np.nan, \"1\"],\r\n",
        "        \"B\": [\"B\", \"1\", np.nan, \"1\"],\r\n",
        "    }\r\n",
        ")\r\n",
        "\r\n",
        "ex_merge1"
      ],
      "execution_count": 20,
      "outputs": [
        {
          "output_type": "execute_result",
          "data": {
            "text/html": [
              "<div>\n",
              "<style scoped>\n",
              "    .dataframe tbody tr th:only-of-type {\n",
              "        vertical-align: middle;\n",
              "    }\n",
              "\n",
              "    .dataframe tbody tr th {\n",
              "        vertical-align: top;\n",
              "    }\n",
              "\n",
              "    .dataframe thead th {\n",
              "        text-align: right;\n",
              "    }\n",
              "</style>\n",
              "<table border=\"1\" class=\"dataframe\">\n",
              "  <thead>\n",
              "    <tr style=\"text-align: right;\">\n",
              "      <th></th>\n",
              "      <th>key1</th>\n",
              "      <th>key2</th>\n",
              "      <th>A</th>\n",
              "      <th>B</th>\n",
              "    </tr>\n",
              "  </thead>\n",
              "  <tbody>\n",
              "    <tr>\n",
              "      <th>0</th>\n",
              "      <td>K0</td>\n",
              "      <td>K0</td>\n",
              "      <td>A</td>\n",
              "      <td>B</td>\n",
              "    </tr>\n",
              "    <tr>\n",
              "      <th>1</th>\n",
              "      <td>K0</td>\n",
              "      <td>K1</td>\n",
              "      <td>1</td>\n",
              "      <td>1</td>\n",
              "    </tr>\n",
              "    <tr>\n",
              "      <th>2</th>\n",
              "      <td>K1</td>\n",
              "      <td>K0</td>\n",
              "      <td>NaN</td>\n",
              "      <td>NaN</td>\n",
              "    </tr>\n",
              "    <tr>\n",
              "      <th>3</th>\n",
              "      <td>K2</td>\n",
              "      <td>K1</td>\n",
              "      <td>1</td>\n",
              "      <td>1</td>\n",
              "    </tr>\n",
              "  </tbody>\n",
              "</table>\n",
              "</div>"
            ],
            "text/plain": [
              "  key1 key2    A    B\n",
              "0   K0   K0    A    B\n",
              "1   K0   K1    1    1\n",
              "2   K1   K0  NaN  NaN\n",
              "3   K2   K1    1    1"
            ]
          },
          "metadata": {
            "tags": []
          },
          "execution_count": 20
        }
      ]
    },
    {
      "cell_type": "markdown",
      "metadata": {
        "id": "ZulWLlYXlVlZ"
      },
      "source": [
        "## 1. 결측치 검사\r\n",
        "\r\n",
        "#### isnull을 사용하여 결측치를 검사할 수 있습니다. \r\n"
      ]
    },
    {
      "cell_type": "code",
      "metadata": {
        "colab": {
          "base_uri": "https://localhost:8080/",
          "height": 173
        },
        "id": "PzKbL8wQlf6m",
        "outputId": "ea15bd1c-61ac-4c3e-bb14-f1018e512bcb"
      },
      "source": [
        "# 결측치가 있다면, True를 반환하고 없다면 False를 반환홤 \r\n",
        "\r\n",
        "ex_merge1.isnull()"
      ],
      "execution_count": 21,
      "outputs": [
        {
          "output_type": "execute_result",
          "data": {
            "text/html": [
              "<div>\n",
              "<style scoped>\n",
              "    .dataframe tbody tr th:only-of-type {\n",
              "        vertical-align: middle;\n",
              "    }\n",
              "\n",
              "    .dataframe tbody tr th {\n",
              "        vertical-align: top;\n",
              "    }\n",
              "\n",
              "    .dataframe thead th {\n",
              "        text-align: right;\n",
              "    }\n",
              "</style>\n",
              "<table border=\"1\" class=\"dataframe\">\n",
              "  <thead>\n",
              "    <tr style=\"text-align: right;\">\n",
              "      <th></th>\n",
              "      <th>key1</th>\n",
              "      <th>key2</th>\n",
              "      <th>A</th>\n",
              "      <th>B</th>\n",
              "    </tr>\n",
              "  </thead>\n",
              "  <tbody>\n",
              "    <tr>\n",
              "      <th>0</th>\n",
              "      <td>False</td>\n",
              "      <td>False</td>\n",
              "      <td>False</td>\n",
              "      <td>False</td>\n",
              "    </tr>\n",
              "    <tr>\n",
              "      <th>1</th>\n",
              "      <td>False</td>\n",
              "      <td>False</td>\n",
              "      <td>False</td>\n",
              "      <td>False</td>\n",
              "    </tr>\n",
              "    <tr>\n",
              "      <th>2</th>\n",
              "      <td>False</td>\n",
              "      <td>False</td>\n",
              "      <td>True</td>\n",
              "      <td>True</td>\n",
              "    </tr>\n",
              "    <tr>\n",
              "      <th>3</th>\n",
              "      <td>False</td>\n",
              "      <td>False</td>\n",
              "      <td>False</td>\n",
              "      <td>False</td>\n",
              "    </tr>\n",
              "  </tbody>\n",
              "</table>\n",
              "</div>"
            ],
            "text/plain": [
              "    key1   key2      A      B\n",
              "0  False  False  False  False\n",
              "1  False  False  False  False\n",
              "2  False  False   True   True\n",
              "3  False  False  False  False"
            ]
          },
          "metadata": {
            "tags": []
          },
          "execution_count": 21
        }
      ]
    },
    {
      "cell_type": "code",
      "metadata": {
        "colab": {
          "base_uri": "https://localhost:8080/"
        },
        "id": "uBBTGJ8amY5L",
        "outputId": "931605b3-2a99-4e53-b465-11d47726b3d7"
      },
      "source": [
        "# 그런데 데이터가 너무 많다고 가정해보자. 심지어 많아서 중가는 보이지 않는 df를 만났다고 가정해보자 \r\n",
        "# 그럼 결측치가 얼마나 있는지를 알 수가 없다.. 저걸 어떻게 count할까? 라는 고민을 할때 필요한 건!! \r\n",
        "# isnull().sum() 이다!! isnull().sum()은 column별로 null의 갯수를 확인해준다. \r\n",
        "\r\n",
        "ex_merge1.isnull().sum()"
      ],
      "execution_count": 24,
      "outputs": [
        {
          "output_type": "execute_result",
          "data": {
            "text/plain": [
              "key1    0\n",
              "key2    0\n",
              "A       1\n",
              "B       1\n",
              "dtype: int64"
            ]
          },
          "metadata": {
            "tags": []
          },
          "execution_count": 24
        }
      ]
    },
    {
      "cell_type": "code",
      "metadata": {
        "colab": {
          "base_uri": "https://localhost:8080/"
        },
        "id": "-7VnVOKunMS7",
        "outputId": "d9da81a0-e8ed-40da-9157-3f9168403891"
      },
      "source": [
        "# ex_merge1.isnull().any() : 데이터에 null이 하나라도 있는지 검사하여 확인해준다 \r\n",
        "\r\n",
        "ex_merge1.isnull().any()"
      ],
      "execution_count": 26,
      "outputs": [
        {
          "output_type": "execute_result",
          "data": {
            "text/plain": [
              "key1    False\n",
              "key2    False\n",
              "A        True\n",
              "B        True\n",
              "dtype: bool"
            ]
          },
          "metadata": {
            "tags": []
          },
          "execution_count": 26
        }
      ]
    },
    {
      "cell_type": "code",
      "metadata": {
        "colab": {
          "base_uri": "https://localhost:8080/"
        },
        "id": "No2040H6m817",
        "outputId": "f5c33e65-f150-4466-b581-b0b321ef39a6"
      },
      "source": [
        "# ex_merge1.isnull().all() : 데이터가 모~~두 null인지를 검사한다. 하나라도 True가 나오면 False를 반환하겠죠?\r\n",
        "\r\n",
        "ex_merge1.isnull().all()"
      ],
      "execution_count": 25,
      "outputs": [
        {
          "output_type": "execute_result",
          "data": {
            "text/plain": [
              "key1    False\n",
              "key2    False\n",
              "A       False\n",
              "B       False\n",
              "dtype: bool"
            ]
          },
          "metadata": {
            "tags": []
          },
          "execution_count": 25
        }
      ]
    },
    {
      "cell_type": "code",
      "metadata": {
        "id": "LUN9j3y1nIqA"
      },
      "source": [
        ""
      ],
      "execution_count": null,
      "outputs": []
    }
  ]
}