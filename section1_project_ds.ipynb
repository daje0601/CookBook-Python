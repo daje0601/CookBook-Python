{
  "nbformat": 4,
  "nbformat_minor": 0,
  "metadata": {
    "colab": {
      "name": "section1_project_ds.ipynb",
      "provenance": [],
      "collapsed_sections": [],
      "authorship_tag": "ABX9TyM1YG8+GT7VVTFHyYUnYMSa",
      "include_colab_link": true
    },
    "kernelspec": {
      "name": "python3",
      "display_name": "Python 3"
    }
  },
  "cells": [
    {
      "cell_type": "markdown",
      "metadata": {
        "id": "view-in-github",
        "colab_type": "text"
      },
      "source": [
        "<a href=\"https://colab.research.google.com/github/daje0601/pandas_study/blob/main/section1_project_ds.ipynb\" target=\"_parent\"><img src=\"https://colab.research.google.com/assets/colab-badge.svg\" alt=\"Open In Colab\"/></a>"
      ]
    },
    {
      "cell_type": "markdown",
      "metadata": {
        "id": "p7VxG2bSH-A2"
      },
      "source": [
        "1. 주제 : 다음 분기에 어떤 게임을 설계해야 할까요?  \n",
        "2. 대상 : 비데이터 직군( 게임회사 투자가 관심있는 사람 )  \n",
        "3. 목표 : 해당 주제에 대한 분석 설명 영상(5분) 발표를 통한 분석정보 전달   \n",
        "4. 필수분석 내용   \n",
        "  1) 지역에 따라서 선호하는 게임 장르가 다를까 라는 질문에 대답을 하셔야합니다.  \n",
        "  2) 연도별 게임의 트렌드가 있을까 라는 질문에 대답을 하셔야합니다.  \n",
        "  3) 매출이 높은 게임에 대한 분석 및 시각화 프로세스가 포함되어야 합니다.  "
      ]
    },
    {
      "cell_type": "code",
      "metadata": {
        "id": "8YyRUhOMHT6C"
      },
      "source": [
        "import pandas as pd\n",
        "import numpy as np\n",
        "import seaborn as sns\n",
        "import re\n",
        "import missingno as msno\n",
        "import matplotlib.pyplot as plt\n",
        "from matplotlib import pyplot"
      ],
      "execution_count": 17,
      "outputs": []
    },
    {
      "cell_type": "code",
      "metadata": {
        "colab": {
          "base_uri": "https://localhost:8080/",
          "height": 204
        },
        "id": "_SkmcwUnGIBy",
        "outputId": "d63a8e3d-2611-41bc-9847-5210612b0142"
      },
      "source": [
        "url =\"https://ds-lecture-data.s3.ap-northeast-2.amazonaws.com/datasets/vgames2.csv\"\n",
        "\n",
        "df = pd.read_csv(url, index_col=0)\n",
        "pd.set_option(\"max_rows\", 10000)\n",
        "df.head()"
      ],
      "execution_count": 2,
      "outputs": [
        {
          "output_type": "execute_result",
          "data": {
            "text/html": [
              "<div>\n",
              "<style scoped>\n",
              "    .dataframe tbody tr th:only-of-type {\n",
              "        vertical-align: middle;\n",
              "    }\n",
              "\n",
              "    .dataframe tbody tr th {\n",
              "        vertical-align: top;\n",
              "    }\n",
              "\n",
              "    .dataframe thead th {\n",
              "        text-align: right;\n",
              "    }\n",
              "</style>\n",
              "<table border=\"1\" class=\"dataframe\">\n",
              "  <thead>\n",
              "    <tr style=\"text-align: right;\">\n",
              "      <th></th>\n",
              "      <th>Name</th>\n",
              "      <th>Platform</th>\n",
              "      <th>Year</th>\n",
              "      <th>Genre</th>\n",
              "      <th>Publisher</th>\n",
              "      <th>NA_Sales</th>\n",
              "      <th>EU_Sales</th>\n",
              "      <th>JP_Sales</th>\n",
              "      <th>Other_Sales</th>\n",
              "    </tr>\n",
              "  </thead>\n",
              "  <tbody>\n",
              "    <tr>\n",
              "      <th>1</th>\n",
              "      <td>Candace Kane's Candy Factory</td>\n",
              "      <td>DS</td>\n",
              "      <td>2008.0</td>\n",
              "      <td>Action</td>\n",
              "      <td>Destineer</td>\n",
              "      <td>0.04</td>\n",
              "      <td>0</td>\n",
              "      <td>0</td>\n",
              "      <td>0</td>\n",
              "    </tr>\n",
              "    <tr>\n",
              "      <th>2</th>\n",
              "      <td>The Munchables</td>\n",
              "      <td>Wii</td>\n",
              "      <td>2009.0</td>\n",
              "      <td>Action</td>\n",
              "      <td>Namco Bandai Games</td>\n",
              "      <td>0.17</td>\n",
              "      <td>0</td>\n",
              "      <td>0</td>\n",
              "      <td>0.01</td>\n",
              "    </tr>\n",
              "    <tr>\n",
              "      <th>3</th>\n",
              "      <td>Otome wa Oanesama Boku ni Koi Shiteru Portable</td>\n",
              "      <td>PSP</td>\n",
              "      <td>2010.0</td>\n",
              "      <td>Adventure</td>\n",
              "      <td>Alchemist</td>\n",
              "      <td>0</td>\n",
              "      <td>0</td>\n",
              "      <td>0.02</td>\n",
              "      <td>0</td>\n",
              "    </tr>\n",
              "    <tr>\n",
              "      <th>4</th>\n",
              "      <td>Deal or No Deal: Special Edition</td>\n",
              "      <td>DS</td>\n",
              "      <td>2010.0</td>\n",
              "      <td>Misc</td>\n",
              "      <td>Zoo Games</td>\n",
              "      <td>0.04</td>\n",
              "      <td>0</td>\n",
              "      <td>0</td>\n",
              "      <td>0</td>\n",
              "    </tr>\n",
              "    <tr>\n",
              "      <th>5</th>\n",
              "      <td>Ben 10 Ultimate Alien: Cosmic Destruction</td>\n",
              "      <td>PS3</td>\n",
              "      <td>2010.0</td>\n",
              "      <td>Platform</td>\n",
              "      <td>D3Publisher</td>\n",
              "      <td>0.12</td>\n",
              "      <td>0.09</td>\n",
              "      <td>0</td>\n",
              "      <td>0.04</td>\n",
              "    </tr>\n",
              "  </tbody>\n",
              "</table>\n",
              "</div>"
            ],
            "text/plain": [
              "                                             Name Platform  ...  JP_Sales Other_Sales\n",
              "1                    Candace Kane's Candy Factory       DS  ...         0           0\n",
              "2                                  The Munchables      Wii  ...         0        0.01\n",
              "3  Otome wa Oanesama Boku ni Koi Shiteru Portable      PSP  ...      0.02           0\n",
              "4                Deal or No Deal: Special Edition       DS  ...         0           0\n",
              "5       Ben 10 Ultimate Alien: Cosmic Destruction      PS3  ...         0        0.04\n",
              "\n",
              "[5 rows x 9 columns]"
            ]
          },
          "metadata": {
            "tags": []
          },
          "execution_count": 2
        }
      ]
    },
    {
      "cell_type": "code",
      "metadata": {
        "colab": {
          "base_uri": "https://localhost:8080/"
        },
        "id": "qYaFv5t-n436",
        "outputId": "98128532-f17e-466c-d913-7cf876543f03"
      },
      "source": [
        "print(df.shape) # 데이터 shape확인\n",
        "print(df.isnull().sum()) # 데이터 결측치 확인\n",
        "print(df.dtypes) # 데이터타입확인 "
      ],
      "execution_count": 3,
      "outputs": [
        {
          "output_type": "stream",
          "text": [
            "(16598, 9)\n",
            "Name             0\n",
            "Platform         0\n",
            "Year           271\n",
            "Genre           50\n",
            "Publisher       58\n",
            "NA_Sales         0\n",
            "EU_Sales         0\n",
            "JP_Sales         0\n",
            "Other_Sales      0\n",
            "dtype: int64\n",
            "Name            object\n",
            "Platform        object\n",
            "Year           float64\n",
            "Genre           object\n",
            "Publisher       object\n",
            "NA_Sales        object\n",
            "EU_Sales        object\n",
            "JP_Sales        object\n",
            "Other_Sales     object\n",
            "dtype: object\n"
          ],
          "name": "stdout"
        }
      ]
    },
    {
      "cell_type": "code",
      "metadata": {
        "colab": {
          "base_uri": "https://localhost:8080/",
          "height": 173
        },
        "id": "-j1dml8YQPhX",
        "outputId": "ca7e8413-1364-44ce-d2ec-070215dc9aaa"
      },
      "source": [
        "# object 데이터 확인 \n",
        "df.describe(include=[\"O\"])"
      ],
      "execution_count": 4,
      "outputs": [
        {
          "output_type": "execute_result",
          "data": {
            "text/html": [
              "<div>\n",
              "<style scoped>\n",
              "    .dataframe tbody tr th:only-of-type {\n",
              "        vertical-align: middle;\n",
              "    }\n",
              "\n",
              "    .dataframe tbody tr th {\n",
              "        vertical-align: top;\n",
              "    }\n",
              "\n",
              "    .dataframe thead th {\n",
              "        text-align: right;\n",
              "    }\n",
              "</style>\n",
              "<table border=\"1\" class=\"dataframe\">\n",
              "  <thead>\n",
              "    <tr style=\"text-align: right;\">\n",
              "      <th></th>\n",
              "      <th>Name</th>\n",
              "      <th>Platform</th>\n",
              "      <th>Genre</th>\n",
              "      <th>Publisher</th>\n",
              "      <th>NA_Sales</th>\n",
              "      <th>EU_Sales</th>\n",
              "      <th>JP_Sales</th>\n",
              "      <th>Other_Sales</th>\n",
              "    </tr>\n",
              "  </thead>\n",
              "  <tbody>\n",
              "    <tr>\n",
              "      <th>count</th>\n",
              "      <td>16598</td>\n",
              "      <td>16598</td>\n",
              "      <td>16548</td>\n",
              "      <td>16540</td>\n",
              "      <td>16598</td>\n",
              "      <td>16598</td>\n",
              "      <td>16598</td>\n",
              "      <td>16598</td>\n",
              "    </tr>\n",
              "    <tr>\n",
              "      <th>unique</th>\n",
              "      <td>11493</td>\n",
              "      <td>31</td>\n",
              "      <td>12</td>\n",
              "      <td>578</td>\n",
              "      <td>494</td>\n",
              "      <td>363</td>\n",
              "      <td>282</td>\n",
              "      <td>190</td>\n",
              "    </tr>\n",
              "    <tr>\n",
              "      <th>top</th>\n",
              "      <td>Need for Speed: Most Wanted</td>\n",
              "      <td>DS</td>\n",
              "      <td>Action</td>\n",
              "      <td>Electronic Arts</td>\n",
              "      <td>0</td>\n",
              "      <td>0</td>\n",
              "      <td>0</td>\n",
              "      <td>0</td>\n",
              "    </tr>\n",
              "    <tr>\n",
              "      <th>freq</th>\n",
              "      <td>12</td>\n",
              "      <td>2163</td>\n",
              "      <td>3305</td>\n",
              "      <td>1351</td>\n",
              "      <td>4443</td>\n",
              "      <td>5665</td>\n",
              "      <td>10333</td>\n",
              "      <td>6386</td>\n",
              "    </tr>\n",
              "  </tbody>\n",
              "</table>\n",
              "</div>"
            ],
            "text/plain": [
              "                               Name Platform  ... JP_Sales Other_Sales\n",
              "count                         16598    16598  ...    16598       16598\n",
              "unique                        11493       31  ...      282         190\n",
              "top     Need for Speed: Most Wanted       DS  ...        0           0\n",
              "freq                             12     2163  ...    10333        6386\n",
              "\n",
              "[4 rows x 8 columns]"
            ]
          },
          "metadata": {
            "tags": []
          },
          "execution_count": 4
        }
      ]
    },
    {
      "cell_type": "code",
      "metadata": {
        "colab": {
          "base_uri": "https://localhost:8080/",
          "height": 690
        },
        "id": "yjncczfOafXc",
        "outputId": "ac7e284c-f5c1-4f95-b790-b2f5564b5acc"
      },
      "source": [
        "# 각 컬럼별 데이터 결측치 시각화\n",
        "msno.matrix(df)"
      ],
      "execution_count": 5,
      "outputs": [
        {
          "output_type": "execute_result",
          "data": {
            "text/plain": [
              "<matplotlib.axes._subplots.AxesSubplot at 0x7f73f8d15da0>"
            ]
          },
          "metadata": {
            "tags": []
          },
          "execution_count": 5
        },
        {
          "output_type": "display_data",
          "data": {
            "image/png": "[encoded data removed]",
            "text/plain": [
              "<Figure size 1800x720 with 2 Axes>"
            ]
          },
          "metadata": {
            "tags": [],
            "needs_background": "light"
          }
        }
      ]
    },
    {
      "cell_type": "markdown",
      "metadata": {
        "id": "3iPhiZm38i0d"
      },
      "source": [
        "검정색으로 색칠된 부분이 데이터가 제대로 입력된 부분이며, 중간중간 가로로 줄이 그어진 부분이 데이터가 누락된 부분입니다.  \n",
        "아래 그림과 비교하였을 때 저희 데이터는 결측치가 적은 양질의 데이터로 분석되었음을 안내드립니다.  "
      ]
    },
    {
      "cell_type": "markdown",
      "metadata": {
        "id": "ZNFlHYhL8y7P"
      },
      "source": [
        "![image.png](data:image/png;base64,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)"
      ]
    },
    {
      "cell_type": "markdown",
      "metadata": {
        "id": "np-wAiVd03Df"
      },
      "source": [
        "## 데이터 전처리 결과 보고 \n",
        "#### 1. 총 데이터 row수 : 16598개 \n",
        "#### 2. drop한 데이터 row수 : 457개\n",
        "    2-1) 결측치 데이터 row 수 : 357개   \n",
        "    *데이터 10%미만 데이터 드랍 근거(paper) : https://www.jstatsoft.org/article/view/v045i03/v45i03.pdf \n",
        "    2-2) 연도가 오기재된 데이터 row 수 : 100개\n",
        "    *사유1 : 오래된 게임은 현재 트랜드를 반영하지 못함\n",
        "    *사유2 : 추정하여 연도를 찾는다하여도 정확한 데이터인지 확인불가\n",
        "    *사유3 : 오기재된 데이터 비율은 총 데이터의 5%미만에 해당되므로 drop함 \n",
        "#### 결론 : drop한 데이터는 전체 데이터의 약 2.8%이며, 10% 미만이기에 drop함  \n",
        "\n"
      ]
    },
    {
      "cell_type": "code",
      "metadata": {
        "colab": {
          "base_uri": "https://localhost:8080/"
        },
        "id": "oT_7SW_b1ON-",
        "outputId": "b54effd8-bdda-4cc8-cbf5-086ad824ffe5"
      },
      "source": [
        "# 결측치 drop\n",
        "df = df.dropna(axis=0)\n",
        "df.shape"
      ],
      "execution_count": 6,
      "outputs": [
        {
          "output_type": "execute_result",
          "data": {
            "text/plain": [
              "(16241, 9)"
            ]
          },
          "metadata": {
            "tags": []
          },
          "execution_count": 6
        }
      ]
    },
    {
      "cell_type": "code",
      "metadata": {
        "colab": {
          "base_uri": "https://localhost:8080/"
        },
        "id": "TNjbi9VdykHX",
        "outputId": "3c802786-9d1b-484f-e793-92d268a2ae51"
      },
      "source": [
        "# 연도가 오기재된 데이터 drop\n",
        "df = df[df[\"Year\"] > 1900]\n",
        "df.shape"
      ],
      "execution_count": 7,
      "outputs": [
        {
          "output_type": "execute_result",
          "data": {
            "text/plain": [
              "(16141, 9)"
            ]
          },
          "metadata": {
            "tags": []
          },
          "execution_count": 7
        }
      ]
    },
    {
      "cell_type": "code",
      "metadata": {
        "colab": {
          "base_uri": "https://localhost:8080/",
          "height": 204
        },
        "id": "l48KBYFAzE3A",
        "outputId": "0b339308-3415-479e-f04b-a2401ca7f204"
      },
      "source": [
        "lists = [\"NA_Sales\", \"EU_Sales\", \"JP_Sales\", \"Other_Sales\"]\n",
        "for list in lists :\n",
        "  df[list] = (df[list].replace(r'[KM]+$', '', regex=True).astype(float) * df[list].str.extract(r'[\\d\\.]+([KM]+)', expand=False).fillna(1).replace(['K','M'], [10**-3, 10**1]).astype(int))\n",
        "\n",
        "\n",
        "df.head()"
      ],
      "execution_count": 8,
      "outputs": [
        {
          "output_type": "execute_result",
          "data": {
            "text/html": [
              "<div>\n",
              "<style scoped>\n",
              "    .dataframe tbody tr th:only-of-type {\n",
              "        vertical-align: middle;\n",
              "    }\n",
              "\n",
              "    .dataframe tbody tr th {\n",
              "        vertical-align: top;\n",
              "    }\n",
              "\n",
              "    .dataframe thead th {\n",
              "        text-align: right;\n",
              "    }\n",
              "</style>\n",
              "<table border=\"1\" class=\"dataframe\">\n",
              "  <thead>\n",
              "    <tr style=\"text-align: right;\">\n",
              "      <th></th>\n",
              "      <th>Name</th>\n",
              "      <th>Platform</th>\n",
              "      <th>Year</th>\n",
              "      <th>Genre</th>\n",
              "      <th>Publisher</th>\n",
              "      <th>NA_Sales</th>\n",
              "      <th>EU_Sales</th>\n",
              "      <th>JP_Sales</th>\n",
              "      <th>Other_Sales</th>\n",
              "    </tr>\n",
              "  </thead>\n",
              "  <tbody>\n",
              "    <tr>\n",
              "      <th>1</th>\n",
              "      <td>Candace Kane's Candy Factory</td>\n",
              "      <td>DS</td>\n",
              "      <td>2008.0</td>\n",
              "      <td>Action</td>\n",
              "      <td>Destineer</td>\n",
              "      <td>0.04</td>\n",
              "      <td>0.00</td>\n",
              "      <td>0.00</td>\n",
              "      <td>0.00</td>\n",
              "    </tr>\n",
              "    <tr>\n",
              "      <th>2</th>\n",
              "      <td>The Munchables</td>\n",
              "      <td>Wii</td>\n",
              "      <td>2009.0</td>\n",
              "      <td>Action</td>\n",
              "      <td>Namco Bandai Games</td>\n",
              "      <td>0.17</td>\n",
              "      <td>0.00</td>\n",
              "      <td>0.00</td>\n",
              "      <td>0.01</td>\n",
              "    </tr>\n",
              "    <tr>\n",
              "      <th>3</th>\n",
              "      <td>Otome wa Oanesama Boku ni Koi Shiteru Portable</td>\n",
              "      <td>PSP</td>\n",
              "      <td>2010.0</td>\n",
              "      <td>Adventure</td>\n",
              "      <td>Alchemist</td>\n",
              "      <td>0.00</td>\n",
              "      <td>0.00</td>\n",
              "      <td>0.02</td>\n",
              "      <td>0.00</td>\n",
              "    </tr>\n",
              "    <tr>\n",
              "      <th>4</th>\n",
              "      <td>Deal or No Deal: Special Edition</td>\n",
              "      <td>DS</td>\n",
              "      <td>2010.0</td>\n",
              "      <td>Misc</td>\n",
              "      <td>Zoo Games</td>\n",
              "      <td>0.04</td>\n",
              "      <td>0.00</td>\n",
              "      <td>0.00</td>\n",
              "      <td>0.00</td>\n",
              "    </tr>\n",
              "    <tr>\n",
              "      <th>5</th>\n",
              "      <td>Ben 10 Ultimate Alien: Cosmic Destruction</td>\n",
              "      <td>PS3</td>\n",
              "      <td>2010.0</td>\n",
              "      <td>Platform</td>\n",
              "      <td>D3Publisher</td>\n",
              "      <td>0.12</td>\n",
              "      <td>0.09</td>\n",
              "      <td>0.00</td>\n",
              "      <td>0.04</td>\n",
              "    </tr>\n",
              "  </tbody>\n",
              "</table>\n",
              "</div>"
            ],
            "text/plain": [
              "                                             Name  ... Other_Sales\n",
              "1                    Candace Kane's Candy Factory  ...        0.00\n",
              "2                                  The Munchables  ...        0.01\n",
              "3  Otome wa Oanesama Boku ni Koi Shiteru Portable  ...        0.00\n",
              "4                Deal or No Deal: Special Edition  ...        0.00\n",
              "5       Ben 10 Ultimate Alien: Cosmic Destruction  ...        0.04\n",
              "\n",
              "[5 rows x 9 columns]"
            ]
          },
          "metadata": {
            "tags": []
          },
          "execution_count": 8
        }
      ]
    },
    {
      "cell_type": "code",
      "metadata": {
        "id": "ppqmZ-XsI-XU"
      },
      "source": [
        "df['Year'] = df['Year'].astype(int)"
      ],
      "execution_count": 9,
      "outputs": []
    },
    {
      "cell_type": "code",
      "metadata": {
        "colab": {
          "base_uri": "https://localhost:8080/",
          "height": 204
        },
        "id": "d5mkUuz4J2QX",
        "outputId": "e0240de2-f7f1-4e2a-afa6-53a97588bf4d"
      },
      "source": [
        "df[\"sum\"] = df[\"NA_Sales\"]+df[\"EU_Sales\"]+df[\"JP_Sales\"]+df[\"Other_Sales\"]\n",
        "df = df.sort_values(ascending=False, by=\"sum\")\n",
        "df.head()"
      ],
      "execution_count": 10,
      "outputs": [
        {
          "output_type": "execute_result",
          "data": {
            "text/html": [
              "<div>\n",
              "<style scoped>\n",
              "    .dataframe tbody tr th:only-of-type {\n",
              "        vertical-align: middle;\n",
              "    }\n",
              "\n",
              "    .dataframe tbody tr th {\n",
              "        vertical-align: top;\n",
              "    }\n",
              "\n",
              "    .dataframe thead th {\n",
              "        text-align: right;\n",
              "    }\n",
              "</style>\n",
              "<table border=\"1\" class=\"dataframe\">\n",
              "  <thead>\n",
              "    <tr style=\"text-align: right;\">\n",
              "      <th></th>\n",
              "      <th>Name</th>\n",
              "      <th>Platform</th>\n",
              "      <th>Year</th>\n",
              "      <th>Genre</th>\n",
              "      <th>Publisher</th>\n",
              "      <th>NA_Sales</th>\n",
              "      <th>EU_Sales</th>\n",
              "      <th>JP_Sales</th>\n",
              "      <th>Other_Sales</th>\n",
              "      <th>sum</th>\n",
              "    </tr>\n",
              "  </thead>\n",
              "  <tbody>\n",
              "    <tr>\n",
              "      <th>10914</th>\n",
              "      <td>Grand Theft Auto V</td>\n",
              "      <td>X360</td>\n",
              "      <td>2013</td>\n",
              "      <td>Action</td>\n",
              "      <td>Take-Two Interactive</td>\n",
              "      <td>96.30</td>\n",
              "      <td>5.31</td>\n",
              "      <td>0.06</td>\n",
              "      <td>1.38</td>\n",
              "      <td>103.05</td>\n",
              "    </tr>\n",
              "    <tr>\n",
              "      <th>2909</th>\n",
              "      <td>Wii Sports</td>\n",
              "      <td>Wii</td>\n",
              "      <td>2006</td>\n",
              "      <td>Sports</td>\n",
              "      <td>Nintendo</td>\n",
              "      <td>41.49</td>\n",
              "      <td>29.02</td>\n",
              "      <td>3.77</td>\n",
              "      <td>8.46</td>\n",
              "      <td>82.74</td>\n",
              "    </tr>\n",
              "    <tr>\n",
              "      <th>12601</th>\n",
              "      <td>Halo: Reach</td>\n",
              "      <td>X360</td>\n",
              "      <td>2010</td>\n",
              "      <td>Shooter</td>\n",
              "      <td>Microsoft Game Studios</td>\n",
              "      <td>70.30</td>\n",
              "      <td>1.98</td>\n",
              "      <td>0.08</td>\n",
              "      <td>0.78</td>\n",
              "      <td>73.14</td>\n",
              "    </tr>\n",
              "    <tr>\n",
              "      <th>578</th>\n",
              "      <td>Mario Kart 64</td>\n",
              "      <td>N64</td>\n",
              "      <td>1996</td>\n",
              "      <td>Racing</td>\n",
              "      <td>Nintendo</td>\n",
              "      <td>55.50</td>\n",
              "      <td>1.94</td>\n",
              "      <td>2.23</td>\n",
              "      <td>0.15</td>\n",
              "      <td>59.82</td>\n",
              "    </tr>\n",
              "    <tr>\n",
              "      <th>8534</th>\n",
              "      <td>Pokémon Yellow: Special Pikachu Edition</td>\n",
              "      <td>GB</td>\n",
              "      <td>1998</td>\n",
              "      <td>Role-Playing</td>\n",
              "      <td>Nintendo</td>\n",
              "      <td>5.89</td>\n",
              "      <td>5.04</td>\n",
              "      <td>31.20</td>\n",
              "      <td>0.59</td>\n",
              "      <td>42.72</td>\n",
              "    </tr>\n",
              "  </tbody>\n",
              "</table>\n",
              "</div>"
            ],
            "text/plain": [
              "                                          Name Platform  ...  Other_Sales     sum\n",
              "10914                       Grand Theft Auto V     X360  ...         1.38  103.05\n",
              "2909                                Wii Sports      Wii  ...         8.46   82.74\n",
              "12601                              Halo: Reach     X360  ...         0.78   73.14\n",
              "578                              Mario Kart 64      N64  ...         0.15   59.82\n",
              "8534   Pokémon Yellow: Special Pikachu Edition       GB  ...         0.59   42.72\n",
              "\n",
              "[5 rows x 10 columns]"
            ]
          },
          "metadata": {
            "tags": []
          },
          "execution_count": 10
        }
      ]
    },
    {
      "cell_type": "code",
      "metadata": {
        "id": "tWvvqMEXcm0z",
        "outputId": "de7705a1-d7b0-4632-b1de-6bc2638c120e",
        "colab": {
          "base_uri": "https://localhost:8080/",
          "height": 266
        }
      },
      "source": [
        "df10 = df[[\"Year\", \"Genre\", \"Publisher\"]]\n",
        "data = pd.pivot_table(data=df10, index=\"Year\", columns=\"Genre\", aggfunc = \"count\")\n",
        "data = data.apply(pd.to_numeric, errors=\"coerce\").fillna(0)\n",
        "data.head()"
      ],
      "execution_count": 11,
      "outputs": [
        {
          "output_type": "execute_result",
          "data": {
            "text/html": [
              "<div>\n",
              "<style scoped>\n",
              "    .dataframe tbody tr th:only-of-type {\n",
              "        vertical-align: middle;\n",
              "    }\n",
              "\n",
              "    .dataframe tbody tr th {\n",
              "        vertical-align: top;\n",
              "    }\n",
              "\n",
              "    .dataframe thead tr th {\n",
              "        text-align: left;\n",
              "    }\n",
              "\n",
              "    .dataframe thead tr:last-of-type th {\n",
              "        text-align: right;\n",
              "    }\n",
              "</style>\n",
              "<table border=\"1\" class=\"dataframe\">\n",
              "  <thead>\n",
              "    <tr>\n",
              "      <th></th>\n",
              "      <th colspan=\"12\" halign=\"left\">Publisher</th>\n",
              "    </tr>\n",
              "    <tr>\n",
              "      <th>Genre</th>\n",
              "      <th>Action</th>\n",
              "      <th>Adventure</th>\n",
              "      <th>Fighting</th>\n",
              "      <th>Misc</th>\n",
              "      <th>Platform</th>\n",
              "      <th>Puzzle</th>\n",
              "      <th>Racing</th>\n",
              "      <th>Role-Playing</th>\n",
              "      <th>Shooter</th>\n",
              "      <th>Simulation</th>\n",
              "      <th>Sports</th>\n",
              "      <th>Strategy</th>\n",
              "    </tr>\n",
              "    <tr>\n",
              "      <th>Year</th>\n",
              "      <th></th>\n",
              "      <th></th>\n",
              "      <th></th>\n",
              "      <th></th>\n",
              "      <th></th>\n",
              "      <th></th>\n",
              "      <th></th>\n",
              "      <th></th>\n",
              "      <th></th>\n",
              "      <th></th>\n",
              "      <th></th>\n",
              "      <th></th>\n",
              "    </tr>\n",
              "  </thead>\n",
              "  <tbody>\n",
              "    <tr>\n",
              "      <th>1980</th>\n",
              "      <td>1.0</td>\n",
              "      <td>0.0</td>\n",
              "      <td>1.0</td>\n",
              "      <td>4.0</td>\n",
              "      <td>0.0</td>\n",
              "      <td>0.0</td>\n",
              "      <td>0.0</td>\n",
              "      <td>0.0</td>\n",
              "      <td>2.0</td>\n",
              "      <td>0.0</td>\n",
              "      <td>0.0</td>\n",
              "      <td>0.0</td>\n",
              "    </tr>\n",
              "    <tr>\n",
              "      <th>1981</th>\n",
              "      <td>25.0</td>\n",
              "      <td>0.0</td>\n",
              "      <td>0.0</td>\n",
              "      <td>0.0</td>\n",
              "      <td>3.0</td>\n",
              "      <td>2.0</td>\n",
              "      <td>1.0</td>\n",
              "      <td>0.0</td>\n",
              "      <td>10.0</td>\n",
              "      <td>1.0</td>\n",
              "      <td>4.0</td>\n",
              "      <td>0.0</td>\n",
              "    </tr>\n",
              "    <tr>\n",
              "      <th>1982</th>\n",
              "      <td>18.0</td>\n",
              "      <td>0.0</td>\n",
              "      <td>0.0</td>\n",
              "      <td>1.0</td>\n",
              "      <td>5.0</td>\n",
              "      <td>3.0</td>\n",
              "      <td>2.0</td>\n",
              "      <td>0.0</td>\n",
              "      <td>5.0</td>\n",
              "      <td>0.0</td>\n",
              "      <td>2.0</td>\n",
              "      <td>0.0</td>\n",
              "    </tr>\n",
              "    <tr>\n",
              "      <th>1983</th>\n",
              "      <td>7.0</td>\n",
              "      <td>1.0</td>\n",
              "      <td>0.0</td>\n",
              "      <td>1.0</td>\n",
              "      <td>5.0</td>\n",
              "      <td>1.0</td>\n",
              "      <td>0.0</td>\n",
              "      <td>0.0</td>\n",
              "      <td>1.0</td>\n",
              "      <td>0.0</td>\n",
              "      <td>1.0</td>\n",
              "      <td>0.0</td>\n",
              "    </tr>\n",
              "    <tr>\n",
              "      <th>1984</th>\n",
              "      <td>1.0</td>\n",
              "      <td>0.0</td>\n",
              "      <td>0.0</td>\n",
              "      <td>1.0</td>\n",
              "      <td>1.0</td>\n",
              "      <td>3.0</td>\n",
              "      <td>3.0</td>\n",
              "      <td>0.0</td>\n",
              "      <td>3.0</td>\n",
              "      <td>0.0</td>\n",
              "      <td>2.0</td>\n",
              "      <td>0.0</td>\n",
              "    </tr>\n",
              "  </tbody>\n",
              "</table>\n",
              "</div>"
            ],
            "text/plain": [
              "      Publisher                          ...                                   \n",
              "Genre    Action Adventure Fighting Misc  ... Shooter Simulation Sports Strategy\n",
              "Year                                     ...                                   \n",
              "1980        1.0       0.0      1.0  4.0  ...     2.0        0.0    0.0      0.0\n",
              "1981       25.0       0.0      0.0  0.0  ...    10.0        1.0    4.0      0.0\n",
              "1982       18.0       0.0      0.0  1.0  ...     5.0        0.0    2.0      0.0\n",
              "1983        7.0       1.0      0.0  1.0  ...     1.0        0.0    1.0      0.0\n",
              "1984        1.0       0.0      0.0  1.0  ...     3.0        0.0    2.0      0.0\n",
              "\n",
              "[5 rows x 12 columns]"
            ]
          },
          "metadata": {
            "tags": []
          },
          "execution_count": 11
        }
      ]
    },
    {
      "cell_type": "code",
      "metadata": {
        "id": "FAUOl6-wdvi1"
      },
      "source": [
        "%matplotlib inline\n",
        "data.plot\n",
        "plt.show()"
      ],
      "execution_count": 12,
      "outputs": []
    },
    {
      "cell_type": "code",
      "metadata": {
        "id": "0TTumpkakpap",
        "outputId": "f2d5eac5-7279-4ba7-b1d3-5aecaa10004b",
        "colab": {
          "base_uri": "https://localhost:8080/"
        }
      },
      "source": [
        "df100 = df['NA_Sales'].groupby(df['Genre'])\n",
        "df100"
      ],
      "execution_count": 13,
      "outputs": [
        {
          "output_type": "execute_result",
          "data": {
            "text/plain": [
              "<pandas.core.groupby.generic.SeriesGroupBy object at 0x7f73f03d8b70>"
            ]
          },
          "metadata": {
            "tags": []
          },
          "execution_count": 13
        }
      ]
    },
    {
      "cell_type": "code",
      "metadata": {
        "id": "vCg5vJem9-Yt"
      },
      "source": [
        "# 1) 지역에 따라서 선호하는 게임 장르가 다를까 라는 질문에 대답을 하셔야합니다.\n",
        "# 2) 연도별 게임의 트렌드가 있을까 라는 질문에 대답을 하셔야합니다.\n"
      ],
      "execution_count": 14,
      "outputs": []
    },
    {
      "cell_type": "markdown",
      "metadata": {
        "id": "u5NxQRwjYkrD"
      },
      "source": [
        "# 3) 매출이 높은 게임에 대한 분석 및 시각화 프로세스가 포함되어야 합니다."
      ]
    },
    {
      "cell_type": "code",
      "metadata": {
        "colab": {
          "base_uri": "https://localhost:8080/",
          "height": 204
        },
        "id": "XYG1zH0xOtE6",
        "outputId": "8777c0a1-567c-4772-b216-6c5d2587bb6b"
      },
      "source": [
        "df1 = df.iloc[0:20, :]\n",
        "df1.head()"
      ],
      "execution_count": 15,
      "outputs": [
        {
          "output_type": "execute_result",
          "data": {
            "text/html": [
              "<div>\n",
              "<style scoped>\n",
              "    .dataframe tbody tr th:only-of-type {\n",
              "        vertical-align: middle;\n",
              "    }\n",
              "\n",
              "    .dataframe tbody tr th {\n",
              "        vertical-align: top;\n",
              "    }\n",
              "\n",
              "    .dataframe thead th {\n",
              "        text-align: right;\n",
              "    }\n",
              "</style>\n",
              "<table border=\"1\" class=\"dataframe\">\n",
              "  <thead>\n",
              "    <tr style=\"text-align: right;\">\n",
              "      <th></th>\n",
              "      <th>Name</th>\n",
              "      <th>Platform</th>\n",
              "      <th>Year</th>\n",
              "      <th>Genre</th>\n",
              "      <th>Publisher</th>\n",
              "      <th>NA_Sales</th>\n",
              "      <th>EU_Sales</th>\n",
              "      <th>JP_Sales</th>\n",
              "      <th>Other_Sales</th>\n",
              "      <th>sum</th>\n",
              "    </tr>\n",
              "  </thead>\n",
              "  <tbody>\n",
              "    <tr>\n",
              "      <th>10914</th>\n",
              "      <td>Grand Theft Auto V</td>\n",
              "      <td>X360</td>\n",
              "      <td>2013</td>\n",
              "      <td>Action</td>\n",
              "      <td>Take-Two Interactive</td>\n",
              "      <td>96.30</td>\n",
              "      <td>5.31</td>\n",
              "      <td>0.06</td>\n",
              "      <td>1.38</td>\n",
              "      <td>103.05</td>\n",
              "    </tr>\n",
              "    <tr>\n",
              "      <th>2909</th>\n",
              "      <td>Wii Sports</td>\n",
              "      <td>Wii</td>\n",
              "      <td>2006</td>\n",
              "      <td>Sports</td>\n",
              "      <td>Nintendo</td>\n",
              "      <td>41.49</td>\n",
              "      <td>29.02</td>\n",
              "      <td>3.77</td>\n",
              "      <td>8.46</td>\n",
              "      <td>82.74</td>\n",
              "    </tr>\n",
              "    <tr>\n",
              "      <th>12601</th>\n",
              "      <td>Halo: Reach</td>\n",
              "      <td>X360</td>\n",
              "      <td>2010</td>\n",
              "      <td>Shooter</td>\n",
              "      <td>Microsoft Game Studios</td>\n",
              "      <td>70.30</td>\n",
              "      <td>1.98</td>\n",
              "      <td>0.08</td>\n",
              "      <td>0.78</td>\n",
              "      <td>73.14</td>\n",
              "    </tr>\n",
              "    <tr>\n",
              "      <th>578</th>\n",
              "      <td>Mario Kart 64</td>\n",
              "      <td>N64</td>\n",
              "      <td>1996</td>\n",
              "      <td>Racing</td>\n",
              "      <td>Nintendo</td>\n",
              "      <td>55.50</td>\n",
              "      <td>1.94</td>\n",
              "      <td>2.23</td>\n",
              "      <td>0.15</td>\n",
              "      <td>59.82</td>\n",
              "    </tr>\n",
              "    <tr>\n",
              "      <th>8534</th>\n",
              "      <td>Pokémon Yellow: Special Pikachu Edition</td>\n",
              "      <td>GB</td>\n",
              "      <td>1998</td>\n",
              "      <td>Role-Playing</td>\n",
              "      <td>Nintendo</td>\n",
              "      <td>5.89</td>\n",
              "      <td>5.04</td>\n",
              "      <td>31.20</td>\n",
              "      <td>0.59</td>\n",
              "      <td>42.72</td>\n",
              "    </tr>\n",
              "  </tbody>\n",
              "</table>\n",
              "</div>"
            ],
            "text/plain": [
              "                                          Name Platform  ...  Other_Sales     sum\n",
              "10914                       Grand Theft Auto V     X360  ...         1.38  103.05\n",
              "2909                                Wii Sports      Wii  ...         8.46   82.74\n",
              "12601                              Halo: Reach     X360  ...         0.78   73.14\n",
              "578                              Mario Kart 64      N64  ...         0.15   59.82\n",
              "8534   Pokémon Yellow: Special Pikachu Edition       GB  ...         0.59   42.72\n",
              "\n",
              "[5 rows x 10 columns]"
            ]
          },
          "metadata": {
            "tags": []
          },
          "execution_count": 15
        }
      ]
    },
    {
      "cell_type": "code",
      "metadata": {
        "colab": {
          "base_uri": "https://localhost:8080/",
          "height": 553
        },
        "id": "1ncNdw5YNl-W",
        "outputId": "895a5f5a-3e65-4a62-8e20-2fd17234de27"
      },
      "source": [
        "a4_dims = (40, 8.27)\n",
        "fig, ax = pyplot.subplots(figsize=a4_dims)\n",
        "\n",
        "sns.barplot(data=df1, x=\"Name\", y=\"sum\", palette=\"Blues_r\")\n",
        "\n",
        "\n",
        "plt.xticks(rotation=45) ## x축 눈금 라벨 설정 - 40도 회전 \n",
        "plt.title('Sales for 10 days(unit: M)',fontsize=50) ## 타이틀 설정\n",
        "plt.show()\n"
      ],
      "execution_count": 18,
      "outputs": [
        {
          "output_type": "display_data",
          "data": {
            "image/png": "[encoded data removed]",
            "text/plain": [
              "<Figure size 2880x595.44 with 1 Axes>"
            ]
          },
          "metadata": {
            "tags": [],
            "needs_background": "light"
          }
        }
      ]
    },
    {
      "cell_type": "code",
      "metadata": {
        "id": "UzgDaIyKZB-L",
        "outputId": "2ea886e5-7c95-477e-84e6-d4d714fdf4ff",
        "colab": {
          "base_uri": "https://localhost:8080/"
        }
      },
      "source": [
        "df1['Year'] = df1['Year'].astype(int)"
      ],
      "execution_count": 19,
      "outputs": [
        {
          "output_type": "stream",
          "text": [
            "/usr/local/lib/python3.6/dist-packages/ipykernel_launcher.py:1: SettingWithCopyWarning: \n",
            "A value is trying to be set on a copy of a slice from a DataFrame.\n",
            "Try using .loc[row_indexer,col_indexer] = value instead\n",
            "\n",
            "See the caveats in the documentation: https://pandas.pydata.org/pandas-docs/stable/user_guide/indexing.html#returning-a-view-versus-a-copy\n",
            "  \"\"\"Entry point for launching an IPython kernel.\n"
          ],
          "name": "stderr"
        }
      ]
    },
    {
      "cell_type": "code",
      "metadata": {
        "id": "mkQHjsTNWZ_V"
      },
      "source": [
        "df2 = df1[df1[\"Year\"] > 2005]"
      ],
      "execution_count": 20,
      "outputs": []
    },
    {
      "cell_type": "code",
      "metadata": {
        "id": "Y0dA2nejYLCg",
        "outputId": "e0ef6d0d-0e7f-48f4-805d-16bbdb166914",
        "colab": {
          "base_uri": "https://localhost:8080/",
          "height": 423
        }
      },
      "source": [
        "a4_dims = (40, 8.27)\n",
        "fig, ax = pyplot.subplots(figsize=a4_dims)\n",
        "\n",
        "sns.barplot(data=df2, x=\"Name\", y=\"sum\", palette=\"Blues_r\")"
      ],
      "execution_count": 21,
      "outputs": [
        {
          "output_type": "execute_result",
          "data": {
            "text/plain": [
              "<matplotlib.axes._subplots.AxesSubplot at 0x7f73efecc240>"
            ]
          },
          "metadata": {
            "tags": []
          },
          "execution_count": 21
        },
        {
          "output_type": "display_data",
          "data": {
            "image/png": "[encoded data removed]",
            "text/plain": [
              "<Figure size 2880x595.44 with 1 Axes>"
            ]
          },
          "metadata": {
            "tags": [],
            "needs_background": "light"
          }
        }
      ]
    },
    {
      "cell_type": "code",
      "metadata": {
        "id": "DfUGtvrBhjN3"
      },
      "source": [
        "# df[\"Genre\"] = df[\"Genre\"].fillna(df.groupby([\"Platform\",\"Publisher\"])[\"Genre\"].transform(\"count\"))\n",
        "# df[\"Publisher\"] = df[\"Publisher\"].fillna(df.groupby([\"Platform\",\"Genre\"])[\"Publisher\"].transform(\"count\"))\n",
        "# df[\"Year\"] = df[\"Year\"].fillna(df.groupby([\"Platform\",\"Genre\",\"Publisher\"])[\"Year\"].transform(\"count\"))\n",
        "\n",
        "# groupy와 fillna를 함께 사용할 수 있는데 잠깐 설명을 해놓자 나중에 내가 모르니까\n",
        "# 일단 Genre라는 columns의 NaN값을 처리하려고 해 \n",
        "# 그런데 \"Platform\",\"Publisher\"를 그룹을 지어서 장르를 추측하고자 하는거야 \n",
        "# 위 두 그룹의 count를 기준으로 비어있는 결측치 채우는 것이지 "
      ],
      "execution_count": null,
      "outputs": []
    }
  ]
}