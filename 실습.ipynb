{
  "nbformat": 4,
  "nbformat_minor": 0,
  "metadata": {
    "colab": {
      "name": "실습.ipynb",
      "provenance": [],
      "authorship_tag": "ABX9TyMTKu1QW8+F/rpjQUJ/tVpf",
      "include_colab_link": true
    },
    "kernelspec": {
      "name": "python3",
      "display_name": "Python 3"
    }
  },
  "cells": [
    {
      "cell_type": "markdown",
      "metadata": {
        "id": "view-in-github",
        "colab_type": "text"
      },
      "source": [
        "<a href=\"https://colab.research.google.com/github/daje0601/pandas_study/blob/main/%EC%8B%A4%EC%8A%B5.ipynb\" target=\"_parent\"><img src=\"https://colab.research.google.com/assets/colab-badge.svg\" alt=\"Open In Colab\"/></a>"
      ]
    },
    {
      "cell_type": "code",
      "metadata": {
        "id": "zRdvIwQ-3qR5"
      },
      "source": [
        "import pandas as pd\r\n",
        "import numpy as np\r\n",
        "import matplotlib.pyplot as plt\r\n",
        "import seaborn as sns\r\n",
        "\r\n",
        "df = pd.DataFrame({\r\n",
        "    'City': ['Seoul', 'Seoul', 'Seoul', 'Busan', 'Busan', 'Busan', 'Incheon', 'Incheon', 'Seoul', 'Busan', 'Incheon'],\r\n",
        "    'Room': [3, 4, 3, 2, 3, 3, 3, 3, 3, 3, 2],\r\n",
        "    'Price': [55000, 61000, 44000, 35000, 53000, 45000, 32000, 51000, 50000, 40000, 30000]\r\n",
        "})"
      ],
      "execution_count": 1,
      "outputs": []
    },
    {
      "cell_type": "code",
      "metadata": {
        "colab": {
          "base_uri": "https://localhost:8080/"
        },
        "id": "HwoBYUx-3s5i",
        "outputId": "a941d8b9-5f18-4fd7-976e-74f2cf6ded12"
      },
      "source": [
        "# 나를 설레게했던 코드  -> 이렇게 간단하게 컬럼에 대한 비율을 구할 수 있다니!\r\n",
        "# 나에게 컬럼의 비율을 구하라고 했다면 이렇게 했을텐데 -> df['City'].value_counts() / len(df[\"City\"])\r\n",
        "\r\n",
        "df['City'].value_counts(normalize=True)"
      ],
      "execution_count": 4,
      "outputs": [
        {
          "output_type": "execute_result",
          "data": {
            "text/plain": [
              "Busan      0.363636\n",
              "Seoul      0.363636\n",
              "Incheon    0.272727\n",
              "Name: City, dtype: float64"
            ]
          },
          "metadata": {
            "tags": []
          },
          "execution_count": 4
        }
      ]
    },
    {
      "cell_type": "code",
      "metadata": {
        "colab": {
          "base_uri": "https://localhost:8080/",
          "height": 279
        },
        "id": "IIOS3IoT45ay",
        "outputId": "90dea230-5dc7-4311-ef3b-e2ce66ea15d3"
      },
      "source": [
        "sns.countplot(x=df['City']);"
      ],
      "execution_count": 5,
      "outputs": [
        {
          "output_type": "display_data",
          "data": {
            "image/png": "[encoded data removed]",
            "text/plain": [
              "<Figure size 432x288 with 1 Axes>"
            ]
          },
          "metadata": {
            "tags": [],
            "needs_background": "light"
          }
        }
      ]
    },
    {
      "cell_type": "code",
      "metadata": {
        "colab": {
          "base_uri": "https://localhost:8080/"
        },
        "id": "ZpFDn_PW5bvh",
        "outputId": "b8102a9e-309b-432e-d683-45c04ff77a44"
      },
      "source": [
        "print(df[\"Price\"].mean())\r\n",
        "print(df.groupby('City')['Price'].mean())"
      ],
      "execution_count": 6,
      "outputs": [
        {
          "output_type": "stream",
          "text": [
            "45090.90909090909\n",
            "City\n",
            "Busan      43250.000000\n",
            "Incheon    37666.666667\n",
            "Seoul      52500.000000\n",
            "Name: Price, dtype: float64\n"
          ],
          "name": "stdout"
        }
      ]
    },
    {
      "cell_type": "code",
      "metadata": {
        "id": "FSEGntIF5gbF"
      },
      "source": [
        ""
      ],
      "execution_count": null,
      "outputs": []
    }
  ]
}