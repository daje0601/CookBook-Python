{
  "nbformat": 4,
  "nbformat_minor": 0,
  "metadata": {
    "colab": {
      "name": "pandas_6.ipynb",
      "provenance": [],
      "authorship_tag": "ABX9TyMhxitRCeIyQvL8QBpHSfIP",
      "include_colab_link": true
    },
    "kernelspec": {
      "name": "python3",
      "display_name": "Python 3"
    }
  },
  "cells": [
    {
      "cell_type": "markdown",
      "metadata": {
        "id": "view-in-github",
        "colab_type": "text"
      },
      "source": [
        "<a href=\"https://colab.research.google.com/github/daje0601/pandas_study/blob/main/pandas_6.ipynb\" target=\"_parent\"><img src=\"https://colab.research.google.com/assets/colab-badge.svg\" alt=\"Open In Colab\"/></a>"
      ]
    },
    {
      "cell_type": "markdown",
      "metadata": {
        "id": "ZBYtRuiyz5Yz"
      },
      "source": [
        "# 1. 샘플링\n"
      ]
    },
    {
      "cell_type": "markdown",
      "metadata": {
        "id": "6hMP_vVszZka"
      },
      "source": [
        "### 1) Simple random sampling\n",
        "### 모집단에서 샘플을 무작위로 뽑는 방법 \n"
      ]
    },
    {
      "cell_type": "code",
      "metadata": {
        "id": "KCuBDJaEzerI"
      },
      "source": [
        "import numpy as np"
      ],
      "execution_count": null,
      "outputs": []
    },
    {
      "cell_type": "code",
      "metadata": {
        "id": "B9OcJmrHzg5u"
      },
      "source": [
        "# hundreds라는 변수에 0부터 100까지 숫자들을 리스트에 담습니다. \n",
        "hundreds = np.arange(0,101, 1).tolist()\n",
        "\n",
        "# 그 중 20개를 랜덤하게 뽑습니다. \n",
        "np.random.choice(hundreds, size = 20)"
      ],
      "execution_count": null,
      "outputs": []
    },
    {
      "cell_type": "markdown",
      "metadata": {
        "id": "0sB_JtaAzhb7"
      },
      "source": [
        "### 2) Systematic sampling\n",
        "### 모집단에서 샘플 시, 2의 배수, 5의 배수 등의 규칙을 가지고 뽑는 방법 "
      ]
    },
    {
      "cell_type": "code",
      "metadata": {
        "id": "tfLLMS5lzjGs"
      },
      "source": [
        "# hundreds라는 변수에 0부터 100까지 숫자들을 리스트에 담습니다. \n",
        "hundreds = np.arange(0,100, 1).tolist()\n",
        "\n",
        "# 3의 배수를 뽑습니다. \n",
        "np.arange(0,100, 3)"
      ],
      "execution_count": null,
      "outputs": []
    },
    {
      "cell_type": "markdown",
      "metadata": {
        "id": "p0UL40qcztgT"
      },
      "source": [
        "### 3) Stratified random sampling\n",
        "### 모집단을 여러 그룹으로 나누고 그룹별로 무작위 추출하는 방법 "
      ]
    },
    {
      "cell_type": "code",
      "metadata": {
        "id": "E3WrtcZCzi7h"
      },
      "source": [
        "# 0~100을 10단위로 그룹을 나누고 뽑습니다. \n",
        "\n",
        "qwe = [] \n",
        "asd = []\n",
        "zxc = []\n",
        "\n",
        "for number in hundreds:\n",
        "  if number <= 10 : \n",
        "    qwe.append(number)\n",
        "  elif 10< number <=20:\n",
        "    asd.append(number)\n",
        "  elif 20< number <=30:\n",
        "    zxc.append(number)\n",
        "  else:\n",
        "    continue\n",
        "\n",
        "print(qwe), print(asd), print(zxc)"
      ],
      "execution_count": null,
      "outputs": []
    },
    {
      "cell_type": "markdown",
      "metadata": {
        "id": "aZ8k-xngzxv4"
      },
      "source": [
        "###4) cluster random sampling\n",
        "### 모집단을 여러 그룹으로 나누고 그 중 특정 그룹을 선택하여 무작위로 추출하는 방법"
      ]
    },
    {
      "cell_type": "code",
      "metadata": {
        "id": "Uc2LnVWUzyFk"
      },
      "source": [
        "# 0~21까지 숫자를 3으로 나눈 값을 가지고 데이터를 뽑아옵니다. \n",
        "\n",
        "hundreds = np.arange(0,21, 1).tolist()\n",
        "qwe = []\n",
        "asd = []\n",
        "zxc = []\n",
        "\n",
        "for number in hundreds:\n",
        "  if number % 3 == 0:\n",
        "    qwe.append(number)\n",
        "  elif number % 3 == 1:\n",
        "    asd.append(number)\n",
        "  elif number % 3 == 2:\n",
        "    zxc.append(number)\n",
        "\n",
        "print(qwe), print(asd), print(zxc)\n"
      ],
      "execution_count": null,
      "outputs": []
    },
    {
      "cell_type": "markdown",
      "metadata": {
        "id": "EpoBoiZN0C2p"
      },
      "source": [
        "# 2. t-test"
      ]
    },
    {
      "cell_type": "code",
      "metadata": {
        "colab": {
          "base_uri": "https://localhost:8080/",
          "height": 204
        },
        "id": "C0GV0-xd0TWi",
        "outputId": "3a6c5794-8d8b-4ac8-a2b9-ff5d5285d5ac"
      },
      "source": [
        "# 데이터 로드 \r\n",
        "import pandas as pd\r\n",
        "import numpy as np\r\n",
        "from scipy import stats\r\n",
        "\r\n",
        "trees = pd.read_csv('https://ds-lecture-data.s3.ap-northeast-2.amazonaws.com/seoul_tree/seoul_tree.txt', sep = '\\t', skiprows = 1)\r\n",
        "\r\n",
        "trees = trees.replace({'-':\"0\"})\r\n",
        "\r\n",
        "trees.head()"
      ],
      "execution_count": null,
      "outputs": [
        {
          "output_type": "execute_result",
          "data": {
            "text/html": [
              "<div>\n",
              "<style scoped>\n",
              "    .dataframe tbody tr th:only-of-type {\n",
              "        vertical-align: middle;\n",
              "    }\n",
              "\n",
              "    .dataframe tbody tr th {\n",
              "        vertical-align: top;\n",
              "    }\n",
              "\n",
              "    .dataframe thead th {\n",
              "        text-align: right;\n",
              "    }\n",
              "</style>\n",
              "<table border=\"1\" class=\"dataframe\">\n",
              "  <thead>\n",
              "    <tr style=\"text-align: right;\">\n",
              "      <th></th>\n",
              "      <th>기간</th>\n",
              "      <th>자치구</th>\n",
              "      <th>노선수</th>\n",
              "      <th>수량</th>\n",
              "      <th>은행나무</th>\n",
              "      <th>양버즘나무</th>\n",
              "      <th>느티나무</th>\n",
              "      <th>왕벚나무</th>\n",
              "      <th>은단풍나무</th>\n",
              "      <th>메타세콰이어</th>\n",
              "      <th>회화나무</th>\n",
              "      <th>가죽나무</th>\n",
              "      <th>감나무</th>\n",
              "      <th>수양버들</th>\n",
              "      <th>튜울립나무</th>\n",
              "      <th>칠엽수</th>\n",
              "      <th>포플러</th>\n",
              "      <th>느릅나무</th>\n",
              "      <th>살구나무</th>\n",
              "      <th>무궁화</th>\n",
              "      <th>소나무</th>\n",
              "      <th>목련</th>\n",
              "      <th>이팝나무</th>\n",
              "      <th>기타</th>\n",
              "    </tr>\n",
              "  </thead>\n",
              "  <tbody>\n",
              "    <tr>\n",
              "      <th>0</th>\n",
              "      <td>2019</td>\n",
              "      <td>서울시</td>\n",
              "      <td>1,412</td>\n",
              "      <td>307,351</td>\n",
              "      <td>108,050</td>\n",
              "      <td>62,474</td>\n",
              "      <td>37,473</td>\n",
              "      <td>34,150</td>\n",
              "      <td>545</td>\n",
              "      <td>5,171</td>\n",
              "      <td>7,816</td>\n",
              "      <td>52</td>\n",
              "      <td>871</td>\n",
              "      <td>32</td>\n",
              "      <td>948</td>\n",
              "      <td>1,533</td>\n",
              "      <td>7</td>\n",
              "      <td>504</td>\n",
              "      <td>234</td>\n",
              "      <td>2,374</td>\n",
              "      <td>4,539</td>\n",
              "      <td>378</td>\n",
              "      <td>20,088</td>\n",
              "      <td>20,112</td>\n",
              "    </tr>\n",
              "    <tr>\n",
              "      <th>1</th>\n",
              "      <td>2019</td>\n",
              "      <td>종로구</td>\n",
              "      <td>70</td>\n",
              "      <td>7,329</td>\n",
              "      <td>4,072</td>\n",
              "      <td>1,071</td>\n",
              "      <td>619</td>\n",
              "      <td>421</td>\n",
              "      <td>0</td>\n",
              "      <td>1</td>\n",
              "      <td>140</td>\n",
              "      <td>1</td>\n",
              "      <td>0</td>\n",
              "      <td>8</td>\n",
              "      <td>0</td>\n",
              "      <td>17</td>\n",
              "      <td>0</td>\n",
              "      <td>0</td>\n",
              "      <td>0</td>\n",
              "      <td>0</td>\n",
              "      <td>239</td>\n",
              "      <td>0</td>\n",
              "      <td>711</td>\n",
              "      <td>29</td>\n",
              "    </tr>\n",
              "    <tr>\n",
              "      <th>2</th>\n",
              "      <td>2019</td>\n",
              "      <td>중구</td>\n",
              "      <td>48</td>\n",
              "      <td>8,250</td>\n",
              "      <td>3,640</td>\n",
              "      <td>162</td>\n",
              "      <td>460</td>\n",
              "      <td>289</td>\n",
              "      <td>0</td>\n",
              "      <td>0</td>\n",
              "      <td>176</td>\n",
              "      <td>0</td>\n",
              "      <td>0</td>\n",
              "      <td>0</td>\n",
              "      <td>7</td>\n",
              "      <td>0</td>\n",
              "      <td>0</td>\n",
              "      <td>0</td>\n",
              "      <td>21</td>\n",
              "      <td>46</td>\n",
              "      <td>2,162</td>\n",
              "      <td>0</td>\n",
              "      <td>470</td>\n",
              "      <td>817</td>\n",
              "    </tr>\n",
              "    <tr>\n",
              "      <th>3</th>\n",
              "      <td>2019</td>\n",
              "      <td>용산구</td>\n",
              "      <td>39</td>\n",
              "      <td>7,835</td>\n",
              "      <td>4,444</td>\n",
              "      <td>1,422</td>\n",
              "      <td>373</td>\n",
              "      <td>262</td>\n",
              "      <td>0</td>\n",
              "      <td>0</td>\n",
              "      <td>37</td>\n",
              "      <td>0</td>\n",
              "      <td>74</td>\n",
              "      <td>0</td>\n",
              "      <td>13</td>\n",
              "      <td>16</td>\n",
              "      <td>0</td>\n",
              "      <td>0</td>\n",
              "      <td>39</td>\n",
              "      <td>0</td>\n",
              "      <td>51</td>\n",
              "      <td>126</td>\n",
              "      <td>198</td>\n",
              "      <td>780</td>\n",
              "    </tr>\n",
              "    <tr>\n",
              "      <th>4</th>\n",
              "      <td>2019</td>\n",
              "      <td>성동구</td>\n",
              "      <td>38</td>\n",
              "      <td>8,120</td>\n",
              "      <td>1,090</td>\n",
              "      <td>2,401</td>\n",
              "      <td>1,975</td>\n",
              "      <td>602</td>\n",
              "      <td>29</td>\n",
              "      <td>48</td>\n",
              "      <td>325</td>\n",
              "      <td>33</td>\n",
              "      <td>146</td>\n",
              "      <td>0</td>\n",
              "      <td>0</td>\n",
              "      <td>1</td>\n",
              "      <td>3</td>\n",
              "      <td>59</td>\n",
              "      <td>0</td>\n",
              "      <td>0</td>\n",
              "      <td>53</td>\n",
              "      <td>0</td>\n",
              "      <td>709</td>\n",
              "      <td>646</td>\n",
              "    </tr>\n",
              "  </tbody>\n",
              "</table>\n",
              "</div>"
            ],
            "text/plain": [
              "     기간  자치구    노선수       수량     은행나무  ...    무궁화    소나무   목련    이팝나무      기타\n",
              "0  2019  서울시  1,412  307,351  108,050  ...  2,374  4,539  378  20,088  20,112\n",
              "1  2019  종로구     70    7,329    4,072  ...      0    239    0     711      29\n",
              "2  2019   중구     48    8,250    3,640  ...     46  2,162    0     470     817\n",
              "3  2019  용산구     39    7,835    4,444  ...      0     51  126     198     780\n",
              "4  2019  성동구     38    8,120    1,090  ...      0     53    0     709     646\n",
              "\n",
              "[5 rows x 24 columns]"
            ]
          },
          "metadata": {
            "tags": []
          },
          "execution_count": 1
        }
      ]
    },
    {
      "cell_type": "code",
      "metadata": {
        "id": "VslckkXN0rC5"
      },
      "source": [
        "trees.drop([\"기간\", \"자치구\", \"노선수\", \"수량\"], axis=1, inplace=True)\r\n",
        "trees.drop([0, 26, 27], inplace=True)\r\n",
        "for col in trees.columns:\r\n",
        "  trees[col] = pd.to_numeric(trees[col].str.replace(',',''))"
      ],
      "execution_count": null,
      "outputs": []
    },
    {
      "cell_type": "code",
      "metadata": {
        "colab": {
          "base_uri": "https://localhost:8080/",
          "height": 204
        },
        "id": "1b2Ayd3M0Xfp",
        "outputId": "7da26b2e-e0d4-46c1-bba3-76d16eb9154e"
      },
      "source": [
        "df = trees.iloc[0:5, 0:5]\r\n",
        "df"
      ],
      "execution_count": null,
      "outputs": [
        {
          "output_type": "execute_result",
          "data": {
            "text/html": [
              "<div>\n",
              "<style scoped>\n",
              "    .dataframe tbody tr th:only-of-type {\n",
              "        vertical-align: middle;\n",
              "    }\n",
              "\n",
              "    .dataframe tbody tr th {\n",
              "        vertical-align: top;\n",
              "    }\n",
              "\n",
              "    .dataframe thead th {\n",
              "        text-align: right;\n",
              "    }\n",
              "</style>\n",
              "<table border=\"1\" class=\"dataframe\">\n",
              "  <thead>\n",
              "    <tr style=\"text-align: right;\">\n",
              "      <th></th>\n",
              "      <th>은행나무</th>\n",
              "      <th>양버즘나무</th>\n",
              "      <th>느티나무</th>\n",
              "      <th>왕벚나무</th>\n",
              "      <th>은단풍나무</th>\n",
              "    </tr>\n",
              "  </thead>\n",
              "  <tbody>\n",
              "    <tr>\n",
              "      <th>1</th>\n",
              "      <td>4072</td>\n",
              "      <td>1071</td>\n",
              "      <td>619</td>\n",
              "      <td>421</td>\n",
              "      <td>0</td>\n",
              "    </tr>\n",
              "    <tr>\n",
              "      <th>2</th>\n",
              "      <td>3640</td>\n",
              "      <td>162</td>\n",
              "      <td>460</td>\n",
              "      <td>289</td>\n",
              "      <td>0</td>\n",
              "    </tr>\n",
              "    <tr>\n",
              "      <th>3</th>\n",
              "      <td>4444</td>\n",
              "      <td>1422</td>\n",
              "      <td>373</td>\n",
              "      <td>262</td>\n",
              "      <td>0</td>\n",
              "    </tr>\n",
              "    <tr>\n",
              "      <th>4</th>\n",
              "      <td>1090</td>\n",
              "      <td>2401</td>\n",
              "      <td>1975</td>\n",
              "      <td>602</td>\n",
              "      <td>29</td>\n",
              "    </tr>\n",
              "    <tr>\n",
              "      <th>5</th>\n",
              "      <td>1247</td>\n",
              "      <td>2306</td>\n",
              "      <td>1057</td>\n",
              "      <td>940</td>\n",
              "      <td>0</td>\n",
              "    </tr>\n",
              "  </tbody>\n",
              "</table>\n",
              "</div>"
            ],
            "text/plain": [
              "   은행나무  양버즘나무  느티나무  왕벚나무  은단풍나무\n",
              "1  4072   1071   619   421      0\n",
              "2  3640    162   460   289      0\n",
              "3  4444   1422   373   262      0\n",
              "4  1090   2401  1975   602     29\n",
              "5  1247   2306  1057   940      0"
            ]
          },
          "metadata": {
            "tags": []
          },
          "execution_count": 13
        }
      ]
    },
    {
      "cell_type": "code",
      "metadata": {
        "colab": {
          "base_uri": "https://localhost:8080/"
        },
        "id": "pDML5heQ0jAB",
        "outputId": "b4b940d0-0245-41c2-84c5-d73a34b6e695"
      },
      "source": [
        "# 우리는 왕벚나무 500개 있다고 가정해봅시다. \r\n",
        "# 그리고 t-test를 진행하고 p-value에 대해 설명하는 예제를 다루어봅시다 \r\n",
        "# p-value기준점 : 0.05( 5% )\r\n",
        "\r\n",
        "df = df[\"왕벚나무\"]\r\n",
        "\r\n",
        "stats.ttest_1samp(df, 500)"
      ],
      "execution_count": null,
      "outputs": [
        {
          "output_type": "execute_result",
          "data": {
            "text/plain": [
              "Ttest_1sampResult(statistic=0.02244058053767974, pvalue=0.9831713300852056)"
            ]
          },
          "metadata": {
            "tags": []
          },
          "execution_count": 14
        }
      ]
    },
    {
      "cell_type": "markdown",
      "metadata": {
        "id": "Z7kJEJ671uJp"
      },
      "source": [
        "statistic : t-test 값을 나타내며, pvalue : 측정된 p-value를 나타납니다.  \r\n",
        "\r\n",
        "  우리는 은당풍나무가 500개라고 가정을 했는데, 측정된 pvalue가 0.05를 넘었습니다.  거의 1에 가깝죠? \r\n",
        "  \r\n",
        "  그럼 이게 무엇을 의미할까요? 네 맞습니다. !\r\n",
        "  \r\n",
        "   저희에 가설이 맞을 확률이 높다는 걸 의미합니다. "
      ]
    },
    {
      "cell_type": "code",
      "metadata": {
        "colab": {
          "base_uri": "https://localhost:8080/"
        },
        "id": "iCwM_Nv51twC",
        "outputId": "0e2f7706-e808-470b-afe9-8a9be1c1ba68"
      },
      "source": [
        "# 실제 평균을 구하여도 502정도가 출력이 되네요 \r\n",
        "\r\n",
        "df.mean()"
      ],
      "execution_count": null,
      "outputs": [
        {
          "output_type": "execute_result",
          "data": {
            "text/plain": [
              "502.8"
            ]
          },
          "metadata": {
            "tags": []
          },
          "execution_count": 15
        }
      ]
    },
    {
      "cell_type": "markdown",
      "metadata": {
        "id": "HCLCRWKk0GC2"
      },
      "source": [
        "# 3. ANOVA"
      ]
    },
    {
      "cell_type": "code",
      "metadata": {
        "id": "FIaU9u5F0UUm"
      },
      "source": [
        "A = '38 33 35 92 76 97 88 41 11 9'.split()\n",
        "B = '18 52 62 48 30 40 87 12 97 82'.split()\n",
        "C = '28 90 5 49 66 73 96 80 4 17'.split()\n",
        "D = '8 99 4 12 7 64 18 10 9 20'.split()"
      ],
      "execution_count": 4,
      "outputs": []
    },
    {
      "cell_type": "code",
      "metadata": {
        "id": "JN2QeDSX0U08",
        "outputId": "ed1b94eb-0a21-4825-f321-01fe73aaf8e8",
        "colab": {
          "base_uri": "https://localhost:8080/"
        }
      },
      "source": [
        "from scipy import stats\n",
        "\n",
        "F_statistic, pVal = stats.f_oneway(A, B, C, D)\n",
        "\n",
        "print('데이터의 일원분산분석 결과 : F={0:.1f}, p={1:.5f}'.format(F_statistic, pVal))\n",
        "if pVal < 0.05:\n",
        "    print('P-value 값이 충분히 작음으로 인해 그룹의 평균값이 통계적으로 유의미하게 차이보인다.')\n",
        "else:\n",
        "  print('P-value 값이 충분히 작음으로 인해 그룹의 평균값이 통계적으로 유의미하게 차이나지 않는 것으로 보인다.')"
      ],
      "execution_count": 7,
      "outputs": [
        {
          "output_type": "stream",
          "text": [
            "데이터의 일원분산분석 결과 : F=1.7, p=0.17921\n",
            "P-value 값이 충분히 작음으로 인해 그룹의 평균값이 통계적으로 유의미하게 차이나지 않는 것으로 보인다.\n"
          ],
          "name": "stdout"
        }
      ]
    },
    {
      "cell_type": "markdown",
      "metadata": {
        "id": "DLon2xYC1qz5"
      },
      "source": [
        "# 4. chi-square "
      ]
    },
    {
      "cell_type": "markdown",
      "metadata": {
        "id": "9mwpEIvg3KQu"
      },
      "source": [
        "1) one sample test\n"
      ]
    },
    {
      "cell_type": "code",
      "metadata": {
        "id": "udwUZMuM1tJ3",
        "outputId": "d09fe421-1fe8-4751-aa00-06f488ed71b7",
        "colab": {
          "base_uri": "https://localhost:8080/",
          "height": 221
        }
      },
      "source": [
        "import pandas as pd\n",
        "import numpy as np\n",
        "from scipy import stats\n",
        "from scipy.stats import chisquare  \n",
        "\n",
        "!pandas read csv form github\n",
        "\n",
        "url = \"https://raw.githubusercontent.com/daje0601/pandas_study/main/%EA%B7%9C%EB%AA%A8%EB%B3%84_%EB%AF%B8%EB%B6%84%EC%96%91%ED%98%84%ED%99%A9(%EC%84%9C%EC%9A%B8%2C%20%EB%B6%80%EC%82%B0%2C%20%EB%8C%80%EA%B5%AC%2C%20%EB%8C%80%EC%A0%84).csv\"\n",
        "df = pd.read_csv(url, encoding='euc-kr')\n",
        "\n",
        "# 불필요한 column제거 \n",
        "df = df.drop([\"2020. 06\", \"2020. 07\", \"2020. 08\", \"2020. 09\", \"2020. 05\"], axis=1)\n",
        "df.head()"
      ],
      "execution_count": 14,
      "outputs": [
        {
          "output_type": "stream",
          "text": [
            "/bin/bash: pandas: command not found\n"
          ],
          "name": "stdout"
        },
        {
          "output_type": "execute_result",
          "data": {
            "text/html": [
              "<div>\n",
              "<style scoped>\n",
              "    .dataframe tbody tr th:only-of-type {\n",
              "        vertical-align: middle;\n",
              "    }\n",
              "\n",
              "    .dataframe tbody tr th {\n",
              "        vertical-align: top;\n",
              "    }\n",
              "\n",
              "    .dataframe thead th {\n",
              "        text-align: right;\n",
              "    }\n",
              "</style>\n",
              "<table border=\"1\" class=\"dataframe\">\n",
              "  <thead>\n",
              "    <tr style=\"text-align: right;\">\n",
              "      <th></th>\n",
              "      <th>시도(1)</th>\n",
              "      <th>부문(1)</th>\n",
              "      <th>규모(1)</th>\n",
              "      <th>2020. 10</th>\n",
              "    </tr>\n",
              "  </thead>\n",
              "  <tbody>\n",
              "    <tr>\n",
              "      <th>0</th>\n",
              "      <td>서울</td>\n",
              "      <td>공공부문</td>\n",
              "      <td>60㎡이하</td>\n",
              "      <td>0</td>\n",
              "    </tr>\n",
              "    <tr>\n",
              "      <th>1</th>\n",
              "      <td>서울</td>\n",
              "      <td>공공부문</td>\n",
              "      <td>60∼85㎡</td>\n",
              "      <td>0</td>\n",
              "    </tr>\n",
              "    <tr>\n",
              "      <th>2</th>\n",
              "      <td>서울</td>\n",
              "      <td>민간부문</td>\n",
              "      <td>60㎡이하</td>\n",
              "      <td>50</td>\n",
              "    </tr>\n",
              "    <tr>\n",
              "      <th>3</th>\n",
              "      <td>서울</td>\n",
              "      <td>민간부문</td>\n",
              "      <td>60∼85㎡</td>\n",
              "      <td>2</td>\n",
              "    </tr>\n",
              "    <tr>\n",
              "      <th>4</th>\n",
              "      <td>서울</td>\n",
              "      <td>민간부문</td>\n",
              "      <td>85㎡초과</td>\n",
              "      <td>0</td>\n",
              "    </tr>\n",
              "  </tbody>\n",
              "</table>\n",
              "</div>"
            ],
            "text/plain": [
              "  시도(1) 부문(1)   규모(1)  2020. 10\n",
              "0    서울  공공부문   60㎡이하         0\n",
              "1    서울  공공부문  60∼85㎡         0\n",
              "2    서울  민간부문   60㎡이하        50\n",
              "3    서울  민간부문  60∼85㎡         2\n",
              "4    서울  민간부문   85㎡초과         0"
            ]
          },
          "metadata": {
            "tags": []
          },
          "execution_count": 14
        }
      ]
    },
    {
      "cell_type": "code",
      "metadata": {
        "id": "sT_jWw4_2LI1",
        "outputId": "8922ab99-0d51-4313-9c88-b175a441a5d6",
        "colab": {
          "base_uri": "https://localhost:8080/"
        }
      },
      "source": [
        "# 데이터 그룹화 \n",
        "data = df.groupby(df['시도(1)']).sum()\n",
        "\n",
        "\n",
        "# 데이터 리스트화 \n",
        "data = df.groupby(df['시도(1)']).sum()\n",
        "data = data[\"2020. 10\"].tolist()\n",
        "\n",
        "\n",
        "# 카이점검 진행 \n",
        "\n",
        "stats.chisquare(data)"
      ],
      "execution_count": 17,
      "outputs": [
        {
          "output_type": "execute_result",
          "data": {
            "text/plain": [
              "Power_divergenceResult(statistic=1081.958954089389, pvalue=2.9856891658559825e-234)"
            ]
          },
          "metadata": {
            "tags": []
          },
          "execution_count": 17
        }
      ]
    },
    {
      "cell_type": "markdown",
      "metadata": {
        "id": "GZxZwvLj20eO"
      },
      "source": [
        "귀무가설 : 지역간에 미분양된 아파트 갯수의 차이가 없다.  \n",
        "대립가설 : 지역간에 미분양된 아파트 갯수의 차이가 있다.\n",
        "\n",
        "[ 결론 ]\n",
        "-. p-value가 0.05보다 크므로 귀무가설은 성립될 수도 있다.  \n",
        "-. 지역간에 미분양된 아파트의 차이가 없을 수도 있다."
      ]
    },
    {
      "cell_type": "markdown",
      "metadata": {
        "id": "KYAhkUxY3Gbg"
      },
      "source": [
        "4-1) two sample test"
      ]
    },
    {
      "cell_type": "code",
      "metadata": {
        "id": "M4dAX3pL2K_u",
        "outputId": "db474f66-053c-4d87-b410-50a39387b48d",
        "colab": {
          "base_uri": "https://localhost:8080/"
        }
      },
      "source": [
        "# 데이터 피벗화 \n",
        "data = pd.pivot_table(data=df, index=\"시도(1)\", columns=\"규모(1)\", aggfunc = \"sum\")\n",
        "data = data.values\n",
        "\n",
        "# 카이검점 진행\n",
        "from scipy.stats import chi2_contingency\n",
        "chi2_contingency(data, correction = False)"
      ],
      "execution_count": 18,
      "outputs": [
        {
          "output_type": "execute_result",
          "data": {
            "text/plain": [
              "(1801.330523795501, 0.0, 6, array([[542.82943144, 537.61660079,  62.55396777],\n",
              "        [395.13043478, 391.33596838,  45.53359684],\n",
              "        [599.34448161, 593.58893281,  69.06658559],\n",
              "        [ 24.69565217,  24.45849802,   2.8458498 ]]))"
            ]
          },
          "metadata": {
            "tags": []
          },
          "execution_count": 18
        }
      ]
    },
    {
      "cell_type": "markdown",
      "metadata": {
        "id": "GRGVfMx83XUm"
      },
      "source": [
        "귀무가설 : 지역간에 미분양된 아파트 갯수의 차이가 없다.  \n",
        "대립가설 : 지역간에 미분양된 아파트 갯수의 차이가 있다.  \n",
        "\n",
        "[ 결론 ]\n",
        "-. p-value가 0.05보다 작으므로 귀무가설은 성립되지 않을 수 있다.  \n",
        "-. 지역간에 미분양된 아파트의 차이가 있을 수 있다.  "
      ]
    },
    {
      "cell_type": "markdown",
      "metadata": {
        "id": "lyzBiuYRH5Ce"
      },
      "source": [
        "# 베지안 예제\n",
        "\n",
        "8%의 false positive rate(fpr),  \n",
        "99%의 true positive rate(tpr)  \n",
        "그리고 일반적으로 전체 인구의 1/100이 실제로 음주운전을 한다고 가정합시다.  \n",
        "  \n",
        "첫번째 음주 테스트 결과, 양성이면서 음주했을 가능성은 얼마일까요?  \n",
        "두번째 음주 테스트 결과, 양성이면서 음주했을 가능성은 얼마일까요?   \n",
        "실제로 음주 했을 확률이 95% 이상으로 보장되기 위해서는, 몇번의 음주 테스트가 필요로 합니까?"
      ]
    },
    {
      "cell_type": "markdown",
      "metadata": {
        "id": "NgBpf4EvKD8z"
      },
      "source": [
        "일단, 베이지안이라고 하면 무조건 사각형을 그려야하는거 아시죠?\n",
        "사각형을 그려보세요  \n",
        "  \n",
        "  그리고 식을 세우고 천천히 코드를 작성해 보세요  \n",
        "  아래와 같은 코드가 작성되셨나요?"
      ]
    },
    {
      "cell_type": "markdown",
      "metadata": {
        "id": "vL8P17GpMUnb"
      },
      "source": [
        "일단 우리는 대략적으로 100명을 음주측정하였을 때 1명은 음주를 했을거야 라는 가정하였습니다.  \n",
        "즉, 실험하기 전 음주운전할 확률이 0.01이라고 가정한 것과 동일합니다. "
      ]
    },
    {
      "cell_type": "code",
      "metadata": {
        "id": "ofIHOmu31PlY",
        "colab": {
          "base_uri": "https://localhost:8080/"
        },
        "outputId": "aa52cba6-d753-4efe-b31c-1c9fbfd9bbae"
      },
      "source": [
        "alcohol_check_rate = 0.001 \n",
        "fpr = 0.08\n",
        "tpr = 0.99\n",
        "\n",
        "alcohol_check_rate = alcohol_check_rate * tpr / ((alcohol_check_rate * tpr) + ((1-alcohol_check_rate)*fpr))\n",
        "alcohol_check_rate"
      ],
      "execution_count": null,
      "outputs": [
        {
          "output_type": "execute_result",
          "data": {
            "text/plain": [
              "0.012235817575083425"
            ]
          },
          "metadata": {
            "tags": []
          },
          "execution_count": 4
        }
      ]
    },
    {
      "cell_type": "markdown",
      "metadata": {
        "id": "L8NIZ-khKqWn"
      },
      "source": [
        "실제로 음주를 한 사람이 검사결과가 양성일 확률과 음주를 하지 않았는데 양성을 받을 확률을 구해야합니다.  \n",
        "그런 후 위 값을 분모에 놓고 실제 음주를 하고 검사결과도 양성일 확률을 분자에 넣어줘야겠죠?  \n",
        "  \n",
        "그렇게 계산하면 alcohol_check_rate : 0.01223 이 계산됩니다. "
      ]
    },
    {
      "cell_type": "markdown",
      "metadata": {
        "id": "IdP7sjenMmuZ"
      },
      "source": [
        "우리는 사전에 0.01이 음주운전할 확률이라고 예상하였는데  \n",
        "측정기가 바르게 측정할 확률과 오류를 발생시킬 확률을 포함하여 계산한 결과,  \n",
        "음주운전할 확률이 0.01223이 나왔습니다. \n",
        "\n",
        "즉, \n",
        "사전 확률 : 0.01   \n",
        "사후 확률 : 0.01223\n",
        "\n",
        "확률이 증가한 걸 확인할 수 있었습니다. "
      ]
    },
    {
      "cell_type": "markdown",
      "metadata": {
        "id": "vVYi-gqpLoch"
      },
      "source": [
        "이제 두번 계산해봐야겠죠?  \n",
        "어떻게 해야 두번 계산 할 수 있을까요?  \n",
        "아니, 우리는 왜 두번 검사를 진행하려고 하는걸까요?  \n",
        "\n",
        "1번만 검사해서는 제대로 음주측정이 되었는지 신뢰할 수 없겠죠?  \n",
        "그리고 검사를 진행할수록 정확하게 측정될 확률이 높아진다는 사실을 추측 할 수 있습니다.   \n",
        "이제 계산된 사후확률이 다시 사전확률로 높고 계산을 진행해보겠습니다. "
      ]
    },
    {
      "cell_type": "code",
      "metadata": {
        "id": "P78XKEmRLn7c",
        "colab": {
          "base_uri": "https://localhost:8080/"
        },
        "outputId": "941bb6e4-0dac-4425-f54b-b63e55603d80"
      },
      "source": [
        "alcohol_check_rate = 0.01223\n",
        "fpr = 0.08\n",
        "tpr = 0.99\n",
        "\n",
        "alcohol_check_rate = alcohol_check_rate * tpr / ((alcohol_check_rate * tpr) + ((1-alcohol_check_rate)*fpr))\n",
        "alcohol_check_rate"
      ],
      "execution_count": null,
      "outputs": [
        {
          "output_type": "execute_result",
          "data": {
            "text/plain": [
              "0.1328628662790123"
            ]
          },
          "metadata": {
            "tags": []
          },
          "execution_count": 5
        }
      ]
    },
    {
      "cell_type": "markdown",
      "metadata": {
        "id": "WEBcD6k5NajM"
      },
      "source": [
        "사전 확률 : 0.01223  \n",
        "사후 확률 : 0.1328\n",
        "\n",
        "이번에는 더 증가하였습니다.  \n",
        "\n",
        "그럼 저 사후 확률이 95%이상이 되려면 몇번이나 검사를 진행해야할까요?  \n",
        "\n"
      ]
    },
    {
      "cell_type": "markdown",
      "metadata": {
        "id": "MTwid8xCLK1y"
      },
      "source": [
        "우리는 단순하게 위 코드를 계속 반복할 수 없습니다.  \n",
        "그럼 프로그래머가 아니죠!  \n",
        "엑셀을 사용하는 것과 무엇이 다른가요?  \n",
        "\n",
        "그래서 우리는 함수를 만들어주려고 합니다.  "
      ]
    },
    {
      "cell_type": "code",
      "metadata": {
        "id": "Foo8dGDZJKnP"
      },
      "source": [
        "def alcohol_positive_checking(alcohol_check_rate, fpr, tpr): # 변수를 이렇게 넣어줍니다. \n",
        "  try_number = 0 # 반복되는 횟수를 체크하기 위한 변수입니다. \n",
        "  for try_number in range(1000) : # 일단 몇번해야할지 모르니 범위를 넓게 잡아보았습니다. \n",
        "    if alcohol_check_rate < 0.95:\n",
        "      try_number +=1\n",
        "      alcohol_check_rate = alcohol_check_rate * tpr / ((alcohol_check_rate * tpr) + ((1-alcohol_check_rate)*fpr))\n",
        "      print(f\"{try_number}회 시도 시, 신뢰할 수 있는 확률 : {(alcohol_check_rate*100):.2f}%\") # :.2는 소수점을 컨트롤하는 코드 / f 포맷팅도 함께 기재함 \n",
        "    else:\n",
        "      break"
      ],
      "execution_count": null,
      "outputs": []
    },
    {
      "cell_type": "code",
      "metadata": {
        "id": "I1_qaHdgOET6",
        "colab": {
          "base_uri": "https://localhost:8080/"
        },
        "outputId": "ebba1b03-9673-4b2b-9446-16550a8592db"
      },
      "source": [
        "alcohol_check_rate = 0.001 \n",
        "fpr = 0.08\n",
        "tpr = 0.99\n",
        "\n",
        "alcohol_positive_checking(alcohol_check_rate, fpr, tpr)"
      ],
      "execution_count": null,
      "outputs": [
        {
          "output_type": "stream",
          "text": [
            "1회 시도 시, 신뢰할 수 있는 확률 : 1.22%\n",
            "2회 시도 시, 신뢰할 수 있는 확률 : 13.29%\n",
            "3회 시도 시, 신뢰할 수 있는 확률 : 65.48%\n",
            "4회 시도 시, 신뢰할 수 있는 확률 : 95.91%\n"
          ],
          "name": "stdout"
        }
      ]
    },
    {
      "cell_type": "markdown",
      "metadata": {
        "id": "UU2wqNpVOUFp"
      },
      "source": [
        "위에 볼 수 있는 4회 시도 시, 신뢰할 수 있는 확률이 95%이상이 됩니다.  \n",
        "만약 99%이상이 되려면 몇번을 해야하는지도 한번 해볼까요?  \n",
        "alcohol_check_rate < 0.95 -> alcohol_check_rate < 0.99  \n",
        "\n",
        "위와 같이 간단하게 코드를 수정하면 바로 가능합니다. \n"
      ]
    },
    {
      "cell_type": "code",
      "metadata": {
        "id": "jNpYf-sFOmqy"
      },
      "source": [
        "def alcohol_positive_checking(alcohol_check_rate, fpr, tpr): # 변수를 이렇게 넣어줍니다. \n",
        "  try_number = 0 # 반복되는 횟수를 체크하기 위한 변수입니다. \n",
        "  for try_number in range(1000) : # 일단 몇번해야할지 모르니 범위를 넓게 잡아보았습니다. \n",
        "    if alcohol_check_rate < 0.99:\n",
        "      try_number +=1\n",
        "      alcohol_check_rate = alcohol_check_rate * tpr / ((alcohol_check_rate * tpr) + ((1-alcohol_check_rate)*fpr))\n",
        "      print(f\"{try_number}회 시도 시, 신뢰할 수 있는 확률 : {(alcohol_check_rate*100):.2f}%\") # :.2는 소수점을 컨트롤하는 코드 / f 포맷팅도 함께 기재함 \n",
        "    else:\n",
        "      break"
      ],
      "execution_count": null,
      "outputs": []
    },
    {
      "cell_type": "code",
      "metadata": {
        "id": "Q0aaKB-_Oojn",
        "colab": {
          "base_uri": "https://localhost:8080/"
        },
        "outputId": "223b032d-f9ea-4ae2-d88b-3c044c51e914"
      },
      "source": [
        "alcohol_check_rate = 0.001 \n",
        "fpr = 0.08\n",
        "tpr = 0.99\n",
        "\n",
        "alcohol_positive_checking(alcohol_check_rate, fpr, tpr)"
      ],
      "execution_count": null,
      "outputs": [
        {
          "output_type": "stream",
          "text": [
            "1회 시도 시, 신뢰할 수 있는 확률 : 1.22%\n",
            "2회 시도 시, 신뢰할 수 있는 확률 : 13.29%\n",
            "3회 시도 시, 신뢰할 수 있는 확률 : 65.48%\n",
            "4회 시도 시, 신뢰할 수 있는 확률 : 95.91%\n",
            "5회 시도 시, 신뢰할 수 있는 확률 : 99.66%\n"
          ],
          "name": "stdout"
        }
      ]
    },
    {
      "cell_type": "markdown",
      "metadata": {
        "id": "QN1b5ZFTOq3A"
      },
      "source": [
        "오호! 5번만 실시하면 바로 99%이상의 확률을 얻을 수 있습니다.  \n",
        "그럼, 음주 측정을 5번만 해보면 거의 정확하게 음주를 하였는지 안하였는지를 알 수 있습니다.   "
      ]
    }
  ]
}