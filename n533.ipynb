{
  "nbformat": 4,
  "nbformat_minor": 0,
  "metadata": {
    "colab": {
      "name": "n533.ipynb",
      "provenance": [],
      "authorship_tag": "ABX9TyNEI4Ub5a3TcjNHYFUYRc0e",
      "include_colab_link": true
    },
    "kernelspec": {
      "name": "python3",
      "display_name": "Python 3"
    },
    "language_info": {
      "name": "python"
    }
  },
  "cells": [
    {
      "cell_type": "markdown",
      "metadata": {
        "id": "view-in-github",
        "colab_type": "text"
      },
      "source": [
        "<a href=\"https://colab.research.google.com/github/daje0601/pandas_study/blob/main/n533.ipynb\" target=\"_parent\"><img src=\"https://colab.research.google.com/assets/colab-badge.svg\" alt=\"Open In Colab\"/></a>"
      ]
    },
    {
      "cell_type": "code",
      "metadata": {
        "colab": {
          "base_uri": "https://localhost:8080/"
        },
        "id": "NQy9DWcojzfp",
        "outputId": "0e304cd9-c162-4f5b-bbdb-3826923cba67"
      },
      "source": [
        "bfs_graph = {   # 그래프를 인접리스트로 표현\n",
        "    1: [2,3,4],\n",
        "    2: [1,5,6],\n",
        "    3: [1,6],\n",
        "    4: [1],\n",
        "    5: [6,7],\n",
        "    6: [5],\n",
        "    7: [6],\n",
        "}\n",
        "\n",
        "def bfs_queue(start_node):\n",
        "  bfs_list = [start_node]\n",
        "  queue = [start_node]\n",
        "  while queue:#외부반복문\n",
        "    node = queue.pop(0)\n",
        "    for i in bfs_graph[node]: #내부반복문 \n",
        "      if i not in bfs_list:\n",
        "        bfs_list.append(i)\n",
        "        queue.append(i)\n",
        "\n",
        "  return bfs_list\n",
        "\n",
        "bfs_queue(2)"
      ],
      "execution_count": 1,
      "outputs": [
        {
          "output_type": "execute_result",
          "data": {
            "text/plain": [
              "[2, 1, 5, 6, 3, 4, 7]"
            ]
          },
          "metadata": {
            "tags": []
          },
          "execution_count": 1
        }
      ]
    },
    {
      "cell_type": "code",
      "metadata": {
        "id": "-bLE5eXCkJ2r"
      },
      "source": [
        "def graph_func(graph, start_node, list_test):\n",
        "    vert = [start_node]\n",
        "    q_list = [start_node]          \n",
        "    while q_list:                 \n",
        "        pop_node = q_list.pop(0)         \n",
        "        for node in graph[pop_node]:        \n",
        "            if node not in vert: \n",
        "                q_list.append(node)\n",
        "                vert.append(node)\n",
        "                \n",
        "    list_test = vert        \n",
        "    return list_test"
      ],
      "execution_count": 1,
      "outputs": []
    },
    {
      "cell_type": "code",
      "metadata": {
        "id": "xjNUGUEwj0sW"
      },
      "source": [
        "graph = {\n",
        "        1: [5],\n",
        "        2: [1,4],\n",
        "        3: [5],\n",
        "        4: [5],\n",
        "        5: [3]\n",
        "    }"
      ],
      "execution_count": 31,
      "outputs": []
    },
    {
      "cell_type": "code",
      "metadata": {
        "colab": {
          "base_uri": "https://localhost:8080/"
        },
        "id": "LxvTjR-AlPiO",
        "outputId": "6aa4afe4-4a22-444f-b131-9b85cbb01d0f"
      },
      "source": [
        "list_test = []\n",
        "graph_func(graph, 2, list_test)\n",
        "list_test = graph_func(graph, 2, list_test)\n",
        "print(list_test)"
      ],
      "execution_count": 32,
      "outputs": [
        {
          "output_type": "stream",
          "text": [
            "[2, 1, 4, 5, 3]\n"
          ],
          "name": "stdout"
        }
      ]
    },
    {
      "cell_type": "code",
      "metadata": {
        "id": "fQqcUd39lUFW"
      },
      "source": [
        "def graph_func(graph, start_node, list_test):\n",
        "    vert = [start_node]          \n",
        "    q_list = [start_node]          \n",
        "    while q_list:                 \n",
        "        pop_node = q_list.pop(0)         \n",
        "        for node in graph[pop_node]:        \n",
        "            if node not in vert: \n",
        "                q_list.append(node)\n",
        "                vert.append(node)\n",
        "                \n",
        "    list_test = vert        \n",
        "    return list_test"
      ],
      "execution_count": 30,
      "outputs": []
    },
    {
      "cell_type": "code",
      "metadata": {
        "colab": {
          "base_uri": "https://localhost:8080/"
        },
        "id": "b1wW_4FMsWKg",
        "outputId": "7a839561-ea67-4b8f-d506-3cec22950524"
      },
      "source": [
        "print(list_test)"
      ],
      "execution_count": 33,
      "outputs": [
        {
          "output_type": "stream",
          "text": [
            "[2, 1, 4, 5, 3]\n"
          ],
          "name": "stdout"
        }
      ]
    },
    {
      "cell_type": "code",
      "metadata": {
        "colab": {
          "base_uri": "https://localhost:8080/"
        },
        "id": "Y59BrCmGtd4I",
        "outputId": "e06b8748-d277-4a1c-83c8-9d5ce0ddbd30"
      },
      "source": [
        "# 재귀를 활용한 DFS 구현하기\n",
        "\n",
        "dfs_graph = {   # 그래프를 인접리스트로 표현\n",
        "    16: [12,13],\n",
        "    12: [11,14],\n",
        "    13: [19],\n",
        "    11: [9],\n",
        "    9: [91,92],\n",
        "    91: [],\n",
        "    92: [],\n",
        "    14: [],\n",
        "    13: [19],\n",
        "    19: [15,20],\n",
        "    15: [],\n",
        "    20: [],\n",
        "}\n",
        "\n",
        "def dfs_recur(node, dfs_list=[]):\n",
        "  dfs_list.append(node)   # 리스트에 인접한 노드를 덧붙이는 형태\n",
        "\n",
        "  for i in dfs_graph[node]:   # 노드의 인접한 노드를 기준으로 반복한다. \n",
        "    if not i in dfs_list:\n",
        "      dfs_list = dfs_recur(i, dfs_list) # 재귀개념\n",
        "  return dfs_list\n",
        "\n",
        "dfs_recur(16)  # 시작노드"
      ],
      "execution_count": 1,
      "outputs": [
        {
          "output_type": "execute_result",
          "data": {
            "text/plain": [
              "[16, 12, 11, 9, 91, 92, 14, 13, 19, 15, 20]"
            ]
          },
          "metadata": {
            "tags": []
          },
          "execution_count": 1
        }
      ]
    },
    {
      "cell_type": "code",
      "metadata": {
        "id": "LV_mA2AdafkJ"
      },
      "source": [
        ""
      ],
      "execution_count": null,
      "outputs": []
    }
  ]
}