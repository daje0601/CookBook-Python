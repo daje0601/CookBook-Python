{
 "cells": [
  {
   "cell_type": "markdown",
   "metadata": {},
   "source": [
    "### 프로젝트 사전 준비과정\n",
    "\n",
    "월 - 유명했던 캐글 데이터를 직접 분석하여 기초적인 EDA 및 분석 방법을 터득한다.   \n",
    "화 - 담당자의 흥미를 유발하기 위해 좋아하는 LOL 게임 데이터를 활용하여 분석해본다.  \n",
    "수 - 아무리 고민을 해봐도 주택가격 예측은 너무 좋은 예로 사료되어 진지하게 EDA 및 분석을 진행하고자 한다.  \n",
    "목 - 미정  \n",
    "금 - 미정  \n",
    "  \n",
    "### 프로젝트 준비 과정 \n",
    "  * 미정  "
   ]
  },
  {
   "cell_type": "markdown",
   "metadata": {},
   "source": [
    " #### * 개요   \n",
    "  -. 저는 DS.ltd를 운영하고 있는 데이터사이언스 입니다.   \n",
    "  -. 제가 주로 운동하는 코스에는 점점 자전거 대여 및 자전거 관련 시설이   \n",
    "     증가하는 것을 관측하여 자전거 관련하여 예산 투자가 많이 이루어지고   \n",
    "     있다는 사실을 인지하였다.    \n",
    "  \n",
    "  -. 어느 날 자치도에서 각 시군별 자전거 관련하여 감사 및 적절성 평가를  \n",
    "     진행한다는 공문이 내려졌습니다.   \n",
    "  -. 이에, 시,군,동별 자전거 담당자는 DS.ltd에 급히 자전거분석을 요청하였습니다.   \n",
    "    \n",
    "  \n",
    " #### * 요청상세내역   \n",
    "  -. 현행되고 있는 \"자전거 활성화 사업\"은 외국의 사업모델을 밴치마킹하였습니다.   \n",
    "  -. 이에, 해외 사업모델을 기준으로 감사가 이루어질 예정입니다.   \n",
    "  -. 감사의 주된 목표는 과거 분석을 기반으로 예측이   \n",
    "     얼마나 적중하였는가 최종포인트입니다.   \n",
    "     \n",
    "  -. 이에, 해외 자전거 수요 분석을 중점적으로 분석하여 월별, 주말별 예측이   \n",
    "     얼마나 적중하였는지 확인하고자 합니다.   \n",
    "       \n",
    "         \n",
    "  **-. 여기서 검증데이터는 공공 데이터포털에 업로드된   \n",
    "     서울시 2019.12~2020.06까지의 데이터를 사용하여 체크토록 하겠습니다.**   "
   ]
  },
  {
   "cell_type": "code",
   "execution_count": null,
   "metadata": {},
   "outputs": [],
   "source": [
    "import pandas as pd\n",
    "import numpy as np\n",
    "import matplotlib.pyplot as plt\n",
    "import seanborn as sns\n",
    "from scipy import stats\n",
    "\n",
    "# 노트북 안에 그래프를 그리기 위해 \n",
    "%matplotlib inline\n",
    "\n",
    "# 그래프 스타일 지정 \n",
    "plt.style.use(\"ggplot\")\n",
    "\n",
    "# 그래프에서 마이너스 폰트 깨지는 문제를 방지하기 위한 코드 \n",
    "# 그래프에서 한글폰트가 깨지는걸 방지하기 위한 코드 \n",
    "\n",
    "def get_font_family():\n",
    "    \"\"\"\n",
    "    시스템 환경에 따른 기본 폰트명을 반환하는 함수\n",
    "    \"\"\"\n",
    "    import platform\n",
    "    system_name = platform.system()\n",
    "    # colab 사용자는 system_name이 'Linux'로 확인\n",
    "\n",
    "    if system_name == \"Darwin\" :\n",
    "        font_family = \"AppleGothic\"\n",
    "    elif system_name == \"Windows\":\n",
    "        font_family = \"Malgun Gothic\"\n",
    "    else:\n",
    "        # Linux\n",
    "        # colab에서는 runtime을 <꼭> 재시작 해야합니다.\n",
    "        # 런타임을 재시작 하지 않고 폰트 설치를 하면 기본 설정 폰트가 로드되어 한글이 깨집니다.\n",
    "        !apt-get update -qq\n",
    "        !apt-get install fonts-nanum -qq  > /dev/null\n",
    "\n",
    "        import matplotlib.font_manager as fm\n",
    "\n",
    "        fontpath = '/usr/share/fonts/truetype/nanum/NanumBarunGothic.ttf'\n",
    "        font = fm.FontProperties(fname=fontpath, size=9)\n",
    "        fm._rebuild()\n",
    "        font_family = \"NanumBarunGothic\"\n",
    "    return font_family\n",
    "\n",
    "font_family = get_font_family()\n",
    "plt.rc(\"font\", family=font_family)"
   ]
  },
  {
   "cell_type": "code",
   "execution_count": null,
   "metadata": {},
   "outputs": [],
   "source": []
  },
  {
   "cell_type": "code",
   "execution_count": null,
   "metadata": {},
   "outputs": [],
   "source": []
  },
  {
   "cell_type": "code",
   "execution_count": null,
   "metadata": {},
   "outputs": [],
   "source": []
  },
  {
   "cell_type": "code",
   "execution_count": null,
   "metadata": {},
   "outputs": [],
   "source": []
  },
  {
   "cell_type": "code",
   "execution_count": null,
   "metadata": {},
   "outputs": [],
   "source": []
  },
  {
   "cell_type": "code",
   "execution_count": null,
   "metadata": {},
   "outputs": [],
   "source": []
  },
  {
   "cell_type": "code",
   "execution_count": null,
   "metadata": {},
   "outputs": [],
   "source": []
  }
 ],
 "metadata": {
  "kernelspec": {
   "display_name": "Python 3",
   "language": "python",
   "name": "python3"
  },
  "language_info": {
   "codemirror_mode": {
    "name": "ipython",
    "version": 3
   },
   "file_extension": ".py",
   "mimetype": "text/x-python",
   "name": "python",
   "nbconvert_exporter": "python",
   "pygments_lexer": "ipython3",
   "version": "3.8.5"
  }
 },
 "nbformat": 4,
 "nbformat_minor": 4
}
