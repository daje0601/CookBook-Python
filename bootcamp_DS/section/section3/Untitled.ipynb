{
 "cells": [
  {
   "cell_type": "code",
   "execution_count": 1,
   "metadata": {},
   "outputs": [],
   "source": [
    "import warnings\n",
    "warnings.simplefilter(action='ignore', category=FutureWarning)"
   ]
  },
  {
   "cell_type": "code",
   "execution_count": 2,
   "metadata": {},
   "outputs": [],
   "source": [
    "# 데이터셋을 불러오기 위해 판다스 라이브러리를 불러옵니다\n",
    "import pandas as pd\n",
    "\n",
    "train_url = 'https://ds-lecture-data.s3.ap-northeast-2.amazonaws.com/food_inspection_sc23x/food_ins_train.csv'\n",
    "test_url  = 'https://ds-lecture-data.s3.ap-northeast-2.amazonaws.com/food_inspection_sc23x/food_ins_test.csv'\n",
    "\n",
    "# train, test 데이터셋을 불러옵니다\n",
    "train = pd.read_csv(train_url)\n",
    "test  = pd.read_csv(test_url)\n",
    "\n",
    "# 데이터셋 확인\n",
    "assert train.shape == (60000, 17)\n",
    "assert test.shape  == (20000, 17)"
   ]
  },
  {
   "cell_type": "code",
   "execution_count": 3,
   "metadata": {},
   "outputs": [
    {
     "data": {
      "text/html": [
       "<div>\n",
       "<style scoped>\n",
       "    .dataframe tbody tr th:only-of-type {\n",
       "        vertical-align: middle;\n",
       "    }\n",
       "\n",
       "    .dataframe tbody tr th {\n",
       "        vertical-align: top;\n",
       "    }\n",
       "\n",
       "    .dataframe thead th {\n",
       "        text-align: right;\n",
       "    }\n",
       "</style>\n",
       "<table border=\"1\" class=\"dataframe\">\n",
       "  <thead>\n",
       "    <tr style=\"text-align: right;\">\n",
       "      <th></th>\n",
       "      <th>Inspection ID</th>\n",
       "      <th>DBA Name</th>\n",
       "      <th>AKA Name</th>\n",
       "      <th>License #</th>\n",
       "      <th>Facility Type</th>\n",
       "      <th>Risk</th>\n",
       "      <th>Address</th>\n",
       "      <th>City</th>\n",
       "      <th>State</th>\n",
       "      <th>Zip</th>\n",
       "      <th>Inspection Date</th>\n",
       "      <th>Inspection Type</th>\n",
       "      <th>Violations</th>\n",
       "      <th>Latitude</th>\n",
       "      <th>Longitude</th>\n",
       "      <th>Location</th>\n",
       "      <th>Inspection Fail</th>\n",
       "    </tr>\n",
       "  </thead>\n",
       "  <tbody>\n",
       "    <tr>\n",
       "      <th>0</th>\n",
       "      <td>2050629</td>\n",
       "      <td>MY SWEET STATION INC</td>\n",
       "      <td>MY SWEET STATION</td>\n",
       "      <td>2327223.0</td>\n",
       "      <td>Restaurant</td>\n",
       "      <td>Risk 1 (High)</td>\n",
       "      <td>2511 N LINCOLN AVE</td>\n",
       "      <td>CHICAGO</td>\n",
       "      <td>IL</td>\n",
       "      <td>60614.0</td>\n",
       "      <td>2017-05-18</td>\n",
       "      <td>Canvass</td>\n",
       "      <td>NaN</td>\n",
       "      <td>41.927577</td>\n",
       "      <td>-87.651528</td>\n",
       "      <td>(-87.65152817242594, 41.92757677830966)</td>\n",
       "      <td>0</td>\n",
       "    </tr>\n",
       "    <tr>\n",
       "      <th>1</th>\n",
       "      <td>2078428</td>\n",
       "      <td>OUTTAKES</td>\n",
       "      <td>RED MANGO</td>\n",
       "      <td>2125004.0</td>\n",
       "      <td>Restaurant</td>\n",
       "      <td>Risk 2 (Medium)</td>\n",
       "      <td>10 S DEARBORN ST FL</td>\n",
       "      <td>CHICAGO</td>\n",
       "      <td>IL</td>\n",
       "      <td>60603.0</td>\n",
       "      <td>2017-08-14</td>\n",
       "      <td>Canvass</td>\n",
       "      <td>34. FLOORS: CONSTRUCTED PER CODE, CLEANED, GOO...</td>\n",
       "      <td>41.881807</td>\n",
       "      <td>-87.629543</td>\n",
       "      <td>(-87.62954311539407, 41.88180696006542)</td>\n",
       "      <td>0</td>\n",
       "    </tr>\n",
       "  </tbody>\n",
       "</table>\n",
       "</div>"
      ],
      "text/plain": [
       "   Inspection ID              DBA Name          AKA Name  License #  \\\n",
       "0        2050629  MY SWEET STATION INC  MY SWEET STATION  2327223.0   \n",
       "1        2078428              OUTTAKES         RED MANGO  2125004.0   \n",
       "\n",
       "  Facility Type             Risk               Address     City State  \\\n",
       "0    Restaurant    Risk 1 (High)   2511 N LINCOLN AVE   CHICAGO    IL   \n",
       "1    Restaurant  Risk 2 (Medium)  10 S DEARBORN ST FL   CHICAGO    IL   \n",
       "\n",
       "       Zip Inspection Date Inspection Type  \\\n",
       "0  60614.0      2017-05-18         Canvass   \n",
       "1  60603.0      2017-08-14         Canvass   \n",
       "\n",
       "                                          Violations   Latitude  Longitude  \\\n",
       "0                                                NaN  41.927577 -87.651528   \n",
       "1  34. FLOORS: CONSTRUCTED PER CODE, CLEANED, GOO...  41.881807 -87.629543   \n",
       "\n",
       "                                  Location  Inspection Fail  \n",
       "0  (-87.65152817242594, 41.92757677830966)                0  \n",
       "1  (-87.62954311539407, 41.88180696006542)                0  "
      ]
     },
     "execution_count": 3,
     "metadata": {},
     "output_type": "execute_result"
    }
   ],
   "source": [
    "train.head(2)"
   ]
  },
  {
   "cell_type": "code",
   "execution_count": 4,
   "metadata": {},
   "outputs": [
    {
     "data": {
      "text/plain": [
       "Index(['Inspection ID', 'DBA Name', 'AKA Name', 'License #', 'Facility Type',\n",
       "       'Risk', 'Address', 'City', 'State', 'Zip', 'Inspection Date',\n",
       "       'Inspection Type', 'Violations', 'Latitude', 'Longitude', 'Location',\n",
       "       'Inspection Fail'],\n",
       "      dtype='object')"
      ]
     },
     "execution_count": 4,
     "metadata": {},
     "output_type": "execute_result"
    }
   ],
   "source": [
    "train.columns"
   ]
  },
  {
   "cell_type": "code",
   "execution_count": 5,
   "metadata": {},
   "outputs": [],
   "source": [
    "for i in range(7):\n",
    "    train[f'Violation{i}'] = train.Violations.str.split('|').str[i]\n",
    "    train[f'Violation{i}'] = train[f'Violation{i}'].str[:2]\n",
    "    train[f'Violation{i}'] = pd.to_numeric(train[f'Violation{i}']).fillna(0)"
   ]
  },
  {
   "cell_type": "code",
   "execution_count": 6,
   "metadata": {
    "scrolled": true
   },
   "outputs": [],
   "source": [
    "for i in range(7):\n",
    "    test[f'Violation{i}'] = test.Violations.str.split('|').str[i]\n",
    "    test[f'Violation{i}'] = test[f'Violation{i}'].str[:2]\n",
    "    test[f'Violation{i}'] = pd.to_numeric(test[f'Violation{i}']).fillna(0)"
   ]
  },
  {
   "cell_type": "code",
   "execution_count": 7,
   "metadata": {
    "scrolled": true
   },
   "outputs": [
    {
     "data": {
      "text/plain": [
       "Index(['Inspection ID', 'DBA Name', 'AKA Name', 'License #', 'Facility Type',\n",
       "       'Risk', 'Address', 'City', 'State', 'Zip', 'Inspection Date',\n",
       "       'Inspection Type', 'Violations', 'Latitude', 'Longitude', 'Location',\n",
       "       'Inspection Fail', 'Violation0', 'Violation1', 'Violation2',\n",
       "       'Violation3', 'Violation4', 'Violation5', 'Violation6'],\n",
       "      dtype='object')"
      ]
     },
     "execution_count": 7,
     "metadata": {},
     "output_type": "execute_result"
    }
   ],
   "source": [
    "train.columns"
   ]
  },
  {
   "cell_type": "code",
   "execution_count": 8,
   "metadata": {},
   "outputs": [],
   "source": [
    "# risk에 대한 feature 변경 \n",
    "train.loc[(train.Risk ==\"Risk 1 (High)\"), \"Risk\"] = 3\n",
    "train.loc[(train.Risk =='Risk 2 (Medium)'), \"Risk\"] = 2\n",
    "train.loc[(train.Risk =='Risk 3 (Low)'), \"Risk\"] = 1\n",
    "train.loc[(train.Risk ==\"All\"), \"Risk\"] = 4\n",
    "\n",
    "test.loc[(train.Risk ==\"Risk 1 (High)\"), \"Risk\"] = 3\n",
    "test.loc[(train.Risk =='Risk 2 (Medium)'), \"Risk\"] = 2\n",
    "test.loc[(train.Risk =='Risk 3 (Low)'), \"Risk\"] = 1\n",
    "test.loc[(train.Risk ==\"All\"), \"Risk\"] = 4"
   ]
  },
  {
   "cell_type": "code",
   "execution_count": 9,
   "metadata": {},
   "outputs": [
    {
     "data": {
      "text/html": [
       "<div>\n",
       "<style scoped>\n",
       "    .dataframe tbody tr th:only-of-type {\n",
       "        vertical-align: middle;\n",
       "    }\n",
       "\n",
       "    .dataframe tbody tr th {\n",
       "        vertical-align: top;\n",
       "    }\n",
       "\n",
       "    .dataframe thead th {\n",
       "        text-align: right;\n",
       "    }\n",
       "</style>\n",
       "<table border=\"1\" class=\"dataframe\">\n",
       "  <thead>\n",
       "    <tr style=\"text-align: right;\">\n",
       "      <th></th>\n",
       "      <th>Inspection ID</th>\n",
       "      <th>DBA Name</th>\n",
       "      <th>AKA Name</th>\n",
       "      <th>License #</th>\n",
       "      <th>Facility Type</th>\n",
       "      <th>Risk</th>\n",
       "      <th>Address</th>\n",
       "      <th>City</th>\n",
       "      <th>State</th>\n",
       "      <th>Zip</th>\n",
       "      <th>...</th>\n",
       "      <th>Longitude</th>\n",
       "      <th>Location</th>\n",
       "      <th>Inspection Fail</th>\n",
       "      <th>Violation0</th>\n",
       "      <th>Violation1</th>\n",
       "      <th>Violation2</th>\n",
       "      <th>Violation3</th>\n",
       "      <th>Violation4</th>\n",
       "      <th>Violation5</th>\n",
       "      <th>Violation6</th>\n",
       "    </tr>\n",
       "  </thead>\n",
       "  <tbody>\n",
       "    <tr>\n",
       "      <th>0</th>\n",
       "      <td>2050629</td>\n",
       "      <td>MY SWEET STATION INC</td>\n",
       "      <td>MY SWEET STATION</td>\n",
       "      <td>2327223.0</td>\n",
       "      <td>Restaurant</td>\n",
       "      <td>3</td>\n",
       "      <td>2511 N LINCOLN AVE</td>\n",
       "      <td>CHICAGO</td>\n",
       "      <td>IL</td>\n",
       "      <td>60614.0</td>\n",
       "      <td>...</td>\n",
       "      <td>-87.651528</td>\n",
       "      <td>(-87.65152817242594, 41.92757677830966)</td>\n",
       "      <td>0</td>\n",
       "      <td>0.0</td>\n",
       "      <td>0.0</td>\n",
       "      <td>0.0</td>\n",
       "      <td>0.0</td>\n",
       "      <td>0.0</td>\n",
       "      <td>0.0</td>\n",
       "      <td>0.0</td>\n",
       "    </tr>\n",
       "    <tr>\n",
       "      <th>1</th>\n",
       "      <td>2078428</td>\n",
       "      <td>OUTTAKES</td>\n",
       "      <td>RED MANGO</td>\n",
       "      <td>2125004.0</td>\n",
       "      <td>Restaurant</td>\n",
       "      <td>2</td>\n",
       "      <td>10 S DEARBORN ST FL</td>\n",
       "      <td>CHICAGO</td>\n",
       "      <td>IL</td>\n",
       "      <td>60603.0</td>\n",
       "      <td>...</td>\n",
       "      <td>-87.629543</td>\n",
       "      <td>(-87.62954311539407, 41.88180696006542)</td>\n",
       "      <td>0</td>\n",
       "      <td>34.0</td>\n",
       "      <td>3.0</td>\n",
       "      <td>4.0</td>\n",
       "      <td>0.0</td>\n",
       "      <td>0.0</td>\n",
       "      <td>0.0</td>\n",
       "      <td>0.0</td>\n",
       "    </tr>\n",
       "  </tbody>\n",
       "</table>\n",
       "<p>2 rows × 24 columns</p>\n",
       "</div>"
      ],
      "text/plain": [
       "   Inspection ID              DBA Name          AKA Name  License #  \\\n",
       "0        2050629  MY SWEET STATION INC  MY SWEET STATION  2327223.0   \n",
       "1        2078428              OUTTAKES         RED MANGO  2125004.0   \n",
       "\n",
       "  Facility Type Risk               Address     City State      Zip  ...  \\\n",
       "0    Restaurant    3   2511 N LINCOLN AVE   CHICAGO    IL  60614.0  ...   \n",
       "1    Restaurant    2  10 S DEARBORN ST FL   CHICAGO    IL  60603.0  ...   \n",
       "\n",
       "   Longitude                                 Location Inspection Fail  \\\n",
       "0 -87.651528  (-87.65152817242594, 41.92757677830966)               0   \n",
       "1 -87.629543  (-87.62954311539407, 41.88180696006542)               0   \n",
       "\n",
       "   Violation0  Violation1 Violation2  Violation3  Violation4  Violation5  \\\n",
       "0         0.0         0.0        0.0         0.0         0.0         0.0   \n",
       "1        34.0         3.0        4.0         0.0         0.0         0.0   \n",
       "\n",
       "   Violation6  \n",
       "0         0.0  \n",
       "1         0.0  \n",
       "\n",
       "[2 rows x 24 columns]"
      ]
     },
     "execution_count": 9,
     "metadata": {},
     "output_type": "execute_result"
    }
   ],
   "source": [
    "train.head(2)"
   ]
  },
  {
   "cell_type": "code",
   "execution_count": 10,
   "metadata": {},
   "outputs": [
    {
     "data": {
      "text/plain": [
       "4"
      ]
     },
     "execution_count": 10,
     "metadata": {},
     "output_type": "execute_result"
    }
   ],
   "source": [
    "train[\"License #\"].isnull().sum()"
   ]
  },
  {
   "cell_type": "code",
   "execution_count": 11,
   "metadata": {},
   "outputs": [],
   "source": [
    "train = train.drop([\"Inspection ID\", \"Zip\", \"Location\"], axis=1)\n",
    "test = test.drop([\"Inspection ID\", \"Zip\", \"Location\"], axis=1)"
   ]
  },
  {
   "cell_type": "code",
   "execution_count": 12,
   "metadata": {},
   "outputs": [],
   "source": [
    "from category_encoders import OneHotEncoder # 테스트 목적을 위한 import\n",
    "from category_encoders import TargetEncoder # 테스트목적을 위한 import\n",
    "from sklearn.feature_selection import f_regression, SelectKBest\n",
    "from sklearn.impute import SimpleImputer\n",
    "from sklearn.linear_model import Ridge\n",
    "from sklearn.model_selection import cross_val_score\n",
    "from sklearn.pipeline import make_pipeline\n",
    "from sklearn.preprocessing import StandardScaler\n",
    "from sklearn.model_selection import train_test_split\n",
    "\n",
    "target = 'Inspection Fail'\n",
    "features = train.columns.drop([target])\n",
    "\n",
    "train, val = train_test_split(train, train_size=0.80, test_size=0.2, random_state=42)\n",
    "\n",
    "X_train = train[features]\n",
    "y_train = train[target]\n",
    "X_val = val[features]\n",
    "y_val = val[target]\n",
    "\n",
    "X_test = test[features]\n",
    "y_test = test[target]"
   ]
  },
  {
   "cell_type": "code",
   "execution_count": 13,
   "metadata": {},
   "outputs": [
    {
     "name": "stdout",
     "output_type": "stream",
     "text": [
      "[0]\tvalidation_0-rmse:0.42922\tvalidation_1-rmse:0.44614\n",
      "[1]\tvalidation_0-rmse:0.37537\tvalidation_1-rmse:0.39225\n",
      "[2]\tvalidation_0-rmse:0.33654\tvalidation_1-rmse:0.35351\n",
      "[3]\tvalidation_0-rmse:0.30904\tvalidation_1-rmse:0.32614\n",
      "[4]\tvalidation_0-rmse:0.28862\tvalidation_1-rmse:0.30561\n",
      "[5]\tvalidation_0-rmse:0.27498\tvalidation_1-rmse:0.29223\n",
      "[6]\tvalidation_0-rmse:0.26466\tvalidation_1-rmse:0.28230\n",
      "[7]\tvalidation_0-rmse:0.25712\tvalidation_1-rmse:0.27471\n",
      "[8]\tvalidation_0-rmse:0.25145\tvalidation_1-rmse:0.26897\n",
      "[9]\tvalidation_0-rmse:0.24704\tvalidation_1-rmse:0.26607\n",
      "[10]\tvalidation_0-rmse:0.24423\tvalidation_1-rmse:0.26350\n",
      "[11]\tvalidation_0-rmse:0.24164\tvalidation_1-rmse:0.26165\n",
      "[12]\tvalidation_0-rmse:0.23890\tvalidation_1-rmse:0.25910\n",
      "[13]\tvalidation_0-rmse:0.23683\tvalidation_1-rmse:0.25705\n",
      "[14]\tvalidation_0-rmse:0.23502\tvalidation_1-rmse:0.25567\n",
      "[15]\tvalidation_0-rmse:0.23368\tvalidation_1-rmse:0.25465\n",
      "[16]\tvalidation_0-rmse:0.23265\tvalidation_1-rmse:0.25440\n",
      "[17]\tvalidation_0-rmse:0.23178\tvalidation_1-rmse:0.25389\n",
      "[18]\tvalidation_0-rmse:0.23058\tvalidation_1-rmse:0.25285\n",
      "[19]\tvalidation_0-rmse:0.23006\tvalidation_1-rmse:0.25268\n",
      "[20]\tvalidation_0-rmse:0.22952\tvalidation_1-rmse:0.25219\n",
      "[21]\tvalidation_0-rmse:0.22817\tvalidation_1-rmse:0.25185\n",
      "[22]\tvalidation_0-rmse:0.22770\tvalidation_1-rmse:0.25182\n",
      "[23]\tvalidation_0-rmse:0.22737\tvalidation_1-rmse:0.25188\n",
      "[24]\tvalidation_0-rmse:0.22579\tvalidation_1-rmse:0.25060\n",
      "[25]\tvalidation_0-rmse:0.22472\tvalidation_1-rmse:0.25132\n",
      "[26]\tvalidation_0-rmse:0.22450\tvalidation_1-rmse:0.25124\n",
      "[27]\tvalidation_0-rmse:0.22389\tvalidation_1-rmse:0.25100\n",
      "[28]\tvalidation_0-rmse:0.22376\tvalidation_1-rmse:0.25101\n",
      "[29]\tvalidation_0-rmse:0.22326\tvalidation_1-rmse:0.25079\n",
      "[30]\tvalidation_0-rmse:0.22292\tvalidation_1-rmse:0.25080\n",
      "[31]\tvalidation_0-rmse:0.22272\tvalidation_1-rmse:0.25093\n",
      "[32]\tvalidation_0-rmse:0.22240\tvalidation_1-rmse:0.25097\n",
      "[33]\tvalidation_0-rmse:0.22144\tvalidation_1-rmse:0.25034\n",
      "[34]\tvalidation_0-rmse:0.22105\tvalidation_1-rmse:0.25021\n",
      "[35]\tvalidation_0-rmse:0.22072\tvalidation_1-rmse:0.25024\n",
      "[36]\tvalidation_0-rmse:0.21986\tvalidation_1-rmse:0.25016\n",
      "[37]\tvalidation_0-rmse:0.21947\tvalidation_1-rmse:0.25035\n",
      "[38]\tvalidation_0-rmse:0.21902\tvalidation_1-rmse:0.25032\n",
      "[39]\tvalidation_0-rmse:0.21887\tvalidation_1-rmse:0.25037\n",
      "[40]\tvalidation_0-rmse:0.21861\tvalidation_1-rmse:0.25037\n",
      "[41]\tvalidation_0-rmse:0.21829\tvalidation_1-rmse:0.25033\n",
      "[42]\tvalidation_0-rmse:0.21806\tvalidation_1-rmse:0.25043\n",
      "[43]\tvalidation_0-rmse:0.21764\tvalidation_1-rmse:0.25014\n",
      "[44]\tvalidation_0-rmse:0.21693\tvalidation_1-rmse:0.24986\n",
      "[45]\tvalidation_0-rmse:0.21685\tvalidation_1-rmse:0.24987\n",
      "[46]\tvalidation_0-rmse:0.21606\tvalidation_1-rmse:0.24998\n",
      "[47]\tvalidation_0-rmse:0.21596\tvalidation_1-rmse:0.24995\n",
      "[48]\tvalidation_0-rmse:0.21573\tvalidation_1-rmse:0.24998\n",
      "[49]\tvalidation_0-rmse:0.21533\tvalidation_1-rmse:0.25055\n",
      "[50]\tvalidation_0-rmse:0.21513\tvalidation_1-rmse:0.25059\n",
      "[51]\tvalidation_0-rmse:0.21482\tvalidation_1-rmse:0.25058\n",
      "[52]\tvalidation_0-rmse:0.21443\tvalidation_1-rmse:0.25055\n",
      "[53]\tvalidation_0-rmse:0.21407\tvalidation_1-rmse:0.25060\n",
      "[54]\tvalidation_0-rmse:0.21353\tvalidation_1-rmse:0.25082\n",
      "[55]\tvalidation_0-rmse:0.21321\tvalidation_1-rmse:0.25095\n",
      "[56]\tvalidation_0-rmse:0.21290\tvalidation_1-rmse:0.25095\n",
      "[57]\tvalidation_0-rmse:0.21238\tvalidation_1-rmse:0.25372\n",
      "[58]\tvalidation_0-rmse:0.21195\tvalidation_1-rmse:0.25391\n",
      "[59]\tvalidation_0-rmse:0.21182\tvalidation_1-rmse:0.25392\n",
      "[60]\tvalidation_0-rmse:0.21174\tvalidation_1-rmse:0.25390\n",
      "[61]\tvalidation_0-rmse:0.21147\tvalidation_1-rmse:0.25403\n",
      "[62]\tvalidation_0-rmse:0.21093\tvalidation_1-rmse:0.25409\n",
      "[63]\tvalidation_0-rmse:0.21081\tvalidation_1-rmse:0.25404\n",
      "[64]\tvalidation_0-rmse:0.21058\tvalidation_1-rmse:0.25400\n",
      "[65]\tvalidation_0-rmse:0.21029\tvalidation_1-rmse:0.25400\n",
      "[66]\tvalidation_0-rmse:0.21009\tvalidation_1-rmse:0.25400\n",
      "[67]\tvalidation_0-rmse:0.20981\tvalidation_1-rmse:0.25377\n",
      "[68]\tvalidation_0-rmse:0.20977\tvalidation_1-rmse:0.25376\n",
      "[69]\tvalidation_0-rmse:0.20945\tvalidation_1-rmse:0.25361\n",
      "[70]\tvalidation_0-rmse:0.20939\tvalidation_1-rmse:0.25361\n",
      "[71]\tvalidation_0-rmse:0.20878\tvalidation_1-rmse:0.25321\n",
      "[72]\tvalidation_0-rmse:0.20861\tvalidation_1-rmse:0.25323\n",
      "[73]\tvalidation_0-rmse:0.20832\tvalidation_1-rmse:0.25368\n",
      "[74]\tvalidation_0-rmse:0.20799\tvalidation_1-rmse:0.25366\n",
      "[75]\tvalidation_0-rmse:0.20784\tvalidation_1-rmse:0.25352\n",
      "[76]\tvalidation_0-rmse:0.20747\tvalidation_1-rmse:0.25356\n",
      "[77]\tvalidation_0-rmse:0.20720\tvalidation_1-rmse:0.25355\n",
      "[78]\tvalidation_0-rmse:0.20703\tvalidation_1-rmse:0.25354\n",
      "[79]\tvalidation_0-rmse:0.20692\tvalidation_1-rmse:0.25351\n",
      "[80]\tvalidation_0-rmse:0.20682\tvalidation_1-rmse:0.25352\n",
      "[81]\tvalidation_0-rmse:0.20663\tvalidation_1-rmse:0.25348\n",
      "[82]\tvalidation_0-rmse:0.20629\tvalidation_1-rmse:0.25355\n",
      "[83]\tvalidation_0-rmse:0.20600\tvalidation_1-rmse:0.25359\n",
      "[84]\tvalidation_0-rmse:0.20560\tvalidation_1-rmse:0.25359\n",
      "[85]\tvalidation_0-rmse:0.20540\tvalidation_1-rmse:0.25362\n",
      "[86]\tvalidation_0-rmse:0.20506\tvalidation_1-rmse:0.25367\n",
      "[87]\tvalidation_0-rmse:0.20459\tvalidation_1-rmse:0.25365\n",
      "[88]\tvalidation_0-rmse:0.20421\tvalidation_1-rmse:0.25362\n",
      "[89]\tvalidation_0-rmse:0.20405\tvalidation_1-rmse:0.25362\n",
      "[90]\tvalidation_0-rmse:0.20374\tvalidation_1-rmse:0.25368\n",
      "[91]\tvalidation_0-rmse:0.20346\tvalidation_1-rmse:0.25368\n",
      "[92]\tvalidation_0-rmse:0.20307\tvalidation_1-rmse:0.25372\n",
      "[93]\tvalidation_0-rmse:0.20289\tvalidation_1-rmse:0.25374\n",
      "[94]\tvalidation_0-rmse:0.20275\tvalidation_1-rmse:0.25376\n"
     ]
    },
    {
     "data": {
      "text/plain": [
       "XGBRegressor(base_score=0.5, booster='gbtree', colsample_bylevel=1,\n",
       "             colsample_bynode=1, colsample_bytree=1, gamma=0, gpu_id=-1,\n",
       "             importance_type='gain', interaction_constraints='',\n",
       "             learning_rate=0.2, max_delta_step=0, max_depth=6,\n",
       "             min_child_weight=1, missing=nan, monotone_constraints='()',\n",
       "             n_estimators=1000, n_jobs=-1, num_parallel_tree=1, random_state=0,\n",
       "             reg_alpha=0, reg_lambda=1, scale_pos_weight=1, subsample=1,\n",
       "             tree_method='exact', validate_parameters=1, verbosity=None)"
      ]
     },
     "execution_count": 13,
     "metadata": {},
     "output_type": "execute_result"
    }
   ],
   "source": [
    "from category_encoders import OrdinalEncoder\n",
    "from sklearn.metrics import r2_score\n",
    "from xgboost import XGBRegressor\n",
    "\n",
    "encoder = OrdinalEncoder()\n",
    "X_train_encoded = encoder.fit_transform(X_train) # 학습데이터\n",
    "X_val_encoded = encoder.transform(X_val) # 검증데이터\n",
    "\n",
    "boosting = XGBRegressor(\n",
    "    n_estimators=1000,\n",
    "    objective='reg:squarederror', # default\n",
    "    learning_rate=0.2,\n",
    "    n_jobs=-1\n",
    ")\n",
    "\n",
    "eval_set = [(X_train_encoded, y_train), \n",
    "            (X_val_encoded, y_val)]\n",
    "\n",
    "boosting.fit(X_train_encoded, y_train, \n",
    "          eval_set=eval_set,\n",
    "          early_stopping_rounds=50\n",
    "         )\n"
   ]
  },
  {
   "cell_type": "code",
   "execution_count": 14,
   "metadata": {},
   "outputs": [
    {
     "name": "stdout",
     "output_type": "stream",
     "text": [
      "R^2 0.603689303540047\n"
     ]
    }
   ],
   "source": [
    "y_pred = boosting.predict(X_val_encoded)\n",
    "print('R^2', r2_score(y_val, y_pred))"
   ]
  },
  {
   "cell_type": "code",
   "execution_count": 15,
   "metadata": {},
   "outputs": [
    {
     "name": "stdout",
     "output_type": "stream",
     "text": [
      "rf 훈련세트 정확도 0.9202291666666667\n",
      "rf 훈련세트 f1 score 0.7959499067412736\n"
     ]
    }
   ],
   "source": [
    "from sklearn.pipeline import make_pipeline\n",
    "from sklearn.tree import DecisionTreeClassifier\n",
    "from sklearn.ensemble import RandomForestClassifier\n",
    "from sklearn.impute import SimpleImputer\n",
    "from category_encoders import OrdinalEncoder\n",
    "from sklearn.metrics import accuracy_score\n",
    "from sklearn.metrics import f1_score\n",
    "\n",
    "pipe_rf_tag = make_pipeline(\n",
    "    TargetEncoder(), \n",
    "    SimpleImputer(), \n",
    "    RandomForestClassifier(max_depth=6,\n",
    "                          criterion='entropy',\n",
    "                          n_jobs=-1,\n",
    "                          min_samples_leaf=3,\n",
    "                          random_state=100)\n",
    ")\n",
    "\n",
    "pipe_rf_tag.fit(X_train, y_train)\n",
    "print('rf 훈련세트 정확도', pipe_rf_tag.score(X_train, y_train))\n",
    "print('rf 훈련세트 f1 score', f1_score(y_train, pipe_rf_tag.predict(X_train)))"
   ]
  },
  {
   "cell_type": "code",
   "execution_count": 16,
   "metadata": {},
   "outputs": [
    {
     "name": "stdout",
     "output_type": "stream",
     "text": [
      "rf 훈련세트 정확도 0.8892916666666667\n",
      "rf 훈련세트 f1 score 0.6697738006462838\n"
     ]
    }
   ],
   "source": [
    "from sklearn.pipeline import make_pipeline\n",
    "from sklearn.tree import DecisionTreeClassifier\n",
    "from sklearn.ensemble import RandomForestClassifier\n",
    "from sklearn.impute import SimpleImputer\n",
    "from category_encoders import OrdinalEncoder\n",
    "from sklearn.metrics import accuracy_score\n",
    "from sklearn.metrics import f1_score\n",
    "from sklearn.linear_model import Ridge\n",
    "\n",
    "pipe_rf_ordi = make_pipeline(\n",
    "    OrdinalEncoder(), \n",
    "    SimpleImputer(), \n",
    "    RandomForestClassifier(max_depth=6,\n",
    "                          criterion='entropy',\n",
    "                          n_jobs=-1,\n",
    "                          min_samples_leaf=3,\n",
    "                          random_state=100)\n",
    ")\n",
    "\n",
    "pipe_rf_ordi.fit(X_train, y_train)\n",
    "print('rf 훈련세트 정확도', pipe_rf_ordi.score(X_train, y_train))\n",
    "print('rf 훈련세트 f1 score', f1_score(y_train, pipe_rf_ordi.predict(X_train)))"
   ]
  },
  {
   "cell_type": "code",
   "execution_count": 17,
   "metadata": {},
   "outputs": [
    {
     "name": "stdout",
     "output_type": "stream",
     "text": [
      "rf 훈련세트 정확도 0.8892916666666667\n",
      "rf 훈련세트 f1 score 0.6697738006462838\n"
     ]
    }
   ],
   "source": [
    "pipe_rf_ordi.fit(X_train, y_train)\n",
    "print('rf 훈련세트 정확도', pipe_rf_ordi.score(X_train, y_train))\n",
    "print('rf 훈련세트 f1 score', f1_score(y_train, pipe_rf_ordi.predict(X_train)))"
   ]
  },
  {
   "cell_type": "code",
   "execution_count": 18,
   "metadata": {},
   "outputs": [
    {
     "name": "stdout",
     "output_type": "stream",
     "text": [
      "pipe_rf_tag 훈련 정확도 :  0.9202291666666667\n",
      "pipe_rf_tag 검증 정확도 :  0.8486666666666667\n",
      "pipe_rf_ordi 훈련 정확도 :  0.8892916666666667\n",
      "pipe_rf_ordi 검증 정확도 :  0.8695833333333334\n"
     ]
    }
   ],
   "source": [
    "print('pipe_rf_tag 훈련 정확도 : ',pipe_rf_tag.score(X_train, y_train))\n",
    "print('pipe_rf_tag 검증 정확도 : ',pipe_rf_tag.score(X_val, y_val))\n",
    "print('pipe_rf_ordi 훈련 정확도 : ',pipe_rf_ordi.score(X_train, y_train))\n",
    "print('pipe_rf_ordi 검증 정확도 : ',pipe_rf_ordi.score(X_val, y_val))"
   ]
  },
  {
   "cell_type": "code",
   "execution_count": 19,
   "metadata": {},
   "outputs": [
    {
     "name": "stdout",
     "output_type": "stream",
     "text": [
      "pipe_rf_tag 훈련 f1 score :  0.7959499067412736\n",
      "pipe_rf_tag 검증 f1 score :  0.5551200391964722\n",
      "pipe_rf_ordi 훈련 f1 score :  0.6697738006462838\n",
      "pipe_rf_ordi 검증 f1 score :  0.5433323606653049\n"
     ]
    }
   ],
   "source": [
    "print('pipe_rf_tag 훈련 f1 score : ',f1_score(y_train, pipe_rf_tag.predict(X_train)))\n",
    "print('pipe_rf_tag 검증 f1 score : ',f1_score(y_val, pipe_rf_tag.predict(X_val)))\n",
    "print('pipe_rf_ordi 훈련 f1 score : ',f1_score(y_train, pipe_rf_ordi.predict(X_train)))\n",
    "print('pipe_rf_ordi 검증 f1 score : ',f1_score(y_val, pipe_rf_ordi.predict(X_val)))"
   ]
  },
  {
   "cell_type": "code",
   "execution_count": null,
   "metadata": {},
   "outputs": [],
   "source": []
  }
 ],
 "metadata": {
  "kernelspec": {
   "display_name": "Python 3",
   "language": "python",
   "name": "python3"
  },
  "language_info": {
   "codemirror_mode": {
    "name": "ipython",
    "version": 3
   },
   "file_extension": ".py",
   "mimetype": "text/x-python",
   "name": "python",
   "nbconvert_exporter": "python",
   "pygments_lexer": "ipython3",
   "version": "3.8.5"
  }
 },
 "nbformat": 4,
 "nbformat_minor": 4
}
