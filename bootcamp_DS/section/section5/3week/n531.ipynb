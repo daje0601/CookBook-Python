{
  "nbformat": 4,
  "nbformat_minor": 0,
  "metadata": {
    "colab": {
      "name": "n531.ipynb",
      "provenance": [],
      "authorship_tag": "ABX9TyP0lOoOVL51ZIdgZ+eFo9kq",
      "include_colab_link": true
    },
    "kernelspec": {
      "name": "python3",
      "display_name": "Python 3"
    },
    "language_info": {
      "name": "python"
    }
  },
  "cells": [
    {
      "cell_type": "markdown",
      "metadata": {
        "id": "view-in-github",
        "colab_type": "text"
      },
      "source": [
        "<a href=\"https://colab.research.google.com/github/daje0601/pandas_study/blob/main/n531.ipynb\" target=\"_parent\"><img src=\"https://colab.research.google.com/assets/colab-badge.svg\" alt=\"Open In Colab\"/></a>"
      ]
    },
    {
      "cell_type": "code",
      "metadata": {
        "colab": {
          "base_uri": "https://localhost:8080/"
        },
        "id": "BqtTFnIQUO7O",
        "outputId": "73c510fc-58ba-4990-ee21-36c656039c06"
      },
      "source": [
        "test_code = {2.5: 'A' ,'2.0': 'B', '1.0': 'C'}\n",
        "print(test_code[2.5]) \n",
        "print(test_code['1.0'])\n",
        "print(test_code['2.0'])"
      ],
      "execution_count": 1,
      "outputs": [
        {
          "output_type": "stream",
          "text": [
            "A\n",
            "C\n",
            "B\n"
          ],
          "name": "stdout"
        }
      ]
    },
    {
      "cell_type": "code",
      "metadata": {
        "colab": {
          "base_uri": "https://localhost:8080/",
          "height": 69
        },
        "id": "R-GC7TuKUUeO",
        "outputId": "7773ff44-8981-4541-a527-b48c7da0a1fd"
      },
      "source": [
        "# case 2 - 리스트와 튜플을 활용해서 해시테이블을 확인한다.\n",
        "# 데이터는 튜플로 저장된다.\n",
        "\n",
        "test_code = [(2.5, 'A'), ('2.0', 'B'), ('1.0', 'C')]\n",
        " \n",
        "def insert(item_list, key, value):\n",
        "    item_list.append((key, value))\n",
        " \n",
        "def search(item_list, key):\n",
        "    for item in item_list:    # 데이터를 검색하려면 딕셔너리보다 오래 걸린다.(키,값 쌍이 없어서 개별 값으로 반복해서 검색하기 때문이다.)\n",
        "        if item[0] == key:\n",
        "            return item[1]      \n",
        "    print('not matching')       \n",
        "    \n",
        "print(search(test_code, '2.0'))\n",
        "print(search(test_code, 2.5))\n",
        "search(test_code, 2.5)   "
      ],
      "execution_count": 2,
      "outputs": [
        {
          "output_type": "stream",
          "text": [
            "B\n",
            "A\n"
          ],
          "name": "stdout"
        },
        {
          "output_type": "execute_result",
          "data": {
            "application/vnd.google.colaboratory.intrinsic+json": {
              "type": "string"
            },
            "text/plain": [
              "'A'"
            ]
          },
          "metadata": {
            "tags": []
          },
          "execution_count": 2
        }
      ]
    },
    {
      "cell_type": "code",
      "metadata": {
        "colab": {
          "base_uri": "https://localhost:8080/"
        },
        "id": "wjQjrcUqUYyi",
        "outputId": "1b5ea521-1ee3-4e09-e356-52ef30d83a8f"
      },
      "source": [
        "# 먼저 값이 없는 딕셔너리를 선언한다.\n",
        "dict = {}\n",
        "\n",
        "# 값추가\n",
        "dict['a'] = 1\n",
        "dict['b'] = 2\n",
        "dict['c'] = 3\n",
        "dict"
      ],
      "execution_count": 3,
      "outputs": [
        {
          "output_type": "execute_result",
          "data": {
            "text/plain": [
              "{'a': 1, 'b': 2, 'c': 3}"
            ]
          },
          "metadata": {
            "tags": []
          },
          "execution_count": 3
        }
      ]
    },
    {
      "cell_type": "code",
      "metadata": {
        "colab": {
          "base_uri": "https://localhost:8080/"
        },
        "id": "Q72YBxiWUmpf",
        "outputId": "1e570d56-8930-4889-f0f4-6258789e76b1"
      },
      "source": [
        "# 아래와 같이 키를 통해 값을 알 수 있다.\n",
        "dict['c']"
      ],
      "execution_count": 4,
      "outputs": [
        {
          "output_type": "execute_result",
          "data": {
            "text/plain": [
              "3"
            ]
          },
          "metadata": {
            "tags": []
          },
          "execution_count": 4
        }
      ]
    },
    {
      "cell_type": "code",
      "metadata": {
        "colab": {
          "base_uri": "https://localhost:8080/"
        },
        "id": "edXUXL0BUpHp",
        "outputId": "eedeaf9c-1d55-44c4-daed-cadc3c35d26d"
      },
      "source": [
        "# 해시테이블에 반복문을 적용시켜보자.\n",
        "\n",
        "for key in dict.keys():\n",
        "  print(dict[key])\n",
        "\n",
        "# (키,값) 쌍을 출력해본다.\n",
        "\n",
        "for key, value in dict.items():\n",
        "  print('(키',key,',','값',value,')')"
      ],
      "execution_count": 5,
      "outputs": [
        {
          "output_type": "stream",
          "text": [
            "1\n",
            "2\n",
            "3\n",
            "(키 a , 값 1 )\n",
            "(키 b , 값 2 )\n",
            "(키 c , 값 3 )\n"
          ],
          "name": "stdout"
        }
      ]
    },
    {
      "cell_type": "code",
      "metadata": {
        "colab": {
          "base_uri": "https://localhost:8080/"
        },
        "id": "H8R3hPv9V_hw",
        "outputId": "d3161153-e936-4aae-e16e-415988f923f8"
      },
      "source": [
        "# 해시테이블의 기본 구조\n",
        "# 빈 값이 있는 사이즈가 5인 해시테이블을 생성해본다.\n",
        "\n",
        "hashtable = [None] * 5\n",
        "print(hashtable)"
      ],
      "execution_count": 6,
      "outputs": [
        {
          "output_type": "stream",
          "text": [
            "[None, None, None, None, None]\n"
          ],
          "name": "stdout"
        }
      ]
    },
    {
      "cell_type": "code",
      "metadata": {
        "colab": {
          "base_uri": "https://localhost:8080/"
        },
        "id": "v4MQBObuV_1O",
        "outputId": "7944cd6f-8f05-4051-f3d6-9fe3a998ef4a"
      },
      "source": [
        "# 위의 해시테이블과 연결지어 해시함수를 만들어볼 수 있다.\n",
        "\n",
        "def hash_function(key):\n",
        "    return key % len(hashtable)\n",
        " \n",
        "print(hash_function(10)) \n",
        "print(hash_function(20)) \n",
        "print(hash_function(31)) "
      ],
      "execution_count": 7,
      "outputs": [
        {
          "output_type": "stream",
          "text": [
            "0\n",
            "0\n",
            "1\n"
          ],
          "name": "stdout"
        }
      ]
    },
    {
      "cell_type": "code",
      "metadata": {
        "colab": {
          "base_uri": "https://localhost:8080/"
        },
        "id": "KyVdtuMVWCnE",
        "outputId": "5818d997-2e85-43f6-98e5-2c730e3dfd65"
      },
      "source": [
        "# 해시테이블에 데이터를 삽입해볼 수 있다.\n",
        "\n",
        "def insert_hash(hashtable, key, value):\n",
        "    hash_key = hash_function(key)\n",
        "    hashtable[hash_key] = value \n",
        "\n",
        "insert_hash(hashtable, 10, 'A')   # 해시함수로 계산되어 0번째 인덱스에 A가 삽입됨\n",
        "print(hashtable)\n",
        " \n",
        "insert_hash(hashtable,23 , 'B')   # 3번째 인덱스에 B가 삽입됨\n",
        "print(hashtable)"
      ],
      "execution_count": 8,
      "outputs": [
        {
          "output_type": "stream",
          "text": [
            "['A', None, None, None, None]\n",
            "['A', None, None, 'B', None]\n"
          ],
          "name": "stdout"
        }
      ]
    },
    {
      "cell_type": "code",
      "metadata": {
        "colab": {
          "base_uri": "https://localhost:8080/"
        },
        "id": "G2BxPD5oWRVq",
        "outputId": "3955cf83-b12b-474a-e8be-4f8bc3264a66"
      },
      "source": [
        "# 위의 예시를 활용해서 충돌이 일어나는 상황을 살펴보자.\n",
        "\n",
        "# 현재 0번째 인덱스에 A, 3번째 인덱스에 B가 저장되어있다.\n",
        "# 아래와 같이 해시함수를 통해 계산된 0번째 인덱스에 'Collision' 값을 삽입할 경우, 충돌이 발생한다.\n",
        "# 그리고 'A'값은 'Collision'으로 대체(충돌)된다.\n",
        "insert_hash(hashtable, 20, 'Collision')\n",
        "print(hashtable)"
      ],
      "execution_count": 9,
      "outputs": [
        {
          "output_type": "stream",
          "text": [
            "['Collision', None, None, 'B', None]\n"
          ],
          "name": "stdout"
        }
      ]
    },
    {
      "cell_type": "code",
      "metadata": {
        "colab": {
          "base_uri": "https://localhost:8080/"
        },
        "id": "kWwnbzp1WbsI",
        "outputId": "13cdf557-4c44-4915-cce5-73affd586b1d"
      },
      "source": [
        "# 체이닝을 예시코드로 배워보자.\n",
        "# 아래와 같이 리스트안에 중첩되는 리스트를 만들어서 연결개념으로 해시테이블을 생성한다.\n",
        "\n",
        "chain_hash_table = [[] for _ in range(10)]  # 이번에는 10의 길이로 테스트를 진행한다.(0~9, 총 10개의 인덱스)\n",
        "print(chain_hash_table)"
      ],
      "execution_count": 10,
      "outputs": [
        {
          "output_type": "stream",
          "text": [
            "[[], [], [], [], [], [], [], [], [], []]\n"
          ],
          "name": "stdout"
        }
      ]
    },
    {
      "cell_type": "code",
      "metadata": {
        "colab": {
          "base_uri": "https://localhost:8080/"
        },
        "id": "RrtZ9-rSZtLo",
        "outputId": "29397071-d178-4d33-eeed-ad88893ed937"
      },
      "source": [
        "len(chain_hash_table)"
      ],
      "execution_count": 13,
      "outputs": [
        {
          "output_type": "execute_result",
          "data": {
            "text/plain": [
              "10"
            ]
          },
          "metadata": {
            "tags": []
          },
          "execution_count": 13
        }
      ]
    },
    {
      "cell_type": "code",
      "metadata": {
        "colab": {
          "base_uri": "https://localhost:8080/"
        },
        "id": "vVJZfmyFZpvn",
        "outputId": "fd4757c6-bb2c-42c3-d4d0-fd8c1a802466"
      },
      "source": [
        "# 해시함수는 위와 동일하게 테스트할 수 있다.\n",
        "\n",
        "def chain_hash_func(key):\n",
        "    return key % len(chain_hash_table)\n",
        " \n",
        "print(chain_hash_func(10)) \n",
        "print(chain_hash_func(20)) \n",
        "print(chain_hash_func(25)) "
      ],
      "execution_count": 15,
      "outputs": [
        {
          "output_type": "stream",
          "text": [
            "0\n",
            "0\n",
            "5\n"
          ],
          "name": "stdout"
        }
      ]
    },
    {
      "cell_type": "code",
      "metadata": {
        "colab": {
          "base_uri": "https://localhost:8080/"
        },
        "id": "3G70IZGraI1j",
        "outputId": "949517d5-e2c4-4645-a758-a29fd9965097"
      },
      "source": [
        "# append를 활용해서 키-값 쌍을 해시테이블에 삽입한다.\n",
        "\n",
        "def chain_insert_func(chain_hash_table, key, value):\n",
        "    hash_key = chain_hash_func(key)\n",
        "    chain_hash_table[hash_key].extend(value)\n",
        "    \n",
        "chain_insert_func(chain_hash_table, 10, 'A')\n",
        "print (chain_hash_table)\n",
        "\n",
        "chain_insert_func(chain_hash_table, 25, 'B')    # 5번째 인덱스에 B가 삽입된다.\n",
        "print (chain_hash_table)\n",
        "\n",
        "# 아래 결과값과 같이 중첩되는 결과값이 있더라도 값이 대체(충돌)되는 것이 아니다.\n",
        "# 리스트 메소드 개념(list.append)이 활용되어 값을 이어 붙인다.('A' -> 'C')\n",
        "chain_insert_func(chain_hash_table, 20, 'C')    \n",
        "print (chain_hash_table)"
      ],
      "execution_count": 16,
      "outputs": [
        {
          "output_type": "stream",
          "text": [
            "[['A'], [], [], [], [], [], [], [], [], []]\n",
            "[['A'], [], [], [], [], ['B'], [], [], [], []]\n",
            "[['A', 'C'], [], [], [], [], ['B'], [], [], [], []]\n"
          ],
          "name": "stdout"
        }
      ]
    },
    {
      "cell_type": "code",
      "metadata": {
        "id": "3DM-sowAaJE4"
      },
      "source": [
        ""
      ],
      "execution_count": null,
      "outputs": []
    }
  ]
}