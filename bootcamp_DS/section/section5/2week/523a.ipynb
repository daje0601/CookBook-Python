{
  "nbformat": 4,
  "nbformat_minor": 0,
  "metadata": {
    "colab": {
      "name": "523a.ipynb",
      "provenance": [],
      "collapsed_sections": [],
      "authorship_tag": "ABX9TyMTpttreslF+fmjHLTYDJC/",
      "include_colab_link": true
    },
    "kernelspec": {
      "name": "python3",
      "display_name": "Python 3"
    },
    "language_info": {
      "name": "python"
    }
  },
  "cells": [
    {
      "cell_type": "markdown",
      "metadata": {
        "id": "view-in-github",
        "colab_type": "text"
      },
      "source": [
        "<a href=\"https://colab.research.google.com/github/daje0601/pandas_study/blob/main/523a.ipynb\" target=\"_parent\"><img src=\"https://colab.research.google.com/assets/colab-badge.svg\" alt=\"Open In Colab\"/></a>"
      ]
    },
    {
      "cell_type": "code",
      "metadata": {
        "colab": {
          "base_uri": "https://localhost:8080/"
        },
        "id": "EK3JJmGBp0x0",
        "outputId": "6229afc8-78bc-4a69-a8c0-668a83baf2bf"
      },
      "source": [
        "# 인트로 코딩\n",
        "\n",
        "intro_list=[]     # 리스트 생성\n",
        "for div_number in range(2000, 3201):    # 반복문\n",
        "    if (div_number%7==0) and (div_number%5!=0): # 조건문, and 조건\n",
        "        intro_list.append(str(div_number))      # 리스트 메소드 append 사용, 파이썬 내장함수 str 사용\n",
        "\n",
        "print(','.join(intro_list))   # 리스트 메소드 join 사용"
      ],
      "execution_count": null,
      "outputs": [
        {
          "output_type": "stream",
          "text": [
            "2002,2009,2016,2023,2037,2044,2051,2058,2072,2079,2086,2093,2107,2114,2121,2128,2142,2149,2156,2163,2177,2184,2191,2198,2212,2219,2226,2233,2247,2254,2261,2268,2282,2289,2296,2303,2317,2324,2331,2338,2352,2359,2366,2373,2387,2394,2401,2408,2422,2429,2436,2443,2457,2464,2471,2478,2492,2499,2506,2513,2527,2534,2541,2548,2562,2569,2576,2583,2597,2604,2611,2618,2632,2639,2646,2653,2667,2674,2681,2688,2702,2709,2716,2723,2737,2744,2751,2758,2772,2779,2786,2793,2807,2814,2821,2828,2842,2849,2856,2863,2877,2884,2891,2898,2912,2919,2926,2933,2947,2954,2961,2968,2982,2989,2996,3003,3017,3024,3031,3038,3052,3059,3066,3073,3087,3094,3101,3108,3122,3129,3136,3143,3157,3164,3171,3178,3192,3199\n"
          ],
          "name": "stdout"
        }
      ]
    },
    {
      "cell_type": "markdown",
      "metadata": {
        "id": "ISYlnTQmqBOo"
      },
      "source": [
        "str을 왜 사용한거지?  \n",
        "str을 사용하지 않으면 join을 쓸 수 없다. \n"
      ]
    },
    {
      "cell_type": "code",
      "metadata": {
        "colab": {
          "base_uri": "https://localhost:8080/",
          "height": 198
        },
        "id": "koWPPmyVp1sr",
        "outputId": "07e38d14-5398-4f5e-b90a-02ccbe55748e"
      },
      "source": [
        "# str을 제거하였을 때 실행되는지 여부를 확인하는 코드 \n",
        "\n",
        "intro_list=[]     # 리스트 생성\n",
        "for div_number in range(2000, 3201):    # 반복문\n",
        "    if (div_number%7==0) and (div_number%5!=0): # 조건문, and 조건\n",
        "        intro_list.append(div_number)    # 리스트 메소드 append 사용, 파이썬 내장함수 str 사용\n",
        "\n",
        "print(','.join(intro_list))   # 리스트 메소드 join 사용"
      ],
      "execution_count": null,
      "outputs": [
        {
          "output_type": "error",
          "ename": "TypeError",
          "evalue": "ignored",
          "traceback": [
            "\u001b[0;31m---------------------------------------------------------------------------\u001b[0m",
            "\u001b[0;31mTypeError\u001b[0m                                 Traceback (most recent call last)",
            "\u001b[0;32m<ipython-input-5-5741789ef07a>\u001b[0m in \u001b[0;36m<module>\u001b[0;34m()\u001b[0m\n\u001b[1;32m      6\u001b[0m         \u001b[0mintro_list\u001b[0m\u001b[0;34m.\u001b[0m\u001b[0mappend\u001b[0m\u001b[0;34m(\u001b[0m\u001b[0mdiv_number\u001b[0m\u001b[0;34m)\u001b[0m    \u001b[0;31m# 리스트 메소드 append 사용, 파이썬 내장함수 str 사용\u001b[0m\u001b[0;34m\u001b[0m\u001b[0;34m\u001b[0m\u001b[0m\n\u001b[1;32m      7\u001b[0m \u001b[0;34m\u001b[0m\u001b[0m\n\u001b[0;32m----> 8\u001b[0;31m \u001b[0mprint\u001b[0m\u001b[0;34m(\u001b[0m\u001b[0;34m','\u001b[0m\u001b[0;34m.\u001b[0m\u001b[0mjoin\u001b[0m\u001b[0;34m(\u001b[0m\u001b[0mintro_list\u001b[0m\u001b[0;34m)\u001b[0m\u001b[0;34m)\u001b[0m   \u001b[0;31m# 리스트 메소드 join 사용\u001b[0m\u001b[0;34m\u001b[0m\u001b[0;34m\u001b[0m\u001b[0m\n\u001b[0m",
            "\u001b[0;31mTypeError\u001b[0m: sequence item 0: expected str instance, int found"
          ]
        }
      ]
    },
    {
      "cell_type": "code",
      "metadata": {
        "colab": {
          "base_uri": "https://localhost:8080/"
        },
        "id": "RfGg-17mqE6x",
        "outputId": "247a8dbe-fc08-4a5c-f577-3f4da46f395d"
      },
      "source": [
        "# 입력된 소문자알파벳의 위치를 찾아보자.\n",
        "\n",
        "character = input()\n",
        "for i in range(26):   # 알파벳갯수만큼 반복\n",
        "  word = character.find(chr(i+97))  # chr 메소드 사용\n",
        "  #replace_word = word.replace('-1', 'F')\n",
        "\n",
        "  print(word, end = \" \")   # 아스키코드가 97~122(a~z)인 경우, 영어소문자단어를 나타냄"
      ],
      "execution_count": null,
      "outputs": [
        {
          "output_type": "stream",
          "text": [
            "q\n",
            "-1 -1 -1 -1 -1 -1 -1 -1 -1 -1 -1 -1 -1 -1 -1 -1 0 -1 -1 -1 -1 -1 -1 -1 -1 -1 "
          ],
          "name": "stdout"
        }
      ]
    },
    {
      "cell_type": "code",
      "metadata": {
        "colab": {
          "base_uri": "https://localhost:8080/"
        },
        "id": "B7u3652nq0-y",
        "outputId": "90c54eaf-91a1-459f-863c-8cdd2bf64a7e"
      },
      "source": [
        "# 라면끓이기를 코드로 작성하자.\n",
        "\n",
        "# 아래 소스코드는 하나의 함수에 모든 기능을 넣었기 때문에 if조건문이 반복된다.\n",
        "# 조건이 적은 경우에는 하나의 함수를 활용하는 것이 좋지만, 조건이 많아지는 경우에는 적절한 함수구분이 필요하다.\n",
        "\n",
        "def making_noodle():\n",
        "\n",
        "  # 0 step\n",
        "  noodle = 0\n",
        "  egg = 0\n",
        "  GreenOnion = 0\n",
        "  pot = 0\n",
        "  water = 0\n",
        "  result_noodle = 1\n",
        "\n",
        "  # 1 step\n",
        "  water = 2\n",
        "  print(\"===============\")\n",
        "  print(\"step 1 : 물을 붇는다.\")\n",
        "\n",
        "  # 2 step\n",
        "  if water == 2:\n",
        "    print(\"===============\")\n",
        "    print('step 2 : 대파와 라면을 넣는다.')\n",
        "    print(\"===============\")\n",
        "    GreenOnion = 1\n",
        "    noodle = 1\n",
        "\n",
        "  # 3 step  \n",
        "  if GreenOnion == 1 and noodle == 1:\n",
        "    for result_noodle in range(5):\n",
        "      print(\"step 3 : 면이 익도록 \", result_noodle+1,\"번 반복해준다.\")\n",
        "      result_noodle += 1\n",
        "\n",
        "  # 4 step\n",
        "  if result_noodle == 5:\n",
        "    print(\"===============\")\n",
        "    print(\"step 4 : 계란을 넣는다.\")\n",
        "    egg = 1\n",
        "\n",
        "  # 5 step\n",
        "  if egg == 1 : \n",
        "    print(\"===============\")\n",
        "    print(\"step 5 : 라면 완성\")\n",
        "    print(\"===============\")\n",
        "\n",
        "making_noodle()"
      ],
      "execution_count": null,
      "outputs": [
        {
          "output_type": "stream",
          "text": [
            "===============\n",
            "step 1 : 물을 붇는다.\n",
            "===============\n",
            "step 2 : 대파와 라면을 넣는다.\n",
            "===============\n",
            "step 3 : 면이 익도록  1 번 반복해준다.\n",
            "step 3 : 면이 익도록  2 번 반복해준다.\n",
            "step 3 : 면이 익도록  3 번 반복해준다.\n",
            "step 3 : 면이 익도록  4 번 반복해준다.\n",
            "step 3 : 면이 익도록  5 번 반복해준다.\n",
            "===============\n",
            "step 4 : 계란을 넣는다.\n",
            "===============\n",
            "step 5 : 라면 완성\n",
            "===============\n"
          ],
          "name": "stdout"
        }
      ]
    },
    {
      "cell_type": "code",
      "metadata": {
        "colab": {
          "base_uri": "https://localhost:8080/"
        },
        "id": "HUZmdnfErHq8",
        "outputId": "6be377f5-f483-463e-828b-1456b64386e4"
      },
      "source": [
        "# 다음 예시를 통해 문자열처리 메소드의 효율성을 알아보자.\n",
        "\n",
        "# strip 메소드는 문자의 앞뒤공백을 제거해준다.\n",
        "# split 메소드는 문자열을 특정기준을 통해 리스트형태로 나눠준다.\n",
        "\n",
        "stringtest_strip_split = input().strip().split(' ')\n",
        "if stringtest_strip_split[0] == '':\n",
        "  print(0)\n",
        "else:\n",
        "  print(len(stringtest_strip_split))"
      ],
      "execution_count": null,
      "outputs": [
        {
          "output_type": "stream",
          "text": [
            "i love you and we can study hard\n",
            "8\n"
          ],
          "name": "stdout"
        }
      ]
    },
    {
      "cell_type": "code",
      "metadata": {
        "colab": {
          "base_uri": "https://localhost:8080/"
        },
        "id": "-e4Q3x6CrpDQ",
        "outputId": "f630af6c-56fe-4b1b-d73a-e18b29a90a5c"
      },
      "source": [
        "\n",
        "stringtest_split = input().split(' ')\n",
        "\n",
        "for i in range(0, len(stringtest_split)):   # 추가적인 반복문을 만들어서 복잡도가 올라간다.\n",
        "  if stringtest_split[i] == '':\n",
        "    print(0)\n",
        "  elif stringtest_split[i] != ' ' and (stringtest_split[i] >= chr(65) and stringtest_split[i] <= chr(90)) or (stringtest_split[i] >= chr(97) and stringtest_split[i] <= chr(122)) :\n",
        "    print(len(stringtest_split))\n",
        "    break"
      ],
      "execution_count": null,
      "outputs": [
        {
          "output_type": "stream",
          "text": [
            "i love you and we can study hard\n",
            "8\n"
          ],
          "name": "stdout"
        }
      ]
    },
    {
      "cell_type": "code",
      "metadata": {
        "colab": {
          "base_uri": "https://localhost:8080/"
        },
        "id": "EgusAlRar5xm",
        "outputId": "5857f5df-9e6e-43f4-8a16-cc15564817a2"
      },
      "source": [
        "qweqwe = input().split(' ')"
      ],
      "execution_count": null,
      "outputs": [
        {
          "output_type": "stream",
          "text": [
            "  stringtest_split = input().split(' ')  for i in range(0, len(stringtest_split)):   # 추가적인 반복문을 만들어서 복잡도가 올라간다.   if stringtest_split[i] == '':     print(0)   elif stringtest_split[i] != ' ' and (stringtest_split[i] >= chr(65) and stringtest_split[i] <= chr(90)) or (stringtest_split[i] >= chr(97) and stringtest_split[i] <= chr(122)) :     print(len(stringtest_split))     break i love you and we can study hard\n"
          ],
          "name": "stdout"
        }
      ]
    },
    {
      "cell_type": "code",
      "metadata": {
        "id": "NB2afp5dsIn0"
      },
      "source": [
        "stringtest_split"
      ],
      "execution_count": null,
      "outputs": []
    },
    {
      "cell_type": "code",
      "metadata": {
        "colab": {
          "base_uri": "https://localhost:8080/"
        },
        "id": "jccIXl4osyl0",
        "outputId": "7f02de3b-cad2-49e8-dd98-425d9a80b593"
      },
      "source": [
        "rftg =input().strip().split(\" \")"
      ],
      "execution_count": null,
      "outputs": [
        {
          "output_type": "stream",
          "text": [
            "밥을 많이 먹지 않습니다. 저는 다이어트 중입니다.\n"
          ],
          "name": "stdout"
        }
      ]
    },
    {
      "cell_type": "code",
      "metadata": {
        "colab": {
          "base_uri": "https://localhost:8080/"
        },
        "id": "kbXgGXnos00s",
        "outputId": "5ae810a0-4621-4a2d-a2a2-dd9162a7d357"
      },
      "source": [
        "len(rftg)"
      ],
      "execution_count": null,
      "outputs": [
        {
          "output_type": "execute_result",
          "data": {
            "text/plain": [
              "7"
            ]
          },
          "metadata": {
            "tags": []
          },
          "execution_count": 10
        }
      ]
    },
    {
      "cell_type": "code",
      "metadata": {
        "colab": {
          "base_uri": "https://localhost:8080/"
        },
        "id": "1GadsdKls_pu",
        "outputId": "d4875ca3-ebc8-490c-dd48-afd0fcbe5e8c"
      },
      "source": [
        "rftg"
      ],
      "execution_count": null,
      "outputs": [
        {
          "output_type": "execute_result",
          "data": {
            "text/plain": [
              "['밥을', '많이', '먹지', '않습니다.', '저는', '다이어트', '중입니다.']"
            ]
          },
          "metadata": {
            "tags": []
          },
          "execution_count": 11
        }
      ]
    },
    {
      "cell_type": "code",
      "metadata": {
        "id": "4E1Hej1qtU0S"
      },
      "source": [
        "def sum_n(n):\n",
        "  if n%2 == 0:\n",
        "    return (n+1)*(n/2)\n",
        "  elif n%2 != 0:\n",
        "    return (n+1)*(n//2)+((n+1)/2)"
      ],
      "execution_count": null,
      "outputs": []
    },
    {
      "cell_type": "code",
      "metadata": {
        "colab": {
          "base_uri": "https://localhost:8080/"
        },
        "id": "LbWqkMNTudtf",
        "outputId": "e8a74849-3ebb-449f-fe9f-eb27325fd294"
      },
      "source": [
        "sum_n(101)"
      ],
      "execution_count": null,
      "outputs": [
        {
          "output_type": "execute_result",
          "data": {
            "text/plain": [
              "5151.0"
            ]
          },
          "metadata": {
            "tags": []
          },
          "execution_count": 22
        }
      ]
    },
    {
      "cell_type": "code",
      "metadata": {
        "id": "ZuIAJUH2vMVd"
      },
      "source": [
        "# case - 1\n",
        "# 파이썬에서 시간을 측정하기 위한 함수생성\n",
        "import time\n",
        "\n",
        "from functools import wraps\n",
        "\n",
        "def check_time(function):\n",
        "\t@wraps(function)\n",
        "\tdef measure(*args, **kwargs):\n",
        "\t\tstart_time = time.time()\n",
        "\n",
        "\t\tresult = function(*args, **kwargs)\n",
        "\n",
        "\t\tend_time = time.time()\n",
        "\n",
        "\t\tprint(f\"@check_time: {function.__name__} took {end_time - start_time}\")\n",
        "\t\treturn result\n",
        "\n",
        "\treturn measure\n",
        "\n",
        "\n",
        "@check_time # 데코레이터 생성하여 활용\n",
        "def sum_n1(n):\n",
        "    s = 0\n",
        "    for i in range(1, n+1):\n",
        "        s += i\n",
        "    return s"
      ],
      "execution_count": null,
      "outputs": []
    },
    {
      "cell_type": "code",
      "metadata": {
        "colab": {
          "base_uri": "https://localhost:8080/"
        },
        "id": "mEgbVg8AvXhW",
        "outputId": "52bd7e1b-ae6b-4cc0-b1a5-3a6f2bd8e47a"
      },
      "source": [
        "sum_n1(101)"
      ],
      "execution_count": null,
      "outputs": [
        {
          "output_type": "stream",
          "text": [
            "@check_time: sum_n1 took 1.2636184692382812e-05\n"
          ],
          "name": "stdout"
        },
        {
          "output_type": "execute_result",
          "data": {
            "text/plain": [
              "5151"
            ]
          },
          "metadata": {
            "tags": []
          },
          "execution_count": 27
        }
      ]
    },
    {
      "cell_type": "code",
      "metadata": {
        "id": "jQ1yR14SueUI"
      },
      "source": [
        "def sum_n2(n):\n",
        "    return n*(n+1)//2"
      ],
      "execution_count": null,
      "outputs": []
    },
    {
      "cell_type": "code",
      "metadata": {
        "colab": {
          "base_uri": "https://localhost:8080/"
        },
        "id": "o2Xh0erevB6k",
        "outputId": "dd2f37dd-277e-4d51-e1e4-74b231aa7efd"
      },
      "source": [
        "sum_n2(101)"
      ],
      "execution_count": null,
      "outputs": [
        {
          "output_type": "execute_result",
          "data": {
            "text/plain": [
              "5151"
            ]
          },
          "metadata": {
            "tags": []
          },
          "execution_count": 23
        }
      ]
    },
    {
      "cell_type": "code",
      "metadata": {
        "colab": {
          "base_uri": "https://localhost:8080/"
        },
        "id": "kcX-uv1avHly",
        "outputId": "06b58019-715e-4151-ece3-50b28794c660"
      },
      "source": [
        "# 첫번째 방법\n",
        "a = 3\n",
        "b = 1\n",
        "\n",
        "temp = a\n",
        "a = b\n",
        "b = temp\n",
        "\n",
        "print(a,b)"
      ],
      "execution_count": null,
      "outputs": [
        {
          "output_type": "stream",
          "text": [
            "1 3\n"
          ],
          "name": "stdout"
        }
      ]
    },
    {
      "cell_type": "code",
      "metadata": {
        "colab": {
          "base_uri": "https://localhost:8080/"
        },
        "id": "fMDMbbEKvpkd",
        "outputId": "c804953c-3033-4496-f3b7-55d0e38b7368"
      },
      "source": [
        "# 두번째 방법\n",
        "a = 3\n",
        "b = 1\n",
        "\n",
        "a, b = b, a # 파이썬에서는 한 줄로 변경가능\n",
        "\n",
        "print(a,b)"
      ],
      "execution_count": null,
      "outputs": [
        {
          "output_type": "stream",
          "text": [
            "1 3\n"
          ],
          "name": "stdout"
        }
      ]
    },
    {
      "cell_type": "code",
      "metadata": {
        "colab": {
          "base_uri": "https://localhost:8080/"
        },
        "id": "Y0TSJs93vsse",
        "outputId": "24e34f7a-07a8-46be-94f0-fca02e25506f"
      },
      "source": [
        "def linear_search(linear_arr, search_number):\n",
        "    for i in range(len(linear_arr)):\n",
        "      if linear_arr[i] == search_number:\n",
        "        return i\n",
        "\n",
        "linear_arr = [5,22,87,1,3]\n",
        "search_number = 1\n",
        "print(\"search index : \",linear_search(linear_arr, search_number))"
      ],
      "execution_count": null,
      "outputs": [
        {
          "output_type": "stream",
          "text": [
            "search index :  3\n"
          ],
          "name": "stdout"
        }
      ]
    },
    {
      "cell_type": "code",
      "metadata": {
        "colab": {
          "base_uri": "https://localhost:8080/"
        },
        "id": "qUc9eKzyv1sm",
        "outputId": "22e1e622-f946-40d7-f116-be6588b42766"
      },
      "source": [
        "def binary_search(test_list, search_item):\n",
        "\n",
        "     low = 0\n",
        "     high = len(test_list) - 1\n",
        "\n",
        "     while low <= high:\n",
        "         middle = (low + high) // 2   # middle을 지정해서 검색속도를 빠르게 한다.\n",
        "         guess = test_list[middle]\n",
        "\n",
        "         if guess == search_item:\n",
        "             return middle\n",
        "         if guess > search_item:\n",
        "             high = middle - 1\n",
        "         else:\n",
        "             low = middle + 1\n",
        "     return None\n",
        "\n",
        "test_list = [6,12,17,23,38,45,77,84]   # 이미 정렬된 리스트에서 검색 진행\n",
        "print('binary_search :',binary_search(test_list, 12))"
      ],
      "execution_count": null,
      "outputs": [
        {
          "output_type": "stream",
          "text": [
            "binary_search : 1\n"
          ],
          "name": "stdout"
        }
      ]
    },
    {
      "cell_type": "code",
      "metadata": {
        "id": "ucqAE3EhxkN0"
      },
      "source": [
        "# 예시 리스트\n",
        "our_numbers = [5,9,3,6,2,1,7,8,4]"
      ],
      "execution_count": null,
      "outputs": []
    },
    {
      "cell_type": "code",
      "metadata": {
        "id": "3D2XqrXAwIGc"
      },
      "source": [
        "# 선택정렬 소스코드1\n",
        "\n",
        "def selection_sort(items):\n",
        "    \n",
        "  for i in range(0, len(items)-1):    # 외부 반복문(루프)\n",
        "\n",
        "    cur_index = i\n",
        "    \n",
        "    for j in range(i+1, len(items)):  # 내부루프\n",
        "        if items[j] < items[cur_index]:    # 최소값찾는 로직\n",
        "            cur_index = j\n",
        "\n",
        "        # 로직에 따라 최소값을 찾고, 교환을 위한 작업을 아래와 같이 수행한다.\n",
        "        # items[smallest_index]와 items[cur_index] 값을 Swap(교환) 한다.\n",
        "\n",
        "    # # 첫번째 swap 방법\n",
        "    temp = items[i]\n",
        "    items[i] = items[cur_index]\n",
        "    items[cur_index]= temp \n",
        "\n",
        "    return items\n",
        "    # for k in range(0, len(items)):\n",
        "    #     print(items[k],end=\" \");\n",
        "    # print();\n"
      ],
      "execution_count": null,
      "outputs": []
    },
    {
      "cell_type": "code",
      "metadata": {
        "colab": {
          "base_uri": "https://localhost:8080/"
        },
        "id": "T0rQhnADyI2j",
        "outputId": "06cc8309-483d-4387-e90d-28a065aa42e1"
      },
      "source": [
        "selection_sort(our_numbers)"
      ],
      "execution_count": null,
      "outputs": [
        {
          "output_type": "execute_result",
          "data": {
            "text/plain": [
              "[1, 2, 3, 4, 5, 6, 7, 8, 9]"
            ]
          },
          "metadata": {
            "tags": []
          },
          "execution_count": 92
        }
      ]
    },
    {
      "cell_type": "code",
      "metadata": {
        "id": "FAH-r_V_RILA"
      },
      "source": [
        "test_list = [54, 26, 93, 17, 77, 31]"
      ],
      "execution_count": null,
      "outputs": []
    },
    {
      "cell_type": "code",
      "metadata": {
        "id": "4Rdf92825Z8L"
      },
      "source": [
        "# 선택정렬 소스코드\n",
        "\n",
        "def selection_sort(items):\n",
        "    \n",
        "  for i in range(0, len(items) - 1):    # 외부 반복문(루프)\n",
        "\n",
        "      cur_index = i\n",
        "      smallest_index = cur_index\n",
        "      \n",
        "      for j in range(cur_index + 3, len(items)):  # 내부루프\n",
        "          if items[j] < items[smallest_index]:    # 최소값찾는 로직\n",
        "              smallest_index = j\n",
        "\n",
        "      items[smallest_index], items[cur_index] = items[cur_index], items[smallest_index]\n",
        "\n",
        "  return items"
      ],
      "execution_count": null,
      "outputs": []
    },
    {
      "cell_type": "code",
      "metadata": {
        "colab": {
          "base_uri": "https://localhost:8080/"
        },
        "id": "U2PxbAUj5oyC",
        "outputId": "01207c9b-1785-4258-c777-7898577d3a58"
      },
      "source": [
        "selection_sort(our_numbers)"
      ],
      "execution_count": null,
      "outputs": [
        {
          "output_type": "execute_result",
          "data": {
            "text/plain": [
              "[1, 2, 3, 4, 5, 6, 7, 8, 9]"
            ]
          },
          "metadata": {
            "tags": []
          },
          "execution_count": 103
        }
      ]
    },
    {
      "cell_type": "code",
      "metadata": {
        "colab": {
          "base_uri": "https://localhost:8080/"
        },
        "id": "tWQBICsIRMW2",
        "outputId": "11d0b198-5265-4ab8-930f-3ee6e6a7f8aa"
      },
      "source": [
        "selection_sort(test_list)"
      ],
      "execution_count": null,
      "outputs": [
        {
          "output_type": "execute_result",
          "data": {
            "text/plain": [
              "[17, 26, 31, 54, 77, 93]"
            ]
          },
          "metadata": {
            "tags": []
          },
          "execution_count": 113
        }
      ]
    },
    {
      "cell_type": "code",
      "metadata": {
        "colab": {
          "base_uri": "https://localhost:8080/"
        },
        "id": "YrzWEjKH3Uk-",
        "outputId": "d525f747-7999-47ca-cb7c-a5819931b52e"
      },
      "source": [
        "array=[40, 90, 10, 50, 20];\n",
        "\n",
        "#입력된 자료 출력\n",
        "print(\"SELECTION Sort\");\n",
        "\n",
        "\n",
        "#선택 정렬과 출력(과정)\n",
        "for i in range(0, len(array)-1):\n",
        "    min=i;\n",
        "    for j in range(i+1, len(array)):\n",
        "        if(array[j]<array[min]):\n",
        "            min=j;\n",
        "    temp=array[i];\n",
        "    array[i]=array[min];\n",
        "    array[min]=temp;\n",
        "\n",
        "    for k in range(0, len(array)):\n",
        "        print(array[k],end=\" \");\n",
        "    print();"
      ],
      "execution_count": null,
      "outputs": [
        {
          "output_type": "stream",
          "text": [
            "SELECTION Sort\n",
            "10 90 40 50 20 \n",
            "10 20 40 50 90 \n",
            "10 20 40 50 90 \n",
            "10 20 40 50 90 \n"
          ],
          "name": "stdout"
        }
      ]
    },
    {
      "cell_type": "code",
      "metadata": {
        "colab": {
          "base_uri": "https://localhost:8080/"
        },
        "id": "K-38CuDzzlKd",
        "outputId": "b545504e-c2bd-4c64-d766-2bc8530228d9"
      },
      "source": [
        "def ins_sort(unsort_list):\n",
        "\n",
        "    loop_number = len(unsort_list)          # 반복횟수를 위한 길이설정\n",
        "\n",
        "    # 앞쪽에 있는 노드들을 검색하기 위한 반복문\n",
        "    for compare_index in range(loop_number):    # 비교하려는 위치부터 loop_number만큼 반복\n",
        "        compare_value = unsort_list[compare_index]  \n",
        "        prev_position = compare_index - 1   # 이전 노드값에 대한 인덱스를 가리킴\n",
        "        \n",
        "        # 비교연산 후 삽입을 진행하는 반복문\n",
        "        while prev_position >= 0 and unsort_list[prev_position] > compare_value:    \n",
        "            unsort_list[prev_position + 1] = unsort_list[prev_position] # 1-1차작업 : swap을 위한 작업\n",
        "            prev_position = prev_position - 1\n",
        "        unsort_list[prev_position + 1] = compare_value    # 1-2차작업 : 비교된 더 큰 값을 (이전노드+1) 인덱스에 삽입\n",
        "\n",
        "    return unsort_list\n",
        "            \n",
        "test_arr = [5,3,1,6]\n",
        "ins_sort(test_arr)"
      ],
      "execution_count": null,
      "outputs": [
        {
          "output_type": "execute_result",
          "data": {
            "text/plain": [
              "[1, 3, 5, 6]"
            ]
          },
          "metadata": {
            "tags": []
          },
          "execution_count": 53
        }
      ]
    },
    {
      "cell_type": "code",
      "metadata": {
        "id": "hnsSjJNO0PAp"
      },
      "source": [
        "def print_to_zero_pos(n, result_list):\n",
        "    if n < 0:\n",
        "      return\n",
        "    elif n >=0 :\n",
        "      print(n)\n",
        "      result_list.append(n)\n",
        "    return print_to_zero_pos(n - 1, result_list)  # recursive case\n",
        "\n",
        "\n",
        "\n",
        "def print_to_zero_neg(n, result_list):\n",
        "    if n > 0:\n",
        "      return \n",
        "    elif n <= 0:\n",
        "      print(n)\n",
        "      result_list.append(n)\n",
        "    return print_to_zero_neg(n+1, result_list)"
      ],
      "execution_count": null,
      "outputs": []
    },
    {
      "cell_type": "code",
      "metadata": {
        "colab": {
          "base_uri": "https://localhost:8080/"
        },
        "id": "C3HJ1pDyVF2P",
        "outputId": "8024e21b-bee0-4001-bce0-4ce2717942d8"
      },
      "source": [
        "result_list = []\n",
        "print_to_zero_pos(5, result_list)"
      ],
      "execution_count": null,
      "outputs": [
        {
          "output_type": "stream",
          "text": [
            "5\n",
            "4\n",
            "3\n",
            "2\n",
            "1\n",
            "0\n"
          ],
          "name": "stdout"
        }
      ]
    },
    {
      "cell_type": "code",
      "metadata": {
        "colab": {
          "base_uri": "https://localhost:8080/"
        },
        "id": "DtHW6ksRVWwQ",
        "outputId": "bfc00509-7d22-4190-bedf-bcb417d3d75b"
      },
      "source": [
        "result_list"
      ],
      "execution_count": null,
      "outputs": [
        {
          "output_type": "execute_result",
          "data": {
            "text/plain": [
              "[5, 4, 3, 2, 1, 0]"
            ]
          },
          "metadata": {
            "tags": []
          },
          "execution_count": 125
        }
      ]
    },
    {
      "cell_type": "code",
      "metadata": {
        "colab": {
          "base_uri": "https://localhost:8080/"
        },
        "id": "ROAoG-y2Vy-4",
        "outputId": "f2c52b58-ad66-4789-f6bf-84aa9bcba904"
      },
      "source": [
        "result_list = []\n",
        "print_to_zero_neg(-3, result_list)"
      ],
      "execution_count": null,
      "outputs": [
        {
          "output_type": "stream",
          "text": [
            "-3\n",
            "-2\n",
            "-1\n",
            "0\n"
          ],
          "name": "stdout"
        }
      ]
    },
    {
      "cell_type": "code",
      "metadata": {
        "colab": {
          "base_uri": "https://localhost:8080/"
        },
        "id": "DHe4SgFnWfR9",
        "outputId": "939c3461-c7df-456a-876a-d4957febe629"
      },
      "source": [
        "result_list"
      ],
      "execution_count": null,
      "outputs": [
        {
          "output_type": "execute_result",
          "data": {
            "text/plain": [
              "[-3, -2, -1, 0]"
            ]
          },
          "metadata": {
            "tags": []
          },
          "execution_count": 131
        }
      ]
    },
    {
      "cell_type": "code",
      "metadata": {
        "id": "AyVil2-UWrq7"
      },
      "source": [
        "n = [-10,10,5,-5]"
      ],
      "execution_count": 17,
      "outputs": []
    },
    {
      "cell_type": "code",
      "metadata": {
        "id": "DYy9Du_wX7GW"
      },
      "source": [
        "dir = {}\n",
        "for i in n:  \n",
        "  result_list = []\n",
        "  index_num = i\n",
        "  if i <= 0:\n",
        "    for j in range(0, abs(i)+1):\n",
        "      # print(i)\n",
        "      result_list.append(i)\n",
        "      i = i + 1\n",
        "  \n",
        "  elif i > 0:  \n",
        "    for j in range(0, i+1):\n",
        "      # print(i)\n",
        "      result_list.append(i)\n",
        "      i = i - 1\n",
        "  \n",
        "  dir[index_num] = result_list"
      ],
      "execution_count": 20,
      "outputs": []
    },
    {
      "cell_type": "code",
      "metadata": {
        "colab": {
          "base_uri": "https://localhost:8080/"
        },
        "id": "Zj4acwpVodk0",
        "outputId": "849e160d-251d-4014-e32a-7593df055dfd"
      },
      "source": [
        "dir"
      ],
      "execution_count": 19,
      "outputs": [
        {
          "output_type": "execute_result",
          "data": {
            "text/plain": [
              "{-10: [-10, -9, -8, -7, -6, -5, -4, -3, -2, -1, 0],\n",
              " -5: [-5, -4, -3, -2, -1, 0],\n",
              " 5: [5, 4, 3, 2, 1, 0],\n",
              " 10: [10, 9, 8, 7, 6, 5, 4, 3, 2, 1, 0]}"
            ]
          },
          "metadata": {
            "tags": []
          },
          "execution_count": 19
        }
      ]
    },
    {
      "cell_type": "code",
      "metadata": {
        "id": "liqHfiK_bCVx",
        "outputId": "ffd84d96-8ade-4a8e-fa07-c7081d2e33ec",
        "colab": {
          "base_uri": "https://localhost:8080/"
        }
      },
      "source": [
        "n = [-10,10,5,-5]\n",
        "dir = {}\n",
        "\n",
        "for i in n:  \n",
        "    result_list = []\n",
        "    index_num = i\n",
        "    if i < 0: \n",
        "        for j in range(0, abs(i)+1):\n",
        "            result_list.append(i)\n",
        "            i = i + 1\n",
        "\n",
        "\n",
        "    elif i > 0:\n",
        "        for j in range(0, i+1):\n",
        "            result_list.append(i)\n",
        "            i = i - 1\n",
        "\n",
        "    dir[index_num] = result_list\n",
        "dir"
      ],
      "execution_count": 6,
      "outputs": [
        {
          "output_type": "execute_result",
          "data": {
            "text/plain": [
              "{-10: [-10, -9, -8, -7, -6, -5, -4, -3, -2, -1, 0],\n",
              " -5: [-5, -4, -3, -2, -1, 0],\n",
              " 5: [5, 4, 3, 2, 1, 0],\n",
              " 10: [10, 9, 8, 7, 6, 5, 4, 3, 2, 1, 0]}"
            ]
          },
          "metadata": {
            "tags": []
          },
          "execution_count": 6
        }
      ]
    },
    {
      "cell_type": "code",
      "metadata": {
        "id": "yyk_TWc8P8GU",
        "outputId": "e3d9a018-3581-4843-e1d2-760326be0410",
        "colab": {
          "base_uri": "https://localhost:8080/"
        }
      },
      "source": [
        "for i in n:  \n",
        "  print(i)"
      ],
      "execution_count": 7,
      "outputs": [
        {
          "output_type": "stream",
          "text": [
            "-10\n",
            "10\n",
            "5\n",
            "-5\n"
          ],
          "name": "stdout"
        }
      ]
    },
    {
      "cell_type": "code",
      "metadata": {
        "id": "8wJYV2_WQYtB"
      },
      "source": [
        ""
      ],
      "execution_count": null,
      "outputs": []
    }
  ]
}