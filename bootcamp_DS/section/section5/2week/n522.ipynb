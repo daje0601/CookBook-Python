{
  "nbformat": 4,
  "nbformat_minor": 0,
  "metadata": {
    "colab": {
      "name": "n522.ipynb",
      "provenance": [],
      "authorship_tag": "ABX9TyMGHlXS5hHN33LJTc0NjbSJ",
      "include_colab_link": true
    },
    "kernelspec": {
      "name": "python3",
      "display_name": "Python 3"
    },
    "language_info": {
      "name": "python"
    }
  },
  "cells": [
    {
      "cell_type": "markdown",
      "metadata": {
        "id": "view-in-github",
        "colab_type": "text"
      },
      "source": [
        "<a href=\"https://colab.research.google.com/github/daje0601/pandas_study/blob/main/n522.ipynb\" target=\"_parent\"><img src=\"https://colab.research.google.com/assets/colab-badge.svg\" alt=\"Open In Colab\"/></a>"
      ]
    },
    {
      "cell_type": "code",
      "metadata": {
        "colab": {
          "base_uri": "https://localhost:8080/"
        },
        "id": "iyFWcWtyLpf5",
        "outputId": "91895078-0fa4-40b3-b60e-c08094851bf9"
      },
      "source": [
        "# 인트로 코딩\n",
        "# 중첩반복문 복습\n",
        "\n",
        "numbers = [1,2,3,4]\n",
        "len_numbers = len(numbers)\n",
        "for i in range(0, len_numbers):   # 반복인덱스 : 0,1,2,3\n",
        "  for j in range(1, len_numbers): # 반복인덱스 : 1,2,3\n",
        "    print(\"i:\",i,\" j:\",j)\n",
        "  print()"
      ],
      "execution_count": 1,
      "outputs": [
        {
          "output_type": "stream",
          "text": [
            "i: 0  j: 1\n",
            "i: 0  j: 2\n",
            "i: 0  j: 3\n",
            "\n",
            "i: 1  j: 1\n",
            "i: 1  j: 2\n",
            "i: 1  j: 3\n",
            "\n",
            "i: 2  j: 1\n",
            "i: 2  j: 2\n",
            "i: 2  j: 3\n",
            "\n",
            "i: 3  j: 1\n",
            "i: 3  j: 2\n",
            "i: 3  j: 3\n",
            "\n"
          ],
          "name": "stdout"
        }
      ]
    },
    {
      "cell_type": "code",
      "metadata": {
        "colab": {
          "base_uri": "https://localhost:8080/"
        },
        "id": "XZq61lx0Lqax",
        "outputId": "67fe6bcc-b80f-444f-9c34-d2fb9dc1c751"
      },
      "source": [
        "# 입력된 리스트에서 요소들의 합을 큰 순서대로 구해보자(조건 : 모든 요소들의 합이 아니다.)\n",
        "# 리스트의 메소드와 반복문을 활용해야 한다.\n",
        "\n",
        "def remain_sum(numbers):\n",
        "  result = []\n",
        "  init_value = 0\n",
        "\n",
        "  # 왼쪽인덱스부터 합을 구한다.\n",
        "  # 반복문 : 0부터 4까지 result 리스트에 값을 append 한다.(반복인덱스 : 0,1,2,3)\n",
        "  for i in range(0, len(numbers)):\n",
        "    result.append(init_value)\n",
        "    print(\"left sum - result[\",i,\"]:\",result[i])\n",
        "    init_value = init_value + numbers[i]    # append되는 index와 value를 구분해야 된다.\n",
        "\n",
        "  init_value = 0   # 값 초기화(왼쪽에 대한 합을 구했으니, 이제 오른쪽인덱스부터 합구하기)\n",
        "\n",
        "  # 구해진 값을 활용하여 오른쪽인덱스부터 더하면서 최종 리스트값을 구한다.\n",
        "  # 반복문 : 3부터 -1까지 -1줄어들면서 result 리스트에 값을 더한다.(반복인덱스 : 3,2,1,0)\n",
        "  for i in range(len(numbers)-1, 0-1, -1):\n",
        "    result[i] = result[i] + init_value\n",
        "    print(\"final sum - result[\",i,\"]:\",result[i])\n",
        "    init_value = init_value + numbers[i]\n",
        "\n",
        "  return result\n",
        "\n",
        "numbers = [int(numbers) for numbers in input(\"리스트값을 입력하세요 : \").split(',')]\n",
        "print(\"결과:\",remain_sum(numbers))"
      ],
      "execution_count": 11,
      "outputs": [
        {
          "output_type": "stream",
          "text": [
            "리스트값을 입력하세요 : 1,2,3,4\n",
            "left sum - result[ 0 ]: 0\n",
            "left sum - result[ 1 ]: 1\n",
            "left sum - result[ 2 ]: 3\n",
            "left sum - result[ 3 ]: 6\n",
            "final sum - result[ 3 ]: 6\n",
            "final sum - result[ 2 ]: 7\n",
            "final sum - result[ 1 ]: 8\n",
            "final sum - result[ 0 ]: 9\n",
            "결과: [9, 8, 7, 6]\n"
          ],
          "name": "stdout"
        }
      ]
    },
    {
      "cell_type": "code",
      "metadata": {
        "colab": {
          "base_uri": "https://localhost:8080/"
        },
        "id": "nP4ZMRBSMaH4",
        "outputId": "596314f4-484e-487b-e51b-0bc6e8068a62"
      },
      "source": [
        "result = []\n",
        "init_value = 0\n",
        "\n",
        "for i in range(0, len(numbers)):\n",
        "    result.append(init_value)\n",
        "    print(\"left sum - result[\",i,\"]:\",result[i])\n",
        "    init_value = init_value + numbers[i] "
      ],
      "execution_count": 8,
      "outputs": [
        {
          "output_type": "stream",
          "text": [
            "left sum - result[ 0 ]: 0\n",
            "left sum - result[ 1 ]: 1\n",
            "left sum - result[ 2 ]: 3\n",
            "left sum - result[ 3 ]: 6\n"
          ],
          "name": "stdout"
        }
      ]
    },
    {
      "cell_type": "code",
      "metadata": {
        "colab": {
          "base_uri": "https://localhost:8080/"
        },
        "id": "bNnnMTCiM7tv",
        "outputId": "974ac2a4-78c9-4d08-c420-556cae6992d4"
      },
      "source": [
        "# 선형 검색 알고리즘\n",
        "# 하나의 반복문과 리스트의 인덱스, 조건문을 활용하여 특정값을 검색할 때까지 반복한다.\n",
        "\n",
        "def linear_search(arr, target):\n",
        "\n",
        "    # 입력 배열의 각 항목을 반복\n",
        "    for idx in range(len(arr)):\n",
        "        # 현재 인덱스의 항목이 비교 대상과 같은지 확인\n",
        "        if arr[idx] == target:\n",
        "            # 현재 인덱스를 일치 항목으로 반환\n",
        "            return idx\n",
        "            \n",
        "    # 전체 배열을 반복할 수 있다면, 비교 대상은 존재하지 않는다.(의미없는 -1 값 반환)\n",
        "    return -1\n",
        "\n",
        "print(linear_search([0,1,2], 2)) # case 1 - true\n",
        "print(linear_search([0,1,2], 3)) # case 2 - false"
      ],
      "execution_count": 7,
      "outputs": [
        {
          "output_type": "stream",
          "text": [
            "2\n",
            "-1\n"
          ],
          "name": "stdout"
        }
      ]
    },
    {
      "cell_type": "code",
      "metadata": {
        "colab": {
          "base_uri": "https://localhost:8080/"
        },
        "id": "FZAG_vmvN8c_",
        "outputId": "92d4bf26-6e9b-4826-c8e2-076f6e4062d9"
      },
      "source": [
        "my_list = [1,2,3,4,5]\n",
        "def sum_list(items):\n",
        "    sum = 0\n",
        "    for i in items:\n",
        "        sum = sum + i\n",
        "    return sum\n",
        "\n",
        "sum_list(my_list)"
      ],
      "execution_count": 12,
      "outputs": [
        {
          "output_type": "execute_result",
          "data": {
            "text/plain": [
              "15"
            ]
          },
          "metadata": {
            "tags": []
          },
          "execution_count": 12
        }
      ]
    },
    {
      "cell_type": "code",
      "metadata": {
        "colab": {
          "base_uri": "https://localhost:8080/"
        },
        "id": "3g0GQXpqSpLo",
        "outputId": "f91feb98-a859-48f3-d820-d29f6967d6a2"
      },
      "source": [
        "sum(my_list)"
      ],
      "execution_count": 13,
      "outputs": [
        {
          "output_type": "execute_result",
          "data": {
            "text/plain": [
              "15"
            ]
          },
          "metadata": {
            "tags": []
          },
          "execution_count": 13
        }
      ]
    },
    {
      "cell_type": "code",
      "metadata": {
        "id": "PesMT-wESr4D"
      },
      "source": [
        "def sum_list(items):\n",
        "    if len(items) == 1:\n",
        "        return items[0]\n",
        "    else:\n",
        "        return items[0] + sum_list(items[1:])  "
      ],
      "execution_count": 17,
      "outputs": []
    },
    {
      "cell_type": "code",
      "metadata": {
        "colab": {
          "base_uri": "https://localhost:8080/"
        },
        "id": "napA-RgBTNFR",
        "outputId": "033479f4-b7bb-43d9-8845-e230ac23ed4d"
      },
      "source": [
        "def sum_list(items):\n",
        "    if len(items) == 1: # Base Case\n",
        "        return items[0]\n",
        "    else:\n",
        "        return items[0] + sum_list(items[1:])\n",
        "\n",
        "# test case \n",
        "#sum_list(1)\n",
        "sum_list([1,3])"
      ],
      "execution_count": 19,
      "outputs": [
        {
          "output_type": "execute_result",
          "data": {
            "text/plain": [
              "4"
            ]
          },
          "metadata": {
            "tags": []
          },
          "execution_count": 19
        }
      ]
    },
    {
      "cell_type": "code",
      "metadata": {
        "id": "0pP_XJY5Ts40"
      },
      "source": [
        ""
      ],
      "execution_count": null,
      "outputs": []
    }
  ]
}