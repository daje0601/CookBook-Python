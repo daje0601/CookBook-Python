{
 "cells": [
  {
   "cell_type": "markdown",
   "metadata": {
    "colab_type": "text",
    "id": "Kz9V5lVFMo86"
   },
   "source": [
    "# SC23x \n",
    "## Applied Predictive Modeling"
   ]
  },
  {
   "cell_type": "markdown",
   "metadata": {
    "colab_type": "text",
    "id": "yWOjtM9iMo87"
   },
   "source": [
    " 이번 스프린트 챌린지에서는 시카고에 있는 식당들의 정보와 해당 식당들의 위생 검사 결과에 관한 정보를 담은 데이터셋을 다루게 됩니다.\n",
    "\n",
    "데이터셋에 관한 설명은 [PDF 문서](https://data.cityofchicago.org/api/assets/BAD5301B-681A-4202-9D25-51B2CAE672FF)를 참고해주시길 바랍니다."
   ]
  },
  {
   "cell_type": "markdown",
   "metadata": {
    "colab_type": "text",
    "id": "VvBYdx2xMo88"
   },
   "source": [
    "#### 목표: 오늘 여러분은 Chicago시의 공중보건부에서 진행한 레스토랑들의 위생 검사 \"불합격\" 여부를 예측하는 모델을 만들어야 합니다.\n",
    "\n",
    "여러분의 모델이 예측할 target은 `Inspection Fail` 칼럼입니다.   \n",
    "칼럼 값은 아래와 같습니다:\n",
    "- 식당이 위생 검사에 불합격한 경우: **1**\n",
    "- 식당이 검사를 통과한 경우: **0**"
   ]
  },
  {
   "cell_type": "code",
   "execution_count": 1,
   "metadata": {},
   "outputs": [],
   "source": [
    "import warnings\n",
    "warnings.simplefilter(action='ignore', category=FutureWarning)\n",
    "warnings.filterwarnings(\"ignore\")"
   ]
  },
  {
   "cell_type": "code",
   "execution_count": 2,
   "metadata": {},
   "outputs": [],
   "source": [
    "# 기본도구\n",
    "import pandas as pd\n",
    "import numpy as np \n",
    "\n",
    "# Pipeline\n",
    "from sklearn.pipeline import Pipeline\n",
    "from sklearn.pipeline import make_pipeline\n",
    "\n",
    "# 전처리도구\n",
    "from category_encoders import OneHotEncoder,TargetEncoder,OrdinalEncoder\n",
    "\n",
    "from sklearn.preprocessing import StandardScaler\n",
    "from sklearn.impute import SimpleImputer\n",
    "\n",
    "# 모델\n",
    "from xgboost import XGBRFClassifier\n",
    "import xgboost as xgb\n",
    "from sklearn.tree import DecisionTreeClassifier\n",
    "from sklearn.ensemble import RandomForestClassifier\n",
    "\n",
    "# selection 도구\n",
    "from sklearn.model_selection import cross_val_score, train_test_split, GridSearchCV, RandomizedSearchCV\n",
    "from sklearn.metrics import roc_auc_score\n",
    "\n",
    "# 검증도구\n",
    "from sklearn.metrics import accuracy_score, recall_score, precision_score, f1_score\n",
    "from sklearn.metrics import classification_report\n",
    "\n",
    "# 시각화\n",
    "import eli5\n",
    "import shap\n",
    "from pdpbox.pdp import pdp_isolate, pdp_plot\n",
    "from eli5.sklearn import PermutationImportance\n",
    "from pdpbox.pdp import pdp_interact, pdp_interact_plot"
   ]
  },
  {
   "cell_type": "code",
   "execution_count": 3,
   "metadata": {
    "colab": {},
    "colab_type": "code",
    "id": "Yyc7zftTMo89"
   },
   "outputs": [],
   "source": [
    "# 데이터셋을 불러오기 위해 판다스 라이브러리를 불러옵니다\n",
    "\n",
    "\n",
    "train_url = 'https://ds-lecture-data.s3.ap-northeast-2.amazonaws.com/food_inspection_sc23x/food_ins_train.csv'\n",
    "test_url  = 'https://ds-lecture-data.s3.ap-northeast-2.amazonaws.com/food_inspection_sc23x/food_ins_test.csv'\n",
    "\n",
    "# train, test 데이터셋을 불러옵니다\n",
    "train = pd.read_csv(train_url)\n",
    "test  = pd.read_csv(test_url)\n",
    "\n",
    "# 데이터셋 확인\n",
    "assert train.shape == (60000, 17)\n",
    "assert test.shape  == (20000, 17)"
   ]
  },
  {
   "cell_type": "markdown",
   "metadata": {
    "colab_type": "text",
    "id": "muEIQ4EPGVH_"
   },
   "source": [
    "# Part 1: 데이터 전처리 (Data Preprocessing)"
   ]
  },
  {
   "cell_type": "markdown",
   "metadata": {
    "colab": {},
    "colab_type": "code",
    "id": "Ao1PDJtpIWwp"
   },
   "source": [
    "## 1.1 데이터셋을 파악하기 위한 EDA를 진행하세요\n",
    "> EDA를 하는 방식 및 라이브러리에 대한 제한은 없습니다. 단, **시간 분배**에 주의하세요."
   ]
  },
  {
   "cell_type": "code",
   "execution_count": 4,
   "metadata": {},
   "outputs": [
    {
     "data": {
      "text/plain": [
       "((60000, 17), (20000, 17))"
      ]
     },
     "execution_count": 4,
     "metadata": {},
     "output_type": "execute_result"
    }
   ],
   "source": [
    "train.shape, test.shape"
   ]
  },
  {
   "cell_type": "code",
   "execution_count": 5,
   "metadata": {},
   "outputs": [
    {
     "data": {
      "text/html": [
       "<div>\n",
       "<style scoped>\n",
       "    .dataframe tbody tr th:only-of-type {\n",
       "        vertical-align: middle;\n",
       "    }\n",
       "\n",
       "    .dataframe tbody tr th {\n",
       "        vertical-align: top;\n",
       "    }\n",
       "\n",
       "    .dataframe thead th {\n",
       "        text-align: right;\n",
       "    }\n",
       "</style>\n",
       "<table border=\"1\" class=\"dataframe\">\n",
       "  <thead>\n",
       "    <tr style=\"text-align: right;\">\n",
       "      <th></th>\n",
       "      <th>Inspection ID</th>\n",
       "      <th>DBA Name</th>\n",
       "      <th>AKA Name</th>\n",
       "      <th>License #</th>\n",
       "      <th>Facility Type</th>\n",
       "      <th>Risk</th>\n",
       "      <th>Address</th>\n",
       "      <th>City</th>\n",
       "      <th>State</th>\n",
       "      <th>Zip</th>\n",
       "      <th>Inspection Date</th>\n",
       "      <th>Inspection Type</th>\n",
       "      <th>Violations</th>\n",
       "      <th>Latitude</th>\n",
       "      <th>Longitude</th>\n",
       "      <th>Location</th>\n",
       "      <th>Inspection Fail</th>\n",
       "    </tr>\n",
       "  </thead>\n",
       "  <tbody>\n",
       "    <tr>\n",
       "      <th>0</th>\n",
       "      <td>2050629</td>\n",
       "      <td>MY SWEET STATION INC</td>\n",
       "      <td>MY SWEET STATION</td>\n",
       "      <td>2327223.0</td>\n",
       "      <td>Restaurant</td>\n",
       "      <td>Risk 1 (High)</td>\n",
       "      <td>2511 N LINCOLN AVE</td>\n",
       "      <td>CHICAGO</td>\n",
       "      <td>IL</td>\n",
       "      <td>60614.0</td>\n",
       "      <td>2017-05-18</td>\n",
       "      <td>Canvass</td>\n",
       "      <td>NaN</td>\n",
       "      <td>41.927577</td>\n",
       "      <td>-87.651528</td>\n",
       "      <td>(-87.65152817242594, 41.92757677830966)</td>\n",
       "      <td>0</td>\n",
       "    </tr>\n",
       "    <tr>\n",
       "      <th>1</th>\n",
       "      <td>2078428</td>\n",
       "      <td>OUTTAKES</td>\n",
       "      <td>RED MANGO</td>\n",
       "      <td>2125004.0</td>\n",
       "      <td>Restaurant</td>\n",
       "      <td>Risk 2 (Medium)</td>\n",
       "      <td>10 S DEARBORN ST FL</td>\n",
       "      <td>CHICAGO</td>\n",
       "      <td>IL</td>\n",
       "      <td>60603.0</td>\n",
       "      <td>2017-08-14</td>\n",
       "      <td>Canvass</td>\n",
       "      <td>34. FLOORS: CONSTRUCTED PER CODE, CLEANED, GOO...</td>\n",
       "      <td>41.881807</td>\n",
       "      <td>-87.629543</td>\n",
       "      <td>(-87.62954311539407, 41.88180696006542)</td>\n",
       "      <td>0</td>\n",
       "    </tr>\n",
       "  </tbody>\n",
       "</table>\n",
       "</div>"
      ],
      "text/plain": [
       "   Inspection ID              DBA Name          AKA Name  License #  \\\n",
       "0        2050629  MY SWEET STATION INC  MY SWEET STATION  2327223.0   \n",
       "1        2078428              OUTTAKES         RED MANGO  2125004.0   \n",
       "\n",
       "  Facility Type             Risk               Address     City State  \\\n",
       "0    Restaurant    Risk 1 (High)   2511 N LINCOLN AVE   CHICAGO    IL   \n",
       "1    Restaurant  Risk 2 (Medium)  10 S DEARBORN ST FL   CHICAGO    IL   \n",
       "\n",
       "       Zip Inspection Date Inspection Type  \\\n",
       "0  60614.0      2017-05-18         Canvass   \n",
       "1  60603.0      2017-08-14         Canvass   \n",
       "\n",
       "                                          Violations   Latitude  Longitude  \\\n",
       "0                                                NaN  41.927577 -87.651528   \n",
       "1  34. FLOORS: CONSTRUCTED PER CODE, CLEANED, GOO...  41.881807 -87.629543   \n",
       "\n",
       "                                  Location  Inspection Fail  \n",
       "0  (-87.65152817242594, 41.92757677830966)                0  \n",
       "1  (-87.62954311539407, 41.88180696006542)                0  "
      ]
     },
     "execution_count": 5,
     "metadata": {},
     "output_type": "execute_result"
    }
   ],
   "source": [
    "train.head(2)"
   ]
  },
  {
   "cell_type": "code",
   "execution_count": 6,
   "metadata": {},
   "outputs": [
    {
     "data": {
      "text/plain": [
       "Inspection ID          0\n",
       "DBA Name               0\n",
       "AKA Name             717\n",
       "License #              4\n",
       "Facility Type       1427\n",
       "Risk                  24\n",
       "Address                0\n",
       "City                  45\n",
       "State                 15\n",
       "Zip                   13\n",
       "Inspection Date        0\n",
       "Inspection Type        0\n",
       "Violations         15870\n",
       "Latitude             178\n",
       "Longitude            178\n",
       "Location             178\n",
       "Inspection Fail        0\n",
       "dtype: int64"
      ]
     },
     "execution_count": 6,
     "metadata": {},
     "output_type": "execute_result"
    }
   ],
   "source": [
    "train.isnull().sum()"
   ]
  },
  {
   "cell_type": "code",
   "execution_count": 7,
   "metadata": {
    "scrolled": true
   },
   "outputs": [
    {
     "data": {
      "text/plain": [
       "Index(['Inspection ID', 'DBA Name', 'AKA Name', 'License #', 'Facility Type',\n",
       "       'Risk', 'Address', 'City', 'State', 'Zip', 'Inspection Date',\n",
       "       'Inspection Type', 'Violations', 'Latitude', 'Longitude', 'Location',\n",
       "       'Inspection Fail'],\n",
       "      dtype='object')"
      ]
     },
     "execution_count": 7,
     "metadata": {},
     "output_type": "execute_result"
    }
   ],
   "source": [
    "train.columns"
   ]
  },
  {
   "cell_type": "code",
   "execution_count": 8,
   "metadata": {},
   "outputs": [
    {
     "data": {
      "text/plain": [
       "array(['MY SWEET STATION INC', 'OUTTAKES', 'JAFFA BAGELS', ...,\n",
       "       'NEW CELEBRITY LOUNGE INC', 'ITALIAN EXPRESS RESTAURANT',\n",
       "       'RAFAEL CRUZ'], dtype=object)"
      ]
     },
     "execution_count": 8,
     "metadata": {},
     "output_type": "execute_result"
    }
   ],
   "source": [
    "train[\"DBA Name\"].unique()"
   ]
  },
  {
   "cell_type": "code",
   "execution_count": 9,
   "metadata": {
    "scrolled": true
   },
   "outputs": [
    {
     "data": {
      "text/plain": [
       "array(['MY SWEET STATION', 'RED MANGO', 'JAFFA BAGELS', ...,\n",
       "       'NEW CELEBRITY LOUNGE INC', 'ITALIAN EXPRESS RESTAURANT',\n",
       "       'RAFAEL CRUZ'], dtype=object)"
      ]
     },
     "execution_count": 9,
     "metadata": {},
     "output_type": "execute_result"
    }
   ],
   "source": [
    "train[\"AKA Name\"].unique()"
   ]
  },
  {
   "cell_type": "code",
   "execution_count": 10,
   "metadata": {},
   "outputs": [
    {
     "data": {
      "text/plain": [
       "array(['Risk 1 (High)', 'Risk 2 (Medium)', 'Risk 3 (Low)', 'All', nan],\n",
       "      dtype=object)"
      ]
     },
     "execution_count": 10,
     "metadata": {},
     "output_type": "execute_result"
    }
   ],
   "source": [
    "train[\"Risk\"].unique()"
   ]
  },
  {
   "cell_type": "code",
   "execution_count": 11,
   "metadata": {},
   "outputs": [
    {
     "data": {
      "text/plain": [
       "array(['Restaurant', 'Mobile Food Dispenser', 'School', 'Grocery Store',\n",
       "       \"Children's Services Facility\", 'Mobile Food Preparer',\n",
       "       'watermelon house', 'Long Term Care', nan, 'Bakery', 'theater',\n",
       "       'Daycare Above and Under 2 Years', 'Mobile Frozen Desserts Vendor',\n",
       "       'Shared Kitchen User (Long Term)', 'Daycare (Under 2 Years)',\n",
       "       'Liquor', 'Daycare (2 - 6 Years)', 'Mobile Prepared Food Vendor',\n",
       "       'Daycare Combo 1586', 'STORE', 'PALETERIA /ICECREAM SHOP',\n",
       "       'TAVERN', 'convenience store', 'Hospital', 'Catering',\n",
       "       'MOBILE DESSERTS VENDOR', 'COLLEGE', 'THEATRE', 'Social Club',\n",
       "       'BANQUET HALL', 'FITNESS CENTER', 'Shelter', 'WINE STORE',\n",
       "       'DAYCARE', 'GROCERY STORE/TAQUERIA', 'Wholesale',\n",
       "       'GROCERY(GAS STATION)', 'GROCERY STORE/BAKERY',\n",
       "       'GROCERY/RESTAURANT', 'grocery/butcher', 'Special Event',\n",
       "       'ROOFTOP', 'Pop-Up Establishment Host-Tier II', 'LIVE POULTRY',\n",
       "       'Golden Diner', 'DISTRIBUTION CENTER',\n",
       "       'EXERCISE AND NUTRITION BAR', 'TOBACCO STORE', 'Coffee shop',\n",
       "       'CANDY MAKER', 'Herabalife', 'Long-Term Care',\n",
       "       'CHARTER SCHOOL/CAFETERIA', 'GAS STATION', 'HERBALCAL', 'STADIUM',\n",
       "       'BANQUET', 'PACKAGED FOOD DISTRIBUTION',\n",
       "       'A-Not-For-Profit Chef Training Program', 'Live Poultry',\n",
       "       'CONVENIENCE/GAS STATION', 'HOTEL', 'RETAIL STORE', 'RIVERWALK',\n",
       "       'RESTAURANT/BAR', 'CHARTER SCHOOL', 'CONVENIENCE STORE',\n",
       "       'MOBILE FROZEN DESSERT VENDOR', 'COOKING SCHOOL',\n",
       "       'NORTHERLY ISLAND', 'grocery/dollar store', 'grocery',\n",
       "       'convenience/drug store', 'Daycare Night', 'DAY CARE 2-14',\n",
       "       'blockbuster video', 'Navy Pier Kiosk', 'HEALTH CARE STORE',\n",
       "       'cafeteria', 'RESTAURANT.BANQUET HALLS',\n",
       "       \"1023 CHILDERN'S SERVICES FACILITY\", 'PRIVATE CLUB',\n",
       "       \"1023-CHILDREN'S SERVICES FACILITY\", 'coffee shop',\n",
       "       'Daycare (2 Years)', 'MOBILE FROZEN DESSERTS VENDOR',\n",
       "       'CULINARY SCHOOL', 'GOLF COURSE CONNCESSION STAND', 'CONVENIENCE',\n",
       "       'RESTAURANT/BAKERY', 'BANQUET HALL/CATERING',\n",
       "       'MOBILE FOOD DESSERTS VENDOR', 'MOBILE FOOD TRUCK',\n",
       "       'COMMISSARY FOR SOFT SERVE ICE CREAM TRUCKS', 'CHURCH KITCHEN',\n",
       "       \"1023 CHILDERN'S SERVICE S FACILITY\", 'Cafeteria', 'COMMISSARY',\n",
       "       'GAS STATION/STORE', 'ROOFTOPS', 'warehouse', 'Tavern/Bar',\n",
       "       'Shared Kitchen', 'fish market', 'ICE CREAM SHOP',\n",
       "       'Shared Kitchen User (Short Term)', '15 monts to 5 years old',\n",
       "       'BEFORE AND AFTER SCHOOL PROGRAM', 'COFFEE SHOP', 'ART CENTER',\n",
       "       'RESTAURANT/HOSPITAL', 'ROOF TOP', 'CANDY SHOP', 'COFFEE/TEA',\n",
       "       'KIOSK', 'BEVERAGE/SILVERWARE WAREHOUSE', 'bakery/restaurant',\n",
       "       'PALETERIA', \"1023 CHILDREN'S SERVICES FACILITY\",\n",
       "       '1005 NURSING HOME', 'MOVIE THEATRE',\n",
       "       'LIQUOR CONSUMPTION ON PREMISES.', 'TAVERN GRILL', 'CAFETERIA',\n",
       "       'GAS STATION /GROCERY', 'EVENT CENTER', 'SCHOOL', 'DELI/GROCERY',\n",
       "       'PASTRY school', 'DAYCARE 6 WKS-5YRS', 'GROCERY/CAFE',\n",
       "       'Wrigley Roof Top', 'Grocery & Restaurant',\n",
       "       'Animal Shelter Cafe Permit', 'PRIVATE SCHOOL', 'Deli',\n",
       "       'GROCERY AND BUTCHER', 'CHARTER SCHOOL CAFETERIA', 'PANTRY',\n",
       "       'Shuffleboard Club with Bar', 'SOUP KITCHEN', 'BANQUET FACILITY',\n",
       "       'FROZEN DESSERT PUSHCARTS', 'PHARMACY',\n",
       "       'MOBILPREPARED FOOD VENDOR', 'BREWERY', 'WHOLESALE BAKERY',\n",
       "       'ROOF TOPS', 'Banquet', 'DRUG STORE/GROCERY', 'WAREHOUSE',\n",
       "       'HOT DOG STATION', 'CATERING/CAFE', 'NUTRITION SHAKES',\n",
       "       'SLAUGHTER HOUSE/ GROCERY', 'CANDY/GELATO', 'CULINARY ARTS SCHOOL',\n",
       "       'tavern', 'SUPPORTIVE LIVING',\n",
       "       'Mobile Frozen Dessert Dispenser_non  Motorized.', 'CHARTER',\n",
       "       'TAVERN/LIQUOR', 'Restaurant(protein shake bar)', 'donut shop',\n",
       "       'RETAIL STORE OFFERS COOKING CLASSES', 'ICE CREAM PARLOR',\n",
       "       'LOUNGE/BANQUET HALL', 'drug treatment facility', 'CANDY STORE',\n",
       "       'Commissary', 'TAVERN/RESTAURANT', '1023', 'bar',\n",
       "       'CUSTOM POULTRY SLAUGHTER', 'LONG TERM CARE FACILITY',\n",
       "       'DAYCARE 1586', 'Food Vending Machines', 'Lounge',\n",
       "       'GAS STATION/FOOD', 'BOWLING LANES/BANQUETS', 'REHAB CENTER',\n",
       "       'RESTAURANT/GROCERY', 'after school program',\n",
       "       '1584-DAY CARE ABOVE 2 YEARS', 'Banquet Hall',\n",
       "       'JUICE AND SALAD BAR', 'ROOM SERVICE', 'HOSTEL',\n",
       "       'Theater & Restaurant', 'DRUG/FOOD STORE', 'MEXICAN CANDY STORE',\n",
       "       'banquets', 'DELI/GROCERY STORE', 'DAYCARE COMBO',\n",
       "       'ASSISTED LIVING', 'GROCERY/DELI', 'weight loss program',\n",
       "       'ASSISSTED LIVING', 'HERBAL DRINKS', 'MAIN KITCHEN',\n",
       "       'WINE TASTING BAR', 'RESTAURANT/LIQUOR', 'CHARITY AID KITCHEN',\n",
       "       'GROCERY/GAS STATION', 'GROCERY STORE/COOKING SCHOOL',\n",
       "       'candy/gelato', 'REGULATED BUSINESS', 'video store',\n",
       "       'CHILDRENS SERVICES FACILITY', 'cooking school',\n",
       "       \"CHILDERN'S SERVICES  FACILITY\", 'DAY CARE 1023',\n",
       "       'NON-FOR PROFIT BASEMENT KIT', 'FITNESS STUDIO',\n",
       "       'CITY OF CHICAGO COLLEGE', 'smoothie bar',\n",
       "       'SUPPORTIVE LIVING FACILITY', 'CHURCH/DAY CARE',\n",
       "       'GROCERY STORE/ RESTAURANT', 'Private School',\n",
       "       'Mobile Frozen Dessert Disp/Non-motorized', 'unlicensed facility',\n",
       "       'CONVENIENT STORE', 'Grocery(Sushi prep)', 'BANQUET ROOM',\n",
       "       'hooka lounge', 'GROCERY/TAQUERIA', 'HERBALIFE', 'BAKERY/DELI',\n",
       "       'PUBLIC SHCOOL', 'banquets/room service', 'SENIOR DAY CARE',\n",
       "       'Adult Family Care Center', 'CHINESE HERBS', 'THEATER/BAR',\n",
       "       'DOLLAR TREE', 'Banquet Dining', 'RESTAURANT/GROCERY STORE',\n",
       "       'BREWPUB', 'GAS STATION/GROCERY', 'CATERING/BANQUET',\n",
       "       'GAS STATION/RESTAURANT', 'NURSING HOME', 'TENT RSTAURANT',\n",
       "       'JUICE BAR', 'DOLLAR STORE', 'Church', 'youth housing',\n",
       "       'GROCERY STORE / GAS STATION', 'GAS STATION/MINI MART',\n",
       "       'LIQUORE STORE/BAR', 'CHURCH', 'Poultry Slaughter',\n",
       "       'Airport Lounge', 'CONVNIENCE STORE', 'DAYCARE 2-6, UNDER 6',\n",
       "       'BAR', \"CHILDERN'S SERVICE FACILITY\", 'PACKAGED HEALTH FOODS',\n",
       "       'PRE PACKAGED', 'TEA STORE', 'butcher shop', 'DRUG STORE',\n",
       "       'MOBILE FOOD', 'Rest/GYM', 'convenience',\n",
       "       'MOBILE FROZEN DESSERTS DISPENSER-NON-MOTORIZED',\n",
       "       'LIQUOR/COFFEE KIOSK', 'Candy', 'DRUG STORE/W/ FOOD',\n",
       "       'gas station', 'COFFEE KIOSK', 'Dollar store',\n",
       "       'RESTAURANT/BAR/THEATER', 'Pool', 'FOOD BOOTH', 'CAFE/STORE',\n",
       "       'BAKERY/GROCERY', 'PROTEIN SHAKE BAR', 'REST/GROCERY',\n",
       "       'snack shop', 'GROCERY STORE/GAS STATION', 'HERBAL MEDICINE',\n",
       "       'COFFEE VENDING MACHINE', 'Tavern', 'CHURCH/SPECIAL EVENTS',\n",
       "       'Banquet/kitchen', 'CHURCH (SPECIAL EVENTS)', 'THEATER',\n",
       "       'GROCERY/LIQUOR STORE', 'GROCERY/BAKERY', 'HERBAL REMEDY',\n",
       "       'Assisted Living Senior Care', 'dollar store', 'DAY CARE',\n",
       "       '(convenience store)', 'AFTER SCHOOL PROGRAM',\n",
       "       'GROCERY STORE/DELI', 'MOVIE THEATER', 'GAS STATION/STORE GROCERY',\n",
       "       'GROCERY/ RESTAURANT', 'RETAIL FOOD/GAS STATION', 'LIQUOR STORE',\n",
       "       'SUMMER FEEDING PREP AREA', 'HAIR SALON', 'WRIGLEY ROOFTOP',\n",
       "       'GAS STATION STORE', \"1023 CHILDERN'S SERVICE FACILITY\",\n",
       "       'GAS STATION /SUBWAY MINI MART.', 'WEIGHT LOSS PROGRAM',\n",
       "       'FROZEN DESSERTS DISPENSER-NON-MOTORIZED', 'Banquet rooms',\n",
       "       'meat packing', 'grocery & restaurant',\n",
       "       'CHILDERN ACTIVITY FACILITY', 'URBAN FARM', 'ICE CREAM',\n",
       "       'CAR WASH', 'Long Term Care Facility', 'NOT-FOR-PROFIT CLUB',\n",
       "       'AFTER SCHOOL CARE', 'REST/ROOFTOP', 'UNIVERSITY CAFETERIA',\n",
       "       'grocery delivery service', 'PREP INSIDE SCHOOL', 'GELATO SHOP',\n",
       "       'DINING HALL', 'NAIL SHOP', 'SMOKEHOUSE', 'BOYS AND GIRLS CLUB',\n",
       "       'TRUCK', 'Nutrition Store', 'Illegal Vendor', 'day spa',\n",
       "       'NON -PROFIT', 'Other', \"O'Hare Kiosk\", 'MOBILE PUSH CART',\n",
       "       'tavern/restaurant', 'LIQUOR/GROCERY STORE/BAR',\n",
       "       'Long-Term Care Facility', 'VENDING COMMISSARY',\n",
       "       'ART GALLERY W/WINE AND BEER', 'RETAIL',\n",
       "       'MOBILE FROZEN DESSERTS DISPENSER-NON- MOTORIZED',\n",
       "       'School Cafeteria', 'PUSHCART', 'CATERED EVENTS', 'banquet hall',\n",
       "       'GROCERY/SERVICE GAS STATION', 'UNUSED STORAGE', 'Food Pantry',\n",
       "       'FRENCH MARKET SPACE', 'TEACHING SCHOOL', 'GROCERY& RESTAURANT',\n",
       "       'Pop-Up Food Establishment User-Tier II', 'LIQOUR BREWERY TASTING',\n",
       "       'HERBALIFE/ZUMBA', 'CULINARY CLASS ROOMS', 'PACKAGED LIQUOR',\n",
       "       'SERVICE BAR/THEATRE', 'HIGH SCHOOL KITCHEN', 'Assisted Living',\n",
       "       'DAYCARE 2 YRS TO 12 YRS', 'EVENT SPACE', 'FURNITURE STORE',\n",
       "       'CLOTHING STORE'], dtype=object)"
      ]
     },
     "execution_count": 11,
     "metadata": {},
     "output_type": "execute_result"
    }
   ],
   "source": [
    "train[\"Facility Type\"].unique()"
   ]
  },
  {
   "cell_type": "code",
   "execution_count": 12,
   "metadata": {
    "scrolled": true
   },
   "outputs": [
    {
     "data": {
      "text/plain": [
       "array(['CHICAGO', 'CICERO', 'NILES NILES', 'MAYWOOD', 'Chicago',\n",
       "       'INACTIVE', nan, 'CHICAGOCHICAGO', 'CHicago', 'EVANSTON',\n",
       "       'ELK GROVE VILLAGE', 'CHCICAGO', 'chicago', 'OAK PARK', 'CCHICAGO',\n",
       "       'ROSEMONT', 'LAKE ZURICH', 'EAST HAZEL CREST', 'BURNHAM',\n",
       "       'CHARLES A HAYES', '312CHICAGO', 'SKOKIE', 'GRIFFITH',\n",
       "       'SCHAUMBURG', 'BOLINGBROOK', 'HIGHLAND PARK', 'ELMHURST',\n",
       "       'PLAINFIELD', 'WHEATON', 'CALUMET CITY', 'STREAMWOOD', 'CHICAGO.',\n",
       "       'SUMMIT', 'BRIDGEVIEW', 'WESTMONT', 'WORTH', 'NEW HOLSTEIN',\n",
       "       'BANNOCKBURNDEERFIELD', 'alsip', 'CHICAGOI'], dtype=object)"
      ]
     },
     "execution_count": 12,
     "metadata": {},
     "output_type": "execute_result"
    }
   ],
   "source": [
    "train[\"City\"].unique()"
   ]
  },
  {
   "cell_type": "code",
   "execution_count": 13,
   "metadata": {},
   "outputs": [
    {
     "data": {
      "text/plain": [
       "array(['IL', nan, 'IN', 'WI'], dtype=object)"
      ]
     },
     "execution_count": 13,
     "metadata": {},
     "output_type": "execute_result"
    }
   ],
   "source": [
    "train[\"State\"].unique()"
   ]
  },
  {
   "cell_type": "code",
   "execution_count": 14,
   "metadata": {},
   "outputs": [
    {
     "data": {
      "text/plain": [
       "array([nan,\n",
       "       '34. FLOORS: CONSTRUCTED PER CODE, CLEANED, GOOD REPAIR, COVING INSTALLED, DUST-LESS CLEANING METHODS USED - Comments: OBSERVED BOXES OF POTATO CHIPS STORED ON THE FLOOR OF DRY STORAGE. INSTRUCTED TO STORE ALL FOOD 6 INCHES ABOVE THE FLOOR TO PROPERLY CLEAN THE FLOOR. | 38. VENTILATION: ROOMS AND EQUIPMENT VENTED AS REQUIRED: PLUMBING: INSTALLED AND MAINTAINED - Comments: OBSERVED THE WASTE PIPE LEAKING AT THE 3 COMPARTMENT SINK MIDDLE BASIN. INSTRUCTED TO REPAIR AND MAINTAIN ALL PLUMBING.  | 42. APPROPRIATE METHOD OF HANDLING OF FOOD (ICE) HAIR RESTRAINTS AND CLEAN APPAREL WORN - Comments: OBSERVED A FOOD HANDLER WITH NO HAIR RESTRAINT. INSTRUCTED TO WEAR A HAIR RESTRAINT WHEN HANDLING FOOD.',\n",
       "       '30. FOOD IN ORIGINAL CONTAINER, PROPERLY LABELED: CUSTOMER ADVISORY POSTED AS NEEDED - Comments: MUST DATE AND LABEL ALL LARGE PLASTIC TUB CONTAINERS HOLDING CHICKEN IN THE BOTH 2-SLIDING DOOR COOLERS IN THE REAR PART OF THE STORE WHERE THERE ARE 3 SMALL CUSTOMER TABLES. ALL FOODS NOT IN ORIGINAL CONTAINERS MUST BE LABELED AT ALL TIMES. | 32. FOOD AND NON-FOOD CONTACT SURFACES PROPERLY DESIGNED, CONSTRUCTED AND MAINTAINED - Comments: DURING INSPECTION FOUND A LEMONADE STAND NOT IN USE NOT SET-UP WHICH IS USED TO MAKE LEMONADE IN THE SUMMER TIME ONLY. FACILITY DID NOT HAVE LEMONS OR LIMES ON PREMISES DURING INSPECTION AND MACHINE IS NOT SET-UP AND USABLE AT THIS TIME. INSTRUCTED MANAGEMENT THAT WHEN THIS EQUIPMENT IS IN WORKING ORDER AND SET-UP FOR USE IT MUST BE PROPERLY DESIGNED SO AS TO BE WITHIN 25 FEET OF A HAND WASHING SINK IN ORDER TO BE USED.    ALSO IN THE REAR PORTION OF THE CUSTOMER SEATING AREA FACILITY MUST PROVIDE LOCKED OR SECURED COOLERS AND FREEZERS SO AS TO NOT BE ACCESSIBLE TO THE PUBLIC AT ALL TIMES. | 34. FLOORS: CONSTRUCTED PER CODE, CLEANED, GOOD REPAIR, COVING INSTALLED, DUST-LESS CLEANING METHODS USED - Comments: MUST CLEAN ALL FLOOR EDGES AND UNDER ALL HEAVY EQUIPMENT TO REMOVE FOOD DEBRI.',\n",
       "       ...,\n",
       "       '34. FLOORS: CONSTRUCTED PER CODE, CLEANED, GOOD REPAIR, COVING INSTALLED, DUST-LESS CLEANING METHODS USED - Comments: Inspector Comments: MUST REPAIR OR REPLACE DAMAGED & MISSING FLOOR TILES THROUGHOUT.  ',\n",
       "       '33. FOOD AND NON-FOOD CONTACT EQUIPMENT UTENSILS CLEAN, FREE OF ABRASIVE DETERGENTS - Comments: MUST CLEAN/SANITIZE; FRYER AND CAN OPENER.   | 34. FLOORS: CONSTRUCTED PER CODE, CLEANED, GOOD REPAIR, COVING INSTALLED, DUST-LESS CLEANING METHODS USED - Comments: MUST REPAIR THE FLOOR IN WALK IN COOLER IN BASEMENT.   | 38. VENTILATION: ROOMS AND EQUIPMENT VENTED AS REQUIRED: PLUMBING: INSTALLED AND MAINTAINED - Comments: MUST REPAIR LEAKING PIPE UNDER 3PART SINK.  ',\n",
       "       '3. MANAGEMENT, FOOD EMPLOYEE AND CONDITIONAL EMPLOYEE; KNOWLEDGE, RESPONSIBILITIES AND REPORTING - Comments: 2-102.14(O)  OBSERVED NO WRITTEN EMPLOYEE HEALTH POLICY ON THE PREMISES. MANAGEMENT INSTRUCTED TO HAVE A SIGNED EMPLOYEE HEALTH POLICY FOR EACH EMPLOYEE. PRIORITY FOUNDATION 7-38-010. NO CITATION ISSUED. | 5. PROCEDURES FOR RESPONDING TO VOMITING AND DIARRHEAL EVENTS - Comments: 2-501.11  OBSERVED NO CLEAN UP PROCEDURE AND SUPPLIES ON THE PREMISES TO RESPOND TO VOMIT AND DIARRHEAL EVENTS. MANAGEMENT INSTRUCTED TO PROVIDE BOTH. PRIORITY FOUNDATION 7-38-005. NO CITATION ISSUED. | 23. PROPER DATE MARKING AND DISPOSITION - Comments: 3-501.17  OBSERVED READY-TO-EAT, TCS FOODS HELD MORE THAN 24 HOURS IN THE WALK-IN COOLER NOT DATE MARKED. MANAGEMENT INSTRUCTED TO DATE MARK ALL READY-TO-EAT, TCS FOODS HELD MORE THAN 24 HOURS. PRIORITY FOUNDATION 7-38-005. NO CITATION ISSUED. | 47. FOOD & NON-FOOD CONTACT SURFACES CLEANABLE, PROPERLY DESIGNED, CONSTRUCTED & USED - Comments: 4-101.11  OBSERVED FROZEN FOODS STORED IN PLASTIC GROCERY BAGS IN THE FREEZER. MANAGEMENT INSTRUCTED TO USE ONLY FOOD GRADE STORAGE BAGS AND CONTAINERS. | 49. NON-FOOD/FOOD CONTACT SURFACES CLEAN - Comments: 4-602.13  CLEAN THE INTERIOR OF THE OVENS, FREEZER, AND WIRE STORAGE RACKS IN THE WALK-IN COOLER. | 53. TOILET FACILITIES: PROPERLY CONSTRUCTED, SUPPLIED, & CLEANED - Comments: 6-501.19  THE WASHROOM DOOR IS NOT SELF-CLOSING. MUST INSTALL A SELF-CLOSING DOOR DEVICE ON THE WASHROOM DOOR. | 55. PHYSICAL FACILITIES INSTALLED, MAINTAINED & CLEAN - Comments: 6-501.12  CLEAN THE FLOOR UNDER THE COOKING EQUIPMENT. CLEAN THE GREASE AND FOOD DEBRIS ON THE WALLS AROUND THE 3 COMPARTMENT SINK AND OUTSIDE OF THE WASHROOM. CLEAN OR REPLACE THE CEILING TILES THAT ARE HEAVILY STAINED WITH SMOKE AND SOOT. | 56. ADEQUATE VENTILATION & LIGHTING; DESIGNATED AREAS USED - Comments: 6-304.11  OBSERVED EXCESSIVE SMOKE INSIDE OF THE RESTAURANT. MUST PROVIDE ADEQUATE VENTILATION TO REMOVE THE SMOKE. | 56. ADEQUATE VENTILATION & LIGHTING; DESIGNATED AREAS USED - Comments: 6-501.14  CLEAN THE EXCESSIVE BUILDUP OF SOOT AND DEBRIS ON THE VENTILATION HOOD AND FILTERS. | 57. ALL FOOD EMPLOYEES HAVE FOOD HANDLER TRAINING - Comments: 2-102.13  OBSERVED FOOD HANDLING EMPLOYEES WITHOUT A FOOD HANDLER CERTIFICATE. MUST SHOW PROOF OF TRAINING FOR ALL EMPLOYEES.  | 58. ALLERGEN TRAINING AS REQUIRED - Comments: 2-102.13  OBSERVED THE CERTIFIED FOOD MANAGER WITHOUT AN ALLERGEN TRAINING CERTIFICATE. MANAGEMENT INSTRUCTED THAT ALL CERTIFIED FOOD MANAGERS MUST OBTAIN THIS CERTIFICATE.'],\n",
       "      dtype=object)"
      ]
     },
     "execution_count": 14,
     "metadata": {},
     "output_type": "execute_result"
    }
   ],
   "source": [
    "train[\"Violations\"].unique()"
   ]
  },
  {
   "cell_type": "code",
   "execution_count": 15,
   "metadata": {
    "scrolled": true
   },
   "outputs": [
    {
     "data": {
      "text/plain": [
       "array(['Canvass', 'Complaint', 'License Re-Inspection', 'License',\n",
       "       'Canvass Re-Inspection', 'Short Form Complaint',\n",
       "       'License-Task Force', 'Complaint Re-Inspection', 'LICENSE REQUEST',\n",
       "       'Complaint-Fire', 'Tag Removal', 'Task Force Liquor 1475',\n",
       "       'Suspected Food Poisoning', 'Consultation',\n",
       "       'Complaint-Fire Re-inspection', 'Recent Inspection',\n",
       "       'Recent inspection', 'Suspected Food Poisoning Re-inspection',\n",
       "       'CANVASS RE INSPECTION OF CLOSE UP', 'OUT OF BUSINESS',\n",
       "       'Out of Business', 'Special Events (Festivals)',\n",
       "       'Short Form Fire-Complaint', 'DAY CARE LICENSE RENEWAL',\n",
       "       'No Entry', 'Pre-License Consultation', 'Package Liquor 1474',\n",
       "       'Non-Inspection', 'CHANGED COURT DATE', 'TASKFORCE', 'Not Ready',\n",
       "       'SFP/COMPLAINT', 'O.B.', 'task force', 'error save',\n",
       "       'REINSPECTION', 'TASK FORCE PACKAGE GOODS 1474',\n",
       "       'CANVASS SPECIAL EVENTS', 'LIQOUR TASK FORCE NOT READY',\n",
       "       'TASK FORCE LIQUOR (1481)', 'Duplicated',\n",
       "       'KITCHEN CLOSED FOR RENOVATION',\n",
       "       'LICENSE TASK FORCE / NOT -FOR-PROFIT CLUB', 'COVID COMPLAINT',\n",
       "       'NO ENTRY', 'Illegal Operation', 'SFP/Complaint', 'fire complaint',\n",
       "       'LICENSE CONSULTATION', 'CANVASS SCHOOL/SPECIAL EVENT',\n",
       "       'TAVERN 1470', 'OFFICE ASSIGNMENT', 'no entry', 'POSSIBLE FBI',\n",
       "       'LICENSE/NOT READY'], dtype=object)"
      ]
     },
     "execution_count": 15,
     "metadata": {},
     "output_type": "execute_result"
    }
   ],
   "source": [
    "train[\"Inspection Type\"].unique()"
   ]
  },
  {
   "cell_type": "code",
   "execution_count": 16,
   "metadata": {},
   "outputs": [
    {
     "data": {
      "text/plain": [
       "array([0, 1], dtype=int64)"
      ]
     },
     "execution_count": 16,
     "metadata": {},
     "output_type": "execute_result"
    }
   ],
   "source": [
    "train[\"Inspection Fail\"].unique()"
   ]
  },
  {
   "cell_type": "code",
   "execution_count": 17,
   "metadata": {
    "scrolled": false
   },
   "outputs": [
    {
     "data": {
      "text/plain": [
       "Inspection ID        int64\n",
       "DBA Name            object\n",
       "AKA Name            object\n",
       "License #          float64\n",
       "Facility Type       object\n",
       "Risk                object\n",
       "Address             object\n",
       "City                object\n",
       "State               object\n",
       "Zip                float64\n",
       "Inspection Date     object\n",
       "Inspection Type     object\n",
       "Violations          object\n",
       "Latitude           float64\n",
       "Longitude          float64\n",
       "Location            object\n",
       "Inspection Fail      int64\n",
       "dtype: object"
      ]
     },
     "execution_count": 17,
     "metadata": {},
     "output_type": "execute_result"
    }
   ],
   "source": [
    "train.dtypes"
   ]
  },
  {
   "cell_type": "code",
   "execution_count": 18,
   "metadata": {
    "scrolled": false
   },
   "outputs": [
    {
     "data": {
      "text/plain": [
       "0    0.804733\n",
       "1    0.195267\n",
       "Name: Inspection Fail, dtype: float64"
      ]
     },
     "execution_count": 18,
     "metadata": {},
     "output_type": "execute_result"
    }
   ],
   "source": [
    "train[\"Inspection Fail\"].value_counts(normalize=True)"
   ]
  },
  {
   "cell_type": "markdown",
   "metadata": {},
   "source": [
    "## 1.2 EDA의 결과를 토대로 Feature Engineering 및 Preprocessing을 진행하세요\n",
    "> 새로운 feature를 만드는 작업뿐만이 아니라, 필요한 feature가 적절한 데이터 타입을 가지고 있지 않다면 변환합니다"
   ]
  },
  {
   "cell_type": "code",
   "execution_count": 19,
   "metadata": {},
   "outputs": [],
   "source": [
    "# risk에 대한 feature 변경 \n",
    "train.loc[(train.Risk ==\"Risk 1 (High)\"), \"Risk\"] = 3\n",
    "train.loc[(train.Risk =='Risk 2 (Medium)'), \"Risk\"] = 2\n",
    "train.loc[(train.Risk =='Risk 3 (Low)'), \"Risk\"] = 1\n",
    "train.loc[(train.Risk ==\"All\"), \"Risk\"] = 4\n",
    "\n",
    "test.loc[(train.Risk ==\"Risk 1 (High)\"), \"Risk\"] = 3\n",
    "test.loc[(train.Risk =='Risk 2 (Medium)'), \"Risk\"] = 2\n",
    "test.loc[(train.Risk =='Risk 3 (Low)'), \"Risk\"] = 1\n",
    "test.loc[(train.Risk ==\"All\"), \"Risk\"] = 4"
   ]
  },
  {
   "cell_type": "code",
   "execution_count": 20,
   "metadata": {},
   "outputs": [],
   "source": [
    "# 시간 순서대로 정렬 ( 시간적인 의미를 가지고 있기 때문에)\n",
    "train = train.sort_values(by=[\"Inspection Date\"], axis=0)"
   ]
  },
  {
   "cell_type": "code",
   "execution_count": 21,
   "metadata": {},
   "outputs": [],
   "source": [
    "for i in range(7):\n",
    "    train[f'Violation{i}'] = train.Violations.str.split('|').str[i]\n",
    "    train[f'Violation{i}'] = train[f'Violation{i}'].str[:2]\n",
    "    train[f'Violation{i}'] = pd.to_numeric(train[f'Violation{i}']).fillna(0)"
   ]
  },
  {
   "cell_type": "code",
   "execution_count": 22,
   "metadata": {},
   "outputs": [],
   "source": [
    "for i in range(7):\n",
    "    test[f'Violation{i}'] = test.Violations.str.split('|').str[i]\n",
    "    test[f'Violation{i}'] = test[f'Violation{i}'].str[:2]\n",
    "    test[f'Violation{i}'] = pd.to_numeric(test[f'Violation{i}']).fillna(0)"
   ]
  },
  {
   "cell_type": "markdown",
   "metadata": {
    "colab_type": "text",
    "id": "nB8CQnExGqzr"
   },
   "source": [
    "# Part 2: 모델링 (Modeling)"
   ]
  },
  {
   "cell_type": "markdown",
   "metadata": {},
   "source": [
    "## 2.1 검증 방식 (Cross-validation / Hold-out Validation)을 정한 후 데이터셋을 목적에 맞게 분할하세요"
   ]
  },
  {
   "cell_type": "code",
   "execution_count": 23,
   "metadata": {
    "colab": {},
    "colab_type": "code",
    "id": "YQ3hD2G1IbVH"
   },
   "outputs": [],
   "source": [
    "target = 'Inspection Fail'\n",
    "features = train.columns.drop([target])\n",
    "\n",
    "train, val = train_test_split(train, train_size=0.80, test_size=0.2, stratify=train[target], random_state=42)\n",
    "\n",
    "X_train = train[features]\n",
    "y_train = train[target]\n",
    "X_val = val[features]\n",
    "y_val = val[target]\n",
    "\n",
    "X_test = test[features]\n",
    "y_test = test[target]"
   ]
  },
  {
   "cell_type": "markdown",
   "metadata": {},
   "source": [
    "## 2.2 모델 학습을 위한 파이프라인을 구축 후 학습(fit)까지 진행하세요\n",
    "> 모델은 scikit-learn, xgboost, lightgbm 등 어떤 라이브러리를 사용하셔도 괜찮지만 특정 라이브러리는 **설치 및 설정에 시간이 소요되는 점**을 감안하시기 바랍니다"
   ]
  },
  {
   "cell_type": "markdown",
   "metadata": {},
   "source": [
    "학습한 내용을 확인하기 위해 xgboosting까지 활용해 보았습니다."
   ]
  },
  {
   "cell_type": "code",
   "execution_count": 24,
   "metadata": {
    "scrolled": true
   },
   "outputs": [
    {
     "name": "stdout",
     "output_type": "stream",
     "text": [
      "[0]\tvalidation_0-rmse:0.49643\tvalidation_1-rmse:0.49683\n"
     ]
    },
    {
     "data": {
      "text/plain": [
       "XGBRFClassifier(base_score=0.5, booster='gbtree', colsample_bylevel=1,\n",
       "                colsample_bytree=1, gamma=0, gpu_id=-1, importance_type='gain',\n",
       "                interaction_constraints='', learning_rate=0.01,\n",
       "                max_delta_step=0, max_depth=6, min_child_weight=1, missing=nan,\n",
       "                monotone_constraints='()', n_estimators=1000, n_jobs=-1,\n",
       "                num_parallel_tree=1000, objective='reg:squarederror',\n",
       "                random_state=0, reg_alpha=0, scale_pos_weight=1,\n",
       "                tree_method='exact', validate_parameters=1, verbosity=None)"
      ]
     },
     "execution_count": 24,
     "metadata": {},
     "output_type": "execute_result"
    }
   ],
   "source": [
    "encoder = OrdinalEncoder()\n",
    "X_train_encoded = encoder.fit_transform(X_train) # 학습데이터\n",
    "X_val_encoded = encoder.transform(X_val) # 검증데이터\n",
    "X_test_encoded = encoder.fit_transform(X_test) # 학습데이터\n",
    "\n",
    "boosting = XGBRFClassifier(\n",
    "    n_estimators=1000,\n",
    "    objective='reg:squarederror', # default\n",
    "    learning_rate=0.01,\n",
    "    n_jobs=-1\n",
    ")\n",
    "\n",
    "eval_set = [(X_train_encoded, y_train), \n",
    "            (X_val_encoded, y_val)]\n",
    "\n",
    "boosting.fit(X_train_encoded, y_train, \n",
    "          eval_set=eval_set,\n",
    "          early_stopping_rounds=50\n",
    "         )"
   ]
  },
  {
   "cell_type": "code",
   "execution_count": 25,
   "metadata": {},
   "outputs": [
    {
     "name": "stdout",
     "output_type": "stream",
     "text": [
      "xg 훈련세트 정확도 0.9168125\n",
      "xg 검증세트 정확도 0.8116667\n",
      "xg 테스트세트 정확도 0.81265\n"
     ]
    }
   ],
   "source": [
    "print('xg 훈련세트 정확도', boosting.score(X_train_encoded, y_train).round(7))\n",
    "print('xg 검증세트 정확도', boosting.score(X_val_encoded, y_val).round(7))\n",
    "print('xg 테스트세트 정확도', boosting.score(X_test_encoded, y_test).round(7))"
   ]
  },
  {
   "cell_type": "code",
   "execution_count": 26,
   "metadata": {},
   "outputs": [
    {
     "name": "stdout",
     "output_type": "stream",
     "text": [
      "accuracy_score :  0.81265\n",
      "recall_score :  0.8081632653061225\n",
      "precision_score :  0.05079527963057978\n",
      "f1_score :  0.0955829109341057\n"
     ]
    }
   ],
   "source": [
    "y_pred = boosting.predict(X_test_encoded)\n",
    "print(\"accuracy_score : \", accuracy_score(y_pred, y_test))\n",
    "print(\"recall_score : \", recall_score(y_pred, y_test))\n",
    "print(\"precision_score : \", precision_score(y_pred, y_test))\n",
    "print(\"f1_score : \", f1_score(y_pred, y_test))"
   ]
  },
  {
   "cell_type": "code",
   "execution_count": 27,
   "metadata": {},
   "outputs": [
    {
     "name": "stdout",
     "output_type": "stream",
     "text": [
      "[10:04:27] WARNING: C:/Users/Administrator/workspace/xgboost-win64_release_1.3.0/src/learner.cc:1061: Starting in XGBoost 1.3.0, the default evaluation metric used with the objective 'binary:logistic' was changed from 'error' to 'logloss'. Explicitly set eval_metric if you'd like to restore the old behavior.\n"
     ]
    },
    {
     "data": {
      "text/plain": [
       "Pipeline(steps=[('le',\n",
       "                 OrdinalEncoder(cols=['DBA Name', 'AKA Name', 'Facility Type',\n",
       "                                      'Risk', 'Address', 'City', 'State',\n",
       "                                      'Inspection Date', 'Inspection Type',\n",
       "                                      'Violations', 'Location'],\n",
       "                                mapping=[{'col': 'DBA Name',\n",
       "                                          'data_type': dtype('O'),\n",
       "                                          'mapping': SUBWAY AT NORWEGIAN AMERICAN HOSPITAL                     1\n",
       "PASTA AND BURGER SALON                                    2\n",
       "TODDLER TOWN DAY CARE TOO                                 3\n",
       "UMAIYA CAFE                                               4\n",
       "Halsted Street Deli                                       5\n",
       "                                                      ...  \n",
       "PALERIA Y NEVERI...\n",
       "                               colsample_bytree=1, gamma=0, gpu_id=-1,\n",
       "                               importance_type='gain',\n",
       "                               interaction_constraints='',\n",
       "                               learning_rate=0.300000012, max_delta_step=0,\n",
       "                               max_depth=6, min_child_weight=1, missing=nan,\n",
       "                               monotone_constraints='()', n_estimators=100,\n",
       "                               n_jobs=16, num_parallel_tree=1, random_state=0,\n",
       "                               reg_alpha=0, reg_lambda=1, scale_pos_weight=1,\n",
       "                               subsample=1, tree_method='exact',\n",
       "                               validate_parameters=1, verbosity=None))])"
      ]
     },
     "execution_count": 27,
     "metadata": {},
     "output_type": "execute_result"
    }
   ],
   "source": [
    "model = xgb.XGBClassifier()\n",
    "\n",
    "pipe = Pipeline([\n",
    "    (\"le\", OrdinalEncoder()),\n",
    "    ('standard_scaler', StandardScaler()), \n",
    "    ('imputer', SimpleImputer()),\n",
    "    ('model', model)\n",
    "])\n",
    "\n",
    "pipe.fit(X_train, y_train)"
   ]
  },
  {
   "cell_type": "code",
   "execution_count": 28,
   "metadata": {},
   "outputs": [
    {
     "name": "stdout",
     "output_type": "stream",
     "text": [
      "검증 정확도:  0.8645\n"
     ]
    }
   ],
   "source": [
    "print('검증 정확도: ', pipe.score(X_val, y_val))"
   ]
  },
  {
   "cell_type": "code",
   "execution_count": 29,
   "metadata": {},
   "outputs": [
    {
     "name": "stdout",
     "output_type": "stream",
     "text": [
      "              precision    recall  f1-score   support\n",
      "\n",
      "           0       0.86      0.99      0.92      9657\n",
      "           1       0.91      0.34      0.49      2343\n",
      "\n",
      "    accuracy                           0.86     12000\n",
      "   macro avg       0.89      0.67      0.71     12000\n",
      "weighted avg       0.87      0.86      0.84     12000\n",
      "\n"
     ]
    }
   ],
   "source": [
    "y_pred = pipe.predict(X_val)\n",
    "print(classification_report(y_val, y_pred))"
   ]
  },
  {
   "cell_type": "code",
   "execution_count": 30,
   "metadata": {},
   "outputs": [
    {
     "name": "stdout",
     "output_type": "stream",
     "text": [
      "AUC score:  0.9394936461473613\n"
     ]
    }
   ],
   "source": [
    "y_pred_proba = pipe.predict_proba(X_val)[:, -1]\n",
    "print('AUC score: ', roc_auc_score(y_val, y_pred_proba))"
   ]
  },
  {
   "cell_type": "code",
   "execution_count": 31,
   "metadata": {},
   "outputs": [
    {
     "name": "stdout",
     "output_type": "stream",
     "text": [
      "accuracy_score :  0.86405\n",
      "recall_score :  0.8980419\n",
      "precision_score :  0.3412006\n",
      "f1_score :  0.4945157\n"
     ]
    }
   ],
   "source": [
    "y_pred = pipe.predict(X_test)\n",
    "print(\"accuracy_score : \", accuracy_score(y_pred, y_test).round(7))\n",
    "print(\"recall_score : \", recall_score(y_pred, y_test).round(7))\n",
    "print(\"precision_score : \", precision_score(y_pred, y_test).round(7))\n",
    "print(\"f1_score : \", f1_score(y_pred, y_test).round(7))"
   ]
  },
  {
   "cell_type": "code",
   "execution_count": 32,
   "metadata": {
    "scrolled": true
   },
   "outputs": [
    {
     "name": "stdout",
     "output_type": "stream",
     "text": [
      "rf 훈련세트 정확도 0.9177083\n",
      "rf 훈련세트 f1 score 0.7863941163746485\n"
     ]
    }
   ],
   "source": [
    "pipe_rf_tag = make_pipeline(\n",
    "    TargetEncoder(), \n",
    "    SimpleImputer(), \n",
    "    RandomForestClassifier(max_depth=6,\n",
    "                          criterion='entropy',\n",
    "                          n_jobs=-1,\n",
    "                          min_samples_leaf=3,\n",
    "                          random_state=100)\n",
    ")\n",
    "\n",
    "pipe_rf_tag.fit(X_train, y_train)\n",
    "print('rf 훈련세트 정확도', pipe_rf_tag.score(X_train, y_train).round(7))\n",
    "print('rf 훈련세트 f1 score', f1_score(y_train, pipe_rf_tag.predict(X_train).round(7)))"
   ]
  },
  {
   "cell_type": "code",
   "execution_count": 33,
   "metadata": {
    "scrolled": true
   },
   "outputs": [
    {
     "name": "stdout",
     "output_type": "stream",
     "text": [
      "rf 훈련세트 정확도 0.8781458\n",
      "rf 훈련세트 f1 score 0.6252802870139023\n"
     ]
    }
   ],
   "source": [
    "pipe_rf_ordi = make_pipeline(\n",
    "    OrdinalEncoder(), \n",
    "    SimpleImputer(), \n",
    "    RandomForestClassifier(max_depth=6,\n",
    "                          criterion='entropy',\n",
    "                          n_jobs=-1,\n",
    "                          min_samples_leaf=3,\n",
    "                          random_state=100)\n",
    ")\n",
    "\n",
    "pipe_rf_ordi.fit(X_train, y_train)\n",
    "print('rf 훈련세트 정확도', pipe_rf_ordi.score(X_train, y_train).round(7))\n",
    "print('rf 훈련세트 f1 score', f1_score(y_train, pipe_rf_ordi.predict(X_train).round(7)))"
   ]
  },
  {
   "cell_type": "code",
   "execution_count": 34,
   "metadata": {},
   "outputs": [
    {
     "name": "stdout",
     "output_type": "stream",
     "text": [
      "rf 훈련세트 정확도 0.8781458\n",
      "rf 훈련세트 f1 score 0.6252802870139023\n"
     ]
    }
   ],
   "source": [
    "pipe_rf_ordi.fit(X_train, y_train)\n",
    "print('rf 훈련세트 정확도', pipe_rf_ordi.score(X_train, y_train).round(7))\n",
    "print('rf 훈련세트 f1 score', f1_score(y_train, pipe_rf_ordi.predict(X_train).round(7)))"
   ]
  },
  {
   "cell_type": "markdown",
   "metadata": {},
   "source": [
    "## 2.3 테스트셋의 ROC / AUC 검증 점수를 예측합니다\n",
    "> 제작한 모델을 활용해서 테스트셋의 **확률**을 예측하세요 (`ROC/AUC 검증 점수`를 **0.65 혹은 그 이상** 달성한다면 매우 훌륭한 모델입니다). 명시된 성능이 나오지 않았더라도 이 문제에 모든 시간을 소요하시면 안됩니다 (점수가 안나오는 경우 여러분이 구축한 파이프라인 모델링 및 모델링 과정으로 평가합니다)"
   ]
  },
  {
   "cell_type": "markdown",
   "metadata": {},
   "source": [
    "**★피드백 주신 부분에 대한 추가작성 코드★**"
   ]
  },
  {
   "cell_type": "code",
   "execution_count": 35,
   "metadata": {},
   "outputs": [
    {
     "name": "stdout",
     "output_type": "stream",
     "text": [
      "AUC score:  0.9394936\n"
     ]
    }
   ],
   "source": [
    "from sklearn.metrics import roc_auc_score\n",
    "\n",
    "y_pred_proba = pipe.predict_proba(X_val)[:, -1]\n",
    "print('AUC score: ', roc_auc_score(y_val, y_pred_proba).round(7))"
   ]
  },
  {
   "cell_type": "code",
   "execution_count": 36,
   "metadata": {
    "scrolled": false
   },
   "outputs": [
    {
     "name": "stdout",
     "output_type": "stream",
     "text": [
      "rf 훈련 정확도 :  0.9688542\n",
      "rf 검증 정확도 :  0.8645\n"
     ]
    }
   ],
   "source": [
    "print('rf 훈련 정확도 : ',pipe.score(X_train, y_train).round(7))\n",
    "print('rf 검증 정확도 : ',pipe.score(X_val, y_val).round(7))"
   ]
  },
  {
   "cell_type": "code",
   "execution_count": 37,
   "metadata": {
    "scrolled": true
   },
   "outputs": [
    {
     "name": "stdout",
     "output_type": "stream",
     "text": [
      "rf 훈련 정확도 :  0.8781458\n",
      "rf 검증 정확도 :  0.86775\n"
     ]
    }
   ],
   "source": [
    "print('rf 훈련 정확도 : ',pipe_rf_ordi.score(X_train, y_train).round(7))\n",
    "print('rf 검증 정확도 : ',pipe_rf_ordi.score(X_val, y_val).round(7))"
   ]
  },
  {
   "cell_type": "code",
   "execution_count": 38,
   "metadata": {
    "scrolled": true
   },
   "outputs": [
    {
     "name": "stdout",
     "output_type": "stream",
     "text": [
      "rf 훈련 f1 score :  0.9183194011910616\n",
      "rf 검증 f1 score :  0.4944029850746269\n"
     ]
    }
   ],
   "source": [
    "print('rf 훈련 f1 score : ',f1_score(y_train, pipe.predict(X_train).round(7)))\n",
    "print('rf 검증 f1 score : ',f1_score(y_val, pipe.predict(X_val).round(7)))"
   ]
  },
  {
   "cell_type": "code",
   "execution_count": 39,
   "metadata": {
    "scrolled": true
   },
   "outputs": [
    {
     "name": "stdout",
     "output_type": "stream",
     "text": [
      "rf 훈련 f1 score :  0.6252802870139023\n",
      "rf 검증 f1 score :  0.5443583118001722\n"
     ]
    }
   ],
   "source": [
    "print('rf 훈련 f1 score : ',f1_score(y_train, pipe_rf_ordi.predict(X_train).round(7)))\n",
    "print('rf 검증 f1 score : ',f1_score(y_val, pipe_rf_ordi.predict(X_val).round(7)))"
   ]
  },
  {
   "cell_type": "markdown",
   "metadata": {},
   "source": [
    "## 2.4 하이퍼 파라미터 튜닝을 통해서 모델을 개선하세요\n",
    "> `RandomSearchCV`, `GridSearchCV` 등을 활용해서 모델의 성능을 개선합니다. 범위 설정에 따라 시간이 매우 소요될 수 있습니다."
   ]
  },
  {
   "cell_type": "code",
   "execution_count": 40,
   "metadata": {},
   "outputs": [],
   "source": [
    "model = xgb.XGBClassifier()\n",
    "\n",
    "pipeline = Pipeline([\n",
    "    (\"le\", OrdinalEncoder()),\n",
    "    ('standard_scaler', StandardScaler()), \n",
    "    ('imputer', SimpleImputer()),\n",
    "    ('model', model)\n",
    "])\n",
    "\n",
    "param_grid = {\n",
    "    'model__max_depth': [2, 3, 5, 7, 10],\n",
    "    'model__n_estimators': [10, 100, 500],\n",
    "}\n",
    "\n",
    "grid = GridSearchCV(pipeline, param_grid, cv=5, n_jobs=-1, scoring='f1')"
   ]
  },
  {
   "cell_type": "code",
   "execution_count": null,
   "metadata": {},
   "outputs": [],
   "source": [
    "grid.fit(X_train, y_train)"
   ]
  },
  {
   "cell_type": "code",
   "execution_count": null,
   "metadata": {
    "scrolled": true
   },
   "outputs": [],
   "source": [
    "print(f\"Best parameters : {grid.best_params_}\")\n",
    "grid_model = grid.best_estimator_"
   ]
  },
  {
   "cell_type": "code",
   "execution_count": null,
   "metadata": {},
   "outputs": [],
   "source": [
    "grid_model.fit(X_train, y_train)"
   ]
  },
  {
   "cell_type": "code",
   "execution_count": null,
   "metadata": {},
   "outputs": [],
   "source": [
    "print('rf 훈련세트 정확도', grid_model.score(X_train, y_train))"
   ]
  },
  {
   "cell_type": "code",
   "execution_count": null,
   "metadata": {},
   "outputs": [],
   "source": [
    "y_pred = grid_model.predict(X_test)\n",
    "print(\"accuracy_score : \", accuracy_score(y_pred, y_test).round(7))\n",
    "print(\"recall_score : \", recall_score(y_pred, y_test).round(7))\n",
    "print(\"precision_score : \", precision_score(y_pred, y_test).round(7))\n",
    "print(\"f1_score : \", f1_score(y_pred, y_test).round(7))"
   ]
  },
  {
   "cell_type": "markdown",
   "metadata": {
    "colab_type": "text",
    "id": "u98nLGBTMo9s"
   },
   "source": [
    "# Part 3: 시각화 (Visualization)\n",
    "\n",
    "> 모델의 해석을 위한 시각화를 해주세요. 아래의 제시 된 종류 중 **2가지**를 선택하세요 (시각화에서 가장 중요한 것은 **여러분의 해석**입니다):\n",
    "> - Permutation Importances\n",
    "> - Partial Dependence Plot, 1 feature isolation\n",
    "> - Partial Dependence Plot, 2 features interaction\n",
    "> - Shapley Values (SHAP)"
   ]
  },
  {
   "cell_type": "markdown",
   "metadata": {},
   "source": [
    "3-1) 시각화 - Partial Dependence Plot, 1 feature isolation"
   ]
  },
  {
   "cell_type": "code",
   "execution_count": null,
   "metadata": {},
   "outputs": [],
   "source": [
    "feature = 'Risk'\n",
    "\n",
    "isolated = pdp_isolate(\n",
    "    model=pipe_rf_ordi, \n",
    "    dataset=X_train, \n",
    "    model_features=X_train.columns, \n",
    "    feature=feature,\n",
    "    grid_type='percentile', # default='percentile', or 'equal'\n",
    "    num_grid_points=10 # default=10\n",
    ")\n",
    "pdp_plot(isolated, feature_name=feature);"
   ]
  },
  {
   "cell_type": "markdown",
   "metadata": {},
   "source": [
    "★ 그래프 해석 ★  \n",
    " -. risk 1~2사이에 있는 식당들은 점검 후 적극적인 피드백에 의해 0보다 작은 곳에 위치하는 것 같고  \n",
    " -. risk3이상의 식당은 이미 회복하기에는 너무 큰 위반사항들이 있어서 폐업으로 이어지는 것으로 관측된다.   "
   ]
  },
  {
   "cell_type": "markdown",
   "metadata": {},
   "source": [
    "3-2) 시각화 - Partial Dependence Plot, 2 features interaction"
   ]
  },
  {
   "cell_type": "code",
   "execution_count": null,
   "metadata": {
    "scrolled": true
   },
   "outputs": [],
   "source": [
    "features = ['Risk', 'Violation5']\n",
    "\n",
    "interaction = pdp_interact(\n",
    "    model=boosting, \n",
    "    dataset=X_train_encoded, \n",
    "    model_features=X_train_encoded.columns, \n",
    "    features=features\n",
    ")\n",
    "\n",
    "pdp_interact_plot(interaction, plot_type='grid', feature_names=features);"
   ]
  },
  {
   "cell_type": "markdown",
   "metadata": {},
   "source": [
    "★ 그래프 해석 ★  \n",
    " -. violation5가 많이 적발될 수록 risk가 높은 그룹에 해당되었다.   \n",
    " -. risk가 높은 그룹은 페업활률이 높아진다.   "
   ]
  },
  {
   "cell_type": "markdown",
   "metadata": {},
   "source": [
    "3-3) Permutation Importances  "
   ]
  },
  {
   "cell_type": "code",
   "execution_count": null,
   "metadata": {
    "scrolled": true
   },
   "outputs": [],
   "source": [
    "# permuter 정의\n",
    "permuter = PermutationImportance(\n",
    "    model,\n",
    "    n_iter=5, \n",
    "    random_state=2).fit(X_val_encoded, y_val)\n"
   ]
  },
  {
   "cell_type": "code",
   "execution_count": null,
   "metadata": {
    "scrolled": false
   },
   "outputs": [],
   "source": [
    "feature_names = X_val_encoded.columns.tolist()\n",
    "pd.Series(permuter.feature_importances_, feature_names).sort_values(ascending=False)"
   ]
  },
  {
   "cell_type": "code",
   "execution_count": null,
   "metadata": {
    "scrolled": false
   },
   "outputs": [],
   "source": [
    "row = X_train.iloc[[1000]] \n",
    "row"
   ]
  },
  {
   "cell_type": "code",
   "execution_count": null,
   "metadata": {},
   "outputs": [],
   "source": [
    "model.predict(row)"
   ]
  },
  {
   "cell_type": "code",
   "execution_count": null,
   "metadata": {},
   "outputs": [],
   "source": [
    "explainer = shap.TreeExplainer(boosting)\n",
    "shap_values = explainer.shap_values(X_test_encoded.iloc[:3300])"
   ]
  },
  {
   "cell_type": "code",
   "execution_count": null,
   "metadata": {},
   "outputs": [],
   "source": [
    "X_test_encoded"
   ]
  },
  {
   "cell_type": "code",
   "execution_count": null,
   "metadata": {},
   "outputs": [],
   "source": [
    "shap.initjs()\n",
    "shap.force_plot(\n",
    "    base_value=explainer.expected_value, \n",
    "    shap_values=shap_values,\n",
    "    features=X_test\n",
    ")"
   ]
  },
  {
   "cell_type": "code",
   "execution_count": null,
   "metadata": {},
   "outputs": [],
   "source": []
  }
 ],
 "metadata": {
  "kernelspec": {
   "display_name": "Python 3",
   "language": "python",
   "name": "python3"
  },
  "language_info": {
   "codemirror_mode": {
    "name": "ipython",
    "version": 3
   },
   "file_extension": ".py",
   "mimetype": "text/x-python",
   "name": "python",
   "nbconvert_exporter": "python",
   "pygments_lexer": "ipython3",
   "version": "3.8.5"
  }
 },
 "nbformat": 4,
 "nbformat_minor": 4
}
