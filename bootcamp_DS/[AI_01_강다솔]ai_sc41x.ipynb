{
  "nbformat": 4,
  "nbformat_minor": 0,
  "metadata": {
    "colab": {
      "name": "ai-sc41x.ipynb",
      "provenance": [],
      "collapsed_sections": []
    },
    "kernelspec": {
      "display_name": "P41_NLP",
      "language": "python",
      "name": "p41_nlp"
    },
    "language_info": {
      "codemirror_mode": {
        "name": "ipython",
        "version": 3
      },
      "file_extension": ".py",
      "mimetype": "text/x-python",
      "name": "python",
      "nbconvert_exporter": "python",
      "pygments_lexer": "ipython3",
      "version": "3.7.0"
    },
    "nteract": {
      "version": "0.23.3"
    }
  },
  "cells": [
    {
      "cell_type": "markdown",
      "metadata": {
        "id": "dVNDxiWkw5y7"
      },
      "source": [
        "<img src='https://user-images.githubusercontent.com/6457691/90080969-0f758d00-dd47-11ea-8191-fa12fd2054a7.png' width = '200' align = 'right'>\n",
        "\n",
        "## AI SC41x\n",
        "\n",
        "---\n",
        "# Sprint Challenge - 신경망(Neural Network) 기본기 다지기\n",
        "\n",
        "Table of Problems\n",
        "\n",
        "1. 신경망 정의하기 \n",
        "2. 퍼셉트론 정의\n",
        "    - 퍼셉트론(Perceptron)\n",
        "    - 다층 퍼셉트론(Multilayer Perceptron)\n",
        "    - 분석과 비교\n",
        "4. Keras 사용하기"
      ]
    },
    {
      "cell_type": "markdown",
      "metadata": {
        "id": "O9qf0cRbw5y8"
      },
      "source": [
        "<a id=\"Q1\"></a>\n",
        "## 1. 신경망 용어 정의\n",
        "### 1.1 아래에 주어진 신경망 개념에 사용 되는 용어들을 자신만의 언어로 정의해보세요\n",
        "꼭 \"자신의 언어\"로 써보시고, 정리해보고, 요약해보세요 :)"
      ]
    },
    {
      "cell_type": "markdown",
      "metadata": {
        "id": "c10aKJSQ72mI"
      },
      "source": [
        "- **Neuron: 뉴런은 신경망에서 퍼센트론을 지칭하며, 신경망을 구성하는 가장 작은 단위이다. 뉴런이 가지고 있는 고유한 특성을 통해 입력신호를 아웃풋신호로 변경하여 신경을 전달하는 역할을 한다. **\n",
        "- **Input Layer: 신경망을 구성하는 단위로써 신경망에서 데이터를 입력을 담당하는 구성요소이다. 이러한 입력은 웹 서비스 또는 CSV 파일과 같은 외부 소스에서 로드할 수 있다. 신경망에는 항상 하나의 입력 계층이 있어야하며 입력 레이어는 입력을 받아 뉴런을 통해 계산을 수행한 다음 출력이 후속 레이어로 전송된다. **\n",
        "- **Hidden Layer:히든 레이어는 입력 레이어와 출력 레이어 사이에 있으며 이렇게 숨겨져있는 층이기 때문에 은닉층, HIDDEN LAYER라고 이야기한다. 히든 레이어의 도입으로 신경망은 대부분의 기계 학습 알고리즘보다 더 복잡한 문제를 해결할 수 있으며, 성능이 좋아졌다. **\n",
        "- **Output Layer:인공 신경망의 출력 계층은 프로그램에 주어진 출력을 생성하는 뉴런의 마지막 층이다. 비록 그것들은 신경망의 다른 인공 뉴런들과 매우 비슷하게 만들어졌지만, 그들이 네트워크의 마지막 \"actor\" 노드라는 점에서, 출력층 뉴런들은 softmax, binary func 등 여러 함수들로 인해 다른 방식으로 만들어지거나 변경된 결과를 우리에게 전달해준다.**\n",
        "- **Activation Function: layer에 있으며 노드의 출력을 얻기 위해 사용하는 것은 함수입니다.**\n",
        "- **Back Propagation:계산 결과와 정답의 오차를 구해 이 오차에 관여하는 값들의 가중치를 수정하여 오차가 작아지는 방향으로 일정 횟수를 반복해 수정하는 방법이다. 오차역전파 또는 오류역전파라고도 불린다.**"
      ]
    },
    {
      "cell_type": "markdown",
      "metadata": {
        "id": "YdcS-Jx2w5y8"
      },
      "source": [
        "### 1.2 역전파 설명해보기\n",
        "이번에는 역전파 (Back Propagation)를 조금 더 디테일하게 설명해보겠습니다. \n",
        "<br> <b>초등학생</b>에게 설명한다는 생각으로 단어들을 선정해 주세요. <i>외부 자료나 이미지를 설명에 활용하셔도 좋습니다</i>."
      ]
    },
    {
      "cell_type": "markdown",
      "metadata": {
        "id": "wp-kUuiW_L6s"
      },
      "source": [
        "랜덤한 가중치를 이용하여 출력된 순전파의 결과값은 오류가 반영되어 있다. 이에, 해당 오류를 줄이고, 성능을 향상시키기 위해 랜덤한 가중치를 업데이트해주는 작업이 필요하다. \n",
        "\n",
        "랜덤하게 설정된 가중치를 업데이틑 하는 방법은 여러가지가 있다.   \n",
        "1. 가중치를 직접 설정하는 것 \n",
        "2. 결과값을 기준으로 가중치 값을 변경하는 것 \n",
        "  \n",
        "1번 방법의 경우, 우리는 어떻게 설정해줘야할지 몰라서 랜덤하게 가중치를 주었는데 가중치를 직접 설정한다는 것은 논리적인 흐름에도 맞지 않고, 수 백개가 넘는 노드의 가중치를 직접 설정해준다는 것이 말이 되지 않는다. \n",
        "  \n",
        "이에, 2번 방법을 이용해야하는데 이 방법을 우리는 역전파라고 지칭한다. 그 이유는 결과값을 기준으로 역으로 가중치를 찾아가고 변경하고 업데이트하기 때문이다.  \n",
        "  \n",
        "수학적으로 이렇게 결과값을 중심으로 변수를 찾아가는 과정을 편미분한다고 이야기를 한다. 가중치 w1에 대한 편미분을 통하여 우리는 원하는 가중치를 찾을 수 있고 이를 기반으로 로스 함수의 결과 값을 줄일 수 있다. 그런데 중간에 은닉층이 많은 경우 연속적으로 편미분을 진행해야하는데 이렇게 연속적으로 편미분을 진행하는 것을 chain rule법칙이라고 한다. "
      ]
    },
    {
      "cell_type": "markdown",
      "metadata": {
        "id": "uDVjIpRqP9hN"
      },
      "source": [
        "![image.png](data:image/png;base64,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)"
      ]
    },
    {
      "cell_type": "markdown",
      "metadata": {
        "id": "b4ftY1cQQACk"
      },
      "source": [
        "위와 같은 chain rule 방식으로 모든 노드의 가중치를 일괄적으로 업데이트하는 방법으로는 경사하강법이 있으며, 다양한 경사하강법 방법들이 있다. 이렇게 경사하강이 진행된 모델은 이전보다 훨씬 성능이 향상된 모델을 만들 수 있는데 이러한 일련의 과정을 역전파라고 한다. \n",
        "\n",
        "---\n",
        "\n"
      ]
    },
    {
      "cell_type": "markdown",
      "metadata": {
        "id": "W7ZSjf9Uw5y8"
      },
      "source": [
        "### 1.3 퍼셉트론 정의해보기\n",
        "신경망 수업 첫날에 들었었던 퍼셉트론의 간단한 개념으로 예측하는 과정을 설명해보세요. <br> <b>입력</b>에서 <b>출력</b>으로 어떻게 변경되는 지 단계별로 설명해보세요."
      ]
    },
    {
      "cell_type": "markdown",
      "metadata": {
        "id": "0HKwQJZhQlT_"
      },
      "source": [
        "사실 퍼셉트론(논리회로)는 사람들이 원거리에 있는 사람과 소통하고 싶다는 욕구에 의해서 만들어진 회로이다. \n",
        "\n",
        "사람들은 1800~1900대부터 어떻게 하면 원거리에 있는 사람과 소통할 수 있을까?를 고민하였고, 그 고민의 순서는 방울이 달린 실, 손전등, 접지와 릴레이, 모스부호 순서로 발전되었다. \n",
        "(특히, 전쟁에서는 먼저 정보를 전달하는 쪽이 큰 승리를 거두었다.)  \n",
        "특히 이 접지와 릴렐이가 전세계의 신호를 전달하는데 매우 큰 기여를 하게되었다. \n",
        "\n",
        "이렇게 되다보니 사람들은 더 복잡한 정보를 전달하고 싶었고, 논리회로(페셉트론)의 응용 통해 컴퓨터(더하기를 하는 기계)를 만들어냄으로써 글자를 주고 받을 수 있게 해주었다.\n",
        "\n",
        "그렇다면 퍼셉트론이 무엇이냐?\n",
        "2개의 입력층을 통해 전달받은 신호를 하나의 신호로 전달해주는 작은 입출력 장치이다. \n",
        "  \n",
        "예를 들어보자 \n",
        "두개의 버튼이 있는데 양쪽 모두를 눌러야 전구가 켜지는 퍼셉트론이 있다고 가정해보자 \n",
        "  \n",
        "나는 버튼을 눌러서 신호를 보냈는데 친구가 버튼을 누르지 않아 전구가 켜지지 않았다. \n",
        "  \n",
        "그럼 한쪽만 눌러도 전구가켜지는 퍼셉트론을 만들게 된다. \n",
        "그랬더니 나만 버튼을 눌러도 전구가 켜지고 이 전구는 신호를 전달하게 된다. \n",
        "\n",
        "또는 이렇게도 만들 수 있다. 모두 버튼을 누르면 전구가 꺼지게 만들 수도 있다. \n",
        "\n",
        "이러한 논리회로(and, or, xand 등)을 조합하여 현재 우리가 사용하고 있는 컴퓨터가 만들어지게 된 것이고 이를 통해 복잡한 정보가 주고 받아지는 사회가 형성되었다. \n",
        "  \n",
        "   \n",
        "정말 작은 회로하나가 세상을 바꿨다고 해도 과언이 아니라고 생각하고 퍼셉트론은 우리가 생각하는 것보다 훨씬 중요한 신호전달 단위이다. "
      ]
    },
    {
      "cell_type": "markdown",
      "metadata": {
        "id": "1A2h2zpCw5y8"
      },
      "source": [
        "<a id=\"Q2\"></a>\n",
        "## 2. 단순 퍼셉트론\n",
        "\n",
        "이번에는 TensorFlow, keras를 사용하여 두 개의 신경망을 직접 구축한 뒤,\n",
        "<br> 아래 임의로 제공 된 $X, y$를 이용하여 두 모델에 적용한 뒤 결과를 비교해보세요. \n",
        "먼저 사용할 데이터는 다음과 같습니다."
      ]
    },
    {
      "cell_type": "code",
      "metadata": {
        "colab": {
          "base_uri": "https://localhost:8080/",
          "height": 283
        },
        "id": "TWdXFK9Yw5y8",
        "outputId": "798c2206-c1e1-468e-98c0-bac77213a468"
      },
      "source": [
        "import numpy as np\n",
        "import matplotlib.pyplot as plt\n",
        "\n",
        "xx, yy = np.meshgrid(np.linspace(-3, 3, 50),\n",
        "                     np.linspace(-3, 3, 50))\n",
        "rng = np.random.RandomState(0)\n",
        "\n",
        "\n",
        "\"model1과 model2를 구축할 때 아래의 X & y를 사용하세요\"\n",
        "X = rng.randn(300, 2)\n",
        "y = np.array(np.logical_xor(X[:, 0] > 0, X[:, 1] > 0), \n",
        "             dtype=int)\n",
        "\n",
        "plt.scatter(X[:,0], X[:,1], s=y)\n"
      ],
      "execution_count": 50,
      "outputs": [
        {
          "output_type": "execute_result",
          "data": {
            "text/plain": [
              "<matplotlib.collections.PathCollection at 0x7f0b4303f190>"
            ]
          },
          "metadata": {
            "tags": []
          },
          "execution_count": 50
        },
        {
          "output_type": "display_data",
          "data": {
            "image/png": "[encoded data removed]",
            "text/plain": [
              "<Figure size 432x288 with 1 Axes>"
            ]
          },
          "metadata": {
            "tags": [],
            "needs_background": "light"
          }
        }
      ]
    },
    {
      "cell_type": "code",
      "metadata": {
        "id": "w8QUHeVj_7Oe"
      },
      "source": [
        "import numpy as np\n",
        "import tensorflow as tf\n",
        "from tensorflow import keras\n",
        "from tensorflow.keras.models import Sequential\n",
        "from tensorflow.keras.layers import Dense, Flatten, BatchNormalization\n",
        "from sklearn.model_selection import train_test_split\n",
        "from sklearn.metrics import classification_report, accuracy_score"
      ],
      "execution_count": 51,
      "outputs": []
    },
    {
      "cell_type": "markdown",
      "metadata": {
        "id": "xjr4UoQXw5y8"
      },
      "source": [
        "### 단순 퍼셉트론 구현\n",
        "Keras로 <b>sigmoid activation function</b>을 포함한 dense layer 1개가 있는</b> `model1`을 만들어 학습시키고 `h1`에 저장하세요."
      ]
    },
    {
      "cell_type": "code",
      "metadata": {
        "colab": {
          "base_uri": "https://localhost:8080/"
        },
        "id": "vKZXIC1ew5y8",
        "outputId": "37c42367-1e70-4fa4-977b-b7a21c146797"
      },
      "source": [
        "model1 = Sequential([Dense(1,activation='sigmoid')])\n",
        "model1.compile(optimizer='adam', loss='binary_crossentropy', metrics=['accuracy'])\n",
        "h1 = model1.fit(X, y, epochs=30)"
      ],
      "execution_count": 52,
      "outputs": [
        {
          "output_type": "stream",
          "text": [
            "Epoch 1/30\n",
            "10/10 [==============================] - 0s 2ms/step - loss: 0.8124 - accuracy: 0.4487\n",
            "Epoch 2/30\n",
            "10/10 [==============================] - 0s 2ms/step - loss: 0.7945 - accuracy: 0.4697\n",
            "Epoch 3/30\n",
            "10/10 [==============================] - 0s 2ms/step - loss: 0.7892 - accuracy: 0.4867\n",
            "Epoch 4/30\n",
            "10/10 [==============================] - 0s 2ms/step - loss: 0.7776 - accuracy: 0.4742\n",
            "Epoch 5/30\n",
            "10/10 [==============================] - 0s 2ms/step - loss: 0.7497 - accuracy: 0.5300\n",
            "Epoch 6/30\n",
            "10/10 [==============================] - 0s 2ms/step - loss: 0.8067 - accuracy: 0.4683\n",
            "Epoch 7/30\n",
            "10/10 [==============================] - 0s 2ms/step - loss: 0.7755 - accuracy: 0.4786\n",
            "Epoch 8/30\n",
            "10/10 [==============================] - 0s 4ms/step - loss: 0.7709 - accuracy: 0.5075\n",
            "Epoch 9/30\n",
            "10/10 [==============================] - 0s 2ms/step - loss: 0.7818 - accuracy: 0.5001\n",
            "Epoch 10/30\n",
            "10/10 [==============================] - 0s 2ms/step - loss: 0.7669 - accuracy: 0.5026\n",
            "Epoch 11/30\n",
            "10/10 [==============================] - 0s 2ms/step - loss: 0.7623 - accuracy: 0.4966\n",
            "Epoch 12/30\n",
            "10/10 [==============================] - 0s 3ms/step - loss: 0.7557 - accuracy: 0.5001\n",
            "Epoch 13/30\n",
            "10/10 [==============================] - 0s 2ms/step - loss: 0.7391 - accuracy: 0.5275\n",
            "Epoch 14/30\n",
            "10/10 [==============================] - 0s 2ms/step - loss: 0.7796 - accuracy: 0.4803\n",
            "Epoch 15/30\n",
            "10/10 [==============================] - 0s 2ms/step - loss: 0.7522 - accuracy: 0.5037\n",
            "Epoch 16/30\n",
            "10/10 [==============================] - 0s 2ms/step - loss: 0.7465 - accuracy: 0.4836\n",
            "Epoch 17/30\n",
            "10/10 [==============================] - 0s 2ms/step - loss: 0.7671 - accuracy: 0.4552\n",
            "Epoch 18/30\n",
            "10/10 [==============================] - 0s 2ms/step - loss: 0.7403 - accuracy: 0.5113\n",
            "Epoch 19/30\n",
            "10/10 [==============================] - 0s 2ms/step - loss: 0.7593 - accuracy: 0.4672\n",
            "Epoch 20/30\n",
            "10/10 [==============================] - 0s 3ms/step - loss: 0.7650 - accuracy: 0.4607\n",
            "Epoch 21/30\n",
            "10/10 [==============================] - 0s 2ms/step - loss: 0.7601 - accuracy: 0.4671\n",
            "Epoch 22/30\n",
            "10/10 [==============================] - 0s 2ms/step - loss: 0.7368 - accuracy: 0.5079\n",
            "Epoch 23/30\n",
            "10/10 [==============================] - 0s 2ms/step - loss: 0.7533 - accuracy: 0.4838\n",
            "Epoch 24/30\n",
            "10/10 [==============================] - 0s 2ms/step - loss: 0.7510 - accuracy: 0.5056\n",
            "Epoch 25/30\n",
            "10/10 [==============================] - 0s 2ms/step - loss: 0.7178 - accuracy: 0.5089\n",
            "Epoch 26/30\n",
            "10/10 [==============================] - 0s 2ms/step - loss: 0.7242 - accuracy: 0.4932\n",
            "Epoch 27/30\n",
            "10/10 [==============================] - 0s 1ms/step - loss: 0.7365 - accuracy: 0.4906\n",
            "Epoch 28/30\n",
            "10/10 [==============================] - 0s 2ms/step - loss: 0.7218 - accuracy: 0.5063\n",
            "Epoch 29/30\n",
            "10/10 [==============================] - 0s 2ms/step - loss: 0.7235 - accuracy: 0.5343\n",
            "Epoch 30/30\n",
            "10/10 [==============================] - 0s 2ms/step - loss: 0.7463 - accuracy: 0.4656\n"
          ],
          "name": "stdout"
        }
      ]
    },
    {
      "cell_type": "markdown",
      "metadata": {
        "id": "0Ugkziwew5y8"
      },
      "source": [
        "\n",
        "### Multi-Layer Perceptron (MLP)\n",
        "이번에는 여러층의 레이어들을 쌓은 MLP 모델을 만들어보겠습니다. 아래는 간략한 가이드입니다 :\n",
        "- 2개의 은닉층 (출력 수를 맞추는 것까지 3개의 Dense를 사용할 것은 추천)\n",
        "- 노드의 개수는 8-32개 내에서 변경해서 사용해보세요.\n",
        "- Activation function과 optimizer는 이번 주에 배운 것들 중에서 자유롭게 골라보세요.\n",
        "- 아래 만들어진 Callback function을 모델에 통합해서 사용하세요\n",
        "\n",
        "MLP로 만들어진 `model2` 를 만들어 학습하고 `h2`에 저장하세요."
      ]
    },
    {
      "cell_type": "code",
      "metadata": {
        "id": "6BoIn7iBw5y8"
      },
      "source": [
        "import tensorflow as tf\n",
        "\n",
        "class myCallback(tf.keras.callbacks.Callback): \n",
        "    def on_epoch_end(self, epoch, logs={}): \n",
        "        if(logs.get('accuracy') > .90):   \n",
        "            self.model.stop_training = True"
      ],
      "execution_count": 53,
      "outputs": []
    },
    {
      "cell_type": "code",
      "metadata": {
        "colab": {
          "base_uri": "https://localhost:8080/"
        },
        "id": "B63dciqEw5y8",
        "outputId": "749fa0fa-0ad1-4618-d0f2-bc9ade1c1ed2"
      },
      "source": [
        "model2 = Sequential([\n",
        "                     Dense(8, activation='relu'),\n",
        "                     Dense(32, activation='relu'),\n",
        "                     Dense(1,activation='sigmoid')\n",
        "])\n",
        "\n",
        "model2.compile(optimizer='adam', loss='binary_crossentropy', metrics=['accuracy'])\n",
        "\n",
        "h2 = model2.fit(X, y, epochs=50, callbacks=[myCallback()])"
      ],
      "execution_count": 54,
      "outputs": [
        {
          "output_type": "stream",
          "text": [
            "Epoch 1/50\n",
            "10/10 [==============================] - 1s 2ms/step - loss: 0.6889 - accuracy: 0.5600\n",
            "Epoch 2/50\n",
            "10/10 [==============================] - 0s 2ms/step - loss: 0.6776 - accuracy: 0.6578\n",
            "Epoch 3/50\n",
            "10/10 [==============================] - 0s 2ms/step - loss: 0.6711 - accuracy: 0.7362\n",
            "Epoch 4/50\n",
            "10/10 [==============================] - 0s 2ms/step - loss: 0.6620 - accuracy: 0.7729\n",
            "Epoch 5/50\n",
            "10/10 [==============================] - 0s 2ms/step - loss: 0.6564 - accuracy: 0.7298\n",
            "Epoch 6/50\n",
            "10/10 [==============================] - 0s 4ms/step - loss: 0.6406 - accuracy: 0.7558\n",
            "Epoch 7/50\n",
            "10/10 [==============================] - 0s 3ms/step - loss: 0.6289 - accuracy: 0.7526\n",
            "Epoch 8/50\n",
            "10/10 [==============================] - 0s 2ms/step - loss: 0.6309 - accuracy: 0.7274\n",
            "Epoch 9/50\n",
            "10/10 [==============================] - 0s 2ms/step - loss: 0.6128 - accuracy: 0.7366\n",
            "Epoch 10/50\n",
            "10/10 [==============================] - 0s 2ms/step - loss: 0.6039 - accuracy: 0.7539\n",
            "Epoch 11/50\n",
            "10/10 [==============================] - 0s 2ms/step - loss: 0.5854 - accuracy: 0.7733\n",
            "Epoch 12/50\n",
            "10/10 [==============================] - 0s 2ms/step - loss: 0.5829 - accuracy: 0.7586\n",
            "Epoch 13/50\n",
            "10/10 [==============================] - 0s 2ms/step - loss: 0.5766 - accuracy: 0.7284\n",
            "Epoch 14/50\n",
            "10/10 [==============================] - 0s 2ms/step - loss: 0.5528 - accuracy: 0.7578\n",
            "Epoch 15/50\n",
            "10/10 [==============================] - 0s 2ms/step - loss: 0.5542 - accuracy: 0.7104\n",
            "Epoch 16/50\n",
            "10/10 [==============================] - 0s 3ms/step - loss: 0.5363 - accuracy: 0.7542\n",
            "Epoch 17/50\n",
            "10/10 [==============================] - 0s 2ms/step - loss: 0.5154 - accuracy: 0.7647\n",
            "Epoch 18/50\n",
            "10/10 [==============================] - 0s 3ms/step - loss: 0.4990 - accuracy: 0.7669\n",
            "Epoch 19/50\n",
            "10/10 [==============================] - 0s 2ms/step - loss: 0.5040 - accuracy: 0.7855\n",
            "Epoch 20/50\n",
            "10/10 [==============================] - 0s 2ms/step - loss: 0.4799 - accuracy: 0.8318\n",
            "Epoch 21/50\n",
            "10/10 [==============================] - 0s 3ms/step - loss: 0.4633 - accuracy: 0.8501\n",
            "Epoch 22/50\n",
            "10/10 [==============================] - 0s 2ms/step - loss: 0.4560 - accuracy: 0.8558\n",
            "Epoch 23/50\n",
            "10/10 [==============================] - 0s 2ms/step - loss: 0.4371 - accuracy: 0.8435\n",
            "Epoch 24/50\n",
            "10/10 [==============================] - 0s 2ms/step - loss: 0.4270 - accuracy: 0.8730\n",
            "Epoch 25/50\n",
            "10/10 [==============================] - 0s 2ms/step - loss: 0.4204 - accuracy: 0.8699\n",
            "Epoch 26/50\n",
            "10/10 [==============================] - 0s 3ms/step - loss: 0.3970 - accuracy: 0.9230\n"
          ],
          "name": "stdout"
        }
      ]
    },
    {
      "cell_type": "markdown",
      "metadata": {
        "id": "xn2TsE76w5y8"
      },
      "source": [
        "### Analyze and Compare\n",
        "\n",
        "코드를 시작하기 전에 추가 라이브러리를 설치해야 합니다. 스프린트 과제에 사용 중인 환경에 패키지 `mlxtend`를 설치합니다. 설치코드를 직접 제작해보세요. 기존 자료들을 참고하면 쉽게 설치할 수 있을 것입니다. \n",
        "\n",
        "아래 셀은 모형의 의사결정 경계도(\"model1\" 및 \"model2\")를 생성합니다. 그림을 검토합니다."
      ]
    },
    {
      "cell_type": "code",
      "metadata": {
        "colab": {
          "base_uri": "https://localhost:8080/"
        },
        "id": "96hsbGktVlgL",
        "outputId": "772302ee-d18a-493d-de0f-039c1fba46e1"
      },
      "source": [
        "# mlxtend 라이브러리를 설치합니다\n",
        "!pip install mlxtend"
      ],
      "execution_count": 55,
      "outputs": [
        {
          "output_type": "stream",
          "text": [
            "Requirement already satisfied: mlxtend in /usr/local/lib/python3.7/dist-packages (0.14.0)\n",
            "Requirement already satisfied: setuptools in /usr/local/lib/python3.7/dist-packages (from mlxtend) (54.2.0)\n",
            "Requirement already satisfied: matplotlib>=1.5.1 in /usr/local/lib/python3.7/dist-packages (from mlxtend) (3.2.2)\n",
            "Requirement already satisfied: pandas>=0.17.1 in /usr/local/lib/python3.7/dist-packages (from mlxtend) (1.1.5)\n",
            "Requirement already satisfied: scipy>=0.17 in /usr/local/lib/python3.7/dist-packages (from mlxtend) (1.4.1)\n",
            "Requirement already satisfied: numpy>=1.10.4 in /usr/local/lib/python3.7/dist-packages (from mlxtend) (1.19.5)\n",
            "Requirement already satisfied: scikit-learn>=0.18 in /usr/local/lib/python3.7/dist-packages (from mlxtend) (0.22.2.post1)\n",
            "Requirement already satisfied: python-dateutil>=2.1 in /usr/local/lib/python3.7/dist-packages (from matplotlib>=1.5.1->mlxtend) (2.8.1)\n",
            "Requirement already satisfied: pyparsing!=2.0.4,!=2.1.2,!=2.1.6,>=2.0.1 in /usr/local/lib/python3.7/dist-packages (from matplotlib>=1.5.1->mlxtend) (2.4.7)\n",
            "Requirement already satisfied: kiwisolver>=1.0.1 in /usr/local/lib/python3.7/dist-packages (from matplotlib>=1.5.1->mlxtend) (1.3.1)\n",
            "Requirement already satisfied: cycler>=0.10 in /usr/local/lib/python3.7/dist-packages (from matplotlib>=1.5.1->mlxtend) (0.10.0)\n",
            "Requirement already satisfied: pytz>=2017.2 in /usr/local/lib/python3.7/dist-packages (from pandas>=0.17.1->mlxtend) (2018.9)\n",
            "Requirement already satisfied: joblib>=0.11 in /usr/local/lib/python3.7/dist-packages (from scikit-learn>=0.18->mlxtend) (1.0.1)\n",
            "Requirement already satisfied: six>=1.5 in /usr/local/lib/python3.7/dist-packages (from python-dateutil>=2.1->matplotlib>=1.5.1->mlxtend) (1.15.0)\n"
          ],
          "name": "stdout"
        }
      ]
    },
    {
      "cell_type": "code",
      "metadata": {
        "colab": {
          "base_uri": "https://localhost:8080/",
          "height": 446
        },
        "id": "ox13rgjTw5y8",
        "outputId": "d83afa04-606d-4864-942f-5bdca76cfb5a"
      },
      "source": [
        "# 이 셀의 코드는 변경하지 마세요\n",
        "\n",
        "import matplotlib.pyplot as plt\n",
        "from mlxtend.plotting import plot_decision_regions\n",
        "\n",
        "h = .02  # step size in the mesh\n",
        "\n",
        "# create a mesh to plot in\n",
        "x_min, x_max = X[:, 0].min() - .2, X[:, 0].max() + .2\n",
        "y_min, y_max = X[:, 1].min() - .2, X[:, 1].max() + .2\n",
        "xx, yy = np.meshgrid(np.arange(x_min, x_max, h),\n",
        "                     np.arange(y_min, y_max, h))\n",
        "\n",
        "fig = plt.figure(figsize=(12,6))\n",
        "\n",
        "\n",
        "for clf, hist, name, grd in zip([model1,model2], [h1, h2],['Perceptron', 'Multi-Layer Perceptron'],[1,2]):\n",
        "\n",
        "    ax = plt.subplot(1,2, grd)\n",
        "    fig = plot_decision_regions(X=X, y=y, clf=clf, legend=2)\n",
        "    title = f\"{name} with {hist.history['accuracy'][-1]:,.2f} Accuracy\"\n",
        "    plt.title(title)\n",
        "\n",
        "plt.show()"
      ],
      "execution_count": 56,
      "outputs": [
        {
          "output_type": "stream",
          "text": [
            "/usr/local/lib/python3.7/dist-packages/mlxtend/plotting/decision_regions.py:244: MatplotlibDeprecationWarning: Passing unsupported keyword arguments to axis() will raise a TypeError in 3.3.\n",
            "  ax.axis(xmin=xx.min(), xmax=xx.max(), y_min=yy.min(), y_max=yy.max())\n"
          ],
          "name": "stderr"
        },
        {
          "output_type": "display_data",
          "data": {
            "image/png": "[encoded data removed]",
            "text/plain": [
              "<Figure size 864x432 with 2 Axes>"
            ]
          },
          "metadata": {
            "tags": [],
            "needs_background": "light"
          }
        }
      ]
    },
    {
      "cell_type": "markdown",
      "metadata": {
        "id": "4qBWszwMw5y8"
      },
      "source": [
        "#### 대부분의 Perceptron(\"model1\")의 정확도가 50-70% 정도로 나오실 것인데요, 왜 그것밖에 되지 않을까요? <br> 데이터 X와 레이블 y의 관계를 보다 정확하게 학습할 수 있는 다층 퍼셉트론의 구조적인 특징은 무엇일까요? (설명을 하실 때 우리가 배웠었던 특징 추출의 관점에서 설명을 해보시길 바랍니다.)"
      ]
    },
    {
      "cell_type": "markdown",
      "metadata": {
        "id": "IDq5-Vf3Fa5G"
      },
      "source": [
        "우리는 모델1과 모델2를 dense 유무의 차이를 주고 실험을 진행하였다. 모델1 같은 경우, dense가 없이 설계하였고, 모델2는 dense를 두고 설계하였다. 결과적으로 dense를 넣은 모델2가 훨씬 좋은 성능을 보이는 것을 관측하였다. \n",
        "  \n",
        "모델2가 더 좋은 결과를 나타내는 이유를 dense라고 생각할 수 있는데, dense에는 가중치를 가지고 있어서 입력되는 데이터를 해당 가중치와 연산을 진행하게 되고, 각 층(dense)마다 렐루같은 엑티베이트 함수에 의하여 변경된 신호를 전달하게 된다. 이러한 dense의 특성때문에 분석에 필요한 데이터의 가중치가 높아지게 되고 가중치가 덜 반영된 데이터는 추출이 되지 않는 경향을 보이게 된다. 그로 인해 오류가 줄어들게 되어 성능이 향상되었다. "
      ]
    },
    {
      "cell_type": "markdown",
      "metadata": {
        "id": "FYEPmr-_w5y8"
      },
      "source": [
        "## 3. Keras MLP 튜닝\n",
        "\n",
        "이번에는 Keras 라이브러리를 사용하여 선택한 MultiLayer Perceptron(MLP) 아키텍처를 구현해보겠습니다. 극히 단순한 모델부터 복잡한 모델까지 만들어 보실 수 있습니다. 모델을 학습하고 정확도를 구해보세요. \n",
        "<br> 그런 다음 최소 <b>두 개</b>의 파라미터를 튜닝한 후에 다시 모형의 정확도를 구해보고 이전 모델과 비교해보세요. \n",
        "<br> 아래 Cell에서 심장병 데이터 세트를 불러 온 후 이진 분류 모델 (binary classification model) 을 만들어 보세요. 이진 분류 작업에 적절한 손실 함수를 사용하고, 신경망의 마지막 계층에서 적절한 출력값과 활성화 함수를 사용합니다. \n",
        "<br> 세부적인 출력을 사용하여 빠르게 수렴할 수 있도록 모델을 학습해보는 것도 중요합니다. GridSearchCV 또는 RandomSearchCV를 사용하여 모델을 하이퍼 파라미터들을 튜닝해봅니다. (최소 두 개의 하이퍼 파라미터를 튜닝해봅니다) 하이퍼 파라미터 튜닝 시 새로운 각 실험에 대해 코드 셀을 추가하여 작업하는 방법을 배워보았는데, 그대로 이용하지 말고 변형을 해서 보여주고 싶은 내용을 정리해서 보여주세요.  \n",
        "<br> 테스트할 때 하이퍼 파라미터의 각 조합에 대한 정확도를 보고하여 가장 높은 정확도를 얻을 수 있는 결과를 쉽게 확인할 수 있도록 합니다. \n",
        "<br> 이 SC에서 **3점**을 얻으려면 **최소 3개의 파라미터**를 조정해야 합니다.\n",
        "\n",
        "- BatchNormalization을 레이어에 추가하면 성능이 많이 오를 수 있습니다. \n",
        "- 하지만 BatchNormalization을 사용하기 위해서는 Batch_size 옵션을 추가해야 합니다."
      ]
    },
    {
      "cell_type": "code",
      "metadata": {
        "colab": {
          "base_uri": "https://localhost:8080/",
          "height": 222
        },
        "id": "F35sgQ7Cw5y8",
        "inputHidden": false,
        "jupyter": {
          "outputs_hidden": false
        },
        "outputHidden": false,
        "outputId": "de00f03c-df12-4c41-98f2-8ccd41d34b2e"
      },
      "source": [
        "import pandas as pd\n",
        "from sklearn.preprocessing import StandardScaler\n",
        "\n",
        "df = pd.read_csv('https://ds-lecture-data.s3.ap-northeast-2.amazonaws.com/datasets/heart.csv')\n",
        "df = df.sample(frac=1)\n",
        "print(df.shape)\n",
        "df.head()"
      ],
      "execution_count": 57,
      "outputs": [
        {
          "output_type": "stream",
          "text": [
            "(303, 14)\n"
          ],
          "name": "stdout"
        },
        {
          "output_type": "execute_result",
          "data": {
            "text/html": [
              "<div>\n",
              "<style scoped>\n",
              "    .dataframe tbody tr th:only-of-type {\n",
              "        vertical-align: middle;\n",
              "    }\n",
              "\n",
              "    .dataframe tbody tr th {\n",
              "        vertical-align: top;\n",
              "    }\n",
              "\n",
              "    .dataframe thead th {\n",
              "        text-align: right;\n",
              "    }\n",
              "</style>\n",
              "<table border=\"1\" class=\"dataframe\">\n",
              "  <thead>\n",
              "    <tr style=\"text-align: right;\">\n",
              "      <th></th>\n",
              "      <th>age</th>\n",
              "      <th>sex</th>\n",
              "      <th>cp</th>\n",
              "      <th>trestbps</th>\n",
              "      <th>chol</th>\n",
              "      <th>fbs</th>\n",
              "      <th>restecg</th>\n",
              "      <th>thalach</th>\n",
              "      <th>exang</th>\n",
              "      <th>oldpeak</th>\n",
              "      <th>slope</th>\n",
              "      <th>ca</th>\n",
              "      <th>thal</th>\n",
              "      <th>target</th>\n",
              "    </tr>\n",
              "  </thead>\n",
              "  <tbody>\n",
              "    <tr>\n",
              "      <th>147</th>\n",
              "      <td>60</td>\n",
              "      <td>0</td>\n",
              "      <td>3</td>\n",
              "      <td>150</td>\n",
              "      <td>240</td>\n",
              "      <td>0</td>\n",
              "      <td>1</td>\n",
              "      <td>171</td>\n",
              "      <td>0</td>\n",
              "      <td>0.9</td>\n",
              "      <td>2</td>\n",
              "      <td>0</td>\n",
              "      <td>2</td>\n",
              "      <td>1</td>\n",
              "    </tr>\n",
              "    <tr>\n",
              "      <th>20</th>\n",
              "      <td>59</td>\n",
              "      <td>1</td>\n",
              "      <td>0</td>\n",
              "      <td>135</td>\n",
              "      <td>234</td>\n",
              "      <td>0</td>\n",
              "      <td>1</td>\n",
              "      <td>161</td>\n",
              "      <td>0</td>\n",
              "      <td>0.5</td>\n",
              "      <td>1</td>\n",
              "      <td>0</td>\n",
              "      <td>3</td>\n",
              "      <td>1</td>\n",
              "    </tr>\n",
              "    <tr>\n",
              "      <th>38</th>\n",
              "      <td>65</td>\n",
              "      <td>0</td>\n",
              "      <td>2</td>\n",
              "      <td>155</td>\n",
              "      <td>269</td>\n",
              "      <td>0</td>\n",
              "      <td>1</td>\n",
              "      <td>148</td>\n",
              "      <td>0</td>\n",
              "      <td>0.8</td>\n",
              "      <td>2</td>\n",
              "      <td>0</td>\n",
              "      <td>2</td>\n",
              "      <td>1</td>\n",
              "    </tr>\n",
              "    <tr>\n",
              "      <th>156</th>\n",
              "      <td>47</td>\n",
              "      <td>1</td>\n",
              "      <td>2</td>\n",
              "      <td>130</td>\n",
              "      <td>253</td>\n",
              "      <td>0</td>\n",
              "      <td>1</td>\n",
              "      <td>179</td>\n",
              "      <td>0</td>\n",
              "      <td>0.0</td>\n",
              "      <td>2</td>\n",
              "      <td>0</td>\n",
              "      <td>2</td>\n",
              "      <td>1</td>\n",
              "    </tr>\n",
              "    <tr>\n",
              "      <th>113</th>\n",
              "      <td>43</td>\n",
              "      <td>1</td>\n",
              "      <td>0</td>\n",
              "      <td>110</td>\n",
              "      <td>211</td>\n",
              "      <td>0</td>\n",
              "      <td>1</td>\n",
              "      <td>161</td>\n",
              "      <td>0</td>\n",
              "      <td>0.0</td>\n",
              "      <td>2</td>\n",
              "      <td>0</td>\n",
              "      <td>3</td>\n",
              "      <td>1</td>\n",
              "    </tr>\n",
              "  </tbody>\n",
              "</table>\n",
              "</div>"
            ],
            "text/plain": [
              "     age  sex  cp  trestbps  chol  fbs  ...  exang  oldpeak  slope  ca  thal  target\n",
              "147   60    0   3       150   240    0  ...      0      0.9      2   0     2       1\n",
              "20    59    1   0       135   234    0  ...      0      0.5      1   0     3       1\n",
              "38    65    0   2       155   269    0  ...      0      0.8      2   0     2       1\n",
              "156   47    1   2       130   253    0  ...      0      0.0      2   0     2       1\n",
              "113   43    1   0       110   211    0  ...      0      0.0      2   0     3       1\n",
              "\n",
              "[5 rows x 14 columns]"
            ]
          },
          "metadata": {
            "tags": []
          },
          "execution_count": 57
        }
      ]
    },
    {
      "cell_type": "code",
      "metadata": {
        "colab": {
          "base_uri": "https://localhost:8080/"
        },
        "id": "mDeM_1iEw5y9",
        "outputId": "d87c0020-7569-4ece-fcf3-6dd53b4dfac7"
      },
      "source": [
        "X = df.drop(columns=\"target\")\n",
        "y = df[[\"target\"]]\n",
        "\n",
        "print(X)\n",
        "print(y)"
      ],
      "execution_count": 64,
      "outputs": [
        {
          "output_type": "stream",
          "text": [
            "     age  sex  cp  trestbps  chol  ...  exang  oldpeak  slope  ca  thal\n",
            "147   60    0   3       150   240  ...      0      0.9      2   0     2\n",
            "20    59    1   0       135   234  ...      0      0.5      1   0     3\n",
            "38    65    0   2       155   269  ...      0      0.8      2   0     2\n",
            "156   47    1   2       130   253  ...      0      0.0      2   0     2\n",
            "113   43    1   0       110   211  ...      0      0.0      2   0     3\n",
            "..   ...  ...  ..       ...   ...  ...    ...      ...    ...  ..   ...\n",
            "257   50    1   0       144   200  ...      1      0.9      1   0     3\n",
            "237   60    1   0       140   293  ...      0      1.2      1   2     3\n",
            "18    43    1   0       150   247  ...      0      1.5      2   0     2\n",
            "28    65    0   2       140   417  ...      0      0.8      2   1     2\n",
            "290   61    1   0       148   203  ...      0      0.0      2   1     3\n",
            "\n",
            "[303 rows x 13 columns]\n",
            "     target\n",
            "147       1\n",
            "20        1\n",
            "38        1\n",
            "156       1\n",
            "113       1\n",
            "..      ...\n",
            "257       0\n",
            "237       0\n",
            "18        1\n",
            "28        1\n",
            "290       0\n",
            "\n",
            "[303 rows x 1 columns]\n"
          ],
          "name": "stdout"
        }
      ]
    },
    {
      "cell_type": "code",
      "metadata": {
        "colab": {
          "base_uri": "https://localhost:8080/"
        },
        "id": "bUpiCJ7hIrOH",
        "outputId": "27d2e56e-e705-4f33-c1be-c9d10a1c0e3d"
      },
      "source": [
        "X.shape"
      ],
      "execution_count": 65,
      "outputs": [
        {
          "output_type": "execute_result",
          "data": {
            "text/plain": [
              "(303, 13)"
            ]
          },
          "metadata": {
            "tags": []
          },
          "execution_count": 65
        }
      ]
    },
    {
      "cell_type": "code",
      "metadata": {
        "id": "j1YiPIWKJJeI"
      },
      "source": [
        "from sklearn.model_selection import train_test_split\n",
        "\n",
        "X_train, X_test, y_train, y_test = train_test_split(X, y, test_size=0.2)"
      ],
      "execution_count": 66,
      "outputs": []
    },
    {
      "cell_type": "code",
      "metadata": {
        "colab": {
          "base_uri": "https://localhost:8080/"
        },
        "id": "xUDHLAhId4W8",
        "outputId": "f5300b8b-7a99-440f-cd3f-b108c6b4681c"
      },
      "source": [
        "import numpy\n",
        "import pandas as pd\n",
        "from sklearn.model_selection import GridSearchCV\n",
        "from tensorflow.keras.models import Sequential\n",
        "from tensorflow.keras.layers import Dense\n",
        "from tensorflow.keras.wrappers.scikit_learn import KerasClassifier\n",
        "\n",
        "\n",
        "\n",
        "# 재현성을 위해 랜덤시드를 생성합니다\n",
        "#seed = 7\n",
        "numpy.random.seed(1100)\n",
        "\n",
        "\n",
        "# 모델을 만들기 위한 함수를 만듭니다 (KerasClassifier 요구 사항)\n",
        "def create_model(nodes, activation):\n",
        "    # 모델 제작\n",
        "    model = Sequential()\n",
        "    model.add(Dense(nodes, activation=activation))\n",
        "    model.add(Dense(nodes, activation=activation))\n",
        "    model.add(Dense(nodes, activation=activation))\n",
        "    model.add(Dense(1, activation='sigmoid'))\n",
        "    \n",
        "    # 모델 컴파일링\n",
        "    model.compile(loss='binary_crossentropy', optimizer='RMSprop', metrics=['accuracy'])\n",
        "    return model\n",
        "\n",
        "# keras.wrapper를 활용하여 분류기를 만듭니다\n",
        "model = KerasClassifier(build_fn=create_model, verbose=0)\n",
        "\n",
        "# GridSearch\n",
        "batch_size = [10, 20, 40, 60, 80, 100]\n",
        "nodes = [16, 32, 64, 128]\n",
        "epochs = [30, 50, 100]\n",
        "activation = ['relu', 'sigmoid']\n",
        "param_grid = dict(batch_size=batch_size, epochs=epochs, nodes=nodes, activation=activation)\n",
        "\n",
        "# GridSearch CV를 만듭니다\n",
        "grid = GridSearchCV(estimator=model, cv=2, param_grid=param_grid, n_jobs=1)\n",
        "grid_result = grid.fit(X_train, y_train)\n",
        "\n"
      ],
      "execution_count": null,
      "outputs": [
        {
          "output_type": "stream",
          "text": [
            "WARNING:tensorflow:6 out of the last 11 calls to <function Model.make_test_function.<locals>.test_function at 0x7f0b44c5bef0> triggered tf.function retracing. Tracing is expensive and the excessive number of tracings could be due to (1) creating @tf.function repeatedly in a loop, (2) passing tensors with different shapes, (3) passing Python objects instead of tensors. For (1), please define your @tf.function outside of the loop. For (2), @tf.function has experimental_relax_shapes=True option that relaxes argument shapes that can avoid unnecessary retracing. For (3), please refer to https://www.tensorflow.org/guide/function#controlling_retracing and https://www.tensorflow.org/api_docs/python/tf/function for  more details.\n",
            "WARNING:tensorflow:5 out of the last 14 calls to <function Model.make_test_function.<locals>.test_function at 0x7f0b3ffbccb0> triggered tf.function retracing. Tracing is expensive and the excessive number of tracings could be due to (1) creating @tf.function repeatedly in a loop, (2) passing tensors with different shapes, (3) passing Python objects instead of tensors. For (1), please define your @tf.function outside of the loop. For (2), @tf.function has experimental_relax_shapes=True option that relaxes argument shapes that can avoid unnecessary retracing. For (3), please refer to https://www.tensorflow.org/guide/function#controlling_retracing and https://www.tensorflow.org/api_docs/python/tf/function for  more details.\n",
            "WARNING:tensorflow:5 out of the last 13 calls to <function Model.make_test_function.<locals>.test_function at 0x7f0b4cc4f290> triggered tf.function retracing. Tracing is expensive and the excessive number of tracings could be due to (1) creating @tf.function repeatedly in a loop, (2) passing tensors with different shapes, (3) passing Python objects instead of tensors. For (1), please define your @tf.function outside of the loop. For (2), @tf.function has experimental_relax_shapes=True option that relaxes argument shapes that can avoid unnecessary retracing. For (3), please refer to https://www.tensorflow.org/guide/function#controlling_retracing and https://www.tensorflow.org/api_docs/python/tf/function for  more details.\n",
            "WARNING:tensorflow:5 out of the last 13 calls to <function Model.make_test_function.<locals>.test_function at 0x7f0b3d26a5f0> triggered tf.function retracing. Tracing is expensive and the excessive number of tracings could be due to (1) creating @tf.function repeatedly in a loop, (2) passing tensors with different shapes, (3) passing Python objects instead of tensors. For (1), please define your @tf.function outside of the loop. For (2), @tf.function has experimental_relax_shapes=True option that relaxes argument shapes that can avoid unnecessary retracing. For (3), please refer to https://www.tensorflow.org/guide/function#controlling_retracing and https://www.tensorflow.org/api_docs/python/tf/function for  more details.\n",
            "WARNING:tensorflow:5 out of the last 13 calls to <function Model.make_test_function.<locals>.test_function at 0x7f0b43d02d40> triggered tf.function retracing. Tracing is expensive and the excessive number of tracings could be due to (1) creating @tf.function repeatedly in a loop, (2) passing tensors with different shapes, (3) passing Python objects instead of tensors. For (1), please define your @tf.function outside of the loop. For (2), @tf.function has experimental_relax_shapes=True option that relaxes argument shapes that can avoid unnecessary retracing. For (3), please refer to https://www.tensorflow.org/guide/function#controlling_retracing and https://www.tensorflow.org/api_docs/python/tf/function for  more details.\n",
            "WARNING:tensorflow:5 out of the last 13 calls to <function Model.make_test_function.<locals>.test_function at 0x7f0b442b5a70> triggered tf.function retracing. Tracing is expensive and the excessive number of tracings could be due to (1) creating @tf.function repeatedly in a loop, (2) passing tensors with different shapes, (3) passing Python objects instead of tensors. For (1), please define your @tf.function outside of the loop. For (2), @tf.function has experimental_relax_shapes=True option that relaxes argument shapes that can avoid unnecessary retracing. For (3), please refer to https://www.tensorflow.org/guide/function#controlling_retracing and https://www.tensorflow.org/api_docs/python/tf/function for  more details.\n",
            "WARNING:tensorflow:5 out of the last 13 calls to <function Model.make_test_function.<locals>.test_function at 0x7f0b3d1948c0> triggered tf.function retracing. Tracing is expensive and the excessive number of tracings could be due to (1) creating @tf.function repeatedly in a loop, (2) passing tensors with different shapes, (3) passing Python objects instead of tensors. For (1), please define your @tf.function outside of the loop. For (2), @tf.function has experimental_relax_shapes=True option that relaxes argument shapes that can avoid unnecessary retracing. For (3), please refer to https://www.tensorflow.org/guide/function#controlling_retracing and https://www.tensorflow.org/api_docs/python/tf/function for  more details.\n",
            "WARNING:tensorflow:5 out of the last 13 calls to <function Model.make_test_function.<locals>.test_function at 0x7f0b44c117a0> triggered tf.function retracing. Tracing is expensive and the excessive number of tracings could be due to (1) creating @tf.function repeatedly in a loop, (2) passing tensors with different shapes, (3) passing Python objects instead of tensors. For (1), please define your @tf.function outside of the loop. For (2), @tf.function has experimental_relax_shapes=True option that relaxes argument shapes that can avoid unnecessary retracing. For (3), please refer to https://www.tensorflow.org/guide/function#controlling_retracing and https://www.tensorflow.org/api_docs/python/tf/function for  more details.\n",
            "WARNING:tensorflow:5 out of the last 13 calls to <function Model.make_test_function.<locals>.test_function at 0x7f0b3d0563b0> triggered tf.function retracing. Tracing is expensive and the excessive number of tracings could be due to (1) creating @tf.function repeatedly in a loop, (2) passing tensors with different shapes, (3) passing Python objects instead of tensors. For (1), please define your @tf.function outside of the loop. For (2), @tf.function has experimental_relax_shapes=True option that relaxes argument shapes that can avoid unnecessary retracing. For (3), please refer to https://www.tensorflow.org/guide/function#controlling_retracing and https://www.tensorflow.org/api_docs/python/tf/function for  more details.\n",
            "WARNING:tensorflow:5 out of the last 13 calls to <function Model.make_test_function.<locals>.test_function at 0x7f0b439eacb0> triggered tf.function retracing. Tracing is expensive and the excessive number of tracings could be due to (1) creating @tf.function repeatedly in a loop, (2) passing tensors with different shapes, (3) passing Python objects instead of tensors. For (1), please define your @tf.function outside of the loop. For (2), @tf.function has experimental_relax_shapes=True option that relaxes argument shapes that can avoid unnecessary retracing. For (3), please refer to https://www.tensorflow.org/guide/function#controlling_retracing and https://www.tensorflow.org/api_docs/python/tf/function for  more details.\n",
            "WARNING:tensorflow:5 out of the last 13 calls to <function Model.make_test_function.<locals>.test_function at 0x7f0b486dde60> triggered tf.function retracing. Tracing is expensive and the excessive number of tracings could be due to (1) creating @tf.function repeatedly in a loop, (2) passing tensors with different shapes, (3) passing Python objects instead of tensors. For (1), please define your @tf.function outside of the loop. For (2), @tf.function has experimental_relax_shapes=True option that relaxes argument shapes that can avoid unnecessary retracing. For (3), please refer to https://www.tensorflow.org/guide/function#controlling_retracing and https://www.tensorflow.org/api_docs/python/tf/function for  more details.\n",
            "WARNING:tensorflow:5 out of the last 13 calls to <function Model.make_test_function.<locals>.test_function at 0x7f0b48f56680> triggered tf.function retracing. Tracing is expensive and the excessive number of tracings could be due to (1) creating @tf.function repeatedly in a loop, (2) passing tensors with different shapes, (3) passing Python objects instead of tensors. For (1), please define your @tf.function outside of the loop. For (2), @tf.function has experimental_relax_shapes=True option that relaxes argument shapes that can avoid unnecessary retracing. For (3), please refer to https://www.tensorflow.org/guide/function#controlling_retracing and https://www.tensorflow.org/api_docs/python/tf/function for  more details.\n",
            "WARNING:tensorflow:5 out of the last 13 calls to <function Model.make_test_function.<locals>.test_function at 0x7f0b44c1e560> triggered tf.function retracing. Tracing is expensive and the excessive number of tracings could be due to (1) creating @tf.function repeatedly in a loop, (2) passing tensors with different shapes, (3) passing Python objects instead of tensors. For (1), please define your @tf.function outside of the loop. For (2), @tf.function has experimental_relax_shapes=True option that relaxes argument shapes that can avoid unnecessary retracing. For (3), please refer to https://www.tensorflow.org/guide/function#controlling_retracing and https://www.tensorflow.org/api_docs/python/tf/function for  more details.\n",
            "WARNING:tensorflow:5 out of the last 13 calls to <function Model.make_test_function.<locals>.test_function at 0x7f0b43016440> triggered tf.function retracing. Tracing is expensive and the excessive number of tracings could be due to (1) creating @tf.function repeatedly in a loop, (2) passing tensors with different shapes, (3) passing Python objects instead of tensors. For (1), please define your @tf.function outside of the loop. For (2), @tf.function has experimental_relax_shapes=True option that relaxes argument shapes that can avoid unnecessary retracing. For (3), please refer to https://www.tensorflow.org/guide/function#controlling_retracing and https://www.tensorflow.org/api_docs/python/tf/function for  more details.\n",
            "WARNING:tensorflow:5 out of the last 13 calls to <function Model.make_test_function.<locals>.test_function at 0x7f0b439d3d40> triggered tf.function retracing. Tracing is expensive and the excessive number of tracings could be due to (1) creating @tf.function repeatedly in a loop, (2) passing tensors with different shapes, (3) passing Python objects instead of tensors. For (1), please define your @tf.function outside of the loop. For (2), @tf.function has experimental_relax_shapes=True option that relaxes argument shapes that can avoid unnecessary retracing. For (3), please refer to https://www.tensorflow.org/guide/function#controlling_retracing and https://www.tensorflow.org/api_docs/python/tf/function for  more details.\n",
            "WARNING:tensorflow:5 out of the last 13 calls to <function Model.make_test_function.<locals>.test_function at 0x7f0b439d1830> triggered tf.function retracing. Tracing is expensive and the excessive number of tracings could be due to (1) creating @tf.function repeatedly in a loop, (2) passing tensors with different shapes, (3) passing Python objects instead of tensors. For (1), please define your @tf.function outside of the loop. For (2), @tf.function has experimental_relax_shapes=True option that relaxes argument shapes that can avoid unnecessary retracing. For (3), please refer to https://www.tensorflow.org/guide/function#controlling_retracing and https://www.tensorflow.org/api_docs/python/tf/function for  more details.\n",
            "WARNING:tensorflow:5 out of the last 13 calls to <function Model.make_test_function.<locals>.test_function at 0x7f0b43963b90> triggered tf.function retracing. Tracing is expensive and the excessive number of tracings could be due to (1) creating @tf.function repeatedly in a loop, (2) passing tensors with different shapes, (3) passing Python objects instead of tensors. For (1), please define your @tf.function outside of the loop. For (2), @tf.function has experimental_relax_shapes=True option that relaxes argument shapes that can avoid unnecessary retracing. For (3), please refer to https://www.tensorflow.org/guide/function#controlling_retracing and https://www.tensorflow.org/api_docs/python/tf/function for  more details.\n",
            "WARNING:tensorflow:5 out of the last 13 calls to <function Model.make_test_function.<locals>.test_function at 0x7f0b430a57a0> triggered tf.function retracing. Tracing is expensive and the excessive number of tracings could be due to (1) creating @tf.function repeatedly in a loop, (2) passing tensors with different shapes, (3) passing Python objects instead of tensors. For (1), please define your @tf.function outside of the loop. For (2), @tf.function has experimental_relax_shapes=True option that relaxes argument shapes that can avoid unnecessary retracing. For (3), please refer to https://www.tensorflow.org/guide/function#controlling_retracing and https://www.tensorflow.org/api_docs/python/tf/function for  more details.\n",
            "WARNING:tensorflow:5 out of the last 13 calls to <function Model.make_test_function.<locals>.test_function at 0x7f0b42faaef0> triggered tf.function retracing. Tracing is expensive and the excessive number of tracings could be due to (1) creating @tf.function repeatedly in a loop, (2) passing tensors with different shapes, (3) passing Python objects instead of tensors. For (1), please define your @tf.function outside of the loop. For (2), @tf.function has experimental_relax_shapes=True option that relaxes argument shapes that can avoid unnecessary retracing. For (3), please refer to https://www.tensorflow.org/guide/function#controlling_retracing and https://www.tensorflow.org/api_docs/python/tf/function for  more details.\n",
            "WARNING:tensorflow:5 out of the last 13 calls to <function Model.make_test_function.<locals>.test_function at 0x7f0b48f56a70> triggered tf.function retracing. Tracing is expensive and the excessive number of tracings could be due to (1) creating @tf.function repeatedly in a loop, (2) passing tensors with different shapes, (3) passing Python objects instead of tensors. For (1), please define your @tf.function outside of the loop. For (2), @tf.function has experimental_relax_shapes=True option that relaxes argument shapes that can avoid unnecessary retracing. For (3), please refer to https://www.tensorflow.org/guide/function#controlling_retracing and https://www.tensorflow.org/api_docs/python/tf/function for  more details.\n",
            "WARNING:tensorflow:5 out of the last 13 calls to <function Model.make_test_function.<locals>.test_function at 0x7f0b4431cd40> triggered tf.function retracing. Tracing is expensive and the excessive number of tracings could be due to (1) creating @tf.function repeatedly in a loop, (2) passing tensors with different shapes, (3) passing Python objects instead of tensors. For (1), please define your @tf.function outside of the loop. For (2), @tf.function has experimental_relax_shapes=True option that relaxes argument shapes that can avoid unnecessary retracing. For (3), please refer to https://www.tensorflow.org/guide/function#controlling_retracing and https://www.tensorflow.org/api_docs/python/tf/function for  more details.\n",
            "WARNING:tensorflow:5 out of the last 13 calls to <function Model.make_test_function.<locals>.test_function at 0x7f0b3ffbcb90> triggered tf.function retracing. Tracing is expensive and the excessive number of tracings could be due to (1) creating @tf.function repeatedly in a loop, (2) passing tensors with different shapes, (3) passing Python objects instead of tensors. For (1), please define your @tf.function outside of the loop. For (2), @tf.function has experimental_relax_shapes=True option that relaxes argument shapes that can avoid unnecessary retracing. For (3), please refer to https://www.tensorflow.org/guide/function#controlling_retracing and https://www.tensorflow.org/api_docs/python/tf/function for  more details.\n",
            "WARNING:tensorflow:5 out of the last 13 calls to <function Model.make_test_function.<locals>.test_function at 0x7f0b3ffd9e60> triggered tf.function retracing. Tracing is expensive and the excessive number of tracings could be due to (1) creating @tf.function repeatedly in a loop, (2) passing tensors with different shapes, (3) passing Python objects instead of tensors. For (1), please define your @tf.function outside of the loop. For (2), @tf.function has experimental_relax_shapes=True option that relaxes argument shapes that can avoid unnecessary retracing. For (3), please refer to https://www.tensorflow.org/guide/function#controlling_retracing and https://www.tensorflow.org/api_docs/python/tf/function for  more details.\n",
            "WARNING:tensorflow:5 out of the last 12 calls to <function Model.make_test_function.<locals>.test_function at 0x7f0b3ffbc560> triggered tf.function retracing. Tracing is expensive and the excessive number of tracings could be due to (1) creating @tf.function repeatedly in a loop, (2) passing tensors with different shapes, (3) passing Python objects instead of tensors. For (1), please define your @tf.function outside of the loop. For (2), @tf.function has experimental_relax_shapes=True option that relaxes argument shapes that can avoid unnecessary retracing. For (3), please refer to https://www.tensorflow.org/guide/function#controlling_retracing and https://www.tensorflow.org/api_docs/python/tf/function for  more details.\n",
            "WARNING:tensorflow:5 out of the last 11 calls to <function Model.make_test_function.<locals>.test_function at 0x7f0b439e0a70> triggered tf.function retracing. Tracing is expensive and the excessive number of tracings could be due to (1) creating @tf.function repeatedly in a loop, (2) passing tensors with different shapes, (3) passing Python objects instead of tensors. For (1), please define your @tf.function outside of the loop. For (2), @tf.function has experimental_relax_shapes=True option that relaxes argument shapes that can avoid unnecessary retracing. For (3), please refer to https://www.tensorflow.org/guide/function#controlling_retracing and https://www.tensorflow.org/api_docs/python/tf/function for  more details.\n",
            "WARNING:tensorflow:6 out of the last 13 calls to <function Model.make_test_function.<locals>.test_function at 0x7f0b43c5f7a0> triggered tf.function retracing. Tracing is expensive and the excessive number of tracings could be due to (1) creating @tf.function repeatedly in a loop, (2) passing tensors with different shapes, (3) passing Python objects instead of tensors. For (1), please define your @tf.function outside of the loop. For (2), @tf.function has experimental_relax_shapes=True option that relaxes argument shapes that can avoid unnecessary retracing. For (3), please refer to https://www.tensorflow.org/guide/function#controlling_retracing and https://www.tensorflow.org/api_docs/python/tf/function for  more details.\n",
            "WARNING:tensorflow:6 out of the last 12 calls to <function Model.make_test_function.<locals>.test_function at 0x7f0b50ae95f0> triggered tf.function retracing. Tracing is expensive and the excessive number of tracings could be due to (1) creating @tf.function repeatedly in a loop, (2) passing tensors with different shapes, (3) passing Python objects instead of tensors. For (1), please define your @tf.function outside of the loop. For (2), @tf.function has experimental_relax_shapes=True option that relaxes argument shapes that can avoid unnecessary retracing. For (3), please refer to https://www.tensorflow.org/guide/function#controlling_retracing and https://www.tensorflow.org/api_docs/python/tf/function for  more details.\n",
            "WARNING:tensorflow:6 out of the last 11 calls to <function Model.make_test_function.<locals>.test_function at 0x7f0b43c23b00> triggered tf.function retracing. Tracing is expensive and the excessive number of tracings could be due to (1) creating @tf.function repeatedly in a loop, (2) passing tensors with different shapes, (3) passing Python objects instead of tensors. For (1), please define your @tf.function outside of the loop. For (2), @tf.function has experimental_relax_shapes=True option that relaxes argument shapes that can avoid unnecessary retracing. For (3), please refer to https://www.tensorflow.org/guide/function#controlling_retracing and https://www.tensorflow.org/api_docs/python/tf/function for  more details.\n",
            "WARNING:tensorflow:6 out of the last 11 calls to <function Model.make_test_function.<locals>.test_function at 0x7f0b4997e5f0> triggered tf.function retracing. Tracing is expensive and the excessive number of tracings could be due to (1) creating @tf.function repeatedly in a loop, (2) passing tensors with different shapes, (3) passing Python objects instead of tensors. For (1), please define your @tf.function outside of the loop. For (2), @tf.function has experimental_relax_shapes=True option that relaxes argument shapes that can avoid unnecessary retracing. For (3), please refer to https://www.tensorflow.org/guide/function#controlling_retracing and https://www.tensorflow.org/api_docs/python/tf/function for  more details.\n",
            "WARNING:tensorflow:6 out of the last 11 calls to <function Model.make_test_function.<locals>.test_function at 0x7f0b4074cf80> triggered tf.function retracing. Tracing is expensive and the excessive number of tracings could be due to (1) creating @tf.function repeatedly in a loop, (2) passing tensors with different shapes, (3) passing Python objects instead of tensors. For (1), please define your @tf.function outside of the loop. For (2), @tf.function has experimental_relax_shapes=True option that relaxes argument shapes that can avoid unnecessary retracing. For (3), please refer to https://www.tensorflow.org/guide/function#controlling_retracing and https://www.tensorflow.org/api_docs/python/tf/function for  more details.\n",
            "WARNING:tensorflow:6 out of the last 11 calls to <function Model.make_test_function.<locals>.test_function at 0x7f0b43035560> triggered tf.function retracing. Tracing is expensive and the excessive number of tracings could be due to (1) creating @tf.function repeatedly in a loop, (2) passing tensors with different shapes, (3) passing Python objects instead of tensors. For (1), please define your @tf.function outside of the loop. For (2), @tf.function has experimental_relax_shapes=True option that relaxes argument shapes that can avoid unnecessary retracing. For (3), please refer to https://www.tensorflow.org/guide/function#controlling_retracing and https://www.tensorflow.org/api_docs/python/tf/function for  more details.\n",
            "WARNING:tensorflow:6 out of the last 11 calls to <function Model.make_test_function.<locals>.test_function at 0x7f0b3d194680> triggered tf.function retracing. Tracing is expensive and the excessive number of tracings could be due to (1) creating @tf.function repeatedly in a loop, (2) passing tensors with different shapes, (3) passing Python objects instead of tensors. For (1), please define your @tf.function outside of the loop. For (2), @tf.function has experimental_relax_shapes=True option that relaxes argument shapes that can avoid unnecessary retracing. For (3), please refer to https://www.tensorflow.org/guide/function#controlling_retracing and https://www.tensorflow.org/api_docs/python/tf/function for  more details.\n",
            "WARNING:tensorflow:6 out of the last 11 calls to <function Model.make_test_function.<locals>.test_function at 0x7f0b439d1830> triggered tf.function retracing. Tracing is expensive and the excessive number of tracings could be due to (1) creating @tf.function repeatedly in a loop, (2) passing tensors with different shapes, (3) passing Python objects instead of tensors. For (1), please define your @tf.function outside of the loop. For (2), @tf.function has experimental_relax_shapes=True option that relaxes argument shapes that can avoid unnecessary retracing. For (3), please refer to https://www.tensorflow.org/guide/function#controlling_retracing and https://www.tensorflow.org/api_docs/python/tf/function for  more details.\n",
            "WARNING:tensorflow:6 out of the last 11 calls to <function Model.make_test_function.<locals>.test_function at 0x7f0b3ceb45f0> triggered tf.function retracing. Tracing is expensive and the excessive number of tracings could be due to (1) creating @tf.function repeatedly in a loop, (2) passing tensors with different shapes, (3) passing Python objects instead of tensors. For (1), please define your @tf.function outside of the loop. For (2), @tf.function has experimental_relax_shapes=True option that relaxes argument shapes that can avoid unnecessary retracing. For (3), please refer to https://www.tensorflow.org/guide/function#controlling_retracing and https://www.tensorflow.org/api_docs/python/tf/function for  more details.\n",
            "WARNING:tensorflow:6 out of the last 11 calls to <function Model.make_test_function.<locals>.test_function at 0x7f0b42faaf80> triggered tf.function retracing. Tracing is expensive and the excessive number of tracings could be due to (1) creating @tf.function repeatedly in a loop, (2) passing tensors with different shapes, (3) passing Python objects instead of tensors. For (1), please define your @tf.function outside of the loop. For (2), @tf.function has experimental_relax_shapes=True option that relaxes argument shapes that can avoid unnecessary retracing. For (3), please refer to https://www.tensorflow.org/guide/function#controlling_retracing and https://www.tensorflow.org/api_docs/python/tf/function for  more details.\n",
            "WARNING:tensorflow:6 out of the last 11 calls to <function Model.make_test_function.<locals>.test_function at 0x7f0b439c9e60> triggered tf.function retracing. Tracing is expensive and the excessive number of tracings could be due to (1) creating @tf.function repeatedly in a loop, (2) passing tensors with different shapes, (3) passing Python objects instead of tensors. For (1), please define your @tf.function outside of the loop. For (2), @tf.function has experimental_relax_shapes=True option that relaxes argument shapes that can avoid unnecessary retracing. For (3), please refer to https://www.tensorflow.org/guide/function#controlling_retracing and https://www.tensorflow.org/api_docs/python/tf/function for  more details.\n",
            "WARNING:tensorflow:6 out of the last 11 calls to <function Model.make_test_function.<locals>.test_function at 0x7f0b442b5830> triggered tf.function retracing. Tracing is expensive and the excessive number of tracings could be due to (1) creating @tf.function repeatedly in a loop, (2) passing tensors with different shapes, (3) passing Python objects instead of tensors. For (1), please define your @tf.function outside of the loop. For (2), @tf.function has experimental_relax_shapes=True option that relaxes argument shapes that can avoid unnecessary retracing. For (3), please refer to https://www.tensorflow.org/guide/function#controlling_retracing and https://www.tensorflow.org/api_docs/python/tf/function for  more details.\n",
            "WARNING:tensorflow:6 out of the last 11 calls to <function Model.make_test_function.<locals>.test_function at 0x7f0b43c050e0> triggered tf.function retracing. Tracing is expensive and the excessive number of tracings could be due to (1) creating @tf.function repeatedly in a loop, (2) passing tensors with different shapes, (3) passing Python objects instead of tensors. For (1), please define your @tf.function outside of the loop. For (2), @tf.function has experimental_relax_shapes=True option that relaxes argument shapes that can avoid unnecessary retracing. For (3), please refer to https://www.tensorflow.org/guide/function#controlling_retracing and https://www.tensorflow.org/api_docs/python/tf/function for  more details.\n",
            "WARNING:tensorflow:6 out of the last 11 calls to <function Model.make_test_function.<locals>.test_function at 0x7f0b439eab00> triggered tf.function retracing. Tracing is expensive and the excessive number of tracings could be due to (1) creating @tf.function repeatedly in a loop, (2) passing tensors with different shapes, (3) passing Python objects instead of tensors. For (1), please define your @tf.function outside of the loop. For (2), @tf.function has experimental_relax_shapes=True option that relaxes argument shapes that can avoid unnecessary retracing. For (3), please refer to https://www.tensorflow.org/guide/function#controlling_retracing and https://www.tensorflow.org/api_docs/python/tf/function for  more details.\n",
            "WARNING:tensorflow:6 out of the last 11 calls to <function Model.make_test_function.<locals>.test_function at 0x7f0b43d02a70> triggered tf.function retracing. Tracing is expensive and the excessive number of tracings could be due to (1) creating @tf.function repeatedly in a loop, (2) passing tensors with different shapes, (3) passing Python objects instead of tensors. For (1), please define your @tf.function outside of the loop. For (2), @tf.function has experimental_relax_shapes=True option that relaxes argument shapes that can avoid unnecessary retracing. For (3), please refer to https://www.tensorflow.org/guide/function#controlling_retracing and https://www.tensorflow.org/api_docs/python/tf/function for  more details.\n",
            "WARNING:tensorflow:6 out of the last 11 calls to <function Model.make_test_function.<locals>.test_function at 0x7f0b43016710> triggered tf.function retracing. Tracing is expensive and the excessive number of tracings could be due to (1) creating @tf.function repeatedly in a loop, (2) passing tensors with different shapes, (3) passing Python objects instead of tensors. For (1), please define your @tf.function outside of the loop. For (2), @tf.function has experimental_relax_shapes=True option that relaxes argument shapes that can avoid unnecessary retracing. For (3), please refer to https://www.tensorflow.org/guide/function#controlling_retracing and https://www.tensorflow.org/api_docs/python/tf/function for  more details.\n",
            "WARNING:tensorflow:6 out of the last 11 calls to <function Model.make_test_function.<locals>.test_function at 0x7f0b44c1e7a0> triggered tf.function retracing. Tracing is expensive and the excessive number of tracings could be due to (1) creating @tf.function repeatedly in a loop, (2) passing tensors with different shapes, (3) passing Python objects instead of tensors. For (1), please define your @tf.function outside of the loop. For (2), @tf.function has experimental_relax_shapes=True option that relaxes argument shapes that can avoid unnecessary retracing. For (3), please refer to https://www.tensorflow.org/guide/function#controlling_retracing and https://www.tensorflow.org/api_docs/python/tf/function for  more details.\n",
            "WARNING:tensorflow:6 out of the last 11 calls to <function Model.make_test_function.<locals>.test_function at 0x7f0b486ddd40> triggered tf.function retracing. Tracing is expensive and the excessive number of tracings could be due to (1) creating @tf.function repeatedly in a loop, (2) passing tensors with different shapes, (3) passing Python objects instead of tensors. For (1), please define your @tf.function outside of the loop. For (2), @tf.function has experimental_relax_shapes=True option that relaxes argument shapes that can avoid unnecessary retracing. For (3), please refer to https://www.tensorflow.org/guide/function#controlling_retracing and https://www.tensorflow.org/api_docs/python/tf/function for  more details.\n",
            "WARNING:tensorflow:6 out of the last 11 calls to <function Model.make_test_function.<locals>.test_function at 0x7f0b43c235f0> triggered tf.function retracing. Tracing is expensive and the excessive number of tracings could be due to (1) creating @tf.function repeatedly in a loop, (2) passing tensors with different shapes, (3) passing Python objects instead of tensors. For (1), please define your @tf.function outside of the loop. For (2), @tf.function has experimental_relax_shapes=True option that relaxes argument shapes that can avoid unnecessary retracing. For (3), please refer to https://www.tensorflow.org/guide/function#controlling_retracing and https://www.tensorflow.org/api_docs/python/tf/function for  more details.\n",
            "WARNING:tensorflow:6 out of the last 11 calls to <function Model.make_test_function.<locals>.test_function at 0x7f0b486dd950> triggered tf.function retracing. Tracing is expensive and the excessive number of tracings could be due to (1) creating @tf.function repeatedly in a loop, (2) passing tensors with different shapes, (3) passing Python objects instead of tensors. For (1), please define your @tf.function outside of the loop. For (2), @tf.function has experimental_relax_shapes=True option that relaxes argument shapes that can avoid unnecessary retracing. For (3), please refer to https://www.tensorflow.org/guide/function#controlling_retracing and https://www.tensorflow.org/api_docs/python/tf/function for  more details.\n",
            "WARNING:tensorflow:6 out of the last 11 calls to <function Model.make_test_function.<locals>.test_function at 0x7f0b44c1ea70> triggered tf.function retracing. Tracing is expensive and the excessive number of tracings could be due to (1) creating @tf.function repeatedly in a loop, (2) passing tensors with different shapes, (3) passing Python objects instead of tensors. For (1), please define your @tf.function outside of the loop. For (2), @tf.function has experimental_relax_shapes=True option that relaxes argument shapes that can avoid unnecessary retracing. For (3), please refer to https://www.tensorflow.org/guide/function#controlling_retracing and https://www.tensorflow.org/api_docs/python/tf/function for  more details.\n",
            "WARNING:tensorflow:6 out of the last 11 calls to <function Model.make_test_function.<locals>.test_function at 0x7f0b3ce6a7a0> triggered tf.function retracing. Tracing is expensive and the excessive number of tracings could be due to (1) creating @tf.function repeatedly in a loop, (2) passing tensors with different shapes, (3) passing Python objects instead of tensors. For (1), please define your @tf.function outside of the loop. For (2), @tf.function has experimental_relax_shapes=True option that relaxes argument shapes that can avoid unnecessary retracing. For (3), please refer to https://www.tensorflow.org/guide/function#controlling_retracing and https://www.tensorflow.org/api_docs/python/tf/function for  more details.\n",
            "WARNING:tensorflow:6 out of the last 11 calls to <function Model.make_test_function.<locals>.test_function at 0x7f0b3ffd94d0> triggered tf.function retracing. Tracing is expensive and the excessive number of tracings could be due to (1) creating @tf.function repeatedly in a loop, (2) passing tensors with different shapes, (3) passing Python objects instead of tensors. For (1), please define your @tf.function outside of the loop. For (2), @tf.function has experimental_relax_shapes=True option that relaxes argument shapes that can avoid unnecessary retracing. For (3), please refer to https://www.tensorflow.org/guide/function#controlling_retracing and https://www.tensorflow.org/api_docs/python/tf/function for  more details.\n",
            "WARNING:tensorflow:6 out of the last 11 calls to <function Model.make_test_function.<locals>.test_function at 0x7f0b3ffd9f80> triggered tf.function retracing. Tracing is expensive and the excessive number of tracings could be due to (1) creating @tf.function repeatedly in a loop, (2) passing tensors with different shapes, (3) passing Python objects instead of tensors. For (1), please define your @tf.function outside of the loop. For (2), @tf.function has experimental_relax_shapes=True option that relaxes argument shapes that can avoid unnecessary retracing. For (3), please refer to https://www.tensorflow.org/guide/function#controlling_retracing and https://www.tensorflow.org/api_docs/python/tf/function for  more details.\n",
            "WARNING:tensorflow:6 out of the last 11 calls to <function Model.make_test_function.<locals>.test_function at 0x7f0b43c050e0> triggered tf.function retracing. Tracing is expensive and the excessive number of tracings could be due to (1) creating @tf.function repeatedly in a loop, (2) passing tensors with different shapes, (3) passing Python objects instead of tensors. For (1), please define your @tf.function outside of the loop. For (2), @tf.function has experimental_relax_shapes=True option that relaxes argument shapes that can avoid unnecessary retracing. For (3), please refer to https://www.tensorflow.org/guide/function#controlling_retracing and https://www.tensorflow.org/api_docs/python/tf/function for  more details.\n",
            "WARNING:tensorflow:6 out of the last 11 calls to <function Model.make_test_function.<locals>.test_function at 0x7f0b44c555f0> triggered tf.function retracing. Tracing is expensive and the excessive number of tracings could be due to (1) creating @tf.function repeatedly in a loop, (2) passing tensors with different shapes, (3) passing Python objects instead of tensors. For (1), please define your @tf.function outside of the loop. For (2), @tf.function has experimental_relax_shapes=True option that relaxes argument shapes that can avoid unnecessary retracing. For (3), please refer to https://www.tensorflow.org/guide/function#controlling_retracing and https://www.tensorflow.org/api_docs/python/tf/function for  more details.\n",
            "WARNING:tensorflow:6 out of the last 11 calls to <function Model.make_test_function.<locals>.test_function at 0x7f0b439d3ef0> triggered tf.function retracing. Tracing is expensive and the excessive number of tracings could be due to (1) creating @tf.function repeatedly in a loop, (2) passing tensors with different shapes, (3) passing Python objects instead of tensors. For (1), please define your @tf.function outside of the loop. For (2), @tf.function has experimental_relax_shapes=True option that relaxes argument shapes that can avoid unnecessary retracing. For (3), please refer to https://www.tensorflow.org/guide/function#controlling_retracing and https://www.tensorflow.org/api_docs/python/tf/function for  more details.\n",
            "WARNING:tensorflow:6 out of the last 11 calls to <function Model.make_test_function.<locals>.test_function at 0x7f0b3d060c20> triggered tf.function retracing. Tracing is expensive and the excessive number of tracings could be due to (1) creating @tf.function repeatedly in a loop, (2) passing tensors with different shapes, (3) passing Python objects instead of tensors. For (1), please define your @tf.function outside of the loop. For (2), @tf.function has experimental_relax_shapes=True option that relaxes argument shapes that can avoid unnecessary retracing. For (3), please refer to https://www.tensorflow.org/guide/function#controlling_retracing and https://www.tensorflow.org/api_docs/python/tf/function for  more details.\n",
            "WARNING:tensorflow:6 out of the last 11 calls to <function Model.make_test_function.<locals>.test_function at 0x7f0b50ace830> triggered tf.function retracing. Tracing is expensive and the excessive number of tracings could be due to (1) creating @tf.function repeatedly in a loop, (2) passing tensors with different shapes, (3) passing Python objects instead of tensors. For (1), please define your @tf.function outside of the loop. For (2), @tf.function has experimental_relax_shapes=True option that relaxes argument shapes that can avoid unnecessary retracing. For (3), please refer to https://www.tensorflow.org/guide/function#controlling_retracing and https://www.tensorflow.org/api_docs/python/tf/function for  more details.\n",
            "WARNING:tensorflow:6 out of the last 11 calls to <function Model.make_test_function.<locals>.test_function at 0x7f0b439e0680> triggered tf.function retracing. Tracing is expensive and the excessive number of tracings could be due to (1) creating @tf.function repeatedly in a loop, (2) passing tensors with different shapes, (3) passing Python objects instead of tensors. For (1), please define your @tf.function outside of the loop. For (2), @tf.function has experimental_relax_shapes=True option that relaxes argument shapes that can avoid unnecessary retracing. For (3), please refer to https://www.tensorflow.org/guide/function#controlling_retracing and https://www.tensorflow.org/api_docs/python/tf/function for  more details.\n",
            "WARNING:tensorflow:6 out of the last 11 calls to <function Model.make_test_function.<locals>.test_function at 0x7f0b44c55d40> triggered tf.function retracing. Tracing is expensive and the excessive number of tracings could be due to (1) creating @tf.function repeatedly in a loop, (2) passing tensors with different shapes, (3) passing Python objects instead of tensors. For (1), please define your @tf.function outside of the loop. For (2), @tf.function has experimental_relax_shapes=True option that relaxes argument shapes that can avoid unnecessary retracing. For (3), please refer to https://www.tensorflow.org/guide/function#controlling_retracing and https://www.tensorflow.org/api_docs/python/tf/function for  more details.\n",
            "WARNING:tensorflow:6 out of the last 11 calls to <function Model.make_test_function.<locals>.test_function at 0x7f0b43b48830> triggered tf.function retracing. Tracing is expensive and the excessive number of tracings could be due to (1) creating @tf.function repeatedly in a loop, (2) passing tensors with different shapes, (3) passing Python objects instead of tensors. For (1), please define your @tf.function outside of the loop. For (2), @tf.function has experimental_relax_shapes=True option that relaxes argument shapes that can avoid unnecessary retracing. For (3), please refer to https://www.tensorflow.org/guide/function#controlling_retracing and https://www.tensorflow.org/api_docs/python/tf/function for  more details.\n",
            "WARNING:tensorflow:6 out of the last 11 calls to <function Model.make_test_function.<locals>.test_function at 0x7f0b43074440> triggered tf.function retracing. Tracing is expensive and the excessive number of tracings could be due to (1) creating @tf.function repeatedly in a loop, (2) passing tensors with different shapes, (3) passing Python objects instead of tensors. For (1), please define your @tf.function outside of the loop. For (2), @tf.function has experimental_relax_shapes=True option that relaxes argument shapes that can avoid unnecessary retracing. For (3), please refer to https://www.tensorflow.org/guide/function#controlling_retracing and https://www.tensorflow.org/api_docs/python/tf/function for  more details.\n",
            "WARNING:tensorflow:6 out of the last 11 calls to <function Model.make_test_function.<locals>.test_function at 0x7f0b3d26ab00> triggered tf.function retracing. Tracing is expensive and the excessive number of tracings could be due to (1) creating @tf.function repeatedly in a loop, (2) passing tensors with different shapes, (3) passing Python objects instead of tensors. For (1), please define your @tf.function outside of the loop. For (2), @tf.function has experimental_relax_shapes=True option that relaxes argument shapes that can avoid unnecessary retracing. For (3), please refer to https://www.tensorflow.org/guide/function#controlling_retracing and https://www.tensorflow.org/api_docs/python/tf/function for  more details.\n",
            "WARNING:tensorflow:6 out of the last 11 calls to <function Model.make_test_function.<locals>.test_function at 0x7f0b3d056b90> triggered tf.function retracing. Tracing is expensive and the excessive number of tracings could be due to (1) creating @tf.function repeatedly in a loop, (2) passing tensors with different shapes, (3) passing Python objects instead of tensors. For (1), please define your @tf.function outside of the loop. For (2), @tf.function has experimental_relax_shapes=True option that relaxes argument shapes that can avoid unnecessary retracing. For (3), please refer to https://www.tensorflow.org/guide/function#controlling_retracing and https://www.tensorflow.org/api_docs/python/tf/function for  more details.\n",
            "WARNING:tensorflow:6 out of the last 11 calls to <function Model.make_test_function.<locals>.test_function at 0x7f0b3d2d4950> triggered tf.function retracing. Tracing is expensive and the excessive number of tracings could be due to (1) creating @tf.function repeatedly in a loop, (2) passing tensors with different shapes, (3) passing Python objects instead of tensors. For (1), please define your @tf.function outside of the loop. For (2), @tf.function has experimental_relax_shapes=True option that relaxes argument shapes that can avoid unnecessary retracing. For (3), please refer to https://www.tensorflow.org/guide/function#controlling_retracing and https://www.tensorflow.org/api_docs/python/tf/function for  more details.\n",
            "WARNING:tensorflow:6 out of the last 11 calls to <function Model.make_test_function.<locals>.test_function at 0x7f0b43035a70> triggered tf.function retracing. Tracing is expensive and the excessive number of tracings could be due to (1) creating @tf.function repeatedly in a loop, (2) passing tensors with different shapes, (3) passing Python objects instead of tensors. For (1), please define your @tf.function outside of the loop. For (2), @tf.function has experimental_relax_shapes=True option that relaxes argument shapes that can avoid unnecessary retracing. For (3), please refer to https://www.tensorflow.org/guide/function#controlling_retracing and https://www.tensorflow.org/api_docs/python/tf/function for  more details.\n",
            "WARNING:tensorflow:6 out of the last 11 calls to <function Model.make_test_function.<locals>.test_function at 0x7f0b43074290> triggered tf.function retracing. Tracing is expensive and the excessive number of tracings could be due to (1) creating @tf.function repeatedly in a loop, (2) passing tensors with different shapes, (3) passing Python objects instead of tensors. For (1), please define your @tf.function outside of the loop. For (2), @tf.function has experimental_relax_shapes=True option that relaxes argument shapes that can avoid unnecessary retracing. For (3), please refer to https://www.tensorflow.org/guide/function#controlling_retracing and https://www.tensorflow.org/api_docs/python/tf/function for  more details.\n",
            "WARNING:tensorflow:6 out of the last 11 calls to <function Model.make_test_function.<locals>.test_function at 0x7f0b3d25c050> triggered tf.function retracing. Tracing is expensive and the excessive number of tracings could be due to (1) creating @tf.function repeatedly in a loop, (2) passing tensors with different shapes, (3) passing Python objects instead of tensors. For (1), please define your @tf.function outside of the loop. For (2), @tf.function has experimental_relax_shapes=True option that relaxes argument shapes that can avoid unnecessary retracing. For (3), please refer to https://www.tensorflow.org/guide/function#controlling_retracing and https://www.tensorflow.org/api_docs/python/tf/function for  more details.\n",
            "WARNING:tensorflow:6 out of the last 11 calls to <function Model.make_test_function.<locals>.test_function at 0x7f0b430a57a0> triggered tf.function retracing. Tracing is expensive and the excessive number of tracings could be due to (1) creating @tf.function repeatedly in a loop, (2) passing tensors with different shapes, (3) passing Python objects instead of tensors. For (1), please define your @tf.function outside of the loop. For (2), @tf.function has experimental_relax_shapes=True option that relaxes argument shapes that can avoid unnecessary retracing. For (3), please refer to https://www.tensorflow.org/guide/function#controlling_retracing and https://www.tensorflow.org/api_docs/python/tf/function for  more details.\n",
            "WARNING:tensorflow:6 out of the last 11 calls to <function Model.make_test_function.<locals>.test_function at 0x7f0b50a9f830> triggered tf.function retracing. Tracing is expensive and the excessive number of tracings could be due to (1) creating @tf.function repeatedly in a loop, (2) passing tensors with different shapes, (3) passing Python objects instead of tensors. For (1), please define your @tf.function outside of the loop. For (2), @tf.function has experimental_relax_shapes=True option that relaxes argument shapes that can avoid unnecessary retracing. For (3), please refer to https://www.tensorflow.org/guide/function#controlling_retracing and https://www.tensorflow.org/api_docs/python/tf/function for  more details.\n",
            "WARNING:tensorflow:6 out of the last 11 calls to <function Model.make_test_function.<locals>.test_function at 0x7f0b3d060dd0> triggered tf.function retracing. Tracing is expensive and the excessive number of tracings could be due to (1) creating @tf.function repeatedly in a loop, (2) passing tensors with different shapes, (3) passing Python objects instead of tensors. For (1), please define your @tf.function outside of the loop. For (2), @tf.function has experimental_relax_shapes=True option that relaxes argument shapes that can avoid unnecessary retracing. For (3), please refer to https://www.tensorflow.org/guide/function#controlling_retracing and https://www.tensorflow.org/api_docs/python/tf/function for  more details.\n",
            "WARNING:tensorflow:6 out of the last 11 calls to <function Model.make_test_function.<locals>.test_function at 0x7f0b439eaa70> triggered tf.function retracing. Tracing is expensive and the excessive number of tracings could be due to (1) creating @tf.function repeatedly in a loop, (2) passing tensors with different shapes, (3) passing Python objects instead of tensors. For (1), please define your @tf.function outside of the loop. For (2), @tf.function has experimental_relax_shapes=True option that relaxes argument shapes that can avoid unnecessary retracing. For (3), please refer to https://www.tensorflow.org/guide/function#controlling_retracing and https://www.tensorflow.org/api_docs/python/tf/function for  more details.\n",
            "WARNING:tensorflow:6 out of the last 11 calls to <function Model.make_test_function.<locals>.test_function at 0x7f0b50a9f050> triggered tf.function retracing. Tracing is expensive and the excessive number of tracings could be due to (1) creating @tf.function repeatedly in a loop, (2) passing tensors with different shapes, (3) passing Python objects instead of tensors. For (1), please define your @tf.function outside of the loop. For (2), @tf.function has experimental_relax_shapes=True option that relaxes argument shapes that can avoid unnecessary retracing. For (3), please refer to https://www.tensorflow.org/guide/function#controlling_retracing and https://www.tensorflow.org/api_docs/python/tf/function for  more details.\n",
            "WARNING:tensorflow:6 out of the last 11 calls to <function Model.make_test_function.<locals>.test_function at 0x7f0b3d26a8c0> triggered tf.function retracing. Tracing is expensive and the excessive number of tracings could be due to (1) creating @tf.function repeatedly in a loop, (2) passing tensors with different shapes, (3) passing Python objects instead of tensors. For (1), please define your @tf.function outside of the loop. For (2), @tf.function has experimental_relax_shapes=True option that relaxes argument shapes that can avoid unnecessary retracing. For (3), please refer to https://www.tensorflow.org/guide/function#controlling_retracing and https://www.tensorflow.org/api_docs/python/tf/function for  more details.\n",
            "WARNING:tensorflow:6 out of the last 11 calls to <function Model.make_test_function.<locals>.test_function at 0x7f0b439d3b90> triggered tf.function retracing. Tracing is expensive and the excessive number of tracings could be due to (1) creating @tf.function repeatedly in a loop, (2) passing tensors with different shapes, (3) passing Python objects instead of tensors. For (1), please define your @tf.function outside of the loop. For (2), @tf.function has experimental_relax_shapes=True option that relaxes argument shapes that can avoid unnecessary retracing. For (3), please refer to https://www.tensorflow.org/guide/function#controlling_retracing and https://www.tensorflow.org/api_docs/python/tf/function for  more details.\n",
            "WARNING:tensorflow:5 out of the last 14 calls to <function Model.make_test_function.<locals>.test_function at 0x7f0b43016c20> triggered tf.function retracing. Tracing is expensive and the excessive number of tracings could be due to (1) creating @tf.function repeatedly in a loop, (2) passing tensors with different shapes, (3) passing Python objects instead of tensors. For (1), please define your @tf.function outside of the loop. For (2), @tf.function has experimental_relax_shapes=True option that relaxes argument shapes that can avoid unnecessary retracing. For (3), please refer to https://www.tensorflow.org/guide/function#controlling_retracing and https://www.tensorflow.org/api_docs/python/tf/function for  more details.\n",
            "WARNING:tensorflow:5 out of the last 13 calls to <function Model.make_test_function.<locals>.test_function at 0x7f0b50aced40> triggered tf.function retracing. Tracing is expensive and the excessive number of tracings could be due to (1) creating @tf.function repeatedly in a loop, (2) passing tensors with different shapes, (3) passing Python objects instead of tensors. For (1), please define your @tf.function outside of the loop. For (2), @tf.function has experimental_relax_shapes=True option that relaxes argument shapes that can avoid unnecessary retracing. For (3), please refer to https://www.tensorflow.org/guide/function#controlling_retracing and https://www.tensorflow.org/api_docs/python/tf/function for  more details.\n",
            "WARNING:tensorflow:5 out of the last 13 calls to <function Model.make_test_function.<locals>.test_function at 0x7f0b50acef80> triggered tf.function retracing. Tracing is expensive and the excessive number of tracings could be due to (1) creating @tf.function repeatedly in a loop, (2) passing tensors with different shapes, (3) passing Python objects instead of tensors. For (1), please define your @tf.function outside of the loop. For (2), @tf.function has experimental_relax_shapes=True option that relaxes argument shapes that can avoid unnecessary retracing. For (3), please refer to https://www.tensorflow.org/guide/function#controlling_retracing and https://www.tensorflow.org/api_docs/python/tf/function for  more details.\n",
            "WARNING:tensorflow:5 out of the last 13 calls to <function Model.make_test_function.<locals>.test_function at 0x7f0b4274ab90> triggered tf.function retracing. Tracing is expensive and the excessive number of tracings could be due to (1) creating @tf.function repeatedly in a loop, (2) passing tensors with different shapes, (3) passing Python objects instead of tensors. For (1), please define your @tf.function outside of the loop. For (2), @tf.function has experimental_relax_shapes=True option that relaxes argument shapes that can avoid unnecessary retracing. For (3), please refer to https://www.tensorflow.org/guide/function#controlling_retracing and https://www.tensorflow.org/api_docs/python/tf/function for  more details.\n",
            "WARNING:tensorflow:5 out of the last 13 calls to <function Model.make_test_function.<locals>.test_function at 0x7f0b486dd8c0> triggered tf.function retracing. Tracing is expensive and the excessive number of tracings could be due to (1) creating @tf.function repeatedly in a loop, (2) passing tensors with different shapes, (3) passing Python objects instead of tensors. For (1), please define your @tf.function outside of the loop. For (2), @tf.function has experimental_relax_shapes=True option that relaxes argument shapes that can avoid unnecessary retracing. For (3), please refer to https://www.tensorflow.org/guide/function#controlling_retracing and https://www.tensorflow.org/api_docs/python/tf/function for  more details.\n",
            "WARNING:tensorflow:5 out of the last 13 calls to <function Model.make_test_function.<locals>.test_function at 0x7f0b44c1e4d0> triggered tf.function retracing. Tracing is expensive and the excessive number of tracings could be due to (1) creating @tf.function repeatedly in a loop, (2) passing tensors with different shapes, (3) passing Python objects instead of tensors. For (1), please define your @tf.function outside of the loop. For (2), @tf.function has experimental_relax_shapes=True option that relaxes argument shapes that can avoid unnecessary retracing. For (3), please refer to https://www.tensorflow.org/guide/function#controlling_retracing and https://www.tensorflow.org/api_docs/python/tf/function for  more details.\n"
          ],
          "name": "stdout"
        }
      ]
    },
    {
      "cell_type": "code",
      "metadata": {
        "colab": {
          "base_uri": "https://localhost:8080/"
        },
        "id": "GmYufLeMKhJI",
        "outputId": "2f4b838d-8dbd-4796-f5b1-6793e8d64ec4"
      },
      "source": [
        "# 최적의 결과값을 낸 파라미터를 출력합니다\n",
        "print(f\"Best: {grid_result.best_score_} using {grid_result.best_params_}\")\n",
        "means = grid_result.cv_results_['mean_test_score']\n",
        "stds = grid_result.cv_results_['std_test_score']\n",
        "params = grid_result.cv_results_['params']\n",
        "for mean, stdev, param in zip(means, stds, params):\n",
        "    print(f\"Means: {mean}, Stdev: {stdev} with: {param}\")"
      ],
      "execution_count": 76,
      "outputs": [
        {
          "output_type": "stream",
          "text": [
            "Best: 0.7727272808551788 using {'activation': 'sigmoid', 'batch_size': 10, 'epochs': 100, 'nodes': 128}\n",
            "Means: 0.6322314143180847, Stdev: 0.02066117525100708 with: {'activation': 'relu', 'batch_size': 10, 'epochs': 30, 'nodes': 16}\n",
            "Means: 0.5991735458374023, Stdev: 0.09504133462905884 with: {'activation': 'relu', 'batch_size': 10, 'epochs': 30, 'nodes': 32}\n",
            "Means: 0.7314049601554871, Stdev: 0.004132211208343506 with: {'activation': 'relu', 'batch_size': 10, 'epochs': 30, 'nodes': 64}\n",
            "Means: 0.6528925597667694, Stdev: 0.04132232069969177 with: {'activation': 'relu', 'batch_size': 10, 'epochs': 30, 'nodes': 128}\n",
            "Means: 0.6942148804664612, Stdev: 0.008264482021331787 with: {'activation': 'relu', 'batch_size': 10, 'epochs': 50, 'nodes': 16}\n",
            "Means: 0.6694214940071106, Stdev: 0.024793386459350586 with: {'activation': 'relu', 'batch_size': 10, 'epochs': 50, 'nodes': 32}\n",
            "Means: 0.7272727191448212, Stdev: 0.0082644522190094 with: {'activation': 'relu', 'batch_size': 10, 'epochs': 50, 'nodes': 64}\n",
            "Means: 0.6611570417881012, Stdev: 0.033057838678359985 with: {'activation': 'relu', 'batch_size': 10, 'epochs': 50, 'nodes': 128}\n",
            "Means: 0.7520661056041718, Stdev: 0.033057838678359985 with: {'activation': 'relu', 'batch_size': 10, 'epochs': 100, 'nodes': 16}\n",
            "Means: 0.764462798833847, Stdev: 0.02892562747001648 with: {'activation': 'relu', 'batch_size': 10, 'epochs': 100, 'nodes': 32}\n",
            "Means: 0.7561983466148376, Stdev: 0.045454561710357666 with: {'activation': 'relu', 'batch_size': 10, 'epochs': 100, 'nodes': 64}\n",
            "Means: 0.7561983466148376, Stdev: 0.02066117525100708 with: {'activation': 'relu', 'batch_size': 10, 'epochs': 100, 'nodes': 128}\n",
            "Means: 0.6694214940071106, Stdev: 0.041322290897369385 with: {'activation': 'relu', 'batch_size': 20, 'epochs': 30, 'nodes': 16}\n",
            "Means: 0.6115702390670776, Stdev: 0.008264482021331787 with: {'activation': 'relu', 'batch_size': 20, 'epochs': 30, 'nodes': 32}\n",
            "Means: 0.6942148804664612, Stdev: 0.008264482021331787 with: {'activation': 'relu', 'batch_size': 20, 'epochs': 30, 'nodes': 64}\n",
            "Means: 0.6776859760284424, Stdev: 0.0 with: {'activation': 'relu', 'batch_size': 20, 'epochs': 30, 'nodes': 128}\n",
            "Means: 0.6528925597667694, Stdev: 0.016528934240341187 with: {'activation': 'relu', 'batch_size': 20, 'epochs': 50, 'nodes': 16}\n",
            "Means: 0.67768594622612, Stdev: 0.033057838678359985 with: {'activation': 'relu', 'batch_size': 20, 'epochs': 50, 'nodes': 32}\n",
            "Means: 0.6694214940071106, Stdev: 0.041322290897369385 with: {'activation': 'relu', 'batch_size': 20, 'epochs': 50, 'nodes': 64}\n",
            "Means: 0.6900826394557953, Stdev: 0.04545453190803528 with: {'activation': 'relu', 'batch_size': 20, 'epochs': 50, 'nodes': 128}\n",
            "Means: 0.7107438147068024, Stdev: 0.033057838678359985 with: {'activation': 'relu', 'batch_size': 20, 'epochs': 100, 'nodes': 16}\n",
            "Means: 0.7024793326854706, Stdev: 0.06611570715904236 with: {'activation': 'relu', 'batch_size': 20, 'epochs': 100, 'nodes': 32}\n",
            "Means: 0.71074378490448, Stdev: 0.024793386459350586 with: {'activation': 'relu', 'batch_size': 20, 'epochs': 100, 'nodes': 64}\n",
            "Means: 0.7066115736961365, Stdev: 0.045454561710357666 with: {'activation': 'relu', 'batch_size': 20, 'epochs': 100, 'nodes': 128}\n",
            "Means: 0.5991735458374023, Stdev: 0.03719007968902588 with: {'activation': 'relu', 'batch_size': 40, 'epochs': 30, 'nodes': 16}\n",
            "Means: 0.6115702390670776, Stdev: 0.07438015937805176 with: {'activation': 'relu', 'batch_size': 40, 'epochs': 30, 'nodes': 32}\n",
            "Means: 0.6611570417881012, Stdev: 0.0082644522190094 with: {'activation': 'relu', 'batch_size': 40, 'epochs': 30, 'nodes': 64}\n",
            "Means: 0.6239669322967529, Stdev: 0.012396693229675293 with: {'activation': 'relu', 'batch_size': 40, 'epochs': 30, 'nodes': 128}\n",
            "Means: 0.6694214940071106, Stdev: 0.008264482021331787 with: {'activation': 'relu', 'batch_size': 40, 'epochs': 50, 'nodes': 16}\n",
            "Means: 0.6487603485584259, Stdev: 0.02892562747001648 with: {'activation': 'relu', 'batch_size': 40, 'epochs': 50, 'nodes': 32}\n",
            "Means: 0.6115702390670776, Stdev: 0.008264482021331787 with: {'activation': 'relu', 'batch_size': 40, 'epochs': 50, 'nodes': 64}\n",
            "Means: 0.7066115736961365, Stdev: 0.012396693229675293 with: {'activation': 'relu', 'batch_size': 40, 'epochs': 50, 'nodes': 128}\n",
            "Means: 0.5661157071590424, Stdev: 0.020661145448684692 with: {'activation': 'relu', 'batch_size': 40, 'epochs': 100, 'nodes': 16}\n",
            "Means: 0.6239669322967529, Stdev: 0.012396693229675293 with: {'activation': 'relu', 'batch_size': 40, 'epochs': 100, 'nodes': 32}\n",
            "Means: 0.6363636255264282, Stdev: 0.024793386459350586 with: {'activation': 'relu', 'batch_size': 40, 'epochs': 100, 'nodes': 64}\n",
            "Means: 0.6570248007774353, Stdev: 0.028925597667694092 with: {'activation': 'relu', 'batch_size': 40, 'epochs': 100, 'nodes': 128}\n",
            "Means: 0.5867768824100494, Stdev: 0.04132232069969177 with: {'activation': 'relu', 'batch_size': 60, 'epochs': 30, 'nodes': 16}\n",
            "Means: 0.6239669322967529, Stdev: 0.07024794816970825 with: {'activation': 'relu', 'batch_size': 60, 'epochs': 30, 'nodes': 32}\n",
            "Means: 0.5991735458374023, Stdev: 0.02066117525100708 with: {'activation': 'relu', 'batch_size': 60, 'epochs': 30, 'nodes': 64}\n",
            "Means: 0.6776859760284424, Stdev: 0.0 with: {'activation': 'relu', 'batch_size': 60, 'epochs': 30, 'nodes': 128}\n",
            "Means: 0.6074379980564117, Stdev: 0.0041322410106658936 with: {'activation': 'relu', 'batch_size': 60, 'epochs': 50, 'nodes': 16}\n",
            "Means: 0.6776859760284424, Stdev: 0.024793386459350586 with: {'activation': 'relu', 'batch_size': 60, 'epochs': 50, 'nodes': 32}\n",
            "Means: 0.6859504282474518, Stdev: 0.0082644522190094 with: {'activation': 'relu', 'batch_size': 60, 'epochs': 50, 'nodes': 64}\n",
            "Means: 0.5950413048267365, Stdev: 0.0082644522190094 with: {'activation': 'relu', 'batch_size': 60, 'epochs': 50, 'nodes': 128}\n",
            "Means: 0.5826446115970612, Stdev: 0.07851240038871765 with: {'activation': 'relu', 'batch_size': 60, 'epochs': 100, 'nodes': 16}\n",
            "Means: 0.5950413048267365, Stdev: 0.0082644522190094 with: {'activation': 'relu', 'batch_size': 60, 'epochs': 100, 'nodes': 32}\n",
            "Means: 0.5950413346290588, Stdev: 0.07438015937805176 with: {'activation': 'relu', 'batch_size': 60, 'epochs': 100, 'nodes': 64}\n",
            "Means: 0.6322314143180847, Stdev: 0.08677685260772705 with: {'activation': 'relu', 'batch_size': 60, 'epochs': 100, 'nodes': 128}\n",
            "Means: 0.6611570417881012, Stdev: 0.033057838678359985 with: {'activation': 'relu', 'batch_size': 80, 'epochs': 30, 'nodes': 16}\n",
            "Means: 0.6322314143180847, Stdev: 0.004132211208343506 with: {'activation': 'relu', 'batch_size': 80, 'epochs': 30, 'nodes': 32}\n",
            "Means: 0.71074378490448, Stdev: 0.024793386459350586 with: {'activation': 'relu', 'batch_size': 80, 'epochs': 30, 'nodes': 64}\n",
            "Means: 0.6859503984451294, Stdev: 0.024793386459350586 with: {'activation': 'relu', 'batch_size': 80, 'epochs': 30, 'nodes': 128}\n",
            "Means: 0.6322314143180847, Stdev: 0.012396693229675293 with: {'activation': 'relu', 'batch_size': 80, 'epochs': 50, 'nodes': 16}\n",
            "Means: 0.6859504282474518, Stdev: 0.016528934240341187 with: {'activation': 'relu', 'batch_size': 80, 'epochs': 50, 'nodes': 32}\n",
            "Means: 0.7066115736961365, Stdev: 0.012396693229675293 with: {'activation': 'relu', 'batch_size': 80, 'epochs': 50, 'nodes': 64}\n",
            "Means: 0.6652892529964447, Stdev: 0.020661145448684692 with: {'activation': 'relu', 'batch_size': 80, 'epochs': 50, 'nodes': 128}\n",
            "Means: 0.6735537052154541, Stdev: 0.012396693229675293 with: {'activation': 'relu', 'batch_size': 80, 'epochs': 100, 'nodes': 16}\n",
            "Means: 0.6818181872367859, Stdev: 0.03719007968902588 with: {'activation': 'relu', 'batch_size': 80, 'epochs': 100, 'nodes': 32}\n",
            "Means: 0.7190082669258118, Stdev: 0.0165289044380188 with: {'activation': 'relu', 'batch_size': 80, 'epochs': 100, 'nodes': 64}\n",
            "Means: 0.7479338645935059, Stdev: 0.03719007968902588 with: {'activation': 'relu', 'batch_size': 80, 'epochs': 100, 'nodes': 128}\n",
            "Means: 0.5785124003887177, Stdev: 0.0082644522190094 with: {'activation': 'relu', 'batch_size': 100, 'epochs': 30, 'nodes': 16}\n",
            "Means: 0.6694214940071106, Stdev: 0.024793386459350586 with: {'activation': 'relu', 'batch_size': 100, 'epochs': 30, 'nodes': 32}\n",
            "Means: 0.7066115736961365, Stdev: 0.012396693229675293 with: {'activation': 'relu', 'batch_size': 100, 'epochs': 30, 'nodes': 64}\n",
            "Means: 0.6818181872367859, Stdev: 0.004132211208343506 with: {'activation': 'relu', 'batch_size': 100, 'epochs': 30, 'nodes': 128}\n",
            "Means: 0.586776852607727, Stdev: 0.0 with: {'activation': 'relu', 'batch_size': 100, 'epochs': 50, 'nodes': 16}\n",
            "Means: 0.6652892529964447, Stdev: 0.053719013929367065 with: {'activation': 'relu', 'batch_size': 100, 'epochs': 50, 'nodes': 32}\n",
            "Means: 0.6487603187561035, Stdev: 0.045454561710357666 with: {'activation': 'relu', 'batch_size': 100, 'epochs': 50, 'nodes': 64}\n",
            "Means: 0.6115702688694, Stdev: 0.016528934240341187 with: {'activation': 'relu', 'batch_size': 100, 'epochs': 50, 'nodes': 128}\n",
            "Means: 0.6983471214771271, Stdev: 0.02892562747001648 with: {'activation': 'relu', 'batch_size': 100, 'epochs': 100, 'nodes': 16}\n",
            "Means: 0.7190082669258118, Stdev: 0.008264482021331787 with: {'activation': 'relu', 'batch_size': 100, 'epochs': 100, 'nodes': 32}\n",
            "Means: 0.6818181872367859, Stdev: 0.012396693229675293 with: {'activation': 'relu', 'batch_size': 100, 'epochs': 100, 'nodes': 64}\n",
            "Means: 0.71074378490448, Stdev: 0.0 with: {'activation': 'relu', 'batch_size': 100, 'epochs': 100, 'nodes': 128}\n",
            "Means: 0.6239669322967529, Stdev: 0.08677685260772705 with: {'activation': 'sigmoid', 'batch_size': 10, 'epochs': 30, 'nodes': 16}\n",
            "Means: 0.6570247709751129, Stdev: 0.053719013929367065 with: {'activation': 'sigmoid', 'batch_size': 10, 'epochs': 30, 'nodes': 32}\n",
            "Means: 0.6859503984451294, Stdev: 0.0 with: {'activation': 'sigmoid', 'batch_size': 10, 'epochs': 30, 'nodes': 64}\n",
            "Means: 0.6859504282474518, Stdev: 0.016528934240341187 with: {'activation': 'sigmoid', 'batch_size': 10, 'epochs': 30, 'nodes': 128}\n",
            "Means: 0.6694214940071106, Stdev: 0.0165289044380188 with: {'activation': 'sigmoid', 'batch_size': 10, 'epochs': 50, 'nodes': 16}\n",
            "Means: 0.6859503984451294, Stdev: 0.024793386459350586 with: {'activation': 'sigmoid', 'batch_size': 10, 'epochs': 50, 'nodes': 32}\n",
            "Means: 0.7024793326854706, Stdev: 0.0082644522190094 with: {'activation': 'sigmoid', 'batch_size': 10, 'epochs': 50, 'nodes': 64}\n",
            "Means: 0.7190082669258118, Stdev: 0.0165289044380188 with: {'activation': 'sigmoid', 'batch_size': 10, 'epochs': 50, 'nodes': 128}\n",
            "Means: 0.7148760259151459, Stdev: 0.020661145448684692 with: {'activation': 'sigmoid', 'batch_size': 10, 'epochs': 100, 'nodes': 16}\n",
            "Means: 0.7024793326854706, Stdev: 0.0082644522190094 with: {'activation': 'sigmoid', 'batch_size': 10, 'epochs': 100, 'nodes': 32}\n",
            "Means: 0.7190082669258118, Stdev: 0.0 with: {'activation': 'sigmoid', 'batch_size': 10, 'epochs': 100, 'nodes': 64}\n",
            "Means: 0.7727272808551788, Stdev: 0.0041322410106658936 with: {'activation': 'sigmoid', 'batch_size': 10, 'epochs': 100, 'nodes': 128}\n",
            "Means: 0.5826446115970612, Stdev: 0.07851240038871765 with: {'activation': 'sigmoid', 'batch_size': 20, 'epochs': 30, 'nodes': 16}\n",
            "Means: 0.5454545319080353, Stdev: 0.04132232069969177 with: {'activation': 'sigmoid', 'batch_size': 20, 'epochs': 30, 'nodes': 32}\n",
            "Means: 0.6818181872367859, Stdev: 0.03719007968902588 with: {'activation': 'sigmoid', 'batch_size': 20, 'epochs': 30, 'nodes': 64}\n",
            "Means: 0.6942148804664612, Stdev: 0.0165289044380188 with: {'activation': 'sigmoid', 'batch_size': 20, 'epochs': 30, 'nodes': 128}\n",
            "Means: 0.6570248007774353, Stdev: 0.03719007968902588 with: {'activation': 'sigmoid', 'batch_size': 20, 'epochs': 50, 'nodes': 16}\n",
            "Means: 0.6776859760284424, Stdev: 0.024793386459350586 with: {'activation': 'sigmoid', 'batch_size': 20, 'epochs': 50, 'nodes': 32}\n",
            "Means: 0.6487603187561035, Stdev: 0.012396693229675293 with: {'activation': 'sigmoid', 'batch_size': 20, 'epochs': 50, 'nodes': 64}\n",
            "Means: 0.6859503984451294, Stdev: 0.024793386459350586 with: {'activation': 'sigmoid', 'batch_size': 20, 'epochs': 50, 'nodes': 128}\n",
            "Means: 0.6694214940071106, Stdev: 0.07438015937805176 with: {'activation': 'sigmoid', 'batch_size': 20, 'epochs': 100, 'nodes': 16}\n",
            "Means: 0.6900826692581177, Stdev: 0.012396693229675293 with: {'activation': 'sigmoid', 'batch_size': 20, 'epochs': 100, 'nodes': 32}\n",
            "Means: 0.7066115736961365, Stdev: 0.02066117525100708 with: {'activation': 'sigmoid', 'batch_size': 20, 'epochs': 100, 'nodes': 64}\n",
            "Means: 0.7148760259151459, Stdev: 0.020661145448684692 with: {'activation': 'sigmoid', 'batch_size': 20, 'epochs': 100, 'nodes': 128}\n",
            "Means: 0.4834710657596588, Stdev: 0.020661145448684692 with: {'activation': 'sigmoid', 'batch_size': 40, 'epochs': 30, 'nodes': 16}\n",
            "Means: 0.5371900796890259, Stdev: 0.03305786848068237 with: {'activation': 'sigmoid', 'batch_size': 40, 'epochs': 30, 'nodes': 32}\n",
            "Means: 0.6652892827987671, Stdev: 0.03719007968902588 with: {'activation': 'sigmoid', 'batch_size': 40, 'epochs': 30, 'nodes': 64}\n",
            "Means: 0.5950413346290588, Stdev: 0.024793386459350586 with: {'activation': 'sigmoid', 'batch_size': 40, 'epochs': 30, 'nodes': 128}\n",
            "Means: 0.5206611454486847, Stdev: 0.016528934240341187 with: {'activation': 'sigmoid', 'batch_size': 40, 'epochs': 50, 'nodes': 16}\n",
            "Means: 0.4793388396501541, Stdev: 0.016528919339179993 with: {'activation': 'sigmoid', 'batch_size': 40, 'epochs': 50, 'nodes': 32}\n",
            "Means: 0.6611570417881012, Stdev: 0.033057838678359985 with: {'activation': 'sigmoid', 'batch_size': 40, 'epochs': 50, 'nodes': 64}\n",
            "Means: 0.6611570417881012, Stdev: 0.033057838678359985 with: {'activation': 'sigmoid', 'batch_size': 40, 'epochs': 50, 'nodes': 128}\n",
            "Means: 0.5702479481697083, Stdev: 0.04958677291870117 with: {'activation': 'sigmoid', 'batch_size': 40, 'epochs': 100, 'nodes': 16}\n",
            "Means: 0.6735537052154541, Stdev: 0.012396693229675293 with: {'activation': 'sigmoid', 'batch_size': 40, 'epochs': 100, 'nodes': 32}\n",
            "Means: 0.67768594622612, Stdev: 0.016528934240341187 with: {'activation': 'sigmoid', 'batch_size': 40, 'epochs': 100, 'nodes': 64}\n",
            "Means: 0.6859504282474518, Stdev: 0.0082644522190094 with: {'activation': 'sigmoid', 'batch_size': 40, 'epochs': 100, 'nodes': 128}\n",
            "Means: 0.4793388396501541, Stdev: 0.016528919339179993 with: {'activation': 'sigmoid', 'batch_size': 60, 'epochs': 30, 'nodes': 16}\n",
            "Means: 0.5206611454486847, Stdev: 0.016528934240341187 with: {'activation': 'sigmoid', 'batch_size': 60, 'epochs': 30, 'nodes': 32}\n",
            "Means: 0.5826446413993835, Stdev: 0.012396693229675293 with: {'activation': 'sigmoid', 'batch_size': 60, 'epochs': 30, 'nodes': 64}\n",
            "Means: 0.5619834661483765, Stdev: 0.05785125494003296 with: {'activation': 'sigmoid', 'batch_size': 60, 'epochs': 30, 'nodes': 128}\n",
            "Means: 0.5206611454486847, Stdev: 0.016528934240341187 with: {'activation': 'sigmoid', 'batch_size': 60, 'epochs': 50, 'nodes': 16}\n",
            "Means: 0.5991735458374023, Stdev: 0.02066117525100708 with: {'activation': 'sigmoid', 'batch_size': 60, 'epochs': 50, 'nodes': 32}\n",
            "Means: 0.6818181872367859, Stdev: 0.028925597667694092 with: {'activation': 'sigmoid', 'batch_size': 60, 'epochs': 50, 'nodes': 64}\n",
            "Means: 0.5991735458374023, Stdev: 0.02066117525100708 with: {'activation': 'sigmoid', 'batch_size': 60, 'epochs': 50, 'nodes': 128}\n",
            "Means: 0.4834710657596588, Stdev: 0.020661145448684692 with: {'activation': 'sigmoid', 'batch_size': 60, 'epochs': 100, 'nodes': 16}\n",
            "Means: 0.6818181872367859, Stdev: 0.045454561710357666 with: {'activation': 'sigmoid', 'batch_size': 60, 'epochs': 100, 'nodes': 32}\n",
            "Means: 0.6528925895690918, Stdev: 0.024793386459350586 with: {'activation': 'sigmoid', 'batch_size': 60, 'epochs': 100, 'nodes': 64}\n",
            "Means: 0.6900826692581177, Stdev: 0.012396693229675293 with: {'activation': 'sigmoid', 'batch_size': 60, 'epochs': 100, 'nodes': 128}\n",
            "Means: 0.5578512251377106, Stdev: 0.053719013929367065 with: {'activation': 'sigmoid', 'batch_size': 80, 'epochs': 30, 'nodes': 16}\n",
            "Means: 0.5619834661483765, Stdev: 0.05785125494003296 with: {'activation': 'sigmoid', 'batch_size': 80, 'epochs': 30, 'nodes': 32}\n",
            "Means: 0.5826446413993835, Stdev: 0.012396693229675293 with: {'activation': 'sigmoid', 'batch_size': 80, 'epochs': 30, 'nodes': 64}\n",
            "Means: 0.6776859760284424, Stdev: 0.024793386459350586 with: {'activation': 'sigmoid', 'batch_size': 80, 'epochs': 30, 'nodes': 128}\n",
            "Means: 0.5413222908973694, Stdev: 0.03719007968902588 with: {'activation': 'sigmoid', 'batch_size': 80, 'epochs': 50, 'nodes': 16}\n",
            "Means: 0.6570248007774353, Stdev: 0.004132211208343506 with: {'activation': 'sigmoid', 'batch_size': 80, 'epochs': 50, 'nodes': 32}\n",
            "Means: 0.6859504282474518, Stdev: 0.016528934240341187 with: {'activation': 'sigmoid', 'batch_size': 80, 'epochs': 50, 'nodes': 64}\n",
            "Means: 0.6942148804664612, Stdev: 0.024793386459350586 with: {'activation': 'sigmoid', 'batch_size': 80, 'epochs': 50, 'nodes': 128}\n",
            "Means: 0.5785123705863953, Stdev: 0.024793386459350586 with: {'activation': 'sigmoid', 'batch_size': 80, 'epochs': 100, 'nodes': 16}\n",
            "Means: 0.6694214940071106, Stdev: 0.0165289044380188 with: {'activation': 'sigmoid', 'batch_size': 80, 'epochs': 100, 'nodes': 32}\n",
            "Means: 0.6900826394557953, Stdev: 0.020661145448684692 with: {'activation': 'sigmoid', 'batch_size': 80, 'epochs': 100, 'nodes': 64}\n",
            "Means: 0.6942148804664612, Stdev: 0.008264482021331787 with: {'activation': 'sigmoid', 'batch_size': 80, 'epochs': 100, 'nodes': 128}\n",
            "Means: 0.5206611454486847, Stdev: 0.016528934240341187 with: {'activation': 'sigmoid', 'batch_size': 100, 'epochs': 30, 'nodes': 16}\n",
            "Means: 0.5495867729187012, Stdev: 0.045454561710357666 with: {'activation': 'sigmoid', 'batch_size': 100, 'epochs': 30, 'nodes': 32}\n",
            "Means: 0.5413222908973694, Stdev: 0.03719007968902588 with: {'activation': 'sigmoid', 'batch_size': 100, 'epochs': 30, 'nodes': 64}\n",
            "Means: 0.5950413346290588, Stdev: 0.05785125494003296 with: {'activation': 'sigmoid', 'batch_size': 100, 'epochs': 30, 'nodes': 128}\n",
            "Means: 0.5206611454486847, Stdev: 0.016528934240341187 with: {'activation': 'sigmoid', 'batch_size': 100, 'epochs': 50, 'nodes': 16}\n",
            "Means: 0.5454545319080353, Stdev: 0.04132232069969177 with: {'activation': 'sigmoid', 'batch_size': 100, 'epochs': 50, 'nodes': 32}\n",
            "Means: 0.6487603187561035, Stdev: 0.012396693229675293 with: {'activation': 'sigmoid', 'batch_size': 100, 'epochs': 50, 'nodes': 64}\n",
            "Means: 0.6900826394557953, Stdev: 0.020661145448684692 with: {'activation': 'sigmoid', 'batch_size': 100, 'epochs': 50, 'nodes': 128}\n",
            "Means: 0.5206611454486847, Stdev: 0.016528934240341187 with: {'activation': 'sigmoid', 'batch_size': 100, 'epochs': 100, 'nodes': 16}\n",
            "Means: 0.6859504282474518, Stdev: 0.016528934240341187 with: {'activation': 'sigmoid', 'batch_size': 100, 'epochs': 100, 'nodes': 32}\n",
            "Means: 0.6942148804664612, Stdev: 0.0165289044380188 with: {'activation': 'sigmoid', 'batch_size': 100, 'epochs': 100, 'nodes': 64}\n",
            "Means: 0.6983471214771271, Stdev: 0.0041322410106658936 with: {'activation': 'sigmoid', 'batch_size': 100, 'epochs': 100, 'nodes': 128}\n"
          ],
          "name": "stdout"
        }
      ]
    },
    {
      "cell_type": "code",
      "metadata": {
        "id": "r35FA0EfMjCv"
      },
      "source": [
        ""
      ],
      "execution_count": null,
      "outputs": []
    }
  ]
}