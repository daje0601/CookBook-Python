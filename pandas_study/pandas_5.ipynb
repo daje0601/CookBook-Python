{
  "nbformat": 4,
  "nbformat_minor": 0,
  "metadata": {
    "colab": {
      "name": "Untitled",
      "provenance": [],
      "authorship_tag": "ABX9TyNn+k/Z1agTFuG8Cu3b18wc",
      "include_colab_link": true
    },
    "kernelspec": {
      "name": "python3",
      "display_name": "Python 3"
    }
  },
  "cells": [
    {
      "cell_type": "markdown",
      "metadata": {
        "id": "view-in-github",
        "colab_type": "text"
      },
      "source": [
        "<a href=\"https://colab.research.google.com/github/daje0601/pandas_study/blob/main/pandas_5.ipynb\" target=\"_parent\"><img src=\"https://colab.research.google.com/assets/colab-badge.svg\" alt=\"Open In Colab\"/></a>"
      ]
    },
    {
      "cell_type": "code",
      "metadata": {
        "colab": {
          "base_uri": "https://localhost:8080/",
          "height": 35
        },
        "id": "FeiCSj8HZMPb",
        "outputId": "6f58540d-a2dc-4210-b5a7-55183450680b"
      },
      "source": [
        "# null 변수 지정 & 문자열 연산\r\n",
        "null =\"abc\"\r\n",
        "null+\"123\""
      ],
      "execution_count": 1,
      "outputs": [
        {
          "output_type": "execute_result",
          "data": {
            "application/vnd.google.colaboratory.intrinsic+json": {
              "type": "string"
            },
            "text/plain": [
              "'abc123'"
            ]
          },
          "metadata": {
            "tags": []
          },
          "execution_count": 1
        }
      ]
    },
    {
      "cell_type": "code",
      "metadata": {
        "colab": {
          "base_uri": "https://localhost:8080/"
        },
        "id": "2tDDWJzxgOHe",
        "outputId": "4adeca1f-6f61-45af-95c2-a28a75f86b68"
      },
      "source": [
        "# null 변수 지정 & 숫자 연산\r\n",
        "# int\r\n",
        "null = 2\r\n",
        "print(null + 3)\r\n",
        "\r\n",
        "#float\r\n",
        "null = 0.1\r\n",
        "print(null + 0.5)"
      ],
      "execution_count": 2,
      "outputs": [
        {
          "output_type": "stream",
          "text": [
            "5\n",
            "0.6\n"
          ],
          "name": "stdout"
        }
      ]
    },
    {
      "cell_type": "code",
      "metadata": {
        "colab": {
          "base_uri": "https://localhost:8080/"
        },
        "id": "ERzFNTvRgqh-",
        "outputId": "abbb6b1d-7030-4463-814b-cb08674f78ef"
      },
      "source": [
        "# null 변수 지정 & Boolean 연산(True)\r\n",
        "\r\n",
        "null = True\r\n",
        "print(null +True)\r\n",
        "\r\n",
        "# null 변수 지정 & Boolean 연산(False)\r\n",
        "\r\n",
        "null = False\r\n",
        "print(null + False)"
      ],
      "execution_count": 3,
      "outputs": [
        {
          "output_type": "stream",
          "text": [
            "2\n",
            "0\n"
          ],
          "name": "stdout"
        }
      ]
    },
    {
      "cell_type": "code",
      "metadata": {
        "colab": {
          "base_uri": "https://localhost:8080/",
          "height": 35
        },
        "id": "wuUIREbcY6NE",
        "outputId": "29d02d1e-4ea7-4cf4-95b3-7074f780eee7"
      },
      "source": [
        "# NaN 변수 지정 & 문자열 연산\r\n",
        "NaN=\"ABC\"\r\n",
        "NaN + \"123\""
      ],
      "execution_count": 4,
      "outputs": [
        {
          "output_type": "execute_result",
          "data": {
            "application/vnd.google.colaboratory.intrinsic+json": {
              "type": "string"
            },
            "text/plain": [
              "'ABC123'"
            ]
          },
          "metadata": {
            "tags": []
          },
          "execution_count": 4
        }
      ]
    },
    {
      "cell_type": "code",
      "metadata": {
        "colab": {
          "base_uri": "https://localhost:8080/"
        },
        "id": "A1Qn0834kJdM",
        "outputId": "d0577052-dcde-47c5-88d3-98b784c83043"
      },
      "source": [
        "# NaN 변수 지정 & 숫자 연산\r\n",
        "# int\r\n",
        "NaN = 2\r\n",
        "print(NaN + 3)\r\n",
        "\r\n",
        "#float\r\n",
        "NaN = 0.1\r\n",
        "print(NaN + 0.5)"
      ],
      "execution_count": 5,
      "outputs": [
        {
          "output_type": "stream",
          "text": [
            "5\n",
            "0.6\n"
          ],
          "name": "stdout"
        }
      ]
    },
    {
      "cell_type": "code",
      "metadata": {
        "colab": {
          "base_uri": "https://localhost:8080/",
          "height": 173
        },
        "id": "H-WC4Dnmkpek",
        "outputId": "ba91da95-d5f2-4219-9f0d-ed2a11b0eacd"
      },
      "source": [
        "import pandas as pd \r\n",
        "import numpy as np\r\n",
        "from pandas import Series, DataFrame\r\n",
        "\r\n",
        "ex_merge1 = pd.DataFrame(\r\n",
        "    {\r\n",
        "        \"key1\": [\"K0\", \"K0\", \"K1\", \"K2\"],\r\n",
        "        \"key2\": [\"K0\", \"K1\", \"K0\", \"K1\"],\r\n",
        "        \"A\": [\"2\", \"1\", np.nan, \"1\"],\r\n",
        "        \"B\": [\"10\", \"1\", np.nan, \"1\"],\r\n",
        "    }\r\n",
        ")\r\n",
        "\r\n",
        "ex_merge1"
      ],
      "execution_count": 6,
      "outputs": [
        {
          "output_type": "execute_result",
          "data": {
            "text/html": [
              "<div>\n",
              "<style scoped>\n",
              "    .dataframe tbody tr th:only-of-type {\n",
              "        vertical-align: middle;\n",
              "    }\n",
              "\n",
              "    .dataframe tbody tr th {\n",
              "        vertical-align: top;\n",
              "    }\n",
              "\n",
              "    .dataframe thead th {\n",
              "        text-align: right;\n",
              "    }\n",
              "</style>\n",
              "<table border=\"1\" class=\"dataframe\">\n",
              "  <thead>\n",
              "    <tr style=\"text-align: right;\">\n",
              "      <th></th>\n",
              "      <th>key1</th>\n",
              "      <th>key2</th>\n",
              "      <th>A</th>\n",
              "      <th>B</th>\n",
              "    </tr>\n",
              "  </thead>\n",
              "  <tbody>\n",
              "    <tr>\n",
              "      <th>0</th>\n",
              "      <td>K0</td>\n",
              "      <td>K0</td>\n",
              "      <td>2</td>\n",
              "      <td>10</td>\n",
              "    </tr>\n",
              "    <tr>\n",
              "      <th>1</th>\n",
              "      <td>K0</td>\n",
              "      <td>K1</td>\n",
              "      <td>1</td>\n",
              "      <td>1</td>\n",
              "    </tr>\n",
              "    <tr>\n",
              "      <th>2</th>\n",
              "      <td>K1</td>\n",
              "      <td>K0</td>\n",
              "      <td>NaN</td>\n",
              "      <td>NaN</td>\n",
              "    </tr>\n",
              "    <tr>\n",
              "      <th>3</th>\n",
              "      <td>K2</td>\n",
              "      <td>K1</td>\n",
              "      <td>1</td>\n",
              "      <td>1</td>\n",
              "    </tr>\n",
              "  </tbody>\n",
              "</table>\n",
              "</div>"
            ],
            "text/plain": [
              "  key1 key2    A    B\n",
              "0   K0   K0    2   10\n",
              "1   K0   K1    1    1\n",
              "2   K1   K0  NaN  NaN\n",
              "3   K2   K1    1    1"
            ]
          },
          "metadata": {
            "tags": []
          },
          "execution_count": 6
        }
      ]
    },
    {
      "cell_type": "markdown",
      "metadata": {
        "id": "ZulWLlYXlVlZ"
      },
      "source": [
        "## 1. 결측치 검사\r\n",
        "\r\n",
        "#### isnull을 사용하여 결측치를 검사할 수 있습니다. \r\n"
      ]
    },
    {
      "cell_type": "code",
      "metadata": {
        "colab": {
          "base_uri": "https://localhost:8080/",
          "height": 173
        },
        "id": "PzKbL8wQlf6m",
        "outputId": "12f9cc8e-bec8-4744-f756-6dd0c8ff992e"
      },
      "source": [
        "# 결측치가 있다면, True를 반환하고 없다면 False를 반환홤 \r\n",
        "\r\n",
        "ex_merge1.isnull()"
      ],
      "execution_count": 7,
      "outputs": [
        {
          "output_type": "execute_result",
          "data": {
            "text/html": [
              "<div>\n",
              "<style scoped>\n",
              "    .dataframe tbody tr th:only-of-type {\n",
              "        vertical-align: middle;\n",
              "    }\n",
              "\n",
              "    .dataframe tbody tr th {\n",
              "        vertical-align: top;\n",
              "    }\n",
              "\n",
              "    .dataframe thead th {\n",
              "        text-align: right;\n",
              "    }\n",
              "</style>\n",
              "<table border=\"1\" class=\"dataframe\">\n",
              "  <thead>\n",
              "    <tr style=\"text-align: right;\">\n",
              "      <th></th>\n",
              "      <th>key1</th>\n",
              "      <th>key2</th>\n",
              "      <th>A</th>\n",
              "      <th>B</th>\n",
              "    </tr>\n",
              "  </thead>\n",
              "  <tbody>\n",
              "    <tr>\n",
              "      <th>0</th>\n",
              "      <td>False</td>\n",
              "      <td>False</td>\n",
              "      <td>False</td>\n",
              "      <td>False</td>\n",
              "    </tr>\n",
              "    <tr>\n",
              "      <th>1</th>\n",
              "      <td>False</td>\n",
              "      <td>False</td>\n",
              "      <td>False</td>\n",
              "      <td>False</td>\n",
              "    </tr>\n",
              "    <tr>\n",
              "      <th>2</th>\n",
              "      <td>False</td>\n",
              "      <td>False</td>\n",
              "      <td>True</td>\n",
              "      <td>True</td>\n",
              "    </tr>\n",
              "    <tr>\n",
              "      <th>3</th>\n",
              "      <td>False</td>\n",
              "      <td>False</td>\n",
              "      <td>False</td>\n",
              "      <td>False</td>\n",
              "    </tr>\n",
              "  </tbody>\n",
              "</table>\n",
              "</div>"
            ],
            "text/plain": [
              "    key1   key2      A      B\n",
              "0  False  False  False  False\n",
              "1  False  False  False  False\n",
              "2  False  False   True   True\n",
              "3  False  False  False  False"
            ]
          },
          "metadata": {
            "tags": []
          },
          "execution_count": 7
        }
      ]
    },
    {
      "cell_type": "code",
      "metadata": {
        "colab": {
          "base_uri": "https://localhost:8080/"
        },
        "id": "uBBTGJ8amY5L",
        "outputId": "986136ee-e303-47f5-dd5c-107a77fbe156"
      },
      "source": [
        "# 그런데 데이터가 너무 많다고 가정해보자. 심지어 많아서 중가는 보이지 않는 df를 만났다고 가정해보자 \r\n",
        "# 그럼 결측치가 얼마나 있는지를 알 수가 없다.. 저걸 어떻게 count할까? 라는 고민을 할때 필요한 건!! \r\n",
        "# isnull().sum() 이다!! isnull().sum()은 column별로 null의 갯수를 확인해준다. \r\n",
        "\r\n",
        "ex_merge1.isnull().sum()"
      ],
      "execution_count": 8,
      "outputs": [
        {
          "output_type": "execute_result",
          "data": {
            "text/plain": [
              "key1    0\n",
              "key2    0\n",
              "A       1\n",
              "B       1\n",
              "dtype: int64"
            ]
          },
          "metadata": {
            "tags": []
          },
          "execution_count": 8
        }
      ]
    },
    {
      "cell_type": "markdown",
      "metadata": {
        "id": "3JCoN2jowyB2"
      },
      "source": [
        "## 2. 결측치 치환\r\n",
        "\r\n",
        "#### 결측치를 치환할 때 숫자로만 구성된 데이터로 결측치 처리를 해야합니다.  \r\n",
        "####  그렇지 않을경우, 데이터 값이 오류가 발생될 수 있으니 주의!!해주세요"
      ]
    },
    {
      "cell_type": "code",
      "metadata": {
        "id": "LUN9j3y1nIqA",
        "outputId": "014423e3-2f62-49db-fd68-2da846d87812",
        "colab": {
          "base_uri": "https://localhost:8080/",
          "height": 173
        }
      },
      "source": [
        "# 일단 무엇인지 모르시더라도 따라서 실행을 해보세요~\r\n",
        "ex_merge1.loc[:, \"A\":\"B\"].apply(pd.to_numeric, errors=\"coerce\").fillna(0)\r\n",
        "\r\n",
        "# 위 코드에 대해 설명 드리겠습니다. \r\n",
        "# apply는 column별로 돌아가면서 데이터 타입을 변경해주는 녀석입니다. \r\n",
        "# 그럼 apply에서 어떤 타입에서 어떤 타입으로 변경할지를 알려주어야 겠죠?\r\n",
        "# 그게 바로 to_numeric입니다. to_numeric은 str을 float로 변경해줍니다. \r\n",
        "# 그리고 마지막 fillna는 결측치를 ()안에 값으로 변경해줍니다. 저기에 1을 넣으면 결측치가 1로 바뀝니다. "
      ],
      "execution_count": 9,
      "outputs": [
        {
          "output_type": "execute_result",
          "data": {
            "text/html": [
              "<div>\n",
              "<style scoped>\n",
              "    .dataframe tbody tr th:only-of-type {\n",
              "        vertical-align: middle;\n",
              "    }\n",
              "\n",
              "    .dataframe tbody tr th {\n",
              "        vertical-align: top;\n",
              "    }\n",
              "\n",
              "    .dataframe thead th {\n",
              "        text-align: right;\n",
              "    }\n",
              "</style>\n",
              "<table border=\"1\" class=\"dataframe\">\n",
              "  <thead>\n",
              "    <tr style=\"text-align: right;\">\n",
              "      <th></th>\n",
              "      <th>A</th>\n",
              "      <th>B</th>\n",
              "    </tr>\n",
              "  </thead>\n",
              "  <tbody>\n",
              "    <tr>\n",
              "      <th>0</th>\n",
              "      <td>2.0</td>\n",
              "      <td>10.0</td>\n",
              "    </tr>\n",
              "    <tr>\n",
              "      <th>1</th>\n",
              "      <td>1.0</td>\n",
              "      <td>1.0</td>\n",
              "    </tr>\n",
              "    <tr>\n",
              "      <th>2</th>\n",
              "      <td>0.0</td>\n",
              "      <td>0.0</td>\n",
              "    </tr>\n",
              "    <tr>\n",
              "      <th>3</th>\n",
              "      <td>1.0</td>\n",
              "      <td>1.0</td>\n",
              "    </tr>\n",
              "  </tbody>\n",
              "</table>\n",
              "</div>"
            ],
            "text/plain": [
              "     A     B\n",
              "0  2.0  10.0\n",
              "1  1.0   1.0\n",
              "2  0.0   0.0\n",
              "3  1.0   1.0"
            ]
          },
          "metadata": {
            "tags": []
          },
          "execution_count": 9
        }
      ]
    }
  ]
}