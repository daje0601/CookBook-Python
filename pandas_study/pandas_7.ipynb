{
  "nbformat": 4,
  "nbformat_minor": 0,
  "metadata": {
    "colab": {
      "name": "pandas_7.ipynb",
      "provenance": [],
      "authorship_tag": "ABX9TyOtR4JPRPEPRHS/Pa2ybCni",
      "include_colab_link": true
    },
    "kernelspec": {
      "name": "python3",
      "display_name": "Python 3"
    }
  },
  "cells": [
    {
      "cell_type": "markdown",
      "metadata": {
        "id": "view-in-github",
        "colab_type": "text"
      },
      "source": [
        "<a href=\"https://colab.research.google.com/github/daje0601/pandas_study/blob/main/pandas_7.ipynb\" target=\"_parent\"><img src=\"https://colab.research.google.com/assets/colab-badge.svg\" alt=\"Open In Colab\"/></a>"
      ]
    },
    {
      "cell_type": "markdown",
      "metadata": {
        "id": "Tres5eNsTc8Y"
      },
      "source": [
        "# 선형대수 및 선형회귀(Linear Regression)\n",
        "\n",
        "### 이곳은 프로그램으로 선형대수와 선형회귀를 공부하는 곳입니다. \n",
        "### 모든 선형대수를 다루지 않음을 알려드립니다. \n"
      ]
    },
    {
      "cell_type": "code",
      "metadata": {
        "id": "Vk7c1cwPTYoi"
      },
      "source": [
        ""
      ],
      "execution_count": null,
      "outputs": []
    }
  ]
}